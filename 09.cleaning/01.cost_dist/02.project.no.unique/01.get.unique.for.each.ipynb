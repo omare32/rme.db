{
 "cells": [
  {
   "cell_type": "code",
   "execution_count": 1,
   "metadata": {},
   "outputs": [],
   "source": [
    "import os\n",
    "import pandas as pd"
   ]
  },
  {
   "cell_type": "code",
   "execution_count": 2,
   "metadata": {},
   "outputs": [],
   "source": [
    "# Paste your file path from File Explorer as a string here\n",
    "file_path_from_explorer = r'D:\\OneDrive\\OneDrive - Rowad Modern Engineering\\x004 Data Science\\03.rme.db\\01.tables\\01.cost.dist\\02.xlsx'\n",
    "\n",
    "# Normalize the path\n",
    "directory = os.path.normpath(file_path_from_explorer)"
   ]
  },
  {
   "cell_type": "code",
   "execution_count": 3,
   "metadata": {},
   "outputs": [],
   "source": [
    "# List all the Excel files in the directory\n",
    "excel_files = [f for f in os.listdir(directory) if f.endswith('.xlsx')]"
   ]
  },
  {
   "cell_type": "code",
   "execution_count": 4,
   "metadata": {},
   "outputs": [],
   "source": [
    "# Initialize empty DataFrames to store unique values\n",
    "unique_project_no_df = pd.DataFrame(columns=['project_no.unique'])\n",
    "unique_project_name_df = pd.DataFrame(columns=['project_name.unique'])\n",
    "unique_expend_org_df = pd.DataFrame(columns=['expend_org.unique'])"
   ]
  },
  {
   "cell_type": "code",
   "execution_count": 6,
   "metadata": {},
   "outputs": [],
   "source": [
    "# Loop through each Excel file\n",
    "for excel_file in excel_files:\n",
    "    # Construct the full file path\n",
    "    file_path = os.path.join(directory, excel_file)\n",
    "    \n",
    "    # Read the Excel file into a DataFrame\n",
    "    df = pd.read_excel(file_path)\n",
    "    \n",
    "    # Get unique values for specified columns\n",
    "    unique_project_no = df['project_no'].unique()\n",
    "    unique_project_name = df['project_name'].unique()\n",
    "    unique_expend_org = df['expend_org'].unique()\n",
    "    \n",
    "    # Append unique values to the DataFrames\n",
    "    unique_project_no_df = pd.concat([unique_project_no_df, pd.DataFrame({'project_no.unique': unique_project_no})], ignore_index=True)\n",
    "    unique_project_name_df = pd.concat([unique_project_name_df, pd.DataFrame({'project_name.unique': unique_project_name})], ignore_index=True)\n",
    "    unique_expend_org_df = pd.concat([unique_expend_org_df, pd.DataFrame({'expend_org.unique': unique_expend_org})], ignore_index=True)"
   ]
  },
  {
   "cell_type": "code",
   "execution_count": 7,
   "metadata": {},
   "outputs": [],
   "source": [
    "# Construct the output file names\n",
    "output_project_no_file = 'unique_project_no.xlsx'\n",
    "output_project_name_file = 'unique_project_name.xlsx'\n",
    "output_expend_org_file = 'unique_expend_org.xlsx'\n",
    "\n",
    "# Save the unique DataFrames to new Excel files\n",
    "unique_project_no_df.to_excel(os.path.join(directory, output_project_no_file), index=False)\n",
    "unique_project_name_df.to_excel(os.path.join(directory, output_project_name_file), index=False)\n",
    "unique_expend_org_df.to_excel(os.path.join(directory, output_expend_org_file), index=False)"
   ]
  }
 ],
 "metadata": {
  "kernelspec": {
   "display_name": "Python 3",
   "language": "python",
   "name": "python3"
  },
  "language_info": {
   "codemirror_mode": {
    "name": "ipython",
    "version": 3
   },
   "file_extension": ".py",
   "mimetype": "text/x-python",
   "name": "python",
   "nbconvert_exporter": "python",
   "pygments_lexer": "ipython3",
   "version": "3.11.0"
  },
  "orig_nbformat": 4
 },
 "nbformat": 4,
 "nbformat_minor": 2
}
