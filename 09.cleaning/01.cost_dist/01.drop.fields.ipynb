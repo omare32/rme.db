{
 "cells": [
  {
   "cell_type": "code",
   "execution_count": 1,
   "metadata": {},
   "outputs": [],
   "source": [
    "import os\n",
    "import pandas as pd"
   ]
  },
  {
   "cell_type": "code",
   "execution_count": 2,
   "metadata": {},
   "outputs": [],
   "source": [
    "# Define the directory containing the Excel files\n",
    "directory = 'D:\\\\OneDrive\\\\OneDrive - Rowad Modern Engineering\\\\x004 Data Science\\\\03.rme.db\\\\01.tables\\\\01.cost.dist\\\\08.xlsb.clean\\\\01.test'"
   ]
  },
  {
   "cell_type": "code",
   "execution_count": 3,
   "metadata": {},
   "outputs": [
    {
     "name": "stdout",
     "output_type": "stream",
     "text": [
      "Processed: 01.2018.RME_Projects_Cost_Distribution_060823 ( 01-01-2018 To 01-01-2019 ).xlsx -> Saved as: 01.2018.RME_Projects_Cost_Distribution_060823 ( 01-01-2018 To 01-01-2019 ).dropped.xlsx\n",
      "Processed: 02.2019.RME_Projects_Cost_Distribution_060823 ( 01-01-2019 To 01-01-2020 ).xlsx -> Saved as: 02.2019.RME_Projects_Cost_Distribution_060823 ( 01-01-2019 To 01-01-2020 ).dropped.xlsx\n",
      "Processed: 03.2020.RME_Projects_Cost_Distribution_050823 ( 01-01-2020 To 01-01-2021 ).xlsx -> Saved as: 03.2020.RME_Projects_Cost_Distribution_050823 ( 01-01-2020 To 01-01-2021 ).dropped.xlsx\n",
      "Processed: 04.2021.RME_Projects_Cost_Distribution_030823 ( 01-01-2021 To 01-01-2022 ).xlsx -> Saved as: 04.2021.RME_Projects_Cost_Distribution_030823 ( 01-01-2021 To 01-01-2022 ).dropped.xlsx\n",
      "Processed: 05.2022.RME_Projects_Cost_Distribution_030823 ( 01-01-2022 To 01-01-2023 ).xlsx -> Saved as: 05.2022.RME_Projects_Cost_Distribution_030823 ( 01-01-2022 To 01-01-2023 ).dropped.xlsx\n",
      "Done! All files processed.\n"
     ]
    }
   ],
   "source": [
    "# Loop through all files in the directory\n",
    "for filename in os.listdir(directory):\n",
    "    if filename.endswith('.xlsx'):\n",
    "        # Construct the full file path\n",
    "        file_path = os.path.join(directory, filename)\n",
    "\n",
    "        # Load the Excel file into a DataFrame\n",
    "        df = pd.read_excel(file_path)\n",
    "\n",
    "        # List of columns to be dropped\n",
    "        columns_to_drop = [\n",
    "            \"project_name\", \"project_zone\", \"project_location\",\n",
    "            \"project_floor\", \"project_area\", \"expend_org\",\n",
    "            \"line_no\", \"ipc_no\", \"supplier_name\",\n",
    "            \"distributions_status\", \"distributions_date\", \"distributions_details\"\n",
    "        ]\n",
    "\n",
    "        # Drop the specified columns\n",
    "        df.drop(columns=columns_to_drop, inplace=True, errors='ignore')\n",
    "\n",
    "        # Construct the new file name with \".dropped\" added\n",
    "        new_filename = filename.replace('.xlsx', '.dropped.xlsx')\n",
    "\n",
    "        # Save the modified DataFrame to a new Excel file\n",
    "        df.to_excel(os.path.join(directory, new_filename), index=False)\n",
    "\n",
    "        print(f\"Processed: {filename} -> Saved as: {new_filename}\")\n",
    "\n",
    "print(\"Done! All files processed.\")"
   ]
  }
 ],
 "metadata": {
  "kernelspec": {
   "display_name": "Python 3",
   "language": "python",
   "name": "python3"
  },
  "language_info": {
   "codemirror_mode": {
    "name": "ipython",
    "version": 3
   },
   "file_extension": ".py",
   "mimetype": "text/x-python",
   "name": "python",
   "nbconvert_exporter": "python",
   "pygments_lexer": "ipython3",
   "version": "3.11.0"
  },
  "orig_nbformat": 4
 },
 "nbformat": 4,
 "nbformat_minor": 2
}
