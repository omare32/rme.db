{
 "cells": [
  {
   "cell_type": "code",
   "execution_count": null,
   "metadata": {},
   "outputs": [],
   "source": [
    "import pandas as pd\n",
    "\n",
    "pd.set_option('display.max_rows', None)\n",
    "pd.set_option('display.max_columns', None)\n",
    "\n",
    "# Read the CSV file into a DataFrame\n",
    "df = pd.read_csv('collection.swd.rev.12.xlsx - collection_swd.csv')\n",
    "\n",
    "# Display the first 5 rows\n",
    "print(df.head().to_markdown(index=False, numalign=\"left\", stralign=\"left\"))\n",
    "\n",
    "# Print the column names and their data types\n",
    "print(df.info())"
   ]
  },
  {
   "cell_type": "code",
   "execution_count": null,
   "metadata": {},
   "outputs": [],
   "source": [
    "# Get all unique values from `Rct No`\n",
    "unique_values = df['Rct No'].unique()\n",
    "\n",
    "# Check the number of unique values in `Rct No`\n",
    "if len(unique_values) > 50:\n",
    "  # If there are too many unique values, sample the top 50\n",
    "  top_occurring_values = df['Rct No'].value_counts().head(50).index.tolist()\n",
    "  print(top_occurring_values)\n",
    "else:\n",
    "  # Otherwise print all unique values in `Rct No`\n",
    "  print(unique_values)"
   ]
  },
  {
   "cell_type": "code",
   "execution_count": null,
   "metadata": {},
   "outputs": [],
   "source": [
    "# Create an empty list to store the extracted data\n",
    "new_df = []\n",
    "\n",
    "# Initialize variables to store project name and currency\n",
    "project_name = None\n",
    "currency = None\n",
    "\n",
    "# Iterate through the rows of the DataFrame\n",
    "for index, row in df.iterrows():\n",
    "    if 'Project :' in str(row['Rct No']):\n",
    "        project_name = row['Rct No'].replace('Project : ', '')\n",
    "    elif 'Currency:' in str(row['Rct No']):\n",
    "        currency = row['Rct No'].replace('Currency: ', '')\n",
    "    else:\n",
    "        # Extract the values for other columns\n",
    "        new_df.append({\n",
    "            'Project Name': project_name,\n",
    "            'Currency': currency,\n",
    "            'Rct No': row['Rct No'],\n",
    "            'Customer/ Activity': row['Customer/ Activity'],\n",
    "            'Amount': row['Amount'],\n",
    "            'Status': row['Status'],\n",
    "            'Type': row['Type'],\n",
    "            'Rec No': row['Rec No'],\n",
    "            'Old No': row['Old No'],\n",
    "            'Receipt Date': row['Receipt Date'],\n",
    "            'Bank Branch': row['Bank Branch'],\n",
    "            'Comments': row['Comments'],\n",
    "            'Balance Unidentified': row['Balance Unidentified'],\n",
    "            'Balance Applied': row['Balance Applied'],\n",
    "            'Balance On Account': row['Balance On Account'],\n",
    "            'Balance Unapplied': row['Balance Unapplied']\n",
    "        })\n",
    "\n",
    "# Convert the list of dictionaries to a DataFrame\n",
    "new_df = pd.DataFrame(new_df)\n",
    "\n",
    "# Display the first 5 rows of the new DataFrame\n",
    "print(new_df.head().to_markdown(index=False, numalign=\"left\", stralign=\"left\"))"
   ]
  }
 ],
 "metadata": {
  "kernelspec": {
   "display_name": "Python 3",
   "language": "python",
   "name": "python3"
  },
  "language_info": {
   "codemirror_mode": {
    "name": "ipython",
    "version": 3
   },
   "file_extension": ".py",
   "mimetype": "text/x-python",
   "name": "python",
   "nbconvert_exporter": "python",
   "pygments_lexer": "ipython3",
   "version": "3.12.5"
  }
 },
 "nbformat": 4,
 "nbformat_minor": 2
}
