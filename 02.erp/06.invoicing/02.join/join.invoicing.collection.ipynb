{
 "cells": [
  {
   "cell_type": "code",
   "execution_count": null,
   "metadata": {},
   "outputs": [],
   "source": [
    "import pandas as pd\n",
    "\n",
    "pd.set_option('display.max_rows', None)\n",
    "pd.set_option('display.max_columns', None)\n",
    "\n",
    "# Read the CSV files into Pandas DataFrames\n",
    "invoicing = pd.read_csv('invoicing.xlsx - invoicing.csv')\n",
    "collection = pd.read_csv('collection.xlsx - collection.csv')\n",
    "\n",
    "# Display the first 5 rows of each DataFrame\n",
    "print(invoicing.head().to_markdown(index=False, numalign=\"left\", stralign=\"left\"))\n",
    "print(collection.head().to_markdown(index=False, numalign=\"left\", stralign=\"left\"))"
   ]
  },
  {
   "cell_type": "code",
   "execution_count": null,
   "metadata": {},
   "outputs": [],
   "source": [
    "# Drop the columns Unnamed: 9 and Unnamed: 16 from invoicing\n",
    "invoicing = invoicing.drop(columns=['Unnamed: 9', 'Unnamed: 16'])\n",
    "\n",
    "# Drop the column PAYMENT_METH from collection\n",
    "collection = collection.drop(columns=['PAYMENT_METH'])\n",
    "\n",
    "# Print the column names of invoicing and collection\n",
    "print('invoicing columns:', list(invoicing.columns))\n",
    "print('collection columns:', list(collection.columns))"
   ]
  },
  {
   "cell_type": "code",
   "execution_count": null,
   "metadata": {},
   "outputs": [],
   "source": [
    "# Print the column names of collection\n",
    "print('collection columns:', list(collection.columns))"
   ]
  },
  {
   "cell_type": "code",
   "execution_count": null,
   "metadata": {},
   "outputs": [],
   "source": [
    "# Drop the column PAYMENT_METHOD from collection\n",
    "collection = collection.drop(columns=['PAYMENT_METHOD'])\n",
    "\n",
    "# Print the column names of invoicing and collection\n",
    "print('invoicing columns:', list(invoicing.columns))\n",
    "print('collection columns:', list(collection.columns))"
   ]
  },
  {
   "cell_type": "code",
   "execution_count": null,
   "metadata": {},
   "outputs": [],
   "source": [
    "# Merge the two tables on the `project name` and `invoice no` columns\n",
    "merged_data = pd.merge(invoicing, collection, on=['project name', 'invoice no'], how='left')\n",
    "\n",
    "# Sort the merged data by `project name` in ascending order, then by `invoice no` in ascending order, with nulls last\n",
    "merged_data = merged_data.sort_values(by=['project name', 'invoice no'], na_position='last', ascending=[True, True])\n",
    "\n",
    "# Display the merged and sorted data\n",
    "print(merged_data.to_markdown(index=False, numalign=\"left\", stralign=\"left\"))"
   ]
  }
 ],
 "metadata": {
  "kernelspec": {
   "display_name": "Python 3",
   "language": "python",
   "name": "python3"
  },
  "language_info": {
   "name": "python",
   "version": "3.12.5"
  }
 },
 "nbformat": 4,
 "nbformat_minor": 2
}
