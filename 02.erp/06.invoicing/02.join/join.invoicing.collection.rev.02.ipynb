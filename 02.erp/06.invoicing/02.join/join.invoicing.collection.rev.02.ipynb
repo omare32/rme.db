{
 "cells": [
  {
   "cell_type": "code",
   "execution_count": null,
   "metadata": {},
   "outputs": [],
   "source": [
    "# Drop the columns Unnamed: 9 and Unnamed: 16 from invoicing\n",
    "invoicing = invoicing.drop(columns=['Unnamed: 9', 'Unnamed: 16'])\n",
    "\n",
    "# Drop the column PAYMENT_METHOD from collection\n",
    "collection = collection.drop(columns=['PAYMENT_METHOD'])\n",
    "\n",
    "# Drop duplicate rows from the invoicing dataset, keeping only the first occurrence\n",
    "invoicing = invoicing.drop_duplicates(keep='first')\n",
    "\n",
    "# Merge the two tables on the `project name` and `invoice no` columns\n",
    "merged_data = pd.merge(invoicing, collection, on=['project name', 'invoice no'], how='left')\n",
    "\n",
    "# Sort the merged data by `project name` in ascending order, then by `invoice no` in ascending order, with nulls last\n",
    "merged_data = merged_data.sort_values(by=['project name', 'invoice no'], na_position='last', ascending=[True, True])\n",
    "\n",
    "# Display the merged and sorted data\n",
    "print(merged_data.to_markdown(index=False, numalign=\"left\", stralign=\"left\"))"
   ]
  },
  {
   "cell_type": "code",
   "execution_count": null,
   "metadata": {},
   "outputs": [],
   "source": [
    "# Print the column names of `invoicing`\n",
    "print(invoicing.columns)"
   ]
  },
  {
   "cell_type": "code",
   "execution_count": null,
   "metadata": {},
   "outputs": [],
   "source": [
    "# Drop the column PAYMENT_METHOD from collection\n",
    "collection = collection.drop(columns=['PAYMENT_METHOD'])\n",
    "\n",
    "# Drop duplicate rows from the invoicing dataset, keeping only the first occurrence\n",
    "invoicing = invoicing.drop_duplicates(keep='first')\n",
    "\n",
    "# Merge the two tables on the `project name` and `invoice no` columns\n",
    "merged_data = pd.merge(invoicing, collection, on=['project name', 'invoice no'], how='left')\n",
    "\n",
    "# Sort the merged data by `project name` in ascending order, then by `invoice no` in ascending order, with nulls last\n",
    "merged_data = merged_data.sort_values(by=['project name', 'invoice no'], na_position='last', ascending=[True, True])\n",
    "\n",
    "# Display the merged and sorted data\n",
    "print(merged_data.to_markdown(index=False, numalign=\"left\", stralign=\"left\"))"
   ]
  },
  {
   "cell_type": "code",
   "execution_count": null,
   "metadata": {},
   "outputs": [],
   "source": [
    "# Print the column names of `collection`\n",
    "print(collection.columns)"
   ]
  },
  {
   "cell_type": "code",
   "execution_count": null,
   "metadata": {},
   "outputs": [],
   "source": [
    "# Drop the column PAYMENT_METHOD from collection\n",
    "collection = collection.drop(columns=['PAYMENT_METHOD'])\n",
    "\n",
    "# Drop duplicate rows from the invoicing dataset, keeping only the first occurrence\n",
    "invoicing = invoicing.drop_duplicates(keep='first')\n",
    "\n",
    "# Merge the two tables on the `project name` and `invoice no` columns\n",
    "merged_data = pd.merge(invoicing, collection, on=['project name', 'invoice no'], how='left')\n",
    "\n",
    "# Sort the merged data by `project name` in ascending order, then by `invoice no` in ascending order, with nulls last\n",
    "merged_data = merged_data.sort_values(by=['project name', 'invoice no'], na_position='last', ascending=[True, True])\n",
    "\n",
    "# Display the merged and sorted data\n",
    "print(merged_data.to_markdown(index=False, numalign=\"left\", stralign=\"left\"))"
   ]
  },
  {
   "cell_type": "code",
   "execution_count": null,
   "metadata": {},
   "outputs": [],
   "source": [
    "# Print the column names of `collection`\n",
    "print(collection.columns)"
   ]
  },
  {
   "cell_type": "code",
   "execution_count": null,
   "metadata": {},
   "outputs": [],
   "source": [
    "# Drop duplicate rows from the invoicing dataset, keeping only the first occurrence\n",
    "invoicing = invoicing.drop_duplicates(keep='first')\n",
    "\n",
    "# Merge the two tables on the `project name` and `invoice no` columns\n",
    "merged_data = pd.merge(invoicing, collection, on=['project name', 'invoice no'], how='left')\n",
    "\n",
    "# Sort the merged data by `project name` in ascending order, then by `invoice no` in ascending order, with nulls last\n",
    "merged_data = merged_data.sort_values(by=['project name', 'invoice no'], na_position='last', ascending=[True, True])\n",
    "\n",
    "# Display the merged and sorted data\n",
    "print(merged_data.to_markdown(index=False, numalign=\"left\", stralign=\"left\"))"
   ]
  }
 ],
 "metadata": {
  "kernelspec": {
   "display_name": "Python 3",
   "language": "python",
   "name": "python3"
  },
  "language_info": {
   "name": "python",
   "version": "3.12.5"
  }
 },
 "nbformat": 4,
 "nbformat_minor": 2
}
