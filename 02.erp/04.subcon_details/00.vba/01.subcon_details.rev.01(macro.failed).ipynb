{
 "cells": [
  {
   "cell_type": "code",
   "execution_count": 1,
   "metadata": {},
   "outputs": [
    {
     "ename": "com_error",
     "evalue": "(-2147352567, 'Exception occurred.', (0, 'Microsoft Excel', 'Programmatic access to Visual Basic Project is not trusted\\n', 'xlmain11.chm', 0, -2146827284), None)",
     "output_type": "error",
     "traceback": [
      "\u001b[1;31m---------------------------------------------------------------------------\u001b[0m",
      "\u001b[1;31mcom_error\u001b[0m                                 Traceback (most recent call last)",
      "Cell \u001b[1;32mIn[1], line 109\u001b[0m\n\u001b[0;32m    107\u001b[0m \u001b[38;5;28;01mfor\u001b[39;00m excel_file \u001b[38;5;129;01min\u001b[39;00m excel_files:\n\u001b[0;32m    108\u001b[0m     excel_file_path \u001b[38;5;241m=\u001b[39m os\u001b[38;5;241m.\u001b[39mpath\u001b[38;5;241m.\u001b[39mjoin(notebook_directory, excel_file)\n\u001b[1;32m--> 109\u001b[0m     \u001b[43madd_and_run_macro\u001b[49m\u001b[43m(\u001b[49m\u001b[43mexcel_file_path\u001b[49m\u001b[43m,\u001b[49m\u001b[43m \u001b[49m\u001b[43mmacro_code\u001b[49m\u001b[43m)\u001b[49m\n\u001b[0;32m    110\u001b[0m     \u001b[38;5;28mprint\u001b[39m(\u001b[38;5;124mf\u001b[39m\u001b[38;5;124m\"\u001b[39m\u001b[38;5;124mProcessed: \u001b[39m\u001b[38;5;132;01m{\u001b[39;00mexcel_file\u001b[38;5;132;01m}\u001b[39;00m\u001b[38;5;124m\"\u001b[39m)\n",
      "Cell \u001b[1;32mIn[1], line 13\u001b[0m, in \u001b[0;36madd_and_run_macro\u001b[1;34m(excel_file_path, macro_code)\u001b[0m\n\u001b[0;32m     10\u001b[0m wb \u001b[38;5;241m=\u001b[39m excel\u001b[38;5;241m.\u001b[39mWorkbooks\u001b[38;5;241m.\u001b[39mOpen(excel_file_path)\n\u001b[0;32m     12\u001b[0m \u001b[38;5;66;03m# Get the VBA project\u001b[39;00m\n\u001b[1;32m---> 13\u001b[0m vb_project \u001b[38;5;241m=\u001b[39m \u001b[43mwb\u001b[49m\u001b[38;5;241;43m.\u001b[39;49m\u001b[43mVBProject\u001b[49m\n\u001b[0;32m     15\u001b[0m \u001b[38;5;66;03m# Add a new module\u001b[39;00m\n\u001b[0;32m     16\u001b[0m vb_component \u001b[38;5;241m=\u001b[39m vb_project\u001b[38;5;241m.\u001b[39mVBComponents\u001b[38;5;241m.\u001b[39mAdd(\u001b[38;5;241m1\u001b[39m)  \u001b[38;5;66;03m# 1 = vbext_ct_StdModule\u001b[39;00m\n",
      "File \u001b[1;32m~\\AppData\\Roaming\\Python\\Python311\\site-packages\\win32com\\client\\dynamic.py:627\u001b[0m, in \u001b[0;36mCDispatch.__getattr__\u001b[1;34m(self, attr)\u001b[0m\n\u001b[0;32m    623\u001b[0m debug_attr_print(\n\u001b[0;32m    624\u001b[0m     \u001b[38;5;124m\"\u001b[39m\u001b[38;5;124mGetting property Id 0x\u001b[39m\u001b[38;5;132;01m%x\u001b[39;00m\u001b[38;5;124m from OLE object\u001b[39m\u001b[38;5;124m\"\u001b[39m \u001b[38;5;241m%\u001b[39m retEntry\u001b[38;5;241m.\u001b[39mdispid\n\u001b[0;32m    625\u001b[0m )\n\u001b[0;32m    626\u001b[0m \u001b[38;5;28;01mtry\u001b[39;00m:\n\u001b[1;32m--> 627\u001b[0m     ret \u001b[38;5;241m=\u001b[39m \u001b[38;5;28;43mself\u001b[39;49m\u001b[38;5;241;43m.\u001b[39;49m\u001b[43m_oleobj_\u001b[49m\u001b[38;5;241;43m.\u001b[39;49m\u001b[43mInvoke\u001b[49m\u001b[43m(\u001b[49m\u001b[43mretEntry\u001b[49m\u001b[38;5;241;43m.\u001b[39;49m\u001b[43mdispid\u001b[49m\u001b[43m,\u001b[49m\u001b[43m \u001b[49m\u001b[38;5;241;43m0\u001b[39;49m\u001b[43m,\u001b[49m\u001b[43m \u001b[49m\u001b[43minvoke_type\u001b[49m\u001b[43m,\u001b[49m\u001b[43m \u001b[49m\u001b[38;5;241;43m1\u001b[39;49m\u001b[43m)\u001b[49m\n\u001b[0;32m    628\u001b[0m \u001b[38;5;28;01mexcept\u001b[39;00m pythoncom\u001b[38;5;241m.\u001b[39mcom_error \u001b[38;5;28;01mas\u001b[39;00m details:\n\u001b[0;32m    629\u001b[0m     \u001b[38;5;28;01mif\u001b[39;00m details\u001b[38;5;241m.\u001b[39mhresult \u001b[38;5;129;01min\u001b[39;00m ERRORS_BAD_CONTEXT:\n\u001b[0;32m    630\u001b[0m         \u001b[38;5;66;03m# May be a method.\u001b[39;00m\n",
      "\u001b[1;31mcom_error\u001b[0m: (-2147352567, 'Exception occurred.', (0, 'Microsoft Excel', 'Programmatic access to Visual Basic Project is not trusted\\n', 'xlmain11.chm', 0, -2146827284), None)"
     ]
    }
   ],
   "source": [
    "import win32com.client\n",
    "import os\n",
    "\n",
    "def add_and_run_macro(excel_file_path, macro_code):\n",
    "    # Open Excel application\n",
    "    excel = win32com.client.Dispatch(\"Excel.Application\")\n",
    "    excel.Visible = False \n",
    "\n",
    "    # Open the workbook\n",
    "    wb = excel.Workbooks.Open(excel_file_path)\n",
    "\n",
    "    # Get the VBA project\n",
    "    vb_project = wb.VBProject\n",
    "\n",
    "    # Add a new module\n",
    "    vb_component = vb_project.VBComponents.Add(1)  # 1 = vbext_ct_StdModule\n",
    "\n",
    "    # Add the macro code to the module\n",
    "    vb_component.CodeModule.AddFromString(macro_code)\n",
    "\n",
    "    # Run the macro\n",
    "    excel.Application.Run(\"cleaning\")\n",
    "\n",
    "    # Save and close\n",
    "    wb.Save()\n",
    "    wb.Close()\n",
    "    excel.Quit()\n",
    "\n",
    "# Your VBA macro code\n",
    "macro_code = \"\"\"\n",
    "Sub cleaning()\n",
    "\n",
    "\n",
    "\n",
    "\n",
    "End Sub\n",
    "\"\"\"\n",
    "\n",
    "# Get the directory where your Jupyter Notebook is located (same folder)\n",
    "notebook_directory = os.path.dirname(os.path.abspath(\"__file__\")) \n",
    "\n",
    "# Find all Excel files in the directory\n",
    "excel_files = [f for f in os.listdir(notebook_directory) if f.endswith('.xlsx') or f.endswith('.xls')]\n",
    "\n",
    "# Process each Excel file\n",
    "for excel_file in excel_files:\n",
    "    excel_file_path = os.path.join(notebook_directory, excel_file)\n",
    "    add_and_run_macro(excel_file_path, macro_code)\n",
    "    print(f\"Processed: {excel_file}\")"
   ]
  }
 ],
 "metadata": {
  "kernelspec": {
   "display_name": "Python 3",
   "language": "python",
   "name": "python3"
  },
  "language_info": {
   "codemirror_mode": {
    "name": "ipython",
    "version": 3
   },
   "file_extension": ".py",
   "mimetype": "text/x-python",
   "name": "python",
   "nbconvert_exporter": "python",
   "pygments_lexer": "ipython3",
   "version": "3.11.4"
  }
 },
 "nbformat": 4,
 "nbformat_minor": 2
}
