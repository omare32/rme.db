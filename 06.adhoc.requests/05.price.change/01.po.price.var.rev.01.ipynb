{
 "cells": [
  {
   "cell_type": "code",
   "execution_count": 49,
   "metadata": {},
   "outputs": [],
   "source": [
    "import pandas as pd\n",
    "import glob\n",
    "import os"
   ]
  },
  {
   "cell_type": "code",
   "execution_count": 50,
   "metadata": {},
   "outputs": [],
   "source": [
    "# Step 1: Find and read the only xlsx file in the directory\n",
    "file_list = glob.glob('*.xlsx')\n",
    "if len(file_list) != 1:\n",
    "    raise ValueError(\"There should be exactly one .xlsx file in the directory.\")\n",
    "file_path = file_list[0]\n",
    "\n",
    "df = pd.read_excel(file_path)"
   ]
  },
  {
   "cell_type": "code",
   "execution_count": 51,
   "metadata": {},
   "outputs": [],
   "source": [
    "# Step 2: Extract relevant columns including the additional ones\n",
    "df = df[['description', 'unit', 'unit_price', 'approved_date', 'project_name', 'vendor', 'qty', 'amount_egp', 'project_no', 'organization_code', 'buyer_dept', 'buyer', 'qty_received']]"
   ]
  },
  {
   "cell_type": "code",
   "execution_count": 52,
   "metadata": {},
   "outputs": [],
   "source": [
    "# Step 3: Convert 'approved_date' to datetime and determine the week number\n",
    "df['approved_date'] = pd.to_datetime(df['approved_date'])\n",
    "df['week'] = df['approved_date'].dt.isocalendar().week"
   ]
  },
  {
   "cell_type": "code",
   "execution_count": 53,
   "metadata": {},
   "outputs": [],
   "source": [
    "# Step 4: Group by 'description', 'unit', and 'week'\n",
    "grouped = df.groupby(['description', 'unit', 'week'])"
   ]
  },
  {
   "cell_type": "code",
   "execution_count": 54,
   "metadata": {},
   "outputs": [],
   "source": [
    "# Step 5 & 6: Check for variations in 'unit_price' within each group\n",
    "results = []\n",
    "\n",
    "for name, group in grouped:\n",
    "    max_price = group['unit_price'].max()\n",
    "    min_price = group['unit_price'].min()\n",
    "    if max_price > min_price * 1.05:\n",
    "        results.append(group)"
   ]
  },
  {
   "cell_type": "code",
   "execution_count": 55,
   "metadata": {},
   "outputs": [],
   "source": [
    "# Combine all results into a single DataFrame\n",
    "if results:\n",
    "    result_df = pd.concat(results)\n",
    "else:\n",
    "    result_df = pd.DataFrame()"
   ]
  },
  {
   "cell_type": "code",
   "execution_count": 56,
   "metadata": {},
   "outputs": [
    {
     "name": "stdout",
     "output_type": "stream",
     "text": [
      "Analysis complete. Results are saved in 'output.xlsx'.\n"
     ]
    }
   ],
   "source": [
    "# Output the result\n",
    "result_df.to_excel('output.xlsx', index=False)\n",
    "\n",
    "print(\"Analysis complete. Results are saved in 'output.xlsx'.\")"
   ]
  }
 ],
 "metadata": {
  "kernelspec": {
   "display_name": "Python 3",
   "language": "python",
   "name": "python3"
  },
  "language_info": {
   "codemirror_mode": {
    "name": "ipython",
    "version": 3
   },
   "file_extension": ".py",
   "mimetype": "text/x-python",
   "name": "python",
   "nbconvert_exporter": "python",
   "pygments_lexer": "ipython3",
   "version": "3.11.4"
  }
 },
 "nbformat": 4,
 "nbformat_minor": 2
}
