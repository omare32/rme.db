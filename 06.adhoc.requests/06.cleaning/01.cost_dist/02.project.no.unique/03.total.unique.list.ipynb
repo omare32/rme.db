{
 "cells": [
  {
   "cell_type": "code",
   "execution_count": 1,
   "metadata": {},
   "outputs": [],
   "source": [
    "import os\n",
    "import pandas as pd"
   ]
  },
  {
   "cell_type": "code",
   "execution_count": 2,
   "metadata": {},
   "outputs": [],
   "source": [
    "# Paste your file path from File Explorer as a string here\n",
    "file_path_from_explorer = r'D:\\OneDrive\\OneDrive - Rowad Modern Engineering\\x004 Data Science\\03.rme.db\\01.tables\\01.cost.dist\\02.xlsx'\n",
    "\n",
    "# Normalize the path\n",
    "directory = os.path.normpath(file_path_from_explorer)"
   ]
  },
  {
   "cell_type": "code",
   "execution_count": 3,
   "metadata": {},
   "outputs": [],
   "source": [
    "# List all the Excel files in the directory\n",
    "excel_files = [f for f in os.listdir(directory) if f.endswith('.xlsx')]"
   ]
  },
  {
   "cell_type": "code",
   "execution_count": 4,
   "metadata": {},
   "outputs": [],
   "source": [
    "# Initialize an empty list to store unique project identifiers\n",
    "unique_projects = []"
   ]
  },
  {
   "cell_type": "code",
   "execution_count": 5,
   "metadata": {},
   "outputs": [],
   "source": [
    "# Loop through each Excel file\n",
    "for excel_file in excel_files:\n",
    "    # Construct the full file path\n",
    "    file_path = os.path.join(directory, excel_file)\n",
    "    \n",
    "    # Read the Excel file into a DataFrame\n",
    "    df = pd.read_excel(file_path)\n",
    "    \n",
    "    # Get unique project identifiers for \"project_no\" and \"project_name\" columns\n",
    "    unique_project_identifiers = df[['project_no', 'project_name']].drop_duplicates()\n",
    "    \n",
    "    # Append the unique project identifiers to the list\n",
    "    unique_projects.append(unique_project_identifiers)"
   ]
  },
  {
   "cell_type": "code",
   "execution_count": 7,
   "metadata": {},
   "outputs": [],
   "source": [
    "# Concatenate all unique project identifiers into a single DataFrame\n",
    "unique_projects_df = pd.concat(unique_projects, ignore_index=True)\n",
    "\n",
    "# Get unique project numbers and project names from the appended DataFrame\n",
    "unique_project_numbers = unique_projects_df['project_no'].unique()\n",
    "unique_project_names = unique_projects_df['project_name'].unique()\n",
    "\n",
    "# Create a DataFrame for the unique project numbers and project names\n",
    "unique_list_df = pd.DataFrame({'project_no': unique_project_numbers, 'project_name': unique_project_names})\n",
    "\n",
    "# Save the unique project identifiers to a new Excel file\n",
    "output_file = 'unique_projects.xlsx'\n",
    "unique_list_df.to_excel(os.path.join(directory, output_file), index=False)"
   ]
  }
 ],
 "metadata": {
  "kernelspec": {
   "display_name": "Python 3",
   "language": "python",
   "name": "python3"
  },
  "language_info": {
   "codemirror_mode": {
    "name": "ipython",
    "version": 3
   },
   "file_extension": ".py",
   "mimetype": "text/x-python",
   "name": "python",
   "nbconvert_exporter": "python",
   "pygments_lexer": "ipython3",
   "version": "3.11.0"
  },
  "orig_nbformat": 4
 },
 "nbformat": 4,
 "nbformat_minor": 2
}
