{
 "cells": [
  {
   "cell_type": "code",
   "execution_count": 1,
   "metadata": {},
   "outputs": [
    {
     "name": "stdout",
     "output_type": "stream",
     "text": [
      "Excel files created successfully!\n"
     ]
    }
   ],
   "source": [
    "import pandas as pd\n",
    "\n",
    "# Load the Excel file\n",
    "df = pd.read_excel('Unifier - Client BOQ Line Items.xlsx') \n",
    "\n",
    "# Group the DataFrame by 'Project Name'\n",
    "grouped = df.groupby('Project Name')\n",
    "\n",
    "# Iterate through each group and create a separate Excel file\n",
    "for project_name, group_df in grouped:\n",
    "    group_df.to_excel(f'{project_name}.xlsx', index=False)\n",
    "\n",
    "print(\"Excel files created successfully!\")"
   ]
  }
 ],
 "metadata": {
  "kernelspec": {
   "display_name": "Python 3",
   "language": "python",
   "name": "python3"
  },
  "language_info": {
   "codemirror_mode": {
    "name": "ipython",
    "version": 3
   },
   "file_extension": ".py",
   "mimetype": "text/x-python",
   "name": "python",
   "nbconvert_exporter": "python",
   "pygments_lexer": "ipython3",
   "version": "3.12.4"
  }
 },
 "nbformat": 4,
 "nbformat_minor": 2
}
