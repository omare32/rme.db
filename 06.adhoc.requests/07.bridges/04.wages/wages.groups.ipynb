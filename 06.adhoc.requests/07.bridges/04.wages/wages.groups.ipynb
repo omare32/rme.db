{
 "cells": [
  {
   "cell_type": "code",
   "execution_count": 19,
   "metadata": {},
   "outputs": [],
   "source": [
    "import pandas as pd"
   ]
  },
  {
   "cell_type": "code",
   "execution_count": 20,
   "metadata": {},
   "outputs": [],
   "source": [
    "# Specify the file path to your Excel file\n",
    "file_path = \"Wages 2023 Till Sep.xlsx\"\n",
    "\n",
    "# Read the Excel file\n",
    "df = pd.read_excel(file_path)"
   ]
  },
  {
   "cell_type": "code",
   "execution_count": 21,
   "metadata": {},
   "outputs": [],
   "source": [
    "# Extract the required columns: 'occupation', 'project', and 'amount'\n",
    "df = df[['occupation', 'project', 'amount']]"
   ]
  },
  {
   "cell_type": "code",
   "execution_count": 22,
   "metadata": {},
   "outputs": [],
   "source": [
    "# Group by 'project' and calculate the sum of 'amount' for each project\n",
    "project_wages = df.groupby('project')['amount'].sum().reset_index()"
   ]
  },
  {
   "cell_type": "code",
   "execution_count": 23,
   "metadata": {},
   "outputs": [],
   "source": [
    "# Specify the output Excel file for the summed data\n",
    "output_file = \"Summed_Wages_By_Project.xlsx\"\n",
    "\n",
    "# Save the summed data to a new Excel file\n",
    "project_wages.to_excel(output_file, index=False)"
   ]
  },
  {
   "cell_type": "code",
   "execution_count": 24,
   "metadata": {},
   "outputs": [],
   "source": [
    "# Group by both 'project' and 'occupation' and calculate the sum of 'amount' for each combination\n",
    "occupation_project_wages = df.groupby(['project', 'occupation'])['amount'].sum().reset_index()"
   ]
  },
  {
   "cell_type": "code",
   "execution_count": 25,
   "metadata": {},
   "outputs": [],
   "source": [
    "# Specify the output Excel file for the summed data\n",
    "output_file = \"Summed_Wages_By_Occupation_By_Project.xlsx\"\n",
    "\n",
    "# Save the summed data to a new Excel file\n",
    "occupation_project_wages.to_excel(output_file, index=False)"
   ]
  },
  {
   "cell_type": "code",
   "execution_count": 26,
   "metadata": {},
   "outputs": [],
   "source": [
    "# Define the list of keywords to filter for\n",
    "direct_keywords = [\"نجار\", \"شده\", \"خرسانة\", \"فورمجى\", \"حداد\"]"
   ]
  },
  {
   "cell_type": "code",
   "execution_count": 27,
   "metadata": {},
   "outputs": [],
   "source": [
    "# Create a mask to filter direct costs\n",
    "direct_cost_mask = df['occupation'].str.contains('|'.join(direct_keywords), case=False, na=False)"
   ]
  },
  {
   "cell_type": "code",
   "execution_count": 28,
   "metadata": {},
   "outputs": [],
   "source": [
    "# Calculate direct costs by summing the amounts for direct cost rows\n",
    "direct_cost_df = df[direct_cost_mask].groupby('project')['amount'].sum().reset_index()\n",
    "direct_cost_df.rename(columns={'amount': 'direct_cost'}, inplace=True)\n",
    "\n",
    "# Calculate indirect costs by subtracting direct costs from the total amounts\n",
    "indirect_cost_df = df.groupby('project')['amount'].sum().reset_index()\n",
    "indirect_cost_df['indirect_cost'] = indirect_cost_df['amount'] - indirect_cost_df['project'].map(direct_cost_df.set_index('project')['direct_cost'])"
   ]
  },
  {
   "cell_type": "code",
   "execution_count": 29,
   "metadata": {},
   "outputs": [],
   "source": [
    "# Specify the output Excel file for indirect cost data\n",
    "output_file = \"Indirect_Cost_Wages_By_Project.xlsx\"\n",
    "\n",
    "# Save the indirect cost data to a new Excel file\n",
    "indirect_cost_df.to_excel(output_file, index=False)"
   ]
  },
  {
   "cell_type": "code",
   "execution_count": 30,
   "metadata": {},
   "outputs": [],
   "source": [
    "# Specify the output Excel file for direct cost data\n",
    "output_file = \"Direct_Cost_Wages_By_Project.xlsx\"\n",
    "\n",
    "# Save the indirect cost data to a new Excel file\n",
    "direct_cost_df.to_excel(output_file, index=False)"
   ]
  }
 ],
 "metadata": {
  "kernelspec": {
   "display_name": "Python 3",
   "language": "python",
   "name": "python3"
  },
  "language_info": {
   "codemirror_mode": {
    "name": "ipython",
    "version": 3
   },
   "file_extension": ".py",
   "mimetype": "text/x-python",
   "name": "python",
   "nbconvert_exporter": "python",
   "pygments_lexer": "ipython3",
   "version": "3.11.0"
  }
 },
 "nbformat": 4,
 "nbformat_minor": 2
}
