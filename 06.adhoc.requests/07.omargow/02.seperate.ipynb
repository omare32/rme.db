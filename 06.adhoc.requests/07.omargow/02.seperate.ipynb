{
 "cells": [
  {
   "cell_type": "code",
   "execution_count": 8,
   "metadata": {},
   "outputs": [],
   "source": [
    "import pandas as pd\n",
    "import Levenshtein\n",
    "\n",
    "# Load the data from Excel files\n",
    "old_df = pd.read_excel('old.xlsx')\n",
    "original_df = pd.read_excel('original.xlsx')\n",
    "\n",
    "# Convert 'old' column to string\n",
    "old_df['old'] = old_df['old'].astype(str)\n",
    "\n",
    "# Function to find the closest match in the original list\n",
    "def find_closest_match(value, original_list, max_difference):\n",
    "    # Remove square brackets and any leading/trailing spaces\n",
    "    cleaned_value = value.strip('[] ')\n",
    "\n",
    "    # Calculate the Levenshtein distance for each value in the original list\n",
    "    distances = [\n",
    "        (original_value, Levenshtein.distance(cleaned_value, original_value))\n",
    "        for original_value in original_list\n",
    "    ]\n",
    "\n",
    "    # Filter matches with a maximum distance specified by max_difference\n",
    "    close_matches = [(original_value, distance) for original_value, distance in distances if distance <= max_difference]\n",
    "\n",
    "    if close_matches:\n",
    "        # If there are close matches, return the one with the minimum distance\n",
    "        closest_match, _ = min(close_matches, key=lambda x: x[1])\n",
    "        return closest_match\n",
    "    else:\n",
    "        # If no close matches are found, return the original value\n",
    "        return value \n",
    "\n",
    "# Get maximum difference from the user\n",
    "max_diff = int(input(\"Enter the maximum allowed character difference: \"))\n",
    "\n",
    "# Apply the function to create the new column\n",
    "old_df['new'] = old_df['old'].apply(\n",
    "    lambda x: find_closest_match(x, original_df['original'].tolist(), max_difference=max_diff)\n",
    ")\n",
    "\n",
    "# Save the result to a new Excel file\n",
    "old_df.to_excel('new.xlsx', index=False)"
   ]
  }
 ],
 "metadata": {
  "kernelspec": {
   "display_name": "Python 3",
   "language": "python",
   "name": "python3"
  },
  "language_info": {
   "codemirror_mode": {
    "name": "ipython",
    "version": 3
   },
   "file_extension": ".py",
   "mimetype": "text/x-python",
   "name": "python",
   "nbconvert_exporter": "python",
   "pygments_lexer": "ipython3",
   "version": "3.12.5"
  }
 },
 "nbformat": 4,
 "nbformat_minor": 2
}
