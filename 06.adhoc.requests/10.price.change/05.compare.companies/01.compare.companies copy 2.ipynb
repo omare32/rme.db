{
 "cells": [
  {
   "cell_type": "code",
   "execution_count": 3,
   "metadata": {},
   "outputs": [],
   "source": [
    "import pandas as pd\n",
    "\n",
    "# Load the Excel files into DataFrames\n",
    "jv_df = pd.read_excel('jv.xlsx')\n",
    "rme_df = pd.read_excel('rme.xlsx')"
   ]
  },
  {
   "cell_type": "code",
   "execution_count": 4,
   "metadata": {},
   "outputs": [
    {
     "name": "stdout",
     "output_type": "stream",
     "text": [
      "Combined Excel file created successfully!\n"
     ]
    }
   ],
   "source": [
    "# Rename columns in rme_df to add the \"RME_\" prefix\n",
    "rme_df = rme_df.rename(columns={col: f'RME_{col}' for col in rme_df.columns})\n",
    "\n",
    "# Remove the \"RME_\" prefix from the 'store_code' and 'unit' columns for the merge\n",
    "rme_df.rename(columns={'RME_store_code': 'store_code', 'RME_unit': 'unit'}, inplace=True)\n",
    "\n",
    "# Merge the DataFrames based on the common store code and unit\n",
    "combined_df = pd.merge(jv_df, rme_df, left_on=['Store Code', 'UOM'], right_on=['store_code', 'unit'], how='left')\n",
    "\n",
    "# Drop the redundant 'store_code' and 'unit' columns from rme_df\n",
    "combined_df.drop(columns=['store_code', 'unit'], inplace=True)\n",
    "\n",
    "# Save the combined DataFrame to a new Excel file\n",
    "combined_df.to_excel('combined_jv_rme.xlsx', index=False)\n",
    "\n",
    "print(\"Combined Excel file created successfully!\")"
   ]
  }
 ],
 "metadata": {
  "kernelspec": {
   "display_name": "Python 3",
   "language": "python",
   "name": "python3"
  },
  "language_info": {
   "codemirror_mode": {
    "name": "ipython",
    "version": 3
   },
   "file_extension": ".py",
   "mimetype": "text/x-python",
   "name": "python",
   "nbconvert_exporter": "python",
   "pygments_lexer": "ipython3",
   "version": "3.12.5"
  }
 },
 "nbformat": 4,
 "nbformat_minor": 2
}
