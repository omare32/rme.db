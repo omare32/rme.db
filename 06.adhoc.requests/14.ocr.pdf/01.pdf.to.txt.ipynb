{
 "cells": [
  {
   "cell_type": "code",
   "execution_count": 2,
   "metadata": {},
   "outputs": [
    {
     "name": "stdout",
     "output_type": "stream",
     "text": [
      "Conversion complete!\n"
     ]
    }
   ],
   "source": [
    "import os\n",
    "import pdfplumber\n",
    "import pytesseract\n",
    "from PIL import Image\n",
    "\n",
    "def pdf_to_txt(pdf_folder, txt_folder):\n",
    "    \"\"\"\n",
    "    Converts all PDF files in a folder to TXT files, using OCR if necessary.\n",
    "\n",
    "    Args:\n",
    "      pdf_folder: The path to the folder containing PDF files.\n",
    "      txt_folder: The path to the folder where TXT files will be saved.\n",
    "    \"\"\"\n",
    "\n",
    "    if not os.path.exists(txt_folder):\n",
    "        os.makedirs(txt_folder)\n",
    "\n",
    "    for filename in os.listdir(pdf_folder):\n",
    "        if filename.endswith(\".pdf\"):\n",
    "            pdf_path = os.path.join(pdf_folder, filename)\n",
    "            txt_path = os.path.join(txt_folder, filename[:-4] + \".txt\")\n",
    "\n",
    "            try:\n",
    "                # Attempt to extract text directly\n",
    "                with pdfplumber.open(pdf_path) as pdf:\n",
    "                    text = \"\"\n",
    "                    for page in pdf.pages:\n",
    "                        text += page.extract_text()\n",
    "            except:\n",
    "                # If direct extraction fails, use OCR\n",
    "                text = \"\"\n",
    "                images = convert_from_path(pdf_path) \n",
    "                for i in range(len(images)):\n",
    "                    page = images[i]\n",
    "                    text += pytesseract.image_to_string(page)\n",
    "\n",
    "            with open(txt_path, \"w\", encoding=\"utf-8\") as f:\n",
    "                f.write(text)\n",
    "\n",
    "if __name__ == \"__main__\":\n",
    "    pdf_folder = input(\"Enter the path to the PDF folder: \")\n",
    "    txt_folder = input(\"Enter the path to the TXT folder: \")\n",
    "    pdf_to_txt(pdf_folder, txt_folder)\n",
    "    print(\"Conversion complete!\")"
   ]
  }
 ],
 "metadata": {
  "kernelspec": {
   "display_name": "Python 3",
   "language": "python",
   "name": "python3"
  },
  "language_info": {
   "codemirror_mode": {
    "name": "ipython",
    "version": 3
   },
   "file_extension": ".py",
   "mimetype": "text/x-python",
   "name": "python",
   "nbconvert_exporter": "python",
   "pygments_lexer": "ipython3",
   "version": "3.12.5"
  }
 },
 "nbformat": 4,
 "nbformat_minor": 2
}
