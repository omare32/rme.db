{
 "cells": [
  {
   "cell_type": "code",
   "execution_count": null,
   "metadata": {},
   "outputs": [
    {
     "name": "stdout",
     "output_type": "stream",
     "text": [
      "Conversion complete!\n"
     ]
    }
   ],
   "source": [
    "import os\n",
    "import pdfplumber\n",
    "import pytesseract\n",
    "from PIL import Image\n",
    "from pdf2image import convert_from_path\n",
    "\n",
    "pytesseract.pytesseract.tesseract_cmd = r\"D:\\Program Files\\Tesseract OCR\\tesseract.exe\"\n",
    "\n",
    "def pdf_to_txt(pdf_folder, txt_folder):\n",
    "    \"\"\"\n",
    "    Converts all PDF files in a folder to TXT files, using OCR if necessary.\n",
    "    \"\"\"\n",
    "\n",
    "    if not os.path.exists(txt_folder):\n",
    "        os.makedirs(txt_folder)\n",
    "\n",
    "    for filename in os.listdir(pdf_folder):\n",
    "        if filename.endswith(\".pdf\"):\n",
    "            pdf_path = os.path.join(pdf_folder, filename)\n",
    "            txt_path = os.path.join(txt_folder, filename[:-4] + \".txt\")\n",
    "            img_folder = os.path.join(txt_folder, filename[:-4] + \"_images\") \n",
    "\n",
    "            try:\n",
    "                # Attempt to extract text directly\n",
    "                with pdfplumber.open(pdf_path) as pdf:\n",
    "                    text = \"\"\n",
    "                    for page in pdf.pages:\n",
    "                        text += page.extract_text()\n",
    "            except:\n",
    "                # If direct extraction fails, use OCR\n",
    "                text = \"\"\n",
    "                \n",
    "                # Convert PDF to images and save them for inspection\n",
    "                if not os.path.exists(img_folder):\n",
    "                    os.makedirs(img_folder)\n",
    "                images = convert_from_path(pdf_path, output_folder=img_folder, fmt=\"png\")  \n",
    "\n",
    "                for i, page in enumerate(images):\n",
    "                    # Save each image with a sequential number\n",
    "                    image_path = os.path.join(img_folder, f\"page_{i+1}.png\") \n",
    "                    \n",
    "                    # Try different PSM values\n",
    "                    for psm in range(6, 14):  # Try PSM modes 6 to 13\n",
    "                        try:\n",
    "                            text = pytesseract.image_to_string(page, config=f\"--psm {psm}\")\n",
    "                            if text.strip():  # Check if any text was extracted\n",
    "                                print(f\"PSM {psm} succeeded for {filename}\")\n",
    "                                break  # Stop trying other PSM values if successful\n",
    "                        except Exception as e:\n",
    "                            print(f\"Error with PSM {psm} for {filename}: {e}\")\n",
    "                    else:\n",
    "                        # If no PSM worked, print an error message\n",
    "                        print(f\"OCR failed for {filename}, image saved to {image_path}\")\n",
    "\n",
    "            with open(txt_path, \"w\", encoding=\"utf-8\") as f:\n",
    "                f.write(text)\n",
    "\n",
    "if __name__ == \"__main__\":\n",
    "    pdf_folder = r\"D:\\New Folder\"  # Or use one of the other path fixes\n",
    "    txt_folder = r\"D:\\New Folder 2\"  # Or use one of the other path fixes\n",
    "    pdf_to_txt(pdf_folder, txt_folder)\n",
    "    print(\"Conversion complete!\")"
   ]
  }
 ],
 "metadata": {
  "kernelspec": {
   "display_name": "Python 3",
   "language": "python",
   "name": "python3"
  },
  "language_info": {
   "codemirror_mode": {
    "name": "ipython",
    "version": 3
   },
   "file_extension": ".py",
   "mimetype": "text/x-python",
   "name": "python",
   "nbconvert_exporter": "python",
   "pygments_lexer": "ipython3",
   "version": "3.12.5"
  }
 },
 "nbformat": 4,
 "nbformat_minor": 2
}
