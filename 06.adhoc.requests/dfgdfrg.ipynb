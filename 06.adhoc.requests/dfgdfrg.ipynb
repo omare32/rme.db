{
 "cells": [
  {
   "cell_type": "code",
   "execution_count": null,
   "metadata": {},
   "outputs": [
    {
     "ename": "",
     "evalue": "",
     "output_type": "error",
     "traceback": [
      "\u001b[1;31mRunning cells with '.venv (Python 3.12.4)' requires the ipykernel package.\n",
      "\u001b[1;31mRun the following command to install 'ipykernel' into the Python environment. \n",
      "\u001b[1;31mCommand: '\"d:/OneDrive/OneDrive - Rowad Modern Engineering/x004 Data Science/03.rme.db/00.repo/rme.db/.venv/Scripts/python.exe\" -m pip install ipykernel -U --force-reinstall'"
     ]
    }
   ],
   "source": [
    "\n",
    "import matplotlib.pyplot as plt\n",
    "import networkx as nx\n",
    "\n",
    "# Create a directed graph\n",
    "org_chart = nx.DiGraph()\n",
    "\n",
    "# Add nodes and edges\n",
    "org_chart.add_node(\"PMO\")\n",
    "org_chart.add_node(\"Digital Transformation\")\n",
    "org_chart.add_node(\"Project Follow-Up & Cash Flow\")\n",
    "org_chart.add_node(\"Cost Control\")\n",
    "org_chart.add_node(\"Material Control & QS\")\n",
    "\n",
    "# Digital Transformation sub-nodes\n",
    "org_chart.add_node(\"Process Digitalization\")\n",
    "org_chart.add_node(\"Data Management & Machine Learning\")\n",
    "org_chart.add_node(\"VDC & BIM Integration\")\n",
    "org_chart.add_node(\"R&D\")\n",
    "\n",
    "# Relationships\n",
    "org_chart.add_edges_from([\n",
    "    (\"PMO\", \"Digital Transformation\"),\n",
    "    (\"PMO\", \"Project Follow-Up & Cash Flow\"),\n",
    "    (\"PMO\", \"Cost Control\"),\n",
    "    (\"PMO\", \"Material Control & QS\"),\n",
    "    (\"Digital Transformation\", \"Process Digitalization\"),\n",
    "    (\"Digital Transformation\", \"Data Management & Machine Learning\"),\n",
    "    (\"Digital Transformation\", \"VDC & BIM Integration\"),\n",
    "    (\"Digital Transformation\", \"R&D\")\n",
    "])\n",
    "\n",
    "# Define the layout\n",
    "pos = nx.shell_layout(org_chart)\n",
    "\n",
    "# Draw the graph\n",
    "plt.figure(figsize=(12, 8))\n",
    "nx.draw(\n",
    "    org_chart, pos, with_labels=True, node_size=5000, node_color=\"skyblue\",\n",
    "    font_size=10, font_weight=\"bold\", arrowsize=15, edge_color=\"gray\"\n",
    ")\n",
    "plt.title(\"PMO Organizational Chart\", fontsize=16, fontweight=\"bold\")\n",
    "plt.savefig(\"PMO_Organizational_Chart.png\")\n",
    "plt.show()\n",
    "python org_chart.py\n",
    "\n",
    "\n",
    "\n",
    "\n"
   ]
  }
 ],
 "metadata": {
  "kernelspec": {
   "display_name": ".venv",
   "language": "python",
   "name": "python3"
  },
  "language_info": {
   "name": "python",
   "version": "3.12.4"
  }
 },
 "nbformat": 4,
 "nbformat_minor": 2
}
