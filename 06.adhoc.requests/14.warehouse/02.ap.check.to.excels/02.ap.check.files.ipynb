{
 "cells": [
  {
   "cell_type": "code",
   "execution_count": 1,
   "metadata": {},
   "outputs": [
    {
     "name": "stderr",
     "output_type": "stream",
     "text": [
      "C:\\Users\\Omar Essam\\AppData\\Local\\Temp\\ipykernel_4680\\4155744709.py:32: UserWarning: pandas only supports SQLAlchemy connectable (engine/connection) or database string URI or sqlite3 DBAPI2 connection. Other DBAPI2 objects are not tested. Please consider using SQLAlchemy.\n",
      "  df = pd.read_sql(query, conn, params=[project_name])\n"
     ]
    },
    {
     "name": "stdout",
     "output_type": "stream",
     "text": [
      "Created Ministries Buildings  0060.xlsx\n",
      "Created MDF Factory  0147.xlsx\n",
      "Created EMAAR-PKG#85-UPTOWN  0073.xlsx\n",
      "Created EMAAR-PKG117- MARASSI  0071.xlsx\n",
      "Created Alfa New Central Labs  0154.xlsx\n",
      "Created British International School  0203.xlsx\n",
      "Created October Under-Railway Tunnel  0175.xlsx\n",
      "Created SODIC Allegria Villa f100  0177.xlsx\n",
      "Created ElSewedy HQ Internal Finishing  0141.xlsx\n",
      "Created October Dry Port Railway  0153.xlsx\n",
      "Created Abu Sultan Road Extension  0075.xlsx\n",
      "Created ACWA POWER & NOMAC HQ  0213..xlsx\n",
      "Error: Cannot save file into a non-existent directory: 'NREA Gulf El Zayt120 MW (FIEM)  GMSA\\GZWF'\n"
     ]
    }
   ],
   "source": [
    "import pyodbc\n",
    "import pandas as pd\n",
    "\n",
    "def connect_to_sql_server(server, database, user, password):\n",
    "    \"\"\"Connects to a SQL Server database and returns a connection object.\"\"\"\n",
    "    conn_str = (\n",
    "        r'DRIVER={SQL Server};'\n",
    "        r'SERVER=' + server + ';'\n",
    "        r'DATABASE=' + database + ';'\n",
    "        r'UID=' + user + ';'\n",
    "        r'PWD=' + password + ';'\n",
    "    )\n",
    "    conn = pyodbc.connect(conn_str)\n",
    "    return conn\n",
    "\n",
    "def get_unique_projects(conn):\n",
    "    \"\"\"Gets a unique list of projects from the project_name column.\"\"\"\n",
    "    query = \"SELECT DISTINCT project_name FROM [omar.rme1].[dbo].[ap_check]\"\n",
    "    cursor = conn.cursor()\n",
    "    cursor.execute(query)\n",
    "    projects = [row[0] for row in cursor.fetchall()]\n",
    "    cursor.close()\n",
    "    return projects\n",
    "\n",
    "def get_project_data(conn, project_name):\n",
    "    \"\"\"Gets all data related to a specific project.\"\"\"\n",
    "    query = f\"\"\"\n",
    "        SELECT *\n",
    "        FROM [omar.rme1].[dbo].[ap_check]\n",
    "        WHERE project_name = ?\n",
    "    \"\"\"\n",
    "    df = pd.read_sql(query, conn, params=[project_name])\n",
    "    return df\n",
    "\n",
    "def create_excel_files(conn, projects):\n",
    "    \"\"\"Creates an Excel file for each project with its related data.\"\"\"\n",
    "    for project in projects:\n",
    "        df = get_project_data(conn, project)\n",
    "        file_name = f\"{project}.xlsx\"\n",
    "        df.to_excel(file_name, index=False)\n",
    "        print(f\"Created {file_name}\")\n",
    "\n",
    "if __name__ == \"__main__\":\n",
    "    server = '10.10.11.241'\n",
    "    database = 'omar.rme1'\n",
    "    user = 'yasser'\n",
    "    password = 'yasser123'\n",
    "\n",
    "    try:\n",
    "        conn = connect_to_sql_server(server, database, user, password)\n",
    "        projects = get_unique_projects(conn)\n",
    "        create_excel_files(conn, projects)\n",
    "\n",
    "    except Exception as e:\n",
    "        print(\"Error:\", e)\n",
    "    finally:\n",
    "        if conn:\n",
    "            conn.close()\n"
   ]
  }
 ],
 "metadata": {
  "kernelspec": {
   "display_name": "Python 3",
   "language": "python",
   "name": "python3"
  },
  "language_info": {
   "codemirror_mode": {
    "name": "ipython",
    "version": 3
   },
   "file_extension": ".py",
   "mimetype": "text/x-python",
   "name": "python",
   "nbconvert_exporter": "python",
   "pygments_lexer": "ipython3",
   "version": "3.12.5"
  }
 },
 "nbformat": 4,
 "nbformat_minor": 2
}
