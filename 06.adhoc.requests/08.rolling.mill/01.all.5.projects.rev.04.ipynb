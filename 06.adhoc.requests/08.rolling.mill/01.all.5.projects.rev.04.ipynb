{
 "cells": [
  {
   "cell_type": "code",
   "execution_count": 15,
   "metadata": {},
   "outputs": [
    {
     "name": "stdout",
     "output_type": "stream",
     "text": [
      "Connected to SQL Server successfully!\n"
     ]
    }
   ],
   "source": [
    "import pandas as pd\n",
    "from sqlalchemy import create_engine, text \n",
    "\n",
    "def execute_query(conn, query):\n",
    "    \"\"\"Executes a SQL query using the provided connection and returns the results as a list of tuples.\"\"\"\n",
    "    result = conn.execute(text(query))  # Execute the query directly\n",
    "\n",
    "    # Get column names\n",
    "    columns = result.keys()  # Get column names from the result object\n",
    "    print(\"Columns returned by the query:\", columns)\n",
    "\n",
    "    # Fetch all rows\n",
    "    rows = result.fetchall()\n",
    "\n",
    "    # Print the shape of the results for debugging\n",
    "    print(\"Shape of results:\", len(rows), \"rows,\", len(rows[0]) if rows else 0, \"columns\")\n",
    "\n",
    "    # Print the first few rows of the results\n",
    "    print(\"First few rows of results:\", rows[:5])  # Adjust the number of rows as needed\n",
    "\n",
    "    return rows  # Return the fetched rows\n",
    "\n",
    "# Database connection details\n",
    "server = '10.10.11.241'\n",
    "database = 'omar.rme1'\n",
    "user = 'omar'\n",
    "password = 'omar123'\n",
    "\n",
    "# Create SQLAlchemy engine\n",
    "connection_string = f'mssql+pyodbc://{user}:{password}@{server}/{database}?driver=SQL+Server'\n",
    "engine = create_engine(connection_string)\n",
    "\n",
    "try:\n",
    "    # Check if the connection is successful\n",
    "    with engine.connect() as conn:  # Use a context manager to handle the connection\n",
    "        print(\"Connected to SQL Server successfully!\")\n",
    "\n",
    "except Exception as e:\n",
    "    print(\"Error connecting to SQL Server:\", e)"
   ]
  },
  {
   "cell_type": "code",
   "execution_count": 2,
   "metadata": {},
   "outputs": [
    {
     "name": "stdout",
     "output_type": "stream",
     "text": [
      "project_no  TotalAmount\n",
      "       144 856974103.92\n",
      "       172 596670367.19\n",
      "       173  42772299.35\n",
      "       184 300843751.02\n",
      "       198 122307643.32\n"
     ]
    }
   ],
   "source": [
    "import pandas as pd\n",
    "\n",
    "# SQL query to sum amounts for each project\n",
    "query = \"\"\"\n",
    "SELECT project_no, SUM(amount) AS TotalAmount\n",
    "FROM [omar.rme1].[dbo].[cost_dist]\n",
    "WHERE project_no IN ('144', '173', '172', '184', '198')\n",
    "GROUP BY project_no;\n",
    "\"\"\"\n",
    "\n",
    "try:\n",
    "    # Execute the query using SQLAlchemy's execute method\n",
    "    with engine.connect() as conn:\n",
    "        result = conn.execute(text(query))  # Use text() to wrap the query\n",
    "\n",
    "        # Fetch all rows and column names\n",
    "        rows = result.fetchall()\n",
    "        columns = result.keys()\n",
    "\n",
    "        # Create a DataFrame from the results\n",
    "        df = pd.DataFrame(rows, columns=columns)\n",
    "\n",
    "    # Display the DataFrame\n",
    "    print(df.to_string(index=False))  # Display without the index for cleaner output\n",
    "\n",
    "except Exception as e:\n",
    "    print(\"Error executing query:\", e)"
   ]
  },
  {
   "cell_type": "code",
   "execution_count": 3,
   "metadata": {},
   "outputs": [
    {
     "data": {
      "application/vnd.plotly.v1+json": {
       "config": {
        "plotlyServerURL": "https://plot.ly"
       },
       "data": [
        {
         "alignmentgroup": "True",
         "hovertemplate": "Project=%{x}<br>Total Amount=%{y}<extra></extra>",
         "legendgroup": "",
         "marker": {
          "color": "#636efa",
          "pattern": {
           "shape": ""
          }
         },
         "name": "",
         "offsetgroup": "",
         "orientation": "v",
         "showlegend": false,
         "textposition": "auto",
         "type": "bar",
         "x": [
          "144 - EGAT Pelletizing Plant",
          "172 - Egat Rolling Mill no.4",
          "173 - EGAT Lock & Load",
          "184 - SSC Suez Steel Company Project",
          "198 - EGAT Mechanical Installations"
         ],
         "xaxis": "x",
         "y": [
          856974103.9200002,
          596670367.1899999,
          42772299.35,
          300843751.0199999,
          122307643.31999996
         ],
         "yaxis": "y"
        }
       ],
       "layout": {
        "annotations": [
         {
          "showarrow": false,
          "text": "856,974,103",
          "x": "144 - EGAT Pelletizing Plant",
          "y": 856974103.9200002,
          "yshift": 10
         },
         {
          "showarrow": false,
          "text": "596,670,367",
          "x": "172 - Egat Rolling Mill no.4",
          "y": 596670367.1899999,
          "yshift": 10
         },
         {
          "showarrow": false,
          "text": "42,772,299",
          "x": "173 - EGAT Lock & Load",
          "y": 42772299.35,
          "yshift": 10
         },
         {
          "showarrow": false,
          "text": "300,843,751",
          "x": "184 - SSC Suez Steel Company Project",
          "y": 300843751.0199999,
          "yshift": 10
         },
         {
          "showarrow": false,
          "text": "122,307,643",
          "x": "198 - EGAT Mechanical Installations",
          "y": 122307643.31999996,
          "yshift": 10
         }
        ],
        "barmode": "relative",
        "legend": {
         "tracegroupgap": 0
        },
        "template": {
         "data": {
          "bar": [
           {
            "error_x": {
             "color": "#2a3f5f"
            },
            "error_y": {
             "color": "#2a3f5f"
            },
            "marker": {
             "line": {
              "color": "#E5ECF6",
              "width": 0.5
             },
             "pattern": {
              "fillmode": "overlay",
              "size": 10,
              "solidity": 0.2
             }
            },
            "type": "bar"
           }
          ],
          "barpolar": [
           {
            "marker": {
             "line": {
              "color": "#E5ECF6",
              "width": 0.5
             },
             "pattern": {
              "fillmode": "overlay",
              "size": 10,
              "solidity": 0.2
             }
            },
            "type": "barpolar"
           }
          ],
          "carpet": [
           {
            "aaxis": {
             "endlinecolor": "#2a3f5f",
             "gridcolor": "white",
             "linecolor": "white",
             "minorgridcolor": "white",
             "startlinecolor": "#2a3f5f"
            },
            "baxis": {
             "endlinecolor": "#2a3f5f",
             "gridcolor": "white",
             "linecolor": "white",
             "minorgridcolor": "white",
             "startlinecolor": "#2a3f5f"
            },
            "type": "carpet"
           }
          ],
          "choropleth": [
           {
            "colorbar": {
             "outlinewidth": 0,
             "ticks": ""
            },
            "type": "choropleth"
           }
          ],
          "contour": [
           {
            "colorbar": {
             "outlinewidth": 0,
             "ticks": ""
            },
            "colorscale": [
             [
              0,
              "#0d0887"
             ],
             [
              0.1111111111111111,
              "#46039f"
             ],
             [
              0.2222222222222222,
              "#7201a8"
             ],
             [
              0.3333333333333333,
              "#9c179e"
             ],
             [
              0.4444444444444444,
              "#bd3786"
             ],
             [
              0.5555555555555556,
              "#d8576b"
             ],
             [
              0.6666666666666666,
              "#ed7953"
             ],
             [
              0.7777777777777778,
              "#fb9f3a"
             ],
             [
              0.8888888888888888,
              "#fdca26"
             ],
             [
              1,
              "#f0f921"
             ]
            ],
            "type": "contour"
           }
          ],
          "contourcarpet": [
           {
            "colorbar": {
             "outlinewidth": 0,
             "ticks": ""
            },
            "type": "contourcarpet"
           }
          ],
          "heatmap": [
           {
            "colorbar": {
             "outlinewidth": 0,
             "ticks": ""
            },
            "colorscale": [
             [
              0,
              "#0d0887"
             ],
             [
              0.1111111111111111,
              "#46039f"
             ],
             [
              0.2222222222222222,
              "#7201a8"
             ],
             [
              0.3333333333333333,
              "#9c179e"
             ],
             [
              0.4444444444444444,
              "#bd3786"
             ],
             [
              0.5555555555555556,
              "#d8576b"
             ],
             [
              0.6666666666666666,
              "#ed7953"
             ],
             [
              0.7777777777777778,
              "#fb9f3a"
             ],
             [
              0.8888888888888888,
              "#fdca26"
             ],
             [
              1,
              "#f0f921"
             ]
            ],
            "type": "heatmap"
           }
          ],
          "heatmapgl": [
           {
            "colorbar": {
             "outlinewidth": 0,
             "ticks": ""
            },
            "colorscale": [
             [
              0,
              "#0d0887"
             ],
             [
              0.1111111111111111,
              "#46039f"
             ],
             [
              0.2222222222222222,
              "#7201a8"
             ],
             [
              0.3333333333333333,
              "#9c179e"
             ],
             [
              0.4444444444444444,
              "#bd3786"
             ],
             [
              0.5555555555555556,
              "#d8576b"
             ],
             [
              0.6666666666666666,
              "#ed7953"
             ],
             [
              0.7777777777777778,
              "#fb9f3a"
             ],
             [
              0.8888888888888888,
              "#fdca26"
             ],
             [
              1,
              "#f0f921"
             ]
            ],
            "type": "heatmapgl"
           }
          ],
          "histogram": [
           {
            "marker": {
             "pattern": {
              "fillmode": "overlay",
              "size": 10,
              "solidity": 0.2
             }
            },
            "type": "histogram"
           }
          ],
          "histogram2d": [
           {
            "colorbar": {
             "outlinewidth": 0,
             "ticks": ""
            },
            "colorscale": [
             [
              0,
              "#0d0887"
             ],
             [
              0.1111111111111111,
              "#46039f"
             ],
             [
              0.2222222222222222,
              "#7201a8"
             ],
             [
              0.3333333333333333,
              "#9c179e"
             ],
             [
              0.4444444444444444,
              "#bd3786"
             ],
             [
              0.5555555555555556,
              "#d8576b"
             ],
             [
              0.6666666666666666,
              "#ed7953"
             ],
             [
              0.7777777777777778,
              "#fb9f3a"
             ],
             [
              0.8888888888888888,
              "#fdca26"
             ],
             [
              1,
              "#f0f921"
             ]
            ],
            "type": "histogram2d"
           }
          ],
          "histogram2dcontour": [
           {
            "colorbar": {
             "outlinewidth": 0,
             "ticks": ""
            },
            "colorscale": [
             [
              0,
              "#0d0887"
             ],
             [
              0.1111111111111111,
              "#46039f"
             ],
             [
              0.2222222222222222,
              "#7201a8"
             ],
             [
              0.3333333333333333,
              "#9c179e"
             ],
             [
              0.4444444444444444,
              "#bd3786"
             ],
             [
              0.5555555555555556,
              "#d8576b"
             ],
             [
              0.6666666666666666,
              "#ed7953"
             ],
             [
              0.7777777777777778,
              "#fb9f3a"
             ],
             [
              0.8888888888888888,
              "#fdca26"
             ],
             [
              1,
              "#f0f921"
             ]
            ],
            "type": "histogram2dcontour"
           }
          ],
          "mesh3d": [
           {
            "colorbar": {
             "outlinewidth": 0,
             "ticks": ""
            },
            "type": "mesh3d"
           }
          ],
          "parcoords": [
           {
            "line": {
             "colorbar": {
              "outlinewidth": 0,
              "ticks": ""
             }
            },
            "type": "parcoords"
           }
          ],
          "pie": [
           {
            "automargin": true,
            "type": "pie"
           }
          ],
          "scatter": [
           {
            "fillpattern": {
             "fillmode": "overlay",
             "size": 10,
             "solidity": 0.2
            },
            "type": "scatter"
           }
          ],
          "scatter3d": [
           {
            "line": {
             "colorbar": {
              "outlinewidth": 0,
              "ticks": ""
             }
            },
            "marker": {
             "colorbar": {
              "outlinewidth": 0,
              "ticks": ""
             }
            },
            "type": "scatter3d"
           }
          ],
          "scattercarpet": [
           {
            "marker": {
             "colorbar": {
              "outlinewidth": 0,
              "ticks": ""
             }
            },
            "type": "scattercarpet"
           }
          ],
          "scattergeo": [
           {
            "marker": {
             "colorbar": {
              "outlinewidth": 0,
              "ticks": ""
             }
            },
            "type": "scattergeo"
           }
          ],
          "scattergl": [
           {
            "marker": {
             "colorbar": {
              "outlinewidth": 0,
              "ticks": ""
             }
            },
            "type": "scattergl"
           }
          ],
          "scattermapbox": [
           {
            "marker": {
             "colorbar": {
              "outlinewidth": 0,
              "ticks": ""
             }
            },
            "type": "scattermapbox"
           }
          ],
          "scatterpolar": [
           {
            "marker": {
             "colorbar": {
              "outlinewidth": 0,
              "ticks": ""
             }
            },
            "type": "scatterpolar"
           }
          ],
          "scatterpolargl": [
           {
            "marker": {
             "colorbar": {
              "outlinewidth": 0,
              "ticks": ""
             }
            },
            "type": "scatterpolargl"
           }
          ],
          "scatterternary": [
           {
            "marker": {
             "colorbar": {
              "outlinewidth": 0,
              "ticks": ""
             }
            },
            "type": "scatterternary"
           }
          ],
          "surface": [
           {
            "colorbar": {
             "outlinewidth": 0,
             "ticks": ""
            },
            "colorscale": [
             [
              0,
              "#0d0887"
             ],
             [
              0.1111111111111111,
              "#46039f"
             ],
             [
              0.2222222222222222,
              "#7201a8"
             ],
             [
              0.3333333333333333,
              "#9c179e"
             ],
             [
              0.4444444444444444,
              "#bd3786"
             ],
             [
              0.5555555555555556,
              "#d8576b"
             ],
             [
              0.6666666666666666,
              "#ed7953"
             ],
             [
              0.7777777777777778,
              "#fb9f3a"
             ],
             [
              0.8888888888888888,
              "#fdca26"
             ],
             [
              1,
              "#f0f921"
             ]
            ],
            "type": "surface"
           }
          ],
          "table": [
           {
            "cells": {
             "fill": {
              "color": "#EBF0F8"
             },
             "line": {
              "color": "white"
             }
            },
            "header": {
             "fill": {
              "color": "#C8D4E3"
             },
             "line": {
              "color": "white"
             }
            },
            "type": "table"
           }
          ]
         },
         "layout": {
          "annotationdefaults": {
           "arrowcolor": "#2a3f5f",
           "arrowhead": 0,
           "arrowwidth": 1
          },
          "autotypenumbers": "strict",
          "coloraxis": {
           "colorbar": {
            "outlinewidth": 0,
            "ticks": ""
           }
          },
          "colorscale": {
           "diverging": [
            [
             0,
             "#8e0152"
            ],
            [
             0.1,
             "#c51b7d"
            ],
            [
             0.2,
             "#de77ae"
            ],
            [
             0.3,
             "#f1b6da"
            ],
            [
             0.4,
             "#fde0ef"
            ],
            [
             0.5,
             "#f7f7f7"
            ],
            [
             0.6,
             "#e6f5d0"
            ],
            [
             0.7,
             "#b8e186"
            ],
            [
             0.8,
             "#7fbc41"
            ],
            [
             0.9,
             "#4d9221"
            ],
            [
             1,
             "#276419"
            ]
           ],
           "sequential": [
            [
             0,
             "#0d0887"
            ],
            [
             0.1111111111111111,
             "#46039f"
            ],
            [
             0.2222222222222222,
             "#7201a8"
            ],
            [
             0.3333333333333333,
             "#9c179e"
            ],
            [
             0.4444444444444444,
             "#bd3786"
            ],
            [
             0.5555555555555556,
             "#d8576b"
            ],
            [
             0.6666666666666666,
             "#ed7953"
            ],
            [
             0.7777777777777778,
             "#fb9f3a"
            ],
            [
             0.8888888888888888,
             "#fdca26"
            ],
            [
             1,
             "#f0f921"
            ]
           ],
           "sequentialminus": [
            [
             0,
             "#0d0887"
            ],
            [
             0.1111111111111111,
             "#46039f"
            ],
            [
             0.2222222222222222,
             "#7201a8"
            ],
            [
             0.3333333333333333,
             "#9c179e"
            ],
            [
             0.4444444444444444,
             "#bd3786"
            ],
            [
             0.5555555555555556,
             "#d8576b"
            ],
            [
             0.6666666666666666,
             "#ed7953"
            ],
            [
             0.7777777777777778,
             "#fb9f3a"
            ],
            [
             0.8888888888888888,
             "#fdca26"
            ],
            [
             1,
             "#f0f921"
            ]
           ]
          },
          "colorway": [
           "#636efa",
           "#EF553B",
           "#00cc96",
           "#ab63fa",
           "#FFA15A",
           "#19d3f3",
           "#FF6692",
           "#B6E880",
           "#FF97FF",
           "#FECB52"
          ],
          "font": {
           "color": "#2a3f5f"
          },
          "geo": {
           "bgcolor": "white",
           "lakecolor": "white",
           "landcolor": "#E5ECF6",
           "showlakes": true,
           "showland": true,
           "subunitcolor": "white"
          },
          "hoverlabel": {
           "align": "left"
          },
          "hovermode": "closest",
          "mapbox": {
           "style": "light"
          },
          "paper_bgcolor": "white",
          "plot_bgcolor": "#E5ECF6",
          "polar": {
           "angularaxis": {
            "gridcolor": "white",
            "linecolor": "white",
            "ticks": ""
           },
           "bgcolor": "#E5ECF6",
           "radialaxis": {
            "gridcolor": "white",
            "linecolor": "white",
            "ticks": ""
           }
          },
          "scene": {
           "xaxis": {
            "backgroundcolor": "#E5ECF6",
            "gridcolor": "white",
            "gridwidth": 2,
            "linecolor": "white",
            "showbackground": true,
            "ticks": "",
            "zerolinecolor": "white"
           },
           "yaxis": {
            "backgroundcolor": "#E5ECF6",
            "gridcolor": "white",
            "gridwidth": 2,
            "linecolor": "white",
            "showbackground": true,
            "ticks": "",
            "zerolinecolor": "white"
           },
           "zaxis": {
            "backgroundcolor": "#E5ECF6",
            "gridcolor": "white",
            "gridwidth": 2,
            "linecolor": "white",
            "showbackground": true,
            "ticks": "",
            "zerolinecolor": "white"
           }
          },
          "shapedefaults": {
           "line": {
            "color": "#2a3f5f"
           }
          },
          "ternary": {
           "aaxis": {
            "gridcolor": "white",
            "linecolor": "white",
            "ticks": ""
           },
           "baxis": {
            "gridcolor": "white",
            "linecolor": "white",
            "ticks": ""
           },
           "bgcolor": "#E5ECF6",
           "caxis": {
            "gridcolor": "white",
            "linecolor": "white",
            "ticks": ""
           }
          },
          "title": {
           "x": 0.05
          },
          "xaxis": {
           "automargin": true,
           "gridcolor": "white",
           "linecolor": "white",
           "ticks": "",
           "title": {
            "standoff": 15
           },
           "zerolinecolor": "white",
           "zerolinewidth": 2
          },
          "yaxis": {
           "automargin": true,
           "gridcolor": "white",
           "linecolor": "white",
           "ticks": "",
           "title": {
            "standoff": 15
           },
           "zerolinecolor": "white",
           "zerolinewidth": 2
          }
         }
        },
        "title": {
         "text": "Total Amount by Project (Total: 1,919,568,164)"
        },
        "width": 800,
        "xaxis": {
         "anchor": "y",
         "domain": [
          0,
          1
         ],
         "title": {
          "text": "Project"
         }
        },
        "yaxis": {
         "anchor": "x",
         "domain": [
          0,
          1
         ],
         "title": {
          "text": "Total Amount"
         }
        }
       }
      }
     },
     "metadata": {},
     "output_type": "display_data"
    }
   ],
   "source": [
    "import plotly.express as px\n",
    "import plotly.io as pio\n",
    "import sqlalchemy\n",
    "\n",
    "# 1. SQL query to fetch project_no and project_name\n",
    "query_names = \"\"\"\n",
    "SELECT DISTINCT project_no, project_name \n",
    "FROM [omar.rme1].[dbo].[cost_dist]\n",
    "WHERE project_no IN ('144', '173', '172', '184', '198'); \n",
    "\"\"\"\n",
    "\n",
    "# 2. Execute the query using pd.read_sql and the connection string\n",
    "df_names = pd.read_sql(query_names, connection_string) \n",
    "\n",
    "# 3. Merge DataFrames using 'project_no' as the key\n",
    "df_merged = pd.merge(df, df_names, on='project_no', how='left')\n",
    "\n",
    "# 4. Fill in missing values with 0\n",
    "df_merged.fillna(0, inplace=True)\n",
    "\n",
    "# 5. Combine project_no and project_name for labels\n",
    "df_merged['Project'] = df_merged['project_no'] + ' - ' + df_merged['project_name']\n",
    "\n",
    "# 6. Calculate total cost\n",
    "total_cost = df_merged['TotalAmount'].sum()\n",
    "\n",
    "# 7. Create bar chart with adjusted width, project numbers in labels, and annotations\n",
    "fig = px.bar(\n",
    "    df_merged, \n",
    "    x='Project', \n",
    "    y='TotalAmount',\n",
    "    title=f'Total Amount by Project (Total: {int(total_cost):,})',  # Format total_cost with commas, no decimals\n",
    "    labels={'project_name': 'Project', 'TotalAmount': 'Total Amount'}\n",
    ")\n",
    "\n",
    "# Add annotations (text labels) to each bar with comma formatting and no decimals\n",
    "for i, row in df_merged.iterrows():\n",
    "    fig.add_annotation(\n",
    "        x=row['Project'],\n",
    "        y=row['TotalAmount'],\n",
    "        text=f\"{int(row['TotalAmount']):,}\",  # Convert to integer (remove decimals) and format with commas\n",
    "        showarrow=False,\n",
    "        yshift=10, \n",
    "    )\n",
    "\n",
    "# Customize layout\n",
    "fig.update_layout(width=800) \n",
    "\n",
    "# 8. Display chart\n",
    "fig.write_html('total_amount_by_project_bar_chart.html')\n",
    "fig.show()"
   ]
  },
  {
   "cell_type": "code",
   "execution_count": 4,
   "metadata": {},
   "outputs": [
    {
     "name": "stdout",
     "output_type": "stream",
     "text": [
      "Columns returned by the query: RMKeyView(['project_no', 'supplier_name', 'TotalAmount'])\n",
      "Shape of results: 347 rows, 3 columns\n",
      "First few rows of results: [('144', 'Staff Loan', 274181577.1100003), ('144', None, 272591965.47000027), ('144', 'Miscellaneous supplier', 54742415.94000004), ('144', 'ابو النصر لصتدير وتاجير المعدات-احمد عادل محمد فتحى ابراهيم ابو النصر', 42419560.059999995), ('144', 'السويدي للخرسانة الجاهزة', 23168751.6)]\n"
     ]
    },
    {
     "data": {
      "application/vnd.plotly.v1+json": {
       "config": {
        "plotlyServerURL": "https://plot.ly"
       },
       "data": [
        {
         "alignmentgroup": "True",
         "hovertemplate": "Supplier=%{x}<br>Total Amount=%{y}<extra></extra>",
         "legendgroup": "",
         "marker": {
          "color": "#636efa",
          "pattern": {
           "shape": ""
          }
         },
         "name": "",
         "offsetgroup": "",
         "orientation": "v",
         "showlegend": false,
         "textposition": "auto",
         "type": "bar",
         "x": [
          "Staff Loan",
          null,
          "Miscellaneous supplier",
          "ابو النصر لصتدير وتاجير المعدات-احمد عادل محمد فتحى ابراهيم ابو النصر",
          "السويدي للخرسانة الجاهزة",
          "نيو الصقر للرحلات الداخليه",
          "Petty Cash",
          "كينج ترافيل -مريت مينا فهيم ميخائيل",
          "مكتب سالم عيد",
          "حمدى محمود دياب غطاس"
         ],
         "xaxis": "x",
         "y": [
          274181577.1100003,
          272591965.47000027,
          54742415.94000004,
          42419560.059999995,
          23168751.6,
          22016093.310000002,
          16869950.12,
          15998445.890000002,
          15684271.850000003,
          8956304.729999999
         ],
         "yaxis": "y"
        },
        {
         "alignmentgroup": "True",
         "hovertemplate": "Supplier=%{x}<br>Total Amount=%{y}<extra></extra>",
         "legendgroup": "",
         "marker": {
          "color": "#636efa",
          "pattern": {
           "shape": ""
          }
         },
         "name": "",
         "offsetgroup": "",
         "orientation": "v",
         "showlegend": false,
         "textposition": "auto",
         "type": "bar",
         "x": [
          null,
          "Staff Loan",
          "Miscellaneous supplier",
          "السويدي للخرسانة الجاهزة",
          "مكسيم للمقاولات العموميه",
          "سرابيوم للمقاولات",
          "شركة السويس للصلب",
          "Petty Cash",
          "امكو-على وهبي وشركاه",
          "احمد ابو خطوه وردانى عبد الله"
         ],
         "xaxis": "x2",
         "y": [
          366241470.02999943,
          77923159.09,
          35555831.550000004,
          29502004.129999995,
          16236490.059999997,
          13862393.569999993,
          10539468.709999997,
          3680878.4200000004,
          3270670.34,
          2840615.54
         ],
         "yaxis": "y2"
        },
        {
         "alignmentgroup": "True",
         "hovertemplate": "Supplier=%{x}<br>Total Amount=%{y}<extra></extra>",
         "legendgroup": "",
         "marker": {
          "color": "#636efa",
          "pattern": {
           "shape": ""
          }
         },
         "name": "",
         "offsetgroup": "",
         "orientation": "v",
         "showlegend": false,
         "textposition": "auto",
         "type": "bar",
         "x": [
          null,
          "Miscellaneous supplier",
          "الفتح للمقاولات والاستشارات الهندسيه",
          "سرابيوم للمقاولات",
          "Staff Loan",
          "نيو الصقر للرحلات الداخليه",
          "مصر لتنمية المحاجر",
          "محمد احمد محمد محمد",
          "Lock+Load Retaining Walls Ltd",
          "زمزم للمقاولات والتوريدات"
         ],
         "xaxis": "x3",
         "y": [
          19096025.170000024,
          8694386.969999999,
          6905965.47,
          2529079.31,
          1687030.75,
          880619.3600000001,
          479655.65,
          345824.15,
          297206.4,
          276110.37000000005
         ],
         "yaxis": "y3"
        },
        {
         "alignmentgroup": "True",
         "hovertemplate": "Supplier=%{x}<br>Total Amount=%{y}<extra></extra>",
         "legendgroup": "",
         "marker": {
          "color": "#636efa",
          "pattern": {
           "shape": ""
          }
         },
         "name": "",
         "offsetgroup": "",
         "orientation": "v",
         "showlegend": false,
         "textposition": "auto",
         "type": "bar",
         "x": [
          null,
          "اكيوريت للمقاولات الكهربائية المتكاملة",
          "Staff Loan",
          "القنصوة جروب للمقاولات والتوكيلات التجارية والاستيراد والتصدير",
          "Miscellaneous supplier",
          "Petty Cash",
          "مؤسسة الفارس للمقاولات والتويدات العموميه",
          "امكو-على وهبي وشركاه",
          "سرابيوم للمقاولات",
          "المدين للمقاولات العموميه"
         ],
         "xaxis": "x4",
         "y": [
          226576665.81999958,
          21349754.049999997,
          11739987.110000001,
          10149716.280000003,
          9462427.749999989,
          3682004.0599999996,
          3151370.38,
          1951926.6199999999,
          1885160.5800000003,
          1697586.73
         ],
         "yaxis": "y4"
        },
        {
         "alignmentgroup": "True",
         "hovertemplate": "Supplier=%{x}<br>Total Amount=%{y}<extra></extra>",
         "legendgroup": "",
         "marker": {
          "color": "#636efa",
          "pattern": {
           "shape": ""
          }
         },
         "name": "",
         "offsetgroup": "",
         "orientation": "v",
         "showlegend": false,
         "textposition": "auto",
         "type": "bar",
         "x": [
          "اى ان بى ايجيبت ال ال سى",
          "المهد للمقاولات الهندسيه",
          null,
          "Miscellaneous supplier",
          "Petty Cash",
          "جى.اى.جى للتأمين - مصر",
          "مؤسسة الفتح للتوريدات العموميه"
         ],
         "xaxis": "x5",
         "y": [
          67898300.54,
          48586717.870000005,
          4024368.229999999,
          1556590.3200000008,
          228494.5,
          13200,
          -28.14
         ],
         "yaxis": "y5"
        }
       ],
       "layout": {
        "annotations": [
         {
          "font": {
           "size": 16
          },
          "showarrow": false,
          "text": "144 - EGAT Pelletizing Plant",
          "x": 0.5,
          "xanchor": "center",
          "xref": "paper",
          "y": 1,
          "yanchor": "bottom",
          "yref": "paper"
         },
         {
          "font": {
           "size": 16
          },
          "showarrow": false,
          "text": "172 - Egat Rolling Mill no.4",
          "x": 0.5,
          "xanchor": "center",
          "xref": "paper",
          "y": 0.78,
          "yanchor": "bottom",
          "yref": "paper"
         },
         {
          "font": {
           "size": 16
          },
          "showarrow": false,
          "text": "173 - EGAT Lock & Load",
          "x": 0.5,
          "xanchor": "center",
          "xref": "paper",
          "y": 0.56,
          "yanchor": "bottom",
          "yref": "paper"
         },
         {
          "font": {
           "size": 16
          },
          "showarrow": false,
          "text": "184 - SSC Suez Steel Company Project",
          "x": 0.5,
          "xanchor": "center",
          "xref": "paper",
          "y": 0.33999999999999997,
          "yanchor": "bottom",
          "yref": "paper"
         },
         {
          "font": {
           "size": 16
          },
          "showarrow": false,
          "text": "198 - EGAT Mechanical Installations",
          "x": 0.5,
          "xanchor": "center",
          "xref": "paper",
          "y": 0.12,
          "yanchor": "bottom",
          "yref": "paper"
         }
        ],
        "height": 1500,
        "showlegend": false,
        "template": {
         "data": {
          "bar": [
           {
            "error_x": {
             "color": "#2a3f5f"
            },
            "error_y": {
             "color": "#2a3f5f"
            },
            "marker": {
             "line": {
              "color": "#E5ECF6",
              "width": 0.5
             },
             "pattern": {
              "fillmode": "overlay",
              "size": 10,
              "solidity": 0.2
             }
            },
            "type": "bar"
           }
          ],
          "barpolar": [
           {
            "marker": {
             "line": {
              "color": "#E5ECF6",
              "width": 0.5
             },
             "pattern": {
              "fillmode": "overlay",
              "size": 10,
              "solidity": 0.2
             }
            },
            "type": "barpolar"
           }
          ],
          "carpet": [
           {
            "aaxis": {
             "endlinecolor": "#2a3f5f",
             "gridcolor": "white",
             "linecolor": "white",
             "minorgridcolor": "white",
             "startlinecolor": "#2a3f5f"
            },
            "baxis": {
             "endlinecolor": "#2a3f5f",
             "gridcolor": "white",
             "linecolor": "white",
             "minorgridcolor": "white",
             "startlinecolor": "#2a3f5f"
            },
            "type": "carpet"
           }
          ],
          "choropleth": [
           {
            "colorbar": {
             "outlinewidth": 0,
             "ticks": ""
            },
            "type": "choropleth"
           }
          ],
          "contour": [
           {
            "colorbar": {
             "outlinewidth": 0,
             "ticks": ""
            },
            "colorscale": [
             [
              0,
              "#0d0887"
             ],
             [
              0.1111111111111111,
              "#46039f"
             ],
             [
              0.2222222222222222,
              "#7201a8"
             ],
             [
              0.3333333333333333,
              "#9c179e"
             ],
             [
              0.4444444444444444,
              "#bd3786"
             ],
             [
              0.5555555555555556,
              "#d8576b"
             ],
             [
              0.6666666666666666,
              "#ed7953"
             ],
             [
              0.7777777777777778,
              "#fb9f3a"
             ],
             [
              0.8888888888888888,
              "#fdca26"
             ],
             [
              1,
              "#f0f921"
             ]
            ],
            "type": "contour"
           }
          ],
          "contourcarpet": [
           {
            "colorbar": {
             "outlinewidth": 0,
             "ticks": ""
            },
            "type": "contourcarpet"
           }
          ],
          "heatmap": [
           {
            "colorbar": {
             "outlinewidth": 0,
             "ticks": ""
            },
            "colorscale": [
             [
              0,
              "#0d0887"
             ],
             [
              0.1111111111111111,
              "#46039f"
             ],
             [
              0.2222222222222222,
              "#7201a8"
             ],
             [
              0.3333333333333333,
              "#9c179e"
             ],
             [
              0.4444444444444444,
              "#bd3786"
             ],
             [
              0.5555555555555556,
              "#d8576b"
             ],
             [
              0.6666666666666666,
              "#ed7953"
             ],
             [
              0.7777777777777778,
              "#fb9f3a"
             ],
             [
              0.8888888888888888,
              "#fdca26"
             ],
             [
              1,
              "#f0f921"
             ]
            ],
            "type": "heatmap"
           }
          ],
          "heatmapgl": [
           {
            "colorbar": {
             "outlinewidth": 0,
             "ticks": ""
            },
            "colorscale": [
             [
              0,
              "#0d0887"
             ],
             [
              0.1111111111111111,
              "#46039f"
             ],
             [
              0.2222222222222222,
              "#7201a8"
             ],
             [
              0.3333333333333333,
              "#9c179e"
             ],
             [
              0.4444444444444444,
              "#bd3786"
             ],
             [
              0.5555555555555556,
              "#d8576b"
             ],
             [
              0.6666666666666666,
              "#ed7953"
             ],
             [
              0.7777777777777778,
              "#fb9f3a"
             ],
             [
              0.8888888888888888,
              "#fdca26"
             ],
             [
              1,
              "#f0f921"
             ]
            ],
            "type": "heatmapgl"
           }
          ],
          "histogram": [
           {
            "marker": {
             "pattern": {
              "fillmode": "overlay",
              "size": 10,
              "solidity": 0.2
             }
            },
            "type": "histogram"
           }
          ],
          "histogram2d": [
           {
            "colorbar": {
             "outlinewidth": 0,
             "ticks": ""
            },
            "colorscale": [
             [
              0,
              "#0d0887"
             ],
             [
              0.1111111111111111,
              "#46039f"
             ],
             [
              0.2222222222222222,
              "#7201a8"
             ],
             [
              0.3333333333333333,
              "#9c179e"
             ],
             [
              0.4444444444444444,
              "#bd3786"
             ],
             [
              0.5555555555555556,
              "#d8576b"
             ],
             [
              0.6666666666666666,
              "#ed7953"
             ],
             [
              0.7777777777777778,
              "#fb9f3a"
             ],
             [
              0.8888888888888888,
              "#fdca26"
             ],
             [
              1,
              "#f0f921"
             ]
            ],
            "type": "histogram2d"
           }
          ],
          "histogram2dcontour": [
           {
            "colorbar": {
             "outlinewidth": 0,
             "ticks": ""
            },
            "colorscale": [
             [
              0,
              "#0d0887"
             ],
             [
              0.1111111111111111,
              "#46039f"
             ],
             [
              0.2222222222222222,
              "#7201a8"
             ],
             [
              0.3333333333333333,
              "#9c179e"
             ],
             [
              0.4444444444444444,
              "#bd3786"
             ],
             [
              0.5555555555555556,
              "#d8576b"
             ],
             [
              0.6666666666666666,
              "#ed7953"
             ],
             [
              0.7777777777777778,
              "#fb9f3a"
             ],
             [
              0.8888888888888888,
              "#fdca26"
             ],
             [
              1,
              "#f0f921"
             ]
            ],
            "type": "histogram2dcontour"
           }
          ],
          "mesh3d": [
           {
            "colorbar": {
             "outlinewidth": 0,
             "ticks": ""
            },
            "type": "mesh3d"
           }
          ],
          "parcoords": [
           {
            "line": {
             "colorbar": {
              "outlinewidth": 0,
              "ticks": ""
             }
            },
            "type": "parcoords"
           }
          ],
          "pie": [
           {
            "automargin": true,
            "type": "pie"
           }
          ],
          "scatter": [
           {
            "fillpattern": {
             "fillmode": "overlay",
             "size": 10,
             "solidity": 0.2
            },
            "type": "scatter"
           }
          ],
          "scatter3d": [
           {
            "line": {
             "colorbar": {
              "outlinewidth": 0,
              "ticks": ""
             }
            },
            "marker": {
             "colorbar": {
              "outlinewidth": 0,
              "ticks": ""
             }
            },
            "type": "scatter3d"
           }
          ],
          "scattercarpet": [
           {
            "marker": {
             "colorbar": {
              "outlinewidth": 0,
              "ticks": ""
             }
            },
            "type": "scattercarpet"
           }
          ],
          "scattergeo": [
           {
            "marker": {
             "colorbar": {
              "outlinewidth": 0,
              "ticks": ""
             }
            },
            "type": "scattergeo"
           }
          ],
          "scattergl": [
           {
            "marker": {
             "colorbar": {
              "outlinewidth": 0,
              "ticks": ""
             }
            },
            "type": "scattergl"
           }
          ],
          "scattermapbox": [
           {
            "marker": {
             "colorbar": {
              "outlinewidth": 0,
              "ticks": ""
             }
            },
            "type": "scattermapbox"
           }
          ],
          "scatterpolar": [
           {
            "marker": {
             "colorbar": {
              "outlinewidth": 0,
              "ticks": ""
             }
            },
            "type": "scatterpolar"
           }
          ],
          "scatterpolargl": [
           {
            "marker": {
             "colorbar": {
              "outlinewidth": 0,
              "ticks": ""
             }
            },
            "type": "scatterpolargl"
           }
          ],
          "scatterternary": [
           {
            "marker": {
             "colorbar": {
              "outlinewidth": 0,
              "ticks": ""
             }
            },
            "type": "scatterternary"
           }
          ],
          "surface": [
           {
            "colorbar": {
             "outlinewidth": 0,
             "ticks": ""
            },
            "colorscale": [
             [
              0,
              "#0d0887"
             ],
             [
              0.1111111111111111,
              "#46039f"
             ],
             [
              0.2222222222222222,
              "#7201a8"
             ],
             [
              0.3333333333333333,
              "#9c179e"
             ],
             [
              0.4444444444444444,
              "#bd3786"
             ],
             [
              0.5555555555555556,
              "#d8576b"
             ],
             [
              0.6666666666666666,
              "#ed7953"
             ],
             [
              0.7777777777777778,
              "#fb9f3a"
             ],
             [
              0.8888888888888888,
              "#fdca26"
             ],
             [
              1,
              "#f0f921"
             ]
            ],
            "type": "surface"
           }
          ],
          "table": [
           {
            "cells": {
             "fill": {
              "color": "#EBF0F8"
             },
             "line": {
              "color": "white"
             }
            },
            "header": {
             "fill": {
              "color": "#C8D4E3"
             },
             "line": {
              "color": "white"
             }
            },
            "type": "table"
           }
          ]
         },
         "layout": {
          "annotationdefaults": {
           "arrowcolor": "#2a3f5f",
           "arrowhead": 0,
           "arrowwidth": 1
          },
          "autotypenumbers": "strict",
          "coloraxis": {
           "colorbar": {
            "outlinewidth": 0,
            "ticks": ""
           }
          },
          "colorscale": {
           "diverging": [
            [
             0,
             "#8e0152"
            ],
            [
             0.1,
             "#c51b7d"
            ],
            [
             0.2,
             "#de77ae"
            ],
            [
             0.3,
             "#f1b6da"
            ],
            [
             0.4,
             "#fde0ef"
            ],
            [
             0.5,
             "#f7f7f7"
            ],
            [
             0.6,
             "#e6f5d0"
            ],
            [
             0.7,
             "#b8e186"
            ],
            [
             0.8,
             "#7fbc41"
            ],
            [
             0.9,
             "#4d9221"
            ],
            [
             1,
             "#276419"
            ]
           ],
           "sequential": [
            [
             0,
             "#0d0887"
            ],
            [
             0.1111111111111111,
             "#46039f"
            ],
            [
             0.2222222222222222,
             "#7201a8"
            ],
            [
             0.3333333333333333,
             "#9c179e"
            ],
            [
             0.4444444444444444,
             "#bd3786"
            ],
            [
             0.5555555555555556,
             "#d8576b"
            ],
            [
             0.6666666666666666,
             "#ed7953"
            ],
            [
             0.7777777777777778,
             "#fb9f3a"
            ],
            [
             0.8888888888888888,
             "#fdca26"
            ],
            [
             1,
             "#f0f921"
            ]
           ],
           "sequentialminus": [
            [
             0,
             "#0d0887"
            ],
            [
             0.1111111111111111,
             "#46039f"
            ],
            [
             0.2222222222222222,
             "#7201a8"
            ],
            [
             0.3333333333333333,
             "#9c179e"
            ],
            [
             0.4444444444444444,
             "#bd3786"
            ],
            [
             0.5555555555555556,
             "#d8576b"
            ],
            [
             0.6666666666666666,
             "#ed7953"
            ],
            [
             0.7777777777777778,
             "#fb9f3a"
            ],
            [
             0.8888888888888888,
             "#fdca26"
            ],
            [
             1,
             "#f0f921"
            ]
           ]
          },
          "colorway": [
           "#636efa",
           "#EF553B",
           "#00cc96",
           "#ab63fa",
           "#FFA15A",
           "#19d3f3",
           "#FF6692",
           "#B6E880",
           "#FF97FF",
           "#FECB52"
          ],
          "font": {
           "color": "#2a3f5f"
          },
          "geo": {
           "bgcolor": "white",
           "lakecolor": "white",
           "landcolor": "#E5ECF6",
           "showlakes": true,
           "showland": true,
           "subunitcolor": "white"
          },
          "hoverlabel": {
           "align": "left"
          },
          "hovermode": "closest",
          "mapbox": {
           "style": "light"
          },
          "paper_bgcolor": "white",
          "plot_bgcolor": "#E5ECF6",
          "polar": {
           "angularaxis": {
            "gridcolor": "white",
            "linecolor": "white",
            "ticks": ""
           },
           "bgcolor": "#E5ECF6",
           "radialaxis": {
            "gridcolor": "white",
            "linecolor": "white",
            "ticks": ""
           }
          },
          "scene": {
           "xaxis": {
            "backgroundcolor": "#E5ECF6",
            "gridcolor": "white",
            "gridwidth": 2,
            "linecolor": "white",
            "showbackground": true,
            "ticks": "",
            "zerolinecolor": "white"
           },
           "yaxis": {
            "backgroundcolor": "#E5ECF6",
            "gridcolor": "white",
            "gridwidth": 2,
            "linecolor": "white",
            "showbackground": true,
            "ticks": "",
            "zerolinecolor": "white"
           },
           "zaxis": {
            "backgroundcolor": "#E5ECF6",
            "gridcolor": "white",
            "gridwidth": 2,
            "linecolor": "white",
            "showbackground": true,
            "ticks": "",
            "zerolinecolor": "white"
           }
          },
          "shapedefaults": {
           "line": {
            "color": "#2a3f5f"
           }
          },
          "ternary": {
           "aaxis": {
            "gridcolor": "white",
            "linecolor": "white",
            "ticks": ""
           },
           "baxis": {
            "gridcolor": "white",
            "linecolor": "white",
            "ticks": ""
           },
           "bgcolor": "#E5ECF6",
           "caxis": {
            "gridcolor": "white",
            "linecolor": "white",
            "ticks": ""
           }
          },
          "title": {
           "x": 0.05
          },
          "xaxis": {
           "automargin": true,
           "gridcolor": "white",
           "linecolor": "white",
           "ticks": "",
           "title": {
            "standoff": 15
           },
           "zerolinecolor": "white",
           "zerolinewidth": 2
          },
          "yaxis": {
           "automargin": true,
           "gridcolor": "white",
           "linecolor": "white",
           "ticks": "",
           "title": {
            "standoff": 15
           },
           "zerolinecolor": "white",
           "zerolinewidth": 2
          }
         }
        },
        "title": {
         "text": "Top 10 Suppliers by Project"
        },
        "width": 800,
        "xaxis": {
         "anchor": "y",
         "domain": [
          0,
          1
         ],
         "title": {
          "text": "Supplier Name"
         }
        },
        "xaxis2": {
         "anchor": "y2",
         "domain": [
          0,
          1
         ],
         "title": {
          "text": "Supplier Name"
         }
        },
        "xaxis3": {
         "anchor": "y3",
         "domain": [
          0,
          1
         ],
         "title": {
          "text": "Supplier Name"
         }
        },
        "xaxis4": {
         "anchor": "y4",
         "domain": [
          0,
          1
         ],
         "title": {
          "text": "Supplier Name"
         }
        },
        "xaxis5": {
         "anchor": "y5",
         "domain": [
          0,
          1
         ],
         "title": {
          "text": "Supplier Name"
         }
        },
        "yaxis": {
         "anchor": "x",
         "domain": [
          0.88,
          1
         ],
         "title": {
          "text": "Total Amount"
         }
        },
        "yaxis2": {
         "anchor": "x2",
         "domain": [
          0.66,
          0.78
         ],
         "title": {
          "text": "Total Amount"
         }
        },
        "yaxis3": {
         "anchor": "x3",
         "domain": [
          0.44,
          0.56
         ],
         "title": {
          "text": "Total Amount"
         }
        },
        "yaxis4": {
         "anchor": "x4",
         "domain": [
          0.22,
          0.33999999999999997
         ],
         "title": {
          "text": "Total Amount"
         }
        },
        "yaxis5": {
         "anchor": "x5",
         "domain": [
          0,
          0.12
         ],
         "title": {
          "text": "Total Amount"
         }
        }
       }
      }
     },
     "metadata": {},
     "output_type": "display_data"
    }
   ],
   "source": [
    "import plotly.express as px\n",
    "import plotly.subplots as sp\n",
    "\n",
    "# 1. SQL query to get top 10 suppliers for each project\n",
    "query_top_suppliers = \"\"\"\n",
    "SELECT project_no, supplier_name, SUM(amount) AS TotalAmount\n",
    "FROM [omar.rme1].[dbo].[cost_dist]\n",
    "WHERE project_no IN ('144', '173', '172', '184', '198')\n",
    "GROUP BY project_no, supplier_name\n",
    "ORDER BY project_no, TotalAmount DESC\n",
    "\"\"\"\n",
    "\n",
    "# 2. Execute the query\n",
    "with engine.connect() as conn:\n",
    "    results_top_suppliers = execute_query(conn, query_top_suppliers)\n",
    "\n",
    "# 3. Create DataFrame for top suppliers\n",
    "df_top_suppliers = pd.DataFrame(results_top_suppliers, columns=['project_no', 'supplier_name', 'TotalAmount'])\n",
    "\n",
    "# 4. Get the project names from df_merged (assuming it's available from the 3rd cell)\n",
    "project_names_dict = df_merged.set_index('project_no')['project_name'].to_dict()\n",
    "\n",
    "# 5. Create a subplot for each project, arranged vertically, with project number and name in titles\n",
    "fig = sp.make_subplots(\n",
    "    rows=5, \n",
    "    cols=1, \n",
    "    subplot_titles=[f\"{proj} - {project_names_dict[proj]}\" for proj in df['project_no'].unique()]\n",
    ")\n",
    "\n",
    "# 6. Iterate through each project and create a bar chart for its top 10 suppliers\n",
    "for i, project_no in enumerate(df['project_no'].unique()):\n",
    "    # Filter data for the current project and get top 10 suppliers\n",
    "    project_data = df_top_suppliers[df_top_suppliers['project_no'] == project_no].nlargest(10, 'TotalAmount')\n",
    "\n",
    "    # Create the bar chart and add it to the subplot\n",
    "    fig.add_trace(\n",
    "        px.bar(\n",
    "            project_data, \n",
    "            x='supplier_name', \n",
    "            y='TotalAmount',\n",
    "            labels={'supplier_name': 'Supplier', 'TotalAmount': 'Total Amount'}\n",
    "        ).data[0],\n",
    "        row=i+1, col=1 \n",
    "    )\n",
    "\n",
    "    # Update layout for the subplot\n",
    "    fig.update_xaxes(title_text='Supplier Name', row=i+1, col=1)\n",
    "    fig.update_yaxes(title_text='Total Amount', row=i+1, col=1)\n",
    "\n",
    "# 7. Adjust the overall layout\n",
    "fig.update_layout(\n",
    "    height=1500, \n",
    "    width=800,\n",
    "    showlegend=False,\n",
    "    title_text=\"Top 10 Suppliers by Project\"\n",
    ")\n",
    "\n",
    "# 8. Display chart\n",
    "fig.write_html('top_10_suppliers_by_project.html')\n",
    "fig.show()"
   ]
  },
  {
   "cell_type": "code",
   "execution_count": 5,
   "metadata": {},
   "outputs": [
    {
     "name": "stdout",
     "output_type": "stream",
     "text": [
      "Columns returned by the query: RMKeyView(['project_no', 'expenditure_type', 'TotalAmount'])\n",
      "Shape of results: 265 rows, 3 columns\n",
      "First few rows of results: [('144', 'Tools', 240794810.08), ('144', 'Subcontractor', 164534537.6899997), ('144', 'Hirings daily wages', 155780705.25000003), ('144', 'Site Staff', 65975102.07), ('144', 'Hirings Payrool', 55954280.09999998)]\n"
     ]
    },
    {
     "data": {
      "application/vnd.plotly.v1+json": {
       "config": {
        "plotlyServerURL": "https://plot.ly"
       },
       "data": [
        {
         "domain": {
          "x": [
           0,
           1
          ],
          "y": [
           0.88,
           1
          ]
         },
         "hovertemplate": "expenditure_type=%{label}<br>TotalAmount=%{value}<extra></extra>",
         "labels": [
          "Tools",
          "Subcontractor",
          "Hirings daily wages",
          "Site Staff",
          "Hirings Payrool",
          "Materials",
          "Rented Cars",
          "Accomodation",
          "Tools Depreciation",
          "Material Transportation"
         ],
         "legendgroup": "",
         "name": "",
         "showlegend": true,
         "textinfo": "percent+label",
         "textposition": "inside",
         "type": "pie",
         "values": [
          240794810.08,
          164534537.6899997,
          155780705.25000003,
          65975102.07,
          55954280.09999998,
          50428084.76000005,
          22344431.010000005,
          13902605.559999999,
          10023226.02,
          9349269.819999997
         ]
        },
        {
         "domain": {
          "x": [
           0,
           1
          ],
          "y": [
           0.66,
           0.78
          ]
         },
         "hovertemplate": "expenditure_type=%{label}<br>TotalAmount=%{value}<extra></extra>",
         "labels": [
          "Tools",
          "Subcontractor",
          "Materials",
          "Hirings Payrool",
          "Hirings daily wages",
          "Subcontracts",
          "Tools Depreciation",
          "Concrete Pump",
          "Scafolder",
          "Site Staff"
         ],
         "legendgroup": "",
         "name": "",
         "showlegend": true,
         "textinfo": "percent+label",
         "textposition": "inside",
         "type": "pie",
         "values": [
          363062484.34,
          65430784.38000001,
          51831099.53,
          42136802.72000001,
          30286171.050000004,
          10394322.049999999,
          6001043.890000005,
          5324919.09,
          3807088.6,
          3754883.18
         ]
        },
        {
         "domain": {
          "x": [
           0,
           1
          ],
          "y": [
           0.44,
           0.56
          ]
         },
         "hovertemplate": "expenditure_type=%{label}<br>TotalAmount=%{value}<extra></extra>",
         "labels": [
          "Materials",
          "Subcontractor",
          "Tools",
          "Hirings daily wages",
          "Fees - stamp",
          "Rented Cars",
          "Site Staff",
          "Accomodation",
          "Machines Depreciation",
          "Rent Allowance"
         ],
         "legendgroup": "",
         "name": "",
         "showlegend": true,
         "textinfo": "percent+label",
         "textposition": "inside",
         "type": "pie",
         "values": [
          20219709.739999983,
          11778237.279999997,
          6104922.709999998,
          1665478.3399999999,
          870253.6499999999,
          727719.48,
          398491.45999999996,
          265615,
          225493.92000000004,
          199554
         ]
        },
        {
         "domain": {
          "x": [
           0,
           1
          ],
          "y": [
           0.22,
           0.33999999999999997
          ]
         },
         "hovertemplate": "expenditure_type=%{label}<br>TotalAmount=%{value}<extra></extra>",
         "labels": [
          "Tools",
          "Subcontractor",
          "Hirings Payrool",
          "Projects Social Insurance",
          "Penalty",
          "Fees - stamp",
          "Tools Depreciation",
          "Scaffolder",
          "Accomodation",
          "Rent Allowance"
         ],
         "legendgroup": "",
         "name": "",
         "showlegend": true,
         "textinfo": "percent+label",
         "textposition": "inside",
         "type": "pie",
         "values": [
          224856900.8199994,
          50220153.199999996,
          11045941.300000004,
          3152350.9999999995,
          1515215.23,
          1363442.34,
          1130359.1199999999,
          1119192.7,
          880565,
          831450
         ]
        },
        {
         "domain": {
          "x": [
           0,
           1
          ],
          "y": [
           0,
           0.12
          ]
         },
         "hovertemplate": "expenditure_type=%{label}<br>TotalAmount=%{value}<extra></extra>",
         "labels": [
          "Subcontractor",
          "Tools",
          "Materials",
          "Penalty- Labors",
          "Tools Depreciation",
          "Fees - stamp",
          "Maintenance",
          "Machines Depreciation",
          "Consultancy",
          "Computers Depreciation"
         ],
         "legendgroup": "",
         "name": "",
         "showlegend": true,
         "textinfo": "percent+label",
         "textposition": "inside",
         "type": "pie",
         "values": [
          120008396.40999998,
          2449647.1999999993,
          1574645.2899999993,
          440088.76999999996,
          343888.1699999999,
          316961.76,
          173845.85,
          163587.32,
          125784.64,
          75413.74000000003
         ]
        }
       ],
       "layout": {
        "annotations": [
         {
          "font": {
           "size": 16
          },
          "showarrow": false,
          "text": "144 - EGAT Pelletizing Plant",
          "x": 0.5,
          "xanchor": "center",
          "xref": "paper",
          "y": 1,
          "yanchor": "bottom",
          "yref": "paper"
         },
         {
          "font": {
           "size": 16
          },
          "showarrow": false,
          "text": "172 - Egat Rolling Mill no.4",
          "x": 0.5,
          "xanchor": "center",
          "xref": "paper",
          "y": 0.78,
          "yanchor": "bottom",
          "yref": "paper"
         },
         {
          "font": {
           "size": 16
          },
          "showarrow": false,
          "text": "173 - EGAT Lock & Load",
          "x": 0.5,
          "xanchor": "center",
          "xref": "paper",
          "y": 0.56,
          "yanchor": "bottom",
          "yref": "paper"
         },
         {
          "font": {
           "size": 16
          },
          "showarrow": false,
          "text": "184 - SSC Suez Steel Company Project",
          "x": 0.5,
          "xanchor": "center",
          "xref": "paper",
          "y": 0.33999999999999997,
          "yanchor": "bottom",
          "yref": "paper"
         },
         {
          "font": {
           "size": 16
          },
          "showarrow": false,
          "text": "198 - EGAT Mechanical Installations",
          "x": 0.5,
          "xanchor": "center",
          "xref": "paper",
          "y": 0.12,
          "yanchor": "bottom",
          "yref": "paper"
         }
        ],
        "height": 2000,
        "showlegend": true,
        "template": {
         "data": {
          "bar": [
           {
            "error_x": {
             "color": "#2a3f5f"
            },
            "error_y": {
             "color": "#2a3f5f"
            },
            "marker": {
             "line": {
              "color": "#E5ECF6",
              "width": 0.5
             },
             "pattern": {
              "fillmode": "overlay",
              "size": 10,
              "solidity": 0.2
             }
            },
            "type": "bar"
           }
          ],
          "barpolar": [
           {
            "marker": {
             "line": {
              "color": "#E5ECF6",
              "width": 0.5
             },
             "pattern": {
              "fillmode": "overlay",
              "size": 10,
              "solidity": 0.2
             }
            },
            "type": "barpolar"
           }
          ],
          "carpet": [
           {
            "aaxis": {
             "endlinecolor": "#2a3f5f",
             "gridcolor": "white",
             "linecolor": "white",
             "minorgridcolor": "white",
             "startlinecolor": "#2a3f5f"
            },
            "baxis": {
             "endlinecolor": "#2a3f5f",
             "gridcolor": "white",
             "linecolor": "white",
             "minorgridcolor": "white",
             "startlinecolor": "#2a3f5f"
            },
            "type": "carpet"
           }
          ],
          "choropleth": [
           {
            "colorbar": {
             "outlinewidth": 0,
             "ticks": ""
            },
            "type": "choropleth"
           }
          ],
          "contour": [
           {
            "colorbar": {
             "outlinewidth": 0,
             "ticks": ""
            },
            "colorscale": [
             [
              0,
              "#0d0887"
             ],
             [
              0.1111111111111111,
              "#46039f"
             ],
             [
              0.2222222222222222,
              "#7201a8"
             ],
             [
              0.3333333333333333,
              "#9c179e"
             ],
             [
              0.4444444444444444,
              "#bd3786"
             ],
             [
              0.5555555555555556,
              "#d8576b"
             ],
             [
              0.6666666666666666,
              "#ed7953"
             ],
             [
              0.7777777777777778,
              "#fb9f3a"
             ],
             [
              0.8888888888888888,
              "#fdca26"
             ],
             [
              1,
              "#f0f921"
             ]
            ],
            "type": "contour"
           }
          ],
          "contourcarpet": [
           {
            "colorbar": {
             "outlinewidth": 0,
             "ticks": ""
            },
            "type": "contourcarpet"
           }
          ],
          "heatmap": [
           {
            "colorbar": {
             "outlinewidth": 0,
             "ticks": ""
            },
            "colorscale": [
             [
              0,
              "#0d0887"
             ],
             [
              0.1111111111111111,
              "#46039f"
             ],
             [
              0.2222222222222222,
              "#7201a8"
             ],
             [
              0.3333333333333333,
              "#9c179e"
             ],
             [
              0.4444444444444444,
              "#bd3786"
             ],
             [
              0.5555555555555556,
              "#d8576b"
             ],
             [
              0.6666666666666666,
              "#ed7953"
             ],
             [
              0.7777777777777778,
              "#fb9f3a"
             ],
             [
              0.8888888888888888,
              "#fdca26"
             ],
             [
              1,
              "#f0f921"
             ]
            ],
            "type": "heatmap"
           }
          ],
          "heatmapgl": [
           {
            "colorbar": {
             "outlinewidth": 0,
             "ticks": ""
            },
            "colorscale": [
             [
              0,
              "#0d0887"
             ],
             [
              0.1111111111111111,
              "#46039f"
             ],
             [
              0.2222222222222222,
              "#7201a8"
             ],
             [
              0.3333333333333333,
              "#9c179e"
             ],
             [
              0.4444444444444444,
              "#bd3786"
             ],
             [
              0.5555555555555556,
              "#d8576b"
             ],
             [
              0.6666666666666666,
              "#ed7953"
             ],
             [
              0.7777777777777778,
              "#fb9f3a"
             ],
             [
              0.8888888888888888,
              "#fdca26"
             ],
             [
              1,
              "#f0f921"
             ]
            ],
            "type": "heatmapgl"
           }
          ],
          "histogram": [
           {
            "marker": {
             "pattern": {
              "fillmode": "overlay",
              "size": 10,
              "solidity": 0.2
             }
            },
            "type": "histogram"
           }
          ],
          "histogram2d": [
           {
            "colorbar": {
             "outlinewidth": 0,
             "ticks": ""
            },
            "colorscale": [
             [
              0,
              "#0d0887"
             ],
             [
              0.1111111111111111,
              "#46039f"
             ],
             [
              0.2222222222222222,
              "#7201a8"
             ],
             [
              0.3333333333333333,
              "#9c179e"
             ],
             [
              0.4444444444444444,
              "#bd3786"
             ],
             [
              0.5555555555555556,
              "#d8576b"
             ],
             [
              0.6666666666666666,
              "#ed7953"
             ],
             [
              0.7777777777777778,
              "#fb9f3a"
             ],
             [
              0.8888888888888888,
              "#fdca26"
             ],
             [
              1,
              "#f0f921"
             ]
            ],
            "type": "histogram2d"
           }
          ],
          "histogram2dcontour": [
           {
            "colorbar": {
             "outlinewidth": 0,
             "ticks": ""
            },
            "colorscale": [
             [
              0,
              "#0d0887"
             ],
             [
              0.1111111111111111,
              "#46039f"
             ],
             [
              0.2222222222222222,
              "#7201a8"
             ],
             [
              0.3333333333333333,
              "#9c179e"
             ],
             [
              0.4444444444444444,
              "#bd3786"
             ],
             [
              0.5555555555555556,
              "#d8576b"
             ],
             [
              0.6666666666666666,
              "#ed7953"
             ],
             [
              0.7777777777777778,
              "#fb9f3a"
             ],
             [
              0.8888888888888888,
              "#fdca26"
             ],
             [
              1,
              "#f0f921"
             ]
            ],
            "type": "histogram2dcontour"
           }
          ],
          "mesh3d": [
           {
            "colorbar": {
             "outlinewidth": 0,
             "ticks": ""
            },
            "type": "mesh3d"
           }
          ],
          "parcoords": [
           {
            "line": {
             "colorbar": {
              "outlinewidth": 0,
              "ticks": ""
             }
            },
            "type": "parcoords"
           }
          ],
          "pie": [
           {
            "automargin": true,
            "type": "pie"
           }
          ],
          "scatter": [
           {
            "fillpattern": {
             "fillmode": "overlay",
             "size": 10,
             "solidity": 0.2
            },
            "type": "scatter"
           }
          ],
          "scatter3d": [
           {
            "line": {
             "colorbar": {
              "outlinewidth": 0,
              "ticks": ""
             }
            },
            "marker": {
             "colorbar": {
              "outlinewidth": 0,
              "ticks": ""
             }
            },
            "type": "scatter3d"
           }
          ],
          "scattercarpet": [
           {
            "marker": {
             "colorbar": {
              "outlinewidth": 0,
              "ticks": ""
             }
            },
            "type": "scattercarpet"
           }
          ],
          "scattergeo": [
           {
            "marker": {
             "colorbar": {
              "outlinewidth": 0,
              "ticks": ""
             }
            },
            "type": "scattergeo"
           }
          ],
          "scattergl": [
           {
            "marker": {
             "colorbar": {
              "outlinewidth": 0,
              "ticks": ""
             }
            },
            "type": "scattergl"
           }
          ],
          "scattermapbox": [
           {
            "marker": {
             "colorbar": {
              "outlinewidth": 0,
              "ticks": ""
             }
            },
            "type": "scattermapbox"
           }
          ],
          "scatterpolar": [
           {
            "marker": {
             "colorbar": {
              "outlinewidth": 0,
              "ticks": ""
             }
            },
            "type": "scatterpolar"
           }
          ],
          "scatterpolargl": [
           {
            "marker": {
             "colorbar": {
              "outlinewidth": 0,
              "ticks": ""
             }
            },
            "type": "scatterpolargl"
           }
          ],
          "scatterternary": [
           {
            "marker": {
             "colorbar": {
              "outlinewidth": 0,
              "ticks": ""
             }
            },
            "type": "scatterternary"
           }
          ],
          "surface": [
           {
            "colorbar": {
             "outlinewidth": 0,
             "ticks": ""
            },
            "colorscale": [
             [
              0,
              "#0d0887"
             ],
             [
              0.1111111111111111,
              "#46039f"
             ],
             [
              0.2222222222222222,
              "#7201a8"
             ],
             [
              0.3333333333333333,
              "#9c179e"
             ],
             [
              0.4444444444444444,
              "#bd3786"
             ],
             [
              0.5555555555555556,
              "#d8576b"
             ],
             [
              0.6666666666666666,
              "#ed7953"
             ],
             [
              0.7777777777777778,
              "#fb9f3a"
             ],
             [
              0.8888888888888888,
              "#fdca26"
             ],
             [
              1,
              "#f0f921"
             ]
            ],
            "type": "surface"
           }
          ],
          "table": [
           {
            "cells": {
             "fill": {
              "color": "#EBF0F8"
             },
             "line": {
              "color": "white"
             }
            },
            "header": {
             "fill": {
              "color": "#C8D4E3"
             },
             "line": {
              "color": "white"
             }
            },
            "type": "table"
           }
          ]
         },
         "layout": {
          "annotationdefaults": {
           "arrowcolor": "#2a3f5f",
           "arrowhead": 0,
           "arrowwidth": 1
          },
          "autotypenumbers": "strict",
          "coloraxis": {
           "colorbar": {
            "outlinewidth": 0,
            "ticks": ""
           }
          },
          "colorscale": {
           "diverging": [
            [
             0,
             "#8e0152"
            ],
            [
             0.1,
             "#c51b7d"
            ],
            [
             0.2,
             "#de77ae"
            ],
            [
             0.3,
             "#f1b6da"
            ],
            [
             0.4,
             "#fde0ef"
            ],
            [
             0.5,
             "#f7f7f7"
            ],
            [
             0.6,
             "#e6f5d0"
            ],
            [
             0.7,
             "#b8e186"
            ],
            [
             0.8,
             "#7fbc41"
            ],
            [
             0.9,
             "#4d9221"
            ],
            [
             1,
             "#276419"
            ]
           ],
           "sequential": [
            [
             0,
             "#0d0887"
            ],
            [
             0.1111111111111111,
             "#46039f"
            ],
            [
             0.2222222222222222,
             "#7201a8"
            ],
            [
             0.3333333333333333,
             "#9c179e"
            ],
            [
             0.4444444444444444,
             "#bd3786"
            ],
            [
             0.5555555555555556,
             "#d8576b"
            ],
            [
             0.6666666666666666,
             "#ed7953"
            ],
            [
             0.7777777777777778,
             "#fb9f3a"
            ],
            [
             0.8888888888888888,
             "#fdca26"
            ],
            [
             1,
             "#f0f921"
            ]
           ],
           "sequentialminus": [
            [
             0,
             "#0d0887"
            ],
            [
             0.1111111111111111,
             "#46039f"
            ],
            [
             0.2222222222222222,
             "#7201a8"
            ],
            [
             0.3333333333333333,
             "#9c179e"
            ],
            [
             0.4444444444444444,
             "#bd3786"
            ],
            [
             0.5555555555555556,
             "#d8576b"
            ],
            [
             0.6666666666666666,
             "#ed7953"
            ],
            [
             0.7777777777777778,
             "#fb9f3a"
            ],
            [
             0.8888888888888888,
             "#fdca26"
            ],
            [
             1,
             "#f0f921"
            ]
           ]
          },
          "colorway": [
           "#636efa",
           "#EF553B",
           "#00cc96",
           "#ab63fa",
           "#FFA15A",
           "#19d3f3",
           "#FF6692",
           "#B6E880",
           "#FF97FF",
           "#FECB52"
          ],
          "font": {
           "color": "#2a3f5f"
          },
          "geo": {
           "bgcolor": "white",
           "lakecolor": "white",
           "landcolor": "#E5ECF6",
           "showlakes": true,
           "showland": true,
           "subunitcolor": "white"
          },
          "hoverlabel": {
           "align": "left"
          },
          "hovermode": "closest",
          "mapbox": {
           "style": "light"
          },
          "paper_bgcolor": "white",
          "plot_bgcolor": "#E5ECF6",
          "polar": {
           "angularaxis": {
            "gridcolor": "white",
            "linecolor": "white",
            "ticks": ""
           },
           "bgcolor": "#E5ECF6",
           "radialaxis": {
            "gridcolor": "white",
            "linecolor": "white",
            "ticks": ""
           }
          },
          "scene": {
           "xaxis": {
            "backgroundcolor": "#E5ECF6",
            "gridcolor": "white",
            "gridwidth": 2,
            "linecolor": "white",
            "showbackground": true,
            "ticks": "",
            "zerolinecolor": "white"
           },
           "yaxis": {
            "backgroundcolor": "#E5ECF6",
            "gridcolor": "white",
            "gridwidth": 2,
            "linecolor": "white",
            "showbackground": true,
            "ticks": "",
            "zerolinecolor": "white"
           },
           "zaxis": {
            "backgroundcolor": "#E5ECF6",
            "gridcolor": "white",
            "gridwidth": 2,
            "linecolor": "white",
            "showbackground": true,
            "ticks": "",
            "zerolinecolor": "white"
           }
          },
          "shapedefaults": {
           "line": {
            "color": "#2a3f5f"
           }
          },
          "ternary": {
           "aaxis": {
            "gridcolor": "white",
            "linecolor": "white",
            "ticks": ""
           },
           "baxis": {
            "gridcolor": "white",
            "linecolor": "white",
            "ticks": ""
           },
           "bgcolor": "#E5ECF6",
           "caxis": {
            "gridcolor": "white",
            "linecolor": "white",
            "ticks": ""
           }
          },
          "title": {
           "x": 0.05
          },
          "xaxis": {
           "automargin": true,
           "gridcolor": "white",
           "linecolor": "white",
           "ticks": "",
           "title": {
            "standoff": 15
           },
           "zerolinecolor": "white",
           "zerolinewidth": 2
          },
          "yaxis": {
           "automargin": true,
           "gridcolor": "white",
           "linecolor": "white",
           "ticks": "",
           "title": {
            "standoff": 15
           },
           "zerolinecolor": "white",
           "zerolinewidth": 2
          }
         }
        },
        "title": {
         "text": "Top 10 Expenditure Types by Project"
        },
        "width": 800
       }
      }
     },
     "metadata": {},
     "output_type": "display_data"
    }
   ],
   "source": [
    "import plotly.express as px\n",
    "import plotly.subplots as sp\n",
    "\n",
    "# 1. SQL query to get top 10 expenditure types for each project\n",
    "query_top_expenditures = \"\"\"\n",
    "SELECT project_no, expenditure_type, SUM(amount) AS TotalAmount\n",
    "FROM [omar.rme1].[dbo].[cost_dist]\n",
    "WHERE project_no IN ('144', '173', '172', '184', '198')\n",
    "GROUP BY project_no, expenditure_type\n",
    "ORDER BY project_no, TotalAmount DESC\n",
    "\"\"\"\n",
    "\n",
    "# 2. Execute the query\n",
    "with engine.connect() as conn:\n",
    "    results_top_expenditures = execute_query(conn, query_top_expenditures)\n",
    "\n",
    "# 3. Create DataFrame for top expenditure types\n",
    "df_top_expenditures = pd.DataFrame(results_top_expenditures, columns=['project_no', 'expenditure_type', 'TotalAmount'])\n",
    "\n",
    "# 4. Get the project names from df_merged (assuming it's available from the 3rd cell)\n",
    "# (This line remains the same as in the fourth cell)\n",
    "\n",
    "# 5. Create a subplot for each project, arranged vertically, with project number and name in titles\n",
    "# Specify specs to create subplots of type 'domain' for pie charts\n",
    "fig = sp.make_subplots(\n",
    "    rows=5, \n",
    "    cols=1, \n",
    "    subplot_titles=[f\"{proj} - {project_names_dict[proj]}\" for proj in df['project_no'].unique()],\n",
    "    specs=[[{'type': 'domain'}] for _ in range(5)]  # 5 subplots, each of type 'domain'\n",
    ")\n",
    "\n",
    "# 6. Iterate through each project and create a pie chart for its top 10 expenditure types\n",
    "for i, project_no in enumerate(df['project_no'].unique()):\n",
    "    # Filter data for the current project and get top 10 expenditure types\n",
    "    project_data = df_top_expenditures[df_top_expenditures['project_no'] == project_no].nlargest(10, 'TotalAmount')\n",
    "\n",
    "    # Create the pie chart \n",
    "    pie_chart = px.pie(\n",
    "        project_data, \n",
    "        values='TotalAmount',\n",
    "        names='expenditure_type',\n",
    "        title=f'Top 10 Expenditure Types for Project {project_no}',\n",
    "    )\n",
    "\n",
    "    # Add the trace from the pie chart to the subplot\n",
    "    fig.add_trace(pie_chart.data[0], row=i+1, col=1)\n",
    "\n",
    "# 7. Adjust the overall layout\n",
    "fig.update_layout(\n",
    "    height=2000,  # Adjust height as needed\n",
    "    width=800,\n",
    "    showlegend=True,\n",
    "    title_text=\"Top 10 Expenditure Types by Project\"\n",
    ")\n",
    "\n",
    "# Update layout for traces\n",
    "fig.update_traces(textposition='inside', textinfo='percent+label')\n",
    "\n",
    "# 8. Display chart\n",
    "fig.write_html('top_10_expenditure_types_by_project.html')\n",
    "fig.show()"
   ]
  },
  {
   "cell_type": "code",
   "execution_count": 6,
   "metadata": {},
   "outputs": [
    {
     "name": "stdout",
     "output_type": "stream",
     "text": [
      "Columns returned by the query: RMKeyView(['project_no', 'SteelReinforcementCost'])\n",
      "Shape of results: 2 rows, 2 columns\n",
      "First few rows of results: [('144', 8561778.26), ('172', 10539564.78)]\n"
     ]
    },
    {
     "data": {
      "application/vnd.plotly.v1+json": {
       "config": {
        "plotlyServerURL": "https://plot.ly"
       },
       "data": [
        {
         "alignmentgroup": "True",
         "hovertemplate": "Project=%{x}<br>Steel Reinforcement Cost=%{y}<extra></extra>",
         "legendgroup": "",
         "marker": {
          "color": "#636efa",
          "pattern": {
           "shape": ""
          }
         },
         "name": "",
         "offsetgroup": "",
         "orientation": "v",
         "showlegend": false,
         "textposition": "auto",
         "type": "bar",
         "x": [
          "144 - EGAT Pelletizing Plant",
          "172 - Egat Rolling Mill no.4"
         ],
         "xaxis": "x",
         "y": [
          8561778.26,
          10539564.78
         ],
         "yaxis": "y"
        }
       ],
       "layout": {
        "annotations": [
         {
          "showarrow": false,
          "text": "8,561,778",
          "x": "144 - EGAT Pelletizing Plant",
          "y": 8561778.26,
          "yshift": 10
         },
         {
          "showarrow": false,
          "text": "10,539,564",
          "x": "172 - Egat Rolling Mill no.4",
          "y": 10539564.78,
          "yshift": 10
         }
        ],
        "barmode": "relative",
        "legend": {
         "tracegroupgap": 0
        },
        "template": {
         "data": {
          "bar": [
           {
            "error_x": {
             "color": "#2a3f5f"
            },
            "error_y": {
             "color": "#2a3f5f"
            },
            "marker": {
             "line": {
              "color": "#E5ECF6",
              "width": 0.5
             },
             "pattern": {
              "fillmode": "overlay",
              "size": 10,
              "solidity": 0.2
             }
            },
            "type": "bar"
           }
          ],
          "barpolar": [
           {
            "marker": {
             "line": {
              "color": "#E5ECF6",
              "width": 0.5
             },
             "pattern": {
              "fillmode": "overlay",
              "size": 10,
              "solidity": 0.2
             }
            },
            "type": "barpolar"
           }
          ],
          "carpet": [
           {
            "aaxis": {
             "endlinecolor": "#2a3f5f",
             "gridcolor": "white",
             "linecolor": "white",
             "minorgridcolor": "white",
             "startlinecolor": "#2a3f5f"
            },
            "baxis": {
             "endlinecolor": "#2a3f5f",
             "gridcolor": "white",
             "linecolor": "white",
             "minorgridcolor": "white",
             "startlinecolor": "#2a3f5f"
            },
            "type": "carpet"
           }
          ],
          "choropleth": [
           {
            "colorbar": {
             "outlinewidth": 0,
             "ticks": ""
            },
            "type": "choropleth"
           }
          ],
          "contour": [
           {
            "colorbar": {
             "outlinewidth": 0,
             "ticks": ""
            },
            "colorscale": [
             [
              0,
              "#0d0887"
             ],
             [
              0.1111111111111111,
              "#46039f"
             ],
             [
              0.2222222222222222,
              "#7201a8"
             ],
             [
              0.3333333333333333,
              "#9c179e"
             ],
             [
              0.4444444444444444,
              "#bd3786"
             ],
             [
              0.5555555555555556,
              "#d8576b"
             ],
             [
              0.6666666666666666,
              "#ed7953"
             ],
             [
              0.7777777777777778,
              "#fb9f3a"
             ],
             [
              0.8888888888888888,
              "#fdca26"
             ],
             [
              1,
              "#f0f921"
             ]
            ],
            "type": "contour"
           }
          ],
          "contourcarpet": [
           {
            "colorbar": {
             "outlinewidth": 0,
             "ticks": ""
            },
            "type": "contourcarpet"
           }
          ],
          "heatmap": [
           {
            "colorbar": {
             "outlinewidth": 0,
             "ticks": ""
            },
            "colorscale": [
             [
              0,
              "#0d0887"
             ],
             [
              0.1111111111111111,
              "#46039f"
             ],
             [
              0.2222222222222222,
              "#7201a8"
             ],
             [
              0.3333333333333333,
              "#9c179e"
             ],
             [
              0.4444444444444444,
              "#bd3786"
             ],
             [
              0.5555555555555556,
              "#d8576b"
             ],
             [
              0.6666666666666666,
              "#ed7953"
             ],
             [
              0.7777777777777778,
              "#fb9f3a"
             ],
             [
              0.8888888888888888,
              "#fdca26"
             ],
             [
              1,
              "#f0f921"
             ]
            ],
            "type": "heatmap"
           }
          ],
          "heatmapgl": [
           {
            "colorbar": {
             "outlinewidth": 0,
             "ticks": ""
            },
            "colorscale": [
             [
              0,
              "#0d0887"
             ],
             [
              0.1111111111111111,
              "#46039f"
             ],
             [
              0.2222222222222222,
              "#7201a8"
             ],
             [
              0.3333333333333333,
              "#9c179e"
             ],
             [
              0.4444444444444444,
              "#bd3786"
             ],
             [
              0.5555555555555556,
              "#d8576b"
             ],
             [
              0.6666666666666666,
              "#ed7953"
             ],
             [
              0.7777777777777778,
              "#fb9f3a"
             ],
             [
              0.8888888888888888,
              "#fdca26"
             ],
             [
              1,
              "#f0f921"
             ]
            ],
            "type": "heatmapgl"
           }
          ],
          "histogram": [
           {
            "marker": {
             "pattern": {
              "fillmode": "overlay",
              "size": 10,
              "solidity": 0.2
             }
            },
            "type": "histogram"
           }
          ],
          "histogram2d": [
           {
            "colorbar": {
             "outlinewidth": 0,
             "ticks": ""
            },
            "colorscale": [
             [
              0,
              "#0d0887"
             ],
             [
              0.1111111111111111,
              "#46039f"
             ],
             [
              0.2222222222222222,
              "#7201a8"
             ],
             [
              0.3333333333333333,
              "#9c179e"
             ],
             [
              0.4444444444444444,
              "#bd3786"
             ],
             [
              0.5555555555555556,
              "#d8576b"
             ],
             [
              0.6666666666666666,
              "#ed7953"
             ],
             [
              0.7777777777777778,
              "#fb9f3a"
             ],
             [
              0.8888888888888888,
              "#fdca26"
             ],
             [
              1,
              "#f0f921"
             ]
            ],
            "type": "histogram2d"
           }
          ],
          "histogram2dcontour": [
           {
            "colorbar": {
             "outlinewidth": 0,
             "ticks": ""
            },
            "colorscale": [
             [
              0,
              "#0d0887"
             ],
             [
              0.1111111111111111,
              "#46039f"
             ],
             [
              0.2222222222222222,
              "#7201a8"
             ],
             [
              0.3333333333333333,
              "#9c179e"
             ],
             [
              0.4444444444444444,
              "#bd3786"
             ],
             [
              0.5555555555555556,
              "#d8576b"
             ],
             [
              0.6666666666666666,
              "#ed7953"
             ],
             [
              0.7777777777777778,
              "#fb9f3a"
             ],
             [
              0.8888888888888888,
              "#fdca26"
             ],
             [
              1,
              "#f0f921"
             ]
            ],
            "type": "histogram2dcontour"
           }
          ],
          "mesh3d": [
           {
            "colorbar": {
             "outlinewidth": 0,
             "ticks": ""
            },
            "type": "mesh3d"
           }
          ],
          "parcoords": [
           {
            "line": {
             "colorbar": {
              "outlinewidth": 0,
              "ticks": ""
             }
            },
            "type": "parcoords"
           }
          ],
          "pie": [
           {
            "automargin": true,
            "type": "pie"
           }
          ],
          "scatter": [
           {
            "fillpattern": {
             "fillmode": "overlay",
             "size": 10,
             "solidity": 0.2
            },
            "type": "scatter"
           }
          ],
          "scatter3d": [
           {
            "line": {
             "colorbar": {
              "outlinewidth": 0,
              "ticks": ""
             }
            },
            "marker": {
             "colorbar": {
              "outlinewidth": 0,
              "ticks": ""
             }
            },
            "type": "scatter3d"
           }
          ],
          "scattercarpet": [
           {
            "marker": {
             "colorbar": {
              "outlinewidth": 0,
              "ticks": ""
             }
            },
            "type": "scattercarpet"
           }
          ],
          "scattergeo": [
           {
            "marker": {
             "colorbar": {
              "outlinewidth": 0,
              "ticks": ""
             }
            },
            "type": "scattergeo"
           }
          ],
          "scattergl": [
           {
            "marker": {
             "colorbar": {
              "outlinewidth": 0,
              "ticks": ""
             }
            },
            "type": "scattergl"
           }
          ],
          "scattermapbox": [
           {
            "marker": {
             "colorbar": {
              "outlinewidth": 0,
              "ticks": ""
             }
            },
            "type": "scattermapbox"
           }
          ],
          "scatterpolar": [
           {
            "marker": {
             "colorbar": {
              "outlinewidth": 0,
              "ticks": ""
             }
            },
            "type": "scatterpolar"
           }
          ],
          "scatterpolargl": [
           {
            "marker": {
             "colorbar": {
              "outlinewidth": 0,
              "ticks": ""
             }
            },
            "type": "scatterpolargl"
           }
          ],
          "scatterternary": [
           {
            "marker": {
             "colorbar": {
              "outlinewidth": 0,
              "ticks": ""
             }
            },
            "type": "scatterternary"
           }
          ],
          "surface": [
           {
            "colorbar": {
             "outlinewidth": 0,
             "ticks": ""
            },
            "colorscale": [
             [
              0,
              "#0d0887"
             ],
             [
              0.1111111111111111,
              "#46039f"
             ],
             [
              0.2222222222222222,
              "#7201a8"
             ],
             [
              0.3333333333333333,
              "#9c179e"
             ],
             [
              0.4444444444444444,
              "#bd3786"
             ],
             [
              0.5555555555555556,
              "#d8576b"
             ],
             [
              0.6666666666666666,
              "#ed7953"
             ],
             [
              0.7777777777777778,
              "#fb9f3a"
             ],
             [
              0.8888888888888888,
              "#fdca26"
             ],
             [
              1,
              "#f0f921"
             ]
            ],
            "type": "surface"
           }
          ],
          "table": [
           {
            "cells": {
             "fill": {
              "color": "#EBF0F8"
             },
             "line": {
              "color": "white"
             }
            },
            "header": {
             "fill": {
              "color": "#C8D4E3"
             },
             "line": {
              "color": "white"
             }
            },
            "type": "table"
           }
          ]
         },
         "layout": {
          "annotationdefaults": {
           "arrowcolor": "#2a3f5f",
           "arrowhead": 0,
           "arrowwidth": 1
          },
          "autotypenumbers": "strict",
          "coloraxis": {
           "colorbar": {
            "outlinewidth": 0,
            "ticks": ""
           }
          },
          "colorscale": {
           "diverging": [
            [
             0,
             "#8e0152"
            ],
            [
             0.1,
             "#c51b7d"
            ],
            [
             0.2,
             "#de77ae"
            ],
            [
             0.3,
             "#f1b6da"
            ],
            [
             0.4,
             "#fde0ef"
            ],
            [
             0.5,
             "#f7f7f7"
            ],
            [
             0.6,
             "#e6f5d0"
            ],
            [
             0.7,
             "#b8e186"
            ],
            [
             0.8,
             "#7fbc41"
            ],
            [
             0.9,
             "#4d9221"
            ],
            [
             1,
             "#276419"
            ]
           ],
           "sequential": [
            [
             0,
             "#0d0887"
            ],
            [
             0.1111111111111111,
             "#46039f"
            ],
            [
             0.2222222222222222,
             "#7201a8"
            ],
            [
             0.3333333333333333,
             "#9c179e"
            ],
            [
             0.4444444444444444,
             "#bd3786"
            ],
            [
             0.5555555555555556,
             "#d8576b"
            ],
            [
             0.6666666666666666,
             "#ed7953"
            ],
            [
             0.7777777777777778,
             "#fb9f3a"
            ],
            [
             0.8888888888888888,
             "#fdca26"
            ],
            [
             1,
             "#f0f921"
            ]
           ],
           "sequentialminus": [
            [
             0,
             "#0d0887"
            ],
            [
             0.1111111111111111,
             "#46039f"
            ],
            [
             0.2222222222222222,
             "#7201a8"
            ],
            [
             0.3333333333333333,
             "#9c179e"
            ],
            [
             0.4444444444444444,
             "#bd3786"
            ],
            [
             0.5555555555555556,
             "#d8576b"
            ],
            [
             0.6666666666666666,
             "#ed7953"
            ],
            [
             0.7777777777777778,
             "#fb9f3a"
            ],
            [
             0.8888888888888888,
             "#fdca26"
            ],
            [
             1,
             "#f0f921"
            ]
           ]
          },
          "colorway": [
           "#636efa",
           "#EF553B",
           "#00cc96",
           "#ab63fa",
           "#FFA15A",
           "#19d3f3",
           "#FF6692",
           "#B6E880",
           "#FF97FF",
           "#FECB52"
          ],
          "font": {
           "color": "#2a3f5f"
          },
          "geo": {
           "bgcolor": "white",
           "lakecolor": "white",
           "landcolor": "#E5ECF6",
           "showlakes": true,
           "showland": true,
           "subunitcolor": "white"
          },
          "hoverlabel": {
           "align": "left"
          },
          "hovermode": "closest",
          "mapbox": {
           "style": "light"
          },
          "paper_bgcolor": "white",
          "plot_bgcolor": "#E5ECF6",
          "polar": {
           "angularaxis": {
            "gridcolor": "white",
            "linecolor": "white",
            "ticks": ""
           },
           "bgcolor": "#E5ECF6",
           "radialaxis": {
            "gridcolor": "white",
            "linecolor": "white",
            "ticks": ""
           }
          },
          "scene": {
           "xaxis": {
            "backgroundcolor": "#E5ECF6",
            "gridcolor": "white",
            "gridwidth": 2,
            "linecolor": "white",
            "showbackground": true,
            "ticks": "",
            "zerolinecolor": "white"
           },
           "yaxis": {
            "backgroundcolor": "#E5ECF6",
            "gridcolor": "white",
            "gridwidth": 2,
            "linecolor": "white",
            "showbackground": true,
            "ticks": "",
            "zerolinecolor": "white"
           },
           "zaxis": {
            "backgroundcolor": "#E5ECF6",
            "gridcolor": "white",
            "gridwidth": 2,
            "linecolor": "white",
            "showbackground": true,
            "ticks": "",
            "zerolinecolor": "white"
           }
          },
          "shapedefaults": {
           "line": {
            "color": "#2a3f5f"
           }
          },
          "ternary": {
           "aaxis": {
            "gridcolor": "white",
            "linecolor": "white",
            "ticks": ""
           },
           "baxis": {
            "gridcolor": "white",
            "linecolor": "white",
            "ticks": ""
           },
           "bgcolor": "#E5ECF6",
           "caxis": {
            "gridcolor": "white",
            "linecolor": "white",
            "ticks": ""
           }
          },
          "title": {
           "x": 0.05
          },
          "xaxis": {
           "automargin": true,
           "gridcolor": "white",
           "linecolor": "white",
           "ticks": "",
           "title": {
            "standoff": 15
           },
           "zerolinecolor": "white",
           "zerolinewidth": 2
          },
          "yaxis": {
           "automargin": true,
           "gridcolor": "white",
           "linecolor": "white",
           "ticks": "",
           "title": {
            "standoff": 15
           },
           "zerolinecolor": "white",
           "zerolinewidth": 2
          }
         }
        },
        "title": {
         "text": "Total Steel Reinforcement Cost by Project (Total: 19,101,343)"
        },
        "width": 800,
        "xaxis": {
         "anchor": "y",
         "domain": [
          0,
          1
         ],
         "title": {
          "text": "Project"
         }
        },
        "yaxis": {
         "anchor": "x",
         "domain": [
          0,
          1
         ],
         "title": {
          "text": "Steel Reinforcement Cost"
         }
        }
       }
      }
     },
     "metadata": {},
     "output_type": "display_data"
    }
   ],
   "source": [
    "# Seach for Steel Rft حديد تسليح in \"comment\" column\n",
    "\n",
    "\n",
    "import plotly.express as px\n",
    "\n",
    "# 1. SQL query to get total steel reinforcement cost for each project\n",
    "query_steel_cost = \"\"\"\n",
    "SELECT project_no, SUM(amount) AS SteelReinforcementCost\n",
    "FROM [omar.rme1].[dbo].[cost_dist]\n",
    "WHERE project_no IN ('144', '173', '172', '184', '198')\n",
    "AND comment LIKE N'%حديد تسليح%'\n",
    "GROUP BY project_no;\n",
    "\"\"\"\n",
    "\n",
    "# 2. Execute the query \n",
    "with engine.connect() as conn:\n",
    "    results_steel_cost = execute_query(conn, query_steel_cost)\n",
    "\n",
    "# 3. Create DataFrame for steel reinforcement costs\n",
    "df_steel_cost = pd.DataFrame(results_steel_cost, columns=['project_no', 'SteelReinforcementCost'])\n",
    "\n",
    "# 4. Merge with project names DataFrame\n",
    "df_steel_merged = pd.merge(df_steel_cost, df_names, on='project_no', how='left')\n",
    "\n",
    "# 5. Fill in missing values with 0 (in case some projects have no steel reinforcement)\n",
    "df_steel_merged.fillna(0, inplace=True)\n",
    "\n",
    "# 6. Combine project_no and project_name for labels\n",
    "df_steel_merged['Project'] = df_steel_merged['project_no'] + ' - ' + df_steel_merged['project_name']\n",
    "\n",
    "# 7. Calculate total steel reinforcement cost\n",
    "total_steel_cost = df_steel_merged['SteelReinforcementCost'].sum()\n",
    "\n",
    "# 8. Create bar chart\n",
    "fig = px.bar(\n",
    "    df_steel_merged, \n",
    "    x='Project', \n",
    "    y='SteelReinforcementCost',\n",
    "    title=f'Total Steel Reinforcement Cost by Project (Total: {int(total_steel_cost):,})',\n",
    "    labels={'project_name': 'Project', 'SteelReinforcementCost': 'Steel Reinforcement Cost'}\n",
    ")\n",
    "\n",
    "# Add annotations (text labels) to each bar with comma formatting and no decimals\n",
    "for i, row in df_steel_merged.iterrows():\n",
    "    fig.add_annotation(\n",
    "        x=row['Project'],\n",
    "        y=row['SteelReinforcementCost'],\n",
    "        text=f\"{int(row['SteelReinforcementCost']):,}\",\n",
    "        showarrow=False,\n",
    "        yshift=10, \n",
    "    )\n",
    "\n",
    "# Customize layout\n",
    "fig.update_layout(width=800)\n",
    "\n",
    "# 9. Display or save the chart\n",
    "fig.show()\n",
    "fig.write_html('steel_reinforcement_cost_by_project.html')"
   ]
  },
  {
   "cell_type": "code",
   "execution_count": 7,
   "metadata": {},
   "outputs": [
    {
     "name": "stdout",
     "output_type": "stream",
     "text": [
      "Columns returned by the query: RMKeyView(['project_no', 'SteelReinforcementCost'])\n",
      "Shape of results: 2 rows, 2 columns\n",
      "First few rows of results: [('144', 8561778.26), ('172', 10539564.78)]\n"
     ]
    },
    {
     "data": {
      "application/vnd.plotly.v1+json": {
       "config": {
        "plotlyServerURL": "https://plot.ly"
       },
       "data": [
        {
         "alignmentgroup": "True",
         "hovertemplate": "Project=%{x}<br>Steel Reinforcement Cost=%{y}<extra></extra>",
         "legendgroup": "",
         "marker": {
          "color": "#636efa",
          "pattern": {
           "shape": ""
          }
         },
         "name": "",
         "offsetgroup": "",
         "orientation": "v",
         "showlegend": false,
         "textposition": "auto",
         "type": "bar",
         "x": [
          "144 - EGAT Pelletizing Plant",
          "172 - Egat Rolling Mill no.4"
         ],
         "xaxis": "x",
         "y": [
          8561778.26,
          10539564.78
         ],
         "yaxis": "y"
        }
       ],
       "layout": {
        "annotations": [
         {
          "showarrow": false,
          "text": "8,561,778",
          "x": "144 - EGAT Pelletizing Plant",
          "y": 8561778.26,
          "yshift": 10
         },
         {
          "showarrow": false,
          "text": "10,539,564",
          "x": "172 - Egat Rolling Mill no.4",
          "y": 10539564.78,
          "yshift": 10
         }
        ],
        "barmode": "relative",
        "legend": {
         "tracegroupgap": 0
        },
        "template": {
         "data": {
          "bar": [
           {
            "error_x": {
             "color": "#2a3f5f"
            },
            "error_y": {
             "color": "#2a3f5f"
            },
            "marker": {
             "line": {
              "color": "#E5ECF6",
              "width": 0.5
             },
             "pattern": {
              "fillmode": "overlay",
              "size": 10,
              "solidity": 0.2
             }
            },
            "type": "bar"
           }
          ],
          "barpolar": [
           {
            "marker": {
             "line": {
              "color": "#E5ECF6",
              "width": 0.5
             },
             "pattern": {
              "fillmode": "overlay",
              "size": 10,
              "solidity": 0.2
             }
            },
            "type": "barpolar"
           }
          ],
          "carpet": [
           {
            "aaxis": {
             "endlinecolor": "#2a3f5f",
             "gridcolor": "white",
             "linecolor": "white",
             "minorgridcolor": "white",
             "startlinecolor": "#2a3f5f"
            },
            "baxis": {
             "endlinecolor": "#2a3f5f",
             "gridcolor": "white",
             "linecolor": "white",
             "minorgridcolor": "white",
             "startlinecolor": "#2a3f5f"
            },
            "type": "carpet"
           }
          ],
          "choropleth": [
           {
            "colorbar": {
             "outlinewidth": 0,
             "ticks": ""
            },
            "type": "choropleth"
           }
          ],
          "contour": [
           {
            "colorbar": {
             "outlinewidth": 0,
             "ticks": ""
            },
            "colorscale": [
             [
              0,
              "#0d0887"
             ],
             [
              0.1111111111111111,
              "#46039f"
             ],
             [
              0.2222222222222222,
              "#7201a8"
             ],
             [
              0.3333333333333333,
              "#9c179e"
             ],
             [
              0.4444444444444444,
              "#bd3786"
             ],
             [
              0.5555555555555556,
              "#d8576b"
             ],
             [
              0.6666666666666666,
              "#ed7953"
             ],
             [
              0.7777777777777778,
              "#fb9f3a"
             ],
             [
              0.8888888888888888,
              "#fdca26"
             ],
             [
              1,
              "#f0f921"
             ]
            ],
            "type": "contour"
           }
          ],
          "contourcarpet": [
           {
            "colorbar": {
             "outlinewidth": 0,
             "ticks": ""
            },
            "type": "contourcarpet"
           }
          ],
          "heatmap": [
           {
            "colorbar": {
             "outlinewidth": 0,
             "ticks": ""
            },
            "colorscale": [
             [
              0,
              "#0d0887"
             ],
             [
              0.1111111111111111,
              "#46039f"
             ],
             [
              0.2222222222222222,
              "#7201a8"
             ],
             [
              0.3333333333333333,
              "#9c179e"
             ],
             [
              0.4444444444444444,
              "#bd3786"
             ],
             [
              0.5555555555555556,
              "#d8576b"
             ],
             [
              0.6666666666666666,
              "#ed7953"
             ],
             [
              0.7777777777777778,
              "#fb9f3a"
             ],
             [
              0.8888888888888888,
              "#fdca26"
             ],
             [
              1,
              "#f0f921"
             ]
            ],
            "type": "heatmap"
           }
          ],
          "heatmapgl": [
           {
            "colorbar": {
             "outlinewidth": 0,
             "ticks": ""
            },
            "colorscale": [
             [
              0,
              "#0d0887"
             ],
             [
              0.1111111111111111,
              "#46039f"
             ],
             [
              0.2222222222222222,
              "#7201a8"
             ],
             [
              0.3333333333333333,
              "#9c179e"
             ],
             [
              0.4444444444444444,
              "#bd3786"
             ],
             [
              0.5555555555555556,
              "#d8576b"
             ],
             [
              0.6666666666666666,
              "#ed7953"
             ],
             [
              0.7777777777777778,
              "#fb9f3a"
             ],
             [
              0.8888888888888888,
              "#fdca26"
             ],
             [
              1,
              "#f0f921"
             ]
            ],
            "type": "heatmapgl"
           }
          ],
          "histogram": [
           {
            "marker": {
             "pattern": {
              "fillmode": "overlay",
              "size": 10,
              "solidity": 0.2
             }
            },
            "type": "histogram"
           }
          ],
          "histogram2d": [
           {
            "colorbar": {
             "outlinewidth": 0,
             "ticks": ""
            },
            "colorscale": [
             [
              0,
              "#0d0887"
             ],
             [
              0.1111111111111111,
              "#46039f"
             ],
             [
              0.2222222222222222,
              "#7201a8"
             ],
             [
              0.3333333333333333,
              "#9c179e"
             ],
             [
              0.4444444444444444,
              "#bd3786"
             ],
             [
              0.5555555555555556,
              "#d8576b"
             ],
             [
              0.6666666666666666,
              "#ed7953"
             ],
             [
              0.7777777777777778,
              "#fb9f3a"
             ],
             [
              0.8888888888888888,
              "#fdca26"
             ],
             [
              1,
              "#f0f921"
             ]
            ],
            "type": "histogram2d"
           }
          ],
          "histogram2dcontour": [
           {
            "colorbar": {
             "outlinewidth": 0,
             "ticks": ""
            },
            "colorscale": [
             [
              0,
              "#0d0887"
             ],
             [
              0.1111111111111111,
              "#46039f"
             ],
             [
              0.2222222222222222,
              "#7201a8"
             ],
             [
              0.3333333333333333,
              "#9c179e"
             ],
             [
              0.4444444444444444,
              "#bd3786"
             ],
             [
              0.5555555555555556,
              "#d8576b"
             ],
             [
              0.6666666666666666,
              "#ed7953"
             ],
             [
              0.7777777777777778,
              "#fb9f3a"
             ],
             [
              0.8888888888888888,
              "#fdca26"
             ],
             [
              1,
              "#f0f921"
             ]
            ],
            "type": "histogram2dcontour"
           }
          ],
          "mesh3d": [
           {
            "colorbar": {
             "outlinewidth": 0,
             "ticks": ""
            },
            "type": "mesh3d"
           }
          ],
          "parcoords": [
           {
            "line": {
             "colorbar": {
              "outlinewidth": 0,
              "ticks": ""
             }
            },
            "type": "parcoords"
           }
          ],
          "pie": [
           {
            "automargin": true,
            "type": "pie"
           }
          ],
          "scatter": [
           {
            "fillpattern": {
             "fillmode": "overlay",
             "size": 10,
             "solidity": 0.2
            },
            "type": "scatter"
           }
          ],
          "scatter3d": [
           {
            "line": {
             "colorbar": {
              "outlinewidth": 0,
              "ticks": ""
             }
            },
            "marker": {
             "colorbar": {
              "outlinewidth": 0,
              "ticks": ""
             }
            },
            "type": "scatter3d"
           }
          ],
          "scattercarpet": [
           {
            "marker": {
             "colorbar": {
              "outlinewidth": 0,
              "ticks": ""
             }
            },
            "type": "scattercarpet"
           }
          ],
          "scattergeo": [
           {
            "marker": {
             "colorbar": {
              "outlinewidth": 0,
              "ticks": ""
             }
            },
            "type": "scattergeo"
           }
          ],
          "scattergl": [
           {
            "marker": {
             "colorbar": {
              "outlinewidth": 0,
              "ticks": ""
             }
            },
            "type": "scattergl"
           }
          ],
          "scattermapbox": [
           {
            "marker": {
             "colorbar": {
              "outlinewidth": 0,
              "ticks": ""
             }
            },
            "type": "scattermapbox"
           }
          ],
          "scatterpolar": [
           {
            "marker": {
             "colorbar": {
              "outlinewidth": 0,
              "ticks": ""
             }
            },
            "type": "scatterpolar"
           }
          ],
          "scatterpolargl": [
           {
            "marker": {
             "colorbar": {
              "outlinewidth": 0,
              "ticks": ""
             }
            },
            "type": "scatterpolargl"
           }
          ],
          "scatterternary": [
           {
            "marker": {
             "colorbar": {
              "outlinewidth": 0,
              "ticks": ""
             }
            },
            "type": "scatterternary"
           }
          ],
          "surface": [
           {
            "colorbar": {
             "outlinewidth": 0,
             "ticks": ""
            },
            "colorscale": [
             [
              0,
              "#0d0887"
             ],
             [
              0.1111111111111111,
              "#46039f"
             ],
             [
              0.2222222222222222,
              "#7201a8"
             ],
             [
              0.3333333333333333,
              "#9c179e"
             ],
             [
              0.4444444444444444,
              "#bd3786"
             ],
             [
              0.5555555555555556,
              "#d8576b"
             ],
             [
              0.6666666666666666,
              "#ed7953"
             ],
             [
              0.7777777777777778,
              "#fb9f3a"
             ],
             [
              0.8888888888888888,
              "#fdca26"
             ],
             [
              1,
              "#f0f921"
             ]
            ],
            "type": "surface"
           }
          ],
          "table": [
           {
            "cells": {
             "fill": {
              "color": "#EBF0F8"
             },
             "line": {
              "color": "white"
             }
            },
            "header": {
             "fill": {
              "color": "#C8D4E3"
             },
             "line": {
              "color": "white"
             }
            },
            "type": "table"
           }
          ]
         },
         "layout": {
          "annotationdefaults": {
           "arrowcolor": "#2a3f5f",
           "arrowhead": 0,
           "arrowwidth": 1
          },
          "autotypenumbers": "strict",
          "coloraxis": {
           "colorbar": {
            "outlinewidth": 0,
            "ticks": ""
           }
          },
          "colorscale": {
           "diverging": [
            [
             0,
             "#8e0152"
            ],
            [
             0.1,
             "#c51b7d"
            ],
            [
             0.2,
             "#de77ae"
            ],
            [
             0.3,
             "#f1b6da"
            ],
            [
             0.4,
             "#fde0ef"
            ],
            [
             0.5,
             "#f7f7f7"
            ],
            [
             0.6,
             "#e6f5d0"
            ],
            [
             0.7,
             "#b8e186"
            ],
            [
             0.8,
             "#7fbc41"
            ],
            [
             0.9,
             "#4d9221"
            ],
            [
             1,
             "#276419"
            ]
           ],
           "sequential": [
            [
             0,
             "#0d0887"
            ],
            [
             0.1111111111111111,
             "#46039f"
            ],
            [
             0.2222222222222222,
             "#7201a8"
            ],
            [
             0.3333333333333333,
             "#9c179e"
            ],
            [
             0.4444444444444444,
             "#bd3786"
            ],
            [
             0.5555555555555556,
             "#d8576b"
            ],
            [
             0.6666666666666666,
             "#ed7953"
            ],
            [
             0.7777777777777778,
             "#fb9f3a"
            ],
            [
             0.8888888888888888,
             "#fdca26"
            ],
            [
             1,
             "#f0f921"
            ]
           ],
           "sequentialminus": [
            [
             0,
             "#0d0887"
            ],
            [
             0.1111111111111111,
             "#46039f"
            ],
            [
             0.2222222222222222,
             "#7201a8"
            ],
            [
             0.3333333333333333,
             "#9c179e"
            ],
            [
             0.4444444444444444,
             "#bd3786"
            ],
            [
             0.5555555555555556,
             "#d8576b"
            ],
            [
             0.6666666666666666,
             "#ed7953"
            ],
            [
             0.7777777777777778,
             "#fb9f3a"
            ],
            [
             0.8888888888888888,
             "#fdca26"
            ],
            [
             1,
             "#f0f921"
            ]
           ]
          },
          "colorway": [
           "#636efa",
           "#EF553B",
           "#00cc96",
           "#ab63fa",
           "#FFA15A",
           "#19d3f3",
           "#FF6692",
           "#B6E880",
           "#FF97FF",
           "#FECB52"
          ],
          "font": {
           "color": "#2a3f5f"
          },
          "geo": {
           "bgcolor": "white",
           "lakecolor": "white",
           "landcolor": "#E5ECF6",
           "showlakes": true,
           "showland": true,
           "subunitcolor": "white"
          },
          "hoverlabel": {
           "align": "left"
          },
          "hovermode": "closest",
          "mapbox": {
           "style": "light"
          },
          "paper_bgcolor": "white",
          "plot_bgcolor": "#E5ECF6",
          "polar": {
           "angularaxis": {
            "gridcolor": "white",
            "linecolor": "white",
            "ticks": ""
           },
           "bgcolor": "#E5ECF6",
           "radialaxis": {
            "gridcolor": "white",
            "linecolor": "white",
            "ticks": ""
           }
          },
          "scene": {
           "xaxis": {
            "backgroundcolor": "#E5ECF6",
            "gridcolor": "white",
            "gridwidth": 2,
            "linecolor": "white",
            "showbackground": true,
            "ticks": "",
            "zerolinecolor": "white"
           },
           "yaxis": {
            "backgroundcolor": "#E5ECF6",
            "gridcolor": "white",
            "gridwidth": 2,
            "linecolor": "white",
            "showbackground": true,
            "ticks": "",
            "zerolinecolor": "white"
           },
           "zaxis": {
            "backgroundcolor": "#E5ECF6",
            "gridcolor": "white",
            "gridwidth": 2,
            "linecolor": "white",
            "showbackground": true,
            "ticks": "",
            "zerolinecolor": "white"
           }
          },
          "shapedefaults": {
           "line": {
            "color": "#2a3f5f"
           }
          },
          "ternary": {
           "aaxis": {
            "gridcolor": "white",
            "linecolor": "white",
            "ticks": ""
           },
           "baxis": {
            "gridcolor": "white",
            "linecolor": "white",
            "ticks": ""
           },
           "bgcolor": "#E5ECF6",
           "caxis": {
            "gridcolor": "white",
            "linecolor": "white",
            "ticks": ""
           }
          },
          "title": {
           "x": 0.05
          },
          "xaxis": {
           "automargin": true,
           "gridcolor": "white",
           "linecolor": "white",
           "ticks": "",
           "title": {
            "standoff": 15
           },
           "zerolinecolor": "white",
           "zerolinewidth": 2
          },
          "yaxis": {
           "automargin": true,
           "gridcolor": "white",
           "linecolor": "white",
           "ticks": "",
           "title": {
            "standoff": 15
           },
           "zerolinecolor": "white",
           "zerolinewidth": 2
          }
         }
        },
        "title": {
         "text": "Total Steel Reinforcement Cost by Project (from line_desc) (Total: 19,101,343)"
        },
        "width": 800,
        "xaxis": {
         "anchor": "y",
         "domain": [
          0,
          1
         ],
         "title": {
          "text": "Project"
         }
        },
        "yaxis": {
         "anchor": "x",
         "domain": [
          0,
          1
         ],
         "title": {
          "text": "Steel Reinforcement Cost"
         }
        }
       }
      }
     },
     "metadata": {},
     "output_type": "display_data"
    }
   ],
   "source": [
    "# Seach for Steel Rft حديد تسليح in \"line_desc\" column\n",
    "\n",
    "import plotly.express as px\n",
    "\n",
    "# 1. SQL query to get total steel reinforcement cost for each project (from line_desc)\n",
    "query_steel_cost_line_desc = \"\"\"\n",
    "SELECT project_no, SUM(amount) AS SteelReinforcementCost\n",
    "FROM [omar.rme1].[dbo].[cost_dist]\n",
    "WHERE project_no IN ('144', '173', '172', '184', '198')\n",
    "AND line_desc LIKE N'%حديد تسليح%'\n",
    "GROUP BY project_no;\n",
    "\"\"\"\n",
    "\n",
    "# 2. Execute the query \n",
    "with engine.connect() as conn:\n",
    "    results_steel_cost_line_desc = execute_query(conn, query_steel_cost_line_desc)\n",
    "\n",
    "# 3. Create DataFrame for steel reinforcement costs (from line_desc)\n",
    "df_steel_cost_line_desc = pd.DataFrame(results_steel_cost_line_desc, columns=['project_no', 'SteelReinforcementCost'])\n",
    "\n",
    "# 4. Merge with project names DataFrame\n",
    "df_steel_merged_line_desc = pd.merge(df_steel_cost_line_desc, df_names, on='project_no', how='left')\n",
    "\n",
    "# 5. Fill in missing values with 0 (in case some projects have no steel reinforcement)\n",
    "df_steel_merged_line_desc.fillna(0, inplace=True)\n",
    "\n",
    "# 6. Combine project_no and project_name for labels\n",
    "df_steel_merged_line_desc['Project'] = df_steel_merged_line_desc['project_no'] + ' - ' + df_steel_merged_line_desc['project_name']\n",
    "\n",
    "# 7. Calculate total steel reinforcement cost (from line_desc)\n",
    "total_steel_cost_line_desc = df_steel_merged_line_desc['SteelReinforcementCost'].sum()\n",
    "\n",
    "# 8. Create bar chart\n",
    "fig = px.bar(\n",
    "    df_steel_merged_line_desc, \n",
    "    x='Project', \n",
    "    y='SteelReinforcementCost',\n",
    "    title=f'Total Steel Reinforcement Cost by Project (from line_desc) (Total: {int(total_steel_cost_line_desc):,})',\n",
    "    labels={'project_name': 'Project', 'SteelReinforcementCost': 'Steel Reinforcement Cost'}\n",
    ")\n",
    "\n",
    "# Add annotations (text labels) to each bar with comma formatting and no decimals\n",
    "for i, row in df_steel_merged_line_desc.iterrows():\n",
    "    fig.add_annotation(\n",
    "        x=row['Project'],\n",
    "        y=row['SteelReinforcementCost'],\n",
    "        text=f\"{int(row['SteelReinforcementCost']):,}\",\n",
    "        showarrow=False,\n",
    "        yshift=10, \n",
    "    )\n",
    "\n",
    "# Customize layout\n",
    "fig.update_layout(width=800)\n",
    "\n",
    "# 9. Display or save the chart\n",
    "fig.show()\n",
    "fig.write_html('steel_reinforcement_cost_by_project_line_desc.html')"
   ]
  },
  {
   "cell_type": "code",
   "execution_count": 8,
   "metadata": {},
   "outputs": [
    {
     "name": "stdout",
     "output_type": "stream",
     "text": [
      "Columns returned by the query: RMKeyView(['trs_id', 'transaction_source', 'project_no', 'project_name', 'project_zone', 'task_no', 'task_name', 'top_task_no', 'top_task_name', 'po_no', 'gl_date', 'expenditure_type', 'project_location', 'project_floor', 'project_area', 'expenditure_category', 'expend_org', 'amount', 'line_no', 'line_desc', 'inv_no', 'unit', 'qty', 'ipc_no', 'supplier_no', 'supplier_name', 'supplier_site', 'comment', 'inventory_item', 'owner', 'distributions_status', 'distributions_date', 'distributions_details'])\n",
      "Shape of results: 49319 rows, 33 columns\n",
      "First few rows of results: [(2378785.0, 'Inventory Misc', '144', 'EGAT Pelletizing Plant', None, '301', 'Formwork', 3.0, 'CONCRETE WORK', None, datetime.datetime(2021, 10, 24, 0, 0), 'Materials', None, None, None, 'Materials', 'EGAT Pelletizing Plant-0144', 217.89, 1.0, 'X-Roc Strong Repair', None, 'Kilogram', 75.0, 44556654.0, None, None, None, 'X-Roc Strong Repair', '360010000161\\xa0 ', 'Purchasing\\xa0 ', 'Received', datetime.datetime(2021, 10, 25, 0, 0), 'Accounted transaction received '), (2619047.0, 'Inventory Misc', '144', 'EGAT Pelletizing Plant', None, '301', 'Formwork', 3.0, 'CONCRETE WORK', None, datetime.datetime(2021, 12, 18, 0, 0), 'Materials', None, None, None, 'Materials', 'EGAT Pelletizing Plant-0144', 2158.8, 1.0, 'اسمنت اسود رتبة 42', None, 'Ton', 2.0, 46450272.0, None, None, None, 'اسمنت اسود رتبة 42', '140010000015\\xa0 ', 'Purchasing\\xa0 ', 'Received', datetime.datetime(2021, 12, 19, 0, 0), 'Accounted transaction received '), (2618962.0, 'Inventory Misc', '144', 'EGAT Pelletizing Plant', None, '301', 'Formwork', 3.0, 'CONCRETE WORK', None, datetime.datetime(2021, 12, 15, 0, 0), 'Materials', None, None, None, 'Materials', 'EGAT Pelletizing Plant-0144', 230.38, 1.0, 'فرشة عزل كبيرة', None, 'Each', 15.0, 46343006.0, None, None, None, 'فرشة عزل كبيرة', '200010000625\\xa0 ', 'Purchasing\\xa0 ', 'Received', datetime.datetime(2021, 12, 19, 0, 0), 'Accounted transaction received '), (2618976.0, 'Inventory Misc', '144', 'EGAT Pelletizing Plant', None, '301', 'Formwork', 3.0, 'CONCRETE WORK', None, datetime.datetime(2021, 12, 17, 0, 0), 'Tools', None, None, None, 'Materials', 'EGAT Pelletizing Plant-0144', 102.74, 1.0, 'بسكويت عجل 5سم', None, 'Bag', 1.0, 46414140.0, None, None, None, 'بسكويت عجل 5سم', '140010000009\\xa0 ', 'Purchasing\\xa0 ', 'Received', datetime.datetime(2021, 12, 19, 0, 0), 'Accounted transaction received '), (2374100.0, 'Inventory Misc', '144', 'EGAT Pelletizing Plant', None, '301', 'Formwork', 3.0, 'CONCRETE WORK', None, datetime.datetime(2021, 10, 5, 0, 0), 'Materials', None, None, None, 'Materials', 'EGAT Pelletizing Plant-0144', 944.18, 1.0, 'X-Roc Strong Repair', None, 'Kilogram', 325.0, 44008715.0, None, None, None, 'X-Roc Strong Repair', '360010000161\\xa0 ', 'Purchasing\\xa0 ', 'Received', datetime.datetime(2021, 10, 24, 0, 0), 'Accounted transaction received ')]\n",
      "Exported data for project 144 to project_144_data.xlsx\n",
      "Exported data for project 172 to project_172_data.xlsx\n",
      "Exported data for project 173 to project_173_data.xlsx\n",
      "Exported data for project 184 to project_184_data.xlsx\n",
      "Exported data for project 198 to project_198_data.xlsx\n"
     ]
    }
   ],
   "source": [
    "import pandas as pd\n",
    "\n",
    "# 1. SQL query to fetch all columns for the specified projects\n",
    "query_export = \"\"\"\n",
    "SELECT * \n",
    "FROM [omar.rme1].[dbo].[cost_dist]\n",
    "WHERE project_no IN ('144', '173', '172', '184', '198');\n",
    "\"\"\"\n",
    "\n",
    "# 2. Execute the query\n",
    "with engine.connect() as conn:\n",
    "    results_export = execute_query(conn, query_export)\n",
    "\n",
    "# 3. Create a DataFrame for all the data\n",
    "df_export = pd.DataFrame(results_export)\n",
    "\n",
    "# 4. Get the column names from the query output (if needed)\n",
    "# If you don't know the column names beforehand, uncomment the following line\n",
    "# columns = result.keys()\n",
    "# df_export.columns = columns\n",
    "\n",
    "# 5. Iterate through each project and export its data to a separate Excel file\n",
    "for project_no in df['project_no'].unique():\n",
    "    # Filter data for the current project\n",
    "    project_data = df_export[df_export['project_no'] == project_no]\n",
    "\n",
    "    # Export to Excel\n",
    "    project_data.to_excel(f'project_{project_no}_data.xlsx', index=False)\n",
    "    print(f\"Exported data for project {project_no} to project_{project_no}_data.xlsx\")"
   ]
  },
  {
   "cell_type": "code",
   "execution_count": 9,
   "metadata": {},
   "outputs": [
    {
     "name": "stdout",
     "output_type": "stream",
     "text": [
      "Columns returned by the query: RMKeyView(['project_no', 'ConcreteCost'])\n",
      "Shape of results: 4 rows, 2 columns\n",
      "First few rows of results: [('144', 70354628.11000001), ('172', 112126924.74), ('173', 313974.79000000004), ('184', 13846523.059999999)]\n"
     ]
    },
    {
     "data": {
      "application/vnd.plotly.v1+json": {
       "config": {
        "plotlyServerURL": "https://plot.ly"
       },
       "data": [
        {
         "alignmentgroup": "True",
         "hovertemplate": "Project=%{x}<br>Concrete Cost=%{y}<extra></extra>",
         "legendgroup": "",
         "marker": {
          "color": "#636efa",
          "pattern": {
           "shape": ""
          }
         },
         "name": "",
         "offsetgroup": "",
         "orientation": "v",
         "showlegend": false,
         "textposition": "auto",
         "type": "bar",
         "x": [
          "144 - EGAT Pelletizing Plant",
          "172 - Egat Rolling Mill no.4",
          "173 - EGAT Lock & Load",
          "184 - SSC Suez Steel Company Project"
         ],
         "xaxis": "x",
         "y": [
          70354628.11000001,
          112126924.74,
          313974.79000000004,
          13846523.059999999
         ],
         "yaxis": "y"
        }
       ],
       "layout": {
        "annotations": [
         {
          "showarrow": false,
          "text": "70,354,628",
          "x": "144 - EGAT Pelletizing Plant",
          "y": 70354628.11000001,
          "yshift": 10
         },
         {
          "showarrow": false,
          "text": "112,126,924",
          "x": "172 - Egat Rolling Mill no.4",
          "y": 112126924.74,
          "yshift": 10
         },
         {
          "showarrow": false,
          "text": "313,974",
          "x": "173 - EGAT Lock & Load",
          "y": 313974.79000000004,
          "yshift": 10
         },
         {
          "showarrow": false,
          "text": "13,846,523",
          "x": "184 - SSC Suez Steel Company Project",
          "y": 13846523.059999999,
          "yshift": 10
         }
        ],
        "barmode": "relative",
        "legend": {
         "tracegroupgap": 0
        },
        "template": {
         "data": {
          "bar": [
           {
            "error_x": {
             "color": "#2a3f5f"
            },
            "error_y": {
             "color": "#2a3f5f"
            },
            "marker": {
             "line": {
              "color": "#E5ECF6",
              "width": 0.5
             },
             "pattern": {
              "fillmode": "overlay",
              "size": 10,
              "solidity": 0.2
             }
            },
            "type": "bar"
           }
          ],
          "barpolar": [
           {
            "marker": {
             "line": {
              "color": "#E5ECF6",
              "width": 0.5
             },
             "pattern": {
              "fillmode": "overlay",
              "size": 10,
              "solidity": 0.2
             }
            },
            "type": "barpolar"
           }
          ],
          "carpet": [
           {
            "aaxis": {
             "endlinecolor": "#2a3f5f",
             "gridcolor": "white",
             "linecolor": "white",
             "minorgridcolor": "white",
             "startlinecolor": "#2a3f5f"
            },
            "baxis": {
             "endlinecolor": "#2a3f5f",
             "gridcolor": "white",
             "linecolor": "white",
             "minorgridcolor": "white",
             "startlinecolor": "#2a3f5f"
            },
            "type": "carpet"
           }
          ],
          "choropleth": [
           {
            "colorbar": {
             "outlinewidth": 0,
             "ticks": ""
            },
            "type": "choropleth"
           }
          ],
          "contour": [
           {
            "colorbar": {
             "outlinewidth": 0,
             "ticks": ""
            },
            "colorscale": [
             [
              0,
              "#0d0887"
             ],
             [
              0.1111111111111111,
              "#46039f"
             ],
             [
              0.2222222222222222,
              "#7201a8"
             ],
             [
              0.3333333333333333,
              "#9c179e"
             ],
             [
              0.4444444444444444,
              "#bd3786"
             ],
             [
              0.5555555555555556,
              "#d8576b"
             ],
             [
              0.6666666666666666,
              "#ed7953"
             ],
             [
              0.7777777777777778,
              "#fb9f3a"
             ],
             [
              0.8888888888888888,
              "#fdca26"
             ],
             [
              1,
              "#f0f921"
             ]
            ],
            "type": "contour"
           }
          ],
          "contourcarpet": [
           {
            "colorbar": {
             "outlinewidth": 0,
             "ticks": ""
            },
            "type": "contourcarpet"
           }
          ],
          "heatmap": [
           {
            "colorbar": {
             "outlinewidth": 0,
             "ticks": ""
            },
            "colorscale": [
             [
              0,
              "#0d0887"
             ],
             [
              0.1111111111111111,
              "#46039f"
             ],
             [
              0.2222222222222222,
              "#7201a8"
             ],
             [
              0.3333333333333333,
              "#9c179e"
             ],
             [
              0.4444444444444444,
              "#bd3786"
             ],
             [
              0.5555555555555556,
              "#d8576b"
             ],
             [
              0.6666666666666666,
              "#ed7953"
             ],
             [
              0.7777777777777778,
              "#fb9f3a"
             ],
             [
              0.8888888888888888,
              "#fdca26"
             ],
             [
              1,
              "#f0f921"
             ]
            ],
            "type": "heatmap"
           }
          ],
          "heatmapgl": [
           {
            "colorbar": {
             "outlinewidth": 0,
             "ticks": ""
            },
            "colorscale": [
             [
              0,
              "#0d0887"
             ],
             [
              0.1111111111111111,
              "#46039f"
             ],
             [
              0.2222222222222222,
              "#7201a8"
             ],
             [
              0.3333333333333333,
              "#9c179e"
             ],
             [
              0.4444444444444444,
              "#bd3786"
             ],
             [
              0.5555555555555556,
              "#d8576b"
             ],
             [
              0.6666666666666666,
              "#ed7953"
             ],
             [
              0.7777777777777778,
              "#fb9f3a"
             ],
             [
              0.8888888888888888,
              "#fdca26"
             ],
             [
              1,
              "#f0f921"
             ]
            ],
            "type": "heatmapgl"
           }
          ],
          "histogram": [
           {
            "marker": {
             "pattern": {
              "fillmode": "overlay",
              "size": 10,
              "solidity": 0.2
             }
            },
            "type": "histogram"
           }
          ],
          "histogram2d": [
           {
            "colorbar": {
             "outlinewidth": 0,
             "ticks": ""
            },
            "colorscale": [
             [
              0,
              "#0d0887"
             ],
             [
              0.1111111111111111,
              "#46039f"
             ],
             [
              0.2222222222222222,
              "#7201a8"
             ],
             [
              0.3333333333333333,
              "#9c179e"
             ],
             [
              0.4444444444444444,
              "#bd3786"
             ],
             [
              0.5555555555555556,
              "#d8576b"
             ],
             [
              0.6666666666666666,
              "#ed7953"
             ],
             [
              0.7777777777777778,
              "#fb9f3a"
             ],
             [
              0.8888888888888888,
              "#fdca26"
             ],
             [
              1,
              "#f0f921"
             ]
            ],
            "type": "histogram2d"
           }
          ],
          "histogram2dcontour": [
           {
            "colorbar": {
             "outlinewidth": 0,
             "ticks": ""
            },
            "colorscale": [
             [
              0,
              "#0d0887"
             ],
             [
              0.1111111111111111,
              "#46039f"
             ],
             [
              0.2222222222222222,
              "#7201a8"
             ],
             [
              0.3333333333333333,
              "#9c179e"
             ],
             [
              0.4444444444444444,
              "#bd3786"
             ],
             [
              0.5555555555555556,
              "#d8576b"
             ],
             [
              0.6666666666666666,
              "#ed7953"
             ],
             [
              0.7777777777777778,
              "#fb9f3a"
             ],
             [
              0.8888888888888888,
              "#fdca26"
             ],
             [
              1,
              "#f0f921"
             ]
            ],
            "type": "histogram2dcontour"
           }
          ],
          "mesh3d": [
           {
            "colorbar": {
             "outlinewidth": 0,
             "ticks": ""
            },
            "type": "mesh3d"
           }
          ],
          "parcoords": [
           {
            "line": {
             "colorbar": {
              "outlinewidth": 0,
              "ticks": ""
             }
            },
            "type": "parcoords"
           }
          ],
          "pie": [
           {
            "automargin": true,
            "type": "pie"
           }
          ],
          "scatter": [
           {
            "fillpattern": {
             "fillmode": "overlay",
             "size": 10,
             "solidity": 0.2
            },
            "type": "scatter"
           }
          ],
          "scatter3d": [
           {
            "line": {
             "colorbar": {
              "outlinewidth": 0,
              "ticks": ""
             }
            },
            "marker": {
             "colorbar": {
              "outlinewidth": 0,
              "ticks": ""
             }
            },
            "type": "scatter3d"
           }
          ],
          "scattercarpet": [
           {
            "marker": {
             "colorbar": {
              "outlinewidth": 0,
              "ticks": ""
             }
            },
            "type": "scattercarpet"
           }
          ],
          "scattergeo": [
           {
            "marker": {
             "colorbar": {
              "outlinewidth": 0,
              "ticks": ""
             }
            },
            "type": "scattergeo"
           }
          ],
          "scattergl": [
           {
            "marker": {
             "colorbar": {
              "outlinewidth": 0,
              "ticks": ""
             }
            },
            "type": "scattergl"
           }
          ],
          "scattermapbox": [
           {
            "marker": {
             "colorbar": {
              "outlinewidth": 0,
              "ticks": ""
             }
            },
            "type": "scattermapbox"
           }
          ],
          "scatterpolar": [
           {
            "marker": {
             "colorbar": {
              "outlinewidth": 0,
              "ticks": ""
             }
            },
            "type": "scatterpolar"
           }
          ],
          "scatterpolargl": [
           {
            "marker": {
             "colorbar": {
              "outlinewidth": 0,
              "ticks": ""
             }
            },
            "type": "scatterpolargl"
           }
          ],
          "scatterternary": [
           {
            "marker": {
             "colorbar": {
              "outlinewidth": 0,
              "ticks": ""
             }
            },
            "type": "scatterternary"
           }
          ],
          "surface": [
           {
            "colorbar": {
             "outlinewidth": 0,
             "ticks": ""
            },
            "colorscale": [
             [
              0,
              "#0d0887"
             ],
             [
              0.1111111111111111,
              "#46039f"
             ],
             [
              0.2222222222222222,
              "#7201a8"
             ],
             [
              0.3333333333333333,
              "#9c179e"
             ],
             [
              0.4444444444444444,
              "#bd3786"
             ],
             [
              0.5555555555555556,
              "#d8576b"
             ],
             [
              0.6666666666666666,
              "#ed7953"
             ],
             [
              0.7777777777777778,
              "#fb9f3a"
             ],
             [
              0.8888888888888888,
              "#fdca26"
             ],
             [
              1,
              "#f0f921"
             ]
            ],
            "type": "surface"
           }
          ],
          "table": [
           {
            "cells": {
             "fill": {
              "color": "#EBF0F8"
             },
             "line": {
              "color": "white"
             }
            },
            "header": {
             "fill": {
              "color": "#C8D4E3"
             },
             "line": {
              "color": "white"
             }
            },
            "type": "table"
           }
          ]
         },
         "layout": {
          "annotationdefaults": {
           "arrowcolor": "#2a3f5f",
           "arrowhead": 0,
           "arrowwidth": 1
          },
          "autotypenumbers": "strict",
          "coloraxis": {
           "colorbar": {
            "outlinewidth": 0,
            "ticks": ""
           }
          },
          "colorscale": {
           "diverging": [
            [
             0,
             "#8e0152"
            ],
            [
             0.1,
             "#c51b7d"
            ],
            [
             0.2,
             "#de77ae"
            ],
            [
             0.3,
             "#f1b6da"
            ],
            [
             0.4,
             "#fde0ef"
            ],
            [
             0.5,
             "#f7f7f7"
            ],
            [
             0.6,
             "#e6f5d0"
            ],
            [
             0.7,
             "#b8e186"
            ],
            [
             0.8,
             "#7fbc41"
            ],
            [
             0.9,
             "#4d9221"
            ],
            [
             1,
             "#276419"
            ]
           ],
           "sequential": [
            [
             0,
             "#0d0887"
            ],
            [
             0.1111111111111111,
             "#46039f"
            ],
            [
             0.2222222222222222,
             "#7201a8"
            ],
            [
             0.3333333333333333,
             "#9c179e"
            ],
            [
             0.4444444444444444,
             "#bd3786"
            ],
            [
             0.5555555555555556,
             "#d8576b"
            ],
            [
             0.6666666666666666,
             "#ed7953"
            ],
            [
             0.7777777777777778,
             "#fb9f3a"
            ],
            [
             0.8888888888888888,
             "#fdca26"
            ],
            [
             1,
             "#f0f921"
            ]
           ],
           "sequentialminus": [
            [
             0,
             "#0d0887"
            ],
            [
             0.1111111111111111,
             "#46039f"
            ],
            [
             0.2222222222222222,
             "#7201a8"
            ],
            [
             0.3333333333333333,
             "#9c179e"
            ],
            [
             0.4444444444444444,
             "#bd3786"
            ],
            [
             0.5555555555555556,
             "#d8576b"
            ],
            [
             0.6666666666666666,
             "#ed7953"
            ],
            [
             0.7777777777777778,
             "#fb9f3a"
            ],
            [
             0.8888888888888888,
             "#fdca26"
            ],
            [
             1,
             "#f0f921"
            ]
           ]
          },
          "colorway": [
           "#636efa",
           "#EF553B",
           "#00cc96",
           "#ab63fa",
           "#FFA15A",
           "#19d3f3",
           "#FF6692",
           "#B6E880",
           "#FF97FF",
           "#FECB52"
          ],
          "font": {
           "color": "#2a3f5f"
          },
          "geo": {
           "bgcolor": "white",
           "lakecolor": "white",
           "landcolor": "#E5ECF6",
           "showlakes": true,
           "showland": true,
           "subunitcolor": "white"
          },
          "hoverlabel": {
           "align": "left"
          },
          "hovermode": "closest",
          "mapbox": {
           "style": "light"
          },
          "paper_bgcolor": "white",
          "plot_bgcolor": "#E5ECF6",
          "polar": {
           "angularaxis": {
            "gridcolor": "white",
            "linecolor": "white",
            "ticks": ""
           },
           "bgcolor": "#E5ECF6",
           "radialaxis": {
            "gridcolor": "white",
            "linecolor": "white",
            "ticks": ""
           }
          },
          "scene": {
           "xaxis": {
            "backgroundcolor": "#E5ECF6",
            "gridcolor": "white",
            "gridwidth": 2,
            "linecolor": "white",
            "showbackground": true,
            "ticks": "",
            "zerolinecolor": "white"
           },
           "yaxis": {
            "backgroundcolor": "#E5ECF6",
            "gridcolor": "white",
            "gridwidth": 2,
            "linecolor": "white",
            "showbackground": true,
            "ticks": "",
            "zerolinecolor": "white"
           },
           "zaxis": {
            "backgroundcolor": "#E5ECF6",
            "gridcolor": "white",
            "gridwidth": 2,
            "linecolor": "white",
            "showbackground": true,
            "ticks": "",
            "zerolinecolor": "white"
           }
          },
          "shapedefaults": {
           "line": {
            "color": "#2a3f5f"
           }
          },
          "ternary": {
           "aaxis": {
            "gridcolor": "white",
            "linecolor": "white",
            "ticks": ""
           },
           "baxis": {
            "gridcolor": "white",
            "linecolor": "white",
            "ticks": ""
           },
           "bgcolor": "#E5ECF6",
           "caxis": {
            "gridcolor": "white",
            "linecolor": "white",
            "ticks": ""
           }
          },
          "title": {
           "x": 0.05
          },
          "xaxis": {
           "automargin": true,
           "gridcolor": "white",
           "linecolor": "white",
           "ticks": "",
           "title": {
            "standoff": 15
           },
           "zerolinecolor": "white",
           "zerolinewidth": 2
          },
          "yaxis": {
           "automargin": true,
           "gridcolor": "white",
           "linecolor": "white",
           "ticks": "",
           "title": {
            "standoff": 15
           },
           "zerolinecolor": "white",
           "zerolinewidth": 2
          }
         }
        },
        "title": {
         "text": "Total Concrete Cost by Project (Total: 196,642,050)"
        },
        "width": 800,
        "xaxis": {
         "anchor": "y",
         "domain": [
          0,
          1
         ],
         "title": {
          "text": "Project"
         }
        },
        "yaxis": {
         "anchor": "x",
         "domain": [
          0,
          1
         ],
         "title": {
          "text": "Concrete Cost"
         }
        }
       }
      }
     },
     "metadata": {},
     "output_type": "display_data"
    }
   ],
   "source": [
    "import plotly.express as px\n",
    "\n",
    "# 1. SQL query to get total concrete cost for each project (from line_desc)\n",
    "query_concrete_cost = \"\"\"\n",
    "SELECT project_no, SUM(amount) AS ConcreteCost\n",
    "FROM [omar.rme1].[dbo].[cost_dist]\n",
    "WHERE project_no IN ('144', '173', '172', '184', '198')\n",
    "AND line_desc LIKE N'%خرسانة%'\n",
    "GROUP BY project_no;\n",
    "\"\"\"\n",
    "\n",
    "# 2. Execute the query \n",
    "with engine.connect() as conn:\n",
    "    results_concrete_cost = execute_query(conn, query_concrete_cost)\n",
    "\n",
    "# 3. Create DataFrame for concrete costs\n",
    "df_concrete_cost = pd.DataFrame(results_concrete_cost, columns=['project_no', 'ConcreteCost'])\n",
    "\n",
    "# 4. Merge with project names DataFrame\n",
    "df_concrete_merged = pd.merge(df_concrete_cost, df_names, on='project_no', how='left')\n",
    "\n",
    "# 5. Fill in missing values with 0 (in case some projects have no concrete cost)\n",
    "df_concrete_merged.fillna(0, inplace=True)\n",
    "\n",
    "# 6. Combine project_no and project_name for labels\n",
    "df_concrete_merged['Project'] = df_concrete_merged['project_no'] + ' - ' + df_concrete_merged['project_name']\n",
    "\n",
    "# 7. Calculate total concrete cost\n",
    "total_concrete_cost = df_concrete_merged['ConcreteCost'].sum()\n",
    "\n",
    "# 8. Create bar chart\n",
    "fig = px.bar(\n",
    "    df_concrete_merged, \n",
    "    x='Project', \n",
    "    y='ConcreteCost',\n",
    "    title=f'Total Concrete Cost by Project (Total: {int(total_concrete_cost):,})',\n",
    "    labels={'project_name': 'Project', 'ConcreteCost': 'Concrete Cost'}\n",
    ")\n",
    "\n",
    "# Add annotations (text labels) to each bar with comma formatting and no decimals\n",
    "for i, row in df_concrete_merged.iterrows():\n",
    "    fig.add_annotation(\n",
    "        x=row['Project'],\n",
    "        y=row['ConcreteCost'],\n",
    "        text=f\"{int(row['ConcreteCost']):,}\",\n",
    "        showarrow=False,\n",
    "        yshift=10, \n",
    "    )\n",
    "\n",
    "# Customize layout\n",
    "fig.update_layout(width=800)\n",
    "\n",
    "# 9. Display or save the chart\n",
    "fig.show()\n",
    "fig.write_html('concrete_cost_by_project.html')"
   ]
  },
  {
   "cell_type": "code",
   "execution_count": 13,
   "metadata": {},
   "outputs": [
    {
     "name": "stdout",
     "output_type": "stream",
     "text": [
      "Columns returned by the query: RMKeyView(['transaction_source', 'TotalAmount'])\n",
      "Shape of results: 5 rows, 2 columns\n",
      "First few rows of results: [('Oracle Payables Supplier Invoices', 450398793.94000006), ('Inventory Misc', 272591965.47), ('WORK_CONFRIMATION', 125372258.15), ('Oracle Purchasing Receipt Accruals', 7563875.08), ('Non-Recoverable Tax from Purchasing Receipts', 1047211.2800000001)]\n",
      "Columns returned by the query: RMKeyView(['transaction_source', 'TotalAmount'])\n",
      "Shape of results: 5 rows, 2 columns\n",
      "First few rows of results: [('Inventory Misc', 366241470.0300001), ('Oracle Payables Supplier Invoices', 154747599.75999996), ('WORK_CONFRIMATION', 65141732.62000001), ('Oracle Purchasing Receipt Accruals', 9245232.29), ('Non-Recoverable Tax from Purchasing Receipts', 1294332.4900000002)]\n",
      "Columns returned by the query: RMKeyView(['transaction_source', 'TotalAmount'])\n",
      "Shape of results: 3 rows, 2 columns\n",
      "First few rows of results: [('Inventory Misc', 19096025.169999998), ('Oracle Payables Supplier Invoices', 13119068.539999997), ('WORK_CONFRIMATION', 10557205.639999999)]\n",
      "Columns returned by the query: RMKeyView(['transaction_source', 'TotalAmount'])\n",
      "Shape of results: 3 rows, 2 columns\n",
      "First few rows of results: [('Inventory Misc', 226576665.81999978), ('WORK_CONFRIMATION', 46073348.15000001), ('Oracle Payables Supplier Invoices', 28193737.04999999)]\n",
      "Columns returned by the query: RMKeyView(['transaction_source', 'TotalAmount'])\n",
      "Shape of results: 3 rows, 2 columns\n",
      "First few rows of results: [('WORK_CONFRIMATION', 113258938.41000001), ('Oracle Payables Supplier Invoices', 5024336.680000002), ('Inventory Misc', 4024368.23)]\n",
      "Columns returned by the query: RMKeyView(['task_name', 'TotalAmount'])\n",
      "Shape of results: 45 rows, 2 columns\n",
      "First few rows of results: [('Mobilization', 318660895.18), ('Formwork', 198072878.73999998), ('Private Cars', 65487786.56), ('Cast Place Concrete', 53453125.530000016), ('Safety tools', 43382002.95999999)]\n",
      "Columns returned by the query: RMKeyView(['task_name', 'TotalAmount'])\n",
      "Shape of results: 55 rows, 2 columns\n",
      "First few rows of results: [('Mat', 358789109.9599999), ('Hirings payrool', 63833646.42), ('Mobilization', 37416917.61), ('Steel Reinforcement', 25919802.41), ('Excavation', 16369636.39)]\n",
      "Columns returned by the query: RMKeyView(['task_name', 'TotalAmount'])\n",
      "Shape of results: 26 rows, 2 columns\n",
      "First few rows of results: [('Other Equipment', 19251317.34999999), ('Mobilization', 8822791.420000002), ('Backfilling', 7049029.13), ('Excavation', 2529079.3100000005), ('Rented Cars', 1638413.0399999998)]\n",
      "Columns returned by the query: RMKeyView(['task_name', 'TotalAmount'])\n",
      "Shape of results: 42 rows, 2 columns\n",
      "First few rows of results: [('Mat', 210375739.57999998), ('Electrical Works (G)', 21302660.199999996), ('Safety tools', 15766525.64), ('Plumbing Works(G)', 13541344.06), ('Hirings payrool', 11024149.19)]\n",
      "Columns returned by the query: RMKeyView(['task_name', 'TotalAmount'])\n",
      "Shape of results: 11 rows, 2 columns\n",
      "First few rows of results: [('Plumbing Works(G)', 116485018.40999995), ('Mat', 2916273.82), ('Mobilization', 1672696.98), ('HVAC AIR DUCT', 674763.28), ('Safety tools', 433331.13)]\n",
      "Columns returned by the query: RMKeyView(['top_task_name', 'TotalAmount'])\n",
      "Shape of results: 9 rows, 2 columns\n",
      "First few rows of results: [('INDIRECT COST', 530604170.45000005), ('CONCRETE WORK', 262974690.8600001), ('SITE WORK', 28576392.31), ('THERMAL & MOISTURE', 11684887.56), ('DOORS & WINDOWS WORK', 9256835.33)]\n",
      "Columns returned by the query: RMKeyView(['top_task_name', 'TotalAmount'])\n",
      "Shape of results: 11 rows, 2 columns\n",
      "First few rows of results: [('SPECIALITIES', 367012430.2700003), ('Indirect Cost', 150107197.61999997), ('CONCRETE WORK', 43060015.510000005), ('SITE WORK', 19512853.580000002), ('METAL WORK', 5290741.4399999995)]\n",
      "Columns returned by the query: RMKeyView(['top_task_name', 'TotalAmount'])\n",
      "Shape of results: 5 rows, 2 columns\n",
      "First few rows of results: [('Indirect Cost', 32348323.2), ('SITE WORK', 10450411.32), ('EQUIPMENT', 6207.3), ('MECHANICAL WORKS', -4964.7), ('SPECIALITIES', -27677.76999999999)]\n",
      "Columns returned by the query: RMKeyView(['top_task_name', 'TotalAmount'])\n",
      "Shape of results: 11 rows, 2 columns\n",
      "First few rows of results: [('SPECIALITIES', 214116737.22999987), ('Indirect Cost', 40013467.69000001), ('ELECTRICAL WORKS', 21302660.2), ('MECHANICAL WORKS', 13537688.040000001), ('SITE WORK', 4023920.3)]\n",
      "Columns returned by the query: RMKeyView(['top_task_name', 'TotalAmount'])\n",
      "Shape of results: 5 rows, 2 columns\n",
      "First few rows of results: [('MECHANICAL WORKS', 116485018.41000001), ('SPECIALITIES', 2916273.8200000003), ('Indirect Cost', 2231587.81), ('HVAC', 674763.28), ('CONCRETE WORK', 0.0)]\n",
      "Columns returned by the query: RMKeyView(['expenditure_category', 'TotalAmount'])\n",
      "Shape of results: 15 rows, 2 columns\n",
      "First few rows of results: [('Materials', 296449118.41000015), ('Indirect', 200494698.39000005), ('Subcontracts', 165409544.68), ('Direct Manpower', 160174791.18), ('Depreciation', 18393895.879999995)]\n",
      "Columns returned by the query: RMKeyView(['expenditure_category', 'TotalAmount'])\n",
      "Shape of results: 15 rows, 2 columns\n",
      "First few rows of results: [('Materials', 414909854.1499999), ('Subcontracts', 65430784.38), ('Indirect', 53893516.21000001), ('Direct Manpower', 35355458.68000001), ('Contingencies', 10394322.049999999)]\n",
      "Columns returned by the query: RMKeyView(['expenditure_category', 'TotalAmount'])\n",
      "Shape of results: 11 rows, 2 columns\n",
      "First few rows of results: [('Materials', 26324632.450000003), ('Subcontracts', 11778237.280000003), ('Indirect', 2601493.77), ('Direct Manpower', 1671417.26), ('Depreciation', 327222.19999999995)]\n",
      "Columns returned by the query: RMKeyView(['expenditure_category', 'TotalAmount'])\n",
      "Shape of results: 12 rows, 2 columns\n",
      "First few rows of results: [('Materials', 224896635.71999994), ('Subcontracts', 50220153.2), ('Indirect', 19247570.43), ('Depreciation', 2122804.27), ('Finance cost', 2041566.62)]\n",
      "Columns returned by the query: RMKeyView(['expenditure_category', 'TotalAmount'])\n",
      "Shape of results: 7 rows, 2 columns\n",
      "First few rows of results: [('Subcontracts', 120008396.41000001), ('Materials', 4024292.49), ('Indirect', 675288.0), ('Depreciation', 673755.65), ('Finance cost', 440088.76999999996)]\n",
      "Columns returned by the query: RMKeyView(['expend_org', 'TotalAmount'])\n",
      "Shape of results: 2 rows, 2 columns\n",
      "First few rows of results: [('Alrowad Construction_OU', 575257182.44), ('EGAT Pelletizing Plant-0144', 281716921.4800001)]\n",
      "Columns returned by the query: RMKeyView(['expend_org', 'TotalAmount'])\n",
      "Shape of results: 2 rows, 2 columns\n",
      "First few rows of results: [('Rolling Mill#4-0172', 379133629.5400001), ('Alrowad Construction_OU', 217536737.65000004)]\n",
      "Columns returned by the query: RMKeyView(['expend_org', 'TotalAmount'])\n",
      "Shape of results: 1 rows, 2 columns\n",
      "First few rows of results: [('Alrowad Construction_OU', 42772299.35)]\n",
      "Columns returned by the query: RMKeyView(['expend_org', 'TotalAmount'])\n",
      "Shape of results: 2 rows, 2 columns\n",
      "First few rows of results: [('Suez Steel Intake\\xa0 & Pump Stations-0184', 226576665.82000005), ('Alrowad Construction_OU', 74267085.19999999)]\n",
      "Columns returned by the query: RMKeyView(['expend_org', 'TotalAmount'])\n",
      "Shape of results: 2 rows, 2 columns\n",
      "First few rows of results: [('Alrowad Construction_OU', 118283275.09000006), ('EGAT Mechanical Installations', 4024368.230000001)]\n",
      "Columns returned by the query: RMKeyView(['line_desc', 'TotalAmount'])\n",
      "Shape of results: 5792 rows, 2 columns\n",
      "First few rows of results: [('Concrete 300 kg/cm2 SRC 350 Kg/m3', 66489169.71), ('Ready Mix Concrete With Strength 470 kg/cm2 & Cement Content 500 kg/m3 (OPC) -Slag-MF', 43661060.07), ('سولار', 19697433.700000037), (None, 15919147.800000036), ('خرسانة Concrete 250 kg/cm2 OPC 325 Kg/m3', 15836382.180000002)]\n",
      "Columns returned by the query: RMKeyView(['line_desc', 'TotalAmount'])\n",
      "Shape of results: 3937 rows, 2 columns\n",
      "First few rows of results: [('خرسانة مسلحة جهد 400 كجم/ سم2 محتوى أسمنت مقاوم 410 كجم /م3', 35768655.97000001), ('Ready Mix Concrete With Strength 470 kg/cm2 & Cement Content 500 kg/m3 (OPC) -Slag-MF', 29024753.169999998), ('Master Flow 950', 27531000.000000004), ('Ready Mix Concrete 400 kg/cm2 SRC 425 kg/m3', 27018005.7), ('خرسانة مسلحة جهد 400 كجم/ سم2 محتوى أسمنت عادى 410 كجم /م3', 20990798.92)]\n",
      "Columns returned by the query: RMKeyView(['line_desc', 'TotalAmount'])\n",
      "Shape of results: 495 rows, 2 columns\n",
      "First few rows of results: [('Geogrid (Stratagrid – SGU 120) (1.9m * 100m)', 6945597.970000001), ('طوبة بلوك وش جبل', 3874405.2500000005), ('Straragrid – SGU 80,(1.9M*100M ROLL SIZE)', 2555743.209999999), ('ردم بتربة من داخل الموقع محسنة باستخدام المهزات والبند غير شامل توريد المياه ويشمل النقل والخلط والدمك وكل ما يلزم لنهو العمل بحسب مواصفات المشروع', 2137428.4999999995), ('ADJ LOCK&LOAD to Projects May23', 1881638.34)]\n",
      "Columns returned by the query: RMKeyView(['line_desc', 'TotalAmount'])\n",
      "Shape of results: 2065 rows, 2 columns\n",
      "First few rows of results: [('مواسير HDPE قطر خارجى 710 مم ضغط 10 بار', 65059183.76), ('مواسير HDPE قطر خارجى 710 مم ضغط 16 بار', 32830204.5), ('مواسير HDPE قطر خارجى 560 مم ضغط 10 بار', 13657698.87), ('Standart Vertical / End Suction/ Single Stage pump model: PCV-M 300-400AB-3K, 350 l/s @ 37 m head complete with Electric Motor (Turkey/ IE3) 250 Kw, 1500 rpm, IP 56, Insulation Class F, Temperature Rise Class B, Bearing Life 100.000 hrs', 7997531.92), ('2.2.002 73088/4', 7923373.92)]\n",
      "Columns returned by the query: RMKeyView(['line_desc', 'TotalAmount'])\n",
      "Shape of results: 443 rows, 2 columns\n",
      "First few rows of results: [('1.1 80735/6', 16767756.0), ('1.1 80735/5', 15777570.0), ('2.1 87029/7', 13000004.0), ('2.1 80735/7', 12625272.0), ('2.1 87029/9', 8000000.18)]\n",
      "Columns returned by the query: RMKeyView(['owner', 'TotalAmount'])\n",
      "Shape of results: 17 rows, 2 columns\n",
      "First few rows of results: [('Finacial\\xa0 ', 552040508.8599999), ('Procurement\\xa0 ', 222140595.16000003), ('Purchasing\\xa0 ', 63212201.389999986), ('MEP\\xa0 ', 14580522.48), ('Automation\\xa0 ', 2254988.1700000004)]\n",
      "Columns returned by the query: RMKeyView(['owner', 'TotalAmount'])\n",
      "Shape of results: 14 rows, 2 columns\n",
      "First few rows of results: [('Procurement\\xa0 ', 241384135.73), ('Finacial\\xa0 ', 194378496.13), ('Purchasing\\xa0 ', 129655366.3), ('MEP\\xa0 ', 30133527.47), ('Safety\\xa0 ', 3321832.2799999993)]\n",
      "Columns returned by the query: RMKeyView(['owner', 'TotalAmount'])\n",
      "Shape of results: 10 rows, 2 columns\n",
      "First few rows of results: [('Finacial\\xa0 ', 23750540.000000004), ('Purchasing\\xa0 ', 18092770.31), ('Procurement\\xa0 ', 468467.64), ('MEP\\xa0 ', 425466.67000000004), ('Safety\\xa0 ', 22779.47)]\n",
      "Columns returned by the query: RMKeyView(['owner', 'TotalAmount'])\n",
      "Shape of results: 11 rows, 2 columns\n",
      "First few rows of results: [('MEP\\xa0 ', 188975046.99000004), ('Finacial\\xa0 ', 72698933.64), ('Procurement\\xa0 ', 20959951.089999996), ('Purchasing\\xa0 ', 15988453.590000002), ('Mechanical\\xa0 ', 1573151.56)]\n",
      "Columns returned by the query: RMKeyView(['owner', 'TotalAmount'])\n",
      "Shape of results: 10 rows, 2 columns\n",
      "First few rows of results: [('Finacial\\xa0 ', 115057223.22999999), ('Mechanical\\xa0 ', 3226080.0), ('Scaffolding\\xa0 ', 2100881.8), ('Purchasing\\xa0 ', 1628975.95), ('MEP\\xa0 ', 120398.51)]\n"
     ]
    },
    {
     "data": {
      "application/vnd.plotly.v1+json": {
       "config": {
        "plotlyServerURL": "https://plot.ly"
       },
       "data": [
        {
         "alignmentgroup": "True",
         "hovertemplate": "Transaction Source=%{x}<br>Total Amount=%{y}<extra></extra>",
         "legendgroup": "",
         "marker": {
          "color": "#636efa",
          "pattern": {
           "shape": ""
          }
         },
         "name": "",
         "offsetgroup": "",
         "orientation": "v",
         "showlegend": false,
         "textposition": "auto",
         "type": "bar",
         "x": [
          "Oracle Payables Supplier Invoices",
          "Inventory Misc",
          "WORK_CONFRIMATION",
          "Oracle Purchasing Receipt Accruals",
          "Non-Recoverable Tax from Purchasing Receipts"
         ],
         "xaxis": "x",
         "y": [
          450398793.94000006,
          272591965.47,
          125372258.15,
          7563875.08,
          1047211.2800000001
         ],
         "yaxis": "y"
        },
        {
         "alignmentgroup": "True",
         "hovertemplate": "Transaction Source=%{x}<br>Total Amount=%{y}<extra></extra>",
         "legendgroup": "",
         "marker": {
          "color": "#636efa",
          "pattern": {
           "shape": ""
          }
         },
         "name": "",
         "offsetgroup": "",
         "orientation": "v",
         "showlegend": false,
         "textposition": "auto",
         "type": "bar",
         "x": [
          "Inventory Misc",
          "Oracle Payables Supplier Invoices",
          "WORK_CONFRIMATION",
          "Oracle Purchasing Receipt Accruals",
          "Non-Recoverable Tax from Purchasing Receipts"
         ],
         "xaxis": "x2",
         "y": [
          366241470.0300001,
          154747599.75999996,
          65141732.62000001,
          9245232.29,
          1294332.4900000002
         ],
         "yaxis": "y2"
        },
        {
         "alignmentgroup": "True",
         "hovertemplate": "Transaction Source=%{x}<br>Total Amount=%{y}<extra></extra>",
         "legendgroup": "",
         "marker": {
          "color": "#636efa",
          "pattern": {
           "shape": ""
          }
         },
         "name": "",
         "offsetgroup": "",
         "orientation": "v",
         "showlegend": false,
         "textposition": "auto",
         "type": "bar",
         "x": [
          "Inventory Misc",
          "Oracle Payables Supplier Invoices",
          "WORK_CONFRIMATION"
         ],
         "xaxis": "x3",
         "y": [
          19096025.169999998,
          13119068.539999997,
          10557205.639999999
         ],
         "yaxis": "y3"
        },
        {
         "alignmentgroup": "True",
         "hovertemplate": "Transaction Source=%{x}<br>Total Amount=%{y}<extra></extra>",
         "legendgroup": "",
         "marker": {
          "color": "#636efa",
          "pattern": {
           "shape": ""
          }
         },
         "name": "",
         "offsetgroup": "",
         "orientation": "v",
         "showlegend": false,
         "textposition": "auto",
         "type": "bar",
         "x": [
          "Inventory Misc",
          "WORK_CONFRIMATION",
          "Oracle Payables Supplier Invoices"
         ],
         "xaxis": "x4",
         "y": [
          226576665.81999978,
          46073348.15000001,
          28193737.04999999
         ],
         "yaxis": "y4"
        },
        {
         "alignmentgroup": "True",
         "hovertemplate": "Transaction Source=%{x}<br>Total Amount=%{y}<extra></extra>",
         "legendgroup": "",
         "marker": {
          "color": "#636efa",
          "pattern": {
           "shape": ""
          }
         },
         "name": "",
         "offsetgroup": "",
         "orientation": "v",
         "showlegend": false,
         "textposition": "auto",
         "type": "bar",
         "x": [
          "WORK_CONFRIMATION",
          "Oracle Payables Supplier Invoices",
          "Inventory Misc"
         ],
         "xaxis": "x5",
         "y": [
          113258938.41000001,
          5024336.680000002,
          4024368.23
         ],
         "yaxis": "y5"
        },
        {
         "alignmentgroup": "True",
         "hovertemplate": "Task Name=%{x}<br>Total Amount=%{y}<extra></extra>",
         "legendgroup": "",
         "marker": {
          "color": "#636efa",
          "pattern": {
           "shape": ""
          }
         },
         "name": "",
         "offsetgroup": "",
         "orientation": "v",
         "showlegend": false,
         "textposition": "auto",
         "type": "bar",
         "x": [
          "Mobilization",
          "Formwork",
          "Private Cars",
          "Cast Place Concrete",
          "Safety tools",
          "Mobile Cranes",
          "Accomodation",
          "Excavation",
          "Other Equipment",
          "Loaders"
         ],
         "xaxis": "x6",
         "y": [
          318660895.18,
          198072878.73999998,
          65487786.56,
          53453125.530000016,
          43382002.95999999,
          23768985.480000004,
          21694157.1,
          18392140.919999998,
          16654486.170000002,
          15902304.82
         ],
         "yaxis": "y6"
        },
        {
         "alignmentgroup": "True",
         "hovertemplate": "Task Name=%{x}<br>Total Amount=%{y}<extra></extra>",
         "legendgroup": "",
         "marker": {
          "color": "#636efa",
          "pattern": {
           "shape": ""
          }
         },
         "name": "",
         "offsetgroup": "",
         "orientation": "v",
         "showlegend": false,
         "textposition": "auto",
         "type": "bar",
         "x": [
          "Mat",
          "Hirings payrool",
          "Mobilization",
          "Steel Reinforcement",
          "Excavation",
          "Safety tools",
          "Formwork",
          "Material Transportat",
          "Hirings daily wages",
          "Concrete Works"
         ],
         "xaxis": "x7",
         "y": [
          358789109.9599999,
          63833646.42,
          37416917.61,
          25919802.41,
          16369636.39,
          15399056.500000004,
          10943954.42,
          9899257.25,
          8415476.39,
          6126656.300000001
         ],
         "yaxis": "y7"
        },
        {
         "alignmentgroup": "True",
         "hovertemplate": "Task Name=%{x}<br>Total Amount=%{y}<extra></extra>",
         "legendgroup": "",
         "marker": {
          "color": "#636efa",
          "pattern": {
           "shape": ""
          }
         },
         "name": "",
         "offsetgroup": "",
         "orientation": "v",
         "showlegend": false,
         "textposition": "auto",
         "type": "bar",
         "x": [
          "Other Equipment",
          "Mobilization",
          "Backfilling",
          "Excavation",
          "Rented Cars",
          "Hirings payrool",
          "Sand",
          "Hirings daily wages",
          "Accomodation",
          "Insurance"
         ],
         "xaxis": "x8",
         "y": [
          19251317.34999999,
          8822791.420000002,
          7049029.13,
          2529079.3100000005,
          1638413.0399999998,
          1326244.5,
          747988.3400000001,
          475950.4699999988,
          422269,
          231639.17
         ],
         "yaxis": "y8"
        },
        {
         "alignmentgroup": "True",
         "hovertemplate": "Task Name=%{x}<br>Total Amount=%{y}<extra></extra>",
         "legendgroup": "",
         "marker": {
          "color": "#636efa",
          "pattern": {
           "shape": ""
          }
         },
         "name": "",
         "offsetgroup": "",
         "orientation": "v",
         "showlegend": false,
         "textposition": "auto",
         "type": "bar",
         "x": [
          "Mat",
          "Electrical Works (G)",
          "Safety tools",
          "Plumbing Works(G)",
          "Hirings payrool",
          "Mobilization",
          "Signs",
          "METAL FABRICATION (G",
          "Steel Reinforcement",
          "Repair"
         ],
         "xaxis": "x9",
         "y": [
          210375739.57999998,
          21302660.199999996,
          15766525.64,
          13541344.06,
          11024149.19,
          8991576.36,
          3398830.5500000003,
          2370202.24,
          1673038.21,
          1668754.7300000002
         ],
         "yaxis": "y9"
        },
        {
         "alignmentgroup": "True",
         "hovertemplate": "Task Name=%{x}<br>Total Amount=%{y}<extra></extra>",
         "legendgroup": "",
         "marker": {
          "color": "#636efa",
          "pattern": {
           "shape": ""
          }
         },
         "name": "",
         "offsetgroup": "",
         "orientation": "v",
         "showlegend": false,
         "textposition": "auto",
         "type": "bar",
         "x": [
          "Plumbing Works(G)",
          "Mat",
          "Mobilization",
          "HVAC AIR DUCT",
          "Safety tools",
          "Maintenance",
          "Sunderies",
          "Electrical Expenses",
          "Rented Cars",
          "Private Cars"
         ],
         "xaxis": "x10",
         "y": [
          116485018.40999995,
          2916273.82,
          1672696.98,
          674763.28,
          433331.13,
          111711.45000000001,
          7294.5,
          6000,
          353.75,
          200
         ],
         "yaxis": "y10"
        },
        {
         "alignmentgroup": "True",
         "hovertemplate": "Top Task Name=%{x}<br>Total Amount=%{y}<extra></extra>",
         "legendgroup": "",
         "marker": {
          "color": "#636efa",
          "pattern": {
           "shape": ""
          }
         },
         "name": "",
         "offsetgroup": "",
         "orientation": "v",
         "showlegend": false,
         "textposition": "auto",
         "type": "bar",
         "x": [
          "INDIRECT COST",
          "CONCRETE WORK",
          "SITE WORK",
          "THERMAL & MOISTURE",
          "DOORS & WINDOWS WORK",
          "FINISHES WORK",
          "MECHANICAL WORKS",
          "METAL WORK",
          "MASONRY WORK"
         ],
         "xaxis": "x11",
         "y": [
          530604170.45000005,
          262974690.8600001,
          28576392.31,
          11684887.56,
          9256835.33,
          6892719.790000001,
          3621453.369999999,
          2770840.68,
          592113.5700000001
         ],
         "yaxis": "y11"
        },
        {
         "alignmentgroup": "True",
         "hovertemplate": "Top Task Name=%{x}<br>Total Amount=%{y}<extra></extra>",
         "legendgroup": "",
         "marker": {
          "color": "#636efa",
          "pattern": {
           "shape": ""
          }
         },
         "name": "",
         "offsetgroup": "",
         "orientation": "v",
         "showlegend": false,
         "textposition": "auto",
         "type": "bar",
         "x": [
          "SPECIALITIES",
          "Indirect Cost",
          "CONCRETE WORK",
          "SITE WORK",
          "METAL WORK",
          "FINISHES WORK",
          "MECHANICAL WORKS",
          "ELECTRICAL WORKS",
          "THERMAL & MOISTURE P",
          "DOORS & WINDOWS WOR"
         ],
         "xaxis": "x12",
         "y": [
          367012430.2700003,
          150107197.61999997,
          43060015.510000005,
          19512853.580000002,
          5290741.4399999995,
          3317586.29,
          2859594.76,
          2778349.87,
          2669206.2800000003,
          32932.729999999996
         ],
         "yaxis": "y12"
        },
        {
         "alignmentgroup": "True",
         "hovertemplate": "Top Task Name=%{x}<br>Total Amount=%{y}<extra></extra>",
         "legendgroup": "",
         "marker": {
          "color": "#636efa",
          "pattern": {
           "shape": ""
          }
         },
         "name": "",
         "offsetgroup": "",
         "orientation": "v",
         "showlegend": false,
         "textposition": "auto",
         "type": "bar",
         "x": [
          "Indirect Cost",
          "SITE WORK",
          "EQUIPMENT",
          "MECHANICAL WORKS",
          "SPECIALITIES"
         ],
         "xaxis": "x13",
         "y": [
          32348323.2,
          10450411.32,
          6207.3,
          -4964.7,
          -27677.76999999999
         ],
         "yaxis": "y13"
        },
        {
         "alignmentgroup": "True",
         "hovertemplate": "Top Task Name=%{x}<br>Total Amount=%{y}<extra></extra>",
         "legendgroup": "",
         "marker": {
          "color": "#636efa",
          "pattern": {
           "shape": ""
          }
         },
         "name": "",
         "offsetgroup": "",
         "orientation": "v",
         "showlegend": false,
         "textposition": "auto",
         "type": "bar",
         "x": [
          "SPECIALITIES",
          "Indirect Cost",
          "ELECTRICAL WORKS",
          "MECHANICAL WORKS",
          "SITE WORK",
          "CONCRETE WORK",
          "METAL WORK",
          "THERMAL & MOISTURE P",
          "FINISHES WORK",
          "CONVEYING SYSTEMS"
         ],
         "xaxis": "x14",
         "y": [
          214116737.22999987,
          40013467.69000001,
          21302660.2,
          13537688.040000001,
          4023920.3,
          3255373.9899999998,
          2506135.77,
          1549598.77,
          215145.56,
          210604.14
         ],
         "yaxis": "y14"
        },
        {
         "alignmentgroup": "True",
         "hovertemplate": "Top Task Name=%{x}<br>Total Amount=%{y}<extra></extra>",
         "legendgroup": "",
         "marker": {
          "color": "#636efa",
          "pattern": {
           "shape": ""
          }
         },
         "name": "",
         "offsetgroup": "",
         "orientation": "v",
         "showlegend": false,
         "textposition": "auto",
         "type": "bar",
         "x": [
          "MECHANICAL WORKS",
          "SPECIALITIES",
          "Indirect Cost",
          "HVAC",
          "CONCRETE WORK"
         ],
         "xaxis": "x15",
         "y": [
          116485018.41000001,
          2916273.8200000003,
          2231587.81,
          674763.28,
          0
         ],
         "yaxis": "y15"
        },
        {
         "alignmentgroup": "True",
         "hovertemplate": "Expenditure Category=%{x}<br>Total Amount=%{y}<extra></extra>",
         "legendgroup": "",
         "marker": {
          "color": "#636efa",
          "pattern": {
           "shape": ""
          }
         },
         "name": "",
         "offsetgroup": "",
         "orientation": "v",
         "showlegend": false,
         "textposition": "auto",
         "type": "bar",
         "x": [
          "Materials",
          "Indirect",
          "Subcontracts",
          "Direct Manpower",
          "Depreciation",
          "Contingencies",
          "Equipment",
          "Finance cost",
          "Insurance",
          "Taxes & Insurance"
         ],
         "xaxis": "x16",
         "y": [
          296449118.41000015,
          200494698.39000005,
          165409544.68,
          160174791.18,
          18393895.879999995,
          6530403.569999998,
          5854896.969999999,
          1865094.13,
          782408.88,
          590009.45
         ],
         "yaxis": "y16"
        },
        {
         "alignmentgroup": "True",
         "hovertemplate": "Expenditure Category=%{x}<br>Total Amount=%{y}<extra></extra>",
         "legendgroup": "",
         "marker": {
          "color": "#636efa",
          "pattern": {
           "shape": ""
          }
         },
         "name": "",
         "offsetgroup": "",
         "orientation": "v",
         "showlegend": false,
         "textposition": "auto",
         "type": "bar",
         "x": [
          "Materials",
          "Subcontracts",
          "Indirect",
          "Direct Manpower",
          "Contingencies",
          "Depreciation",
          "Equipment",
          "Insurance",
          "Finance cost",
          "Taxes & Insurance"
         ],
         "xaxis": "x17",
         "y": [
          414909854.1499999,
          65430784.38,
          53893516.21000001,
          35355458.68000001,
          10394322.049999999,
          9045545.47,
          5324919.09,
          1061460.0499999998,
          890223.6299999999,
          239745.52
         ],
         "yaxis": "y17"
        },
        {
         "alignmentgroup": "True",
         "hovertemplate": "Expenditure Category=%{x}<br>Total Amount=%{y}<extra></extra>",
         "legendgroup": "",
         "marker": {
          "color": "#636efa",
          "pattern": {
           "shape": ""
          }
         },
         "name": "",
         "offsetgroup": "",
         "orientation": "v",
         "showlegend": false,
         "textposition": "auto",
         "type": "bar",
         "x": [
          "Materials",
          "Subcontracts",
          "Indirect",
          "Direct Manpower",
          "Depreciation",
          "Finance cost",
          "Taxes & Insurance",
          "Transportation",
          "Other",
          "Equipment"
         ],
         "xaxis": "x18",
         "y": [
          26324632.450000003,
          11778237.280000003,
          2601493.77,
          1671417.26,
          327222.19999999995,
          139106.08999999968,
          37620,
          8953,
          456,
          -4964.7
         ],
         "yaxis": "y18"
        },
        {
         "alignmentgroup": "True",
         "hovertemplate": "Expenditure Category=%{x}<br>Total Amount=%{y}<extra></extra>",
         "legendgroup": "",
         "marker": {
          "color": "#636efa",
          "pattern": {
           "shape": ""
          }
         },
         "name": "",
         "offsetgroup": "",
         "orientation": "v",
         "showlegend": false,
         "textposition": "auto",
         "type": "bar",
         "x": [
          "Materials",
          "Subcontracts",
          "Indirect",
          "Depreciation",
          "Finance cost",
          "Direct Manpower",
          "Insurance",
          "SPC Category",
          "Other",
          "Office and Site expenses"
         ],
         "xaxis": "x19",
         "y": [
          224896635.71999994,
          50220153.2,
          19247570.43,
          2122804.27,
          2041566.62,
          1744717.43,
          396334.07000000007,
          151666.08000000002,
          72735,
          23550
         ],
         "yaxis": "y19"
        },
        {
         "alignmentgroup": "True",
         "hovertemplate": "Expenditure Category=%{x}<br>Total Amount=%{y}<extra></extra>",
         "legendgroup": "",
         "marker": {
          "color": "#636efa",
          "pattern": {
           "shape": ""
          }
         },
         "name": "",
         "offsetgroup": "",
         "orientation": "v",
         "showlegend": false,
         "textposition": "auto",
         "type": "bar",
         "x": [
          "Subcontracts",
          "Materials",
          "Indirect",
          "Depreciation",
          "Finance cost",
          "Direct Manpower",
          "Contingencies"
         ],
         "xaxis": "x20",
         "y": [
          120008396.41000001,
          4024292.49,
          675288,
          673755.65,
          440088.76999999996,
          9200,
          -3523378
         ],
         "yaxis": "y20"
        },
        {
         "alignmentgroup": "True",
         "hovertemplate": "Expend Org=%{x}<br>Total Amount=%{y}<extra></extra>",
         "legendgroup": "",
         "marker": {
          "color": "#636efa",
          "pattern": {
           "shape": ""
          }
         },
         "name": "",
         "offsetgroup": "",
         "orientation": "v",
         "showlegend": false,
         "textposition": "auto",
         "type": "bar",
         "x": [
          "Alrowad Construction_OU",
          "EGAT Pelletizing Plant-0144"
         ],
         "xaxis": "x21",
         "y": [
          575257182.44,
          281716921.4800001
         ],
         "yaxis": "y21"
        },
        {
         "alignmentgroup": "True",
         "hovertemplate": "Expend Org=%{x}<br>Total Amount=%{y}<extra></extra>",
         "legendgroup": "",
         "marker": {
          "color": "#636efa",
          "pattern": {
           "shape": ""
          }
         },
         "name": "",
         "offsetgroup": "",
         "orientation": "v",
         "showlegend": false,
         "textposition": "auto",
         "type": "bar",
         "x": [
          "Rolling Mill#4-0172",
          "Alrowad Construction_OU"
         ],
         "xaxis": "x22",
         "y": [
          379133629.5400001,
          217536737.65000004
         ],
         "yaxis": "y22"
        },
        {
         "alignmentgroup": "True",
         "hovertemplate": "Expend Org=%{x}<br>Total Amount=%{y}<extra></extra>",
         "legendgroup": "",
         "marker": {
          "color": "#636efa",
          "pattern": {
           "shape": ""
          }
         },
         "name": "",
         "offsetgroup": "",
         "orientation": "v",
         "showlegend": false,
         "textposition": "auto",
         "type": "bar",
         "x": [
          "Alrowad Construction_OU"
         ],
         "xaxis": "x23",
         "y": [
          42772299.35
         ],
         "yaxis": "y23"
        },
        {
         "alignmentgroup": "True",
         "hovertemplate": "Expend Org=%{x}<br>Total Amount=%{y}<extra></extra>",
         "legendgroup": "",
         "marker": {
          "color": "#636efa",
          "pattern": {
           "shape": ""
          }
         },
         "name": "",
         "offsetgroup": "",
         "orientation": "v",
         "showlegend": false,
         "textposition": "auto",
         "type": "bar",
         "x": [
          "Suez Steel Intake  & Pump Stations-0184",
          "Alrowad Construction_OU"
         ],
         "xaxis": "x24",
         "y": [
          226576665.82000005,
          74267085.19999999
         ],
         "yaxis": "y24"
        },
        {
         "alignmentgroup": "True",
         "hovertemplate": "Expend Org=%{x}<br>Total Amount=%{y}<extra></extra>",
         "legendgroup": "",
         "marker": {
          "color": "#636efa",
          "pattern": {
           "shape": ""
          }
         },
         "name": "",
         "offsetgroup": "",
         "orientation": "v",
         "showlegend": false,
         "textposition": "auto",
         "type": "bar",
         "x": [
          "Alrowad Construction_OU",
          "EGAT Mechanical Installations"
         ],
         "xaxis": "x25",
         "y": [
          118283275.09000006,
          4024368.230000001
         ],
         "yaxis": "y25"
        },
        {
         "alignmentgroup": "True",
         "hovertemplate": "Line Desc=%{x}<br>Total Amount=%{y}<extra></extra>",
         "legendgroup": "",
         "marker": {
          "color": "#636efa",
          "pattern": {
           "shape": ""
          }
         },
         "name": "",
         "offsetgroup": "",
         "orientation": "v",
         "showlegend": false,
         "textposition": "auto",
         "type": "bar",
         "x": [
          "Concrete 300 kg/cm2 SRC 350 Kg/m3",
          "Ready Mix Concrete With Strength 470 kg/cm2 & Cement Content 500 kg/m3 (OPC) -Slag-MF",
          "سولار",
          null,
          "خرسانة Concrete 250 kg/cm2 OPC 325 Kg/m3",
          "خرسانة Concrete 100 kg/cm2 OPC 250 Kg/m3",
          "خرسانة Concrete 300 kg/cm2 OPC 350 Kg/m3",
          "حفر في جميع انواع التربة عدا الصخرية للوصول للمناسيب التصميمية ونقل ناتج الحفر (داخل الموقع) طبقا للمواصفات وتعليمات المھندس المشرف والبند يشمل كافة مصاريف فتح البوابات وكافة مايلزم لانھاء العمل طبقا لاصول الصناعة والحساب الھندسي",
          "خرسانة مسلحة جهد 300 كجم/ سم2 محتوى أسمنت Cem III/A 350كجم /م3",
          "حديد تسليح تشكيل فقط"
         ],
         "xaxis": "x26",
         "y": [
          66489169.71,
          43661060.07,
          19697433.700000037,
          15919147.800000036,
          15836382.180000002,
          12198794.47,
          10531106.250000004,
          7844427.379999998,
          7457632.049999999,
          7209133.369999999
         ],
         "yaxis": "y26"
        },
        {
         "alignmentgroup": "True",
         "hovertemplate": "Line Desc=%{x}<br>Total Amount=%{y}<extra></extra>",
         "legendgroup": "",
         "marker": {
          "color": "#636efa",
          "pattern": {
           "shape": ""
          }
         },
         "name": "",
         "offsetgroup": "",
         "orientation": "v",
         "showlegend": false,
         "textposition": "auto",
         "type": "bar",
         "x": [
          "خرسانة مسلحة جهد 400 كجم/ سم2 محتوى أسمنت مقاوم 410 كجم /م3",
          "Ready Mix Concrete With Strength 470 kg/cm2 & Cement Content 500 kg/m3 (OPC) -Slag-MF",
          "Master Flow 950",
          "Ready Mix Concrete 400 kg/cm2 SRC 425 kg/m3",
          "خرسانة مسلحة جهد 400 كجم/ سم2 محتوى أسمنت عادى 410 كجم /م3",
          "الواح كونتر 1.22م*2.44م*18مم",
          "Ready Mix Concrete With Strength (350 Kg/cm2) & SRC Cement Content (410 Kg/m3) agg 1 screed Including water, Sand, cement and all required additives",
          "خرسانة Concrete 400 kg/cm2 OPC 425 Kg/m3",
          "خشب موسكي 2بوصة*4بوصة *3.6م",
          "خرسانة مسلحة جهد 250 كجم/ سم2 محتوى أسمنت عادى 300 كجم /م3"
         ],
         "xaxis": "x27",
         "y": [
          35768655.97000001,
          29024753.169999998,
          27531000.000000004,
          27018005.7,
          20990798.92,
          16294865.990000002,
          14821117.2,
          12316175.82,
          11657429.649999999,
          11214988.64
         ],
         "yaxis": "y27"
        },
        {
         "alignmentgroup": "True",
         "hovertemplate": "Line Desc=%{x}<br>Total Amount=%{y}<extra></extra>",
         "legendgroup": "",
         "marker": {
          "color": "#636efa",
          "pattern": {
           "shape": ""
          }
         },
         "name": "",
         "offsetgroup": "",
         "orientation": "v",
         "showlegend": false,
         "textposition": "auto",
         "type": "bar",
         "x": [
          "Geogrid (Stratagrid – SGU 120) (1.9m * 100m)",
          "طوبة بلوك وش جبل",
          "Straragrid – SGU 80,(1.9M*100M ROLL SIZE)",
          "ردم بتربة من داخل الموقع محسنة باستخدام المهزات والبند غير شامل توريد المياه ويشمل النقل والخلط والدمك وكل ما يلزم لنهو العمل بحسب مواصفات المشروع",
          "ADJ LOCK&LOAD to Projects May23",
          "طوبة مفتاح عمود ركائز",
          "ردم بتربة من داخل الموقع محسنه عن طريق استخدام المهزات والبند غير شامل توريد المياه ويشمل النقل والخلط والدمك والسعر يشمل كل ما يلزم لنهو العمل نهوا تاما علي ان تكون طريقة الحساب هندسيا",
          "حفر في جميع انواع الترية عدا الصخرية للوصول للمناسب التصميمة ونقل ناتج الحفر (داخل الموقع) طبقا للمواصفات والبند يشمل الدمك وكافة مصاريف فتح البوابات وكل ما يلزم لنهو العمل نهوا تاما علي ان تكون طريقة الحساب هندسيا",
          "2.1 75494/11",
          "1.1 75494/4"
         ],
         "xaxis": "x28",
         "y": [
          6945597.970000001,
          3874405.2500000005,
          2555743.209999999,
          2137428.4999999995,
          1881638.34,
          1233275.1399999997,
          1105930.4800000002,
          906272.6100000002,
          875598.6,
          850752.3
         ],
         "yaxis": "y28"
        },
        {
         "alignmentgroup": "True",
         "hovertemplate": "Line Desc=%{x}<br>Total Amount=%{y}<extra></extra>",
         "legendgroup": "",
         "marker": {
          "color": "#636efa",
          "pattern": {
           "shape": ""
          }
         },
         "name": "",
         "offsetgroup": "",
         "orientation": "v",
         "showlegend": false,
         "textposition": "auto",
         "type": "bar",
         "x": [
          "مواسير HDPE قطر خارجى 710 مم ضغط 10 بار",
          "مواسير HDPE قطر خارجى 710 مم ضغط 16 بار",
          "مواسير HDPE قطر خارجى 560 مم ضغط 10 بار",
          "Standart Vertical / End Suction/ Single Stage pump model: PCV-M 300-400AB-3K, 350 l/s @ 37 m head complete with Electric Motor (Turkey/ IE3) 250 Kw, 1500 rpm, IP 56, Insulation Class F, Temperature Rise Class B, Bearing Life 100.000 hrs",
          "2.2.002 73088/4",
          "Standart Horizontal, double suction, single stage, axially split volute casing pump model: SDS 200-500, 670 m3/hr @ 104 m head complete with Electric Motor (Turkey/ IE3) 400 Kw, 1488 rpm, IP 55, Insulation Class F, Temperature Rise Class B,",
          "Genset assembled in Turkey rated 1250 kVA Standby power @380 volts, 50Hz, 0.8 PF. Genset Perkins diesel engine model 4012-46TWG2A to Stamford alternator model PI734 A.",
          "Butterfly valve, DN 700 mm, Pn 16 Body, disk,: Ductile cast iron G G G 50 Main gasket: EPDM Shafts Bearing: Stainless steel Bronze Retaining ring: Brass - Cast iron",
          "2.2.003 73088/2",
          "قيد التامينات الخاص بقسم العملاء 12/22023"
         ],
         "xaxis": "x29",
         "y": [
          65059183.76,
          32830204.5,
          13657698.87,
          7997531.92,
          7923373.92,
          7357729.36,
          7129238.52,
          4799400,
          3842894.4,
          3686222
         ],
         "yaxis": "y29"
        },
        {
         "alignmentgroup": "True",
         "hovertemplate": "Line Desc=%{x}<br>Total Amount=%{y}<extra></extra>",
         "legendgroup": "",
         "marker": {
          "color": "#636efa",
          "pattern": {
           "shape": ""
          }
         },
         "name": "",
         "offsetgroup": "",
         "orientation": "v",
         "showlegend": false,
         "textposition": "auto",
         "type": "bar",
         "x": [
          "1.1 80735/6",
          "1.1 80735/5",
          "2.1 87029/7",
          "2.1 80735/7",
          "2.1 87029/9",
          "2.1 80735/8",
          "1.1 87029/1",
          "1.1 87029/7",
          "1.1 87029/3",
          "2.1 80735/10"
         ],
         "xaxis": "x30",
         "y": [
          16767756,
          15777570,
          13000004,
          12625272,
          8000000.18,
          7813195.2,
          5979906.4,
          5527600.73,
          4564845.83,
          3538126.8
         ],
         "yaxis": "y30"
        },
        {
         "alignmentgroup": "True",
         "hovertemplate": "Owner=%{x}<br>Total Amount=%{y}<extra></extra>",
         "legendgroup": "",
         "marker": {
          "color": "#636efa",
          "pattern": {
           "shape": ""
          }
         },
         "name": "",
         "offsetgroup": "",
         "orientation": "v",
         "showlegend": false,
         "textposition": "auto",
         "type": "bar",
         "x": [
          "Finacial  ",
          "Procurement  ",
          "Purchasing  ",
          "MEP  ",
          "Automation  ",
          "Equipment  ",
          "Safety  ",
          "Scaffolding  ",
          "Administration  ",
          "IT  "
         ],
         "xaxis": "x31",
         "y": [
          552040508.8599999,
          222140595.16000003,
          63212201.389999986,
          14580522.48,
          2254988.1700000004,
          1232970.8299999998,
          1220919.6600000001,
          1037947.2,
          315801.92,
          91069.25000000001
         ],
         "yaxis": "y31"
        },
        {
         "alignmentgroup": "True",
         "hovertemplate": "Owner=%{x}<br>Total Amount=%{y}<extra></extra>",
         "legendgroup": "",
         "marker": {
          "color": "#636efa",
          "pattern": {
           "shape": ""
          }
         },
         "name": "",
         "offsetgroup": "",
         "orientation": "v",
         "showlegend": false,
         "textposition": "auto",
         "type": "bar",
         "x": [
          "Procurement  ",
          "Finacial  ",
          "Purchasing  ",
          "MEP  ",
          "Safety  ",
          "Scaffolding  ",
          "Administration  ",
          "Equipment  ",
          "IT  ",
          "Operation M  "
         ],
         "xaxis": "x32",
         "y": [
          241384135.73,
          194378496.13,
          129655366.3,
          30133527.47,
          3321832.2799999993,
          429749.48,
          399559.18000000005,
          376008.65,
          272896.15,
          59039.55000000007
         ],
         "yaxis": "y32"
        },
        {
         "alignmentgroup": "True",
         "hovertemplate": "Owner=%{x}<br>Total Amount=%{y}<extra></extra>",
         "legendgroup": "",
         "marker": {
          "color": "#636efa",
          "pattern": {
           "shape": ""
          }
         },
         "name": "",
         "offsetgroup": "",
         "orientation": "v",
         "showlegend": false,
         "textposition": "auto",
         "type": "bar",
         "x": [
          "Finacial  ",
          "Purchasing  ",
          "Procurement  ",
          "MEP  ",
          "Safety  ",
          "Equipment  ",
          "Administration  ",
          "IT  ",
          "Mechanical  ",
          "Operation M  "
         ],
         "xaxis": "x33",
         "y": [
          23750540.000000004,
          18092770.31,
          468467.64,
          425466.67000000004,
          22779.47,
          12697.289999999999,
          956.54,
          470,
          0,
          -1848.5699999999995
         ],
         "yaxis": "y33"
        },
        {
         "alignmentgroup": "True",
         "hovertemplate": "Owner=%{x}<br>Total Amount=%{y}<extra></extra>",
         "legendgroup": "",
         "marker": {
          "color": "#636efa",
          "pattern": {
           "shape": ""
          }
         },
         "name": "",
         "offsetgroup": "",
         "orientation": "v",
         "showlegend": false,
         "textposition": "auto",
         "type": "bar",
         "x": [
          "MEP  ",
          "Finacial  ",
          "Procurement  ",
          "Purchasing  ",
          "Mechanical  ",
          "Safety  ",
          "IT  ",
          "Scaffolding  ",
          "Equipment  ",
          "Administration  "
         ],
         "xaxis": "x34",
         "y": [
          188975046.99000004,
          72698933.64,
          20959951.089999996,
          15988453.590000002,
          1573151.56,
          452951.3,
          71899.67,
          68611.71,
          37034.13,
          22717.34
         ],
         "yaxis": "y34"
        },
        {
         "alignmentgroup": "True",
         "hovertemplate": "Owner=%{x}<br>Total Amount=%{y}<extra></extra>",
         "legendgroup": "",
         "marker": {
          "color": "#636efa",
          "pattern": {
           "shape": ""
          }
         },
         "name": "",
         "offsetgroup": "",
         "orientation": "v",
         "showlegend": false,
         "textposition": "auto",
         "type": "bar",
         "x": [
          "Finacial  ",
          "Mechanical  ",
          "Scaffolding  ",
          "Purchasing  ",
          "MEP  ",
          "Administration  ",
          "Equipment  ",
          "IT  ",
          "Safety  ",
          "Procurement  "
         ],
         "xaxis": "x35",
         "y": [
          115057223.22999999,
          3226080,
          2100881.8,
          1628975.95,
          120398.51,
          74195.64,
          33935.6,
          33524.93,
          29528.160000000003,
          2899.5
         ],
         "yaxis": "y35"
        }
       ],
       "layout": {
        "annotations": [
         {
          "font": {
           "size": 16
          },
          "showarrow": false,
          "text": "144 - EGAT Pelletizing Plant",
          "x": 0.08399999999999999,
          "xanchor": "center",
          "xref": "paper",
          "y": 0.9999999999999999,
          "yanchor": "bottom",
          "yref": "paper"
         },
         {
          "font": {
           "size": 16
          },
          "showarrow": false,
          "text": "172 - Egat Rolling Mill no.4",
          "x": 0.292,
          "xanchor": "center",
          "xref": "paper",
          "y": 0.9999999999999999,
          "yanchor": "bottom",
          "yref": "paper"
         },
         {
          "font": {
           "size": 16
          },
          "showarrow": false,
          "text": "173 - EGAT Lock & Load",
          "x": 0.5,
          "xanchor": "center",
          "xref": "paper",
          "y": 0.9999999999999999,
          "yanchor": "bottom",
          "yref": "paper"
         },
         {
          "font": {
           "size": 16
          },
          "showarrow": false,
          "text": "184 - SSC Suez Steel Company Project",
          "x": 0.708,
          "xanchor": "center",
          "xref": "paper",
          "y": 0.9999999999999999,
          "yanchor": "bottom",
          "yref": "paper"
         },
         {
          "font": {
           "size": 16
          },
          "showarrow": false,
          "text": "198 - EGAT Mechanical Installations",
          "x": 0.9159999999999999,
          "xanchor": "center",
          "xref": "paper",
          "y": 0.9999999999999999,
          "yanchor": "bottom",
          "yref": "paper"
         },
         {
          "font": {
           "size": 16
          },
          "showarrow": false,
          "text": "144 - EGAT Pelletizing Plant",
          "x": 0.08399999999999999,
          "xanchor": "center",
          "xref": "paper",
          "y": 0.8469387755102039,
          "yanchor": "bottom",
          "yref": "paper"
         },
         {
          "font": {
           "size": 16
          },
          "showarrow": false,
          "text": "172 - Egat Rolling Mill no.4",
          "x": 0.292,
          "xanchor": "center",
          "xref": "paper",
          "y": 0.8469387755102039,
          "yanchor": "bottom",
          "yref": "paper"
         },
         {
          "font": {
           "size": 16
          },
          "showarrow": false,
          "text": "173 - EGAT Lock & Load",
          "x": 0.5,
          "xanchor": "center",
          "xref": "paper",
          "y": 0.8469387755102039,
          "yanchor": "bottom",
          "yref": "paper"
         },
         {
          "font": {
           "size": 16
          },
          "showarrow": false,
          "text": "184 - SSC Suez Steel Company Project",
          "x": 0.708,
          "xanchor": "center",
          "xref": "paper",
          "y": 0.8469387755102039,
          "yanchor": "bottom",
          "yref": "paper"
         },
         {
          "font": {
           "size": 16
          },
          "showarrow": false,
          "text": "198 - EGAT Mechanical Installations",
          "x": 0.9159999999999999,
          "xanchor": "center",
          "xref": "paper",
          "y": 0.8469387755102039,
          "yanchor": "bottom",
          "yref": "paper"
         },
         {
          "font": {
           "size": 16
          },
          "showarrow": false,
          "text": "144 - EGAT Pelletizing Plant",
          "x": 0.08399999999999999,
          "xanchor": "center",
          "xref": "paper",
          "y": 0.6938775510204082,
          "yanchor": "bottom",
          "yref": "paper"
         },
         {
          "font": {
           "size": 16
          },
          "showarrow": false,
          "text": "172 - Egat Rolling Mill no.4",
          "x": 0.292,
          "xanchor": "center",
          "xref": "paper",
          "y": 0.6938775510204082,
          "yanchor": "bottom",
          "yref": "paper"
         },
         {
          "font": {
           "size": 16
          },
          "showarrow": false,
          "text": "173 - EGAT Lock & Load",
          "x": 0.5,
          "xanchor": "center",
          "xref": "paper",
          "y": 0.6938775510204082,
          "yanchor": "bottom",
          "yref": "paper"
         },
         {
          "font": {
           "size": 16
          },
          "showarrow": false,
          "text": "184 - SSC Suez Steel Company Project",
          "x": 0.708,
          "xanchor": "center",
          "xref": "paper",
          "y": 0.6938775510204082,
          "yanchor": "bottom",
          "yref": "paper"
         },
         {
          "font": {
           "size": 16
          },
          "showarrow": false,
          "text": "198 - EGAT Mechanical Installations",
          "x": 0.9159999999999999,
          "xanchor": "center",
          "xref": "paper",
          "y": 0.6938775510204082,
          "yanchor": "bottom",
          "yref": "paper"
         },
         {
          "font": {
           "size": 16
          },
          "showarrow": false,
          "text": "144 - EGAT Pelletizing Plant",
          "x": 0.08399999999999999,
          "xanchor": "center",
          "xref": "paper",
          "y": 0.5408163265306122,
          "yanchor": "bottom",
          "yref": "paper"
         },
         {
          "font": {
           "size": 16
          },
          "showarrow": false,
          "text": "172 - Egat Rolling Mill no.4",
          "x": 0.292,
          "xanchor": "center",
          "xref": "paper",
          "y": 0.5408163265306122,
          "yanchor": "bottom",
          "yref": "paper"
         },
         {
          "font": {
           "size": 16
          },
          "showarrow": false,
          "text": "173 - EGAT Lock & Load",
          "x": 0.5,
          "xanchor": "center",
          "xref": "paper",
          "y": 0.5408163265306122,
          "yanchor": "bottom",
          "yref": "paper"
         },
         {
          "font": {
           "size": 16
          },
          "showarrow": false,
          "text": "184 - SSC Suez Steel Company Project",
          "x": 0.708,
          "xanchor": "center",
          "xref": "paper",
          "y": 0.5408163265306122,
          "yanchor": "bottom",
          "yref": "paper"
         },
         {
          "font": {
           "size": 16
          },
          "showarrow": false,
          "text": "198 - EGAT Mechanical Installations",
          "x": 0.9159999999999999,
          "xanchor": "center",
          "xref": "paper",
          "y": 0.5408163265306122,
          "yanchor": "bottom",
          "yref": "paper"
         },
         {
          "font": {
           "size": 16
          },
          "showarrow": false,
          "text": "144 - EGAT Pelletizing Plant",
          "x": 0.08399999999999999,
          "xanchor": "center",
          "xref": "paper",
          "y": 0.3877551020408163,
          "yanchor": "bottom",
          "yref": "paper"
         },
         {
          "font": {
           "size": 16
          },
          "showarrow": false,
          "text": "172 - Egat Rolling Mill no.4",
          "x": 0.292,
          "xanchor": "center",
          "xref": "paper",
          "y": 0.3877551020408163,
          "yanchor": "bottom",
          "yref": "paper"
         },
         {
          "font": {
           "size": 16
          },
          "showarrow": false,
          "text": "173 - EGAT Lock & Load",
          "x": 0.5,
          "xanchor": "center",
          "xref": "paper",
          "y": 0.3877551020408163,
          "yanchor": "bottom",
          "yref": "paper"
         },
         {
          "font": {
           "size": 16
          },
          "showarrow": false,
          "text": "184 - SSC Suez Steel Company Project",
          "x": 0.708,
          "xanchor": "center",
          "xref": "paper",
          "y": 0.3877551020408163,
          "yanchor": "bottom",
          "yref": "paper"
         },
         {
          "font": {
           "size": 16
          },
          "showarrow": false,
          "text": "198 - EGAT Mechanical Installations",
          "x": 0.9159999999999999,
          "xanchor": "center",
          "xref": "paper",
          "y": 0.3877551020408163,
          "yanchor": "bottom",
          "yref": "paper"
         },
         {
          "font": {
           "size": 16
          },
          "showarrow": false,
          "text": "144 - EGAT Pelletizing Plant",
          "x": 0.08399999999999999,
          "xanchor": "center",
          "xref": "paper",
          "y": 0.2346938775510204,
          "yanchor": "bottom",
          "yref": "paper"
         },
         {
          "font": {
           "size": 16
          },
          "showarrow": false,
          "text": "172 - Egat Rolling Mill no.4",
          "x": 0.292,
          "xanchor": "center",
          "xref": "paper",
          "y": 0.2346938775510204,
          "yanchor": "bottom",
          "yref": "paper"
         },
         {
          "font": {
           "size": 16
          },
          "showarrow": false,
          "text": "173 - EGAT Lock & Load",
          "x": 0.5,
          "xanchor": "center",
          "xref": "paper",
          "y": 0.2346938775510204,
          "yanchor": "bottom",
          "yref": "paper"
         },
         {
          "font": {
           "size": 16
          },
          "showarrow": false,
          "text": "184 - SSC Suez Steel Company Project",
          "x": 0.708,
          "xanchor": "center",
          "xref": "paper",
          "y": 0.2346938775510204,
          "yanchor": "bottom",
          "yref": "paper"
         },
         {
          "font": {
           "size": 16
          },
          "showarrow": false,
          "text": "198 - EGAT Mechanical Installations",
          "x": 0.9159999999999999,
          "xanchor": "center",
          "xref": "paper",
          "y": 0.2346938775510204,
          "yanchor": "bottom",
          "yref": "paper"
         },
         {
          "font": {
           "size": 16
          },
          "showarrow": false,
          "text": "144 - EGAT Pelletizing Plant",
          "x": 0.08399999999999999,
          "xanchor": "center",
          "xref": "paper",
          "y": 0.08163265306122448,
          "yanchor": "bottom",
          "yref": "paper"
         },
         {
          "font": {
           "size": 16
          },
          "showarrow": false,
          "text": "172 - Egat Rolling Mill no.4",
          "x": 0.292,
          "xanchor": "center",
          "xref": "paper",
          "y": 0.08163265306122448,
          "yanchor": "bottom",
          "yref": "paper"
         },
         {
          "font": {
           "size": 16
          },
          "showarrow": false,
          "text": "173 - EGAT Lock & Load",
          "x": 0.5,
          "xanchor": "center",
          "xref": "paper",
          "y": 0.08163265306122448,
          "yanchor": "bottom",
          "yref": "paper"
         },
         {
          "font": {
           "size": 16
          },
          "showarrow": false,
          "text": "184 - SSC Suez Steel Company Project",
          "x": 0.708,
          "xanchor": "center",
          "xref": "paper",
          "y": 0.08163265306122448,
          "yanchor": "bottom",
          "yref": "paper"
         },
         {
          "font": {
           "size": 16
          },
          "showarrow": false,
          "text": "198 - EGAT Mechanical Installations",
          "x": 0.9159999999999999,
          "xanchor": "center",
          "xref": "paper",
          "y": 0.08163265306122448,
          "yanchor": "bottom",
          "yref": "paper"
         }
        ],
        "height": 3500,
        "showlegend": false,
        "template": {
         "data": {
          "bar": [
           {
            "error_x": {
             "color": "#2a3f5f"
            },
            "error_y": {
             "color": "#2a3f5f"
            },
            "marker": {
             "line": {
              "color": "#E5ECF6",
              "width": 0.5
             },
             "pattern": {
              "fillmode": "overlay",
              "size": 10,
              "solidity": 0.2
             }
            },
            "type": "bar"
           }
          ],
          "barpolar": [
           {
            "marker": {
             "line": {
              "color": "#E5ECF6",
              "width": 0.5
             },
             "pattern": {
              "fillmode": "overlay",
              "size": 10,
              "solidity": 0.2
             }
            },
            "type": "barpolar"
           }
          ],
          "carpet": [
           {
            "aaxis": {
             "endlinecolor": "#2a3f5f",
             "gridcolor": "white",
             "linecolor": "white",
             "minorgridcolor": "white",
             "startlinecolor": "#2a3f5f"
            },
            "baxis": {
             "endlinecolor": "#2a3f5f",
             "gridcolor": "white",
             "linecolor": "white",
             "minorgridcolor": "white",
             "startlinecolor": "#2a3f5f"
            },
            "type": "carpet"
           }
          ],
          "choropleth": [
           {
            "colorbar": {
             "outlinewidth": 0,
             "ticks": ""
            },
            "type": "choropleth"
           }
          ],
          "contour": [
           {
            "colorbar": {
             "outlinewidth": 0,
             "ticks": ""
            },
            "colorscale": [
             [
              0,
              "#0d0887"
             ],
             [
              0.1111111111111111,
              "#46039f"
             ],
             [
              0.2222222222222222,
              "#7201a8"
             ],
             [
              0.3333333333333333,
              "#9c179e"
             ],
             [
              0.4444444444444444,
              "#bd3786"
             ],
             [
              0.5555555555555556,
              "#d8576b"
             ],
             [
              0.6666666666666666,
              "#ed7953"
             ],
             [
              0.7777777777777778,
              "#fb9f3a"
             ],
             [
              0.8888888888888888,
              "#fdca26"
             ],
             [
              1,
              "#f0f921"
             ]
            ],
            "type": "contour"
           }
          ],
          "contourcarpet": [
           {
            "colorbar": {
             "outlinewidth": 0,
             "ticks": ""
            },
            "type": "contourcarpet"
           }
          ],
          "heatmap": [
           {
            "colorbar": {
             "outlinewidth": 0,
             "ticks": ""
            },
            "colorscale": [
             [
              0,
              "#0d0887"
             ],
             [
              0.1111111111111111,
              "#46039f"
             ],
             [
              0.2222222222222222,
              "#7201a8"
             ],
             [
              0.3333333333333333,
              "#9c179e"
             ],
             [
              0.4444444444444444,
              "#bd3786"
             ],
             [
              0.5555555555555556,
              "#d8576b"
             ],
             [
              0.6666666666666666,
              "#ed7953"
             ],
             [
              0.7777777777777778,
              "#fb9f3a"
             ],
             [
              0.8888888888888888,
              "#fdca26"
             ],
             [
              1,
              "#f0f921"
             ]
            ],
            "type": "heatmap"
           }
          ],
          "heatmapgl": [
           {
            "colorbar": {
             "outlinewidth": 0,
             "ticks": ""
            },
            "colorscale": [
             [
              0,
              "#0d0887"
             ],
             [
              0.1111111111111111,
              "#46039f"
             ],
             [
              0.2222222222222222,
              "#7201a8"
             ],
             [
              0.3333333333333333,
              "#9c179e"
             ],
             [
              0.4444444444444444,
              "#bd3786"
             ],
             [
              0.5555555555555556,
              "#d8576b"
             ],
             [
              0.6666666666666666,
              "#ed7953"
             ],
             [
              0.7777777777777778,
              "#fb9f3a"
             ],
             [
              0.8888888888888888,
              "#fdca26"
             ],
             [
              1,
              "#f0f921"
             ]
            ],
            "type": "heatmapgl"
           }
          ],
          "histogram": [
           {
            "marker": {
             "pattern": {
              "fillmode": "overlay",
              "size": 10,
              "solidity": 0.2
             }
            },
            "type": "histogram"
           }
          ],
          "histogram2d": [
           {
            "colorbar": {
             "outlinewidth": 0,
             "ticks": ""
            },
            "colorscale": [
             [
              0,
              "#0d0887"
             ],
             [
              0.1111111111111111,
              "#46039f"
             ],
             [
              0.2222222222222222,
              "#7201a8"
             ],
             [
              0.3333333333333333,
              "#9c179e"
             ],
             [
              0.4444444444444444,
              "#bd3786"
             ],
             [
              0.5555555555555556,
              "#d8576b"
             ],
             [
              0.6666666666666666,
              "#ed7953"
             ],
             [
              0.7777777777777778,
              "#fb9f3a"
             ],
             [
              0.8888888888888888,
              "#fdca26"
             ],
             [
              1,
              "#f0f921"
             ]
            ],
            "type": "histogram2d"
           }
          ],
          "histogram2dcontour": [
           {
            "colorbar": {
             "outlinewidth": 0,
             "ticks": ""
            },
            "colorscale": [
             [
              0,
              "#0d0887"
             ],
             [
              0.1111111111111111,
              "#46039f"
             ],
             [
              0.2222222222222222,
              "#7201a8"
             ],
             [
              0.3333333333333333,
              "#9c179e"
             ],
             [
              0.4444444444444444,
              "#bd3786"
             ],
             [
              0.5555555555555556,
              "#d8576b"
             ],
             [
              0.6666666666666666,
              "#ed7953"
             ],
             [
              0.7777777777777778,
              "#fb9f3a"
             ],
             [
              0.8888888888888888,
              "#fdca26"
             ],
             [
              1,
              "#f0f921"
             ]
            ],
            "type": "histogram2dcontour"
           }
          ],
          "mesh3d": [
           {
            "colorbar": {
             "outlinewidth": 0,
             "ticks": ""
            },
            "type": "mesh3d"
           }
          ],
          "parcoords": [
           {
            "line": {
             "colorbar": {
              "outlinewidth": 0,
              "ticks": ""
             }
            },
            "type": "parcoords"
           }
          ],
          "pie": [
           {
            "automargin": true,
            "type": "pie"
           }
          ],
          "scatter": [
           {
            "fillpattern": {
             "fillmode": "overlay",
             "size": 10,
             "solidity": 0.2
            },
            "type": "scatter"
           }
          ],
          "scatter3d": [
           {
            "line": {
             "colorbar": {
              "outlinewidth": 0,
              "ticks": ""
             }
            },
            "marker": {
             "colorbar": {
              "outlinewidth": 0,
              "ticks": ""
             }
            },
            "type": "scatter3d"
           }
          ],
          "scattercarpet": [
           {
            "marker": {
             "colorbar": {
              "outlinewidth": 0,
              "ticks": ""
             }
            },
            "type": "scattercarpet"
           }
          ],
          "scattergeo": [
           {
            "marker": {
             "colorbar": {
              "outlinewidth": 0,
              "ticks": ""
             }
            },
            "type": "scattergeo"
           }
          ],
          "scattergl": [
           {
            "marker": {
             "colorbar": {
              "outlinewidth": 0,
              "ticks": ""
             }
            },
            "type": "scattergl"
           }
          ],
          "scattermapbox": [
           {
            "marker": {
             "colorbar": {
              "outlinewidth": 0,
              "ticks": ""
             }
            },
            "type": "scattermapbox"
           }
          ],
          "scatterpolar": [
           {
            "marker": {
             "colorbar": {
              "outlinewidth": 0,
              "ticks": ""
             }
            },
            "type": "scatterpolar"
           }
          ],
          "scatterpolargl": [
           {
            "marker": {
             "colorbar": {
              "outlinewidth": 0,
              "ticks": ""
             }
            },
            "type": "scatterpolargl"
           }
          ],
          "scatterternary": [
           {
            "marker": {
             "colorbar": {
              "outlinewidth": 0,
              "ticks": ""
             }
            },
            "type": "scatterternary"
           }
          ],
          "surface": [
           {
            "colorbar": {
             "outlinewidth": 0,
             "ticks": ""
            },
            "colorscale": [
             [
              0,
              "#0d0887"
             ],
             [
              0.1111111111111111,
              "#46039f"
             ],
             [
              0.2222222222222222,
              "#7201a8"
             ],
             [
              0.3333333333333333,
              "#9c179e"
             ],
             [
              0.4444444444444444,
              "#bd3786"
             ],
             [
              0.5555555555555556,
              "#d8576b"
             ],
             [
              0.6666666666666666,
              "#ed7953"
             ],
             [
              0.7777777777777778,
              "#fb9f3a"
             ],
             [
              0.8888888888888888,
              "#fdca26"
             ],
             [
              1,
              "#f0f921"
             ]
            ],
            "type": "surface"
           }
          ],
          "table": [
           {
            "cells": {
             "fill": {
              "color": "#EBF0F8"
             },
             "line": {
              "color": "white"
             }
            },
            "header": {
             "fill": {
              "color": "#C8D4E3"
             },
             "line": {
              "color": "white"
             }
            },
            "type": "table"
           }
          ]
         },
         "layout": {
          "annotationdefaults": {
           "arrowcolor": "#2a3f5f",
           "arrowhead": 0,
           "arrowwidth": 1
          },
          "autotypenumbers": "strict",
          "coloraxis": {
           "colorbar": {
            "outlinewidth": 0,
            "ticks": ""
           }
          },
          "colorscale": {
           "diverging": [
            [
             0,
             "#8e0152"
            ],
            [
             0.1,
             "#c51b7d"
            ],
            [
             0.2,
             "#de77ae"
            ],
            [
             0.3,
             "#f1b6da"
            ],
            [
             0.4,
             "#fde0ef"
            ],
            [
             0.5,
             "#f7f7f7"
            ],
            [
             0.6,
             "#e6f5d0"
            ],
            [
             0.7,
             "#b8e186"
            ],
            [
             0.8,
             "#7fbc41"
            ],
            [
             0.9,
             "#4d9221"
            ],
            [
             1,
             "#276419"
            ]
           ],
           "sequential": [
            [
             0,
             "#0d0887"
            ],
            [
             0.1111111111111111,
             "#46039f"
            ],
            [
             0.2222222222222222,
             "#7201a8"
            ],
            [
             0.3333333333333333,
             "#9c179e"
            ],
            [
             0.4444444444444444,
             "#bd3786"
            ],
            [
             0.5555555555555556,
             "#d8576b"
            ],
            [
             0.6666666666666666,
             "#ed7953"
            ],
            [
             0.7777777777777778,
             "#fb9f3a"
            ],
            [
             0.8888888888888888,
             "#fdca26"
            ],
            [
             1,
             "#f0f921"
            ]
           ],
           "sequentialminus": [
            [
             0,
             "#0d0887"
            ],
            [
             0.1111111111111111,
             "#46039f"
            ],
            [
             0.2222222222222222,
             "#7201a8"
            ],
            [
             0.3333333333333333,
             "#9c179e"
            ],
            [
             0.4444444444444444,
             "#bd3786"
            ],
            [
             0.5555555555555556,
             "#d8576b"
            ],
            [
             0.6666666666666666,
             "#ed7953"
            ],
            [
             0.7777777777777778,
             "#fb9f3a"
            ],
            [
             0.8888888888888888,
             "#fdca26"
            ],
            [
             1,
             "#f0f921"
            ]
           ]
          },
          "colorway": [
           "#636efa",
           "#EF553B",
           "#00cc96",
           "#ab63fa",
           "#FFA15A",
           "#19d3f3",
           "#FF6692",
           "#B6E880",
           "#FF97FF",
           "#FECB52"
          ],
          "font": {
           "color": "#2a3f5f"
          },
          "geo": {
           "bgcolor": "white",
           "lakecolor": "white",
           "landcolor": "#E5ECF6",
           "showlakes": true,
           "showland": true,
           "subunitcolor": "white"
          },
          "hoverlabel": {
           "align": "left"
          },
          "hovermode": "closest",
          "mapbox": {
           "style": "light"
          },
          "paper_bgcolor": "white",
          "plot_bgcolor": "#E5ECF6",
          "polar": {
           "angularaxis": {
            "gridcolor": "white",
            "linecolor": "white",
            "ticks": ""
           },
           "bgcolor": "#E5ECF6",
           "radialaxis": {
            "gridcolor": "white",
            "linecolor": "white",
            "ticks": ""
           }
          },
          "scene": {
           "xaxis": {
            "backgroundcolor": "#E5ECF6",
            "gridcolor": "white",
            "gridwidth": 2,
            "linecolor": "white",
            "showbackground": true,
            "ticks": "",
            "zerolinecolor": "white"
           },
           "yaxis": {
            "backgroundcolor": "#E5ECF6",
            "gridcolor": "white",
            "gridwidth": 2,
            "linecolor": "white",
            "showbackground": true,
            "ticks": "",
            "zerolinecolor": "white"
           },
           "zaxis": {
            "backgroundcolor": "#E5ECF6",
            "gridcolor": "white",
            "gridwidth": 2,
            "linecolor": "white",
            "showbackground": true,
            "ticks": "",
            "zerolinecolor": "white"
           }
          },
          "shapedefaults": {
           "line": {
            "color": "#2a3f5f"
           }
          },
          "ternary": {
           "aaxis": {
            "gridcolor": "white",
            "linecolor": "white",
            "ticks": ""
           },
           "baxis": {
            "gridcolor": "white",
            "linecolor": "white",
            "ticks": ""
           },
           "bgcolor": "#E5ECF6",
           "caxis": {
            "gridcolor": "white",
            "linecolor": "white",
            "ticks": ""
           }
          },
          "title": {
           "x": 0.05
          },
          "xaxis": {
           "automargin": true,
           "gridcolor": "white",
           "linecolor": "white",
           "ticks": "",
           "title": {
            "standoff": 15
           },
           "zerolinecolor": "white",
           "zerolinewidth": 2
          },
          "yaxis": {
           "automargin": true,
           "gridcolor": "white",
           "linecolor": "white",
           "ticks": "",
           "title": {
            "standoff": 15
           },
           "zerolinecolor": "white",
           "zerolinewidth": 2
          }
         }
        },
        "title": {
         "text": "Top 10 Amounts by Column and Project"
        },
        "width": 1500,
        "xaxis": {
         "anchor": "y",
         "domain": [
          0,
          0.16799999999999998
         ],
         "title": {
          "text": "Transaction Source"
         }
        },
        "xaxis10": {
         "anchor": "y10",
         "domain": [
          0.832,
          1
         ],
         "title": {
          "text": "Task Name"
         }
        },
        "xaxis11": {
         "anchor": "y11",
         "domain": [
          0,
          0.16799999999999998
         ],
         "title": {
          "text": "Top Task Name"
         }
        },
        "xaxis12": {
         "anchor": "y12",
         "domain": [
          0.208,
          0.376
         ],
         "title": {
          "text": "Top Task Name"
         }
        },
        "xaxis13": {
         "anchor": "y13",
         "domain": [
          0.416,
          0.584
         ],
         "title": {
          "text": "Top Task Name"
         }
        },
        "xaxis14": {
         "anchor": "y14",
         "domain": [
          0.624,
          0.792
         ],
         "title": {
          "text": "Top Task Name"
         }
        },
        "xaxis15": {
         "anchor": "y15",
         "domain": [
          0.832,
          1
         ],
         "title": {
          "text": "Top Task Name"
         }
        },
        "xaxis16": {
         "anchor": "y16",
         "domain": [
          0,
          0.16799999999999998
         ],
         "title": {
          "text": "Expenditure Category"
         }
        },
        "xaxis17": {
         "anchor": "y17",
         "domain": [
          0.208,
          0.376
         ],
         "title": {
          "text": "Expenditure Category"
         }
        },
        "xaxis18": {
         "anchor": "y18",
         "domain": [
          0.416,
          0.584
         ],
         "title": {
          "text": "Expenditure Category"
         }
        },
        "xaxis19": {
         "anchor": "y19",
         "domain": [
          0.624,
          0.792
         ],
         "title": {
          "text": "Expenditure Category"
         }
        },
        "xaxis2": {
         "anchor": "y2",
         "domain": [
          0.208,
          0.376
         ],
         "title": {
          "text": "Transaction Source"
         }
        },
        "xaxis20": {
         "anchor": "y20",
         "domain": [
          0.832,
          1
         ],
         "title": {
          "text": "Expenditure Category"
         }
        },
        "xaxis21": {
         "anchor": "y21",
         "domain": [
          0,
          0.16799999999999998
         ],
         "title": {
          "text": "Expend Org"
         }
        },
        "xaxis22": {
         "anchor": "y22",
         "domain": [
          0.208,
          0.376
         ],
         "title": {
          "text": "Expend Org"
         }
        },
        "xaxis23": {
         "anchor": "y23",
         "domain": [
          0.416,
          0.584
         ],
         "title": {
          "text": "Expend Org"
         }
        },
        "xaxis24": {
         "anchor": "y24",
         "domain": [
          0.624,
          0.792
         ],
         "title": {
          "text": "Expend Org"
         }
        },
        "xaxis25": {
         "anchor": "y25",
         "domain": [
          0.832,
          1
         ],
         "title": {
          "text": "Expend Org"
         }
        },
        "xaxis26": {
         "anchor": "y26",
         "domain": [
          0,
          0.16799999999999998
         ],
         "title": {
          "text": "Line Desc"
         }
        },
        "xaxis27": {
         "anchor": "y27",
         "domain": [
          0.208,
          0.376
         ],
         "title": {
          "text": "Line Desc"
         }
        },
        "xaxis28": {
         "anchor": "y28",
         "domain": [
          0.416,
          0.584
         ],
         "title": {
          "text": "Line Desc"
         }
        },
        "xaxis29": {
         "anchor": "y29",
         "domain": [
          0.624,
          0.792
         ],
         "title": {
          "text": "Line Desc"
         }
        },
        "xaxis3": {
         "anchor": "y3",
         "domain": [
          0.416,
          0.584
         ],
         "title": {
          "text": "Transaction Source"
         }
        },
        "xaxis30": {
         "anchor": "y30",
         "domain": [
          0.832,
          1
         ],
         "title": {
          "text": "Line Desc"
         }
        },
        "xaxis31": {
         "anchor": "y31",
         "domain": [
          0,
          0.16799999999999998
         ],
         "title": {
          "text": "Owner"
         }
        },
        "xaxis32": {
         "anchor": "y32",
         "domain": [
          0.208,
          0.376
         ],
         "title": {
          "text": "Owner"
         }
        },
        "xaxis33": {
         "anchor": "y33",
         "domain": [
          0.416,
          0.584
         ],
         "title": {
          "text": "Owner"
         }
        },
        "xaxis34": {
         "anchor": "y34",
         "domain": [
          0.624,
          0.792
         ],
         "title": {
          "text": "Owner"
         }
        },
        "xaxis35": {
         "anchor": "y35",
         "domain": [
          0.832,
          1
         ],
         "title": {
          "text": "Owner"
         }
        },
        "xaxis4": {
         "anchor": "y4",
         "domain": [
          0.624,
          0.792
         ],
         "title": {
          "text": "Transaction Source"
         }
        },
        "xaxis5": {
         "anchor": "y5",
         "domain": [
          0.832,
          1
         ],
         "title": {
          "text": "Transaction Source"
         }
        },
        "xaxis6": {
         "anchor": "y6",
         "domain": [
          0,
          0.16799999999999998
         ],
         "title": {
          "text": "Task Name"
         }
        },
        "xaxis7": {
         "anchor": "y7",
         "domain": [
          0.208,
          0.376
         ],
         "title": {
          "text": "Task Name"
         }
        },
        "xaxis8": {
         "anchor": "y8",
         "domain": [
          0.416,
          0.584
         ],
         "title": {
          "text": "Task Name"
         }
        },
        "xaxis9": {
         "anchor": "y9",
         "domain": [
          0.624,
          0.792
         ],
         "title": {
          "text": "Task Name"
         }
        },
        "yaxis": {
         "anchor": "x",
         "domain": [
          0.9183673469387754,
          0.9999999999999999
         ],
         "title": {
          "text": "Total Amount"
         }
        },
        "yaxis10": {
         "anchor": "x10",
         "domain": [
          0.7653061224489794,
          0.8469387755102039
         ],
         "title": {
          "text": "Total Amount"
         }
        },
        "yaxis11": {
         "anchor": "x11",
         "domain": [
          0.6122448979591837,
          0.6938775510204082
         ],
         "title": {
          "text": "Total Amount"
         }
        },
        "yaxis12": {
         "anchor": "x12",
         "domain": [
          0.6122448979591837,
          0.6938775510204082
         ],
         "title": {
          "text": "Total Amount"
         }
        },
        "yaxis13": {
         "anchor": "x13",
         "domain": [
          0.6122448979591837,
          0.6938775510204082
         ],
         "title": {
          "text": "Total Amount"
         }
        },
        "yaxis14": {
         "anchor": "x14",
         "domain": [
          0.6122448979591837,
          0.6938775510204082
         ],
         "title": {
          "text": "Total Amount"
         }
        },
        "yaxis15": {
         "anchor": "x15",
         "domain": [
          0.6122448979591837,
          0.6938775510204082
         ],
         "title": {
          "text": "Total Amount"
         }
        },
        "yaxis16": {
         "anchor": "x16",
         "domain": [
          0.4591836734693877,
          0.5408163265306122
         ],
         "title": {
          "text": "Total Amount"
         }
        },
        "yaxis17": {
         "anchor": "x17",
         "domain": [
          0.4591836734693877,
          0.5408163265306122
         ],
         "title": {
          "text": "Total Amount"
         }
        },
        "yaxis18": {
         "anchor": "x18",
         "domain": [
          0.4591836734693877,
          0.5408163265306122
         ],
         "title": {
          "text": "Total Amount"
         }
        },
        "yaxis19": {
         "anchor": "x19",
         "domain": [
          0.4591836734693877,
          0.5408163265306122
         ],
         "title": {
          "text": "Total Amount"
         }
        },
        "yaxis2": {
         "anchor": "x2",
         "domain": [
          0.9183673469387754,
          0.9999999999999999
         ],
         "title": {
          "text": "Total Amount"
         }
        },
        "yaxis20": {
         "anchor": "x20",
         "domain": [
          0.4591836734693877,
          0.5408163265306122
         ],
         "title": {
          "text": "Total Amount"
         }
        },
        "yaxis21": {
         "anchor": "x21",
         "domain": [
          0.30612244897959184,
          0.3877551020408163
         ],
         "title": {
          "text": "Total Amount"
         }
        },
        "yaxis22": {
         "anchor": "x22",
         "domain": [
          0.30612244897959184,
          0.3877551020408163
         ],
         "title": {
          "text": "Total Amount"
         }
        },
        "yaxis23": {
         "anchor": "x23",
         "domain": [
          0.30612244897959184,
          0.3877551020408163
         ],
         "title": {
          "text": "Total Amount"
         }
        },
        "yaxis24": {
         "anchor": "x24",
         "domain": [
          0.30612244897959184,
          0.3877551020408163
         ],
         "title": {
          "text": "Total Amount"
         }
        },
        "yaxis25": {
         "anchor": "x25",
         "domain": [
          0.30612244897959184,
          0.3877551020408163
         ],
         "title": {
          "text": "Total Amount"
         }
        },
        "yaxis26": {
         "anchor": "x26",
         "domain": [
          0.15306122448979592,
          0.2346938775510204
         ],
         "title": {
          "text": "Total Amount"
         }
        },
        "yaxis27": {
         "anchor": "x27",
         "domain": [
          0.15306122448979592,
          0.2346938775510204
         ],
         "title": {
          "text": "Total Amount"
         }
        },
        "yaxis28": {
         "anchor": "x28",
         "domain": [
          0.15306122448979592,
          0.2346938775510204
         ],
         "title": {
          "text": "Total Amount"
         }
        },
        "yaxis29": {
         "anchor": "x29",
         "domain": [
          0.15306122448979592,
          0.2346938775510204
         ],
         "title": {
          "text": "Total Amount"
         }
        },
        "yaxis3": {
         "anchor": "x3",
         "domain": [
          0.9183673469387754,
          0.9999999999999999
         ],
         "title": {
          "text": "Total Amount"
         }
        },
        "yaxis30": {
         "anchor": "x30",
         "domain": [
          0.15306122448979592,
          0.2346938775510204
         ],
         "title": {
          "text": "Total Amount"
         }
        },
        "yaxis31": {
         "anchor": "x31",
         "domain": [
          0,
          0.08163265306122448
         ],
         "title": {
          "text": "Total Amount"
         }
        },
        "yaxis32": {
         "anchor": "x32",
         "domain": [
          0,
          0.08163265306122448
         ],
         "title": {
          "text": "Total Amount"
         }
        },
        "yaxis33": {
         "anchor": "x33",
         "domain": [
          0,
          0.08163265306122448
         ],
         "title": {
          "text": "Total Amount"
         }
        },
        "yaxis34": {
         "anchor": "x34",
         "domain": [
          0,
          0.08163265306122448
         ],
         "title": {
          "text": "Total Amount"
         }
        },
        "yaxis35": {
         "anchor": "x35",
         "domain": [
          0,
          0.08163265306122448
         ],
         "title": {
          "text": "Total Amount"
         }
        },
        "yaxis4": {
         "anchor": "x4",
         "domain": [
          0.9183673469387754,
          0.9999999999999999
         ],
         "title": {
          "text": "Total Amount"
         }
        },
        "yaxis5": {
         "anchor": "x5",
         "domain": [
          0.9183673469387754,
          0.9999999999999999
         ],
         "title": {
          "text": "Total Amount"
         }
        },
        "yaxis6": {
         "anchor": "x6",
         "domain": [
          0.7653061224489794,
          0.8469387755102039
         ],
         "title": {
          "text": "Total Amount"
         }
        },
        "yaxis7": {
         "anchor": "x7",
         "domain": [
          0.7653061224489794,
          0.8469387755102039
         ],
         "title": {
          "text": "Total Amount"
         }
        },
        "yaxis8": {
         "anchor": "x8",
         "domain": [
          0.7653061224489794,
          0.8469387755102039
         ],
         "title": {
          "text": "Total Amount"
         }
        },
        "yaxis9": {
         "anchor": "x9",
         "domain": [
          0.7653061224489794,
          0.8469387755102039
         ],
         "title": {
          "text": "Total Amount"
         }
        }
       }
      }
     },
     "metadata": {},
     "output_type": "display_data"
    }
   ],
   "source": [
    "import plotly.express as px\n",
    "import plotly.subplots as sp\n",
    "\n",
    "# 1. Columns to analyze\n",
    "columns_to_analyze = ['transaction_source', 'task_name', 'top_task_name', 'expenditure_category', 'expend_org', 'line_desc', 'owner']\n",
    "\n",
    "# 2. Create subplots (7 rows for columns, 5 columns for projects)\n",
    "fig = sp.make_subplots(rows=7, cols=5, subplot_titles=[f\"{proj} - {project_names_dict[proj]}\" for proj in df['project_no'].unique()] * len(columns_to_analyze))\n",
    "\n",
    "# 3. Iterate through columns and projects to create bar charts\n",
    "for row_idx, column_name in enumerate(columns_to_analyze):\n",
    "    for col_idx, project_no in enumerate(df['project_no'].unique()):\n",
    "        # SQL query to get top 10 amounts for the current column and project\n",
    "        query_top_amounts = f\"\"\"\n",
    "        SELECT {column_name}, SUM(amount) AS TotalAmount\n",
    "        FROM [omar.rme1].[dbo].[cost_dist]\n",
    "        WHERE project_no = '{project_no}'\n",
    "        GROUP BY {column_name}\n",
    "        ORDER BY TotalAmount DESC\n",
    "        \"\"\"\n",
    "\n",
    "        # Execute the query\n",
    "        with engine.connect() as conn:\n",
    "            results_top_amounts = execute_query(conn, query_top_amounts)\n",
    "\n",
    "        # Create DataFrame for top amounts\n",
    "        df_top_amounts = pd.DataFrame(results_top_amounts, columns=[column_name, 'TotalAmount'])\n",
    "\n",
    "        # Filter to top 10\n",
    "        df_top_amounts = df_top_amounts.nlargest(10, 'TotalAmount')\n",
    "\n",
    "        # Create the bar chart and add it to the subplot\n",
    "        fig.add_trace(\n",
    "            px.bar(\n",
    "                df_top_amounts, \n",
    "                x=column_name,\n",
    "                y='TotalAmount',\n",
    "                labels={column_name: column_name.replace('_', ' ').title(), 'TotalAmount': 'Total Amount'}\n",
    "            ).data[0],\n",
    "            row=row_idx + 1, col=col_idx + 1\n",
    "        )\n",
    "\n",
    "        # Update layout for the subplot\n",
    "        fig.update_xaxes(title_text=column_name.replace('_', ' ').title(), row=row_idx + 1, col=col_idx + 1)\n",
    "        fig.update_yaxes(title_text='Total Amount', row=row_idx + 1, col=col_idx + 1)\n",
    "\n",
    "# 4. Adjust the overall layout\n",
    "fig.update_layout(\n",
    "    height=3500,  # Adjust height as needed to accommodate all subplots\n",
    "    width=1500,   # Adjust width as needed\n",
    "    showlegend=False,\n",
    "    title_text=\"Top 10 Amounts by Column and Project\"\n",
    ")\n",
    "\n",
    "# 5. Display chart\n",
    "fig.show()\n",
    "fig.write_html('data_analysis_for_each.html')"
   ]
  },
  {
   "cell_type": "code",
   "execution_count": 17,
   "metadata": {},
   "outputs": [
    {
     "name": "stdout",
     "output_type": "stream",
     "text": [
      "Columns returned by the query: RMKeyView(['transaction_source', 'TotalAmount'])\n",
      "Shape of results: 5 rows, 2 columns\n",
      "First few rows of results: [('Oracle Payables Supplier Invoices', 450398793.9400001), ('Inventory Misc', 272591965.4700001), ('WORK_CONFRIMATION', 125372258.15), ('Oracle Purchasing Receipt Accruals', 7563875.08), ('Non-Recoverable Tax from Purchasing Receipts', 1047211.2800000001)]\n",
      "Columns returned by the query: RMKeyView(['transaction_source', 'TotalAmount'])\n",
      "Shape of results: 5 rows, 2 columns\n",
      "First few rows of results: [('Inventory Misc', 366241470.03000015), ('Oracle Payables Supplier Invoices', 154747599.76), ('WORK_CONFRIMATION', 65141732.61999999), ('Oracle Purchasing Receipt Accruals', 9245232.29), ('Non-Recoverable Tax from Purchasing Receipts', 1294332.4900000002)]\n",
      "Columns returned by the query: RMKeyView(['transaction_source', 'TotalAmount'])\n",
      "Shape of results: 3 rows, 2 columns\n",
      "First few rows of results: [('Inventory Misc', 19096025.17), ('Oracle Payables Supplier Invoices', 13119068.540000003), ('WORK_CONFRIMATION', 10557205.64)]\n",
      "Columns returned by the query: RMKeyView(['transaction_source', 'TotalAmount'])\n",
      "Shape of results: 3 rows, 2 columns\n",
      "First few rows of results: [('Inventory Misc', 226576665.81999996), ('WORK_CONFRIMATION', 46073348.15), ('Oracle Payables Supplier Invoices', 28193737.050000004)]\n",
      "Columns returned by the query: RMKeyView(['transaction_source', 'TotalAmount'])\n",
      "Shape of results: 3 rows, 2 columns\n",
      "First few rows of results: [('WORK_CONFRIMATION', 113258938.40999997), ('Oracle Payables Supplier Invoices', 5024336.680000002), ('Inventory Misc', 4024368.2300000004)]\n",
      "Generated chart for transaction_source\n",
      "Columns returned by the query: RMKeyView(['task_name', 'TotalAmount'])\n",
      "Shape of results: 45 rows, 2 columns\n",
      "First few rows of results: [('Mobilization', 318660895.17999995), ('Formwork', 198072878.74000004), ('Private Cars', 65487786.559999995), ('Cast Place Concrete', 53453125.53000001), ('Safety tools', 43382002.96)]\n",
      "Columns returned by the query: RMKeyView(['task_name', 'TotalAmount'])\n",
      "Shape of results: 55 rows, 2 columns\n",
      "First few rows of results: [('Mat', 358789109.9600001), ('Hirings payrool', 63833646.42), ('Mobilization', 37416917.60999999), ('Steel Reinforcement', 25919802.410000004), ('Excavation', 16369636.39)]\n",
      "Columns returned by the query: RMKeyView(['task_name', 'TotalAmount'])\n",
      "Shape of results: 26 rows, 2 columns\n",
      "First few rows of results: [('Other Equipment', 19251317.350000028), ('Mobilization', 8822791.420000004), ('Backfilling', 7049029.129999999), ('Excavation', 2529079.3099999996), ('Rented Cars', 1638413.0400000003)]\n",
      "Columns returned by the query: RMKeyView(['task_name', 'TotalAmount'])\n",
      "Shape of results: 42 rows, 2 columns\n",
      "First few rows of results: [('Mat', 210375739.57999992), ('Electrical Works (G)', 21302660.2), ('Safety tools', 15766525.64), ('Plumbing Works(G)', 13541344.06), ('Hirings payrool', 11024149.190000001)]\n",
      "Columns returned by the query: RMKeyView(['task_name', 'TotalAmount'])\n",
      "Shape of results: 11 rows, 2 columns\n",
      "First few rows of results: [('Plumbing Works(G)', 116485018.41000001), ('Mat', 2916273.819999999), ('Mobilization', 1672696.9800000004), ('HVAC AIR DUCT', 674763.2799999999), ('Safety tools', 433331.13)]\n",
      "Generated chart for task_name\n",
      "Columns returned by the query: RMKeyView(['top_task_name', 'TotalAmount'])\n",
      "Shape of results: 9 rows, 2 columns\n",
      "First few rows of results: [('INDIRECT COST', 530604170.45000005), ('CONCRETE WORK', 262974690.86000004), ('SITE WORK', 28576392.310000002), ('THERMAL & MOISTURE', 11684887.559999999), ('DOORS & WINDOWS WORK', 9256835.33)]\n",
      "Columns returned by the query: RMKeyView(['top_task_name', 'TotalAmount'])\n",
      "Shape of results: 11 rows, 2 columns\n",
      "First few rows of results: [('SPECIALITIES', 367012430.2699999), ('Indirect Cost', 150107197.62), ('CONCRETE WORK', 43060015.51), ('SITE WORK', 19512853.580000002), ('METAL WORK', 5290741.44)]\n",
      "Columns returned by the query: RMKeyView(['top_task_name', 'TotalAmount'])\n",
      "Shape of results: 5 rows, 2 columns\n",
      "First few rows of results: [('Indirect Cost', 32348323.200000003), ('SITE WORK', 10450411.32), ('EQUIPMENT', 6207.3), ('MECHANICAL WORKS', -4964.700000000001), ('SPECIALITIES', -27677.769999999993)]\n",
      "Columns returned by the query: RMKeyView(['top_task_name', 'TotalAmount'])\n",
      "Shape of results: 11 rows, 2 columns\n",
      "First few rows of results: [('SPECIALITIES', 214116737.22999993), ('Indirect Cost', 40013467.69000001), ('ELECTRICAL WORKS', 21302660.2), ('MECHANICAL WORKS', 13537688.040000001), ('SITE WORK', 4023920.3)]\n",
      "Columns returned by the query: RMKeyView(['top_task_name', 'TotalAmount'])\n",
      "Shape of results: 5 rows, 2 columns\n",
      "First few rows of results: [('MECHANICAL WORKS', 116485018.41), ('SPECIALITIES', 2916273.8200000008), ('Indirect Cost', 2231587.81), ('HVAC', 674763.2799999999), ('CONCRETE WORK', 0.0)]\n",
      "Generated chart for top_task_name\n",
      "Columns returned by the query: RMKeyView(['expenditure_category', 'TotalAmount'])\n",
      "Shape of results: 15 rows, 2 columns\n",
      "First few rows of results: [('Materials', 296449118.4100001), ('Indirect', 200494698.39000005), ('Subcontracts', 165409544.68), ('Direct Manpower', 160174791.17999998), ('Depreciation', 18393895.88)]\n",
      "Columns returned by the query: RMKeyView(['expenditure_category', 'TotalAmount'])\n",
      "Shape of results: 15 rows, 2 columns\n",
      "First few rows of results: [('Materials', 414909854.15), ('Subcontracts', 65430784.38000001), ('Indirect', 53893516.20999999), ('Direct Manpower', 35355458.68), ('Contingencies', 10394322.049999997)]\n",
      "Columns returned by the query: RMKeyView(['expenditure_category', 'TotalAmount'])\n",
      "Shape of results: 11 rows, 2 columns\n",
      "First few rows of results: [('Materials', 26324632.449999996), ('Subcontracts', 11778237.280000001), ('Indirect', 2601493.77), ('Direct Manpower', 1671417.2599999998), ('Depreciation', 327222.1999999999)]\n",
      "Columns returned by the query: RMKeyView(['expenditure_category', 'TotalAmount'])\n",
      "Shape of results: 12 rows, 2 columns\n",
      "First few rows of results: [('Materials', 224896635.71999994), ('Subcontracts', 50220153.2), ('Indirect', 19247570.430000003), ('Depreciation', 2122804.27), ('Finance cost', 2041566.6199999999)]\n",
      "Columns returned by the query: RMKeyView(['expenditure_category', 'TotalAmount'])\n",
      "Shape of results: 7 rows, 2 columns\n",
      "First few rows of results: [('Subcontracts', 120008396.41), ('Materials', 4024292.49), ('Indirect', 675288.0000000001), ('Depreciation', 673755.6499999999), ('Finance cost', 440088.77)]\n",
      "Generated chart for expenditure_category\n",
      "Columns returned by the query: RMKeyView(['expend_org', 'TotalAmount'])\n",
      "Shape of results: 2 rows, 2 columns\n",
      "First few rows of results: [('Alrowad Construction_OU', 575257182.4399999), ('EGAT Pelletizing Plant-0144', 281716921.48000014)]\n",
      "Columns returned by the query: RMKeyView(['expend_org', 'TotalAmount'])\n",
      "Shape of results: 2 rows, 2 columns\n",
      "First few rows of results: [('Rolling Mill#4-0172', 379133629.5400001), ('Alrowad Construction_OU', 217536737.65)]\n",
      "Columns returned by the query: RMKeyView(['expend_org', 'TotalAmount'])\n",
      "Shape of results: 1 rows, 2 columns\n",
      "First few rows of results: [('Alrowad Construction_OU', 42772299.349999994)]\n",
      "Columns returned by the query: RMKeyView(['expend_org', 'TotalAmount'])\n",
      "Shape of results: 2 rows, 2 columns\n",
      "First few rows of results: [('Suez Steel Intake\\xa0 & Pump Stations-0184', 226576665.82000005), ('Alrowad Construction_OU', 74267085.19999999)]\n",
      "Columns returned by the query: RMKeyView(['expend_org', 'TotalAmount'])\n",
      "Shape of results: 2 rows, 2 columns\n",
      "First few rows of results: [('Alrowad Construction_OU', 118283275.09000003), ('EGAT Mechanical Installations', 4024368.2300000004)]\n",
      "Generated chart for expend_org\n",
      "Columns returned by the query: RMKeyView(['line_desc', 'TotalAmount'])\n",
      "Shape of results: 5792 rows, 2 columns\n",
      "First few rows of results: [('Concrete 300 kg/cm2 SRC 350 Kg/m3', 66489169.710000016), ('Ready Mix Concrete With Strength 470 kg/cm2 & Cement Content 500 kg/m3 (OPC) -Slag-MF', 43661060.07), ('سولار', 19697433.7), (None, 15919147.800000047), ('خرسانة Concrete 250 kg/cm2 OPC 325 Kg/m3', 15836382.179999998)]\n",
      "Columns returned by the query: RMKeyView(['line_desc', 'TotalAmount'])\n",
      "Shape of results: 3937 rows, 2 columns\n",
      "First few rows of results: [('خرسانة مسلحة جهد 400 كجم/ سم2 محتوى أسمنت مقاوم 410 كجم /م3', 35768655.970000006), ('Ready Mix Concrete With Strength 470 kg/cm2 & Cement Content 500 kg/m3 (OPC) -Slag-MF', 29024753.17), ('Master Flow 950', 27531000.000000004), ('Ready Mix Concrete 400 kg/cm2 SRC 425 kg/m3', 27018005.700000003), ('خرسانة مسلحة جهد 400 كجم/ سم2 محتوى أسمنت عادى 410 كجم /م3', 20990798.91999999)]\n",
      "Columns returned by the query: RMKeyView(['line_desc', 'TotalAmount'])\n",
      "Shape of results: 495 rows, 2 columns\n",
      "First few rows of results: [('Geogrid (Stratagrid – SGU 120) (1.9m * 100m)', 6945597.969999998), ('طوبة بلوك وش جبل', 3874405.25), ('Straragrid – SGU 80,(1.9M*100M ROLL SIZE)', 2555743.2099999995), ('ردم بتربة من داخل الموقع محسنة باستخدام المهزات والبند غير شامل توريد المياه ويشمل النقل والخلط والدمك وكل ما يلزم لنهو العمل بحسب مواصفات المشروع', 2137428.5), ('ADJ LOCK&LOAD to Projects May23', 1881638.34)]\n",
      "Columns returned by the query: RMKeyView(['line_desc', 'TotalAmount'])\n",
      "Shape of results: 2065 rows, 2 columns\n",
      "First few rows of results: [('مواسير HDPE قطر خارجى 710 مم ضغط 10 بار', 65059183.76), ('مواسير HDPE قطر خارجى 710 مم ضغط 16 بار', 32830204.5), ('مواسير HDPE قطر خارجى 560 مم ضغط 10 بار', 13657698.870000001), ('Standart Vertical / End Suction/ Single Stage pump model: PCV-M 300-400AB-3K, 350 l/s @ 37 m head complete with Electric Motor (Turkey/ IE3) 250 Kw, 1500 rpm, IP 56, Insulation Class F, Temperature Rise Class B, Bearing Life 100.000 hrs', 7997531.92), ('2.2.002 73088/4', 7923373.92)]\n",
      "Columns returned by the query: RMKeyView(['line_desc', 'TotalAmount'])\n",
      "Shape of results: 443 rows, 2 columns\n",
      "First few rows of results: [('1.1 80735/6', 16767756.0), ('1.1 80735/5', 15777570.0), ('2.1 87029/7', 13000004.0), ('2.1 80735/7', 12625272.0), ('2.1 87029/9', 8000000.18)]\n",
      "Generated chart for line_desc\n",
      "Columns returned by the query: RMKeyView(['owner', 'TotalAmount'])\n",
      "Shape of results: 17 rows, 2 columns\n",
      "First few rows of results: [('Finacial\\xa0 ', 552040508.86), ('Procurement\\xa0 ', 222140595.15999997), ('Purchasing\\xa0 ', 63212201.39), ('MEP\\xa0 ', 14580522.48), ('Automation\\xa0 ', 2254988.1700000004)]\n",
      "Columns returned by the query: RMKeyView(['owner', 'TotalAmount'])\n",
      "Shape of results: 14 rows, 2 columns\n",
      "First few rows of results: [('Procurement\\xa0 ', 241384135.72999996), ('Finacial\\xa0 ', 194378496.12999997), ('Purchasing\\xa0 ', 129655366.29999994), ('MEP\\xa0 ', 30133527.470000006), ('Safety\\xa0 ', 3321832.28)]\n",
      "Columns returned by the query: RMKeyView(['owner', 'TotalAmount'])\n",
      "Shape of results: 10 rows, 2 columns\n",
      "First few rows of results: [('Finacial\\xa0 ', 23750540.000000007), ('Purchasing\\xa0 ', 18092770.31), ('Procurement\\xa0 ', 468467.64), ('MEP\\xa0 ', 425466.67000000004), ('Safety\\xa0 ', 22779.469999999998)]\n",
      "Columns returned by the query: RMKeyView(['owner', 'TotalAmount'])\n",
      "Shape of results: 11 rows, 2 columns\n",
      "First few rows of results: [('MEP\\xa0 ', 188975046.98999995), ('Finacial\\xa0 ', 72698933.64), ('Procurement\\xa0 ', 20959951.09), ('Purchasing\\xa0 ', 15988453.590000002), ('Mechanical\\xa0 ', 1573151.560000001)]\n",
      "Columns returned by the query: RMKeyView(['owner', 'TotalAmount'])\n",
      "Shape of results: 10 rows, 2 columns\n",
      "First few rows of results: [('Finacial\\xa0 ', 115057223.22999999), ('Mechanical\\xa0 ', 3226080.0), ('Scaffolding\\xa0 ', 2100881.8000000003), ('Purchasing\\xa0 ', 1628975.9499999997), ('MEP\\xa0 ', 120398.51000000001)]\n",
      "Generated chart for owner\n"
     ]
    }
   ],
   "source": [
    "import plotly.express as px\n",
    "import plotly.subplots as sp\n",
    "\n",
    "# 1. Columns to analyze\n",
    "columns_to_analyze = ['transaction_source', 'task_name', 'top_task_name', 'expenditure_category', 'expend_org', 'line_desc', 'owner']\n",
    "\n",
    "# 2. Iterate through columns to create separate figures\n",
    "for column_name in columns_to_analyze:\n",
    "    # Create subplots (1 row, 5 columns for projects)\n",
    "    fig = sp.make_subplots(rows=1, cols=5, subplot_titles=[f\"{proj} - {project_names_dict[proj]}\" for proj in df['project_no'].unique()])\n",
    "\n",
    "    # Iterate through projects to create bar charts\n",
    "    for col_idx, project_no in enumerate(df['project_no'].unique()):\n",
    "        # SQL query to get top 10 amounts for the current column and project\n",
    "        query_top_amounts = f\"\"\"\n",
    "        SELECT {column_name}, SUM(amount) AS TotalAmount\n",
    "        FROM [omar.rme1].[dbo].[cost_dist]\n",
    "        WHERE project_no = '{project_no}'\n",
    "        GROUP BY {column_name}\n",
    "        ORDER BY TotalAmount DESC\n",
    "        \"\"\"\n",
    "\n",
    "        # Execute the query\n",
    "        with engine.connect() as conn:\n",
    "            results_top_amounts = execute_query(conn, query_top_amounts)\n",
    "\n",
    "        # Create DataFrame for top amounts\n",
    "        df_top_amounts = pd.DataFrame(results_top_amounts, columns=[column_name, 'TotalAmount'])\n",
    "\n",
    "        # Filter to top 10\n",
    "        df_top_amounts = df_top_amounts.nlargest(10, 'TotalAmount')\n",
    "\n",
    "        # Create the bar chart and add it to the subplot\n",
    "        fig.add_trace(\n",
    "            px.bar(\n",
    "                df_top_amounts, \n",
    "                x=column_name,\n",
    "                y='TotalAmount',\n",
    "                title=f'Project {project_no} - {project_names_dict[project_no]}',  # Include project number and name in the title\n",
    "                labels={column_name: column_name.replace('_', ' ').title(), 'TotalAmount': 'Total Amount'}\n",
    "            ).data[0],\n",
    "            row=1, col=col_idx + 1\n",
    "        )\n",
    "\n",
    "        # Update layout for the subplot\n",
    "        fig.update_xaxes(title_text=column_name.replace('_', ' ').title(), row=1, col=col_idx + 1)\n",
    "        fig.update_yaxes(title_text='Total Amount', row=1, col=col_idx + 1)\n",
    "\n",
    "    # Adjust the overall layout\n",
    "    fig.update_layout(\n",
    "        height=600, \n",
    "        width=1500, \n",
    "        showlegend=False,\n",
    "        title_text=f\"Top 10 {column_name.replace('_', ' ').title()} Amounts by Project\"\n",
    "    )\n",
    "\n",
    "    # Save the chart as an HTML file\n",
    "    fig.write_html(f'top_10_{column_name}_by_project.html')\n",
    "\n",
    "    print(f\"Generated chart for {column_name}\")"
   ]
  }
 ],
 "metadata": {
  "kernelspec": {
   "display_name": "Python 3",
   "language": "python",
   "name": "python3"
  },
  "language_info": {
   "codemirror_mode": {
    "name": "ipython",
    "version": 3
   },
   "file_extension": ".py",
   "mimetype": "text/x-python",
   "name": "python",
   "nbconvert_exporter": "python",
   "pygments_lexer": "ipython3",
   "version": "3.12.5"
  }
 },
 "nbformat": 4,
 "nbformat_minor": 2
}
