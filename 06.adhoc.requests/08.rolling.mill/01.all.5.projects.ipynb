{
 "cells": [
  {
   "cell_type": "code",
   "execution_count": 1,
   "metadata": {},
   "outputs": [
    {
     "name": "stdout",
     "output_type": "stream",
     "text": [
      "Error connecting to SQL Server: ('08001', '[08001] [Microsoft][ODBC SQL Server Driver][DBNETLIB]SQL Server does not exist or access denied. (17) (SQLDriverConnect); [08001] [Microsoft][ODBC SQL Server Driver][DBNETLIB]ConnectionOpen (Connect()). (5)')\n"
     ]
    }
   ],
   "source": [
    "import pyodbc\n",
    "import pandas as pd\n",
    "\n",
    "# Your existing connection function\n",
    "def connect_to_sql_server(server, database, user, password):\n",
    "    \"\"\"Connects to a SQL Server database and returns a connection object.\"\"\"\n",
    "    conn_str = (\n",
    "        r'DRIVER={SQL Server};'\n",
    "        r'SERVER=' + server + ';'\n",
    "        r'DATABASE=' + database + ';'\n",
    "        r'UID=' + user + ';'\n",
    "        r'PWD=' + password + ';'\n",
    "    )\n",
    "    conn = pyodbc.connect(conn_str)\n",
    "    return conn\n",
    "\n",
    "# Establish connection\n",
    "server = '10.10.11.241'\n",
    "database = 'omar.rme1'\n",
    "user = 'omar'\n",
    "password = 'omar123'\n",
    "\n",
    "try:\n",
    "    conn = connect_to_sql_server(server, database, user, password)\n",
    "    print(\"Connected to SQL Server successfully!\")\n",
    "except Exception as e:\n",
    "    print(\"Error connecting to SQL Server:\", e)"
   ]
  }
 ],
 "metadata": {
  "kernelspec": {
   "display_name": "Python 3",
   "language": "python",
   "name": "python3"
  },
  "language_info": {
   "codemirror_mode": {
    "name": "ipython",
    "version": 3
   },
   "file_extension": ".py",
   "mimetype": "text/x-python",
   "name": "python",
   "nbconvert_exporter": "python",
   "pygments_lexer": "ipython3",
   "version": "3.12.5"
  }
 },
 "nbformat": 4,
 "nbformat_minor": 2
}
