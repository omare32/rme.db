{
 "cells": [
  {
   "cell_type": "code",
   "execution_count": 4,
   "metadata": {},
   "outputs": [
    {
     "name": "stdout",
     "output_type": "stream",
     "text": [
      "Connected to SQL Server successfully!\n"
     ]
    }
   ],
   "source": [
    "import pyodbc\n",
    "import pandas as pd\n",
    "import sqlalchemy \n",
    "\n",
    "# Your existing connection function\n",
    "def connect_to_sql_server(server, database, user, password):\n",
    "    \"\"\"Connects to a SQL Server database and returns a connection object.\"\"\"\n",
    "    conn_str = (\n",
    "        r'DRIVER={SQL Server};'\n",
    "        r'SERVER=' + server + ';'\n",
    "        r'DATABASE=' + database + ';'\n",
    "        r'UID=' + user + ';'\n",
    "        r'PWD=' + password + ';'\n",
    "    )\n",
    "    conn = pyodbc.connect(conn_str)\n",
    "    return conn\n",
    "\n",
    "def execute_query(engine, query):\n",
    "    \"\"\"Executes a SQL query using SQLAlchemy and returns the results as a list of tuples.\"\"\"\n",
    "    with engine.connect() as conn:  # Establish a connection using the engine\n",
    "        result = conn.execute(query)  # Execute the query\n",
    "\n",
    "        # Get column names\n",
    "        columns = result.keys()  # Get column names from the result object\n",
    "        print(\"Columns returned by the query:\", columns)\n",
    "\n",
    "        # Fetch all rows\n",
    "        rows = result.fetchall()\n",
    "\n",
    "        # Print the shape of the results for debugging\n",
    "        print(\"Shape of results:\", len(rows), \"rows,\", len(rows[0]) if rows else 0, \"columns\")\n",
    "\n",
    "        # Print the first few rows of the results\n",
    "        print(\"First few rows of results:\", rows[:5])  # Adjust the number of rows as needed\n",
    "\n",
    "    return rows  # Return the fetched rows\n",
    "\n",
    "# Establish connection using SQLAlchemy\n",
    "server = '10.10.11.241'\n",
    "database = 'omar.rme1'\n",
    "user = 'omar'\n",
    "password = 'omar123'\n",
    "connection_string = f'mssql+pyodbc://{user}:{password}@{server}/{database}?driver=SQL+Server'\n",
    "engine = create_engine(connection_string)\n",
    "\n",
    "try:\n",
    "    # Check if the connection is successful\n",
    "    with engine.connect() as conn:  # Use a context manager to handle the connection\n",
    "        print(\"Connected to SQL Server successfully!\")\n",
    "\n",
    "except Exception as e:\n",
    "    print(\"Error connecting to SQL Server:\", e)"
   ]
  },
  {
   "cell_type": "code",
   "execution_count": 5,
   "metadata": {},
   "outputs": [
    {
     "name": "stdout",
     "output_type": "stream",
     "text": [
      "Columns returned by the query: RMKeyView(['project_no', 'TotalAmount'])\n",
      "Shape of results: 5 rows, 2 columns\n",
      "First few rows of results: [('144', 856974103.9199996), ('172', 596670367.19), ('173', 42772299.35000001), ('184', 300843751.0199999), ('198', 122307643.32)]\n",
      "  project_no   TotalAmount\n",
      "0        144  8.569741e+08\n",
      "1        172  5.966704e+08\n",
      "2        173  4.277230e+07\n",
      "3        184  3.008438e+08\n",
      "4        198  1.223076e+08\n"
     ]
    }
   ],
   "source": [
    "# SQL query to sum amounts for each project, handling mixed data types\n",
    "query = \"\"\"\n",
    "SELECT project_no, SUM(amount) AS TotalAmount\n",
    "FROM [omar.rme1].[dbo].[cost_dist]\n",
    "WHERE project_no IN ('144', '173', '172', '184', '198')  -- Enclose project numbers in single quotes\n",
    "GROUP BY project_no;\n",
    "\"\"\"\n",
    "\n",
    "try:\n",
    "    # Execute the query using the engine, creating a new connection\n",
    "    with engine.connect() as conn:\n",
    "        results = execute_query(conn, query)\n",
    "\n",
    "    # Create a DataFrame from the results, using the column names from the query output\n",
    "    df = pd.DataFrame(results, columns=['project_no', 'TotalAmount'])\n",
    "\n",
    "    # Display the DataFrame\n",
    "    print(df)\n",
    "\n",
    "except Exception as e:\n",
    "    print(\"Error executing query:\", e)"
   ]
  },
  {
   "cell_type": "code",
   "execution_count": 6,
   "metadata": {},
   "outputs": [
    {
     "ename": "ImportError",
     "evalue": "Using URI string without sqlalchemy installed.",
     "output_type": "error",
     "traceback": [
      "\u001b[1;31m---------------------------------------------------------------------------\u001b[0m",
      "\u001b[1;31mImportError\u001b[0m                               Traceback (most recent call last)",
      "Cell \u001b[1;32mIn[6], line 9\u001b[0m\n\u001b[0;32m      2\u001b[0m query_names \u001b[38;5;241m=\u001b[39m \u001b[38;5;124m\"\"\"\u001b[39m\n\u001b[0;32m      3\u001b[0m \u001b[38;5;124mSELECT DISTINCT project_no, project_name \u001b[39m\n\u001b[0;32m      4\u001b[0m \u001b[38;5;124mFROM [omar.rme1].[dbo].[cost_dist]\u001b[39m\n\u001b[0;32m      5\u001b[0m \u001b[38;5;124mWHERE project_no IN (\u001b[39m\u001b[38;5;124m'\u001b[39m\u001b[38;5;124m144\u001b[39m\u001b[38;5;124m'\u001b[39m\u001b[38;5;124m, \u001b[39m\u001b[38;5;124m'\u001b[39m\u001b[38;5;124m173\u001b[39m\u001b[38;5;124m'\u001b[39m\u001b[38;5;124m, \u001b[39m\u001b[38;5;124m'\u001b[39m\u001b[38;5;124m172\u001b[39m\u001b[38;5;124m'\u001b[39m\u001b[38;5;124m, \u001b[39m\u001b[38;5;124m'\u001b[39m\u001b[38;5;124m184\u001b[39m\u001b[38;5;124m'\u001b[39m\u001b[38;5;124m, \u001b[39m\u001b[38;5;124m'\u001b[39m\u001b[38;5;124m198\u001b[39m\u001b[38;5;124m'\u001b[39m\u001b[38;5;124m); \u001b[39m\n\u001b[0;32m      6\u001b[0m \u001b[38;5;124m\"\"\"\u001b[39m\n\u001b[0;32m      8\u001b[0m \u001b[38;5;66;03m# 2. Execute the query using pd.read_sql and the connection string\u001b[39;00m\n\u001b[1;32m----> 9\u001b[0m df_names \u001b[38;5;241m=\u001b[39m \u001b[43mpd\u001b[49m\u001b[38;5;241;43m.\u001b[39;49m\u001b[43mread_sql\u001b[49m\u001b[43m(\u001b[49m\u001b[43mquery_names\u001b[49m\u001b[43m,\u001b[49m\u001b[43m \u001b[49m\u001b[43mconnection_string\u001b[49m\u001b[43m)\u001b[49m \n\u001b[0;32m     11\u001b[0m \u001b[38;5;66;03m# 3. Merge DataFrames using 'project_no' as the key\u001b[39;00m\n\u001b[0;32m     12\u001b[0m df_merged \u001b[38;5;241m=\u001b[39m pd\u001b[38;5;241m.\u001b[39mmerge(df, df_names, on\u001b[38;5;241m=\u001b[39m\u001b[38;5;124m'\u001b[39m\u001b[38;5;124mproject_no\u001b[39m\u001b[38;5;124m'\u001b[39m, how\u001b[38;5;241m=\u001b[39m\u001b[38;5;124m'\u001b[39m\u001b[38;5;124mleft\u001b[39m\u001b[38;5;124m'\u001b[39m)\n",
      "File \u001b[1;32mc:\\Users\\Omar Essam\\AppData\\Local\\Programs\\Python\\Python312\\Lib\\site-packages\\pandas\\io\\sql.py:704\u001b[0m, in \u001b[0;36mread_sql\u001b[1;34m(sql, con, index_col, coerce_float, params, parse_dates, columns, chunksize, dtype_backend, dtype)\u001b[0m\n\u001b[0;32m    701\u001b[0m     dtype_backend \u001b[38;5;241m=\u001b[39m \u001b[38;5;124m\"\u001b[39m\u001b[38;5;124mnumpy\u001b[39m\u001b[38;5;124m\"\u001b[39m  \u001b[38;5;66;03m# type: ignore[assignment]\u001b[39;00m\n\u001b[0;32m    702\u001b[0m \u001b[38;5;28;01massert\u001b[39;00m dtype_backend \u001b[38;5;129;01mis\u001b[39;00m \u001b[38;5;129;01mnot\u001b[39;00m lib\u001b[38;5;241m.\u001b[39mno_default\n\u001b[1;32m--> 704\u001b[0m \u001b[38;5;28;01mwith\u001b[39;00m \u001b[43mpandasSQL_builder\u001b[49m\u001b[43m(\u001b[49m\u001b[43mcon\u001b[49m\u001b[43m)\u001b[49m \u001b[38;5;28;01mas\u001b[39;00m pandas_sql:\n\u001b[0;32m    705\u001b[0m     \u001b[38;5;28;01mif\u001b[39;00m \u001b[38;5;28misinstance\u001b[39m(pandas_sql, SQLiteDatabase):\n\u001b[0;32m    706\u001b[0m         \u001b[38;5;28;01mreturn\u001b[39;00m pandas_sql\u001b[38;5;241m.\u001b[39mread_query(\n\u001b[0;32m    707\u001b[0m             sql,\n\u001b[0;32m    708\u001b[0m             index_col\u001b[38;5;241m=\u001b[39mindex_col,\n\u001b[1;32m   (...)\u001b[0m\n\u001b[0;32m    714\u001b[0m             dtype\u001b[38;5;241m=\u001b[39mdtype,\n\u001b[0;32m    715\u001b[0m         )\n",
      "File \u001b[1;32mc:\\Users\\Omar Essam\\AppData\\Local\\Programs\\Python\\Python312\\Lib\\site-packages\\pandas\\io\\sql.py:903\u001b[0m, in \u001b[0;36mpandasSQL_builder\u001b[1;34m(con, schema, need_transaction)\u001b[0m\n\u001b[0;32m    900\u001b[0m sqlalchemy \u001b[38;5;241m=\u001b[39m import_optional_dependency(\u001b[38;5;124m\"\u001b[39m\u001b[38;5;124msqlalchemy\u001b[39m\u001b[38;5;124m\"\u001b[39m, errors\u001b[38;5;241m=\u001b[39m\u001b[38;5;124m\"\u001b[39m\u001b[38;5;124mignore\u001b[39m\u001b[38;5;124m\"\u001b[39m)\n\u001b[0;32m    902\u001b[0m \u001b[38;5;28;01mif\u001b[39;00m \u001b[38;5;28misinstance\u001b[39m(con, \u001b[38;5;28mstr\u001b[39m) \u001b[38;5;129;01mand\u001b[39;00m sqlalchemy \u001b[38;5;129;01mis\u001b[39;00m \u001b[38;5;28;01mNone\u001b[39;00m:\n\u001b[1;32m--> 903\u001b[0m     \u001b[38;5;28;01mraise\u001b[39;00m \u001b[38;5;167;01mImportError\u001b[39;00m(\u001b[38;5;124m\"\u001b[39m\u001b[38;5;124mUsing URI string without sqlalchemy installed.\u001b[39m\u001b[38;5;124m\"\u001b[39m)\n\u001b[0;32m    905\u001b[0m \u001b[38;5;28;01mif\u001b[39;00m sqlalchemy \u001b[38;5;129;01mis\u001b[39;00m \u001b[38;5;129;01mnot\u001b[39;00m \u001b[38;5;28;01mNone\u001b[39;00m \u001b[38;5;129;01mand\u001b[39;00m \u001b[38;5;28misinstance\u001b[39m(con, (\u001b[38;5;28mstr\u001b[39m, sqlalchemy\u001b[38;5;241m.\u001b[39mengine\u001b[38;5;241m.\u001b[39mConnectable)):\n\u001b[0;32m    906\u001b[0m     \u001b[38;5;28;01mreturn\u001b[39;00m SQLDatabase(con, schema, need_transaction)\n",
      "\u001b[1;31mImportError\u001b[0m: Using URI string without sqlalchemy installed."
     ]
    }
   ],
   "source": [
    "# 1. SQL query to fetch project_no and project_name\n",
    "query_names = \"\"\"\n",
    "SELECT DISTINCT project_no, project_name \n",
    "FROM [omar.rme1].[dbo].[cost_dist]\n",
    "WHERE project_no IN ('144', '173', '172', '184', '198'); \n",
    "\"\"\"\n",
    "\n",
    "# 2. Execute the query using pd.read_sql and the connection string\n",
    "df_names = pd.read_sql(query_names, connection_string) \n",
    "\n",
    "# 3. Merge DataFrames using 'project_no' as the key\n",
    "df_merged = pd.merge(df, df_names, on='project_no', how='left')\n",
    "\n",
    "# 4. Fill in missing values with 0\n",
    "df_merged.fillna(0, inplace=True)\n",
    "\n",
    "# 5. Combine project_no and project_name for labels\n",
    "df_merged['Project'] = df_merged['project_no'] + ' - ' + df_merged['project_name']\n",
    "\n",
    "# 6. Calculate total cost\n",
    "total_cost = df_merged['TotalAmount'].sum()\n",
    "\n",
    "# 7. Create bar chart with adjusted width and project numbers in labels\n",
    "chart = alt.Chart(df_merged).mark_bar().encode(\n",
    "    x=alt.X('Project:N', axis=alt.Axis(title='Project')),\n",
    "    y=alt.Y('TotalAmount:Q', axis=alt.Axis(title='Total Amount')),\n",
    "    tooltip = ['Project', 'TotalAmount']\n",
    ").properties(\n",
    "    title=f'Total Amount by Project (Total: {total_cost:.2f})',\n",
    "    width=800\n",
    ").interactive()\n",
    "\n",
    "# 8. Display chart\n",
    "chart.save('total_amount_by_project_bar_chart.json')\n",
    "chart.display()"
   ]
  }
 ],
 "metadata": {
  "kernelspec": {
   "display_name": "Python 3",
   "language": "python",
   "name": "python3"
  },
  "language_info": {
   "codemirror_mode": {
    "name": "ipython",
    "version": 3
   },
   "file_extension": ".py",
   "mimetype": "text/x-python",
   "name": "python",
   "nbconvert_exporter": "python",
   "pygments_lexer": "ipython3",
   "version": "3.12.5"
  }
 },
 "nbformat": 4,
 "nbformat_minor": 2
}
