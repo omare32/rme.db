{
 "cells": [
  {
   "cell_type": "code",
   "execution_count": 2,
   "metadata": {},
   "outputs": [
    {
     "name": "stdout",
     "output_type": "stream",
     "text": [
      "Document loaded: your_daily_report.docx\n",
      "Today's date: 12/02/2023\n",
      "Updated file saved as: your_daily_report_updated.docx\n",
      "Updated file: your_daily_report_updated.docx\n"
     ]
    }
   ],
   "source": [
    "from docx import Document\n",
    "from docx.shared import Pt\n",
    "from datetime import date\n",
    "import re\n",
    "\n",
    "def update_date_in_docx(file_path):\n",
    "    # Load the Word document\n",
    "    doc = Document(file_path)\n",
    "    print(f\"Document loaded: {file_path}\")\n",
    "\n",
    "    # Get today's date\n",
    "    today_date = date.today().strftime(\"%m/%d/%Y\")  # Format the date as MM/DD/YYYY\n",
    "    print(f\"Today's date: {today_date}\")\n",
    "\n",
    "    # Define a regex pattern for the date format in the document (mm/dd/yyyy)\n",
    "    date_pattern = r\"\\b\\d{1,2}/\\d{1,2}/\\d{4}\\b\"\n",
    "\n",
    "    # Replace the date pattern in the document\n",
    "    for paragraph in doc.paragraphs:\n",
    "        matches = re.findall(date_pattern, paragraph.text)\n",
    "        if matches:\n",
    "            for match in matches:\n",
    "                print(f\"Match found: {match}\")\n",
    "                paragraph.text = paragraph.text.replace(match, today_date)\n",
    "                for run in paragraph.runs:\n",
    "                    run.font.size = Pt(12)  # Adjust font size if needed\n",
    "\n",
    "    # Save the updated document\n",
    "    updated_file_path = file_path.replace('.docx', '_updated.docx')\n",
    "    doc.save(updated_file_path)\n",
    "    print(f\"Updated file saved as: {updated_file_path}\")\n",
    "\n",
    "    return updated_file_path\n",
    "\n",
    "# Example usage:\n",
    "file_path = 'your_daily_report.docx'  # Replace this with your actual file path\n",
    "updated_file = update_date_in_docx(file_path)\n",
    "print(f\"Updated file: {updated_file}\")\n"
   ]
  }
 ],
 "metadata": {
  "kernelspec": {
   "display_name": "Python 3",
   "language": "python",
   "name": "python3"
  },
  "language_info": {
   "codemirror_mode": {
    "name": "ipython",
    "version": 3
   },
   "file_extension": ".py",
   "mimetype": "text/x-python",
   "name": "python",
   "nbconvert_exporter": "python",
   "pygments_lexer": "ipython3",
   "version": "3.12.0"
  }
 },
 "nbformat": 4,
 "nbformat_minor": 2
}
