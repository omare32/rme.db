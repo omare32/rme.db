{
 "cells": [
  {
   "cell_type": "code",
   "execution_count": null,
   "metadata": {},
   "outputs": [],
   "source": [
    "import os\n",
    "import shutil\n",
    "\n",
    "def copy_excel_files(source_folder, destination_folder):\n",
    "  \"\"\"\n",
    "  Copies all Excel (.xlsx) files from a source folder with subfolders to a destination folder.\n",
    "  Renames files if there are duplicates in the destination folder.\n",
    "\n",
    "  Args:\n",
    "    source_folder: The path to the source folder.\n",
    "    destination_folder: The path to the destination folder.\n",
    "  \"\"\"\n",
    "\n",
    "  for root, _, files in os.walk(source_folder):\n",
    "    for file in files:\n",
    "      if file.endswith(\".xlsx\"):\n",
    "        source_path = os.path.join(root, file)\n",
    "        destination_path = os.path.join(destination_folder, file)\n",
    "\n",
    "        # If the file already exists, rename it\n",
    "        if os.path.exists(destination_path):\n",
    "          base, ext = os.path.splitext(file)\n",
    "          counter = 1\n",
    "          new_filename = f\"{base}_{counter}{ext}\"\n",
    "          new_destination_path = os.path.join(destination_folder, new_filename)\n",
    "\n",
    "          while os.path.exists(new_destination_path):\n",
    "            counter += 1\n",
    "            new_filename = f\"{base}_{counter}{ext}\"\n",
    "            new_destination_path = os.path.join(destination_folder, new_filename)\n",
    "\n",
    "          destination_path = new_destination_path\n",
    "\n",
    "        shutil.copy2(source_path, destination_path)\n",
    "        print(f\"Copied '{source_path}' to '{destination_path}'\")\n",
    "\n",
    "if __name__ == \"__main__\":\n",
    "  source_folder = r\"\\\\10.10.11.115\\User Backup\\00 Cost&Planning\"\n",
    "  destination_folder = r\"H:\\Projects Control (PC)\\15 FILES REV.02 ALL (In Progress)\\01 - excel\"\n",
    "\n",
    "  copy_excel_files(source_folder, destination_folder)"
   ]
  }
 ],
 "metadata": {
  "kernelspec": {
   "display_name": "Python 3",
   "language": "python",
   "name": "python3"
  },
  "language_info": {
   "codemirror_mode": {
    "name": "ipython",
    "version": 3
   },
   "file_extension": ".py",
   "mimetype": "text/x-python",
   "name": "python",
   "nbconvert_exporter": "python",
   "pygments_lexer": "ipython3",
   "version": "3.12.4"
  }
 },
 "nbformat": 4,
 "nbformat_minor": 2
}
