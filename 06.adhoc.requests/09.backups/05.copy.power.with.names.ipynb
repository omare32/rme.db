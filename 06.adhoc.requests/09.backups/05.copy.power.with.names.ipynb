{
 "cells": [
  {
   "cell_type": "code",
   "execution_count": null,
   "metadata": {},
   "outputs": [],
   "source": [
    "import os\n",
    "import shutil\n",
    "\n",
    "def copy_powerpoint_powerbi_files(source_folder, destination_folder):\n",
    "  \"\"\"\n",
    "  Copies PowerPoint (.pptx, .ppt) and Power BI (.pbix) files from a source folder \n",
    "  with subfolders to a destination folder.\n",
    "  Renames files to include the coworker's name (from the first subfolder) \n",
    "  and handles duplicates.\n",
    "\n",
    "  Args:\n",
    "    source_folder: The path to the source folder.\n",
    "    destination_folder: The path to the destination folder.\n",
    "  \"\"\"\n",
    "\n",
    "  for root, _, files in os.walk(source_folder):\n",
    "    for file in files:\n",
    "      if file.endswith((\".pptx\", \".ppt\", \".pbix\")):\n",
    "        source_path = os.path.join(root, file)\n",
    "\n",
    "        # Extract coworker's name from the first subfolder\n",
    "        try:\n",
    "          coworker_name = root.split(\"\\\\\")[5]  # Get the 6th element (coworker folder)\n",
    "        except IndexError:\n",
    "          print(f\"Skipping '{source_path}' - Could not extract coworker name.\")\n",
    "          continue\n",
    "\n",
    "        # Construct the new filename with the coworker's name\n",
    "        base, ext = os.path.splitext(file)\n",
    "        new_filename = f\"{coworker_name} - {base}{ext}\"\n",
    "        destination_path = os.path.join(destination_folder, new_filename)\n",
    "\n",
    "        # If the file already exists, rename it\n",
    "        if os.path.exists(destination_path):\n",
    "          counter = 1\n",
    "          new_filename = f\"{coworker_name} - {base}_{counter}{ext}\"\n",
    "          new_destination_path = os.path.join(destination_folder, new_filename)\n",
    "\n",
    "          while os.path.exists(new_destination_path):\n",
    "            counter += 1\n",
    "            new_filename = f\"{coworker_name} - {base}_{counter}{ext}\"\n",
    "            new_destination_path = os.path.join(destination_folder, new_filename)\n",
    "\n",
    "          destination_path = new_destination_path\n",
    "\n",
    "        shutil.copy2(source_path, destination_path)\n",
    "        print(f\"Copied '{source_path}' to '{destination_path}'\")\n",
    "\n",
    "if __name__ == \"__main__\":\n",
    "  source_folder = r\"\\\\10.10.11.115\\User Backup\\00 Cost&Planning\"\n",
    "  destination_folder = r\"H:\\Projects Control (PC)\\15 FILES REV.02 ALL (In Progress)\\03.powerpoint_powerbi\"\n",
    "\n",
    "  copy_powerpoint_powerbi_files(source_folder, destination_folder)"
   ]
  }
 ],
 "metadata": {
  "kernelspec": {
   "display_name": "Python 3",
   "language": "python",
   "name": "python3"
  },
  "language_info": {
   "codemirror_mode": {
    "name": "ipython",
    "version": 3
   },
   "file_extension": ".py",
   "mimetype": "text/x-python",
   "name": "python",
   "nbconvert_exporter": "python",
   "pygments_lexer": "ipython3",
   "version": "3.12.4"
  }
 },
 "nbformat": 4,
 "nbformat_minor": 2
}
