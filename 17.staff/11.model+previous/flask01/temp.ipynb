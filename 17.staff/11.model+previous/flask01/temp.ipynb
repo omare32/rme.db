{
 "cells": [
  {
   "cell_type": "code",
   "execution_count": 2,
   "metadata": {},
   "outputs": [],
   "source": [
    "import pandas as pd\n",
    "\n",
    "# Read the Excel file\n",
    "df = pd.read_excel('staff.xlsx')\n",
    "\n",
    "# Group the data by 'Project', 'Job', and 'Month' and count the occurrences\n",
    "grouped = df.groupby(['Project', 'Job', 'Month']).size().reset_index(name='Count')\n",
    "\n",
    "# Pivot the table to get 'Job' as columns and 'Month' as rows\n",
    "pivot_table = grouped.pivot_table(index=['Project', 'Month'], columns='Job', values='Count', fill_value=0)\n",
    "\n",
    "# Save the pivot table to a CSV file\n",
    "pivot_table.to_csv('deployment_plan_summary.csv')\n"
   ]
  }
 ],
 "metadata": {
  "kernelspec": {
   "display_name": "Python 3",
   "language": "python",
   "name": "python3"
  },
  "language_info": {
   "codemirror_mode": {
    "name": "ipython",
    "version": 3
   },
   "file_extension": ".py",
   "mimetype": "text/x-python",
   "name": "python",
   "nbconvert_exporter": "python",
   "pygments_lexer": "ipython3",
   "version": "3.12.0"
  }
 },
 "nbformat": 4,
 "nbformat_minor": 2
}
