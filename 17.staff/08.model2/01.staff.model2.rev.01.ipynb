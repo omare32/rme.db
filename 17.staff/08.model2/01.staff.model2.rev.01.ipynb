{
 "cells": [
  {
   "cell_type": "code",
   "execution_count": 29,
   "metadata": {},
   "outputs": [],
   "source": [
    "import pandas as pd\n",
    "\n",
    "# Read the data from the \"staff.xlsx\" file\n",
    "staff_data = pd.read_excel(\"staff.xlsx\")\n",
    "\n",
    "# Convert 'Month' column to datetime\n",
    "staff_data['Month'] = pd.to_datetime(staff_data['Month'])\n",
    "\n",
    "# Group by 'Job', 'Project', 'Month', and 'Type' and count the occurrences of each group\n",
    "count_data = staff_data.groupby(['Job', 'Project', 'Month', 'Type']).size().reset_index(name='Count')\n",
    "\n",
    "# Find the row with the maximum count for each group of 'Job' and 'Project'\n",
    "peak_values = count_data.loc[count_data.groupby(['Job', 'Project'])['Count'].idxmax()]\n",
    "\n",
    "# Rename the 'Month' column to 'Peak Month'\n",
    "peak_values.rename(columns={'Month': 'Peak Month'}, inplace=True)\n",
    "\n",
    "# Convert 'Peak Month' column to show month-Year format\n",
    "peak_values['Peak Month'] = peak_values['Peak Month'].dt.strftime('%b-%Y')\n",
    "\n",
    "# Save the results to a new Excel file\n",
    "peak_values.to_excel(\"peak_values.xlsx\", index=False)\n"
   ]
  }
 ],
 "metadata": {
  "kernelspec": {
   "display_name": "Python 3",
   "language": "python",
   "name": "python3"
  },
  "language_info": {
   "codemirror_mode": {
    "name": "ipython",
    "version": 3
   },
   "file_extension": ".py",
   "mimetype": "text/x-python",
   "name": "python",
   "nbconvert_exporter": "python",
   "pygments_lexer": "ipython3",
   "version": "3.12.0"
  }
 },
 "nbformat": 4,
 "nbformat_minor": 2
}
