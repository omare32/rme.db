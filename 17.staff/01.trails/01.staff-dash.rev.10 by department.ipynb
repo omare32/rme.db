{
 "cells": [
  {
   "cell_type": "code",
   "execution_count": 1,
   "metadata": {},
   "outputs": [
    {
     "data": {
      "text/html": [
       "\n",
       "        <iframe\n",
       "            width=\"100%\"\n",
       "            height=\"650\"\n",
       "            src=\"http://127.0.0.1:8050/\"\n",
       "            frameborder=\"0\"\n",
       "            allowfullscreen\n",
       "            \n",
       "        ></iframe>\n",
       "        "
      ],
      "text/plain": [
       "<IPython.lib.display.IFrame at 0x28a6bdffa40>"
      ]
     },
     "metadata": {},
     "output_type": "display_data"
    }
   ],
   "source": [
    "import pandas as pd\n",
    "import dash\n",
    "from dash import dcc, html, Input, Output\n",
    "import plotly.graph_objs as go\n",
    "import dash_bootstrap_components as dbc\n",
    "\n",
    "# Read the Excel files\n",
    "df = pd.read_excel(\"staff.xlsx\")\n",
    "df_types = pd.read_excel(\"types.xlsx\")\n",
    "df_departments = pd.read_excel(\"departments.xlsx\")\n",
    "\n",
    "# Create dropdown menu options from unique project names\n",
    "project_options = [{'label': project, 'value': project} for project in df['Project'].unique()]\n",
    "\n",
    "# Create dropdown menu options for project types\n",
    "type_options = [{'label': project_type, 'value': project_type} for project_type in df_types['Type'].unique()]\n",
    "\n",
    "# Filter out null values and create dropdown menu options from unique departments\n",
    "department_options = [{'label': department, 'value': department} for department in df_departments['Department'].dropna().unique()]\n",
    "\n",
    "# Add \"Other\" option for null department\n",
    "department_options.append({'label': 'Other', 'value': 'Other'})\n",
    "\n",
    "# Initialize the Dash app\n",
    "app = dash.Dash(__name__, external_stylesheets=[dbc.themes.BOOTSTRAP])\n",
    "\n",
    "# Define the layout of the app\n",
    "app.layout = html.Div([\n",
    "    html.H1(\"Deployment Plan\"),\n",
    "    html.Div([\n",
    "        html.Label('Type of Project:'),\n",
    "        dcc.Dropdown(\n",
    "            id='type-dropdown',\n",
    "            options=type_options,\n",
    "            value=type_options[0]['value'] if type_options else None  # Default value\n",
    "        )\n",
    "    ]),\n",
    "    html.Div([\n",
    "        html.Label('Select Project:'),\n",
    "        dcc.Dropdown(\n",
    "            id='project-dropdown',\n",
    "            options=project_options,\n",
    "            value=project_options[0]['value']  # Default value\n",
    "        ),\n",
    "    ]),\n",
    "    html.Div([\n",
    "        html.Label('Select Department:'),\n",
    "        dcc.Dropdown(\n",
    "            id='department-dropdown',\n",
    "            options=department_options,\n",
    "            value=department_options[0]['value']  # Default value\n",
    "        ),\n",
    "    ]),\n",
    "    dcc.Dropdown(\n",
    "        id='job-dropdown',\n",
    "        multi=True,\n",
    "    ),\n",
    "    dcc.Graph(id='deployment-plan'),\n",
    "    html.Div(id='selected-project-type')  # Show the selected project type\n",
    "])\n",
    "\n",
    "# Define callback to update job dropdown options based on selected project and department\n",
    "@app.callback(\n",
    "    Output('job-dropdown', 'options'),\n",
    "    [Input('project-dropdown', 'value'),\n",
    "     Input('department-dropdown', 'value')]\n",
    ")\n",
    "def update_job_dropdown(selected_project, selected_department):\n",
    "    # Filter the DataFrame based on the selected project and department\n",
    "    filtered_jobs = df[(df['Project'] == selected_project) & (df_departments['Department'] == selected_department)]['Job'].unique()\n",
    "    job_options = [{'label': job, 'value': job} for job in filtered_jobs]\n",
    "    return job_options\n",
    "\n",
    "\n",
    "if __name__ == '__main__':\n",
    "    app.run_server(debug=True)\n"
   ]
  }
 ],
 "metadata": {
  "kernelspec": {
   "display_name": "Python 3",
   "language": "python",
   "name": "python3"
  },
  "language_info": {
   "codemirror_mode": {
    "name": "ipython",
    "version": 3
   },
   "file_extension": ".py",
   "mimetype": "text/x-python",
   "name": "python",
   "nbconvert_exporter": "python",
   "pygments_lexer": "ipython3",
   "version": "3.12.0"
  }
 },
 "nbformat": 4,
 "nbformat_minor": 2
}
