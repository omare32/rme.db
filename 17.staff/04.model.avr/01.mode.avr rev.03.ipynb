{
 "cells": [
  {
   "cell_type": "code",
   "execution_count": 1,
   "metadata": {},
   "outputs": [
    {
     "name": "stdout",
     "output_type": "stream",
     "text": [
      "Data merged and saved to 'all.xlsx' successfully!\n"
     ]
    }
   ],
   "source": [
    "import pandas as pd\n",
    "\n",
    "# Read the Excel files into DataFrames\n",
    "staff_df = pd.read_excel(\"staff.xlsx\")\n",
    "types_df = pd.read_excel(\"types.xlsx\")\n",
    "departments_df = pd.read_excel(\"departments.xlsx\")\n",
    "\n",
    "# Merge the DataFrames\n",
    "merged_df = staff_df.merge(types_df, on=\"Project\", how=\"left\")\n",
    "merged_df = merged_df.merge(departments_df, on=\"Job\", how=\"left\")\n",
    "\n",
    "# Save the merged DataFrame to an Excel file\n",
    "merged_df.to_excel(\"all.xlsx\", index=False)\n",
    "\n",
    "print(\"Data merged and saved to 'all.xlsx' successfully!\")"
   ]
  },
  {
   "cell_type": "code",
   "execution_count": 2,
   "metadata": {},
   "outputs": [],
   "source": [
    "# Read the merged data from \"all.xlsx\"\n",
    "df = pd.read_excel(\"all.xlsx\")\n",
    "\n",
    "# Group by project, job title, and type, counting occurrences in each month\n",
    "grouped_df = df.groupby([\"Project\", \"Job\", \"Type\"])[\"Month\"].value_counts().unstack(fill_value=0)\n",
    "\n",
    "# Find the peak number for each job title within each project-type combination\n",
    "peak_counts = grouped_df.max(axis=1)\n",
    "\n",
    "# Reset the index to include project, job title, and type\n",
    "result = peak_counts.reset_index()\n",
    "\n",
    "# Rename the column before saving\n",
    "result = peak_counts.reset_index().rename(columns={0: \"Peak Count\"})\n",
    "\n",
    "# Save the result with the Peak Count column**\n",
    "result.to_excel(\"unique_job_titles_peak_counts_with_types.xlsx\", index=False)"
   ]
  },
  {
   "cell_type": "code",
   "execution_count": 3,
   "metadata": {},
   "outputs": [
    {
     "name": "stdout",
     "output_type": "stream",
     "text": [
      "Example projects saved to 'example_projects_structured.xlsx' successfully!\n"
     ]
    }
   ],
   "source": [
    "# Read the data\n",
    "df = pd.read_excel(\"unique_job_titles_peak_counts_with_types.xlsx\")\n",
    "\n",
    "# Group by type and job, calculate average peak count\n",
    "grouped_df = df.groupby([\"Type\", \"Job\"])[\"Peak Count\"].mean().round().astype(int).reset_index()\n",
    "\n",
    "# Create the final DataFrame\n",
    "final_df = pd.DataFrame()\n",
    "for type in grouped_df[\"Type\"].unique():\n",
    "    type_data = grouped_df[grouped_df[\"Type\"] == type]\n",
    "    final_df = pd.concat([final_df, type_data.set_index(\"Job\").rename_axis(type)], axis=1)  # Removed `.to_frame()`\n",
    "\n",
    "# Save to Excel with a single sheet\n",
    "with pd.ExcelWriter(\"example_projects_structured.xlsx\") as writer:\n",
    "    final_df.to_excel(writer, sheet_name=\"Example Projects\", index=True)\n",
    "\n",
    "print(\"Example projects saved to 'example_projects_structured.xlsx' successfully!\")"
   ]
  },
  {
   "cell_type": "code",
   "execution_count": 4,
   "metadata": {},
   "outputs": [],
   "source": [
    "import pandas as pd\n",
    "import numpy as np\n",
    "from scipy.stats import norm\n",
    "\n",
    "# Read the data\n",
    "df = pd.read_excel(\"unique_job_titles_peak_counts_with_types.xlsx\")\n",
    "\n",
    "# Get user input for type and duration\n",
    "user_type = input(\"Enter the type: \")\n",
    "user_duration = int(input(\"Enter the duration in months: \"))\n"
   ]
  },
  {
   "cell_type": "code",
   "execution_count": 7,
   "metadata": {},
   "outputs": [],
   "source": [
    "def format_month_header(date_str):\n",
    "  \"\"\"Converts a date string to the desired format.\"\"\"\n",
    "  date = pd.to_datetime(date_str)  # Convert string to date object\n",
    "  return f\"{date.month_name()}-{date.year}\"\n",
    "\n",
    "def generate_bell_curve_counts(duration, peak_count):\n",
    "    \"\"\"Generates counts in a bell curve pattern with zeros at the beginning and end.\"\"\"\n",
    "    counts = np.zeros(duration)  # Start with zeros\n",
    "    midpoint = duration // 2\n",
    "\n",
    "    # Introduce the multiplier to adjust peak scaling\n",
    "    multiplier = 1.25  # Adjust as needed to reach the desired peak value\n",
    "\n",
    "    # Fill counts from midpoint to both ends with a bell curve shape\n",
    "    for i in range(midpoint):\n",
    "        count = int(peak_count * multiplier * (1 - (abs(midpoint - i) / midpoint) ** 1.5))\n",
    "        counts[midpoint - i] = count\n",
    "        counts[midpoint + i] = count\n",
    "\n",
    "    return counts\n"
   ]
  },
  {
   "cell_type": "code",
   "execution_count": 11,
   "metadata": {},
   "outputs": [
    {
     "name": "stdout",
     "output_type": "stream",
     "text": [
      "Average peak counts for type 'Bridges' saved to 'Bridges.xlsx' successfully!\n"
     ]
    }
   ],
   "source": [
    "# Filter data based on user input\n",
    "filtered_df = df[df[\"Type\"] == user_type]\n",
    "\n",
    "# Get unique job titles and average peak counts\n",
    "unique_peaks = filtered_df.groupby(\"Job\")[\"Peak Count\"].mean().round().astype(int).reset_index()\n",
    "\n",
    "# Create a DataFrame with unique job titles and rounded average peak counts\n",
    "result_df = unique_peaks.set_index(\"Job\")\n",
    "\n",
    "# Create date columns, but don't overwrite result_df\n",
    "months = pd.date_range(start=\"2024-01-01\", periods=user_duration, freq=\"MS\")\n",
    "result_df = result_df.reindex(columns=result_df.columns.tolist() + list(months))  # Add date columns to existing result_df\n",
    "\n",
    "\n",
    "# Generate counts in a bell curve pattern for each job title\n",
    "for job_title in result_df.index:\n",
    "    peak_count = result_df.loc[job_title, \"Peak Count\"]\n",
    "\n",
    "    # Generate counts based on peak count\n",
    "    if peak_count == 1:\n",
    "        counts = np.ones(len(months))  # Set flatline of 1s for peak count 1\n",
    "    else:\n",
    "        # Indent this block correctly\n",
    "        counts = generate_bell_curve_counts(len(months), peak_count)  # Use the new function\n",
    "\n",
    "    # Assign counts to date columns (this line should be outside the if-else block)\n",
    "    result_df.loc[job_title, months] = counts\n",
    "\n",
    "# Save the Excel file without formatting\n",
    "output_filename = f\"{user_type}.xlsx\"\n",
    "result_df.to_excel(output_filename)\n",
    "\n",
    "print(f\"Average peak counts for type '{user_type}' saved to '{output_filename}' successfully!\")\n",
    "\n"
   ]
  },
  {
   "cell_type": "code",
   "execution_count": 12,
   "metadata": {},
   "outputs": [],
   "source": [
    "# Read the Excel file back in\n",
    "df_with_formatted_months = pd.read_excel(output_filename)\n",
    "\n",
    "# Redefine date_columns based on the column names in the DataFrame\n",
    "date_columns = list(df_with_formatted_months.filter(like='2024-').columns)\n",
    "\n",
    "# Format the month column names\n",
    "df_with_formatted_months = df_with_formatted_months.rename(columns=lambda x: format_month_header(x) if x in date_columns else x)\n",
    "\n",
    "# Remove index from the first column\n",
    "df_with_formatted_months.index.name = None\n",
    "\n",
    "# Overwrite the existing file with the formatted DataFrame\n",
    "df_with_formatted_months.to_excel(output_filename, index=False)  # Save without index"
   ]
  }
 ],
 "metadata": {
  "kernelspec": {
   "display_name": "Python 3",
   "language": "python",
   "name": "python3"
  },
  "language_info": {
   "codemirror_mode": {
    "name": "ipython",
    "version": 3
   },
   "file_extension": ".py",
   "mimetype": "text/x-python",
   "name": "python",
   "nbconvert_exporter": "python",
   "pygments_lexer": "ipython3",
   "version": "3.12.0"
  }
 },
 "nbformat": 4,
 "nbformat_minor": 2
}
