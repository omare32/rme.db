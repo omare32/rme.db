{
    "metadata": {
        "kernelspec": {
            "name": "SQL",
            "display_name": "SQL",
            "language": "sql"
        },
        "language_info": {
            "name": "sql",
            "version": ""
        }
    },
    "nbformat_minor": 2,
    "nbformat": 4,
    "cells": [
        {
            "cell_type": "code",
            "source": [
                ""
            ],
            "metadata": {
                "azdata_cell_guid": "dd5d548e-9fce-45dc-9cec-3c1929bafbe5",
                "language": "sql"
            },
            "outputs": [],
            "execution_count": null
        }
    ]
}