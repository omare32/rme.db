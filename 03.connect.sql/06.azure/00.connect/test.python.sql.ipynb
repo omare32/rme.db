{
    "cells": [
        {
            "cell_type": "code",
            "execution_count": null,
            "metadata": {
                "azdata_cell_guid": "dd5d548e-9fce-45dc-9cec-3c1929bafbe5",
                "language": "python"
            },
            "outputs": [],
            "source": [
                "import pyodbc\n",
                "\n",
                "# Define the connection parameters\n",
                "server = 'omar.database.windows.net'\n",
                "database = 'omarrme'\n",
                "username = 'omar'\n",
                "password = 'Aboghaleb_321'\n",
                "driver = '{ODBC Driver 17 for SQL Server}'\n",
                "\n",
                "# Create a connection string\n",
                "conn_str = f\"DRIVER={driver};SERVER={server};DATABASE={database};UID={username};PWD={password}\"\n",
                "\n",
                "try:\n",
                "    # Establish connection\n",
                "    conn = pyodbc.connect(conn_str)\n",
                "    cursor = conn.cursor()\n",
                "\n",
                "    # Execute a sample query\n",
                "    cursor.execute(\"SELECT TOP 5 * FROM YourTableName\")\n",
                "\n",
                "    # Fetch and print results\n",
                "    rows = cursor.fetchall()\n",
                "    for row in rows:\n",
                "        print(row)\n",
                "\n",
                "    # Close cursor and connection\n",
                "    cursor.close()\n",
                "    conn.close()\n",
                "\n",
                "except Exception as e:\n",
                "    print(f\"Error: {str(e)}\")\n"
            ]
        }
    ],
    "metadata": {
        "kernelspec": {
            "display_name": "Python 3",
            "language": "python",
            "name": "python3"
        },
        "language_info": {
            "codemirror_mode": {
                "name": "ipython",
                "version": 3
            },
            "file_extension": ".py",
            "mimetype": "text/x-python",
            "name": "python",
            "nbconvert_exporter": "python",
            "pygments_lexer": "ipython3",
            "version": "3.11.4"
        }
    },
    "nbformat": 4,
    "nbformat_minor": 2
}
