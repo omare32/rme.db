{
 "cells": [
  {
   "cell_type": "code",
   "execution_count": 2,
   "id": "0c0f0fb2",
   "metadata": {},
   "outputs": [
    {
     "ename": "ModuleNotFoundError",
     "evalue": "No module named 'google'",
     "output_type": "error",
     "traceback": [
      "\u001b[1;31m---------------------------------------------------------------------------\u001b[0m",
      "\u001b[1;31mModuleNotFoundError\u001b[0m                       Traceback (most recent call last)",
      "Cell \u001b[1;32mIn[2], line 4\u001b[0m\n\u001b[0;32m      2\u001b[0m \u001b[38;5;28;01mimport\u001b[39;00m \u001b[38;5;21;01mpsycopg2\u001b[39;00m\n\u001b[0;32m      3\u001b[0m \u001b[38;5;28;01mimport\u001b[39;00m \u001b[38;5;21;01mpandas\u001b[39;00m \u001b[38;5;28;01mas\u001b[39;00m \u001b[38;5;21;01mpd\u001b[39;00m\n\u001b[1;32m----> 4\u001b[0m \u001b[38;5;28;01mfrom\u001b[39;00m \u001b[38;5;21;01mgoogle\u001b[39;00m\u001b[38;5;21;01m.\u001b[39;00m\u001b[38;5;21;01mcloud\u001b[39;00m \u001b[38;5;28;01mimport\u001b[39;00m sql\n",
      "\u001b[1;31mModuleNotFoundError\u001b[0m: No module named 'google'"
     ]
    }
   ],
   "source": [
    "import os\n",
    "import psycopg2\n",
    "import pandas as pd\n",
    "from google.cloud import sql"
   ]
  },
  {
   "cell_type": "code",
   "execution_count": 6,
   "id": "64d63e75",
   "metadata": {},
   "outputs": [],
   "source": [
    "os.environ[\"rmedb-395804\"] = \"your-project-id\"\n",
    "project_id = os.environ[\"rmedb-395804\"]\n",
    "instance_name = \"rme\"\n",
    "database = \"rme\"\n",
    "username = \"postgres\"\n",
    "password = \"omar_321\"\n",
    "\n",
    "connection = psycopg2.connect(\n",
    "    host=\"34.67.241.108\",\n",
    "    port=5432,\n",
    "    database=database,\n",
    "    user=username,\n",
    "    password=password,\n",
    ")\n",
    "cursor = connection.cursor()"
   ]
  },
  {
   "cell_type": "code",
   "execution_count": 7,
   "id": "8db5a992",
   "metadata": {},
   "outputs": [],
   "source": [
    "cursor.execute(\"\"\"\n",
    "    SELECT project_no, SUM(amount) AS total_cost\n",
    "    FROM cost_dist\n",
    "    WHERE project_no IN ('122', '130', '143', '152', '157', '167', '168', '169')\n",
    "    GROUP BY project_no;\n",
    "\"\"\")\n",
    "records = cursor.fetchall()\n",
    "\n",
    "df = pd.DataFrame(records, columns=[\"project_no\", \"total_cost\"])\n",
    "connection.close()"
   ]
  },
  {
   "cell_type": "code",
   "execution_count": 8,
   "id": "2cbe8ebb",
   "metadata": {},
   "outputs": [
    {
     "name": "stdout",
     "output_type": "stream",
     "text": [
      "  project_no   total_cost\n",
      "0        122  666,916,414\n",
      "1        130  117,405,340\n",
      "2        143  185,758,338\n",
      "3        152  383,959,216\n",
      "4        157  150,652,193\n",
      "5        167  139,646,091\n",
      "6        168  102,052,248\n",
      "7        169   33,926,061\n"
     ]
    }
   ],
   "source": [
    "df = df.assign(total_cost=df.total_cost.astype(int).apply('{:,}'.format))\n",
    "print(df)"
   ]
  },
  {
   "cell_type": "code",
   "execution_count": null,
   "id": "91c5ae36",
   "metadata": {},
   "outputs": [],
   "source": []
  }
 ],
 "metadata": {
  "kernelspec": {
   "display_name": "Python 3 (ipykernel)",
   "language": "python",
   "name": "python3"
  },
  "language_info": {
   "codemirror_mode": {
    "name": "ipython",
    "version": 3
   },
   "file_extension": ".py",
   "mimetype": "text/x-python",
   "name": "python",
   "nbconvert_exporter": "python",
   "pygments_lexer": "ipython3",
   "version": "3.11.4"
  }
 },
 "nbformat": 4,
 "nbformat_minor": 5
}
