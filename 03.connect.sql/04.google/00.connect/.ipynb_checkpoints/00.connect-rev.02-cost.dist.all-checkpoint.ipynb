{
 "cells": [
  {
   "cell_type": "code",
   "execution_count": 1,
   "id": "0c0f0fb2",
   "metadata": {},
   "outputs": [],
   "source": [
    "import os\n",
    "import psycopg2\n",
    "import pandas as pd\n",
    "from google.cloud import sql"
   ]
  },
  {
   "cell_type": "code",
   "execution_count": 2,
   "id": "64d63e75",
   "metadata": {},
   "outputs": [],
   "source": [
    "os.environ[\"rmedb-395804\"] = \"your-project-id\"\n",
    "project_id = os.environ[\"rmedb-395804\"]\n",
    "instance_name = \"rme\"\n",
    "database = \"rme\"\n",
    "username = \"postgres\"\n",
    "password = \"omar_321\"\n",
    "\n",
    "connection = psycopg2.connect(\n",
    "    host=\"34.67.241.108\",\n",
    "    port=5432,\n",
    "    database=database,\n",
    "    user=username,\n",
    "    password=password,\n",
    ")\n",
    "cursor = connection.cursor()"
   ]
  },
  {
   "cell_type": "code",
   "execution_count": 3,
   "id": "8db5a992",
   "metadata": {},
   "outputs": [],
   "source": [
    "cursor.execute(\"\"\"\n",
    "    SELECT *\n",
    "    FROM cost_dist\n",
    "    WHERE project_no = '164';\n",
    "\"\"\")\n",
    "records = cursor.fetchall()\n",
    "column_names = [desc[0] for desc in cursor.description]\n",
    "\n",
    "df = pd.DataFrame(records, columns=column_names)\n",
    "df.to_excel(\"cost_dist_hussien.xlsx\", index=False)\n",
    "\n",
    "connection.close()"
   ]
  },
  {
   "cell_type": "code",
   "execution_count": null,
   "id": "d9390517",
   "metadata": {},
   "outputs": [],
   "source": []
  }
 ],
 "metadata": {
  "kernelspec": {
   "display_name": "Python 3 (ipykernel)",
   "language": "python",
   "name": "python3"
  },
  "language_info": {
   "codemirror_mode": {
    "name": "ipython",
    "version": 3
   },
   "file_extension": ".py",
   "mimetype": "text/x-python",
   "name": "python",
   "nbconvert_exporter": "python",
   "pygments_lexer": "ipython3",
   "version": "3.11.4"
  }
 },
 "nbformat": 4,
 "nbformat_minor": 5
}
