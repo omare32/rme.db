{
 "cells": [
  {
   "cell_type": "code",
   "execution_count": 19,
   "id": "b34c856c",
   "metadata": {},
   "outputs": [],
   "source": [
    "import pyodbc\n",
    "import pandas as pd"
   ]
  },
  {
   "cell_type": "code",
   "execution_count": 20,
   "id": "6f4caf80",
   "metadata": {},
   "outputs": [],
   "source": [
    "conn_str = (\"Driver={SQL Server};\"\n",
    "            \"Server=DESKTOP-609HS8C\\OMAR;\"\n",
    "            \"Database=rme;\"\n",
    "            \"Trusted_Connection=yes;\")\n",
    "conn = pyodbc.connect(conn_str)\n",
    "cursor = conn.cursor()"
   ]
  },
  {
   "cell_type": "code",
   "execution_count": 21,
   "id": "2a1c544f",
   "metadata": {},
   "outputs": [],
   "source": [
    "sql_query = f\"\"\"\n",
    "SELECT TOP 100 * FROM cost_dist\n",
    "\"\"\"\n",
    "df = pd.read_sql_query(sql_query, conn)"
   ]
  },
  {
   "cell_type": "code",
   "execution_count": 22,
   "id": "905c5f26",
   "metadata": {},
   "outputs": [],
   "source": [
    "conn.close()\n",
    "print(df)"
   ]
  }
 ],
 "metadata": {
  "kernelspec": {
   "display_name": "Python 3 (ipykernel)",
   "language": "python",
   "name": "python3"
  },
  "language_info": {
   "codemirror_mode": {
    "name": "ipython",
    "version": 3
   },
   "file_extension": ".py",
   "mimetype": "text/x-python",
   "name": "python",
   "nbconvert_exporter": "python",
   "pygments_lexer": "ipython3",
   "version": "3.11.0"
  }
 },
 "nbformat": 4,
 "nbformat_minor": 5
}
