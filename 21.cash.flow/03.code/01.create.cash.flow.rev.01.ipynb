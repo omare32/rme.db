{
 "cells": [
  {
   "cell_type": "code",
   "execution_count": 2,
   "metadata": {},
   "outputs": [
    {
     "name": "stdout",
     "output_type": "stream",
     "text": [
      "Actual Cost (Direct and Indirect works): 274875331\n"
     ]
    }
   ],
   "source": [
    "import openpyxl\n",
    "import glob\n",
    "\n",
    "# Find the Excel file with \"filled_by_control\" in its name\n",
    "file_path = glob.glob(\"*filled_by_control*.xlsx\")[0]\n",
    "\n",
    "# Load the workbook and the specific sheet\n",
    "workbook = openpyxl.load_workbook(file_path, data_only=True)\n",
    "sheet = workbook[\"needed\"]\n",
    "\n",
    "# Get the value from cell B9\n",
    "actual_cost = sheet[\"B9\"].value\n",
    "\n",
    "# Print the actual cost\n",
    "print(\"Actual Cost (Direct and Indirect works):\", actual_cost)\n"
   ]
  }
 ],
 "metadata": {
  "kernelspec": {
   "display_name": "Python 3",
   "language": "python",
   "name": "python3"
  },
  "language_info": {
   "codemirror_mode": {
    "name": "ipython",
    "version": 3
   },
   "file_extension": ".py",
   "mimetype": "text/x-python",
   "name": "python",
   "nbconvert_exporter": "python",
   "pygments_lexer": "ipython3",
   "version": "3.11.4"
  }
 },
 "nbformat": 4,
 "nbformat_minor": 2
}
