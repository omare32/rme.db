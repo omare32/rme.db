{
 "cells": [
  {
   "cell_type": "code",
   "execution_count": 1,
   "metadata": {},
   "outputs": [],
   "source": [
    "import os\n",
    "import shutil"
   ]
  },
  {
   "cell_type": "code",
   "execution_count": 3,
   "metadata": {},
   "outputs": [
    {
     "name": "stderr",
     "output_type": "stream",
     "text": [
      "<>:2: SyntaxWarning: invalid escape sequence '\\P'\n",
      "<>:2: SyntaxWarning: invalid escape sequence '\\P'\n",
      "C:\\Users\\Omar Essam2\\AppData\\Local\\Temp\\2\\ipykernel_928\\1287301108.py:2: SyntaxWarning: invalid escape sequence '\\P'\n",
      "  \"\"\"\n"
     ]
    }
   ],
   "source": [
    "def copy_cost_folders(source_dir, target_dir):\n",
    "  \"\"\"\n",
    "  Copies \"01 Cost\" folders from the source directory to the target directory, preserving the folder structure.\n",
    "\n",
    "  Args:\n",
    "    source_dir: The source directory containing the project folders (e.g., \"H:\\Projects Control (PC)\\08 Projects\").\n",
    "    target_dir: The target directory where the copied \"01 Cost\" folders will be placed (e.g., \"D:\\cost reports\").\n",
    "\n",
    "  Raises:\n",
    "    ValueError: If there are invalid characters in the paths, preventing directory scanning.\n",
    "  \"\"\"\n",
    "\n",
    "  for root, dirs, files in os.walk(source_dir):\n",
    "    for dir in dirs:\n",
    "      if dir == \"01 Cost\":\n",
    "        source_cost_dir = os.path.join(root, dir)\n",
    "        relative_path = os.path.relpath(root, source_dir)\n",
    "        target_cost_dir = os.path.join(target_dir, relative_path, dir)\n",
    "\n",
    "        # Handle potential invalid characters in paths gracefully\n",
    "        try:\n",
    "          os.makedirs(os.path.dirname(target_cost_dir), exist_ok=True)\n",
    "          shutil.copytree(source_cost_dir, target_cost_dir)\n",
    "        except (ValueError, OSError) as e:\n",
    "          print(f\"Error copying folder '{source_cost_dir}': {e}\")\n",
    "          # Optionally log the error or take other actions\n",
    "\n",
    "if __name__ == \"__main__\":\n",
    "  source_dir = \"H:\\\\Projects Control (PC)\\\\08 Projects\"  # Use raw strings for Windows paths\n",
    "  target_dir = \"D:\\\\cost reports\"  # Use raw strings for Windows paths\n",
    "\n",
    "  copy_cost_folders(source_dir, target_dir)"
   ]
  }
 ],
 "metadata": {
  "kernelspec": {
   "display_name": "Python 3",
   "language": "python",
   "name": "python3"
  },
  "language_info": {
   "codemirror_mode": {
    "name": "ipython",
    "version": 3
   },
   "file_extension": ".py",
   "mimetype": "text/x-python",
   "name": "python",
   "nbconvert_exporter": "python",
   "pygments_lexer": "ipython3",
   "version": "3.12.4"
  }
 },
 "nbformat": 4,
 "nbformat_minor": 2
}
