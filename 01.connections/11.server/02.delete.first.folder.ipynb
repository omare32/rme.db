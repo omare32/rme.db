{
 "cells": [
  {
   "cell_type": "code",
   "execution_count": 1,
   "metadata": {},
   "outputs": [],
   "source": [
    "import os\n",
    "import shutil"
   ]
  },
  {
   "cell_type": "code",
   "execution_count": 2,
   "metadata": {},
   "outputs": [
    {
     "name": "stdout",
     "output_type": "stream",
     "text": [
      "Moved contents and deleted: D:\\cost reports all\\0082 R5 Mix-Use Complex Project\\01 Cost\n",
      "Moved contents and deleted: D:\\cost reports all\\0083 TSK Solar Benban\\01 Cost\n",
      "Moved contents and deleted: D:\\cost reports all\\0085 Elsewedy Univ - Enabling Works\\01 Cost\n",
      "Moved contents and deleted: D:\\cost reports all\\0088 NUCA R05 - Z02\\01 Cost\n",
      "Moved contents and deleted: D:\\cost reports all\\0089 AbuSultan Rd Bridge2 Extension\\01 Cost\n",
      "Moved contents and deleted: D:\\cost reports all\\0090 Tunnel of Sokhna Road (2)\\01 Cost\n",
      "Moved contents and deleted: D:\\cost reports all\\0092 EDNC Retail & Offices Civil\\01 Cost\n",
      "Moved contents and deleted: D:\\cost reports all\\0093 PKG# 144, Marassi\\01 Cost\n",
      "Moved contents and deleted: D:\\cost reports all\\0094 DPW Onshore Port & Terminal\\01 Cost\n",
      "Moved contents and deleted: D:\\cost reports all\\0095 PKG# 101 Slope Stabilization\\01 Cost\n",
      "Moved contents and deleted: D:\\cost reports all\\0098 Mivida Pkg 140-ITP\\01 Cost\n",
      "Moved contents and deleted: D:\\cost reports all\\0099 Olympic Multi - Sports Hall\\01 Cost\n",
      "Moved contents and deleted: D:\\cost reports all\\0107 DoubleTree Mangroovy ElGouna\\01 Cost\n",
      "Moved contents and deleted: D:\\cost reports all\\0109 Safeer Square Bridge\\01 Cost\n",
      "Moved contents and deleted: D:\\cost reports all\\0111 HyperOne Zayed Extension\\01 Cost\n",
      "Moved contents and deleted: D:\\cost reports all\\0112 IKEA Extension MoA\\01 Cost\n",
      "Moved contents and deleted: D:\\cost reports all\\0113 CFC Podium 2\\01 Cost\n",
      "Moved contents and deleted: D:\\cost reports all\\0119 El Swedy Phase 2\\01 Cost\n",
      "Moved contents and deleted: D:\\cost reports all\\0121 EL-Hegaz Square Bridge\\01 Cost\n",
      "Moved contents and deleted: D:\\cost reports all\\0122 Ring Road\\01 Cost\n",
      "Moved contents and deleted: D:\\cost reports all\\0123 PKG # 162\\01 Cost\n",
      "Moved contents and deleted: D:\\cost reports all\\0123 PKG #163\\01 Cost\n",
      "Moved contents and deleted: D:\\cost reports all\\0125 Lekela\\01 Cost\n",
      "Moved contents and deleted: D:\\cost reports all\\0126 New Giza Teaching Hospital\\01 Cost\n",
      "Moved contents and deleted: D:\\cost reports all\\0128 Abbas Akkad Bridge\\01 Cost\n",
      "Moved contents and deleted: D:\\cost reports all\\0129 Asher Mn Ramadan Bridge No2\\01 Cost\n",
      "Moved contents and deleted: D:\\cost reports all\\0130 Kafr Shokr Bridge\\01 Cost\n",
      "Moved contents and deleted: D:\\cost reports all\\0131 Shorouk Bridge-LRT\\01 Cost\n",
      "Moved contents and deleted: D:\\cost reports all\\0133 GOV2 - Infra\\01 Cost\n",
      "Moved contents and deleted: D:\\cost reports all\\0134 Cairo-Alex Railway\\01 Cost\n",
      "Moved contents and deleted: D:\\cost reports all\\0135 Hassan El Mamoun Bridge\\01 Cost\n",
      "Moved contents and deleted: D:\\cost reports all\\0137 ORA ZED\\01 Cost\n",
      "Moved contents and deleted: D:\\cost reports all\\0138 Kattameya Creeks\\01 Cost\n",
      "Moved contents and deleted: D:\\cost reports all\\0139 Faculty of Medicine\\01 Cost\n",
      "Moved contents and deleted: D:\\cost reports all\\0140 Diplomatic District - Infra\\01 Cost\n",
      "Moved contents and deleted: D:\\cost reports all\\0141 ElSewedy HQ Internal Finishing\\01 Cost\n",
      "Moved contents and deleted: D:\\cost reports all\\0142 BP178-Lagoon Discharge\\01 Cost\n",
      "Moved contents and deleted: D:\\cost reports all\\0143 El Khatatba Bridge\\01 Cost\n",
      "Moved contents and deleted: D:\\cost reports all\\0144 EGAT Pelletizing Plant\\01 Cost\n",
      "Moved contents and deleted: D:\\cost reports all\\0145 Sokhna Port Expansion\\01 Cost\n",
      "Moved contents and deleted: D:\\cost reports all\\0147 MDF Factory\\01 Cost\n",
      "Moved contents and deleted: D:\\cost reports all\\0149 Kemet\\01 Cost\n",
      "Moved contents and deleted: D:\\cost reports all\\0150 Air Defense College\\01 Cost\n",
      "Moved contents and deleted: D:\\cost reports all\\0151 ORA ZED-Ph 2-Pkgs A&D\\01 Cost\n",
      "Moved contents and deleted: D:\\cost reports all\\0152 HST Bridges-Sokhna\\01 Cost\n",
      "Moved contents and deleted: D:\\cost reports all\\0153 October Dry Port Railway\\01 Cost\n",
      "Moved contents and deleted: D:\\cost reports all\\0157 Abou Ghaleb Bridge\\01 Cost\n",
      "Moved contents and deleted: D:\\cost reports all\\0158 Egyptian Exchange Building\\01 Cost\n",
      "Moved contents and deleted: D:\\cost reports all\\0159 Port Said Port Silos\\01 Cost\n",
      "Moved contents and deleted: D:\\cost reports all\\0160 The Open Channel Project\\01 Cost\n",
      "Moved contents and deleted: D:\\cost reports all\\0164 Waldorf Astoria Cairo\\01 Cost\n",
      "Moved contents and deleted: D:\\cost reports all\\0166 Alamein Coastal Road Bridge\\01 Cost\n",
      "Moved contents and deleted: D:\\cost reports all\\0167 Wady El Natroon Bridge\\01 Cost\n",
      "Moved contents and deleted: D:\\cost reports all\\0170 Mivida BP#189\\01 Cost\n",
      "Moved contents and deleted: D:\\cost reports all\\0172 Egat Rolling Mill no.4\\01 Cost\n",
      "Moved contents and deleted: D:\\cost reports all\\0175 October Under-Railway Tunnel\\01 Cost\n",
      "Moved contents and deleted: D:\\cost reports all\\0187 EPICO 3 Facility\\01 Cost\n",
      "Moved contents and deleted: D:\\cost reports all\\0193 DP World Basin 2 Ph2\\01 Cost\n",
      "All operations completed successfully.\n"
     ]
    }
   ],
   "source": [
    "def move_and_delete_01_cost(root_dir):\n",
    "    # Iterate through all folders in the root directory\n",
    "    for folder_name in os.listdir(root_dir):\n",
    "        project_path = os.path.join(root_dir, folder_name)\n",
    "        \n",
    "        # Define the path to the \"01 Cost\" folder\n",
    "        cost_folder_path = os.path.join(project_path, \"01 Cost\")\n",
    "        \n",
    "        # Check if the \"01 Cost\" folder exists and is a directory\n",
    "        if os.path.isdir(cost_folder_path):\n",
    "            # Move the contents of \"01 Cost\" to the project folder\n",
    "            for item_name in os.listdir(cost_folder_path):\n",
    "                item_path = os.path.join(cost_folder_path, item_name)\n",
    "                shutil.move(item_path, project_path)\n",
    "            \n",
    "            # Remove the empty \"01 Cost\" folder\n",
    "            os.rmdir(cost_folder_path)\n",
    "            print(f\"Moved contents and deleted: {cost_folder_path}\")\n",
    "\n",
    "# Define the root directory\n",
    "root_directory = r\"D:\\cost reports all\"\n",
    "\n",
    "# Call the function to perform the operation\n",
    "move_and_delete_01_cost(root_directory)\n",
    "\n",
    "print(\"All operations completed successfully.\")"
   ]
  }
 ],
 "metadata": {
  "kernelspec": {
   "display_name": "Python 3",
   "language": "python",
   "name": "python3"
  },
  "language_info": {
   "codemirror_mode": {
    "name": "ipython",
    "version": 3
   },
   "file_extension": ".py",
   "mimetype": "text/x-python",
   "name": "python",
   "nbconvert_exporter": "python",
   "pygments_lexer": "ipython3",
   "version": "3.12.5"
  }
 },
 "nbformat": 4,
 "nbformat_minor": 2
}
