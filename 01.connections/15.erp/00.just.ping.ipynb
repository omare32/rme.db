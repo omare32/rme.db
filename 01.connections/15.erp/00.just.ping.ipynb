{
 "cells": [
  {
   "cell_type": "code",
   "execution_count": 1,
   "metadata": {},
   "outputs": [
    {
     "name": "stdout",
     "output_type": "stream",
     "text": [
      "10.0.11.59 is not reachable\n"
     ]
    }
   ],
   "source": [
    "import os\n",
    "import platform\n",
    "\n",
    "hostname = \"10.0.11.59\"\n",
    "\n",
    "# Determine the ping command based on the operating system\n",
    "param = \"-n\" if platform.system().lower() == \"windows\" else \"-c\"\n",
    "\n",
    "# Building the command string\n",
    "command = f\"ping {param} 1 {hostname}\"\n",
    "\n",
    "# Execute the ping command and get the return code\n",
    "response = os.system(command)\n",
    "\n",
    "# Check the response code\n",
    "if response == 0:\n",
    "    print(f\"{hostname} is reachable\")\n",
    "else:\n",
    "    print(f\"{hostname} is not reachable\")"
   ]
  }
 ],
 "metadata": {
  "kernelspec": {
   "display_name": "Python 3",
   "language": "python",
   "name": "python3"
  },
  "language_info": {
   "codemirror_mode": {
    "name": "ipython",
    "version": 3
   },
   "file_extension": ".py",
   "mimetype": "text/x-python",
   "name": "python",
   "nbconvert_exporter": "python",
   "pygments_lexer": "ipython3",
   "version": "3.12.4"
  }
 },
 "nbformat": 4,
 "nbformat_minor": 2
}
