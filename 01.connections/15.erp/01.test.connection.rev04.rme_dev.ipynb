{
 "cells": [
  {
   "cell_type": "code",
   "execution_count": 1,
   "metadata": {},
   "outputs": [
    {
     "ename": "ModuleNotFoundError",
     "evalue": "No module named 'cx_Oracle'",
     "output_type": "error",
     "traceback": [
      "\u001b[1;31m---------------------------------------------------------------------------\u001b[0m",
      "\u001b[1;31mModuleNotFoundError\u001b[0m                       Traceback (most recent call last)",
      "Cell \u001b[1;32mIn[1], line 1\u001b[0m\n\u001b[1;32m----> 1\u001b[0m \u001b[38;5;28;01mimport\u001b[39;00m\u001b[38;5;250m \u001b[39m\u001b[38;5;21;01mcx_Oracle\u001b[39;00m\n\u001b[0;32m      3\u001b[0m \u001b[38;5;66;03m# Connection details \u001b[39;00m\n\u001b[0;32m      4\u001b[0m hostname \u001b[38;5;241m=\u001b[39m \u001b[38;5;124m\"\u001b[39m\u001b[38;5;124m10.0.11.59\u001b[39m\u001b[38;5;124m\"\u001b[39m\n",
      "\u001b[1;31mModuleNotFoundError\u001b[0m: No module named 'cx_Oracle'"
     ]
    }
   ],
   "source": [
    "import cx_Oracle\n",
    "\n",
    "# Connection details \n",
    "hostname = \"10.0.11.59\"\n",
    "port = 1521\n",
    "service_name = \"RMEDB\"\n",
    "username = \"RME_DEV\"\n",
    "password = \"PASS21RME\"  \n",
    "\n",
    "dsn_tns = cx_Oracle.makedsn(hostname, port, service_name=service_name)\n",
    "connection = None  # Initialize connection here\n",
    "\n",
    "try:\n",
    "    connection = cx_Oracle.connect(user=username, password=password, dsn=dsn_tns)\n",
    "    print(\"Connected to Oracle Database!\")\n",
    "\n",
    "    cursor = connection.cursor()\n",
    "    cursor.execute(\"SELECT 1 FROM DUAL\")\n",
    "    result = cursor.fetchone()\n",
    "    print(result)\n",
    "\n",
    "except cx_Oracle.Error as error:\n",
    "    print(f\"Error connecting to Oracle: {error}\")\n",
    "\n",
    "finally:\n",
    "    if connection:\n",
    "        cursor.close()\n",
    "        connection.close()\n",
    "        print(\"Connection closed.\")"
   ]
  }
 ],
 "metadata": {
  "kernelspec": {
   "display_name": "Python 3",
   "language": "python",
   "name": "python3"
  },
  "language_info": {
   "codemirror_mode": {
    "name": "ipython",
    "version": 3
   },
   "file_extension": ".py",
   "mimetype": "text/x-python",
   "name": "python",
   "nbconvert_exporter": "python",
   "pygments_lexer": "ipython3",
   "version": "3.13.2"
  }
 },
 "nbformat": 4,
 "nbformat_minor": 2
}
