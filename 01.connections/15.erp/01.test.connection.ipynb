{
 "cells": [
  {
   "cell_type": "code",
   "execution_count": null,
   "metadata": {
    "vscode": {
     "languageId": "plaintext"
    }
   },
   "outputs": [],
   "source": [
    "import cx_Oracle\n",
    "\n",
    "# Connection details from your email\n",
    "hostname = \"10.0.11.59\"\n",
    "port = 1521\n",
    "service_name = \"RMEDB\"\n",
    "username = \"RMEDWH\"\n",
    "password = \"DWHRME\"  \n",
    "\n",
    "# Construct the connection string\n",
    "dsn_tns = cx_Oracle.makedsn(hostname, port, service_name=service_name)\n",
    "\n",
    "try:\n",
    "    connection = cx_Oracle.connect(user=username, password=password, dsn=dsn_tns)\n",
    "    print(\"Connected to Oracle Database!\")\n",
    "\n",
    "    # Now you can execute SQL queries here \n",
    "    cursor = connection.cursor()\n",
    "    cursor.execute(\"SELECT 1 FROM DUAL\")\n",
    "    result = cursor.fetchone()\n",
    "    print(result)\n",
    "\n",
    "except cx_Oracle.Error as error:\n",
    "    print(f\"Error connecting to Oracle: {error}\")\n",
    "\n",
    "finally:\n",
    "    if connection:\n",
    "        cursor.close()\n",
    "        connection.close()\n",
    "        print(\"Connection closed.\")"
   ]
  }
 ],
 "metadata": {
  "language_info": {
   "name": "python"
  }
 },
 "nbformat": 4,
 "nbformat_minor": 2
}
