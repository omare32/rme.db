{
 "cells": [
  {
   "cell_type": "code",
   "execution_count": 1,
   "metadata": {},
   "outputs": [
    {
     "name": "stdout",
     "output_type": "stream",
     "text": [
      "Error connecting to Oracle: DPI-1047: Cannot locate a 64-bit Oracle Client library: \"The specified module could not be found\". See https://cx-oracle.readthedocs.io/en/latest/user_guide/installation.html for help\n"
     ]
    }
   ],
   "source": [
    "import cx_Oracle\n",
    "\n",
    "# Connection details \n",
    "hostname = \"10.0.11.59\"\n",
    "port = 1521\n",
    "service_name = \"RMEDB\"\n",
    "username = \"RMEDWH\"\n",
    "password = \"DWHRME\"  \n",
    "\n",
    "dsn_tns = cx_Oracle.makedsn(hostname, port, service_name=service_name)\n",
    "connection = None  # Initialize connection here\n",
    "\n",
    "try:\n",
    "    connection = cx_Oracle.connect(user=username, password=password, dsn=dsn_tns)\n",
    "    print(\"Connected to Oracle Database!\")\n",
    "\n",
    "    cursor = connection.cursor()\n",
    "    cursor.execute(\"SELECT 1 FROM DUAL\")\n",
    "    result = cursor.fetchone()\n",
    "    print(result)\n",
    "\n",
    "except cx_Oracle.Error as error:\n",
    "    print(f\"Error connecting to Oracle: {error}\")\n",
    "\n",
    "finally:\n",
    "    if connection:\n",
    "        cursor.close()\n",
    "        connection.close()\n",
    "        print(\"Connection closed.\")"
   ]
  }
 ],
 "metadata": {
  "kernelspec": {
   "display_name": "Python 3",
   "language": "python",
   "name": "python3"
  },
  "language_info": {
   "codemirror_mode": {
    "name": "ipython",
    "version": 3
   },
   "file_extension": ".py",
   "mimetype": "text/x-python",
   "name": "python",
   "nbconvert_exporter": "python",
   "pygments_lexer": "ipython3",
   "version": "3.12.4"
  }
 },
 "nbformat": 4,
 "nbformat_minor": 2
}
