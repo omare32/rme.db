{
 "cells": [
  {
   "cell_type": "code",
   "execution_count": 3,
   "metadata": {},
   "outputs": [
    {
     "name": "stdout",
     "output_type": "stream",
     "text": [
      "Error connecting to Oracle: DPY-3015: password verifier type 0x939 is not supported by python-oracledb in thin mode\n",
      "Help: https://python-oracledb.readthedocs.io/en/latest/user_guide/troubleshooting.html#dpy-3015\n"
     ]
    },
    {
     "ename": "InterfaceError",
     "evalue": "not connected",
     "output_type": "error",
     "traceback": [
      "\u001b[1;31m---------------------------------------------------------------------------\u001b[0m",
      "\u001b[1;31mInterfaceError\u001b[0m                            Traceback (most recent call last)",
      "Cell \u001b[1;32mIn[3], line 25\u001b[0m\n\u001b[0;32m     21\u001b[0m \u001b[38;5;28;01mfinally\u001b[39;00m:\n\u001b[0;32m     22\u001b[0m     \u001b[38;5;66;03m# Check if connection was successfully created before trying to close it\u001b[39;00m\n\u001b[0;32m     23\u001b[0m     \u001b[38;5;28;01mif\u001b[39;00m \u001b[38;5;124m'\u001b[39m\u001b[38;5;124mconnection\u001b[39m\u001b[38;5;124m'\u001b[39m \u001b[38;5;129;01min\u001b[39;00m \u001b[38;5;28mlocals\u001b[39m() \u001b[38;5;129;01mand\u001b[39;00m connection:\n\u001b[0;32m     24\u001b[0m         \u001b[38;5;66;03m# Close the connection\u001b[39;00m\n\u001b[1;32m---> 25\u001b[0m         \u001b[43mconnection\u001b[49m\u001b[38;5;241;43m.\u001b[39;49m\u001b[43mclose\u001b[49m\u001b[43m(\u001b[49m\u001b[43m)\u001b[49m\n\u001b[0;32m     26\u001b[0m         \u001b[38;5;28mprint\u001b[39m(\u001b[38;5;124m\"\u001b[39m\u001b[38;5;124mConnection closed\u001b[39m\u001b[38;5;124m\"\u001b[39m)\n",
      "\u001b[1;31mInterfaceError\u001b[0m: not connected"
     ]
    }
   ],
   "source": [
    "import oracledb\n",
    "\n",
    "# Database credentials\n",
    "host = \"10.0.11.59\"\n",
    "port = 1521\n",
    "service_name = \"RMEDB\"\n",
    "user = \"RMEDWH\"  # Updated username\n",
    "password = \"DWHRME\"  # Updated password\n",
    "\n",
    "# Connection string\n",
    "dsn = oracledb.makedsn(host, port, service_name=service_name)\n",
    "\n",
    "# Establish connection\n",
    "try:\n",
    "    connection = oracledb.connect(user=user, password=password, dsn=dsn)\n",
    "    print(\"Successfully connected to Oracle Database\")\n",
    "\n",
    "except oracledb.Error as error:\n",
    "    print(f\"Error connecting to Oracle: {error}\")\n",
    "\n",
    "finally:\n",
    "    # Check if connection was successfully created before trying to close it\n",
    "    if 'connection' in locals() and connection:\n",
    "        # Close the connection\n",
    "        connection.close()\n",
    "        print(\"Connection closed\")"
   ]
  }
 ],
 "metadata": {
  "kernelspec": {
   "display_name": "Python 3",
   "language": "python",
   "name": "python3"
  },
  "language_info": {
   "codemirror_mode": {
    "name": "ipython",
    "version": 3
   },
   "file_extension": ".py",
   "mimetype": "text/x-python",
   "name": "python",
   "nbconvert_exporter": "python",
   "pygments_lexer": "ipython3",
   "version": "3.12.5"
  }
 },
 "nbformat": 4,
 "nbformat_minor": 2
}
