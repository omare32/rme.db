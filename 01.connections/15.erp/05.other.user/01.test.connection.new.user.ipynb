{
 "cells": [
  {
   "cell_type": "code",
   "execution_count": 1,
   "metadata": {},
   "outputs": [
    {
     "name": "stdout",
     "output_type": "stream",
     "text": [
      "Error connecting to Oracle: DPY-3015: password verifier type 0x939 is not supported by python-oracledb in thin mode\n",
      "Help: https://python-oracledb.readthedocs.io/en/latest/user_guide/troubleshooting.html#dpy-3015\n"
     ]
    }
   ],
   "source": [
    "import oracledb\n",
    "\n",
    "# Database credentials\n",
    "host = \"10.0.11.59\"\n",
    "port = 1521\n",
    "service_name = \"RMEDB\"\n",
    "user = \"RME_DEV\"\n",
    "password = \"PASS21RME\"\n",
    "\n",
    "# Connection string\n",
    "dsn = oracledb.makedsn(host, port, service_name=service_name)\n",
    "\n",
    "# Establish connection\n",
    "try:\n",
    "    connection = oracledb.connect(user=user, password=password, dsn=dsn)\n",
    "    print(\"Successfully connected to Oracle Database\")\n",
    "\n",
    "except oracledb.Error as error:\n",
    "    print(f\"Error connecting to Oracle: {error}\")\n",
    "\n",
    "finally:\n",
    "    # Check if connection was successfully created before trying to close it\n",
    "    if 'connection' in locals() and connection:  \n",
    "        # Close the connection\n",
    "        connection.close()\n",
    "        print(\"Connection closed\")"
   ]
  }
 ],
 "metadata": {
  "kernelspec": {
   "display_name": "Python 3",
   "language": "python",
   "name": "python3"
  },
  "language_info": {
   "codemirror_mode": {
    "name": "ipython",
    "version": 3
   },
   "file_extension": ".py",
   "mimetype": "text/x-python",
   "name": "python",
   "nbconvert_exporter": "python",
   "pygments_lexer": "ipython3",
   "version": "3.12.4"
  }
 },
 "nbformat": 4,
 "nbformat_minor": 2
}
