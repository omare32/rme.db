{
 "cells": [
  {
   "cell_type": "code",
   "execution_count": 1,
   "metadata": {},
   "outputs": [
    {
     "name": "stdout",
     "output_type": "stream",
     "text": [
      "Connected to the database!\n",
      "Current date from database: 2025-01-27 13:56:51\n"
     ]
    }
   ],
   "source": [
    "import cx_Oracle\n",
    "\n",
    "# Connection details\n",
    "hostname = \"10.0.11.59\"\n",
    "port = 1521\n",
    "service_name = \"RMEDB\"\n",
    "username = \"RME_DEV\"\n",
    "password = \"PASS21RME\"\n",
    "\n",
    "# Construct the connection string\n",
    "dsn_tns = cx_Oracle.makedsn(hostname, port, service_name=service_name)\n",
    "\n",
    "# Connect to the database\n",
    "try:\n",
    "    connection = cx_Oracle.connect(user=username, password=password, dsn=dsn_tns)\n",
    "    print(\"Connected to the database!\")\n",
    "\n",
    "    # Now you can execute SQL queries\n",
    "    cursor = connection.cursor()\n",
    "    # Example query:\n",
    "    cursor.execute(\"SELECT sysdate FROM dual\")\n",
    "    result = cursor.fetchone()\n",
    "    print(\"Current date from database:\", result[0])\n",
    "\n",
    "except cx_Oracle.Error as error:\n",
    "    print(f\"Error connecting to database: {error}\")\n",
    "\n",
    "finally:\n",
    "    # Close the cursor and connection\n",
    "    if cursor:\n",
    "        cursor.close()\n",
    "    if connection:\n",
    "        connection.close()"
   ]
  }
 ],
 "metadata": {
  "kernelspec": {
   "display_name": "Python 3",
   "language": "python",
   "name": "python3"
  },
  "language_info": {
   "codemirror_mode": {
    "name": "ipython",
    "version": 3
   },
   "file_extension": ".py",
   "mimetype": "text/x-python",
   "name": "python",
   "nbconvert_exporter": "python",
   "pygments_lexer": "ipython3",
   "version": "3.12.4"
  }
 },
 "nbformat": 4,
 "nbformat_minor": 2
}
