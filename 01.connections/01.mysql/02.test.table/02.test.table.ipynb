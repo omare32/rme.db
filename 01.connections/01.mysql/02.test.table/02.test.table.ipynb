{
 "cells": [
  {
   "cell_type": "code",
   "execution_count": 70,
   "id": "8acc63da",
   "metadata": {},
   "outputs": [],
   "source": [
    "import mysql.connector\n",
    "import pandas as pd"
   ]
  },
  {
   "cell_type": "code",
   "execution_count": 71,
   "id": "e64adfbf",
   "metadata": {},
   "outputs": [],
   "source": [
    "connection=mysql.connector.connect(host='127.0.0.1',user='omar.e',password='omar_321',database='omar.rme')\n",
    "cursor=connection.cursor()"
   ]
  },
  {
   "cell_type": "code",
   "execution_count": 72,
   "id": "44273412",
   "metadata": {},
   "outputs": [],
   "source": [
    "df = pd.read_excel('test.xlsx')\n",
    "columns = df.columns"
   ]
  },
  {
   "cell_type": "code",
   "execution_count": 73,
   "id": "873d1c3d",
   "metadata": {},
   "outputs": [],
   "source": [
    "# Create the table\n",
    "table = 'CREATE TABLE IF NOT EXISTS `test` (' \\\n",
    "      '`col1` varchar(255) NOT NULL,' \\\n",
    "      '`col2` varchar(255) NOT NULL,' \\\n",
    "      '`col3` varchar(255) NULL' \\\n",
    "      ');'\n",
    "cursor.execute(table)"
   ]
  },
  {
   "cell_type": "code",
   "execution_count": 74,
   "id": "4d6c3f78",
   "metadata": {},
   "outputs": [],
   "source": [
    "# Get the list of rows in the Excel file\n",
    "rows = df.to_numpy().tolist()"
   ]
  },
  {
   "cell_type": "code",
   "execution_count": 75,
   "id": "5eb66ffd",
   "metadata": {},
   "outputs": [],
   "source": [
    "# Append the rows to the MySQL table\n",
    "for row in rows:\n",
    "    sql = 'INSERT INTO `test` (%s) VALUES (%s)' % (', '.join(columns), ', '.join(['%s' for col in columns]))\n",
    "    cursor.execute(sql, row)"
   ]
  },
  {
   "cell_type": "code",
   "execution_count": null,
   "id": "be4edec0",
   "metadata": {},
   "outputs": [],
   "source": [
    "connection.commit()\n",
    "cursor.close()"
   ]
  }
 ],
 "metadata": {
  "kernelspec": {
   "display_name": "Python 3 (ipykernel)",
   "language": "python",
   "name": "python3"
  },
  "language_info": {
   "codemirror_mode": {
    "name": "ipython",
    "version": 3
   },
   "file_extension": ".py",
   "mimetype": "text/x-python",
   "name": "python",
   "nbconvert_exporter": "python",
   "pygments_lexer": "ipython3",
   "version": "3.11.0"
  }
 },
 "nbformat": 4,
 "nbformat_minor": 5
}
