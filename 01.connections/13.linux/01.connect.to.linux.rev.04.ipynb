{
 "cells": [
  {
   "cell_type": "code",
   "execution_count": 10,
   "metadata": {},
   "outputs": [
    {
     "name": "stdout",
     "output_type": "stream",
     "text": [
      "Error connecting to database: ('IM002', '[IM002] [Microsoft][ODBC Driver Manager] Data source name not found and no default driver specified (0) (SQLDriverConnect)')\n"
     ]
    }
   ],
   "source": [
    "import pyodbc\n",
    "\n",
    "# Replace with your actual connection details\n",
    "server = '10.10.11.242'\n",
    "database = 'RME_TEST'\n",
    "username = 'omaressam'\n",
    "password = 'Omar@1234$'\n",
    "\n",
    "# Connection string\n",
    "conn_str = (\n",
    "    r'DRIVER={MySQL ODBC};'\n",
    "    r'SERVER=' + server + ';'\n",
    "    r'DATABASE=' + database + ';'\n",
    "    r'UID=' + username + ';'\n",
    "    r'PWD=' + password + ';'\n",
    ")\n",
    "\n",
    "conn = None  # Initialize conn outside the try block\n",
    "\n",
    "try:\n",
    "    conn = pyodbc.connect(conn_str)\n",
    "    cursor = conn.cursor()\n",
    "\n",
    "    # Execute a query\n",
    "    cursor.execute(\"SELECT VERSION()\")\n",
    "    row = cursor.fetchone()\n",
    "    print(\"Database version:\", row[0])\n",
    "\n",
    "except pyodbc.Error as ex:\n",
    "    print(\"Error connecting to database:\", ex)\n",
    "\n",
    "finally:\n",
    "    if conn:\n",
    "        conn.close()"
   ]
  }
 ],
 "metadata": {
  "kernelspec": {
   "display_name": "Python 3",
   "language": "python",
   "name": "python3"
  },
  "language_info": {
   "codemirror_mode": {
    "name": "ipython",
    "version": 3
   },
   "file_extension": ".py",
   "mimetype": "text/x-python",
   "name": "python",
   "nbconvert_exporter": "python",
   "pygments_lexer": "ipython3",
   "version": "3.12.4"
  }
 },
 "nbformat": 4,
 "nbformat_minor": 2
}
