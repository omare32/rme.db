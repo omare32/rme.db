{
 "cells": [
  {
   "cell_type": "code",
   "execution_count": null,
   "metadata": {},
   "outputs": [
    {
     "ename": "",
     "evalue": "",
     "output_type": "error",
     "traceback": [
      "\u001b[1;31mRunning cells with '.venv (Python 3.12.4)' requires the ipykernel package.\n",
      "\u001b[1;31mRun the following command to install 'ipykernel' into the Python environment. \n",
      "\u001b[1;31mCommand: '\"d:/OneDrive/OneDrive - Rowad Modern Engineering/x004 Data Science/03.rme.db/00.repo/rme.db/.venv/Scripts/python.exe\" -m pip install ipykernel -U --force-reinstall'"
     ]
    }
   ],
   "source": [
    "import mysql.connector as mysql\n",
    " \n",
    "from mysql.connector import Error\n",
    " \n",
    " \n",
    "try:\n",
    "    # Establish the connection\n",
    "    cnx = mysql.connect(\n",
    "            host = \"10.10.11.242\",\n",
    "            user =\"omar2\",\n",
    "            password = \"Omar_54321\",database = \"RME_TEST\"\n",
    "       \n",
    "    )\n",
    "   \n",
    "    if cnx.is_connected():\n",
    "        print(\"Connection successful!\")\n",
    " \n",
    "except Error as e:\n",
    "    print(f\"Error connecting to database: {e}\")\n",
    " \n",
    "finally:\n",
    "    # Ensure connection is closed properly\n",
    "    if 'cnx' in locals() and cnx.is_connected():\n",
    "        cnx.close()\n",
    "        print(\"Connection closed.\")\n",
    "   "
   ]
  }
 ],
 "metadata": {
  "kernelspec": {
   "display_name": ".venv",
   "language": "python",
   "name": "python3"
  },
  "language_info": {
   "codemirror_mode": {
    "name": "ipython",
    "version": 3
   },
   "file_extension": ".py",
   "mimetype": "text/x-python",
   "name": "python",
   "nbconvert_exporter": "python",
   "pygments_lexer": "ipython3",
   "version": "3.12.4"
  }
 },
 "nbformat": 4,
 "nbformat_minor": 2
}
