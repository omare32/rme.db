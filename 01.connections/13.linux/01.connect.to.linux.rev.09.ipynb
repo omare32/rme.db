{
 "cells": [
  {
   "cell_type": "code",
   "execution_count": 1,
   "metadata": {},
   "outputs": [
    {
     "ename": "ModuleNotFoundError",
     "evalue": "No module named 'mysql'",
     "output_type": "error",
     "traceback": [
      "\u001b[31m---------------------------------------------------------------------------\u001b[39m",
      "\u001b[31mModuleNotFoundError\u001b[39m                       Traceback (most recent call last)",
      "\u001b[36mCell\u001b[39m\u001b[36m \u001b[39m\u001b[32mIn[1]\u001b[39m\u001b[32m, line 1\u001b[39m\n\u001b[32m----> \u001b[39m\u001b[32m1\u001b[39m \u001b[38;5;28;01mimport\u001b[39;00m\u001b[38;5;250m \u001b[39m\u001b[34;01mmysql\u001b[39;00m\u001b[34;01m.\u001b[39;00m\u001b[34;01mconnector\u001b[39;00m\u001b[38;5;250m \u001b[39m\u001b[38;5;28;01mas\u001b[39;00m\u001b[38;5;250m \u001b[39m\u001b[34;01mmysql\u001b[39;00m\n\u001b[32m      3\u001b[39m \u001b[38;5;28;01mfrom\u001b[39;00m\u001b[38;5;250m \u001b[39m\u001b[34;01mmysql\u001b[39;00m\u001b[34;01m.\u001b[39;00m\u001b[34;01mconnector\u001b[39;00m\u001b[38;5;250m \u001b[39m\u001b[38;5;28;01mimport\u001b[39;00m Error\n\u001b[32m      6\u001b[39m \u001b[38;5;28;01mtry\u001b[39;00m:\n\u001b[32m      7\u001b[39m     \u001b[38;5;66;03m# Establish the connection\u001b[39;00m\n",
      "\u001b[31mModuleNotFoundError\u001b[39m: No module named 'mysql'"
     ]
    }
   ],
   "source": [
    "import mysql.connector as mysql\n",
    " \n",
    "from mysql.connector import Error\n",
    " \n",
    " \n",
    "try:\n",
    "    # Establish the connection\n",
    "    cnx = mysql.connect(\n",
    "            host = \"10.10.11.242\",\n",
    "            user =\"omar2\",\n",
    "            password = \"Omar_54321\",database = \"RME_TEST\"\n",
    "       \n",
    "    )\n",
    "   \n",
    "    if cnx.is_connected():\n",
    "        print(\"Connection successful!\")\n",
    " \n",
    "except Error as e:\n",
    "    print(f\"Error connecting to database: {e}\")\n",
    " \n",
    "finally:\n",
    "    # Ensure connection is closed properly\n",
    "    if 'cnx' in locals() and cnx.is_connected():\n",
    "        cnx.close()\n",
    "        print(\"Connection closed.\")\n",
    "   "
   ]
  }
 ],
 "metadata": {
  "kernelspec": {
   "display_name": "Python 3",
   "language": "python",
   "name": "python3"
  },
  "language_info": {
   "codemirror_mode": {
    "name": "ipython",
    "version": 3
   },
   "file_extension": ".py",
   "mimetype": "text/x-python",
   "name": "python",
   "nbconvert_exporter": "python",
   "pygments_lexer": "ipython3",
   "version": "3.13.3"
  }
 },
 "nbformat": 4,
 "nbformat_minor": 2
}
