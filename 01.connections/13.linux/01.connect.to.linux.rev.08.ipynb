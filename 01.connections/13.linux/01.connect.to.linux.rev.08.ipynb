{
 "cells": [
  {
   "cell_type": "code",
   "execution_count": null,
   "metadata": {},
   "outputs": [
    {
     "ename": "",
     "evalue": "",
     "output_type": "error",
     "traceback": [
      "\u001b[1;31mFailed to start the Kernel. \n",
      "\u001b[1;31mUnable to start Kernel '.venv (Python 3.12.4)' due to a timeout waiting for the ports to get used. \n",
      "\u001b[1;31mView Jupyter <a href='command:jupyter.viewOutput'>log</a> for further details."
     ]
    }
   ],
   "source": [
    "import mysql.connector as mysql\n",
    " \n",
    "from mysql.connector import Error\n",
    " \n",
    " \n",
    "try:\n",
    "    # Establish the connection\n",
    "    cnx = mysql.connect(\n",
    "            host = \"10.10.11.242\",\n",
    "            user =\"omaressam\",\n",
    "            password = \"Omar@1234$\",database = \"RME_TEST\"\n",
    "       \n",
    "    )\n",
    "   \n",
    "    if cnx.is_connected():\n",
    "        print(\"Connection successful!\")\n",
    " \n",
    "except Error as e:\n",
    "    print(f\"Error connecting to database: {e}\")\n",
    " \n",
    "finally:\n",
    "    # Ensure connection is closed properly\n",
    "    if 'cnx' in locals() and cnx.is_connected():\n",
    "        cnx.close()\n",
    "        print(\"Connection closed.\")\n",
    "   "
   ]
  }
 ],
 "metadata": {
  "kernelspec": {
   "display_name": ".venv",
   "language": "python",
   "name": "python3"
  },
  "language_info": {
   "codemirror_mode": {
    "name": "ipython",
    "version": 3
   },
   "file_extension": ".py",
   "mimetype": "text/x-python",
   "name": "python",
   "nbconvert_exporter": "python",
   "pygments_lexer": "ipython3",
   "version": "3.12.4"
  }
 },
 "nbformat": 4,
 "nbformat_minor": 2
}
