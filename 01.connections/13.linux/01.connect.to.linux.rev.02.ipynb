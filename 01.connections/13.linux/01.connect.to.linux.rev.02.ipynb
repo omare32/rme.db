{
 "cells": [
  {
   "cell_type": "code",
   "execution_count": 6,
   "metadata": {},
   "outputs": [
    {
     "name": "stdout",
     "output_type": "stream",
     "text": [
      "Error connecting to database: ('IM002', '[IM002] [Microsoft][ODBC Driver Manager] Data source name not found and no default driver specified (0) (SQLDriverConnect)')\n"
     ]
    }
   ],
   "source": [
    "import pyodbc\n",
    "\n",
    "# Database connection details\n",
    "server = '10.10.11.242'  # Replace with your server address\n",
    "database = 'RMEDB'  # Replace with your database name\n",
    "username = 'omaressam'  # Replace with your username\n",
    "password = 'Omar@1234$'  # Replace with your password\n",
    "\n",
    "cnx = None  # Initialize cnx outside the try block\n",
    "\n",
    "try:\n",
    "    # Establish connection\n",
    "    cnx = pyodbc.connect(\n",
    "        'DRIVER={MySQL ODBC Driver}',\n",
    "        SERVER=server,\n",
    "        DATABASE=database,\n",
    "        UID=username,\n",
    "        PWD=password\n",
    "    )\n",
    "\n",
    "    # Create a cursor object\n",
    "    cursor = cnx.cursor()\n",
    "\n",
    "    # Execute a simple query\n",
    "    cursor.execute(\"SELECT VERSION()\")\n",
    "    data = cursor.fetchone()\n",
    "    print(f\"Database version: {data[0]}\")\n",
    "\n",
    "except pyodbc.Error as err:\n",
    "    print(f\"Error connecting to database: {err}\")\n",
    "\n",
    "finally:\n",
    "    # Close the cursor and connection\n",
    "    if cnx:\n",
    "        cursor.close()\n",
    "        cnx.close()\n",
    "        print(\"Connection closed.\")"
   ]
  }
 ],
 "metadata": {
  "kernelspec": {
   "display_name": "Python 3",
   "language": "python",
   "name": "python3"
  },
  "language_info": {
   "codemirror_mode": {
    "name": "ipython",
    "version": 3
   },
   "file_extension": ".py",
   "mimetype": "text/x-python",
   "name": "python",
   "nbconvert_exporter": "python",
   "pygments_lexer": "ipython3",
   "version": "3.12.4"
  }
 },
 "nbformat": 4,
 "nbformat_minor": 2
}
