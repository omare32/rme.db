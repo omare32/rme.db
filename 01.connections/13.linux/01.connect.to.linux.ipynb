{
 "cells": [
  {
   "cell_type": "code",
   "execution_count": 1,
   "metadata": {},
   "outputs": [],
   "source": [
    "import mysql.connector"
   ]
  },
  {
   "cell_type": "code",
   "execution_count": null,
   "metadata": {},
   "outputs": [
    {
     "ename": "",
     "evalue": "",
     "output_type": "error",
     "traceback": [
      "\u001b[1;31mThe Kernel crashed while executing code in the current cell or a previous cell. \n",
      "\u001b[1;31mPlease review the code in the cell(s) to identify a possible cause of the failure. \n",
      "\u001b[1;31mClick <a href='https://aka.ms/vscodeJupyterKernelCrash'>here</a> for more info. \n",
      "\u001b[1;31mView Jupyter <a href='command:jupyter.viewOutput'>log</a> for further details."
     ]
    }
   ],
   "source": [
    "\n",
    "# Database connection details\n",
    "config = {\n",
    "    'user': 'omaressam',\n",
    "    'password': 'Omar@1234$',\n",
    "    'host': '10.10.11.242',\n",
    "    'database': 'RMEDB'\n",
    "}\n",
    "\n",
    "try:\n",
    "    # Establish connection\n",
    "    cnx = mysql.connector.connect(**config)\n",
    "\n",
    "    # Create a cursor object\n",
    "    cursor = cnx.cursor()\n",
    "\n",
    "    # Execute a simple query\n",
    "    try:\n",
    "        cursor.execute(\"SELECT VERSION()\")\n",
    "        data = cursor.fetchone()\n",
    "        print(f\"Database version: {data[0]}\")\n",
    "    except mysql.connector.Error as err:\n",
    "        print(f\"Error executing query: {err}\")\n",
    "\n",
    "except mysql.connector.Error as err:\n",
    "    print(f\"Error connecting to database: {err}\")\n",
    "\n",
    "finally:\n",
    "    # Close the cursor and connection\n",
    "    if cnx.is_connected():\n",
    "        cursor.close()\n",
    "        cnx.close()\n",
    "        print(\"Connection closed.\")"
   ]
  }
 ],
 "metadata": {
  "kernelspec": {
   "display_name": "Python 3",
   "language": "python",
   "name": "python3"
  },
  "language_info": {
   "codemirror_mode": {
    "name": "ipython",
    "version": 3
   },
   "file_extension": ".py",
   "mimetype": "text/x-python",
   "name": "python",
   "nbconvert_exporter": "python",
   "pygments_lexer": "ipython3",
   "version": "3.12.4"
  }
 },
 "nbformat": 4,
 "nbformat_minor": 2
}
