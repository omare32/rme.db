{
 "cells": [
  {
   "cell_type": "code",
   "execution_count": null,
   "metadata": {},
   "outputs": [],
   "source": [
    "import mysql.connector\n",
    "\n",
    "try:\n",
    "    db = mysql.connector.connect(\n",
    "        host=\"10.10.11.242\",\n",
    "        user='omaressam',\n",
    "        password='Omar@1234$',\n",
    "        database=\"RME_TEST\"\n",
    "    )\n",
    "\n",
    "    cursor = db.cursor()\n",
    "    operation = \"SELECT * FROM RME_TEST.pa_projects_all\"  # Corrected table name\n",
    "    cursor.execute(operation)\n",
    "\n",
    "    # Fetch all rows\n",
    "    rows = cursor.fetchall()\n",
    "\n",
    "    # Print the results (optional)\n",
    "    for row in rows:\n",
    "        print(row)\n",
    "\n",
    "except mysql.connector.Error as e:\n",
    "    print(f\"Error connecting to MySQL: {e}\")\n",
    "\n",
    "finally:\n",
    "    if db:\n",
    "        db.close()\n",
    "    \n"
   ]
  }
 ],
 "metadata": {
  "kernelspec": {
   "display_name": "Python 3",
   "language": "python",
   "name": "python3"
  },
  "language_info": {
   "codemirror_mode": {
    "name": "ipython",
    "version": 3
   },
   "file_extension": ".py",
   "mimetype": "text/x-python",
   "name": "python",
   "nbconvert_exporter": "python",
   "pygments_lexer": "ipython3",
   "version": "3.12.4"
  }
 },
 "nbformat": 4,
 "nbformat_minor": 2
}
