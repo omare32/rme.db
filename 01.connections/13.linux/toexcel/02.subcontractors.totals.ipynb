{
 "cells": [
  {
   "cell_type": "code",
   "execution_count": 1,
   "metadata": {},
   "outputs": [
    {
     "name": "stdout",
     "output_type": "stream",
     "text": [
      "Connection successful!\n"
     ]
    },
    {
     "name": "stderr",
     "output_type": "stream",
     "text": [
      "C:\\Users\\Omar Essam2\\AppData\\Local\\Temp\\3\\ipykernel_14260\\2784620360.py:25: UserWarning: pandas only supports SQLAlchemy connectable (engine/connection) or database string URI or sqlite3 DBAPI2 connection. Other DBAPI2 objects are not tested. Please consider using SQLAlchemy.\n",
      "  df = pd.read_sql(query, cnx)\n"
     ]
    },
    {
     "name": "stdout",
     "output_type": "stream",
     "text": [
      "Saved: Project_Totals.xlsx\n",
      "Connection closed.\n"
     ]
    }
   ],
   "source": [
    "import mysql.connector as mysql\n",
    "import pandas as pd\n",
    "\n",
    "# Database connection details\n",
    "DB_HOST = \"10.10.11.242\"\n",
    "DB_USER = \"omar2\"\n",
    "DB_PASSWORD = \"Omar_54321\"\n",
    "DB_NAME = \"RME_TEST\"\n",
    "TABLE_NAME = \"RME_SubContractor_Report\"\n",
    "\n",
    "try:\n",
    "    # Establish the connection\n",
    "    cnx = mysql.connect(\n",
    "        host=DB_HOST,\n",
    "        user=DB_USER,\n",
    "        password=DB_PASSWORD,\n",
    "        database=DB_NAME\n",
    "    )\n",
    "    \n",
    "    if cnx.is_connected():\n",
    "        print(\"Connection successful!\")\n",
    "        \n",
    "        # Fetch data from the table\n",
    "        query = f\"SELECT PROJECT, SUM(AMOUNT) as TOTAL_AMOUNT FROM {TABLE_NAME} GROUP BY PROJECT\"\n",
    "        df = pd.read_sql(query, cnx)\n",
    "        \n",
    "        # Save the result to an Excel file\n",
    "        filename = \"Project_Totals.xlsx\"\n",
    "        df.to_excel(filename, index=False)\n",
    "        print(f\"Saved: {filename}\")\n",
    "\n",
    "except mysql.Error as e:\n",
    "    print(f\"Error connecting to database: {e}\")\n",
    "\n",
    "finally:\n",
    "    # Ensure connection is closed properly\n",
    "    if 'cnx' in locals() and cnx.is_connected():\n",
    "        cnx.close()\n",
    "        print(\"Connection closed.\")"
   ]
  }
 ],
 "metadata": {
  "kernelspec": {
   "display_name": "Python 3",
   "language": "python",
   "name": "python3"
  },
  "language_info": {
   "codemirror_mode": {
    "name": "ipython",
    "version": 3
   },
   "file_extension": ".py",
   "mimetype": "text/x-python",
   "name": "python",
   "nbconvert_exporter": "python",
   "pygments_lexer": "ipython3",
   "version": "3.13.2"
  }
 },
 "nbformat": 4,
 "nbformat_minor": 2
}
