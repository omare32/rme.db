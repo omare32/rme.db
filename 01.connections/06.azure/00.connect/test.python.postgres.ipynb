{
    "cells": [
        {
            "cell_type": "code",
            "execution_count": 5,
            "metadata": {
                "azdata_cell_guid": "dd5d548e-9fce-45dc-9cec-3c1929bafbe5",
                "language": "python"
            },
            "outputs": [
                {
                    "name": "stdout",
                    "output_type": "stream",
                    "text": [
                        "Error while connecting to PostgreSQL connection to server at \"omar2.postgres.database.azure.com\" (52.234.145.46), port 5432 failed: FATAL:  password authentication failed for user \"omar\"\n",
                        "connection to server at \"omar2.postgres.database.azure.com\" (52.234.145.46), port 5432 failed: FATAL:  no pg_hba.conf entry for host \"196.132.96.54\", user \"omar\", database \"omarrme2\", no encryption\n",
                        "\n"
                    ]
                }
            ],
            "source": [
                "import psycopg2\n",
                "\n",
                "# # Azure PostgreSQL database connection parameters\n",
                "# host = 'omar2.postgres.database.azure.com'\n",
                "# database = 'omar2'\n",
                "# user = 'omar'\n",
                "# password = 'Aboghaleb_321'\n",
                "# sslmode = 'require'  # Azure requires SSL mode to be enabled\n",
                "\n",
                "# # Construct the connection string\n",
                "# conn_string = f\"host='{host}' dbname='{database}' user='{user}' password='{password}' sslmode='{sslmode}'\"\n",
                "try:\n",
                "    # Connect to the PostgreSQL server\n",
                "    conn = psycopg2.connect(user=\"omar\", password=\"{Aboghaleb_321}\", host=\"omar2.postgres.database.azure.com\", port=5432, database=\"omarrme2\")\n",
                "\n",
                "    print(\"Connected to database!\")\n",
                "\n",
                "    # Create a cursor object using the connection\n",
                "    cursor = conn.cursor()\n",
                "\n",
                "    # Example query\n",
                "    cursor.execute(\"SELECT version();\")\n",
                "\n",
                "    # Fetch the results\n",
                "    record = cursor.fetchone()\n",
                "    print(\"You are connected to - \", record, \"\\n\")\n",
                "\n",
                "    # Close the cursor and the connection\n",
                "    cursor.close()\n",
                "    conn.close()\n",
                "    print(\"PostgreSQL connection is closed\")\n",
                "except (Exception, psycopg2.Error) as error:\n",
                "    print(\"Error while connecting to PostgreSQL\", error)\n"
            ]
        },
        {
            "cell_type": "code",
            "execution_count": 6,
            "metadata": {},
            "outputs": [
                {
                    "name": "stdout",
                    "output_type": "stream",
                    "text": [
                        "Connected to database!\n",
                        "You are connected to -  ('PostgreSQL 16.2 on x86_64-pc-linux-gnu, compiled by gcc (Ubuntu 7.5.0-3ubuntu1~18.04) 7.5.0, 64-bit',) \n",
                        "\n",
                        "PostgreSQL connection is closed\n"
                    ]
                }
            ],
            "source": [
                "import psycopg2\n",
                "\n",
                "# Azure PostgreSQL database connection parameters\n",
                "host = 'omar2.postgres.database.azure.com'\n",
                "database = 'omarrme2'\n",
                "user = 'omar'\n",
                "password = 'Aboghaleb_321'\n",
                "sslmode = 'require'  # Azure requires SSL mode to be enabled\n",
                "\n",
                "# Construct the connection string\n",
                "conn_string = f\"host='{host}' dbname='{database}' user='{user}' password='{password}' sslmode='{sslmode}'\"\n",
                "\n",
                "try:\n",
                "    # Connect to the PostgreSQL server\n",
                "    conn = psycopg2.connect(conn_string)\n",
                "    print(\"Connected to database!\")\n",
                "\n",
                "    # Create a cursor object using the connection\n",
                "    cursor = conn.cursor()\n",
                "\n",
                "    # Example query\n",
                "    cursor.execute(\"SELECT version();\")\n",
                "\n",
                "    # Fetch the results\n",
                "    record = cursor.fetchone()\n",
                "    print(\"You are connected to - \", record, \"\\n\")\n",
                "\n",
                "    # Close the cursor and the connection\n",
                "    cursor.close()\n",
                "    conn.close()\n",
                "    print(\"PostgreSQL connection is closed\")\n",
                "except (Exception, psycopg2.Error) as error:\n",
                "    print(\"Error while connecting to PostgreSQL\", error)\n"
            ]
        }
    ],
    "metadata": {
        "kernelspec": {
            "display_name": "Python 3",
            "language": "python",
            "name": "python3"
        },
        "language_info": {
            "codemirror_mode": {
                "name": "ipython",
                "version": 3
            },
            "file_extension": ".py",
            "mimetype": "text/x-python",
            "name": "python",
            "nbconvert_exporter": "python",
            "pygments_lexer": "ipython3",
            "version": "3.11.4"
        }
    },
    "nbformat": 4,
    "nbformat_minor": 2
}
