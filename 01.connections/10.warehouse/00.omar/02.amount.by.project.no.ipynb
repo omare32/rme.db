{
 "cells": [
  {
   "cell_type": "code",
   "execution_count": 1,
   "metadata": {},
   "outputs": [
    {
     "name": "stdout",
     "output_type": "stream",
     "text": [
      "('122', 667419371.8799993)\n",
      "('130', 119373624.89999999)\n",
      "('143', 187095762.0000001)\n",
      "('152', 461271239.09)\n",
      "('157', 227697117.82)\n",
      "('166', 270518946.6)\n",
      "('167', 291292143.12999994)\n",
      "('168', 142726519.68)\n",
      "('169', 34946957.15)\n"
     ]
    }
   ],
   "source": [
    "import pyodbc\n",
    "\n",
    "def connect_to_sql_server(server, database, user, password):\n",
    "    \"\"\"Connects to a SQL Server database and returns a connection object.\"\"\"\n",
    "    conn_str = (\n",
    "        r'DRIVER={SQL Server};'\n",
    "        r'SERVER=' + server + ';'\n",
    "        r'DATABASE=' + database + ';'\n",
    "        r'UID=' + user + ';'\n",
    "        r'PWD=' + password + ';'\n",
    "    )\n",
    "    conn = pyodbc.connect(conn_str)\n",
    "    return conn\n",
    "\n",
    "def execute_query(conn, query):\n",
    "    \"\"\"Executes a SQL query and returns the results as a list of tuples.\"\"\"\n",
    "    cursor = conn.cursor()\n",
    "    cursor.execute(query)\n",
    "    results = cursor.fetchall()\n",
    "    cursor.close()\n",
    "    return results\n",
    "\n",
    "if __name__ == \"__main__\":\n",
    "    server = '10.10.11.241'\n",
    "    database = 'omar.rme1'\n",
    "    user = 'omar'\n",
    "    password = 'omar123'\n",
    "    query = \"\"\"\n",
    "        SELECT project_no, SUM(amount) AS total_cost\n",
    "        FROM cost_dist\n",
    "        WHERE project_no IN ('122', '130', '143', '152', '157', '166','167', '168', '169')\n",
    "        GROUP BY project_no;\n",
    "    \"\"\"\n",
    "\n",
    "    try:\n",
    "        conn = connect_to_sql_server(server, database, user, password)\n",
    "        results = execute_query(conn, query)\n",
    "\n",
    "        for row in results:\n",
    "            print(row)\n",
    "\n",
    "    except Exception as e:\n",
    "        print(\"Error:\", e)\n",
    "    finally:\n",
    "        if conn:\n",
    "            conn.close()"
   ]
  }
 ],
 "metadata": {
  "kernelspec": {
   "display_name": "Python 3",
   "language": "python",
   "name": "python3"
  },
  "language_info": {
   "codemirror_mode": {
    "name": "ipython",
    "version": 3
   },
   "file_extension": ".py",
   "mimetype": "text/x-python",
   "name": "python",
   "nbconvert_exporter": "python",
   "pygments_lexer": "ipython3",
   "version": "3.12.5"
  }
 },
 "nbformat": 4,
 "nbformat_minor": 2
}
