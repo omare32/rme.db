{
 "cells": [
  {
   "cell_type": "code",
   "execution_count": 1,
   "metadata": {},
   "outputs": [
    {
     "name": "stdout",
     "output_type": "stream",
     "text": [
      "(2018, 2390640221.7400055)\n",
      "(2019, 3528286745.809997)\n",
      "(2020, 5090022472.010002)\n",
      "(2021, 5372935339.9200115)\n",
      "(2022, 6864628632.510011)\n",
      "(2023, 7070458480.109995)\n",
      "(2024, 3468695095.9399977)\n"
     ]
    }
   ],
   "source": [
    "import pyodbc\n",
    "\n",
    "def connect_to_sql_server(server, database, user, password):\n",
    "    \"\"\"Connects to a SQL Server database and returns a connection object.\"\"\"\n",
    "    conn_str = (\n",
    "        r'DRIVER={SQL Server};'\n",
    "        r'SERVER=' + server + ';'\n",
    "        r'DATABASE=' + database + ';'\n",
    "        r'UID=' + user + ';'\n",
    "        r'PWD=' + password + ';'\n",
    "    )\n",
    "    conn = pyodbc.connect(conn_str)\n",
    "    return conn\n",
    "\n",
    "def execute_query(conn, query):\n",
    "    \"\"\"Executes a SQL query and returns the results as a list of tuples.\"\"\"\n",
    "    cursor = conn.cursor()\n",
    "    cursor.execute(query)\n",
    "    results = cursor.fetchall()\n",
    "    cursor.close()\n",
    "    return results\n",
    "\n",
    "if __name__ == \"__main__\":\n",
    "    server = '10.10.11.241'\n",
    "    database = 'omar.rme1'\n",
    "    user = 'yasser'\n",
    "    password = 'yasser123'\n",
    "    query = \"\"\"\n",
    "        SELECT\n",
    "            YEAR(gl_date) AS Year,\n",
    "            SUM(amount) AS TotalAmount\n",
    "        FROM\n",
    "            [omar.rme1].[dbo].[cost_dist]\n",
    "        WHERE\n",
    "            YEAR(gl_date) IN (2018, 2019, 2020, 2021, 2022, 2023, 2024)\n",
    "        GROUP BY\n",
    "            YEAR(gl_date)\n",
    "        ORDER BY\n",
    "            YEAR(gl_date);\n",
    "    \"\"\"\n",
    "\n",
    "    try:\n",
    "        conn = connect_to_sql_server(server, database, user, password)\n",
    "        results = execute_query(conn, query)\n",
    "\n",
    "        for row in results:\n",
    "            print(row)\n",
    "\n",
    "    except Exception as e:\n",
    "        print(\"Error:\", e)\n",
    "    finally:\n",
    "        if conn:\n",
    "            conn.close()"
   ]
  }
 ],
 "metadata": {
  "kernelspec": {
   "display_name": "Python 3",
   "language": "python",
   "name": "python3"
  },
  "language_info": {
   "codemirror_mode": {
    "name": "ipython",
    "version": 3
   },
   "file_extension": ".py",
   "mimetype": "text/x-python",
   "name": "python",
   "nbconvert_exporter": "python",
   "pygments_lexer": "ipython3",
   "version": "3.12.5"
  }
 },
 "nbformat": 4,
 "nbformat_minor": 2
}
