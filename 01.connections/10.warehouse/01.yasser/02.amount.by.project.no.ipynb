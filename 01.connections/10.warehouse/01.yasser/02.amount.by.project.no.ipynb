{
 "cells": [
  {
   "cell_type": "code",
   "execution_count": 1,
   "metadata": {},
   "outputs": [
    {
     "name": "stdout",
     "output_type": "stream",
     "text": [
      "(122.0, 667419371.8799998)\n",
      "(130.0, 119373624.89999999)\n",
      "(143.0, 187095762.00000003)\n",
      "(152.0, 461265539.09)\n",
      "(157.0, 227206937.30000004)\n",
      "(166.0, 270518946.59999996)\n",
      "(167.0, 290520464.58)\n",
      "(168.0, 142550118.05)\n",
      "(169.0, 34946957.15)\n"
     ]
    }
   ],
   "source": [
    "import pyodbc\n",
    "\n",
    "def connect_to_sql_server(server, database, user, password):\n",
    "    \"\"\"Connects to a SQL Server database and returns a connection object.\"\"\"\n",
    "    conn_str = (\n",
    "        r'DRIVER={SQL Server};'\n",
    "        r'SERVER=' + server + ';'\n",
    "        r'DATABASE=' + database + ';'\n",
    "        r'UID=' + user + ';'\n",
    "        r'PWD=' + password + ';'\n",
    "    )\n",
    "    conn = pyodbc.connect(conn_str)\n",
    "    return conn\n",
    "\n",
    "def execute_query(conn, query):\n",
    "    \"\"\"Executes a SQL query and returns the results as a list of tuples.\"\"\"\n",
    "    cursor = conn.cursor()\n",
    "    cursor.execute(query)\n",
    "    results = cursor.fetchall()\n",
    "    cursor.close()\n",
    "    return results\n",
    "\n",
    "if __name__ == \"__main__\":\n",
    "    server = '10.10.11.241'\n",
    "    database = 'omar.rme1'\n",
    "    user = 'yasser'\n",
    "    password = 'yasser123'\n",
    "    query = \"\"\"\n",
    "        SELECT project_no, SUM(amount) AS total_cost\n",
    "        FROM cost_dist\n",
    "        WHERE project_no IN ('122', '130', '143', '152', '157', '166','167', '168', '169')\n",
    "        GROUP BY project_no;\n",
    "    \"\"\"\n",
    "\n",
    "    try:\n",
    "        conn = connect_to_sql_server(server, database, user, password)\n",
    "        results = execute_query(conn, query)\n",
    "\n",
    "        for row in results:\n",
    "            print(row)\n",
    "\n",
    "    except Exception as e:\n",
    "        print(\"Error:\", e)\n",
    "    finally:\n",
    "        if conn:\n",
    "            conn.close()"
   ]
  }
 ],
 "metadata": {
  "kernelspec": {
   "display_name": "Python 3",
   "language": "python",
   "name": "python3"
  },
  "language_info": {
   "codemirror_mode": {
    "name": "ipython",
    "version": 3
   },
   "file_extension": ".py",
   "mimetype": "text/x-python",
   "name": "python",
   "nbconvert_exporter": "python",
   "pygments_lexer": "ipython3",
   "version": "3.12.5"
  }
 },
 "nbformat": 4,
 "nbformat_minor": 2
}
