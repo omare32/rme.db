{
 "cells": [
  {
   "cell_type": "code",
   "execution_count": 1,
   "metadata": {},
   "outputs": [
    {
     "name": "stdout",
     "output_type": "stream",
     "text": [
      "Error: ('08001', '[08001] [Microsoft][ODBC SQL Server Driver][DBNETLIB]SQL Server does not exist or access denied. (17) (SQLDriverConnect); [08001] [Microsoft][ODBC SQL Server Driver][DBNETLIB]ConnectionOpen (Connect()). (53)')\n"
     ]
    },
    {
     "ename": "NameError",
     "evalue": "name 'conn' is not defined",
     "output_type": "error",
     "traceback": [
      "\u001b[1;31m---------------------------------------------------------------------------\u001b[0m",
      "\u001b[1;31mNameError\u001b[0m                                 Traceback (most recent call last)",
      "Cell \u001b[1;32mIn[1], line 45\u001b[0m\n\u001b[0;32m     43\u001b[0m     \u001b[38;5;28mprint\u001b[39m(\u001b[38;5;124m\"\u001b[39m\u001b[38;5;124mError:\u001b[39m\u001b[38;5;124m\"\u001b[39m, e)\n\u001b[0;32m     44\u001b[0m \u001b[38;5;28;01mfinally\u001b[39;00m:\n\u001b[1;32m---> 45\u001b[0m     \u001b[38;5;28;01mif\u001b[39;00m \u001b[43mconn\u001b[49m:\n\u001b[0;32m     46\u001b[0m         conn\u001b[38;5;241m.\u001b[39mclose()\n",
      "\u001b[1;31mNameError\u001b[0m: name 'conn' is not defined"
     ]
    }
   ],
   "source": [
    "import pyodbc\n",
    "\n",
    "def connect_to_sql_server(server, database, user, password):\n",
    "    \"\"\"Connects to a SQL Server database and returns a connection object.\"\"\"\n",
    "    conn_str = (\n",
    "        r'DRIVER={SQL Server};'\n",
    "        r'SERVER=' + server + ';'\n",
    "        r'DATABASE=' + database + ';'\n",
    "        r'UID=' + user + ';'\n",
    "        r'PWD=' + password + ';'\n",
    "    )\n",
    "    conn = pyodbc.connect(conn_str)\n",
    "    return conn\n",
    "\n",
    "def execute_query(conn, query):\n",
    "    \"\"\"Executes a SQL query and returns the results as a list of tuples.\"\"\"\n",
    "    cursor = conn.cursor()\n",
    "    cursor.execute(query)\n",
    "    results = cursor.fetchall()\n",
    "    cursor.close()\n",
    "    return results\n",
    "\n",
    "if __name__ == \"__main__\":\n",
    "    server = '10.10.11.241'\n",
    "    database = 'omar.rme1'\n",
    "    user = 'yasser'\n",
    "    password = 'yasser123'\n",
    "    query = \"\"\"\n",
    "        SELECT project_no, SUM(amount) AS total_cost\n",
    "        FROM cost_dist\n",
    "        WHERE project_no IN ('122', '130', '143', '152', '157', '166','167', '168', '169')\n",
    "        GROUP BY project_no;\n",
    "    \"\"\"\n",
    "\n",
    "    try:\n",
    "        conn = connect_to_sql_server(server, database, user, password)\n",
    "        results = execute_query(conn, query)\n",
    "\n",
    "        for row in results:\n",
    "            print(row)\n",
    "\n",
    "    except Exception as e:\n",
    "        print(\"Error:\", e)\n",
    "    finally:\n",
    "        if conn:\n",
    "            conn.close()"
   ]
  }
 ],
 "metadata": {
  "kernelspec": {
   "display_name": "Python 3",
   "language": "python",
   "name": "python3"
  },
  "language_info": {
   "codemirror_mode": {
    "name": "ipython",
    "version": 3
   },
   "file_extension": ".py",
   "mimetype": "text/x-python",
   "name": "python",
   "nbconvert_exporter": "python",
   "pygments_lexer": "ipython3",
   "version": "3.12.5"
  }
 },
 "nbformat": 4,
 "nbformat_minor": 2
}
