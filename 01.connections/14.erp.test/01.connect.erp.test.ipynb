{
 "cells": [
  {
   "cell_type": "code",
   "execution_count": 1,
   "metadata": {},
   "outputs": [
    {
     "name": "stdout",
     "output_type": "stream",
     "text": [
      "Error: ORA-12170: Cannot connect. - timeout of -s for host 10.0.11.92 port 1531. (CONNECTION_ID=SsnAvdBEQJWBvcTlfGLdRg==)\n",
      "Help: https://docs.oracle.com/error-help/db/ora-12170/\n"
     ]
    }
   ],
   "source": [
    "import cx_Oracle\n",
    "\n",
    "# Connection details\n",
    "host = \"10.0.11.92\"\n",
    "port = 1531\n",
    "service_name = \"RMETEST\"\n",
    "username = \"omar.essam\"  # replace with your actual username\n",
    "password = \"omar654321\"  # replace with your actual password\n",
    "\n",
    "# Construct the DSN (Data Source Name)\n",
    "dsn = cx_Oracle.makedsn(host, port, service_name=service_name)\n",
    "\n",
    "# Establish the connection\n",
    "try:\n",
    "    connection = cx_Oracle.connect(user=username, password=password, dsn=dsn)\n",
    "    print(\"Successfully connected to the Oracle database\")\n",
    "except cx_Oracle.DatabaseError as e:\n",
    "    error, = e.args\n",
    "    print(f\"Error: {error.message}\")\n",
    "finally:\n",
    "    if 'connection' in locals() and connection:\n",
    "        connection.close()\n"
   ]
  }
 ],
 "metadata": {
  "kernelspec": {
   "display_name": "Python 3",
   "language": "python",
   "name": "python3"
  },
  "language_info": {
   "codemirror_mode": {
    "name": "ipython",
    "version": 3
   },
   "file_extension": ".py",
   "mimetype": "text/x-python",
   "name": "python",
   "nbconvert_exporter": "python",
   "pygments_lexer": "ipython3",
   "version": "3.12.4"
  }
 },
 "nbformat": 4,
 "nbformat_minor": 2
}
