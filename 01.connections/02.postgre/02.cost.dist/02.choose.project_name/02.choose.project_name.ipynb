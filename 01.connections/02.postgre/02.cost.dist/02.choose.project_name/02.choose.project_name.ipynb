{
 "cells": [
  {
   "cell_type": "code",
   "execution_count": 1,
   "id": "8f8cea83",
   "metadata": {},
   "outputs": [],
   "source": [
    "import psycopg2\n",
    "import pandas as pd"
   ]
  },
  {
   "cell_type": "code",
   "execution_count": 2,
   "id": "3e9cefb4",
   "metadata": {},
   "outputs": [],
   "source": [
    "connection = psycopg2.connect(\n",
    "    host=\"localhost\",\n",
    "    dbname=\"rme\",\n",
    "    user=\"postgres\",\n",
    "    password=\"omar_321\"\n",
    ")\n",
    "cursor = connection.cursor()"
   ]
  },
  {
   "cell_type": "code",
   "execution_count": 3,
   "id": "985361a9",
   "metadata": {},
   "outputs": [],
   "source": [
    "cursor.execute(\"\"\"\n",
    "    SELECT project_name, comment, supplier_name, amount\n",
    "    FROM cost_dist\n",
    "    WHERE project_name = 'EMAAR-PKG#53-UPTOWN';\n",
    "\"\"\")\n",
    "records = cursor.fetchall()\n",
    "\n",
    "df = pd.DataFrame(records, columns=[\"project_name\", \"comment\", \"supplier_name\", \"amount\"])\n",
    "df.to_excel(\"cost_dist_EMAAR-PKG#53-UPTOWN.xlsx\", index=False)\n",
    "\n",
    "connection.close()"
   ]
  }
 ],
 "metadata": {
  "kernelspec": {
   "display_name": "Python 3 (ipykernel)",
   "language": "python",
   "name": "python3"
  },
  "language_info": {
   "codemirror_mode": {
    "name": "ipython",
    "version": 3
   },
   "file_extension": ".py",
   "mimetype": "text/x-python",
   "name": "python",
   "nbconvert_exporter": "python",
   "pygments_lexer": "ipython3",
   "version": "3.11.0"
  }
 },
 "nbformat": 4,
 "nbformat_minor": 5
}
