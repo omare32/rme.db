{
 "cells": [
  {
   "cell_type": "code",
   "execution_count": 1,
   "id": "49756ae0",
   "metadata": {},
   "outputs": [],
   "source": [
    "import psycopg2\n",
    "import pandas as pd\n",
    "import tkinter as tk\n",
    "from tkinter import simpledialog"
   ]
  },
  {
   "cell_type": "code",
   "execution_count": 2,
   "id": "1322215d",
   "metadata": {},
   "outputs": [],
   "source": [
    "# Database connection parameters\n",
    "db_params = {\n",
    "    \"host\": \"localhost\",\n",
    "    \"dbname\": \"rme\",\n",
    "    \"user\": \"postgres\",\n",
    "    \"password\": \"omar_321\"\n",
    "}\n",
    "\n",
    "# Connect to the PostgreSQL server\n",
    "connection = psycopg2.connect(**db_params)\n",
    "cursor = connection.cursor()"
   ]
  },
  {
   "cell_type": "code",
   "execution_count": 3,
   "id": "82987270",
   "metadata": {},
   "outputs": [],
   "source": [
    "# Create a Tkinter root window (hidden)\n",
    "root = tk.Tk()\n",
    "root.withdraw()\n",
    "\n",
    "# Prompt the user to enter the project number using a dialog box\n",
    "project_no_value = simpledialog.askstring(\"Project Number\", \"Please enter the project number:\")"
   ]
  },
  {
   "cell_type": "code",
   "execution_count": 4,
   "id": "496e8e71",
   "metadata": {},
   "outputs": [],
   "source": [
    "# SQL query to select data from the table where project_no matches user input\n",
    "query = \"SELECT * FROM cost_dist WHERE project_no = %s\"\n",
    "cursor.execute(query, (project_no_value,))\n",
    "\n",
    "# Fetch all rows\n",
    "rows = cursor.fetchall()\n",
    "\n",
    "# Create a pandas DataFrame from the fetched data\n",
    "df = pd.DataFrame(rows, columns=[desc[0] for desc in cursor.description])"
   ]
  },
  {
   "cell_type": "code",
   "execution_count": 5,
   "id": "a988126a",
   "metadata": {},
   "outputs": [
    {
     "name": "stdout",
     "output_type": "stream",
     "text": [
      "Data exported to 'cost_dist_152.xlsx' successfully!\n",
      "Database connection closed.\n"
     ]
    }
   ],
   "source": [
    "# Export the data to an Excel file\n",
    "excel_filename = f\"cost_dist_{project_no_value}.xlsx\"\n",
    "df.to_excel(excel_filename, index=False)\n",
    "\n",
    "print(f\"Data exported to '{excel_filename}' successfully!\")\n",
    "\n",
    "# Close the database connection\n",
    "cursor.close()\n",
    "connection.close()\n",
    "print(\"Database connection closed.\")"
   ]
  }
 ],
 "metadata": {
  "kernelspec": {
   "display_name": "Python 3 (ipykernel)",
   "language": "python",
   "name": "python3"
  },
  "language_info": {
   "codemirror_mode": {
    "name": "ipython",
    "version": 3
   },
   "file_extension": ".py",
   "mimetype": "text/x-python",
   "name": "python",
   "nbconvert_exporter": "python",
   "pygments_lexer": "ipython3",
   "version": "3.11.0"
  }
 },
 "nbformat": 4,
 "nbformat_minor": 5
}
