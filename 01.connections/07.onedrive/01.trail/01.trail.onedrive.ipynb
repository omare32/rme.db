{
 "cells": [
  {
   "cell_type": "code",
   "execution_count": 1,
   "metadata": {},
   "outputs": [],
   "source": [
    "import requests\n",
    "from requests_oauthlib import OAuth2Session"
   ]
  },
  {
   "cell_type": "code",
   "execution_count": null,
   "metadata": {},
   "outputs": [],
   "source": [
    "# Define your OAuth2 credentials\n",
    "client_id = '2e513159-943d-4f92-868f-06b0ed0ac26d'\n",
    "client_secret = 'YOUR_CLIENT_SECRET'\n",
    "tenant_id = 'YOUR_TENANT_ID'\n",
    "redirect_uri = 'http://localhost'"
   ]
  },
  {
   "cell_type": "code",
   "execution_count": null,
   "metadata": {},
   "outputs": [],
   "source": [
    "# Authorization and token URLs\n",
    "auth_url = f'https://login.microsoftonline.com/{tenant_id}/oauth2/v2.0/authorize'\n",
    "token_url = f'https://login.microsoftonline.com/{tenant_id}/oauth2/v2.0/token'\n",
    "scope = ['https://graph.microsoft.com/.default']"
   ]
  },
  {
   "cell_type": "code",
   "execution_count": null,
   "metadata": {},
   "outputs": [],
   "source": [
    "# OAuth2 session\n",
    "oauth = OAuth2Session(client_id, redirect_uri=redirect_uri, scope=scope)\n",
    "\n",
    "# Get authorization URL and state\n",
    "authorization_url, state = oauth.authorization_url(auth_url)\n",
    "\n",
    "print(f'Please go to {authorization_url} and authorize access.')"
   ]
  },
  {
   "cell_type": "code",
   "execution_count": null,
   "metadata": {},
   "outputs": [],
   "source": [
    "# Get the authorization response URL from the user\n",
    "authorization_response = input('Enter the full callback URL: ')\n",
    "\n",
    "# Fetch the access token\n",
    "token = oauth.fetch_token(token_url, authorization_response=authorization_response, client_secret=client_secret)\n",
    "\n",
    "# Use the token to access OneDrive\n",
    "headers = {\n",
    "    'Authorization': f'Bearer {token[\"access_token\"]}'\n",
    "}\n"
   ]
  },
  {
   "cell_type": "code",
   "execution_count": null,
   "metadata": {},
   "outputs": [],
   "source": [
    "# Define the API endpoint for your OneDrive files\n",
    "onedrive_api_url = 'https://graph.microsoft.com/v1.0/me/drive/root/children'\n",
    "\n",
    "# Make the request to get the list of files\n",
    "response = requests.get(onedrive_api_url, headers=headers)\n",
    "files = response.json()\n",
    "\n",
    "print(\"Files in OneDrive:\")\n",
    "for file in files['value']:\n",
    "    print(file['name'])\n",
    "\n",
    "# Example: Download a specific Excel file\n",
    "file_id = 'YOUR_FILE_ID'  # Replace with the ID of the file you want to download\n",
    "file_download_url = f'https://graph.microsoft.com/v1.0/me/drive/items/{file_id}/content'\n",
    "file_response = requests.get(file_download_url, headers=headers)\n",
    "\n",
    "# Save the file locally\n",
    "with open('downloaded_file.xlsx', 'wb') as f:\n",
    "    f.write(file_response.content)\n",
    "\n",
    "print('File downloaded successfully.')"
   ]
  }
 ],
 "metadata": {
  "kernelspec": {
   "display_name": "Python 3",
   "language": "python",
   "name": "python3"
  },
  "language_info": {
   "codemirror_mode": {
    "name": "ipython",
    "version": 3
   },
   "file_extension": ".py",
   "mimetype": "text/x-python",
   "name": "python",
   "nbconvert_exporter": "python",
   "pygments_lexer": "ipython3",
   "version": "3.12.0"
  }
 },
 "nbformat": 4,
 "nbformat_minor": 2
}
