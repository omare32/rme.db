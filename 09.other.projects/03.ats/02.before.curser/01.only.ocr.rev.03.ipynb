{
 "cells": [
  {
   "cell_type": "code",
   "execution_count": null,
   "id": "fa30371c",
   "metadata": {},
   "outputs": [
    {
     "name": "stdout",
     "output_type": "stream",
     "text": [
      "\n",
      "--- STRUCTURED INFO ---\n",
      "Name: Hazem Omar Mohamed Atwa\n",
      "Email: hazematwwa@gmai.com\n",
      "Phone: 01118559305\n",
      "LinkedIn: linkedin.com/in/hazem-omar\n",
      "GitHub: None\n"
     ]
    }
   ],
   "source": [
    "import re\n",
    "import pytesseract\n",
    "from pdf2image import convert_from_path\n",
    "from PIL import Image\n",
    "from tkinter import Tk\n",
    "from tkinter.filedialog import askopenfilename\n",
    "import os\n",
    "\n",
    "# OCR function\n",
    "def extract_text_from_pdf(pdf_path, poppler_path=None):\n",
    "    pages = convert_from_path(pdf_path, poppler_path=poppler_path)\n",
    "    all_text = \"\"\n",
    "    for i, page in enumerate(pages):\n",
    "        image_path = f\"page_{i}.png\"\n",
    "        page.save(image_path, \"PNG\")\n",
    "        text = pytesseract.image_to_string(Image.open(image_path))\n",
    "        all_text += f\"\\n{text}\"\n",
    "        os.remove(image_path)\n",
    "    return all_text\n",
    "\n",
    "# Parser function\n",
    "def parse_resume_text(text):\n",
    "    lines = [line.strip() for line in text.split('\\n') if line.strip()]\n",
    "\n",
    "    # 1. Name = first line (rough heuristic)\n",
    "    name = lines[0] if lines else None\n",
    "\n",
    "    # 2. Email\n",
    "    email_match = re.search(r'[\\w\\.-]+@[\\w\\.-]+', text)\n",
    "    email = email_match.group() if email_match else None\n",
    "\n",
    "    # 3. Phone (basic Egypt + intl support)\n",
    "    phone_match = re.search(r'(\\+20|0)?1[0-9]{9}', text)\n",
    "    phone = phone_match.group() if phone_match else None\n",
    "\n",
    "    # 4. LinkedIn\n",
    "    linkedin_match = re.search(r'(https?://)?(www\\.)?linkedin\\.com/in/\\S+', text)\n",
    "    linkedin = linkedin_match.group() if linkedin_match else None\n",
    "\n",
    "    # 5. GitHub\n",
    "    github_match = re.search(r'(https?://)?(www\\.)?github\\.com/\\S+', text)\n",
    "    github = github_match.group() if github_match else None\n",
    "\n",
    "    return {\n",
    "        \"Name\": name,\n",
    "        \"Email\": email,\n",
    "        \"Phone\": phone,\n",
    "        \"LinkedIn\": linkedin,\n",
    "        \"GitHub\": github\n",
    "    }\n",
    "\n",
    "# Main\n",
    "if __name__ == \"__main__\":\n",
    "    Tk().withdraw()\n",
    "    pdf_file = askopenfilename(filetypes=[(\"PDF files\", \"*.pdf\")])\n",
    "\n",
    "    if pdf_file:\n",
    "        text = extract_text_from_pdf(pdf_file, poppler_path=r\"C:\\poppler\\Library\\bin\")  # adjust if needed\n",
    "        structured_info = parse_resume_text(text)\n",
    "\n",
    "        print(\"\\n--- STRUCTURED INFO ---\")\n",
    "        for key, value in structured_info.items():\n",
    "            print(f\"{key}: {value}\")\n",
    "    else:\n",
    "        print(\"No file selected.\")\n"
   ]
  }
 ],
 "metadata": {
  "kernelspec": {
   "display_name": "Python 3",
   "language": "python",
   "name": "python3"
  },
  "language_info": {
   "codemirror_mode": {
    "name": "ipython",
    "version": 3
   },
   "file_extension": ".py",
   "mimetype": "text/x-python",
   "name": "python",
   "nbconvert_exporter": "python",
   "pygments_lexer": "ipython3",
   "version": "3.13.2"
  }
 },
 "nbformat": 4,
 "nbformat_minor": 5
}
