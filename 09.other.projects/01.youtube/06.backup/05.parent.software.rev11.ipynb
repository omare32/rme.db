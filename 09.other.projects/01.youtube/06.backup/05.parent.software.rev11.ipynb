{
 "cells": [
  {
   "cell_type": "code",
   "execution_count": null,
   "metadata": {},
   "outputs": [
    {
     "name": "stderr",
     "output_type": "stream",
     "text": [
      "20:20:16 - file_cache is only supported with oauth2client<4.0.0\n"
     ]
    },
    {
     "name": "stdout",
     "output_type": "stream",
     "text": [
      "YouTube authentication complete.\n"
     ]
    },
    {
     "name": "stderr",
     "output_type": "stream",
     "text": [
      "20:20:25 - Processing folder: //fileserver2/Head Office Server/Projects Control (PC)/10 Backup/05 Tutorials/Microsoft/Excel\\Arabic\\Course 01\n",
      "20:20:25 - Found 42 videos\n"
     ]
    },
    {
     "name": "stdout",
     "output_type": "stream",
     "text": [
      "Found 98 tutorial folders.\n",
      "Processing: //fileserver2/Head Office Server/Projects Control (PC)/10 Backup/05 Tutorials/Microsoft/Excel\\Arabic\\Course 01\n"
     ]
    },
    {
     "name": "stderr",
     "output_type": "stream",
     "text": [
      "20:20:31 - Total duration: 6.91 hours\n",
      "20:20:31 - Generated title: Microsoft - Excel - Arabic - Course 01\n",
      "20:21:34 - Videos merged successfully for part single\n",
      "20:21:34 - Merged video is too long (41328.71 hours). Skipping upload and cleanup for: //fileserver2/Head Office Server/Projects Control (PC)/10 Backup/05 Tutorials/Microsoft/Excel\\Arabic\\Course 01\\Course 01_merged.mp4\n",
      "20:21:34 - Processing folder: //fileserver2/Head Office Server/Projects Control (PC)/10 Backup/05 Tutorials/Microsoft/Excel\\Arabic\\Course 02\n",
      "20:21:34 - No video files found\n",
      "20:21:34 - Processing folder: //fileserver2/Head Office Server/Projects Control (PC)/10 Backup/05 Tutorials/Microsoft/Excel\\Arabic\\Course 03\n",
      "20:21:34 - No video files found\n",
      "20:21:34 - Processing folder: //fileserver2/Head Office Server/Projects Control (PC)/10 Backup/05 Tutorials/Microsoft/Excel\\Arabic\\Excel Less Than 2 Mins\n",
      "20:21:34 - No video files found\n",
      "20:21:34 - Processing folder: //fileserver2/Head Office Server/Projects Control (PC)/10 Backup/05 Tutorials/Microsoft/Excel\\Arabic\\Learn Excel 2007 - Fantastic Engineers\n",
      "20:21:34 - Found 101 videos\n"
     ]
    },
    {
     "name": "stdout",
     "output_type": "stream",
     "text": [
      "Processing: //fileserver2/Head Office Server/Projects Control (PC)/10 Backup/05 Tutorials/Microsoft/Excel\\Arabic\\Course 02\n",
      "Processing: //fileserver2/Head Office Server/Projects Control (PC)/10 Backup/05 Tutorials/Microsoft/Excel\\Arabic\\Course 03\n",
      "Processing: //fileserver2/Head Office Server/Projects Control (PC)/10 Backup/05 Tutorials/Microsoft/Excel\\Arabic\\Excel Less Than 2 Mins\n",
      "Processing: //fileserver2/Head Office Server/Projects Control (PC)/10 Backup/05 Tutorials/Microsoft/Excel\\Arabic\\Learn Excel 2007 - Fantastic Engineers\n"
     ]
    },
    {
     "name": "stderr",
     "output_type": "stream",
     "text": [
      "20:21:47 - Total duration: 2.98 hours\n",
      "20:21:47 - Generated title: Microsoft - Excel - Arabic - Learn Excel 2007 - Fantastic Engineers\n",
      "20:21:47 - Failed to merge videos for part single\n",
      "20:21:47 - Processing folder: //fileserver2/Head Office Server/Projects Control (PC)/10 Backup/05 Tutorials/Microsoft/Excel\\Arabic\\Link Excel To Autocad\n",
      "20:21:47 - No video files found\n",
      "20:21:47 - Processing folder: //fileserver2/Head Office Server/Projects Control (PC)/10 Backup/05 Tutorials/Microsoft/Excel\\InfiniteSkills\\Excel 2013 - Advanced Microsoft Excel 2013\n",
      "20:21:47 - No video files found\n",
      "20:21:47 - Processing folder: //fileserver2/Head Office Server/Projects Control (PC)/10 Backup/05 Tutorials/Microsoft/Excel\\InfiniteSkills\\Excel 2013 - Intro To Data Analysis Using Excel For Beginners\n"
     ]
    },
    {
     "name": "stdout",
     "output_type": "stream",
     "text": [
      "Processing: //fileserver2/Head Office Server/Projects Control (PC)/10 Backup/05 Tutorials/Microsoft/Excel\\Arabic\\Link Excel To Autocad\n",
      "Processing: //fileserver2/Head Office Server/Projects Control (PC)/10 Backup/05 Tutorials/Microsoft/Excel\\InfiniteSkills\\Excel 2013 - Advanced Microsoft Excel 2013\n",
      "Processing: //fileserver2/Head Office Server/Projects Control (PC)/10 Backup/05 Tutorials/Microsoft/Excel\\InfiniteSkills\\Excel 2013 - Intro To Data Analysis Using Excel For Beginners\n"
     ]
    },
    {
     "name": "stderr",
     "output_type": "stream",
     "text": [
      "20:21:48 - Found 116 videos\n",
      "20:22:06 - Total duration: 11.27 hours\n",
      "20:22:06 - Generated title: Microsoft - Excel - InfiniteSkills - Excel 2013 - Intro To Data Analysis Using Excel For Beginners\n",
      "20:22:34 - Videos merged successfully for part 01\n",
      "20:22:39 - file_cache is only supported with oauth2client<4.0.0\n",
      "20:22:39 - Error uploading to YouTube: <HttpError 400 when requesting None returned \"The request metadata specifies an invalid or empty video title.\". Details: \"[{'message': 'The request metadata specifies an invalid or empty video title.', 'domain': 'youtube.video', 'reason': 'invalidTitle', 'location': 'body.snippet.title', 'locationType': 'other'}]\">\n",
      "20:22:39 - Upload failed for part 01\n",
      "20:23:35 - Videos merged successfully for part 02\n",
      "20:23:40 - file_cache is only supported with oauth2client<4.0.0\n",
      "20:23:41 - Error uploading to YouTube: <HttpError 400 when requesting None returned \"The request metadata specifies an invalid or empty video title.\". Details: \"[{'message': 'The request metadata specifies an invalid or empty video title.', 'domain': 'youtube.video', 'reason': 'invalidTitle', 'location': 'body.snippet.title', 'locationType': 'other'}]\">\n",
      "20:23:41 - Upload failed for part 02\n",
      "20:23:41 - Processing folder: //fileserver2/Head Office Server/Projects Control (PC)/10 Backup/05 Tutorials/Microsoft/Excel\\InfiniteSkills\\Excel 2013 - Intro To Data Analysis Using Excel For Beginners 02\n",
      "20:23:41 - No video files found\n",
      "20:23:41 - Processing folder: //fileserver2/Head Office Server/Projects Control (PC)/10 Backup/05 Tutorials/Microsoft/Excel\\InfiniteSkills\\Excel 2013 - Learning Visual Basic For Microsoft Excel\n",
      "20:23:41 - Found 89 videos\n"
     ]
    },
    {
     "name": "stdout",
     "output_type": "stream",
     "text": [
      "Processing: //fileserver2/Head Office Server/Projects Control (PC)/10 Backup/05 Tutorials/Microsoft/Excel\\InfiniteSkills\\Excel 2013 - Intro To Data Analysis Using Excel For Beginners 02\n",
      "Processing: //fileserver2/Head Office Server/Projects Control (PC)/10 Backup/05 Tutorials/Microsoft/Excel\\InfiniteSkills\\Excel 2013 - Learning Visual Basic For Microsoft Excel\n"
     ]
    },
    {
     "name": "stderr",
     "output_type": "stream",
     "text": [
      "20:23:56 - Total duration: 7.97 hours\n",
      "20:23:56 - Generated title: Microsoft - Excel - InfiniteSkills - Excel 2013 - Learning Visual Basic For Microsoft Excel\n",
      "20:25:02 - Videos merged successfully for part single\n",
      "20:25:02 - Merged video is too long (317.35 hours). Skipping upload and cleanup for: //fileserver2/Head Office Server/Projects Control (PC)/10 Backup/05 Tutorials/Microsoft/Excel\\InfiniteSkills\\Excel 2013 - Learning Visual Basic For Microsoft Excel\\Excel 2013 - Learning Visual Basic For Microsoft Excel_merged.mp4\n",
      "20:25:02 - Processing folder: //fileserver2/Head Office Server/Projects Control (PC)/10 Backup/05 Tutorials/Microsoft/Excel\\Lynda\\Excel 2010 - Advanced Formatting Techniques\n",
      "20:25:02 - No video files found\n",
      "20:25:02 - Processing folder: //fileserver2/Head Office Server/Projects Control (PC)/10 Backup/05 Tutorials/Microsoft/Excel\\Lynda\\Excel 2010 - Charts in Depth\n",
      "20:25:02 - Found 54 videos\n"
     ]
    },
    {
     "name": "stdout",
     "output_type": "stream",
     "text": [
      "Processing: //fileserver2/Head Office Server/Projects Control (PC)/10 Backup/05 Tutorials/Microsoft/Excel\\Lynda\\Excel 2010 - Advanced Formatting Techniques\n",
      "Processing: //fileserver2/Head Office Server/Projects Control (PC)/10 Backup/05 Tutorials/Microsoft/Excel\\Lynda\\Excel 2010 - Charts in Depth\n"
     ]
    },
    {
     "name": "stderr",
     "output_type": "stream",
     "text": [
      "20:25:11 - Total duration: 3.64 hours\n",
      "20:25:11 - Generated title: Microsoft - Excel - Lynda - Excel 2010 - Charts in Depth\n",
      "20:25:18 - Videos merged successfully for part single\n",
      "20:25:18 - Merged video is too long (25.86 hours). Skipping upload and cleanup for: //fileserver2/Head Office Server/Projects Control (PC)/10 Backup/05 Tutorials/Microsoft/Excel\\Lynda\\Excel 2010 - Charts in Depth\\Excel 2010 - Charts in Depth_merged.mp4\n",
      "20:25:18 - Processing folder: //fileserver2/Head Office Server/Projects Control (PC)/10 Backup/05 Tutorials/Microsoft/Excel\\Lynda\\Excel 2010 - Essential Training\n",
      "20:25:18 - No video files found\n",
      "20:25:18 - Processing folder: //fileserver2/Head Office Server/Projects Control (PC)/10 Backup/05 Tutorials/Microsoft/Excel\\Lynda\\Excel 2010 - Macros In Depth\n",
      "20:25:18 - No video files found\n",
      "20:25:18 - Processing folder: //fileserver2/Head Office Server/Projects Control (PC)/10 Backup/05 Tutorials/Microsoft/Excel\\Lynda\\Excel 2010 - Pivot Tables in Depth\n",
      "20:25:18 - Found 65 videos\n"
     ]
    },
    {
     "name": "stdout",
     "output_type": "stream",
     "text": [
      "Processing: //fileserver2/Head Office Server/Projects Control (PC)/10 Backup/05 Tutorials/Microsoft/Excel\\Lynda\\Excel 2010 - Essential Training\n",
      "Processing: //fileserver2/Head Office Server/Projects Control (PC)/10 Backup/05 Tutorials/Microsoft/Excel\\Lynda\\Excel 2010 - Macros In Depth\n",
      "Processing: //fileserver2/Head Office Server/Projects Control (PC)/10 Backup/05 Tutorials/Microsoft/Excel\\Lynda\\Excel 2010 - Pivot Tables in Depth\n"
     ]
    },
    {
     "name": "stderr",
     "output_type": "stream",
     "text": [
      "20:25:30 - Total duration: 3.70 hours\n",
      "20:25:30 - Generated title: Microsoft - Excel - Lynda - Excel 2010 - Pivot Tables in Depth\n",
      "20:25:49 - Videos merged successfully for part single\n",
      "20:25:49 - Merged video is too long (70.77 hours). Skipping upload and cleanup for: //fileserver2/Head Office Server/Projects Control (PC)/10 Backup/05 Tutorials/Microsoft/Excel\\Lynda\\Excel 2010 - Pivot Tables in Depth\\Excel 2010 - Pivot Tables in Depth_merged.mp4\n",
      "20:25:49 - Processing folder: //fileserver2/Head Office Server/Projects Control (PC)/10 Backup/05 Tutorials/Microsoft/Excel\\Lynda\\Excel 2013 - Advanced Formatting Techniques\n",
      "20:25:49 - Found 42 videos\n"
     ]
    },
    {
     "name": "stdout",
     "output_type": "stream",
     "text": [
      "Processing: //fileserver2/Head Office Server/Projects Control (PC)/10 Backup/05 Tutorials/Microsoft/Excel\\Lynda\\Excel 2013 - Advanced Formatting Techniques\n"
     ]
    },
    {
     "name": "stderr",
     "output_type": "stream",
     "text": [
      "20:25:56 - Total duration: 2.99 hours\n",
      "20:25:56 - Generated title: Microsoft - Excel - Lynda - Excel 2013 - Advanced Formatting Techniques\n",
      "20:26:16 - Videos merged successfully for part single\n",
      "20:26:20 - file_cache is only supported with oauth2client<4.0.0\n",
      "20:29:32 - Upload successful! Video ID: 8z8pcW7doEo\n",
      "20:29:33 - Video URL: https://www.youtube.com/watch?v=8z8pcW7doEo\n",
      "20:29:33 - Processing folder: //fileserver2/Head Office Server/Projects Control (PC)/10 Backup/05 Tutorials/Microsoft/Excel\\Lynda\\Excel 2013 - Advanced Formulas And Functions\n",
      "20:29:33 - No video files found\n",
      "20:29:33 - Processing folder: //fileserver2/Head Office Server/Projects Control (PC)/10 Backup/05 Tutorials/Microsoft/Excel\\Lynda\\Excel 2013 - Data Validation In Depth\n",
      "20:29:33 - Found 18 videos\n"
     ]
    },
    {
     "name": "stdout",
     "output_type": "stream",
     "text": [
      "Processing: //fileserver2/Head Office Server/Projects Control (PC)/10 Backup/05 Tutorials/Microsoft/Excel\\Lynda\\Excel 2013 - Advanced Formulas And Functions\n",
      "Processing: //fileserver2/Head Office Server/Projects Control (PC)/10 Backup/05 Tutorials/Microsoft/Excel\\Lynda\\Excel 2013 - Data Validation In Depth\n"
     ]
    },
    {
     "name": "stderr",
     "output_type": "stream",
     "text": [
      "20:29:33 - Error getting duration for //fileserver2/Head Office Server/Projects Control (PC)/10 Backup/05 Tutorials/Microsoft/Excel\\Lynda\\Excel 2013 - Data Validation In Depth\\0. Introduction\\01. Welcome.mp4: ffprobe error (see stderr output for detail)\n",
      "20:29:37 - Total duration: 1.08 hours\n",
      "20:29:37 - Generated title: Microsoft - Excel - Lynda - Excel 2013 - Data Validation In Depth\n",
      "20:29:37 - Failed to merge videos for part single\n",
      "20:29:37 - Processing folder: //fileserver2/Head Office Server/Projects Control (PC)/10 Backup/05 Tutorials/Microsoft/Excel\\Lynda\\Excel 2013 - Data-Driven Presentations with Excel and PowerPoint\n",
      "20:29:37 - Found 44 videos\n"
     ]
    },
    {
     "name": "stdout",
     "output_type": "stream",
     "text": [
      "Processing: //fileserver2/Head Office Server/Projects Control (PC)/10 Backup/05 Tutorials/Microsoft/Excel\\Lynda\\Excel 2013 - Data-Driven Presentations with Excel and PowerPoint\n"
     ]
    },
    {
     "name": "stderr",
     "output_type": "stream",
     "text": [
      "20:29:44 - Total duration: 3.78 hours\n",
      "20:29:44 - Generated title: Microsoft - Excel - Lynda - Excel 2013 - Data-Driven Presentations with Excel and PowerPoint\n",
      "20:30:07 - Videos merged successfully for part single\n",
      "20:30:08 - Merged video is too long (60.52 hours). Skipping upload and cleanup for: //fileserver2/Head Office Server/Projects Control (PC)/10 Backup/05 Tutorials/Microsoft/Excel\\Lynda\\Excel 2013 - Data-Driven Presentations with Excel and PowerPoint\\Excel 2013 - Data-Driven Presentations with Excel and PowerPoint_merged.mp4\n",
      "20:30:08 - Processing folder: //fileserver2/Head Office Server/Projects Control (PC)/10 Backup/05 Tutorials/Microsoft/Excel\\Lynda\\Excel 2013 - Essential Training\n",
      "20:30:08 - Found 82 videos\n"
     ]
    },
    {
     "name": "stdout",
     "output_type": "stream",
     "text": [
      "Processing: //fileserver2/Head Office Server/Projects Control (PC)/10 Backup/05 Tutorials/Microsoft/Excel\\Lynda\\Excel 2013 - Essential Training\n"
     ]
    },
    {
     "name": "stderr",
     "output_type": "stream",
     "text": [
      "20:30:22 - Total duration: 6.54 hours\n",
      "20:30:22 - Generated title: Microsoft - Excel - Lynda - Excel 2013 - Essential Training\n",
      "20:31:18 - Videos merged successfully for part single\n",
      "20:31:19 - Merged video is too long (104.72 hours). Skipping upload and cleanup for: //fileserver2/Head Office Server/Projects Control (PC)/10 Backup/05 Tutorials/Microsoft/Excel\\Lynda\\Excel 2013 - Essential Training\\Excel 2013 - Essential Training_merged.mp4\n",
      "20:31:19 - Processing folder: //fileserver2/Head Office Server/Projects Control (PC)/10 Backup/05 Tutorials/Microsoft/Excel\\Lynda\\Excel 2013 - Macros In Depth\n",
      "20:31:19 - No video files found\n",
      "20:31:19 - Processing folder: //fileserver2/Head Office Server/Projects Control (PC)/10 Backup/05 Tutorials/Microsoft/Excel\\Lynda\\Excel 2013 - Managing Multiple Worksheets And Workbooks\n",
      "20:31:19 - Found 21 videos\n"
     ]
    },
    {
     "name": "stdout",
     "output_type": "stream",
     "text": [
      "Processing: //fileserver2/Head Office Server/Projects Control (PC)/10 Backup/05 Tutorials/Microsoft/Excel\\Lynda\\Excel 2013 - Macros In Depth\n",
      "Processing: //fileserver2/Head Office Server/Projects Control (PC)/10 Backup/05 Tutorials/Microsoft/Excel\\Lynda\\Excel 2013 - Managing Multiple Worksheets And Workbooks\n"
     ]
    },
    {
     "name": "stderr",
     "output_type": "stream",
     "text": [
      "20:31:23 - Total duration: 3.20 hours\n",
      "20:31:23 - Generated title: Microsoft - Excel - Lynda - Excel 2013 - Managing Multiple Worksheets And Workbooks\n",
      "20:31:33 - Videos merged successfully for part single\n",
      "20:31:35 - file_cache is only supported with oauth2client<4.0.0\n",
      "20:33:53 - Upload successful! Video ID: AX7C1DDgNJ8\n",
      "20:33:53 - Video URL: https://www.youtube.com/watch?v=AX7C1DDgNJ8\n",
      "20:33:53 - Processing folder: //fileserver2/Head Office Server/Projects Control (PC)/10 Backup/05 Tutorials/Microsoft/Excel\\Lynda\\Excel 2013 - Pivot Tables In Depth\n",
      "20:33:53 - Found 83 videos\n"
     ]
    },
    {
     "name": "stdout",
     "output_type": "stream",
     "text": [
      "Processing: //fileserver2/Head Office Server/Projects Control (PC)/10 Backup/05 Tutorials/Microsoft/Excel\\Lynda\\Excel 2013 - Pivot Tables In Depth\n"
     ]
    },
    {
     "name": "stderr",
     "output_type": "stream",
     "text": [
      "20:34:08 - Total duration: 4.27 hours\n",
      "20:34:08 - Generated title: Microsoft - Excel - Lynda - Excel 2013 - Pivot Tables In Depth\n",
      "20:34:27 - Videos merged successfully for part single\n",
      "20:34:34 - file_cache is only supported with oauth2client<4.0.0\n",
      "20:38:16 - Upload successful! Video ID: SzPp6kLfzPQ\n",
      "20:38:17 - Video URL: https://www.youtube.com/watch?v=SzPp6kLfzPQ\n",
      "20:38:17 - Processing folder: //fileserver2/Head Office Server/Projects Control (PC)/10 Backup/05 Tutorials/Microsoft/Excel\\Lynda\\Excel 2013 - Power Shortcuts\n",
      "20:38:17 - No video files found\n",
      "20:38:17 - Processing folder: //fileserver2/Head Office Server/Projects Control (PC)/10 Backup/05 Tutorials/Microsoft/Excel\\Lynda\\Excel 2013 - Setting Up A Database In Excel 2013\n",
      "20:38:17 - Found 13 videos\n"
     ]
    },
    {
     "name": "stdout",
     "output_type": "stream",
     "text": [
      "Processing: //fileserver2/Head Office Server/Projects Control (PC)/10 Backup/05 Tutorials/Microsoft/Excel\\Lynda\\Excel 2013 - Power Shortcuts\n",
      "Processing: //fileserver2/Head Office Server/Projects Control (PC)/10 Backup/05 Tutorials/Microsoft/Excel\\Lynda\\Excel 2013 - Setting Up A Database In Excel 2013\n"
     ]
    },
    {
     "name": "stderr",
     "output_type": "stream",
     "text": [
      "20:38:20 - Total duration: 0.83 hours\n",
      "20:38:20 - Generated title: Microsoft - Excel - Lynda - Excel 2013 - Setting Up A Database In Excel 2013\n",
      "20:38:25 - Videos merged successfully for part single\n",
      "20:38:26 - file_cache is only supported with oauth2client<4.0.0\n",
      "20:39:37 - Upload successful! Video ID: 49ot_dln3LY\n",
      "20:39:37 - Video URL: https://www.youtube.com/watch?v=49ot_dln3LY\n",
      "20:39:37 - Processing folder: //fileserver2/Head Office Server/Projects Control (PC)/10 Backup/05 Tutorials/Microsoft/Excel\\Lynda\\Excel 2013 - What-If Analysis\n",
      "20:39:37 - Found 23 videos\n"
     ]
    },
    {
     "name": "stdout",
     "output_type": "stream",
     "text": [
      "Processing: //fileserver2/Head Office Server/Projects Control (PC)/10 Backup/05 Tutorials/Microsoft/Excel\\Lynda\\Excel 2013 - What-If Analysis\n"
     ]
    },
    {
     "name": "stderr",
     "output_type": "stream",
     "text": [
      "20:39:41 - Total duration: 1.18 hours\n",
      "20:39:41 - Generated title: Microsoft - Excel - Lynda - Excel 2013 - What-If Analysis\n",
      "20:39:46 - Videos merged successfully for part single\n",
      "20:39:47 - file_cache is only supported with oauth2client<4.0.0\n",
      "20:40:36 - Upload successful! Video ID: 6f7bJTkM6KI\n",
      "20:40:36 - Video URL: https://www.youtube.com/watch?v=6f7bJTkM6KI\n",
      "20:40:36 - Processing folder: //fileserver2/Head Office Server/Projects Control (PC)/10 Backup/05 Tutorials/Microsoft/Excel\\Lynda\\Excel 2016 - Advanced Formatting Techniques\n",
      "20:40:36 - Found 43 videos\n"
     ]
    },
    {
     "name": "stdout",
     "output_type": "stream",
     "text": [
      "Processing: //fileserver2/Head Office Server/Projects Control (PC)/10 Backup/05 Tutorials/Microsoft/Excel\\Lynda\\Excel 2016 - Advanced Formatting Techniques\n"
     ]
    },
    {
     "name": "stderr",
     "output_type": "stream",
     "text": [
      "20:40:46 - Total duration: 3.49 hours\n",
      "20:40:46 - Generated title: Microsoft - Excel - Lynda - Excel 2016 - Advanced Formatting Techniques\n",
      "20:41:10 - Videos merged successfully for part single\n",
      "20:41:14 - file_cache is only supported with oauth2client<4.0.0\n",
      "20:45:22 - Upload successful! Video ID: OHhhb_uuoII\n",
      "20:45:23 - Video URL: https://www.youtube.com/watch?v=OHhhb_uuoII\n",
      "20:45:23 - Processing folder: //fileserver2/Head Office Server/Projects Control (PC)/10 Backup/05 Tutorials/Microsoft/Excel\\Lynda\\Excel 2016 - Advanced Formulas And Functions\n",
      "20:45:23 - Found 75 videos\n"
     ]
    },
    {
     "name": "stdout",
     "output_type": "stream",
     "text": [
      "Processing: //fileserver2/Head Office Server/Projects Control (PC)/10 Backup/05 Tutorials/Microsoft/Excel\\Lynda\\Excel 2016 - Advanced Formulas And Functions\n"
     ]
    },
    {
     "name": "stderr",
     "output_type": "stream",
     "text": [
      "20:45:39 - Total duration: 6.00 hours\n",
      "20:45:39 - Generated title: Microsoft - Excel - Lynda - Excel 2016 - Advanced Formulas And Functions\n",
      "20:46:22 - Videos merged successfully for part single\n",
      "20:46:30 - file_cache is only supported with oauth2client<4.0.0\n",
      "20:46:30 - Error uploading to YouTube: <HttpError 400 when requesting None returned \"The request metadata specifies an invalid video description.\". Details: \"[{'message': 'The request metadata specifies an invalid video description.', 'domain': 'youtube.video', 'reason': 'invalidDescription', 'location': 'body.snippet.description', 'locationType': 'other'}]\">\n",
      "20:46:30 - Upload failed for part single\n",
      "20:46:30 - Processing folder: //fileserver2/Head Office Server/Projects Control (PC)/10 Backup/05 Tutorials/Microsoft/Excel\\Lynda\\Excel 2016 - Analyzing And Visualizing Cash Flows\n",
      "20:46:30 - Found 22 videos\n"
     ]
    },
    {
     "name": "stdout",
     "output_type": "stream",
     "text": [
      "Processing: //fileserver2/Head Office Server/Projects Control (PC)/10 Backup/05 Tutorials/Microsoft/Excel\\Lynda\\Excel 2016 - Analyzing And Visualizing Cash Flows\n"
     ]
    },
    {
     "name": "stderr",
     "output_type": "stream",
     "text": [
      "20:46:34 - Total duration: 1.28 hours\n",
      "20:46:34 - Generated title: Microsoft - Excel - Lynda - Excel 2016 - Analyzing And Visualizing Cash Flows\n",
      "20:46:40 - Videos merged successfully for part single\n",
      "20:46:42 - file_cache is only supported with oauth2client<4.0.0\n",
      "20:47:45 - Upload successful! Video ID: _1_cH_tx1A8\n",
      "20:47:45 - Video URL: https://www.youtube.com/watch?v=_1_cH_tx1A8\n",
      "20:47:45 - Processing folder: //fileserver2/Head Office Server/Projects Control (PC)/10 Backup/05 Tutorials/Microsoft/Excel\\Lynda\\Excel 2016 - Avoiding Common Mistakes\n",
      "20:47:45 - Found 21 videos\n"
     ]
    },
    {
     "name": "stdout",
     "output_type": "stream",
     "text": [
      "Processing: //fileserver2/Head Office Server/Projects Control (PC)/10 Backup/05 Tutorials/Microsoft/Excel\\Lynda\\Excel 2016 - Avoiding Common Mistakes\n"
     ]
    },
    {
     "name": "stderr",
     "output_type": "stream",
     "text": [
      "20:47:50 - Total duration: 1.74 hours\n",
      "20:47:50 - Generated title: Microsoft - Excel - Lynda - Excel 2016 - Avoiding Common Mistakes\n",
      "20:47:59 - Videos merged successfully for part single\n",
      "20:48:01 - file_cache is only supported with oauth2client<4.0.0\n",
      "20:50:08 - Upload successful! Video ID: CpyL-qY3TYA\n",
      "20:50:09 - Video URL: https://www.youtube.com/watch?v=CpyL-qY3TYA\n",
      "20:50:09 - Processing folder: //fileserver2/Head Office Server/Projects Control (PC)/10 Backup/05 Tutorials/Microsoft/Excel\\Lynda\\Excel 2016 - Building Solutions Using Excel And Access 2016 Together\n",
      "20:50:09 - Found 32 videos\n"
     ]
    },
    {
     "name": "stdout",
     "output_type": "stream",
     "text": [
      "Processing: //fileserver2/Head Office Server/Projects Control (PC)/10 Backup/05 Tutorials/Microsoft/Excel\\Lynda\\Excel 2016 - Building Solutions Using Excel And Access 2016 Together\n"
     ]
    },
    {
     "name": "stderr",
     "output_type": "stream",
     "text": [
      "20:50:15 - Total duration: 2.32 hours\n",
      "20:50:15 - Generated title: Microsoft - Excel - Lynda - Excel 2016 - Building Solutions Using Excel And Access 2016 Together\n",
      "20:50:52 - Videos merged successfully for part single\n",
      "20:50:52 - Merged video is too long (169.55 hours). Skipping upload and cleanup for: //fileserver2/Head Office Server/Projects Control (PC)/10 Backup/05 Tutorials/Microsoft/Excel\\Lynda\\Excel 2016 - Building Solutions Using Excel And Access 2016 Together\\Excel 2016 - Building Solutions Using Excel And Access 2016 Together_merged.mp4\n",
      "20:50:52 - Processing folder: //fileserver2/Head Office Server/Projects Control (PC)/10 Backup/05 Tutorials/Microsoft/Excel\\Lynda\\Excel 2016 - Business Process Analysis\n",
      "20:50:52 - Found 23 videos\n"
     ]
    },
    {
     "name": "stdout",
     "output_type": "stream",
     "text": [
      "Processing: //fileserver2/Head Office Server/Projects Control (PC)/10 Backup/05 Tutorials/Microsoft/Excel\\Lynda\\Excel 2016 - Business Process Analysis\n"
     ]
    },
    {
     "name": "stderr",
     "output_type": "stream",
     "text": [
      "20:50:58 - Total duration: 1.42 hours\n",
      "20:50:58 - Generated title: Microsoft - Excel - Lynda - Excel 2016 - Business Process Analysis\n",
      "20:51:07 - Videos merged successfully for part single\n",
      "20:51:09 - file_cache is only supported with oauth2client<4.0.0\n",
      "20:52:12 - Upload successful! Video ID: lvq0KSdx8Q0\n",
      "20:52:12 - Video URL: https://www.youtube.com/watch?v=lvq0KSdx8Q0\n",
      "20:52:12 - Processing folder: //fileserver2/Head Office Server/Projects Control (PC)/10 Backup/05 Tutorials/Microsoft/Excel\\Lynda\\Excel 2016 - Cert Prep Excel 2016 Microsoft Office Expert 77-728\n",
      "20:52:12 - Found 40 videos\n"
     ]
    },
    {
     "name": "stdout",
     "output_type": "stream",
     "text": [
      "Processing: //fileserver2/Head Office Server/Projects Control (PC)/10 Backup/05 Tutorials/Microsoft/Excel\\Lynda\\Excel 2016 - Cert Prep Excel 2016 Microsoft Office Expert 77-728\n"
     ]
    },
    {
     "name": "stderr",
     "output_type": "stream",
     "text": [
      "20:52:20 - Total duration: 3.30 hours\n",
      "20:52:20 - Generated title: Microsoft - Excel - Lynda - Excel 2016 - Cert Prep Excel 2016 Microsoft Office Expert 77-728\n",
      "20:52:46 - Videos merged successfully for part single\n",
      "20:52:51 - file_cache is only supported with oauth2client<4.0.0\n",
      "20:56:14 - Upload successful! Video ID: 01hRqVnc318\n",
      "20:56:14 - Video URL: https://www.youtube.com/watch?v=01hRqVnc318\n",
      "20:56:14 - Processing folder: //fileserver2/Head Office Server/Projects Control (PC)/10 Backup/05 Tutorials/Microsoft/Excel\\Lynda\\Excel 2016 - Charts In Depth\n",
      "20:56:14 - Found 62 videos\n"
     ]
    },
    {
     "name": "stdout",
     "output_type": "stream",
     "text": [
      "Processing: //fileserver2/Head Office Server/Projects Control (PC)/10 Backup/05 Tutorials/Microsoft/Excel\\Lynda\\Excel 2016 - Charts In Depth\n"
     ]
    },
    {
     "name": "stderr",
     "output_type": "stream",
     "text": [
      "20:56:29 - Total duration: 4.56 hours\n",
      "20:56:29 - Generated title: Microsoft - Excel - Lynda - Excel 2016 - Charts In Depth\n",
      "20:57:09 - Videos merged successfully for part single\n",
      "20:57:17 - file_cache is only supported with oauth2client<4.0.0\n",
      "21:02:17 - Upload successful! Video ID: jAYsdzJNVrY\n",
      "21:02:18 - Video URL: https://www.youtube.com/watch?v=jAYsdzJNVrY\n",
      "21:02:18 - Processing folder: //fileserver2/Head Office Server/Projects Control (PC)/10 Backup/05 Tutorials/Microsoft/Excel\\Lynda\\Excel 2016 - Cleaning Up Your Data\n",
      "21:02:18 - Found 25 videos\n"
     ]
    },
    {
     "name": "stdout",
     "output_type": "stream",
     "text": [
      "Processing: //fileserver2/Head Office Server/Projects Control (PC)/10 Backup/05 Tutorials/Microsoft/Excel\\Lynda\\Excel 2016 - Cleaning Up Your Data\n"
     ]
    },
    {
     "name": "stderr",
     "output_type": "stream",
     "text": [
      "21:02:24 - Total duration: 2.45 hours\n",
      "21:02:24 - Generated title: Microsoft - Excel - Lynda - Excel 2016 - Cleaning Up Your Data\n",
      "21:02:38 - Videos merged successfully for part single\n",
      "21:02:40 - file_cache is only supported with oauth2client<4.0.0\n",
      "21:05:34 - Upload successful! Video ID: qNiJPc2EUx0\n",
      "21:05:35 - Video URL: https://www.youtube.com/watch?v=qNiJPc2EUx0\n",
      "21:05:35 - Processing folder: //fileserver2/Head Office Server/Projects Control (PC)/10 Backup/05 Tutorials/Microsoft/Excel\\Lynda\\Excel 2016 - Conditional Formatting In Depth\n",
      "21:05:35 - Found 16 videos\n"
     ]
    },
    {
     "name": "stdout",
     "output_type": "stream",
     "text": [
      "Processing: //fileserver2/Head Office Server/Projects Control (PC)/10 Backup/05 Tutorials/Microsoft/Excel\\Lynda\\Excel 2016 - Conditional Formatting In Depth\n"
     ]
    },
    {
     "name": "stderr",
     "output_type": "stream",
     "text": [
      "21:05:38 - Total duration: 1.03 hours\n",
      "21:05:38 - Generated title: Microsoft - Excel - Lynda - Excel 2016 - Conditional Formatting In Depth\n",
      "21:05:44 - Videos merged successfully for part single\n",
      "21:05:46 - file_cache is only supported with oauth2client<4.0.0\n",
      "21:07:04 - Upload successful! Video ID: rb9RdAy0OuA\n",
      "21:07:05 - Video URL: https://www.youtube.com/watch?v=rb9RdAy0OuA\n",
      "21:07:05 - Processing folder: //fileserver2/Head Office Server/Projects Control (PC)/10 Backup/05 Tutorials/Microsoft/Excel\\Lynda\\Excel 2016 - Create Excel Power Pivot and Power View Exercise Files\n",
      "21:07:05 - No video files found\n",
      "21:07:05 - Processing folder: //fileserver2/Head Office Server/Projects Control (PC)/10 Backup/05 Tutorials/Microsoft/Excel\\Lynda\\Excel 2016 - Creating A Basic Dashboard In Excel 2016\n",
      "21:07:05 - Found 18 videos\n"
     ]
    },
    {
     "name": "stdout",
     "output_type": "stream",
     "text": [
      "Processing: //fileserver2/Head Office Server/Projects Control (PC)/10 Backup/05 Tutorials/Microsoft/Excel\\Lynda\\Excel 2016 - Create Excel Power Pivot and Power View Exercise Files\n",
      "Processing: //fileserver2/Head Office Server/Projects Control (PC)/10 Backup/05 Tutorials/Microsoft/Excel\\Lynda\\Excel 2016 - Creating A Basic Dashboard In Excel 2016\n"
     ]
    },
    {
     "name": "stderr",
     "output_type": "stream",
     "text": [
      "21:07:10 - Total duration: 1.53 hours\n",
      "21:07:10 - Generated title: Microsoft - Excel - Lynda - Excel 2016 - Creating A Basic Dashboard In Excel 2016\n",
      "21:07:17 - Videos merged successfully for part single\n",
      "21:07:18 - file_cache is only supported with oauth2client<4.0.0\n",
      "21:08:37 - Upload successful! Video ID: ewbtW4sqJBA\n",
      "21:08:37 - Video URL: https://www.youtube.com/watch?v=ewbtW4sqJBA\n",
      "21:08:37 - Processing folder: //fileserver2/Head Office Server/Projects Control (PC)/10 Backup/05 Tutorials/Microsoft/Excel\\Lynda\\Excel 2016 - Creating Drop-Down Lists\n",
      "21:08:37 - Found 9 videos\n"
     ]
    },
    {
     "name": "stdout",
     "output_type": "stream",
     "text": [
      "Processing: //fileserver2/Head Office Server/Projects Control (PC)/10 Backup/05 Tutorials/Microsoft/Excel\\Lynda\\Excel 2016 - Creating Drop-Down Lists\n"
     ]
    },
    {
     "name": "stderr",
     "output_type": "stream",
     "text": [
      "21:08:39 - Total duration: 0.33 hours\n",
      "21:08:39 - Generated title: Microsoft - Excel - Lynda - Excel 2016 - Creating Drop-Down Lists\n",
      "21:08:41 - Videos merged successfully for part single\n",
      "21:08:42 - file_cache is only supported with oauth2client<4.0.0\n",
      "21:09:00 - Upload successful! Video ID: sZL8KRjl0rU\n",
      "21:09:00 - Video URL: https://www.youtube.com/watch?v=sZL8KRjl0rU\n",
      "21:09:00 - Processing folder: //fileserver2/Head Office Server/Projects Control (PC)/10 Backup/05 Tutorials/Microsoft/Excel\\Lynda\\Excel 2016 - Data Analysis Forecasting\n",
      "21:09:01 - Found 54 videos\n"
     ]
    },
    {
     "name": "stdout",
     "output_type": "stream",
     "text": [
      "Processing: //fileserver2/Head Office Server/Projects Control (PC)/10 Backup/05 Tutorials/Microsoft/Excel\\Lynda\\Excel 2016 - Data Analysis Forecasting\n"
     ]
    }
   ],
   "source": [
    "#!/usr/bin/env python3\n",
    "import os\n",
    "import glob\n",
    "import json\n",
    "import time\n",
    "import shutil\n",
    "import logging\n",
    "from datetime import datetime\n",
    "import subprocess\n",
    "from pathlib import Path\n",
    "from typing import List, Dict, Optional, Tuple\n",
    "import ffmpeg\n",
    "from google_auth_oauthlib.flow import InstalledAppFlow\n",
    "from google.oauth2.credentials import Credentials\n",
    "from google.auth.transport.requests import Request\n",
    "from googleapiclient.discovery import build\n",
    "from googleapiclient.http import MediaFileUpload\n",
    "import tkinter as tk\n",
    "from tkinter import filedialog\n",
    "import ssl\n",
    "\n",
    "# Configure logging\n",
    "logging.basicConfig(\n",
    "    level=logging.INFO,\n",
    "    format='%(asctime)s - %(message)s',\n",
    "    datefmt='%H:%M:%S',\n",
    "    handlers=[\n",
    "        logging.FileHandler('video_processing.log', encoding='utf-8'),\n",
    "        logging.StreamHandler()\n",
    "    ]\n",
    ")\n",
    "\n",
    "TOKEN_FILE = \"token.json\"\n",
    "SCOPES = [\"https://www.googleapis.com/auth/youtube.upload\"]\n",
    "\n",
    "os.environ['OAUTHLIB_INSECURE_TRANSPORT'] = '1'\n",
    "os.environ['PYTHONHTTPSVERIFY'] = '0'\n",
    "\n",
    "ssl._create_default_https_context = ssl._create_unverified_context\n",
    "\n",
    "def get_authenticated_service(client_secrets_file: str):\n",
    "    \"\"\"Get authenticated YouTube service.\"\"\"\n",
    "    creds = None\n",
    "    if os.path.exists(TOKEN_FILE):\n",
    "        creds = Credentials.from_authorized_user_file(TOKEN_FILE, SCOPES)\n",
    "    if not creds or not creds.valid:\n",
    "        if creds and creds.expired and creds.refresh_token:\n",
    "            creds.refresh(Request())\n",
    "        else:\n",
    "            flow = InstalledAppFlow.from_client_secrets_file(client_secrets_file, SCOPES)\n",
    "            creds = flow.run_local_server(port=0)\n",
    "        with open(TOKEN_FILE, 'w') as token:\n",
    "            token.write(creds.to_json())\n",
    "    return build('youtube', 'v3', credentials=creds)\n",
    "\n",
    "def get_structured_title(input_path: str) -> str:\n",
    "    \"\"\"Return the last 4 parts of the path, joined by ' - ', in order from outermost to innermost.\"\"\"\n",
    "    try:\n",
    "        path = Path(input_path)\n",
    "        parts = list(path.parts)[-4:]\n",
    "        return ' - '.join(parts)\n",
    "    except Exception as e:\n",
    "        logging.error(f\"Error in get_structured_title: {str(e)}\")\n",
    "        return os.path.basename(input_path)\n",
    "\n",
    "def collect_videos(folder_path: str) -> List[Tuple[str, str]]:\n",
    "    \"\"\"Collect all videos from folder and subfolders.\"\"\"\n",
    "    video_files = []\n",
    "    for ext in ('*.mp4', '*.avi', '*.mkv'):\n",
    "        for file_path in glob.glob(os.path.join(folder_path, \"**\", ext), recursive=True):\n",
    "            rel_path = os.path.relpath(file_path, folder_path)\n",
    "            video_files.append((file_path, rel_path))\n",
    "    return sorted(video_files)\n",
    "\n",
    "def merge_videos(video_files: List[Tuple[str, str]], output_path: str) -> bool:\n",
    "    \"\"\"Merge videos using ffmpeg.\"\"\"\n",
    "    try:\n",
    "        with open('file_list.txt', 'w', encoding='utf-8') as f:\n",
    "            for full_path, _ in video_files:\n",
    "                f.write(f\"file '{full_path}'\\n\")\n",
    "        cmd = [\n",
    "            'ffmpeg',\n",
    "            '-f', 'concat',\n",
    "            '-safe', '0',\n",
    "            '-i', 'file_list.txt',\n",
    "            '-c', 'copy',\n",
    "            output_path,\n",
    "            '-y'\n",
    "        ]\n",
    "        process = subprocess.run(cmd, capture_output=True, text=True)\n",
    "        return process.returncode == 0\n",
    "    except Exception as e:\n",
    "        logging.error(f\"Error merging videos: {str(e)}\")\n",
    "        return False\n",
    "    finally:\n",
    "        if os.path.exists('file_list.txt'):\n",
    "            os.remove('file_list.txt')\n",
    "\n",
    "def generate_timestamps(video_files: List[Tuple[str, str]]) -> str:\n",
    "    \"\"\"Generate timestamps for video description.\"\"\"\n",
    "    timestamps = []\n",
    "    current_time = 0\n",
    "    for full_path, rel_path in video_files:\n",
    "        hours = int(current_time // 3600)\n",
    "        minutes = int((current_time % 3600) // 60)\n",
    "        seconds = int(current_time % 60)\n",
    "        timestamp = f\"{hours:02d}:{minutes:02d}:{seconds:02d}\"\n",
    "        video_name = os.path.splitext(os.path.basename(rel_path))[0]\n",
    "        timestamps.append(f\"{timestamp} - {video_name}\")\n",
    "        try:\n",
    "            probe = ffmpeg.probe(full_path)\n",
    "            duration = float(probe['streams'][0]['duration'])\n",
    "            current_time += duration\n",
    "        except Exception as e:\n",
    "            logging.error(f\"Error getting duration for {rel_path}: {str(e)}\")\n",
    "            current_time += 0\n",
    "    return '\\n'.join(timestamps)\n",
    "\n",
    "def upload_to_youtube(youtube, video_path: str, title: str, description: str) -> Optional[str]:\n",
    "    \"\"\"Upload video to YouTube.\"\"\"\n",
    "    try:\n",
    "        body = {\n",
    "            'snippet': {\n",
    "                'title': title,\n",
    "                'description': description,\n",
    "                'tags': ['tutorial', 'education']\n",
    "            },\n",
    "            'status': {\n",
    "                'privacyStatus': 'unlisted',\n",
    "                'selfDeclaredMadeForKids': False\n",
    "            }\n",
    "        }\n",
    "        insert_request = youtube.videos().insert(\n",
    "            part=','.join(body.keys()),\n",
    "            body=body,\n",
    "            media_body=MediaFileUpload(video_path, chunksize=-1, resumable=True)\n",
    "        )\n",
    "        response = None\n",
    "        while response is None:\n",
    "            status, response = insert_request.next_chunk()\n",
    "            if status:\n",
    "                logging.info(f\"Upload {int(status.progress() * 100)}% complete\")\n",
    "        return response['id']\n",
    "    except Exception as e:\n",
    "        logging.error(f\"Error uploading to YouTube: {str(e)}\")\n",
    "        return None\n",
    "\n",
    "def cleanup_and_save_link(folder_path: str, video_id: str, title: str, merged_path: str):\n",
    "    \"\"\"Save YouTube link, delete merged video and all original videos/folders, leaving only the link file.\"\"\"\n",
    "    link_file = os.path.join(folder_path, \"youtube link.txt\")\n",
    "    with open(link_file, 'w') as f:\n",
    "        f.write(f\"Title: {title}\\n\")\n",
    "        f.write(f\"URL: https://www.youtube.com/watch?v={video_id}\\n\")\n",
    "        f.write(f\"Uploaded: {datetime.now().strftime('%Y-%m-%d %H:%M:%S')}\")\n",
    "    # Delete merged video\n",
    "    if os.path.exists(merged_path):\n",
    "        os.remove(merged_path)\n",
    "    # Delete all subfolders and video files in the tutorial folder, except the link file\n",
    "    for item in os.listdir(folder_path):\n",
    "        item_path = os.path.join(folder_path, item)\n",
    "        if item_path == link_file:\n",
    "            continue\n",
    "        if os.path.isdir(item_path):\n",
    "            shutil.rmtree(item_path)\n",
    "        elif item_path.endswith(('.mp4', '.avi', '.mkv')):\n",
    "            os.remove(item_path)\n",
    "\n",
    "def get_video_duration(video_path: str) -> float:\n",
    "    \"\"\"Return duration of video in seconds using ffmpeg.probe.\"\"\"\n",
    "    try:\n",
    "        probe = ffmpeg.probe(video_path)\n",
    "        # Find the first video stream with a duration\n",
    "        for stream in probe['streams']:\n",
    "            if 'duration' in stream:\n",
    "                return float(stream['duration'])\n",
    "        # Fallback to format duration\n",
    "        return float(probe['format']['duration'])\n",
    "    except Exception as e:\n",
    "        logging.error(f\"Error getting duration for {video_path}: {str(e)}\")\n",
    "        return 0.0\n",
    "\n",
    "def process_folder(folder_path: str, client_secrets_file: str):\n",
    "    \"\"\"Process a folder of videos. If total duration > 10 hours, split and upload as two videos.\"\"\"\n",
    "    try:\n",
    "        logging.info(f\"Processing folder: {folder_path}\")\n",
    "        video_files = collect_videos(folder_path)\n",
    "        if not video_files:\n",
    "            logging.error(\"No video files found\")\n",
    "            return\n",
    "        logging.info(f\"Found {len(video_files)} videos\")\n",
    "        # Calculate total duration\n",
    "        total_duration = 0\n",
    "        durations = []\n",
    "        for file, _ in video_files:\n",
    "            d = get_video_duration(file)\n",
    "            durations.append(d)\n",
    "            total_duration += d\n",
    "        logging.info(f\"Total duration: {total_duration/3600:.2f} hours\")\n",
    "        title_base = get_structured_title(folder_path)\n",
    "        logging.info(f\"Generated title: {title_base}\")\n",
    "        # If total duration > 10 hours, split\n",
    "        if total_duration > 36000 and len(video_files) > 1:\n",
    "            mid = len(video_files) // 2\n",
    "            splits = [(video_files[:mid], durations[:mid], '01'), (video_files[mid:], durations[mid:], '02')]\n",
    "        else:\n",
    "            splits = [(video_files, durations, None)]\n",
    "        for idx, (split_files, split_durations, suffix) in enumerate(splits):\n",
    "            merged_path = os.path.join(folder_path, f\"{os.path.basename(folder_path)}_merged{suffix or ''}.mp4\")\n",
    "            if not merge_videos(split_files, merged_path):\n",
    "                logging.error(f\"Failed to merge videos for part {suffix or 'single'}\")\n",
    "                continue\n",
    "            logging.info(f\"Videos merged successfully for part {suffix or 'single'}\")\n",
    "            # Check merged video duration (should be < 12h, but check anyway)\n",
    "            duration = get_video_duration(merged_path)\n",
    "            if duration > 43200:\n",
    "                logging.warning(f\"Merged video is too long ({duration/3600:.2f} hours). Skipping upload and cleanup for: {merged_path}\")\n",
    "                continue\n",
    "            timestamps = generate_timestamps(split_files)\n",
    "            description = \"Tutorial Contents:\\n\\n\" + timestamps\n",
    "            title = title_base if not suffix else f\"{title_base} {suffix}\"\n",
    "            youtube = get_authenticated_service(client_secrets_file)\n",
    "            video_id = upload_to_youtube(youtube, merged_path, title, description)\n",
    "            if video_id:\n",
    "                logging.info(f\"Upload successful! Video ID: {video_id}\")\n",
    "                cleanup_and_save_link(folder_path, video_id, title, merged_path)\n",
    "                logging.info(f\"Video URL: https://www.youtube.com/watch?v={video_id}\")\n",
    "            else:\n",
    "                logging.error(f\"Upload failed for part {suffix or 'single'}\")\n",
    "    except Exception as e:\n",
    "        logging.error(f\"Error processing folder: {str(e)}\")\n",
    "\n",
    "def find_tutorial_folders_2_levels_down(root_folder: str) -> list:\n",
    "    \"\"\"Find all folders exactly 2 levels below the root_folder.\"\"\"\n",
    "    tutorial_folders = []\n",
    "    for company in os.listdir(root_folder):\n",
    "        company_path = os.path.join(root_folder, company)\n",
    "        if os.path.isdir(company_path):\n",
    "            for tutorial in os.listdir(company_path):\n",
    "                tutorial_path = os.path.join(company_path, tutorial)\n",
    "                if os.path.isdir(tutorial_path):\n",
    "                    tutorial_folders.append(tutorial_path)\n",
    "    return tutorial_folders\n",
    "\n",
    "def select_folder_dialog(title=\"Select the software folder\"):\n",
    "    root = tk.Tk()\n",
    "    root.withdraw()\n",
    "    folder_selected = filedialog.askdirectory(title=title)\n",
    "    root.destroy()\n",
    "    return folder_selected\n",
    "\n",
    "def main():\n",
    "    # Get client secrets file\n",
    "    try:\n",
    "        script_dir = os.path.dirname(os.path.abspath(__file__))\n",
    "    except NameError:\n",
    "        script_dir = os.getcwd()\n",
    "    client_secrets_file = os.path.join(script_dir, \"client_secret.json\")\n",
    "    if not os.path.exists(client_secrets_file):\n",
    "        print(\"Client secrets file not found\")\n",
    "        return\n",
    "    # Authenticate with YouTube first\n",
    "    youtube = get_authenticated_service(client_secrets_file)\n",
    "    print(\"YouTube authentication complete.\")\n",
    "    # Show folder selection dialog\n",
    "    root_folder = select_folder_dialog(\"Select the software folder (2 levels above tutorial)\")\n",
    "    if not root_folder or not os.path.exists(root_folder):\n",
    "        print(\"Path does not exist or was not selected.\")\n",
    "        return\n",
    "    # Find all tutorial folders exactly 2 levels down\n",
    "    tutorial_folders = find_tutorial_folders_2_levels_down(root_folder)\n",
    "    if not tutorial_folders:\n",
    "        print(\"No tutorial folders found.\")\n",
    "        return\n",
    "    print(f\"Found {len(tutorial_folders)} tutorial folders.\")\n",
    "    for folder in tutorial_folders:\n",
    "        print(f\"Processing: {folder}\")\n",
    "        process_folder(folder, client_secrets_file)\n",
    "\n",
    "if __name__ == \"__main__\":\n",
    "    main() "
   ]
  }
 ],
 "metadata": {
  "kernelspec": {
   "display_name": "Python 3",
   "language": "python",
   "name": "python3"
  },
  "language_info": {
   "codemirror_mode": {
    "name": "ipython",
    "version": 3
   },
   "file_extension": ".py",
   "mimetype": "text/x-python",
   "name": "python",
   "nbconvert_exporter": "python",
   "pygments_lexer": "ipython3",
   "version": "3.13.3"
  }
 },
 "nbformat": 4,
 "nbformat_minor": 2
}
