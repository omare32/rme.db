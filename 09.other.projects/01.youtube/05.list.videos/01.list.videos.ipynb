{
 "cells": [
  {
   "cell_type": "code",
   "execution_count": 3,
   "metadata": {},
   "outputs": [
    {
     "name": "stdout",
     "output_type": "stream",
     "text": [
      "Please visit this URL to authorize this application: https://accounts.google.com/o/oauth2/auth?response_type=code&client_id=253406904901-shu0pjqhddobn21msfjn1o7ue5q3k020.apps.googleusercontent.com&redirect_uri=http%3A%2F%2Flocalhost%3A55713%2F&scope=https%3A%2F%2Fwww.googleapis.com%2Fauth%2Fyoutube.readonly&state=AJfA5NT6L4nCl7L9pUOtyoDGl1u16B&access_type=offline\n",
      "✅ YouTube video list saved as 'YouTube_Video_List.xlsx'\n"
     ]
    }
   ],
   "source": [
    "from googleapiclient.discovery import build\n",
    "from google_auth_oauthlib.flow import InstalledAppFlow\n",
    "import pandas as pd\n",
    "\n",
    "# Define OAuth 2.0 scope (Read-only access to YouTube)\n",
    "SCOPES = [\"https://www.googleapis.com/auth/youtube.readonly\"]\n",
    "\n",
    "# Authenticate using OAuth 2.0\n",
    "flow = InstalledAppFlow.from_client_secrets_file(\"client_secret.json\", SCOPES)\n",
    "creds = flow.run_local_server(port=0)\n",
    "\n",
    "# Build YouTube API client\n",
    "youtube = build(\"youtube\", \"v3\", credentials=creds)\n",
    "\n",
    "# Function to get Uploads Playlist ID for the channel\n",
    "def get_uploads_playlist_id():\n",
    "    request = youtube.channels().list(\n",
    "        part=\"contentDetails\",\n",
    "        id=\"UCVjCW3tx7MT24MikTJXOZIw\"  # ✅ Fixed Channel ID\n",
    "    )\n",
    "    response = request.execute()\n",
    "\n",
    "    # Ensure 'items' exists in response\n",
    "    if \"items\" not in response or not response[\"items\"]:\n",
    "        raise Exception(\"❌ Error: No channel data found! Double-check the Channel ID.\")\n",
    "\n",
    "    return response[\"items\"][0][\"contentDetails\"][\"relatedPlaylists\"][\"uploads\"]\n",
    "\n",
    "# Function to fetch all videos (public & unlisted only)\n",
    "def get_videos():\n",
    "    playlist_id = get_uploads_playlist_id()\n",
    "    videos = []\n",
    "    next_page_token = None\n",
    "\n",
    "    while True:\n",
    "        request = youtube.playlistItems().list(\n",
    "            part=\"snippet\",\n",
    "            playlistId=playlist_id,  # Fetch videos from Uploads playlist\n",
    "            maxResults=50,  # Max per request\n",
    "            pageToken=next_page_token\n",
    "        )\n",
    "        response = request.execute()\n",
    "\n",
    "        for item in response.get(\"items\", []):\n",
    "            title = item[\"snippet\"][\"title\"]\n",
    "            video_id = item[\"snippet\"][\"resourceId\"][\"videoId\"]\n",
    "            video_url = f\"https://www.youtube.com/watch?v={video_id}\"\n",
    "            videos.append([title, video_url])\n",
    "\n",
    "        next_page_token = response.get(\"nextPageToken\")\n",
    "        if not next_page_token:\n",
    "            break\n",
    "\n",
    "    return videos\n",
    "\n",
    "# Fetch videos\n",
    "video_list = get_videos()\n",
    "\n",
    "# Save to Excel\n",
    "df = pd.DataFrame(video_list, columns=[\"Title\", \"URL\"])\n",
    "df.to_excel(\"YouTube_Video_List.xlsx\", index=False)\n",
    "print(\"✅ YouTube video list saved as 'YouTube_Video_List.xlsx'\")\n"
   ]
  }
 ],
 "metadata": {
  "kernelspec": {
   "display_name": "Python 3",
   "language": "python",
   "name": "python3"
  },
  "language_info": {
   "codemirror_mode": {
    "name": "ipython",
    "version": 3
   },
   "file_extension": ".py",
   "mimetype": "text/x-python",
   "name": "python",
   "nbconvert_exporter": "python",
   "pygments_lexer": "ipython3",
   "version": "3.12.4"
  }
 },
 "nbformat": 4,
 "nbformat_minor": 2
}
