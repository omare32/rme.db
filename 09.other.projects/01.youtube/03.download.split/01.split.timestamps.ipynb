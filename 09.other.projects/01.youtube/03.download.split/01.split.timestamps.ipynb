{
 "cells": [
  {
   "cell_type": "code",
   "execution_count": 1,
   "metadata": {},
   "outputs": [
    {
     "name": "stdout",
     "output_type": "stream",
     "text": [
      "[youtube] Extracting URL: https://www.youtube.com/watch?v=OYJ_RniGyrI\n",
      "[youtube] OYJ_RniGyrI: Downloading webpage\n",
      "[youtube] OYJ_RniGyrI: Downloading ios player API JSON\n",
      "[youtube] OYJ_RniGyrI: Downloading mweb player API JSON\n",
      "[youtube] OYJ_RniGyrI: Downloading player 03dbdfab\n",
      "[youtube] OYJ_RniGyrI: Downloading m3u8 information\n",
      "[info] OYJ_RniGyrI: Downloading 1 format(s): 136+251\n",
      "[info] There are no subtitles for the requested languages\n",
      "[download] Destination: Blood Sport - Hot Blood and Cold Steel [EP] (2021) [OYJ_RniGyrI].f136.mp4\n",
      "[download] 100% of   33.58MiB in 00:00:24 at 1.36MiB/s      \n",
      "[download] Destination: Blood Sport - Hot Blood and Cold Steel [EP] (2021) [OYJ_RniGyrI].f251.webm\n",
      "[download] 100% of   16.16MiB in 00:00:11 at 1.47MiB/s   \n",
      "[Merger] Merging formats into \"Blood Sport - Hot Blood and Cold Steel [EP] (2021) [OYJ_RniGyrI].mkv\"\n",
      "Deleting original file Blood Sport - Hot Blood and Cold Steel [EP] (2021) [OYJ_RniGyrI].f251.webm (pass -k to keep)\n",
      "Deleting original file Blood Sport - Hot Blood and Cold Steel [EP] (2021) [OYJ_RniGyrI].f136.mp4 (pass -k to keep)\n"
     ]
    }
   ],
   "source": [
    "import yt_dlp\n",
    "\n",
    "def download_chapters(url):\n",
    "  \"\"\"Downloads a YouTube video split into chapters based on timestamps in the description.\n",
    "\n",
    "  Args:\n",
    "    url: The URL of the YouTube video.\n",
    "  \"\"\"\n",
    "\n",
    "  ydl_opts = {\n",
    "      'writesubtitles': True,\n",
    "      'writeautomaticsub': True,\n",
    "      'split-chapters': True,\n",
    "  }\n",
    "\n",
    "  with yt_dlp.YoutubeDL(ydl_opts) as ydl:\n",
    "    ydl.download([url])\n",
    "\n",
    "if __name__ == '__main__':\n",
    "  video_url = input(\"Enter the YouTube video URL: \")\n",
    "  download_chapters(video_url)"
   ]
  }
 ],
 "metadata": {
  "kernelspec": {
   "display_name": "Python 3",
   "language": "python",
   "name": "python3"
  },
  "language_info": {
   "codemirror_mode": {
    "name": "ipython",
    "version": 3
   },
   "file_extension": ".py",
   "mimetype": "text/x-python",
   "name": "python",
   "nbconvert_exporter": "python",
   "pygments_lexer": "ipython3",
   "version": "3.12.5"
  }
 },
 "nbformat": 4,
 "nbformat_minor": 2
}
