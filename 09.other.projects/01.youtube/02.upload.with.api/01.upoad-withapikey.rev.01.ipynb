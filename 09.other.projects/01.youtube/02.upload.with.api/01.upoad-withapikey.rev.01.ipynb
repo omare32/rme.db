{
 "cells": [
  {
   "cell_type": "code",
   "execution_count": null,
   "metadata": {},
   "outputs": [
    {
     "ename": "ResumableUploadError",
     "evalue": "<HttpError 401 when requesting None returned \"API keys are not supported by this API. Expected OAuth2 access token or other authentication credentials that assert a principal. See https://cloud.google.com/docs/authentication\". Details: \"[{'message': 'Login Required.', 'domain': 'global', 'reason': 'required', 'location': 'Authorization', 'locationType': 'header'}]\">",
     "output_type": "error",
     "traceback": [
      "\u001b[1;31m---------------------------------------------------------------------------\u001b[0m",
      "\u001b[1;31mResumableUploadError\u001b[0m                      Traceback (most recent call last)",
      "Cell \u001b[1;32mIn[1], line 63\u001b[0m\n\u001b[0;32m     60\u001b[0m folder_path \u001b[38;5;241m=\u001b[39m \u001b[38;5;28minput\u001b[39m(\u001b[38;5;124m\"\u001b[39m\u001b[38;5;124mEnter the folder path containing the videos: \u001b[39m\u001b[38;5;124m\"\u001b[39m)\n\u001b[0;32m     62\u001b[0m \u001b[38;5;66;03m# Upload videos from the folder\u001b[39;00m\n\u001b[1;32m---> 63\u001b[0m \u001b[43mupload_videos_from_folder\u001b[49m\u001b[43m(\u001b[49m\u001b[43mfolder_path\u001b[49m\u001b[43m)\u001b[49m\n",
      "Cell \u001b[1;32mIn[1], line 57\u001b[0m, in \u001b[0;36mupload_videos_from_folder\u001b[1;34m(folder_path)\u001b[0m\n\u001b[0;32m     55\u001b[0m title \u001b[38;5;241m=\u001b[39m filename[:\u001b[38;5;241m-\u001b[39m\u001b[38;5;241m4\u001b[39m]  \u001b[38;5;66;03m# Remove the .mp4 extension from the filename\u001b[39;00m\n\u001b[0;32m     56\u001b[0m description \u001b[38;5;241m=\u001b[39m \u001b[38;5;124mf\u001b[39m\u001b[38;5;124m\"\u001b[39m\u001b[38;5;124mUploaded from folder: \u001b[39m\u001b[38;5;132;01m{\u001b[39;00mfolder_path\u001b[38;5;132;01m}\u001b[39;00m\u001b[38;5;124m\"\u001b[39m\n\u001b[1;32m---> 57\u001b[0m \u001b[43mupload_to_youtube\u001b[49m\u001b[43m(\u001b[49m\u001b[43mvideo_path\u001b[49m\u001b[43m,\u001b[49m\u001b[43m \u001b[49m\u001b[43mtitle\u001b[49m\u001b[43m,\u001b[49m\u001b[43m \u001b[49m\u001b[43mdescription\u001b[49m\u001b[43m)\u001b[49m\n",
      "Cell \u001b[1;32mIn[1], line 38\u001b[0m, in \u001b[0;36mupload_to_youtube\u001b[1;34m(video_path, title, description, tags, privacyStatus)\u001b[0m\n\u001b[0;32m     36\u001b[0m response \u001b[38;5;241m=\u001b[39m \u001b[38;5;28;01mNone\u001b[39;00m\n\u001b[0;32m     37\u001b[0m \u001b[38;5;28;01mwhile\u001b[39;00m response \u001b[38;5;129;01mis\u001b[39;00m \u001b[38;5;28;01mNone\u001b[39;00m:\n\u001b[1;32m---> 38\u001b[0m     status, response \u001b[38;5;241m=\u001b[39m \u001b[43mrequest\u001b[49m\u001b[38;5;241;43m.\u001b[39;49m\u001b[43mnext_chunk\u001b[49m\u001b[43m(\u001b[49m\u001b[43m)\u001b[49m\n\u001b[0;32m     39\u001b[0m     \u001b[38;5;28;01mif\u001b[39;00m status:\n\u001b[0;32m     40\u001b[0m         \u001b[38;5;28mprint\u001b[39m(\u001b[38;5;124mf\u001b[39m\u001b[38;5;124m\"\u001b[39m\u001b[38;5;124mUploaded \u001b[39m\u001b[38;5;132;01m{\u001b[39;00m\u001b[38;5;28mint\u001b[39m(status\u001b[38;5;241m.\u001b[39mprogress()\u001b[38;5;250m \u001b[39m\u001b[38;5;241m*\u001b[39m\u001b[38;5;250m \u001b[39m\u001b[38;5;241m100\u001b[39m)\u001b[38;5;132;01m}\u001b[39;00m\u001b[38;5;124m%\u001b[39m\u001b[38;5;124m\"\u001b[39m)\n",
      "File \u001b[1;32mc:\\Users\\Omar Essam\\AppData\\Local\\Programs\\Python\\Python312\\Lib\\site-packages\\googleapiclient\\_helpers.py:130\u001b[0m, in \u001b[0;36mpositional.<locals>.positional_decorator.<locals>.positional_wrapper\u001b[1;34m(*args, **kwargs)\u001b[0m\n\u001b[0;32m    128\u001b[0m     \u001b[38;5;28;01melif\u001b[39;00m positional_parameters_enforcement \u001b[38;5;241m==\u001b[39m POSITIONAL_WARNING:\n\u001b[0;32m    129\u001b[0m         logger\u001b[38;5;241m.\u001b[39mwarning(message)\n\u001b[1;32m--> 130\u001b[0m \u001b[38;5;28;01mreturn\u001b[39;00m \u001b[43mwrapped\u001b[49m\u001b[43m(\u001b[49m\u001b[38;5;241;43m*\u001b[39;49m\u001b[43margs\u001b[49m\u001b[43m,\u001b[49m\u001b[43m \u001b[49m\u001b[38;5;241;43m*\u001b[39;49m\u001b[38;5;241;43m*\u001b[39;49m\u001b[43mkwargs\u001b[49m\u001b[43m)\u001b[49m\n",
      "File \u001b[1;32mc:\\Users\\Omar Essam\\AppData\\Local\\Programs\\Python\\Python312\\Lib\\site-packages\\googleapiclient\\http.py:1022\u001b[0m, in \u001b[0;36mHttpRequest.next_chunk\u001b[1;34m(self, http, num_retries)\u001b[0m\n\u001b[0;32m   1020\u001b[0m         \u001b[38;5;28mself\u001b[39m\u001b[38;5;241m.\u001b[39mresumable_uri \u001b[38;5;241m=\u001b[39m resp[\u001b[38;5;124m\"\u001b[39m\u001b[38;5;124mlocation\u001b[39m\u001b[38;5;124m\"\u001b[39m]\n\u001b[0;32m   1021\u001b[0m     \u001b[38;5;28;01melse\u001b[39;00m:\n\u001b[1;32m-> 1022\u001b[0m         \u001b[38;5;28;01mraise\u001b[39;00m ResumableUploadError(resp, content)\n\u001b[0;32m   1023\u001b[0m \u001b[38;5;28;01melif\u001b[39;00m \u001b[38;5;28mself\u001b[39m\u001b[38;5;241m.\u001b[39m_in_error_state:\n\u001b[0;32m   1024\u001b[0m     \u001b[38;5;66;03m# If we are in an error state then query the server for current state of\u001b[39;00m\n\u001b[0;32m   1025\u001b[0m     \u001b[38;5;66;03m# the upload by sending an empty PUT and reading the 'range' header in\u001b[39;00m\n\u001b[0;32m   1026\u001b[0m     \u001b[38;5;66;03m# the response.\u001b[39;00m\n\u001b[0;32m   1027\u001b[0m     headers \u001b[38;5;241m=\u001b[39m {\u001b[38;5;124m\"\u001b[39m\u001b[38;5;124mContent-Range\u001b[39m\u001b[38;5;124m\"\u001b[39m: \u001b[38;5;124m\"\u001b[39m\u001b[38;5;124mbytes */\u001b[39m\u001b[38;5;132;01m%s\u001b[39;00m\u001b[38;5;124m\"\u001b[39m \u001b[38;5;241m%\u001b[39m size, \u001b[38;5;124m\"\u001b[39m\u001b[38;5;124mcontent-length\u001b[39m\u001b[38;5;124m\"\u001b[39m: \u001b[38;5;124m\"\u001b[39m\u001b[38;5;124m0\u001b[39m\u001b[38;5;124m\"\u001b[39m}\n",
      "\u001b[1;31mResumableUploadError\u001b[0m: <HttpError 401 when requesting None returned \"API keys are not supported by this API. Expected OAuth2 access token or other authentication credentials that assert a principal. See https://cloud.google.com/docs/authentication\". Details: \"[{'message': 'Login Required.', 'domain': 'global', 'reason': 'required', 'location': 'Authorization', 'locationType': 'header'}]\">"
     ]
    }
   ],
   "source": [
    "import os\n",
    "from googleapiclient.discovery import build\n",
    "from googleapiclient.http import MediaFileUpload\n",
    "\n",
    "def upload_to_youtube(video_path, title, description, tags=[], privacyStatus='private'):\n",
    "  \"\"\"\n",
    "  Uploads a video to YouTube.\n",
    "\n",
    "  Args:\n",
    "      video_path (str): Path to the video file.\n",
    "      title (str): Title of the video.\n",
    "      description (str): Description of the video.\n",
    "      tags (list, optional): List of tags for the video. Defaults to [].\n",
    "      privacyStatus (str, optional): Privacy status of the video ('private', 'public', 'unlisted'). Defaults to 'private'.\n",
    "  \"\"\"\n",
    "\n",
    "  # Replace with your API key\n",
    "  api_key = 'heeeeeeere'  \n",
    "  youtube = build('youtube', 'v3', developerKey=api_key)\n",
    "\n",
    "  request = youtube.videos().insert(\n",
    "      part=\"snippet,status\",\n",
    "      body={\n",
    "          \"snippet\": {\n",
    "              \"title\": title,\n",
    "              \"description\": description,\n",
    "              \"tags\": tags\n",
    "          },\n",
    "          \"status\": {\n",
    "              \"privacyStatus\": privacyStatus\n",
    "          }\n",
    "      },\n",
    "      media_body=MediaFileUpload(video_path, chunksize=-1, resumable=True)\n",
    "  )\n",
    "\n",
    "  response = None\n",
    "  while response is None:\n",
    "      status, response = request.next_chunk()\n",
    "      if status:\n",
    "          print(f\"Uploaded {int(status.progress() * 100)}%\")\n",
    "\n",
    "  print(f\"Video uploaded successfully! Video ID: {response['id']}\")\n",
    "\n",
    "def upload_videos_from_folder(folder_path):\n",
    "  \"\"\"\n",
    "  Uploads all videos from a folder to YouTube.\n",
    "\n",
    "  Args:\n",
    "      folder_path (str): Path to the folder containing the videos.\n",
    "  \"\"\"\n",
    "\n",
    "  for filename in os.listdir(folder_path):\n",
    "      if filename.endswith(\".mp4\"):\n",
    "          video_path = os.path.join(folder_path, filename)\n",
    "          title = filename[:-4]  # Remove the .mp4 extension from the filename\n",
    "          description = f\"Uploaded from folder: {folder_path}\"\n",
    "          upload_to_youtube(video_path, title, description)\n",
    "\n",
    "# Get the folder path\n",
    "folder_path = input(\"Enter the folder path containing the videos: \")\n",
    "\n",
    "# Upload videos from the folder\n",
    "upload_videos_from_folder(folder_path)"
   ]
  }
 ],
 "metadata": {
  "kernelspec": {
   "display_name": "Python 3",
   "language": "python",
   "name": "python3"
  },
  "language_info": {
   "codemirror_mode": {
    "name": "ipython",
    "version": 3
   },
   "file_extension": ".py",
   "mimetype": "text/x-python",
   "name": "python",
   "nbconvert_exporter": "python",
   "pygments_lexer": "ipython3",
   "version": "3.12.5"
  }
 },
 "nbformat": 4,
 "nbformat_minor": 2
}
