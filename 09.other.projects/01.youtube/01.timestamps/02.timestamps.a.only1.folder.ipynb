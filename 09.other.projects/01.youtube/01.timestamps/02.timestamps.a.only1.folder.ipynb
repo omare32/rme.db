{
 "cells": [
  {
   "cell_type": "code",
   "execution_count": null,
   "metadata": {},
   "outputs": [],
   "source": [
    "import os\n",
    "import ffmpeg\n",
    "\n",
    "def generate_timestamps_from_mp4_files(folder_path, output_filename=\"timestamps.txt\"):\n",
    "    \"\"\"\n",
    "    Generates timestamps for each MP4 file in a folder based on their \n",
    "    individual durations. Saves the timestamps to a text file.\n",
    "\n",
    "    Args:\n",
    "        folder_path (str): The path to the folder containing the MP4 videos.\n",
    "        output_filename (str, optional): The name of the output timestamps file. \n",
    "                                        Defaults to \"timestamps.txt\".\n",
    "    \"\"\"\n",
    "\n",
    "    timestamps = []\n",
    "    total_duration = 0\n",
    "\n",
    "    for filename in os.listdir(folder_path):\n",
    "        if filename.endswith(\".mp4\"):\n",
    "            filepath = os.path.join(folder_path, filename)\n",
    "\n",
    "            try:\n",
    "                # Get duration of the video using ffprobe\n",
    "                probe = ffmpeg.probe(filepath)\n",
    "                duration = float(probe['format']['duration'])\n",
    "                timestamps.append((filename, total_duration))\n",
    "                total_duration += duration \n",
    "            except ffmpeg.Error as e:\n",
    "                print(f\"Error processing {filename}: {e}\")\n",
    "\n",
    "    output_file_path = os.path.join(folder_path, output_filename)\n",
    "\n",
    "    with open(output_file_path, \"w\") as f:\n",
    "        for filename, timestamp in timestamps:\n",
    "            f.write(f\"{filename} - {int(timestamp // 60):02d}:{int(timestamp % 60):02d}\\n\")\n",
    "\n",
    "    print(f\"Timestamps saved to: {output_file_path}\")\n",
    "\n",
    "if __name__ == \"__main__\":\n",
    "    folder_path = input(\"Enter the folder path containing the videos: \") \n",
    "    generate_timestamps_from_mp4_files(folder_path)"
   ]
  }
 ],
 "metadata": {
  "kernelspec": {
   "display_name": "Python 3",
   "language": "python",
   "name": "python3"
  },
  "language_info": {
   "name": "python",
   "version": "3.12.4"
  }
 },
 "nbformat": 4,
 "nbformat_minor": 2
}
