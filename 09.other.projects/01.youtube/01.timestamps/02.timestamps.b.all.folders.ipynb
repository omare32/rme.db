{
 "cells": [
  {
   "cell_type": "code",
   "execution_count": 1,
   "metadata": {},
   "outputs": [
    {
     "name": "stdout",
     "output_type": "stream",
     "text": [
      "Timestamps saved to: D:\\ERP Downloads\\01b\\Battlefield™ V\\timestamps.txt\n"
     ]
    },
    {
     "ename": "Error",
     "evalue": "ffprobe error (see stderr output for detail)",
     "output_type": "error",
     "traceback": [
      "\u001b[1;31m---------------------------------------------------------------------------\u001b[0m",
      "\u001b[1;31mError\u001b[0m                                     Traceback (most recent call last)",
      "Cell \u001b[1;32mIn[1], line 44\u001b[0m\n\u001b[0;32m     41\u001b[0m root_folder_path \u001b[38;5;241m=\u001b[39m \u001b[38;5;28minput\u001b[39m(\u001b[38;5;124m\"\u001b[39m\u001b[38;5;124mEnter the root folder path containing subfolders with videos: \u001b[39m\u001b[38;5;124m\"\u001b[39m)\n\u001b[0;32m     43\u001b[0m \u001b[38;5;66;03m# Generate timestamps for each folder\u001b[39;00m\n\u001b[1;32m---> 44\u001b[0m \u001b[43mgenerate_timestamps_for_folders\u001b[49m\u001b[43m(\u001b[49m\u001b[43mroot_folder_path\u001b[49m\u001b[43m)\u001b[49m\n",
      "Cell \u001b[1;32mIn[1], line 26\u001b[0m, in \u001b[0;36mgenerate_timestamps_for_folders\u001b[1;34m(root_folder_path)\u001b[0m\n\u001b[0;32m     23\u001b[0m filepath \u001b[38;5;241m=\u001b[39m os\u001b[38;5;241m.\u001b[39mpath\u001b[38;5;241m.\u001b[39mjoin(folder_path, filename)\n\u001b[0;32m     25\u001b[0m \u001b[38;5;66;03m# Get duration of the video using ffprobe\u001b[39;00m\n\u001b[1;32m---> 26\u001b[0m probe \u001b[38;5;241m=\u001b[39m \u001b[43mffmpeg\u001b[49m\u001b[38;5;241;43m.\u001b[39;49m\u001b[43mprobe\u001b[49m\u001b[43m(\u001b[49m\u001b[43mfilepath\u001b[49m\u001b[43m)\u001b[49m\n\u001b[0;32m     27\u001b[0m duration \u001b[38;5;241m=\u001b[39m \u001b[38;5;28mfloat\u001b[39m(probe[\u001b[38;5;124m'\u001b[39m\u001b[38;5;124mformat\u001b[39m\u001b[38;5;124m'\u001b[39m][\u001b[38;5;124m'\u001b[39m\u001b[38;5;124mduration\u001b[39m\u001b[38;5;124m'\u001b[39m])\n\u001b[0;32m     28\u001b[0m timestamps\u001b[38;5;241m.\u001b[39mappend((filename, total_duration))\n",
      "File \u001b[1;32mc:\\Users\\Omar Essam2\\AppData\\Local\\Programs\\Python\\Python312\\Lib\\site-packages\\ffmpeg\\_probe.py:23\u001b[0m, in \u001b[0;36mprobe\u001b[1;34m(filename, cmd, **kwargs)\u001b[0m\n\u001b[0;32m     21\u001b[0m out, err \u001b[38;5;241m=\u001b[39m p\u001b[38;5;241m.\u001b[39mcommunicate()\n\u001b[0;32m     22\u001b[0m \u001b[38;5;28;01mif\u001b[39;00m p\u001b[38;5;241m.\u001b[39mreturncode \u001b[38;5;241m!=\u001b[39m \u001b[38;5;241m0\u001b[39m:\n\u001b[1;32m---> 23\u001b[0m     \u001b[38;5;28;01mraise\u001b[39;00m Error(\u001b[38;5;124m'\u001b[39m\u001b[38;5;124mffprobe\u001b[39m\u001b[38;5;124m'\u001b[39m, out, err)\n\u001b[0;32m     24\u001b[0m \u001b[38;5;28;01mreturn\u001b[39;00m json\u001b[38;5;241m.\u001b[39mloads(out\u001b[38;5;241m.\u001b[39mdecode(\u001b[38;5;124m'\u001b[39m\u001b[38;5;124mutf-8\u001b[39m\u001b[38;5;124m'\u001b[39m))\n",
      "\u001b[1;31mError\u001b[0m: ffprobe error (see stderr output for detail)"
     ]
    }
   ],
   "source": [
    "import os\n",
    "import ffmpeg\n",
    "\n",
    "def generate_timestamps_for_folders(root_folder_path):\n",
    "    \"\"\"\n",
    "    Generates timestamps for each MP4 file within subfolders of a root folder.\n",
    "    Saves the timestamps to a \"timestamps.txt\" file in each respective subfolder.\n",
    "\n",
    "    Args:\n",
    "        root_folder_path (str): The path to the root folder containing subfolders with videos.\n",
    "    \"\"\"\n",
    "\n",
    "    for folder_name in os.listdir(root_folder_path):\n",
    "        folder_path = os.path.join(root_folder_path, folder_name)\n",
    "        if os.path.isdir(folder_path):  # Check if it's a directory\n",
    "\n",
    "            timestamps = []\n",
    "            total_duration = 0\n",
    "\n",
    "            # Get all MP4 files in the folder\n",
    "            for filename in os.listdir(folder_path):\n",
    "                if filename.endswith(\".mp4\"):\n",
    "                    filepath = os.path.join(folder_path, filename)\n",
    "\n",
    "                    # Get duration of the video using ffprobe\n",
    "                    probe = ffmpeg.probe(filepath)\n",
    "                    duration = float(probe['format']['duration'])\n",
    "                    timestamps.append((filename, total_duration))\n",
    "                    total_duration += duration\n",
    "\n",
    "            # Write timestamps only if there are multiple videos in the folder\n",
    "            if len(timestamps) > 1:\n",
    "                timestamp_file_path = os.path.join(folder_path, \"timestamps.txt\")\n",
    "                with open(timestamp_file_path, \"w\") as f:\n",
    "                    for filename, timestamp in timestamps:\n",
    "                        f.write(f\"{filename} - {int(timestamp // 60):02d}:{int(timestamp % 60):02d}\\n\")\n",
    "\n",
    "                print(f\"Timestamps saved to: {timestamp_file_path}\")\n",
    "\n",
    "# Get the root folder path\n",
    "root_folder_path = input(\"Enter the root folder path containing subfolders with videos: \")\n",
    "\n",
    "# Generate timestamps for each folder\n",
    "generate_timestamps_for_folders(root_folder_path)"
   ]
  }
 ],
 "metadata": {
  "kernelspec": {
   "display_name": "Python 3",
   "language": "python",
   "name": "python3"
  },
  "language_info": {
   "codemirror_mode": {
    "name": "ipython",
    "version": 3
   },
   "file_extension": ".py",
   "mimetype": "text/x-python",
   "name": "python",
   "nbconvert_exporter": "python",
   "pygments_lexer": "ipython3",
   "version": "3.12.6"
  }
 },
 "nbformat": 4,
 "nbformat_minor": 2
}
