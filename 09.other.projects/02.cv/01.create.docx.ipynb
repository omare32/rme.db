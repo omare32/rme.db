{
 "cells": [
  {
   "cell_type": "code",
   "execution_count": 3,
   "metadata": {},
   "outputs": [
    {
     "data": {
      "text/plain": [
       "'D:/D/OneDrive/00.IDs-Creds/05 - Work/CV/2025/rev.02/ATS_Friendly_CV.docx'"
      ]
     },
     "execution_count": 3,
     "metadata": {},
     "output_type": "execute_result"
    }
   ],
   "source": [
    "from docx import Document\n",
    "\n",
    "# Create a new Word document\n",
    "doc = Document()\n",
    "\n",
    "# Add the content with formatting\n",
    "doc.add_heading('Omar Essam El-Din Mohamed', level=1)\n",
    "doc.add_paragraph('Zahraa El Maadi, Cairo, Egypt')\n",
    "doc.add_paragraph('Phone: (+2) 01004819774')\n",
    "doc.add_paragraph('Email: eng.omar.e@gmail.com')\n",
    "\n",
    "doc.add_heading('Professional Summary', level=2)\n",
    "doc.add_paragraph(\n",
    "    \"A versatile Project Management Information Systems (PMIS) Engineer with extensive experience in construction, \"\n",
    "    \"civil engineering, and data engineering. Proven expertise in project control, programming, and data science, with \"\n",
    "    \"a strong ability to automate tasks and optimize workflows. Dedicated to delivering efficient solutions under tight \"\n",
    "    \"deadlines and improving team performance.\"\n",
    ")\n",
    "\n",
    "doc.add_heading('Education', level=2)\n",
    "doc.add_paragraph(\n",
    "    \"Cairo University\\n\"\n",
    "    \"Bachelor of Science in Civil Engineering, May 2013\\n\"\n",
    "    \"- Overall Grade: Good (C)\\n\"\n",
    "    \"- Project Grade: Excellent (A)\\n\"\n",
    "    \"- Graduation Project: Steel Bridges Design\"\n",
    ")\n",
    "doc.add_paragraph(\"Orouba Language School\\n\"\n",
    "                  \"- Graduation Score: 98.9% (405.5/410)\")\n",
    "\n",
    "doc.add_heading('Professional Experience', level=2)\n",
    "\n",
    "# Construction and Civil Engineering Experience\n",
    "doc.add_heading('Construction and Civil Engineering Experience', level=3)\n",
    "experience = [\n",
    "    (\"Project Control Section Head\", \"Rowad Modern Engineering, Bridges Sector\",\n",
    "     \"Sep 2021 – May 2023\",\n",
    "     \"Managed the project control team for bridge projects.\\n\"\n",
    "     \"Streamlined cost and schedule reporting processes.\\n\"\n",
    "     \"Enhanced coordination between construction and planning teams.\"),\n",
    "\n",
    "    (\"Senior Project Control Engineer\", \"Rowad Modern Engineering, Head Office\",\n",
    "     \"Jan 2019 – Aug 2021\",\n",
    "     \"Oversaw multiple project schedules and cost control measures.\\n\"\n",
    "     \"Delivered periodic project performance reports to stakeholders.\"),\n",
    "\n",
    "    # More roles here in the same format for consistency.\n",
    "]\n",
    "\n",
    "for title, company, duration, description in experience:\n",
    "    doc.add_paragraph(f\"{title} | {company} ({duration})\", style='Heading 3')\n",
    "    doc.add_paragraph(description)\n",
    "\n",
    "# Skills\n",
    "doc.add_heading('Key Skills', level=2)\n",
    "doc.add_paragraph(\n",
    "    \"- Technical Tools: Primavera P6, MS Project, Synchro, Revit, Navisworks, Power BI, AutoCAD\\n\"\n",
    "    \"- Programming: Python, SQL, Java, C++ (familiar), C# (familiar)\\n\"\n",
    "    \"- Data Engineering: ETL pipelines, Airflow, Spark, ERP systems\\n\"\n",
    "    \"- Software: Microsoft Office (expert in Excel), Adobe Photoshop, Illustrator, After Effects\\n\"\n",
    "    \"- Construction Expertise: Cost control, tender evaluation, risk management\\n\"\n",
    "    \"- Languages: Arabic (Native), English (Fluent)\"\n",
    ")\n",
    "\n",
    "# Certifications\n",
    "doc.add_heading('Certifications', level=2)\n",
    "doc.add_paragraph(\n",
    "    \"- Certified Data Scientist Professional (Epsilon AI)\\n\"\n",
    "    \"- Primavera P6\\n\"\n",
    "    \"- Python Programming\\n\"\n",
    "    \"- PMP Certification\\n\"\n",
    "    \"- CCNA and CCNP Networking\\n\"\n",
    "    \"- Steel Bridges Design\"\n",
    ")\n",
    "\n",
    "# Save the document\n",
    "file_path = \"D:/D/OneDrive/00.IDs-Creds/05 - Work/CV/2025/rev.02/ATS_Friendly_CV.docx\"\n",
    "doc.save(file_path)\n",
    "\n",
    "file_path"
   ]
  }
 ],
 "metadata": {
  "kernelspec": {
   "display_name": "Python 3",
   "language": "python",
   "name": "python3"
  },
  "language_info": {
   "codemirror_mode": {
    "name": "ipython",
    "version": 3
   },
   "file_extension": ".py",
   "mimetype": "text/x-python",
   "name": "python",
   "nbconvert_exporter": "python",
   "pygments_lexer": "ipython3",
   "version": "3.12.5"
  }
 },
 "nbformat": 4,
 "nbformat_minor": 2
}
