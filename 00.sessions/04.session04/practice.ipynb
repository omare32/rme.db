{
 "cells": [
  {
   "cell_type": "markdown",
   "id": "a30dea94",
   "metadata": {},
   "source": [
    "###  Write a Python program to convert a string to a list."
   ]
  },
  {
   "cell_type": "code",
   "execution_count": 26,
   "id": "b137406d",
   "metadata": {},
   "outputs": [
    {
     "data": {
      "text/plain": [
       "['i', ' ', 'l', 'i', 'v', 'e', ' ', 'i', 'n', ' ', 'e', 'g', 'y', 'p', 't']"
      ]
     },
     "execution_count": 26,
     "metadata": {},
     "output_type": "execute_result"
    }
   ],
   "source": [
    "s = 'i live in egypt'\n",
    "x = list(s)\n",
    "x"
   ]
  },
  {
   "cell_type": "code",
   "execution_count": 27,
   "id": "480de31e",
   "metadata": {},
   "outputs": [
    {
     "data": {
      "text/plain": [
       "['i', 'live', 'in', 'egypt']"
      ]
     },
     "execution_count": 27,
     "metadata": {},
     "output_type": "execute_result"
    }
   ],
   "source": [
    "s.split()"
   ]
  },
  {
   "cell_type": "markdown",
   "id": "9e8e0654",
   "metadata": {},
   "source": [
    "### Write a Python program to sum all the items in a list."
   ]
  },
  {
   "cell_type": "code",
   "execution_count": 29,
   "id": "2c5d7765",
   "metadata": {},
   "outputs": [
    {
     "name": "stdout",
     "output_type": "stream",
     "text": [
      "40\n"
     ]
    },
    {
     "data": {
      "text/plain": [
       "40"
      ]
     },
     "execution_count": 29,
     "metadata": {},
     "output_type": "execute_result"
    }
   ],
   "source": [
    "# 1\n",
    "l = [0 , 20,18, 1, 2, 5, 8, 11, 13]\n",
    "print(sum(l))\n",
    "# 2\n",
    "summ = 0\n",
    "for item in l:\n",
    "    summ = summ + item # item = 8 summ = 8 --> summ = 8 + 8 = 16\n",
    "summ"
   ]
  },
  {
   "cell_type": "markdown",
   "id": "a70e2738",
   "metadata": {},
   "source": [
    "### Write a Python program to get the largest number from a list"
   ]
  },
  {
   "cell_type": "code",
   "execution_count": 33,
   "id": "a5d540b5",
   "metadata": {},
   "outputs": [
    {
     "name": "stdout",
     "output_type": "stream",
     "text": [
      "20\n",
      "20\n"
     ]
    },
    {
     "data": {
      "text/plain": [
       "20"
      ]
     },
     "execution_count": 33,
     "metadata": {},
     "output_type": "execute_result"
    }
   ],
   "source": [
    "l = [0 , 20,18, 1, 2, 5, 8, 11, 13]\n",
    "# 1 \n",
    "l.sort()\n",
    "print(l[-1])\n",
    "\n",
    "# 2 \n",
    "print(max(l))\n",
    "\n",
    "# 3 \n",
    "maxx = 0\n",
    "for item in l:\n",
    "    if item > maxx: # item = 20 --> maxx = 20\n",
    "        maxx = item\n",
    "maxx"
   ]
  },
  {
   "cell_type": "markdown",
   "id": "8039d284",
   "metadata": {},
   "source": [
    "### Write a Python program to remove duplicates from a list."
   ]
  },
  {
   "cell_type": "code",
   "execution_count": 34,
   "id": "4d042942",
   "metadata": {},
   "outputs": [
    {
     "data": {
      "text/plain": [
       "{0, 1, 2, 5, 8, 11, 13, 18, 20}"
      ]
     },
     "execution_count": 34,
     "metadata": {},
     "output_type": "execute_result"
    }
   ],
   "source": [
    "l = [0 , 20,18, 1, 2, 5, 8, 11, 13, 0, 1, 5, 20, 18]\n",
    "set(l)"
   ]
  },
  {
   "cell_type": "markdown",
   "id": "14415ec2",
   "metadata": {},
   "source": [
    "### Write a Python program to check if a list is empty or not"
   ]
  },
  {
   "cell_type": "code",
   "execution_count": 36,
   "id": "eb7a3125",
   "metadata": {},
   "outputs": [
    {
     "name": "stdout",
     "output_type": "stream",
     "text": [
      "empty\n"
     ]
    }
   ],
   "source": [
    "l = []\n",
    "if len(l) == 0:\n",
    "    print('empty')\n",
    "else:\n",
    "    print('has elments')"
   ]
  },
  {
   "cell_type": "markdown",
   "id": "4bd1d191",
   "metadata": {},
   "source": [
    "### Write a Python program to print a specified list after removing the 0th, 4th and 5th elements. \n",
    "#### Sample List : ['Red', 'Green', 'White', 'Black', 'Pink', 'Yellow']\n",
    "#### Expected Output : ['Green', 'White', 'Black']"
   ]
  },
  {
   "cell_type": "code",
   "execution_count": 40,
   "id": "a88c3093",
   "metadata": {},
   "outputs": [
    {
     "data": {
      "text/plain": [
       "['Green', 'White', 'Black']"
      ]
     },
     "execution_count": 40,
     "metadata": {},
     "output_type": "execute_result"
    }
   ],
   "source": [
    "l = ['Red', 'Green', 'White', 'Black', 'Pink', 'Yellow']\n",
    "l = l[1:4]\n",
    "l"
   ]
  },
  {
   "cell_type": "code",
   "execution_count": 41,
   "id": "94997deb",
   "metadata": {},
   "outputs": [],
   "source": [
    "l = ['Red', 'Green', 'White', 'Black', 'Pink', 'Yellow']\n",
    "l.remove(l[0])"
   ]
  },
  {
   "cell_type": "code",
   "execution_count": 42,
   "id": "48570b10",
   "metadata": {},
   "outputs": [
    {
     "data": {
      "text/plain": [
       "['Green', 'White', 'Black', 'Pink', 'Yellow']"
      ]
     },
     "execution_count": 42,
     "metadata": {},
     "output_type": "execute_result"
    }
   ],
   "source": [
    "l"
   ]
  },
  {
   "cell_type": "markdown",
   "id": "508eb300",
   "metadata": {},
   "source": [
    "### Write a python program to count a character in a string"
   ]
  },
  {
   "cell_type": "code",
   "execution_count": 47,
   "id": "78b40edd",
   "metadata": {},
   "outputs": [
    {
     "data": {
      "text/plain": [
       "1"
      ]
     },
     "execution_count": 47,
     "metadata": {},
     "output_type": "execute_result"
    }
   ],
   "source": [
    "a = 'my name is anas awad and i live in egypt and am 25 years old and am single'\n",
    "a.count('w')"
   ]
  },
  {
   "cell_type": "markdown",
   "id": "a4542844",
   "metadata": {},
   "source": [
    "### Write a Python program to find the second smallest number in a list."
   ]
  },
  {
   "cell_type": "code",
   "execution_count": 49,
   "id": "e5b2a707",
   "metadata": {},
   "outputs": [
    {
     "data": {
      "text/plain": [
       "1"
      ]
     },
     "execution_count": 49,
     "metadata": {},
     "output_type": "execute_result"
    }
   ],
   "source": [
    "l = [0 , 20,18, 1, 2, 5, 8, 11, 13]\n",
    "l.sort()\n",
    "l[1]"
   ]
  },
  {
   "cell_type": "markdown",
   "id": "fde06e8b",
   "metadata": {},
   "source": [
    "### Write a Python program to find the second largest number in a list"
   ]
  },
  {
   "cell_type": "code",
   "execution_count": 52,
   "id": "f63168dd",
   "metadata": {},
   "outputs": [
    {
     "data": {
      "text/plain": [
       "18"
      ]
     },
     "execution_count": 52,
     "metadata": {},
     "output_type": "execute_result"
    }
   ],
   "source": [
    "l = [0 , 20,18, 1, 2, 5, 8, 11, 13]\n",
    "l.sort()\n",
    "l[-2]"
   ]
  },
  {
   "cell_type": "markdown",
   "id": "b0e49bfe",
   "metadata": {},
   "source": [
    "### Write a Python program to get unique values from a list"
   ]
  },
  {
   "cell_type": "code",
   "execution_count": 53,
   "id": "b471a62b",
   "metadata": {},
   "outputs": [
    {
     "data": {
      "text/plain": [
       "{'Black', 'Green', 'Pink', 'Red', 'White', 'Yellow'}"
      ]
     },
     "execution_count": 53,
     "metadata": {},
     "output_type": "execute_result"
    }
   ],
   "source": [
    "l = ['Red', 'Green', 'White', 'Black', 'Pink', 'Yellow', 'Black', 'Pink','Green', 'White']\n",
    "set(l)"
   ]
  },
  {
   "cell_type": "code",
   "execution_count": 54,
   "id": "6ba658e6",
   "metadata": {},
   "outputs": [
    {
     "data": {
      "text/plain": [
       "True"
      ]
     },
     "execution_count": 54,
     "metadata": {},
     "output_type": "execute_result"
    }
   ],
   "source": [
    "len(l) > len(set(l))"
   ]
  },
  {
   "cell_type": "markdown",
   "id": "899e7618",
   "metadata": {},
   "source": [
    "### Write a Python program to create a list by concatenating a given list with a range from 1 to n.\n",
    "#### Sample list : ['p', 'q']\n",
    "#### n =5\n",
    "#### Sample Output : ['p1', 'q1', 'p2', 'q2', 'p3', 'q3', 'p4', 'q4', 'p5', 'q5']"
   ]
  },
  {
   "cell_type": "code",
   "execution_count": 58,
   "id": "c7d8c721",
   "metadata": {},
   "outputs": [
    {
     "data": {
      "text/plain": [
       "['p1',\n",
       " 'q1',\n",
       " 'p2',\n",
       " 'q2',\n",
       " 'p3',\n",
       " 'q3',\n",
       " 'p4',\n",
       " 'q4',\n",
       " 'p5',\n",
       " 'q5',\n",
       " 'p6',\n",
       " 'q6',\n",
       " 'p7',\n",
       " 'q7']"
      ]
     },
     "execution_count": 58,
     "metadata": {},
     "output_type": "execute_result"
    }
   ],
   "source": [
    "l =  ['p', 'q']\n",
    "n = 7\n",
    "o = []\n",
    "for i in range(1, n+1): \n",
    "    for item in l: \n",
    "        o.append(item + str(i))\n",
    "    \n",
    "o"
   ]
  },
  {
   "cell_type": "markdown",
   "id": "5d9b21c7",
   "metadata": {},
   "source": [
    "### Write a Python program to find common items in two lists"
   ]
  },
  {
   "cell_type": "code",
   "execution_count": 59,
   "id": "0b01ff2e",
   "metadata": {},
   "outputs": [
    {
     "data": {
      "text/plain": [
       "{'Black', 'Green', 'White'}"
      ]
     },
     "execution_count": 59,
     "metadata": {},
     "output_type": "execute_result"
    }
   ],
   "source": [
    "l = ['Red', 'Green', 'White', 'Black', 'Pink', 'Yellow']\n",
    "l2 = ['Blue', 'Green', 'White', 'Black', 'Purple']\n",
    "l = set(l)\n",
    "l2 = set(l2)\n",
    "\n",
    "l.intersection(l2)"
   ]
  },
  {
   "cell_type": "markdown",
   "id": "4eb2450f",
   "metadata": {},
   "source": [
    "### Write a Python program to check if all items in a given list of strings are equal to a given string."
   ]
  },
  {
   "cell_type": "code",
   "execution_count": 63,
   "id": "320fb497",
   "metadata": {},
   "outputs": [
    {
     "data": {
      "text/plain": [
       "False"
      ]
     },
     "execution_count": 63,
     "metadata": {},
     "output_type": "execute_result"
    }
   ],
   "source": [
    "l = ['Red', 'Green', 'White', 'Black', 'Pink', 'Yellow']\n",
    "all(item == 'Red' for item in l) "
   ]
  },
  {
   "cell_type": "markdown",
   "id": "0fca5d61",
   "metadata": {},
   "source": [
    "### Write a Python program to replace the last element in a list with another list.\n",
    "#### Sample data : [1, 3, 5, 7, 9, 10], [2, 4, 6, 8]\n",
    "#### Expected Output: [1, 3, 5, 7, 9, 2, 4, 6, 8]"
   ]
  },
  {
   "cell_type": "code",
   "execution_count": 66,
   "id": "19103c5a",
   "metadata": {},
   "outputs": [
    {
     "name": "stdout",
     "output_type": "stream",
     "text": [
      "[1, 3, 5, 7, 9, 2, 4, 6, 8]\n",
      "[1, 3, 5, 7, 9, 2, 4, 6, 8]\n"
     ]
    }
   ],
   "source": [
    "n = [1, 3, 5, 7, 9, 10]\n",
    "rep = [2, 4, 6, 8]\n",
    "# way 1\n",
    "n.remove(n[-1])\n",
    "n = n + rep\n",
    "print(n)\n",
    "\n",
    "\n",
    "# way 2\n",
    "n = [1, 3, 5, 7, 9, 10]\n",
    "n[-1:] = rep\n",
    "print(n)"
   ]
  },
  {
   "cell_type": "markdown",
   "id": "13e7fe5f",
   "metadata": {},
   "source": [
    "### Write a python to count each character in a string and return each character count\n",
    "#### sample : 'anas awad mohamed'\n",
    "#### Expected : {'a': 5, 'n':1, 's':1, 'w': 1, 'd': 2, 'm': 2, 'o':1, 'h':1, 'e':1}"
   ]
  },
  {
   "cell_type": "code",
   "execution_count": 73,
   "id": "546ace63",
   "metadata": {},
   "outputs": [
    {
     "data": {
      "text/plain": [
       "{'a': 5, 'd': 2, 'e': 1, 'h': 1, 'm': 2, 'n': 1, 'o': 1, 's': 1, 'w': 1}"
      ]
     },
     "execution_count": 73,
     "metadata": {},
     "output_type": "execute_result"
    }
   ],
   "source": [
    "s = 'anas awad mohamed'\n",
    "l = set(s)\n",
    "l.remove(' ')\n",
    "l = sorted(l)\n",
    "# {'n', 'w', 'h', 'a', 'm', 's', 'e', 'd', 'o'}\n",
    "# {key : value}\n",
    "{i: s.count(i) for i in l}  "
   ]
  },
  {
   "cell_type": "markdown",
   "id": "491a7085",
   "metadata": {},
   "source": [
    "#### keys = ['Ten', 'Twenty', 'Thirty'] ,values = [10, 20, 30]\n",
    "#### Expected Ouptut : {'Ten': 10, 'Twenty': 20, 'Thirty': 30}"
   ]
  },
  {
   "cell_type": "code",
   "execution_count": 81,
   "id": "2010fcea",
   "metadata": {},
   "outputs": [
    {
     "name": "stdout",
     "output_type": "stream",
     "text": [
      "[('Ten', 10), ('Twenty', 20), ('Thirty', 30)]\n"
     ]
    },
    {
     "data": {
      "text/plain": [
       "dict_items([('Ten', 10), ('Twenty', 20), ('Thirty', 30)])"
      ]
     },
     "execution_count": 81,
     "metadata": {},
     "output_type": "execute_result"
    }
   ],
   "source": [
    "keys = ['Ten', 'Twenty', 'Thirty']\n",
    "values = [10, 20, 30]\n",
    "print(list(zip(keys, values)))\n",
    "d = dict(zip(keys, values))\n",
    "d.items()"
   ]
  },
  {
   "cell_type": "markdown",
   "id": "5f932ec7",
   "metadata": {},
   "source": [
    "#### dict1 = {'Ten': 10, 'Twenty': 20, 'Thirty': 30}  ,dict2 = {'Thirty': 30, 'Fourty': 40, 'Fifty': 50}\n",
    "#### Expected output : {'Ten': 10, 'Twenty': 20, 'Thirty': 30, 'Fourty': 40, 'Fifty': 50}"
   ]
  },
  {
   "cell_type": "code",
   "execution_count": 83,
   "id": "c3bcdf70",
   "metadata": {},
   "outputs": [
    {
     "data": {
      "text/plain": [
       "{'Ten': 10, 'Twenty': 20, 'Thirty': 30, 'Fourty': 40, 'Fifty': 50}"
      ]
     },
     "execution_count": 83,
     "metadata": {},
     "output_type": "execute_result"
    }
   ],
   "source": [
    "dict1 = {'Ten': 10, 'Twenty': 20, 'Thirty': 30} \n",
    "dict2 = {'Thirty': 30, 'Fourty': 40, 'Fifty': 50}\n",
    "dict1.update(dict2)\n",
    "dict1"
   ]
  },
  {
   "cell_type": "markdown",
   "id": "d3a783a0",
   "metadata": {},
   "source": [
    "### sample_set = {\"Yellow\", \"Orange\", \"Black\"}\n",
    "### sample_list = [\"Blue\", \"Green\", \"Red\"]\n",
    "\n",
    "## Expected : {'Green', 'Yellow', 'Black', 'Orange', 'Red', 'Blue'}"
   ]
  },
  {
   "cell_type": "code",
   "execution_count": 84,
   "id": "af2524d5",
   "metadata": {},
   "outputs": [
    {
     "data": {
      "text/plain": [
       "{'Black', 'Blue', 'Green', 'Orange', 'Red', 'Yellow'}"
      ]
     },
     "execution_count": 84,
     "metadata": {},
     "output_type": "execute_result"
    }
   ],
   "source": [
    "sample_set = {\"Yellow\", \"Orange\", \"Black\"}\n",
    "sample_list = [\"Blue\", \"Green\", \"Red\"]\n",
    "sample_set.update(sample_list)\n",
    "sample_set"
   ]
  },
  {
   "cell_type": "markdown",
   "id": "4e0673b6",
   "metadata": {},
   "source": [
    "### Return a new set of identical items from two sets\n",
    "#### set1 = {10, 20, 30, 40, 50}\n",
    "#### set2 = {30, 40, 50, 60, 70}\n",
    "\n",
    "### Expected : {40, 50, 30}"
   ]
  },
  {
   "cell_type": "code",
   "execution_count": 85,
   "id": "06d0fdd9",
   "metadata": {},
   "outputs": [
    {
     "data": {
      "text/plain": [
       "{30, 40, 50}"
      ]
     },
     "execution_count": 85,
     "metadata": {},
     "output_type": "execute_result"
    }
   ],
   "source": [
    "set1 = {10, 20, 30, 40, 50}\n",
    "set2 = {30, 40, 50, 60, 70}\n",
    "\n",
    "set1.intersection(set2)"
   ]
  },
  {
   "cell_type": "markdown",
   "id": "fcf1b369",
   "metadata": {},
   "source": [
    "### Get Only unique items from two sets\n",
    "\n",
    "#### set1 = {10, 20, 30, 40, 50}\n",
    "#### set2 = {30, 40, 50, 60, 70}\n",
    "\n",
    "### Expected : {70, 40, 10, 50, 20, 60, 30}\n"
   ]
  },
  {
   "cell_type": "code",
   "execution_count": 86,
   "id": "92132f8f",
   "metadata": {},
   "outputs": [
    {
     "data": {
      "text/plain": [
       "{10, 20, 30, 40, 50, 60, 70}"
      ]
     },
     "execution_count": 86,
     "metadata": {},
     "output_type": "execute_result"
    }
   ],
   "source": [
    "set1 = {10, 20, 30, 40, 50}\n",
    "set2 = {30, 40, 50, 60, 70}\n",
    "\n",
    "set1.union(set2)"
   ]
  },
  {
   "cell_type": "markdown",
   "id": "d2fbf71d",
   "metadata": {},
   "source": []
  },
  {
   "cell_type": "code",
   "execution_count": null,
   "id": "f1ed531d",
   "metadata": {},
   "outputs": [],
   "source": []
  },
  {
   "cell_type": "raw",
   "id": "a46378db",
   "metadata": {},
   "source": [
    "## Print the value of key ‘history’ \n",
    "\n",
    "\n",
    "sampleDict = {\n",
    "    \"class\": {\n",
    "        \"student\": {\n",
    "            \"name\": \"Mike\",\n",
    "            \"marks\": {\n",
    "                \"physics\": 70,\n",
    "                \"history\": 80\n",
    "            }\n",
    "        }\n",
    "    }\n",
    "}\n",
    "\n",
    "\n",
    "# Expected output 80 "
   ]
  },
  {
   "cell_type": "code",
   "execution_count": 87,
   "id": "f34f391d",
   "metadata": {},
   "outputs": [],
   "source": [
    "sampleDict = {\n",
    "    \"class\": {\n",
    "        \"student\": {\n",
    "            \"name\": \"Mike\",\n",
    "            \"marks\": {\n",
    "                \"physics\": 70,\n",
    "                \"history\": 80\n",
    "            }\n",
    "        }\n",
    "    }\n",
    "}"
   ]
  },
  {
   "cell_type": "code",
   "execution_count": 91,
   "id": "66653315",
   "metadata": {},
   "outputs": [
    {
     "data": {
      "text/plain": [
       "80"
      ]
     },
     "execution_count": 91,
     "metadata": {},
     "output_type": "execute_result"
    }
   ],
   "source": [
    "sampleDict['class']['student']['marks']['history']"
   ]
  },
  {
   "cell_type": "raw",
   "id": "c5dba077",
   "metadata": {},
   "source": [
    "## Create New dictionary  from mentioned keys only \n",
    "\n",
    "\n",
    "sample_dict = {\n",
    "    \"name\": \"Kelly\",\n",
    "    \"age\": 25,\n",
    "    \"salary\": 8000,\n",
    "    \"city\": \"New york\"}\n",
    "\n",
    "# Keys to extract\n",
    "keys = [\"name\", \"salary\"]\n",
    "\n",
    "\n",
    "# Expected output"
   ]
  },
  {
   "cell_type": "code",
   "execution_count": 93,
   "id": "cc03671f",
   "metadata": {},
   "outputs": [],
   "source": [
    "sample_dict = {\n",
    "    \"name\": \"Kelly\",\n",
    "    \"age\": 25,\n",
    "    \"salary\": 8000,\n",
    "    \"city\": \"New york\"}\n",
    "\n",
    "# Keys to extract\n",
    "keys = [\"name\", \"salary\"]"
   ]
  },
  {
   "cell_type": "code",
   "execution_count": 95,
   "id": "d22090af",
   "metadata": {},
   "outputs": [
    {
     "data": {
      "text/plain": [
       "{'name': 'Kelly', 'salary': 8000}"
      ]
     },
     "execution_count": 95,
     "metadata": {},
     "output_type": "execute_result"
    }
   ],
   "source": [
    "{key: sample_dict[key] for key in keys}"
   ]
  },
  {
   "cell_type": "markdown",
   "id": "04613cd3",
   "metadata": {},
   "source": []
  },
  {
   "cell_type": "code",
   "execution_count": null,
   "id": "dd9d9d9a",
   "metadata": {},
   "outputs": [],
   "source": []
  }
 ],
 "metadata": {
  "kernelspec": {
   "display_name": "Python 3 (ipykernel)",
   "language": "python",
   "name": "python3"
  },
  "language_info": {
   "codemirror_mode": {
    "name": "ipython",
    "version": 3
   },
   "file_extension": ".py",
   "mimetype": "text/x-python",
   "name": "python",
   "nbconvert_exporter": "python",
   "pygments_lexer": "ipython3",
   "version": "3.10.9"
  }
 },
 "nbformat": 4,
 "nbformat_minor": 5
}
