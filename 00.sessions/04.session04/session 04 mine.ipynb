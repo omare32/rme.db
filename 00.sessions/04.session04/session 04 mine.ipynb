{
 "cells": [
  {
   "cell_type": "code",
   "execution_count": 1,
   "id": "ba541313",
   "metadata": {},
   "outputs": [
    {
     "name": "stdout",
     "output_type": "stream",
     "text": [
      "['dff']\n"
     ]
    }
   ],
   "source": [
    "l=['dff','dfd','sdssd','s','jj','bbb','nn']\n",
    "x=l[0:2:2]\n",
    "print(x)"
   ]
  },
  {
   "cell_type": "code",
   "execution_count": 7,
   "id": "d9d735c3",
   "metadata": {},
   "outputs": [
    {
     "name": "stdout",
     "output_type": "stream",
     "text": [
      "0\n",
      "4\n",
      "16\n",
      "36\n",
      "64\n",
      "100\n",
      "144\n",
      "196\n",
      "256\n",
      "324\n"
     ]
    }
   ],
   "source": [
    "l=list(range(20))\n",
    "for i in l:\n",
    "    if i%2==0:\n",
    "        i**=2\n",
    "        print(i)\n",
    "        \n",
    "l.clear()"
   ]
  },
  {
   "cell_type": "code",
   "execution_count": 3,
   "id": "23d05fc7",
   "metadata": {},
   "outputs": [
    {
     "data": {
      "text/plain": [
       "[1, 3, 5, 7, 9, 11, 13, 15, 17, 19]"
      ]
     },
     "execution_count": 3,
     "metadata": {},
     "output_type": "execute_result"
    }
   ],
   "source": [
    "[n+1 for n in l if n%2==0]"
   ]
  },
  {
   "cell_type": "code",
   "execution_count": 10,
   "id": "b62403de",
   "metadata": {},
   "outputs": [
    {
     "name": "stdout",
     "output_type": "stream",
     "text": [
      "3\n",
      "7\n",
      "7\n",
      "5\n",
      "3\n",
      "3\n",
      "['bbbb', 'sdfsdf']\n"
     ]
    }
   ],
   "source": [
    "st='vfv dsfdfsd bbbb dsfsdfd dfsdf sdf sdfsdf dss'\n",
    "v=[]\n",
    "[v.append(i) if len(i)%2==0 else print(len(i)) for i in st.split()]\n",
    "\n",
    "print(v)"
   ]
  }
 ],
 "metadata": {
  "kernelspec": {
   "display_name": "Python 3 (ipykernel)",
   "language": "python",
   "name": "python3"
  },
  "language_info": {
   "codemirror_mode": {
    "name": "ipython",
    "version": 3
   },
   "file_extension": ".py",
   "mimetype": "text/x-python",
   "name": "python",
   "nbconvert_exporter": "python",
   "pygments_lexer": "ipython3",
   "version": "3.9.13"
  }
 },
 "nbformat": 4,
 "nbformat_minor": 5
}
