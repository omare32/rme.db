{
 "cells": [
  {
   "cell_type": "markdown",
   "metadata": {},
   "source": [
    "> # Dear Epsilon Students, \n",
    "> # The More you practice The better You'll Be."
   ]
  },
  {
   "cell_type": "markdown",
   "metadata": {},
   "source": [
    "### Instructions: \n",
    "- Make sure that you understand this topics before you start.\n",
    "- If you found something hard to do, try and try then google it and finally ask someone. \n",
    "- You can divide this work into daily tasks so that you do not feel pressure.\n",
    "- After you finish, go to model answer and rate yourself. \n",
    "- If you find something ambiguous, Try to make a hypothesis to solve a problem. "
   ]
  },
  {
   "cell_type": "markdown",
   "metadata": {},
   "source": [
    "### Question classification: \n",
    "- Green is level 1 \n",
    "- Orange is level 2 \n",
    "- Red is level 3 "
   ]
  },
  {
   "cell_type": "markdown",
   "metadata": {},
   "source": [
    "# <center> Let's start 💪 </center> "
   ]
  },
  {
   "cell_type": "markdown",
   "metadata": {},
   "source": [
    "## <p style=\"color:orange;\">Q.01 print out words that start with 's' in the following sentence.</p>\n",
    "> st = 'Print only the words that start with s in this sentence'"
   ]
  },
  {
   "cell_type": "code",
   "execution_count": 2,
   "metadata": {},
   "outputs": [
    {
     "name": "stdout",
     "output_type": "stream",
     "text": [
      "start\n",
      "s\n",
      "sentence\n"
     ]
    }
   ],
   "source": [
    "# Answer here \n",
    "\n",
    "st = 'Print only the words that start with s in this sentence'\n",
    "for i in st.split():\n",
    "    if i.startswith('s'):\n",
    "        print(i)"
   ]
  },
  {
   "cell_type": "markdown",
   "metadata": {},
   "source": [
    "## <p style=\"color:orange;\">Q.02 Print all numbers between 1 and 50 that are divisible by 3.</p>"
   ]
  },
  {
   "cell_type": "code",
   "execution_count": 3,
   "metadata": {},
   "outputs": [
    {
     "name": "stdout",
     "output_type": "stream",
     "text": [
      "0\n",
      "3\n",
      "6\n",
      "9\n",
      "12\n",
      "15\n",
      "18\n",
      "21\n",
      "24\n",
      "27\n",
      "30\n",
      "33\n",
      "36\n",
      "39\n",
      "42\n",
      "45\n",
      "48\n"
     ]
    }
   ],
   "source": [
    "# Answer here \n",
    "\n",
    "for i in range(50):\n",
    "    if i%3==0:\n",
    "        print(i)\n"
   ]
  },
  {
   "cell_type": "markdown",
   "metadata": {},
   "source": [
    "## <p style=\"color:orange;\">Q.03 Go through the string below and if the length of a word is even print \"even!\"</p>\n",
    "> st = 'Print only the words that start with s in this sentence'"
   ]
  },
  {
   "cell_type": "code",
   "execution_count": 31,
   "metadata": {},
   "outputs": [
    {
     "name": "stdout",
     "output_type": "stream",
     "text": [
      "only\n",
      "that\n",
      "with\n",
      "in\n",
      "this\n",
      "sentence\n"
     ]
    }
   ],
   "source": [
    "# Answer here \n",
    "st = 'Print only the words that start with s in this sentence'\n",
    "for i in st.split():\n",
    "    if (len(i))%2==0:\n",
    "        print(i)\n"
   ]
  },
  {
   "cell_type": "markdown",
   "metadata": {},
   "source": [
    "## <p style=\"color:green;\">Q.04 Given X which is a password. Print \"Wrong\" if the password is incorrect otherwise, print \"Correct\"</p>\n",
    "> The \"Correct\" password is the number 1999.\n",
    "\n"
   ]
  },
  {
   "cell_type": "code",
   "execution_count": 43,
   "metadata": {},
   "outputs": [
    {
     "name": "stdout",
     "output_type": "stream",
     "text": [
      "Enter Password Here: 2000\n",
      "Wrong password\n"
     ]
    }
   ],
   "source": [
    "# Answer here \n",
    "password=int(input('Enter Password Here: '))\n",
    "\n",
    "if password==1999:\n",
    "    print ('Correct password')\n",
    "else:\n",
    "    print('Wrong password')"
   ]
  },
  {
   "cell_type": "markdown",
   "metadata": {},
   "source": [
    "## <p style=\"color:red;\">Q.05 Given a number N. Print the factorial of number N.</p>\n",
    "> For information about factorial: https://en.wikipedia.org/wiki/Factorial"
   ]
  },
  {
   "cell_type": "code",
   "execution_count": 101,
   "metadata": {},
   "outputs": [
    {
     "name": "stdout",
     "output_type": "stream",
     "text": [
      "Enter Number: 5\n",
      "1 1\n",
      "------------\n",
      "1 1 1\n",
      "---\n",
      "1\n",
      "-----\n",
      "1 1 2\n",
      "---\n",
      "2\n",
      "-----\n",
      "1 2 3\n",
      "---\n",
      "6\n",
      "-----\n",
      "1 6 4\n",
      "---\n",
      "24\n",
      "-----\n",
      "2 2\n",
      "------------\n",
      "2 2 1\n",
      "---\n",
      "2\n",
      "-----\n",
      "2 2 2\n",
      "---\n",
      "4\n",
      "-----\n",
      "2 4 3\n",
      "---\n",
      "12\n",
      "-----\n",
      "2 12 4\n",
      "---\n",
      "48\n",
      "-----\n",
      "3 3\n",
      "------------\n",
      "3 3 1\n",
      "---\n",
      "3\n",
      "-----\n",
      "3 3 2\n",
      "---\n",
      "6\n",
      "-----\n",
      "3 6 3\n",
      "---\n",
      "18\n",
      "-----\n",
      "3 18 4\n",
      "---\n",
      "72\n",
      "-----\n",
      "4 4\n",
      "------------\n",
      "4 4 1\n",
      "---\n",
      "4\n",
      "-----\n",
      "4 4 2\n",
      "---\n",
      "8\n",
      "-----\n",
      "4 8 3\n",
      "---\n",
      "24\n",
      "-----\n",
      "4 24 4\n",
      "---\n",
      "96\n",
      "-----\n",
      "5 5\n",
      "------------\n",
      "5 5 1\n",
      "---\n",
      "5\n",
      "-----\n",
      "5 5 2\n",
      "---\n",
      "10\n",
      "-----\n",
      "5 10 3\n",
      "---\n",
      "30\n",
      "-----\n",
      "5 30 4\n",
      "---\n",
      "120\n",
      "-----\n",
      "120\n"
     ]
    }
   ],
   "source": [
    "# Answer here \n",
    "x=int(input('Enter Number: '))\n",
    "\n",
    "for i in list(range(1,x+1)):\n",
    "    z=1\n",
    "    z*=i\n",
    "    print(i,z)\n",
    "    print(\"-\"*12)\n",
    "    for n in list(range(1,x)):\n",
    "        print(i,z,n)\n",
    "        print(\"-\"*3)\n",
    "        z*=n\n",
    "        print(z)\n",
    "        print(\"-\"*5)\n",
    "print (z)\n",
    "        \n",
    "    \n",
    "    \n",
    "\n",
    "   "
   ]
  },
  {
   "cell_type": "markdown",
   "metadata": {},
   "source": [
    "## <p style=\"color:red;\">Q.06 Given a number N.print sum of numbers from 1 to N, Using a loop.</p>\n"
   ]
  },
  {
   "cell_type": "code",
   "execution_count": 1,
   "metadata": {},
   "outputs": [
    {
     "name": "stdout",
     "output_type": "stream",
     "text": [
      "Enter Your Number Here: 6\n",
      "21\n"
     ]
    }
   ],
   "source": [
    "# Answer here \n",
    "x=int(input(\"Enter Your Number Here: \"))\n",
    "s=0\n",
    "for i in range(x+1):\n",
    "    s+=i\n",
    "print(s)\n",
    "    \n"
   ]
  },
  {
   "cell_type": "markdown",
   "metadata": {},
   "source": [
    "## <p style=\"color:orange;\">Q.07 - Write a Python program to construct the following pattern.</p>\n"
   ]
  },
  {
   "cell_type": "raw",
   "metadata": {},
   "source": [
    "* \n",
    "* * \n",
    "* * * \n",
    "* * * * \n",
    "* * * * * "
   ]
  },
  {
   "cell_type": "code",
   "execution_count": 41,
   "metadata": {},
   "outputs": [
    {
     "name": "stdout",
     "output_type": "stream",
     "text": [
      "enter rows for pattern: 5\n",
      "\n",
      "*\n",
      "**\n",
      "***\n",
      "****\n",
      "*****\n"
     ]
    }
   ],
   "source": [
    "# Answer here \n",
    "x=int(input(\"enter rows for pattern: \"))\n",
    "for i in range(x+1):\n",
    "    print(\"*\"*i)"
   ]
  },
  {
   "cell_type": "markdown",
   "metadata": {},
   "source": [
    "## <p style=\"color:green;\">Q.08 Write a Python program that prints all the numbers from 0 to 6 except 3 and 6.</p>\n"
   ]
  },
  {
   "cell_type": "code",
   "execution_count": 33,
   "metadata": {},
   "outputs": [
    {
     "name": "stdout",
     "output_type": "stream",
     "text": [
      "1\n",
      "2\n",
      "4\n",
      "5\n"
     ]
    }
   ],
   "source": [
    "# Answer here \n",
    "for i in range(6):\n",
    "    if i%3!=0 and i%6!=0:\n",
    "        print(i)    \n"
   ]
  },
  {
   "cell_type": "markdown",
   "metadata": {},
   "source": [
    "## <p style=\"color:green;\">Q.09 Timon has a candies and his friend, Pumbaa, has b candies, so Pumbaa asked Timon to tell him the value of a−b. However, Timon will tell him the value of a−b if the value is ≥0; otherwise, he will lie and say 0. Since it was a hard task for Timon, he's asking for your help.</p>\n"
   ]
  },
  {
   "cell_type": "code",
   "execution_count": 5,
   "metadata": {},
   "outputs": [
    {
     "name": "stdout",
     "output_type": "stream",
     "text": [
      "Number of candies for timon: 1\n",
      "Number of candies for pumbaa: 0\n",
      "1\n"
     ]
    }
   ],
   "source": [
    "# Answer here \n",
    "a=int(input('Number of candies for timon: '))\n",
    "b=int(input('Number of candies for pumbaa: '))\n",
    "\n",
    "if a-b>=0:\n",
    "    print(a-b)\n",
    "else:\n",
    "    print(0)\n",
    "        "
   ]
  },
  {
   "cell_type": "markdown",
   "metadata": {},
   "source": [
    "## <p style=\"color:green;\">Q.11 Write a Python program to convert temperatures to and from celsius, fahrenheit.</p>\n",
    ">[ Formula : c/5 = f-32/9 [ where c = temperature in celsius and f = temperature in fahrenheit ]"
   ]
  },
  {
   "cell_type": "code",
   "execution_count": 19,
   "metadata": {},
   "outputs": [
    {
     "name": "stdout",
     "output_type": "stream",
     "text": [
      "Enter Temprature: 30\n",
      "Enter c for celsius and f for fahrenheit: c\n",
      "86.0\n"
     ]
    }
   ],
   "source": [
    "# Answer here \n",
    "\n",
    "x=float(input(\"Enter Temprature: \"))\n",
    "y=input(\"Enter c for celsius and f for fahrenheit: \")\n",
    "\n",
    "if y=='c':\n",
    "    Temp_in_Fahrenheit=(((x/5)*9)+32)\n",
    "    print(Temp_in_Fahrenheit)\n",
    "elif y=='f':\n",
    "    Temp_in_Celsius=(((x-32)/9)*5)\n",
    "    print(Temp_in_Celsius)\n",
    "else:\n",
    "    print(\"please define celsius or fahrenheit\")\n",
    "    "
   ]
  },
  {
   "cell_type": "markdown",
   "metadata": {},
   "source": [
    "## <p style=\"color:orange;\">Q.12 Write a Python program to create the multiplication table (from 1 to 10) of a number.</p>"
   ]
  },
  {
   "cell_type": "raw",
   "metadata": {},
   "source": [
    "Expected Output:\n",
    "\n",
    "Input a number: 6                                                       \n",
    "6 x 1 = 6                                                               \n",
    "6 x 2 = 12                                                              \n",
    "6 x 3 = 18                                                              \n",
    "6 x 4 = 24                                                              \n",
    "6 x 5 = 30                                                              \n",
    "6 x 6 = 36                                                              \n",
    "6 x 7 = 42                                                              \n",
    "6 x 8 = 48                                                              \n",
    "6 x 9 = 54                                                              \n",
    "6 x 10 = 60 "
   ]
  },
  {
   "cell_type": "code",
   "execution_count": 36,
   "metadata": {},
   "outputs": [
    {
     "name": "stdout",
     "output_type": "stream",
     "text": [
      "Enter a number: 5\n",
      "5*1=5\n",
      "5*2=10\n",
      "5*3=15\n",
      "5*4=20\n",
      "5*5=25\n",
      "5*6=30\n",
      "5*7=35\n",
      "5*8=40\n",
      "5*9=45\n",
      "5*10=50\n"
     ]
    }
   ],
   "source": [
    "# Answer here \n",
    "x=int(input(\"Enter a number: \"))\n",
    "\n",
    "for i in range(1,11):\n",
    "    print(f'{x}*{i}={x*i}')"
   ]
  },
  {
   "cell_type": "code",
   "execution_count": null,
   "metadata": {},
   "outputs": [],
   "source": []
  }
 ],
 "metadata": {
  "kernelspec": {
   "display_name": "Python 3 (ipykernel)",
   "language": "python",
   "name": "python3"
  },
  "language_info": {
   "codemirror_mode": {
    "name": "ipython",
    "version": 3
   },
   "file_extension": ".py",
   "mimetype": "text/x-python",
   "name": "python",
   "nbconvert_exporter": "python",
   "pygments_lexer": "ipython3",
   "version": "3.9.13"
  }
 },
 "nbformat": 4,
 "nbformat_minor": 4
}
