{
 "cells": [
  {
   "cell_type": "code",
   "execution_count": 6,
   "id": "15dffe80",
   "metadata": {},
   "outputs": [],
   "source": [
    "# ! pip install mysql-connector-python\n",
    "import mysql.connector\n",
    "import pandas as pd"
   ]
  },
  {
   "cell_type": "code",
   "execution_count": 2,
   "id": "846fb43c",
   "metadata": {},
   "outputs": [],
   "source": [
    "conn=mysql.connector.connect(host='127.0.0.1',user='root',password='12  34',database='db')"
   ]
  },
  {
   "cell_type": "code",
   "execution_count": 3,
   "id": "13a06fe3",
   "metadata": {},
   "outputs": [],
   "source": [
    "cursor=conn.cursor()"
   ]
  },
  {
   "cell_type": "code",
   "execution_count": 4,
   "id": "a46f6d88",
   "metadata": {},
   "outputs": [],
   "source": [
    "cursor.execute('select * from customer')"
   ]
  },
  {
   "cell_type": "code",
   "execution_count": 5,
   "id": "9be3432f",
   "metadata": {},
   "outputs": [
    {
     "data": {
      "text/plain": [
       "[('C00013',\n",
       "  'Holmes',\n",
       "  'London                             ',\n",
       "  'London',\n",
       "  'UK',\n",
       "  Decimal('2'),\n",
       "  Decimal('6000.00'),\n",
       "  Decimal('5000.00'),\n",
       "  Decimal('7000.00'),\n",
       "  Decimal('4000.00'),\n",
       "  'BBBBBBB',\n",
       "  'A003  '),\n",
       " ('C00001',\n",
       "  'Micheal',\n",
       "  'New York                           ',\n",
       "  'New York',\n",
       "  'USA',\n",
       "  Decimal('2'),\n",
       "  Decimal('3000.00'),\n",
       "  Decimal('5000.00'),\n",
       "  Decimal('2000.00'),\n",
       "  Decimal('6000.00'),\n",
       "  'CCCCCCC',\n",
       "  'A008  '),\n",
       " ('C00020',\n",
       "  'Albert',\n",
       "  'New York                           ',\n",
       "  'New York',\n",
       "  'USA',\n",
       "  Decimal('3'),\n",
       "  Decimal('5000.00'),\n",
       "  Decimal('7000.00'),\n",
       "  Decimal('6000.00'),\n",
       "  Decimal('6000.00'),\n",
       "  'BBBBSBB',\n",
       "  'A008  '),\n",
       " ('C00025',\n",
       "  'Ravindran',\n",
       "  'Bangalore                          ',\n",
       "  'Bangalore',\n",
       "  'India',\n",
       "  Decimal('2'),\n",
       "  Decimal('5000.00'),\n",
       "  Decimal('7000.00'),\n",
       "  Decimal('4000.00'),\n",
       "  Decimal('8000.00'),\n",
       "  'AVAVAVA',\n",
       "  'A011  '),\n",
       " ('C00024',\n",
       "  'Cook',\n",
       "  'London                             ',\n",
       "  'London',\n",
       "  'UK',\n",
       "  Decimal('2'),\n",
       "  Decimal('4000.00'),\n",
       "  Decimal('9000.00'),\n",
       "  Decimal('7000.00'),\n",
       "  Decimal('6000.00'),\n",
       "  'FSDDSDF',\n",
       "  'A006  '),\n",
       " ('C00015',\n",
       "  'Stuart',\n",
       "  'London                             ',\n",
       "  'London',\n",
       "  'UK',\n",
       "  Decimal('1'),\n",
       "  Decimal('6000.00'),\n",
       "  Decimal('8000.00'),\n",
       "  Decimal('3000.00'),\n",
       "  Decimal('11000.00'),\n",
       "  'GFSGERS',\n",
       "  'A003  '),\n",
       " ('C00002',\n",
       "  'Bolt',\n",
       "  'New York                           ',\n",
       "  'New York',\n",
       "  'USA',\n",
       "  Decimal('3'),\n",
       "  Decimal('5000.00'),\n",
       "  Decimal('7000.00'),\n",
       "  Decimal('9000.00'),\n",
       "  Decimal('3000.00'),\n",
       "  'DDNRDRH',\n",
       "  'A008  '),\n",
       " ('C00018',\n",
       "  'Fleming',\n",
       "  'Brisban                            ',\n",
       "  'Brisban',\n",
       "  'Australia',\n",
       "  Decimal('2'),\n",
       "  Decimal('7000.00'),\n",
       "  Decimal('7000.00'),\n",
       "  Decimal('9000.00'),\n",
       "  Decimal('5000.00'),\n",
       "  'NHBGVFC',\n",
       "  'A005  '),\n",
       " ('C00021',\n",
       "  'Jacks',\n",
       "  'Brisban                            ',\n",
       "  'Brisban',\n",
       "  'Australia',\n",
       "  Decimal('1'),\n",
       "  Decimal('7000.00'),\n",
       "  Decimal('7000.00'),\n",
       "  Decimal('7000.00'),\n",
       "  Decimal('7000.00'),\n",
       "  'WERTGDF',\n",
       "  'A005  '),\n",
       " ('C00019',\n",
       "  'Yearannaidu',\n",
       "  'Chennai                            ',\n",
       "  'Chennai',\n",
       "  'India',\n",
       "  Decimal('1'),\n",
       "  Decimal('8000.00'),\n",
       "  Decimal('7000.00'),\n",
       "  Decimal('7000.00'),\n",
       "  Decimal('8000.00'),\n",
       "  'ZZZZBFV',\n",
       "  'A010  '),\n",
       " ('C00005',\n",
       "  'Sasikant',\n",
       "  'Mumbai                             ',\n",
       "  'Mumbai',\n",
       "  'India',\n",
       "  Decimal('1'),\n",
       "  Decimal('7000.00'),\n",
       "  Decimal('11000.00'),\n",
       "  Decimal('7000.00'),\n",
       "  Decimal('11000.00'),\n",
       "  '147-25896312',\n",
       "  'A002  '),\n",
       " ('C00007',\n",
       "  'Ramanathan',\n",
       "  'Chennai                            ',\n",
       "  'Chennai',\n",
       "  'India',\n",
       "  Decimal('1'),\n",
       "  Decimal('7000.00'),\n",
       "  Decimal('11000.00'),\n",
       "  Decimal('9000.00'),\n",
       "  Decimal('9000.00'),\n",
       "  'GHRDWSD',\n",
       "  'A010  '),\n",
       " ('C00022',\n",
       "  'Avinash',\n",
       "  'Mumbai                             ',\n",
       "  'Mumbai',\n",
       "  'India',\n",
       "  Decimal('2'),\n",
       "  Decimal('7000.00'),\n",
       "  Decimal('11000.00'),\n",
       "  Decimal('9000.00'),\n",
       "  Decimal('9000.00'),\n",
       "  '113-12345678',\n",
       "  'A002  '),\n",
       " ('C00004',\n",
       "  'Winston',\n",
       "  'Brisban                            ',\n",
       "  'Brisban',\n",
       "  'Australia',\n",
       "  Decimal('1'),\n",
       "  Decimal('5000.00'),\n",
       "  Decimal('8000.00'),\n",
       "  Decimal('7000.00'),\n",
       "  Decimal('6000.00'),\n",
       "  'AAAAAAA',\n",
       "  'A005  '),\n",
       " ('C00023',\n",
       "  'Karl',\n",
       "  'London                             ',\n",
       "  'London',\n",
       "  'UK',\n",
       "  Decimal('0'),\n",
       "  Decimal('4000.00'),\n",
       "  Decimal('6000.00'),\n",
       "  Decimal('7000.00'),\n",
       "  Decimal('3000.00'),\n",
       "  'AAAABAA',\n",
       "  'A006  '),\n",
       " ('C00006',\n",
       "  'Shilton',\n",
       "  'Torento                            ',\n",
       "  'Torento',\n",
       "  'Canada',\n",
       "  Decimal('1'),\n",
       "  Decimal('10000.00'),\n",
       "  Decimal('7000.00'),\n",
       "  Decimal('6000.00'),\n",
       "  Decimal('11000.00'),\n",
       "  'DDDDDDD',\n",
       "  'A004  '),\n",
       " ('C00010',\n",
       "  'Charles',\n",
       "  'Hampshair                          ',\n",
       "  'Hampshair',\n",
       "  'UK',\n",
       "  Decimal('3'),\n",
       "  Decimal('6000.00'),\n",
       "  Decimal('4000.00'),\n",
       "  Decimal('5000.00'),\n",
       "  Decimal('5000.00'),\n",
       "  'MMMMMMM',\n",
       "  'A009  '),\n",
       " ('C00017',\n",
       "  'Srinivas',\n",
       "  'Bangalore                          ',\n",
       "  'Bangalore',\n",
       "  'India',\n",
       "  Decimal('2'),\n",
       "  Decimal('8000.00'),\n",
       "  Decimal('4000.00'),\n",
       "  Decimal('3000.00'),\n",
       "  Decimal('9000.00'),\n",
       "  'AAAAAAB',\n",
       "  'A007  '),\n",
       " ('C00012',\n",
       "  'Steven',\n",
       "  'San Jose                           ',\n",
       "  'San Jose',\n",
       "  'USA',\n",
       "  Decimal('1'),\n",
       "  Decimal('5000.00'),\n",
       "  Decimal('7000.00'),\n",
       "  Decimal('9000.00'),\n",
       "  Decimal('3000.00'),\n",
       "  'KRFYGJK',\n",
       "  'A012  '),\n",
       " ('C00008',\n",
       "  'Karolina',\n",
       "  'Torento                            ',\n",
       "  'Torento',\n",
       "  'Canada',\n",
       "  Decimal('1'),\n",
       "  Decimal('7000.00'),\n",
       "  Decimal('7000.00'),\n",
       "  Decimal('9000.00'),\n",
       "  Decimal('5000.00'),\n",
       "  'HJKORED',\n",
       "  'A004  '),\n",
       " ('C00003',\n",
       "  'Martin',\n",
       "  'Torento                            ',\n",
       "  'Torento',\n",
       "  'Canada',\n",
       "  Decimal('2'),\n",
       "  Decimal('8000.00'),\n",
       "  Decimal('7000.00'),\n",
       "  Decimal('7000.00'),\n",
       "  Decimal('8000.00'),\n",
       "  'MJYURFD',\n",
       "  'A004  '),\n",
       " ('C00009',\n",
       "  'Ramesh',\n",
       "  'Mumbai                             ',\n",
       "  'Mumbai',\n",
       "  'India',\n",
       "  Decimal('3'),\n",
       "  Decimal('8000.00'),\n",
       "  Decimal('7000.00'),\n",
       "  Decimal('3000.00'),\n",
       "  Decimal('12000.00'),\n",
       "  'Phone No',\n",
       "  'A002  '),\n",
       " ('C00014',\n",
       "  'Rangarappa',\n",
       "  'Bangalore                          ',\n",
       "  'Bangalore',\n",
       "  'India',\n",
       "  Decimal('2'),\n",
       "  Decimal('8000.00'),\n",
       "  Decimal('11000.00'),\n",
       "  Decimal('7000.00'),\n",
       "  Decimal('12000.00'),\n",
       "  'AAAATGF',\n",
       "  'A001  '),\n",
       " ('C00016',\n",
       "  'Venkatpati',\n",
       "  'Bangalore                          ',\n",
       "  'Bangalore',\n",
       "  'India',\n",
       "  Decimal('2'),\n",
       "  Decimal('8000.00'),\n",
       "  Decimal('11000.00'),\n",
       "  Decimal('7000.00'),\n",
       "  Decimal('12000.00'),\n",
       "  'JRTVFDD',\n",
       "  'A007  '),\n",
       " ('C00011',\n",
       "  'Sundariya',\n",
       "  'Chennai                            ',\n",
       "  'Chennai',\n",
       "  'India',\n",
       "  Decimal('3'),\n",
       "  Decimal('7000.00'),\n",
       "  Decimal('11000.00'),\n",
       "  Decimal('7000.00'),\n",
       "  Decimal('11000.00'),\n",
       "  'PPHGRTS',\n",
       "  'A010  ')]"
      ]
     },
     "execution_count": 5,
     "metadata": {},
     "output_type": "execute_result"
    }
   ],
   "source": [
    "result=cursor.fetchall()\n",
    "result"
   ]
  },
  {
   "cell_type": "code",
   "execution_count": 7,
   "id": "54585e05",
   "metadata": {},
   "outputs": [
    {
     "name": "stderr",
     "output_type": "stream",
     "text": [
      "C:\\Users\\Administrator\\AppData\\Local\\Temp\\ipykernel_2884\\2768871444.py:1: UserWarning: pandas only supports SQLAlchemy connectable (engine/connection) or database string URI or sqlite3 DBAPI2 connection. Other DBAPI2 objects are not tested. Please consider using SQLAlchemy.\n",
      "  df=pd.read_sql('select * from customer',conn)\n"
     ]
    }
   ],
   "source": [
    "df=pd.read_sql('select * from customer',conn)"
   ]
  },
  {
   "cell_type": "code",
   "execution_count": 8,
   "id": "439024c8",
   "metadata": {},
   "outputs": [
    {
     "data": {
      "text/html": [
       "<div>\n",
       "<style scoped>\n",
       "    .dataframe tbody tr th:only-of-type {\n",
       "        vertical-align: middle;\n",
       "    }\n",
       "\n",
       "    .dataframe tbody tr th {\n",
       "        vertical-align: top;\n",
       "    }\n",
       "\n",
       "    .dataframe thead th {\n",
       "        text-align: right;\n",
       "    }\n",
       "</style>\n",
       "<table border=\"1\" class=\"dataframe\">\n",
       "  <thead>\n",
       "    <tr style=\"text-align: right;\">\n",
       "      <th></th>\n",
       "      <th>CUST_CODE</th>\n",
       "      <th>CUST_NAME</th>\n",
       "      <th>CUST_CITY</th>\n",
       "      <th>WORKING_AREA</th>\n",
       "      <th>CUST_COUNTRY</th>\n",
       "      <th>GRADE</th>\n",
       "      <th>OPENING_AMT</th>\n",
       "      <th>RECEIVE_AMT</th>\n",
       "      <th>PAYMENT_AMT</th>\n",
       "      <th>OUTSTANDING_AMT</th>\n",
       "      <th>PHONE_NO</th>\n",
       "      <th>AGENT_CODE</th>\n",
       "    </tr>\n",
       "  </thead>\n",
       "  <tbody>\n",
       "    <tr>\n",
       "      <th>0</th>\n",
       "      <td>C00013</td>\n",
       "      <td>Holmes</td>\n",
       "      <td>London</td>\n",
       "      <td>London</td>\n",
       "      <td>UK</td>\n",
       "      <td>2.0</td>\n",
       "      <td>6000.0</td>\n",
       "      <td>5000.0</td>\n",
       "      <td>7000.0</td>\n",
       "      <td>4000.0</td>\n",
       "      <td>BBBBBBB</td>\n",
       "      <td>A003</td>\n",
       "    </tr>\n",
       "    <tr>\n",
       "      <th>1</th>\n",
       "      <td>C00001</td>\n",
       "      <td>Micheal</td>\n",
       "      <td>New York</td>\n",
       "      <td>New York</td>\n",
       "      <td>USA</td>\n",
       "      <td>2.0</td>\n",
       "      <td>3000.0</td>\n",
       "      <td>5000.0</td>\n",
       "      <td>2000.0</td>\n",
       "      <td>6000.0</td>\n",
       "      <td>CCCCCCC</td>\n",
       "      <td>A008</td>\n",
       "    </tr>\n",
       "    <tr>\n",
       "      <th>2</th>\n",
       "      <td>C00020</td>\n",
       "      <td>Albert</td>\n",
       "      <td>New York</td>\n",
       "      <td>New York</td>\n",
       "      <td>USA</td>\n",
       "      <td>3.0</td>\n",
       "      <td>5000.0</td>\n",
       "      <td>7000.0</td>\n",
       "      <td>6000.0</td>\n",
       "      <td>6000.0</td>\n",
       "      <td>BBBBSBB</td>\n",
       "      <td>A008</td>\n",
       "    </tr>\n",
       "    <tr>\n",
       "      <th>3</th>\n",
       "      <td>C00025</td>\n",
       "      <td>Ravindran</td>\n",
       "      <td>Bangalore</td>\n",
       "      <td>Bangalore</td>\n",
       "      <td>India</td>\n",
       "      <td>2.0</td>\n",
       "      <td>5000.0</td>\n",
       "      <td>7000.0</td>\n",
       "      <td>4000.0</td>\n",
       "      <td>8000.0</td>\n",
       "      <td>AVAVAVA</td>\n",
       "      <td>A011</td>\n",
       "    </tr>\n",
       "    <tr>\n",
       "      <th>4</th>\n",
       "      <td>C00024</td>\n",
       "      <td>Cook</td>\n",
       "      <td>London</td>\n",
       "      <td>London</td>\n",
       "      <td>UK</td>\n",
       "      <td>2.0</td>\n",
       "      <td>4000.0</td>\n",
       "      <td>9000.0</td>\n",
       "      <td>7000.0</td>\n",
       "      <td>6000.0</td>\n",
       "      <td>FSDDSDF</td>\n",
       "      <td>A006</td>\n",
       "    </tr>\n",
       "    <tr>\n",
       "      <th>5</th>\n",
       "      <td>C00015</td>\n",
       "      <td>Stuart</td>\n",
       "      <td>London</td>\n",
       "      <td>London</td>\n",
       "      <td>UK</td>\n",
       "      <td>1.0</td>\n",
       "      <td>6000.0</td>\n",
       "      <td>8000.0</td>\n",
       "      <td>3000.0</td>\n",
       "      <td>11000.0</td>\n",
       "      <td>GFSGERS</td>\n",
       "      <td>A003</td>\n",
       "    </tr>\n",
       "    <tr>\n",
       "      <th>6</th>\n",
       "      <td>C00002</td>\n",
       "      <td>Bolt</td>\n",
       "      <td>New York</td>\n",
       "      <td>New York</td>\n",
       "      <td>USA</td>\n",
       "      <td>3.0</td>\n",
       "      <td>5000.0</td>\n",
       "      <td>7000.0</td>\n",
       "      <td>9000.0</td>\n",
       "      <td>3000.0</td>\n",
       "      <td>DDNRDRH</td>\n",
       "      <td>A008</td>\n",
       "    </tr>\n",
       "    <tr>\n",
       "      <th>7</th>\n",
       "      <td>C00018</td>\n",
       "      <td>Fleming</td>\n",
       "      <td>Brisban</td>\n",
       "      <td>Brisban</td>\n",
       "      <td>Australia</td>\n",
       "      <td>2.0</td>\n",
       "      <td>7000.0</td>\n",
       "      <td>7000.0</td>\n",
       "      <td>9000.0</td>\n",
       "      <td>5000.0</td>\n",
       "      <td>NHBGVFC</td>\n",
       "      <td>A005</td>\n",
       "    </tr>\n",
       "    <tr>\n",
       "      <th>8</th>\n",
       "      <td>C00021</td>\n",
       "      <td>Jacks</td>\n",
       "      <td>Brisban</td>\n",
       "      <td>Brisban</td>\n",
       "      <td>Australia</td>\n",
       "      <td>1.0</td>\n",
       "      <td>7000.0</td>\n",
       "      <td>7000.0</td>\n",
       "      <td>7000.0</td>\n",
       "      <td>7000.0</td>\n",
       "      <td>WERTGDF</td>\n",
       "      <td>A005</td>\n",
       "    </tr>\n",
       "    <tr>\n",
       "      <th>9</th>\n",
       "      <td>C00019</td>\n",
       "      <td>Yearannaidu</td>\n",
       "      <td>Chennai</td>\n",
       "      <td>Chennai</td>\n",
       "      <td>India</td>\n",
       "      <td>1.0</td>\n",
       "      <td>8000.0</td>\n",
       "      <td>7000.0</td>\n",
       "      <td>7000.0</td>\n",
       "      <td>8000.0</td>\n",
       "      <td>ZZZZBFV</td>\n",
       "      <td>A010</td>\n",
       "    </tr>\n",
       "    <tr>\n",
       "      <th>10</th>\n",
       "      <td>C00005</td>\n",
       "      <td>Sasikant</td>\n",
       "      <td>Mumbai</td>\n",
       "      <td>Mumbai</td>\n",
       "      <td>India</td>\n",
       "      <td>1.0</td>\n",
       "      <td>7000.0</td>\n",
       "      <td>11000.0</td>\n",
       "      <td>7000.0</td>\n",
       "      <td>11000.0</td>\n",
       "      <td>147-25896312</td>\n",
       "      <td>A002</td>\n",
       "    </tr>\n",
       "    <tr>\n",
       "      <th>11</th>\n",
       "      <td>C00007</td>\n",
       "      <td>Ramanathan</td>\n",
       "      <td>Chennai</td>\n",
       "      <td>Chennai</td>\n",
       "      <td>India</td>\n",
       "      <td>1.0</td>\n",
       "      <td>7000.0</td>\n",
       "      <td>11000.0</td>\n",
       "      <td>9000.0</td>\n",
       "      <td>9000.0</td>\n",
       "      <td>GHRDWSD</td>\n",
       "      <td>A010</td>\n",
       "    </tr>\n",
       "    <tr>\n",
       "      <th>12</th>\n",
       "      <td>C00022</td>\n",
       "      <td>Avinash</td>\n",
       "      <td>Mumbai</td>\n",
       "      <td>Mumbai</td>\n",
       "      <td>India</td>\n",
       "      <td>2.0</td>\n",
       "      <td>7000.0</td>\n",
       "      <td>11000.0</td>\n",
       "      <td>9000.0</td>\n",
       "      <td>9000.0</td>\n",
       "      <td>113-12345678</td>\n",
       "      <td>A002</td>\n",
       "    </tr>\n",
       "    <tr>\n",
       "      <th>13</th>\n",
       "      <td>C00004</td>\n",
       "      <td>Winston</td>\n",
       "      <td>Brisban</td>\n",
       "      <td>Brisban</td>\n",
       "      <td>Australia</td>\n",
       "      <td>1.0</td>\n",
       "      <td>5000.0</td>\n",
       "      <td>8000.0</td>\n",
       "      <td>7000.0</td>\n",
       "      <td>6000.0</td>\n",
       "      <td>AAAAAAA</td>\n",
       "      <td>A005</td>\n",
       "    </tr>\n",
       "    <tr>\n",
       "      <th>14</th>\n",
       "      <td>C00023</td>\n",
       "      <td>Karl</td>\n",
       "      <td>London</td>\n",
       "      <td>London</td>\n",
       "      <td>UK</td>\n",
       "      <td>0.0</td>\n",
       "      <td>4000.0</td>\n",
       "      <td>6000.0</td>\n",
       "      <td>7000.0</td>\n",
       "      <td>3000.0</td>\n",
       "      <td>AAAABAA</td>\n",
       "      <td>A006</td>\n",
       "    </tr>\n",
       "    <tr>\n",
       "      <th>15</th>\n",
       "      <td>C00006</td>\n",
       "      <td>Shilton</td>\n",
       "      <td>Torento</td>\n",
       "      <td>Torento</td>\n",
       "      <td>Canada</td>\n",
       "      <td>1.0</td>\n",
       "      <td>10000.0</td>\n",
       "      <td>7000.0</td>\n",
       "      <td>6000.0</td>\n",
       "      <td>11000.0</td>\n",
       "      <td>DDDDDDD</td>\n",
       "      <td>A004</td>\n",
       "    </tr>\n",
       "    <tr>\n",
       "      <th>16</th>\n",
       "      <td>C00010</td>\n",
       "      <td>Charles</td>\n",
       "      <td>Hampshair</td>\n",
       "      <td>Hampshair</td>\n",
       "      <td>UK</td>\n",
       "      <td>3.0</td>\n",
       "      <td>6000.0</td>\n",
       "      <td>4000.0</td>\n",
       "      <td>5000.0</td>\n",
       "      <td>5000.0</td>\n",
       "      <td>MMMMMMM</td>\n",
       "      <td>A009</td>\n",
       "    </tr>\n",
       "    <tr>\n",
       "      <th>17</th>\n",
       "      <td>C00017</td>\n",
       "      <td>Srinivas</td>\n",
       "      <td>Bangalore</td>\n",
       "      <td>Bangalore</td>\n",
       "      <td>India</td>\n",
       "      <td>2.0</td>\n",
       "      <td>8000.0</td>\n",
       "      <td>4000.0</td>\n",
       "      <td>3000.0</td>\n",
       "      <td>9000.0</td>\n",
       "      <td>AAAAAAB</td>\n",
       "      <td>A007</td>\n",
       "    </tr>\n",
       "    <tr>\n",
       "      <th>18</th>\n",
       "      <td>C00012</td>\n",
       "      <td>Steven</td>\n",
       "      <td>San Jose</td>\n",
       "      <td>San Jose</td>\n",
       "      <td>USA</td>\n",
       "      <td>1.0</td>\n",
       "      <td>5000.0</td>\n",
       "      <td>7000.0</td>\n",
       "      <td>9000.0</td>\n",
       "      <td>3000.0</td>\n",
       "      <td>KRFYGJK</td>\n",
       "      <td>A012</td>\n",
       "    </tr>\n",
       "    <tr>\n",
       "      <th>19</th>\n",
       "      <td>C00008</td>\n",
       "      <td>Karolina</td>\n",
       "      <td>Torento</td>\n",
       "      <td>Torento</td>\n",
       "      <td>Canada</td>\n",
       "      <td>1.0</td>\n",
       "      <td>7000.0</td>\n",
       "      <td>7000.0</td>\n",
       "      <td>9000.0</td>\n",
       "      <td>5000.0</td>\n",
       "      <td>HJKORED</td>\n",
       "      <td>A004</td>\n",
       "    </tr>\n",
       "    <tr>\n",
       "      <th>20</th>\n",
       "      <td>C00003</td>\n",
       "      <td>Martin</td>\n",
       "      <td>Torento</td>\n",
       "      <td>Torento</td>\n",
       "      <td>Canada</td>\n",
       "      <td>2.0</td>\n",
       "      <td>8000.0</td>\n",
       "      <td>7000.0</td>\n",
       "      <td>7000.0</td>\n",
       "      <td>8000.0</td>\n",
       "      <td>MJYURFD</td>\n",
       "      <td>A004</td>\n",
       "    </tr>\n",
       "    <tr>\n",
       "      <th>21</th>\n",
       "      <td>C00009</td>\n",
       "      <td>Ramesh</td>\n",
       "      <td>Mumbai</td>\n",
       "      <td>Mumbai</td>\n",
       "      <td>India</td>\n",
       "      <td>3.0</td>\n",
       "      <td>8000.0</td>\n",
       "      <td>7000.0</td>\n",
       "      <td>3000.0</td>\n",
       "      <td>12000.0</td>\n",
       "      <td>Phone No</td>\n",
       "      <td>A002</td>\n",
       "    </tr>\n",
       "    <tr>\n",
       "      <th>22</th>\n",
       "      <td>C00014</td>\n",
       "      <td>Rangarappa</td>\n",
       "      <td>Bangalore</td>\n",
       "      <td>Bangalore</td>\n",
       "      <td>India</td>\n",
       "      <td>2.0</td>\n",
       "      <td>8000.0</td>\n",
       "      <td>11000.0</td>\n",
       "      <td>7000.0</td>\n",
       "      <td>12000.0</td>\n",
       "      <td>AAAATGF</td>\n",
       "      <td>A001</td>\n",
       "    </tr>\n",
       "    <tr>\n",
       "      <th>23</th>\n",
       "      <td>C00016</td>\n",
       "      <td>Venkatpati</td>\n",
       "      <td>Bangalore</td>\n",
       "      <td>Bangalore</td>\n",
       "      <td>India</td>\n",
       "      <td>2.0</td>\n",
       "      <td>8000.0</td>\n",
       "      <td>11000.0</td>\n",
       "      <td>7000.0</td>\n",
       "      <td>12000.0</td>\n",
       "      <td>JRTVFDD</td>\n",
       "      <td>A007</td>\n",
       "    </tr>\n",
       "    <tr>\n",
       "      <th>24</th>\n",
       "      <td>C00011</td>\n",
       "      <td>Sundariya</td>\n",
       "      <td>Chennai</td>\n",
       "      <td>Chennai</td>\n",
       "      <td>India</td>\n",
       "      <td>3.0</td>\n",
       "      <td>7000.0</td>\n",
       "      <td>11000.0</td>\n",
       "      <td>7000.0</td>\n",
       "      <td>11000.0</td>\n",
       "      <td>PPHGRTS</td>\n",
       "      <td>A010</td>\n",
       "    </tr>\n",
       "  </tbody>\n",
       "</table>\n",
       "</div>"
      ],
      "text/plain": [
       "   CUST_CODE    CUST_NAME                            CUST_CITY WORKING_AREA  \\\n",
       "0     C00013       Holmes  London                                    London   \n",
       "1     C00001      Micheal  New York                                New York   \n",
       "2     C00020       Albert  New York                                New York   \n",
       "3     C00025    Ravindran  Bangalore                              Bangalore   \n",
       "4     C00024         Cook  London                                    London   \n",
       "5     C00015       Stuart  London                                    London   \n",
       "6     C00002         Bolt  New York                                New York   \n",
       "7     C00018      Fleming  Brisban                                  Brisban   \n",
       "8     C00021        Jacks  Brisban                                  Brisban   \n",
       "9     C00019  Yearannaidu  Chennai                                  Chennai   \n",
       "10    C00005     Sasikant  Mumbai                                    Mumbai   \n",
       "11    C00007   Ramanathan  Chennai                                  Chennai   \n",
       "12    C00022      Avinash  Mumbai                                    Mumbai   \n",
       "13    C00004      Winston  Brisban                                  Brisban   \n",
       "14    C00023         Karl  London                                    London   \n",
       "15    C00006      Shilton  Torento                                  Torento   \n",
       "16    C00010      Charles  Hampshair                              Hampshair   \n",
       "17    C00017     Srinivas  Bangalore                              Bangalore   \n",
       "18    C00012       Steven  San Jose                                San Jose   \n",
       "19    C00008     Karolina  Torento                                  Torento   \n",
       "20    C00003       Martin  Torento                                  Torento   \n",
       "21    C00009       Ramesh  Mumbai                                    Mumbai   \n",
       "22    C00014   Rangarappa  Bangalore                              Bangalore   \n",
       "23    C00016   Venkatpati  Bangalore                              Bangalore   \n",
       "24    C00011    Sundariya  Chennai                                  Chennai   \n",
       "\n",
       "   CUST_COUNTRY  GRADE  OPENING_AMT  RECEIVE_AMT  PAYMENT_AMT  \\\n",
       "0            UK    2.0       6000.0       5000.0       7000.0   \n",
       "1           USA    2.0       3000.0       5000.0       2000.0   \n",
       "2           USA    3.0       5000.0       7000.0       6000.0   \n",
       "3         India    2.0       5000.0       7000.0       4000.0   \n",
       "4            UK    2.0       4000.0       9000.0       7000.0   \n",
       "5            UK    1.0       6000.0       8000.0       3000.0   \n",
       "6           USA    3.0       5000.0       7000.0       9000.0   \n",
       "7     Australia    2.0       7000.0       7000.0       9000.0   \n",
       "8     Australia    1.0       7000.0       7000.0       7000.0   \n",
       "9         India    1.0       8000.0       7000.0       7000.0   \n",
       "10        India    1.0       7000.0      11000.0       7000.0   \n",
       "11        India    1.0       7000.0      11000.0       9000.0   \n",
       "12        India    2.0       7000.0      11000.0       9000.0   \n",
       "13    Australia    1.0       5000.0       8000.0       7000.0   \n",
       "14           UK    0.0       4000.0       6000.0       7000.0   \n",
       "15       Canada    1.0      10000.0       7000.0       6000.0   \n",
       "16           UK    3.0       6000.0       4000.0       5000.0   \n",
       "17        India    2.0       8000.0       4000.0       3000.0   \n",
       "18          USA    1.0       5000.0       7000.0       9000.0   \n",
       "19       Canada    1.0       7000.0       7000.0       9000.0   \n",
       "20       Canada    2.0       8000.0       7000.0       7000.0   \n",
       "21        India    3.0       8000.0       7000.0       3000.0   \n",
       "22        India    2.0       8000.0      11000.0       7000.0   \n",
       "23        India    2.0       8000.0      11000.0       7000.0   \n",
       "24        India    3.0       7000.0      11000.0       7000.0   \n",
       "\n",
       "    OUTSTANDING_AMT      PHONE_NO AGENT_CODE  \n",
       "0            4000.0       BBBBBBB     A003    \n",
       "1            6000.0       CCCCCCC     A008    \n",
       "2            6000.0       BBBBSBB     A008    \n",
       "3            8000.0       AVAVAVA     A011    \n",
       "4            6000.0       FSDDSDF     A006    \n",
       "5           11000.0       GFSGERS     A003    \n",
       "6            3000.0       DDNRDRH     A008    \n",
       "7            5000.0       NHBGVFC     A005    \n",
       "8            7000.0       WERTGDF     A005    \n",
       "9            8000.0       ZZZZBFV     A010    \n",
       "10          11000.0  147-25896312     A002    \n",
       "11           9000.0       GHRDWSD     A010    \n",
       "12           9000.0  113-12345678     A002    \n",
       "13           6000.0       AAAAAAA     A005    \n",
       "14           3000.0       AAAABAA     A006    \n",
       "15          11000.0       DDDDDDD     A004    \n",
       "16           5000.0       MMMMMMM     A009    \n",
       "17           9000.0       AAAAAAB     A007    \n",
       "18           3000.0       KRFYGJK     A012    \n",
       "19           5000.0       HJKORED     A004    \n",
       "20           8000.0       MJYURFD     A004    \n",
       "21          12000.0      Phone No     A002    \n",
       "22          12000.0       AAAATGF     A001    \n",
       "23          12000.0       JRTVFDD     A007    \n",
       "24          11000.0       PPHGRTS     A010    "
      ]
     },
     "execution_count": 8,
     "metadata": {},
     "output_type": "execute_result"
    }
   ],
   "source": [
    "df"
   ]
  },
  {
   "cell_type": "code",
   "execution_count": 27,
   "id": "b542eb36",
   "metadata": {},
   "outputs": [],
   "source": [
    "cursor.execute('select max(payment_amt) from customer')"
   ]
  },
  {
   "cell_type": "code",
   "execution_count": 28,
   "id": "c37c2a45",
   "metadata": {},
   "outputs": [],
   "source": [
    "max_p=float(cursor.fetchall()[0][0])"
   ]
  },
  {
   "cell_type": "code",
   "execution_count": 29,
   "id": "0f75af82",
   "metadata": {},
   "outputs": [
    {
     "data": {
      "text/plain": [
       "9000.0"
      ]
     },
     "execution_count": 29,
     "metadata": {},
     "output_type": "execute_result"
    }
   ],
   "source": [
    "max_p"
   ]
  },
  {
   "cell_type": "code",
   "execution_count": 57,
   "id": "df56c268",
   "metadata": {},
   "outputs": [],
   "source": [
    "conn2=mysql.connector.connect(user='root',password='12  34',host='127.0.0.1')\n"
   ]
  },
  {
   "cell_type": "code",
   "execution_count": 58,
   "id": "9c90fb6d",
   "metadata": {},
   "outputs": [],
   "source": [
    "cursor=conn2.cursor()"
   ]
  },
  {
   "cell_type": "code",
   "execution_count": 59,
   "id": "de14f16d",
   "metadata": {},
   "outputs": [],
   "source": [
    "cursor.execute('create database if not exists t_db')"
   ]
  },
  {
   "cell_type": "code",
   "execution_count": 62,
   "id": "d3208e95",
   "metadata": {},
   "outputs": [],
   "source": [
    "conn2=mysql.connector.connect(user='root',password='12  34',host='127.0.0.1',database='t_db')\n",
    "cursor=conn2.cursor()"
   ]
  },
  {
   "cell_type": "code",
   "execution_count": 64,
   "id": "b2b59ab7",
   "metadata": {},
   "outputs": [],
   "source": [
    "cursor.execute('create table  test_table(id int unique primary key,name varchar(60),country varchar(60))')"
   ]
  },
  {
   "cell_type": "code",
   "execution_count": 65,
   "id": "544b7801",
   "metadata": {},
   "outputs": [],
   "source": [
    "cursor.execute('insert into test_table values(1,\"mm\",\"egypt\")')"
   ]
  },
  {
   "cell_type": "code",
   "execution_count": 66,
   "id": "9fd84d6a",
   "metadata": {},
   "outputs": [],
   "source": [
    "conn2.commit()"
   ]
  },
  {
   "cell_type": "code",
   "execution_count": 67,
   "id": "d1141df1",
   "metadata": {},
   "outputs": [],
   "source": [
    "cursor.execute('select * from test_table')"
   ]
  },
  {
   "cell_type": "code",
   "execution_count": 68,
   "id": "796c6dd9",
   "metadata": {},
   "outputs": [
    {
     "data": {
      "text/plain": [
       "[(1, 'mm', 'egypt')]"
      ]
     },
     "execution_count": 68,
     "metadata": {},
     "output_type": "execute_result"
    }
   ],
   "source": [
    "cursor.fetchall()"
   ]
  },
  {
   "cell_type": "code",
   "execution_count": 77,
   "id": "c9129874",
   "metadata": {},
   "outputs": [],
   "source": [
    "cursor.execute('insert into test_table values (2,\"mg\",\"egy\")')"
   ]
  },
  {
   "cell_type": "code",
   "execution_count": 78,
   "id": "7c711be8",
   "metadata": {},
   "outputs": [],
   "source": [
    "cursor.execute('select * from test_table')"
   ]
  },
  {
   "cell_type": "code",
   "execution_count": 79,
   "id": "1850f77b",
   "metadata": {},
   "outputs": [
    {
     "data": {
      "text/plain": [
       "[(1, 'mm', 'egypt'), (2, 'mg', 'egy')]"
      ]
     },
     "execution_count": 79,
     "metadata": {},
     "output_type": "execute_result"
    }
   ],
   "source": [
    "cursor.fetchall()"
   ]
  },
  {
   "cell_type": "code",
   "execution_count": 85,
   "id": "43e8a8c8",
   "metadata": {},
   "outputs": [],
   "source": [
    "v_id=5\n",
    "v_name='mo'\n",
    "v_country='er'\n",
    "cursor.execute(\"insert into test_table values(%s,%s,%s)\",(v_id,v_name,v_country))"
   ]
  },
  {
   "cell_type": "code",
   "execution_count": 86,
   "id": "b01568d5",
   "metadata": {},
   "outputs": [],
   "source": [
    "conn2.commit()"
   ]
  },
  {
   "cell_type": "code",
   "execution_count": 87,
   "id": "cbbffbba",
   "metadata": {},
   "outputs": [],
   "source": [
    "conn2.close()"
   ]
  },
  {
   "cell_type": "code",
   "execution_count": 88,
   "id": "9f3632c5",
   "metadata": {},
   "outputs": [],
   "source": [
    "conn.close()"
   ]
  },
  {
   "cell_type": "code",
   "execution_count": 89,
   "id": "4f16bfff",
   "metadata": {},
   "outputs": [],
   "source": [
    "\n",
    "df=pd.read_csv('details.csv')"
   ]
  },
  {
   "cell_type": "code",
   "execution_count": 90,
   "id": "3e9f416c",
   "metadata": {},
   "outputs": [
    {
     "data": {
      "text/html": [
       "<div>\n",
       "<style scoped>\n",
       "    .dataframe tbody tr th:only-of-type {\n",
       "        vertical-align: middle;\n",
       "    }\n",
       "\n",
       "    .dataframe tbody tr th {\n",
       "        vertical-align: top;\n",
       "    }\n",
       "\n",
       "    .dataframe thead th {\n",
       "        text-align: right;\n",
       "    }\n",
       "</style>\n",
       "<table border=\"1\" class=\"dataframe\">\n",
       "  <thead>\n",
       "    <tr style=\"text-align: right;\">\n",
       "      <th></th>\n",
       "      <th>name</th>\n",
       "      <th>email</th>\n",
       "      <th>gender</th>\n",
       "      <th>status</th>\n",
       "    </tr>\n",
       "  </thead>\n",
       "  <tbody>\n",
       "    <tr>\n",
       "      <th>0</th>\n",
       "      <td>Chandra Abbott</td>\n",
       "      <td>chandra_abbott@farrell.test</td>\n",
       "      <td>female</td>\n",
       "      <td>0</td>\n",
       "    </tr>\n",
       "    <tr>\n",
       "      <th>1</th>\n",
       "      <td>Pres. Siddhran Bhat</td>\n",
       "      <td>pres_siddhran_bhat@carroll-jerde.example</td>\n",
       "      <td>female</td>\n",
       "      <td>0</td>\n",
       "    </tr>\n",
       "    <tr>\n",
       "      <th>2</th>\n",
       "      <td>Rajinder Menon</td>\n",
       "      <td>menon_rajinder@marquardt.test</td>\n",
       "      <td>male</td>\n",
       "      <td>0</td>\n",
       "    </tr>\n",
       "    <tr>\n",
       "      <th>3</th>\n",
       "      <td>Acharyasuta Khan</td>\n",
       "      <td>khan_acharyasuta@schmidt.test</td>\n",
       "      <td>female</td>\n",
       "      <td>0</td>\n",
       "    </tr>\n",
       "    <tr>\n",
       "      <th>4</th>\n",
       "      <td>Gov. Arnesh Arora</td>\n",
       "      <td>arora_arnesh_gov@metz.example</td>\n",
       "      <td>female</td>\n",
       "      <td>1</td>\n",
       "    </tr>\n",
       "    <tr>\n",
       "      <th>5</th>\n",
       "      <td>Aatmaja Mahajan</td>\n",
       "      <td>aatmaja_mahajan@yost.example</td>\n",
       "      <td>female</td>\n",
       "      <td>1</td>\n",
       "    </tr>\n",
       "    <tr>\n",
       "      <th>6</th>\n",
       "      <td>Aasa Pandey</td>\n",
       "      <td>pandey_aasa@bins.test</td>\n",
       "      <td>female</td>\n",
       "      <td>0</td>\n",
       "    </tr>\n",
       "    <tr>\n",
       "      <th>7</th>\n",
       "      <td>Charuchandra Desai</td>\n",
       "      <td>desai_charuchandra@kreiger.test</td>\n",
       "      <td>male</td>\n",
       "      <td>1</td>\n",
       "    </tr>\n",
       "    <tr>\n",
       "      <th>8</th>\n",
       "      <td>Devajyoti Bandopadhyay</td>\n",
       "      <td>devajyoti_bandopadhyay@mcglynn.example</td>\n",
       "      <td>male</td>\n",
       "      <td>1</td>\n",
       "    </tr>\n",
       "    <tr>\n",
       "      <th>9</th>\n",
       "      <td>Jagmeet Varrier</td>\n",
       "      <td>varrier_jagmeet@mayert.test</td>\n",
       "      <td>female</td>\n",
       "      <td>0</td>\n",
       "    </tr>\n",
       "  </tbody>\n",
       "</table>\n",
       "</div>"
      ],
      "text/plain": [
       "                     name                                     email  gender  \\\n",
       "0          Chandra Abbott               chandra_abbott@farrell.test  female   \n",
       "1     Pres. Siddhran Bhat  pres_siddhran_bhat@carroll-jerde.example  female   \n",
       "2          Rajinder Menon             menon_rajinder@marquardt.test    male   \n",
       "3        Acharyasuta Khan             khan_acharyasuta@schmidt.test  female   \n",
       "4       Gov. Arnesh Arora             arora_arnesh_gov@metz.example  female   \n",
       "5         Aatmaja Mahajan              aatmaja_mahajan@yost.example  female   \n",
       "6             Aasa Pandey                     pandey_aasa@bins.test  female   \n",
       "7      Charuchandra Desai           desai_charuchandra@kreiger.test    male   \n",
       "8  Devajyoti Bandopadhyay    devajyoti_bandopadhyay@mcglynn.example    male   \n",
       "9         Jagmeet Varrier               varrier_jagmeet@mayert.test  female   \n",
       "\n",
       "   status  \n",
       "0       0  \n",
       "1       0  \n",
       "2       0  \n",
       "3       0  \n",
       "4       1  \n",
       "5       1  \n",
       "6       0  \n",
       "7       1  \n",
       "8       1  \n",
       "9       0  "
      ]
     },
     "execution_count": 90,
     "metadata": {},
     "output_type": "execute_result"
    }
   ],
   "source": [
    "df"
   ]
  },
  {
   "cell_type": "code",
   "execution_count": 91,
   "id": "85c963c4",
   "metadata": {},
   "outputs": [
    {
     "name": "stdout",
     "output_type": "stream",
     "text": [
      "name\n",
      "email\n",
      "gender\n",
      "status\n"
     ]
    }
   ],
   "source": [
    "for r in df:\n",
    "    print(r)"
   ]
  },
  {
   "cell_type": "code",
   "execution_count": 92,
   "id": "9c269894",
   "metadata": {},
   "outputs": [
    {
     "data": {
      "text/plain": [
       "Index(['name', 'email', 'gender', 'status'], dtype='object')"
      ]
     },
     "execution_count": 92,
     "metadata": {},
     "output_type": "execute_result"
    }
   ],
   "source": [
    "df.columns"
   ]
  },
  {
   "cell_type": "code",
   "execution_count": 101,
   "id": "de56b8ba",
   "metadata": {},
   "outputs": [
    {
     "name": "stdout",
     "output_type": "stream",
     "text": [
      "['Chandra Abbott' 'chandra_abbott@farrell.test' 'female' 0]\n",
      "['Pres. Siddhran Bhat' 'pres_siddhran_bhat@carroll-jerde.example' 'female'\n",
      " 0]\n",
      "['Rajinder Menon' 'menon_rajinder@marquardt.test' 'male' 0]\n",
      "['Acharyasuta Khan' 'khan_acharyasuta@schmidt.test' 'female' 0]\n",
      "['Gov. Arnesh Arora' 'arora_arnesh_gov@metz.example' 'female' 1]\n",
      "['Aatmaja Mahajan' 'aatmaja_mahajan@yost.example' 'female' 1]\n",
      "['Aasa Pandey' 'pandey_aasa@bins.test' 'female' 0]\n",
      "['Charuchandra Desai' 'desai_charuchandra@kreiger.test' 'male' 1]\n",
      "['Devajyoti Bandopadhyay' 'devajyoti_bandopadhyay@mcglynn.example' 'male'\n",
      " 1]\n",
      "['Jagmeet Varrier' 'varrier_jagmeet@mayert.test' 'female' 0]\n"
     ]
    }
   ],
   "source": [
    "for r in df.values:\n",
    "    print(r)"
   ]
  },
  {
   "cell_type": "code",
   "execution_count": 96,
   "id": "d95157f2",
   "metadata": {},
   "outputs": [],
   "source": [
    "conn3=mysql.connector.connect(host='127.0.0.1',user='root',password='12  34',database='t_db')"
   ]
  },
  {
   "cell_type": "code",
   "execution_count": 97,
   "id": "e6fde029",
   "metadata": {},
   "outputs": [],
   "source": [
    "cursor=conn3.cursor()"
   ]
  },
  {
   "cell_type": "code",
   "execution_count": 98,
   "id": "59e6624a",
   "metadata": {},
   "outputs": [],
   "source": [
    "cursor.execute('create table users (name varchar(200),email varchar(200),gender varchar(100),status bool)')"
   ]
  },
  {
   "cell_type": "code",
   "execution_count": 102,
   "id": "bc078d7e",
   "metadata": {},
   "outputs": [],
   "source": [
    "for r in df.values:\n",
    "    cursor.execute('insert into users values (%s,%s,%s,%s)',list(r))"
   ]
  },
  {
   "cell_type": "code",
   "execution_count": 103,
   "id": "b5098726",
   "metadata": {},
   "outputs": [],
   "source": [
    "conn3.commit()"
   ]
  },
  {
   "cell_type": "code",
   "execution_count": 104,
   "id": "8e9a5191",
   "metadata": {},
   "outputs": [],
   "source": [
    "cursor.execute('update users set  status=0 where name=\"Aatmaja Mahajan\" ')"
   ]
  },
  {
   "cell_type": "code",
   "execution_count": 105,
   "id": "6003d167",
   "metadata": {},
   "outputs": [],
   "source": [
    "conn3.commit()"
   ]
  },
  {
   "cell_type": "code",
   "execution_count": 106,
   "id": "f6dc3d5b",
   "metadata": {},
   "outputs": [],
   "source": [
    "cursor.execute('update users set  status=%s where name=\"Aatmaja Mahajan\" ',[1])"
   ]
  },
  {
   "cell_type": "code",
   "execution_count": 107,
   "id": "a3650f0d",
   "metadata": {},
   "outputs": [],
   "source": [
    "conn3.commit()"
   ]
  },
  {
   "cell_type": "code",
   "execution_count": 108,
   "id": "4f9702f0",
   "metadata": {},
   "outputs": [],
   "source": [
    "cursor.execute('delete from users where name= \"Aatmaja Mahajan\"')"
   ]
  },
  {
   "cell_type": "code",
   "execution_count": 109,
   "id": "e0e01a93",
   "metadata": {},
   "outputs": [],
   "source": [
    "conn3.commit()"
   ]
  },
  {
   "cell_type": "code",
   "execution_count": 110,
   "id": "88e098f7",
   "metadata": {},
   "outputs": [],
   "source": [
    "conn3.close()"
   ]
  },
  {
   "cell_type": "code",
   "execution_count": 111,
   "id": "3716fb0d",
   "metadata": {},
   "outputs": [],
   "source": [
    "conn4=mysql.connector.connect(host='127.0.0.1',user='root',password='12  34',database='db')\n",
    "cursor=conn4.cursor()"
   ]
  },
  {
   "cell_type": "code",
   "execution_count": 112,
   "id": "b14f0479",
   "metadata": {},
   "outputs": [
    {
     "name": "stderr",
     "output_type": "stream",
     "text": [
      "C:\\Users\\Administrator\\AppData\\Local\\Temp\\ipykernel_2884\\889401503.py:1: UserWarning: pandas only supports SQLAlchemy connectable (engine/connection) or database string URI or sqlite3 DBAPI2 connection. Other DBAPI2 objects are not tested. Please consider using SQLAlchemy.\n",
      "  df=pd.read_sql('select * from customer',conn4)\n"
     ]
    },
    {
     "data": {
      "text/html": [
       "<div>\n",
       "<style scoped>\n",
       "    .dataframe tbody tr th:only-of-type {\n",
       "        vertical-align: middle;\n",
       "    }\n",
       "\n",
       "    .dataframe tbody tr th {\n",
       "        vertical-align: top;\n",
       "    }\n",
       "\n",
       "    .dataframe thead th {\n",
       "        text-align: right;\n",
       "    }\n",
       "</style>\n",
       "<table border=\"1\" class=\"dataframe\">\n",
       "  <thead>\n",
       "    <tr style=\"text-align: right;\">\n",
       "      <th></th>\n",
       "      <th>CUST_CODE</th>\n",
       "      <th>CUST_NAME</th>\n",
       "      <th>CUST_CITY</th>\n",
       "      <th>WORKING_AREA</th>\n",
       "      <th>CUST_COUNTRY</th>\n",
       "      <th>GRADE</th>\n",
       "      <th>OPENING_AMT</th>\n",
       "      <th>RECEIVE_AMT</th>\n",
       "      <th>PAYMENT_AMT</th>\n",
       "      <th>OUTSTANDING_AMT</th>\n",
       "      <th>PHONE_NO</th>\n",
       "      <th>AGENT_CODE</th>\n",
       "    </tr>\n",
       "  </thead>\n",
       "  <tbody>\n",
       "    <tr>\n",
       "      <th>0</th>\n",
       "      <td>C00013</td>\n",
       "      <td>Holmes</td>\n",
       "      <td>London</td>\n",
       "      <td>London</td>\n",
       "      <td>UK</td>\n",
       "      <td>2.0</td>\n",
       "      <td>6000.0</td>\n",
       "      <td>5000.0</td>\n",
       "      <td>7000.0</td>\n",
       "      <td>4000.0</td>\n",
       "      <td>BBBBBBB</td>\n",
       "      <td>A003</td>\n",
       "    </tr>\n",
       "    <tr>\n",
       "      <th>1</th>\n",
       "      <td>C00001</td>\n",
       "      <td>Micheal</td>\n",
       "      <td>New York</td>\n",
       "      <td>New York</td>\n",
       "      <td>USA</td>\n",
       "      <td>2.0</td>\n",
       "      <td>3000.0</td>\n",
       "      <td>5000.0</td>\n",
       "      <td>2000.0</td>\n",
       "      <td>6000.0</td>\n",
       "      <td>CCCCCCC</td>\n",
       "      <td>A008</td>\n",
       "    </tr>\n",
       "    <tr>\n",
       "      <th>2</th>\n",
       "      <td>C00020</td>\n",
       "      <td>Albert</td>\n",
       "      <td>New York</td>\n",
       "      <td>New York</td>\n",
       "      <td>USA</td>\n",
       "      <td>3.0</td>\n",
       "      <td>5000.0</td>\n",
       "      <td>7000.0</td>\n",
       "      <td>6000.0</td>\n",
       "      <td>6000.0</td>\n",
       "      <td>BBBBSBB</td>\n",
       "      <td>A008</td>\n",
       "    </tr>\n",
       "    <tr>\n",
       "      <th>3</th>\n",
       "      <td>C00025</td>\n",
       "      <td>Ravindran</td>\n",
       "      <td>Bangalore</td>\n",
       "      <td>Bangalore</td>\n",
       "      <td>India</td>\n",
       "      <td>2.0</td>\n",
       "      <td>5000.0</td>\n",
       "      <td>7000.0</td>\n",
       "      <td>4000.0</td>\n",
       "      <td>8000.0</td>\n",
       "      <td>AVAVAVA</td>\n",
       "      <td>A011</td>\n",
       "    </tr>\n",
       "    <tr>\n",
       "      <th>4</th>\n",
       "      <td>C00024</td>\n",
       "      <td>Cook</td>\n",
       "      <td>London</td>\n",
       "      <td>London</td>\n",
       "      <td>UK</td>\n",
       "      <td>2.0</td>\n",
       "      <td>4000.0</td>\n",
       "      <td>9000.0</td>\n",
       "      <td>7000.0</td>\n",
       "      <td>6000.0</td>\n",
       "      <td>FSDDSDF</td>\n",
       "      <td>A006</td>\n",
       "    </tr>\n",
       "    <tr>\n",
       "      <th>5</th>\n",
       "      <td>C00015</td>\n",
       "      <td>Stuart</td>\n",
       "      <td>London</td>\n",
       "      <td>London</td>\n",
       "      <td>UK</td>\n",
       "      <td>1.0</td>\n",
       "      <td>6000.0</td>\n",
       "      <td>8000.0</td>\n",
       "      <td>3000.0</td>\n",
       "      <td>11000.0</td>\n",
       "      <td>GFSGERS</td>\n",
       "      <td>A003</td>\n",
       "    </tr>\n",
       "    <tr>\n",
       "      <th>6</th>\n",
       "      <td>C00002</td>\n",
       "      <td>Bolt</td>\n",
       "      <td>New York</td>\n",
       "      <td>New York</td>\n",
       "      <td>USA</td>\n",
       "      <td>3.0</td>\n",
       "      <td>5000.0</td>\n",
       "      <td>7000.0</td>\n",
       "      <td>9000.0</td>\n",
       "      <td>3000.0</td>\n",
       "      <td>DDNRDRH</td>\n",
       "      <td>A008</td>\n",
       "    </tr>\n",
       "    <tr>\n",
       "      <th>7</th>\n",
       "      <td>C00018</td>\n",
       "      <td>Fleming</td>\n",
       "      <td>Brisban</td>\n",
       "      <td>Brisban</td>\n",
       "      <td>Australia</td>\n",
       "      <td>2.0</td>\n",
       "      <td>7000.0</td>\n",
       "      <td>7000.0</td>\n",
       "      <td>9000.0</td>\n",
       "      <td>5000.0</td>\n",
       "      <td>NHBGVFC</td>\n",
       "      <td>A005</td>\n",
       "    </tr>\n",
       "    <tr>\n",
       "      <th>8</th>\n",
       "      <td>C00021</td>\n",
       "      <td>Jacks</td>\n",
       "      <td>Brisban</td>\n",
       "      <td>Brisban</td>\n",
       "      <td>Australia</td>\n",
       "      <td>1.0</td>\n",
       "      <td>7000.0</td>\n",
       "      <td>7000.0</td>\n",
       "      <td>7000.0</td>\n",
       "      <td>7000.0</td>\n",
       "      <td>WERTGDF</td>\n",
       "      <td>A005</td>\n",
       "    </tr>\n",
       "    <tr>\n",
       "      <th>9</th>\n",
       "      <td>C00019</td>\n",
       "      <td>Yearannaidu</td>\n",
       "      <td>Chennai</td>\n",
       "      <td>Chennai</td>\n",
       "      <td>India</td>\n",
       "      <td>1.0</td>\n",
       "      <td>8000.0</td>\n",
       "      <td>7000.0</td>\n",
       "      <td>7000.0</td>\n",
       "      <td>8000.0</td>\n",
       "      <td>ZZZZBFV</td>\n",
       "      <td>A010</td>\n",
       "    </tr>\n",
       "    <tr>\n",
       "      <th>10</th>\n",
       "      <td>C00005</td>\n",
       "      <td>Sasikant</td>\n",
       "      <td>Mumbai</td>\n",
       "      <td>Mumbai</td>\n",
       "      <td>India</td>\n",
       "      <td>1.0</td>\n",
       "      <td>7000.0</td>\n",
       "      <td>11000.0</td>\n",
       "      <td>7000.0</td>\n",
       "      <td>11000.0</td>\n",
       "      <td>147-25896312</td>\n",
       "      <td>A002</td>\n",
       "    </tr>\n",
       "    <tr>\n",
       "      <th>11</th>\n",
       "      <td>C00007</td>\n",
       "      <td>Ramanathan</td>\n",
       "      <td>Chennai</td>\n",
       "      <td>Chennai</td>\n",
       "      <td>India</td>\n",
       "      <td>1.0</td>\n",
       "      <td>7000.0</td>\n",
       "      <td>11000.0</td>\n",
       "      <td>9000.0</td>\n",
       "      <td>9000.0</td>\n",
       "      <td>GHRDWSD</td>\n",
       "      <td>A010</td>\n",
       "    </tr>\n",
       "    <tr>\n",
       "      <th>12</th>\n",
       "      <td>C00022</td>\n",
       "      <td>Avinash</td>\n",
       "      <td>Mumbai</td>\n",
       "      <td>Mumbai</td>\n",
       "      <td>India</td>\n",
       "      <td>2.0</td>\n",
       "      <td>7000.0</td>\n",
       "      <td>11000.0</td>\n",
       "      <td>9000.0</td>\n",
       "      <td>9000.0</td>\n",
       "      <td>113-12345678</td>\n",
       "      <td>A002</td>\n",
       "    </tr>\n",
       "    <tr>\n",
       "      <th>13</th>\n",
       "      <td>C00004</td>\n",
       "      <td>Winston</td>\n",
       "      <td>Brisban</td>\n",
       "      <td>Brisban</td>\n",
       "      <td>Australia</td>\n",
       "      <td>1.0</td>\n",
       "      <td>5000.0</td>\n",
       "      <td>8000.0</td>\n",
       "      <td>7000.0</td>\n",
       "      <td>6000.0</td>\n",
       "      <td>AAAAAAA</td>\n",
       "      <td>A005</td>\n",
       "    </tr>\n",
       "    <tr>\n",
       "      <th>14</th>\n",
       "      <td>C00023</td>\n",
       "      <td>Karl</td>\n",
       "      <td>London</td>\n",
       "      <td>London</td>\n",
       "      <td>UK</td>\n",
       "      <td>0.0</td>\n",
       "      <td>4000.0</td>\n",
       "      <td>6000.0</td>\n",
       "      <td>7000.0</td>\n",
       "      <td>3000.0</td>\n",
       "      <td>AAAABAA</td>\n",
       "      <td>A006</td>\n",
       "    </tr>\n",
       "    <tr>\n",
       "      <th>15</th>\n",
       "      <td>C00006</td>\n",
       "      <td>Shilton</td>\n",
       "      <td>Torento</td>\n",
       "      <td>Torento</td>\n",
       "      <td>Canada</td>\n",
       "      <td>1.0</td>\n",
       "      <td>10000.0</td>\n",
       "      <td>7000.0</td>\n",
       "      <td>6000.0</td>\n",
       "      <td>11000.0</td>\n",
       "      <td>DDDDDDD</td>\n",
       "      <td>A004</td>\n",
       "    </tr>\n",
       "    <tr>\n",
       "      <th>16</th>\n",
       "      <td>C00010</td>\n",
       "      <td>Charles</td>\n",
       "      <td>Hampshair</td>\n",
       "      <td>Hampshair</td>\n",
       "      <td>UK</td>\n",
       "      <td>3.0</td>\n",
       "      <td>6000.0</td>\n",
       "      <td>4000.0</td>\n",
       "      <td>5000.0</td>\n",
       "      <td>5000.0</td>\n",
       "      <td>MMMMMMM</td>\n",
       "      <td>A009</td>\n",
       "    </tr>\n",
       "    <tr>\n",
       "      <th>17</th>\n",
       "      <td>C00017</td>\n",
       "      <td>Srinivas</td>\n",
       "      <td>Bangalore</td>\n",
       "      <td>Bangalore</td>\n",
       "      <td>India</td>\n",
       "      <td>2.0</td>\n",
       "      <td>8000.0</td>\n",
       "      <td>4000.0</td>\n",
       "      <td>3000.0</td>\n",
       "      <td>9000.0</td>\n",
       "      <td>AAAAAAB</td>\n",
       "      <td>A007</td>\n",
       "    </tr>\n",
       "    <tr>\n",
       "      <th>18</th>\n",
       "      <td>C00012</td>\n",
       "      <td>Steven</td>\n",
       "      <td>San Jose</td>\n",
       "      <td>San Jose</td>\n",
       "      <td>USA</td>\n",
       "      <td>1.0</td>\n",
       "      <td>5000.0</td>\n",
       "      <td>7000.0</td>\n",
       "      <td>9000.0</td>\n",
       "      <td>3000.0</td>\n",
       "      <td>KRFYGJK</td>\n",
       "      <td>A012</td>\n",
       "    </tr>\n",
       "    <tr>\n",
       "      <th>19</th>\n",
       "      <td>C00008</td>\n",
       "      <td>Karolina</td>\n",
       "      <td>Torento</td>\n",
       "      <td>Torento</td>\n",
       "      <td>Canada</td>\n",
       "      <td>1.0</td>\n",
       "      <td>7000.0</td>\n",
       "      <td>7000.0</td>\n",
       "      <td>9000.0</td>\n",
       "      <td>5000.0</td>\n",
       "      <td>HJKORED</td>\n",
       "      <td>A004</td>\n",
       "    </tr>\n",
       "    <tr>\n",
       "      <th>20</th>\n",
       "      <td>C00003</td>\n",
       "      <td>Martin</td>\n",
       "      <td>Torento</td>\n",
       "      <td>Torento</td>\n",
       "      <td>Canada</td>\n",
       "      <td>2.0</td>\n",
       "      <td>8000.0</td>\n",
       "      <td>7000.0</td>\n",
       "      <td>7000.0</td>\n",
       "      <td>8000.0</td>\n",
       "      <td>MJYURFD</td>\n",
       "      <td>A004</td>\n",
       "    </tr>\n",
       "    <tr>\n",
       "      <th>21</th>\n",
       "      <td>C00009</td>\n",
       "      <td>Ramesh</td>\n",
       "      <td>Mumbai</td>\n",
       "      <td>Mumbai</td>\n",
       "      <td>India</td>\n",
       "      <td>3.0</td>\n",
       "      <td>8000.0</td>\n",
       "      <td>7000.0</td>\n",
       "      <td>3000.0</td>\n",
       "      <td>12000.0</td>\n",
       "      <td>Phone No</td>\n",
       "      <td>A002</td>\n",
       "    </tr>\n",
       "    <tr>\n",
       "      <th>22</th>\n",
       "      <td>C00014</td>\n",
       "      <td>Rangarappa</td>\n",
       "      <td>Bangalore</td>\n",
       "      <td>Bangalore</td>\n",
       "      <td>India</td>\n",
       "      <td>2.0</td>\n",
       "      <td>8000.0</td>\n",
       "      <td>11000.0</td>\n",
       "      <td>7000.0</td>\n",
       "      <td>12000.0</td>\n",
       "      <td>AAAATGF</td>\n",
       "      <td>A001</td>\n",
       "    </tr>\n",
       "    <tr>\n",
       "      <th>23</th>\n",
       "      <td>C00016</td>\n",
       "      <td>Venkatpati</td>\n",
       "      <td>Bangalore</td>\n",
       "      <td>Bangalore</td>\n",
       "      <td>India</td>\n",
       "      <td>2.0</td>\n",
       "      <td>8000.0</td>\n",
       "      <td>11000.0</td>\n",
       "      <td>7000.0</td>\n",
       "      <td>12000.0</td>\n",
       "      <td>JRTVFDD</td>\n",
       "      <td>A007</td>\n",
       "    </tr>\n",
       "    <tr>\n",
       "      <th>24</th>\n",
       "      <td>C00011</td>\n",
       "      <td>Sundariya</td>\n",
       "      <td>Chennai</td>\n",
       "      <td>Chennai</td>\n",
       "      <td>India</td>\n",
       "      <td>3.0</td>\n",
       "      <td>7000.0</td>\n",
       "      <td>11000.0</td>\n",
       "      <td>7000.0</td>\n",
       "      <td>11000.0</td>\n",
       "      <td>PPHGRTS</td>\n",
       "      <td>A010</td>\n",
       "    </tr>\n",
       "  </tbody>\n",
       "</table>\n",
       "</div>"
      ],
      "text/plain": [
       "   CUST_CODE    CUST_NAME                            CUST_CITY WORKING_AREA  \\\n",
       "0     C00013       Holmes  London                                    London   \n",
       "1     C00001      Micheal  New York                                New York   \n",
       "2     C00020       Albert  New York                                New York   \n",
       "3     C00025    Ravindran  Bangalore                              Bangalore   \n",
       "4     C00024         Cook  London                                    London   \n",
       "5     C00015       Stuart  London                                    London   \n",
       "6     C00002         Bolt  New York                                New York   \n",
       "7     C00018      Fleming  Brisban                                  Brisban   \n",
       "8     C00021        Jacks  Brisban                                  Brisban   \n",
       "9     C00019  Yearannaidu  Chennai                                  Chennai   \n",
       "10    C00005     Sasikant  Mumbai                                    Mumbai   \n",
       "11    C00007   Ramanathan  Chennai                                  Chennai   \n",
       "12    C00022      Avinash  Mumbai                                    Mumbai   \n",
       "13    C00004      Winston  Brisban                                  Brisban   \n",
       "14    C00023         Karl  London                                    London   \n",
       "15    C00006      Shilton  Torento                                  Torento   \n",
       "16    C00010      Charles  Hampshair                              Hampshair   \n",
       "17    C00017     Srinivas  Bangalore                              Bangalore   \n",
       "18    C00012       Steven  San Jose                                San Jose   \n",
       "19    C00008     Karolina  Torento                                  Torento   \n",
       "20    C00003       Martin  Torento                                  Torento   \n",
       "21    C00009       Ramesh  Mumbai                                    Mumbai   \n",
       "22    C00014   Rangarappa  Bangalore                              Bangalore   \n",
       "23    C00016   Venkatpati  Bangalore                              Bangalore   \n",
       "24    C00011    Sundariya  Chennai                                  Chennai   \n",
       "\n",
       "   CUST_COUNTRY  GRADE  OPENING_AMT  RECEIVE_AMT  PAYMENT_AMT  \\\n",
       "0            UK    2.0       6000.0       5000.0       7000.0   \n",
       "1           USA    2.0       3000.0       5000.0       2000.0   \n",
       "2           USA    3.0       5000.0       7000.0       6000.0   \n",
       "3         India    2.0       5000.0       7000.0       4000.0   \n",
       "4            UK    2.0       4000.0       9000.0       7000.0   \n",
       "5            UK    1.0       6000.0       8000.0       3000.0   \n",
       "6           USA    3.0       5000.0       7000.0       9000.0   \n",
       "7     Australia    2.0       7000.0       7000.0       9000.0   \n",
       "8     Australia    1.0       7000.0       7000.0       7000.0   \n",
       "9         India    1.0       8000.0       7000.0       7000.0   \n",
       "10        India    1.0       7000.0      11000.0       7000.0   \n",
       "11        India    1.0       7000.0      11000.0       9000.0   \n",
       "12        India    2.0       7000.0      11000.0       9000.0   \n",
       "13    Australia    1.0       5000.0       8000.0       7000.0   \n",
       "14           UK    0.0       4000.0       6000.0       7000.0   \n",
       "15       Canada    1.0      10000.0       7000.0       6000.0   \n",
       "16           UK    3.0       6000.0       4000.0       5000.0   \n",
       "17        India    2.0       8000.0       4000.0       3000.0   \n",
       "18          USA    1.0       5000.0       7000.0       9000.0   \n",
       "19       Canada    1.0       7000.0       7000.0       9000.0   \n",
       "20       Canada    2.0       8000.0       7000.0       7000.0   \n",
       "21        India    3.0       8000.0       7000.0       3000.0   \n",
       "22        India    2.0       8000.0      11000.0       7000.0   \n",
       "23        India    2.0       8000.0      11000.0       7000.0   \n",
       "24        India    3.0       7000.0      11000.0       7000.0   \n",
       "\n",
       "    OUTSTANDING_AMT      PHONE_NO AGENT_CODE  \n",
       "0            4000.0       BBBBBBB     A003    \n",
       "1            6000.0       CCCCCCC     A008    \n",
       "2            6000.0       BBBBSBB     A008    \n",
       "3            8000.0       AVAVAVA     A011    \n",
       "4            6000.0       FSDDSDF     A006    \n",
       "5           11000.0       GFSGERS     A003    \n",
       "6            3000.0       DDNRDRH     A008    \n",
       "7            5000.0       NHBGVFC     A005    \n",
       "8            7000.0       WERTGDF     A005    \n",
       "9            8000.0       ZZZZBFV     A010    \n",
       "10          11000.0  147-25896312     A002    \n",
       "11           9000.0       GHRDWSD     A010    \n",
       "12           9000.0  113-12345678     A002    \n",
       "13           6000.0       AAAAAAA     A005    \n",
       "14           3000.0       AAAABAA     A006    \n",
       "15          11000.0       DDDDDDD     A004    \n",
       "16           5000.0       MMMMMMM     A009    \n",
       "17           9000.0       AAAAAAB     A007    \n",
       "18           3000.0       KRFYGJK     A012    \n",
       "19           5000.0       HJKORED     A004    \n",
       "20           8000.0       MJYURFD     A004    \n",
       "21          12000.0      Phone No     A002    \n",
       "22          12000.0       AAAATGF     A001    \n",
       "23          12000.0       JRTVFDD     A007    \n",
       "24          11000.0       PPHGRTS     A010    "
      ]
     },
     "execution_count": 112,
     "metadata": {},
     "output_type": "execute_result"
    }
   ],
   "source": [
    "df=pd.read_sql('select * from customer',conn4)\n",
    "df"
   ]
  },
  {
   "cell_type": "code",
   "execution_count": 113,
   "id": "370e4fbe",
   "metadata": {},
   "outputs": [
    {
     "name": "stdout",
     "output_type": "stream",
     "text": [
      "<class 'pandas.core.frame.DataFrame'>\n",
      "RangeIndex: 25 entries, 0 to 24\n",
      "Data columns (total 12 columns):\n",
      " #   Column           Non-Null Count  Dtype  \n",
      "---  ------           --------------  -----  \n",
      " 0   CUST_CODE        25 non-null     object \n",
      " 1   CUST_NAME        25 non-null     object \n",
      " 2   CUST_CITY        25 non-null     object \n",
      " 3   WORKING_AREA     25 non-null     object \n",
      " 4   CUST_COUNTRY     25 non-null     object \n",
      " 5   GRADE            25 non-null     float64\n",
      " 6   OPENING_AMT      25 non-null     float64\n",
      " 7   RECEIVE_AMT      25 non-null     float64\n",
      " 8   PAYMENT_AMT      25 non-null     float64\n",
      " 9   OUTSTANDING_AMT  25 non-null     float64\n",
      " 10  PHONE_NO         25 non-null     object \n",
      " 11  AGENT_CODE       25 non-null     object \n",
      "dtypes: float64(5), object(7)\n",
      "memory usage: 2.5+ KB\n"
     ]
    }
   ],
   "source": [
    "df.info()"
   ]
  },
  {
   "cell_type": "code",
   "execution_count": 114,
   "id": "09278301",
   "metadata": {},
   "outputs": [
    {
     "data": {
      "text/plain": [
       "(25, 12)"
      ]
     },
     "execution_count": 114,
     "metadata": {},
     "output_type": "execute_result"
    }
   ],
   "source": [
    "df.shape"
   ]
  },
  {
   "cell_type": "raw",
   "id": "3a2404df",
   "metadata": {},
   "source": []
  },
  {
   "cell_type": "code",
   "execution_count": 115,
   "id": "781ae668",
   "metadata": {},
   "outputs": [
    {
     "data": {
      "text/html": [
       "<div>\n",
       "<style scoped>\n",
       "    .dataframe tbody tr th:only-of-type {\n",
       "        vertical-align: middle;\n",
       "    }\n",
       "\n",
       "    .dataframe tbody tr th {\n",
       "        vertical-align: top;\n",
       "    }\n",
       "\n",
       "    .dataframe thead th {\n",
       "        text-align: right;\n",
       "    }\n",
       "</style>\n",
       "<table border=\"1\" class=\"dataframe\">\n",
       "  <thead>\n",
       "    <tr style=\"text-align: right;\">\n",
       "      <th></th>\n",
       "      <th>GRADE</th>\n",
       "      <th>OPENING_AMT</th>\n",
       "      <th>RECEIVE_AMT</th>\n",
       "      <th>PAYMENT_AMT</th>\n",
       "      <th>OUTSTANDING_AMT</th>\n",
       "    </tr>\n",
       "  </thead>\n",
       "  <tbody>\n",
       "    <tr>\n",
       "      <th>count</th>\n",
       "      <td>25.000000</td>\n",
       "      <td>25.000000</td>\n",
       "      <td>25.000000</td>\n",
       "      <td>25.000000</td>\n",
       "      <td>25.000000</td>\n",
       "    </tr>\n",
       "    <tr>\n",
       "      <th>mean</th>\n",
       "      <td>1.760000</td>\n",
       "      <td>6440.000000</td>\n",
       "      <td>7680.000000</td>\n",
       "      <td>6520.000000</td>\n",
       "      <td>7600.000000</td>\n",
       "    </tr>\n",
       "    <tr>\n",
       "      <th>std</th>\n",
       "      <td>0.830662</td>\n",
       "      <td>1635.033129</td>\n",
       "      <td>2212.088003</td>\n",
       "      <td>2103.964512</td>\n",
       "      <td>3013.856887</td>\n",
       "    </tr>\n",
       "    <tr>\n",
       "      <th>min</th>\n",
       "      <td>0.000000</td>\n",
       "      <td>3000.000000</td>\n",
       "      <td>4000.000000</td>\n",
       "      <td>2000.000000</td>\n",
       "      <td>3000.000000</td>\n",
       "    </tr>\n",
       "    <tr>\n",
       "      <th>25%</th>\n",
       "      <td>1.000000</td>\n",
       "      <td>5000.000000</td>\n",
       "      <td>7000.000000</td>\n",
       "      <td>6000.000000</td>\n",
       "      <td>5000.000000</td>\n",
       "    </tr>\n",
       "    <tr>\n",
       "      <th>50%</th>\n",
       "      <td>2.000000</td>\n",
       "      <td>7000.000000</td>\n",
       "      <td>7000.000000</td>\n",
       "      <td>7000.000000</td>\n",
       "      <td>8000.000000</td>\n",
       "    </tr>\n",
       "    <tr>\n",
       "      <th>75%</th>\n",
       "      <td>2.000000</td>\n",
       "      <td>8000.000000</td>\n",
       "      <td>9000.000000</td>\n",
       "      <td>7000.000000</td>\n",
       "      <td>11000.000000</td>\n",
       "    </tr>\n",
       "    <tr>\n",
       "      <th>max</th>\n",
       "      <td>3.000000</td>\n",
       "      <td>10000.000000</td>\n",
       "      <td>11000.000000</td>\n",
       "      <td>9000.000000</td>\n",
       "      <td>12000.000000</td>\n",
       "    </tr>\n",
       "  </tbody>\n",
       "</table>\n",
       "</div>"
      ],
      "text/plain": [
       "           GRADE   OPENING_AMT   RECEIVE_AMT  PAYMENT_AMT  OUTSTANDING_AMT\n",
       "count  25.000000     25.000000     25.000000    25.000000        25.000000\n",
       "mean    1.760000   6440.000000   7680.000000  6520.000000      7600.000000\n",
       "std     0.830662   1635.033129   2212.088003  2103.964512      3013.856887\n",
       "min     0.000000   3000.000000   4000.000000  2000.000000      3000.000000\n",
       "25%     1.000000   5000.000000   7000.000000  6000.000000      5000.000000\n",
       "50%     2.000000   7000.000000   7000.000000  7000.000000      8000.000000\n",
       "75%     2.000000   8000.000000   9000.000000  7000.000000     11000.000000\n",
       "max     3.000000  10000.000000  11000.000000  9000.000000     12000.000000"
      ]
     },
     "execution_count": 115,
     "metadata": {},
     "output_type": "execute_result"
    }
   ],
   "source": [
    "df.describe()"
   ]
  },
  {
   "cell_type": "code",
   "execution_count": 117,
   "id": "1e45dafc",
   "metadata": {},
   "outputs": [],
   "source": [
    "import plotly.express as px"
   ]
  },
  {
   "cell_type": "code",
   "execution_count": 129,
   "id": "91e6eb6d",
   "metadata": {},
   "outputs": [
    {
     "data": {
      "application/vnd.plotly.v1+json": {
       "config": {
        "plotlyServerURL": "https://plot.ly"
       },
       "data": [
        {
         "alignmentgroup": "True",
         "hovertemplate": "CUST_NAME=%{x}<br>PAYMENT_AMT=%{y}<extra></extra>",
         "legendgroup": "",
         "marker": {
          "color": "#636efa",
          "pattern": {
           "shape": ""
          }
         },
         "name": "",
         "offsetgroup": "",
         "orientation": "v",
         "showlegend": false,
         "textposition": "auto",
         "type": "bar",
         "x": [
          "Holmes",
          "Micheal",
          "Albert",
          "Ravindran",
          "Cook",
          "Stuart",
          "Bolt",
          "Fleming",
          "Jacks",
          "Yearannaidu",
          "Sasikant",
          "Ramanathan",
          "Avinash",
          "Winston",
          "Karl",
          "Shilton",
          "Charles",
          "Srinivas",
          "Steven",
          "Karolina",
          "Martin",
          "Ramesh",
          "Rangarappa",
          "Venkatpati",
          "Sundariya"
         ],
         "xaxis": "x",
         "y": [
          7000,
          2000,
          6000,
          4000,
          7000,
          3000,
          9000,
          9000,
          7000,
          7000,
          7000,
          9000,
          9000,
          7000,
          7000,
          6000,
          5000,
          3000,
          9000,
          9000,
          7000,
          3000,
          7000,
          7000,
          7000
         ],
         "yaxis": "y"
        }
       ],
       "layout": {
        "barmode": "relative",
        "legend": {
         "tracegroupgap": 0
        },
        "margin": {
         "t": 60
        },
        "template": {
         "data": {
          "bar": [
           {
            "error_x": {
             "color": "#2a3f5f"
            },
            "error_y": {
             "color": "#2a3f5f"
            },
            "marker": {
             "line": {
              "color": "#E5ECF6",
              "width": 0.5
             },
             "pattern": {
              "fillmode": "overlay",
              "size": 10,
              "solidity": 0.2
             }
            },
            "type": "bar"
           }
          ],
          "barpolar": [
           {
            "marker": {
             "line": {
              "color": "#E5ECF6",
              "width": 0.5
             },
             "pattern": {
              "fillmode": "overlay",
              "size": 10,
              "solidity": 0.2
             }
            },
            "type": "barpolar"
           }
          ],
          "carpet": [
           {
            "aaxis": {
             "endlinecolor": "#2a3f5f",
             "gridcolor": "white",
             "linecolor": "white",
             "minorgridcolor": "white",
             "startlinecolor": "#2a3f5f"
            },
            "baxis": {
             "endlinecolor": "#2a3f5f",
             "gridcolor": "white",
             "linecolor": "white",
             "minorgridcolor": "white",
             "startlinecolor": "#2a3f5f"
            },
            "type": "carpet"
           }
          ],
          "choropleth": [
           {
            "colorbar": {
             "outlinewidth": 0,
             "ticks": ""
            },
            "type": "choropleth"
           }
          ],
          "contour": [
           {
            "colorbar": {
             "outlinewidth": 0,
             "ticks": ""
            },
            "colorscale": [
             [
              0,
              "#0d0887"
             ],
             [
              0.1111111111111111,
              "#46039f"
             ],
             [
              0.2222222222222222,
              "#7201a8"
             ],
             [
              0.3333333333333333,
              "#9c179e"
             ],
             [
              0.4444444444444444,
              "#bd3786"
             ],
             [
              0.5555555555555556,
              "#d8576b"
             ],
             [
              0.6666666666666666,
              "#ed7953"
             ],
             [
              0.7777777777777778,
              "#fb9f3a"
             ],
             [
              0.8888888888888888,
              "#fdca26"
             ],
             [
              1,
              "#f0f921"
             ]
            ],
            "type": "contour"
           }
          ],
          "contourcarpet": [
           {
            "colorbar": {
             "outlinewidth": 0,
             "ticks": ""
            },
            "type": "contourcarpet"
           }
          ],
          "heatmap": [
           {
            "colorbar": {
             "outlinewidth": 0,
             "ticks": ""
            },
            "colorscale": [
             [
              0,
              "#0d0887"
             ],
             [
              0.1111111111111111,
              "#46039f"
             ],
             [
              0.2222222222222222,
              "#7201a8"
             ],
             [
              0.3333333333333333,
              "#9c179e"
             ],
             [
              0.4444444444444444,
              "#bd3786"
             ],
             [
              0.5555555555555556,
              "#d8576b"
             ],
             [
              0.6666666666666666,
              "#ed7953"
             ],
             [
              0.7777777777777778,
              "#fb9f3a"
             ],
             [
              0.8888888888888888,
              "#fdca26"
             ],
             [
              1,
              "#f0f921"
             ]
            ],
            "type": "heatmap"
           }
          ],
          "heatmapgl": [
           {
            "colorbar": {
             "outlinewidth": 0,
             "ticks": ""
            },
            "colorscale": [
             [
              0,
              "#0d0887"
             ],
             [
              0.1111111111111111,
              "#46039f"
             ],
             [
              0.2222222222222222,
              "#7201a8"
             ],
             [
              0.3333333333333333,
              "#9c179e"
             ],
             [
              0.4444444444444444,
              "#bd3786"
             ],
             [
              0.5555555555555556,
              "#d8576b"
             ],
             [
              0.6666666666666666,
              "#ed7953"
             ],
             [
              0.7777777777777778,
              "#fb9f3a"
             ],
             [
              0.8888888888888888,
              "#fdca26"
             ],
             [
              1,
              "#f0f921"
             ]
            ],
            "type": "heatmapgl"
           }
          ],
          "histogram": [
           {
            "marker": {
             "pattern": {
              "fillmode": "overlay",
              "size": 10,
              "solidity": 0.2
             }
            },
            "type": "histogram"
           }
          ],
          "histogram2d": [
           {
            "colorbar": {
             "outlinewidth": 0,
             "ticks": ""
            },
            "colorscale": [
             [
              0,
              "#0d0887"
             ],
             [
              0.1111111111111111,
              "#46039f"
             ],
             [
              0.2222222222222222,
              "#7201a8"
             ],
             [
              0.3333333333333333,
              "#9c179e"
             ],
             [
              0.4444444444444444,
              "#bd3786"
             ],
             [
              0.5555555555555556,
              "#d8576b"
             ],
             [
              0.6666666666666666,
              "#ed7953"
             ],
             [
              0.7777777777777778,
              "#fb9f3a"
             ],
             [
              0.8888888888888888,
              "#fdca26"
             ],
             [
              1,
              "#f0f921"
             ]
            ],
            "type": "histogram2d"
           }
          ],
          "histogram2dcontour": [
           {
            "colorbar": {
             "outlinewidth": 0,
             "ticks": ""
            },
            "colorscale": [
             [
              0,
              "#0d0887"
             ],
             [
              0.1111111111111111,
              "#46039f"
             ],
             [
              0.2222222222222222,
              "#7201a8"
             ],
             [
              0.3333333333333333,
              "#9c179e"
             ],
             [
              0.4444444444444444,
              "#bd3786"
             ],
             [
              0.5555555555555556,
              "#d8576b"
             ],
             [
              0.6666666666666666,
              "#ed7953"
             ],
             [
              0.7777777777777778,
              "#fb9f3a"
             ],
             [
              0.8888888888888888,
              "#fdca26"
             ],
             [
              1,
              "#f0f921"
             ]
            ],
            "type": "histogram2dcontour"
           }
          ],
          "mesh3d": [
           {
            "colorbar": {
             "outlinewidth": 0,
             "ticks": ""
            },
            "type": "mesh3d"
           }
          ],
          "parcoords": [
           {
            "line": {
             "colorbar": {
              "outlinewidth": 0,
              "ticks": ""
             }
            },
            "type": "parcoords"
           }
          ],
          "pie": [
           {
            "automargin": true,
            "type": "pie"
           }
          ],
          "scatter": [
           {
            "fillpattern": {
             "fillmode": "overlay",
             "size": 10,
             "solidity": 0.2
            },
            "type": "scatter"
           }
          ],
          "scatter3d": [
           {
            "line": {
             "colorbar": {
              "outlinewidth": 0,
              "ticks": ""
             }
            },
            "marker": {
             "colorbar": {
              "outlinewidth": 0,
              "ticks": ""
             }
            },
            "type": "scatter3d"
           }
          ],
          "scattercarpet": [
           {
            "marker": {
             "colorbar": {
              "outlinewidth": 0,
              "ticks": ""
             }
            },
            "type": "scattercarpet"
           }
          ],
          "scattergeo": [
           {
            "marker": {
             "colorbar": {
              "outlinewidth": 0,
              "ticks": ""
             }
            },
            "type": "scattergeo"
           }
          ],
          "scattergl": [
           {
            "marker": {
             "colorbar": {
              "outlinewidth": 0,
              "ticks": ""
             }
            },
            "type": "scattergl"
           }
          ],
          "scattermapbox": [
           {
            "marker": {
             "colorbar": {
              "outlinewidth": 0,
              "ticks": ""
             }
            },
            "type": "scattermapbox"
           }
          ],
          "scatterpolar": [
           {
            "marker": {
             "colorbar": {
              "outlinewidth": 0,
              "ticks": ""
             }
            },
            "type": "scatterpolar"
           }
          ],
          "scatterpolargl": [
           {
            "marker": {
             "colorbar": {
              "outlinewidth": 0,
              "ticks": ""
             }
            },
            "type": "scatterpolargl"
           }
          ],
          "scatterternary": [
           {
            "marker": {
             "colorbar": {
              "outlinewidth": 0,
              "ticks": ""
             }
            },
            "type": "scatterternary"
           }
          ],
          "surface": [
           {
            "colorbar": {
             "outlinewidth": 0,
             "ticks": ""
            },
            "colorscale": [
             [
              0,
              "#0d0887"
             ],
             [
              0.1111111111111111,
              "#46039f"
             ],
             [
              0.2222222222222222,
              "#7201a8"
             ],
             [
              0.3333333333333333,
              "#9c179e"
             ],
             [
              0.4444444444444444,
              "#bd3786"
             ],
             [
              0.5555555555555556,
              "#d8576b"
             ],
             [
              0.6666666666666666,
              "#ed7953"
             ],
             [
              0.7777777777777778,
              "#fb9f3a"
             ],
             [
              0.8888888888888888,
              "#fdca26"
             ],
             [
              1,
              "#f0f921"
             ]
            ],
            "type": "surface"
           }
          ],
          "table": [
           {
            "cells": {
             "fill": {
              "color": "#EBF0F8"
             },
             "line": {
              "color": "white"
             }
            },
            "header": {
             "fill": {
              "color": "#C8D4E3"
             },
             "line": {
              "color": "white"
             }
            },
            "type": "table"
           }
          ]
         },
         "layout": {
          "annotationdefaults": {
           "arrowcolor": "#2a3f5f",
           "arrowhead": 0,
           "arrowwidth": 1
          },
          "autotypenumbers": "strict",
          "coloraxis": {
           "colorbar": {
            "outlinewidth": 0,
            "ticks": ""
           }
          },
          "colorscale": {
           "diverging": [
            [
             0,
             "#8e0152"
            ],
            [
             0.1,
             "#c51b7d"
            ],
            [
             0.2,
             "#de77ae"
            ],
            [
             0.3,
             "#f1b6da"
            ],
            [
             0.4,
             "#fde0ef"
            ],
            [
             0.5,
             "#f7f7f7"
            ],
            [
             0.6,
             "#e6f5d0"
            ],
            [
             0.7,
             "#b8e186"
            ],
            [
             0.8,
             "#7fbc41"
            ],
            [
             0.9,
             "#4d9221"
            ],
            [
             1,
             "#276419"
            ]
           ],
           "sequential": [
            [
             0,
             "#0d0887"
            ],
            [
             0.1111111111111111,
             "#46039f"
            ],
            [
             0.2222222222222222,
             "#7201a8"
            ],
            [
             0.3333333333333333,
             "#9c179e"
            ],
            [
             0.4444444444444444,
             "#bd3786"
            ],
            [
             0.5555555555555556,
             "#d8576b"
            ],
            [
             0.6666666666666666,
             "#ed7953"
            ],
            [
             0.7777777777777778,
             "#fb9f3a"
            ],
            [
             0.8888888888888888,
             "#fdca26"
            ],
            [
             1,
             "#f0f921"
            ]
           ],
           "sequentialminus": [
            [
             0,
             "#0d0887"
            ],
            [
             0.1111111111111111,
             "#46039f"
            ],
            [
             0.2222222222222222,
             "#7201a8"
            ],
            [
             0.3333333333333333,
             "#9c179e"
            ],
            [
             0.4444444444444444,
             "#bd3786"
            ],
            [
             0.5555555555555556,
             "#d8576b"
            ],
            [
             0.6666666666666666,
             "#ed7953"
            ],
            [
             0.7777777777777778,
             "#fb9f3a"
            ],
            [
             0.8888888888888888,
             "#fdca26"
            ],
            [
             1,
             "#f0f921"
            ]
           ]
          },
          "colorway": [
           "#636efa",
           "#EF553B",
           "#00cc96",
           "#ab63fa",
           "#FFA15A",
           "#19d3f3",
           "#FF6692",
           "#B6E880",
           "#FF97FF",
           "#FECB52"
          ],
          "font": {
           "color": "#2a3f5f"
          },
          "geo": {
           "bgcolor": "white",
           "lakecolor": "white",
           "landcolor": "#E5ECF6",
           "showlakes": true,
           "showland": true,
           "subunitcolor": "white"
          },
          "hoverlabel": {
           "align": "left"
          },
          "hovermode": "closest",
          "mapbox": {
           "style": "light"
          },
          "paper_bgcolor": "white",
          "plot_bgcolor": "#E5ECF6",
          "polar": {
           "angularaxis": {
            "gridcolor": "white",
            "linecolor": "white",
            "ticks": ""
           },
           "bgcolor": "#E5ECF6",
           "radialaxis": {
            "gridcolor": "white",
            "linecolor": "white",
            "ticks": ""
           }
          },
          "scene": {
           "xaxis": {
            "backgroundcolor": "#E5ECF6",
            "gridcolor": "white",
            "gridwidth": 2,
            "linecolor": "white",
            "showbackground": true,
            "ticks": "",
            "zerolinecolor": "white"
           },
           "yaxis": {
            "backgroundcolor": "#E5ECF6",
            "gridcolor": "white",
            "gridwidth": 2,
            "linecolor": "white",
            "showbackground": true,
            "ticks": "",
            "zerolinecolor": "white"
           },
           "zaxis": {
            "backgroundcolor": "#E5ECF6",
            "gridcolor": "white",
            "gridwidth": 2,
            "linecolor": "white",
            "showbackground": true,
            "ticks": "",
            "zerolinecolor": "white"
           }
          },
          "shapedefaults": {
           "line": {
            "color": "#2a3f5f"
           }
          },
          "ternary": {
           "aaxis": {
            "gridcolor": "white",
            "linecolor": "white",
            "ticks": ""
           },
           "baxis": {
            "gridcolor": "white",
            "linecolor": "white",
            "ticks": ""
           },
           "bgcolor": "#E5ECF6",
           "caxis": {
            "gridcolor": "white",
            "linecolor": "white",
            "ticks": ""
           }
          },
          "title": {
           "x": 0.05
          },
          "xaxis": {
           "automargin": true,
           "gridcolor": "white",
           "linecolor": "white",
           "ticks": "",
           "title": {
            "standoff": 15
           },
           "zerolinecolor": "white",
           "zerolinewidth": 2
          },
          "yaxis": {
           "automargin": true,
           "gridcolor": "white",
           "linecolor": "white",
           "ticks": "",
           "title": {
            "standoff": 15
           },
           "zerolinecolor": "white",
           "zerolinewidth": 2
          }
         }
        },
        "xaxis": {
         "anchor": "y",
         "domain": [
          0,
          1
         ],
         "title": {
          "text": "CUST_NAME"
         }
        },
        "yaxis": {
         "anchor": "x",
         "domain": [
          0,
          1
         ],
         "title": {
          "text": "PAYMENT_AMT"
         }
        }
       }
      },
      "text/html": [
       "<div>                            <div id=\"8e64adf3-2603-401f-9ce2-d4abb1cd8725\" class=\"plotly-graph-div\" style=\"height:525px; width:100%;\"></div>            <script type=\"text/javascript\">                require([\"plotly\"], function(Plotly) {                    window.PLOTLYENV=window.PLOTLYENV || {};                                    if (document.getElementById(\"8e64adf3-2603-401f-9ce2-d4abb1cd8725\")) {                    Plotly.newPlot(                        \"8e64adf3-2603-401f-9ce2-d4abb1cd8725\",                        [{\"alignmentgroup\":\"True\",\"hovertemplate\":\"CUST_NAME=%{x}<br>PAYMENT_AMT=%{y}<extra></extra>\",\"legendgroup\":\"\",\"marker\":{\"color\":\"#636efa\",\"pattern\":{\"shape\":\"\"}},\"name\":\"\",\"offsetgroup\":\"\",\"orientation\":\"v\",\"showlegend\":false,\"textposition\":\"auto\",\"x\":[\"Holmes\",\"Micheal\",\"Albert\",\"Ravindran\",\"Cook\",\"Stuart\",\"Bolt\",\"Fleming\",\"Jacks\",\"Yearannaidu\",\"Sasikant\",\"Ramanathan\",\"Avinash\",\"Winston\",\"Karl\",\"Shilton\",\"Charles\",\"Srinivas\",\"Steven\",\"Karolina\",\"Martin\",\"Ramesh\",\"Rangarappa\",\"Venkatpati\",\"Sundariya\"],\"xaxis\":\"x\",\"y\":[7000.0,2000.0,6000.0,4000.0,7000.0,3000.0,9000.0,9000.0,7000.0,7000.0,7000.0,9000.0,9000.0,7000.0,7000.0,6000.0,5000.0,3000.0,9000.0,9000.0,7000.0,3000.0,7000.0,7000.0,7000.0],\"yaxis\":\"y\",\"type\":\"bar\"}],                        {\"template\":{\"data\":{\"histogram2dcontour\":[{\"type\":\"histogram2dcontour\",\"colorbar\":{\"outlinewidth\":0,\"ticks\":\"\"},\"colorscale\":[[0.0,\"#0d0887\"],[0.1111111111111111,\"#46039f\"],[0.2222222222222222,\"#7201a8\"],[0.3333333333333333,\"#9c179e\"],[0.4444444444444444,\"#bd3786\"],[0.5555555555555556,\"#d8576b\"],[0.6666666666666666,\"#ed7953\"],[0.7777777777777778,\"#fb9f3a\"],[0.8888888888888888,\"#fdca26\"],[1.0,\"#f0f921\"]]}],\"choropleth\":[{\"type\":\"choropleth\",\"colorbar\":{\"outlinewidth\":0,\"ticks\":\"\"}}],\"histogram2d\":[{\"type\":\"histogram2d\",\"colorbar\":{\"outlinewidth\":0,\"ticks\":\"\"},\"colorscale\":[[0.0,\"#0d0887\"],[0.1111111111111111,\"#46039f\"],[0.2222222222222222,\"#7201a8\"],[0.3333333333333333,\"#9c179e\"],[0.4444444444444444,\"#bd3786\"],[0.5555555555555556,\"#d8576b\"],[0.6666666666666666,\"#ed7953\"],[0.7777777777777778,\"#fb9f3a\"],[0.8888888888888888,\"#fdca26\"],[1.0,\"#f0f921\"]]}],\"heatmap\":[{\"type\":\"heatmap\",\"colorbar\":{\"outlinewidth\":0,\"ticks\":\"\"},\"colorscale\":[[0.0,\"#0d0887\"],[0.1111111111111111,\"#46039f\"],[0.2222222222222222,\"#7201a8\"],[0.3333333333333333,\"#9c179e\"],[0.4444444444444444,\"#bd3786\"],[0.5555555555555556,\"#d8576b\"],[0.6666666666666666,\"#ed7953\"],[0.7777777777777778,\"#fb9f3a\"],[0.8888888888888888,\"#fdca26\"],[1.0,\"#f0f921\"]]}],\"heatmapgl\":[{\"type\":\"heatmapgl\",\"colorbar\":{\"outlinewidth\":0,\"ticks\":\"\"},\"colorscale\":[[0.0,\"#0d0887\"],[0.1111111111111111,\"#46039f\"],[0.2222222222222222,\"#7201a8\"],[0.3333333333333333,\"#9c179e\"],[0.4444444444444444,\"#bd3786\"],[0.5555555555555556,\"#d8576b\"],[0.6666666666666666,\"#ed7953\"],[0.7777777777777778,\"#fb9f3a\"],[0.8888888888888888,\"#fdca26\"],[1.0,\"#f0f921\"]]}],\"contourcarpet\":[{\"type\":\"contourcarpet\",\"colorbar\":{\"outlinewidth\":0,\"ticks\":\"\"}}],\"contour\":[{\"type\":\"contour\",\"colorbar\":{\"outlinewidth\":0,\"ticks\":\"\"},\"colorscale\":[[0.0,\"#0d0887\"],[0.1111111111111111,\"#46039f\"],[0.2222222222222222,\"#7201a8\"],[0.3333333333333333,\"#9c179e\"],[0.4444444444444444,\"#bd3786\"],[0.5555555555555556,\"#d8576b\"],[0.6666666666666666,\"#ed7953\"],[0.7777777777777778,\"#fb9f3a\"],[0.8888888888888888,\"#fdca26\"],[1.0,\"#f0f921\"]]}],\"surface\":[{\"type\":\"surface\",\"colorbar\":{\"outlinewidth\":0,\"ticks\":\"\"},\"colorscale\":[[0.0,\"#0d0887\"],[0.1111111111111111,\"#46039f\"],[0.2222222222222222,\"#7201a8\"],[0.3333333333333333,\"#9c179e\"],[0.4444444444444444,\"#bd3786\"],[0.5555555555555556,\"#d8576b\"],[0.6666666666666666,\"#ed7953\"],[0.7777777777777778,\"#fb9f3a\"],[0.8888888888888888,\"#fdca26\"],[1.0,\"#f0f921\"]]}],\"mesh3d\":[{\"type\":\"mesh3d\",\"colorbar\":{\"outlinewidth\":0,\"ticks\":\"\"}}],\"scatter\":[{\"fillpattern\":{\"fillmode\":\"overlay\",\"size\":10,\"solidity\":0.2},\"type\":\"scatter\"}],\"parcoords\":[{\"type\":\"parcoords\",\"line\":{\"colorbar\":{\"outlinewidth\":0,\"ticks\":\"\"}}}],\"scatterpolargl\":[{\"type\":\"scatterpolargl\",\"marker\":{\"colorbar\":{\"outlinewidth\":0,\"ticks\":\"\"}}}],\"bar\":[{\"error_x\":{\"color\":\"#2a3f5f\"},\"error_y\":{\"color\":\"#2a3f5f\"},\"marker\":{\"line\":{\"color\":\"#E5ECF6\",\"width\":0.5},\"pattern\":{\"fillmode\":\"overlay\",\"size\":10,\"solidity\":0.2}},\"type\":\"bar\"}],\"scattergeo\":[{\"type\":\"scattergeo\",\"marker\":{\"colorbar\":{\"outlinewidth\":0,\"ticks\":\"\"}}}],\"scatterpolar\":[{\"type\":\"scatterpolar\",\"marker\":{\"colorbar\":{\"outlinewidth\":0,\"ticks\":\"\"}}}],\"histogram\":[{\"marker\":{\"pattern\":{\"fillmode\":\"overlay\",\"size\":10,\"solidity\":0.2}},\"type\":\"histogram\"}],\"scattergl\":[{\"type\":\"scattergl\",\"marker\":{\"colorbar\":{\"outlinewidth\":0,\"ticks\":\"\"}}}],\"scatter3d\":[{\"type\":\"scatter3d\",\"line\":{\"colorbar\":{\"outlinewidth\":0,\"ticks\":\"\"}},\"marker\":{\"colorbar\":{\"outlinewidth\":0,\"ticks\":\"\"}}}],\"scattermapbox\":[{\"type\":\"scattermapbox\",\"marker\":{\"colorbar\":{\"outlinewidth\":0,\"ticks\":\"\"}}}],\"scatterternary\":[{\"type\":\"scatterternary\",\"marker\":{\"colorbar\":{\"outlinewidth\":0,\"ticks\":\"\"}}}],\"scattercarpet\":[{\"type\":\"scattercarpet\",\"marker\":{\"colorbar\":{\"outlinewidth\":0,\"ticks\":\"\"}}}],\"carpet\":[{\"aaxis\":{\"endlinecolor\":\"#2a3f5f\",\"gridcolor\":\"white\",\"linecolor\":\"white\",\"minorgridcolor\":\"white\",\"startlinecolor\":\"#2a3f5f\"},\"baxis\":{\"endlinecolor\":\"#2a3f5f\",\"gridcolor\":\"white\",\"linecolor\":\"white\",\"minorgridcolor\":\"white\",\"startlinecolor\":\"#2a3f5f\"},\"type\":\"carpet\"}],\"table\":[{\"cells\":{\"fill\":{\"color\":\"#EBF0F8\"},\"line\":{\"color\":\"white\"}},\"header\":{\"fill\":{\"color\":\"#C8D4E3\"},\"line\":{\"color\":\"white\"}},\"type\":\"table\"}],\"barpolar\":[{\"marker\":{\"line\":{\"color\":\"#E5ECF6\",\"width\":0.5},\"pattern\":{\"fillmode\":\"overlay\",\"size\":10,\"solidity\":0.2}},\"type\":\"barpolar\"}],\"pie\":[{\"automargin\":true,\"type\":\"pie\"}]},\"layout\":{\"autotypenumbers\":\"strict\",\"colorway\":[\"#636efa\",\"#EF553B\",\"#00cc96\",\"#ab63fa\",\"#FFA15A\",\"#19d3f3\",\"#FF6692\",\"#B6E880\",\"#FF97FF\",\"#FECB52\"],\"font\":{\"color\":\"#2a3f5f\"},\"hovermode\":\"closest\",\"hoverlabel\":{\"align\":\"left\"},\"paper_bgcolor\":\"white\",\"plot_bgcolor\":\"#E5ECF6\",\"polar\":{\"bgcolor\":\"#E5ECF6\",\"angularaxis\":{\"gridcolor\":\"white\",\"linecolor\":\"white\",\"ticks\":\"\"},\"radialaxis\":{\"gridcolor\":\"white\",\"linecolor\":\"white\",\"ticks\":\"\"}},\"ternary\":{\"bgcolor\":\"#E5ECF6\",\"aaxis\":{\"gridcolor\":\"white\",\"linecolor\":\"white\",\"ticks\":\"\"},\"baxis\":{\"gridcolor\":\"white\",\"linecolor\":\"white\",\"ticks\":\"\"},\"caxis\":{\"gridcolor\":\"white\",\"linecolor\":\"white\",\"ticks\":\"\"}},\"coloraxis\":{\"colorbar\":{\"outlinewidth\":0,\"ticks\":\"\"}},\"colorscale\":{\"sequential\":[[0.0,\"#0d0887\"],[0.1111111111111111,\"#46039f\"],[0.2222222222222222,\"#7201a8\"],[0.3333333333333333,\"#9c179e\"],[0.4444444444444444,\"#bd3786\"],[0.5555555555555556,\"#d8576b\"],[0.6666666666666666,\"#ed7953\"],[0.7777777777777778,\"#fb9f3a\"],[0.8888888888888888,\"#fdca26\"],[1.0,\"#f0f921\"]],\"sequentialminus\":[[0.0,\"#0d0887\"],[0.1111111111111111,\"#46039f\"],[0.2222222222222222,\"#7201a8\"],[0.3333333333333333,\"#9c179e\"],[0.4444444444444444,\"#bd3786\"],[0.5555555555555556,\"#d8576b\"],[0.6666666666666666,\"#ed7953\"],[0.7777777777777778,\"#fb9f3a\"],[0.8888888888888888,\"#fdca26\"],[1.0,\"#f0f921\"]],\"diverging\":[[0,\"#8e0152\"],[0.1,\"#c51b7d\"],[0.2,\"#de77ae\"],[0.3,\"#f1b6da\"],[0.4,\"#fde0ef\"],[0.5,\"#f7f7f7\"],[0.6,\"#e6f5d0\"],[0.7,\"#b8e186\"],[0.8,\"#7fbc41\"],[0.9,\"#4d9221\"],[1,\"#276419\"]]},\"xaxis\":{\"gridcolor\":\"white\",\"linecolor\":\"white\",\"ticks\":\"\",\"title\":{\"standoff\":15},\"zerolinecolor\":\"white\",\"automargin\":true,\"zerolinewidth\":2},\"yaxis\":{\"gridcolor\":\"white\",\"linecolor\":\"white\",\"ticks\":\"\",\"title\":{\"standoff\":15},\"zerolinecolor\":\"white\",\"automargin\":true,\"zerolinewidth\":2},\"scene\":{\"xaxis\":{\"backgroundcolor\":\"#E5ECF6\",\"gridcolor\":\"white\",\"linecolor\":\"white\",\"showbackground\":true,\"ticks\":\"\",\"zerolinecolor\":\"white\",\"gridwidth\":2},\"yaxis\":{\"backgroundcolor\":\"#E5ECF6\",\"gridcolor\":\"white\",\"linecolor\":\"white\",\"showbackground\":true,\"ticks\":\"\",\"zerolinecolor\":\"white\",\"gridwidth\":2},\"zaxis\":{\"backgroundcolor\":\"#E5ECF6\",\"gridcolor\":\"white\",\"linecolor\":\"white\",\"showbackground\":true,\"ticks\":\"\",\"zerolinecolor\":\"white\",\"gridwidth\":2}},\"shapedefaults\":{\"line\":{\"color\":\"#2a3f5f\"}},\"annotationdefaults\":{\"arrowcolor\":\"#2a3f5f\",\"arrowhead\":0,\"arrowwidth\":1},\"geo\":{\"bgcolor\":\"white\",\"landcolor\":\"#E5ECF6\",\"subunitcolor\":\"white\",\"showland\":true,\"showlakes\":true,\"lakecolor\":\"white\"},\"title\":{\"x\":0.05},\"mapbox\":{\"style\":\"light\"}}},\"xaxis\":{\"anchor\":\"y\",\"domain\":[0.0,1.0],\"title\":{\"text\":\"CUST_NAME\"}},\"yaxis\":{\"anchor\":\"x\",\"domain\":[0.0,1.0],\"title\":{\"text\":\"PAYMENT_AMT\"}},\"legend\":{\"tracegroupgap\":0},\"margin\":{\"t\":60},\"barmode\":\"relative\"},                        {\"responsive\": true}                    ).then(function(){\n",
       "                            \n",
       "var gd = document.getElementById('8e64adf3-2603-401f-9ce2-d4abb1cd8725');\n",
       "var x = new MutationObserver(function (mutations, observer) {{\n",
       "        var display = window.getComputedStyle(gd).display;\n",
       "        if (!display || display === 'none') {{\n",
       "            console.log([gd, 'removed!']);\n",
       "            Plotly.purge(gd);\n",
       "            observer.disconnect();\n",
       "        }}\n",
       "}});\n",
       "\n",
       "// Listen for the removal of the full notebook cells\n",
       "var notebookContainer = gd.closest('#notebook-container');\n",
       "if (notebookContainer) {{\n",
       "    x.observe(notebookContainer, {childList: true});\n",
       "}}\n",
       "\n",
       "// Listen for the clearing of the current output cell\n",
       "var outputEl = gd.closest('.output');\n",
       "if (outputEl) {{\n",
       "    x.observe(outputEl, {childList: true});\n",
       "}}\n",
       "\n",
       "                        })                };                });            </script>        </div>"
      ]
     },
     "metadata": {},
     "output_type": "display_data"
    }
   ],
   "source": [
    "px.bar(df,'CUST_NAME','PAYMENT_AMT')"
   ]
  },
  {
   "cell_type": "code",
   "execution_count": 121,
   "id": "7cd68977",
   "metadata": {},
   "outputs": [],
   "source": [
    "import seaborn as sns"
   ]
  },
  {
   "cell_type": "code",
   "execution_count": 138,
   "id": "6b04a26a",
   "metadata": {},
   "outputs": [
    {
     "data": {
      "text/plain": [
       "<Axes: xlabel='CUST_NAME', ylabel='PAYMENT_AMT'>"
      ]
     },
     "execution_count": 138,
     "metadata": {},
     "output_type": "execute_result"
    },
    {
     "data": {
      "image/png": "[encoded data removed]",
      "text/plain": [
       "<Figure size 640x480 with 1 Axes>"
      ]
     },
     "metadata": {},
     "output_type": "display_data"
    }
   ],
   "source": [
    "sns.barplot(data=df,x='CUST_NAME',y='PAYMENT_AMT')"
   ]
  },
  {
   "cell_type": "code",
   "execution_count": 127,
   "id": "b7e68f5e",
   "metadata": {
    "scrolled": true
   },
   "outputs": [
    {
     "data": {
      "text/html": [
       "<div>\n",
       "<style scoped>\n",
       "    .dataframe tbody tr th:only-of-type {\n",
       "        vertical-align: middle;\n",
       "    }\n",
       "\n",
       "    .dataframe tbody tr th {\n",
       "        vertical-align: top;\n",
       "    }\n",
       "\n",
       "    .dataframe thead th {\n",
       "        text-align: right;\n",
       "    }\n",
       "</style>\n",
       "<table border=\"1\" class=\"dataframe\">\n",
       "  <thead>\n",
       "    <tr style=\"text-align: right;\">\n",
       "      <th></th>\n",
       "      <th>CUST_CODE</th>\n",
       "      <th>CUST_NAME</th>\n",
       "      <th>CUST_CITY</th>\n",
       "      <th>WORKING_AREA</th>\n",
       "      <th>CUST_COUNTRY</th>\n",
       "      <th>GRADE</th>\n",
       "      <th>OPENING_AMT</th>\n",
       "      <th>RECEIVE_AMT</th>\n",
       "      <th>PAYMENT_AMT</th>\n",
       "      <th>OUTSTANDING_AMT</th>\n",
       "      <th>PHONE_NO</th>\n",
       "      <th>AGENT_CODE</th>\n",
       "    </tr>\n",
       "  </thead>\n",
       "  <tbody>\n",
       "    <tr>\n",
       "      <th>0</th>\n",
       "      <td>C00013</td>\n",
       "      <td>Holmes</td>\n",
       "      <td>London</td>\n",
       "      <td>London</td>\n",
       "      <td>UK</td>\n",
       "      <td>2.0</td>\n",
       "      <td>6000.0</td>\n",
       "      <td>5000.0</td>\n",
       "      <td>7000.0</td>\n",
       "      <td>4000.0</td>\n",
       "      <td>BBBBBBB</td>\n",
       "      <td>A003</td>\n",
       "    </tr>\n",
       "    <tr>\n",
       "      <th>1</th>\n",
       "      <td>C00001</td>\n",
       "      <td>Micheal</td>\n",
       "      <td>New York</td>\n",
       "      <td>New York</td>\n",
       "      <td>USA</td>\n",
       "      <td>2.0</td>\n",
       "      <td>3000.0</td>\n",
       "      <td>5000.0</td>\n",
       "      <td>2000.0</td>\n",
       "      <td>6000.0</td>\n",
       "      <td>CCCCCCC</td>\n",
       "      <td>A008</td>\n",
       "    </tr>\n",
       "    <tr>\n",
       "      <th>2</th>\n",
       "      <td>C00020</td>\n",
       "      <td>Albert</td>\n",
       "      <td>New York</td>\n",
       "      <td>New York</td>\n",
       "      <td>USA</td>\n",
       "      <td>3.0</td>\n",
       "      <td>5000.0</td>\n",
       "      <td>7000.0</td>\n",
       "      <td>6000.0</td>\n",
       "      <td>6000.0</td>\n",
       "      <td>BBBBSBB</td>\n",
       "      <td>A008</td>\n",
       "    </tr>\n",
       "    <tr>\n",
       "      <th>3</th>\n",
       "      <td>C00025</td>\n",
       "      <td>Ravindran</td>\n",
       "      <td>Bangalore</td>\n",
       "      <td>Bangalore</td>\n",
       "      <td>India</td>\n",
       "      <td>2.0</td>\n",
       "      <td>5000.0</td>\n",
       "      <td>7000.0</td>\n",
       "      <td>4000.0</td>\n",
       "      <td>8000.0</td>\n",
       "      <td>AVAVAVA</td>\n",
       "      <td>A011</td>\n",
       "    </tr>\n",
       "    <tr>\n",
       "      <th>4</th>\n",
       "      <td>C00024</td>\n",
       "      <td>Cook</td>\n",
       "      <td>London</td>\n",
       "      <td>London</td>\n",
       "      <td>UK</td>\n",
       "      <td>2.0</td>\n",
       "      <td>4000.0</td>\n",
       "      <td>9000.0</td>\n",
       "      <td>7000.0</td>\n",
       "      <td>6000.0</td>\n",
       "      <td>FSDDSDF</td>\n",
       "      <td>A006</td>\n",
       "    </tr>\n",
       "    <tr>\n",
       "      <th>5</th>\n",
       "      <td>C00015</td>\n",
       "      <td>Stuart</td>\n",
       "      <td>London</td>\n",
       "      <td>London</td>\n",
       "      <td>UK</td>\n",
       "      <td>1.0</td>\n",
       "      <td>6000.0</td>\n",
       "      <td>8000.0</td>\n",
       "      <td>3000.0</td>\n",
       "      <td>11000.0</td>\n",
       "      <td>GFSGERS</td>\n",
       "      <td>A003</td>\n",
       "    </tr>\n",
       "    <tr>\n",
       "      <th>6</th>\n",
       "      <td>C00002</td>\n",
       "      <td>Bolt</td>\n",
       "      <td>New York</td>\n",
       "      <td>New York</td>\n",
       "      <td>USA</td>\n",
       "      <td>3.0</td>\n",
       "      <td>5000.0</td>\n",
       "      <td>7000.0</td>\n",
       "      <td>9000.0</td>\n",
       "      <td>3000.0</td>\n",
       "      <td>DDNRDRH</td>\n",
       "      <td>A008</td>\n",
       "    </tr>\n",
       "    <tr>\n",
       "      <th>7</th>\n",
       "      <td>C00018</td>\n",
       "      <td>Fleming</td>\n",
       "      <td>Brisban</td>\n",
       "      <td>Brisban</td>\n",
       "      <td>Australia</td>\n",
       "      <td>2.0</td>\n",
       "      <td>7000.0</td>\n",
       "      <td>7000.0</td>\n",
       "      <td>9000.0</td>\n",
       "      <td>5000.0</td>\n",
       "      <td>NHBGVFC</td>\n",
       "      <td>A005</td>\n",
       "    </tr>\n",
       "    <tr>\n",
       "      <th>8</th>\n",
       "      <td>C00021</td>\n",
       "      <td>Jacks</td>\n",
       "      <td>Brisban</td>\n",
       "      <td>Brisban</td>\n",
       "      <td>Australia</td>\n",
       "      <td>1.0</td>\n",
       "      <td>7000.0</td>\n",
       "      <td>7000.0</td>\n",
       "      <td>7000.0</td>\n",
       "      <td>7000.0</td>\n",
       "      <td>WERTGDF</td>\n",
       "      <td>A005</td>\n",
       "    </tr>\n",
       "    <tr>\n",
       "      <th>9</th>\n",
       "      <td>C00019</td>\n",
       "      <td>Yearannaidu</td>\n",
       "      <td>Chennai</td>\n",
       "      <td>Chennai</td>\n",
       "      <td>India</td>\n",
       "      <td>1.0</td>\n",
       "      <td>8000.0</td>\n",
       "      <td>7000.0</td>\n",
       "      <td>7000.0</td>\n",
       "      <td>8000.0</td>\n",
       "      <td>ZZZZBFV</td>\n",
       "      <td>A010</td>\n",
       "    </tr>\n",
       "    <tr>\n",
       "      <th>10</th>\n",
       "      <td>C00005</td>\n",
       "      <td>Sasikant</td>\n",
       "      <td>Mumbai</td>\n",
       "      <td>Mumbai</td>\n",
       "      <td>India</td>\n",
       "      <td>1.0</td>\n",
       "      <td>7000.0</td>\n",
       "      <td>11000.0</td>\n",
       "      <td>7000.0</td>\n",
       "      <td>11000.0</td>\n",
       "      <td>147-25896312</td>\n",
       "      <td>A002</td>\n",
       "    </tr>\n",
       "    <tr>\n",
       "      <th>11</th>\n",
       "      <td>C00007</td>\n",
       "      <td>Ramanathan</td>\n",
       "      <td>Chennai</td>\n",
       "      <td>Chennai</td>\n",
       "      <td>India</td>\n",
       "      <td>1.0</td>\n",
       "      <td>7000.0</td>\n",
       "      <td>11000.0</td>\n",
       "      <td>9000.0</td>\n",
       "      <td>9000.0</td>\n",
       "      <td>GHRDWSD</td>\n",
       "      <td>A010</td>\n",
       "    </tr>\n",
       "    <tr>\n",
       "      <th>12</th>\n",
       "      <td>C00022</td>\n",
       "      <td>Avinash</td>\n",
       "      <td>Mumbai</td>\n",
       "      <td>Mumbai</td>\n",
       "      <td>India</td>\n",
       "      <td>2.0</td>\n",
       "      <td>7000.0</td>\n",
       "      <td>11000.0</td>\n",
       "      <td>9000.0</td>\n",
       "      <td>9000.0</td>\n",
       "      <td>113-12345678</td>\n",
       "      <td>A002</td>\n",
       "    </tr>\n",
       "    <tr>\n",
       "      <th>13</th>\n",
       "      <td>C00004</td>\n",
       "      <td>Winston</td>\n",
       "      <td>Brisban</td>\n",
       "      <td>Brisban</td>\n",
       "      <td>Australia</td>\n",
       "      <td>1.0</td>\n",
       "      <td>5000.0</td>\n",
       "      <td>8000.0</td>\n",
       "      <td>7000.0</td>\n",
       "      <td>6000.0</td>\n",
       "      <td>AAAAAAA</td>\n",
       "      <td>A005</td>\n",
       "    </tr>\n",
       "    <tr>\n",
       "      <th>14</th>\n",
       "      <td>C00023</td>\n",
       "      <td>Karl</td>\n",
       "      <td>London</td>\n",
       "      <td>London</td>\n",
       "      <td>UK</td>\n",
       "      <td>0.0</td>\n",
       "      <td>4000.0</td>\n",
       "      <td>6000.0</td>\n",
       "      <td>7000.0</td>\n",
       "      <td>3000.0</td>\n",
       "      <td>AAAABAA</td>\n",
       "      <td>A006</td>\n",
       "    </tr>\n",
       "    <tr>\n",
       "      <th>15</th>\n",
       "      <td>C00006</td>\n",
       "      <td>Shilton</td>\n",
       "      <td>Torento</td>\n",
       "      <td>Torento</td>\n",
       "      <td>Canada</td>\n",
       "      <td>1.0</td>\n",
       "      <td>10000.0</td>\n",
       "      <td>7000.0</td>\n",
       "      <td>6000.0</td>\n",
       "      <td>11000.0</td>\n",
       "      <td>DDDDDDD</td>\n",
       "      <td>A004</td>\n",
       "    </tr>\n",
       "    <tr>\n",
       "      <th>16</th>\n",
       "      <td>C00010</td>\n",
       "      <td>Charles</td>\n",
       "      <td>Hampshair</td>\n",
       "      <td>Hampshair</td>\n",
       "      <td>UK</td>\n",
       "      <td>3.0</td>\n",
       "      <td>6000.0</td>\n",
       "      <td>4000.0</td>\n",
       "      <td>5000.0</td>\n",
       "      <td>5000.0</td>\n",
       "      <td>MMMMMMM</td>\n",
       "      <td>A009</td>\n",
       "    </tr>\n",
       "    <tr>\n",
       "      <th>17</th>\n",
       "      <td>C00017</td>\n",
       "      <td>Srinivas</td>\n",
       "      <td>Bangalore</td>\n",
       "      <td>Bangalore</td>\n",
       "      <td>India</td>\n",
       "      <td>2.0</td>\n",
       "      <td>8000.0</td>\n",
       "      <td>4000.0</td>\n",
       "      <td>3000.0</td>\n",
       "      <td>9000.0</td>\n",
       "      <td>AAAAAAB</td>\n",
       "      <td>A007</td>\n",
       "    </tr>\n",
       "    <tr>\n",
       "      <th>18</th>\n",
       "      <td>C00012</td>\n",
       "      <td>Steven</td>\n",
       "      <td>San Jose</td>\n",
       "      <td>San Jose</td>\n",
       "      <td>USA</td>\n",
       "      <td>1.0</td>\n",
       "      <td>5000.0</td>\n",
       "      <td>7000.0</td>\n",
       "      <td>9000.0</td>\n",
       "      <td>3000.0</td>\n",
       "      <td>KRFYGJK</td>\n",
       "      <td>A012</td>\n",
       "    </tr>\n",
       "    <tr>\n",
       "      <th>19</th>\n",
       "      <td>C00008</td>\n",
       "      <td>Karolina</td>\n",
       "      <td>Torento</td>\n",
       "      <td>Torento</td>\n",
       "      <td>Canada</td>\n",
       "      <td>1.0</td>\n",
       "      <td>7000.0</td>\n",
       "      <td>7000.0</td>\n",
       "      <td>9000.0</td>\n",
       "      <td>5000.0</td>\n",
       "      <td>HJKORED</td>\n",
       "      <td>A004</td>\n",
       "    </tr>\n",
       "    <tr>\n",
       "      <th>20</th>\n",
       "      <td>C00003</td>\n",
       "      <td>Martin</td>\n",
       "      <td>Torento</td>\n",
       "      <td>Torento</td>\n",
       "      <td>Canada</td>\n",
       "      <td>2.0</td>\n",
       "      <td>8000.0</td>\n",
       "      <td>7000.0</td>\n",
       "      <td>7000.0</td>\n",
       "      <td>8000.0</td>\n",
       "      <td>MJYURFD</td>\n",
       "      <td>A004</td>\n",
       "    </tr>\n",
       "    <tr>\n",
       "      <th>21</th>\n",
       "      <td>C00009</td>\n",
       "      <td>Ramesh</td>\n",
       "      <td>Mumbai</td>\n",
       "      <td>Mumbai</td>\n",
       "      <td>India</td>\n",
       "      <td>3.0</td>\n",
       "      <td>8000.0</td>\n",
       "      <td>7000.0</td>\n",
       "      <td>3000.0</td>\n",
       "      <td>12000.0</td>\n",
       "      <td>Phone No</td>\n",
       "      <td>A002</td>\n",
       "    </tr>\n",
       "    <tr>\n",
       "      <th>22</th>\n",
       "      <td>C00014</td>\n",
       "      <td>Rangarappa</td>\n",
       "      <td>Bangalore</td>\n",
       "      <td>Bangalore</td>\n",
       "      <td>India</td>\n",
       "      <td>2.0</td>\n",
       "      <td>8000.0</td>\n",
       "      <td>11000.0</td>\n",
       "      <td>7000.0</td>\n",
       "      <td>12000.0</td>\n",
       "      <td>AAAATGF</td>\n",
       "      <td>A001</td>\n",
       "    </tr>\n",
       "    <tr>\n",
       "      <th>23</th>\n",
       "      <td>C00016</td>\n",
       "      <td>Venkatpati</td>\n",
       "      <td>Bangalore</td>\n",
       "      <td>Bangalore</td>\n",
       "      <td>India</td>\n",
       "      <td>2.0</td>\n",
       "      <td>8000.0</td>\n",
       "      <td>11000.0</td>\n",
       "      <td>7000.0</td>\n",
       "      <td>12000.0</td>\n",
       "      <td>JRTVFDD</td>\n",
       "      <td>A007</td>\n",
       "    </tr>\n",
       "    <tr>\n",
       "      <th>24</th>\n",
       "      <td>C00011</td>\n",
       "      <td>Sundariya</td>\n",
       "      <td>Chennai</td>\n",
       "      <td>Chennai</td>\n",
       "      <td>India</td>\n",
       "      <td>3.0</td>\n",
       "      <td>7000.0</td>\n",
       "      <td>11000.0</td>\n",
       "      <td>7000.0</td>\n",
       "      <td>11000.0</td>\n",
       "      <td>PPHGRTS</td>\n",
       "      <td>A010</td>\n",
       "    </tr>\n",
       "  </tbody>\n",
       "</table>\n",
       "</div>"
      ],
      "text/plain": [
       "   CUST_CODE    CUST_NAME                            CUST_CITY WORKING_AREA  \\\n",
       "0     C00013       Holmes  London                                    London   \n",
       "1     C00001      Micheal  New York                                New York   \n",
       "2     C00020       Albert  New York                                New York   \n",
       "3     C00025    Ravindran  Bangalore                              Bangalore   \n",
       "4     C00024         Cook  London                                    London   \n",
       "5     C00015       Stuart  London                                    London   \n",
       "6     C00002         Bolt  New York                                New York   \n",
       "7     C00018      Fleming  Brisban                                  Brisban   \n",
       "8     C00021        Jacks  Brisban                                  Brisban   \n",
       "9     C00019  Yearannaidu  Chennai                                  Chennai   \n",
       "10    C00005     Sasikant  Mumbai                                    Mumbai   \n",
       "11    C00007   Ramanathan  Chennai                                  Chennai   \n",
       "12    C00022      Avinash  Mumbai                                    Mumbai   \n",
       "13    C00004      Winston  Brisban                                  Brisban   \n",
       "14    C00023         Karl  London                                    London   \n",
       "15    C00006      Shilton  Torento                                  Torento   \n",
       "16    C00010      Charles  Hampshair                              Hampshair   \n",
       "17    C00017     Srinivas  Bangalore                              Bangalore   \n",
       "18    C00012       Steven  San Jose                                San Jose   \n",
       "19    C00008     Karolina  Torento                                  Torento   \n",
       "20    C00003       Martin  Torento                                  Torento   \n",
       "21    C00009       Ramesh  Mumbai                                    Mumbai   \n",
       "22    C00014   Rangarappa  Bangalore                              Bangalore   \n",
       "23    C00016   Venkatpati  Bangalore                              Bangalore   \n",
       "24    C00011    Sundariya  Chennai                                  Chennai   \n",
       "\n",
       "   CUST_COUNTRY  GRADE  OPENING_AMT  RECEIVE_AMT  PAYMENT_AMT  \\\n",
       "0            UK    2.0       6000.0       5000.0       7000.0   \n",
       "1           USA    2.0       3000.0       5000.0       2000.0   \n",
       "2           USA    3.0       5000.0       7000.0       6000.0   \n",
       "3         India    2.0       5000.0       7000.0       4000.0   \n",
       "4            UK    2.0       4000.0       9000.0       7000.0   \n",
       "5            UK    1.0       6000.0       8000.0       3000.0   \n",
       "6           USA    3.0       5000.0       7000.0       9000.0   \n",
       "7     Australia    2.0       7000.0       7000.0       9000.0   \n",
       "8     Australia    1.0       7000.0       7000.0       7000.0   \n",
       "9         India    1.0       8000.0       7000.0       7000.0   \n",
       "10        India    1.0       7000.0      11000.0       7000.0   \n",
       "11        India    1.0       7000.0      11000.0       9000.0   \n",
       "12        India    2.0       7000.0      11000.0       9000.0   \n",
       "13    Australia    1.0       5000.0       8000.0       7000.0   \n",
       "14           UK    0.0       4000.0       6000.0       7000.0   \n",
       "15       Canada    1.0      10000.0       7000.0       6000.0   \n",
       "16           UK    3.0       6000.0       4000.0       5000.0   \n",
       "17        India    2.0       8000.0       4000.0       3000.0   \n",
       "18          USA    1.0       5000.0       7000.0       9000.0   \n",
       "19       Canada    1.0       7000.0       7000.0       9000.0   \n",
       "20       Canada    2.0       8000.0       7000.0       7000.0   \n",
       "21        India    3.0       8000.0       7000.0       3000.0   \n",
       "22        India    2.0       8000.0      11000.0       7000.0   \n",
       "23        India    2.0       8000.0      11000.0       7000.0   \n",
       "24        India    3.0       7000.0      11000.0       7000.0   \n",
       "\n",
       "    OUTSTANDING_AMT      PHONE_NO AGENT_CODE  \n",
       "0            4000.0       BBBBBBB     A003    \n",
       "1            6000.0       CCCCCCC     A008    \n",
       "2            6000.0       BBBBSBB     A008    \n",
       "3            8000.0       AVAVAVA     A011    \n",
       "4            6000.0       FSDDSDF     A006    \n",
       "5           11000.0       GFSGERS     A003    \n",
       "6            3000.0       DDNRDRH     A008    \n",
       "7            5000.0       NHBGVFC     A005    \n",
       "8            7000.0       WERTGDF     A005    \n",
       "9            8000.0       ZZZZBFV     A010    \n",
       "10          11000.0  147-25896312     A002    \n",
       "11           9000.0       GHRDWSD     A010    \n",
       "12           9000.0  113-12345678     A002    \n",
       "13           6000.0       AAAAAAA     A005    \n",
       "14           3000.0       AAAABAA     A006    \n",
       "15          11000.0       DDDDDDD     A004    \n",
       "16           5000.0       MMMMMMM     A009    \n",
       "17           9000.0       AAAAAAB     A007    \n",
       "18           3000.0       KRFYGJK     A012    \n",
       "19           5000.0       HJKORED     A004    \n",
       "20           8000.0       MJYURFD     A004    \n",
       "21          12000.0      Phone No     A002    \n",
       "22          12000.0       AAAATGF     A001    \n",
       "23          12000.0       JRTVFDD     A007    \n",
       "24          11000.0       PPHGRTS     A010    "
      ]
     },
     "execution_count": 127,
     "metadata": {},
     "output_type": "execute_result"
    }
   ],
   "source": [
    "df"
   ]
  },
  {
   "cell_type": "code",
   "execution_count": 137,
   "id": "6eb812bf",
   "metadata": {},
   "outputs": [
    {
     "data": {
      "text/plain": [
       "CUST_COUNTRY\n",
       "Australia    7666.666667\n",
       "Canada       7333.333333\n",
       "India        6300.000000\n",
       "UK           5800.000000\n",
       "USA          6500.000000\n",
       "Name: PAYMENT_AMT, dtype: float64"
      ]
     },
     "execution_count": 137,
     "metadata": {},
     "output_type": "execute_result"
    }
   ],
   "source": [
    "df.groupby('CUST_COUNTRY').PAYMENT_AMT.mean()"
   ]
  },
  {
   "cell_type": "code",
   "execution_count": 133,
   "id": "4e13040f",
   "metadata": {},
   "outputs": [
    {
     "data": {
      "text/html": [
       "<div>\n",
       "<style scoped>\n",
       "    .dataframe tbody tr th:only-of-type {\n",
       "        vertical-align: middle;\n",
       "    }\n",
       "\n",
       "    .dataframe tbody tr th {\n",
       "        vertical-align: top;\n",
       "    }\n",
       "\n",
       "    .dataframe thead th {\n",
       "        text-align: right;\n",
       "    }\n",
       "</style>\n",
       "<table border=\"1\" class=\"dataframe\">\n",
       "  <thead>\n",
       "    <tr style=\"text-align: right;\">\n",
       "      <th></th>\n",
       "      <th>CUST_COUNTRY</th>\n",
       "      <th>PAYMENT_AMT</th>\n",
       "    </tr>\n",
       "  </thead>\n",
       "  <tbody>\n",
       "    <tr>\n",
       "      <th>0</th>\n",
       "      <td>Australia</td>\n",
       "      <td>7666.666667</td>\n",
       "    </tr>\n",
       "    <tr>\n",
       "      <th>1</th>\n",
       "      <td>Canada</td>\n",
       "      <td>7333.333333</td>\n",
       "    </tr>\n",
       "    <tr>\n",
       "      <th>2</th>\n",
       "      <td>India</td>\n",
       "      <td>6300.000000</td>\n",
       "    </tr>\n",
       "    <tr>\n",
       "      <th>3</th>\n",
       "      <td>UK</td>\n",
       "      <td>5800.000000</td>\n",
       "    </tr>\n",
       "    <tr>\n",
       "      <th>4</th>\n",
       "      <td>USA</td>\n",
       "      <td>6500.000000</td>\n",
       "    </tr>\n",
       "  </tbody>\n",
       "</table>\n",
       "</div>"
      ],
      "text/plain": [
       "  CUST_COUNTRY  PAYMENT_AMT\n",
       "0    Australia  7666.666667\n",
       "1       Canada  7333.333333\n",
       "2        India  6300.000000\n",
       "3           UK  5800.000000\n",
       "4          USA  6500.000000"
      ]
     },
     "execution_count": 133,
     "metadata": {},
     "output_type": "execute_result"
    }
   ],
   "source": [
    "pay_avg_df=df.groupby('CUST_COUNTRY').PAYMENT_AMT.mean().reset_index()\n",
    "pay_avg_df"
   ]
  },
  {
   "cell_type": "code",
   "execution_count": 141,
   "id": "8bec49cd",
   "metadata": {},
   "outputs": [
    {
     "data": {
      "application/vnd.plotly.v1+json": {
       "config": {
        "plotlyServerURL": "https://plot.ly"
       },
       "data": [
        {
         "alignmentgroup": "True",
         "hovertemplate": "CUST_COUNTRY=%{x}<br>PAYMENT_AMT=%{y}<extra></extra>",
         "legendgroup": "",
         "marker": {
          "color": "#636efa",
          "pattern": {
           "shape": ""
          }
         },
         "name": "",
         "offsetgroup": "",
         "orientation": "v",
         "showlegend": false,
         "textposition": "auto",
         "type": "bar",
         "x": [
          "Australia",
          "Canada",
          "India",
          "UK",
          "USA"
         ],
         "xaxis": "x",
         "y": [
          7666.666666666667,
          7333.333333333333,
          6300,
          5800,
          6500
         ],
         "yaxis": "y"
        }
       ],
       "layout": {
        "barmode": "relative",
        "legend": {
         "tracegroupgap": 0
        },
        "margin": {
         "t": 60
        },
        "template": {
         "data": {
          "bar": [
           {
            "error_x": {
             "color": "#2a3f5f"
            },
            "error_y": {
             "color": "#2a3f5f"
            },
            "marker": {
             "line": {
              "color": "#E5ECF6",
              "width": 0.5
             },
             "pattern": {
              "fillmode": "overlay",
              "size": 10,
              "solidity": 0.2
             }
            },
            "type": "bar"
           }
          ],
          "barpolar": [
           {
            "marker": {
             "line": {
              "color": "#E5ECF6",
              "width": 0.5
             },
             "pattern": {
              "fillmode": "overlay",
              "size": 10,
              "solidity": 0.2
             }
            },
            "type": "barpolar"
           }
          ],
          "carpet": [
           {
            "aaxis": {
             "endlinecolor": "#2a3f5f",
             "gridcolor": "white",
             "linecolor": "white",
             "minorgridcolor": "white",
             "startlinecolor": "#2a3f5f"
            },
            "baxis": {
             "endlinecolor": "#2a3f5f",
             "gridcolor": "white",
             "linecolor": "white",
             "minorgridcolor": "white",
             "startlinecolor": "#2a3f5f"
            },
            "type": "carpet"
           }
          ],
          "choropleth": [
           {
            "colorbar": {
             "outlinewidth": 0,
             "ticks": ""
            },
            "type": "choropleth"
           }
          ],
          "contour": [
           {
            "colorbar": {
             "outlinewidth": 0,
             "ticks": ""
            },
            "colorscale": [
             [
              0,
              "#0d0887"
             ],
             [
              0.1111111111111111,
              "#46039f"
             ],
             [
              0.2222222222222222,
              "#7201a8"
             ],
             [
              0.3333333333333333,
              "#9c179e"
             ],
             [
              0.4444444444444444,
              "#bd3786"
             ],
             [
              0.5555555555555556,
              "#d8576b"
             ],
             [
              0.6666666666666666,
              "#ed7953"
             ],
             [
              0.7777777777777778,
              "#fb9f3a"
             ],
             [
              0.8888888888888888,
              "#fdca26"
             ],
             [
              1,
              "#f0f921"
             ]
            ],
            "type": "contour"
           }
          ],
          "contourcarpet": [
           {
            "colorbar": {
             "outlinewidth": 0,
             "ticks": ""
            },
            "type": "contourcarpet"
           }
          ],
          "heatmap": [
           {
            "colorbar": {
             "outlinewidth": 0,
             "ticks": ""
            },
            "colorscale": [
             [
              0,
              "#0d0887"
             ],
             [
              0.1111111111111111,
              "#46039f"
             ],
             [
              0.2222222222222222,
              "#7201a8"
             ],
             [
              0.3333333333333333,
              "#9c179e"
             ],
             [
              0.4444444444444444,
              "#bd3786"
             ],
             [
              0.5555555555555556,
              "#d8576b"
             ],
             [
              0.6666666666666666,
              "#ed7953"
             ],
             [
              0.7777777777777778,
              "#fb9f3a"
             ],
             [
              0.8888888888888888,
              "#fdca26"
             ],
             [
              1,
              "#f0f921"
             ]
            ],
            "type": "heatmap"
           }
          ],
          "heatmapgl": [
           {
            "colorbar": {
             "outlinewidth": 0,
             "ticks": ""
            },
            "colorscale": [
             [
              0,
              "#0d0887"
             ],
             [
              0.1111111111111111,
              "#46039f"
             ],
             [
              0.2222222222222222,
              "#7201a8"
             ],
             [
              0.3333333333333333,
              "#9c179e"
             ],
             [
              0.4444444444444444,
              "#bd3786"
             ],
             [
              0.5555555555555556,
              "#d8576b"
             ],
             [
              0.6666666666666666,
              "#ed7953"
             ],
             [
              0.7777777777777778,
              "#fb9f3a"
             ],
             [
              0.8888888888888888,
              "#fdca26"
             ],
             [
              1,
              "#f0f921"
             ]
            ],
            "type": "heatmapgl"
           }
          ],
          "histogram": [
           {
            "marker": {
             "pattern": {
              "fillmode": "overlay",
              "size": 10,
              "solidity": 0.2
             }
            },
            "type": "histogram"
           }
          ],
          "histogram2d": [
           {
            "colorbar": {
             "outlinewidth": 0,
             "ticks": ""
            },
            "colorscale": [
             [
              0,
              "#0d0887"
             ],
             [
              0.1111111111111111,
              "#46039f"
             ],
             [
              0.2222222222222222,
              "#7201a8"
             ],
             [
              0.3333333333333333,
              "#9c179e"
             ],
             [
              0.4444444444444444,
              "#bd3786"
             ],
             [
              0.5555555555555556,
              "#d8576b"
             ],
             [
              0.6666666666666666,
              "#ed7953"
             ],
             [
              0.7777777777777778,
              "#fb9f3a"
             ],
             [
              0.8888888888888888,
              "#fdca26"
             ],
             [
              1,
              "#f0f921"
             ]
            ],
            "type": "histogram2d"
           }
          ],
          "histogram2dcontour": [
           {
            "colorbar": {
             "outlinewidth": 0,
             "ticks": ""
            },
            "colorscale": [
             [
              0,
              "#0d0887"
             ],
             [
              0.1111111111111111,
              "#46039f"
             ],
             [
              0.2222222222222222,
              "#7201a8"
             ],
             [
              0.3333333333333333,
              "#9c179e"
             ],
             [
              0.4444444444444444,
              "#bd3786"
             ],
             [
              0.5555555555555556,
              "#d8576b"
             ],
             [
              0.6666666666666666,
              "#ed7953"
             ],
             [
              0.7777777777777778,
              "#fb9f3a"
             ],
             [
              0.8888888888888888,
              "#fdca26"
             ],
             [
              1,
              "#f0f921"
             ]
            ],
            "type": "histogram2dcontour"
           }
          ],
          "mesh3d": [
           {
            "colorbar": {
             "outlinewidth": 0,
             "ticks": ""
            },
            "type": "mesh3d"
           }
          ],
          "parcoords": [
           {
            "line": {
             "colorbar": {
              "outlinewidth": 0,
              "ticks": ""
             }
            },
            "type": "parcoords"
           }
          ],
          "pie": [
           {
            "automargin": true,
            "type": "pie"
           }
          ],
          "scatter": [
           {
            "fillpattern": {
             "fillmode": "overlay",
             "size": 10,
             "solidity": 0.2
            },
            "type": "scatter"
           }
          ],
          "scatter3d": [
           {
            "line": {
             "colorbar": {
              "outlinewidth": 0,
              "ticks": ""
             }
            },
            "marker": {
             "colorbar": {
              "outlinewidth": 0,
              "ticks": ""
             }
            },
            "type": "scatter3d"
           }
          ],
          "scattercarpet": [
           {
            "marker": {
             "colorbar": {
              "outlinewidth": 0,
              "ticks": ""
             }
            },
            "type": "scattercarpet"
           }
          ],
          "scattergeo": [
           {
            "marker": {
             "colorbar": {
              "outlinewidth": 0,
              "ticks": ""
             }
            },
            "type": "scattergeo"
           }
          ],
          "scattergl": [
           {
            "marker": {
             "colorbar": {
              "outlinewidth": 0,
              "ticks": ""
             }
            },
            "type": "scattergl"
           }
          ],
          "scattermapbox": [
           {
            "marker": {
             "colorbar": {
              "outlinewidth": 0,
              "ticks": ""
             }
            },
            "type": "scattermapbox"
           }
          ],
          "scatterpolar": [
           {
            "marker": {
             "colorbar": {
              "outlinewidth": 0,
              "ticks": ""
             }
            },
            "type": "scatterpolar"
           }
          ],
          "scatterpolargl": [
           {
            "marker": {
             "colorbar": {
              "outlinewidth": 0,
              "ticks": ""
             }
            },
            "type": "scatterpolargl"
           }
          ],
          "scatterternary": [
           {
            "marker": {
             "colorbar": {
              "outlinewidth": 0,
              "ticks": ""
             }
            },
            "type": "scatterternary"
           }
          ],
          "surface": [
           {
            "colorbar": {
             "outlinewidth": 0,
             "ticks": ""
            },
            "colorscale": [
             [
              0,
              "#0d0887"
             ],
             [
              0.1111111111111111,
              "#46039f"
             ],
             [
              0.2222222222222222,
              "#7201a8"
             ],
             [
              0.3333333333333333,
              "#9c179e"
             ],
             [
              0.4444444444444444,
              "#bd3786"
             ],
             [
              0.5555555555555556,
              "#d8576b"
             ],
             [
              0.6666666666666666,
              "#ed7953"
             ],
             [
              0.7777777777777778,
              "#fb9f3a"
             ],
             [
              0.8888888888888888,
              "#fdca26"
             ],
             [
              1,
              "#f0f921"
             ]
            ],
            "type": "surface"
           }
          ],
          "table": [
           {
            "cells": {
             "fill": {
              "color": "#EBF0F8"
             },
             "line": {
              "color": "white"
             }
            },
            "header": {
             "fill": {
              "color": "#C8D4E3"
             },
             "line": {
              "color": "white"
             }
            },
            "type": "table"
           }
          ]
         },
         "layout": {
          "annotationdefaults": {
           "arrowcolor": "#2a3f5f",
           "arrowhead": 0,
           "arrowwidth": 1
          },
          "autotypenumbers": "strict",
          "coloraxis": {
           "colorbar": {
            "outlinewidth": 0,
            "ticks": ""
           }
          },
          "colorscale": {
           "diverging": [
            [
             0,
             "#8e0152"
            ],
            [
             0.1,
             "#c51b7d"
            ],
            [
             0.2,
             "#de77ae"
            ],
            [
             0.3,
             "#f1b6da"
            ],
            [
             0.4,
             "#fde0ef"
            ],
            [
             0.5,
             "#f7f7f7"
            ],
            [
             0.6,
             "#e6f5d0"
            ],
            [
             0.7,
             "#b8e186"
            ],
            [
             0.8,
             "#7fbc41"
            ],
            [
             0.9,
             "#4d9221"
            ],
            [
             1,
             "#276419"
            ]
           ],
           "sequential": [
            [
             0,
             "#0d0887"
            ],
            [
             0.1111111111111111,
             "#46039f"
            ],
            [
             0.2222222222222222,
             "#7201a8"
            ],
            [
             0.3333333333333333,
             "#9c179e"
            ],
            [
             0.4444444444444444,
             "#bd3786"
            ],
            [
             0.5555555555555556,
             "#d8576b"
            ],
            [
             0.6666666666666666,
             "#ed7953"
            ],
            [
             0.7777777777777778,
             "#fb9f3a"
            ],
            [
             0.8888888888888888,
             "#fdca26"
            ],
            [
             1,
             "#f0f921"
            ]
           ],
           "sequentialminus": [
            [
             0,
             "#0d0887"
            ],
            [
             0.1111111111111111,
             "#46039f"
            ],
            [
             0.2222222222222222,
             "#7201a8"
            ],
            [
             0.3333333333333333,
             "#9c179e"
            ],
            [
             0.4444444444444444,
             "#bd3786"
            ],
            [
             0.5555555555555556,
             "#d8576b"
            ],
            [
             0.6666666666666666,
             "#ed7953"
            ],
            [
             0.7777777777777778,
             "#fb9f3a"
            ],
            [
             0.8888888888888888,
             "#fdca26"
            ],
            [
             1,
             "#f0f921"
            ]
           ]
          },
          "colorway": [
           "#636efa",
           "#EF553B",
           "#00cc96",
           "#ab63fa",
           "#FFA15A",
           "#19d3f3",
           "#FF6692",
           "#B6E880",
           "#FF97FF",
           "#FECB52"
          ],
          "font": {
           "color": "#2a3f5f"
          },
          "geo": {
           "bgcolor": "white",
           "lakecolor": "white",
           "landcolor": "#E5ECF6",
           "showlakes": true,
           "showland": true,
           "subunitcolor": "white"
          },
          "hoverlabel": {
           "align": "left"
          },
          "hovermode": "closest",
          "mapbox": {
           "style": "light"
          },
          "paper_bgcolor": "white",
          "plot_bgcolor": "#E5ECF6",
          "polar": {
           "angularaxis": {
            "gridcolor": "white",
            "linecolor": "white",
            "ticks": ""
           },
           "bgcolor": "#E5ECF6",
           "radialaxis": {
            "gridcolor": "white",
            "linecolor": "white",
            "ticks": ""
           }
          },
          "scene": {
           "xaxis": {
            "backgroundcolor": "#E5ECF6",
            "gridcolor": "white",
            "gridwidth": 2,
            "linecolor": "white",
            "showbackground": true,
            "ticks": "",
            "zerolinecolor": "white"
           },
           "yaxis": {
            "backgroundcolor": "#E5ECF6",
            "gridcolor": "white",
            "gridwidth": 2,
            "linecolor": "white",
            "showbackground": true,
            "ticks": "",
            "zerolinecolor": "white"
           },
           "zaxis": {
            "backgroundcolor": "#E5ECF6",
            "gridcolor": "white",
            "gridwidth": 2,
            "linecolor": "white",
            "showbackground": true,
            "ticks": "",
            "zerolinecolor": "white"
           }
          },
          "shapedefaults": {
           "line": {
            "color": "#2a3f5f"
           }
          },
          "ternary": {
           "aaxis": {
            "gridcolor": "white",
            "linecolor": "white",
            "ticks": ""
           },
           "baxis": {
            "gridcolor": "white",
            "linecolor": "white",
            "ticks": ""
           },
           "bgcolor": "#E5ECF6",
           "caxis": {
            "gridcolor": "white",
            "linecolor": "white",
            "ticks": ""
           }
          },
          "title": {
           "x": 0.05
          },
          "xaxis": {
           "automargin": true,
           "gridcolor": "white",
           "linecolor": "white",
           "ticks": "",
           "title": {
            "standoff": 15
           },
           "zerolinecolor": "white",
           "zerolinewidth": 2
          },
          "yaxis": {
           "automargin": true,
           "gridcolor": "white",
           "linecolor": "white",
           "ticks": "",
           "title": {
            "standoff": 15
           },
           "zerolinecolor": "white",
           "zerolinewidth": 2
          }
         }
        },
        "xaxis": {
         "anchor": "y",
         "domain": [
          0,
          1
         ],
         "title": {
          "text": "CUST_COUNTRY"
         }
        },
        "yaxis": {
         "anchor": "x",
         "domain": [
          0,
          1
         ],
         "title": {
          "text": "PAYMENT_AMT"
         }
        }
       }
      },
      "text/html": [
       "<div>                            <div id=\"4f5a6578-dc14-4548-869f-8322272ba426\" class=\"plotly-graph-div\" style=\"height:525px; width:100%;\"></div>            <script type=\"text/javascript\">                require([\"plotly\"], function(Plotly) {                    window.PLOTLYENV=window.PLOTLYENV || {};                                    if (document.getElementById(\"4f5a6578-dc14-4548-869f-8322272ba426\")) {                    Plotly.newPlot(                        \"4f5a6578-dc14-4548-869f-8322272ba426\",                        [{\"alignmentgroup\":\"True\",\"hovertemplate\":\"CUST_COUNTRY=%{x}<br>PAYMENT_AMT=%{y}<extra></extra>\",\"legendgroup\":\"\",\"marker\":{\"color\":\"#636efa\",\"pattern\":{\"shape\":\"\"}},\"name\":\"\",\"offsetgroup\":\"\",\"orientation\":\"v\",\"showlegend\":false,\"textposition\":\"auto\",\"x\":[\"Australia\",\"Canada\",\"India\",\"UK\",\"USA\"],\"xaxis\":\"x\",\"y\":[7666.666666666667,7333.333333333333,6300.0,5800.0,6500.0],\"yaxis\":\"y\",\"type\":\"bar\"}],                        {\"template\":{\"data\":{\"histogram2dcontour\":[{\"type\":\"histogram2dcontour\",\"colorbar\":{\"outlinewidth\":0,\"ticks\":\"\"},\"colorscale\":[[0.0,\"#0d0887\"],[0.1111111111111111,\"#46039f\"],[0.2222222222222222,\"#7201a8\"],[0.3333333333333333,\"#9c179e\"],[0.4444444444444444,\"#bd3786\"],[0.5555555555555556,\"#d8576b\"],[0.6666666666666666,\"#ed7953\"],[0.7777777777777778,\"#fb9f3a\"],[0.8888888888888888,\"#fdca26\"],[1.0,\"#f0f921\"]]}],\"choropleth\":[{\"type\":\"choropleth\",\"colorbar\":{\"outlinewidth\":0,\"ticks\":\"\"}}],\"histogram2d\":[{\"type\":\"histogram2d\",\"colorbar\":{\"outlinewidth\":0,\"ticks\":\"\"},\"colorscale\":[[0.0,\"#0d0887\"],[0.1111111111111111,\"#46039f\"],[0.2222222222222222,\"#7201a8\"],[0.3333333333333333,\"#9c179e\"],[0.4444444444444444,\"#bd3786\"],[0.5555555555555556,\"#d8576b\"],[0.6666666666666666,\"#ed7953\"],[0.7777777777777778,\"#fb9f3a\"],[0.8888888888888888,\"#fdca26\"],[1.0,\"#f0f921\"]]}],\"heatmap\":[{\"type\":\"heatmap\",\"colorbar\":{\"outlinewidth\":0,\"ticks\":\"\"},\"colorscale\":[[0.0,\"#0d0887\"],[0.1111111111111111,\"#46039f\"],[0.2222222222222222,\"#7201a8\"],[0.3333333333333333,\"#9c179e\"],[0.4444444444444444,\"#bd3786\"],[0.5555555555555556,\"#d8576b\"],[0.6666666666666666,\"#ed7953\"],[0.7777777777777778,\"#fb9f3a\"],[0.8888888888888888,\"#fdca26\"],[1.0,\"#f0f921\"]]}],\"heatmapgl\":[{\"type\":\"heatmapgl\",\"colorbar\":{\"outlinewidth\":0,\"ticks\":\"\"},\"colorscale\":[[0.0,\"#0d0887\"],[0.1111111111111111,\"#46039f\"],[0.2222222222222222,\"#7201a8\"],[0.3333333333333333,\"#9c179e\"],[0.4444444444444444,\"#bd3786\"],[0.5555555555555556,\"#d8576b\"],[0.6666666666666666,\"#ed7953\"],[0.7777777777777778,\"#fb9f3a\"],[0.8888888888888888,\"#fdca26\"],[1.0,\"#f0f921\"]]}],\"contourcarpet\":[{\"type\":\"contourcarpet\",\"colorbar\":{\"outlinewidth\":0,\"ticks\":\"\"}}],\"contour\":[{\"type\":\"contour\",\"colorbar\":{\"outlinewidth\":0,\"ticks\":\"\"},\"colorscale\":[[0.0,\"#0d0887\"],[0.1111111111111111,\"#46039f\"],[0.2222222222222222,\"#7201a8\"],[0.3333333333333333,\"#9c179e\"],[0.4444444444444444,\"#bd3786\"],[0.5555555555555556,\"#d8576b\"],[0.6666666666666666,\"#ed7953\"],[0.7777777777777778,\"#fb9f3a\"],[0.8888888888888888,\"#fdca26\"],[1.0,\"#f0f921\"]]}],\"surface\":[{\"type\":\"surface\",\"colorbar\":{\"outlinewidth\":0,\"ticks\":\"\"},\"colorscale\":[[0.0,\"#0d0887\"],[0.1111111111111111,\"#46039f\"],[0.2222222222222222,\"#7201a8\"],[0.3333333333333333,\"#9c179e\"],[0.4444444444444444,\"#bd3786\"],[0.5555555555555556,\"#d8576b\"],[0.6666666666666666,\"#ed7953\"],[0.7777777777777778,\"#fb9f3a\"],[0.8888888888888888,\"#fdca26\"],[1.0,\"#f0f921\"]]}],\"mesh3d\":[{\"type\":\"mesh3d\",\"colorbar\":{\"outlinewidth\":0,\"ticks\":\"\"}}],\"scatter\":[{\"fillpattern\":{\"fillmode\":\"overlay\",\"size\":10,\"solidity\":0.2},\"type\":\"scatter\"}],\"parcoords\":[{\"type\":\"parcoords\",\"line\":{\"colorbar\":{\"outlinewidth\":0,\"ticks\":\"\"}}}],\"scatterpolargl\":[{\"type\":\"scatterpolargl\",\"marker\":{\"colorbar\":{\"outlinewidth\":0,\"ticks\":\"\"}}}],\"bar\":[{\"error_x\":{\"color\":\"#2a3f5f\"},\"error_y\":{\"color\":\"#2a3f5f\"},\"marker\":{\"line\":{\"color\":\"#E5ECF6\",\"width\":0.5},\"pattern\":{\"fillmode\":\"overlay\",\"size\":10,\"solidity\":0.2}},\"type\":\"bar\"}],\"scattergeo\":[{\"type\":\"scattergeo\",\"marker\":{\"colorbar\":{\"outlinewidth\":0,\"ticks\":\"\"}}}],\"scatterpolar\":[{\"type\":\"scatterpolar\",\"marker\":{\"colorbar\":{\"outlinewidth\":0,\"ticks\":\"\"}}}],\"histogram\":[{\"marker\":{\"pattern\":{\"fillmode\":\"overlay\",\"size\":10,\"solidity\":0.2}},\"type\":\"histogram\"}],\"scattergl\":[{\"type\":\"scattergl\",\"marker\":{\"colorbar\":{\"outlinewidth\":0,\"ticks\":\"\"}}}],\"scatter3d\":[{\"type\":\"scatter3d\",\"line\":{\"colorbar\":{\"outlinewidth\":0,\"ticks\":\"\"}},\"marker\":{\"colorbar\":{\"outlinewidth\":0,\"ticks\":\"\"}}}],\"scattermapbox\":[{\"type\":\"scattermapbox\",\"marker\":{\"colorbar\":{\"outlinewidth\":0,\"ticks\":\"\"}}}],\"scatterternary\":[{\"type\":\"scatterternary\",\"marker\":{\"colorbar\":{\"outlinewidth\":0,\"ticks\":\"\"}}}],\"scattercarpet\":[{\"type\":\"scattercarpet\",\"marker\":{\"colorbar\":{\"outlinewidth\":0,\"ticks\":\"\"}}}],\"carpet\":[{\"aaxis\":{\"endlinecolor\":\"#2a3f5f\",\"gridcolor\":\"white\",\"linecolor\":\"white\",\"minorgridcolor\":\"white\",\"startlinecolor\":\"#2a3f5f\"},\"baxis\":{\"endlinecolor\":\"#2a3f5f\",\"gridcolor\":\"white\",\"linecolor\":\"white\",\"minorgridcolor\":\"white\",\"startlinecolor\":\"#2a3f5f\"},\"type\":\"carpet\"}],\"table\":[{\"cells\":{\"fill\":{\"color\":\"#EBF0F8\"},\"line\":{\"color\":\"white\"}},\"header\":{\"fill\":{\"color\":\"#C8D4E3\"},\"line\":{\"color\":\"white\"}},\"type\":\"table\"}],\"barpolar\":[{\"marker\":{\"line\":{\"color\":\"#E5ECF6\",\"width\":0.5},\"pattern\":{\"fillmode\":\"overlay\",\"size\":10,\"solidity\":0.2}},\"type\":\"barpolar\"}],\"pie\":[{\"automargin\":true,\"type\":\"pie\"}]},\"layout\":{\"autotypenumbers\":\"strict\",\"colorway\":[\"#636efa\",\"#EF553B\",\"#00cc96\",\"#ab63fa\",\"#FFA15A\",\"#19d3f3\",\"#FF6692\",\"#B6E880\",\"#FF97FF\",\"#FECB52\"],\"font\":{\"color\":\"#2a3f5f\"},\"hovermode\":\"closest\",\"hoverlabel\":{\"align\":\"left\"},\"paper_bgcolor\":\"white\",\"plot_bgcolor\":\"#E5ECF6\",\"polar\":{\"bgcolor\":\"#E5ECF6\",\"angularaxis\":{\"gridcolor\":\"white\",\"linecolor\":\"white\",\"ticks\":\"\"},\"radialaxis\":{\"gridcolor\":\"white\",\"linecolor\":\"white\",\"ticks\":\"\"}},\"ternary\":{\"bgcolor\":\"#E5ECF6\",\"aaxis\":{\"gridcolor\":\"white\",\"linecolor\":\"white\",\"ticks\":\"\"},\"baxis\":{\"gridcolor\":\"white\",\"linecolor\":\"white\",\"ticks\":\"\"},\"caxis\":{\"gridcolor\":\"white\",\"linecolor\":\"white\",\"ticks\":\"\"}},\"coloraxis\":{\"colorbar\":{\"outlinewidth\":0,\"ticks\":\"\"}},\"colorscale\":{\"sequential\":[[0.0,\"#0d0887\"],[0.1111111111111111,\"#46039f\"],[0.2222222222222222,\"#7201a8\"],[0.3333333333333333,\"#9c179e\"],[0.4444444444444444,\"#bd3786\"],[0.5555555555555556,\"#d8576b\"],[0.6666666666666666,\"#ed7953\"],[0.7777777777777778,\"#fb9f3a\"],[0.8888888888888888,\"#fdca26\"],[1.0,\"#f0f921\"]],\"sequentialminus\":[[0.0,\"#0d0887\"],[0.1111111111111111,\"#46039f\"],[0.2222222222222222,\"#7201a8\"],[0.3333333333333333,\"#9c179e\"],[0.4444444444444444,\"#bd3786\"],[0.5555555555555556,\"#d8576b\"],[0.6666666666666666,\"#ed7953\"],[0.7777777777777778,\"#fb9f3a\"],[0.8888888888888888,\"#fdca26\"],[1.0,\"#f0f921\"]],\"diverging\":[[0,\"#8e0152\"],[0.1,\"#c51b7d\"],[0.2,\"#de77ae\"],[0.3,\"#f1b6da\"],[0.4,\"#fde0ef\"],[0.5,\"#f7f7f7\"],[0.6,\"#e6f5d0\"],[0.7,\"#b8e186\"],[0.8,\"#7fbc41\"],[0.9,\"#4d9221\"],[1,\"#276419\"]]},\"xaxis\":{\"gridcolor\":\"white\",\"linecolor\":\"white\",\"ticks\":\"\",\"title\":{\"standoff\":15},\"zerolinecolor\":\"white\",\"automargin\":true,\"zerolinewidth\":2},\"yaxis\":{\"gridcolor\":\"white\",\"linecolor\":\"white\",\"ticks\":\"\",\"title\":{\"standoff\":15},\"zerolinecolor\":\"white\",\"automargin\":true,\"zerolinewidth\":2},\"scene\":{\"xaxis\":{\"backgroundcolor\":\"#E5ECF6\",\"gridcolor\":\"white\",\"linecolor\":\"white\",\"showbackground\":true,\"ticks\":\"\",\"zerolinecolor\":\"white\",\"gridwidth\":2},\"yaxis\":{\"backgroundcolor\":\"#E5ECF6\",\"gridcolor\":\"white\",\"linecolor\":\"white\",\"showbackground\":true,\"ticks\":\"\",\"zerolinecolor\":\"white\",\"gridwidth\":2},\"zaxis\":{\"backgroundcolor\":\"#E5ECF6\",\"gridcolor\":\"white\",\"linecolor\":\"white\",\"showbackground\":true,\"ticks\":\"\",\"zerolinecolor\":\"white\",\"gridwidth\":2}},\"shapedefaults\":{\"line\":{\"color\":\"#2a3f5f\"}},\"annotationdefaults\":{\"arrowcolor\":\"#2a3f5f\",\"arrowhead\":0,\"arrowwidth\":1},\"geo\":{\"bgcolor\":\"white\",\"landcolor\":\"#E5ECF6\",\"subunitcolor\":\"white\",\"showland\":true,\"showlakes\":true,\"lakecolor\":\"white\"},\"title\":{\"x\":0.05},\"mapbox\":{\"style\":\"light\"}}},\"xaxis\":{\"anchor\":\"y\",\"domain\":[0.0,1.0],\"title\":{\"text\":\"CUST_COUNTRY\"}},\"yaxis\":{\"anchor\":\"x\",\"domain\":[0.0,1.0],\"title\":{\"text\":\"PAYMENT_AMT\"}},\"legend\":{\"tracegroupgap\":0},\"margin\":{\"t\":60},\"barmode\":\"relative\"},                        {\"responsive\": true}                    ).then(function(){\n",
       "                            \n",
       "var gd = document.getElementById('4f5a6578-dc14-4548-869f-8322272ba426');\n",
       "var x = new MutationObserver(function (mutations, observer) {{\n",
       "        var display = window.getComputedStyle(gd).display;\n",
       "        if (!display || display === 'none') {{\n",
       "            console.log([gd, 'removed!']);\n",
       "            Plotly.purge(gd);\n",
       "            observer.disconnect();\n",
       "        }}\n",
       "}});\n",
       "\n",
       "// Listen for the removal of the full notebook cells\n",
       "var notebookContainer = gd.closest('#notebook-container');\n",
       "if (notebookContainer) {{\n",
       "    x.observe(notebookContainer, {childList: true});\n",
       "}}\n",
       "\n",
       "// Listen for the clearing of the current output cell\n",
       "var outputEl = gd.closest('.output');\n",
       "if (outputEl) {{\n",
       "    x.observe(outputEl, {childList: true});\n",
       "}}\n",
       "\n",
       "                        })                };                });            </script>        </div>"
      ]
     },
     "metadata": {},
     "output_type": "display_data"
    }
   ],
   "source": [
    "px.bar(pay_avg_df,'CUST_COUNTRY','PAYMENT_AMT')"
   ]
  },
  {
   "cell_type": "code",
   "execution_count": 139,
   "id": "31a596a0",
   "metadata": {},
   "outputs": [],
   "source": [
    "import matplotlib.pyplot as plt"
   ]
  },
  {
   "cell_type": "code",
   "execution_count": 142,
   "id": "e0193e4d",
   "metadata": {},
   "outputs": [
    {
     "data": {
      "text/plain": [
       "<Figure size 640x480 with 0 Axes>"
      ]
     },
     "metadata": {},
     "output_type": "display_data"
    }
   ],
   "source": [
    "plt.savefig('mm.jpg')"
   ]
  },
  {
   "cell_type": "code",
   "execution_count": null,
   "id": "b04bc79a",
   "metadata": {},
   "outputs": [],
   "source": []
  }
 ],
 "metadata": {
  "kernelspec": {
   "display_name": "Python 3 (ipykernel)",
   "language": "python",
   "name": "python3"
  },
  "language_info": {
   "codemirror_mode": {
    "name": "ipython",
    "version": 3
   },
   "file_extension": ".py",
   "mimetype": "text/x-python",
   "name": "python",
   "nbconvert_exporter": "python",
   "pygments_lexer": "ipython3",
   "version": "3.11.0"
  }
 },
 "nbformat": 4,
 "nbformat_minor": 5
}
