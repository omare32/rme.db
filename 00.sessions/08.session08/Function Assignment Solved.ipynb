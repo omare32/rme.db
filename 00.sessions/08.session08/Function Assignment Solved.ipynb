{
 "cells": [
  {
   "cell_type": "markdown",
   "metadata": {},
   "source": [
    "> # Dear Epsilon Students, \n",
    "> # The More you practice The better You'll Be."
   ]
  },
  {
   "cell_type": "markdown",
   "metadata": {},
   "source": [
    "### Instructions: \n",
    "- Make sure that you understand this topics before you start.\n",
    "- If you found something hard to do, try and try then google it and finally ask someone. \n",
    "- You can divide this work into daily tasks so that you do not feel pressure.\n",
    "- After you finish, go to model answer and rate yourself. \n",
    "- If you find something ambiguous, Try to make a hypothesis to solve a problem. "
   ]
  },
  {
   "cell_type": "markdown",
   "metadata": {},
   "source": [
    "### Question classification: \n",
    "- Green is level 1 \n",
    "- Orange is level 2 \n",
    "- Red is level 3 "
   ]
  },
  {
   "cell_type": "markdown",
   "metadata": {},
   "source": [
    "# <center> Let's start 💪 </center> "
   ]
  },
  {
   "cell_type": "markdown",
   "metadata": {},
   "source": [
    "## <p style=\"color:green;\">Q.01 Write a function takes a two-word string and returns True if both words begin with same letter</p>\n",
    "> ('Levelheaded Llama') → True\n",
    "\n",
    "> ('Crazy Kangaroo') → False"
   ]
  },
  {
   "cell_type": "code",
   "execution_count": 1,
   "metadata": {},
   "outputs": [],
   "source": [
    "# Answer here \n",
    "def testo(text):\n",
    "  words = text.split()\n",
    "  return words[0][0].lower() == words[1][0].lower()"
   ]
  },
  {
   "cell_type": "markdown",
   "metadata": {},
   "source": [
    "## <p style=\"color:green;\">Q.02 Write a function that returns the lesser of two given numbers if both numbers are even, but returns the greater if one or both numbers are odd</p>\n",
    "\n",
    "> (2,4) → 2\n",
    "\n",
    "> (2,5) → 5"
   ]
  },
  {
   "cell_type": "code",
   "execution_count": 2,
   "metadata": {},
   "outputs": [],
   "source": [
    "# Answer here \n",
    "def lesser_of_two_evens(a, b):\n",
    "  if a % 2 == 0 and b % 2 == 0:\n",
    "    return min(a, b)\n",
    "  else:\n",
    "    return max(a, b)"
   ]
  },
  {
   "cell_type": "markdown",
   "metadata": {},
   "source": [
    "## <p style=\"color:green;\">Q.03 Write a function that capitalizes the first and fourth letters of a name</p>\n",
    "> ('macdonald') → MacDonald"
   ]
  },
  {
   "cell_type": "code",
   "execution_count": 3,
   "metadata": {},
   "outputs": [],
   "source": [
    "# Answer here \n",
    "def capitalize_first_and_fourth_letters(name):\n",
    "  first_letter = name[0].upper()\n",
    "  fourth_letter = name[3].upper()\n",
    "  return first_letter + name[1:3] + fourth_letter + name[4:]"
   ]
  },
  {
   "cell_type": "markdown",
   "metadata": {},
   "source": [
    "## <p style=\"color:green;\">Q.04 Given a sentence, return a sentence with the words reversed</p>\n",
    "> ('I am home') → 'home am I'"
   ]
  },
  {
   "cell_type": "code",
   "execution_count": 4,
   "metadata": {},
   "outputs": [],
   "source": [
    "# Answer here \n",
    "def reverse_sentence(sentence):\n",
    "  words = sentence.split()\n",
    "  words.reverse()\n",
    "  return \" \".join(words)"
   ]
  },
  {
   "cell_type": "markdown",
   "metadata": {},
   "source": [
    "## <p style=\"color:orange;\">Q.05 Given a list of ints, return True if the array contains a 3 next to a 3 somewhere.</p>\n",
    "> has_33([1, 3, 3]) → True\n",
    "\n",
    "> has_33([1, 3, 1, 3]) → False\n"
   ]
  },
  {
   "cell_type": "code",
   "execution_count": 5,
   "metadata": {},
   "outputs": [],
   "source": [
    "# Answer here \n",
    "def contains_3_next_to_3(list_of_ints):\n",
    "  for i in range(len(list_of_ints) - 1):\n",
    "    if list_of_ints[i] == 3 and list_of_ints[i + 1] == 3:\n",
    "      return True\n",
    "  return False"
   ]
  },
  {
   "cell_type": "markdown",
   "metadata": {},
   "source": [
    "## <p style=\"color:orange;\">Q.06 BLACKJACK: Given three integers between 1 and 11, if their sum is less than or equal to 21, return their sum. If their sum exceeds 21 and there's an eleven, reduce the total sum by 10. Finally, if the sum (even after adjustment) exceeds 21, return 'BUST'¶</p>\n",
    "\n",
    ">blackjack(5,6,7) → 18\n",
    "\n",
    ">blackjack(9,9,9) → 'BUST'\n",
    "\n",
    ">blackjack(9,9,11) → 19"
   ]
  },
  {
   "cell_type": "code",
   "execution_count": 6,
   "metadata": {},
   "outputs": [],
   "source": [
    "# Answer here \n",
    "def blackjack(a, b, c):\n",
    "  sum = a + b + c\n",
    "  if sum <= 21:\n",
    "    return sum\n",
    "  elif sum > 21 and 11 in (a, b, c):\n",
    "    sum -= 10\n",
    "    return sum\n",
    "  else:\n",
    "    return 'BUST'"
   ]
  },
  {
   "cell_type": "markdown",
   "metadata": {},
   "source": [
    "## <p style=\"color:red;\">Q.07 SUMMER OF '69: Return the sum of the numbers in the array, except ignore sections of numbers starting with a 6 and extending to the next 9 (every 6 will be followed by at least one 9). Return 0 for no numbers.</p>\n",
    ">summer_69([1, 3, 5]) → 9\n",
    "\n",
    ">summer_69([4, 5, 6, 7, 8, 9]) → 9\n",
    "\n",
    ">summer_69([2, 1, 6, 9, 11]) → 14"
   ]
  },
  {
   "cell_type": "code",
   "execution_count": 7,
   "metadata": {},
   "outputs": [],
   "source": [
    "# Answer here \n",
    "def summer_of_69(arr):\n",
    "  total = 0\n",
    "  skip = False\n",
    "  for num in arr:\n",
    "    if num == 6:\n",
    "      skip = True\n",
    "    elif skip:\n",
    "      skip = False\n",
    "    else:\n",
    "      total += num\n",
    "  return total"
   ]
  },
  {
   "cell_type": "markdown",
   "metadata": {},
   "source": [
    "## <p style=\"color:red;\">Q.08 SPY GAME: Write a function that takes in a list of integers and returns True if it contains 007 in order</p>\n",
    "\n",
    ">spy_game([1,2,4,0,0,7,5]) → True\n",
    "\n",
    "> spy_game([1,0,2,4,0,5,7]) → True\n",
    "\n",
    " >spy_game([1,7,2,0,4,5,0]) → False\n"
   ]
  },
  {
   "cell_type": "code",
   "execution_count": 8,
   "metadata": {},
   "outputs": [],
   "source": [
    "# Answer here \n",
    "def spy_game(nums):\n",
    "  for i in range(len(nums) - 2):\n",
    "    if nums[i] == 0 and nums[i + 1] == 0 and nums[i + 2] == 7:\n",
    "      return True\n",
    "  return False"
   ]
  },
  {
   "cell_type": "markdown",
   "metadata": {},
   "source": [
    "## <p style=\"color:green;\">Q.09 Write a function that checks whether a number is in a given range (inclusive of high and low)</p>\n"
   ]
  },
  {
   "cell_type": "code",
   "execution_count": 9,
   "metadata": {},
   "outputs": [],
   "source": [
    "# Answer here \n",
    "def is_in_range(number, low, high):\n",
    "  return low <= number <= high"
   ]
  },
  {
   "cell_type": "markdown",
   "metadata": {},
   "source": [
    "## <p style=\"color:orange;\">Q.10 Write a Python function to multiply all the numbers in a list.</p>\n",
    "> Sample List : [1, 2, 3, -4]\n",
    "\n",
    "> Expected Output : -24"
   ]
  },
  {
   "cell_type": "code",
   "execution_count": 10,
   "metadata": {},
   "outputs": [],
   "source": [
    "# Answer here \n",
    "def multiply_list(list):\n",
    "\n",
    "  product = 1\n",
    "  for number in list:\n",
    "    product *= number\n",
    "  return product"
   ]
  },
  {
   "cell_type": "markdown",
   "metadata": {},
   "source": [
    "## <p style=\"color:red;\">Q.11 Write a Python function that checks whether a passed string is palindrome or not.</p>\n",
    ">Note: A palindrome is word, phrase, or sequence that reads the same backward as forward, e.g., madam or nurses run."
   ]
  },
  {
   "cell_type": "code",
   "execution_count": 11,
   "metadata": {},
   "outputs": [],
   "source": [
    "# Answer here \n",
    "def is_palindrome(string):\n",
    "\n",
    "  reversed_string = string[::-1]\n",
    "  return string == reversed_string"
   ]
  },
  {
   "cell_type": "markdown",
   "metadata": {},
   "source": [
    "## <p style=\"color:green;\">Q.12 Write a Python program to create a lambda function that adds 15 to a given number passed in as an argument\n"
   ]
  },
  {
   "cell_type": "code",
   "execution_count": 12,
   "metadata": {},
   "outputs": [],
   "source": [
    "# Answer here \n",
    "add_15 = lambda number: number + 15\n",
    "\n",
    "print(add_15(10))"
   ]
  },
  {
   "cell_type": "markdown",
   "metadata": {},
   "source": [
    "## <p style=\"color:green;\">Q.13 create a lambda function that multiplies argument x with argument y and print the result.</p>\n"
   ]
  },
  {
   "cell_type": "code",
   "execution_count": 13,
   "metadata": {},
   "outputs": [],
   "source": [
    "# Answer here \n",
    "multiply = lambda x, y: x * y\n",
    "\n",
    "print(multiply(10, 20))"
   ]
  },
  {
   "cell_type": "markdown",
   "metadata": {},
   "source": [
    "## <p style=\"color:orange;\">Q.14 Write a Python program to filter a list of integers using Lambda. </p>\n",
    "> Original list of integers:[1, 2, 3, 4, 5, 6, 7, 8, 9, 10]\n",
    "\n",
    "> Even numbers from the said list:[2, 4, 6, 8, 10]\n",
    "\n",
    "> Odd numbers from the said list:[1, 3, 5, 7, 9]\n"
   ]
  },
  {
   "cell_type": "code",
   "execution_count": 14,
   "metadata": {},
   "outputs": [],
   "source": [
    "# Answer here \n",
    "\n",
    "numbers = [1, 2, 3, 4, 5, 6, 7, 8, 9, 10]\n",
    "\n",
    "even_number = lambda x: x % 2 == 0\n",
    "\n",
    "even_numbers = list(filter(even_number, numbers))\n",
    "\n",
    "print(\"Even numbers from the said list:\", even_numbers)\n",
    "\n",
    "odd_number = lambda x: x % 2 != 0\n",
    "\n",
    "odd_numbers = list(filter(odd_number, numbers))\n",
    "\n",
    "print(\"Odd numbers from the said list:\", odd_numbers)"
   ]
  },
  {
   "cell_type": "markdown",
   "metadata": {},
   "source": [
    "## <p style=\"color:green;\">Q.15 Write a Python program to triple all numbers of a given list of integers. Use Python map.</p>\n"
   ]
  },
  {
   "cell_type": "code",
   "execution_count": 15,
   "metadata": {},
   "outputs": [],
   "source": [
    "# Answer here \n",
    "\n",
    "numbers = [1, 2, 3, 4, 5]\n",
    "\n",
    "triple_number = lambda x: x * 3\n",
    "\n",
    "tripled_numbers = list(map(triple_number, numbers))\n",
    "\n",
    "print(\"Tripled numbers:\", tripled_numbers)"
   ]
  },
  {
   "cell_type": "markdown",
   "metadata": {},
   "source": [
    "## <p style=\"color:orange;\">Q.16 Write a Python program to add three given lists using Python map and lambda.\n",
    "\n",
    "</p>\n"
   ]
  },
  {
   "cell_type": "code",
   "execution_count": 16,
   "metadata": {},
   "outputs": [],
   "source": [
    "# Answer here \n",
    "\n",
    "list1 = [1, 2, 3]\n",
    "list2 = [4, 5, 6]\n",
    "list3 = [7, 8, 9]\n",
    "\n",
    "\n",
    "add_numbers = lambda x, y: x + y\n",
    "\n",
    "\n",
    "added_list = list(map(add_numbers, list1, list2, list3))\n",
    "\n",
    "\n",
    "print(\"Added numbers:\", added_list)"
   ]
  },
  {
   "cell_type": "markdown",
   "metadata": {},
   "source": [
    "## <p style=\"color:orange;\">Q.17 Write a Python program to square the elements of a list using map() function.</p>\n"
   ]
  },
  {
   "cell_type": "code",
   "execution_count": 17,
   "metadata": {},
   "outputs": [],
   "source": [
    "# Answer here \n",
    "\n",
    "numbers = [1, 2, 3, 4, 5]\n",
    "\n",
    "\n",
    "square_number = lambda x: x * x\n",
    "\n",
    "\n",
    "squared_numbers = list(map(square_number, numbers))\n",
    "\n",
    "\n",
    "print(\"Squared numbers:\", squared_numbers)"
   ]
  },
  {
   "cell_type": "markdown",
   "metadata": {},
   "source": [
    "## <p style=\"color:green;\">Q.18 Using filter() function filter the list so that only negative numbers are left.</p>\n",
    "> lst1  [12,-1,9,8,-.5,-.2,-100]\n"
   ]
  },
  {
   "cell_type": "code",
   "execution_count": 18,
   "metadata": {},
   "outputs": [],
   "source": [
    "# Answer here \n",
    "\n",
    "numbers = [1, 2, 3, -4, -5, 6, -7, 8, -9]\n",
    "\n",
    "negative_number = lambda x: x < 0\n",
    "\n",
    "negative_numbers = list(filter(negative_number, numbers))\n",
    "\n",
    "print(\"Negative numbers:\", negative_numbers)"
   ]
  },
  {
   "cell_type": "markdown",
   "metadata": {},
   "source": [
    "## <p style=\"color:green;\">Q.19 Using filter function, filter the even numbers so that only odd numbers are passed to the new list.</p>\n",
    "> lst1  [22,100,19,13,11,1,4,66]\n"
   ]
  },
  {
   "cell_type": "code",
   "execution_count": 19,
   "metadata": {},
   "outputs": [],
   "source": [
    "# Answer here\n",
    "\n",
    "numbers = [1, 2, 3, 4, 5, 6, 7, 8, 9, 10]\n",
    "\n",
    "odd_number = lambda x: x % 2 != 0\n",
    "\n",
    "odd_numbers = list(filter(odd_number, numbers))\n",
    "\n",
    "print(\"Odd numbers:\", odd_numbers)"
   ]
  },
  {
   "cell_type": "markdown",
   "metadata": {},
   "source": [
    "## <p style=\"color:green;\">Q.20 Using map() and filter() functions add 2000 to the values below 8000.</p>\n",
    "> lst [1000,500,600,700,5000,90000,17500]"
   ]
  },
  {
   "cell_type": "code",
   "execution_count": 20,
   "metadata": {},
   "outputs": [],
   "source": [
    "# Answer here \n",
    "\n",
    "numbers = [1, 2, 3, 4, 5, 6, 7, 8, 9, 10]\n",
    "\n",
    "below_8000 = lambda x: x < 8000\n",
    "\n",
    "add_2000 = lambda x: x + 2000\n",
    "\n",
    "added_numbers = list(map(add_2000, filter(below_8000, numbers)))\n",
    "\n",
    "print(\"Added numbers:\", added_numbers)"
   ]
  },
  {
   "cell_type": "markdown",
   "metadata": {},
   "source": [
    "# <center> Thank's for your effort ❤️ </center> "
   ]
  }
 ],
 "metadata": {
  "kernelspec": {
   "display_name": "Python 3 (ipykernel)",
   "language": "python",
   "name": "python3"
  },
  "language_info": {
   "codemirror_mode": {
    "name": "ipython",
    "version": 3
   },
   "file_extension": ".py",
   "mimetype": "text/x-python",
   "name": "python",
   "nbconvert_exporter": "python",
   "pygments_lexer": "ipython3",
   "version": "3.9.13"
  }
 },
 "nbformat": 4,
 "nbformat_minor": 4
}
