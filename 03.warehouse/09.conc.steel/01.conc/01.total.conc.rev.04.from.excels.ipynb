{
 "cells": [
  {
   "cell_type": "code",
   "execution_count": 1,
   "metadata": {},
   "outputs": [
    {
     "name": "stdout",
     "output_type": "stream",
     "text": [
      "Data exported to concrete_quantities_all_years.xlsx successfully!\n"
     ]
    }
   ],
   "source": [
    "import pandas as pd\n",
    "import glob\n",
    "import os\n",
    "\n",
    "# Define the directory path as a raw string\n",
    "dir_path = r\"D:\\OneDrive\\OneDrive - Rowad Modern Engineering\\x004 Data Science\\03.rme.db\\01.tables\\01.erp\\02.mat_mov\\02.xlsx\"\n",
    "\n",
    "# Get a list of all Excel files in the directory\n",
    "excel_files = glob.glob(os.path.join(dir_path, \"*.xlsx\"))\n",
    "\n",
    "# Initialize an empty list to store the DataFrames\n",
    "dfs = []\n",
    "\n",
    "# Loop through each Excel file and read it into a DataFrame\n",
    "for file in excel_files:\n",
    "    try:\n",
    "        df = pd.read_excel(file)\n",
    "        dfs.append(df)\n",
    "    except Exception as e:\n",
    "        print(f\"Error reading file {file}: {e}\")\n",
    "\n",
    "# Concatenate all DataFrames into a single DataFrame\n",
    "if dfs:\n",
    "    all_df = pd.concat(dfs, ignore_index=True)\n",
    "\n",
    "    # Filter the DataFrame\n",
    "    filtered_df = all_df[\n",
    "        (\n",
    "            all_df['item_desc'].str.contains(\"خرسانة\")\n",
    "            | all_df['item_desc'].str.contains(\"concrete\")\n",
    "        )\n",
    "        & (all_df['unit'] == \"CBM\")\n",
    "    ]\n",
    "\n",
    "    # Save the filtered data to a new file\n",
    "    filtered_df.to_excel(\"concrete_quantities_all_years.xlsx\", index=False)\n",
    "    print(f\"Data exported to concrete_quantities_all_years.xlsx successfully!\")\n",
    "else:\n",
    "    print(\"No Excel files found in the directory.\")"
   ]
  },
  {
   "cell_type": "code",
   "execution_count": 2,
   "metadata": {},
   "outputs": [
    {
     "name": "stdout",
     "output_type": "stream",
     "text": [
      "Data exported to concrete_quantities_summary.xlsx successfully!\n"
     ]
    }
   ],
   "source": [
    "import pandas as pd\n",
    "\n",
    "# Read the data from the \"concrete_quantities_all_years.xlsx\" file\n",
    "df = pd.read_excel(\"concrete_quantities_all_years.xlsx\")\n",
    "\n",
    "# Get all unique `item_desc`\n",
    "items = df['item_desc'].unique()\n",
    "\n",
    "# Create lists to store the results\n",
    "item_list = []\n",
    "total_qty_list = []\n",
    "total_amount_list = []\n",
    "\n",
    "# Iterate over the unique items\n",
    "for item in items:\n",
    "    # Filter the dataframe for the current item\n",
    "    item_df = df[df['item_desc'] == item]\n",
    "\n",
    "    # Calculate the total quantity and amount for the current item\n",
    "    total_qty = item_df['qty'].sum()\n",
    "    total_amount = item_df['amount'].sum()\n",
    "\n",
    "    # Append the results to the lists\n",
    "    item_list.append(item)\n",
    "    total_qty_list.append(total_qty)\n",
    "    total_amount_list.append(total_amount)\n",
    "\n",
    "# Create a new dataframe to store the results\n",
    "result_df = pd.DataFrame(\n",
    "    {\n",
    "        'item_desc': item_list,\n",
    "        'total_qty': total_qty_list,\n",
    "        'total_amount': total_amount_list,\n",
    "    }\n",
    ")\n",
    "\n",
    "# Save the dataframe to a new excel file\n",
    "result_df.to_excel(\"concrete_quantities_summary.xlsx\", index=False)\n",
    "print(f\"Data exported to concrete_quantities_summary.xlsx successfully!\")"
   ]
  }
 ],
 "metadata": {
  "kernelspec": {
   "display_name": "Python 3",
   "language": "python",
   "name": "python3"
  },
  "language_info": {
   "codemirror_mode": {
    "name": "ipython",
    "version": 3
   },
   "file_extension": ".py",
   "mimetype": "text/x-python",
   "name": "python",
   "nbconvert_exporter": "python",
   "pygments_lexer": "ipython3",
   "version": "3.12.5"
  }
 },
 "nbformat": 4,
 "nbformat_minor": 2
}
