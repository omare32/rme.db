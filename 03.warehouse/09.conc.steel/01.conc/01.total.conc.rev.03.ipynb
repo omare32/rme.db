{
 "cells": [
  {
   "cell_type": "code",
   "execution_count": 9,
   "metadata": {},
   "outputs": [
    {
     "name": "stdout",
     "output_type": "stream",
     "text": [
      "Connected to SQL Server successfully!\n"
     ]
    },
    {
     "name": "stderr",
     "output_type": "stream",
     "text": [
      "C:\\Users\\Omar Essam\\AppData\\Local\\Temp\\ipykernel_1144\\166476100.py:34: UserWarning: pandas only supports SQLAlchemy connectable (engine/connection) or database string URI or sqlite3 DBAPI2 connection. Other DBAPI2 objects are not tested. Please consider using SQLAlchemy.\n",
      "  df = pd.read_sql_query(query, conn)\n"
     ]
    },
    {
     "name": "stdout",
     "output_type": "stream",
     "text": [
      "No concrete quantities found with the specified filters.\n"
     ]
    }
   ],
   "source": [
    "import pandas as pd\n",
    "from sqlalchemy import create_engine, text\n",
    "\n",
    "\n",
    "def execute_query(conn, query):\n",
    "    \"\"\"Executes a SQL query using the provided connection and returns the results as a list of tuples.\"\"\"\n",
    "    result = conn.execute(text(query))\n",
    "    columns = result.keys()\n",
    "    rows = result.fetchall()\n",
    "    return rows, columns\n",
    "\n",
    "\n",
    "# Database connection details (you provided these)\n",
    "server = '10.10.11.241'\n",
    "database = 'omar.rme1'\n",
    "user = 'omar'\n",
    "password = 'omar123'\n",
    "\n",
    "# Create SQLAlchemy engine\n",
    "connection_string = f'mssql+pyodbc://{user}:{password}@{server}/{database}?driver=SQL+Server'\n",
    "engine = create_engine(connection_string)\n",
    "\n",
    "try:\n",
    "    with engine.connect() as conn:\n",
    "        print(\"Connected to SQL Server successfully!\")\n",
    "\n",
    "        # Construct the SQL query with filters\n",
    "        query = \"\"\"\n",
    "        SELECT *\n",
    "        FROM mat_mov\n",
    "        WHERE trx_type IN ('Move Order Issue on Project', 'RME Issue ( On Project)', 'RME Site Return')\n",
    "        AND CHARINDEX('خرسانة', item_desc) > 0  -- Check if 'خرسانة' exists in item_desc\n",
    "        AND TRIM(unit) = 'CBM'\n",
    "        \"\"\"\n",
    "\n",
    "        # Execute the query and fetch data\n",
    "        results, columns = execute_query(conn, query)\n",
    "\n",
    "        # Create a Pandas DataFrame\n",
    "        df = pd.DataFrame(results)\n",
    "\n",
    "        # Check if the DataFrame is empty\n",
    "        if df.empty:\n",
    "            print(\n",
    "                \"No concrete quantities found with the specified filters.\"\n",
    "            )\n",
    "        else:\n",
    "            df.columns = columns\n",
    "            # Excel file name\n",
    "            excel_file_name = \"concrete_quantities.xlsx\"\n",
    "            df.to_excel(excel_file_name, index=False)\n",
    "            print(f\"Data exported to {excel_file_name} successfully!\")\n",
    "\n",
    "except Exception as e:\n",
    "    print(\"Error:\", e)"
   ]
  }
 ],
 "metadata": {
  "kernelspec": {
   "display_name": "Python 3",
   "language": "python",
   "name": "python3"
  },
  "language_info": {
   "codemirror_mode": {
    "name": "ipython",
    "version": 3
   },
   "file_extension": ".py",
   "mimetype": "text/x-python",
   "name": "python",
   "nbconvert_exporter": "python",
   "pygments_lexer": "ipython3",
   "version": "3.12.5"
  }
 },
 "nbformat": 4,
 "nbformat_minor": 2
}
