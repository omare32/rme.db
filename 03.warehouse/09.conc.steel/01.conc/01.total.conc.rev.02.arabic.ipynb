{
 "cells": [
  {
   "cell_type": "code",
   "execution_count": 1,
   "metadata": {},
   "outputs": [
    {
     "name": "stdout",
     "output_type": "stream",
     "text": [
      "Connected to SQL Server successfully!\n"
     ]
    },
    {
     "name": "stderr",
     "output_type": "stream",
     "text": [
      "C:\\Users\\Omar Essam\\AppData\\Local\\Temp\\ipykernel_10656\\2394595248.py:34: UserWarning: pandas only supports SQLAlchemy connectable (engine/connection) or database string URI or sqlite3 DBAPI2 connection. Other DBAPI2 objects are not tested. Please consider using SQLAlchemy.\n",
      "  df = pd.read_sql_query(query, conn)\n"
     ]
    },
    {
     "name": "stdout",
     "output_type": "stream",
     "text": [
      "No concrete quantities found with the specified filters.\n"
     ]
    }
   ],
   "source": [
    "import pandas as pd\n",
    "import pyodbc\n",
    "\n",
    "# Database connection details (you provided these)\n",
    "server = '10.10.11.241'\n",
    "database = 'omar.rme1'\n",
    "user = 'omar'\n",
    "password = 'omar123'\n",
    "\n",
    "# Create a connection string\n",
    "conn_str = (\n",
    "    r'DRIVER={SQL Server};'\n",
    "    r'SERVER=' + server + ';'\n",
    "    r'DATABASE=' + database + ';'\n",
    "    r'UID=' + user + ';'\n",
    "    r'PWD=' + password + ';'\n",
    ")\n",
    "\n",
    "try:\n",
    "    # Connect to the database\n",
    "    conn = pyodbc.connect(conn_str)\n",
    "    print(\"Connected to SQL Server successfully!\")\n",
    "\n",
    "    # Construct the SQL query with filters\n",
    "    query = \"\"\"\n",
    "    SELECT *\n",
    "    FROM mat_mov\n",
    "    WHERE trx_type IN ('Move Order Issue on Project', 'RME Issue ( On Project)', 'RME Site Return')\n",
    "    AND item_desc LIKE '%خرسانة%'  -- Filter only on the Arabic word\n",
    "    AND unit = 'CBM'\n",
    "    \"\"\"\n",
    "\n",
    "    # Execute the query and fetch data into a Pandas DataFrame\n",
    "    df = pd.read_sql_query(query, conn)\n",
    "\n",
    "    # Check if the DataFrame is empty\n",
    "    if df.empty:\n",
    "        print(\"No concrete quantities found with the specified filters.\")\n",
    "    else:\n",
    "        # Excel file name\n",
    "        excel_file_name = \"concrete_quantities.xlsx\"\n",
    "        df.to_excel(excel_file_name, index=False)\n",
    "        print(f\"Data exported to {excel_file_name} successfully!\")\n",
    "\n",
    "except Exception as e:\n",
    "    print(\"Error:\", e)"
   ]
  }
 ],
 "metadata": {
  "kernelspec": {
   "display_name": "Python 3",
   "language": "python",
   "name": "python3"
  },
  "language_info": {
   "codemirror_mode": {
    "name": "ipython",
    "version": 3
   },
   "file_extension": ".py",
   "mimetype": "text/x-python",
   "name": "python",
   "nbconvert_exporter": "python",
   "pygments_lexer": "ipython3",
   "version": "3.12.5"
  }
 },
 "nbformat": 4,
 "nbformat_minor": 2
}
