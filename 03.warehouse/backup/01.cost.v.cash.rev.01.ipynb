{
 "cells": [
  {
   "cell_type": "code",
   "execution_count": null,
   "metadata": {},
   "outputs": [],
   "source": [
    "import mysql.connector as mysql\n",
    "import pandas as pd\n",
    "\n",
    "# Connection details\n",
    "host = \"10.10.11.242\"\n",
    "user = \"omar2\"\n",
    "password = \"Omar_54321\"\n",
    "database = \"RME_TEST\"\n",
    "\n",
    "# Connect to the database\n",
    "connection = mysql.connect(\n",
    "    host=host,\n",
    "    user=user,\n",
    "    password=password,\n",
    "    database=database\n",
    ")\n",
    "\n",
    "# Create a cursor object\n",
    "cursor = connection.cursor()\n",
    "\n",
    "# Query to fetch data\n",
    "query = \"SELECT * FROM RME_Projects_Cost_Dist_Line_Report LIMIT 100\"\n",
    "cursor.execute(query)\n",
    "\n",
    "# Fetch the data\n",
    "data = cursor.fetchall()\n",
    "\n",
    "# Get column names\n",
    "column_names = [i[0] for i in cursor.description]\n",
    "\n",
    "# Create a DataFrame\n",
    "df = pd.DataFrame(data, columns=column_names)\n",
    "\n",
    "# Close the connection\n",
    "cursor.close()\n",
    "connection.close()\n",
    "\n",
    "# Display the DataFrame\n",
    "print(df.head())"
   ]
  }
 ],
 "metadata": {
  "language_info": {
   "name": "python"
  }
 },
 "nbformat": 4,
 "nbformat_minor": 2
}
