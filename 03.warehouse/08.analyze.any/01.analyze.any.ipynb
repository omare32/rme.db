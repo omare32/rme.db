{
 "cells": [
  {
   "cell_type": "code",
   "execution_count": 1,
   "metadata": {},
   "outputs": [
    {
     "name": "stdout",
     "output_type": "stream",
     "text": [
      "Connected to SQL Server successfully!\n"
     ]
    }
   ],
   "source": [
    "import pandas as pd\n",
    "from sqlalchemy import create_engine, text \n",
    "\n",
    "def execute_query(conn, query):\n",
    "    \"\"\"Executes a SQL query using the provided connection and returns the results as a list of tuples.\"\"\"\n",
    "    result = conn.execute(text(query))  # Execute the query directly\n",
    "\n",
    "    # Get column names\n",
    "    columns = result.keys()  # Get column names from the result object\n",
    "    print(\"Columns returned by the query:\", columns)\n",
    "\n",
    "    # Fetch all rows\n",
    "    rows = result.fetchall()\n",
    "\n",
    "    # Print the shape of the results for debugging\n",
    "    print(\"Shape of results:\", len(rows), \"rows,\", len(rows[0]) if rows else 0, \"columns\")\n",
    "\n",
    "    # Print the first few rows of the results\n",
    "    print(\"First few rows of results:\", rows[:5])  # Adjust the number of rows as needed\n",
    "\n",
    "    return rows  # Return the fetched rows\n",
    "\n",
    "# Database connection details\n",
    "server = '10.10.11.241'\n",
    "database = 'omar.rme1'\n",
    "user = 'omar'\n",
    "password = 'omar123'\n",
    "\n",
    "# Create SQLAlchemy engine\n",
    "connection_string = f'mssql+pyodbc://{user}:{password}@{server}/{database}?driver=SQL+Server'\n",
    "engine = create_engine(connection_string)\n",
    "\n",
    "try:\n",
    "    # Check if the connection is successful\n",
    "    with engine.connect() as conn:  # Use a context manager to handle the connection\n",
    "        print(\"Connected to SQL Server successfully!\")\n",
    "\n",
    "except Exception as e:\n",
    "    print(\"Error connecting to SQL Server:\", e)"
   ]
  },
  {
   "cell_type": "code",
   "execution_count": 2,
   "metadata": {},
   "outputs": [
    {
     "name": "stdout",
     "output_type": "stream",
     "text": [
      "project_no  TotalAmount\n",
      "       170 778031573.56\n"
     ]
    }
   ],
   "source": [
    "import pandas as pd\n",
    "\n",
    "# SQL query to sum amounts for each project\n",
    "query = \"\"\"\n",
    "SELECT project_no, SUM(amount) AS TotalAmount\n",
    "FROM [omar.rme1].[dbo].[cost_dist]\n",
    "WHERE project_no IN ('170')\n",
    "GROUP BY project_no;\n",
    "\"\"\"\n",
    "\n",
    "try:\n",
    "    # Execute the query using SQLAlchemy's execute method\n",
    "    with engine.connect() as conn:\n",
    "        result = conn.execute(text(query))  # Use text() to wrap the query\n",
    "\n",
    "        # Fetch all rows and column names\n",
    "        rows = result.fetchall()\n",
    "        columns = result.keys()\n",
    "\n",
    "        # Create a DataFrame from the results\n",
    "        df = pd.DataFrame(rows, columns=columns)\n",
    "\n",
    "    # Display the DataFrame\n",
    "    print(df.to_string(index=False))  # Display without the index for cleaner output\n",
    "\n",
    "except Exception as e:\n",
    "    print(\"Error executing query:\", e)"
   ]
  },
  {
   "cell_type": "code",
   "execution_count": 3,
   "metadata": {},
   "outputs": [
    {
     "data": {
      "application/vnd.plotly.v1+json": {
       "config": {
        "plotlyServerURL": "https://plot.ly"
       },
       "data": [
        {
         "alignmentgroup": "True",
         "hovertemplate": "Project=%{x}<br>Total Amount=%{y}<extra></extra>",
         "legendgroup": "",
         "marker": {
          "color": "#636efa",
          "pattern": {
           "shape": ""
          }
         },
         "name": "",
         "offsetgroup": "",
         "orientation": "v",
         "showlegend": false,
         "textposition": "auto",
         "type": "bar",
         "x": [
          "170 - Mivida BP#189"
         ],
         "xaxis": "x",
         "y": [
          778031573.5600003
         ],
         "yaxis": "y"
        }
       ],
       "layout": {
        "annotations": [
         {
          "showarrow": false,
          "text": "778,031,573",
          "x": "170 - Mivida BP#189",
          "y": 778031573.5600003,
          "yshift": 10
         }
        ],
        "barmode": "relative",
        "legend": {
         "tracegroupgap": 0
        },
        "template": {
         "data": {
          "bar": [
           {
            "error_x": {
             "color": "#2a3f5f"
            },
            "error_y": {
             "color": "#2a3f5f"
            },
            "marker": {
             "line": {
              "color": "#E5ECF6",
              "width": 0.5
             },
             "pattern": {
              "fillmode": "overlay",
              "size": 10,
              "solidity": 0.2
             }
            },
            "type": "bar"
           }
          ],
          "barpolar": [
           {
            "marker": {
             "line": {
              "color": "#E5ECF6",
              "width": 0.5
             },
             "pattern": {
              "fillmode": "overlay",
              "size": 10,
              "solidity": 0.2
             }
            },
            "type": "barpolar"
           }
          ],
          "carpet": [
           {
            "aaxis": {
             "endlinecolor": "#2a3f5f",
             "gridcolor": "white",
             "linecolor": "white",
             "minorgridcolor": "white",
             "startlinecolor": "#2a3f5f"
            },
            "baxis": {
             "endlinecolor": "#2a3f5f",
             "gridcolor": "white",
             "linecolor": "white",
             "minorgridcolor": "white",
             "startlinecolor": "#2a3f5f"
            },
            "type": "carpet"
           }
          ],
          "choropleth": [
           {
            "colorbar": {
             "outlinewidth": 0,
             "ticks": ""
            },
            "type": "choropleth"
           }
          ],
          "contour": [
           {
            "colorbar": {
             "outlinewidth": 0,
             "ticks": ""
            },
            "colorscale": [
             [
              0,
              "#0d0887"
             ],
             [
              0.1111111111111111,
              "#46039f"
             ],
             [
              0.2222222222222222,
              "#7201a8"
             ],
             [
              0.3333333333333333,
              "#9c179e"
             ],
             [
              0.4444444444444444,
              "#bd3786"
             ],
             [
              0.5555555555555556,
              "#d8576b"
             ],
             [
              0.6666666666666666,
              "#ed7953"
             ],
             [
              0.7777777777777778,
              "#fb9f3a"
             ],
             [
              0.8888888888888888,
              "#fdca26"
             ],
             [
              1,
              "#f0f921"
             ]
            ],
            "type": "contour"
           }
          ],
          "contourcarpet": [
           {
            "colorbar": {
             "outlinewidth": 0,
             "ticks": ""
            },
            "type": "contourcarpet"
           }
          ],
          "heatmap": [
           {
            "colorbar": {
             "outlinewidth": 0,
             "ticks": ""
            },
            "colorscale": [
             [
              0,
              "#0d0887"
             ],
             [
              0.1111111111111111,
              "#46039f"
             ],
             [
              0.2222222222222222,
              "#7201a8"
             ],
             [
              0.3333333333333333,
              "#9c179e"
             ],
             [
              0.4444444444444444,
              "#bd3786"
             ],
             [
              0.5555555555555556,
              "#d8576b"
             ],
             [
              0.6666666666666666,
              "#ed7953"
             ],
             [
              0.7777777777777778,
              "#fb9f3a"
             ],
             [
              0.8888888888888888,
              "#fdca26"
             ],
             [
              1,
              "#f0f921"
             ]
            ],
            "type": "heatmap"
           }
          ],
          "heatmapgl": [
           {
            "colorbar": {
             "outlinewidth": 0,
             "ticks": ""
            },
            "colorscale": [
             [
              0,
              "#0d0887"
             ],
             [
              0.1111111111111111,
              "#46039f"
             ],
             [
              0.2222222222222222,
              "#7201a8"
             ],
             [
              0.3333333333333333,
              "#9c179e"
             ],
             [
              0.4444444444444444,
              "#bd3786"
             ],
             [
              0.5555555555555556,
              "#d8576b"
             ],
             [
              0.6666666666666666,
              "#ed7953"
             ],
             [
              0.7777777777777778,
              "#fb9f3a"
             ],
             [
              0.8888888888888888,
              "#fdca26"
             ],
             [
              1,
              "#f0f921"
             ]
            ],
            "type": "heatmapgl"
           }
          ],
          "histogram": [
           {
            "marker": {
             "pattern": {
              "fillmode": "overlay",
              "size": 10,
              "solidity": 0.2
             }
            },
            "type": "histogram"
           }
          ],
          "histogram2d": [
           {
            "colorbar": {
             "outlinewidth": 0,
             "ticks": ""
            },
            "colorscale": [
             [
              0,
              "#0d0887"
             ],
             [
              0.1111111111111111,
              "#46039f"
             ],
             [
              0.2222222222222222,
              "#7201a8"
             ],
             [
              0.3333333333333333,
              "#9c179e"
             ],
             [
              0.4444444444444444,
              "#bd3786"
             ],
             [
              0.5555555555555556,
              "#d8576b"
             ],
             [
              0.6666666666666666,
              "#ed7953"
             ],
             [
              0.7777777777777778,
              "#fb9f3a"
             ],
             [
              0.8888888888888888,
              "#fdca26"
             ],
             [
              1,
              "#f0f921"
             ]
            ],
            "type": "histogram2d"
           }
          ],
          "histogram2dcontour": [
           {
            "colorbar": {
             "outlinewidth": 0,
             "ticks": ""
            },
            "colorscale": [
             [
              0,
              "#0d0887"
             ],
             [
              0.1111111111111111,
              "#46039f"
             ],
             [
              0.2222222222222222,
              "#7201a8"
             ],
             [
              0.3333333333333333,
              "#9c179e"
             ],
             [
              0.4444444444444444,
              "#bd3786"
             ],
             [
              0.5555555555555556,
              "#d8576b"
             ],
             [
              0.6666666666666666,
              "#ed7953"
             ],
             [
              0.7777777777777778,
              "#fb9f3a"
             ],
             [
              0.8888888888888888,
              "#fdca26"
             ],
             [
              1,
              "#f0f921"
             ]
            ],
            "type": "histogram2dcontour"
           }
          ],
          "mesh3d": [
           {
            "colorbar": {
             "outlinewidth": 0,
             "ticks": ""
            },
            "type": "mesh3d"
           }
          ],
          "parcoords": [
           {
            "line": {
             "colorbar": {
              "outlinewidth": 0,
              "ticks": ""
             }
            },
            "type": "parcoords"
           }
          ],
          "pie": [
           {
            "automargin": true,
            "type": "pie"
           }
          ],
          "scatter": [
           {
            "fillpattern": {
             "fillmode": "overlay",
             "size": 10,
             "solidity": 0.2
            },
            "type": "scatter"
           }
          ],
          "scatter3d": [
           {
            "line": {
             "colorbar": {
              "outlinewidth": 0,
              "ticks": ""
             }
            },
            "marker": {
             "colorbar": {
              "outlinewidth": 0,
              "ticks": ""
             }
            },
            "type": "scatter3d"
           }
          ],
          "scattercarpet": [
           {
            "marker": {
             "colorbar": {
              "outlinewidth": 0,
              "ticks": ""
             }
            },
            "type": "scattercarpet"
           }
          ],
          "scattergeo": [
           {
            "marker": {
             "colorbar": {
              "outlinewidth": 0,
              "ticks": ""
             }
            },
            "type": "scattergeo"
           }
          ],
          "scattergl": [
           {
            "marker": {
             "colorbar": {
              "outlinewidth": 0,
              "ticks": ""
             }
            },
            "type": "scattergl"
           }
          ],
          "scattermapbox": [
           {
            "marker": {
             "colorbar": {
              "outlinewidth": 0,
              "ticks": ""
             }
            },
            "type": "scattermapbox"
           }
          ],
          "scatterpolar": [
           {
            "marker": {
             "colorbar": {
              "outlinewidth": 0,
              "ticks": ""
             }
            },
            "type": "scatterpolar"
           }
          ],
          "scatterpolargl": [
           {
            "marker": {
             "colorbar": {
              "outlinewidth": 0,
              "ticks": ""
             }
            },
            "type": "scatterpolargl"
           }
          ],
          "scatterternary": [
           {
            "marker": {
             "colorbar": {
              "outlinewidth": 0,
              "ticks": ""
             }
            },
            "type": "scatterternary"
           }
          ],
          "surface": [
           {
            "colorbar": {
             "outlinewidth": 0,
             "ticks": ""
            },
            "colorscale": [
             [
              0,
              "#0d0887"
             ],
             [
              0.1111111111111111,
              "#46039f"
             ],
             [
              0.2222222222222222,
              "#7201a8"
             ],
             [
              0.3333333333333333,
              "#9c179e"
             ],
             [
              0.4444444444444444,
              "#bd3786"
             ],
             [
              0.5555555555555556,
              "#d8576b"
             ],
             [
              0.6666666666666666,
              "#ed7953"
             ],
             [
              0.7777777777777778,
              "#fb9f3a"
             ],
             [
              0.8888888888888888,
              "#fdca26"
             ],
             [
              1,
              "#f0f921"
             ]
            ],
            "type": "surface"
           }
          ],
          "table": [
           {
            "cells": {
             "fill": {
              "color": "#EBF0F8"
             },
             "line": {
              "color": "white"
             }
            },
            "header": {
             "fill": {
              "color": "#C8D4E3"
             },
             "line": {
              "color": "white"
             }
            },
            "type": "table"
           }
          ]
         },
         "layout": {
          "annotationdefaults": {
           "arrowcolor": "#2a3f5f",
           "arrowhead": 0,
           "arrowwidth": 1
          },
          "autotypenumbers": "strict",
          "coloraxis": {
           "colorbar": {
            "outlinewidth": 0,
            "ticks": ""
           }
          },
          "colorscale": {
           "diverging": [
            [
             0,
             "#8e0152"
            ],
            [
             0.1,
             "#c51b7d"
            ],
            [
             0.2,
             "#de77ae"
            ],
            [
             0.3,
             "#f1b6da"
            ],
            [
             0.4,
             "#fde0ef"
            ],
            [
             0.5,
             "#f7f7f7"
            ],
            [
             0.6,
             "#e6f5d0"
            ],
            [
             0.7,
             "#b8e186"
            ],
            [
             0.8,
             "#7fbc41"
            ],
            [
             0.9,
             "#4d9221"
            ],
            [
             1,
             "#276419"
            ]
           ],
           "sequential": [
            [
             0,
             "#0d0887"
            ],
            [
             0.1111111111111111,
             "#46039f"
            ],
            [
             0.2222222222222222,
             "#7201a8"
            ],
            [
             0.3333333333333333,
             "#9c179e"
            ],
            [
             0.4444444444444444,
             "#bd3786"
            ],
            [
             0.5555555555555556,
             "#d8576b"
            ],
            [
             0.6666666666666666,
             "#ed7953"
            ],
            [
             0.7777777777777778,
             "#fb9f3a"
            ],
            [
             0.8888888888888888,
             "#fdca26"
            ],
            [
             1,
             "#f0f921"
            ]
           ],
           "sequentialminus": [
            [
             0,
             "#0d0887"
            ],
            [
             0.1111111111111111,
             "#46039f"
            ],
            [
             0.2222222222222222,
             "#7201a8"
            ],
            [
             0.3333333333333333,
             "#9c179e"
            ],
            [
             0.4444444444444444,
             "#bd3786"
            ],
            [
             0.5555555555555556,
             "#d8576b"
            ],
            [
             0.6666666666666666,
             "#ed7953"
            ],
            [
             0.7777777777777778,
             "#fb9f3a"
            ],
            [
             0.8888888888888888,
             "#fdca26"
            ],
            [
             1,
             "#f0f921"
            ]
           ]
          },
          "colorway": [
           "#636efa",
           "#EF553B",
           "#00cc96",
           "#ab63fa",
           "#FFA15A",
           "#19d3f3",
           "#FF6692",
           "#B6E880",
           "#FF97FF",
           "#FECB52"
          ],
          "font": {
           "color": "#2a3f5f"
          },
          "geo": {
           "bgcolor": "white",
           "lakecolor": "white",
           "landcolor": "#E5ECF6",
           "showlakes": true,
           "showland": true,
           "subunitcolor": "white"
          },
          "hoverlabel": {
           "align": "left"
          },
          "hovermode": "closest",
          "mapbox": {
           "style": "light"
          },
          "paper_bgcolor": "white",
          "plot_bgcolor": "#E5ECF6",
          "polar": {
           "angularaxis": {
            "gridcolor": "white",
            "linecolor": "white",
            "ticks": ""
           },
           "bgcolor": "#E5ECF6",
           "radialaxis": {
            "gridcolor": "white",
            "linecolor": "white",
            "ticks": ""
           }
          },
          "scene": {
           "xaxis": {
            "backgroundcolor": "#E5ECF6",
            "gridcolor": "white",
            "gridwidth": 2,
            "linecolor": "white",
            "showbackground": true,
            "ticks": "",
            "zerolinecolor": "white"
           },
           "yaxis": {
            "backgroundcolor": "#E5ECF6",
            "gridcolor": "white",
            "gridwidth": 2,
            "linecolor": "white",
            "showbackground": true,
            "ticks": "",
            "zerolinecolor": "white"
           },
           "zaxis": {
            "backgroundcolor": "#E5ECF6",
            "gridcolor": "white",
            "gridwidth": 2,
            "linecolor": "white",
            "showbackground": true,
            "ticks": "",
            "zerolinecolor": "white"
           }
          },
          "shapedefaults": {
           "line": {
            "color": "#2a3f5f"
           }
          },
          "ternary": {
           "aaxis": {
            "gridcolor": "white",
            "linecolor": "white",
            "ticks": ""
           },
           "baxis": {
            "gridcolor": "white",
            "linecolor": "white",
            "ticks": ""
           },
           "bgcolor": "#E5ECF6",
           "caxis": {
            "gridcolor": "white",
            "linecolor": "white",
            "ticks": ""
           }
          },
          "title": {
           "x": 0.05
          },
          "xaxis": {
           "automargin": true,
           "gridcolor": "white",
           "linecolor": "white",
           "ticks": "",
           "title": {
            "standoff": 15
           },
           "zerolinecolor": "white",
           "zerolinewidth": 2
          },
          "yaxis": {
           "automargin": true,
           "gridcolor": "white",
           "linecolor": "white",
           "ticks": "",
           "title": {
            "standoff": 15
           },
           "zerolinecolor": "white",
           "zerolinewidth": 2
          }
         }
        },
        "title": {
         "text": "Total Amount by Project (Total: 778,031,573)"
        },
        "width": 800,
        "xaxis": {
         "anchor": "y",
         "domain": [
          0,
          1
         ],
         "title": {
          "text": "Project"
         }
        },
        "yaxis": {
         "anchor": "x",
         "domain": [
          0,
          1
         ],
         "title": {
          "text": "Total Amount"
         }
        }
       }
      }
     },
     "metadata": {},
     "output_type": "display_data"
    }
   ],
   "source": [
    "import plotly.express as px\n",
    "import plotly.io as pio\n",
    "import sqlalchemy\n",
    "\n",
    "# 1. SQL query to fetch project_no and project_name\n",
    "query_names = \"\"\"\n",
    "SELECT DISTINCT project_no, project_name \n",
    "FROM [omar.rme1].[dbo].[cost_dist]\n",
    "WHERE project_no IN ('170'); \n",
    "\"\"\"\n",
    "\n",
    "# 2. Execute the query using pd.read_sql and the connection string\n",
    "df_names = pd.read_sql(query_names, connection_string) \n",
    "\n",
    "# 3. Merge DataFrames using 'project_no' as the key\n",
    "df_merged = pd.merge(df, df_names, on='project_no', how='left')\n",
    "\n",
    "# 4. Fill in missing values with 0\n",
    "df_merged.fillna(0, inplace=True)\n",
    "\n",
    "# 5. Combine project_no and project_name for labels\n",
    "df_merged['Project'] = df_merged['project_no'] + ' - ' + df_merged['project_name']\n",
    "\n",
    "# 6. Calculate total cost\n",
    "total_cost = df_merged['TotalAmount'].sum()\n",
    "\n",
    "# 7. Create bar chart with adjusted width, project numbers in labels, and annotations\n",
    "fig = px.bar(\n",
    "    df_merged, \n",
    "    x='Project', \n",
    "    y='TotalAmount',\n",
    "    title=f'Total Amount by Project (Total: {int(total_cost):,})',  # Format total_cost with commas, no decimals\n",
    "    labels={'project_name': 'Project', 'TotalAmount': 'Total Amount'}\n",
    ")\n",
    "\n",
    "# Add annotations (text labels) to each bar with comma formatting and no decimals\n",
    "for i, row in df_merged.iterrows():\n",
    "    fig.add_annotation(\n",
    "        x=row['Project'],\n",
    "        y=row['TotalAmount'],\n",
    "        text=f\"{int(row['TotalAmount']):,}\",  # Convert to integer (remove decimals) and format with commas\n",
    "        showarrow=False,\n",
    "        yshift=10, \n",
    "    )\n",
    "\n",
    "# Customize layout\n",
    "fig.update_layout(width=800) \n",
    "\n",
    "# 8. Display chart\n",
    "fig.write_html('total_amount_by_project_bar_chart.html')\n",
    "fig.show()"
   ]
  },
  {
   "cell_type": "code",
   "execution_count": 4,
   "metadata": {},
   "outputs": [
    {
     "name": "stdout",
     "output_type": "stream",
     "text": [
      "Columns returned by the query: RMKeyView(['project_no', 'supplier_name', 'TotalAmount'])\n",
      "Shape of results: 136 rows, 3 columns\n",
      "First few rows of results: [('170', None, 335655271.28000146), ('170', 'Staff Loan', 81289534.86999995), ('170', 'النيل للالومنيوم والمعادن - الو نيل', 60907983.69999991), ('170', 'Miscellaneous supplier', 44239493.56999999), ('170', 'كونى', 37215468.12000001)]\n"
     ]
    },
    {
     "data": {
      "application/vnd.plotly.v1+json": {
       "config": {
        "plotlyServerURL": "https://plot.ly"
       },
       "data": [
        {
         "alignmentgroup": "True",
         "hovertemplate": "Supplier=%{x}<br>Total Amount=%{y}<extra></extra>",
         "legendgroup": "",
         "marker": {
          "color": "#636efa",
          "pattern": {
           "shape": ""
          }
         },
         "name": "",
         "offsetgroup": "",
         "orientation": "v",
         "showlegend": false,
         "textposition": "auto",
         "type": "bar",
         "x": [
          null,
          "Staff Loan",
          "النيل للالومنيوم والمعادن - الو نيل",
          "Miscellaneous supplier",
          "كونى",
          "كيان لاعمال الالكتروميكانيك",
          "العزيزيه للمقاولات",
          "مكسيم للمقاولات العموميه",
          "ايزامو للاعمال هندسيه مهندسون ومقاولون",
          "انكورب الدوليه مهندسون ومقاولون"
         ],
         "xaxis": "x",
         "y": [
          335655271.28000146,
          81289534.86999995,
          60907983.69999991,
          44239493.56999999,
          37215468.12000001,
          20569247.02000001,
          19425095.270000003,
          15745374.329999996,
          13363716.75999999,
          13204341.380000005
         ],
         "yaxis": "y"
        }
       ],
       "layout": {
        "annotations": [
         {
          "font": {
           "size": 16
          },
          "showarrow": false,
          "text": "170 - Mivida BP#189",
          "x": 0.5,
          "xanchor": "center",
          "xref": "paper",
          "y": 1,
          "yanchor": "bottom",
          "yref": "paper"
         }
        ],
        "height": 1500,
        "showlegend": false,
        "template": {
         "data": {
          "bar": [
           {
            "error_x": {
             "color": "#2a3f5f"
            },
            "error_y": {
             "color": "#2a3f5f"
            },
            "marker": {
             "line": {
              "color": "#E5ECF6",
              "width": 0.5
             },
             "pattern": {
              "fillmode": "overlay",
              "size": 10,
              "solidity": 0.2
             }
            },
            "type": "bar"
           }
          ],
          "barpolar": [
           {
            "marker": {
             "line": {
              "color": "#E5ECF6",
              "width": 0.5
             },
             "pattern": {
              "fillmode": "overlay",
              "size": 10,
              "solidity": 0.2
             }
            },
            "type": "barpolar"
           }
          ],
          "carpet": [
           {
            "aaxis": {
             "endlinecolor": "#2a3f5f",
             "gridcolor": "white",
             "linecolor": "white",
             "minorgridcolor": "white",
             "startlinecolor": "#2a3f5f"
            },
            "baxis": {
             "endlinecolor": "#2a3f5f",
             "gridcolor": "white",
             "linecolor": "white",
             "minorgridcolor": "white",
             "startlinecolor": "#2a3f5f"
            },
            "type": "carpet"
           }
          ],
          "choropleth": [
           {
            "colorbar": {
             "outlinewidth": 0,
             "ticks": ""
            },
            "type": "choropleth"
           }
          ],
          "contour": [
           {
            "colorbar": {
             "outlinewidth": 0,
             "ticks": ""
            },
            "colorscale": [
             [
              0,
              "#0d0887"
             ],
             [
              0.1111111111111111,
              "#46039f"
             ],
             [
              0.2222222222222222,
              "#7201a8"
             ],
             [
              0.3333333333333333,
              "#9c179e"
             ],
             [
              0.4444444444444444,
              "#bd3786"
             ],
             [
              0.5555555555555556,
              "#d8576b"
             ],
             [
              0.6666666666666666,
              "#ed7953"
             ],
             [
              0.7777777777777778,
              "#fb9f3a"
             ],
             [
              0.8888888888888888,
              "#fdca26"
             ],
             [
              1,
              "#f0f921"
             ]
            ],
            "type": "contour"
           }
          ],
          "contourcarpet": [
           {
            "colorbar": {
             "outlinewidth": 0,
             "ticks": ""
            },
            "type": "contourcarpet"
           }
          ],
          "heatmap": [
           {
            "colorbar": {
             "outlinewidth": 0,
             "ticks": ""
            },
            "colorscale": [
             [
              0,
              "#0d0887"
             ],
             [
              0.1111111111111111,
              "#46039f"
             ],
             [
              0.2222222222222222,
              "#7201a8"
             ],
             [
              0.3333333333333333,
              "#9c179e"
             ],
             [
              0.4444444444444444,
              "#bd3786"
             ],
             [
              0.5555555555555556,
              "#d8576b"
             ],
             [
              0.6666666666666666,
              "#ed7953"
             ],
             [
              0.7777777777777778,
              "#fb9f3a"
             ],
             [
              0.8888888888888888,
              "#fdca26"
             ],
             [
              1,
              "#f0f921"
             ]
            ],
            "type": "heatmap"
           }
          ],
          "heatmapgl": [
           {
            "colorbar": {
             "outlinewidth": 0,
             "ticks": ""
            },
            "colorscale": [
             [
              0,
              "#0d0887"
             ],
             [
              0.1111111111111111,
              "#46039f"
             ],
             [
              0.2222222222222222,
              "#7201a8"
             ],
             [
              0.3333333333333333,
              "#9c179e"
             ],
             [
              0.4444444444444444,
              "#bd3786"
             ],
             [
              0.5555555555555556,
              "#d8576b"
             ],
             [
              0.6666666666666666,
              "#ed7953"
             ],
             [
              0.7777777777777778,
              "#fb9f3a"
             ],
             [
              0.8888888888888888,
              "#fdca26"
             ],
             [
              1,
              "#f0f921"
             ]
            ],
            "type": "heatmapgl"
           }
          ],
          "histogram": [
           {
            "marker": {
             "pattern": {
              "fillmode": "overlay",
              "size": 10,
              "solidity": 0.2
             }
            },
            "type": "histogram"
           }
          ],
          "histogram2d": [
           {
            "colorbar": {
             "outlinewidth": 0,
             "ticks": ""
            },
            "colorscale": [
             [
              0,
              "#0d0887"
             ],
             [
              0.1111111111111111,
              "#46039f"
             ],
             [
              0.2222222222222222,
              "#7201a8"
             ],
             [
              0.3333333333333333,
              "#9c179e"
             ],
             [
              0.4444444444444444,
              "#bd3786"
             ],
             [
              0.5555555555555556,
              "#d8576b"
             ],
             [
              0.6666666666666666,
              "#ed7953"
             ],
             [
              0.7777777777777778,
              "#fb9f3a"
             ],
             [
              0.8888888888888888,
              "#fdca26"
             ],
             [
              1,
              "#f0f921"
             ]
            ],
            "type": "histogram2d"
           }
          ],
          "histogram2dcontour": [
           {
            "colorbar": {
             "outlinewidth": 0,
             "ticks": ""
            },
            "colorscale": [
             [
              0,
              "#0d0887"
             ],
             [
              0.1111111111111111,
              "#46039f"
             ],
             [
              0.2222222222222222,
              "#7201a8"
             ],
             [
              0.3333333333333333,
              "#9c179e"
             ],
             [
              0.4444444444444444,
              "#bd3786"
             ],
             [
              0.5555555555555556,
              "#d8576b"
             ],
             [
              0.6666666666666666,
              "#ed7953"
             ],
             [
              0.7777777777777778,
              "#fb9f3a"
             ],
             [
              0.8888888888888888,
              "#fdca26"
             ],
             [
              1,
              "#f0f921"
             ]
            ],
            "type": "histogram2dcontour"
           }
          ],
          "mesh3d": [
           {
            "colorbar": {
             "outlinewidth": 0,
             "ticks": ""
            },
            "type": "mesh3d"
           }
          ],
          "parcoords": [
           {
            "line": {
             "colorbar": {
              "outlinewidth": 0,
              "ticks": ""
             }
            },
            "type": "parcoords"
           }
          ],
          "pie": [
           {
            "automargin": true,
            "type": "pie"
           }
          ],
          "scatter": [
           {
            "fillpattern": {
             "fillmode": "overlay",
             "size": 10,
             "solidity": 0.2
            },
            "type": "scatter"
           }
          ],
          "scatter3d": [
           {
            "line": {
             "colorbar": {
              "outlinewidth": 0,
              "ticks": ""
             }
            },
            "marker": {
             "colorbar": {
              "outlinewidth": 0,
              "ticks": ""
             }
            },
            "type": "scatter3d"
           }
          ],
          "scattercarpet": [
           {
            "marker": {
             "colorbar": {
              "outlinewidth": 0,
              "ticks": ""
             }
            },
            "type": "scattercarpet"
           }
          ],
          "scattergeo": [
           {
            "marker": {
             "colorbar": {
              "outlinewidth": 0,
              "ticks": ""
             }
            },
            "type": "scattergeo"
           }
          ],
          "scattergl": [
           {
            "marker": {
             "colorbar": {
              "outlinewidth": 0,
              "ticks": ""
             }
            },
            "type": "scattergl"
           }
          ],
          "scattermapbox": [
           {
            "marker": {
             "colorbar": {
              "outlinewidth": 0,
              "ticks": ""
             }
            },
            "type": "scattermapbox"
           }
          ],
          "scatterpolar": [
           {
            "marker": {
             "colorbar": {
              "outlinewidth": 0,
              "ticks": ""
             }
            },
            "type": "scatterpolar"
           }
          ],
          "scatterpolargl": [
           {
            "marker": {
             "colorbar": {
              "outlinewidth": 0,
              "ticks": ""
             }
            },
            "type": "scatterpolargl"
           }
          ],
          "scatterternary": [
           {
            "marker": {
             "colorbar": {
              "outlinewidth": 0,
              "ticks": ""
             }
            },
            "type": "scatterternary"
           }
          ],
          "surface": [
           {
            "colorbar": {
             "outlinewidth": 0,
             "ticks": ""
            },
            "colorscale": [
             [
              0,
              "#0d0887"
             ],
             [
              0.1111111111111111,
              "#46039f"
             ],
             [
              0.2222222222222222,
              "#7201a8"
             ],
             [
              0.3333333333333333,
              "#9c179e"
             ],
             [
              0.4444444444444444,
              "#bd3786"
             ],
             [
              0.5555555555555556,
              "#d8576b"
             ],
             [
              0.6666666666666666,
              "#ed7953"
             ],
             [
              0.7777777777777778,
              "#fb9f3a"
             ],
             [
              0.8888888888888888,
              "#fdca26"
             ],
             [
              1,
              "#f0f921"
             ]
            ],
            "type": "surface"
           }
          ],
          "table": [
           {
            "cells": {
             "fill": {
              "color": "#EBF0F8"
             },
             "line": {
              "color": "white"
             }
            },
            "header": {
             "fill": {
              "color": "#C8D4E3"
             },
             "line": {
              "color": "white"
             }
            },
            "type": "table"
           }
          ]
         },
         "layout": {
          "annotationdefaults": {
           "arrowcolor": "#2a3f5f",
           "arrowhead": 0,
           "arrowwidth": 1
          },
          "autotypenumbers": "strict",
          "coloraxis": {
           "colorbar": {
            "outlinewidth": 0,
            "ticks": ""
           }
          },
          "colorscale": {
           "diverging": [
            [
             0,
             "#8e0152"
            ],
            [
             0.1,
             "#c51b7d"
            ],
            [
             0.2,
             "#de77ae"
            ],
            [
             0.3,
             "#f1b6da"
            ],
            [
             0.4,
             "#fde0ef"
            ],
            [
             0.5,
             "#f7f7f7"
            ],
            [
             0.6,
             "#e6f5d0"
            ],
            [
             0.7,
             "#b8e186"
            ],
            [
             0.8,
             "#7fbc41"
            ],
            [
             0.9,
             "#4d9221"
            ],
            [
             1,
             "#276419"
            ]
           ],
           "sequential": [
            [
             0,
             "#0d0887"
            ],
            [
             0.1111111111111111,
             "#46039f"
            ],
            [
             0.2222222222222222,
             "#7201a8"
            ],
            [
             0.3333333333333333,
             "#9c179e"
            ],
            [
             0.4444444444444444,
             "#bd3786"
            ],
            [
             0.5555555555555556,
             "#d8576b"
            ],
            [
             0.6666666666666666,
             "#ed7953"
            ],
            [
             0.7777777777777778,
             "#fb9f3a"
            ],
            [
             0.8888888888888888,
             "#fdca26"
            ],
            [
             1,
             "#f0f921"
            ]
           ],
           "sequentialminus": [
            [
             0,
             "#0d0887"
            ],
            [
             0.1111111111111111,
             "#46039f"
            ],
            [
             0.2222222222222222,
             "#7201a8"
            ],
            [
             0.3333333333333333,
             "#9c179e"
            ],
            [
             0.4444444444444444,
             "#bd3786"
            ],
            [
             0.5555555555555556,
             "#d8576b"
            ],
            [
             0.6666666666666666,
             "#ed7953"
            ],
            [
             0.7777777777777778,
             "#fb9f3a"
            ],
            [
             0.8888888888888888,
             "#fdca26"
            ],
            [
             1,
             "#f0f921"
            ]
           ]
          },
          "colorway": [
           "#636efa",
           "#EF553B",
           "#00cc96",
           "#ab63fa",
           "#FFA15A",
           "#19d3f3",
           "#FF6692",
           "#B6E880",
           "#FF97FF",
           "#FECB52"
          ],
          "font": {
           "color": "#2a3f5f"
          },
          "geo": {
           "bgcolor": "white",
           "lakecolor": "white",
           "landcolor": "#E5ECF6",
           "showlakes": true,
           "showland": true,
           "subunitcolor": "white"
          },
          "hoverlabel": {
           "align": "left"
          },
          "hovermode": "closest",
          "mapbox": {
           "style": "light"
          },
          "paper_bgcolor": "white",
          "plot_bgcolor": "#E5ECF6",
          "polar": {
           "angularaxis": {
            "gridcolor": "white",
            "linecolor": "white",
            "ticks": ""
           },
           "bgcolor": "#E5ECF6",
           "radialaxis": {
            "gridcolor": "white",
            "linecolor": "white",
            "ticks": ""
           }
          },
          "scene": {
           "xaxis": {
            "backgroundcolor": "#E5ECF6",
            "gridcolor": "white",
            "gridwidth": 2,
            "linecolor": "white",
            "showbackground": true,
            "ticks": "",
            "zerolinecolor": "white"
           },
           "yaxis": {
            "backgroundcolor": "#E5ECF6",
            "gridcolor": "white",
            "gridwidth": 2,
            "linecolor": "white",
            "showbackground": true,
            "ticks": "",
            "zerolinecolor": "white"
           },
           "zaxis": {
            "backgroundcolor": "#E5ECF6",
            "gridcolor": "white",
            "gridwidth": 2,
            "linecolor": "white",
            "showbackground": true,
            "ticks": "",
            "zerolinecolor": "white"
           }
          },
          "shapedefaults": {
           "line": {
            "color": "#2a3f5f"
           }
          },
          "ternary": {
           "aaxis": {
            "gridcolor": "white",
            "linecolor": "white",
            "ticks": ""
           },
           "baxis": {
            "gridcolor": "white",
            "linecolor": "white",
            "ticks": ""
           },
           "bgcolor": "#E5ECF6",
           "caxis": {
            "gridcolor": "white",
            "linecolor": "white",
            "ticks": ""
           }
          },
          "title": {
           "x": 0.05
          },
          "xaxis": {
           "automargin": true,
           "gridcolor": "white",
           "linecolor": "white",
           "ticks": "",
           "title": {
            "standoff": 15
           },
           "zerolinecolor": "white",
           "zerolinewidth": 2
          },
          "yaxis": {
           "automargin": true,
           "gridcolor": "white",
           "linecolor": "white",
           "ticks": "",
           "title": {
            "standoff": 15
           },
           "zerolinecolor": "white",
           "zerolinewidth": 2
          }
         }
        },
        "title": {
         "text": "Top 10 Suppliers by Project"
        },
        "width": 800,
        "xaxis": {
         "anchor": "y",
         "domain": [
          0,
          1
         ],
         "title": {
          "text": "Supplier Name"
         }
        },
        "xaxis2": {
         "anchor": "y2",
         "domain": [
          0,
          1
         ]
        },
        "xaxis3": {
         "anchor": "y3",
         "domain": [
          0,
          1
         ]
        },
        "xaxis4": {
         "anchor": "y4",
         "domain": [
          0,
          1
         ]
        },
        "xaxis5": {
         "anchor": "y5",
         "domain": [
          0,
          1
         ]
        },
        "yaxis": {
         "anchor": "x",
         "domain": [
          0.88,
          1
         ],
         "title": {
          "text": "Total Amount"
         }
        },
        "yaxis2": {
         "anchor": "x2",
         "domain": [
          0.66,
          0.78
         ]
        },
        "yaxis3": {
         "anchor": "x3",
         "domain": [
          0.44,
          0.56
         ]
        },
        "yaxis4": {
         "anchor": "x4",
         "domain": [
          0.22,
          0.33999999999999997
         ]
        },
        "yaxis5": {
         "anchor": "x5",
         "domain": [
          0,
          0.12
         ]
        }
       }
      }
     },
     "metadata": {},
     "output_type": "display_data"
    }
   ],
   "source": [
    "import plotly.express as px\n",
    "import plotly.subplots as sp\n",
    "\n",
    "# 1. SQL query to get top 10 suppliers for each project\n",
    "query_top_suppliers = \"\"\"\n",
    "SELECT project_no, supplier_name, SUM(amount) AS TotalAmount\n",
    "FROM [omar.rme1].[dbo].[cost_dist]\n",
    "WHERE project_no IN ('170')\n",
    "GROUP BY project_no, supplier_name\n",
    "ORDER BY project_no, TotalAmount DESC\n",
    "\"\"\"\n",
    "\n",
    "# 2. Execute the query\n",
    "with engine.connect() as conn:\n",
    "    results_top_suppliers = execute_query(conn, query_top_suppliers)\n",
    "\n",
    "# 3. Create DataFrame for top suppliers\n",
    "df_top_suppliers = pd.DataFrame(results_top_suppliers, columns=['project_no', 'supplier_name', 'TotalAmount'])\n",
    "\n",
    "# 4. Get the project names from df_merged (assuming it's available from the 3rd cell)\n",
    "project_names_dict = df_merged.set_index('project_no')['project_name'].to_dict()\n",
    "\n",
    "# 5. Create a subplot for each project, arranged vertically, with project number and name in titles\n",
    "fig = sp.make_subplots(\n",
    "    rows=5, \n",
    "    cols=1, \n",
    "    subplot_titles=[f\"{proj} - {project_names_dict[proj]}\" for proj in df['project_no'].unique()]\n",
    ")\n",
    "\n",
    "# 6. Iterate through each project and create a bar chart for its top 10 suppliers\n",
    "for i, project_no in enumerate(df['project_no'].unique()):\n",
    "    # Filter data for the current project and get top 10 suppliers\n",
    "    project_data = df_top_suppliers[df_top_suppliers['project_no'] == project_no].nlargest(10, 'TotalAmount')\n",
    "\n",
    "    # Create the bar chart and add it to the subplot\n",
    "    fig.add_trace(\n",
    "        px.bar(\n",
    "            project_data, \n",
    "            x='supplier_name', \n",
    "            y='TotalAmount',\n",
    "            labels={'supplier_name': 'Supplier', 'TotalAmount': 'Total Amount'}\n",
    "        ).data[0],\n",
    "        row=i+1, col=1 \n",
    "    )\n",
    "\n",
    "    # Update layout for the subplot\n",
    "    fig.update_xaxes(title_text='Supplier Name', row=i+1, col=1)\n",
    "    fig.update_yaxes(title_text='Total Amount', row=i+1, col=1)\n",
    "\n",
    "# 7. Adjust the overall layout\n",
    "fig.update_layout(\n",
    "    height=1500, \n",
    "    width=800,\n",
    "    showlegend=False,\n",
    "    title_text=\"Top 10 Suppliers by Project\"\n",
    ")\n",
    "\n",
    "# 8. Display chart\n",
    "fig.write_html('top_10_suppliers_by_project.html')\n",
    "fig.show()"
   ]
  },
  {
   "cell_type": "code",
   "execution_count": 5,
   "metadata": {},
   "outputs": [
    {
     "name": "stdout",
     "output_type": "stream",
     "text": [
      "Columns returned by the query: RMKeyView(['project_no', 'expenditure_type', 'TotalAmount'])\n",
      "Shape of results: 81 rows, 3 columns\n",
      "First few rows of results: [('170', 'Subcontractor', 299628668.01999986), ('170', 'Tools', 147025461.98000002), ('170', 'Steel Reinforcement', 96572156.96000001), ('170', 'Cement', 57350654.41999998), ('170', 'Hirings daily wages', 35486828.54)]\n"
     ]
    },
    {
     "data": {
      "application/vnd.plotly.v1+json": {
       "config": {
        "plotlyServerURL": "https://plot.ly"
       },
       "data": [
        {
         "domain": {
          "x": [
           0,
           1
          ],
          "y": [
           0.88,
           1
          ]
         },
         "hovertemplate": "expenditure_type=%{label}<br>TotalAmount=%{value}<extra></extra>",
         "labels": [
          "Subcontractor",
          "Tools",
          "Steel Reinforcement",
          "Cement",
          "Hirings daily wages",
          "Hirings Payrool",
          "Materials",
          "RFT Steel",
          "Projects Social Insurance",
          "Site Staff"
         ],
         "legendgroup": "",
         "name": "",
         "showlegend": true,
         "textinfo": "percent+label",
         "textposition": "inside",
         "type": "pie",
         "values": [
          299628668.01999986,
          147025461.98000002,
          96572156.96000001,
          57350654.41999998,
          35486828.54,
          32184209.88,
          20010660.78,
          16165574.639999999,
          11796403,
          11302864.73
         ]
        }
       ],
       "layout": {
        "annotations": [
         {
          "font": {
           "size": 16
          },
          "showarrow": false,
          "text": "170 - Mivida BP#189",
          "x": 0.5,
          "xanchor": "center",
          "xref": "paper",
          "y": 1,
          "yanchor": "bottom",
          "yref": "paper"
         }
        ],
        "height": 2000,
        "showlegend": true,
        "template": {
         "data": {
          "bar": [
           {
            "error_x": {
             "color": "#2a3f5f"
            },
            "error_y": {
             "color": "#2a3f5f"
            },
            "marker": {
             "line": {
              "color": "#E5ECF6",
              "width": 0.5
             },
             "pattern": {
              "fillmode": "overlay",
              "size": 10,
              "solidity": 0.2
             }
            },
            "type": "bar"
           }
          ],
          "barpolar": [
           {
            "marker": {
             "line": {
              "color": "#E5ECF6",
              "width": 0.5
             },
             "pattern": {
              "fillmode": "overlay",
              "size": 10,
              "solidity": 0.2
             }
            },
            "type": "barpolar"
           }
          ],
          "carpet": [
           {
            "aaxis": {
             "endlinecolor": "#2a3f5f",
             "gridcolor": "white",
             "linecolor": "white",
             "minorgridcolor": "white",
             "startlinecolor": "#2a3f5f"
            },
            "baxis": {
             "endlinecolor": "#2a3f5f",
             "gridcolor": "white",
             "linecolor": "white",
             "minorgridcolor": "white",
             "startlinecolor": "#2a3f5f"
            },
            "type": "carpet"
           }
          ],
          "choropleth": [
           {
            "colorbar": {
             "outlinewidth": 0,
             "ticks": ""
            },
            "type": "choropleth"
           }
          ],
          "contour": [
           {
            "colorbar": {
             "outlinewidth": 0,
             "ticks": ""
            },
            "colorscale": [
             [
              0,
              "#0d0887"
             ],
             [
              0.1111111111111111,
              "#46039f"
             ],
             [
              0.2222222222222222,
              "#7201a8"
             ],
             [
              0.3333333333333333,
              "#9c179e"
             ],
             [
              0.4444444444444444,
              "#bd3786"
             ],
             [
              0.5555555555555556,
              "#d8576b"
             ],
             [
              0.6666666666666666,
              "#ed7953"
             ],
             [
              0.7777777777777778,
              "#fb9f3a"
             ],
             [
              0.8888888888888888,
              "#fdca26"
             ],
             [
              1,
              "#f0f921"
             ]
            ],
            "type": "contour"
           }
          ],
          "contourcarpet": [
           {
            "colorbar": {
             "outlinewidth": 0,
             "ticks": ""
            },
            "type": "contourcarpet"
           }
          ],
          "heatmap": [
           {
            "colorbar": {
             "outlinewidth": 0,
             "ticks": ""
            },
            "colorscale": [
             [
              0,
              "#0d0887"
             ],
             [
              0.1111111111111111,
              "#46039f"
             ],
             [
              0.2222222222222222,
              "#7201a8"
             ],
             [
              0.3333333333333333,
              "#9c179e"
             ],
             [
              0.4444444444444444,
              "#bd3786"
             ],
             [
              0.5555555555555556,
              "#d8576b"
             ],
             [
              0.6666666666666666,
              "#ed7953"
             ],
             [
              0.7777777777777778,
              "#fb9f3a"
             ],
             [
              0.8888888888888888,
              "#fdca26"
             ],
             [
              1,
              "#f0f921"
             ]
            ],
            "type": "heatmap"
           }
          ],
          "heatmapgl": [
           {
            "colorbar": {
             "outlinewidth": 0,
             "ticks": ""
            },
            "colorscale": [
             [
              0,
              "#0d0887"
             ],
             [
              0.1111111111111111,
              "#46039f"
             ],
             [
              0.2222222222222222,
              "#7201a8"
             ],
             [
              0.3333333333333333,
              "#9c179e"
             ],
             [
              0.4444444444444444,
              "#bd3786"
             ],
             [
              0.5555555555555556,
              "#d8576b"
             ],
             [
              0.6666666666666666,
              "#ed7953"
             ],
             [
              0.7777777777777778,
              "#fb9f3a"
             ],
             [
              0.8888888888888888,
              "#fdca26"
             ],
             [
              1,
              "#f0f921"
             ]
            ],
            "type": "heatmapgl"
           }
          ],
          "histogram": [
           {
            "marker": {
             "pattern": {
              "fillmode": "overlay",
              "size": 10,
              "solidity": 0.2
             }
            },
            "type": "histogram"
           }
          ],
          "histogram2d": [
           {
            "colorbar": {
             "outlinewidth": 0,
             "ticks": ""
            },
            "colorscale": [
             [
              0,
              "#0d0887"
             ],
             [
              0.1111111111111111,
              "#46039f"
             ],
             [
              0.2222222222222222,
              "#7201a8"
             ],
             [
              0.3333333333333333,
              "#9c179e"
             ],
             [
              0.4444444444444444,
              "#bd3786"
             ],
             [
              0.5555555555555556,
              "#d8576b"
             ],
             [
              0.6666666666666666,
              "#ed7953"
             ],
             [
              0.7777777777777778,
              "#fb9f3a"
             ],
             [
              0.8888888888888888,
              "#fdca26"
             ],
             [
              1,
              "#f0f921"
             ]
            ],
            "type": "histogram2d"
           }
          ],
          "histogram2dcontour": [
           {
            "colorbar": {
             "outlinewidth": 0,
             "ticks": ""
            },
            "colorscale": [
             [
              0,
              "#0d0887"
             ],
             [
              0.1111111111111111,
              "#46039f"
             ],
             [
              0.2222222222222222,
              "#7201a8"
             ],
             [
              0.3333333333333333,
              "#9c179e"
             ],
             [
              0.4444444444444444,
              "#bd3786"
             ],
             [
              0.5555555555555556,
              "#d8576b"
             ],
             [
              0.6666666666666666,
              "#ed7953"
             ],
             [
              0.7777777777777778,
              "#fb9f3a"
             ],
             [
              0.8888888888888888,
              "#fdca26"
             ],
             [
              1,
              "#f0f921"
             ]
            ],
            "type": "histogram2dcontour"
           }
          ],
          "mesh3d": [
           {
            "colorbar": {
             "outlinewidth": 0,
             "ticks": ""
            },
            "type": "mesh3d"
           }
          ],
          "parcoords": [
           {
            "line": {
             "colorbar": {
              "outlinewidth": 0,
              "ticks": ""
             }
            },
            "type": "parcoords"
           }
          ],
          "pie": [
           {
            "automargin": true,
            "type": "pie"
           }
          ],
          "scatter": [
           {
            "fillpattern": {
             "fillmode": "overlay",
             "size": 10,
             "solidity": 0.2
            },
            "type": "scatter"
           }
          ],
          "scatter3d": [
           {
            "line": {
             "colorbar": {
              "outlinewidth": 0,
              "ticks": ""
             }
            },
            "marker": {
             "colorbar": {
              "outlinewidth": 0,
              "ticks": ""
             }
            },
            "type": "scatter3d"
           }
          ],
          "scattercarpet": [
           {
            "marker": {
             "colorbar": {
              "outlinewidth": 0,
              "ticks": ""
             }
            },
            "type": "scattercarpet"
           }
          ],
          "scattergeo": [
           {
            "marker": {
             "colorbar": {
              "outlinewidth": 0,
              "ticks": ""
             }
            },
            "type": "scattergeo"
           }
          ],
          "scattergl": [
           {
            "marker": {
             "colorbar": {
              "outlinewidth": 0,
              "ticks": ""
             }
            },
            "type": "scattergl"
           }
          ],
          "scattermapbox": [
           {
            "marker": {
             "colorbar": {
              "outlinewidth": 0,
              "ticks": ""
             }
            },
            "type": "scattermapbox"
           }
          ],
          "scatterpolar": [
           {
            "marker": {
             "colorbar": {
              "outlinewidth": 0,
              "ticks": ""
             }
            },
            "type": "scatterpolar"
           }
          ],
          "scatterpolargl": [
           {
            "marker": {
             "colorbar": {
              "outlinewidth": 0,
              "ticks": ""
             }
            },
            "type": "scatterpolargl"
           }
          ],
          "scatterternary": [
           {
            "marker": {
             "colorbar": {
              "outlinewidth": 0,
              "ticks": ""
             }
            },
            "type": "scatterternary"
           }
          ],
          "surface": [
           {
            "colorbar": {
             "outlinewidth": 0,
             "ticks": ""
            },
            "colorscale": [
             [
              0,
              "#0d0887"
             ],
             [
              0.1111111111111111,
              "#46039f"
             ],
             [
              0.2222222222222222,
              "#7201a8"
             ],
             [
              0.3333333333333333,
              "#9c179e"
             ],
             [
              0.4444444444444444,
              "#bd3786"
             ],
             [
              0.5555555555555556,
              "#d8576b"
             ],
             [
              0.6666666666666666,
              "#ed7953"
             ],
             [
              0.7777777777777778,
              "#fb9f3a"
             ],
             [
              0.8888888888888888,
              "#fdca26"
             ],
             [
              1,
              "#f0f921"
             ]
            ],
            "type": "surface"
           }
          ],
          "table": [
           {
            "cells": {
             "fill": {
              "color": "#EBF0F8"
             },
             "line": {
              "color": "white"
             }
            },
            "header": {
             "fill": {
              "color": "#C8D4E3"
             },
             "line": {
              "color": "white"
             }
            },
            "type": "table"
           }
          ]
         },
         "layout": {
          "annotationdefaults": {
           "arrowcolor": "#2a3f5f",
           "arrowhead": 0,
           "arrowwidth": 1
          },
          "autotypenumbers": "strict",
          "coloraxis": {
           "colorbar": {
            "outlinewidth": 0,
            "ticks": ""
           }
          },
          "colorscale": {
           "diverging": [
            [
             0,
             "#8e0152"
            ],
            [
             0.1,
             "#c51b7d"
            ],
            [
             0.2,
             "#de77ae"
            ],
            [
             0.3,
             "#f1b6da"
            ],
            [
             0.4,
             "#fde0ef"
            ],
            [
             0.5,
             "#f7f7f7"
            ],
            [
             0.6,
             "#e6f5d0"
            ],
            [
             0.7,
             "#b8e186"
            ],
            [
             0.8,
             "#7fbc41"
            ],
            [
             0.9,
             "#4d9221"
            ],
            [
             1,
             "#276419"
            ]
           ],
           "sequential": [
            [
             0,
             "#0d0887"
            ],
            [
             0.1111111111111111,
             "#46039f"
            ],
            [
             0.2222222222222222,
             "#7201a8"
            ],
            [
             0.3333333333333333,
             "#9c179e"
            ],
            [
             0.4444444444444444,
             "#bd3786"
            ],
            [
             0.5555555555555556,
             "#d8576b"
            ],
            [
             0.6666666666666666,
             "#ed7953"
            ],
            [
             0.7777777777777778,
             "#fb9f3a"
            ],
            [
             0.8888888888888888,
             "#fdca26"
            ],
            [
             1,
             "#f0f921"
            ]
           ],
           "sequentialminus": [
            [
             0,
             "#0d0887"
            ],
            [
             0.1111111111111111,
             "#46039f"
            ],
            [
             0.2222222222222222,
             "#7201a8"
            ],
            [
             0.3333333333333333,
             "#9c179e"
            ],
            [
             0.4444444444444444,
             "#bd3786"
            ],
            [
             0.5555555555555556,
             "#d8576b"
            ],
            [
             0.6666666666666666,
             "#ed7953"
            ],
            [
             0.7777777777777778,
             "#fb9f3a"
            ],
            [
             0.8888888888888888,
             "#fdca26"
            ],
            [
             1,
             "#f0f921"
            ]
           ]
          },
          "colorway": [
           "#636efa",
           "#EF553B",
           "#00cc96",
           "#ab63fa",
           "#FFA15A",
           "#19d3f3",
           "#FF6692",
           "#B6E880",
           "#FF97FF",
           "#FECB52"
          ],
          "font": {
           "color": "#2a3f5f"
          },
          "geo": {
           "bgcolor": "white",
           "lakecolor": "white",
           "landcolor": "#E5ECF6",
           "showlakes": true,
           "showland": true,
           "subunitcolor": "white"
          },
          "hoverlabel": {
           "align": "left"
          },
          "hovermode": "closest",
          "mapbox": {
           "style": "light"
          },
          "paper_bgcolor": "white",
          "plot_bgcolor": "#E5ECF6",
          "polar": {
           "angularaxis": {
            "gridcolor": "white",
            "linecolor": "white",
            "ticks": ""
           },
           "bgcolor": "#E5ECF6",
           "radialaxis": {
            "gridcolor": "white",
            "linecolor": "white",
            "ticks": ""
           }
          },
          "scene": {
           "xaxis": {
            "backgroundcolor": "#E5ECF6",
            "gridcolor": "white",
            "gridwidth": 2,
            "linecolor": "white",
            "showbackground": true,
            "ticks": "",
            "zerolinecolor": "white"
           },
           "yaxis": {
            "backgroundcolor": "#E5ECF6",
            "gridcolor": "white",
            "gridwidth": 2,
            "linecolor": "white",
            "showbackground": true,
            "ticks": "",
            "zerolinecolor": "white"
           },
           "zaxis": {
            "backgroundcolor": "#E5ECF6",
            "gridcolor": "white",
            "gridwidth": 2,
            "linecolor": "white",
            "showbackground": true,
            "ticks": "",
            "zerolinecolor": "white"
           }
          },
          "shapedefaults": {
           "line": {
            "color": "#2a3f5f"
           }
          },
          "ternary": {
           "aaxis": {
            "gridcolor": "white",
            "linecolor": "white",
            "ticks": ""
           },
           "baxis": {
            "gridcolor": "white",
            "linecolor": "white",
            "ticks": ""
           },
           "bgcolor": "#E5ECF6",
           "caxis": {
            "gridcolor": "white",
            "linecolor": "white",
            "ticks": ""
           }
          },
          "title": {
           "x": 0.05
          },
          "xaxis": {
           "automargin": true,
           "gridcolor": "white",
           "linecolor": "white",
           "ticks": "",
           "title": {
            "standoff": 15
           },
           "zerolinecolor": "white",
           "zerolinewidth": 2
          },
          "yaxis": {
           "automargin": true,
           "gridcolor": "white",
           "linecolor": "white",
           "ticks": "",
           "title": {
            "standoff": 15
           },
           "zerolinecolor": "white",
           "zerolinewidth": 2
          }
         }
        },
        "title": {
         "text": "Top 10 Expenditure Types by Project"
        },
        "width": 800
       }
      }
     },
     "metadata": {},
     "output_type": "display_data"
    }
   ],
   "source": [
    "import plotly.express as px\n",
    "import plotly.subplots as sp\n",
    "\n",
    "# 1. SQL query to get top 10 expenditure types for each project\n",
    "query_top_expenditures = \"\"\"\n",
    "SELECT project_no, expenditure_type, SUM(amount) AS TotalAmount\n",
    "FROM [omar.rme1].[dbo].[cost_dist]\n",
    "WHERE project_no IN ('170')\n",
    "GROUP BY project_no, expenditure_type\n",
    "ORDER BY project_no, TotalAmount DESC\n",
    "\"\"\"\n",
    "\n",
    "# 2. Execute the query\n",
    "with engine.connect() as conn:\n",
    "    results_top_expenditures = execute_query(conn, query_top_expenditures)\n",
    "\n",
    "# 3. Create DataFrame for top expenditure types\n",
    "df_top_expenditures = pd.DataFrame(results_top_expenditures, columns=['project_no', 'expenditure_type', 'TotalAmount'])\n",
    "\n",
    "# 4. Get the project names from df_merged (assuming it's available from the 3rd cell)\n",
    "# (This line remains the same as in the fourth cell)\n",
    "\n",
    "# 5. Create a subplot for each project, arranged vertically, with project number and name in titles\n",
    "# Specify specs to create subplots of type 'domain' for pie charts\n",
    "fig = sp.make_subplots(\n",
    "    rows=5, \n",
    "    cols=1, \n",
    "    subplot_titles=[f\"{proj} - {project_names_dict[proj]}\" for proj in df['project_no'].unique()],\n",
    "    specs=[[{'type': 'domain'}] for _ in range(5)]  # 5 subplots, each of type 'domain'\n",
    ")\n",
    "\n",
    "# 6. Iterate through each project and create a pie chart for its top 10 expenditure types\n",
    "for i, project_no in enumerate(df['project_no'].unique()):\n",
    "    # Filter data for the current project and get top 10 expenditure types\n",
    "    project_data = df_top_expenditures[df_top_expenditures['project_no'] == project_no].nlargest(10, 'TotalAmount')\n",
    "\n",
    "    # Create the pie chart \n",
    "    pie_chart = px.pie(\n",
    "        project_data, \n",
    "        values='TotalAmount',\n",
    "        names='expenditure_type',\n",
    "        title=f'Top 10 Expenditure Types for Project {project_no}',\n",
    "    )\n",
    "\n",
    "    # Add the trace from the pie chart to the subplot\n",
    "    fig.add_trace(pie_chart.data[0], row=i+1, col=1)\n",
    "\n",
    "# 7. Adjust the overall layout\n",
    "fig.update_layout(\n",
    "    height=2000,  # Adjust height as needed\n",
    "    width=800,\n",
    "    showlegend=True,\n",
    "    title_text=\"Top 10 Expenditure Types by Project\"\n",
    ")\n",
    "\n",
    "# Update layout for traces\n",
    "fig.update_traces(textposition='inside', textinfo='percent+label')\n",
    "\n",
    "# 8. Display chart\n",
    "fig.write_html('top_10_expenditure_types_by_project.html')\n",
    "fig.show()"
   ]
  },
  {
   "cell_type": "code",
   "execution_count": 6,
   "metadata": {},
   "outputs": [
    {
     "name": "stdout",
     "output_type": "stream",
     "text": [
      "Columns returned by the query: RMKeyView(['project_no', 'SteelReinforcementCost'])\n",
      "Shape of results: 1 rows, 2 columns\n",
      "First few rows of results: [('170', 118155386.53000002)]\n"
     ]
    },
    {
     "data": {
      "application/vnd.plotly.v1+json": {
       "config": {
        "plotlyServerURL": "https://plot.ly"
       },
       "data": [
        {
         "alignmentgroup": "True",
         "hovertemplate": "Project=%{x}<br>Steel Reinforcement Cost=%{y}<extra></extra>",
         "legendgroup": "",
         "marker": {
          "color": "#636efa",
          "pattern": {
           "shape": ""
          }
         },
         "name": "",
         "offsetgroup": "",
         "orientation": "v",
         "showlegend": false,
         "textposition": "auto",
         "type": "bar",
         "x": [
          "170 - Mivida BP#189"
         ],
         "xaxis": "x",
         "y": [
          118155386.53000002
         ],
         "yaxis": "y"
        }
       ],
       "layout": {
        "annotations": [
         {
          "showarrow": false,
          "text": "118,155,386",
          "x": "170 - Mivida BP#189",
          "y": 118155386.53000002,
          "yshift": 10
         }
        ],
        "barmode": "relative",
        "legend": {
         "tracegroupgap": 0
        },
        "template": {
         "data": {
          "bar": [
           {
            "error_x": {
             "color": "#2a3f5f"
            },
            "error_y": {
             "color": "#2a3f5f"
            },
            "marker": {
             "line": {
              "color": "#E5ECF6",
              "width": 0.5
             },
             "pattern": {
              "fillmode": "overlay",
              "size": 10,
              "solidity": 0.2
             }
            },
            "type": "bar"
           }
          ],
          "barpolar": [
           {
            "marker": {
             "line": {
              "color": "#E5ECF6",
              "width": 0.5
             },
             "pattern": {
              "fillmode": "overlay",
              "size": 10,
              "solidity": 0.2
             }
            },
            "type": "barpolar"
           }
          ],
          "carpet": [
           {
            "aaxis": {
             "endlinecolor": "#2a3f5f",
             "gridcolor": "white",
             "linecolor": "white",
             "minorgridcolor": "white",
             "startlinecolor": "#2a3f5f"
            },
            "baxis": {
             "endlinecolor": "#2a3f5f",
             "gridcolor": "white",
             "linecolor": "white",
             "minorgridcolor": "white",
             "startlinecolor": "#2a3f5f"
            },
            "type": "carpet"
           }
          ],
          "choropleth": [
           {
            "colorbar": {
             "outlinewidth": 0,
             "ticks": ""
            },
            "type": "choropleth"
           }
          ],
          "contour": [
           {
            "colorbar": {
             "outlinewidth": 0,
             "ticks": ""
            },
            "colorscale": [
             [
              0,
              "#0d0887"
             ],
             [
              0.1111111111111111,
              "#46039f"
             ],
             [
              0.2222222222222222,
              "#7201a8"
             ],
             [
              0.3333333333333333,
              "#9c179e"
             ],
             [
              0.4444444444444444,
              "#bd3786"
             ],
             [
              0.5555555555555556,
              "#d8576b"
             ],
             [
              0.6666666666666666,
              "#ed7953"
             ],
             [
              0.7777777777777778,
              "#fb9f3a"
             ],
             [
              0.8888888888888888,
              "#fdca26"
             ],
             [
              1,
              "#f0f921"
             ]
            ],
            "type": "contour"
           }
          ],
          "contourcarpet": [
           {
            "colorbar": {
             "outlinewidth": 0,
             "ticks": ""
            },
            "type": "contourcarpet"
           }
          ],
          "heatmap": [
           {
            "colorbar": {
             "outlinewidth": 0,
             "ticks": ""
            },
            "colorscale": [
             [
              0,
              "#0d0887"
             ],
             [
              0.1111111111111111,
              "#46039f"
             ],
             [
              0.2222222222222222,
              "#7201a8"
             ],
             [
              0.3333333333333333,
              "#9c179e"
             ],
             [
              0.4444444444444444,
              "#bd3786"
             ],
             [
              0.5555555555555556,
              "#d8576b"
             ],
             [
              0.6666666666666666,
              "#ed7953"
             ],
             [
              0.7777777777777778,
              "#fb9f3a"
             ],
             [
              0.8888888888888888,
              "#fdca26"
             ],
             [
              1,
              "#f0f921"
             ]
            ],
            "type": "heatmap"
           }
          ],
          "heatmapgl": [
           {
            "colorbar": {
             "outlinewidth": 0,
             "ticks": ""
            },
            "colorscale": [
             [
              0,
              "#0d0887"
             ],
             [
              0.1111111111111111,
              "#46039f"
             ],
             [
              0.2222222222222222,
              "#7201a8"
             ],
             [
              0.3333333333333333,
              "#9c179e"
             ],
             [
              0.4444444444444444,
              "#bd3786"
             ],
             [
              0.5555555555555556,
              "#d8576b"
             ],
             [
              0.6666666666666666,
              "#ed7953"
             ],
             [
              0.7777777777777778,
              "#fb9f3a"
             ],
             [
              0.8888888888888888,
              "#fdca26"
             ],
             [
              1,
              "#f0f921"
             ]
            ],
            "type": "heatmapgl"
           }
          ],
          "histogram": [
           {
            "marker": {
             "pattern": {
              "fillmode": "overlay",
              "size": 10,
              "solidity": 0.2
             }
            },
            "type": "histogram"
           }
          ],
          "histogram2d": [
           {
            "colorbar": {
             "outlinewidth": 0,
             "ticks": ""
            },
            "colorscale": [
             [
              0,
              "#0d0887"
             ],
             [
              0.1111111111111111,
              "#46039f"
             ],
             [
              0.2222222222222222,
              "#7201a8"
             ],
             [
              0.3333333333333333,
              "#9c179e"
             ],
             [
              0.4444444444444444,
              "#bd3786"
             ],
             [
              0.5555555555555556,
              "#d8576b"
             ],
             [
              0.6666666666666666,
              "#ed7953"
             ],
             [
              0.7777777777777778,
              "#fb9f3a"
             ],
             [
              0.8888888888888888,
              "#fdca26"
             ],
             [
              1,
              "#f0f921"
             ]
            ],
            "type": "histogram2d"
           }
          ],
          "histogram2dcontour": [
           {
            "colorbar": {
             "outlinewidth": 0,
             "ticks": ""
            },
            "colorscale": [
             [
              0,
              "#0d0887"
             ],
             [
              0.1111111111111111,
              "#46039f"
             ],
             [
              0.2222222222222222,
              "#7201a8"
             ],
             [
              0.3333333333333333,
              "#9c179e"
             ],
             [
              0.4444444444444444,
              "#bd3786"
             ],
             [
              0.5555555555555556,
              "#d8576b"
             ],
             [
              0.6666666666666666,
              "#ed7953"
             ],
             [
              0.7777777777777778,
              "#fb9f3a"
             ],
             [
              0.8888888888888888,
              "#fdca26"
             ],
             [
              1,
              "#f0f921"
             ]
            ],
            "type": "histogram2dcontour"
           }
          ],
          "mesh3d": [
           {
            "colorbar": {
             "outlinewidth": 0,
             "ticks": ""
            },
            "type": "mesh3d"
           }
          ],
          "parcoords": [
           {
            "line": {
             "colorbar": {
              "outlinewidth": 0,
              "ticks": ""
             }
            },
            "type": "parcoords"
           }
          ],
          "pie": [
           {
            "automargin": true,
            "type": "pie"
           }
          ],
          "scatter": [
           {
            "fillpattern": {
             "fillmode": "overlay",
             "size": 10,
             "solidity": 0.2
            },
            "type": "scatter"
           }
          ],
          "scatter3d": [
           {
            "line": {
             "colorbar": {
              "outlinewidth": 0,
              "ticks": ""
             }
            },
            "marker": {
             "colorbar": {
              "outlinewidth": 0,
              "ticks": ""
             }
            },
            "type": "scatter3d"
           }
          ],
          "scattercarpet": [
           {
            "marker": {
             "colorbar": {
              "outlinewidth": 0,
              "ticks": ""
             }
            },
            "type": "scattercarpet"
           }
          ],
          "scattergeo": [
           {
            "marker": {
             "colorbar": {
              "outlinewidth": 0,
              "ticks": ""
             }
            },
            "type": "scattergeo"
           }
          ],
          "scattergl": [
           {
            "marker": {
             "colorbar": {
              "outlinewidth": 0,
              "ticks": ""
             }
            },
            "type": "scattergl"
           }
          ],
          "scattermapbox": [
           {
            "marker": {
             "colorbar": {
              "outlinewidth": 0,
              "ticks": ""
             }
            },
            "type": "scattermapbox"
           }
          ],
          "scatterpolar": [
           {
            "marker": {
             "colorbar": {
              "outlinewidth": 0,
              "ticks": ""
             }
            },
            "type": "scatterpolar"
           }
          ],
          "scatterpolargl": [
           {
            "marker": {
             "colorbar": {
              "outlinewidth": 0,
              "ticks": ""
             }
            },
            "type": "scatterpolargl"
           }
          ],
          "scatterternary": [
           {
            "marker": {
             "colorbar": {
              "outlinewidth": 0,
              "ticks": ""
             }
            },
            "type": "scatterternary"
           }
          ],
          "surface": [
           {
            "colorbar": {
             "outlinewidth": 0,
             "ticks": ""
            },
            "colorscale": [
             [
              0,
              "#0d0887"
             ],
             [
              0.1111111111111111,
              "#46039f"
             ],
             [
              0.2222222222222222,
              "#7201a8"
             ],
             [
              0.3333333333333333,
              "#9c179e"
             ],
             [
              0.4444444444444444,
              "#bd3786"
             ],
             [
              0.5555555555555556,
              "#d8576b"
             ],
             [
              0.6666666666666666,
              "#ed7953"
             ],
             [
              0.7777777777777778,
              "#fb9f3a"
             ],
             [
              0.8888888888888888,
              "#fdca26"
             ],
             [
              1,
              "#f0f921"
             ]
            ],
            "type": "surface"
           }
          ],
          "table": [
           {
            "cells": {
             "fill": {
              "color": "#EBF0F8"
             },
             "line": {
              "color": "white"
             }
            },
            "header": {
             "fill": {
              "color": "#C8D4E3"
             },
             "line": {
              "color": "white"
             }
            },
            "type": "table"
           }
          ]
         },
         "layout": {
          "annotationdefaults": {
           "arrowcolor": "#2a3f5f",
           "arrowhead": 0,
           "arrowwidth": 1
          },
          "autotypenumbers": "strict",
          "coloraxis": {
           "colorbar": {
            "outlinewidth": 0,
            "ticks": ""
           }
          },
          "colorscale": {
           "diverging": [
            [
             0,
             "#8e0152"
            ],
            [
             0.1,
             "#c51b7d"
            ],
            [
             0.2,
             "#de77ae"
            ],
            [
             0.3,
             "#f1b6da"
            ],
            [
             0.4,
             "#fde0ef"
            ],
            [
             0.5,
             "#f7f7f7"
            ],
            [
             0.6,
             "#e6f5d0"
            ],
            [
             0.7,
             "#b8e186"
            ],
            [
             0.8,
             "#7fbc41"
            ],
            [
             0.9,
             "#4d9221"
            ],
            [
             1,
             "#276419"
            ]
           ],
           "sequential": [
            [
             0,
             "#0d0887"
            ],
            [
             0.1111111111111111,
             "#46039f"
            ],
            [
             0.2222222222222222,
             "#7201a8"
            ],
            [
             0.3333333333333333,
             "#9c179e"
            ],
            [
             0.4444444444444444,
             "#bd3786"
            ],
            [
             0.5555555555555556,
             "#d8576b"
            ],
            [
             0.6666666666666666,
             "#ed7953"
            ],
            [
             0.7777777777777778,
             "#fb9f3a"
            ],
            [
             0.8888888888888888,
             "#fdca26"
            ],
            [
             1,
             "#f0f921"
            ]
           ],
           "sequentialminus": [
            [
             0,
             "#0d0887"
            ],
            [
             0.1111111111111111,
             "#46039f"
            ],
            [
             0.2222222222222222,
             "#7201a8"
            ],
            [
             0.3333333333333333,
             "#9c179e"
            ],
            [
             0.4444444444444444,
             "#bd3786"
            ],
            [
             0.5555555555555556,
             "#d8576b"
            ],
            [
             0.6666666666666666,
             "#ed7953"
            ],
            [
             0.7777777777777778,
             "#fb9f3a"
            ],
            [
             0.8888888888888888,
             "#fdca26"
            ],
            [
             1,
             "#f0f921"
            ]
           ]
          },
          "colorway": [
           "#636efa",
           "#EF553B",
           "#00cc96",
           "#ab63fa",
           "#FFA15A",
           "#19d3f3",
           "#FF6692",
           "#B6E880",
           "#FF97FF",
           "#FECB52"
          ],
          "font": {
           "color": "#2a3f5f"
          },
          "geo": {
           "bgcolor": "white",
           "lakecolor": "white",
           "landcolor": "#E5ECF6",
           "showlakes": true,
           "showland": true,
           "subunitcolor": "white"
          },
          "hoverlabel": {
           "align": "left"
          },
          "hovermode": "closest",
          "mapbox": {
           "style": "light"
          },
          "paper_bgcolor": "white",
          "plot_bgcolor": "#E5ECF6",
          "polar": {
           "angularaxis": {
            "gridcolor": "white",
            "linecolor": "white",
            "ticks": ""
           },
           "bgcolor": "#E5ECF6",
           "radialaxis": {
            "gridcolor": "white",
            "linecolor": "white",
            "ticks": ""
           }
          },
          "scene": {
           "xaxis": {
            "backgroundcolor": "#E5ECF6",
            "gridcolor": "white",
            "gridwidth": 2,
            "linecolor": "white",
            "showbackground": true,
            "ticks": "",
            "zerolinecolor": "white"
           },
           "yaxis": {
            "backgroundcolor": "#E5ECF6",
            "gridcolor": "white",
            "gridwidth": 2,
            "linecolor": "white",
            "showbackground": true,
            "ticks": "",
            "zerolinecolor": "white"
           },
           "zaxis": {
            "backgroundcolor": "#E5ECF6",
            "gridcolor": "white",
            "gridwidth": 2,
            "linecolor": "white",
            "showbackground": true,
            "ticks": "",
            "zerolinecolor": "white"
           }
          },
          "shapedefaults": {
           "line": {
            "color": "#2a3f5f"
           }
          },
          "ternary": {
           "aaxis": {
            "gridcolor": "white",
            "linecolor": "white",
            "ticks": ""
           },
           "baxis": {
            "gridcolor": "white",
            "linecolor": "white",
            "ticks": ""
           },
           "bgcolor": "#E5ECF6",
           "caxis": {
            "gridcolor": "white",
            "linecolor": "white",
            "ticks": ""
           }
          },
          "title": {
           "x": 0.05
          },
          "xaxis": {
           "automargin": true,
           "gridcolor": "white",
           "linecolor": "white",
           "ticks": "",
           "title": {
            "standoff": 15
           },
           "zerolinecolor": "white",
           "zerolinewidth": 2
          },
          "yaxis": {
           "automargin": true,
           "gridcolor": "white",
           "linecolor": "white",
           "ticks": "",
           "title": {
            "standoff": 15
           },
           "zerolinecolor": "white",
           "zerolinewidth": 2
          }
         }
        },
        "title": {
         "text": "Total Steel Reinforcement Cost by Project (Total: 118,155,386)"
        },
        "width": 800,
        "xaxis": {
         "anchor": "y",
         "domain": [
          0,
          1
         ],
         "title": {
          "text": "Project"
         }
        },
        "yaxis": {
         "anchor": "x",
         "domain": [
          0,
          1
         ],
         "title": {
          "text": "Steel Reinforcement Cost"
         }
        }
       }
      }
     },
     "metadata": {},
     "output_type": "display_data"
    }
   ],
   "source": [
    "# Seach for Steel Rft حديد تسليح in \"comment\" column\n",
    "\n",
    "\n",
    "import plotly.express as px\n",
    "\n",
    "# 1. SQL query to get total steel reinforcement cost for each project\n",
    "query_steel_cost = \"\"\"\n",
    "SELECT project_no, SUM(amount) AS SteelReinforcementCost\n",
    "FROM [omar.rme1].[dbo].[cost_dist]\n",
    "WHERE project_no IN ('170')\n",
    "AND comment LIKE N'%حديد تسليح%'\n",
    "GROUP BY project_no;\n",
    "\"\"\"\n",
    "\n",
    "# 2. Execute the query \n",
    "with engine.connect() as conn:\n",
    "    results_steel_cost = execute_query(conn, query_steel_cost)\n",
    "\n",
    "# 3. Create DataFrame for steel reinforcement costs\n",
    "df_steel_cost = pd.DataFrame(results_steel_cost, columns=['project_no', 'SteelReinforcementCost'])\n",
    "\n",
    "# 4. Merge with project names DataFrame\n",
    "df_steel_merged = pd.merge(df_steel_cost, df_names, on='project_no', how='left')\n",
    "\n",
    "# 5. Fill in missing values with 0 (in case some projects have no steel reinforcement)\n",
    "df_steel_merged.fillna(0, inplace=True)\n",
    "\n",
    "# 6. Combine project_no and project_name for labels\n",
    "df_steel_merged['Project'] = df_steel_merged['project_no'] + ' - ' + df_steel_merged['project_name']\n",
    "\n",
    "# 7. Calculate total steel reinforcement cost\n",
    "total_steel_cost = df_steel_merged['SteelReinforcementCost'].sum()\n",
    "\n",
    "# 8. Create bar chart\n",
    "fig = px.bar(\n",
    "    df_steel_merged, \n",
    "    x='Project', \n",
    "    y='SteelReinforcementCost',\n",
    "    title=f'Total Steel Reinforcement Cost by Project (Total: {int(total_steel_cost):,})',\n",
    "    labels={'project_name': 'Project', 'SteelReinforcementCost': 'Steel Reinforcement Cost'}\n",
    ")\n",
    "\n",
    "# Add annotations (text labels) to each bar with comma formatting and no decimals\n",
    "for i, row in df_steel_merged.iterrows():\n",
    "    fig.add_annotation(\n",
    "        x=row['Project'],\n",
    "        y=row['SteelReinforcementCost'],\n",
    "        text=f\"{int(row['SteelReinforcementCost']):,}\",\n",
    "        showarrow=False,\n",
    "        yshift=10, \n",
    "    )\n",
    "\n",
    "# Customize layout\n",
    "fig.update_layout(width=800)\n",
    "\n",
    "# 9. Display or save the chart\n",
    "fig.show()\n",
    "fig.write_html('steel_reinforcement_cost_by_project.html')"
   ]
  },
  {
   "cell_type": "code",
   "execution_count": 7,
   "metadata": {},
   "outputs": [
    {
     "name": "stdout",
     "output_type": "stream",
     "text": [
      "Columns returned by the query: RMKeyView(['project_no', 'SteelReinforcementCost'])\n",
      "Shape of results: 1 rows, 2 columns\n",
      "First few rows of results: [('170', 118155386.53)]\n"
     ]
    },
    {
     "data": {
      "application/vnd.plotly.v1+json": {
       "config": {
        "plotlyServerURL": "https://plot.ly"
       },
       "data": [
        {
         "alignmentgroup": "True",
         "hovertemplate": "Project=%{x}<br>Steel Reinforcement Cost=%{y}<extra></extra>",
         "legendgroup": "",
         "marker": {
          "color": "#636efa",
          "pattern": {
           "shape": ""
          }
         },
         "name": "",
         "offsetgroup": "",
         "orientation": "v",
         "showlegend": false,
         "textposition": "auto",
         "type": "bar",
         "x": [
          "170 - Mivida BP#189"
         ],
         "xaxis": "x",
         "y": [
          118155386.53
         ],
         "yaxis": "y"
        }
       ],
       "layout": {
        "annotations": [
         {
          "showarrow": false,
          "text": "118,155,386",
          "x": "170 - Mivida BP#189",
          "y": 118155386.53,
          "yshift": 10
         }
        ],
        "barmode": "relative",
        "legend": {
         "tracegroupgap": 0
        },
        "template": {
         "data": {
          "bar": [
           {
            "error_x": {
             "color": "#2a3f5f"
            },
            "error_y": {
             "color": "#2a3f5f"
            },
            "marker": {
             "line": {
              "color": "#E5ECF6",
              "width": 0.5
             },
             "pattern": {
              "fillmode": "overlay",
              "size": 10,
              "solidity": 0.2
             }
            },
            "type": "bar"
           }
          ],
          "barpolar": [
           {
            "marker": {
             "line": {
              "color": "#E5ECF6",
              "width": 0.5
             },
             "pattern": {
              "fillmode": "overlay",
              "size": 10,
              "solidity": 0.2
             }
            },
            "type": "barpolar"
           }
          ],
          "carpet": [
           {
            "aaxis": {
             "endlinecolor": "#2a3f5f",
             "gridcolor": "white",
             "linecolor": "white",
             "minorgridcolor": "white",
             "startlinecolor": "#2a3f5f"
            },
            "baxis": {
             "endlinecolor": "#2a3f5f",
             "gridcolor": "white",
             "linecolor": "white",
             "minorgridcolor": "white",
             "startlinecolor": "#2a3f5f"
            },
            "type": "carpet"
           }
          ],
          "choropleth": [
           {
            "colorbar": {
             "outlinewidth": 0,
             "ticks": ""
            },
            "type": "choropleth"
           }
          ],
          "contour": [
           {
            "colorbar": {
             "outlinewidth": 0,
             "ticks": ""
            },
            "colorscale": [
             [
              0,
              "#0d0887"
             ],
             [
              0.1111111111111111,
              "#46039f"
             ],
             [
              0.2222222222222222,
              "#7201a8"
             ],
             [
              0.3333333333333333,
              "#9c179e"
             ],
             [
              0.4444444444444444,
              "#bd3786"
             ],
             [
              0.5555555555555556,
              "#d8576b"
             ],
             [
              0.6666666666666666,
              "#ed7953"
             ],
             [
              0.7777777777777778,
              "#fb9f3a"
             ],
             [
              0.8888888888888888,
              "#fdca26"
             ],
             [
              1,
              "#f0f921"
             ]
            ],
            "type": "contour"
           }
          ],
          "contourcarpet": [
           {
            "colorbar": {
             "outlinewidth": 0,
             "ticks": ""
            },
            "type": "contourcarpet"
           }
          ],
          "heatmap": [
           {
            "colorbar": {
             "outlinewidth": 0,
             "ticks": ""
            },
            "colorscale": [
             [
              0,
              "#0d0887"
             ],
             [
              0.1111111111111111,
              "#46039f"
             ],
             [
              0.2222222222222222,
              "#7201a8"
             ],
             [
              0.3333333333333333,
              "#9c179e"
             ],
             [
              0.4444444444444444,
              "#bd3786"
             ],
             [
              0.5555555555555556,
              "#d8576b"
             ],
             [
              0.6666666666666666,
              "#ed7953"
             ],
             [
              0.7777777777777778,
              "#fb9f3a"
             ],
             [
              0.8888888888888888,
              "#fdca26"
             ],
             [
              1,
              "#f0f921"
             ]
            ],
            "type": "heatmap"
           }
          ],
          "heatmapgl": [
           {
            "colorbar": {
             "outlinewidth": 0,
             "ticks": ""
            },
            "colorscale": [
             [
              0,
              "#0d0887"
             ],
             [
              0.1111111111111111,
              "#46039f"
             ],
             [
              0.2222222222222222,
              "#7201a8"
             ],
             [
              0.3333333333333333,
              "#9c179e"
             ],
             [
              0.4444444444444444,
              "#bd3786"
             ],
             [
              0.5555555555555556,
              "#d8576b"
             ],
             [
              0.6666666666666666,
              "#ed7953"
             ],
             [
              0.7777777777777778,
              "#fb9f3a"
             ],
             [
              0.8888888888888888,
              "#fdca26"
             ],
             [
              1,
              "#f0f921"
             ]
            ],
            "type": "heatmapgl"
           }
          ],
          "histogram": [
           {
            "marker": {
             "pattern": {
              "fillmode": "overlay",
              "size": 10,
              "solidity": 0.2
             }
            },
            "type": "histogram"
           }
          ],
          "histogram2d": [
           {
            "colorbar": {
             "outlinewidth": 0,
             "ticks": ""
            },
            "colorscale": [
             [
              0,
              "#0d0887"
             ],
             [
              0.1111111111111111,
              "#46039f"
             ],
             [
              0.2222222222222222,
              "#7201a8"
             ],
             [
              0.3333333333333333,
              "#9c179e"
             ],
             [
              0.4444444444444444,
              "#bd3786"
             ],
             [
              0.5555555555555556,
              "#d8576b"
             ],
             [
              0.6666666666666666,
              "#ed7953"
             ],
             [
              0.7777777777777778,
              "#fb9f3a"
             ],
             [
              0.8888888888888888,
              "#fdca26"
             ],
             [
              1,
              "#f0f921"
             ]
            ],
            "type": "histogram2d"
           }
          ],
          "histogram2dcontour": [
           {
            "colorbar": {
             "outlinewidth": 0,
             "ticks": ""
            },
            "colorscale": [
             [
              0,
              "#0d0887"
             ],
             [
              0.1111111111111111,
              "#46039f"
             ],
             [
              0.2222222222222222,
              "#7201a8"
             ],
             [
              0.3333333333333333,
              "#9c179e"
             ],
             [
              0.4444444444444444,
              "#bd3786"
             ],
             [
              0.5555555555555556,
              "#d8576b"
             ],
             [
              0.6666666666666666,
              "#ed7953"
             ],
             [
              0.7777777777777778,
              "#fb9f3a"
             ],
             [
              0.8888888888888888,
              "#fdca26"
             ],
             [
              1,
              "#f0f921"
             ]
            ],
            "type": "histogram2dcontour"
           }
          ],
          "mesh3d": [
           {
            "colorbar": {
             "outlinewidth": 0,
             "ticks": ""
            },
            "type": "mesh3d"
           }
          ],
          "parcoords": [
           {
            "line": {
             "colorbar": {
              "outlinewidth": 0,
              "ticks": ""
             }
            },
            "type": "parcoords"
           }
          ],
          "pie": [
           {
            "automargin": true,
            "type": "pie"
           }
          ],
          "scatter": [
           {
            "fillpattern": {
             "fillmode": "overlay",
             "size": 10,
             "solidity": 0.2
            },
            "type": "scatter"
           }
          ],
          "scatter3d": [
           {
            "line": {
             "colorbar": {
              "outlinewidth": 0,
              "ticks": ""
             }
            },
            "marker": {
             "colorbar": {
              "outlinewidth": 0,
              "ticks": ""
             }
            },
            "type": "scatter3d"
           }
          ],
          "scattercarpet": [
           {
            "marker": {
             "colorbar": {
              "outlinewidth": 0,
              "ticks": ""
             }
            },
            "type": "scattercarpet"
           }
          ],
          "scattergeo": [
           {
            "marker": {
             "colorbar": {
              "outlinewidth": 0,
              "ticks": ""
             }
            },
            "type": "scattergeo"
           }
          ],
          "scattergl": [
           {
            "marker": {
             "colorbar": {
              "outlinewidth": 0,
              "ticks": ""
             }
            },
            "type": "scattergl"
           }
          ],
          "scattermapbox": [
           {
            "marker": {
             "colorbar": {
              "outlinewidth": 0,
              "ticks": ""
             }
            },
            "type": "scattermapbox"
           }
          ],
          "scatterpolar": [
           {
            "marker": {
             "colorbar": {
              "outlinewidth": 0,
              "ticks": ""
             }
            },
            "type": "scatterpolar"
           }
          ],
          "scatterpolargl": [
           {
            "marker": {
             "colorbar": {
              "outlinewidth": 0,
              "ticks": ""
             }
            },
            "type": "scatterpolargl"
           }
          ],
          "scatterternary": [
           {
            "marker": {
             "colorbar": {
              "outlinewidth": 0,
              "ticks": ""
             }
            },
            "type": "scatterternary"
           }
          ],
          "surface": [
           {
            "colorbar": {
             "outlinewidth": 0,
             "ticks": ""
            },
            "colorscale": [
             [
              0,
              "#0d0887"
             ],
             [
              0.1111111111111111,
              "#46039f"
             ],
             [
              0.2222222222222222,
              "#7201a8"
             ],
             [
              0.3333333333333333,
              "#9c179e"
             ],
             [
              0.4444444444444444,
              "#bd3786"
             ],
             [
              0.5555555555555556,
              "#d8576b"
             ],
             [
              0.6666666666666666,
              "#ed7953"
             ],
             [
              0.7777777777777778,
              "#fb9f3a"
             ],
             [
              0.8888888888888888,
              "#fdca26"
             ],
             [
              1,
              "#f0f921"
             ]
            ],
            "type": "surface"
           }
          ],
          "table": [
           {
            "cells": {
             "fill": {
              "color": "#EBF0F8"
             },
             "line": {
              "color": "white"
             }
            },
            "header": {
             "fill": {
              "color": "#C8D4E3"
             },
             "line": {
              "color": "white"
             }
            },
            "type": "table"
           }
          ]
         },
         "layout": {
          "annotationdefaults": {
           "arrowcolor": "#2a3f5f",
           "arrowhead": 0,
           "arrowwidth": 1
          },
          "autotypenumbers": "strict",
          "coloraxis": {
           "colorbar": {
            "outlinewidth": 0,
            "ticks": ""
           }
          },
          "colorscale": {
           "diverging": [
            [
             0,
             "#8e0152"
            ],
            [
             0.1,
             "#c51b7d"
            ],
            [
             0.2,
             "#de77ae"
            ],
            [
             0.3,
             "#f1b6da"
            ],
            [
             0.4,
             "#fde0ef"
            ],
            [
             0.5,
             "#f7f7f7"
            ],
            [
             0.6,
             "#e6f5d0"
            ],
            [
             0.7,
             "#b8e186"
            ],
            [
             0.8,
             "#7fbc41"
            ],
            [
             0.9,
             "#4d9221"
            ],
            [
             1,
             "#276419"
            ]
           ],
           "sequential": [
            [
             0,
             "#0d0887"
            ],
            [
             0.1111111111111111,
             "#46039f"
            ],
            [
             0.2222222222222222,
             "#7201a8"
            ],
            [
             0.3333333333333333,
             "#9c179e"
            ],
            [
             0.4444444444444444,
             "#bd3786"
            ],
            [
             0.5555555555555556,
             "#d8576b"
            ],
            [
             0.6666666666666666,
             "#ed7953"
            ],
            [
             0.7777777777777778,
             "#fb9f3a"
            ],
            [
             0.8888888888888888,
             "#fdca26"
            ],
            [
             1,
             "#f0f921"
            ]
           ],
           "sequentialminus": [
            [
             0,
             "#0d0887"
            ],
            [
             0.1111111111111111,
             "#46039f"
            ],
            [
             0.2222222222222222,
             "#7201a8"
            ],
            [
             0.3333333333333333,
             "#9c179e"
            ],
            [
             0.4444444444444444,
             "#bd3786"
            ],
            [
             0.5555555555555556,
             "#d8576b"
            ],
            [
             0.6666666666666666,
             "#ed7953"
            ],
            [
             0.7777777777777778,
             "#fb9f3a"
            ],
            [
             0.8888888888888888,
             "#fdca26"
            ],
            [
             1,
             "#f0f921"
            ]
           ]
          },
          "colorway": [
           "#636efa",
           "#EF553B",
           "#00cc96",
           "#ab63fa",
           "#FFA15A",
           "#19d3f3",
           "#FF6692",
           "#B6E880",
           "#FF97FF",
           "#FECB52"
          ],
          "font": {
           "color": "#2a3f5f"
          },
          "geo": {
           "bgcolor": "white",
           "lakecolor": "white",
           "landcolor": "#E5ECF6",
           "showlakes": true,
           "showland": true,
           "subunitcolor": "white"
          },
          "hoverlabel": {
           "align": "left"
          },
          "hovermode": "closest",
          "mapbox": {
           "style": "light"
          },
          "paper_bgcolor": "white",
          "plot_bgcolor": "#E5ECF6",
          "polar": {
           "angularaxis": {
            "gridcolor": "white",
            "linecolor": "white",
            "ticks": ""
           },
           "bgcolor": "#E5ECF6",
           "radialaxis": {
            "gridcolor": "white",
            "linecolor": "white",
            "ticks": ""
           }
          },
          "scene": {
           "xaxis": {
            "backgroundcolor": "#E5ECF6",
            "gridcolor": "white",
            "gridwidth": 2,
            "linecolor": "white",
            "showbackground": true,
            "ticks": "",
            "zerolinecolor": "white"
           },
           "yaxis": {
            "backgroundcolor": "#E5ECF6",
            "gridcolor": "white",
            "gridwidth": 2,
            "linecolor": "white",
            "showbackground": true,
            "ticks": "",
            "zerolinecolor": "white"
           },
           "zaxis": {
            "backgroundcolor": "#E5ECF6",
            "gridcolor": "white",
            "gridwidth": 2,
            "linecolor": "white",
            "showbackground": true,
            "ticks": "",
            "zerolinecolor": "white"
           }
          },
          "shapedefaults": {
           "line": {
            "color": "#2a3f5f"
           }
          },
          "ternary": {
           "aaxis": {
            "gridcolor": "white",
            "linecolor": "white",
            "ticks": ""
           },
           "baxis": {
            "gridcolor": "white",
            "linecolor": "white",
            "ticks": ""
           },
           "bgcolor": "#E5ECF6",
           "caxis": {
            "gridcolor": "white",
            "linecolor": "white",
            "ticks": ""
           }
          },
          "title": {
           "x": 0.05
          },
          "xaxis": {
           "automargin": true,
           "gridcolor": "white",
           "linecolor": "white",
           "ticks": "",
           "title": {
            "standoff": 15
           },
           "zerolinecolor": "white",
           "zerolinewidth": 2
          },
          "yaxis": {
           "automargin": true,
           "gridcolor": "white",
           "linecolor": "white",
           "ticks": "",
           "title": {
            "standoff": 15
           },
           "zerolinecolor": "white",
           "zerolinewidth": 2
          }
         }
        },
        "title": {
         "text": "Total Steel Reinforcement Cost by Project (from line_desc) (Total: 118,155,386)"
        },
        "width": 800,
        "xaxis": {
         "anchor": "y",
         "domain": [
          0,
          1
         ],
         "title": {
          "text": "Project"
         }
        },
        "yaxis": {
         "anchor": "x",
         "domain": [
          0,
          1
         ],
         "title": {
          "text": "Steel Reinforcement Cost"
         }
        }
       }
      }
     },
     "metadata": {},
     "output_type": "display_data"
    }
   ],
   "source": [
    "# Seach for Steel Rft حديد تسليح in \"line_desc\" column\n",
    "\n",
    "import plotly.express as px\n",
    "\n",
    "# 1. SQL query to get total steel reinforcement cost for each project (from line_desc)\n",
    "query_steel_cost_line_desc = \"\"\"\n",
    "SELECT project_no, SUM(amount) AS SteelReinforcementCost\n",
    "FROM [omar.rme1].[dbo].[cost_dist]\n",
    "WHERE project_no IN ('170')\n",
    "AND line_desc LIKE N'%حديد تسليح%'\n",
    "GROUP BY project_no;\n",
    "\"\"\"\n",
    "\n",
    "# 2. Execute the query \n",
    "with engine.connect() as conn:\n",
    "    results_steel_cost_line_desc = execute_query(conn, query_steel_cost_line_desc)\n",
    "\n",
    "# 3. Create DataFrame for steel reinforcement costs (from line_desc)\n",
    "df_steel_cost_line_desc = pd.DataFrame(results_steel_cost_line_desc, columns=['project_no', 'SteelReinforcementCost'])\n",
    "\n",
    "# 4. Merge with project names DataFrame\n",
    "df_steel_merged_line_desc = pd.merge(df_steel_cost_line_desc, df_names, on='project_no', how='left')\n",
    "\n",
    "# 5. Fill in missing values with 0 (in case some projects have no steel reinforcement)\n",
    "df_steel_merged_line_desc.fillna(0, inplace=True)\n",
    "\n",
    "# 6. Combine project_no and project_name for labels\n",
    "df_steel_merged_line_desc['Project'] = df_steel_merged_line_desc['project_no'] + ' - ' + df_steel_merged_line_desc['project_name']\n",
    "\n",
    "# 7. Calculate total steel reinforcement cost (from line_desc)\n",
    "total_steel_cost_line_desc = df_steel_merged_line_desc['SteelReinforcementCost'].sum()\n",
    "\n",
    "# 8. Create bar chart\n",
    "fig = px.bar(\n",
    "    df_steel_merged_line_desc, \n",
    "    x='Project', \n",
    "    y='SteelReinforcementCost',\n",
    "    title=f'Total Steel Reinforcement Cost by Project (from line_desc) (Total: {int(total_steel_cost_line_desc):,})',\n",
    "    labels={'project_name': 'Project', 'SteelReinforcementCost': 'Steel Reinforcement Cost'}\n",
    ")\n",
    "\n",
    "# Add annotations (text labels) to each bar with comma formatting and no decimals\n",
    "for i, row in df_steel_merged_line_desc.iterrows():\n",
    "    fig.add_annotation(\n",
    "        x=row['Project'],\n",
    "        y=row['SteelReinforcementCost'],\n",
    "        text=f\"{int(row['SteelReinforcementCost']):,}\",\n",
    "        showarrow=False,\n",
    "        yshift=10, \n",
    "    )\n",
    "\n",
    "# Customize layout\n",
    "fig.update_layout(width=800)\n",
    "\n",
    "# 9. Display or save the chart\n",
    "fig.show()\n",
    "fig.write_html('steel_reinforcement_cost_by_project_line_desc.html')"
   ]
  },
  {
   "cell_type": "code",
   "execution_count": 8,
   "metadata": {},
   "outputs": [
    {
     "name": "stdout",
     "output_type": "stream",
     "text": [
      "Columns returned by the query: RMKeyView(['trs_id', 'transaction_source', 'project_no', 'project_name', 'project_zone', 'task_no', 'task_name', 'top_task_no', 'top_task_name', 'po_no', 'gl_date', 'expenditure_type', 'project_location', 'project_floor', 'project_area', 'expenditure_category', 'expend_org', 'amount', 'line_no', 'line_desc', 'inv_no', 'unit', 'qty', 'ipc_no', 'supplier_no', 'supplier_name', 'supplier_site', 'comment', 'inventory_item', 'owner', 'distributions_status', 'distributions_date', 'distributions_details'])\n",
      "Shape of results: 29877 rows, 33 columns\n",
      "First few rows of results: [(3507176.0, 'Inventory Misc', '170', 'Mivida BP#189', None, '17.SE.19', 'Other Equipment', 17.0, 'Indirect Cost', None, datetime.datetime(2022, 9, 12, 0, 0), 'Tools', '170', 'Zone 2', None, 'Materials', 'Mivida BP#189-0170', 1805.76, 1.0, 'مسمار اكمون 16*100مم', None, 'Each', 160.0, 55811880.0, None, None, None, 'مسمار اكمون 16*100مم', '200020000115\\xa0 ', 'Purchasing\\xa0 ', 'Received', datetime.datetime(2022, 9, 18, 0, 0), 'Accounted transaction received '), (3507178.0, 'Inventory Misc', '170', 'Mivida BP#189', None, '17.SE.19', 'Other Equipment', 17.0, 'Indirect Cost', None, datetime.datetime(2022, 9, 12, 0, 0), 'Tools', '170', 'Zone 2', None, 'Materials', 'Mivida BP#189-0170', 3572.85, 1.0, 'فدية منشار صنية 9 بوصة', None, 'Each', 12.0, 55811882.0, None, None, None, 'فدية منشار صنية 9 بوصة', '200010000676\\xa0 ', 'Purchasing\\xa0 ', 'Received', datetime.datetime(2022, 9, 18, 0, 0), 'Accounted transaction received '), (3507194.0, 'Inventory Misc', '170', 'Mivida BP#189', None, '17.SE.19', 'Other Equipment', 17.0, 'Indirect Cost', None, datetime.datetime(2022, 9, 13, 0, 0), 'Tools', '170', 'Zone 3', None, 'Materials', 'Mivida BP#189-0170', 51.86, 1.0, 'مريلة لحام', None, 'Each', 1.0, 55827360.0, None, None, None, 'مريلة لحام', '039020100033\\xa0 ', 'MEP\\xa0 ', 'Received', datetime.datetime(2022, 9, 18, 0, 0), 'Accounted transaction received '), (3507195.0, 'Inventory Misc', '170', 'Mivida BP#189', None, '17.SE.19', 'Other Equipment', 17.0, 'Indirect Cost', None, datetime.datetime(2022, 9, 13, 0, 0), 'Tools', '170', 'Zone 3', None, 'Materials', 'Mivida BP#189-0170', 316.0, 1.0, 'مفتاح بلدى مشرشر 19 مم', None, 'Each', 4.0, 55827361.0, None, None, None, 'مفتاح بلدى مشرشر 19 مم', '039020300004\\xa0 ', 'MEP\\xa0 ', 'Received', datetime.datetime(2022, 9, 18, 0, 0), 'Accounted transaction received '), (3507200.0, 'Inventory Misc', '170', 'Mivida BP#189', None, '17.SE.19', 'Other Equipment', 17.0, 'Indirect Cost', None, datetime.datetime(2022, 9, 13, 0, 0), 'Tools', '170', 'Zone 2', None, 'Materials', 'Mivida BP#189-0170', 10.65, 1.0, 'بنطة معلقة 22 مم', None, 'Each', 1.0, 55827529.0, None, None, None, 'بنطة معلقة 22 مم', '200010000353\\xa0 ', 'Purchasing\\xa0 ', 'Received', datetime.datetime(2022, 9, 18, 0, 0), 'Accounted transaction received ')]\n",
      "Exported data for project 170 to project_170_data.xlsx\n"
     ]
    }
   ],
   "source": [
    "import pandas as pd\n",
    "\n",
    "# 1. SQL query to fetch all columns for the specified projects\n",
    "query_export = \"\"\"\n",
    "SELECT * \n",
    "FROM [omar.rme1].[dbo].[cost_dist]\n",
    "WHERE project_no IN ('170');\n",
    "\"\"\"\n",
    "\n",
    "# 2. Execute the query\n",
    "with engine.connect() as conn:\n",
    "    results_export = execute_query(conn, query_export)\n",
    "\n",
    "# 3. Create a DataFrame for all the data\n",
    "df_export = pd.DataFrame(results_export)\n",
    "\n",
    "# 4. Get the column names from the query output (if needed)\n",
    "# If you don't know the column names beforehand, uncomment the following line\n",
    "# columns = result.keys()\n",
    "# df_export.columns = columns\n",
    "\n",
    "# 5. Iterate through each project and export its data to a separate Excel file\n",
    "for project_no in df['project_no'].unique():\n",
    "    # Filter data for the current project\n",
    "    project_data = df_export[df_export['project_no'] == project_no]\n",
    "\n",
    "    # Export to Excel\n",
    "    project_data.to_excel(f'project_{project_no}_data.xlsx', index=False)\n",
    "    print(f\"Exported data for project {project_no} to project_{project_no}_data.xlsx\")"
   ]
  },
  {
   "cell_type": "code",
   "execution_count": 9,
   "metadata": {},
   "outputs": [
    {
     "name": "stdout",
     "output_type": "stream",
     "text": [
      "Columns returned by the query: RMKeyView(['project_no', 'ConcreteCost'])\n",
      "Shape of results: 1 rows, 2 columns\n",
      "First few rows of results: [('170', 58545745.50000001)]\n"
     ]
    },
    {
     "data": {
      "application/vnd.plotly.v1+json": {
       "config": {
        "plotlyServerURL": "https://plot.ly"
       },
       "data": [
        {
         "alignmentgroup": "True",
         "hovertemplate": "Project=%{x}<br>Concrete Cost=%{y}<extra></extra>",
         "legendgroup": "",
         "marker": {
          "color": "#636efa",
          "pattern": {
           "shape": ""
          }
         },
         "name": "",
         "offsetgroup": "",
         "orientation": "v",
         "showlegend": false,
         "textposition": "auto",
         "type": "bar",
         "x": [
          "170 - Mivida BP#189"
         ],
         "xaxis": "x",
         "y": [
          58545745.50000001
         ],
         "yaxis": "y"
        }
       ],
       "layout": {
        "annotations": [
         {
          "showarrow": false,
          "text": "58,545,745",
          "x": "170 - Mivida BP#189",
          "y": 58545745.50000001,
          "yshift": 10
         }
        ],
        "barmode": "relative",
        "legend": {
         "tracegroupgap": 0
        },
        "template": {
         "data": {
          "bar": [
           {
            "error_x": {
             "color": "#2a3f5f"
            },
            "error_y": {
             "color": "#2a3f5f"
            },
            "marker": {
             "line": {
              "color": "#E5ECF6",
              "width": 0.5
             },
             "pattern": {
              "fillmode": "overlay",
              "size": 10,
              "solidity": 0.2
             }
            },
            "type": "bar"
           }
          ],
          "barpolar": [
           {
            "marker": {
             "line": {
              "color": "#E5ECF6",
              "width": 0.5
             },
             "pattern": {
              "fillmode": "overlay",
              "size": 10,
              "solidity": 0.2
             }
            },
            "type": "barpolar"
           }
          ],
          "carpet": [
           {
            "aaxis": {
             "endlinecolor": "#2a3f5f",
             "gridcolor": "white",
             "linecolor": "white",
             "minorgridcolor": "white",
             "startlinecolor": "#2a3f5f"
            },
            "baxis": {
             "endlinecolor": "#2a3f5f",
             "gridcolor": "white",
             "linecolor": "white",
             "minorgridcolor": "white",
             "startlinecolor": "#2a3f5f"
            },
            "type": "carpet"
           }
          ],
          "choropleth": [
           {
            "colorbar": {
             "outlinewidth": 0,
             "ticks": ""
            },
            "type": "choropleth"
           }
          ],
          "contour": [
           {
            "colorbar": {
             "outlinewidth": 0,
             "ticks": ""
            },
            "colorscale": [
             [
              0,
              "#0d0887"
             ],
             [
              0.1111111111111111,
              "#46039f"
             ],
             [
              0.2222222222222222,
              "#7201a8"
             ],
             [
              0.3333333333333333,
              "#9c179e"
             ],
             [
              0.4444444444444444,
              "#bd3786"
             ],
             [
              0.5555555555555556,
              "#d8576b"
             ],
             [
              0.6666666666666666,
              "#ed7953"
             ],
             [
              0.7777777777777778,
              "#fb9f3a"
             ],
             [
              0.8888888888888888,
              "#fdca26"
             ],
             [
              1,
              "#f0f921"
             ]
            ],
            "type": "contour"
           }
          ],
          "contourcarpet": [
           {
            "colorbar": {
             "outlinewidth": 0,
             "ticks": ""
            },
            "type": "contourcarpet"
           }
          ],
          "heatmap": [
           {
            "colorbar": {
             "outlinewidth": 0,
             "ticks": ""
            },
            "colorscale": [
             [
              0,
              "#0d0887"
             ],
             [
              0.1111111111111111,
              "#46039f"
             ],
             [
              0.2222222222222222,
              "#7201a8"
             ],
             [
              0.3333333333333333,
              "#9c179e"
             ],
             [
              0.4444444444444444,
              "#bd3786"
             ],
             [
              0.5555555555555556,
              "#d8576b"
             ],
             [
              0.6666666666666666,
              "#ed7953"
             ],
             [
              0.7777777777777778,
              "#fb9f3a"
             ],
             [
              0.8888888888888888,
              "#fdca26"
             ],
             [
              1,
              "#f0f921"
             ]
            ],
            "type": "heatmap"
           }
          ],
          "heatmapgl": [
           {
            "colorbar": {
             "outlinewidth": 0,
             "ticks": ""
            },
            "colorscale": [
             [
              0,
              "#0d0887"
             ],
             [
              0.1111111111111111,
              "#46039f"
             ],
             [
              0.2222222222222222,
              "#7201a8"
             ],
             [
              0.3333333333333333,
              "#9c179e"
             ],
             [
              0.4444444444444444,
              "#bd3786"
             ],
             [
              0.5555555555555556,
              "#d8576b"
             ],
             [
              0.6666666666666666,
              "#ed7953"
             ],
             [
              0.7777777777777778,
              "#fb9f3a"
             ],
             [
              0.8888888888888888,
              "#fdca26"
             ],
             [
              1,
              "#f0f921"
             ]
            ],
            "type": "heatmapgl"
           }
          ],
          "histogram": [
           {
            "marker": {
             "pattern": {
              "fillmode": "overlay",
              "size": 10,
              "solidity": 0.2
             }
            },
            "type": "histogram"
           }
          ],
          "histogram2d": [
           {
            "colorbar": {
             "outlinewidth": 0,
             "ticks": ""
            },
            "colorscale": [
             [
              0,
              "#0d0887"
             ],
             [
              0.1111111111111111,
              "#46039f"
             ],
             [
              0.2222222222222222,
              "#7201a8"
             ],
             [
              0.3333333333333333,
              "#9c179e"
             ],
             [
              0.4444444444444444,
              "#bd3786"
             ],
             [
              0.5555555555555556,
              "#d8576b"
             ],
             [
              0.6666666666666666,
              "#ed7953"
             ],
             [
              0.7777777777777778,
              "#fb9f3a"
             ],
             [
              0.8888888888888888,
              "#fdca26"
             ],
             [
              1,
              "#f0f921"
             ]
            ],
            "type": "histogram2d"
           }
          ],
          "histogram2dcontour": [
           {
            "colorbar": {
             "outlinewidth": 0,
             "ticks": ""
            },
            "colorscale": [
             [
              0,
              "#0d0887"
             ],
             [
              0.1111111111111111,
              "#46039f"
             ],
             [
              0.2222222222222222,
              "#7201a8"
             ],
             [
              0.3333333333333333,
              "#9c179e"
             ],
             [
              0.4444444444444444,
              "#bd3786"
             ],
             [
              0.5555555555555556,
              "#d8576b"
             ],
             [
              0.6666666666666666,
              "#ed7953"
             ],
             [
              0.7777777777777778,
              "#fb9f3a"
             ],
             [
              0.8888888888888888,
              "#fdca26"
             ],
             [
              1,
              "#f0f921"
             ]
            ],
            "type": "histogram2dcontour"
           }
          ],
          "mesh3d": [
           {
            "colorbar": {
             "outlinewidth": 0,
             "ticks": ""
            },
            "type": "mesh3d"
           }
          ],
          "parcoords": [
           {
            "line": {
             "colorbar": {
              "outlinewidth": 0,
              "ticks": ""
             }
            },
            "type": "parcoords"
           }
          ],
          "pie": [
           {
            "automargin": true,
            "type": "pie"
           }
          ],
          "scatter": [
           {
            "fillpattern": {
             "fillmode": "overlay",
             "size": 10,
             "solidity": 0.2
            },
            "type": "scatter"
           }
          ],
          "scatter3d": [
           {
            "line": {
             "colorbar": {
              "outlinewidth": 0,
              "ticks": ""
             }
            },
            "marker": {
             "colorbar": {
              "outlinewidth": 0,
              "ticks": ""
             }
            },
            "type": "scatter3d"
           }
          ],
          "scattercarpet": [
           {
            "marker": {
             "colorbar": {
              "outlinewidth": 0,
              "ticks": ""
             }
            },
            "type": "scattercarpet"
           }
          ],
          "scattergeo": [
           {
            "marker": {
             "colorbar": {
              "outlinewidth": 0,
              "ticks": ""
             }
            },
            "type": "scattergeo"
           }
          ],
          "scattergl": [
           {
            "marker": {
             "colorbar": {
              "outlinewidth": 0,
              "ticks": ""
             }
            },
            "type": "scattergl"
           }
          ],
          "scattermapbox": [
           {
            "marker": {
             "colorbar": {
              "outlinewidth": 0,
              "ticks": ""
             }
            },
            "type": "scattermapbox"
           }
          ],
          "scatterpolar": [
           {
            "marker": {
             "colorbar": {
              "outlinewidth": 0,
              "ticks": ""
             }
            },
            "type": "scatterpolar"
           }
          ],
          "scatterpolargl": [
           {
            "marker": {
             "colorbar": {
              "outlinewidth": 0,
              "ticks": ""
             }
            },
            "type": "scatterpolargl"
           }
          ],
          "scatterternary": [
           {
            "marker": {
             "colorbar": {
              "outlinewidth": 0,
              "ticks": ""
             }
            },
            "type": "scatterternary"
           }
          ],
          "surface": [
           {
            "colorbar": {
             "outlinewidth": 0,
             "ticks": ""
            },
            "colorscale": [
             [
              0,
              "#0d0887"
             ],
             [
              0.1111111111111111,
              "#46039f"
             ],
             [
              0.2222222222222222,
              "#7201a8"
             ],
             [
              0.3333333333333333,
              "#9c179e"
             ],
             [
              0.4444444444444444,
              "#bd3786"
             ],
             [
              0.5555555555555556,
              "#d8576b"
             ],
             [
              0.6666666666666666,
              "#ed7953"
             ],
             [
              0.7777777777777778,
              "#fb9f3a"
             ],
             [
              0.8888888888888888,
              "#fdca26"
             ],
             [
              1,
              "#f0f921"
             ]
            ],
            "type": "surface"
           }
          ],
          "table": [
           {
            "cells": {
             "fill": {
              "color": "#EBF0F8"
             },
             "line": {
              "color": "white"
             }
            },
            "header": {
             "fill": {
              "color": "#C8D4E3"
             },
             "line": {
              "color": "white"
             }
            },
            "type": "table"
           }
          ]
         },
         "layout": {
          "annotationdefaults": {
           "arrowcolor": "#2a3f5f",
           "arrowhead": 0,
           "arrowwidth": 1
          },
          "autotypenumbers": "strict",
          "coloraxis": {
           "colorbar": {
            "outlinewidth": 0,
            "ticks": ""
           }
          },
          "colorscale": {
           "diverging": [
            [
             0,
             "#8e0152"
            ],
            [
             0.1,
             "#c51b7d"
            ],
            [
             0.2,
             "#de77ae"
            ],
            [
             0.3,
             "#f1b6da"
            ],
            [
             0.4,
             "#fde0ef"
            ],
            [
             0.5,
             "#f7f7f7"
            ],
            [
             0.6,
             "#e6f5d0"
            ],
            [
             0.7,
             "#b8e186"
            ],
            [
             0.8,
             "#7fbc41"
            ],
            [
             0.9,
             "#4d9221"
            ],
            [
             1,
             "#276419"
            ]
           ],
           "sequential": [
            [
             0,
             "#0d0887"
            ],
            [
             0.1111111111111111,
             "#46039f"
            ],
            [
             0.2222222222222222,
             "#7201a8"
            ],
            [
             0.3333333333333333,
             "#9c179e"
            ],
            [
             0.4444444444444444,
             "#bd3786"
            ],
            [
             0.5555555555555556,
             "#d8576b"
            ],
            [
             0.6666666666666666,
             "#ed7953"
            ],
            [
             0.7777777777777778,
             "#fb9f3a"
            ],
            [
             0.8888888888888888,
             "#fdca26"
            ],
            [
             1,
             "#f0f921"
            ]
           ],
           "sequentialminus": [
            [
             0,
             "#0d0887"
            ],
            [
             0.1111111111111111,
             "#46039f"
            ],
            [
             0.2222222222222222,
             "#7201a8"
            ],
            [
             0.3333333333333333,
             "#9c179e"
            ],
            [
             0.4444444444444444,
             "#bd3786"
            ],
            [
             0.5555555555555556,
             "#d8576b"
            ],
            [
             0.6666666666666666,
             "#ed7953"
            ],
            [
             0.7777777777777778,
             "#fb9f3a"
            ],
            [
             0.8888888888888888,
             "#fdca26"
            ],
            [
             1,
             "#f0f921"
            ]
           ]
          },
          "colorway": [
           "#636efa",
           "#EF553B",
           "#00cc96",
           "#ab63fa",
           "#FFA15A",
           "#19d3f3",
           "#FF6692",
           "#B6E880",
           "#FF97FF",
           "#FECB52"
          ],
          "font": {
           "color": "#2a3f5f"
          },
          "geo": {
           "bgcolor": "white",
           "lakecolor": "white",
           "landcolor": "#E5ECF6",
           "showlakes": true,
           "showland": true,
           "subunitcolor": "white"
          },
          "hoverlabel": {
           "align": "left"
          },
          "hovermode": "closest",
          "mapbox": {
           "style": "light"
          },
          "paper_bgcolor": "white",
          "plot_bgcolor": "#E5ECF6",
          "polar": {
           "angularaxis": {
            "gridcolor": "white",
            "linecolor": "white",
            "ticks": ""
           },
           "bgcolor": "#E5ECF6",
           "radialaxis": {
            "gridcolor": "white",
            "linecolor": "white",
            "ticks": ""
           }
          },
          "scene": {
           "xaxis": {
            "backgroundcolor": "#E5ECF6",
            "gridcolor": "white",
            "gridwidth": 2,
            "linecolor": "white",
            "showbackground": true,
            "ticks": "",
            "zerolinecolor": "white"
           },
           "yaxis": {
            "backgroundcolor": "#E5ECF6",
            "gridcolor": "white",
            "gridwidth": 2,
            "linecolor": "white",
            "showbackground": true,
            "ticks": "",
            "zerolinecolor": "white"
           },
           "zaxis": {
            "backgroundcolor": "#E5ECF6",
            "gridcolor": "white",
            "gridwidth": 2,
            "linecolor": "white",
            "showbackground": true,
            "ticks": "",
            "zerolinecolor": "white"
           }
          },
          "shapedefaults": {
           "line": {
            "color": "#2a3f5f"
           }
          },
          "ternary": {
           "aaxis": {
            "gridcolor": "white",
            "linecolor": "white",
            "ticks": ""
           },
           "baxis": {
            "gridcolor": "white",
            "linecolor": "white",
            "ticks": ""
           },
           "bgcolor": "#E5ECF6",
           "caxis": {
            "gridcolor": "white",
            "linecolor": "white",
            "ticks": ""
           }
          },
          "title": {
           "x": 0.05
          },
          "xaxis": {
           "automargin": true,
           "gridcolor": "white",
           "linecolor": "white",
           "ticks": "",
           "title": {
            "standoff": 15
           },
           "zerolinecolor": "white",
           "zerolinewidth": 2
          },
          "yaxis": {
           "automargin": true,
           "gridcolor": "white",
           "linecolor": "white",
           "ticks": "",
           "title": {
            "standoff": 15
           },
           "zerolinecolor": "white",
           "zerolinewidth": 2
          }
         }
        },
        "title": {
         "text": "Total Concrete Cost by Project (Total: 58,545,745)"
        },
        "width": 800,
        "xaxis": {
         "anchor": "y",
         "domain": [
          0,
          1
         ],
         "title": {
          "text": "Project"
         }
        },
        "yaxis": {
         "anchor": "x",
         "domain": [
          0,
          1
         ],
         "title": {
          "text": "Concrete Cost"
         }
        }
       }
      }
     },
     "metadata": {},
     "output_type": "display_data"
    }
   ],
   "source": [
    "import plotly.express as px\n",
    "\n",
    "# 1. SQL query to get total concrete cost for each project (from line_desc)\n",
    "query_concrete_cost = \"\"\"\n",
    "SELECT project_no, SUM(amount) AS ConcreteCost\n",
    "FROM [omar.rme1].[dbo].[cost_dist]\n",
    "WHERE project_no IN ('170')\n",
    "AND line_desc LIKE N'%خرسانة%'\n",
    "GROUP BY project_no;\n",
    "\"\"\"\n",
    "\n",
    "# 2. Execute the query \n",
    "with engine.connect() as conn:\n",
    "    results_concrete_cost = execute_query(conn, query_concrete_cost)\n",
    "\n",
    "# 3. Create DataFrame for concrete costs\n",
    "df_concrete_cost = pd.DataFrame(results_concrete_cost, columns=['project_no', 'ConcreteCost'])\n",
    "\n",
    "# 4. Merge with project names DataFrame\n",
    "df_concrete_merged = pd.merge(df_concrete_cost, df_names, on='project_no', how='left')\n",
    "\n",
    "# 5. Fill in missing values with 0 (in case some projects have no concrete cost)\n",
    "df_concrete_merged.fillna(0, inplace=True)\n",
    "\n",
    "# 6. Combine project_no and project_name for labels\n",
    "df_concrete_merged['Project'] = df_concrete_merged['project_no'] + ' - ' + df_concrete_merged['project_name']\n",
    "\n",
    "# 7. Calculate total concrete cost\n",
    "total_concrete_cost = df_concrete_merged['ConcreteCost'].sum()\n",
    "\n",
    "# 8. Create bar chart\n",
    "fig = px.bar(\n",
    "    df_concrete_merged, \n",
    "    x='Project', \n",
    "    y='ConcreteCost',\n",
    "    title=f'Total Concrete Cost by Project (Total: {int(total_concrete_cost):,})',\n",
    "    labels={'project_name': 'Project', 'ConcreteCost': 'Concrete Cost'}\n",
    ")\n",
    "\n",
    "# Add annotations (text labels) to each bar with comma formatting and no decimals\n",
    "for i, row in df_concrete_merged.iterrows():\n",
    "    fig.add_annotation(\n",
    "        x=row['Project'],\n",
    "        y=row['ConcreteCost'],\n",
    "        text=f\"{int(row['ConcreteCost']):,}\",\n",
    "        showarrow=False,\n",
    "        yshift=10, \n",
    "    )\n",
    "\n",
    "# Customize layout\n",
    "fig.update_layout(width=800)\n",
    "\n",
    "# 9. Display or save the chart\n",
    "fig.show()\n",
    "fig.write_html('concrete_cost_by_project.html')"
   ]
  },
  {
   "cell_type": "code",
   "execution_count": 10,
   "metadata": {},
   "outputs": [
    {
     "name": "stdout",
     "output_type": "stream",
     "text": [
      "Columns returned by the query: RMKeyView(['transaction_source', 'TotalAmount'])\n",
      "Shape of results: 3 rows, 2 columns\n",
      "First few rows of results: [('Inventory Misc', 335627823.0799999), ('WORK_CONFRIMATION', 274577804.88), ('Oracle Payables Supplier Invoices', 167825945.6)]\n",
      "Columns returned by the query: RMKeyView(['task_name', 'TotalAmount'])\n",
      "Shape of results: 71 rows, 2 columns\n",
      "First few rows of results: [('Other Equipment', 174329880.20000005), ('Steel Reinforcement', 108022791.32), ('Hirings payrool', 61459170.48999999), ('Aluminum Doors, Terr', 61268978.62999999), ('Electrical Works (G)', 59886874.780000016)]\n",
      "Columns returned by the query: RMKeyView(['top_task_name', 'TotalAmount'])\n",
      "Shape of results: 12 rows, 2 columns\n",
      "First few rows of results: [('Indirect Cost', 343232795.74), ('CONCRETE WORK', 122790579.83000001), ('SITE WORK', 83379875.29999998), ('DOORS & WINDOWS WOR', 70248971.43000002), ('ELECTRICAL WORKS', 59950189.78000001)]\n",
      "Columns returned by the query: RMKeyView(['expenditure_category', 'TotalAmount'])\n",
      "Shape of results: 14 rows, 2 columns\n",
      "First few rows of results: [('Materials', 340818457.66000015), ('Subcontracts', 299628668.02), ('Indirect', 78095187.11000001), ('Direct Manpower', 37626984.03), ('Depreciation', 12591648.77)]\n",
      "Columns returned by the query: RMKeyView(['expend_org', 'TotalAmount'])\n",
      "Shape of results: 2 rows, 2 columns\n",
      "First few rows of results: [('Alrowad Construction_OU', 437884605.2), ('Mivida BP#189-0170', 340146968.3600002)]\n",
      "Columns returned by the query: RMKeyView(['line_desc', 'TotalAmount'])\n",
      "Shape of results: 8302 rows, 2 columns\n",
      "First few rows of results: [('حديد تسليح قطر 12 مم', 38280819.64), ('خرسانة مسلحة جهد 350 كجم/ سم2 محتوى أسمنت عادى 400 كجم /م3', 31628496.3), ('+1 Mivida BP#189 78842/1', 29522858.64), ('حديد تسليح قطر 10مم', 26546357.919999998), ('حديد تسليح قطر 18 مم', 23869220.980000008)]\n",
      "Columns returned by the query: RMKeyView(['owner', 'TotalAmount'])\n",
      "Shape of results: 16 rows, 2 columns\n",
      "First few rows of results: [('Finacial\\xa0 ', 437979054.6399998), ('Purchasing\\xa0 ', 166077004.55999994), ('MEP\\xa0 ', 103372410.25999998), ('Procurement\\xa0 ', 71359984.12), ('Safety\\xa0 ', 1380849.87)]\n"
     ]
    },
    {
     "data": {
      "application/vnd.plotly.v1+json": {
       "config": {
        "plotlyServerURL": "https://plot.ly"
       },
       "data": [
        {
         "alignmentgroup": "True",
         "hovertemplate": "Transaction Source=%{x}<br>Total Amount=%{y}<extra></extra>",
         "legendgroup": "",
         "marker": {
          "color": "#636efa",
          "pattern": {
           "shape": ""
          }
         },
         "name": "",
         "offsetgroup": "",
         "orientation": "v",
         "showlegend": false,
         "textposition": "auto",
         "type": "bar",
         "x": [
          "Inventory Misc",
          "WORK_CONFRIMATION",
          "Oracle Payables Supplier Invoices"
         ],
         "xaxis": "x",
         "y": [
          335627823.0799999,
          274577804.88,
          167825945.6
         ],
         "yaxis": "y"
        },
        {
         "alignmentgroup": "True",
         "hovertemplate": "Task Name=%{x}<br>Total Amount=%{y}<extra></extra>",
         "legendgroup": "",
         "marker": {
          "color": "#636efa",
          "pattern": {
           "shape": ""
          }
         },
         "name": "",
         "offsetgroup": "",
         "orientation": "v",
         "showlegend": false,
         "textposition": "auto",
         "type": "bar",
         "x": [
          "Other Equipment",
          "Steel Reinforcement",
          "Hirings payrool",
          "Aluminum Doors, Terr",
          "Electrical Works (G)",
          "Cement",
          "Mobilization",
          "HVAC Works(G)",
          "Marble & Granite(G)",
          "Concrete Works"
         ],
         "xaxis": "x6",
         "y": [
          174329880.20000005,
          108022791.32,
          61459170.48999999,
          61268978.62999999,
          59886874.780000016,
          58689805.82999999,
          46450722,
          19623864.650000002,
          19016055.150000006,
          14767788.510000002
         ],
         "yaxis": "y6"
        },
        {
         "alignmentgroup": "True",
         "hovertemplate": "Top Task Name=%{x}<br>Total Amount=%{y}<extra></extra>",
         "legendgroup": "",
         "marker": {
          "color": "#636efa",
          "pattern": {
           "shape": ""
          }
         },
         "name": "",
         "offsetgroup": "",
         "orientation": "v",
         "showlegend": false,
         "textposition": "auto",
         "type": "bar",
         "x": [
          "Indirect Cost",
          "CONCRETE WORK",
          "SITE WORK",
          "DOORS & WINDOWS WOR",
          "ELECTRICAL WORKS",
          "FINISHES WORK",
          "MECHANICAL WORKS",
          "SPECIALITIES",
          "THERMAL & MOISTURE P",
          "MASONRY WORK"
         ],
         "xaxis": "x11",
         "y": [
          343232795.74,
          122790579.83000001,
          83379875.29999998,
          70248971.43000002,
          59950189.78000001,
          37350937.230000004,
          30588437.899999995,
          15906325.060000002,
          6990892.930000001,
          5266341.860000001
         ],
         "yaxis": "y11"
        },
        {
         "alignmentgroup": "True",
         "hovertemplate": "Expenditure Category=%{x}<br>Total Amount=%{y}<extra></extra>",
         "legendgroup": "",
         "marker": {
          "color": "#636efa",
          "pattern": {
           "shape": ""
          }
         },
         "name": "",
         "offsetgroup": "",
         "orientation": "v",
         "showlegend": false,
         "textposition": "auto",
         "type": "bar",
         "x": [
          "Materials",
          "Subcontracts",
          "Indirect",
          "Direct Manpower",
          "Depreciation",
          "Finance cost",
          "Equipment",
          "Taxes & Insurance",
          "Insurance",
          "SPC Category"
         ],
         "xaxis": "x16",
         "y": [
          340818457.66000015,
          299628668.02,
          78095187.11000001,
          37626984.03,
          12591648.77,
          10019488.849999998,
          2883763.33,
          1803181.4100000001,
          1066797.1,
          116121.89000000001
         ],
         "yaxis": "y16"
        },
        {
         "alignmentgroup": "True",
         "hovertemplate": "Expend Org=%{x}<br>Total Amount=%{y}<extra></extra>",
         "legendgroup": "",
         "marker": {
          "color": "#636efa",
          "pattern": {
           "shape": ""
          }
         },
         "name": "",
         "offsetgroup": "",
         "orientation": "v",
         "showlegend": false,
         "textposition": "auto",
         "type": "bar",
         "x": [
          "Alrowad Construction_OU",
          "Mivida BP#189-0170"
         ],
         "xaxis": "x21",
         "y": [
          437884605.2,
          340146968.3600002
         ],
         "yaxis": "y21"
        },
        {
         "alignmentgroup": "True",
         "hovertemplate": "Line Desc=%{x}<br>Total Amount=%{y}<extra></extra>",
         "legendgroup": "",
         "marker": {
          "color": "#636efa",
          "pattern": {
           "shape": ""
          }
         },
         "name": "",
         "offsetgroup": "",
         "orientation": "v",
         "showlegend": false,
         "textposition": "auto",
         "type": "bar",
         "x": [
          "حديد تسليح قطر 12 مم",
          "خرسانة مسلحة جهد 350 كجم/ سم2 محتوى أسمنت عادى 400 كجم /م3",
          "+1 Mivida BP#189 78842/1",
          "حديد تسليح قطر 10مم",
          "حديد تسليح قطر 18 مم",
          "MTU Genset Model: 16V2000DS1100 Standby Power Output @50C: 1000 KVA",
          "حديد تسليح قطر 16 مم",
          "حديد تسليح قطر 22 مم",
          "تخفيض من حساب مصاريف تأمينات مستحقه الى حساب تكلفة المشاريع",
          "Porcelain rak off white size (60cm * 120 cm) code (A12GZSUR-OWH.M0R)"
         ],
         "xaxis": "x26",
         "y": [
          38280819.64,
          31628496.3,
          29522858.64,
          26546357.919999998,
          23869220.980000008,
          14352090.01,
          13089975.409999996,
          10936783.889999999,
          10063383.000000002,
          8784674.45
         ],
         "yaxis": "y26"
        },
        {
         "alignmentgroup": "True",
         "hovertemplate": "Owner=%{x}<br>Total Amount=%{y}<extra></extra>",
         "legendgroup": "",
         "marker": {
          "color": "#636efa",
          "pattern": {
           "shape": ""
          }
         },
         "name": "",
         "offsetgroup": "",
         "orientation": "v",
         "showlegend": false,
         "textposition": "auto",
         "type": "bar",
         "x": [
          "Finacial  ",
          "Purchasing  ",
          "MEP  ",
          "Procurement  ",
          "Safety  ",
          "Scaffolding  ",
          "Equipment  ",
          "Administration  ",
          "Operation M  ",
          "IT  "
         ],
         "xaxis": "x31",
         "y": [
          437979054.6399998,
          166077004.55999994,
          103372410.25999998,
          71359984.12,
          1380849.87,
          1325645.49,
          1085630.2300000002,
          454795.56000000006,
          381583.3700000004,
          125727
         ],
         "yaxis": "y31"
        }
       ],
       "layout": {
        "annotations": [
         {
          "font": {
           "size": 16
          },
          "showarrow": false,
          "text": "170 - Mivida BP#189",
          "x": 0.08399999999999999,
          "xanchor": "center",
          "xref": "paper",
          "y": 0.9999999999999999,
          "yanchor": "bottom",
          "yref": "paper"
         },
         {
          "font": {
           "size": 16
          },
          "showarrow": false,
          "text": "170 - Mivida BP#189",
          "x": 0.292,
          "xanchor": "center",
          "xref": "paper",
          "y": 0.9999999999999999,
          "yanchor": "bottom",
          "yref": "paper"
         },
         {
          "font": {
           "size": 16
          },
          "showarrow": false,
          "text": "170 - Mivida BP#189",
          "x": 0.5,
          "xanchor": "center",
          "xref": "paper",
          "y": 0.9999999999999999,
          "yanchor": "bottom",
          "yref": "paper"
         },
         {
          "font": {
           "size": 16
          },
          "showarrow": false,
          "text": "170 - Mivida BP#189",
          "x": 0.708,
          "xanchor": "center",
          "xref": "paper",
          "y": 0.9999999999999999,
          "yanchor": "bottom",
          "yref": "paper"
         },
         {
          "font": {
           "size": 16
          },
          "showarrow": false,
          "text": "170 - Mivida BP#189",
          "x": 0.9159999999999999,
          "xanchor": "center",
          "xref": "paper",
          "y": 0.9999999999999999,
          "yanchor": "bottom",
          "yref": "paper"
         },
         {
          "font": {
           "size": 16
          },
          "showarrow": false,
          "text": "170 - Mivida BP#189",
          "x": 0.08399999999999999,
          "xanchor": "center",
          "xref": "paper",
          "y": 0.8469387755102039,
          "yanchor": "bottom",
          "yref": "paper"
         },
         {
          "font": {
           "size": 16
          },
          "showarrow": false,
          "text": "170 - Mivida BP#189",
          "x": 0.292,
          "xanchor": "center",
          "xref": "paper",
          "y": 0.8469387755102039,
          "yanchor": "bottom",
          "yref": "paper"
         }
        ],
        "height": 3500,
        "showlegend": false,
        "template": {
         "data": {
          "bar": [
           {
            "error_x": {
             "color": "#2a3f5f"
            },
            "error_y": {
             "color": "#2a3f5f"
            },
            "marker": {
             "line": {
              "color": "#E5ECF6",
              "width": 0.5
             },
             "pattern": {
              "fillmode": "overlay",
              "size": 10,
              "solidity": 0.2
             }
            },
            "type": "bar"
           }
          ],
          "barpolar": [
           {
            "marker": {
             "line": {
              "color": "#E5ECF6",
              "width": 0.5
             },
             "pattern": {
              "fillmode": "overlay",
              "size": 10,
              "solidity": 0.2
             }
            },
            "type": "barpolar"
           }
          ],
          "carpet": [
           {
            "aaxis": {
             "endlinecolor": "#2a3f5f",
             "gridcolor": "white",
             "linecolor": "white",
             "minorgridcolor": "white",
             "startlinecolor": "#2a3f5f"
            },
            "baxis": {
             "endlinecolor": "#2a3f5f",
             "gridcolor": "white",
             "linecolor": "white",
             "minorgridcolor": "white",
             "startlinecolor": "#2a3f5f"
            },
            "type": "carpet"
           }
          ],
          "choropleth": [
           {
            "colorbar": {
             "outlinewidth": 0,
             "ticks": ""
            },
            "type": "choropleth"
           }
          ],
          "contour": [
           {
            "colorbar": {
             "outlinewidth": 0,
             "ticks": ""
            },
            "colorscale": [
             [
              0,
              "#0d0887"
             ],
             [
              0.1111111111111111,
              "#46039f"
             ],
             [
              0.2222222222222222,
              "#7201a8"
             ],
             [
              0.3333333333333333,
              "#9c179e"
             ],
             [
              0.4444444444444444,
              "#bd3786"
             ],
             [
              0.5555555555555556,
              "#d8576b"
             ],
             [
              0.6666666666666666,
              "#ed7953"
             ],
             [
              0.7777777777777778,
              "#fb9f3a"
             ],
             [
              0.8888888888888888,
              "#fdca26"
             ],
             [
              1,
              "#f0f921"
             ]
            ],
            "type": "contour"
           }
          ],
          "contourcarpet": [
           {
            "colorbar": {
             "outlinewidth": 0,
             "ticks": ""
            },
            "type": "contourcarpet"
           }
          ],
          "heatmap": [
           {
            "colorbar": {
             "outlinewidth": 0,
             "ticks": ""
            },
            "colorscale": [
             [
              0,
              "#0d0887"
             ],
             [
              0.1111111111111111,
              "#46039f"
             ],
             [
              0.2222222222222222,
              "#7201a8"
             ],
             [
              0.3333333333333333,
              "#9c179e"
             ],
             [
              0.4444444444444444,
              "#bd3786"
             ],
             [
              0.5555555555555556,
              "#d8576b"
             ],
             [
              0.6666666666666666,
              "#ed7953"
             ],
             [
              0.7777777777777778,
              "#fb9f3a"
             ],
             [
              0.8888888888888888,
              "#fdca26"
             ],
             [
              1,
              "#f0f921"
             ]
            ],
            "type": "heatmap"
           }
          ],
          "heatmapgl": [
           {
            "colorbar": {
             "outlinewidth": 0,
             "ticks": ""
            },
            "colorscale": [
             [
              0,
              "#0d0887"
             ],
             [
              0.1111111111111111,
              "#46039f"
             ],
             [
              0.2222222222222222,
              "#7201a8"
             ],
             [
              0.3333333333333333,
              "#9c179e"
             ],
             [
              0.4444444444444444,
              "#bd3786"
             ],
             [
              0.5555555555555556,
              "#d8576b"
             ],
             [
              0.6666666666666666,
              "#ed7953"
             ],
             [
              0.7777777777777778,
              "#fb9f3a"
             ],
             [
              0.8888888888888888,
              "#fdca26"
             ],
             [
              1,
              "#f0f921"
             ]
            ],
            "type": "heatmapgl"
           }
          ],
          "histogram": [
           {
            "marker": {
             "pattern": {
              "fillmode": "overlay",
              "size": 10,
              "solidity": 0.2
             }
            },
            "type": "histogram"
           }
          ],
          "histogram2d": [
           {
            "colorbar": {
             "outlinewidth": 0,
             "ticks": ""
            },
            "colorscale": [
             [
              0,
              "#0d0887"
             ],
             [
              0.1111111111111111,
              "#46039f"
             ],
             [
              0.2222222222222222,
              "#7201a8"
             ],
             [
              0.3333333333333333,
              "#9c179e"
             ],
             [
              0.4444444444444444,
              "#bd3786"
             ],
             [
              0.5555555555555556,
              "#d8576b"
             ],
             [
              0.6666666666666666,
              "#ed7953"
             ],
             [
              0.7777777777777778,
              "#fb9f3a"
             ],
             [
              0.8888888888888888,
              "#fdca26"
             ],
             [
              1,
              "#f0f921"
             ]
            ],
            "type": "histogram2d"
           }
          ],
          "histogram2dcontour": [
           {
            "colorbar": {
             "outlinewidth": 0,
             "ticks": ""
            },
            "colorscale": [
             [
              0,
              "#0d0887"
             ],
             [
              0.1111111111111111,
              "#46039f"
             ],
             [
              0.2222222222222222,
              "#7201a8"
             ],
             [
              0.3333333333333333,
              "#9c179e"
             ],
             [
              0.4444444444444444,
              "#bd3786"
             ],
             [
              0.5555555555555556,
              "#d8576b"
             ],
             [
              0.6666666666666666,
              "#ed7953"
             ],
             [
              0.7777777777777778,
              "#fb9f3a"
             ],
             [
              0.8888888888888888,
              "#fdca26"
             ],
             [
              1,
              "#f0f921"
             ]
            ],
            "type": "histogram2dcontour"
           }
          ],
          "mesh3d": [
           {
            "colorbar": {
             "outlinewidth": 0,
             "ticks": ""
            },
            "type": "mesh3d"
           }
          ],
          "parcoords": [
           {
            "line": {
             "colorbar": {
              "outlinewidth": 0,
              "ticks": ""
             }
            },
            "type": "parcoords"
           }
          ],
          "pie": [
           {
            "automargin": true,
            "type": "pie"
           }
          ],
          "scatter": [
           {
            "fillpattern": {
             "fillmode": "overlay",
             "size": 10,
             "solidity": 0.2
            },
            "type": "scatter"
           }
          ],
          "scatter3d": [
           {
            "line": {
             "colorbar": {
              "outlinewidth": 0,
              "ticks": ""
             }
            },
            "marker": {
             "colorbar": {
              "outlinewidth": 0,
              "ticks": ""
             }
            },
            "type": "scatter3d"
           }
          ],
          "scattercarpet": [
           {
            "marker": {
             "colorbar": {
              "outlinewidth": 0,
              "ticks": ""
             }
            },
            "type": "scattercarpet"
           }
          ],
          "scattergeo": [
           {
            "marker": {
             "colorbar": {
              "outlinewidth": 0,
              "ticks": ""
             }
            },
            "type": "scattergeo"
           }
          ],
          "scattergl": [
           {
            "marker": {
             "colorbar": {
              "outlinewidth": 0,
              "ticks": ""
             }
            },
            "type": "scattergl"
           }
          ],
          "scattermapbox": [
           {
            "marker": {
             "colorbar": {
              "outlinewidth": 0,
              "ticks": ""
             }
            },
            "type": "scattermapbox"
           }
          ],
          "scatterpolar": [
           {
            "marker": {
             "colorbar": {
              "outlinewidth": 0,
              "ticks": ""
             }
            },
            "type": "scatterpolar"
           }
          ],
          "scatterpolargl": [
           {
            "marker": {
             "colorbar": {
              "outlinewidth": 0,
              "ticks": ""
             }
            },
            "type": "scatterpolargl"
           }
          ],
          "scatterternary": [
           {
            "marker": {
             "colorbar": {
              "outlinewidth": 0,
              "ticks": ""
             }
            },
            "type": "scatterternary"
           }
          ],
          "surface": [
           {
            "colorbar": {
             "outlinewidth": 0,
             "ticks": ""
            },
            "colorscale": [
             [
              0,
              "#0d0887"
             ],
             [
              0.1111111111111111,
              "#46039f"
             ],
             [
              0.2222222222222222,
              "#7201a8"
             ],
             [
              0.3333333333333333,
              "#9c179e"
             ],
             [
              0.4444444444444444,
              "#bd3786"
             ],
             [
              0.5555555555555556,
              "#d8576b"
             ],
             [
              0.6666666666666666,
              "#ed7953"
             ],
             [
              0.7777777777777778,
              "#fb9f3a"
             ],
             [
              0.8888888888888888,
              "#fdca26"
             ],
             [
              1,
              "#f0f921"
             ]
            ],
            "type": "surface"
           }
          ],
          "table": [
           {
            "cells": {
             "fill": {
              "color": "#EBF0F8"
             },
             "line": {
              "color": "white"
             }
            },
            "header": {
             "fill": {
              "color": "#C8D4E3"
             },
             "line": {
              "color": "white"
             }
            },
            "type": "table"
           }
          ]
         },
         "layout": {
          "annotationdefaults": {
           "arrowcolor": "#2a3f5f",
           "arrowhead": 0,
           "arrowwidth": 1
          },
          "autotypenumbers": "strict",
          "coloraxis": {
           "colorbar": {
            "outlinewidth": 0,
            "ticks": ""
           }
          },
          "colorscale": {
           "diverging": [
            [
             0,
             "#8e0152"
            ],
            [
             0.1,
             "#c51b7d"
            ],
            [
             0.2,
             "#de77ae"
            ],
            [
             0.3,
             "#f1b6da"
            ],
            [
             0.4,
             "#fde0ef"
            ],
            [
             0.5,
             "#f7f7f7"
            ],
            [
             0.6,
             "#e6f5d0"
            ],
            [
             0.7,
             "#b8e186"
            ],
            [
             0.8,
             "#7fbc41"
            ],
            [
             0.9,
             "#4d9221"
            ],
            [
             1,
             "#276419"
            ]
           ],
           "sequential": [
            [
             0,
             "#0d0887"
            ],
            [
             0.1111111111111111,
             "#46039f"
            ],
            [
             0.2222222222222222,
             "#7201a8"
            ],
            [
             0.3333333333333333,
             "#9c179e"
            ],
            [
             0.4444444444444444,
             "#bd3786"
            ],
            [
             0.5555555555555556,
             "#d8576b"
            ],
            [
             0.6666666666666666,
             "#ed7953"
            ],
            [
             0.7777777777777778,
             "#fb9f3a"
            ],
            [
             0.8888888888888888,
             "#fdca26"
            ],
            [
             1,
             "#f0f921"
            ]
           ],
           "sequentialminus": [
            [
             0,
             "#0d0887"
            ],
            [
             0.1111111111111111,
             "#46039f"
            ],
            [
             0.2222222222222222,
             "#7201a8"
            ],
            [
             0.3333333333333333,
             "#9c179e"
            ],
            [
             0.4444444444444444,
             "#bd3786"
            ],
            [
             0.5555555555555556,
             "#d8576b"
            ],
            [
             0.6666666666666666,
             "#ed7953"
            ],
            [
             0.7777777777777778,
             "#fb9f3a"
            ],
            [
             0.8888888888888888,
             "#fdca26"
            ],
            [
             1,
             "#f0f921"
            ]
           ]
          },
          "colorway": [
           "#636efa",
           "#EF553B",
           "#00cc96",
           "#ab63fa",
           "#FFA15A",
           "#19d3f3",
           "#FF6692",
           "#B6E880",
           "#FF97FF",
           "#FECB52"
          ],
          "font": {
           "color": "#2a3f5f"
          },
          "geo": {
           "bgcolor": "white",
           "lakecolor": "white",
           "landcolor": "#E5ECF6",
           "showlakes": true,
           "showland": true,
           "subunitcolor": "white"
          },
          "hoverlabel": {
           "align": "left"
          },
          "hovermode": "closest",
          "mapbox": {
           "style": "light"
          },
          "paper_bgcolor": "white",
          "plot_bgcolor": "#E5ECF6",
          "polar": {
           "angularaxis": {
            "gridcolor": "white",
            "linecolor": "white",
            "ticks": ""
           },
           "bgcolor": "#E5ECF6",
           "radialaxis": {
            "gridcolor": "white",
            "linecolor": "white",
            "ticks": ""
           }
          },
          "scene": {
           "xaxis": {
            "backgroundcolor": "#E5ECF6",
            "gridcolor": "white",
            "gridwidth": 2,
            "linecolor": "white",
            "showbackground": true,
            "ticks": "",
            "zerolinecolor": "white"
           },
           "yaxis": {
            "backgroundcolor": "#E5ECF6",
            "gridcolor": "white",
            "gridwidth": 2,
            "linecolor": "white",
            "showbackground": true,
            "ticks": "",
            "zerolinecolor": "white"
           },
           "zaxis": {
            "backgroundcolor": "#E5ECF6",
            "gridcolor": "white",
            "gridwidth": 2,
            "linecolor": "white",
            "showbackground": true,
            "ticks": "",
            "zerolinecolor": "white"
           }
          },
          "shapedefaults": {
           "line": {
            "color": "#2a3f5f"
           }
          },
          "ternary": {
           "aaxis": {
            "gridcolor": "white",
            "linecolor": "white",
            "ticks": ""
           },
           "baxis": {
            "gridcolor": "white",
            "linecolor": "white",
            "ticks": ""
           },
           "bgcolor": "#E5ECF6",
           "caxis": {
            "gridcolor": "white",
            "linecolor": "white",
            "ticks": ""
           }
          },
          "title": {
           "x": 0.05
          },
          "xaxis": {
           "automargin": true,
           "gridcolor": "white",
           "linecolor": "white",
           "ticks": "",
           "title": {
            "standoff": 15
           },
           "zerolinecolor": "white",
           "zerolinewidth": 2
          },
          "yaxis": {
           "automargin": true,
           "gridcolor": "white",
           "linecolor": "white",
           "ticks": "",
           "title": {
            "standoff": 15
           },
           "zerolinecolor": "white",
           "zerolinewidth": 2
          }
         }
        },
        "title": {
         "text": "Top 10 Amounts by Column and Project"
        },
        "width": 1500,
        "xaxis": {
         "anchor": "y",
         "domain": [
          0,
          0.16799999999999998
         ],
         "title": {
          "text": "Transaction Source"
         }
        },
        "xaxis10": {
         "anchor": "y10",
         "domain": [
          0.832,
          1
         ]
        },
        "xaxis11": {
         "anchor": "y11",
         "domain": [
          0,
          0.16799999999999998
         ],
         "title": {
          "text": "Top Task Name"
         }
        },
        "xaxis12": {
         "anchor": "y12",
         "domain": [
          0.208,
          0.376
         ]
        },
        "xaxis13": {
         "anchor": "y13",
         "domain": [
          0.416,
          0.584
         ]
        },
        "xaxis14": {
         "anchor": "y14",
         "domain": [
          0.624,
          0.792
         ]
        },
        "xaxis15": {
         "anchor": "y15",
         "domain": [
          0.832,
          1
         ]
        },
        "xaxis16": {
         "anchor": "y16",
         "domain": [
          0,
          0.16799999999999998
         ],
         "title": {
          "text": "Expenditure Category"
         }
        },
        "xaxis17": {
         "anchor": "y17",
         "domain": [
          0.208,
          0.376
         ]
        },
        "xaxis18": {
         "anchor": "y18",
         "domain": [
          0.416,
          0.584
         ]
        },
        "xaxis19": {
         "anchor": "y19",
         "domain": [
          0.624,
          0.792
         ]
        },
        "xaxis2": {
         "anchor": "y2",
         "domain": [
          0.208,
          0.376
         ]
        },
        "xaxis20": {
         "anchor": "y20",
         "domain": [
          0.832,
          1
         ]
        },
        "xaxis21": {
         "anchor": "y21",
         "domain": [
          0,
          0.16799999999999998
         ],
         "title": {
          "text": "Expend Org"
         }
        },
        "xaxis22": {
         "anchor": "y22",
         "domain": [
          0.208,
          0.376
         ]
        },
        "xaxis23": {
         "anchor": "y23",
         "domain": [
          0.416,
          0.584
         ]
        },
        "xaxis24": {
         "anchor": "y24",
         "domain": [
          0.624,
          0.792
         ]
        },
        "xaxis25": {
         "anchor": "y25",
         "domain": [
          0.832,
          1
         ]
        },
        "xaxis26": {
         "anchor": "y26",
         "domain": [
          0,
          0.16799999999999998
         ],
         "title": {
          "text": "Line Desc"
         }
        },
        "xaxis27": {
         "anchor": "y27",
         "domain": [
          0.208,
          0.376
         ]
        },
        "xaxis28": {
         "anchor": "y28",
         "domain": [
          0.416,
          0.584
         ]
        },
        "xaxis29": {
         "anchor": "y29",
         "domain": [
          0.624,
          0.792
         ]
        },
        "xaxis3": {
         "anchor": "y3",
         "domain": [
          0.416,
          0.584
         ]
        },
        "xaxis30": {
         "anchor": "y30",
         "domain": [
          0.832,
          1
         ]
        },
        "xaxis31": {
         "anchor": "y31",
         "domain": [
          0,
          0.16799999999999998
         ],
         "title": {
          "text": "Owner"
         }
        },
        "xaxis32": {
         "anchor": "y32",
         "domain": [
          0.208,
          0.376
         ]
        },
        "xaxis33": {
         "anchor": "y33",
         "domain": [
          0.416,
          0.584
         ]
        },
        "xaxis34": {
         "anchor": "y34",
         "domain": [
          0.624,
          0.792
         ]
        },
        "xaxis35": {
         "anchor": "y35",
         "domain": [
          0.832,
          1
         ]
        },
        "xaxis4": {
         "anchor": "y4",
         "domain": [
          0.624,
          0.792
         ]
        },
        "xaxis5": {
         "anchor": "y5",
         "domain": [
          0.832,
          1
         ]
        },
        "xaxis6": {
         "anchor": "y6",
         "domain": [
          0,
          0.16799999999999998
         ],
         "title": {
          "text": "Task Name"
         }
        },
        "xaxis7": {
         "anchor": "y7",
         "domain": [
          0.208,
          0.376
         ]
        },
        "xaxis8": {
         "anchor": "y8",
         "domain": [
          0.416,
          0.584
         ]
        },
        "xaxis9": {
         "anchor": "y9",
         "domain": [
          0.624,
          0.792
         ]
        },
        "yaxis": {
         "anchor": "x",
         "domain": [
          0.9183673469387754,
          0.9999999999999999
         ],
         "title": {
          "text": "Total Amount"
         }
        },
        "yaxis10": {
         "anchor": "x10",
         "domain": [
          0.7653061224489794,
          0.8469387755102039
         ]
        },
        "yaxis11": {
         "anchor": "x11",
         "domain": [
          0.6122448979591837,
          0.6938775510204082
         ],
         "title": {
          "text": "Total Amount"
         }
        },
        "yaxis12": {
         "anchor": "x12",
         "domain": [
          0.6122448979591837,
          0.6938775510204082
         ]
        },
        "yaxis13": {
         "anchor": "x13",
         "domain": [
          0.6122448979591837,
          0.6938775510204082
         ]
        },
        "yaxis14": {
         "anchor": "x14",
         "domain": [
          0.6122448979591837,
          0.6938775510204082
         ]
        },
        "yaxis15": {
         "anchor": "x15",
         "domain": [
          0.6122448979591837,
          0.6938775510204082
         ]
        },
        "yaxis16": {
         "anchor": "x16",
         "domain": [
          0.4591836734693877,
          0.5408163265306122
         ],
         "title": {
          "text": "Total Amount"
         }
        },
        "yaxis17": {
         "anchor": "x17",
         "domain": [
          0.4591836734693877,
          0.5408163265306122
         ]
        },
        "yaxis18": {
         "anchor": "x18",
         "domain": [
          0.4591836734693877,
          0.5408163265306122
         ]
        },
        "yaxis19": {
         "anchor": "x19",
         "domain": [
          0.4591836734693877,
          0.5408163265306122
         ]
        },
        "yaxis2": {
         "anchor": "x2",
         "domain": [
          0.9183673469387754,
          0.9999999999999999
         ]
        },
        "yaxis20": {
         "anchor": "x20",
         "domain": [
          0.4591836734693877,
          0.5408163265306122
         ]
        },
        "yaxis21": {
         "anchor": "x21",
         "domain": [
          0.30612244897959184,
          0.3877551020408163
         ],
         "title": {
          "text": "Total Amount"
         }
        },
        "yaxis22": {
         "anchor": "x22",
         "domain": [
          0.30612244897959184,
          0.3877551020408163
         ]
        },
        "yaxis23": {
         "anchor": "x23",
         "domain": [
          0.30612244897959184,
          0.3877551020408163
         ]
        },
        "yaxis24": {
         "anchor": "x24",
         "domain": [
          0.30612244897959184,
          0.3877551020408163
         ]
        },
        "yaxis25": {
         "anchor": "x25",
         "domain": [
          0.30612244897959184,
          0.3877551020408163
         ]
        },
        "yaxis26": {
         "anchor": "x26",
         "domain": [
          0.15306122448979592,
          0.2346938775510204
         ],
         "title": {
          "text": "Total Amount"
         }
        },
        "yaxis27": {
         "anchor": "x27",
         "domain": [
          0.15306122448979592,
          0.2346938775510204
         ]
        },
        "yaxis28": {
         "anchor": "x28",
         "domain": [
          0.15306122448979592,
          0.2346938775510204
         ]
        },
        "yaxis29": {
         "anchor": "x29",
         "domain": [
          0.15306122448979592,
          0.2346938775510204
         ]
        },
        "yaxis3": {
         "anchor": "x3",
         "domain": [
          0.9183673469387754,
          0.9999999999999999
         ]
        },
        "yaxis30": {
         "anchor": "x30",
         "domain": [
          0.15306122448979592,
          0.2346938775510204
         ]
        },
        "yaxis31": {
         "anchor": "x31",
         "domain": [
          0,
          0.08163265306122448
         ],
         "title": {
          "text": "Total Amount"
         }
        },
        "yaxis32": {
         "anchor": "x32",
         "domain": [
          0,
          0.08163265306122448
         ]
        },
        "yaxis33": {
         "anchor": "x33",
         "domain": [
          0,
          0.08163265306122448
         ]
        },
        "yaxis34": {
         "anchor": "x34",
         "domain": [
          0,
          0.08163265306122448
         ]
        },
        "yaxis35": {
         "anchor": "x35",
         "domain": [
          0,
          0.08163265306122448
         ]
        },
        "yaxis4": {
         "anchor": "x4",
         "domain": [
          0.9183673469387754,
          0.9999999999999999
         ]
        },
        "yaxis5": {
         "anchor": "x5",
         "domain": [
          0.9183673469387754,
          0.9999999999999999
         ]
        },
        "yaxis6": {
         "anchor": "x6",
         "domain": [
          0.7653061224489794,
          0.8469387755102039
         ],
         "title": {
          "text": "Total Amount"
         }
        },
        "yaxis7": {
         "anchor": "x7",
         "domain": [
          0.7653061224489794,
          0.8469387755102039
         ]
        },
        "yaxis8": {
         "anchor": "x8",
         "domain": [
          0.7653061224489794,
          0.8469387755102039
         ]
        },
        "yaxis9": {
         "anchor": "x9",
         "domain": [
          0.7653061224489794,
          0.8469387755102039
         ]
        }
       }
      }
     },
     "metadata": {},
     "output_type": "display_data"
    }
   ],
   "source": [
    "import plotly.express as px\n",
    "import plotly.subplots as sp\n",
    "\n",
    "# 1. Columns to analyze\n",
    "columns_to_analyze = ['transaction_source', 'task_name', 'top_task_name', 'expenditure_category', 'expend_org', 'line_desc', 'owner']\n",
    "\n",
    "# 2. Create subplots (7 rows for columns, 5 columns for projects)\n",
    "fig = sp.make_subplots(rows=7, cols=5, subplot_titles=[f\"{proj} - {project_names_dict[proj]}\" for proj in df['project_no'].unique()] * len(columns_to_analyze))\n",
    "\n",
    "# 3. Iterate through columns and projects to create bar charts\n",
    "for row_idx, column_name in enumerate(columns_to_analyze):\n",
    "    for col_idx, project_no in enumerate(df['project_no'].unique()):\n",
    "        # SQL query to get top 10 amounts for the current column and project\n",
    "        query_top_amounts = f\"\"\"\n",
    "        SELECT {column_name}, SUM(amount) AS TotalAmount\n",
    "        FROM [omar.rme1].[dbo].[cost_dist]\n",
    "        WHERE project_no = '{project_no}'\n",
    "        GROUP BY {column_name}\n",
    "        ORDER BY TotalAmount DESC\n",
    "        \"\"\"\n",
    "\n",
    "        # Execute the query\n",
    "        with engine.connect() as conn:\n",
    "            results_top_amounts = execute_query(conn, query_top_amounts)\n",
    "\n",
    "        # Create DataFrame for top amounts\n",
    "        df_top_amounts = pd.DataFrame(results_top_amounts, columns=[column_name, 'TotalAmount'])\n",
    "\n",
    "        # Filter to top 10\n",
    "        df_top_amounts = df_top_amounts.nlargest(10, 'TotalAmount')\n",
    "\n",
    "        # Create the bar chart and add it to the subplot\n",
    "        fig.add_trace(\n",
    "            px.bar(\n",
    "                df_top_amounts, \n",
    "                x=column_name,\n",
    "                y='TotalAmount',\n",
    "                labels={column_name: column_name.replace('_', ' ').title(), 'TotalAmount': 'Total Amount'}\n",
    "            ).data[0],\n",
    "            row=row_idx + 1, col=col_idx + 1\n",
    "        )\n",
    "\n",
    "        # Update layout for the subplot\n",
    "        fig.update_xaxes(title_text=column_name.replace('_', ' ').title(), row=row_idx + 1, col=col_idx + 1)\n",
    "        fig.update_yaxes(title_text='Total Amount', row=row_idx + 1, col=col_idx + 1)\n",
    "\n",
    "# 4. Adjust the overall layout\n",
    "fig.update_layout(\n",
    "    height=3500,  # Adjust height as needed to accommodate all subplots\n",
    "    width=1500,   # Adjust width as needed\n",
    "    showlegend=False,\n",
    "    title_text=\"Top 10 Amounts by Column and Project\"\n",
    ")\n",
    "\n",
    "# 5. Display chart\n",
    "fig.show()\n",
    "fig.write_html('data_analysis_for_each.html')"
   ]
  },
  {
   "cell_type": "code",
   "execution_count": 11,
   "metadata": {},
   "outputs": [
    {
     "name": "stdout",
     "output_type": "stream",
     "text": [
      "Columns returned by the query: RMKeyView(['transaction_source', 'TotalAmount'])\n",
      "Shape of results: 3 rows, 2 columns\n",
      "First few rows of results: [('Inventory Misc', 335627823.0800003), ('WORK_CONFRIMATION', 274577804.88000005), ('Oracle Payables Supplier Invoices', 167825945.5999999)]\n",
      "Generated chart for transaction_source\n",
      "Columns returned by the query: RMKeyView(['task_name', 'TotalAmount'])\n",
      "Shape of results: 71 rows, 2 columns\n",
      "First few rows of results: [('Other Equipment', 174329880.20000002), ('Steel Reinforcement', 108022791.32), ('Hirings payrool', 61459170.49000001), ('Aluminum Doors, Terr', 61268978.629999995), ('Electrical Works (G)', 59886874.78)]\n",
      "Generated chart for task_name\n",
      "Columns returned by the query: RMKeyView(['top_task_name', 'TotalAmount'])\n",
      "Shape of results: 12 rows, 2 columns\n",
      "First few rows of results: [('Indirect Cost', 343232795.7399999), ('CONCRETE WORK', 122790579.83), ('SITE WORK', 83379875.30000001), ('DOORS & WINDOWS WOR', 70248971.43), ('ELECTRICAL WORKS', 59950189.78000001)]\n",
      "Generated chart for top_task_name\n",
      "Columns returned by the query: RMKeyView(['expenditure_category', 'TotalAmount'])\n",
      "Shape of results: 14 rows, 2 columns\n",
      "First few rows of results: [('Materials', 340818457.66000015), ('Subcontracts', 299628668.02), ('Indirect', 78095187.10999998), ('Direct Manpower', 37626984.029999994), ('Depreciation', 12591648.770000001)]\n",
      "Generated chart for expenditure_category\n",
      "Columns returned by the query: RMKeyView(['expend_org', 'TotalAmount'])\n",
      "Shape of results: 2 rows, 2 columns\n",
      "First few rows of results: [('Alrowad Construction_OU', 437884605.2), ('Mivida BP#189-0170', 340146968.3599999)]\n",
      "Generated chart for expend_org\n",
      "Columns returned by the query: RMKeyView(['line_desc', 'TotalAmount'])\n",
      "Shape of results: 8302 rows, 2 columns\n",
      "First few rows of results: [('حديد تسليح قطر 12 مم', 38280819.64), ('خرسانة مسلحة جهد 350 كجم/ سم2 محتوى أسمنت عادى 400 كجم /م3', 31628496.3), ('+1 Mivida BP#189 78842/1', 29522858.64), ('حديد تسليح قطر 10مم', 26546357.92), ('حديد تسليح قطر 18 مم', 23869220.979999997)]\n",
      "Generated chart for line_desc\n",
      "Columns returned by the query: RMKeyView(['owner', 'TotalAmount'])\n",
      "Shape of results: 16 rows, 2 columns\n",
      "First few rows of results: [('Finacial\\xa0 ', 437979054.64), ('Purchasing\\xa0 ', 166077004.56000015), ('MEP\\xa0 ', 103372410.25999999), ('Procurement\\xa0 ', 71359984.11999999), ('Safety\\xa0 ', 1380849.8699999999)]\n",
      "Generated chart for owner\n"
     ]
    }
   ],
   "source": [
    "import plotly.express as px\n",
    "import plotly.subplots as sp\n",
    "\n",
    "# 1. Columns to analyze\n",
    "columns_to_analyze = ['transaction_source', 'task_name', 'top_task_name', 'expenditure_category', 'expend_org', 'line_desc', 'owner']\n",
    "\n",
    "# 2. Iterate through columns to create separate figures\n",
    "for column_name in columns_to_analyze:\n",
    "    # Create subplots (1 row, 5 columns for projects)\n",
    "    fig = sp.make_subplots(rows=1, cols=5, subplot_titles=[f\"{proj} - {project_names_dict[proj]}\" for proj in df['project_no'].unique()])\n",
    "\n",
    "    # Iterate through projects to create bar charts\n",
    "    for col_idx, project_no in enumerate(df['project_no'].unique()):\n",
    "        # SQL query to get top 10 amounts for the current column and project\n",
    "        query_top_amounts = f\"\"\"\n",
    "        SELECT {column_name}, SUM(amount) AS TotalAmount\n",
    "        FROM [omar.rme1].[dbo].[cost_dist]\n",
    "        WHERE project_no = '{project_no}'\n",
    "        GROUP BY {column_name}\n",
    "        ORDER BY TotalAmount DESC\n",
    "        \"\"\"\n",
    "\n",
    "        # Execute the query\n",
    "        with engine.connect() as conn:\n",
    "            results_top_amounts = execute_query(conn, query_top_amounts)\n",
    "\n",
    "        # Create DataFrame for top amounts\n",
    "        df_top_amounts = pd.DataFrame(results_top_amounts, columns=[column_name, 'TotalAmount'])\n",
    "\n",
    "        # Filter to top 10\n",
    "        df_top_amounts = df_top_amounts.nlargest(10, 'TotalAmount')\n",
    "\n",
    "        # Create the bar chart and add it to the subplot\n",
    "        fig.add_trace(\n",
    "            px.bar(\n",
    "                df_top_amounts, \n",
    "                x=column_name,\n",
    "                y='TotalAmount',\n",
    "                title=f'Project {project_no} - {project_names_dict[project_no]}',  # Include project number and name in the title\n",
    "                labels={column_name: column_name.replace('_', ' ').title(), 'TotalAmount': 'Total Amount'}\n",
    "            ).data[0],\n",
    "            row=1, col=col_idx + 1\n",
    "        )\n",
    "\n",
    "        # Update layout for the subplot\n",
    "        fig.update_xaxes(title_text=column_name.replace('_', ' ').title(), row=1, col=col_idx + 1)\n",
    "        fig.update_yaxes(title_text='Total Amount', row=1, col=col_idx + 1)\n",
    "\n",
    "    # Adjust the overall layout\n",
    "    fig.update_layout(\n",
    "        height=600, \n",
    "        width=1500, \n",
    "        showlegend=False,\n",
    "        title_text=f\"Top 10 {column_name.replace('_', ' ').title()} Amounts by Project\"\n",
    "    )\n",
    "\n",
    "    # Save the chart as an HTML file\n",
    "    fig.write_html(f'top_10_{column_name}_by_project.html')\n",
    "\n",
    "    print(f\"Generated chart for {column_name}\")"
   ]
  },
  {
   "cell_type": "code",
   "execution_count": 12,
   "metadata": {},
   "outputs": [
    {
     "name": "stdout",
     "output_type": "stream",
     "text": [
      "Columns returned by the query: RMKeyView(['transaction_source', 'TotalAmount'])\n",
      "Shape of results: 3 rows, 2 columns\n",
      "First few rows of results: [('Inventory Misc', 335627823.0800001), ('WORK_CONFRIMATION', 274577804.88000005), ('Oracle Payables Supplier Invoices', 167825945.60000002)]\n",
      "Generated chart for transaction_source\n",
      "Columns returned by the query: RMKeyView(['task_name', 'TotalAmount'])\n",
      "Shape of results: 71 rows, 2 columns\n",
      "First few rows of results: [('Other Equipment', 174329880.20000002), ('Steel Reinforcement', 108022791.32), ('Hirings payrool', 61459170.49000001), ('Aluminum Doors, Terr', 61268978.629999995), ('Electrical Works (G)', 59886874.78000001)]\n",
      "Generated chart for task_name\n",
      "Columns returned by the query: RMKeyView(['top_task_name', 'TotalAmount'])\n",
      "Shape of results: 12 rows, 2 columns\n",
      "First few rows of results: [('Indirect Cost', 343232795.74), ('CONCRETE WORK', 122790579.83), ('SITE WORK', 83379875.29999998), ('DOORS & WINDOWS WOR', 70248971.43), ('ELECTRICAL WORKS', 59950189.78)]\n",
      "Generated chart for top_task_name\n",
      "Columns returned by the query: RMKeyView(['expenditure_category', 'TotalAmount'])\n",
      "Shape of results: 14 rows, 2 columns\n",
      "First few rows of results: [('Materials', 340818457.66000026), ('Subcontracts', 299628668.02000004), ('Indirect', 78095187.11), ('Direct Manpower', 37626984.03), ('Depreciation', 12591648.770000003)]\n",
      "Generated chart for expenditure_category\n",
      "Columns returned by the query: RMKeyView(['expend_org', 'TotalAmount'])\n",
      "Shape of results: 2 rows, 2 columns\n",
      "First few rows of results: [('Alrowad Construction_OU', 437884605.2), ('Mivida BP#189-0170', 340146968.3600001)]\n",
      "Generated chart for expend_org\n",
      "Columns returned by the query: RMKeyView(['ItemGroup', 'TotalAmount'])\n",
      "Shape of results: 3542 rows, 2 columns\n",
      "First few rows of results: [('حديد تسليح', 119092450.11999996), ('خرسانة مسل', 55015497.11999999), ('يوميات عما', 46168088.63), ('+1 Mivida ', 34784790.1), ('قيد مرتبات', 34445816.24999999)]\n",
      "Generated chart for line_desc\n",
      "Columns returned by the query: RMKeyView(['owner', 'TotalAmount'])\n",
      "Shape of results: 16 rows, 2 columns\n",
      "First few rows of results: [('Finacial\\xa0 ', 437979054.64), ('Purchasing\\xa0 ', 166077004.56000006), ('MEP\\xa0 ', 103372410.25999996), ('Procurement\\xa0 ', 71359984.11999999), ('Safety\\xa0 ', 1380849.87)]\n",
      "Generated chart for owner\n"
     ]
    }
   ],
   "source": [
    "import plotly.express as px\n",
    "import plotly.subplots as sp\n",
    "\n",
    "# 1. Columns to analyze\n",
    "columns_to_analyze = ['transaction_source', 'task_name', 'top_task_name', 'expenditure_category', 'expend_org', 'line_desc', 'owner']\n",
    "\n",
    "# 2. Iterate through columns to create separate figures\n",
    "for column_name in columns_to_analyze:\n",
    "    # Create subplots (1 row, 5 columns for projects)\n",
    "    fig = sp.make_subplots(rows=1, cols=5, subplot_titles=[f\"{proj} - {project_names_dict[proj]}\" for proj in df['project_no'].unique()])\n",
    "\n",
    "    # Iterate through projects to create bar charts\n",
    "    for col_idx, project_no in enumerate(df['project_no'].unique()):\n",
    "        # SQL query to get top 20 amounts for the current column and project, grouping by first 10 characters\n",
    "        if column_name == 'line_desc':\n",
    "            query_top_amounts = f\"\"\"\n",
    "            SELECT LEFT({column_name}, 10) AS ItemGroup, SUM(amount) AS TotalAmount\n",
    "            FROM [omar.rme1].[dbo].[cost_dist]\n",
    "            WHERE project_no = '{project_no}'\n",
    "            GROUP BY LEFT({column_name}, 10)\n",
    "            ORDER BY TotalAmount DESC\n",
    "            \"\"\"\n",
    "        else:\n",
    "            query_top_amounts = f\"\"\"\n",
    "            SELECT {column_name}, SUM(amount) AS TotalAmount\n",
    "            FROM [omar.rme1].[dbo].[cost_dist]\n",
    "            WHERE project_no = '{project_no}'\n",
    "            GROUP BY {column_name}\n",
    "            ORDER BY TotalAmount DESC\n",
    "            \"\"\"\n",
    "\n",
    "        # Execute the query\n",
    "        with engine.connect() as conn:\n",
    "            results_top_amounts = execute_query(conn, query_top_amounts)\n",
    "\n",
    "        # Create DataFrame for top amounts\n",
    "        if column_name == 'line_desc':\n",
    "            df_top_amounts = pd.DataFrame(results_top_amounts, columns=['ItemGroup', 'TotalAmount'])\n",
    "        else:\n",
    "            df_top_amounts = pd.DataFrame(results_top_amounts, columns=[column_name, 'TotalAmount'])\n",
    "\n",
    "        # Filter to top 20\n",
    "        df_top_amounts = df_top_amounts.nlargest(20, 'TotalAmount')\n",
    "\n",
    "        # Create the bar chart and add it to the subplot\n",
    "        fig.add_trace(\n",
    "            px.bar(\n",
    "                df_top_amounts, \n",
    "                x='ItemGroup' if column_name == 'line_desc' else column_name,  # Use ItemGroup for line_desc\n",
    "                y='TotalAmount',\n",
    "                labels={'ItemGroup' if column_name == 'line_desc' else column_name: column_name.replace('_', ' ').title(), 'TotalAmount': 'Total Amount'}\n",
    "            ).data[0],\n",
    "            row=1, col=col_idx + 1\n",
    "        )\n",
    "\n",
    "        # Update layout for the subplot\n",
    "        fig.update_xaxes(title_text=column_name.replace('_', ' ').title(), row=1, col=col_idx + 1)\n",
    "        fig.update_yaxes(title_text='Total Amount', row=1, col=col_idx + 1)\n",
    "\n",
    "    # Adjust the overall layout\n",
    "    fig.update_layout(\n",
    "        height=600, \n",
    "        width=1500, \n",
    "        showlegend=False,\n",
    "        title_text=f\"Top 20 {column_name.replace('_', ' ').title()} Amounts by Project\"\n",
    "    )\n",
    "\n",
    "    # Save the chart as an HTML file\n",
    "    fig.write_html(f'top_20_{column_name}_by_project.html')\n",
    "\n",
    "    print(f\"Generated chart for {column_name}\")"
   ]
  },
  {
   "cell_type": "code",
   "execution_count": 13,
   "metadata": {},
   "outputs": [
    {
     "name": "stdout",
     "output_type": "stream",
     "text": [
      "Columns returned by the query: RMKeyView(['project_no', 'line_desc', 'TotalAmount'])\n",
      "Shape of results: 8302 rows, 3 columns\n",
      "First few rows of results: [('170', '1 Mivida BP#189 91427/1', -1147.5), ('170', '1 PKG#189 - 67138/1', -14999.990000000002), ('170', '1.1 67138/9', 19922.0), ('170', '1.1 77153/2', 183897.29), ('170', '1.1 77491/3', 283010.0)]\n",
      "Generated chart for line_desc item groups (fuzzy matched)\n"
     ]
    }
   ],
   "source": [
    "import plotly.express as px\n",
    "import plotly.subplots as sp\n",
    "from thefuzz import fuzz  # Import fuzzywuzzy for fuzzy string matching\n",
    "\n",
    "# 1. SQL query to get all line_desc and their amounts for the specified projects\n",
    "query_all_line_desc = \"\"\"\n",
    "SELECT project_no, line_desc, SUM(amount) AS TotalAmount\n",
    "FROM [omar.rme1].[dbo].[cost_dist]\n",
    "WHERE project_no IN ('170')\n",
    "GROUP BY project_no, line_desc\n",
    "\"\"\"\n",
    "\n",
    "# 2. Execute the query\n",
    "with engine.connect() as conn:\n",
    "    results_all_line_desc = execute_query(conn, query_all_line_desc)\n",
    "\n",
    "# 3. Create DataFrame for all line_desc amounts\n",
    "df_all_line_desc = pd.DataFrame(results_all_line_desc, columns=['project_no', 'line_desc', 'TotalAmount'])\n",
    "\n",
    "# 4. Create subplots (1 row, 5 columns for projects)\n",
    "fig = sp.make_subplots(rows=1, cols=5, subplot_titles=[f\"{proj} - {project_names_dict[proj]}\" for proj in df['project_no'].unique()])\n",
    "\n",
    "# 5. Iterate through projects to create bar charts\n",
    "for col_idx, project_no in enumerate(df['project_no'].unique()):\n",
    "    # Filter data for the current project\n",
    "    project_data = df_all_line_desc[df_all_line_desc['project_no'] == project_no].copy()\n",
    "\n",
    "    # Group similar items using fuzzy matching\n",
    "    project_data['ItemGroup'] = project_data['line_desc'].apply(lambda x: \n",
    "        max(df_top_suppliers[df_top_suppliers['project_no'] == project_no]['supplier_name'].dropna().unique(), \n",
    "            key=lambda y: fuzz.token_set_ratio(x, y))[ :10])\n",
    "\n",
    "    # Group by ItemGroup and sum the amounts\n",
    "    project_data_grouped = project_data.groupby('ItemGroup')['TotalAmount'].sum().reset_index()\n",
    "\n",
    "    # Filter to top 20\n",
    "    project_data_grouped = project_data_grouped.nlargest(20, 'TotalAmount')\n",
    "\n",
    "    # Create the bar chart and add it to the subplot\n",
    "    fig.add_trace(\n",
    "        px.bar(\n",
    "            project_data_grouped,\n",
    "            x='ItemGroup',\n",
    "            y='TotalAmount',\n",
    "            labels={'ItemGroup': 'Item Group', 'TotalAmount': 'Total Amount'}\n",
    "        ).data[0],\n",
    "        row=1, col=col_idx + 1\n",
    "    )\n",
    "\n",
    "    # Update layout for the subplot\n",
    "    fig.update_xaxes(title_text='Item Group (Fuzzy Matched)', row=1, col=col_idx + 1)\n",
    "    fig.update_yaxes(title_text='Total Amount', row=1, col=col_idx + 1)\n",
    "\n",
    "# 6. Adjust the overall layout\n",
    "fig.update_layout(\n",
    "    height=600,\n",
    "    width=1500,  # Adjust width as needed\n",
    "    showlegend=False,\n",
    "    title_text=\"Top 20 Item Groups (Fuzzy Matched from line_desc) by Project\"\n",
    ")\n",
    "\n",
    "# 7. Save the chart as an HTML file\n",
    "fig.write_html(f'top_20_line_desc_item_groups_fuzzy_by_project.html')\n",
    "\n",
    "print(f\"Generated chart for line_desc item groups (fuzzy matched)\")"
   ]
  },
  {
   "cell_type": "code",
   "execution_count": 14,
   "metadata": {},
   "outputs": [
    {
     "name": "stdout",
     "output_type": "stream",
     "text": [
      "Columns returned by the query: RMKeyView(['project_no', 'line_desc', 'TotalAmount'])\n",
      "Shape of results: 8302 rows, 3 columns\n",
      "First few rows of results: [('170', '\"صامولة 8مم', 1026.0), ('170', '1.1 67138/10', 11852.0), ('170', '1.1 77153/1', 76071.16), ('170', '1.1 77153/4', 94477.24), ('170', '1.1 77491/1', 289082.5)]\n",
      "Generated chart for line_desc item groups (fuzzy matched)\n"
     ]
    }
   ],
   "source": [
    "import plotly.express as px\n",
    "import plotly.subplots as sp\n",
    "from thefuzz import fuzz  # Import fuzzywuzzy for fuzzy string matching\n",
    "\n",
    "# 1. SQL query to get all line_desc and their amounts for the specified projects\n",
    "query_all_line_desc = \"\"\"\n",
    "SELECT project_no, line_desc, SUM(amount) AS TotalAmount\n",
    "FROM [omar.rme1].[dbo].[cost_dist]\n",
    "WHERE project_no IN ('170')\n",
    "GROUP BY project_no, line_desc\n",
    "\"\"\"\n",
    "\n",
    "# 2. Execute the query\n",
    "with engine.connect() as conn:\n",
    "    results_all_line_desc = execute_query(conn, query_all_line_desc)\n",
    "\n",
    "# 3. Create DataFrame for all line_desc amounts\n",
    "df_all_line_desc = pd.DataFrame(results_all_line_desc, columns=['project_no', 'line_desc', 'TotalAmount'])\n",
    "\n",
    "# 4. Create subplots for each project, arranged horizontally\n",
    "fig = sp.make_subplots(\n",
    "    rows=1,  # 1 row \n",
    "    cols=5,  # 5 columns for 5 projects\n",
    "    subplot_titles=[f\"{proj} - {project_names_dict[proj]}\" for proj in df['project_no'].unique()]\n",
    ")\n",
    "\n",
    "# 5. Iterate through projects to create bar charts\n",
    "for col_idx, project_no in enumerate(df['project_no'].unique()):\n",
    "    # Filter data for the current project\n",
    "    project_data = df_all_line_desc[df_all_line_desc['project_no'] == project_no].copy()\n",
    "\n",
    "    # Group similar items using fuzzy matching\n",
    "    project_data['ItemGroup'] = project_data['line_desc'].apply(lambda x: \n",
    "        max(df_top_suppliers[df_top_suppliers['project_no'] == project_no]['supplier_name'].dropna().unique(), \n",
    "            key=lambda y: fuzz.token_set_ratio(x, y))[ :10])\n",
    "\n",
    "    # Group by ItemGroup and sum the amounts\n",
    "    project_data_grouped = project_data.groupby('ItemGroup')['TotalAmount'].sum().reset_index()\n",
    "\n",
    "    # Filter to top 30\n",
    "    project_data_grouped = project_data_grouped.nlargest(30, 'TotalAmount')\n",
    "\n",
    "    # Create the bar chart and add it to the subplot\n",
    "    fig.add_trace(\n",
    "        px.bar(\n",
    "            project_data_grouped,\n",
    "            x='ItemGroup',\n",
    "            y='TotalAmount',\n",
    "            labels={'ItemGroup': 'Item Group', 'TotalAmount': 'Total Amount'}\n",
    "        ).data[0],\n",
    "        row=1, col=col_idx + 1  # Place charts in the same row, different columns\n",
    "    )\n",
    "\n",
    "    # Update layout for the subplot\n",
    "    fig.update_xaxes(title_text='Item Group (Fuzzy Matched)', row=1, col=col_idx + 1)\n",
    "    fig.update_yaxes(title_text='Total Amount', row=1, col=col_idx + 1)\n",
    "\n",
    "# 6. Adjust the overall layout\n",
    "fig.update_layout(\n",
    "    height=600,  # Adjust height as needed\n",
    "    width=1500,   # Adjust width as needed to accommodate all subplots\n",
    "    showlegend=False,\n",
    "    title_text=\"Top 30 Item Groups (Fuzzy Matched from line_desc) by Project\"\n",
    ")\n",
    "\n",
    "# 7. Save the chart as an HTML file\n",
    "fig.write_html(f'top_30_line_desc_item_groups_fuzzy_by_project.html')\n",
    "\n",
    "print(f\"Generated chart for line_desc item groups (fuzzy matched)\")"
   ]
  }
 ],
 "metadata": {
  "kernelspec": {
   "display_name": "Python 3",
   "language": "python",
   "name": "python3"
  },
  "language_info": {
   "codemirror_mode": {
    "name": "ipython",
    "version": 3
   },
   "file_extension": ".py",
   "mimetype": "text/x-python",
   "name": "python",
   "nbconvert_exporter": "python",
   "pygments_lexer": "ipython3",
   "version": "3.12.5"
  }
 },
 "nbformat": 4,
 "nbformat_minor": 2
}
