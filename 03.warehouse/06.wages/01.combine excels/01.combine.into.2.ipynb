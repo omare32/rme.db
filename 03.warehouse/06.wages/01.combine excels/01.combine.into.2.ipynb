{
 "cells": [
  {
   "cell_type": "code",
   "execution_count": 1,
   "metadata": {},
   "outputs": [],
   "source": [
    "import pandas as pd\n",
    "import os\n",
    "\n",
    "# 1. List your Excel files\n",
    "excel_files = [\n",
    "    \"Wages 2016.xlsx\",\n",
    "    \"Wages 2017.xlsx\",\n",
    "    \"Wages 2018.xlsx\",\n",
    "    \"Wages 2019.xlsx\",\n",
    "    \"Wages 2020.xlsx\",\n",
    "    \"Wages 2021.xlsx\",\n",
    "    \"Wages 2022.xlsx\",\n",
    "    \"Wages 2023.xlsx\",\n",
    "    \"Wages 2024 Till Aug.xlsx\",\n",
    "]\n",
    "\n",
    "# 2. Create an empty list to store the dataframes\n",
    "all_dfs = []\n",
    "\n",
    "# 3. Loop through the files and read them into pandas DataFrames\n",
    "for file in excel_files:\n",
    "    df = pd.read_excel(file)\n",
    "    all_dfs.append(df)\n",
    "\n",
    "# 4. Concatenate all the DataFrames into a single DataFrame\n",
    "combined_df = pd.concat(all_dfs, ignore_index=True)\n",
    "\n",
    "# 5. Split the combined DataFrame into two \n",
    "df_part1 = combined_df.iloc[:len(combined_df)//2, :]  # First half\n",
    "df_part2 = combined_df.iloc[len(combined_df)//2:, :]  # Second half\n",
    "\n",
    "# 6. Save the split DataFrames to separate Excel files\n",
    "df_part1.to_excel(\"Combined_Wages_Part1.xlsx\", index=False)\n",
    "df_part2.to_excel(\"Combined_Wages_Part2.xlsx\", index=False)"
   ]
  }
 ],
 "metadata": {
  "kernelspec": {
   "display_name": "Python 3",
   "language": "python",
   "name": "python3"
  },
  "language_info": {
   "codemirror_mode": {
    "name": "ipython",
    "version": 3
   },
   "file_extension": ".py",
   "mimetype": "text/x-python",
   "name": "python",
   "nbconvert_exporter": "python",
   "pygments_lexer": "ipython3",
   "version": "3.12.5"
  }
 },
 "nbformat": 4,
 "nbformat_minor": 2
}
