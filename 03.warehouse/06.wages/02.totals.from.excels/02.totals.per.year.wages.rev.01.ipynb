{
 "cells": [
  {
   "cell_type": "code",
   "execution_count": 1,
   "metadata": {},
   "outputs": [],
   "source": [
    "import pandas as pd\n",
    "import glob\n",
    "\n",
    "# Get a list of all Excel files in the folder\n",
    "excel_files = glob.glob(\"Wages*.xlsx\")\n",
    "\n",
    "# Create an empty list to store the dataframes\n",
    "dfs = []\n",
    "\n",
    "# Loop through each Excel file and read it into a dataframe\n",
    "for file in excel_files:\n",
    "    df = pd.read_excel(file)\n",
    "    # Extract the year from the filename\n",
    "    year = file.split(\" \")[1].split(\".\")[0] \n",
    "    df[\"Year\"] = year\n",
    "    # Convert 'amount' column to numeric, coercing non-numeric values to NaN\n",
    "    df[\"amount\"] = pd.to_numeric(df[\"amount\"], errors=\"coerce\")\n",
    "    dfs.append(df)\n",
    "\n",
    "# Concatenate all dataframes into a single dataframe\n",
    "combined_df = pd.concat(dfs, ignore_index=True)\n",
    "\n",
    "# Get all unique packages\n",
    "all_packages = combined_df[\"package\"].unique()\n",
    "\n",
    "# Create a dictionary to store the total amount for each package and year\n",
    "package_totals = {}\n",
    "\n",
    "# Calculate the total amount for each package and year\n",
    "for package in all_packages:\n",
    "    package_totals[package] = {}\n",
    "    for year in combined_df[\"Year\"].unique():\n",
    "        package_totals[package][year] = combined_df[(combined_df[\"package\"] == package) & (combined_df[\"Year\"] == year)][\"amount\"].sum()\n",
    "\n",
    "# Create a list to store the data for the final dataframe\n",
    "final_data = []\n",
    "\n",
    "# Prepare data for the final dataframe\n",
    "for package, year_totals in package_totals.items():\n",
    "    row = {\"Package\": package}\n",
    "    for year, total in year_totals.items():\n",
    "        row[year] = total\n",
    "    final_data.append(row)\n",
    "\n",
    "# Create a new dataframe from the package totals\n",
    "final_df = pd.DataFrame(final_data)\n",
    "\n",
    "# Calculate the total amount for each package across all years\n",
    "final_df[\"Total\"] = final_df.drop(\"Package\", axis=1).sum(axis=1)\n",
    "\n",
    "# Reorder columns to have 'Package' first, then the years, and 'Total' last\n",
    "years = sorted(combined_df[\"Year\"].unique())\n",
    "final_df = final_df[[\"Package\"] + years + [\"Total\"]]\n",
    "\n",
    "# Save the final dataframe to a new Excel file\n",
    "final_df.to_excel(\"Package_Totals_by_Year.xlsx\", index=False)"
   ]
  }
 ],
 "metadata": {
  "kernelspec": {
   "display_name": "Python 3",
   "language": "python",
   "name": "python3"
  },
  "language_info": {
   "codemirror_mode": {
    "name": "ipython",
    "version": 3
   },
   "file_extension": ".py",
   "mimetype": "text/x-python",
   "name": "python",
   "nbconvert_exporter": "python",
   "pygments_lexer": "ipython3",
   "version": "3.12.5"
  }
 },
 "nbformat": 4,
 "nbformat_minor": 2
}
