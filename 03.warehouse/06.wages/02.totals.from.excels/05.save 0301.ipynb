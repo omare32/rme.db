{
 "cells": [
  {
   "cell_type": "code",
   "execution_count": 1,
   "metadata": {},
   "outputs": [
    {
     "name": "stdout",
     "output_type": "stream",
     "text": [
      "Extracted data saved to: D:/OneDrive/OneDrive - Rowad Modern Engineering/x004 Data Science/03.rme.db/01.tables/02.manual/02.wages/00.all/04.xlsx.dated/formwork_data.xlsx\n"
     ]
    }
   ],
   "source": [
    "import pandas as pd\n",
    "\n",
    "def extract_and_save_formwork_data(file_path1, file_path2, output_file_path):\n",
    "  \"\"\"\n",
    "  Reads two Excel files, extracts rows where 'package' is \"0301 - Formwork\", \n",
    "  concatenates the data, and saves it to a new Excel file.\n",
    "\n",
    "  Args:\n",
    "    file_path1: Path to the first Excel file.\n",
    "    file_path2: Path to the second Excel file.\n",
    "    output_file_path: Path to save the extracted data.\n",
    "  \"\"\"\n",
    "  try:\n",
    "    df1 = pd.read_excel(file_path1)\n",
    "    df2 = pd.read_excel(file_path2)\n",
    "  except FileNotFoundError:\n",
    "    print(f\"Error: One or both files not found.\")\n",
    "    return\n",
    "\n",
    "  # Filter data for \"0301 - Formwork\" package in both DataFrames\n",
    "  df1_filtered = df1[df1['package'] == \"0301 - Formwork\"]\n",
    "  df2_filtered = df2[df2['package'] == \"0301 - Formwork\"]\n",
    "\n",
    "  # Concatenate the filtered DataFrames\n",
    "  combined_df = pd.concat([df1_filtered, df2_filtered], ignore_index=True)\n",
    "\n",
    "  # Save the combined DataFrame to a new Excel file\n",
    "  combined_df.to_excel(output_file_path, index=False)\n",
    "  print(f\"Extracted data saved to: {output_file_path}\")\n",
    "\n",
    "\n",
    "# File paths\n",
    "file_path1 = \"D:/OneDrive/OneDrive - Rowad Modern Engineering/x004 Data Science/03.rme.db/01.tables/02.manual/02.wages/00.all/04.xlsx.dated/All_Wages_Part1.xlsx\"\n",
    "file_path2 = \"D:/OneDrive/OneDrive - Rowad Modern Engineering/x004 Data Science/03.rme.db/01.tables/02.manual/02.wages/00.all/04.xlsx.dated/All_Wages_Part2.xlsx\"\n",
    "output_file_path = \"D:/OneDrive/OneDrive - Rowad Modern Engineering/x004 Data Science/03.rme.db/01.tables/02.manual/02.wages/00.all/04.xlsx.dated/formwork_data.xlsx\"\n",
    "\n",
    "# Extract and save the data\n",
    "extract_and_save_formwork_data(file_path1, file_path2, output_file_path)"
   ]
  }
 ],
 "metadata": {
  "kernelspec": {
   "display_name": "Python 3",
   "language": "python",
   "name": "python3"
  },
  "language_info": {
   "codemirror_mode": {
    "name": "ipython",
    "version": 3
   },
   "file_extension": ".py",
   "mimetype": "text/x-python",
   "name": "python",
   "nbconvert_exporter": "python",
   "pygments_lexer": "ipython3",
   "version": "3.12.5"
  }
 },
 "nbformat": 4,
 "nbformat_minor": 2
}
