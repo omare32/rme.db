{
 "cells": [
  {
   "cell_type": "code",
   "execution_count": 1,
   "metadata": {},
   "outputs": [
    {
     "name": "stdout",
     "output_type": "stream",
     "text": [
      "Updated file saved to: D:/OneDrive/OneDrive - Rowad Modern Engineering/x004 Data Science/03.rme.db/01.tables/02.manual/02.wages/00.all/04.xlsx.dated/All_Wages_Part1_updated.xlsx\n",
      "Updated file saved to: D:/OneDrive/OneDrive - Rowad Modern Engineering/x004 Data Science/03.rme.db/01.tables/02.manual/02.wages/00.all/04.xlsx.dated/All_Wages_Part2_updated.xlsx\n"
     ]
    }
   ],
   "source": [
    "import pandas as pd\n",
    "\n",
    "def update_and_save_excel(file_path, output_file_path):\n",
    "  \"\"\"\n",
    "  Reads an Excel file, replaces \"3.01 Formwork\" with \"0301 - Formwork\" in \n",
    "  the 'package' column, and saves the updated data to a new Excel file.\n",
    "\n",
    "  Args:\n",
    "    file_path: Path to the input Excel file.\n",
    "    output_file_path: Path to save the updated Excel file.\n",
    "  \"\"\"\n",
    "  try:\n",
    "    df = pd.read_excel(file_path)\n",
    "  except FileNotFoundError:\n",
    "    print(f\"Error: File not found at {file_path}\")\n",
    "    return\n",
    "\n",
    "  # Replace the values in the 'package' column\n",
    "  df['package'] = df['package'].replace(\"3.01 Formwork\", \"0301 - Formwork\")\n",
    "\n",
    "  # Save the updated DataFrame to a new Excel file\n",
    "  df.to_excel(output_file_path, index=False)  # index=False to avoid saving row index\n",
    "  print(f\"Updated file saved to: {output_file_path}\")\n",
    "\n",
    "\n",
    "# File paths\n",
    "file_path1 = \"D:/OneDrive/OneDrive - Rowad Modern Engineering/x004 Data Science/03.rme.db/01.tables/02.manual/02.wages/00.all/04.xlsx.dated/All_Wages_Part1.xlsx\"\n",
    "file_path2 = \"D:/OneDrive/OneDrive - Rowad Modern Engineering/x004 Data Science/03.rme.db/01.tables/02.manual/02.wages/00.all/04.xlsx.dated/All_Wages_Part2.xlsx\"\n",
    "\n",
    "# Output file paths\n",
    "output_file_path1 = \"D:/OneDrive/OneDrive - Rowad Modern Engineering/x004 Data Science/03.rme.db/01.tables/02.manual/02.wages/00.all/04.xlsx.dated/All_Wages_Part1_updated.xlsx\"\n",
    "output_file_path2 = \"D:/OneDrive/OneDrive - Rowad Modern Engineering/x004 Data Science/03.rme.db/01.tables/02.manual/02.wages/00.all/04.xlsx.dated/All_Wages_Part2_updated.xlsx\"\n",
    "\n",
    "# Update and save the Excel files\n",
    "update_and_save_excel(file_path1, output_file_path1)\n",
    "update_and_save_excel(file_path2, output_file_path2)"
   ]
  }
 ],
 "metadata": {
  "kernelspec": {
   "display_name": "Python 3",
   "language": "python",
   "name": "python3"
  },
  "language_info": {
   "codemirror_mode": {
    "name": "ipython",
    "version": 3
   },
   "file_extension": ".py",
   "mimetype": "text/x-python",
   "name": "python",
   "nbconvert_exporter": "python",
   "pygments_lexer": "ipython3",
   "version": "3.12.5"
  }
 },
 "nbformat": 4,
 "nbformat_minor": 2
}
