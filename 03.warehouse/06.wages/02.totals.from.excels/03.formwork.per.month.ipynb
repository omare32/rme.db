{
 "cells": [
  {
   "cell_type": "code",
   "execution_count": 4,
   "metadata": {},
   "outputs": [
    {
     "name": "stdout",
     "output_type": "stream",
     "text": [
      "Combined monthly totals saved to D:/OneDrive/OneDrive - Rowad Modern Engineering/x004 Data Science/03.rme.db/01.tables/02.manual/02.wages/00.all/04.xlsx.dated/combined_monthly_totals.xlsx\n"
     ]
    }
   ],
   "source": [
    "import pandas as pd\n",
    "\n",
    "def get_monthly_totals(file_path):\n",
    "  \"\"\"\n",
    "  Calculates the total 'amount' per month from an Excel file for entries where \n",
    "  'package' is \"0301 - Formwork\".\n",
    "\n",
    "  Args:\n",
    "    file_path: Path to the Excel file.\n",
    "\n",
    "  Returns:\n",
    "    A pandas Series with months as indices and total amounts as values.\n",
    "  \"\"\"\n",
    "  try:\n",
    "    df = pd.read_excel(file_path)\n",
    "  except FileNotFoundError:\n",
    "    print(f\"Error: File not found at {file_path}\")\n",
    "    return None\n",
    "\n",
    "  df_filtered = df[df['package'] == \"0301 - Formwork\"].copy()  # Create a copy to avoid SettingWithCopyWarning\n",
    "  df_filtered['month'] = pd.to_datetime(df_filtered['date']).dt.to_period('M')\n",
    "  \n",
    "  # Convert 'amount' column to numeric, coercing non-numeric values to NaN\n",
    "  df_filtered['amount'] = pd.to_numeric(df_filtered['amount'], errors='coerce')  \n",
    "\n",
    "  monthly_totals = df_filtered.groupby('month')['amount'].sum()\n",
    "\n",
    "  return monthly_totals\n",
    "\n",
    "\n",
    "# File paths\n",
    "file_path1 = \"D:/OneDrive/OneDrive - Rowad Modern Engineering/x004 Data Science/03.rme.db/01.tables/02.manual/02.wages/00.all/04.xlsx.dated/All_Wages_Part1.xlsx\"\n",
    "file_path2 = \"D:/OneDrive/OneDrive - Rowad Modern Engineering/x004 Data Science/03.rme.db/01.tables/02.manual/02.wages/00.all/04.xlsx.dated/All_Wages_Part2.xlsx\"\n",
    "\n",
    "# Get monthly totals from each file\n",
    "monthly_totals1 = get_monthly_totals(file_path1)\n",
    "monthly_totals2 = get_monthly_totals(file_path2)\n",
    "\n",
    "if monthly_totals1 is not None and monthly_totals2 is not None:\n",
    "  combined_totals = monthly_totals1.add(monthly_totals2, fill_value=0)\n",
    "\n",
    "  # Save the combined results to an Excel file\n",
    "  output_file_path = \"D:/OneDrive/OneDrive - Rowad Modern Engineering/x004 Data Science/03.rme.db/01.tables/02.manual/02.wages/00.all/04.xlsx.dated/combined_monthly_totals.xlsx\"\n",
    "  combined_totals.to_excel(output_file_path, header=True)\n",
    "  print(f\"Combined monthly totals saved to {output_file_path}\")"
   ]
  }
 ],
 "metadata": {
  "kernelspec": {
   "display_name": "Python 3",
   "language": "python",
   "name": "python3"
  },
  "language_info": {
   "codemirror_mode": {
    "name": "ipython",
    "version": 3
   },
   "file_extension": ".py",
   "mimetype": "text/x-python",
   "name": "python",
   "nbconvert_exporter": "python",
   "pygments_lexer": "ipython3",
   "version": "3.12.5"
  }
 },
 "nbformat": 4,
 "nbformat_minor": 2
}
