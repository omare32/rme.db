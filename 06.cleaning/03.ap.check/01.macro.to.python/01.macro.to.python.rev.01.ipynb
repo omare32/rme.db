{
 "cells": [
  {
   "cell_type": "code",
   "execution_count": null,
   "metadata": {},
   "outputs": [],
   "source": [
    "import openpyxl\n",
    "from openpyxl.styles import PatternFill, Font, Border, Side, Alignment\n",
    "from openpyxl.utils import get_column_letter\n",
    "\n",
    "def clean_excel_data_part1(excel_file_path):\n",
    "    wb = openpyxl.load_workbook(excel_file_path)\n",
    "    ws = wb.active\n",
    "\n",
    "    # Insert a column at the beginning (column A)\n",
    "    ws.insert_cols(1) \n",
    "\n",
    "    # Unmerge all cells\n",
    "    for merged_cell_range in ws.merged_cells.ranges:\n",
    "        ws.unmerge_cells(str(merged_cell_range)) \n",
    "\n",
    "    # Copy row 24 and paste special to row 18\n",
    "    for col_idx in range(1, ws.max_column + 1):\n",
    "        ws.cell(row=18, column=col_idx).value = ws.cell(row=24, column=col_idx).value\n",
    "\n",
    "    # Copying Project Names\n",
    "    proj_name = None \n",
    "    for row_idx in range(18, ws.max_row + 1):\n",
    "        crr_cell = ws.cell(row=row_idx, column=2)\n",
    "        color_int = crr_cell.fill.start_color.index  # Get color as integer\n",
    "        if color_int == \"00703084\" and crr_cell.value == \"Bank Account Name\":\n",
    "            proj_name = ws.cell(row=row_idx - 4, column=5).value \n",
    "            ws.cell(row=row_idx, column=1).value = proj_name\n",
    "        elif color_int == \"00FFFFFF\" and crr_cell.value and ws.cell(row=row_idx, column=3).value:\n",
    "            ws.cell(row=row_idx, column=1).value = proj_name\n",
    "\n",
    "    # Set cell A18\n",
    "    cell_a18 = ws.cell(row=18, column=1)\n",
    "    cell_a18.value = \"Project\"\n",
    "    cell_a18.fill = PatternFill(start_color=\"00703084\", end_color=\"00703084\", fill_type=\"solid\")\n",
    "    cell_a18.font = Font(color=\"FFFFFF\") \n",
    "\n",
    "    wb.save(excel_file_path)\n",
    "\n",
    "# Example usage\n",
    "excel_file_path = r\"C:\\path\\to\\your\\excel\\file.xlsx\"\n",
    "clean_excel_data_part1(excel_file_path)"
   ]
  }
 ],
 "metadata": {
  "language_info": {
   "name": "python"
  }
 },
 "nbformat": 4,
 "nbformat_minor": 2
}
