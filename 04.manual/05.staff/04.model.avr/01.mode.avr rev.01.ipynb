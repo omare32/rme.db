{
 "cells": [
  {
   "cell_type": "code",
   "execution_count": 21,
   "metadata": {},
   "outputs": [
    {
     "name": "stdout",
     "output_type": "stream",
     "text": [
      "Data merged and saved to 'all.xlsx' successfully!\n"
     ]
    }
   ],
   "source": [
    "import pandas as pd\n",
    "\n",
    "# Read the Excel files into DataFrames\n",
    "staff_df = pd.read_excel(\"staff.xlsx\")\n",
    "types_df = pd.read_excel(\"types.xlsx\")\n",
    "departments_df = pd.read_excel(\"departments.xlsx\")\n",
    "\n",
    "# Merge the DataFrames\n",
    "merged_df = staff_df.merge(types_df, on=\"Project\", how=\"left\")\n",
    "merged_df = merged_df.merge(departments_df, on=\"Job\", how=\"left\")\n",
    "\n",
    "# Save the merged DataFrame to an Excel file\n",
    "merged_df.to_excel(\"all.xlsx\", index=False)\n",
    "\n",
    "print(\"Data merged and saved to 'all.xlsx' successfully!\")"
   ]
  },
  {
   "cell_type": "code",
   "execution_count": 22,
   "metadata": {},
   "outputs": [],
   "source": [
    "# Read the merged data from \"all.xlsx\"\n",
    "df = pd.read_excel(\"all.xlsx\")\n",
    "\n",
    "# Group by project, job title, and type, counting occurrences in each month\n",
    "grouped_df = df.groupby([\"Project\", \"Job\", \"Type\"])[\"Month\"].value_counts().unstack(fill_value=0)\n",
    "\n",
    "# Find the peak number for each job title within each project-type combination\n",
    "peak_counts = grouped_df.max(axis=1)\n",
    "\n",
    "# Reset the index to include project, job title, and type\n",
    "result = peak_counts.reset_index()\n",
    "\n",
    "# Rename the column before saving\n",
    "result = peak_counts.reset_index().rename(columns={0: \"Peak Count\"})\n",
    "\n",
    "# Save the result with the Peak Count column**\n",
    "result.to_excel(\"unique_job_titles_peak_counts_with_types.xlsx\", index=False)"
   ]
  },
  {
   "cell_type": "code",
   "execution_count": 23,
   "metadata": {},
   "outputs": [
    {
     "name": "stdout",
     "output_type": "stream",
     "text": [
      "Example projects saved to 'example_projects_structured.xlsx' successfully!\n"
     ]
    }
   ],
   "source": [
    "# Read the data\n",
    "df = pd.read_excel(\"unique_job_titles_peak_counts_with_types.xlsx\")\n",
    "\n",
    "# Group by type and job, calculate average peak count\n",
    "grouped_df = df.groupby([\"Type\", \"Job\"])[\"Peak Count\"].mean().round().astype(int).reset_index()\n",
    "\n",
    "# Create the final DataFrame\n",
    "final_df = pd.DataFrame()\n",
    "for type in grouped_df[\"Type\"].unique():\n",
    "    type_data = grouped_df[grouped_df[\"Type\"] == type]\n",
    "    final_df = pd.concat([final_df, type_data.set_index(\"Job\").rename_axis(type)], axis=1)  # Removed `.to_frame()`\n",
    "\n",
    "# Save to Excel with a single sheet\n",
    "with pd.ExcelWriter(\"example_projects_structured.xlsx\") as writer:\n",
    "    final_df.to_excel(writer, sheet_name=\"Example Projects\", index=True)\n",
    "\n",
    "print(\"Example projects saved to 'example_projects_structured.xlsx' successfully!\")"
   ]
  },
  {
   "cell_type": "code",
   "execution_count": 38,
   "metadata": {},
   "outputs": [],
   "source": [
    "import pandas as pd\n",
    "import numpy as np\n",
    "from scipy.stats import norm\n",
    "\n",
    "# Read the data\n",
    "df = pd.read_excel(\"unique_job_titles_peak_counts_with_types.xlsx\")\n",
    "\n",
    "# Get user input for type and duration\n",
    "user_type = input(\"Enter the type: \")\n",
    "user_duration = int(input(\"Enter the duration in months: \"))\n"
   ]
  },
  {
   "cell_type": "code",
   "execution_count": 41,
   "metadata": {},
   "outputs": [
    {
     "ename": "ValueError",
     "evalue": "operands could not be broadcast together with shapes (12,) (2,) ",
     "output_type": "error",
     "traceback": [
      "\u001b[1;31m---------------------------------------------------------------------------\u001b[0m",
      "\u001b[1;31mValueError\u001b[0m                                Traceback (most recent call last)",
      "Cell \u001b[1;32mIn[41], line 17\u001b[0m\n\u001b[0;32m     15\u001b[0m \u001b[38;5;28;01mfor\u001b[39;00m job_title \u001b[38;5;129;01min\u001b[39;00m filtered_df\u001b[38;5;241m.\u001b[39mindex:\n\u001b[0;32m     16\u001b[0m     mean \u001b[38;5;241m=\u001b[39m user_duration \u001b[38;5;241m/\u001b[39m \u001b[38;5;241m2\u001b[39m  \u001b[38;5;66;03m# Peak in the middle\u001b[39;00m\n\u001b[1;32m---> 17\u001b[0m     counts \u001b[38;5;241m=\u001b[39m \u001b[43mnorm\u001b[49m\u001b[38;5;241;43m.\u001b[39;49m\u001b[43mpdf\u001b[49m\u001b[43m(\u001b[49m\u001b[43mnp\u001b[49m\u001b[38;5;241;43m.\u001b[39;49m\u001b[43marange\u001b[49m\u001b[43m(\u001b[49m\u001b[38;5;241;43m1\u001b[39;49m\u001b[43m,\u001b[49m\u001b[43m \u001b[49m\u001b[43muser_duration\u001b[49m\u001b[43m \u001b[49m\u001b[38;5;241;43m+\u001b[39;49m\u001b[43m \u001b[49m\u001b[38;5;241;43m1\u001b[39;49m\u001b[43m)\u001b[49m\u001b[43m,\u001b[49m\u001b[43m \u001b[49m\u001b[43mloc\u001b[49m\u001b[38;5;241;43m=\u001b[39;49m\u001b[43mmean\u001b[49m\u001b[43m,\u001b[49m\u001b[43m \u001b[49m\u001b[43mscale\u001b[49m\u001b[38;5;241;43m=\u001b[39;49m\u001b[43mmean\u001b[49m\u001b[43m \u001b[49m\u001b[38;5;241;43m/\u001b[39;49m\u001b[43m \u001b[49m\u001b[38;5;241;43m3\u001b[39;49m\u001b[43m)\u001b[49m\u001b[43m \u001b[49m\u001b[38;5;241;43m*\u001b[39;49m\u001b[43m \u001b[49m\u001b[43mfiltered_df\u001b[49m\u001b[38;5;241;43m.\u001b[39;49m\u001b[43mat\u001b[49m\u001b[43m[\u001b[49m\u001b[43mjob_title\u001b[49m\u001b[43m,\u001b[49m\u001b[43m \u001b[49m\u001b[38;5;124;43m\"\u001b[39;49m\u001b[38;5;124;43mPeak Count\u001b[39;49m\u001b[38;5;124;43m\"\u001b[39;49m\u001b[43m]\u001b[49m\u001b[38;5;241;43m.\u001b[39;49m\u001b[43mvalues\u001b[49m\n\u001b[0;32m     18\u001b[0m     counts \u001b[38;5;241m=\u001b[39m np\u001b[38;5;241m.\u001b[39mround(counts)\u001b[38;5;241m.\u001b[39mastype(\u001b[38;5;28mint\u001b[39m)\n\u001b[0;32m     19\u001b[0m     result_df\u001b[38;5;241m.\u001b[39mloc[job_title, :] \u001b[38;5;241m=\u001b[39m counts[:, np\u001b[38;5;241m.\u001b[39mnewaxis]  \u001b[38;5;66;03m# Add a new axis\u001b[39;00m\n",
      "\u001b[1;31mValueError\u001b[0m: operands could not be broadcast together with shapes (12,) (2,) "
     ]
    }
   ],
   "source": [
    "\n",
    "# Filter data based on user input\n",
    "filtered_df = df[df[\"Type\"] == user_type]\n",
    "\n",
    "# Set the job title as the index for easier access\n",
    "filtered_df = filtered_df.set_index(\"Job\")\n",
    "\n",
    "# Get the number of job titles\n",
    "num_job_titles = len(filtered_df)\n",
    "\n",
    "# Create a DataFrame for the specified duration\n",
    "months = pd.date_range(start=\"2024-01-01\", periods=user_duration, freq=\"MS\")\n",
    "result_df = pd.DataFrame(index=filtered_df.index, columns=months)\n",
    "\n",
    "# Generate counts in a bell curve pattern for each job title\n",
    "for job_title in filtered_df.index:\n",
    "    mean = user_duration / 2  # Peak in the middle\n",
    "    counts = norm.pdf(np.arange(1, user_duration + 1), loc=mean, scale=mean / 3) * filtered_df.at[job_title, \"Peak Count\"].values\n",
    "    counts = np.round(counts).astype(int)\n",
    "    result_df.loc[job_title, :] = counts[:, np.newaxis]  # Add a new axis\n",
    "\n",
    "# Save the result to an Excel file\n",
    "result_df.to_excel(\"job_titles_simulation.xlsx\", index=True)\n",
    "\n",
    "# Save the result to an Excel file\n",
    "result_df.to_excel(\"job_titles_simulation.xlsx\", index=True)\n",
    "\n",
    "# Transpose the DataFrame for a better layout\n",
    "result_df = result_df.transpose()\n",
    "\n",
    "# Save to Excel\n",
    "output_filename = f\"{user_type}_job_titles_generated.xlsx\"\n",
    "result_df.to_excel(output_filename, index=True)\n",
    "\n",
    "print(f\"Generated job titles for type '{user_type}' saved to '{output_filename}' successfully!\")\n"
   ]
  }
 ],
 "metadata": {
  "kernelspec": {
   "display_name": "Python 3",
   "language": "python",
   "name": "python3"
  },
  "language_info": {
   "codemirror_mode": {
    "name": "ipython",
    "version": 3
   },
   "file_extension": ".py",
   "mimetype": "text/x-python",
   "name": "python",
   "nbconvert_exporter": "python",
   "pygments_lexer": "ipython3",
   "version": "3.12.0"
  }
 },
 "nbformat": 4,
 "nbformat_minor": 2
}
