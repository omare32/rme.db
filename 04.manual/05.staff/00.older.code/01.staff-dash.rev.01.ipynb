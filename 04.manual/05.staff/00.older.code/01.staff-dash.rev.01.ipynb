{
 "cells": [
  {
   "cell_type": "code",
   "execution_count": 4,
   "metadata": {},
   "outputs": [
    {
     "data": {
      "text/html": [
       "\n",
       "        <iframe\n",
       "            width=\"100%\"\n",
       "            height=\"650\"\n",
       "            src=\"http://127.0.0.1:8050/\"\n",
       "            frameborder=\"0\"\n",
       "            allowfullscreen\n",
       "            \n",
       "        ></iframe>\n",
       "        "
      ],
      "text/plain": [
       "<IPython.lib.display.IFrame at 0x1b16e7ea0c0>"
      ]
     },
     "metadata": {},
     "output_type": "display_data"
    }
   ],
   "source": [
    "import pandas as pd\n",
    "import dash\n",
    "from dash import dcc, html\n",
    "from dash.dependencies import Input, Output\n",
    "import plotly.graph_objs as go\n",
    "\n",
    "# Read the Excel file\n",
    "df = pd.read_excel(\"staff.xlsx\")\n",
    "\n",
    "# Initialize the Dash app\n",
    "app = dash.Dash(__name__)\n",
    "\n",
    "# Create dropdown menu options from unique project names\n",
    "project_options = [{'label': project, 'value': project} for project in df['Project'].unique()]\n",
    "\n",
    "# Define the layout of the app\n",
    "app.layout = html.Div([\n",
    "    html.H1(\"Deployment Plan\"),\n",
    "    dcc.Dropdown(\n",
    "        id='project-dropdown',\n",
    "        options=project_options,\n",
    "        value=project_options[0]['value']  # Default value\n",
    "    ),\n",
    "    dcc.Graph(id='deployment-plan')\n",
    "])\n",
    "\n",
    "# Define callback to update the deployment plan based on selected project\n",
    "@app.callback(\n",
    "    Output('deployment-plan', 'figure'),\n",
    "    [Input('project-dropdown', 'value')]\n",
    ")\n",
    "def update_plan(selected_project):\n",
    "    # Filter the DataFrame based on the selected project\n",
    "    filtered_data = df[df['Project'] == selected_project]\n",
    "\n",
    "    # Get unique job titles for the selected project\n",
    "    unique_jobs = filtered_data['Job'].unique()\n",
    "\n",
    "    # Create a bar chart for each job title\n",
    "    data = []\n",
    "    for job in unique_jobs:\n",
    "        job_data = filtered_data[filtered_data['Job'] == job]\n",
    "        months_worked = list(job_data['Month'])\n",
    "        \n",
    "        # Create a horizontal bar chart for each job title\n",
    "        bar = go.Bar(\n",
    "            y=[job],\n",
    "            x=months_worked,\n",
    "            orientation='h',\n",
    "            name=job,\n",
    "            marker=dict(\n",
    "                color='rgba(50, 171, 96, 0.6)',\n",
    "                line=dict(\n",
    "                    color='rgba(50, 171, 96, 1.0)',\n",
    "                    width=1)\n",
    "            )\n",
    "        )\n",
    "        data.append(bar)\n",
    "\n",
    "    # Define layout for the horizontal bar chart\n",
    "    layout = go.Layout(\n",
    "        barmode='stack',\n",
    "        xaxis=dict(title='Months'),\n",
    "        yaxis=dict(title='Job Titles'),\n",
    "        title=f\"Deployment Plan for {selected_project}\"\n",
    "    )\n",
    "\n",
    "    return {'data': data, 'layout': layout}\n",
    "\n",
    "if __name__ == '__main__':\n",
    "    app.run_server(host='127.0.0.1', port=8050, debug=True)\n"
   ]
  }
 ],
 "metadata": {
  "kernelspec": {
   "display_name": "Python 3",
   "language": "python",
   "name": "python3"
  },
  "language_info": {
   "codemirror_mode": {
    "name": "ipython",
    "version": 3
   },
   "file_extension": ".py",
   "mimetype": "text/x-python",
   "name": "python",
   "nbconvert_exporter": "python",
   "pygments_lexer": "ipython3",
   "version": "3.12.0"
  }
 },
 "nbformat": 4,
 "nbformat_minor": 2
}
