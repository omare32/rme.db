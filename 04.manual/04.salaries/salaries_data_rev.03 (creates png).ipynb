{
 "cells": [
  {
   "cell_type": "code",
   "execution_count": 1,
   "metadata": {},
   "outputs": [],
   "source": [
    "import pandas as pd\n",
    "import dash\n",
    "from dash import dcc, html\n",
    "from dash.dependencies import Input, Output\n",
    "import plotly.express as px\n",
    "import weasyprint\n",
    "from weasyprint import CSS"
   ]
  },
  {
   "cell_type": "code",
   "execution_count": 2,
   "metadata": {},
   "outputs": [],
   "source": [
    "# Specify the file path\n",
    "file_path = \"Salaries RME (Nov-15 To Sep-23).xlsx\"\n",
    "\n",
    "# Read the Excel file into a Pandas DataFrame\n",
    "df = pd.read_excel(file_path)"
   ]
  },
  {
   "cell_type": "code",
   "execution_count": 3,
   "metadata": {},
   "outputs": [],
   "source": [
    "# Group the data by the 'project' column and sum the 'amount' for each project\n",
    "project_totals = df.groupby('project')['amount'].sum().reset_index()\n",
    "\n",
    "# Specify the output Excel file path\n",
    "output_file = \"Project_Salary_Totals.xlsx\"\n",
    "\n",
    "# Save the project totals to a new Excel file\n",
    "project_totals.to_excel(output_file, index=False)"
   ]
  },
  {
   "cell_type": "code",
   "execution_count": 4,
   "metadata": {},
   "outputs": [],
   "source": [
    "# Initialize the Dash app\n",
    "app = dash.Dash(__name__)\n",
    "\n",
    "# Define a function to calculate the total salary amount for a selected project\n",
    "def calculate_total_salary(selected_project):\n",
    "    filtered_df = df[df['project'] == selected_project]\n",
    "    total_salary = filtered_df['amount'].sum()\n",
    "    return total_salary"
   ]
  },
  {
   "cell_type": "code",
   "execution_count": 5,
   "metadata": {},
   "outputs": [],
   "source": [
    "# Define the layout of the web app\n",
    "app.layout = html.Div([\n",
    "    dcc.Dropdown(\n",
    "        id='project-dropdown',\n",
    "        options=[{'label': project, 'value': project} for project in df['project'].unique()],\n",
    "        value=df['project'].unique()[0]\n",
    "    ),\n",
    "    html.Div([\n",
    "        html.Div(id='total-salary-text', style={'fontSize': 24, 'fontWeight': 'bold', 'textAlign': 'center'}),\n",
    "    ]),\n",
    "    dcc.Graph(id='salary-line-plot')\n",
    "])"
   ]
  },
  {
   "cell_type": "code",
   "execution_count": null,
   "metadata": {},
   "outputs": [],
   "source": [
    "# Define the callback to update the plot and total salary text based on the selected project\n",
    "@app.callback(\n",
    "    [Output('salary-line-plot', 'figure'),\n",
    "     Output('total-salary-text', 'children')],\n",
    "    Input('project-dropdown', 'value')\n",
    ")\n",
    "def update_graph(selected_project):\n",
    "    filtered_df = df[df['project'] == selected_project]\n",
    "    total_salary = calculate_total_salary(selected_project)\n",
    "    fig = px.line(filtered_df, x='month', y='amount', title=f'Salaries for {selected_project}')\n",
    "    total_salary_text = f\"Total Salary for {selected_project}: {total_salary:,.2f} EGP\"\n",
    "    return fig, total_salary_text\n",
    "\n",
    "if __name__ == '__main__':\n",
    "    # Read the Excel file into a Pandas DataFrame\n",
    "    df = pd.read_excel(\"Salaries RME (Nov-15 To Sep-23).xlsx\")\n",
    "\n",
    "    # Run the Dash app locally\n",
    "    app.run_server(debug=True)\n",
    "\n",
    "    # Save each plot to a PDF file\n",
    "    for project in df['project'].unique():\n",
    "        filtered_df = df[df['project'] == project]\n",
    "        fig = px.line(filtered_df, x='month', y='amount', title=f'Salaries for {project}')\n",
    "        fig.write_image(f\"{project}_plot.png\")\n",
    "\n",
    "    # Combine all plots into a single PDF\n",
    "    pdf_pages = []\n",
    "    for project in df['project'].unique():\n",
    "        pdf_pages.append(weasyprint.Image(f\"{project}_plot.png\"))\n",
    "\n",
    "    weasyprint.pdf_pages_to_pdf_file(pdf_pages, \"plots.pdf\", stylesheets=[CSS(string=\"body { text-align: center; }\")])"
   ]
  }
 ],
 "metadata": {
  "kernelspec": {
   "display_name": "Python 3",
   "language": "python",
   "name": "python3"
  },
  "language_info": {
   "codemirror_mode": {
    "name": "ipython",
    "version": 3
   },
   "file_extension": ".py",
   "mimetype": "text/x-python",
   "name": "python",
   "nbconvert_exporter": "python",
   "pygments_lexer": "ipython3",
   "version": "3.11.0"
  }
 },
 "nbformat": 4,
 "nbformat_minor": 2
}
