{
 "cells": [
  {
   "cell_type": "code",
   "execution_count": 1,
   "metadata": {},
   "outputs": [
    {
     "name": "stdout",
     "output_type": "stream",
     "text": [
      "Excel files combined successfully!\n"
     ]
    }
   ],
   "source": [
    "import os\n",
    "import pandas as pd\n",
    "\n",
    "def combine_excel_files(folder_path):\n",
    "    \"\"\"\n",
    "    Combines multiple Excel files in a given folder into a single Excel file with \n",
    "    multiple sheets, where each sheet corresponds to a separate Excel file.\n",
    "\n",
    "    Args:\n",
    "        folder_path (str): The path to the folder containing the Excel files.\n",
    "    \"\"\"\n",
    "\n",
    "    excel_files = [os.path.join(folder_path, file) \n",
    "                   for file in os.listdir(folder_path) \n",
    "                   if file.endswith('.xlsx') or file.endswith('.xls')]\n",
    "\n",
    "    with pd.ExcelWriter(os.path.join(folder_path, 'combined.xlsx')) as writer:\n",
    "        for file in excel_files:\n",
    "            df = pd.read_excel(file)\n",
    "            sheet_name = os.path.basename(file).split('.')[0] \n",
    "            df.to_excel(writer, sheet_name=sheet_name, index=False)\n",
    "\n",
    "if __name__ == \"__main__\":\n",
    "    folder_path = input(\"Enter the path to the folder: \") \n",
    "    combine_excel_files(folder_path)\n",
    "    print(\"Excel files combined successfully!\")"
   ]
  }
 ],
 "metadata": {
  "kernelspec": {
   "display_name": "Python 3",
   "language": "python",
   "name": "python3"
  },
  "language_info": {
   "codemirror_mode": {
    "name": "ipython",
    "version": 3
   },
   "file_extension": ".py",
   "mimetype": "text/x-python",
   "name": "python",
   "nbconvert_exporter": "python",
   "pygments_lexer": "ipython3",
   "version": "3.12.4"
  }
 },
 "nbformat": 4,
 "nbformat_minor": 2
}
