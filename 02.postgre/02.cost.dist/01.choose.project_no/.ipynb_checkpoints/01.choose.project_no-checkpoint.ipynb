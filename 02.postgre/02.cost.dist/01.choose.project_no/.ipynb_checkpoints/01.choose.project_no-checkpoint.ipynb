{
 "cells": [
  {
   "cell_type": "code",
   "execution_count": 1,
   "id": "ab3925ea",
   "metadata": {},
   "outputs": [],
   "source": [
    "import psycopg2\n",
    "import pandas as pd"
   ]
  },
  {
   "cell_type": "code",
   "execution_count": 5,
   "id": "f5f5e844",
   "metadata": {},
   "outputs": [],
   "source": [
    "connection = psycopg2.connect(\n",
    "    host=\"localhost\",\n",
    "    dbname=\"rme\",\n",
    "    user=\"postgres\",\n",
    "    password=\"omar_321\"\n",
    ")\n",
    "cursor = connection.cursor()"
   ]
  },
  {
   "cell_type": "code",
   "execution_count": 6,
   "id": "8f7954c0",
   "metadata": {},
   "outputs": [],
   "source": [
    "cursor.execute(\"\"\"\n",
    "    SELECT project_name, comment, supplier_name, amount\n",
    "    FROM cost_dist\n",
    "    WHERE project_no = '152';\n",
    "\"\"\")\n",
    "records = cursor.fetchall()\n",
    "\n",
    "df = pd.DataFrame(records, columns=[\"project_name\", \"comment\", \"supplier_name\", \"amount\"])\n",
    "df.to_excel(\"cost_dist_152.xlsx\", index=False)\n",
    "\n",
    "connection.close()"
   ]
  },
  {
   "cell_type": "code",
   "execution_count": null,
   "id": "88c91800",
   "metadata": {},
   "outputs": [],
   "source": []
  }
 ],
 "metadata": {
  "kernelspec": {
   "display_name": "Python 3 (ipykernel)",
   "language": "python",
   "name": "python3"
  },
  "language_info": {
   "codemirror_mode": {
    "name": "ipython",
    "version": 3
   },
   "file_extension": ".py",
   "mimetype": "text/x-python",
   "name": "python",
   "nbconvert_exporter": "python",
   "pygments_lexer": "ipython3",
   "version": "3.11.0"
  }
 },
 "nbformat": 4,
 "nbformat_minor": 5
}
