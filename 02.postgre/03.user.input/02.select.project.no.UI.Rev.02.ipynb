{
 "cells": [
  {
   "cell_type": "code",
   "execution_count": 1,
   "id": "9050c147",
   "metadata": {},
   "outputs": [],
   "source": [
    "import psycopg2\n",
    "import pandas as pd\n",
    "import tkinter as tk\n",
    "from tkinter import simpledialog\n",
    "from tkinter import PhotoImage"
   ]
  },
  {
   "cell_type": "code",
   "execution_count": 2,
   "id": "370763b2",
   "metadata": {},
   "outputs": [],
   "source": [
    "# Database connection parameters\n",
    "db_params = {\n",
    "    \"host\": \"localhost\",\n",
    "    \"dbname\": \"rme\",\n",
    "    \"user\": \"postgres\",\n",
    "    \"password\": \"omar_321\"\n",
    "}\n",
    "\n",
    "# Connect to the PostgreSQL server\n",
    "connection = psycopg2.connect(**db_params)\n",
    "cursor = connection.cursor()"
   ]
  },
  {
   "cell_type": "code",
   "execution_count": 3,
   "id": "52f960a9",
   "metadata": {},
   "outputs": [],
   "source": [
    "# Create a Tkinter root window\n",
    "root = tk.Tk()\n",
    "root.title(\"RME : Export Cost Distribution Line\")\n",
    "\n",
    "# Load and display your company logo (assuming your logo file is named \"logo.gif\")\n",
    "logo_image = PhotoImage(file=\"logo.gif\")\n",
    "logo_label = tk.Label(root, image=logo_image)\n",
    "logo_label.grid(row=0, column=0, columnspan=2)  # Place logo at row 0, column 0"
   ]
  },
  {
   "cell_type": "code",
   "execution_count": 4,
   "id": "f928b1af",
   "metadata": {},
   "outputs": [],
   "source": [
    "# Prompt the user to enter the project number using a dialog box\n",
    "project_no_value = simpledialog.askstring(\"Project Number\", \"Please enter the project number:\")"
   ]
  },
  {
   "cell_type": "code",
   "execution_count": 5,
   "id": "e3202da6",
   "metadata": {},
   "outputs": [],
   "source": [
    "# SQL query to select data from the table where project_no matches user input\n",
    "query = \"SELECT * FROM cost_dist WHERE project_no = %s\"\n",
    "cursor.execute(query, (project_no_value,))\n",
    "\n",
    "# Fetch all rows\n",
    "rows = cursor.fetchall()\n",
    "\n",
    "# Create a pandas DataFrame from the fetched data\n",
    "df = pd.DataFrame(rows, columns=[desc[0] for desc in cursor.description])"
   ]
  },
  {
   "cell_type": "code",
   "execution_count": 6,
   "id": "445ddabc",
   "metadata": {},
   "outputs": [
    {
     "name": "stdout",
     "output_type": "stream",
     "text": [
      "Data exported to 'cost_dist_152.xlsx' successfully!\n"
     ]
    }
   ],
   "source": [
    "# Export the data to an Excel file\n",
    "excel_filename = f\"cost_dist_{project_no_value}.xlsx\"\n",
    "df.to_excel(excel_filename, index=False)\n",
    "\n",
    "print(f\"Data exported to '{excel_filename}' successfully!\")"
   ]
  },
  {
   "cell_type": "code",
   "execution_count": 7,
   "id": "a70d5200",
   "metadata": {},
   "outputs": [
    {
     "name": "stdout",
     "output_type": "stream",
     "text": [
      "Database connection closed.\n"
     ]
    },
    {
     "ename": "KeyboardInterrupt",
     "evalue": "",
     "output_type": "error",
     "traceback": [
      "\u001b[1;31m---------------------------------------------------------------------------\u001b[0m",
      "\u001b[1;31mKeyboardInterrupt\u001b[0m                         Traceback (most recent call last)",
      "Cell \u001b[1;32mIn[7], line 7\u001b[0m\n\u001b[0;32m      4\u001b[0m \u001b[39mprint\u001b[39m(\u001b[39m\"\u001b[39m\u001b[39mDatabase connection closed.\u001b[39m\u001b[39m\"\u001b[39m)\n\u001b[0;32m      6\u001b[0m \u001b[39m# Start the Tkinter event loop\u001b[39;00m\n\u001b[1;32m----> 7\u001b[0m root\u001b[39m.\u001b[39;49mmainloop()\n",
      "File \u001b[1;32mc:\\Users\\user\\AppData\\Local\\Programs\\Python\\Python311\\Lib\\tkinter\\__init__.py:1485\u001b[0m, in \u001b[0;36mMisc.mainloop\u001b[1;34m(self, n)\u001b[0m\n\u001b[0;32m   1483\u001b[0m \u001b[39mdef\u001b[39;00m \u001b[39mmainloop\u001b[39m(\u001b[39mself\u001b[39m, n\u001b[39m=\u001b[39m\u001b[39m0\u001b[39m):\n\u001b[0;32m   1484\u001b[0m \u001b[39m    \u001b[39m\u001b[39m\"\"\"Call the mainloop of Tk.\"\"\"\u001b[39;00m\n\u001b[1;32m-> 1485\u001b[0m     \u001b[39mself\u001b[39;49m\u001b[39m.\u001b[39;49mtk\u001b[39m.\u001b[39;49mmainloop(n)\n",
      "\u001b[1;31mKeyboardInterrupt\u001b[0m: "
     ]
    },
    {
     "ename": "",
     "evalue": "",
     "output_type": "error",
     "traceback": [
      "\u001b[1;31mThe Kernel crashed while executing code in the the current cell or a previous cell. Please review the code in the cell(s) to identify a possible cause of the failure. Click <a href='https://aka.ms/vscodeJupyterKernelCrash'>here</a> for more info. View Jupyter <a href='command:jupyter.viewOutput'>log</a> for further details."
     ]
    }
   ],
   "source": [
    "# Close the database connection\n",
    "cursor.close()\n",
    "connection.close()\n",
    "print(\"Database connection closed.\")\n",
    "\n",
    "# Start the Tkinter event loop\n",
    "root.mainloop()\n",
    "root.destroy()"
   ]
  }
 ],
 "metadata": {
  "kernelspec": {
   "display_name": "Python 3 (ipykernel)",
   "language": "python",
   "name": "python3"
  },
  "language_info": {
   "codemirror_mode": {
    "name": "ipython",
    "version": 3
   },
   "file_extension": ".py",
   "mimetype": "text/x-python",
   "name": "python",
   "nbconvert_exporter": "python",
   "pygments_lexer": "ipython3",
   "version": "3.11.0"
  }
 },
 "nbformat": 4,
 "nbformat_minor": 5
}
