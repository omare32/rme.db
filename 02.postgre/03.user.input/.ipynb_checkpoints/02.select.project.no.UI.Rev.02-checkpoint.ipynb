{
 "cells": [
  {
   "cell_type": "code",
   "execution_count": 8,
   "id": "9050c147",
   "metadata": {},
   "outputs": [],
   "source": [
    "import psycopg2\n",
    "import pandas as pd\n",
    "import tkinter as tk\n",
    "from tkinter import simpledialog\n",
    "from tkinter import PhotoImage"
   ]
  },
  {
   "cell_type": "code",
   "execution_count": 9,
   "id": "370763b2",
   "metadata": {},
   "outputs": [],
   "source": [
    "# Database connection parameters\n",
    "db_params = {\n",
    "    \"host\": \"localhost\",\n",
    "    \"dbname\": \"rme\",\n",
    "    \"user\": \"postgres\",\n",
    "    \"password\": \"omar_321\"\n",
    "}\n",
    "\n",
    "# Connect to the PostgreSQL server\n",
    "connection = psycopg2.connect(**db_params)\n",
    "cursor = connection.cursor()"
   ]
  },
  {
   "cell_type": "code",
   "execution_count": 10,
   "id": "52f960a9",
   "metadata": {},
   "outputs": [],
   "source": [
    "# Create a Tkinter root window\n",
    "root = tk.Tk()\n",
    "root.title(\"RME : Export Cost Distribution Line\")\n",
    "\n",
    "# Load and display your company logo (assuming your logo file is named \"logo.gif\")\n",
    "logo_image = PhotoImage(file=\"logo.gif\")\n",
    "logo_label = tk.Label(root, image=logo_image)\n",
    "logo_label.grid(row=0, column=0, columnspan=2)  # Place logo at row 0, column 0"
   ]
  },
  {
   "cell_type": "code",
   "execution_count": 11,
   "id": "f928b1af",
   "metadata": {},
   "outputs": [],
   "source": [
    "# Prompt the user to enter the project number using a dialog box\n",
    "project_no_value = simpledialog.askstring(\"Project Number\", \"Please enter the project number:\")"
   ]
  },
  {
   "cell_type": "code",
   "execution_count": 12,
   "id": "e3202da6",
   "metadata": {},
   "outputs": [],
   "source": [
    "# SQL query to select data from the table where project_no matches user input\n",
    "query = \"SELECT * FROM cost_dist WHERE project_no = %s\"\n",
    "cursor.execute(query, (project_no_value,))\n",
    "\n",
    "# Fetch all rows\n",
    "rows = cursor.fetchall()\n",
    "\n",
    "# Create a pandas DataFrame from the fetched data\n",
    "df = pd.DataFrame(rows, columns=[desc[0] for desc in cursor.description])"
   ]
  },
  {
   "cell_type": "code",
   "execution_count": 13,
   "id": "445ddabc",
   "metadata": {},
   "outputs": [
    {
     "name": "stdout",
     "output_type": "stream",
     "text": [
      "Data exported to 'cost_dist_152.xlsx' successfully!\n"
     ]
    }
   ],
   "source": [
    "# Export the data to an Excel file\n",
    "excel_filename = f\"cost_dist_{project_no_value}.xlsx\"\n",
    "df.to_excel(excel_filename, index=False)\n",
    "\n",
    "print(f\"Data exported to '{excel_filename}' successfully!\")"
   ]
  },
  {
   "cell_type": "code",
   "execution_count": 14,
   "id": "a70d5200",
   "metadata": {},
   "outputs": [
    {
     "name": "stdout",
     "output_type": "stream",
     "text": [
      "Database connection closed.\n"
     ]
    }
   ],
   "source": [
    "# Close the database connection\n",
    "cursor.close()\n",
    "connection.close()\n",
    "print(\"Database connection closed.\")\n",
    "\n",
    "# Start the Tkinter event loop\n",
    "root.mainloop()"
   ]
  }
 ],
 "metadata": {
  "kernelspec": {
   "display_name": "Python 3 (ipykernel)",
   "language": "python",
   "name": "python3"
  },
  "language_info": {
   "codemirror_mode": {
    "name": "ipython",
    "version": 3
   },
   "file_extension": ".py",
   "mimetype": "text/x-python",
   "name": "python",
   "nbconvert_exporter": "python",
   "pygments_lexer": "ipython3",
   "version": "3.11.0"
  }
 },
 "nbformat": 4,
 "nbformat_minor": 5
}
