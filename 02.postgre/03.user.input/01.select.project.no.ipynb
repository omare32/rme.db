{
 "cells": [
  {
   "cell_type": "code",
   "execution_count": 1,
   "id": "4195033d",
   "metadata": {},
   "outputs": [],
   "source": [
    "import psycopg2\n",
    "import pandas as pd"
   ]
  },
  {
   "cell_type": "code",
   "execution_count": 2,
   "id": "fd486da8",
   "metadata": {},
   "outputs": [
    {
     "name": "stdout",
     "output_type": "stream",
     "text": [
      "Enter the project number: 152\n"
     ]
    }
   ],
   "source": [
    "# Get user input\n",
    "project_no_value = input(\"Enter the project number: \")"
   ]
  },
  {
   "cell_type": "code",
   "execution_count": 3,
   "id": "feb5e82b",
   "metadata": {},
   "outputs": [],
   "source": [
    "# Database connection parameters\n",
    "db_params = {\n",
    "    \"host\": \"localhost\",\n",
    "    \"dbname\": \"rme\",\n",
    "    \"user\": \"postgres\",\n",
    "    \"password\": \"omar_321\"\n",
    "}\n",
    "\n",
    "# Connect to the PostgreSQL server\n",
    "connection = psycopg2.connect(**db_params)\n",
    "cursor = connection.cursor()"
   ]
  },
  {
   "cell_type": "code",
   "execution_count": 4,
   "id": "5bdf1deb",
   "metadata": {},
   "outputs": [],
   "source": [
    "# SQL query to select data from the table where project_no matches user input\n",
    "query = \"SELECT * FROM cost_dist WHERE project_no = %s\"\n",
    "cursor.execute(query, (project_no_value,))\n",
    "\n",
    "# Fetch all rows\n",
    "rows = cursor.fetchall()\n",
    "\n",
    "# Create a pandas DataFrame from the fetched data\n",
    "df = pd.DataFrame(rows, columns=[desc[0] for desc in cursor.description])"
   ]
  },
  {
   "cell_type": "code",
   "execution_count": 5,
   "id": "01326cb8",
   "metadata": {},
   "outputs": [
    {
     "name": "stdout",
     "output_type": "stream",
     "text": [
      "Data exported to 'cost_dist_152.xlsx' successfully!\n"
     ]
    }
   ],
   "source": [
    "# Export the data to an Excel file\n",
    "excel_filename = f\"cost_dist_{project_no_value}.xlsx\"\n",
    "df.to_excel(excel_filename, index=False)\n",
    "\n",
    "print(f\"Data exported to '{excel_filename}' successfully!\")"
   ]
  },
  {
   "cell_type": "code",
   "execution_count": 6,
   "id": "5485d8ee",
   "metadata": {},
   "outputs": [
    {
     "name": "stdout",
     "output_type": "stream",
     "text": [
      "Database connection closed.\n"
     ]
    }
   ],
   "source": [
    "# Close the database connection\n",
    "cursor.close()\n",
    "connection.close()\n",
    "print(\"Database connection closed.\")"
   ]
  }
 ],
 "metadata": {
  "kernelspec": {
   "display_name": "Python 3 (ipykernel)",
   "language": "python",
   "name": "python3"
  },
  "language_info": {
   "codemirror_mode": {
    "name": "ipython",
    "version": 3
   },
   "file_extension": ".py",
   "mimetype": "text/x-python",
   "name": "python",
   "nbconvert_exporter": "python",
   "pygments_lexer": "ipython3",
   "version": "3.11.0"
  }
 },
 "nbformat": 4,
 "nbformat_minor": 5
}
