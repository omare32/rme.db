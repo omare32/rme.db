{
 "cells": [
  {
   "cell_type": "code",
   "execution_count": 7,
   "id": "0c0f0fb2",
   "metadata": {},
   "outputs": [],
   "source": [
    "import psycopg2\n",
    "import pandas as pd"
   ]
  },
  {
   "cell_type": "code",
   "execution_count": 8,
   "id": "64d63e75",
   "metadata": {},
   "outputs": [],
   "source": [
    "connection = psycopg2.connect(\n",
    "    host=\"localhost\",\n",
    "    dbname=\"rme\",\n",
    "    user=\"postgres\",\n",
    "    password=\"omar_321\"\n",
    ")\n",
    "\n",
    "cursor = connection.cursor()"
   ]
  },
  {
   "cell_type": "code",
   "execution_count": 9,
   "id": "8db5a992",
   "metadata": {},
   "outputs": [
    {
     "name": "stdout",
     "output_type": "stream",
     "text": [
      "              project_name                                            comment  \\\n",
      "0      EMAAR-PKG#53-UPTOWN                ملحق 1 توريد و تركيب اعمال ألومنيوم   \n",
      "1      EMAAR-PKG#53-UPTOWN                ملحق 1 توريد و تركيب اعمال ألومنيوم   \n",
      "2      EMAAR-PKG#53-UPTOWN                ملحق 1 توريد و تركيب اعمال ألومنيوم   \n",
      "3      EMAAR-PKG#53-UPTOWN                ملحق 1 توريد و تركيب اعمال ألومنيوم   \n",
      "4   kayan wall lock & Load                                        ايجار معدات   \n",
      "..                     ...                                                ...   \n",
      "95          NUCA R05 - Z02                      Transfer Cost from Z01 to Z02   \n",
      "96   ORA ZED-Ph 2-Pkgs A&D                          Adj-ora To ora PH2 Mar-23   \n",
      "97    Ministries Buildings  مصاعد Service Lift Ref. (LS1), 1600 Kg, 1.6 m/...   \n",
      "98      Abou Ghaleb Bridge           Adj.AR - Penalties - Row Material Apr-23   \n",
      "99            HST Culverts                   1 HST CULVERTS توريد اسمنت تصديق   \n",
      "\n",
      "                         supplier_name        amount  \n",
      "0   المصرية الالمانية للالومنيوم-الوتك  1.097142e+11  \n",
      "1   المصرية الالمانية للالومنيوم-الوتك  2.742857e+10  \n",
      "2   المصرية الالمانية للالومنيوم-الوتك  1.828571e+10  \n",
      "3   المصرية الالمانية للالومنيوم-الوتك  5.485711e+09  \n",
      "4                 مكتب النيل للمقاولات  3.603213e+09  \n",
      "..                                 ...           ...  \n",
      "95              Miscellaneous supplier  1.423040e+07  \n",
      "96              Miscellaneous supplier  1.420888e+07  \n",
      "97                                None  1.417606e+07  \n",
      "98              Miscellaneous supplier  1.402150e+07  \n",
      "99   هيئة الطرق والكبارى  بوزارة النقل  1.400000e+07  \n",
      "\n",
      "[100 rows x 4 columns]\n"
     ]
    }
   ],
   "source": [
    "cursor.execute(\"SELECT project_name, comment, supplier_name, amount FROM cost_dist ORDER BY amount DESC LIMIT 100;\")\n",
    "records = cursor.fetchall()\n",
    "\n",
    "df = pd.DataFrame(records, columns=[\"project_name\", \"comment\", \"supplier_name\", \"amount\"])\n",
    "df.to_excel(\"top_100_cost_dist.xlsx\", index=False)\n",
    "print(df)\n",
    "\n",
    "connection.close()"
   ]
  },
  {
   "cell_type": "code",
   "execution_count": null,
   "id": "2cbe8ebb",
   "metadata": {},
   "outputs": [],
   "source": []
  }
 ],
 "metadata": {
  "kernelspec": {
   "display_name": "Python 3 (ipykernel)",
   "language": "python",
   "name": "python3"
  },
  "language_info": {
   "codemirror_mode": {
    "name": "ipython",
    "version": 3
   },
   "file_extension": ".py",
   "mimetype": "text/x-python",
   "name": "python",
   "nbconvert_exporter": "python",
   "pygments_lexer": "ipython3",
   "version": "3.11.0"
  }
 },
 "nbformat": 4,
 "nbformat_minor": 5
}
