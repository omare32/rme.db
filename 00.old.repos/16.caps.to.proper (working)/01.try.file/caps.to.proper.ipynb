{
 "cells": [
  {
   "cell_type": "code",
   "execution_count": 4,
   "id": "f450f697",
   "metadata": {},
   "outputs": [],
   "source": [
    "import openpyxl\n",
    "\n",
    "# Get the workbook and sheet\n",
    "wb = openpyxl.load_workbook(\"Koumassi Flyover BOQ English.xlsx\")\n",
    "sheet = wb.active\n",
    "\n",
    "# Loop through the rows in the sheet\n",
    "for row in sheet.iter_rows():\n",
    "    # Loop through the cells in the row\n",
    "    for cell in row:\n",
    "        # Check if the cell contains a value\n",
    "        if cell.value is not None:\n",
    "            # Check if the value is a string\n",
    "            if isinstance(cell.value, str):\n",
    "                # Check if the value is all caps\n",
    "                if cell.value.isupper():\n",
    "                    # Convert the text to proper case\n",
    "                    cell.value = cell.value.title()\n",
    "            else:\n",
    "                # The value is not a string, so do nothing\n",
    "                pass\n",
    "\n",
    "# Save the workbook\n",
    "wb.save(\"Koumassi Flyover BOQ English Proper.xlsx\")"
   ]
  },
  {
   "cell_type": "code",
   "execution_count": null,
   "id": "80156c91",
   "metadata": {},
   "outputs": [],
   "source": []
  }
 ],
 "metadata": {
  "kernelspec": {
   "display_name": "Python 3 (ipykernel)",
   "language": "python",
   "name": "python3"
  },
  "language_info": {
   "codemirror_mode": {
    "name": "ipython",
    "version": 3
   },
   "file_extension": ".py",
   "mimetype": "text/x-python",
   "name": "python",
   "nbconvert_exporter": "python",
   "pygments_lexer": "ipython3",
   "version": "3.9.13"
  }
 },
 "nbformat": 4,
 "nbformat_minor": 5
}
