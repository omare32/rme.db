{
 "cells": [
  {
   "cell_type": "code",
   "execution_count": 10,
   "metadata": {
    "collapsed": true,
    "ExecuteTime": {
     "end_time": "2023-06-20T11:50:55.094479900Z",
     "start_time": "2023-06-20T11:50:55.065324300Z"
    }
   },
   "outputs": [],
   "source": [
    "import glob\n",
    "import pandas as pd"
   ]
  },
  {
   "cell_type": "code",
   "execution_count": 11,
   "outputs": [],
   "source": [
    "# Get the list of all Excel files in the current directory\n",
    "filenames = glob.glob(\"*.xlsx\")"
   ],
   "metadata": {
    "collapsed": false,
    "ExecuteTime": {
     "end_time": "2023-06-20T11:50:55.094479900Z",
     "start_time": "2023-06-20T11:50:55.069279400Z"
    }
   }
  },
  {
   "cell_type": "code",
   "execution_count": 12,
   "outputs": [],
   "source": [
    "# Initialize an empty DataFrame to store the merged data\n",
    "final_excel_sheet = pd.DataFrame()"
   ],
   "metadata": {
    "collapsed": false,
    "ExecuteTime": {
     "end_time": "2023-06-20T11:50:55.099519400Z",
     "start_time": "2023-06-20T11:50:55.094479900Z"
    }
   }
  },
  {
   "cell_type": "code",
   "execution_count": 13,
   "outputs": [],
   "source": [
    "# Iterate through the Excel files and append their data to the DataFrame\n",
    "for filename in filenames:\n",
    "    df = pd.read_excel(filename)\n",
    "    final_excel_sheet = pd.concat([final_excel_sheet, df], ignore_index=True)"
   ],
   "metadata": {
    "collapsed": false,
    "ExecuteTime": {
     "end_time": "2023-06-20T11:50:55.200656Z",
     "start_time": "2023-06-20T11:50:55.094479900Z"
    }
   }
  },
  {
   "cell_type": "code",
   "execution_count": 14,
   "outputs": [],
   "source": [
    "# Save the merged DataFrame to a new Excel file\n",
    "final_excel_sheet.to_excel('merged_excel_sheets.xlsx')"
   ],
   "metadata": {
    "collapsed": false,
    "ExecuteTime": {
     "end_time": "2023-06-20T11:50:55.445358400Z",
     "start_time": "2023-06-20T11:50:55.206676300Z"
    }
   }
  }
 ],
 "metadata": {
  "kernelspec": {
   "display_name": "Python 3",
   "language": "python",
   "name": "python3"
  },
  "language_info": {
   "codemirror_mode": {
    "name": "ipython",
    "version": 2
   },
   "file_extension": ".py",
   "mimetype": "text/x-python",
   "name": "python",
   "nbconvert_exporter": "python",
   "pygments_lexer": "ipython2",
   "version": "2.7.6"
  }
 },
 "nbformat": 4,
 "nbformat_minor": 0
}
