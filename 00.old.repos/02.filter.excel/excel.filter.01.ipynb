{
 "cells": [
  {
   "cell_type": "code",
   "execution_count": null,
   "id": "0e05afaf",
   "metadata": {},
   "outputs": [],
   "source": [
    "import pandas as pd\n",
    "\n",
    "# Import the Excel file\n",
    "df = pd.read_excel(\"input.xlsx\")\n",
    "\n",
    "# Filter the data by the specified column\n",
    "filtered_df = df[df[\"Column Name\"] == \"Value\"]\n",
    "\n",
    "# Save the filtered data to a new Excel file\n",
    "filtered_df.to_excel(\"output.xlsx\")"
   ]
  }
 ],
 "metadata": {
  "kernelspec": {
   "display_name": "Python 3 (ipykernel)",
   "language": "python",
   "name": "python3"
  },
  "language_info": {
   "codemirror_mode": {
    "name": "ipython",
    "version": 3
   },
   "file_extension": ".py",
   "mimetype": "text/x-python",
   "name": "python",
   "nbconvert_exporter": "python",
   "pygments_lexer": "ipython3",
   "version": "3.9.13"
  }
 },
 "nbformat": 4,
 "nbformat_minor": 5
}
