{
 "cells": [
  {
   "cell_type": "code",
   "execution_count": 45,
   "outputs": [],
   "source": [
    "import os\n",
    "import glob\n",
    "import pandas as pd\n",
    "import openpyxl"
   ],
   "metadata": {
    "collapsed": false,
    "ExecuteTime": {
     "end_time": "2023-07-19T08:55:27.711579200Z",
     "start_time": "2023-07-19T08:55:27.710585600Z"
    }
   }
  },
  {
   "cell_type": "code",
   "execution_count": 46,
   "outputs": [],
   "source": [
    "excel_files = glob.glob(\"*.xlsx\")"
   ],
   "metadata": {
    "collapsed": false,
    "ExecuteTime": {
     "end_time": "2023-07-19T08:55:27.732392900Z",
     "start_time": "2023-07-19T08:55:27.711579200Z"
    }
   }
  },
  {
   "cell_type": "code",
   "execution_count": 47,
   "outputs": [],
   "source": [
    "data_frames = []\n",
    "for excel_file in excel_files:\n",
    "    df = pd.read_excel(excel_file)\n",
    "    data_frames.append(df)"
   ],
   "metadata": {
    "collapsed": false,
    "ExecuteTime": {
     "end_time": "2023-07-19T08:55:28.812891500Z",
     "start_time": "2023-07-19T08:55:27.731037100Z"
    }
   }
  },
  {
   "cell_type": "code",
   "execution_count": 48,
   "outputs": [],
   "source": [
    "filtered_df = pd.concat(data_frames)"
   ],
   "metadata": {
    "collapsed": false,
    "ExecuteTime": {
     "end_time": "2023-07-19T08:55:28.819527Z",
     "start_time": "2023-07-19T08:55:28.817249Z"
    }
   }
  },
  {
   "cell_type": "code",
   "execution_count": 49,
   "outputs": [],
   "source": [
    "# Filter the DataFrame on the column \"Trx Type\\n\" for the strings \"Move Order Issue on Project\", \"RME Issue ( On Project)\", \"RME Site Return\"\n",
    "filtered_df = filtered_df[filtered_df[\"Trx Type\\n\"].str.rstrip(\"\\n\").isin([\"Move Order Issue on Project\", \"RME Issue ( On Project)\", \"RME Site Return\"])]"
   ],
   "metadata": {
    "collapsed": false,
    "ExecuteTime": {
     "end_time": "2023-07-19T08:55:28.827123900Z",
     "start_time": "2023-07-19T08:55:28.819527Z"
    }
   }
  },
  {
   "cell_type": "code",
   "execution_count": 50,
   "outputs": [],
   "source": [
    "# Get the name of the original Excel file from the current directory\n",
    "original_excel_file = os.path.basename(excel_files[0])"
   ],
   "metadata": {
    "collapsed": false,
    "ExecuteTime": {
     "end_time": "2023-07-19T08:55:28.832602800Z",
     "start_time": "2023-07-19T08:55:28.827123900Z"
    }
   }
  },
  {
   "cell_type": "code",
   "execution_count": 51,
   "outputs": [],
   "source": [
    "# Append the filtered DataFrame to the original Excel file without deleting the original tab\n",
    "with pd.ExcelWriter(original_excel_file, engine='openpyxl') as writer:\n",
    "    df.to_excel(writer, sheet_name=\"Mat Mov\", index=False)\n",
    "    filtered_df.to_excel(writer, sheet_name=\"On Project\", index=False)"
   ],
   "metadata": {
    "collapsed": false,
    "ExecuteTime": {
     "end_time": "2023-07-19T08:55:32.655654200Z",
     "start_time": "2023-07-19T08:55:28.832602800Z"
    }
   }
  }
 ],
 "metadata": {
  "kernelspec": {
   "display_name": "Python 3",
   "language": "python",
   "name": "python3"
  },
  "language_info": {
   "codemirror_mode": {
    "name": "ipython",
    "version": 2
   },
   "file_extension": ".py",
   "mimetype": "text/x-python",
   "name": "python",
   "nbconvert_exporter": "python",
   "pygments_lexer": "ipython2",
   "version": "2.7.6"
  }
 },
 "nbformat": 4,
 "nbformat_minor": 0
}
