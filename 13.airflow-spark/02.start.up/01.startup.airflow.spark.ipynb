{
 "cells": [
  {
   "cell_type": "code",
   "execution_count": 10,
   "metadata": {},
   "outputs": [
    {
     "name": "stdout",
     "output_type": "stream",
     "text": [
      "\n",
      "\n",
      "\n",
      "sudo: a terminal is required to read the password; either use the -S option to read from standard input or configure an askpass helper\n",
      "sudo: a password is required\n",
      "\n",
      "\n",
      "bash: line 1: airflow: command not found\n",
      "\n",
      "\n",
      "bash: line 1: airflow: command not found\n",
      "\n",
      "\n",
      "\n",
      "\n",
      "sudo: a terminal is required to read the password; either use the -S option to read from standard input or configure an askpass helper\n",
      "sudo: a password is required\n",
      "\n",
      "\n",
      "sudo: a terminal is required to read the password; either use the -S option to read from standard input or configure an askpass helper\n",
      "sudo: a password is required\n",
      "\n"
     ]
    }
   ],
   "source": [
    "import paramiko\n",
    "\n",
    "def connect_and_execute(commands):\n",
    "    ssh = paramiko.SSHClient()\n",
    "    ssh.set_missing_host_key_policy(paramiko.AutoAddPolicy())\n",
    "    ssh.connect('10.10.11.242', username='PMO', password='PMO@1234')\n",
    "\n",
    "    for command in commands:\n",
    "        stdin, stdout, stderr = ssh.exec_command(command)\n",
    "        print(stdout.read().decode())\n",
    "        print(stderr.read().decode())\n",
    "    ssh.close()\n",
    "\n",
    "if __name__ == \"__main__\":\n",
    "    airflow_commands = [\n",
    "        \"source airflow/venv/bin/activate\",\n",
    "        \"sudo -s airflow db init\",\n",
    "        \"airflow webserver -D\",\n",
    "        \"airflow scheduler -D\"\n",
    "    ]\n",
    "\n",
    "    spark_commands = [\n",
    "        \"cd /opt/spark/sbin\",\n",
    "        \"sudo bash start-master.sh -i 10.10.11.242 --webui-port 8080\",\n",
    "        \"sudo bash start-worker.sh spark://10.10.11.242:7077\",\n",
    "    ]\n",
    "\n",
    "    connect_and_execute(airflow_commands)\n",
    "    connect_and_execute(spark_commands) "
   ]
  }
 ],
 "metadata": {
  "kernelspec": {
   "display_name": "Python 3",
   "language": "python",
   "name": "python3"
  },
  "language_info": {
   "codemirror_mode": {
    "name": "ipython",
    "version": 3
   },
   "file_extension": ".py",
   "mimetype": "text/x-python",
   "name": "python",
   "nbconvert_exporter": "python",
   "pygments_lexer": "ipython3",
   "version": "3.12.5"
  }
 },
 "nbformat": 4,
 "nbformat_minor": 2
}
