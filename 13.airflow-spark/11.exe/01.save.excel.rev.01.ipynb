{
 "cells": [
  {
   "cell_type": "code",
   "execution_count": 2,
   "metadata": {},
   "outputs": [
    {
     "name": "stdout",
     "output_type": "stream",
     "text": [
      "Connection successful!\n"
     ]
    },
    {
     "name": "stderr",
     "output_type": "stream",
     "text": [
      "C:\\Users\\Omar Essam2\\AppData\\Local\\Temp\\2\\ipykernel_9812\\1746144126.py:28: UserWarning: pandas only supports SQLAlchemy connectable (engine/connection) or database string URI or sqlite3 DBAPI2 connection. Other DBAPI2 objects are not tested. Please consider using SQLAlchemy.\n",
      "  df = pd.read_sql(query, cnx)\n"
     ]
    },
    {
     "name": "stdout",
     "output_type": "stream",
     "text": [
      "Data saved successfully to RME_Receipts_3.xlsx\n",
      "Connection closed.\n"
     ]
    }
   ],
   "source": [
    "import mysql.connector as mysql\n",
    "import pandas as pd\n",
    "from mysql.connector import Error\n",
    "\n",
    "# Database connection details\n",
    "HOST = \"10.10.11.242\"\n",
    "USER = \"omar2\"\n",
    "PASSWORD = \"Omar_54321\"\n",
    "DATABASE = \"RME_TEST\"\n",
    "TABLE_NAME = \"RME_Receipts_3\"\n",
    "\n",
    "try:\n",
    "    # Establish the connection\n",
    "    cnx = mysql.connect(\n",
    "        host=HOST,\n",
    "        user=USER,\n",
    "        password=PASSWORD,\n",
    "        database=DATABASE\n",
    "    )\n",
    "    \n",
    "    if cnx.is_connected():\n",
    "        print(\"Connection successful!\")\n",
    "        \n",
    "        # Query to fetch data\n",
    "        query = f\"SELECT * FROM {TABLE_NAME}\"\n",
    "        \n",
    "        # Load data into Pandas DataFrame\n",
    "        df = pd.read_sql(query, cnx)\n",
    "        \n",
    "        # Save to Excel\n",
    "        file_name = f\"{TABLE_NAME}.xlsx\"\n",
    "        df.to_excel(file_name, index=False)\n",
    "        print(f\"Data saved successfully to {file_name}\")\n",
    "        \n",
    "except Error as e:\n",
    "    print(f\"Error connecting to database: {e}\")\n",
    "\n",
    "finally:\n",
    "    # Ensure connection is closed properly\n",
    "    if 'cnx' in locals() and cnx.is_connected():\n",
    "        cnx.close()\n",
    "        print(\"Connection closed.\")\n"
   ]
  }
 ],
 "metadata": {
  "kernelspec": {
   "display_name": "Python 3",
   "language": "python",
   "name": "python3"
  },
  "language_info": {
   "codemirror_mode": {
    "name": "ipython",
    "version": 3
   },
   "file_extension": ".py",
   "mimetype": "text/x-python",
   "name": "python",
   "nbconvert_exporter": "python",
   "pygments_lexer": "ipython3",
   "version": "3.13.2"
  }
 },
 "nbformat": 4,
 "nbformat_minor": 2
}
