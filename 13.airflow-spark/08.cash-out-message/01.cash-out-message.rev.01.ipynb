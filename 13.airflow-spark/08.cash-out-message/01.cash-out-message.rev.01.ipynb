{
 "cells": [
  {
   "cell_type": "code",
   "execution_count": 1,
   "metadata": {},
   "outputs": [
    {
     "name": "stdout",
     "output_type": "stream",
     "text": [
      "Connected to the database!\n",
      "Recent Cash-Out Transactions:\n",
      "\n",
      "Project: Unknown Project, Supplier: Petty Cash, Check Date: 2025-01-14, Amount: 2,000,000.00 EGP\n",
      "\n",
      "Project: Unknown Project, Supplier: Petty Cash, Check Date: 2025-01-10, Amount: 1,000,000.00 EGP\n",
      "\n",
      "Project: Unknown Project, Supplier: MTN COTE D'IVOIRE SA, Check Date: 2025-01-10, Amount: 555,000.00 EGP\n",
      "\n",
      "Project: Unknown Project, Supplier: Petty Cash, Check Date: 2025-01-08, Amount: 1,000,000.00 EGP\n"
     ]
    },
    {
     "name": "stderr",
     "output_type": "stream",
     "text": [
      "c:\\Users\\Omar Essam2\\AppData\\Local\\Programs\\Python\\Python312\\Lib\\site-packages\\urllib3\\connectionpool.py:1099: InsecureRequestWarning: Unverified HTTPS request is being made to host 'rowadmodern.webhook.office.com'. Adding certificate verification is strongly advised. See: https://urllib3.readthedocs.io/en/latest/advanced-usage.html#tls-warnings\n",
      "  warnings.warn(\n"
     ]
    },
    {
     "name": "stdout",
     "output_type": "stream",
     "text": [
      "Message sent to Microsoft Teams successfully!\n"
     ]
    }
   ],
   "source": [
    "import oracledb\n",
    "import requests\n",
    "\n",
    "# Enable thick mode (uses Oracle Instant Client)\n",
    "oracledb.init_oracle_client(lib_dir=r\"C:\\oracle\\instantclient_21_15\")\n",
    "\n",
    "# Database connection details\n",
    "hostname = \"10.0.11.59\"\n",
    "port = 1521\n",
    "service_name = \"RMEDB\"\n",
    "username = \"RME_DEV\"\n",
    "password = \"PASS21RME\"\n",
    "\n",
    "# Microsoft Teams webhook URL\n",
    "teams_webhook_url = \"https://rowadmodern.webhook.office.com/webhookb2/84557fde-c0e1-457d-99d7-152442e5b0ac@7c9607e1-cd01-4c4f-a163-c7f2bb6284a4/IncomingWebhook/344902cf52cd4da2ba20168f0f1e9f7a/24f28753-9c07-40e0-91b2-ea196c200a33/V2vgTh-ifdHFN3gcme6xDjNMuHwC6MjwpAipx7SMq80Rg1\"\n",
    "\n",
    "try:\n",
    "    # Connect to the database\n",
    "    dsn = oracledb.makedsn(hostname, port, service_name=service_name)\n",
    "    connection = oracledb.connect(user=username, password=password, dsn=dsn)\n",
    "    print(\"Connected to the database!\")\n",
    "\n",
    "    # Create a cursor\n",
    "    cursor = connection.cursor()\n",
    "\n",
    "    # Updated query to fetch the latest 4 transactions based on CHECK_ID\n",
    "    query = \"\"\"\n",
    "    SELECT \n",
    "        pap.name AS project_name,\n",
    "        ASA.VENDOR_NAME AS supplier_name,\n",
    "        TO_CHAR(aca.CHECK_DATE, 'YYYY-MM-DD') AS check_date,\n",
    "        aca.amount AS amount\n",
    "    FROM \n",
    "        APPS.AP_CHECKS_ALL ACA\n",
    "        JOIN apps.ap_invoice_payments_all aip ON aip.check_id = aca.check_id\n",
    "        JOIN apps.ap_invoices_all ai ON ai.invoice_id = aip.invoice_id\n",
    "        JOIN apps.AP_SUPPLIERS ASA ON aca.VENDOR_ID = ASA.VENDOR_ID\n",
    "        LEFT JOIN apps.PA_PROJECTS_ALL pap ON ai.ATTRIBUTE6 = pap.project_id\n",
    "    WHERE \n",
    "        TO_CHAR(aca.CHECK_DATE, 'YYYY-MM-DD') BETWEEN TO_CHAR(TRUNC(SYSDATE, 'YEAR'), 'YYYY-MM-DD') \n",
    "        AND TO_CHAR(TRUNC(SYSDATE) - 1, 'YYYY-MM-DD')\n",
    "    ORDER BY aca.CHECK_ID DESC\n",
    "    FETCH FIRST 4 ROWS ONLY\n",
    "    \"\"\"\n",
    "\n",
    "    # Execute the query\n",
    "    cursor.execute(query)\n",
    "    results = cursor.fetchall()\n",
    "\n",
    "    # Process the results to create sentences\n",
    "    sentences = []\n",
    "    for row in results:\n",
    "        project_name = row[0] if row[0] else \"Unknown Project\"\n",
    "        supplier_name = row[1] if row[1] else \"Unknown Supplier\"\n",
    "        check_date = row[2]\n",
    "        amount = f\"{row[3]:,.2f}\"  # Format amount with commas and 2 decimal places\n",
    "        sentences.append(\n",
    "            f\"Project: {project_name}, Supplier: {supplier_name}, Check Date: {check_date}, Amount: {amount} EGP\"\n",
    "        )\n",
    "\n",
    "    # Combine sentences into a single message with an empty line between transactions\n",
    "    message = \"Recent Cash-Out Transactions:\\n\\n\" + \"\\n\\n\".join(sentences)\n",
    "    print(message)\n",
    "\n",
    "    # Send the message to Microsoft Teams (SSL verification bypassed here)\n",
    "    payload = {\"text\": message}\n",
    "    response = requests.post(teams_webhook_url, json=payload, verify=False)\n",
    "\n",
    "    # Check if the message was sent successfully\n",
    "    if response.status_code == 200:\n",
    "        print(\"Message sent to Microsoft Teams successfully!\")\n",
    "    else:\n",
    "        print(f\"Failed to send message. Status code: {response.status_code}, Response: {response.text}\")\n",
    "\n",
    "except oracledb.Error as error:\n",
    "    print(f\"Error connecting to database: {error}\")\n",
    "\n",
    "finally:\n",
    "    # Ensure resources are cleaned up\n",
    "    if 'cursor' in locals() and cursor:\n",
    "        cursor.close()\n",
    "    if 'connection' in locals() and connection:\n",
    "        connection.close()\n"
   ]
  }
 ],
 "metadata": {
  "kernelspec": {
   "display_name": "Python 3",
   "language": "python",
   "name": "python3"
  },
  "language_info": {
   "codemirror_mode": {
    "name": "ipython",
    "version": 3
   },
   "file_extension": ".py",
   "mimetype": "text/x-python",
   "name": "python",
   "nbconvert_exporter": "python",
   "pygments_lexer": "ipython3",
   "version": "3.12.4"
  }
 },
 "nbformat": 4,
 "nbformat_minor": 2
}
