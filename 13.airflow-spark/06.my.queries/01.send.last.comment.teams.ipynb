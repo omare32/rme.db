{
 "cells": [
  {
   "cell_type": "code",
   "execution_count": 1,
   "metadata": {},
   "outputs": [
    {
     "name": "stdout",
     "output_type": "stream",
     "text": [
      "Connected to the database!\n",
      "On 2025-01-26, a cash-in of 2,475,926 EGP was recorded with the comment: 'IPC 2 - Egyptian University at Alamein\n",
      "'.\n",
      "On 2025-01-26, a cash-in of 10,000,000 EGP was recorded with the comment: 'مشروع فندق راداميس rooms fitout - دفعة تحت الحساب \n",
      "'.\n"
     ]
    },
    {
     "name": "stderr",
     "output_type": "stream",
     "text": [
      "c:\\Users\\Omar Essam2\\AppData\\Local\\Programs\\Python\\Python312\\Lib\\site-packages\\urllib3\\connectionpool.py:1099: InsecureRequestWarning: Unverified HTTPS request is being made to host 'rowadmodern.webhook.office.com'. Adding certificate verification is strongly advised. See: https://urllib3.readthedocs.io/en/latest/advanced-usage.html#tls-warnings\n",
      "  warnings.warn(\n"
     ]
    },
    {
     "name": "stdout",
     "output_type": "stream",
     "text": [
      "Message sent to Microsoft Teams successfully!\n"
     ]
    }
   ],
   "source": [
    "import oracledb\n",
    "import requests\n",
    "\n",
    "# Enable thick mode (uses Oracle Instant Client)\n",
    "oracledb.init_oracle_client(lib_dir=r\"C:\\oracle\\instantclient_21_15\")\n",
    "\n",
    "# Database connection details\n",
    "hostname = \"10.0.11.59\"\n",
    "port = 1521\n",
    "service_name = \"RMEDB\"\n",
    "username = \"RME_DEV\"\n",
    "password = \"PASS21RME\"\n",
    "\n",
    "# Microsoft Teams webhook URL\n",
    "teams_webhook_url = \"https://rowadmodern.webhook.office.com/webhookb2/84557fde-c0e1-457d-99d7-152442e5b0ac@7c9607e1-cd01-4c4f-a163-c7f2bb6284a4/IncomingWebhook/2ea28de8d34b417b8ded9774788916fd/24f28753-9c07-40e0-91b2-ea196c200a33/V2f9usIcwbZeFI--I8y4MnuI-SVjXJVlrVqccubKwdsIg1\"\n",
    "\n",
    "try:\n",
    "    # Connect to the database\n",
    "    dsn = oracledb.makedsn(hostname, port, service_name=service_name)\n",
    "    connection = oracledb.connect(user=username, password=password, dsn=dsn)\n",
    "    print(\"Connected to the database!\")\n",
    "\n",
    "    # Create a cursor\n",
    "    cursor = connection.cursor()\n",
    "\n",
    "    # Query to get the latest 2 receipt dates with filtering conditions\n",
    "    query = \"\"\"\n",
    "    SELECT TO_CHAR(acr.RECEIPT_DATE, 'YYYY-MM-DD') AS receipt_date,\n",
    "           TRUNC(acr.amount * NVL(acr.exchange_rate, 1)) AS Recipt_amount_EGP,\n",
    "           acr.comments\n",
    "    FROM AR_CASH_RECEIPTS_ALL acr\n",
    "    WHERE acr.ATTRIBUTE_CATEGORY = '83'\n",
    "      AND acr.ATTRIBUTE1 IS NOT NULL\n",
    "      AND acr.ATTRIBUTE2 != 'Manual/Netting'\n",
    "    ORDER BY acr.RECEIPT_DATE DESC\n",
    "    FETCH FIRST 2 ROWS ONLY\n",
    "    \"\"\"\n",
    "\n",
    "    # Execute the query\n",
    "    cursor.execute(query)\n",
    "    results = cursor.fetchall()\n",
    "\n",
    "    # Process the results to create the sentences\n",
    "    sentences = []\n",
    "    for row in results:\n",
    "        receipt_date = row[0]  # Already formatted as YYYY-MM-DD\n",
    "        amount_egp = f\"{int(row[1]):,}\"  # Format the amount with commas and no decimals\n",
    "        comment = row[2]\n",
    "        sentences.append(\n",
    "            f\"On {receipt_date}, a cash-in of {amount_egp} EGP was recorded with the comment: '{comment}'.\"\n",
    "        )\n",
    "\n",
    "    # Combine sentences into a single message\n",
    "    message = \"\\n\".join(sentences)\n",
    "    print(message)\n",
    "\n",
    "    # Send the message to Microsoft Teams (SSL verification bypassed here)\n",
    "    payload = {\"text\": message}\n",
    "    response = requests.post(teams_webhook_url, json=payload, verify=False)\n",
    "\n",
    "    # Check if the message was sent successfully\n",
    "    if response.status_code == 200:\n",
    "        print(\"Message sent to Microsoft Teams successfully!\")\n",
    "    else:\n",
    "        print(f\"Failed to send message. Status code: {response.status_code}, Response: {response.text}\")\n",
    "\n",
    "except oracledb.Error as error:\n",
    "    print(f\"Error connecting to database: {error}\")\n",
    "\n",
    "finally:\n",
    "    # Close the cursor and connection\n",
    "    if cursor:\n",
    "        cursor.close()\n",
    "    if connection:\n",
    "        connection.close()\n"
   ]
  }
 ],
 "metadata": {
  "kernelspec": {
   "display_name": "Python 3",
   "language": "python",
   "name": "python3"
  },
  "language_info": {
   "codemirror_mode": {
    "name": "ipython",
    "version": 3
   },
   "file_extension": ".py",
   "mimetype": "text/x-python",
   "name": "python",
   "nbconvert_exporter": "python",
   "pygments_lexer": "ipython3",
   "version": "3.12.4"
  }
 },
 "nbformat": 4,
 "nbformat_minor": 2
}
