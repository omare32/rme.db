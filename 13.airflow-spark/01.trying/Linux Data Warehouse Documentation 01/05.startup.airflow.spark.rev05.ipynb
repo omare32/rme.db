{
 "cells": [
  {
   "cell_type": "code",
   "execution_count": null,
   "metadata": {},
   "outputs": [],
   "source": [
    "import paramiko\n",
    "\n",
    "# SSH details\n",
    "host = \"10.10.11.242\"\n",
    "username = \"PMO\"\n",
    "password = \"PMO@1234\"\n",
    "sudo_password = \"PMO@1234\"\n",
    "\n",
    "# Commands to run on the server\n",
    "commands = [\n",
    "    \"cd ~/airflow\",\n",
    "    \"source airflow/venv/bin/activate && airflow db migrate\",\n",
    "    \"source airflow/venv/bin/activate && airflow webserver -D\",\n",
    "    \"source airflow/venv/bin/activate && airflow scheduler -D\",\n",
    "    f\"echo {sudo_password} | sudo -S /opt/spark/sbin/start-master.sh -i 10.10.11.242 --webui-port 8080\",\n",
    "    f\"echo {sudo_password} | sudo -S /opt/spark/sbin/start-worker.sh spark://10.10.11.242:7077\",\n",
    "    f\"echo {sudo_password} | sudo -S jps\"\n",
    "]\n",
    "\n",
    "\n",
    "def execute_ssh_commands(host, username, password, commands):\n",
    "    try:\n",
    "        # Create SSH client\n",
    "        client = paramiko.SSHClient()\n",
    "        client.set_missing_host_key_policy(paramiko.AutoAddPolicy())\n",
    "\n",
    "        # Connect to the server\n",
    "        print(f\"Connecting to {host}...\")\n",
    "        client.connect(hostname=host, username=username, password=password)\n",
    "\n",
    "        # Execute each command\n",
    "        for command in commands:\n",
    "            print(f\"Executing: {command}\")\n",
    "            stdin, stdout, stderr = client.exec_command(command)\n",
    "            print(stdout.read().decode())\n",
    "            print(stderr.read().decode())\n",
    "\n",
    "        # Close the connection\n",
    "        client.close()\n",
    "        print(\"All commands executed successfully.\")\n",
    "\n",
    "    except Exception as e:\n",
    "        print(f\"Error: {e}\")\n",
    "\n",
    "# Run the function\n",
    "execute_ssh_commands(host, username, password, commands)\n"
   ]
  }
 ],
 "metadata": {
  "kernelspec": {
   "display_name": "Python 3",
   "language": "python",
   "name": "python3"
  },
  "language_info": {
   "codemirror_mode": {
    "name": "ipython",
    "version": 3
   },
   "file_extension": ".py",
   "mimetype": "text/x-python",
   "name": "python",
   "nbconvert_exporter": "python",
   "pygments_lexer": "ipython3",
   "version": "3.12.5"
  }
 },
 "nbformat": 4,
 "nbformat_minor": 2
}
