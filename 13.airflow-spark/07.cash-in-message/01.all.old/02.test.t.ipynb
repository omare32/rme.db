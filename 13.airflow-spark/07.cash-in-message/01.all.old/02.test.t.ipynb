{
 "cells": [
  {
   "cell_type": "code",
   "execution_count": null,
   "metadata": {},
   "outputs": [
    {
     "name": "stdout",
     "output_type": "stream",
     "text": [
      "✅ Message sent to whatsapp:+201128484442: SID SM100604859112ef043b3b667c0e081df5\n",
      "✅ Message sent to whatsapp:+201093443708: SID SMcb0f9b3006718a5582b8c677de4becb7\n",
      "✅ Message sent to whatsapp:+201286177055: SID SM7f29eba229bb6330bc0264e258d8f4be\n",
      "✅ Message sent to whatsapp:+201286868419: SID SMbf27ca151b545d344dfcfd36db0ce052\n"
     ]
    }
   ],
   "source": [
    "#⏳\n",
    "\n",
    "import os\n",
    "import requests\n",
    "from twilio.rest import Client\n",
    "from requests.packages.urllib3.exceptions import InsecureRequestWarning\n",
    "import ssl\n",
    "\n",
    "# 🚨 Disable SSL certificate verification warnings\n",
    "requests.packages.urllib3.disable_warnings(InsecureRequestWarning)\n",
    "\n",
    "# Twilio Credentials (Replace with your own)\n",
    "TWILIO_ACCOUNT_SID = \"AC249bd7ddb87e51ebbbec32eaa5805fc2\"\n",
    "TWILIO_AUTH_TOKEN = \"36375c546fb0b3953a4dda7ce2e5f6f9\"\n",
    "TWILIO_WHATSAPP_NUMBER = \"whatsapp:+14155238886\"  # Twilio's sandbox WhatsApp number\n",
    "\n",
    "# List of recipients (Make sure these numbers are registered with Twilio's sandbox for testing)\n",
    "recipients = [\n",
    "    \"whatsapp:+201128484442\",\n",
    "    \"whatsapp:+201093443708\",\n",
    "    \"whatsapp:+201286177055\",\n",
    "    \"whatsapp:+201286868419\"\n",
    "]\n",
    "\n",
    "# Message to send\n",
    "message = \"bagarab api\"\n",
    "\n",
    "# ✅ Force requests to bypass SSL verification\n",
    "session = requests.Session()\n",
    "session.verify = False  # Ignore SSL verification\n",
    "\n",
    "# Monkey patch Twilio's HTTP Client to bypass SSL verification\n",
    "from twilio.http.http_client import TwilioHttpClient\n",
    "http_client = TwilioHttpClient()\n",
    "http_client.session.verify = False\n",
    "\n",
    "# Initialize Twilio Client with SSL-bypassed HTTP client\n",
    "client = Client(TWILIO_ACCOUNT_SID, TWILIO_AUTH_TOKEN, http_client=http_client)\n",
    "\n",
    "# Send WhatsApp messages\n",
    "for recipient in recipients:\n",
    "    try:\n",
    "        msg = client.messages.create(\n",
    "            from_=TWILIO_WHATSAPP_NUMBER,\n",
    "            body=message,\n",
    "            to=recipient\n",
    "        )\n",
    "        print(f\"✅ Message sent to {recipient}: SID {msg.sid}\")\n",
    "\n",
    "    except Exception as e:\n",
    "        print(f\"❌ Error sending WhatsApp message to {recipient}: {e}\")\n"
   ]
  }
 ],
 "metadata": {
  "kernelspec": {
   "display_name": "Python 3",
   "language": "python",
   "name": "python3"
  },
  "language_info": {
   "codemirror_mode": {
    "name": "ipython",
    "version": 3
   },
   "file_extension": ".py",
   "mimetype": "text/x-python",
   "name": "python",
   "nbconvert_exporter": "python",
   "pygments_lexer": "ipython3",
   "version": "3.12.4"
  }
 },
 "nbformat": 4,
 "nbformat_minor": 2
}
