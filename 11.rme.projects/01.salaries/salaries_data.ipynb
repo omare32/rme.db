{
 "cells": [
  {
   "cell_type": "code",
   "execution_count": 5,
   "metadata": {},
   "outputs": [
    {
     "name": "stdout",
     "output_type": "stream",
     "text": [
      "       month                 project     amount\n",
      "0 2015-11-01               Equipment   91446.06\n",
      "1 2015-11-01  Procurement Department  161983.17\n",
      "2 2015-11-01          Administration  105386.33\n",
      "3 2015-11-01                  Stores   22338.38\n",
      "4 2015-11-01         Human Resources   56122.06\n"
     ]
    }
   ],
   "source": [
    "import pandas as pd\n",
    "\n",
    "# Specify the file path\n",
    "file_path = \"Salaries RME (Nov-15 To Sep-23).xlsx\"\n",
    "\n",
    "# Read the Excel file into a Pandas DataFrame\n",
    "df = pd.read_excel(file_path)\n",
    "\n",
    "# Display the first few rows of the DataFrame to check the data\n",
    "print(df.head())"
   ]
  },
  {
   "cell_type": "code",
   "execution_count": 6,
   "metadata": {},
   "outputs": [
    {
     "name": "stdout",
     "output_type": "stream",
     "text": [
      "Project salary totals saved to Project_Salary_Totals.xlsx\n"
     ]
    }
   ],
   "source": [
    "# Group the data by the 'project' column and sum the 'amount' for each project\n",
    "project_totals = df.groupby('project')['amount'].sum().reset_index()\n",
    "\n",
    "# Specify the output Excel file path\n",
    "output_file = \"Project_Salary_Totals.xlsx\"\n",
    "\n",
    "# Save the project totals to a new Excel file\n",
    "project_totals.to_excel(output_file, index=False)\n",
    "\n",
    "print(\"Project salary totals saved to\", output_file)"
   ]
  },
  {
   "cell_type": "code",
   "execution_count": 7,
   "metadata": {},
   "outputs": [],
   "source": [
    "import dash\n",
    "from dash import dcc, html\n",
    "from dash.dependencies import Input, Output\n",
    "import plotly.express as px"
   ]
  },
  {
   "cell_type": "code",
   "execution_count": 13,
   "metadata": {},
   "outputs": [
    {
     "data": {
      "text/html": [
       "\n",
       "        <iframe\n",
       "            width=\"100%\"\n",
       "            height=\"650\"\n",
       "            src=\"http://127.0.0.1:8050/\"\n",
       "            frameborder=\"0\"\n",
       "            allowfullscreen\n",
       "            \n",
       "        ></iframe>\n",
       "        "
      ],
      "text/plain": [
       "<IPython.lib.display.IFrame at 0x184effd0ad0>"
      ]
     },
     "metadata": {},
     "output_type": "display_data"
    }
   ],
   "source": [
    "# Initialize the Dash app\n",
    "app = dash.Dash(__name__)\n",
    "\n",
    "# Define a function to calculate the total salary amount for a selected project\n",
    "def calculate_total_salary(selected_project):\n",
    "    filtered_df = df[df['project'] == selected_project]\n",
    "    total_salary = filtered_df['amount'].sum()\n",
    "    return total_salary\n",
    "\n",
    "# Define a function to get the amount of the latest month for a selected project\n",
    "def get_latest_month_amount(selected_project):\n",
    "    filtered_df = df[df['project'] == selected_project]\n",
    "    latest_month = filtered_df['month'].max()\n",
    "    latest_amount = filtered_df[filtered_df['month'] == latest_month]['amount'].values[0]\n",
    "    return latest_amount\n",
    "\n",
    "# Define the layout of the web app\n",
    "app.layout = html.Div([\n",
    "    dcc.Dropdown(\n",
    "        id='project-dropdown',\n",
    "        options=[{'label': project, 'value': project} for project in df['project'].unique()],\n",
    "        value=df['project'].unique()[0]\n",
    "    ),\n",
    "    html.Div([\n",
    "        html.Div(id='total-salary-text', style={'fontSize': 24, 'fontWeight': 'bold', 'textAlign': 'center'}),\n",
    "        html.Div(id='latest-month-amount-text', style={'fontSize': 18, 'fontWeight': 'bold', 'textAlign': 'center'}),\n",
    "    ]),\n",
    "    dcc.Graph(id='salary-line-plot')\n",
    "])\n",
    "\n",
    "# Define the callback to update the plot and total salary text based on the selected project\n",
    "@app.callback(\n",
    "    [Output('salary-line-plot', 'figure'),\n",
    "     Output('total-salary-text', 'children'),\n",
    "     Output('latest-month-amount-text', 'children')],\n",
    "    Input('project-dropdown', 'value')\n",
    ")\n",
    "def update_graph(selected_project):\n",
    "    filtered_df = df[df['project'] == selected_project]\n",
    "    total_salary = calculate_total_salary(selected_project)\n",
    "    latest_month_amount = get_latest_month_amount(selected_project)\n",
    "    fig = px.line(filtered_df, x='month', y='amount', title=f'Salaries for {selected_project}')\n",
    "    total_salary_text = f\"Total Salary for {selected_project}: {total_salary:,.2f} EGP\"\n",
    "    latest_month_amount_text = f\"Amount for Latest Month: {latest_month_amount:,.2f} EGP\"\n",
    "    return fig, total_salary_text, latest_month_amount_text\n",
    "\n",
    "if __name__ == '__main__':\n",
    "    app.run_server(debug=True)"
   ]
  }
 ],
 "metadata": {
  "kernelspec": {
   "display_name": "Python 3",
   "language": "python",
   "name": "python3"
  },
  "language_info": {
   "codemirror_mode": {
    "name": "ipython",
    "version": 3
   },
   "file_extension": ".py",
   "mimetype": "text/x-python",
   "name": "python",
   "nbconvert_exporter": "python",
   "pygments_lexer": "ipython3",
   "version": "3.11.0"
  }
 },
 "nbformat": 4,
 "nbformat_minor": 2
}
