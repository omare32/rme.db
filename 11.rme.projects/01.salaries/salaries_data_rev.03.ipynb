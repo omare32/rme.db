{
 "cells": [
  {
   "cell_type": "code",
   "execution_count": 1,
   "metadata": {},
   "outputs": [],
   "source": [
    "import pandas as pd\n",
    "import dash\n",
    "from dash import dcc, html\n",
    "from dash.dependencies import Input, Output\n",
    "import plotly.express as px\n",
    "import weasyprint\n",
    "from weasyprint import CSS"
   ]
  },
  {
   "cell_type": "code",
   "execution_count": 2,
   "metadata": {},
   "outputs": [],
   "source": [
    "# Specify the file path\n",
    "file_path = \"Salaries RME (Nov-15 To Sep-23).xlsx\"\n",
    "\n",
    "# Read the Excel file into a Pandas DataFrame\n",
    "df = pd.read_excel(file_path)"
   ]
  },
  {
   "cell_type": "code",
   "execution_count": 3,
   "metadata": {},
   "outputs": [],
   "source": [
    "# Group the data by the 'project' column and sum the 'amount' for each project\n",
    "project_totals = df.groupby('project')['amount'].sum().reset_index()\n",
    "\n",
    "# Specify the output Excel file path\n",
    "output_file = \"Project_Salary_Totals.xlsx\"\n",
    "\n",
    "# Save the project totals to a new Excel file\n",
    "project_totals.to_excel(output_file, index=False)"
   ]
  },
  {
   "cell_type": "code",
   "execution_count": 4,
   "metadata": {},
   "outputs": [],
   "source": [
    "# Initialize the Dash app\n",
    "app = dash.Dash(__name__)\n",
    "\n",
    "# Define a function to calculate the total salary amount for a selected project\n",
    "def calculate_total_salary(selected_project):\n",
    "    filtered_df = df[df['project'] == selected_project]\n",
    "    total_salary = filtered_df['amount'].sum()\n",
    "    return total_salary"
   ]
  },
  {
   "cell_type": "code",
   "execution_count": 8,
   "metadata": {},
   "outputs": [],
   "source": [
    "# Define a function to get the amount of the latest month for a selected project\n",
    "def get_latest_month_amount(selected_project):\n",
    "    filtered_df = df[df['project'] == selected_project]\n",
    "    \n",
    "    if filtered_df.empty:\n",
    "        # Handle the case where there is no data for the selected project\n",
    "        return None\n",
    "    \n",
    "    latest_month = filtered_df['month'].max()\n",
    "    \n",
    "    if pd.notna(latest_month):\n",
    "        latest_amount = filtered_df[filtered_df['month'] == latest_month]['amount'].values[0]\n",
    "        return latest_amount\n",
    "    else:\n",
    "        # Handle the case where there is no data for the latest month\n",
    "        return None"
   ]
  },
  {
   "cell_type": "code",
   "execution_count": 9,
   "metadata": {},
   "outputs": [],
   "source": [
    "# Define the layout of the web app\n",
    "app.layout = html.Div([\n",
    "    dcc.Dropdown(\n",
    "        id='project-dropdown',\n",
    "        options=[{'label': project, 'value': project} for project in df['project'].unique()],\n",
    "        value='All Projects'  # Set the default value to 'All Projects'\n",
    "    ),\n",
    "    html.Div([\n",
    "        html.Div(id='total-salary-text', style={'fontSize': 24, 'fontWeight': 'bold', 'textAlign': 'center'}),\n",
    "        html.Div(id='latest-month-amount-text', style={'fontSize': 18, 'fontWeight': 'bold', 'textAlign': 'center'}),\n",
    "    ]),\n",
    "    dcc.Graph(id='salary-line-plot')\n",
    "])\n"
   ]
  },
  {
   "cell_type": "code",
   "execution_count": null,
   "metadata": {},
   "outputs": [],
   "source": [
    "# Define the callback to update the plot and total salary text based on the selected project\n",
    "@app.callback(\n",
    "    [Output('salary-line-plot', 'figure'),\n",
    "     Output('total-salary-text', 'children'),\n",
    "     Output('latest-month-amount-text', 'children')],\n",
    "    Input('project-dropdown', 'value')\n",
    ")\n",
    "def update_graph(selected_project):\n",
    "    if selected_project == 'All Projects':\n",
    "        # Calculate the total salary for all projects\n",
    "        total_salary = df['amount'].sum()\n",
    "        filtered_df = df\n",
    "    else:\n",
    "        # Calculate the total salary for the selected project\n",
    "        filtered_df = df[df['project'] == selected_project]\n",
    "        total_salary = calculate_total_salary(selected_project)\n",
    "        \n",
    "    latest_month_amount = get_latest_month_amount(selected_project)\n",
    "    fig = px.line(filtered_df, x='month', y='amount', title=f'Salaries for {selected_project}')\n",
    "    \n",
    "    total_salary_text = f\"Total Salary: {total_salary:,.2f} EGP\"\n",
    "    \n",
    "    if latest_month_amount is not None:\n",
    "        latest_month_amount_text = f\"Amount for Latest Month: {latest_month_amount:,.2f} EGP\"\n",
    "    else:\n",
    "        latest_month_amount_text = \"No data available for the latest month.\"\n",
    "    \n",
    "    return fig, total_salary_text, latest_month_amount_text\n",
    "\n",
    "if __name__ == '__main__':\n",
    "    # Read the Excel file into a Pandas DataFrame\n",
    "    df = pd.read_excel(\"Salaries RME (Nov-15 To Sep-23).xlsx\")\n",
    "\n",
    "    # Run the Dash app locally\n",
    "    app.run_server(debug=True)"
   ]
  }
 ],
 "metadata": {
  "kernelspec": {
   "display_name": "Python 3",
   "language": "python",
   "name": "python3"
  },
  "language_info": {
   "codemirror_mode": {
    "name": "ipython",
    "version": 3
   },
   "file_extension": ".py",
   "mimetype": "text/x-python",
   "name": "python",
   "nbconvert_exporter": "python",
   "pygments_lexer": "ipython3",
   "version": "3.11.0"
  }
 },
 "nbformat": 4,
 "nbformat_minor": 2
}
