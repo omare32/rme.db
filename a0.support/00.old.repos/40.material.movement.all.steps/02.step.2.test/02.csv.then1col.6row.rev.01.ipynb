{
 "cells": [
  {
   "cell_type": "code",
   "execution_count": 3,
   "metadata": {
    "collapsed": true,
    "ExecuteTime": {
     "end_time": "2023-06-17T08:52:11.557116500Z",
     "start_time": "2023-06-17T08:52:11.487635100Z"
    }
   },
   "outputs": [
    {
     "ename": "TypeError",
     "evalue": "read_excel() got an unexpected keyword argument 'encoding'",
     "output_type": "error",
     "traceback": [
      "\u001B[1;31m---------------------------------------------------------------------------\u001B[0m",
      "\u001B[1;31mTypeError\u001B[0m                                 Traceback (most recent call last)",
      "Cell \u001B[1;32mIn[3], line 11\u001B[0m\n\u001B[0;32m      7\u001B[0m \u001B[38;5;66;03m# Loop over the XLSX files\u001B[39;00m\n\u001B[0;32m      8\u001B[0m \u001B[38;5;28;01mfor\u001B[39;00m excel_file \u001B[38;5;129;01min\u001B[39;00m excel_files:\n\u001B[0;32m      9\u001B[0m \n\u001B[0;32m     10\u001B[0m     \u001B[38;5;66;03m# Import the Excel file\u001B[39;00m\n\u001B[1;32m---> 11\u001B[0m     df \u001B[38;5;241m=\u001B[39m \u001B[43mpd\u001B[49m\u001B[38;5;241;43m.\u001B[39;49m\u001B[43mread_excel\u001B[49m\u001B[43m(\u001B[49m\u001B[43mexcel_file\u001B[49m\u001B[43m,\u001B[49m\u001B[43m \u001B[49m\u001B[43mencoding\u001B[49m\u001B[38;5;241;43m=\u001B[39;49m\u001B[38;5;124;43m\"\u001B[39;49m\u001B[38;5;124;43mutf-8\u001B[39;49m\u001B[38;5;124;43m\"\u001B[39;49m\u001B[43m)\u001B[49m\n\u001B[0;32m     13\u001B[0m     \u001B[38;5;66;03m# Convert the DataFrame to CSV\u001B[39;00m\n\u001B[0;32m     14\u001B[0m     csv_file \u001B[38;5;241m=\u001B[39m excel_file\u001B[38;5;241m.\u001B[39msplit(\u001B[38;5;124m\"\u001B[39m\u001B[38;5;124m.\u001B[39m\u001B[38;5;124m\"\u001B[39m)[\u001B[38;5;241m0\u001B[39m] \u001B[38;5;241m+\u001B[39m \u001B[38;5;124m\"\u001B[39m\u001B[38;5;124m.csv\u001B[39m\u001B[38;5;124m\"\u001B[39m\n",
      "\u001B[1;31mTypeError\u001B[0m: read_excel() got an unexpected keyword argument 'encoding'"
     ]
    }
   ],
   "source": [
    "import glob\n",
    "import pandas as pd\n",
    "\n",
    "# Find all XLSX files in the current directory\n",
    "excel_files = glob.glob(\"*.xlsx\")\n",
    "\n",
    "# Loop over the XLSX files\n",
    "for excel_file in excel_files:\n",
    "\n",
    "    # Import the Excel file\n",
    "    df = pd.read_excel(excel_file, encoding=\"utf-8\")\n",
    "\n",
    "    # Convert the DataFrame to CSV\n",
    "    csv_file = excel_file.split(\".\")[0] + \".csv\"\n",
    "    df.to_csv(csv_file)\n",
    "\n",
    "    print(\"Successfully converted \" + excel_file + \" to \" + csv_file)"
   ]
  },
  {
   "cell_type": "code",
   "execution_count": null,
   "outputs": [],
   "source": [],
   "metadata": {
    "collapsed": false
   }
  }
 ],
 "metadata": {
  "kernelspec": {
   "display_name": "Python 3",
   "language": "python",
   "name": "python3"
  },
  "language_info": {
   "codemirror_mode": {
    "name": "ipython",
    "version": 2
   },
   "file_extension": ".py",
   "mimetype": "text/x-python",
   "name": "python",
   "nbconvert_exporter": "python",
   "pygments_lexer": "ipython2",
   "version": "2.7.6"
  }
 },
 "nbformat": 4,
 "nbformat_minor": 0
}
