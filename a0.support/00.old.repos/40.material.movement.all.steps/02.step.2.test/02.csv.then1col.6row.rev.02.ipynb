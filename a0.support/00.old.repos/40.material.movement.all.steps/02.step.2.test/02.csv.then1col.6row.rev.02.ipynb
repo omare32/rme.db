{
 "cells": [
  {
   "cell_type": "code",
   "execution_count": 17,
   "metadata": {
    "collapsed": true,
    "ExecuteTime": {
     "end_time": "2023-06-17T09:15:50.783991300Z",
     "start_time": "2023-06-17T09:15:48.542413400Z"
    }
   },
   "outputs": [],
   "source": [
    "import os\n",
    "import pandas as pd\n",
    "\n",
    "def read_excel_with_utf8_and_save_as_csv(file_path):\n",
    "    \"\"\"\n",
    "    Reads an Excel file, adds the `utf8` attribute, and saves the Excel file as a CSV file.\n",
    "\n",
    "    Args:\n",
    "        file_path (str): The path to the Excel file.\n",
    "\n",
    "    Returns:\n",
    "        pandas.DataFrame: The DataFrame containing the Excel data.\n",
    "    \"\"\"\n",
    "\n",
    "    df = pd.read_excel(file_path)\n",
    "    df.attrs[\"encoding\"] = \"utf-8\"\n",
    "    csv_file_path = file_path.split(\".\")[0] + \".csv\"\n",
    "    df.to_csv(csv_file_path)\n",
    "    return df\n",
    "\n",
    "\n",
    "for file in os.listdir():\n",
    "    if file.endswith(\".xlsx\"):\n",
    "        file_path = os.path.join(os.getcwd(), file)\n",
    "        df = read_excel_with_utf8_and_save_as_csv(file_path)\n",
    "        csv_file_path = \"my_data.csv\"\n",
    "        df.to_csv(csv_file_path, encoding=\"utf-8\")"
   ]
  },
  {
   "cell_type": "code",
   "execution_count": null,
   "outputs": [],
   "source": [],
   "metadata": {
    "collapsed": false
   }
  }
 ],
 "metadata": {
  "kernelspec": {
   "display_name": "Python 3",
   "language": "python",
   "name": "python3"
  },
  "language_info": {
   "codemirror_mode": {
    "name": "ipython",
    "version": 2
   },
   "file_extension": ".py",
   "mimetype": "text/x-python",
   "name": "python",
   "nbconvert_exporter": "python",
   "pygments_lexer": "ipython2",
   "version": "2.7.6"
  }
 },
 "nbformat": 4,
 "nbformat_minor": 0
}
