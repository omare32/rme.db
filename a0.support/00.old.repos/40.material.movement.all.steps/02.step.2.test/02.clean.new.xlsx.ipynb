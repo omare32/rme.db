{
 "cells": [
  {
   "cell_type": "code",
   "execution_count": 6,
   "metadata": {
    "collapsed": true,
    "ExecuteTime": {
     "end_time": "2023-06-17T09:22:14.854129900Z",
     "start_time": "2023-06-17T09:22:10.650798Z"
    }
   },
   "outputs": [],
   "source": [
    "import os\n",
    "import pandas as pd\n",
    "\n",
    "def read_and_save_excel_files(directory):\n",
    "    \"\"\"\n",
    "    Read all Excel files in a directory and save them as DataFrames.\n",
    "\n",
    "    Args:\n",
    "        directory (str): The path to the directory containing the Excel files.\n",
    "    \"\"\"\n",
    "\n",
    "    for file in os.listdir(directory):\n",
    "        if file.endswith(\".xlsx\"):\n",
    "            file_path = os.path.join(directory, file)\n",
    "            df = pd.read_excel(file_path)\n",
    "            df.to_excel(file_path.split(\".\")[0] + \"_df.xlsx\")\n",
    "\n",
    "    # Create a new Excel file and save the DataFrame.\n",
    "    new_file_path = os.path.join(directory, \"new_file.xlsx\")\n",
    "    df.to_excel(new_file_path)\n",
    "\n",
    "\n",
    "if __name__ == \"__main__\":\n",
    "    directory = os.getcwd()\n",
    "    read_and_save_excel_files(directory)"
   ]
  },
  {
   "cell_type": "code",
   "execution_count": 7,
   "outputs": [
    {
     "data": {
      "text/plain": "            Item Code\\n                                        Item Desc\\n  \\\n0       ZC03001372   \\n                                بريزة خارج الحائط\\n   \n1       ZC03001366   \\n                          لاكور ماسورة 1 بوصة EMT\\n   \n2       ZC01003004   \\n                     كارت فحص دورى لطفايات الحريق\\n   \n3       ZC03001365   \\n              لاكور ماسورة على فلكسبيل 1 بوصة EMT\\n   \n4       ZC01003003   \\n                                        مثلث عاكس\\n   \n...                 ...                                                ...   \n5067  150010000001   \\n                              حديد تسليح قطر 10مم\\n   \n5068  030010000096   \\n            أدابتور UPVC لماسورة 20مم(اللون أبيض)\\n   \n5069  100100000070   \\n  خرسانة مسلحة جهد 400 كجم/ سم2 محتوى اسمنت عادى...   \n5070  100100000073   \\n  خرسانة جهدد 450 كجم/ سم2 بمحتوى اسمنت 500 كجم ...   \n5071     Total Amount\\n                                          988,267\\n   \n\n      Uom\\n                     From\\n To\\n             Project\\n  \\\n0     ECH\\n  El Khatatba Bridge-0143\\n  NaN  El Khatatba Bridge\\n   \n1     ECH\\n  El Khatatba Bridge-0143\\n  NaN  El Khatatba Bridge\\n   \n2     ECH\\n  El Khatatba Bridge-0143\\n  NaN  El Khatatba Bridge\\n   \n3     ECH\\n  El Khatatba Bridge-0143\\n  NaN  El Khatatba Bridge\\n   \n4     ECH\\n  El Khatatba Bridge-0143\\n  NaN  El Khatatba Bridge\\n   \n...     ...                        ...  ...                   ...   \n5067  TON\\n                        NaN  NaN                   NaN   \n5068  ECH\\n                        NaN  NaN                   NaN   \n5069  CBM\\n                        NaN  NaN                   NaN   \n5070  CBM\\n                        NaN  NaN                   NaN   \n5071    NaN                        NaN  NaN                   NaN   \n\n     Project Num\\n    Trx Id\\n   Exp id\\n \\nTask Num\\n  ...  \\\n0           0143\\n  47336739.0        NaN      SE-19\\n  ...   \n1           0143\\n  50612566.0        NaN      SE-19\\n  ...   \n2           0143\\n  58920590.0        NaN      SE-19\\n  ...   \n3           0143\\n  50612565.0        NaN      SE-19\\n  ...   \n4           0143\\n  61735684.0        NaN      SE-19\\n  ...   \n...            ...         ...        ...          ...  ...   \n5067            \\n  46180017.0  2112866.0          NaN  ...   \n5068            \\n  46180018.0  2149365.0          NaN  ...   \n5069            \\n  47629462.0  2112968.0          NaN  ...   \n5070            \\n  47629463.0  2112969.0          NaN  ...   \n5071           NaN         NaN        NaN          NaN  ...   \n\n                         Trx Type\\n Move Order Num\\n        Date\\n  \\\n0     Move Order Issue on Project\\n      RE3-23   \\n   28-DEC-21\\n   \n1     Move Order Issue on Project\\n      RE3-33   \\n   28-FEB-22\\n   \n2     Move Order Issue on Project\\n      RE3-81   \\n   25-DEC-22\\n   \n3     Move Order Issue on Project\\n      RE3-33   \\n   28-FEB-22\\n   \n4     Move Order Issue on Project\\n     RE3-100   \\n   08-MAY-23\\n   \n...                             ...              ...           ...   \n5067              RME Site Return\\n               \\n   09-DEC-21\\n   \n5068              RME Site Return\\n               \\n   09-DEC-21\\n   \n5069              RME Site Return\\n               \\n   09-JAN-22\\n   \n5070              RME Site Return\\n               \\n   09-JAN-22\\n   \n5071                            NaN              NaN           NaN   \n\n      Unit Cost\\n Quantities\\n Po Num\\n Total Amount\\n Project Area\\n  \\\n0          0.00\\n         -3.0      NaN            0\\n            NaN   \n1          0.00\\n         -5.0      NaN            0\\n            NaN   \n2          0.00\\n         -5.0      NaN            0\\n            NaN   \n3          0.00\\n        -10.0      NaN            0\\n            NaN   \n4          0.00\\n         -1.0      NaN            0\\n            NaN   \n...           ...          ...      ...            ...            ...   \n5067  14,500.00\\n          2.5      NaN       36,250\\n            NaN   \n5068       3.17\\n         15.0      NaN           48\\n            NaN   \n5069   1,122.90\\n         15.0      NaN       16,844\\n            NaN   \n5070   1,231.20\\n        149.0      NaN      183,449\\n            NaN   \n5071          NaN          NaN      NaN            NaN            NaN   \n\n      Issued Type\\n  Comment\\n  \n0        supplier\\n         \\n  \n1        supplier\\n         \\n  \n2               NaN         \\n  \n3        supplier\\n         \\n  \n4               NaN         \\n  \n...             ...        ...  \n5067            NaN         \\n  \n5068            NaN         \\n  \n5069            NaN         \\n  \n5070            NaN         \\n  \n5071            NaN        NaN  \n\n[5072 rows x 24 columns]",
      "text/html": "<div>\n<style scoped>\n    .dataframe tbody tr th:only-of-type {\n        vertical-align: middle;\n    }\n\n    .dataframe tbody tr th {\n        vertical-align: top;\n    }\n\n    .dataframe thead th {\n        text-align: right;\n    }\n</style>\n<table border=\"1\" class=\"dataframe\">\n  <thead>\n    <tr style=\"text-align: right;\">\n      <th></th>\n      <th>Item Code\\n</th>\n      <th>Item Desc\\n</th>\n      <th>Uom\\n</th>\n      <th>From\\n</th>\n      <th>To\\n</th>\n      <th>Project\\n</th>\n      <th>Project Num\\n</th>\n      <th>Trx Id\\n</th>\n      <th>Exp id\\n</th>\n      <th>\\nTask Num\\n</th>\n      <th>...</th>\n      <th>Trx Type\\n</th>\n      <th>Move Order Num\\n</th>\n      <th>Date\\n</th>\n      <th>Unit Cost\\n</th>\n      <th>Quantities\\n</th>\n      <th>Po Num\\n</th>\n      <th>Total Amount\\n</th>\n      <th>Project Area\\n</th>\n      <th>Issued Type\\n</th>\n      <th>Comment\\n</th>\n    </tr>\n  </thead>\n  <tbody>\n    <tr>\n      <th>0</th>\n      <td>ZC03001372   \\n</td>\n      <td>بريزة خارج الحائط\\n</td>\n      <td>ECH\\n</td>\n      <td>El Khatatba Bridge-0143\\n</td>\n      <td>NaN</td>\n      <td>El Khatatba Bridge\\n</td>\n      <td>0143\\n</td>\n      <td>47336739.0</td>\n      <td>NaN</td>\n      <td>SE-19\\n</td>\n      <td>...</td>\n      <td>Move Order Issue on Project\\n</td>\n      <td>RE3-23   \\n</td>\n      <td>28-DEC-21\\n</td>\n      <td>0.00\\n</td>\n      <td>-3.0</td>\n      <td>NaN</td>\n      <td>0\\n</td>\n      <td>NaN</td>\n      <td>supplier\\n</td>\n      <td>\\n</td>\n    </tr>\n    <tr>\n      <th>1</th>\n      <td>ZC03001366   \\n</td>\n      <td>لاكور ماسورة 1 بوصة EMT\\n</td>\n      <td>ECH\\n</td>\n      <td>El Khatatba Bridge-0143\\n</td>\n      <td>NaN</td>\n      <td>El Khatatba Bridge\\n</td>\n      <td>0143\\n</td>\n      <td>50612566.0</td>\n      <td>NaN</td>\n      <td>SE-19\\n</td>\n      <td>...</td>\n      <td>Move Order Issue on Project\\n</td>\n      <td>RE3-33   \\n</td>\n      <td>28-FEB-22\\n</td>\n      <td>0.00\\n</td>\n      <td>-5.0</td>\n      <td>NaN</td>\n      <td>0\\n</td>\n      <td>NaN</td>\n      <td>supplier\\n</td>\n      <td>\\n</td>\n    </tr>\n    <tr>\n      <th>2</th>\n      <td>ZC01003004   \\n</td>\n      <td>كارت فحص دورى لطفايات الحريق\\n</td>\n      <td>ECH\\n</td>\n      <td>El Khatatba Bridge-0143\\n</td>\n      <td>NaN</td>\n      <td>El Khatatba Bridge\\n</td>\n      <td>0143\\n</td>\n      <td>58920590.0</td>\n      <td>NaN</td>\n      <td>SE-19\\n</td>\n      <td>...</td>\n      <td>Move Order Issue on Project\\n</td>\n      <td>RE3-81   \\n</td>\n      <td>25-DEC-22\\n</td>\n      <td>0.00\\n</td>\n      <td>-5.0</td>\n      <td>NaN</td>\n      <td>0\\n</td>\n      <td>NaN</td>\n      <td>NaN</td>\n      <td>\\n</td>\n    </tr>\n    <tr>\n      <th>3</th>\n      <td>ZC03001365   \\n</td>\n      <td>لاكور ماسورة على فلكسبيل 1 بوصة EMT\\n</td>\n      <td>ECH\\n</td>\n      <td>El Khatatba Bridge-0143\\n</td>\n      <td>NaN</td>\n      <td>El Khatatba Bridge\\n</td>\n      <td>0143\\n</td>\n      <td>50612565.0</td>\n      <td>NaN</td>\n      <td>SE-19\\n</td>\n      <td>...</td>\n      <td>Move Order Issue on Project\\n</td>\n      <td>RE3-33   \\n</td>\n      <td>28-FEB-22\\n</td>\n      <td>0.00\\n</td>\n      <td>-10.0</td>\n      <td>NaN</td>\n      <td>0\\n</td>\n      <td>NaN</td>\n      <td>supplier\\n</td>\n      <td>\\n</td>\n    </tr>\n    <tr>\n      <th>4</th>\n      <td>ZC01003003   \\n</td>\n      <td>مثلث عاكس\\n</td>\n      <td>ECH\\n</td>\n      <td>El Khatatba Bridge-0143\\n</td>\n      <td>NaN</td>\n      <td>El Khatatba Bridge\\n</td>\n      <td>0143\\n</td>\n      <td>61735684.0</td>\n      <td>NaN</td>\n      <td>SE-19\\n</td>\n      <td>...</td>\n      <td>Move Order Issue on Project\\n</td>\n      <td>RE3-100   \\n</td>\n      <td>08-MAY-23\\n</td>\n      <td>0.00\\n</td>\n      <td>-1.0</td>\n      <td>NaN</td>\n      <td>0\\n</td>\n      <td>NaN</td>\n      <td>NaN</td>\n      <td>\\n</td>\n    </tr>\n    <tr>\n      <th>...</th>\n      <td>...</td>\n      <td>...</td>\n      <td>...</td>\n      <td>...</td>\n      <td>...</td>\n      <td>...</td>\n      <td>...</td>\n      <td>...</td>\n      <td>...</td>\n      <td>...</td>\n      <td>...</td>\n      <td>...</td>\n      <td>...</td>\n      <td>...</td>\n      <td>...</td>\n      <td>...</td>\n      <td>...</td>\n      <td>...</td>\n      <td>...</td>\n      <td>...</td>\n      <td>...</td>\n    </tr>\n    <tr>\n      <th>5067</th>\n      <td>150010000001   \\n</td>\n      <td>حديد تسليح قطر 10مم\\n</td>\n      <td>TON\\n</td>\n      <td>NaN</td>\n      <td>NaN</td>\n      <td>NaN</td>\n      <td>\\n</td>\n      <td>46180017.0</td>\n      <td>2112866.0</td>\n      <td>NaN</td>\n      <td>...</td>\n      <td>RME Site Return\\n</td>\n      <td>\\n</td>\n      <td>09-DEC-21\\n</td>\n      <td>14,500.00\\n</td>\n      <td>2.5</td>\n      <td>NaN</td>\n      <td>36,250\\n</td>\n      <td>NaN</td>\n      <td>NaN</td>\n      <td>\\n</td>\n    </tr>\n    <tr>\n      <th>5068</th>\n      <td>030010000096   \\n</td>\n      <td>أدابتور UPVC لماسورة 20مم(اللون أبيض)\\n</td>\n      <td>ECH\\n</td>\n      <td>NaN</td>\n      <td>NaN</td>\n      <td>NaN</td>\n      <td>\\n</td>\n      <td>46180018.0</td>\n      <td>2149365.0</td>\n      <td>NaN</td>\n      <td>...</td>\n      <td>RME Site Return\\n</td>\n      <td>\\n</td>\n      <td>09-DEC-21\\n</td>\n      <td>3.17\\n</td>\n      <td>15.0</td>\n      <td>NaN</td>\n      <td>48\\n</td>\n      <td>NaN</td>\n      <td>NaN</td>\n      <td>\\n</td>\n    </tr>\n    <tr>\n      <th>5069</th>\n      <td>100100000070   \\n</td>\n      <td>خرسانة مسلحة جهد 400 كجم/ سم2 محتوى اسمنت عادى...</td>\n      <td>CBM\\n</td>\n      <td>NaN</td>\n      <td>NaN</td>\n      <td>NaN</td>\n      <td>\\n</td>\n      <td>47629462.0</td>\n      <td>2112968.0</td>\n      <td>NaN</td>\n      <td>...</td>\n      <td>RME Site Return\\n</td>\n      <td>\\n</td>\n      <td>09-JAN-22\\n</td>\n      <td>1,122.90\\n</td>\n      <td>15.0</td>\n      <td>NaN</td>\n      <td>16,844\\n</td>\n      <td>NaN</td>\n      <td>NaN</td>\n      <td>\\n</td>\n    </tr>\n    <tr>\n      <th>5070</th>\n      <td>100100000073   \\n</td>\n      <td>خرسانة جهدد 450 كجم/ سم2 بمحتوى اسمنت 500 كجم ...</td>\n      <td>CBM\\n</td>\n      <td>NaN</td>\n      <td>NaN</td>\n      <td>NaN</td>\n      <td>\\n</td>\n      <td>47629463.0</td>\n      <td>2112969.0</td>\n      <td>NaN</td>\n      <td>...</td>\n      <td>RME Site Return\\n</td>\n      <td>\\n</td>\n      <td>09-JAN-22\\n</td>\n      <td>1,231.20\\n</td>\n      <td>149.0</td>\n      <td>NaN</td>\n      <td>183,449\\n</td>\n      <td>NaN</td>\n      <td>NaN</td>\n      <td>\\n</td>\n    </tr>\n    <tr>\n      <th>5071</th>\n      <td>Total Amount\\n</td>\n      <td>988,267\\n</td>\n      <td>NaN</td>\n      <td>NaN</td>\n      <td>NaN</td>\n      <td>NaN</td>\n      <td>NaN</td>\n      <td>NaN</td>\n      <td>NaN</td>\n      <td>NaN</td>\n      <td>...</td>\n      <td>NaN</td>\n      <td>NaN</td>\n      <td>NaN</td>\n      <td>NaN</td>\n      <td>NaN</td>\n      <td>NaN</td>\n      <td>NaN</td>\n      <td>NaN</td>\n      <td>NaN</td>\n      <td>NaN</td>\n    </tr>\n  </tbody>\n</table>\n<p>5072 rows × 24 columns</p>\n</div>"
     },
     "execution_count": 7,
     "metadata": {},
     "output_type": "execute_result"
    }
   ],
   "source": [
    "df"
   ],
   "metadata": {
    "collapsed": false,
    "ExecuteTime": {
     "end_time": "2023-06-17T09:22:30.400699500Z",
     "start_time": "2023-06-17T09:22:30.369716800Z"
    }
   }
  },
  {
   "cell_type": "code",
   "execution_count": 8,
   "outputs": [],
   "source": [
    "import os\n",
    "import pandas as pd\n",
    "\n",
    "def read_and_save_excel_files(directory):\n",
    "    \"\"\"\n",
    "    Read all Excel files in a directory and save them as DataFrames.\n",
    "\n",
    "    Args:\n",
    "        directory (str): The path to the directory containing the Excel files.\n",
    "    \"\"\"\n",
    "\n",
    "    for file in os.listdir(directory):\n",
    "        if file.endswith(\".xlsx\"):\n",
    "            file_path = os.path.join(directory, file)\n",
    "            df = pd.read_excel(file_path)\n",
    "            df.to_excel(file_path.split(\".\")[0] + \"_df.xlsx\")\n",
    "\n",
    "    # Create a new Excel file and save the DataFrame.\n",
    "    new_file_path = os.path.join(directory, file.split(\".\")[0] + \"_new.xlsx\")\n",
    "    df.to_excel(new_file_path)\n",
    "\n",
    "\n",
    "if __name__ == \"__main__\":\n",
    "    directory = os.getcwd()\n",
    "    read_and_save_excel_files(directory)"
   ],
   "metadata": {
    "collapsed": false,
    "ExecuteTime": {
     "end_time": "2023-06-17T09:24:06.235592900Z",
     "start_time": "2023-06-17T09:24:01.221942100Z"
    }
   }
  },
  {
   "cell_type": "code",
   "execution_count": null,
   "outputs": [],
   "source": [],
   "metadata": {
    "collapsed": false
   }
  }
 ],
 "metadata": {
  "kernelspec": {
   "display_name": "Python 3",
   "language": "python",
   "name": "python3"
  },
  "language_info": {
   "codemirror_mode": {
    "name": "ipython",
    "version": 2
   },
   "file_extension": ".py",
   "mimetype": "text/x-python",
   "name": "python",
   "nbconvert_exporter": "python",
   "pygments_lexer": "ipython2",
   "version": "2.7.6"
  }
 },
 "nbformat": 4,
 "nbformat_minor": 0
}
