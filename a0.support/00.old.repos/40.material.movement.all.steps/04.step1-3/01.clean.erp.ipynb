{
 "cells": [
  {
   "cell_type": "code",
   "execution_count": 1,
   "metadata": {
    "collapsed": true,
    "ExecuteTime": {
     "end_time": "2023-07-19T09:02:46.994913600Z",
     "start_time": "2023-07-19T09:02:46.459199500Z"
    }
   },
   "outputs": [],
   "source": [
    "import os\n",
    "import pandas as pd\n",
    "from bs4 import BeautifulSoup\n",
    "import xlsxwriter"
   ]
  },
  {
   "cell_type": "code",
   "execution_count": 2,
   "outputs": [],
   "source": [
    "# Get all .xls files in the current directory\n",
    "xls_files = [file for file in os.listdir() if file.endswith(\".xls\")]"
   ],
   "metadata": {
    "collapsed": false,
    "ExecuteTime": {
     "end_time": "2023-07-19T09:02:47.009922800Z",
     "start_time": "2023-07-19T09:02:47.008104100Z"
    }
   }
  },
  {
   "cell_type": "code",
   "execution_count": 3,
   "outputs": [],
   "source": [
    "# Loop over the .xls files and rename them to .html files\n",
    "for xls_file in xls_files:\n",
    "    # Get the new file name\n",
    "    new_file_name = xls_file[:-4] + \".html\"\n",
    "\n",
    "    # Rename the file\n",
    "    os.rename(xls_file, new_file_name)"
   ],
   "metadata": {
    "collapsed": false,
    "ExecuteTime": {
     "end_time": "2023-07-19T09:02:47.011763100Z",
     "start_time": "2023-07-19T09:02:47.008763800Z"
    }
   }
  },
  {
   "cell_type": "code",
   "execution_count": 4,
   "outputs": [],
   "source": [
    "# Get all HTML files in the current directory\n",
    "html_files = [file for file in os.listdir() if file.endswith(\".html\")]"
   ],
   "metadata": {
    "collapsed": false,
    "ExecuteTime": {
     "end_time": "2023-07-19T09:02:47.019146500Z",
     "start_time": "2023-07-19T09:02:47.011763100Z"
    }
   }
  },
  {
   "cell_type": "code",
   "execution_count": 5,
   "outputs": [],
   "source": [
    "# Loop over the HTML files\n",
    "for html_file in html_files:\n",
    "    # Read the HTML file\n",
    "    with open(html_file, \"r\", encoding=\"utf-8\") as f:\n",
    "        soup = BeautifulSoup(f, \"html.parser\")\n",
    "\n",
    "    # Get the data in the HTML file\n",
    "    data = soup.find_all(\"table\")\n",
    "\n",
    "    # Create a list of lists to store the data\n",
    "    data_list = []\n",
    "    for table in data:\n",
    "        rows = table.find_all(\"tr\")\n",
    "        for row in rows:\n",
    "            cols = row.find_all(\"td\")\n",
    "            data_list.append([col.text for col in cols])\n",
    "\n",
    "    # Create a Pandas DataFrame from the data\n",
    "    df = pd.DataFrame(data_list)\n",
    "\n",
    "    # Save the DataFrame to an Excel file\n",
    "    df.to_excel(html_file[:-5] + \".xlsx\", engine=\"xlsxwriter\")"
   ],
   "metadata": {
    "collapsed": false,
    "ExecuteTime": {
     "end_time": "2023-07-19T09:02:59.244402500Z",
     "start_time": "2023-07-19T09:02:47.019146500Z"
    }
   }
  },
  {
   "cell_type": "code",
   "execution_count": 6,
   "outputs": [],
   "source": [
    "# Delete all HTML files in the current directory\n",
    "for file in os.listdir():\n",
    "    if file.endswith(\".html\"):\n",
    "        os.remove(file)"
   ],
   "metadata": {
    "collapsed": false,
    "ExecuteTime": {
     "end_time": "2023-07-19T09:02:59.252009300Z",
     "start_time": "2023-07-19T09:02:59.249094900Z"
    }
   }
  },
  {
   "cell_type": "code",
   "execution_count": 7,
   "outputs": [],
   "source": [
    "def remove_first_one_column_and_four_rows(file_path):\n",
    "    \"\"\"\n",
    "    Remove the first 1 column and first 4 rows from an Excel file without saving the index row and number index.\n",
    "\n",
    "    Args:\n",
    "        file_path (str): The path to the Excel file.\n",
    "    \"\"\"\n",
    "\n",
    "    df = pd.read_excel(file_path)\n",
    "    df = df.iloc[5:, 1:]\n",
    "    df = df.reset_index(drop=True)\n",
    "    df.to_excel(file_path, index=False, header=None)"
   ],
   "metadata": {
    "collapsed": false,
    "ExecuteTime": {
     "end_time": "2023-07-19T09:02:59.260322300Z",
     "start_time": "2023-07-19T09:02:59.252009300Z"
    }
   }
  },
  {
   "cell_type": "code",
   "execution_count": 8,
   "outputs": [],
   "source": [
    "for file in os.listdir():\n",
    "    if file.endswith(\".xlsx\"):\n",
    "        file_path = os.path.join(os.getcwd(), file)\n",
    "        remove_first_one_column_and_four_rows(file_path)"
   ],
   "metadata": {
    "collapsed": false,
    "ExecuteTime": {
     "end_time": "2023-07-19T09:03:01.994771200Z",
     "start_time": "2023-07-19T09:02:59.260322300Z"
    }
   }
  }
 ],
 "metadata": {
  "kernelspec": {
   "display_name": "Python 3",
   "language": "python",
   "name": "python3"
  },
  "language_info": {
   "codemirror_mode": {
    "name": "ipython",
    "version": 2
   },
   "file_extension": ".py",
   "mimetype": "text/x-python",
   "name": "python",
   "nbconvert_exporter": "python",
   "pygments_lexer": "ipython2",
   "version": "2.7.6"
  }
 },
 "nbformat": 4,
 "nbformat_minor": 0
}
