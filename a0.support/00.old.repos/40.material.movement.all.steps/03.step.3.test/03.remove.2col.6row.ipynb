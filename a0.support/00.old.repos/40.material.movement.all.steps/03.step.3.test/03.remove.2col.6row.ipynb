{
 "cells": [
  {
   "cell_type": "code",
   "execution_count": 23,
   "outputs": [],
   "source": [
    "import os\n",
    "import pandas as pd\n",
    "\n",
    "def remove_first_two_columns_and_five_rows(file_path):\n",
    "    \"\"\"\n",
    "    Remove the first 2 columns and first 5 rows from an Excel file without saving the index row and number index.\n",
    "\n",
    "    Args:\n",
    "        file_path (str): The path to the Excel file.\n",
    "    \"\"\"\n",
    "\n",
    "    df = pd.read_excel(file_path)\n",
    "    df = df.iloc[5:, 2:]\n",
    "    df = df.reset_index(drop=True)\n",
    "    df = df.drop([1], axis=0)\n",
    "    df.to_excel(file_path, index=False, header=None)\n",
    "\n",
    "\n",
    "for file in os.listdir():\n",
    "    if file.endswith(\".xlsx\"):\n",
    "        file_path = os.path.join(os.getcwd(), file)\n",
    "        remove_first_two_columns_and_five_rows(file_path)"
   ],
   "metadata": {
    "collapsed": false,
    "ExecuteTime": {
     "end_time": "2023-06-17T10:04:58.565068800Z",
     "start_time": "2023-06-17T10:04:55.845910500Z"
    }
   }
  },
  {
   "cell_type": "code",
   "execution_count": null,
   "outputs": [],
   "source": [],
   "metadata": {
    "collapsed": false
   }
  }
 ],
 "metadata": {
  "kernelspec": {
   "display_name": "Python 3",
   "language": "python",
   "name": "python3"
  },
  "language_info": {
   "codemirror_mode": {
    "name": "ipython",
    "version": 2
   },
   "file_extension": ".py",
   "mimetype": "text/x-python",
   "name": "python",
   "nbconvert_exporter": "python",
   "pygments_lexer": "ipython2",
   "version": "2.7.6"
  }
 },
 "nbformat": 4,
 "nbformat_minor": 0
}
