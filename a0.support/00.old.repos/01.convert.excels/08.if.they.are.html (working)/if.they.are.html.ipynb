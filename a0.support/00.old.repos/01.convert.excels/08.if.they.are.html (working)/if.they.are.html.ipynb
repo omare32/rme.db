{
 "cells": [
  {
   "cell_type": "code",
   "execution_count": 7,
   "id": "f2d594f7",
   "metadata": {},
   "outputs": [],
   "source": [
    "import os\n",
    "import pandas as pd\n",
    "from bs4 import BeautifulSoup"
   ]
  },
  {
   "cell_type": "code",
   "execution_count": 8,
   "id": "ac45f511",
   "metadata": {},
   "outputs": [],
   "source": [
    "# Get all .xls files in the current directory\n",
    "xls_files = [file for file in os.listdir() if file.endswith(\".xls\")]"
   ]
  },
  {
   "cell_type": "code",
   "execution_count": 9,
   "id": "4704346e",
   "metadata": {},
   "outputs": [],
   "source": [
    "# Loop over the .xls files and rename them to .html files\n",
    "for xls_file in xls_files:\n",
    "    # Get the new file name\n",
    "    new_file_name = xls_file[:-4] + \".html\"\n",
    "\n",
    "    # Rename the file\n",
    "    os.rename(xls_file, new_file_name)"
   ]
  },
  {
   "cell_type": "code",
   "execution_count": 10,
   "id": "a04dcc4e",
   "metadata": {},
   "outputs": [],
   "source": [
    "# Get all HTML files in the current directory\n",
    "html_files = [file for file in os.listdir() if file.endswith(\".html\")]"
   ]
  },
  {
   "cell_type": "code",
   "execution_count": 11,
   "id": "deab37f7",
   "metadata": {},
   "outputs": [],
   "source": [
    "# Loop over the HTML files\n",
    "for html_file in html_files:\n",
    "    # Read the HTML file\n",
    "    with open(html_file, \"r\", encoding=\"utf-8\") as f:\n",
    "        soup = BeautifulSoup(f)\n",
    "\n",
    "    # Get the data in the HTML file\n",
    "    data = soup.find_all(\"table\")\n",
    "\n",
    "    # Create a list of lists to store the data\n",
    "    data_list = []\n",
    "    for table in data:\n",
    "        rows = table.find_all(\"tr\")\n",
    "        for row in rows:\n",
    "            cols = row.find_all(\"td\")\n",
    "            data_list.append([col.text for col in cols])\n",
    "\n",
    "    # Create a Pandas DataFrame from the data\n",
    "    df = pd.DataFrame(data_list)\n",
    "\n",
    "    # Save the DataFrame to an Excel file\n",
    "    df.to_excel(html_file[:-5] + \".xlsx\")"
   ]
  },
  {
   "cell_type": "code",
   "execution_count": 12,
   "id": "86977c17",
   "metadata": {},
   "outputs": [],
   "source": [
    "for file in os.listdir():\n",
    "    if file.endswith(\".html\"):\n",
    "        os.remove(file)"
   ]
  }
 ],
 "metadata": {
  "kernelspec": {
   "display_name": "Python 3 (ipykernel)",
   "language": "python",
   "name": "python3"
  },
  "language_info": {
   "codemirror_mode": {
    "name": "ipython",
    "version": 3
   },
   "file_extension": ".py",
   "mimetype": "text/x-python",
   "name": "python",
   "nbconvert_exporter": "python",
   "pygments_lexer": "ipython3",
   "version": "3.11.0"
  }
 },
 "nbformat": 4,
 "nbformat_minor": 5
}
