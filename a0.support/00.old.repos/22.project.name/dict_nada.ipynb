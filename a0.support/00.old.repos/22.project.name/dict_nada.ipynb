{
 "cells": [
  {
   "cell_type": "code",
   "execution_count": 37,
   "metadata": {
    "collapsed": true,
    "pycharm": {
     "name": "#%%\n"
    }
   },
   "outputs": [
    {
     "data": {
      "text/plain": "                       Description           Names as per our report\n0   Kayan 3 New Cairo Capital City                      Kyan Project\n1             Ministries Buildings                Ministry Building \n2                       Royal City                   Royal City Mall\n3             Mohammed Ali Palace                 Mohamed Ali Palace\n4                     R05 - Zone 2                      R05 District\n..                             ...                               ...\n59            DP World Basin 2 Ph2              DP World Basin 2 Ph2\n60         Seashell Playa 5 Villas           Seashell Playa 5 Villas\n61             Kafr Shoukr  Bridge               Kafer Shoukr Bridge\n62           Abo Shanab El Agamien             Abo Shanab El Agamien\n63               MAF HQ Renovation  Carrefour Head office Renovation\n\n[64 rows x 2 columns]",
      "text/html": "<div>\n<style scoped>\n    .dataframe tbody tr th:only-of-type {\n        vertical-align: middle;\n    }\n\n    .dataframe tbody tr th {\n        vertical-align: top;\n    }\n\n    .dataframe thead th {\n        text-align: right;\n    }\n</style>\n<table border=\"1\" class=\"dataframe\">\n  <thead>\n    <tr style=\"text-align: right;\">\n      <th></th>\n      <th>Description</th>\n      <th>Names as per our report</th>\n    </tr>\n  </thead>\n  <tbody>\n    <tr>\n      <th>0</th>\n      <td>Kayan 3 New Cairo Capital City</td>\n      <td>Kyan Project</td>\n    </tr>\n    <tr>\n      <th>1</th>\n      <td>Ministries Buildings</td>\n      <td>Ministry Building</td>\n    </tr>\n    <tr>\n      <th>2</th>\n      <td>Royal City</td>\n      <td>Royal City Mall</td>\n    </tr>\n    <tr>\n      <th>3</th>\n      <td>Mohammed Ali Palace</td>\n      <td>Mohamed Ali Palace</td>\n    </tr>\n    <tr>\n      <th>4</th>\n      <td>R05 - Zone 2</td>\n      <td>R05 District</td>\n    </tr>\n    <tr>\n      <th>...</th>\n      <td>...</td>\n      <td>...</td>\n    </tr>\n    <tr>\n      <th>59</th>\n      <td>DP World Basin 2 Ph2</td>\n      <td>DP World Basin 2 Ph2</td>\n    </tr>\n    <tr>\n      <th>60</th>\n      <td>Seashell Playa 5 Villas</td>\n      <td>Seashell Playa 5 Villas</td>\n    </tr>\n    <tr>\n      <th>61</th>\n      <td>Kafr Shoukr  Bridge</td>\n      <td>Kafer Shoukr Bridge</td>\n    </tr>\n    <tr>\n      <th>62</th>\n      <td>Abo Shanab El Agamien</td>\n      <td>Abo Shanab El Agamien</td>\n    </tr>\n    <tr>\n      <th>63</th>\n      <td>MAF HQ Renovation</td>\n      <td>Carrefour Head office Renovation</td>\n    </tr>\n  </tbody>\n</table>\n<p>64 rows × 2 columns</p>\n</div>"
     },
     "execution_count": 37,
     "metadata": {},
     "output_type": "execute_result"
    }
   ],
   "source": [
    "import pandas as pd\n",
    "\n",
    "# importing existing project names and cleaning df\n",
    "df_names = pd.read_excel('04-POC Apr 2023 Actual Cost 16-5-2023.xlsx', sheet_name='Mataching')\n",
    "df_names.dropna(inplace=True, how='all')\n",
    "unnamed_cols = [col for col in df_names.columns if col.startswith('Unnamed')]\n",
    "df_names.drop(unnamed_cols,axis=1,inplace=True)\n",
    "df_names"
   ]
  },
  {
   "cell_type": "code",
   "execution_count": 38,
   "outputs": [
    {
     "data": {
      "text/plain": "0                      Description Cost Incured To Date   \\\n1   Kayan 3 New Cairo Capital City           15074142.78   \n2             Ministries Buildings      131610311.290771   \n3                       Royal City       21782348.140211   \n4             Mohammed Ali Palace         4478482.663424   \n5                     R05 - Zone 2      294326254.920454   \n..                             ...                   ...   \n92                             NaN                   NaN   \n93                             NaN                   NaN   \n94                             NaN                   NaN   \n95                             NaN                   NaN   \n96                             NaN                   NaN   \n\n0  POC Revenues Up To date  \n1           8243836.144884  \n2         133954515.308673  \n3          22835043.652595  \n4           4714192.277289  \n5         298808380.629903  \n..                     ...  \n92                     NaN  \n93                     NaN  \n94                     NaN  \n95                     NaN  \n96                     NaN  \n\n[96 rows x 3 columns]",
      "text/html": "<div>\n<style scoped>\n    .dataframe tbody tr th:only-of-type {\n        vertical-align: middle;\n    }\n\n    .dataframe tbody tr th {\n        vertical-align: top;\n    }\n\n    .dataframe thead th {\n        text-align: right;\n    }\n</style>\n<table border=\"1\" class=\"dataframe\">\n  <thead>\n    <tr style=\"text-align: right;\">\n      <th></th>\n      <th>Description</th>\n      <th>Cost Incured To Date</th>\n      <th>POC Revenues Up To date</th>\n    </tr>\n  </thead>\n  <tbody>\n    <tr>\n      <th>1</th>\n      <td>Kayan 3 New Cairo Capital City</td>\n      <td>15074142.78</td>\n      <td>8243836.144884</td>\n    </tr>\n    <tr>\n      <th>2</th>\n      <td>Ministries Buildings</td>\n      <td>131610311.290771</td>\n      <td>133954515.308673</td>\n    </tr>\n    <tr>\n      <th>3</th>\n      <td>Royal City</td>\n      <td>21782348.140211</td>\n      <td>22835043.652595</td>\n    </tr>\n    <tr>\n      <th>4</th>\n      <td>Mohammed Ali Palace</td>\n      <td>4478482.663424</td>\n      <td>4714192.277289</td>\n    </tr>\n    <tr>\n      <th>5</th>\n      <td>R05 - Zone 2</td>\n      <td>294326254.920454</td>\n      <td>298808380.629903</td>\n    </tr>\n    <tr>\n      <th>...</th>\n      <td>...</td>\n      <td>...</td>\n      <td>...</td>\n    </tr>\n    <tr>\n      <th>92</th>\n      <td>NaN</td>\n      <td>NaN</td>\n      <td>NaN</td>\n    </tr>\n    <tr>\n      <th>93</th>\n      <td>NaN</td>\n      <td>NaN</td>\n      <td>NaN</td>\n    </tr>\n    <tr>\n      <th>94</th>\n      <td>NaN</td>\n      <td>NaN</td>\n      <td>NaN</td>\n    </tr>\n    <tr>\n      <th>95</th>\n      <td>NaN</td>\n      <td>NaN</td>\n      <td>NaN</td>\n    </tr>\n    <tr>\n      <th>96</th>\n      <td>NaN</td>\n      <td>NaN</td>\n      <td>NaN</td>\n    </tr>\n  </tbody>\n</table>\n<p>96 rows × 3 columns</p>\n</div>"
     },
     "execution_count": 38,
     "metadata": {},
     "output_type": "execute_result"
    }
   ],
   "source": [
    "# importing POC Apr 2023 Actual Cost and transposing\n",
    "df_cost = pd.read_excel('0. Copy of 04-POC Apr 2023- After Reflecting all Year Cost.xlsx', sheet_name='2022')\n",
    "df_cost = df_cost.T\n",
    "df_cost = df_cost.reset_index()\n",
    "columns_to_keep=[0,12,27]\n",
    "df_cost = df_cost[columns_to_keep]\n",
    "df_cost.columns = df_cost.iloc[0]\n",
    "df_cost = df_cost[1:]\n",
    "df_cost"
   ],
   "metadata": {
    "collapsed": false,
    "pycharm": {
     "name": "#%%\n"
    }
   }
  },
  {
   "cell_type": "code",
   "execution_count": 39,
   "outputs": [
    {
     "data": {
      "text/plain": "3   Operation Type of Project   Client Serial  Projects Manager Cost Center  \\\n4           1     Residential  Private      1      Osama Mezayn         137   \n5           1      Industrial  Private      2  Mohamed El Saman          94   \n6           1      Commercial  Private      3             Other          92   \n7           1      Commercial  Private      4     Mohamed Fawzy         113   \n8           1      Commercial  Private      5     Mohamed Fawzy         141   \n..        ...             ...      ...    ...               ...         ...   \n175       NaN             NaN      NaN    NaN               NaN         NaN   \n176       NaN             NaN      NaN    NaN               NaN         NaN   \n177       NaN             NaN      NaN    NaN               NaN         NaN   \n178       NaN             NaN      NaN    NaN               NaN         NaN   \n179       NaN             NaN      NaN    NaN               NaN         NaN   \n\n3                      Project Name Revised Contract Amount  \\\n4                ORA Zed PKGs A & D               952143211   \n5                   DP World Sokhna        1611128362.46001   \n6                 Sodic East - EDNC              1145187121   \n7                      CFC Poduim 2        637419839.063495   \n8    ElSewedy HQ Internal Finishing             362983478.4   \n..                              ...                     ...   \n175                             NaN                     NaN   \n176                             NaN                     NaN   \n177                             NaN                     NaN   \n178                             NaN                     NaN   \n179                             NaN                     NaN   \n\n3   Forcast Gross Margine% Tender GM%  ...       NaN       NaN       NaN  \\\n4                    0.005      0.005  ...  0.050000  0.005000  0.050000   \n5                 0.255442     0.1044  ...       NaN       NaN       NaN   \n6                 0.057735     0.0536  ...  0.057735  0.057735  0.045510   \n7                 0.257305      0.119  ...  0.257305  0.257305  0.257305   \n8                 0.063575     0.0774  ...  0.063575  0.063575  0.075000   \n..                     ...        ...  ...       ...       ...       ...   \n175                    NaN        NaN  ...       NaN       NaN       NaN   \n176                    NaN        NaN  ...       NaN       NaN       NaN   \n177                    NaN        NaN  ...       NaN       NaN       NaN   \n178                    NaN        NaN  ...       NaN       NaN       NaN   \n179                    NaN        NaN  ...       NaN       NaN       NaN   \n\n3         NaN       NaN           NaN           NaN NaN   NaN  NaN  \n4    0.005000 -0.116140           NaN  2.878460e+08 NaN  12.0  8.0  \n5         NaN       NaN           NaN           NaN NaN   NaN  NaN  \n6    0.057735  0.497424  5.773434e-02  1.556947e+07 NaN   6.0  2.0  \n7    0.257305  0.257305  2.573048e-01  6.299987e+06 NaN   4.0  2.0  \n8    0.063575  0.003952  1.264080e+07  5.814151e+07 NaN   4.0  2.0  \n..        ...       ...           ...           ...  ..   ...  ...  \n175       NaN       NaN           NaN           NaN NaN   NaN  NaN  \n176       NaN       NaN           NaN           NaN NaN   NaN  NaN  \n177       NaN       NaN           NaN           NaN NaN   NaN  NaN  \n178       NaN       NaN           NaN           NaN NaN   NaN  NaN  \n179       NaN       NaN           NaN           NaN NaN   NaN  NaN  \n\n[176 rows x 58 columns]",
      "text/html": "<div>\n<style scoped>\n    .dataframe tbody tr th:only-of-type {\n        vertical-align: middle;\n    }\n\n    .dataframe tbody tr th {\n        vertical-align: top;\n    }\n\n    .dataframe thead th {\n        text-align: right;\n    }\n</style>\n<table border=\"1\" class=\"dataframe\">\n  <thead>\n    <tr style=\"text-align: right;\">\n      <th>3</th>\n      <th>Operation</th>\n      <th>Type of Project</th>\n      <th>Client</th>\n      <th>Serial</th>\n      <th>Projects Manager</th>\n      <th>Cost Center</th>\n      <th>Project Name</th>\n      <th>Revised Contract Amount</th>\n      <th>Forcast Gross Margine%</th>\n      <th>Tender GM%</th>\n      <th>...</th>\n      <th>NaN</th>\n      <th>NaN</th>\n      <th>NaN</th>\n      <th>NaN</th>\n      <th>NaN</th>\n      <th>NaN</th>\n      <th>NaN</th>\n      <th>NaN</th>\n      <th>NaN</th>\n      <th>NaN</th>\n    </tr>\n  </thead>\n  <tbody>\n    <tr>\n      <th>4</th>\n      <td>1</td>\n      <td>Residential</td>\n      <td>Private</td>\n      <td>1</td>\n      <td>Osama Mezayn</td>\n      <td>137</td>\n      <td>ORA Zed PKGs A &amp; D</td>\n      <td>952143211</td>\n      <td>0.005</td>\n      <td>0.005</td>\n      <td>...</td>\n      <td>0.050000</td>\n      <td>0.005000</td>\n      <td>0.050000</td>\n      <td>0.005000</td>\n      <td>-0.116140</td>\n      <td>NaN</td>\n      <td>2.878460e+08</td>\n      <td>NaN</td>\n      <td>12.0</td>\n      <td>8.0</td>\n    </tr>\n    <tr>\n      <th>5</th>\n      <td>1</td>\n      <td>Industrial</td>\n      <td>Private</td>\n      <td>2</td>\n      <td>Mohamed El Saman</td>\n      <td>94</td>\n      <td>DP World Sokhna</td>\n      <td>1611128362.46001</td>\n      <td>0.255442</td>\n      <td>0.1044</td>\n      <td>...</td>\n      <td>NaN</td>\n      <td>NaN</td>\n      <td>NaN</td>\n      <td>NaN</td>\n      <td>NaN</td>\n      <td>NaN</td>\n      <td>NaN</td>\n      <td>NaN</td>\n      <td>NaN</td>\n      <td>NaN</td>\n    </tr>\n    <tr>\n      <th>6</th>\n      <td>1</td>\n      <td>Commercial</td>\n      <td>Private</td>\n      <td>3</td>\n      <td>Other</td>\n      <td>92</td>\n      <td>Sodic East - EDNC</td>\n      <td>1145187121</td>\n      <td>0.057735</td>\n      <td>0.0536</td>\n      <td>...</td>\n      <td>0.057735</td>\n      <td>0.057735</td>\n      <td>0.045510</td>\n      <td>0.057735</td>\n      <td>0.497424</td>\n      <td>5.773434e-02</td>\n      <td>1.556947e+07</td>\n      <td>NaN</td>\n      <td>6.0</td>\n      <td>2.0</td>\n    </tr>\n    <tr>\n      <th>7</th>\n      <td>1</td>\n      <td>Commercial</td>\n      <td>Private</td>\n      <td>4</td>\n      <td>Mohamed Fawzy</td>\n      <td>113</td>\n      <td>CFC Poduim 2</td>\n      <td>637419839.063495</td>\n      <td>0.257305</td>\n      <td>0.119</td>\n      <td>...</td>\n      <td>0.257305</td>\n      <td>0.257305</td>\n      <td>0.257305</td>\n      <td>0.257305</td>\n      <td>0.257305</td>\n      <td>2.573048e-01</td>\n      <td>6.299987e+06</td>\n      <td>NaN</td>\n      <td>4.0</td>\n      <td>2.0</td>\n    </tr>\n    <tr>\n      <th>8</th>\n      <td>1</td>\n      <td>Commercial</td>\n      <td>Private</td>\n      <td>5</td>\n      <td>Mohamed Fawzy</td>\n      <td>141</td>\n      <td>ElSewedy HQ Internal Finishing</td>\n      <td>362983478.4</td>\n      <td>0.063575</td>\n      <td>0.0774</td>\n      <td>...</td>\n      <td>0.063575</td>\n      <td>0.063575</td>\n      <td>0.075000</td>\n      <td>0.063575</td>\n      <td>0.003952</td>\n      <td>1.264080e+07</td>\n      <td>5.814151e+07</td>\n      <td>NaN</td>\n      <td>4.0</td>\n      <td>2.0</td>\n    </tr>\n    <tr>\n      <th>...</th>\n      <td>...</td>\n      <td>...</td>\n      <td>...</td>\n      <td>...</td>\n      <td>...</td>\n      <td>...</td>\n      <td>...</td>\n      <td>...</td>\n      <td>...</td>\n      <td>...</td>\n      <td>...</td>\n      <td>...</td>\n      <td>...</td>\n      <td>...</td>\n      <td>...</td>\n      <td>...</td>\n      <td>...</td>\n      <td>...</td>\n      <td>...</td>\n      <td>...</td>\n      <td>...</td>\n    </tr>\n    <tr>\n      <th>175</th>\n      <td>NaN</td>\n      <td>NaN</td>\n      <td>NaN</td>\n      <td>NaN</td>\n      <td>NaN</td>\n      <td>NaN</td>\n      <td>NaN</td>\n      <td>NaN</td>\n      <td>NaN</td>\n      <td>NaN</td>\n      <td>...</td>\n      <td>NaN</td>\n      <td>NaN</td>\n      <td>NaN</td>\n      <td>NaN</td>\n      <td>NaN</td>\n      <td>NaN</td>\n      <td>NaN</td>\n      <td>NaN</td>\n      <td>NaN</td>\n      <td>NaN</td>\n    </tr>\n    <tr>\n      <th>176</th>\n      <td>NaN</td>\n      <td>NaN</td>\n      <td>NaN</td>\n      <td>NaN</td>\n      <td>NaN</td>\n      <td>NaN</td>\n      <td>NaN</td>\n      <td>NaN</td>\n      <td>NaN</td>\n      <td>NaN</td>\n      <td>...</td>\n      <td>NaN</td>\n      <td>NaN</td>\n      <td>NaN</td>\n      <td>NaN</td>\n      <td>NaN</td>\n      <td>NaN</td>\n      <td>NaN</td>\n      <td>NaN</td>\n      <td>NaN</td>\n      <td>NaN</td>\n    </tr>\n    <tr>\n      <th>177</th>\n      <td>NaN</td>\n      <td>NaN</td>\n      <td>NaN</td>\n      <td>NaN</td>\n      <td>NaN</td>\n      <td>NaN</td>\n      <td>NaN</td>\n      <td>NaN</td>\n      <td>NaN</td>\n      <td>NaN</td>\n      <td>...</td>\n      <td>NaN</td>\n      <td>NaN</td>\n      <td>NaN</td>\n      <td>NaN</td>\n      <td>NaN</td>\n      <td>NaN</td>\n      <td>NaN</td>\n      <td>NaN</td>\n      <td>NaN</td>\n      <td>NaN</td>\n    </tr>\n    <tr>\n      <th>178</th>\n      <td>NaN</td>\n      <td>NaN</td>\n      <td>NaN</td>\n      <td>NaN</td>\n      <td>NaN</td>\n      <td>NaN</td>\n      <td>NaN</td>\n      <td>NaN</td>\n      <td>NaN</td>\n      <td>NaN</td>\n      <td>...</td>\n      <td>NaN</td>\n      <td>NaN</td>\n      <td>NaN</td>\n      <td>NaN</td>\n      <td>NaN</td>\n      <td>NaN</td>\n      <td>NaN</td>\n      <td>NaN</td>\n      <td>NaN</td>\n      <td>NaN</td>\n    </tr>\n    <tr>\n      <th>179</th>\n      <td>NaN</td>\n      <td>NaN</td>\n      <td>NaN</td>\n      <td>NaN</td>\n      <td>NaN</td>\n      <td>NaN</td>\n      <td>NaN</td>\n      <td>NaN</td>\n      <td>NaN</td>\n      <td>NaN</td>\n      <td>...</td>\n      <td>NaN</td>\n      <td>NaN</td>\n      <td>NaN</td>\n      <td>NaN</td>\n      <td>NaN</td>\n      <td>NaN</td>\n      <td>NaN</td>\n      <td>NaN</td>\n      <td>NaN</td>\n      <td>NaN</td>\n    </tr>\n  </tbody>\n</table>\n<p>176 rows × 58 columns</p>\n</div>"
     },
     "execution_count": 39,
     "metadata": {},
     "output_type": "execute_result"
    }
   ],
   "source": [
    "# importing Revenue sheet in a dataframe and cleaning\n",
    "df_rev = pd.read_excel('Revenue.xlsx', sheet_name='Revise Cost 2023')\n",
    "df_rev.columns = df_rev.iloc[3]\n",
    "df_rev = df_rev[4:]\n",
    "df_rev"
   ],
   "metadata": {
    "collapsed": false,
    "pycharm": {
     "name": "#%%\n"
    }
   }
  },
  {
   "cell_type": "code",
   "execution_count": 40,
   "outputs": [
    {
     "data": {
      "text/plain": "3   Operation Type of Project   Client Serial  Projects Manager Cost Center  \\\n4           1     Residential  Private      1      Osama Mezayn         137   \n5           1      Industrial  Private      2  Mohamed El Saman          94   \n6           1      Commercial  Private      3             Other          92   \n7           1      Commercial  Private      4     Mohamed Fawzy         113   \n8           1      Commercial  Private      5     Mohamed Fawzy         141   \n..        ...             ...      ...    ...               ...         ...   \n179       NaN             NaN      NaN    NaN               NaN         NaN   \n0         NaN             NaN      NaN    NaN               NaN         NaN   \n1         NaN             NaN      NaN    NaN               NaN         NaN   \n2         NaN             NaN      NaN    NaN               NaN         NaN   \n3         NaN             NaN      NaN    NaN               NaN         NaN   \n\n3                      Project Name Revised Contract Amount       Rev - Cost  \\\n4                ORA Zed PKGs A & D               952143211    807410.636414   \n5                   DP World Sokhna        1611128362.46001  38603893.276216   \n6                 Sodic East - EDNC              1145187121         No Value   \n7                      CFC Poduim 2        637419839.063495         No Value   \n8    ElSewedy HQ Internal Finishing             362983478.4         No Value   \n..                              ...                     ...              ...   \n179                             NaN                     NaN              NaN   \n0                               NaN                     NaN  15013767.082977   \n1                               NaN                     NaN         No Value   \n2                               NaN                     NaN  14972036.535136   \n3                               NaN                     NaN   2191419.258194   \n\n3   Forcast Gross Margine%  ...       NaN       NaN       NaN       NaN  \\\n4                    0.005  ...  0.050000  0.005000  0.050000  0.005000   \n5                 0.255442  ...       NaN       NaN       NaN       NaN   \n6                 0.057735  ...  0.057735  0.057735  0.045510  0.057735   \n7                 0.257305  ...  0.257305  0.257305  0.257305  0.257305   \n8                 0.063575  ...  0.063575  0.063575  0.075000  0.063575   \n..                     ...  ...       ...       ...       ...       ...   \n179                    NaN  ...       NaN       NaN       NaN       NaN   \n0                      NaN  ...       NaN       NaN       NaN       NaN   \n1                      NaN  ...       NaN       NaN       NaN       NaN   \n2                      NaN  ...       NaN       NaN       NaN       NaN   \n3                      NaN  ...       NaN       NaN       NaN       NaN   \n\n3         NaN           NaN           NaN NaN   NaN  NaN  \n4   -0.116140           NaN  2.878460e+08 NaN  12.0  8.0  \n5         NaN           NaN           NaN NaN   NaN  NaN  \n6    0.497424  5.773434e-02  1.556947e+07 NaN   6.0  2.0  \n7    0.257305  2.573048e-01  6.299987e+06 NaN   4.0  2.0  \n8    0.003952  1.264080e+07  5.814151e+07 NaN   4.0  2.0  \n..        ...           ...           ...  ..   ...  ...  \n179       NaN           NaN           NaN NaN   NaN  NaN  \n0         NaN           NaN           NaN NaN   NaN  NaN  \n1         NaN           NaN           NaN NaN   NaN  NaN  \n2         NaN           NaN           NaN NaN   NaN  NaN  \n3         NaN           NaN           NaN NaN   NaN  NaN  \n\n[180 rows x 59 columns]",
      "text/html": "<div>\n<style scoped>\n    .dataframe tbody tr th:only-of-type {\n        vertical-align: middle;\n    }\n\n    .dataframe tbody tr th {\n        vertical-align: top;\n    }\n\n    .dataframe thead th {\n        text-align: right;\n    }\n</style>\n<table border=\"1\" class=\"dataframe\">\n  <thead>\n    <tr style=\"text-align: right;\">\n      <th>3</th>\n      <th>Operation</th>\n      <th>Type of Project</th>\n      <th>Client</th>\n      <th>Serial</th>\n      <th>Projects Manager</th>\n      <th>Cost Center</th>\n      <th>Project Name</th>\n      <th>Revised Contract Amount</th>\n      <th>Rev - Cost</th>\n      <th>Forcast Gross Margine%</th>\n      <th>...</th>\n      <th>NaN</th>\n      <th>NaN</th>\n      <th>NaN</th>\n      <th>NaN</th>\n      <th>NaN</th>\n      <th>NaN</th>\n      <th>NaN</th>\n      <th>NaN</th>\n      <th>NaN</th>\n      <th>NaN</th>\n    </tr>\n  </thead>\n  <tbody>\n    <tr>\n      <th>4</th>\n      <td>1</td>\n      <td>Residential</td>\n      <td>Private</td>\n      <td>1</td>\n      <td>Osama Mezayn</td>\n      <td>137</td>\n      <td>ORA Zed PKGs A &amp; D</td>\n      <td>952143211</td>\n      <td>807410.636414</td>\n      <td>0.005</td>\n      <td>...</td>\n      <td>0.050000</td>\n      <td>0.005000</td>\n      <td>0.050000</td>\n      <td>0.005000</td>\n      <td>-0.116140</td>\n      <td>NaN</td>\n      <td>2.878460e+08</td>\n      <td>NaN</td>\n      <td>12.0</td>\n      <td>8.0</td>\n    </tr>\n    <tr>\n      <th>5</th>\n      <td>1</td>\n      <td>Industrial</td>\n      <td>Private</td>\n      <td>2</td>\n      <td>Mohamed El Saman</td>\n      <td>94</td>\n      <td>DP World Sokhna</td>\n      <td>1611128362.46001</td>\n      <td>38603893.276216</td>\n      <td>0.255442</td>\n      <td>...</td>\n      <td>NaN</td>\n      <td>NaN</td>\n      <td>NaN</td>\n      <td>NaN</td>\n      <td>NaN</td>\n      <td>NaN</td>\n      <td>NaN</td>\n      <td>NaN</td>\n      <td>NaN</td>\n      <td>NaN</td>\n    </tr>\n    <tr>\n      <th>6</th>\n      <td>1</td>\n      <td>Commercial</td>\n      <td>Private</td>\n      <td>3</td>\n      <td>Other</td>\n      <td>92</td>\n      <td>Sodic East - EDNC</td>\n      <td>1145187121</td>\n      <td>No Value</td>\n      <td>0.057735</td>\n      <td>...</td>\n      <td>0.057735</td>\n      <td>0.057735</td>\n      <td>0.045510</td>\n      <td>0.057735</td>\n      <td>0.497424</td>\n      <td>5.773434e-02</td>\n      <td>1.556947e+07</td>\n      <td>NaN</td>\n      <td>6.0</td>\n      <td>2.0</td>\n    </tr>\n    <tr>\n      <th>7</th>\n      <td>1</td>\n      <td>Commercial</td>\n      <td>Private</td>\n      <td>4</td>\n      <td>Mohamed Fawzy</td>\n      <td>113</td>\n      <td>CFC Poduim 2</td>\n      <td>637419839.063495</td>\n      <td>No Value</td>\n      <td>0.257305</td>\n      <td>...</td>\n      <td>0.257305</td>\n      <td>0.257305</td>\n      <td>0.257305</td>\n      <td>0.257305</td>\n      <td>0.257305</td>\n      <td>2.573048e-01</td>\n      <td>6.299987e+06</td>\n      <td>NaN</td>\n      <td>4.0</td>\n      <td>2.0</td>\n    </tr>\n    <tr>\n      <th>8</th>\n      <td>1</td>\n      <td>Commercial</td>\n      <td>Private</td>\n      <td>5</td>\n      <td>Mohamed Fawzy</td>\n      <td>141</td>\n      <td>ElSewedy HQ Internal Finishing</td>\n      <td>362983478.4</td>\n      <td>No Value</td>\n      <td>0.063575</td>\n      <td>...</td>\n      <td>0.063575</td>\n      <td>0.063575</td>\n      <td>0.075000</td>\n      <td>0.063575</td>\n      <td>0.003952</td>\n      <td>1.264080e+07</td>\n      <td>5.814151e+07</td>\n      <td>NaN</td>\n      <td>4.0</td>\n      <td>2.0</td>\n    </tr>\n    <tr>\n      <th>...</th>\n      <td>...</td>\n      <td>...</td>\n      <td>...</td>\n      <td>...</td>\n      <td>...</td>\n      <td>...</td>\n      <td>...</td>\n      <td>...</td>\n      <td>...</td>\n      <td>...</td>\n      <td>...</td>\n      <td>...</td>\n      <td>...</td>\n      <td>...</td>\n      <td>...</td>\n      <td>...</td>\n      <td>...</td>\n      <td>...</td>\n      <td>...</td>\n      <td>...</td>\n      <td>...</td>\n    </tr>\n    <tr>\n      <th>179</th>\n      <td>NaN</td>\n      <td>NaN</td>\n      <td>NaN</td>\n      <td>NaN</td>\n      <td>NaN</td>\n      <td>NaN</td>\n      <td>NaN</td>\n      <td>NaN</td>\n      <td>NaN</td>\n      <td>NaN</td>\n      <td>...</td>\n      <td>NaN</td>\n      <td>NaN</td>\n      <td>NaN</td>\n      <td>NaN</td>\n      <td>NaN</td>\n      <td>NaN</td>\n      <td>NaN</td>\n      <td>NaN</td>\n      <td>NaN</td>\n      <td>NaN</td>\n    </tr>\n    <tr>\n      <th>0</th>\n      <td>NaN</td>\n      <td>NaN</td>\n      <td>NaN</td>\n      <td>NaN</td>\n      <td>NaN</td>\n      <td>NaN</td>\n      <td>NaN</td>\n      <td>NaN</td>\n      <td>15013767.082977</td>\n      <td>NaN</td>\n      <td>...</td>\n      <td>NaN</td>\n      <td>NaN</td>\n      <td>NaN</td>\n      <td>NaN</td>\n      <td>NaN</td>\n      <td>NaN</td>\n      <td>NaN</td>\n      <td>NaN</td>\n      <td>NaN</td>\n      <td>NaN</td>\n    </tr>\n    <tr>\n      <th>1</th>\n      <td>NaN</td>\n      <td>NaN</td>\n      <td>NaN</td>\n      <td>NaN</td>\n      <td>NaN</td>\n      <td>NaN</td>\n      <td>NaN</td>\n      <td>NaN</td>\n      <td>No Value</td>\n      <td>NaN</td>\n      <td>...</td>\n      <td>NaN</td>\n      <td>NaN</td>\n      <td>NaN</td>\n      <td>NaN</td>\n      <td>NaN</td>\n      <td>NaN</td>\n      <td>NaN</td>\n      <td>NaN</td>\n      <td>NaN</td>\n      <td>NaN</td>\n    </tr>\n    <tr>\n      <th>2</th>\n      <td>NaN</td>\n      <td>NaN</td>\n      <td>NaN</td>\n      <td>NaN</td>\n      <td>NaN</td>\n      <td>NaN</td>\n      <td>NaN</td>\n      <td>NaN</td>\n      <td>14972036.535136</td>\n      <td>NaN</td>\n      <td>...</td>\n      <td>NaN</td>\n      <td>NaN</td>\n      <td>NaN</td>\n      <td>NaN</td>\n      <td>NaN</td>\n      <td>NaN</td>\n      <td>NaN</td>\n      <td>NaN</td>\n      <td>NaN</td>\n      <td>NaN</td>\n    </tr>\n    <tr>\n      <th>3</th>\n      <td>NaN</td>\n      <td>NaN</td>\n      <td>NaN</td>\n      <td>NaN</td>\n      <td>NaN</td>\n      <td>NaN</td>\n      <td>NaN</td>\n      <td>NaN</td>\n      <td>2191419.258194</td>\n      <td>NaN</td>\n      <td>...</td>\n      <td>NaN</td>\n      <td>NaN</td>\n      <td>NaN</td>\n      <td>NaN</td>\n      <td>NaN</td>\n      <td>NaN</td>\n      <td>NaN</td>\n      <td>NaN</td>\n      <td>NaN</td>\n      <td>NaN</td>\n    </tr>\n  </tbody>\n</table>\n<p>180 rows × 59 columns</p>\n</div>"
     },
     "execution_count": 40,
     "metadata": {},
     "output_type": "execute_result"
    }
   ],
   "source": [
    "# adding new column to revenue sheet that contains our subtracted values\n",
    "for i,name in enumerate(df_rev['Project Name']):\n",
    "    try:\n",
    "        control_name = df_names[df_names['Names as per our report'] == name]['Description'].values[0]\n",
    "        cost = df_cost[df_cost['Description'] == control_name]['Cost Incured To Date '].values[0]\n",
    "        revenue = df_cost[df_cost['Description'] == control_name]['POC Revenues Up To date'].values[0]\n",
    "        df_rev.loc[i, 'New Column'] = revenue - cost\n",
    "    except:\n",
    "        df_rev.loc[i, 'New Column'] = 'No Value'\n",
    "df_rev.insert(8, 'Rev - Cost', df_rev.pop('New Column'))\n",
    "df_rev\n",
    "# You can export df_rev to excel and replace the original file with the new column \"Rev - Cost\" added"
   ],
   "metadata": {
    "collapsed": false,
    "pycharm": {
     "name": "#%%\n"
    }
   }
  }
 ],
 "metadata": {
  "kernelspec": {
   "display_name": "Python 3",
   "language": "python",
   "name": "python3"
  },
  "language_info": {
   "codemirror_mode": {
    "name": "ipython",
    "version": 2
   },
   "file_extension": ".py",
   "mimetype": "text/x-python",
   "name": "python",
   "nbconvert_exporter": "python",
   "pygments_lexer": "ipython2",
   "version": "2.7.6"
  }
 },
 "nbformat": 4,
 "nbformat_minor": 0
}