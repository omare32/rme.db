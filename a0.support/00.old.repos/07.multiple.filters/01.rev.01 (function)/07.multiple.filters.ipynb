{
 "cells": [
  {
   "cell_type": "code",
   "execution_count": 16,
   "outputs": [],
   "source": [
    "import os\n",
    "import glob\n",
    "import openpyxl"
   ],
   "metadata": {
    "collapsed": false,
    "ExecuteTime": {
     "end_time": "2023-07-19T08:11:54.701533600Z",
     "start_time": "2023-07-19T08:11:54.692988400Z"
    }
   }
  },
  {
   "cell_type": "code",
   "execution_count": 17,
   "outputs": [],
   "source": [
    "def filter_excel_data(words):\n",
    "    # Get the list of Excel files in the current directory\n",
    "    excel_files = glob.glob(\"*.xlsx\")\n",
    "\n",
    "    # Loop through the Excel files\n",
    "    for excel_file in excel_files:\n",
    "        # Load the Excel file\n",
    "        workbook = openpyxl.load_workbook(excel_file)\n",
    "\n",
    "        # Get the worksheet\n",
    "        sheet = workbook.active\n",
    "\n",
    "        # Create a new sheet to store the filtered data\n",
    "        new_sheet = workbook.create_sheet(\"Filtered Data\")\n",
    "\n",
    "        # Filter the rows for the specified words\n",
    "        filtered_rows = []\n",
    "        for row in sheet.iter_rows():\n",
    "            if sheet.title == \"Trx Type\":\n",
    "                if row[1].value in words:\n",
    "                    filtered_rows.append(row)\n",
    "\n",
    "        # Append the filtered rows to the new sheet\n",
    "        for row in filtered_rows:\n",
    "            new_sheet.append(row)\n",
    "\n",
    "        # Save the Excel file\n",
    "        workbook.save(excel_file)"
   ],
   "metadata": {
    "collapsed": false,
    "ExecuteTime": {
     "end_time": "2023-07-19T08:11:54.711958400Z",
     "start_time": "2023-07-19T08:11:54.701533600Z"
    }
   }
  },
  {
   "cell_type": "code",
   "execution_count": 18,
   "outputs": [],
   "source": [
    "if __name__ == \"__main__\":\n",
    "    # Get the words to filter for\n",
    "    words = [\"Move Order Issue on Project\", \"RME Issue ( On Project)\", \"RME Site Return\"]\n",
    "\n",
    "    # Filter the Excel data\n",
    "    filter_excel_data(words)"
   ],
   "metadata": {
    "collapsed": false,
    "ExecuteTime": {
     "end_time": "2023-07-19T08:11:57.712589500Z",
     "start_time": "2023-07-19T08:11:54.711958400Z"
    }
   }
  }
 ],
 "metadata": {
  "kernelspec": {
   "display_name": "Python 3",
   "language": "python",
   "name": "python3"
  },
  "language_info": {
   "codemirror_mode": {
    "name": "ipython",
    "version": 2
   },
   "file_extension": ".py",
   "mimetype": "text/x-python",
   "name": "python",
   "nbconvert_exporter": "python",
   "pygments_lexer": "ipython2",
   "version": "2.7.6"
  }
 },
 "nbformat": 4,
 "nbformat_minor": 0
}
