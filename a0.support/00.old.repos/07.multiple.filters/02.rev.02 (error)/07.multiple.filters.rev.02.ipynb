{
 "cells": [
  {
   "cell_type": "code",
   "execution_count": 46,
   "outputs": [],
   "source": [
    "import openpyxl\n",
    "import os\n",
    "import glob"
   ],
   "metadata": {
    "collapsed": false,
    "ExecuteTime": {
     "end_time": "2023-07-19T08:27:42.972697700Z",
     "start_time": "2023-07-19T08:27:42.972316Z"
    }
   }
  },
  {
   "cell_type": "code",
   "execution_count": 47,
   "outputs": [],
   "source": [
    "excel_files = glob.glob(\"*.xlsx\")"
   ],
   "metadata": {
    "collapsed": false,
    "ExecuteTime": {
     "end_time": "2023-07-19T08:27:42.991091200Z",
     "start_time": "2023-07-19T08:27:42.972697700Z"
    }
   }
  },
  {
   "cell_type": "code",
   "execution_count": 48,
   "outputs": [
    {
     "ename": "TypeError",
     "evalue": "'<' not supported between instances of 'Cell' and 'int'",
     "output_type": "error",
     "traceback": [
      "\u001B[1;31m---------------------------------------------------------------------------\u001B[0m",
      "\u001B[1;31mTypeError\u001B[0m                                 Traceback (most recent call last)",
      "Cell \u001B[1;32mIn[48], line 7\u001B[0m\n\u001B[0;32m      5\u001B[0m filtered_rows \u001B[38;5;241m=\u001B[39m []\n\u001B[0;32m      6\u001B[0m \u001B[38;5;28;01mfor\u001B[39;00m row \u001B[38;5;129;01min\u001B[39;00m sheet\u001B[38;5;241m.\u001B[39miter_rows():\n\u001B[1;32m----> 7\u001B[0m     cell \u001B[38;5;241m=\u001B[39m \u001B[43msheet\u001B[49m\u001B[38;5;241;43m.\u001B[39;49m\u001B[43mcell\u001B[49m\u001B[43m(\u001B[49m\u001B[43mrow\u001B[49m\u001B[43m[\u001B[49m\u001B[38;5;241;43m0\u001B[39;49m\u001B[43m]\u001B[49m\u001B[43m,\u001B[49m\u001B[43m \u001B[49m\u001B[38;5;241;43m0\u001B[39;49m\u001B[43m)\u001B[49m\n\u001B[0;32m      8\u001B[0m     \u001B[38;5;28;01mif\u001B[39;00m cell\u001B[38;5;241m.\u001B[39mvalue \u001B[38;5;241m==\u001B[39m \u001B[38;5;124m\"\u001B[39m\u001B[38;5;124mTrx Type\u001B[39m\u001B[38;5;124m\"\u001B[39m \u001B[38;5;129;01mand\u001B[39;00m cell\u001B[38;5;241m.\u001B[39mrow \u001B[38;5;241m>\u001B[39m \u001B[38;5;241m1\u001B[39m:\n\u001B[0;32m      9\u001B[0m         value \u001B[38;5;241m=\u001B[39m cell\u001B[38;5;241m.\u001B[39mvalue\n",
      "File \u001B[1;32m~\\AppData\\Local\\Programs\\Python\\Python311\\Lib\\site-packages\\openpyxl\\worksheet\\worksheet.py:242\u001B[0m, in \u001B[0;36mWorksheet.cell\u001B[1;34m(self, row, column, value)\u001B[0m\n\u001B[0;32m    221\u001B[0m \u001B[38;5;28;01mdef\u001B[39;00m \u001B[38;5;21mcell\u001B[39m(\u001B[38;5;28mself\u001B[39m, row, column, value\u001B[38;5;241m=\u001B[39m\u001B[38;5;28;01mNone\u001B[39;00m):\n\u001B[0;32m    222\u001B[0m \u001B[38;5;250m    \u001B[39m\u001B[38;5;124;03m\"\"\"\u001B[39;00m\n\u001B[0;32m    223\u001B[0m \u001B[38;5;124;03m    Returns a cell object based on the given coordinates.\u001B[39;00m\n\u001B[0;32m    224\u001B[0m \n\u001B[1;32m   (...)\u001B[0m\n\u001B[0;32m    239\u001B[0m \u001B[38;5;124;03m    :rtype: openpyxl.cell.cell.Cell\u001B[39;00m\n\u001B[0;32m    240\u001B[0m \u001B[38;5;124;03m    \"\"\"\u001B[39;00m\n\u001B[1;32m--> 242\u001B[0m     \u001B[38;5;28;01mif\u001B[39;00m \u001B[43mrow\u001B[49m\u001B[43m \u001B[49m\u001B[38;5;241;43m<\u001B[39;49m\u001B[43m \u001B[49m\u001B[38;5;241;43m1\u001B[39;49m \u001B[38;5;129;01mor\u001B[39;00m column \u001B[38;5;241m<\u001B[39m \u001B[38;5;241m1\u001B[39m:\n\u001B[0;32m    243\u001B[0m         \u001B[38;5;28;01mraise\u001B[39;00m \u001B[38;5;167;01mValueError\u001B[39;00m(\u001B[38;5;124m\"\u001B[39m\u001B[38;5;124mRow or column values must be at least 1\u001B[39m\u001B[38;5;124m\"\u001B[39m)\n\u001B[0;32m    245\u001B[0m     cell \u001B[38;5;241m=\u001B[39m \u001B[38;5;28mself\u001B[39m\u001B[38;5;241m.\u001B[39m_get_cell(row, column)\n",
      "\u001B[1;31mTypeError\u001B[0m: '<' not supported between instances of 'Cell' and 'int'"
     ]
    }
   ],
   "source": [
    "for excel_file in excel_files:\n",
    "    workbook = openpyxl.load_workbook(excel_file)\n",
    "    sheet = workbook.active\n",
    "    new_sheet = workbook.create_sheet(\"Filtered Data\")\n",
    "    filtered_rows = []\n",
    "    for row in sheet.iter_rows():\n",
    "        cell = sheet.cell(row[0], 0)\n",
    "        if cell.value == \"Trx Type\" and cell.row > 1:\n",
    "            value = cell.value\n",
    "            if value in [\"Move Order Issue on Project\", \"RME Issue ( On Project)\", \"RME Site Return\"]:\n",
    "                filtered_rows.append(row)\n",
    "    for row in filtered_rows:\n",
    "        new_sheet.append(row)\n",
    "    workbook.save(excel_file)"
   ],
   "metadata": {
    "collapsed": false,
    "ExecuteTime": {
     "end_time": "2023-07-19T08:27:44.253759700Z",
     "start_time": "2023-07-19T08:27:42.991091200Z"
    }
   }
  }
 ],
 "metadata": {
  "kernelspec": {
   "display_name": "Python 3",
   "language": "python",
   "name": "python3"
  },
  "language_info": {
   "codemirror_mode": {
    "name": "ipython",
    "version": 2
   },
   "file_extension": ".py",
   "mimetype": "text/x-python",
   "name": "python",
   "nbconvert_exporter": "python",
   "pygments_lexer": "ipython2",
   "version": "2.7.6"
  }
 },
 "nbformat": 4,
 "nbformat_minor": 0
}
