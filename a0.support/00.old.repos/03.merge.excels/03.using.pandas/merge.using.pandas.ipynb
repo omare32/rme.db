{
 "cells": [
  {
   "cell_type": "code",
   "execution_count": 1,
   "id": "bd22c36d",
   "metadata": {},
   "outputs": [],
   "source": [
    "import pandas as pd\n",
    "import os"
   ]
  },
  {
   "cell_type": "code",
   "execution_count": 2,
   "id": "8c0f186b",
   "metadata": {},
   "outputs": [],
   "source": [
    "# Get all Excel files in the current folder\n",
    "excel_files = [file for file in os.listdir() if file.endswith(\".xlsx\")]"
   ]
  },
  {
   "cell_type": "code",
   "execution_count": 3,
   "id": "fcee0723",
   "metadata": {},
   "outputs": [],
   "source": [
    "# Loop over all Excel files\n",
    "for excel_file in excel_files:\n",
    "    # Read the Excel file into a Pandas DataFrame\n",
    "    df = pd.read_excel(excel_file)\n",
    "    # Save the DataFrame to a new Excel file\n",
    "    df.to_excel(excel_file, index=False)"
   ]
  },
  {
   "cell_type": "code",
   "execution_count": null,
   "id": "c1bbad63",
   "metadata": {},
   "outputs": [],
   "source": []
  },
  {
   "cell_type": "code",
   "execution_count": null,
   "id": "90f26680",
   "metadata": {},
   "outputs": [],
   "source": []
  }
 ],
 "metadata": {
  "kernelspec": {
   "display_name": "Python 3 (ipykernel)",
   "language": "python",
   "name": "python3"
  },
  "language_info": {
   "codemirror_mode": {
    "name": "ipython",
    "version": 3
   },
   "file_extension": ".py",
   "mimetype": "text/x-python",
   "name": "python",
   "nbconvert_exporter": "python",
   "pygments_lexer": "ipython3",
   "version": "3.11.4"
  }
 },
 "nbformat": 4,
 "nbformat_minor": 5
}
