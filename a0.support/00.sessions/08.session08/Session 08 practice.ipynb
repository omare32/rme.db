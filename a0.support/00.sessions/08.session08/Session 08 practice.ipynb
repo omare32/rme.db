{
 "cells": [
  {
   "cell_type": "markdown",
   "id": "48cff53f",
   "metadata": {},
   "source": [
    "## Functions"
   ]
  },
  {
   "cell_type": "code",
   "execution_count": null,
   "id": "4752d303",
   "metadata": {},
   "outputs": [],
   "source": [
    "name = input('Enter Your Name')\n",
    "print(f\"Hello {name} welcome to our systme\")"
   ]
  },
  {
   "cell_type": "code",
   "execution_count": null,
   "id": "5479e430",
   "metadata": {},
   "outputs": [],
   "source": [
    "name = input('Enter Your Name')\n",
    "print(f\"Hello {name} welcome to our systme\")"
   ]
  },
  {
   "cell_type": "code",
   "execution_count": null,
   "id": "e68a3e38",
   "metadata": {},
   "outputs": [],
   "source": [
    "name = input('Enter Your Name')\n",
    "print(f\"Hello {name} welcome to our systme\")"
   ]
  },
  {
   "cell_type": "code",
   "execution_count": 4,
   "id": "895dd005",
   "metadata": {},
   "outputs": [],
   "source": [
    "def welcome():\n",
    "    name = input('Enter Your First Name: ')\n",
    "    print(f'Hello {name} Welcome To Our System!')"
   ]
  },
  {
   "cell_type": "code",
   "execution_count": 5,
   "id": "79cd7188",
   "metadata": {},
   "outputs": [
    {
     "name": "stdout",
     "output_type": "stream",
     "text": [
      "Enter Your First Name: Anas\n",
      "Hello Anas Welcome To Our System!\n"
     ]
    }
   ],
   "source": [
    "welcome()"
   ]
  },
  {
   "cell_type": "code",
   "execution_count": 3,
   "id": "c2c7226a",
   "metadata": {},
   "outputs": [
    {
     "name": "stdout",
     "output_type": "stream",
     "text": [
      "Enter Your First NameMohamed\n",
      "Hello Mohamed Welcome To Our System!\n"
     ]
    }
   ],
   "source": [
    "welcome()"
   ]
  },
  {
   "cell_type": "code",
   "execution_count": 6,
   "id": "199cdf95",
   "metadata": {},
   "outputs": [
    {
     "name": "stdout",
     "output_type": "stream",
     "text": [
      "Hello\n"
     ]
    }
   ],
   "source": [
    "print('Hello')"
   ]
  },
  {
   "cell_type": "code",
   "execution_count": 7,
   "id": "f00d4e2c",
   "metadata": {},
   "outputs": [
    {
     "data": {
      "text/plain": [
       "8"
      ]
     },
     "execution_count": 7,
     "metadata": {},
     "output_type": "execute_result"
    }
   ],
   "source": [
    "len('asgwgagw')"
   ]
  },
  {
   "cell_type": "code",
   "execution_count": 19,
   "id": "7c113000",
   "metadata": {},
   "outputs": [],
   "source": [
    "import os"
   ]
  },
  {
   "cell_type": "code",
   "execution_count": 30,
   "id": "ff714b43",
   "metadata": {},
   "outputs": [],
   "source": [
    "def create_new_user():\n",
    "    flag = True\n",
    "    while flag:\n",
    "        user_name = input('Username: ')\n",
    "        file_name = f\"{user_name}.txt\"\n",
    "        if file_name not in os.listdir():\n",
    "            flag = False\n",
    "            password = input('Password: ')\n",
    "            deposit = float(input('Sum: '))\n",
    "            with open(file_name, 'w') as file:\n",
    "                file.write(f\"{password}\\n\")\n",
    "                file.write(str(deposit))\n",
    "        else:\n",
    "            print('Try Again This user Is Already Exist!')\n"
   ]
  },
  {
   "cell_type": "code",
   "execution_count": 23,
   "id": "f3a3920f",
   "metadata": {},
   "outputs": [],
   "source": [
    "def check_balance(user_name):\n",
    "    file_name = f'{user_name}.txt'\n",
    "    if file_name in os.listdir():\n",
    "        with open(file_name, 'r+') as f:\n",
    "            lines = f.readlines()\n",
    "            balance = lines[-1].strip()\n",
    "        return float(balance)\n",
    "    else:\n",
    "        return \"This User Doesn't Exist\""
   ]
  },
  {
   "cell_type": "code",
   "execution_count": 31,
   "id": "d562010f",
   "metadata": {},
   "outputs": [],
   "source": [
    "def check_password(user_name, password):\n",
    "    file_name = f'{user_name}.txt'\n",
    "    if file_name in os.listdir():\n",
    "        with open(file_name, 'r+') as f:\n",
    "            lines = f.readlines()\n",
    "            pas = lines[0].strip()\n",
    "        return True if password == pas else False\n",
    "    else:\n",
    "        'This Username Is\\'nt exist'"
   ]
  },
  {
   "cell_type": "code",
   "execution_count": 65,
   "id": "c9b10003",
   "metadata": {},
   "outputs": [],
   "source": [
    "def deposit(user_name,summ):\n",
    "    file_name = f'{user_name}.txt'\n",
    "    if file_name in os.listdir():\n",
    "        with open(file_name, 'r+') as f:\n",
    "            lines = f.readlines()\n",
    "            balance = float(lines[-1].strip())\n",
    "            balance += summ\n",
    "            lines[-1] = str(balance)\n",
    "            f.seek(0)\n",
    "            f.truncate()\n",
    "            f.write(lines[0])\n",
    "            f.write(lines[1])\n",
    "            print(f'Added Successfully Your New_balance is : {balance}')\n",
    "    else:\n",
    "        return \"This User Doesn't Exist\""
   ]
  },
  {
   "cell_type": "code",
   "execution_count": 47,
   "id": "dbf71029",
   "metadata": {},
   "outputs": [
    {
     "name": "stdout",
     "output_type": "stream",
     "text": [
      "['12345\\n', '8000.0']\n"
     ]
    }
   ],
   "source": [
    "deposit('anasawad', 3000)"
   ]
  },
  {
   "cell_type": "code",
   "execution_count": 66,
   "id": "c261c97c",
   "metadata": {},
   "outputs": [],
   "source": [
    "def with_draw(user_name,summ):\n",
    "    file_name = f'{user_name}.txt'\n",
    "    if file_name in os.listdir():\n",
    "        with open(file_name, 'r+') as f:\n",
    "            lines = f.readlines()\n",
    "            balance = float(lines[-1].strip())\n",
    "            if balance >= summ:\n",
    "                balance -= summ\n",
    "                lines[-1] = str(balance)\n",
    "                f.seek(0)\n",
    "                f.truncate()\n",
    "                f.write(lines[0])\n",
    "                f.write(lines[1])\n",
    "                print(f'deducted Successfully Your New_balance is : {balance}')\n",
    "            else:\n",
    "                print('Cant with draw this amount of money')\n",
    "    else:\n",
    "        return \"This User Doesn't Exist\""
   ]
  },
  {
   "cell_type": "code",
   "execution_count": 53,
   "id": "58bf4c50",
   "metadata": {},
   "outputs": [
    {
     "name": "stdout",
     "output_type": "stream",
     "text": [
      "Cant with draw this amount of money\n"
     ]
    }
   ],
   "source": [
    "with_draw('anasawad', 5000)"
   ]
  },
  {
   "cell_type": "code",
   "execution_count": null,
   "id": "68dc1099",
   "metadata": {},
   "outputs": [
    {
     "name": "stdout",
     "output_type": "stream",
     "text": [
      "Enter 1 --> Create New Account\n",
      "2 --> Sign In\n",
      "3 --> Exit\n",
      "2\n",
      "Enter Your Username: mohame esmaiel\n",
      "Enter Your Password: 54321\n",
      "****************************************************************************************************\n",
      "1--> check balance\n",
      "2 --> deposit\n",
      "3 --> withdraw\n",
      "4 --> sign out\n",
      "1\n",
      "16000.0\n",
      "****************************************************************************************************\n"
     ]
    }
   ],
   "source": [
    "while True:\n",
    "    option = int(input('Enter 1 --> create New account\\n2 --> sign in\\n3 --> exit\\n'.title()))\n",
    "    if option == 1:\n",
    "        create_new_user()\n",
    "    elif option == 2:\n",
    "        flag = True\n",
    "        user_name = input('Enter Your Username: ')\n",
    "        file_name = f'{user_name}.txt'\n",
    "        if file_name in os.listdir():\n",
    "            while flag:\n",
    "                password = input('Enter Your Password: ')\n",
    "                if check_password(user_name, password):\n",
    "                    flag = False\n",
    "                    while True:\n",
    "                        print('*'*100)\n",
    "                        option2 = int(input('1--> check balance\\n2 --> deposit\\n3 --> withdraw\\n4 --> sign out\\n'))\n",
    "                        if option2 == 1:\n",
    "                             print(check_balance(user_name))\n",
    "                        elif option2 == 2:\n",
    "                            amount = float(input('Enter Your Amount: '))\n",
    "                            deposit(user_name, amount)\n",
    "                        elif option2 == 3:\n",
    "                            amount = float(input('Enter Your Amount: '))\n",
    "                            with_draw(user_name, amount)\n",
    "                        else:\n",
    "                            break\n",
    "                else:\n",
    "                    print('Wrong Password Try Again!')\n",
    "\n",
    "        else:\n",
    "            print(\"This User Doesn't Exist\")\n",
    "    else:\n",
    "        break\n",
    "    "
   ]
  },
  {
   "cell_type": "code",
   "execution_count": null,
   "id": "8ed0e9c2",
   "metadata": {},
   "outputs": [],
   "source": []
  }
 ],
 "metadata": {
  "kernelspec": {
   "display_name": "Python 3 (ipykernel)",
   "language": "python",
   "name": "python3"
  },
  "language_info": {
   "codemirror_mode": {
    "name": "ipython",
    "version": 3
   },
   "file_extension": ".py",
   "mimetype": "text/x-python",
   "name": "python",
   "nbconvert_exporter": "python",
   "pygments_lexer": "ipython3",
   "version": "3.10.9"
  }
 },
 "nbformat": 4,
 "nbformat_minor": 5
}
