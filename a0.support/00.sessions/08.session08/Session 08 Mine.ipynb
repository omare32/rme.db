{
 "cells": [
  {
   "cell_type": "code",
   "execution_count": 2,
   "id": "4572df63",
   "metadata": {},
   "outputs": [
    {
     "name": "stdout",
     "output_type": "stream",
     "text": [
      "omar_essam\n"
     ]
    }
   ],
   "source": [
    "print('omar','essam',sep='_')"
   ]
  },
  {
   "cell_type": "code",
   "execution_count": 10,
   "id": "f9e7b09c",
   "metadata": {},
   "outputs": [],
   "source": [
    "def koko(x):\n",
    "    return 2"
   ]
  },
  {
   "cell_type": "code",
   "execution_count": null,
   "id": "4e2b0e9f",
   "metadata": {},
   "outputs": [],
   "source": []
  },
  {
   "cell_type": "code",
   "execution_count": 11,
   "id": "f5360105",
   "metadata": {},
   "outputs": [
    {
     "ename": "TypeError",
     "evalue": "koko() missing 1 required positional argument: 'x'",
     "output_type": "error",
     "traceback": [
      "\u001b[1;31m---------------------------------------------------------------------------\u001b[0m",
      "\u001b[1;31mTypeError\u001b[0m                                 Traceback (most recent call last)",
      "\u001b[1;32m~\\AppData\\Local\\Temp\\ipykernel_10728\\1359787721.py\u001b[0m in \u001b[0;36m<module>\u001b[1;34m\u001b[0m\n\u001b[1;32m----> 1\u001b[1;33m \u001b[0mkoko\u001b[0m\u001b[1;33m(\u001b[0m\u001b[1;33m)\u001b[0m\u001b[1;33m\u001b[0m\u001b[1;33m\u001b[0m\u001b[0m\n\u001b[0m",
      "\u001b[1;31mTypeError\u001b[0m: koko() missing 1 required positional argument: 'x'"
     ]
    }
   ],
   "source": [
    "koko()"
   ]
  },
  {
   "cell_type": "code",
   "execution_count": null,
   "id": "d7d0d4f0",
   "metadata": {},
   "outputs": [],
   "source": [
    "[n**2 if n%2==0 else n**3 for n in l]"
   ]
  },
  {
   "cell_type": "code",
   "execution_count": 13,
   "id": "756df95e",
   "metadata": {},
   "outputs": [
    {
     "name": "stdout",
     "output_type": "stream",
     "text": [
      "[1, 4, 9, 16, 25]\n"
     ]
    }
   ],
   "source": [
    "l=[1,2,3,4,5]\n",
    "l2=[n**2 for n in l]\n",
    "print(l2)"
   ]
  },
  {
   "cell_type": "code",
   "execution_count": null,
   "id": "001f851c",
   "metadata": {},
   "outputs": [],
   "source": [
    "def koko2(i):\n",
    "    if i%2==0:\n",
    "        print(i)\n",
    "    else:\n",
    "        pass\n",
    "l3=[1,2,3,4,5,6,7,8,9]\n",
    "\n"
   ]
  }
 ],
 "metadata": {
  "kernelspec": {
   "display_name": "Python 3 (ipykernel)",
   "language": "python",
   "name": "python3"
  },
  "language_info": {
   "codemirror_mode": {
    "name": "ipython",
    "version": 3
   },
   "file_extension": ".py",
   "mimetype": "text/x-python",
   "name": "python",
   "nbconvert_exporter": "python",
   "pygments_lexer": "ipython3",
   "version": "3.9.13"
  }
 },
 "nbformat": 4,
 "nbformat_minor": 5
}
