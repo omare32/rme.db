{
 "cells": [
  {
   "cell_type": "markdown",
   "id": "ba136c35",
   "metadata": {},
   "source": [
    "## Functions"
   ]
  },
  {
   "cell_type": "code",
   "execution_count": 8,
   "id": "57ecffb8",
   "metadata": {},
   "outputs": [
    {
     "name": "stdout",
     "output_type": "stream",
     "text": [
      "hello-mohamed-llll-5\tllllllllll\n"
     ]
    }
   ],
   "source": [
    "print('hello', 'mohamed','llll',5,sep='-',end='\\t')\n",
    "print('llllllllll')"
   ]
  },
  {
   "cell_type": "code",
   "execution_count": 12,
   "id": "677045f0",
   "metadata": {},
   "outputs": [],
   "source": [
    "def greeting(name):\n",
    "    \n",
    "    print('hello',name)"
   ]
  },
  {
   "cell_type": "code",
   "execution_count": 17,
   "id": "0cad99fd",
   "metadata": {},
   "outputs": [
    {
     "name": "stdout",
     "output_type": "stream",
     "text": [
      "hello 4\n"
     ]
    }
   ],
   "source": [
    "greeting(4)"
   ]
  },
  {
   "cell_type": "code",
   "execution_count": 21,
   "id": "5bbbaf88",
   "metadata": {},
   "outputs": [],
   "source": [
    "def add(n1,n2):\n",
    "    \n",
    "    print('sum:',n1+n2)\n",
    "    print(n1)\n",
    "    print(n2)"
   ]
  },
  {
   "cell_type": "code",
   "execution_count": 22,
   "id": "0f1bb3b4",
   "metadata": {},
   "outputs": [
    {
     "name": "stdout",
     "output_type": "stream",
     "text": [
      "sum: 6\n",
      "1\n",
      "5\n"
     ]
    }
   ],
   "source": [
    "add(1,5)"
   ]
  },
  {
   "cell_type": "code",
   "execution_count": 25,
   "id": "590acfba",
   "metadata": {},
   "outputs": [],
   "source": [
    "def sub(n1,n2):\n",
    "    '''\n",
    "    sub: subtract n2 from n1\n",
    "    n1: int value \n",
    "    n2: int value\n",
    "    examble: sub(9,2)==>7\n",
    "    '''\n",
    "    print(n1-n2)"
   ]
  },
  {
   "cell_type": "code",
   "execution_count": 24,
   "id": "a9a25597",
   "metadata": {},
   "outputs": [
    {
     "name": "stdout",
     "output_type": "stream",
     "text": [
      "7\n"
     ]
    }
   ],
   "source": [
    "sub(9,2)"
   ]
  },
  {
   "cell_type": "code",
   "execution_count": 28,
   "id": "b2a95a9a",
   "metadata": {},
   "outputs": [
    {
     "name": "stdout",
     "output_type": "stream",
     "text": [
      "hello\n"
     ]
    }
   ],
   "source": [
    "x=print('hello')"
   ]
  },
  {
   "cell_type": "code",
   "execution_count": 29,
   "id": "c15beb3c",
   "metadata": {},
   "outputs": [],
   "source": [
    "x"
   ]
  },
  {
   "cell_type": "code",
   "execution_count": 30,
   "id": "cf3d57c9",
   "metadata": {},
   "outputs": [
    {
     "name": "stdout",
     "output_type": "stream",
     "text": [
      "uuuu\n"
     ]
    }
   ],
   "source": [
    "x=input()"
   ]
  },
  {
   "cell_type": "code",
   "execution_count": 31,
   "id": "d08d9cb3",
   "metadata": {},
   "outputs": [
    {
     "data": {
      "text/plain": [
       "'uuuu'"
      ]
     },
     "execution_count": 31,
     "metadata": {},
     "output_type": "execute_result"
    }
   ],
   "source": [
    "x"
   ]
  },
  {
   "cell_type": "code",
   "execution_count": 32,
   "id": "be61b349",
   "metadata": {},
   "outputs": [],
   "source": [
    "def area(radius):\n",
    "    return (3/4)*radius**2"
   ]
  },
  {
   "cell_type": "code",
   "execution_count": 35,
   "id": "f127ef47",
   "metadata": {},
   "outputs": [],
   "source": [
    "\n",
    "var=area(3)#var=33"
   ]
  },
  {
   "cell_type": "code",
   "execution_count": 34,
   "id": "5872e362",
   "metadata": {},
   "outputs": [
    {
     "data": {
      "text/plain": [
       "'uuuu'"
      ]
     },
     "execution_count": 34,
     "metadata": {},
     "output_type": "execute_result"
    }
   ],
   "source": [
    "x"
   ]
  },
  {
   "cell_type": "code",
   "execution_count": 36,
   "id": "b6c2b45e",
   "metadata": {},
   "outputs": [
    {
     "data": {
      "text/plain": [
       "6.75"
      ]
     },
     "execution_count": 36,
     "metadata": {},
     "output_type": "execute_result"
    }
   ],
   "source": [
    "var"
   ]
  },
  {
   "cell_type": "code",
   "execution_count": 37,
   "id": "147f7738",
   "metadata": {},
   "outputs": [
    {
     "name": "stdout",
     "output_type": "stream",
     "text": [
      "sum: 6\n",
      "2\n",
      "4\n"
     ]
    }
   ],
   "source": [
    "c=add(2,4)"
   ]
  },
  {
   "cell_type": "code",
   "execution_count": 38,
   "id": "2a2a14ad",
   "metadata": {},
   "outputs": [],
   "source": [
    "c"
   ]
  },
  {
   "cell_type": "code",
   "execution_count": 39,
   "id": "290b4a57",
   "metadata": {},
   "outputs": [],
   "source": [
    "def f1(n):\n",
    "    if n==2:\n",
    "        return 'ok'\n",
    "    return 'mmmmm'"
   ]
  },
  {
   "cell_type": "code",
   "execution_count": 45,
   "id": "caf4cad6",
   "metadata": {},
   "outputs": [
    {
     "data": {
      "text/plain": [
       "'mmmmm'"
      ]
     },
     "execution_count": 45,
     "metadata": {},
     "output_type": "execute_result"
    }
   ],
   "source": [
    "f1('ll')"
   ]
  },
  {
   "cell_type": "code",
   "execution_count": 41,
   "id": "ac15d078",
   "metadata": {},
   "outputs": [
    {
     "data": {
      "text/plain": [
       "'ok'"
      ]
     },
     "execution_count": 41,
     "metadata": {},
     "output_type": "execute_result"
    }
   ],
   "source": [
    "f1(2)"
   ]
  },
  {
   "cell_type": "code",
   "execution_count": 43,
   "id": "20f1f7a5",
   "metadata": {},
   "outputs": [
    {
     "name": "stdout",
     "output_type": "stream",
     "text": [
      "ok\n",
      ",mmm\n"
     ]
    }
   ],
   "source": [
    "n=2\n",
    "if n==2:\n",
    "    print('ok')\n",
    "print(',mmm')"
   ]
  },
  {
   "cell_type": "code",
   "execution_count": 46,
   "id": "aeec7e72",
   "metadata": {},
   "outputs": [],
   "source": [
    "x=9"
   ]
  },
  {
   "cell_type": "code",
   "execution_count": 47,
   "id": "6bf036f1",
   "metadata": {},
   "outputs": [
    {
     "data": {
      "text/plain": [
       "9"
      ]
     },
     "execution_count": 47,
     "metadata": {},
     "output_type": "execute_result"
    }
   ],
   "source": [
    "x"
   ]
  },
  {
   "cell_type": "code",
   "execution_count": 56,
   "id": "d0fd7da3",
   "metadata": {},
   "outputs": [],
   "source": [
    "def calc(n1=1,n2=1,op='+'):\n",
    "    \n",
    "    if op=='+':\n",
    "        return n1+n2\n",
    "    elif op=='-':\n",
    "        return n1-n2\n",
    "    elif op=='/':\n",
    "        if n2==0:\n",
    "            print('can not divide on zero')\n",
    "        else:\n",
    "            return n1/n2\n",
    "    elif op=='*':\n",
    "        return n1*n2\n",
    "    else:\n",
    "        print('wrong operator')"
   ]
  },
  {
   "cell_type": "code",
   "execution_count": 50,
   "id": "b61de2a4",
   "metadata": {},
   "outputs": [
    {
     "data": {
      "text/plain": [
       "15"
      ]
     },
     "execution_count": 50,
     "metadata": {},
     "output_type": "execute_result"
    }
   ],
   "source": [
    "\n",
    "\n",
    "calc(3,5,'*')"
   ]
  },
  {
   "cell_type": "code",
   "execution_count": 52,
   "id": "fc122382",
   "metadata": {},
   "outputs": [
    {
     "name": "stdout",
     "output_type": "stream",
     "text": [
      "wrong operator\n"
     ]
    }
   ],
   "source": [
    "calc(3,'+',1)"
   ]
  },
  {
   "cell_type": "code",
   "execution_count": 53,
   "id": "36ecfa52",
   "metadata": {},
   "outputs": [
    {
     "data": {
      "text/plain": [
       "0.375"
      ]
     },
     "execution_count": 53,
     "metadata": {},
     "output_type": "execute_result"
    }
   ],
   "source": [
    "calc(n1=3,op='/',n2=8)"
   ]
  },
  {
   "cell_type": "code",
   "execution_count": 57,
   "id": "b7df55d4",
   "metadata": {},
   "outputs": [
    {
     "data": {
      "text/plain": [
       "2"
      ]
     },
     "execution_count": 57,
     "metadata": {},
     "output_type": "execute_result"
    }
   ],
   "source": [
    "calc()"
   ]
  },
  {
   "cell_type": "code",
   "execution_count": 58,
   "id": "b2c33321",
   "metadata": {},
   "outputs": [
    {
     "data": {
      "text/plain": [
       "4"
      ]
     },
     "execution_count": 58,
     "metadata": {},
     "output_type": "execute_result"
    }
   ],
   "source": [
    "calc(1,3)"
   ]
  },
  {
   "cell_type": "code",
   "execution_count": 59,
   "id": "7ea0f8f6",
   "metadata": {},
   "outputs": [
    {
     "data": {
      "text/plain": [
       "7"
      ]
     },
     "execution_count": 59,
     "metadata": {},
     "output_type": "execute_result"
    }
   ],
   "source": [
    "calc(3,4,'+')"
   ]
  },
  {
   "cell_type": "code",
   "execution_count": 61,
   "id": "4d9c9a55",
   "metadata": {},
   "outputs": [
    {
     "data": {
      "text/plain": [
       "7"
      ]
     },
     "execution_count": 61,
     "metadata": {},
     "output_type": "execute_result"
    }
   ],
   "source": [
    "calc(n1=3,op='+',n2=4)"
   ]
  },
  {
   "cell_type": "code",
   "execution_count": 62,
   "id": "50661a53",
   "metadata": {},
   "outputs": [],
   "source": [
    "def f2(*args):\n",
    "    for i in args:\n",
    "        print(i)"
   ]
  },
  {
   "cell_type": "code",
   "execution_count": 63,
   "id": "320179b0",
   "metadata": {},
   "outputs": [
    {
     "name": "stdout",
     "output_type": "stream",
     "text": [
      "9\n",
      "10\n",
      "11\n"
     ]
    }
   ],
   "source": [
    "f2(9,10,11)"
   ]
  },
  {
   "cell_type": "code",
   "execution_count": 64,
   "id": "79cfa93a",
   "metadata": {},
   "outputs": [
    {
     "name": "stdout",
     "output_type": "stream",
     "text": [
      "1\n",
      "2\n",
      "3\n",
      "4\n",
      "5\n",
      "7\n"
     ]
    }
   ],
   "source": [
    "f2(1,2,3,4,5,7)"
   ]
  },
  {
   "cell_type": "code",
   "execution_count": 88,
   "id": "ef71f50d",
   "metadata": {},
   "outputs": [],
   "source": [
    "def fp(*values,sep=' '):\n",
    "    s=''\n",
    "    for i in range(len(values)-1):\n",
    "        s+=str(values[i])+sep\n",
    "    s+=str(values[i+1])\n",
    "    print(s)"
   ]
  },
  {
   "cell_type": "code",
   "execution_count": 91,
   "id": "6aae0273",
   "metadata": {},
   "outputs": [
    {
     "name": "stdout",
     "output_type": "stream",
     "text": [
      "1/2/lll/4/6/ppp\n"
     ]
    }
   ],
   "source": [
    "fp(1,2,'lll',4,6,'ppp',sep='/')"
   ]
  },
  {
   "cell_type": "code",
   "execution_count": 96,
   "id": "b57e654c",
   "metadata": {},
   "outputs": [],
   "source": [
    "def calc(*numbers,op='+'):\n",
    "    \n",
    "    if op=='+':\n",
    "        summ=0\n",
    "        for n in numbers:\n",
    "            summ+=n\n",
    "        return summ\n",
    "    elif op=='-':\n",
    "        sub=numbers[0]\n",
    "        for i in range(1,len(numbers)):\n",
    "            sub-=numbers[i]\n",
    "        return sub\n",
    "    elif op=='/':\n",
    "        s=numbers[0]\n",
    "        for i in range(1,len(numbers)):\n",
    "            if numbers[i]==0:\n",
    "                print('can not divide on zero')\n",
    "                print('number in the index',i)\n",
    "                continue\n",
    "            else:\n",
    "                s/=numbers[i]\n",
    "        return s\n",
    "    elif op=='*':\n",
    "        d=1\n",
    "        for n in numbers:\n",
    "            d*=n\n",
    "        return d\n",
    "    else:\n",
    "        print('wrong operator')"
   ]
  },
  {
   "cell_type": "code",
   "execution_count": 97,
   "id": "fada255a",
   "metadata": {},
   "outputs": [
    {
     "data": {
      "text/plain": [
       "22"
      ]
     },
     "execution_count": 97,
     "metadata": {},
     "output_type": "execute_result"
    }
   ],
   "source": [
    "calc(1,4,2,6,2,7)"
   ]
  },
  {
   "cell_type": "code",
   "execution_count": 98,
   "id": "92475226",
   "metadata": {},
   "outputs": [
    {
     "name": "stdout",
     "output_type": "stream",
     "text": [
      "can not divide on zero\n",
      "number in the index 3\n"
     ]
    },
    {
     "data": {
      "text/plain": [
       "0.13333333333333333"
      ]
     },
     "execution_count": 98,
     "metadata": {},
     "output_type": "execute_result"
    }
   ],
   "source": [
    "calc(4,3,5,0,2,op='/')"
   ]
  },
  {
   "cell_type": "code",
   "execution_count": 99,
   "id": "7a61870e",
   "metadata": {},
   "outputs": [
    {
     "name": "stdout",
     "output_type": "stream",
     "text": [
      "can not divide on zero\n",
      "number in the index 2\n"
     ]
    },
    {
     "data": {
      "text/plain": [
       "3.0"
      ]
     },
     "execution_count": 99,
     "metadata": {},
     "output_type": "execute_result"
    }
   ],
   "source": [
    "calc(12,4,0,1,op='/')"
   ]
  },
  {
   "cell_type": "code",
   "execution_count": 109,
   "id": "c0386a9e",
   "metadata": {},
   "outputs": [],
   "source": [
    "def func(**d):\n",
    "    return(d)"
   ]
  },
  {
   "cell_type": "code",
   "execution_count": 110,
   "id": "b1b5edc9",
   "metadata": {},
   "outputs": [
    {
     "data": {
      "text/plain": [
       "{'n1': 9, 'n2': 8, 'n3': 7}"
      ]
     },
     "execution_count": 110,
     "metadata": {},
     "output_type": "execute_result"
    }
   ],
   "source": [
    "func(n1=9,n2=8,n3=7)"
   ]
  },
  {
   "cell_type": "code",
   "execution_count": 111,
   "id": "ba3d71e3",
   "metadata": {},
   "outputs": [
    {
     "data": {
      "text/plain": [
       "{'n3': 9, 'n': {'n2': 9, 'n1': 8}, 'm': 8, 'b': 7, 'h': 7}"
      ]
     },
     "execution_count": 111,
     "metadata": {},
     "output_type": "execute_result"
    }
   ],
   "source": [
    "func(n3=9,n={'n2':9,'n1':8},m=8,b=7,h=7)"
   ]
  },
  {
   "cell_type": "code",
   "execution_count": 112,
   "id": "5092360a",
   "metadata": {},
   "outputs": [
    {
     "data": {
      "text/plain": [
       "{'n3': 9, 'n': {'n2': 9, 'n1': 8}, 'm': 8, 'b': 7, 'h': 7}"
      ]
     },
     "execution_count": 112,
     "metadata": {},
     "output_type": "execute_result"
    }
   ],
   "source": [
    "func(n3=9,n=func(n2=9,n1=8),m=8,b=7,h=7)"
   ]
  },
  {
   "cell_type": "code",
   "execution_count": 103,
   "id": "c17284d6",
   "metadata": {},
   "outputs": [],
   "source": [
    "def f2(*n):\n",
    "    print(n)"
   ]
  },
  {
   "cell_type": "code",
   "execution_count": 104,
   "id": "2ef5bda0",
   "metadata": {},
   "outputs": [
    {
     "name": "stdout",
     "output_type": "stream",
     "text": [
      "(1, 2, 4, 5, 6)\n"
     ]
    }
   ],
   "source": [
    "f2(1,2,4,5,6)"
   ]
  },
  {
   "cell_type": "code",
   "execution_count": 105,
   "id": "6015e230",
   "metadata": {},
   "outputs": [
    {
     "name": "stdout",
     "output_type": "stream",
     "text": [
      "(9, 4, 5, 6, 3, 2, 124)\n"
     ]
    }
   ],
   "source": [
    "f2(9,4,5,6,3,2,124)"
   ]
  },
  {
   "cell_type": "code",
   "execution_count": 113,
   "id": "d6dd5f05",
   "metadata": {},
   "outputs": [],
   "source": [
    "def func(a):\n",
    "    print(a)\n",
    "    a=9\n",
    "    print(a)"
   ]
  },
  {
   "cell_type": "code",
   "execution_count": 116,
   "id": "dc5bc32c",
   "metadata": {},
   "outputs": [
    {
     "name": "stdout",
     "output_type": "stream",
     "text": [
      "10\n",
      "9\n"
     ]
    }
   ],
   "source": [
    "a=90\n",
    "func(10)"
   ]
  },
  {
   "cell_type": "code",
   "execution_count": 117,
   "id": "9de0bd37",
   "metadata": {},
   "outputs": [
    {
     "data": {
      "text/plain": [
       "90"
      ]
     },
     "execution_count": 117,
     "metadata": {},
     "output_type": "execute_result"
    }
   ],
   "source": [
    "a"
   ]
  },
  {
   "cell_type": "code",
   "execution_count": 118,
   "id": "ea400a2c",
   "metadata": {},
   "outputs": [],
   "source": [
    "a=80\n",
    "def func():\n",
    "    global a\n",
    "    \n",
    "    print(a)\n",
    "    a=8\n",
    "    print(a)\n",
    "    "
   ]
  },
  {
   "cell_type": "code",
   "execution_count": 119,
   "id": "2fed4e2a",
   "metadata": {},
   "outputs": [
    {
     "name": "stdout",
     "output_type": "stream",
     "text": [
      "80\n",
      "8\n"
     ]
    }
   ],
   "source": [
    "\n",
    "func()"
   ]
  },
  {
   "cell_type": "code",
   "execution_count": 120,
   "id": "0f614b38",
   "metadata": {},
   "outputs": [
    {
     "data": {
      "text/plain": [
       "8"
      ]
     },
     "execution_count": 120,
     "metadata": {},
     "output_type": "execute_result"
    }
   ],
   "source": [
    "a"
   ]
  },
  {
   "cell_type": "code",
   "execution_count": 121,
   "id": "1b69f019",
   "metadata": {},
   "outputs": [
    {
     "data": {
      "text/plain": [
       "[1, 4, 9, 16, 25]"
      ]
     },
     "execution_count": 121,
     "metadata": {},
     "output_type": "execute_result"
    }
   ],
   "source": [
    "l=[1,2,3,4,5]\n",
    "result=[]\n",
    "for i in l:\n",
    "    result.append(i**2)\n",
    "result"
   ]
  },
  {
   "cell_type": "code",
   "execution_count": 122,
   "id": "bd4b3bc7",
   "metadata": {},
   "outputs": [
    {
     "data": {
      "text/plain": [
       "[1, 4, 9, 16, 25]"
      ]
     },
     "execution_count": 122,
     "metadata": {},
     "output_type": "execute_result"
    }
   ],
   "source": [
    "result=[i**2 for i in l]\n",
    "result"
   ]
  },
  {
   "cell_type": "code",
   "execution_count": 123,
   "id": "b0d296cb",
   "metadata": {},
   "outputs": [
    {
     "data": {
      "text/plain": [
       "[1, 4, 9, 16, 25]"
      ]
     },
     "execution_count": 123,
     "metadata": {},
     "output_type": "execute_result"
    }
   ],
   "source": [
    "def p2(n):\n",
    "    return n**2\n",
    "\n",
    "\n",
    "\n",
    "\n",
    "result=[]\n",
    "for i in l:\n",
    "    result.append(p2(i))\n",
    "    \n",
    "result"
   ]
  },
  {
   "cell_type": "code",
   "execution_count": 127,
   "id": "272b6c1b",
   "metadata": {},
   "outputs": [
    {
     "data": {
      "text/plain": [
       "[1, 4, 9, 16, 25]"
      ]
     },
     "execution_count": 127,
     "metadata": {},
     "output_type": "execute_result"
    }
   ],
   "source": [
    "def op(n):\n",
    "    return n**2\n",
    "\n",
    "list(map(op,(1,2,3,4,5)))"
   ]
  },
  {
   "cell_type": "code",
   "execution_count": 128,
   "id": "14e5b44b",
   "metadata": {},
   "outputs": [
    {
     "data": {
      "text/plain": [
       "[2, 3, 4, 5, 6, 7, 8, 9, 10, 11, 12, 13, 14]"
      ]
     },
     "execution_count": 128,
     "metadata": {},
     "output_type": "execute_result"
    }
   ],
   "source": [
    "l=list(range(2,15))\n",
    "l"
   ]
  },
  {
   "cell_type": "code",
   "execution_count": 129,
   "id": "6c4aa9be",
   "metadata": {},
   "outputs": [
    {
     "data": {
      "text/plain": [
       "[2, 4, 6, 8, 10, 12, 14]"
      ]
     },
     "execution_count": 129,
     "metadata": {},
     "output_type": "execute_result"
    }
   ],
   "source": [
    "result=[i for i in l if i%2==0]\n",
    "result"
   ]
  },
  {
   "cell_type": "code",
   "execution_count": 130,
   "id": "d5f80e4d",
   "metadata": {},
   "outputs": [
    {
     "data": {
      "text/plain": [
       "[2, 4, 6, 8, 10, 12, 14]"
      ]
     },
     "execution_count": 130,
     "metadata": {},
     "output_type": "execute_result"
    }
   ],
   "source": [
    "def even(lo):\n",
    "    result=[]\n",
    "    for i in lo:\n",
    "        if i%2==0:\n",
    "            result.append(i)\n",
    "    return result      \n",
    "even(l)"
   ]
  },
  {
   "cell_type": "code",
   "execution_count": 132,
   "id": "281c46e5",
   "metadata": {},
   "outputs": [
    {
     "data": {
      "text/plain": [
       "[2, None, 4, None, 6, None, 8, None, 10, None, 12, None, 14]"
      ]
     },
     "execution_count": 132,
     "metadata": {},
     "output_type": "execute_result"
    }
   ],
   "source": [
    "def even(n):\n",
    "    if n%2==0:\n",
    "        return n\n",
    "    else:\n",
    "        1+1\n",
    "result=[]\n",
    "for i in l:\n",
    "    result.append(even(i))\n",
    "result"
   ]
  },
  {
   "cell_type": "code",
   "execution_count": 133,
   "id": "cb8f9de4",
   "metadata": {},
   "outputs": [
    {
     "data": {
      "text/plain": [
       "[2, 4, 6, 8, 10, 12, 14]"
      ]
     },
     "execution_count": 133,
     "metadata": {},
     "output_type": "execute_result"
    }
   ],
   "source": [
    "def chk_even(n):\n",
    "    \n",
    "    return n%2==0\n",
    "\n",
    "list(filter(chk_even,l))"
   ]
  },
  {
   "cell_type": "code",
   "execution_count": 135,
   "id": "32c72c62",
   "metadata": {},
   "outputs": [
    {
     "data": {
      "text/plain": [
       "[8, 64, 216, 512, 1000, 1728, 2744]"
      ]
     },
     "execution_count": 135,
     "metadata": {},
     "output_type": "execute_result"
    }
   ],
   "source": [
    "def cub(n):\n",
    "    return n**3\n",
    "\n",
    "list(map(cub,filter(chk_even,l)))"
   ]
  },
  {
   "cell_type": "code",
   "execution_count": 136,
   "id": "1f93ee60",
   "metadata": {},
   "outputs": [],
   "source": [
    "from functools import reduce"
   ]
  },
  {
   "cell_type": "code",
   "execution_count": 140,
   "id": "f1e6eb71",
   "metadata": {},
   "outputs": [
    {
     "data": {
      "text/plain": [
       "480"
      ]
     },
     "execution_count": 140,
     "metadata": {},
     "output_type": "execute_result"
    }
   ],
   "source": [
    "\n",
    "\n",
    "l=[3,4,5,8,1]\n",
    "\n",
    "def v(n1,n2):\n",
    "    return n1*n2\n",
    "\n",
    "reduce(v,l)"
   ]
  },
  {
   "cell_type": "code",
   "execution_count": 143,
   "id": "551c4f4c",
   "metadata": {},
   "outputs": [
    {
     "data": {
      "text/plain": [
       "<function __main__.<lambda>(n)>"
      ]
     },
     "execution_count": 143,
     "metadata": {},
     "output_type": "execute_result"
    }
   ],
   "source": [
    "\n",
    "\n",
    "lambda n: n*2\n"
   ]
  },
  {
   "cell_type": "code",
   "execution_count": 142,
   "id": "692df418",
   "metadata": {},
   "outputs": [
    {
     "data": {
      "text/plain": [
       "16"
      ]
     },
     "execution_count": 142,
     "metadata": {},
     "output_type": "execute_result"
    }
   ],
   "source": [
    "f(8)"
   ]
  },
  {
   "cell_type": "code",
   "execution_count": 144,
   "id": "83d63a6c",
   "metadata": {},
   "outputs": [
    {
     "data": {
      "text/plain": [
       "[6, 8, 10, 16, 2]"
      ]
     },
     "execution_count": 144,
     "metadata": {},
     "output_type": "execute_result"
    }
   ],
   "source": [
    "l=[3,4,5,8,1]\n",
    "def d(n):\n",
    "    return n*2\n",
    "list(map(d,l))"
   ]
  },
  {
   "cell_type": "code",
   "execution_count": 145,
   "id": "126138d9",
   "metadata": {},
   "outputs": [
    {
     "data": {
      "text/plain": [
       "[6, 8, 10, 16, 2]"
      ]
     },
     "execution_count": 145,
     "metadata": {},
     "output_type": "execute_result"
    }
   ],
   "source": [
    "list(map(lambda a:a*2/3 ,l))"
   ]
  },
  {
   "cell_type": "code",
   "execution_count": 153,
   "id": "91cdc145",
   "metadata": {},
   "outputs": [
    {
     "data": {
      "text/plain": [
       "416179814400"
      ]
     },
     "execution_count": 153,
     "metadata": {},
     "output_type": "execute_result"
    }
   ],
   "source": [
    "reduce(lambda n1,n2:n1*n2,map(lambda x:x**2,filter(lambda x:x%2==0,range(1,15))))"
   ]
  },
  {
   "cell_type": "code",
   "execution_count": 154,
   "id": "28378d9b",
   "metadata": {},
   "outputs": [],
   "source": [
    "l=['mm','ii',12,44]\n",
    "import random"
   ]
  },
  {
   "cell_type": "code",
   "execution_count": 158,
   "id": "53b29180",
   "metadata": {},
   "outputs": [
    {
     "data": {
      "text/plain": [
       "44"
      ]
     },
     "execution_count": 158,
     "metadata": {},
     "output_type": "execute_result"
    }
   ],
   "source": [
    "random.choice(l)"
   ]
  },
  {
   "cell_type": "code",
   "execution_count": 159,
   "id": "04fdc5fb",
   "metadata": {},
   "outputs": [
    {
     "data": {
      "text/plain": [
       "False"
      ]
     },
     "execution_count": 159,
     "metadata": {},
     "output_type": "execute_result"
    }
   ],
   "source": [
    "w='12'\n",
    "w.isalpha()"
   ]
  },
  {
   "cell_type": "code",
   "execution_count": 160,
   "id": "1e7e1c04",
   "metadata": {},
   "outputs": [
    {
     "data": {
      "text/plain": [
       "True"
      ]
     },
     "execution_count": 160,
     "metadata": {},
     "output_type": "execute_result"
    }
   ],
   "source": [
    "name='mohamed'\n",
    "'o' in name"
   ]
  },
  {
   "cell_type": "code",
   "execution_count": 161,
   "id": "d21d895f",
   "metadata": {},
   "outputs": [
    {
     "data": {
      "text/plain": [
       "2"
      ]
     },
     "execution_count": 161,
     "metadata": {},
     "output_type": "execute_result"
    }
   ],
   "source": [
    "name.count('m')"
   ]
  },
  {
   "cell_type": "code",
   "execution_count": 162,
   "id": "6de96ecb",
   "metadata": {},
   "outputs": [
    {
     "data": {
      "text/plain": [
       "'mm'"
      ]
     },
     "execution_count": 162,
     "metadata": {},
     "output_type": "execute_result"
    }
   ],
   "source": [
    "l=''\n",
    "l+='m'*2\n",
    "l"
   ]
  },
  {
   "cell_type": "code",
   "execution_count": null,
   "id": "d6728f93",
   "metadata": {},
   "outputs": [],
   "source": []
  }
 ],
 "metadata": {
  "kernelspec": {
   "display_name": "Python 3",
   "language": "python",
   "name": "python3"
  },
  "language_info": {
   "codemirror_mode": {
    "name": "ipython",
    "version": 3
   },
   "file_extension": ".py",
   "mimetype": "text/x-python",
   "name": "python",
   "nbconvert_exporter": "python",
   "pygments_lexer": "ipython3",
   "version": "3.8.8"
  }
 },
 "nbformat": 4,
 "nbformat_minor": 5
}
