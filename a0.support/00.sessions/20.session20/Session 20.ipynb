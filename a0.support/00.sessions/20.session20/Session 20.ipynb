{
 "cells": [
  {
   "cell_type": "code",
   "execution_count": 1,
   "id": "ab640bda",
   "metadata": {},
   "outputs": [],
   "source": [
    "import numpy as np"
   ]
  },
  {
   "cell_type": "code",
   "execution_count": 2,
   "id": "55b2f624",
   "metadata": {},
   "outputs": [],
   "source": [
    "l=[1,2,3,4,5]\n"
   ]
  },
  {
   "cell_type": "code",
   "execution_count": 3,
   "id": "57bea65b",
   "metadata": {},
   "outputs": [
    {
     "data": {
      "text/plain": [
       "[1, 2, 3, 4, 5, 1, 2, 3, 4, 5]"
      ]
     },
     "execution_count": 3,
     "metadata": {},
     "output_type": "execute_result"
    }
   ],
   "source": [
    "l*2"
   ]
  },
  {
   "cell_type": "code",
   "execution_count": 10,
   "id": "840db4c3",
   "metadata": {},
   "outputs": [
    {
     "data": {
      "text/plain": [
       "[1, 2, 3, 4, 5, 3, 5, 6, 7, 2]"
      ]
     },
     "execution_count": 10,
     "metadata": {},
     "output_type": "execute_result"
    }
   ],
   "source": [
    "l2=[3,5,6,7,2]\n",
    "l+l2"
   ]
  },
  {
   "cell_type": "code",
   "execution_count": 11,
   "id": "e12d3d38",
   "metadata": {},
   "outputs": [
    {
     "data": {
      "text/plain": [
       "[4, 7, 9, 11, 7]"
      ]
     },
     "execution_count": 11,
     "metadata": {},
     "output_type": "execute_result"
    }
   ],
   "source": [
    "l3=[l[i]+l2[i] for i in range(len(l))]\n",
    "l3"
   ]
  },
  {
   "cell_type": "code",
   "execution_count": null,
   "id": "f6a6c973",
   "metadata": {},
   "outputs": [],
   "source": []
  },
  {
   "cell_type": "code",
   "execution_count": 4,
   "id": "ce52eddd",
   "metadata": {},
   "outputs": [],
   "source": [
    "arr=np.array([1,2,3,4,5])"
   ]
  },
  {
   "cell_type": "code",
   "execution_count": 5,
   "id": "b21cc099",
   "metadata": {},
   "outputs": [
    {
     "data": {
      "text/plain": [
       "array([ 2,  4,  6,  8, 10])"
      ]
     },
     "execution_count": 5,
     "metadata": {},
     "output_type": "execute_result"
    }
   ],
   "source": [
    "arr*2"
   ]
  },
  {
   "cell_type": "code",
   "execution_count": 6,
   "id": "2c928e9a",
   "metadata": {},
   "outputs": [
    {
     "data": {
      "text/plain": [
       "array([3, 4, 5, 6, 7])"
      ]
     },
     "execution_count": 6,
     "metadata": {},
     "output_type": "execute_result"
    }
   ],
   "source": [
    "arr+2"
   ]
  },
  {
   "cell_type": "code",
   "execution_count": 7,
   "id": "d1f8568c",
   "metadata": {},
   "outputs": [
    {
     "data": {
      "text/plain": [
       "array([-2, -1,  0,  1,  2])"
      ]
     },
     "execution_count": 7,
     "metadata": {},
     "output_type": "execute_result"
    }
   ],
   "source": [
    "arr-3"
   ]
  },
  {
   "cell_type": "code",
   "execution_count": 8,
   "id": "3423c4df",
   "metadata": {},
   "outputs": [
    {
     "data": {
      "text/plain": [
       "array([0.5, 1. , 1.5, 2. , 2.5])"
      ]
     },
     "execution_count": 8,
     "metadata": {},
     "output_type": "execute_result"
    }
   ],
   "source": [
    "arr/2"
   ]
  },
  {
   "cell_type": "code",
   "execution_count": 12,
   "id": "b2af128d",
   "metadata": {},
   "outputs": [
    {
     "data": {
      "text/plain": [
       "array([3, 5, 6, 7, 2])"
      ]
     },
     "execution_count": 12,
     "metadata": {},
     "output_type": "execute_result"
    }
   ],
   "source": [
    "arr2=np.array(l2)\n",
    "arr2"
   ]
  },
  {
   "cell_type": "code",
   "execution_count": 14,
   "id": "2301e842",
   "metadata": {},
   "outputs": [],
   "source": [
    "t=arr+arr2"
   ]
  },
  {
   "cell_type": "code",
   "execution_count": 15,
   "id": "262646f9",
   "metadata": {},
   "outputs": [
    {
     "data": {
      "text/plain": [
       "4"
      ]
     },
     "execution_count": 15,
     "metadata": {},
     "output_type": "execute_result"
    }
   ],
   "source": [
    "t[0]"
   ]
  },
  {
   "cell_type": "code",
   "execution_count": 16,
   "id": "634f8edf",
   "metadata": {},
   "outputs": [
    {
     "data": {
      "text/plain": [
       "array([[1, 2, 3],\n",
       "       [4, 5, 6],\n",
       "       [6, 7, 8]])"
      ]
     },
     "execution_count": 16,
     "metadata": {},
     "output_type": "execute_result"
    }
   ],
   "source": [
    "mat1=np.array([[1,2,3],[4,5,6],[6,7,8]])\n",
    "mat1"
   ]
  },
  {
   "cell_type": "code",
   "execution_count": 18,
   "id": "613b62a6",
   "metadata": {},
   "outputs": [
    {
     "data": {
      "text/plain": [
       "array([[ 4,  5,  6],\n",
       "       [ 7,  8,  9],\n",
       "       [ 9, 10, 11]])"
      ]
     },
     "execution_count": 18,
     "metadata": {},
     "output_type": "execute_result"
    }
   ],
   "source": [
    "mat1+3"
   ]
  },
  {
   "cell_type": "code",
   "execution_count": 19,
   "id": "c0729e83",
   "metadata": {},
   "outputs": [
    {
     "data": {
      "text/plain": [
       "array([[ 2,  4,  6],\n",
       "       [ 8, 10, 12],\n",
       "       [12, 14, 16]])"
      ]
     },
     "execution_count": 19,
     "metadata": {},
     "output_type": "execute_result"
    }
   ],
   "source": [
    "mat1*2"
   ]
  },
  {
   "cell_type": "code",
   "execution_count": 20,
   "id": "d86815b9",
   "metadata": {},
   "outputs": [
    {
     "data": {
      "text/plain": [
       "array([1, 2, 3, 4, 5])"
      ]
     },
     "execution_count": 20,
     "metadata": {},
     "output_type": "execute_result"
    }
   ],
   "source": [
    "arr"
   ]
  },
  {
   "cell_type": "code",
   "execution_count": 21,
   "id": "779834b4",
   "metadata": {},
   "outputs": [
    {
     "data": {
      "text/plain": [
       "array([0, 1, 2, 3, 4, 5])"
      ]
     },
     "execution_count": 21,
     "metadata": {},
     "output_type": "execute_result"
    }
   ],
   "source": [
    "np.arange(6)"
   ]
  },
  {
   "cell_type": "code",
   "execution_count": 23,
   "id": "9854ad6c",
   "metadata": {},
   "outputs": [
    {
     "data": {
      "text/plain": [
       "[0, 1, 2, 3, 4, 5]"
      ]
     },
     "execution_count": 23,
     "metadata": {},
     "output_type": "execute_result"
    }
   ],
   "source": [
    "list(range(6))"
   ]
  },
  {
   "cell_type": "code",
   "execution_count": 29,
   "id": "701fb6d1",
   "metadata": {},
   "outputs": [
    {
     "data": {
      "text/plain": [
       "array([[12, 55, 35, 36, 95, 83],\n",
       "       [93,  4, 70, 53, 23, 78],\n",
       "       [26, 58, 23, 50, 43,  4]])"
      ]
     },
     "execution_count": 29,
     "metadata": {},
     "output_type": "execute_result"
    }
   ],
   "source": [
    "np.random.randint(1,100,(3,6))"
   ]
  },
  {
   "cell_type": "code",
   "execution_count": 31,
   "id": "36f2b2c2",
   "metadata": {},
   "outputs": [
    {
     "data": {
      "text/plain": [
       "1"
      ]
     },
     "execution_count": 31,
     "metadata": {},
     "output_type": "execute_result"
    }
   ],
   "source": [
    "arr[0]"
   ]
  },
  {
   "cell_type": "code",
   "execution_count": 32,
   "id": "ca8b9ca6",
   "metadata": {},
   "outputs": [
    {
     "data": {
      "text/plain": [
       "array([2, 3, 4])"
      ]
     },
     "execution_count": 32,
     "metadata": {},
     "output_type": "execute_result"
    }
   ],
   "source": [
    "arr[1:4]"
   ]
  },
  {
   "cell_type": "code",
   "execution_count": 33,
   "id": "cbb4b5a6",
   "metadata": {},
   "outputs": [
    {
     "data": {
      "text/plain": [
       "array([5, 4, 3, 2, 1])"
      ]
     },
     "execution_count": 33,
     "metadata": {},
     "output_type": "execute_result"
    }
   ],
   "source": [
    "arr[::-1]"
   ]
  },
  {
   "cell_type": "code",
   "execution_count": 36,
   "id": "0dd48ce5",
   "metadata": {},
   "outputs": [
    {
     "data": {
      "text/plain": [
       "array([1, 2, 3])"
      ]
     },
     "execution_count": 36,
     "metadata": {},
     "output_type": "execute_result"
    }
   ],
   "source": [
    "mat1[0]"
   ]
  },
  {
   "cell_type": "code",
   "execution_count": 37,
   "id": "4e267a0f",
   "metadata": {},
   "outputs": [
    {
     "data": {
      "text/plain": [
       "array([[1, 2, 3],\n",
       "       [4, 5, 6],\n",
       "       [6, 7, 8]])"
      ]
     },
     "execution_count": 37,
     "metadata": {},
     "output_type": "execute_result"
    }
   ],
   "source": [
    "mat1"
   ]
  },
  {
   "cell_type": "code",
   "execution_count": 38,
   "id": "ce9e222c",
   "metadata": {},
   "outputs": [
    {
     "data": {
      "text/plain": [
       "6"
      ]
     },
     "execution_count": 38,
     "metadata": {},
     "output_type": "execute_result"
    }
   ],
   "source": [
    "mat1[1,2]"
   ]
  },
  {
   "cell_type": "code",
   "execution_count": 40,
   "id": "333a1307",
   "metadata": {},
   "outputs": [
    {
     "data": {
      "text/plain": [
       "array([0.98082988, 0.71069465, 0.84555698, 0.24196682, 0.77971126])"
      ]
     },
     "execution_count": 40,
     "metadata": {},
     "output_type": "execute_result"
    }
   ],
   "source": [
    "np.random.rand(5)"
   ]
  },
  {
   "cell_type": "code",
   "execution_count": 39,
   "id": "e005c7f1",
   "metadata": {},
   "outputs": [
    {
     "data": {
      "text/plain": [
       "array([[19, 38, 61, 98, 80, 16, 15, 99,  7],\n",
       "       [79,  5, 26, 46, 83, 84, 13, 72,  1],\n",
       "       [24, 18, 83, 27, 50, 70, 59,  9, 77],\n",
       "       [60, 17, 96, 30, 22, 71, 57, 24, 70],\n",
       "       [91, 58, 91, 52, 98, 98, 61, 89, 33],\n",
       "       [ 7, 63, 51, 51, 88, 10, 43, 23, 68],\n",
       "       [62, 56,  3,  4, 29,  7, 70, 92, 21],\n",
       "       [34,  7, 94, 83, 95, 27, 74, 24, 84],\n",
       "       [42, 46, 23, 90, 58, 16, 25, 13, 26],\n",
       "       [ 3, 77, 24, 89, 84, 81, 16, 32,  2]])"
      ]
     },
     "execution_count": 39,
     "metadata": {},
     "output_type": "execute_result"
    }
   ],
   "source": [
    "mat2=np.random.randint(1,100,(10,9))\n",
    "mat2"
   ]
  },
  {
   "cell_type": "code",
   "execution_count": 42,
   "id": "f4f00ba5",
   "metadata": {},
   "outputs": [
    {
     "data": {
      "text/plain": [
       "array([[26, 46, 83],\n",
       "       [83, 27, 50],\n",
       "       [96, 30, 22]])"
      ]
     },
     "execution_count": 42,
     "metadata": {},
     "output_type": "execute_result"
    }
   ],
   "source": [
    "mat2[1:4,2:5]"
   ]
  },
  {
   "cell_type": "code",
   "execution_count": 46,
   "id": "6e5560d9",
   "metadata": {},
   "outputs": [
    {
     "data": {
      "text/plain": [
       "array([[22, 30, 96],\n",
       "       [50, 27, 83],\n",
       "       [83, 46, 26]])"
      ]
     },
     "execution_count": 46,
     "metadata": {},
     "output_type": "execute_result"
    }
   ],
   "source": [
    "mat2[3:0:-1,4:1:-1]"
   ]
  },
  {
   "cell_type": "code",
   "execution_count": 47,
   "id": "8a05a669",
   "metadata": {},
   "outputs": [
    {
     "data": {
      "text/plain": [
       "array([[19, 38, 61, 98, 80, 16, 15, 99,  7],\n",
       "       [79,  5, 26, 46, 83, 84, 13, 72,  1],\n",
       "       [24, 18, 83, 27, 50, 70, 59,  9, 77],\n",
       "       [60, 17, 96, 30, 22, 71, 57, 24, 70],\n",
       "       [91, 58, 91, 52, 98, 98, 61, 89, 33],\n",
       "       [ 7, 63, 51, 51, 88, 10, 43, 23, 68],\n",
       "       [62, 56,  3,  4, 29,  7, 70, 92, 21],\n",
       "       [34,  7, 94, 83, 95, 27, 74, 24, 84],\n",
       "       [42, 46, 23, 90, 58, 16, 25, 13, 26],\n",
       "       [ 3, 77, 24, 89, 84, 81, 16, 32,  2]])"
      ]
     },
     "execution_count": 47,
     "metadata": {},
     "output_type": "execute_result"
    }
   ],
   "source": [
    "mat2"
   ]
  },
  {
   "cell_type": "code",
   "execution_count": 49,
   "id": "2bdff4e5",
   "metadata": {},
   "outputs": [
    {
     "data": {
      "text/plain": [
       "array([[79,  5, 26, 46, 83, 84, 13, 72,  1],\n",
       "       [60, 17, 96, 30, 22, 71, 57, 24, 70],\n",
       "       [62, 56,  3,  4, 29,  7, 70, 92, 21],\n",
       "       [ 3, 77, 24, 89, 84, 81, 16, 32,  2]])"
      ]
     },
     "execution_count": 49,
     "metadata": {},
     "output_type": "execute_result"
    }
   ],
   "source": [
    "mat2[[1,3,6,9]]"
   ]
  },
  {
   "cell_type": "code",
   "execution_count": 50,
   "id": "6a47449a",
   "metadata": {},
   "outputs": [
    {
     "data": {
      "text/plain": [
       "array([19, 38, 61, 98, 80, 16, 15, 99,  7, 79,  5, 26, 46, 83, 84, 13, 72,\n",
       "       24, 18, 83, 27, 50, 70, 59,  9, 77, 60, 17, 96, 30, 22, 71, 57, 24,\n",
       "       70, 91, 58, 91, 52, 98, 98, 61, 89, 33,  7, 63, 51, 51, 88, 10, 43,\n",
       "       23, 68, 62, 56,  4, 29,  7, 70, 92, 21, 34,  7, 94, 83, 95, 27, 74,\n",
       "       24, 84, 42, 46, 23, 90, 58, 16, 25, 13, 26, 77, 24, 89, 84, 81, 16,\n",
       "       32])"
      ]
     },
     "execution_count": 50,
     "metadata": {},
     "output_type": "execute_result"
    }
   ],
   "source": [
    "mat2[mat2>3]"
   ]
  },
  {
   "cell_type": "code",
   "execution_count": 51,
   "id": "fc3273bb",
   "metadata": {},
   "outputs": [
    {
     "data": {
      "text/plain": [
       "array([[ True,  True,  True,  True,  True,  True,  True,  True,  True],\n",
       "       [ True,  True,  True,  True,  True,  True,  True,  True, False],\n",
       "       [ True,  True,  True,  True,  True,  True,  True,  True,  True],\n",
       "       [ True,  True,  True,  True,  True,  True,  True,  True,  True],\n",
       "       [ True,  True,  True,  True,  True,  True,  True,  True,  True],\n",
       "       [ True,  True,  True,  True,  True,  True,  True,  True,  True],\n",
       "       [ True,  True, False,  True,  True,  True,  True,  True,  True],\n",
       "       [ True,  True,  True,  True,  True,  True,  True,  True,  True],\n",
       "       [ True,  True,  True,  True,  True,  True,  True,  True,  True],\n",
       "       [False,  True,  True,  True,  True,  True,  True,  True, False]])"
      ]
     },
     "execution_count": 51,
     "metadata": {},
     "output_type": "execute_result"
    }
   ],
   "source": [
    "mat2>3"
   ]
  },
  {
   "cell_type": "code",
   "execution_count": 52,
   "id": "15c2f326",
   "metadata": {},
   "outputs": [
    {
     "data": {
      "text/plain": [
       "array([19, 38, 61, 98, 80, 16, 15, 99,  7, 79,  5, 26, 46, 83, 84, 13, 72,\n",
       "       24, 18, 83, 27, 50, 70, 59,  9, 77, 60, 17, 96, 30, 22, 71, 57, 24,\n",
       "       70, 91, 58, 91, 52, 98, 98, 61, 89, 33,  7, 63, 51, 51, 88, 10, 43,\n",
       "       23, 68, 62, 56,  4, 29,  7, 70, 92, 21, 34,  7, 94, 83, 95, 27, 74,\n",
       "       24, 84, 42, 46, 23, 90, 58, 16, 25, 13, 26, 77, 24, 89, 84, 81, 16,\n",
       "       32])"
      ]
     },
     "execution_count": 52,
     "metadata": {},
     "output_type": "execute_result"
    }
   ],
   "source": [
    "mat2[mat2>3]"
   ]
  },
  {
   "cell_type": "code",
   "execution_count": 53,
   "id": "4c59cc31",
   "metadata": {},
   "outputs": [
    {
     "data": {
      "text/plain": [
       "1"
      ]
     },
     "execution_count": 53,
     "metadata": {},
     "output_type": "execute_result"
    }
   ],
   "source": [
    "np.min(arr)"
   ]
  },
  {
   "cell_type": "code",
   "execution_count": 54,
   "id": "0c846293",
   "metadata": {},
   "outputs": [
    {
     "data": {
      "text/plain": [
       "1"
      ]
     },
     "execution_count": 54,
     "metadata": {},
     "output_type": "execute_result"
    }
   ],
   "source": [
    "arr.min()"
   ]
  },
  {
   "cell_type": "code",
   "execution_count": 55,
   "id": "a5e6220e",
   "metadata": {},
   "outputs": [
    {
     "data": {
      "text/plain": [
       "1"
      ]
     },
     "execution_count": 55,
     "metadata": {},
     "output_type": "execute_result"
    }
   ],
   "source": [
    "np.min(mat2)"
   ]
  },
  {
   "cell_type": "code",
   "execution_count": 56,
   "id": "07a9833d",
   "metadata": {},
   "outputs": [
    {
     "data": {
      "text/plain": [
       "array([ 3,  5,  3,  4, 22,  7, 13,  9,  1])"
      ]
     },
     "execution_count": 56,
     "metadata": {},
     "output_type": "execute_result"
    }
   ],
   "source": [
    "np.min(mat2,axis=0)#columns"
   ]
  },
  {
   "cell_type": "code",
   "execution_count": 57,
   "id": "b31b9504",
   "metadata": {},
   "outputs": [
    {
     "data": {
      "text/plain": [
       "array([ 7,  1,  9, 17, 33,  7,  3,  7, 13,  2])"
      ]
     },
     "execution_count": 57,
     "metadata": {},
     "output_type": "execute_result"
    }
   ],
   "source": [
    "np.min(mat2,axis=1)#rows"
   ]
  },
  {
   "cell_type": "code",
   "execution_count": 58,
   "id": "c824c5ab",
   "metadata": {},
   "outputs": [
    {
     "data": {
      "text/plain": [
       "array([42.1, 38.5, 55.2, 57. , 68.7, 48. , 43.3, 47.7, 38.9])"
      ]
     },
     "execution_count": 58,
     "metadata": {},
     "output_type": "execute_result"
    }
   ],
   "source": [
    "np.average(mat2,axis=0)"
   ]
  },
  {
   "cell_type": "code",
   "execution_count": 59,
   "id": "3a0105f4",
   "metadata": {},
   "outputs": [],
   "source": [
    "mat1=np.random.randint(1,20,(3,4))\n",
    "mat2=np.random.randint(1,20,(4,5))"
   ]
  },
  {
   "cell_type": "code",
   "execution_count": 60,
   "id": "4caeb3cc",
   "metadata": {},
   "outputs": [
    {
     "data": {
      "text/plain": [
       "array([[1036,  363,  733,  591,  354],\n",
       "       [ 679,  197,  511,  504,  203],\n",
       "       [ 628,  281,  437,  307,  191]])"
      ]
     },
     "execution_count": 60,
     "metadata": {},
     "output_type": "execute_result"
    }
   ],
   "source": [
    "mat3=np.dot(mat1,mat2)\n",
    "mat3"
   ]
  },
  {
   "cell_type": "code",
   "execution_count": 63,
   "id": "4faca575",
   "metadata": {},
   "outputs": [
    {
     "data": {
      "text/plain": [
       "array([615.4, 418.8, 368.8])"
      ]
     },
     "execution_count": 63,
     "metadata": {},
     "output_type": "execute_result"
    }
   ],
   "source": [
    "np.mean(mat3,axis=1)"
   ]
  },
  {
   "cell_type": "code",
   "execution_count": 62,
   "id": "1bd5b764",
   "metadata": {},
   "outputs": [
    {
     "data": {
      "text/plain": [
       "437.0"
      ]
     },
     "execution_count": 62,
     "metadata": {},
     "output_type": "execute_result"
    }
   ],
   "source": [
    "np.median(mat3)"
   ]
  },
  {
   "cell_type": "code",
   "execution_count": 64,
   "id": "d134baeb",
   "metadata": {},
   "outputs": [
    {
     "data": {
      "text/plain": [
       "array([679., 281., 511., 504., 203.])"
      ]
     },
     "execution_count": 64,
     "metadata": {},
     "output_type": "execute_result"
    }
   ],
   "source": [
    "np.median(mat3,axis=0)"
   ]
  },
  {
   "cell_type": "code",
   "execution_count": 65,
   "id": "403cfe13",
   "metadata": {},
   "outputs": [],
   "source": [
    "from scipy.stats import mode"
   ]
  },
  {
   "cell_type": "code",
   "execution_count": 67,
   "id": "5b8f920e",
   "metadata": {},
   "outputs": [
    {
     "name": "stderr",
     "output_type": "stream",
     "text": [
      "C:\\Users\\Administrator\\AppData\\Local\\Temp\\ipykernel_6288\\254870030.py:1: FutureWarning: Unlike other reduction functions (e.g. `skew`, `kurtosis`), the default behavior of `mode` typically preserves the axis it acts along. In SciPy 1.11.0, this behavior will change: the default value of `keepdims` will become False, the `axis` over which the statistic is taken will be eliminated, and the value None will no longer be accepted. Set `keepdims` to True or False to avoid this warning.\n",
      "  mode([1,2,3,4,2,3,5,2,2])\n"
     ]
    },
    {
     "data": {
      "text/plain": [
       "ModeResult(mode=array([2]), count=array([4]))"
      ]
     },
     "execution_count": 67,
     "metadata": {},
     "output_type": "execute_result"
    }
   ],
   "source": [
    "mode([1,2,3,4,2,3,5,2,2])"
   ]
  },
  {
   "cell_type": "code",
   "execution_count": 68,
   "id": "0ecd7d4f",
   "metadata": {},
   "outputs": [
    {
     "data": {
      "text/plain": [
       "2.0"
      ]
     },
     "execution_count": 68,
     "metadata": {},
     "output_type": "execute_result"
    }
   ],
   "source": [
    "np.var(arr)"
   ]
  },
  {
   "cell_type": "code",
   "execution_count": 71,
   "id": "13862a71",
   "metadata": {},
   "outputs": [
    {
     "data": {
      "text/plain": [
       "array([254.30894597, 189.32976522, 151.64221048])"
      ]
     },
     "execution_count": 71,
     "metadata": {},
     "output_type": "execute_result"
    }
   ],
   "source": [
    "np.std(mat3,axis=1)"
   ]
  },
  {
   "cell_type": "code",
   "execution_count": 76,
   "id": "bc3b75fc",
   "metadata": {},
   "outputs": [
    {
     "data": {
      "text/plain": [
       "4.0"
      ]
     },
     "execution_count": 76,
     "metadata": {},
     "output_type": "execute_result"
    }
   ],
   "source": [
    "np.percentile(arr,75)"
   ]
  },
  {
   "cell_type": "code",
   "execution_count": 77,
   "id": "6c5875ed",
   "metadata": {},
   "outputs": [
    {
     "data": {
      "text/plain": [
       "array([1, 2, 3, 4, 5])"
      ]
     },
     "execution_count": 77,
     "metadata": {},
     "output_type": "execute_result"
    }
   ],
   "source": [
    "arr"
   ]
  },
  {
   "cell_type": "code",
   "execution_count": 79,
   "id": "18e60fbf",
   "metadata": {},
   "outputs": [
    {
     "data": {
      "text/plain": [
       "array([893.2, 330.2, 644.2, 556.2, 293.6])"
      ]
     },
     "execution_count": 79,
     "metadata": {},
     "output_type": "execute_result"
    }
   ],
   "source": [
    "np.percentile(mat3,80,axis=0)"
   ]
  },
  {
   "cell_type": "code",
   "execution_count": 80,
   "id": "d3fe18b0",
   "metadata": {},
   "outputs": [
    {
     "data": {
      "text/plain": [
       "array([[1.        , 0.95785988],\n",
       "       [0.95785988, 1.        ]])"
      ]
     },
     "execution_count": 80,
     "metadata": {},
     "output_type": "execute_result"
    }
   ],
   "source": [
    "np.corrcoef(mat3[0],mat3[1])"
   ]
  },
  {
   "cell_type": "code",
   "execution_count": 81,
   "id": "edf1c3ce",
   "metadata": {},
   "outputs": [
    {
     "data": {
      "text/plain": [
       "array([[1036,  363,  733,  591,  354],\n",
       "       [ 679,  197,  511,  504,  203],\n",
       "       [ 628,  281,  437,  307,  191]])"
      ]
     },
     "execution_count": 81,
     "metadata": {},
     "output_type": "execute_result"
    }
   ],
   "source": [
    "mat3"
   ]
  },
  {
   "cell_type": "code",
   "execution_count": 82,
   "id": "af5198c9",
   "metadata": {},
   "outputs": [],
   "source": [
    "q1=np.percentile(arr,25)\n",
    "q3=np.percentile(arr,75)\n",
    "IQR=q3-q1"
   ]
  },
  {
   "cell_type": "code",
   "execution_count": 83,
   "id": "049fa802",
   "metadata": {},
   "outputs": [
    {
     "data": {
      "text/plain": [
       "2.0"
      ]
     },
     "execution_count": 83,
     "metadata": {},
     "output_type": "execute_result"
    }
   ],
   "source": [
    "IQR"
   ]
  },
  {
   "cell_type": "code",
   "execution_count": 84,
   "id": "f0e7f81b",
   "metadata": {},
   "outputs": [],
   "source": [
    "ul=q3+1.5*IQR\n",
    "ll=q1-1.5*IQR"
   ]
  },
  {
   "cell_type": "code",
   "execution_count": 85,
   "id": "173b811a",
   "metadata": {},
   "outputs": [
    {
     "data": {
      "text/html": [
       "<div>\n",
       "<style scoped>\n",
       "    .dataframe tbody tr th:only-of-type {\n",
       "        vertical-align: middle;\n",
       "    }\n",
       "\n",
       "    .dataframe tbody tr th {\n",
       "        vertical-align: top;\n",
       "    }\n",
       "\n",
       "    .dataframe thead th {\n",
       "        text-align: right;\n",
       "    }\n",
       "</style>\n",
       "<table border=\"1\" class=\"dataframe\">\n",
       "  <thead>\n",
       "    <tr style=\"text-align: right;\">\n",
       "      <th></th>\n",
       "      <th>credit.policy</th>\n",
       "      <th>purpose</th>\n",
       "      <th>int.rate</th>\n",
       "      <th>installment</th>\n",
       "      <th>log.annual.inc</th>\n",
       "      <th>dti</th>\n",
       "      <th>fico</th>\n",
       "      <th>days.with.cr.line</th>\n",
       "      <th>revol.bal</th>\n",
       "      <th>revol.util</th>\n",
       "      <th>inq.last.6mths</th>\n",
       "      <th>delinq.2yrs</th>\n",
       "      <th>pub.rec</th>\n",
       "      <th>not.fully.paid</th>\n",
       "    </tr>\n",
       "  </thead>\n",
       "  <tbody>\n",
       "    <tr>\n",
       "      <th>0</th>\n",
       "      <td>1</td>\n",
       "      <td>debt_consolidation</td>\n",
       "      <td>0.1189</td>\n",
       "      <td>829.10</td>\n",
       "      <td>11.350407</td>\n",
       "      <td>19.48</td>\n",
       "      <td>737</td>\n",
       "      <td>5639.958333</td>\n",
       "      <td>28854</td>\n",
       "      <td>52.1</td>\n",
       "      <td>0</td>\n",
       "      <td>0</td>\n",
       "      <td>0</td>\n",
       "      <td>0</td>\n",
       "    </tr>\n",
       "    <tr>\n",
       "      <th>1</th>\n",
       "      <td>1</td>\n",
       "      <td>credit_card</td>\n",
       "      <td>0.1071</td>\n",
       "      <td>228.22</td>\n",
       "      <td>11.082143</td>\n",
       "      <td>14.29</td>\n",
       "      <td>707</td>\n",
       "      <td>2760.000000</td>\n",
       "      <td>33623</td>\n",
       "      <td>76.7</td>\n",
       "      <td>0</td>\n",
       "      <td>0</td>\n",
       "      <td>0</td>\n",
       "      <td>0</td>\n",
       "    </tr>\n",
       "    <tr>\n",
       "      <th>2</th>\n",
       "      <td>1</td>\n",
       "      <td>debt_consolidation</td>\n",
       "      <td>0.1357</td>\n",
       "      <td>366.86</td>\n",
       "      <td>10.373491</td>\n",
       "      <td>11.63</td>\n",
       "      <td>682</td>\n",
       "      <td>4710.000000</td>\n",
       "      <td>3511</td>\n",
       "      <td>25.6</td>\n",
       "      <td>1</td>\n",
       "      <td>0</td>\n",
       "      <td>0</td>\n",
       "      <td>0</td>\n",
       "    </tr>\n",
       "    <tr>\n",
       "      <th>3</th>\n",
       "      <td>1</td>\n",
       "      <td>debt_consolidation</td>\n",
       "      <td>0.1008</td>\n",
       "      <td>162.34</td>\n",
       "      <td>11.350407</td>\n",
       "      <td>8.10</td>\n",
       "      <td>712</td>\n",
       "      <td>2699.958333</td>\n",
       "      <td>33667</td>\n",
       "      <td>73.2</td>\n",
       "      <td>1</td>\n",
       "      <td>0</td>\n",
       "      <td>0</td>\n",
       "      <td>0</td>\n",
       "    </tr>\n",
       "    <tr>\n",
       "      <th>4</th>\n",
       "      <td>1</td>\n",
       "      <td>credit_card</td>\n",
       "      <td>0.1426</td>\n",
       "      <td>102.92</td>\n",
       "      <td>11.299732</td>\n",
       "      <td>14.97</td>\n",
       "      <td>667</td>\n",
       "      <td>4066.000000</td>\n",
       "      <td>4740</td>\n",
       "      <td>39.5</td>\n",
       "      <td>0</td>\n",
       "      <td>1</td>\n",
       "      <td>0</td>\n",
       "      <td>0</td>\n",
       "    </tr>\n",
       "    <tr>\n",
       "      <th>...</th>\n",
       "      <td>...</td>\n",
       "      <td>...</td>\n",
       "      <td>...</td>\n",
       "      <td>...</td>\n",
       "      <td>...</td>\n",
       "      <td>...</td>\n",
       "      <td>...</td>\n",
       "      <td>...</td>\n",
       "      <td>...</td>\n",
       "      <td>...</td>\n",
       "      <td>...</td>\n",
       "      <td>...</td>\n",
       "      <td>...</td>\n",
       "      <td>...</td>\n",
       "    </tr>\n",
       "    <tr>\n",
       "      <th>9573</th>\n",
       "      <td>0</td>\n",
       "      <td>all_other</td>\n",
       "      <td>0.1461</td>\n",
       "      <td>344.76</td>\n",
       "      <td>12.180755</td>\n",
       "      <td>10.39</td>\n",
       "      <td>672</td>\n",
       "      <td>10474.000000</td>\n",
       "      <td>215372</td>\n",
       "      <td>82.1</td>\n",
       "      <td>2</td>\n",
       "      <td>0</td>\n",
       "      <td>0</td>\n",
       "      <td>1</td>\n",
       "    </tr>\n",
       "    <tr>\n",
       "      <th>9574</th>\n",
       "      <td>0</td>\n",
       "      <td>all_other</td>\n",
       "      <td>0.1253</td>\n",
       "      <td>257.70</td>\n",
       "      <td>11.141862</td>\n",
       "      <td>0.21</td>\n",
       "      <td>722</td>\n",
       "      <td>4380.000000</td>\n",
       "      <td>184</td>\n",
       "      <td>1.1</td>\n",
       "      <td>5</td>\n",
       "      <td>0</td>\n",
       "      <td>0</td>\n",
       "      <td>1</td>\n",
       "    </tr>\n",
       "    <tr>\n",
       "      <th>9575</th>\n",
       "      <td>0</td>\n",
       "      <td>debt_consolidation</td>\n",
       "      <td>0.1071</td>\n",
       "      <td>97.81</td>\n",
       "      <td>10.596635</td>\n",
       "      <td>13.09</td>\n",
       "      <td>687</td>\n",
       "      <td>3450.041667</td>\n",
       "      <td>10036</td>\n",
       "      <td>82.9</td>\n",
       "      <td>8</td>\n",
       "      <td>0</td>\n",
       "      <td>0</td>\n",
       "      <td>1</td>\n",
       "    </tr>\n",
       "    <tr>\n",
       "      <th>9576</th>\n",
       "      <td>0</td>\n",
       "      <td>home_improvement</td>\n",
       "      <td>0.1600</td>\n",
       "      <td>351.58</td>\n",
       "      <td>10.819778</td>\n",
       "      <td>19.18</td>\n",
       "      <td>692</td>\n",
       "      <td>1800.000000</td>\n",
       "      <td>0</td>\n",
       "      <td>3.2</td>\n",
       "      <td>5</td>\n",
       "      <td>0</td>\n",
       "      <td>0</td>\n",
       "      <td>1</td>\n",
       "    </tr>\n",
       "    <tr>\n",
       "      <th>9577</th>\n",
       "      <td>0</td>\n",
       "      <td>debt_consolidation</td>\n",
       "      <td>0.1392</td>\n",
       "      <td>853.43</td>\n",
       "      <td>11.264464</td>\n",
       "      <td>16.28</td>\n",
       "      <td>732</td>\n",
       "      <td>4740.000000</td>\n",
       "      <td>37879</td>\n",
       "      <td>57.0</td>\n",
       "      <td>6</td>\n",
       "      <td>0</td>\n",
       "      <td>0</td>\n",
       "      <td>1</td>\n",
       "    </tr>\n",
       "  </tbody>\n",
       "</table>\n",
       "<p>9578 rows × 14 columns</p>\n",
       "</div>"
      ],
      "text/plain": [
       "      credit.policy             purpose  int.rate  installment  \\\n",
       "0                 1  debt_consolidation    0.1189       829.10   \n",
       "1                 1         credit_card    0.1071       228.22   \n",
       "2                 1  debt_consolidation    0.1357       366.86   \n",
       "3                 1  debt_consolidation    0.1008       162.34   \n",
       "4                 1         credit_card    0.1426       102.92   \n",
       "...             ...                 ...       ...          ...   \n",
       "9573              0           all_other    0.1461       344.76   \n",
       "9574              0           all_other    0.1253       257.70   \n",
       "9575              0  debt_consolidation    0.1071        97.81   \n",
       "9576              0    home_improvement    0.1600       351.58   \n",
       "9577              0  debt_consolidation    0.1392       853.43   \n",
       "\n",
       "      log.annual.inc    dti  fico  days.with.cr.line  revol.bal  revol.util  \\\n",
       "0          11.350407  19.48   737        5639.958333      28854        52.1   \n",
       "1          11.082143  14.29   707        2760.000000      33623        76.7   \n",
       "2          10.373491  11.63   682        4710.000000       3511        25.6   \n",
       "3          11.350407   8.10   712        2699.958333      33667        73.2   \n",
       "4          11.299732  14.97   667        4066.000000       4740        39.5   \n",
       "...              ...    ...   ...                ...        ...         ...   \n",
       "9573       12.180755  10.39   672       10474.000000     215372        82.1   \n",
       "9574       11.141862   0.21   722        4380.000000        184         1.1   \n",
       "9575       10.596635  13.09   687        3450.041667      10036        82.9   \n",
       "9576       10.819778  19.18   692        1800.000000          0         3.2   \n",
       "9577       11.264464  16.28   732        4740.000000      37879        57.0   \n",
       "\n",
       "      inq.last.6mths  delinq.2yrs  pub.rec  not.fully.paid  \n",
       "0                  0            0        0               0  \n",
       "1                  0            0        0               0  \n",
       "2                  1            0        0               0  \n",
       "3                  1            0        0               0  \n",
       "4                  0            1        0               0  \n",
       "...              ...          ...      ...             ...  \n",
       "9573               2            0        0               1  \n",
       "9574               5            0        0               1  \n",
       "9575               8            0        0               1  \n",
       "9576               5            0        0               1  \n",
       "9577               6            0        0               1  \n",
       "\n",
       "[9578 rows x 14 columns]"
      ]
     },
     "execution_count": 85,
     "metadata": {},
     "output_type": "execute_result"
    }
   ],
   "source": [
    "import pandas as pd\n",
    "df=pd.read_csv('data.csv')\n",
    "df"
   ]
  },
  {
   "cell_type": "code",
   "execution_count": 86,
   "id": "aafe1e18",
   "metadata": {},
   "outputs": [
    {
     "name": "stdout",
     "output_type": "stream",
     "text": [
      "<class 'pandas.core.frame.DataFrame'>\n",
      "RangeIndex: 9578 entries, 0 to 9577\n",
      "Data columns (total 14 columns):\n",
      " #   Column             Non-Null Count  Dtype  \n",
      "---  ------             --------------  -----  \n",
      " 0   credit.policy      9578 non-null   int64  \n",
      " 1   purpose            9578 non-null   object \n",
      " 2   int.rate           9578 non-null   float64\n",
      " 3   installment        9578 non-null   float64\n",
      " 4   log.annual.inc     9578 non-null   float64\n",
      " 5   dti                9578 non-null   float64\n",
      " 6   fico               9578 non-null   int64  \n",
      " 7   days.with.cr.line  9578 non-null   float64\n",
      " 8   revol.bal          9578 non-null   int64  \n",
      " 9   revol.util         9578 non-null   float64\n",
      " 10  inq.last.6mths     9578 non-null   int64  \n",
      " 11  delinq.2yrs        9578 non-null   int64  \n",
      " 12  pub.rec            9578 non-null   int64  \n",
      " 13  not.fully.paid     9578 non-null   int64  \n",
      "dtypes: float64(6), int64(7), object(1)\n",
      "memory usage: 1.0+ MB\n"
     ]
    }
   ],
   "source": [
    "df.info()"
   ]
  },
  {
   "cell_type": "code",
   "execution_count": 87,
   "id": "a33e84dd",
   "metadata": {},
   "outputs": [
    {
     "data": {
      "text/html": [
       "<div>\n",
       "<style scoped>\n",
       "    .dataframe tbody tr th:only-of-type {\n",
       "        vertical-align: middle;\n",
       "    }\n",
       "\n",
       "    .dataframe tbody tr th {\n",
       "        vertical-align: top;\n",
       "    }\n",
       "\n",
       "    .dataframe thead th {\n",
       "        text-align: right;\n",
       "    }\n",
       "</style>\n",
       "<table border=\"1\" class=\"dataframe\">\n",
       "  <thead>\n",
       "    <tr style=\"text-align: right;\">\n",
       "      <th></th>\n",
       "      <th>credit.policy</th>\n",
       "      <th>int.rate</th>\n",
       "      <th>installment</th>\n",
       "      <th>log.annual.inc</th>\n",
       "      <th>dti</th>\n",
       "      <th>fico</th>\n",
       "      <th>days.with.cr.line</th>\n",
       "      <th>revol.bal</th>\n",
       "      <th>revol.util</th>\n",
       "      <th>inq.last.6mths</th>\n",
       "      <th>delinq.2yrs</th>\n",
       "      <th>pub.rec</th>\n",
       "      <th>not.fully.paid</th>\n",
       "    </tr>\n",
       "  </thead>\n",
       "  <tbody>\n",
       "    <tr>\n",
       "      <th>count</th>\n",
       "      <td>9578.000000</td>\n",
       "      <td>9578.000000</td>\n",
       "      <td>9578.000000</td>\n",
       "      <td>9578.000000</td>\n",
       "      <td>9578.000000</td>\n",
       "      <td>9578.000000</td>\n",
       "      <td>9578.000000</td>\n",
       "      <td>9.578000e+03</td>\n",
       "      <td>9578.000000</td>\n",
       "      <td>9578.000000</td>\n",
       "      <td>9578.000000</td>\n",
       "      <td>9578.000000</td>\n",
       "      <td>9578.000000</td>\n",
       "    </tr>\n",
       "    <tr>\n",
       "      <th>mean</th>\n",
       "      <td>0.804970</td>\n",
       "      <td>0.122640</td>\n",
       "      <td>319.089413</td>\n",
       "      <td>10.932117</td>\n",
       "      <td>12.606679</td>\n",
       "      <td>710.846314</td>\n",
       "      <td>4560.767197</td>\n",
       "      <td>1.691396e+04</td>\n",
       "      <td>46.799236</td>\n",
       "      <td>1.577469</td>\n",
       "      <td>0.163708</td>\n",
       "      <td>0.062122</td>\n",
       "      <td>0.160054</td>\n",
       "    </tr>\n",
       "    <tr>\n",
       "      <th>std</th>\n",
       "      <td>0.396245</td>\n",
       "      <td>0.026847</td>\n",
       "      <td>207.071301</td>\n",
       "      <td>0.614813</td>\n",
       "      <td>6.883970</td>\n",
       "      <td>37.970537</td>\n",
       "      <td>2496.930377</td>\n",
       "      <td>3.375619e+04</td>\n",
       "      <td>29.014417</td>\n",
       "      <td>2.200245</td>\n",
       "      <td>0.546215</td>\n",
       "      <td>0.262126</td>\n",
       "      <td>0.366676</td>\n",
       "    </tr>\n",
       "    <tr>\n",
       "      <th>min</th>\n",
       "      <td>0.000000</td>\n",
       "      <td>0.060000</td>\n",
       "      <td>15.670000</td>\n",
       "      <td>7.547502</td>\n",
       "      <td>0.000000</td>\n",
       "      <td>612.000000</td>\n",
       "      <td>178.958333</td>\n",
       "      <td>0.000000e+00</td>\n",
       "      <td>0.000000</td>\n",
       "      <td>0.000000</td>\n",
       "      <td>0.000000</td>\n",
       "      <td>0.000000</td>\n",
       "      <td>0.000000</td>\n",
       "    </tr>\n",
       "    <tr>\n",
       "      <th>25%</th>\n",
       "      <td>1.000000</td>\n",
       "      <td>0.103900</td>\n",
       "      <td>163.770000</td>\n",
       "      <td>10.558414</td>\n",
       "      <td>7.212500</td>\n",
       "      <td>682.000000</td>\n",
       "      <td>2820.000000</td>\n",
       "      <td>3.187000e+03</td>\n",
       "      <td>22.600000</td>\n",
       "      <td>0.000000</td>\n",
       "      <td>0.000000</td>\n",
       "      <td>0.000000</td>\n",
       "      <td>0.000000</td>\n",
       "    </tr>\n",
       "    <tr>\n",
       "      <th>50%</th>\n",
       "      <td>1.000000</td>\n",
       "      <td>0.122100</td>\n",
       "      <td>268.950000</td>\n",
       "      <td>10.928884</td>\n",
       "      <td>12.665000</td>\n",
       "      <td>707.000000</td>\n",
       "      <td>4139.958333</td>\n",
       "      <td>8.596000e+03</td>\n",
       "      <td>46.300000</td>\n",
       "      <td>1.000000</td>\n",
       "      <td>0.000000</td>\n",
       "      <td>0.000000</td>\n",
       "      <td>0.000000</td>\n",
       "    </tr>\n",
       "    <tr>\n",
       "      <th>75%</th>\n",
       "      <td>1.000000</td>\n",
       "      <td>0.140700</td>\n",
       "      <td>432.762500</td>\n",
       "      <td>11.291293</td>\n",
       "      <td>17.950000</td>\n",
       "      <td>737.000000</td>\n",
       "      <td>5730.000000</td>\n",
       "      <td>1.824950e+04</td>\n",
       "      <td>70.900000</td>\n",
       "      <td>2.000000</td>\n",
       "      <td>0.000000</td>\n",
       "      <td>0.000000</td>\n",
       "      <td>0.000000</td>\n",
       "    </tr>\n",
       "    <tr>\n",
       "      <th>max</th>\n",
       "      <td>1.000000</td>\n",
       "      <td>0.216400</td>\n",
       "      <td>940.140000</td>\n",
       "      <td>14.528354</td>\n",
       "      <td>29.960000</td>\n",
       "      <td>827.000000</td>\n",
       "      <td>17639.958330</td>\n",
       "      <td>1.207359e+06</td>\n",
       "      <td>119.000000</td>\n",
       "      <td>33.000000</td>\n",
       "      <td>13.000000</td>\n",
       "      <td>5.000000</td>\n",
       "      <td>1.000000</td>\n",
       "    </tr>\n",
       "  </tbody>\n",
       "</table>\n",
       "</div>"
      ],
      "text/plain": [
       "       credit.policy     int.rate  installment  log.annual.inc          dti  \\\n",
       "count    9578.000000  9578.000000  9578.000000     9578.000000  9578.000000   \n",
       "mean        0.804970     0.122640   319.089413       10.932117    12.606679   \n",
       "std         0.396245     0.026847   207.071301        0.614813     6.883970   \n",
       "min         0.000000     0.060000    15.670000        7.547502     0.000000   \n",
       "25%         1.000000     0.103900   163.770000       10.558414     7.212500   \n",
       "50%         1.000000     0.122100   268.950000       10.928884    12.665000   \n",
       "75%         1.000000     0.140700   432.762500       11.291293    17.950000   \n",
       "max         1.000000     0.216400   940.140000       14.528354    29.960000   \n",
       "\n",
       "              fico  days.with.cr.line     revol.bal   revol.util  \\\n",
       "count  9578.000000        9578.000000  9.578000e+03  9578.000000   \n",
       "mean    710.846314        4560.767197  1.691396e+04    46.799236   \n",
       "std      37.970537        2496.930377  3.375619e+04    29.014417   \n",
       "min     612.000000         178.958333  0.000000e+00     0.000000   \n",
       "25%     682.000000        2820.000000  3.187000e+03    22.600000   \n",
       "50%     707.000000        4139.958333  8.596000e+03    46.300000   \n",
       "75%     737.000000        5730.000000  1.824950e+04    70.900000   \n",
       "max     827.000000       17639.958330  1.207359e+06   119.000000   \n",
       "\n",
       "       inq.last.6mths  delinq.2yrs      pub.rec  not.fully.paid  \n",
       "count     9578.000000  9578.000000  9578.000000     9578.000000  \n",
       "mean         1.577469     0.163708     0.062122        0.160054  \n",
       "std          2.200245     0.546215     0.262126        0.366676  \n",
       "min          0.000000     0.000000     0.000000        0.000000  \n",
       "25%          0.000000     0.000000     0.000000        0.000000  \n",
       "50%          1.000000     0.000000     0.000000        0.000000  \n",
       "75%          2.000000     0.000000     0.000000        0.000000  \n",
       "max         33.000000    13.000000     5.000000        1.000000  "
      ]
     },
     "execution_count": 87,
     "metadata": {},
     "output_type": "execute_result"
    }
   ],
   "source": [
    "df.describe()"
   ]
  },
  {
   "cell_type": "code",
   "execution_count": 88,
   "id": "396269f7",
   "metadata": {},
   "outputs": [
    {
     "name": "stderr",
     "output_type": "stream",
     "text": [
      "C:\\Users\\Administrator\\AppData\\Local\\Temp\\ipykernel_6288\\1134722465.py:1: FutureWarning: The default value of numeric_only in DataFrame.corr is deprecated. In a future version, it will default to False. Select only valid columns or specify the value of numeric_only to silence this warning.\n",
      "  df.corr()\n"
     ]
    },
    {
     "data": {
      "text/html": [
       "<div>\n",
       "<style scoped>\n",
       "    .dataframe tbody tr th:only-of-type {\n",
       "        vertical-align: middle;\n",
       "    }\n",
       "\n",
       "    .dataframe tbody tr th {\n",
       "        vertical-align: top;\n",
       "    }\n",
       "\n",
       "    .dataframe thead th {\n",
       "        text-align: right;\n",
       "    }\n",
       "</style>\n",
       "<table border=\"1\" class=\"dataframe\">\n",
       "  <thead>\n",
       "    <tr style=\"text-align: right;\">\n",
       "      <th></th>\n",
       "      <th>credit.policy</th>\n",
       "      <th>int.rate</th>\n",
       "      <th>installment</th>\n",
       "      <th>log.annual.inc</th>\n",
       "      <th>dti</th>\n",
       "      <th>fico</th>\n",
       "      <th>days.with.cr.line</th>\n",
       "      <th>revol.bal</th>\n",
       "      <th>revol.util</th>\n",
       "      <th>inq.last.6mths</th>\n",
       "      <th>delinq.2yrs</th>\n",
       "      <th>pub.rec</th>\n",
       "      <th>not.fully.paid</th>\n",
       "    </tr>\n",
       "  </thead>\n",
       "  <tbody>\n",
       "    <tr>\n",
       "      <th>credit.policy</th>\n",
       "      <td>1.000000</td>\n",
       "      <td>-0.294089</td>\n",
       "      <td>0.058770</td>\n",
       "      <td>0.034906</td>\n",
       "      <td>-0.090901</td>\n",
       "      <td>0.348319</td>\n",
       "      <td>0.099026</td>\n",
       "      <td>-0.187518</td>\n",
       "      <td>-0.104095</td>\n",
       "      <td>-0.535511</td>\n",
       "      <td>-0.076318</td>\n",
       "      <td>-0.054243</td>\n",
       "      <td>-0.158119</td>\n",
       "    </tr>\n",
       "    <tr>\n",
       "      <th>int.rate</th>\n",
       "      <td>-0.294089</td>\n",
       "      <td>1.000000</td>\n",
       "      <td>0.276140</td>\n",
       "      <td>0.056383</td>\n",
       "      <td>0.220006</td>\n",
       "      <td>-0.714821</td>\n",
       "      <td>-0.124022</td>\n",
       "      <td>0.092527</td>\n",
       "      <td>0.464837</td>\n",
       "      <td>0.202780</td>\n",
       "      <td>0.156079</td>\n",
       "      <td>0.098162</td>\n",
       "      <td>0.159552</td>\n",
       "    </tr>\n",
       "    <tr>\n",
       "      <th>installment</th>\n",
       "      <td>0.058770</td>\n",
       "      <td>0.276140</td>\n",
       "      <td>1.000000</td>\n",
       "      <td>0.448102</td>\n",
       "      <td>0.050202</td>\n",
       "      <td>0.086039</td>\n",
       "      <td>0.183297</td>\n",
       "      <td>0.233625</td>\n",
       "      <td>0.081356</td>\n",
       "      <td>-0.010419</td>\n",
       "      <td>-0.004368</td>\n",
       "      <td>-0.032760</td>\n",
       "      <td>0.049955</td>\n",
       "    </tr>\n",
       "    <tr>\n",
       "      <th>log.annual.inc</th>\n",
       "      <td>0.034906</td>\n",
       "      <td>0.056383</td>\n",
       "      <td>0.448102</td>\n",
       "      <td>1.000000</td>\n",
       "      <td>-0.054065</td>\n",
       "      <td>0.114576</td>\n",
       "      <td>0.336896</td>\n",
       "      <td>0.372140</td>\n",
       "      <td>0.054881</td>\n",
       "      <td>0.029171</td>\n",
       "      <td>0.029203</td>\n",
       "      <td>0.016506</td>\n",
       "      <td>-0.033439</td>\n",
       "    </tr>\n",
       "    <tr>\n",
       "      <th>dti</th>\n",
       "      <td>-0.090901</td>\n",
       "      <td>0.220006</td>\n",
       "      <td>0.050202</td>\n",
       "      <td>-0.054065</td>\n",
       "      <td>1.000000</td>\n",
       "      <td>-0.241191</td>\n",
       "      <td>0.060101</td>\n",
       "      <td>0.188748</td>\n",
       "      <td>0.337109</td>\n",
       "      <td>0.029189</td>\n",
       "      <td>-0.021792</td>\n",
       "      <td>0.006209</td>\n",
       "      <td>0.037362</td>\n",
       "    </tr>\n",
       "    <tr>\n",
       "      <th>fico</th>\n",
       "      <td>0.348319</td>\n",
       "      <td>-0.714821</td>\n",
       "      <td>0.086039</td>\n",
       "      <td>0.114576</td>\n",
       "      <td>-0.241191</td>\n",
       "      <td>1.000000</td>\n",
       "      <td>0.263880</td>\n",
       "      <td>-0.015553</td>\n",
       "      <td>-0.541289</td>\n",
       "      <td>-0.185293</td>\n",
       "      <td>-0.216340</td>\n",
       "      <td>-0.147592</td>\n",
       "      <td>-0.149666</td>\n",
       "    </tr>\n",
       "    <tr>\n",
       "      <th>days.with.cr.line</th>\n",
       "      <td>0.099026</td>\n",
       "      <td>-0.124022</td>\n",
       "      <td>0.183297</td>\n",
       "      <td>0.336896</td>\n",
       "      <td>0.060101</td>\n",
       "      <td>0.263880</td>\n",
       "      <td>1.000000</td>\n",
       "      <td>0.229344</td>\n",
       "      <td>-0.024239</td>\n",
       "      <td>-0.041736</td>\n",
       "      <td>0.081374</td>\n",
       "      <td>0.071826</td>\n",
       "      <td>-0.029237</td>\n",
       "    </tr>\n",
       "    <tr>\n",
       "      <th>revol.bal</th>\n",
       "      <td>-0.187518</td>\n",
       "      <td>0.092527</td>\n",
       "      <td>0.233625</td>\n",
       "      <td>0.372140</td>\n",
       "      <td>0.188748</td>\n",
       "      <td>-0.015553</td>\n",
       "      <td>0.229344</td>\n",
       "      <td>1.000000</td>\n",
       "      <td>0.203779</td>\n",
       "      <td>0.022394</td>\n",
       "      <td>-0.033243</td>\n",
       "      <td>-0.031010</td>\n",
       "      <td>0.053699</td>\n",
       "    </tr>\n",
       "    <tr>\n",
       "      <th>revol.util</th>\n",
       "      <td>-0.104095</td>\n",
       "      <td>0.464837</td>\n",
       "      <td>0.081356</td>\n",
       "      <td>0.054881</td>\n",
       "      <td>0.337109</td>\n",
       "      <td>-0.541289</td>\n",
       "      <td>-0.024239</td>\n",
       "      <td>0.203779</td>\n",
       "      <td>1.000000</td>\n",
       "      <td>-0.013880</td>\n",
       "      <td>-0.042740</td>\n",
       "      <td>0.066717</td>\n",
       "      <td>0.082088</td>\n",
       "    </tr>\n",
       "    <tr>\n",
       "      <th>inq.last.6mths</th>\n",
       "      <td>-0.535511</td>\n",
       "      <td>0.202780</td>\n",
       "      <td>-0.010419</td>\n",
       "      <td>0.029171</td>\n",
       "      <td>0.029189</td>\n",
       "      <td>-0.185293</td>\n",
       "      <td>-0.041736</td>\n",
       "      <td>0.022394</td>\n",
       "      <td>-0.013880</td>\n",
       "      <td>1.000000</td>\n",
       "      <td>0.021245</td>\n",
       "      <td>0.072673</td>\n",
       "      <td>0.149452</td>\n",
       "    </tr>\n",
       "    <tr>\n",
       "      <th>delinq.2yrs</th>\n",
       "      <td>-0.076318</td>\n",
       "      <td>0.156079</td>\n",
       "      <td>-0.004368</td>\n",
       "      <td>0.029203</td>\n",
       "      <td>-0.021792</td>\n",
       "      <td>-0.216340</td>\n",
       "      <td>0.081374</td>\n",
       "      <td>-0.033243</td>\n",
       "      <td>-0.042740</td>\n",
       "      <td>0.021245</td>\n",
       "      <td>1.000000</td>\n",
       "      <td>0.009184</td>\n",
       "      <td>0.008881</td>\n",
       "    </tr>\n",
       "    <tr>\n",
       "      <th>pub.rec</th>\n",
       "      <td>-0.054243</td>\n",
       "      <td>0.098162</td>\n",
       "      <td>-0.032760</td>\n",
       "      <td>0.016506</td>\n",
       "      <td>0.006209</td>\n",
       "      <td>-0.147592</td>\n",
       "      <td>0.071826</td>\n",
       "      <td>-0.031010</td>\n",
       "      <td>0.066717</td>\n",
       "      <td>0.072673</td>\n",
       "      <td>0.009184</td>\n",
       "      <td>1.000000</td>\n",
       "      <td>0.048634</td>\n",
       "    </tr>\n",
       "    <tr>\n",
       "      <th>not.fully.paid</th>\n",
       "      <td>-0.158119</td>\n",
       "      <td>0.159552</td>\n",
       "      <td>0.049955</td>\n",
       "      <td>-0.033439</td>\n",
       "      <td>0.037362</td>\n",
       "      <td>-0.149666</td>\n",
       "      <td>-0.029237</td>\n",
       "      <td>0.053699</td>\n",
       "      <td>0.082088</td>\n",
       "      <td>0.149452</td>\n",
       "      <td>0.008881</td>\n",
       "      <td>0.048634</td>\n",
       "      <td>1.000000</td>\n",
       "    </tr>\n",
       "  </tbody>\n",
       "</table>\n",
       "</div>"
      ],
      "text/plain": [
       "                   credit.policy  int.rate  installment  log.annual.inc  \\\n",
       "credit.policy           1.000000 -0.294089     0.058770        0.034906   \n",
       "int.rate               -0.294089  1.000000     0.276140        0.056383   \n",
       "installment             0.058770  0.276140     1.000000        0.448102   \n",
       "log.annual.inc          0.034906  0.056383     0.448102        1.000000   \n",
       "dti                    -0.090901  0.220006     0.050202       -0.054065   \n",
       "fico                    0.348319 -0.714821     0.086039        0.114576   \n",
       "days.with.cr.line       0.099026 -0.124022     0.183297        0.336896   \n",
       "revol.bal              -0.187518  0.092527     0.233625        0.372140   \n",
       "revol.util             -0.104095  0.464837     0.081356        0.054881   \n",
       "inq.last.6mths         -0.535511  0.202780    -0.010419        0.029171   \n",
       "delinq.2yrs            -0.076318  0.156079    -0.004368        0.029203   \n",
       "pub.rec                -0.054243  0.098162    -0.032760        0.016506   \n",
       "not.fully.paid         -0.158119  0.159552     0.049955       -0.033439   \n",
       "\n",
       "                        dti      fico  days.with.cr.line  revol.bal  \\\n",
       "credit.policy     -0.090901  0.348319           0.099026  -0.187518   \n",
       "int.rate           0.220006 -0.714821          -0.124022   0.092527   \n",
       "installment        0.050202  0.086039           0.183297   0.233625   \n",
       "log.annual.inc    -0.054065  0.114576           0.336896   0.372140   \n",
       "dti                1.000000 -0.241191           0.060101   0.188748   \n",
       "fico              -0.241191  1.000000           0.263880  -0.015553   \n",
       "days.with.cr.line  0.060101  0.263880           1.000000   0.229344   \n",
       "revol.bal          0.188748 -0.015553           0.229344   1.000000   \n",
       "revol.util         0.337109 -0.541289          -0.024239   0.203779   \n",
       "inq.last.6mths     0.029189 -0.185293          -0.041736   0.022394   \n",
       "delinq.2yrs       -0.021792 -0.216340           0.081374  -0.033243   \n",
       "pub.rec            0.006209 -0.147592           0.071826  -0.031010   \n",
       "not.fully.paid     0.037362 -0.149666          -0.029237   0.053699   \n",
       "\n",
       "                   revol.util  inq.last.6mths  delinq.2yrs   pub.rec  \\\n",
       "credit.policy       -0.104095       -0.535511    -0.076318 -0.054243   \n",
       "int.rate             0.464837        0.202780     0.156079  0.098162   \n",
       "installment          0.081356       -0.010419    -0.004368 -0.032760   \n",
       "log.annual.inc       0.054881        0.029171     0.029203  0.016506   \n",
       "dti                  0.337109        0.029189    -0.021792  0.006209   \n",
       "fico                -0.541289       -0.185293    -0.216340 -0.147592   \n",
       "days.with.cr.line   -0.024239       -0.041736     0.081374  0.071826   \n",
       "revol.bal            0.203779        0.022394    -0.033243 -0.031010   \n",
       "revol.util           1.000000       -0.013880    -0.042740  0.066717   \n",
       "inq.last.6mths      -0.013880        1.000000     0.021245  0.072673   \n",
       "delinq.2yrs         -0.042740        0.021245     1.000000  0.009184   \n",
       "pub.rec              0.066717        0.072673     0.009184  1.000000   \n",
       "not.fully.paid       0.082088        0.149452     0.008881  0.048634   \n",
       "\n",
       "                   not.fully.paid  \n",
       "credit.policy           -0.158119  \n",
       "int.rate                 0.159552  \n",
       "installment              0.049955  \n",
       "log.annual.inc          -0.033439  \n",
       "dti                      0.037362  \n",
       "fico                    -0.149666  \n",
       "days.with.cr.line       -0.029237  \n",
       "revol.bal                0.053699  \n",
       "revol.util               0.082088  \n",
       "inq.last.6mths           0.149452  \n",
       "delinq.2yrs              0.008881  \n",
       "pub.rec                  0.048634  \n",
       "not.fully.paid           1.000000  "
      ]
     },
     "execution_count": 88,
     "metadata": {},
     "output_type": "execute_result"
    }
   ],
   "source": [
    "df.corr()"
   ]
  },
  {
   "cell_type": "code",
   "execution_count": 89,
   "id": "c5113fb3",
   "metadata": {},
   "outputs": [],
   "source": [
    "import seaborn as sns"
   ]
  },
  {
   "cell_type": "code",
   "execution_count": 91,
   "id": "d9129d6e",
   "metadata": {},
   "outputs": [
    {
     "name": "stderr",
     "output_type": "stream",
     "text": [
      "C:\\Users\\Administrator\\AppData\\Local\\Temp\\ipykernel_6288\\4277794465.py:1: FutureWarning: The default value of numeric_only in DataFrame.corr is deprecated. In a future version, it will default to False. Select only valid columns or specify the value of numeric_only to silence this warning.\n",
      "  sns.heatmap(df.corr(),annot=True)\n"
     ]
    },
    {
     "data": {
      "text/plain": [
       "<Axes: >"
      ]
     },
     "execution_count": 91,
     "metadata": {},
     "output_type": "execute_result"
    },
    {
     "data": {
      "image/png": "[encoded data removed]",
      "text/plain": [
       "<Figure size 640x480 with 2 Axes>"
      ]
     },
     "metadata": {},
     "output_type": "display_data"
    }
   ],
   "source": [
    "sns.heatmap(df.corr(),annot=True)"
   ]
  },
  {
   "cell_type": "code",
   "execution_count": null,
   "id": "236a8db7",
   "metadata": {},
   "outputs": [],
   "source": []
  }
 ],
 "metadata": {
  "kernelspec": {
   "display_name": "Python 3 (ipykernel)",
   "language": "python",
   "name": "python3"
  },
  "language_info": {
   "codemirror_mode": {
    "name": "ipython",
    "version": 3
   },
   "file_extension": ".py",
   "mimetype": "text/x-python",
   "name": "python",
   "nbconvert_exporter": "python",
   "pygments_lexer": "ipython3",
   "version": "3.10.9"
  }
 },
 "nbformat": 4,
 "nbformat_minor": 5
}
