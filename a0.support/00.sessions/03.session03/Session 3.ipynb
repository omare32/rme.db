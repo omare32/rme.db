{
 "cells": [
  {
   "cell_type": "markdown",
   "id": "2651e101",
   "metadata": {},
   "source": [
    "### If "
   ]
  },
  {
   "cell_type": "markdown",
   "id": "ee4885a3",
   "metadata": {},
   "source": [
    "if cond:\n",
    "    \n",
    "    actions\n",
    "    \n",
    "else:\n",
    "    \n",
    "\n",
    "    \n",
    "\n",
    "print    \n",
    "x=\n"
   ]
  },
  {
   "cell_type": "code",
   "execution_count": 1,
   "id": "41807c8c",
   "metadata": {},
   "outputs": [
    {
     "data": {
      "text/plain": [
       "True"
      ]
     },
     "execution_count": 1,
     "metadata": {},
     "output_type": "execute_result"
    }
   ],
   "source": [
    "x=8\n",
    "x%2==0"
   ]
  },
  {
   "cell_type": "code",
   "execution_count": 2,
   "id": "883658ed",
   "metadata": {},
   "outputs": [
    {
     "name": "stdout",
     "output_type": "stream",
     "text": [
      "even\n"
     ]
    }
   ],
   "source": [
    "if x%2==0:\n",
    "    print('even')\n"
   ]
  },
  {
   "cell_type": "code",
   "execution_count": 3,
   "id": "dfd2877d",
   "metadata": {},
   "outputs": [],
   "source": [
    "x=9\n",
    "if x%2==0:\n",
    "    print('even')\n"
   ]
  },
  {
   "cell_type": "code",
   "execution_count": 13,
   "id": "7ff65f6b",
   "metadata": {},
   "outputs": [
    {
     "name": "stdout",
     "output_type": "stream",
     "text": [
      "end\n"
     ]
    }
   ],
   "source": [
    "x=9\n",
    "if x%2==0:\n",
    "    print('even')\n",
    "\n",
    "print('end')"
   ]
  },
  {
   "cell_type": "code",
   "execution_count": 11,
   "id": "561bcb11",
   "metadata": {},
   "outputs": [
    {
     "name": "stdout",
     "output_type": "stream",
     "text": [
      "even\n"
     ]
    }
   ],
   "source": [
    "x=8\n",
    "if x%2==0:\n",
    "    print('even')\n",
    "else:\n",
    "    print('odd')\n"
   ]
  },
  {
   "cell_type": "code",
   "execution_count": 12,
   "id": "d301ec6f",
   "metadata": {},
   "outputs": [
    {
     "name": "stdout",
     "output_type": "stream",
     "text": [
      "not ok\n"
     ]
    }
   ],
   "source": [
    "if x>8 and x%2==0:\n",
    "    print('OK')\n",
    "else:\n",
    "    print('not ok')"
   ]
  },
  {
   "cell_type": "code",
   "execution_count": null,
   "id": "f992e9cb",
   "metadata": {},
   "outputs": [],
   "source": [
    "if cond1:\n",
    "    \n",
    "elif cond2:\n",
    "    \n",
    "elif cond3:\n",
    "    \n",
    "else:\n",
    "    \n",
    "    "
   ]
  },
  {
   "cell_type": "code",
   "execution_count": null,
   "id": "55c147ec",
   "metadata": {},
   "outputs": [],
   "source": [
    "if cond:\n",
    "    \n",
    "else:\n",
    "    \n",
    "\n"
   ]
  },
  {
   "cell_type": "code",
   "execution_count": 18,
   "id": "91b13f95",
   "metadata": {},
   "outputs": [
    {
     "name": "stdout",
     "output_type": "stream",
     "text": [
      "Enter: 11\n",
      "11\n",
      "4\n",
      "88\n"
     ]
    },
    {
     "ename": "NameError",
     "evalue": "name 'c' is not defined",
     "output_type": "error",
     "traceback": [
      "\u001B[1;31m---------------------------------------------------------------------------\u001B[0m",
      "\u001B[1;31mNameError\u001B[0m                                 Traceback (most recent call last)",
      "\u001B[1;32m<ipython-input-18-c2e5975b8956>\u001B[0m in \u001B[0;36m<module>\u001B[1;34m\u001B[0m\n\u001B[0;32m     13\u001B[0m \u001B[0mprint\u001B[0m\u001B[1;33m(\u001B[0m\u001B[0mx\u001B[0m\u001B[1;33m)\u001B[0m\u001B[1;33m\u001B[0m\u001B[1;33m\u001B[0m\u001B[0m\n\u001B[0;32m     14\u001B[0m \u001B[0mprint\u001B[0m\u001B[1;33m(\u001B[0m\u001B[0mv\u001B[0m\u001B[1;33m)\u001B[0m\u001B[1;33m\u001B[0m\u001B[1;33m\u001B[0m\u001B[0m\n\u001B[1;32m---> 15\u001B[1;33m \u001B[0mprint\u001B[0m\u001B[1;33m(\u001B[0m\u001B[0mc\u001B[0m\u001B[1;33m)\u001B[0m\u001B[1;33m\u001B[0m\u001B[1;33m\u001B[0m\u001B[0m\n\u001B[0m",
      "\u001B[1;31mNameError\u001B[0m: name 'c' is not defined"
     ]
    }
   ],
   "source": [
    "x=int(input('Enter: '))\n",
    "if x==9:\n",
    "    print(x)\n",
    "    x+=3#x=x+3\n",
    "    v=99\n",
    "    c=int(input('Enter: '))\n",
    "    print(w)\n",
    "else:\n",
    "    print(x)\n",
    "    x-=7\n",
    "    v=88\n",
    "    \n",
    "print(x)\n",
    "print(v)\n",
    "print(c)"
   ]
  },
  {
   "cell_type": "code",
   "execution_count": 21,
   "id": "fe64a2fb",
   "metadata": {},
   "outputs": [
    {
     "name": "stdout",
     "output_type": "stream",
     "text": [
      "Enter n1: 3\n",
      "Enter n2: 2\n",
      "Operator: /\n",
      "1.5\n"
     ]
    }
   ],
   "source": [
    "n1=int(input('Enter n1: '))\n",
    "n2=int(input('Enter n2: '))\n",
    "op=input('Operator: ') # + - / * % **\n",
    "\n",
    "\n",
    "if op=='+':\n",
    "    print(n1+n2)\n",
    "elif op=='-':\n",
    "    print(n1-n2)\n",
    "elif op=='*':\n",
    "    print(n1*n2)\n",
    "elif op=='/':\n",
    "    print(n1/n2)\n",
    "elif op=='%':\n",
    "    print(n1%n2)\n",
    "elif op=='**':\n",
    "    print(n1**n2)\n",
    "else:\n",
    "    print('wrong operator')\n",
    "\n"
   ]
  },
  {
   "cell_type": "code",
   "execution_count": 33,
   "id": "6f272e9b",
   "metadata": {},
   "outputs": [
    {
     "name": "stdout",
     "output_type": "stream",
     "text": [
      "Enter ur operation: 4 + 7\n",
      "11\n"
     ]
    }
   ],
   "source": [
    "operation=input('Enter ur operation: ')\n",
    "\n",
    "n1=int(operation.split()[0])\n",
    "n2=int(operation.split()[2])\n",
    "op=operation.split()[1]# + - / * % **\n",
    "\n",
    "\n",
    "if op=='+':\n",
    "    print(n1+n2)\n",
    "elif op=='-':\n",
    "    print(n1-n2)\n",
    "elif op=='*':\n",
    "    print(n1*n2)\n",
    "elif op=='/':\n",
    "    print(n1/n2)\n",
    "elif op=='%':\n",
    "    print(n1%n2)\n",
    "elif op=='**':\n",
    "    print(n1**n2)\n",
    "else:\n",
    "    print('wrong operator')\n",
    "\n"
   ]
  },
  {
   "cell_type": "code",
   "execution_count": 23,
   "id": "29fd785a",
   "metadata": {},
   "outputs": [
    {
     "name": "stdout",
     "output_type": "stream",
     "text": [
      "Enter ur operation: 4 + 7\n"
     ]
    }
   ],
   "source": [
    "operation=input('Enter ur operation: ')"
   ]
  },
  {
   "cell_type": "code",
   "execution_count": 24,
   "id": "87c99a03",
   "metadata": {},
   "outputs": [
    {
     "data": {
      "text/plain": [
       "'4 + 7'"
      ]
     },
     "execution_count": 24,
     "metadata": {},
     "output_type": "execute_result"
    }
   ],
   "source": [
    "operation"
   ]
  },
  {
   "cell_type": "code",
   "execution_count": 32,
   "id": "5e0bb84c",
   "metadata": {},
   "outputs": [
    {
     "data": {
      "text/plain": [
       "'7'"
      ]
     },
     "execution_count": 32,
     "metadata": {},
     "output_type": "execute_result"
    }
   ],
   "source": [
    "operation .split()[2]"
   ]
  },
  {
   "cell_type": "code",
   "execution_count": 45,
   "id": "bb1b54bc",
   "metadata": {},
   "outputs": [
    {
     "name": "stdout",
     "output_type": "stream",
     "text": [
      "options \n",
      " 1- Addition \n",
      " 2- Subtract \n",
      " 3- Multiply \n",
      " 4- Divide \n",
      "Enter ur option: 4\n",
      "5/0\n",
      "can't divide on zero\n"
     ]
    }
   ],
   "source": [
    "print('options \\n 1- Addition \\n 2- Subtract \\n 3- Multiply \\n 4- Divide ')\n",
    "option=input('Enter ur option: ')\n",
    "if option =='1':\n",
    "    operation=input()\n",
    "    n1=int(operation.split('+')[0])\n",
    "    n2=int(operation.split('+')[1])\n",
    "    print(f'{n1} + {n2} ={n1+n2}')\n",
    "elif option =='2':\n",
    "    operation=input()\n",
    "    n1=int(operation.split('-')[0])\n",
    "    n2=int(operation.split('-')[1])\n",
    "    print(f'{n1} - {n2} ={n1-n2}')\n",
    "elif option =='3':\n",
    "    operation=input()\n",
    "    n1=int(operation.split('*')[0])\n",
    "    n2=int(operation.split('*')[1])\n",
    "    print(f'{n1} * {n2} ={n1*n2}')\n",
    "elif option =='4':\n",
    "    operation=input()\n",
    "    n1=int(operation.split('/')[0])\n",
    "    n2=int(operation.split('/')[1])\n",
    "    if n2 ==0:\n",
    "        print(\"can't divide on zero\")\n",
    "    else:\n",
    "        print(f'{n1} / {n2} ={n1/n2}')\n",
    "else:\n",
    "    print('wrong option')\n",
    "    \n"
   ]
  },
  {
   "cell_type": "code",
   "execution_count": 39,
   "id": "f1ab9a7c",
   "metadata": {},
   "outputs": [
    {
     "data": {
      "text/plain": [
       "['3 ', ' 7 ']"
      ]
     },
     "execution_count": 39,
     "metadata": {},
     "output_type": "execute_result"
    }
   ],
   "source": [
    "opt='3 + 7 '\n",
    "opt.split('+')"
   ]
  },
  {
   "cell_type": "code",
   "execution_count": 40,
   "id": "79aa6afb",
   "metadata": {},
   "outputs": [
    {
     "data": {
      "text/plain": [
       "3"
      ]
     },
     "execution_count": 40,
     "metadata": {},
     "output_type": "execute_result"
    }
   ],
   "source": [
    "int('3 ')"
   ]
  },
  {
   "cell_type": "code",
   "execution_count": 47,
   "id": "02656693",
   "metadata": {},
   "outputs": [
    {
     "data": {
      "text/plain": [
       "inf"
      ]
     },
     "execution_count": 47,
     "metadata": {},
     "output_type": "execute_result"
    }
   ],
   "source": [
    "n=float('inf')\n",
    "n"
   ]
  },
  {
   "cell_type": "code",
   "execution_count": 49,
   "id": "2b45a324",
   "metadata": {},
   "outputs": [],
   "source": [
    "n=None\n"
   ]
  },
  {
   "cell_type": "code",
   "execution_count": 66,
   "id": "838bfdaf",
   "metadata": {},
   "outputs": [
    {
     "name": "stdout",
     "output_type": "stream",
     "text": [
      "mmmm\n",
      "mmmm\n"
     ]
    }
   ],
   "source": [
    "# input a text then check if the length > 15 print the last 3 chars , \n",
    "#if length >20 print the second half of the string else print the first word \n",
    "text=input()\n",
    "\n",
    "if len(text)>20:\n",
    "    print (text[int(len(text)/2):])\n",
    "elif len(text) >15:\n",
    "    print(text[-3:])\n",
    "else:\n",
    "    print(text.split()[0])\n",
    "\n"
   ]
  },
  {
   "cell_type": "code",
   "execution_count": 52,
   "id": "430daab1",
   "metadata": {},
   "outputs": [
    {
     "name": "stdout",
     "output_type": "stream",
     "text": [
      "1\n"
     ]
    }
   ],
   "source": [
    "x=30\n",
    "\n",
    "if x>20:\n",
    "    print('2')\n",
    "elif x>15:\n",
    "    print('1')\n",
    "else:\n",
    "    print('3')"
   ]
  },
  {
   "cell_type": "code",
   "execution_count": 53,
   "id": "89b4eea7",
   "metadata": {},
   "outputs": [],
   "source": [
    "t='mmmm hhfklll'\n"
   ]
  },
  {
   "cell_type": "code",
   "execution_count": 55,
   "id": "350cb7bf",
   "metadata": {},
   "outputs": [
    {
     "data": {
      "text/plain": [
       "6.0"
      ]
     },
     "execution_count": 55,
     "metadata": {},
     "output_type": "execute_result"
    }
   ],
   "source": [
    "len(t)/2"
   ]
  },
  {
   "cell_type": "code",
   "execution_count": 57,
   "id": "f0741843",
   "metadata": {},
   "outputs": [
    {
     "ename": "TypeError",
     "evalue": "string indices must be integers",
     "output_type": "error",
     "traceback": [
      "\u001B[1;31m---------------------------------------------------------------------------\u001B[0m",
      "\u001B[1;31mTypeError\u001B[0m                                 Traceback (most recent call last)",
      "\u001B[1;32m<ipython-input-57-fc96bf603722>\u001B[0m in \u001B[0;36m<module>\u001B[1;34m\u001B[0m\n\u001B[1;32m----> 1\u001B[1;33m \u001B[0mt\u001B[0m\u001B[1;33m[\u001B[0m\u001B[1;36m6.0\u001B[0m\u001B[1;33m]\u001B[0m\u001B[1;33m\u001B[0m\u001B[1;33m\u001B[0m\u001B[0m\n\u001B[0m",
      "\u001B[1;31mTypeError\u001B[0m: string indices must be integers"
     ]
    }
   ],
   "source": [
    "t[6.0]"
   ]
  },
  {
   "cell_type": "code",
   "execution_count": 58,
   "id": "7de704da",
   "metadata": {},
   "outputs": [
    {
     "data": {
      "text/plain": [
       "'hfklll'"
      ]
     },
     "execution_count": 58,
     "metadata": {},
     "output_type": "execute_result"
    }
   ],
   "source": [
    "t[int(len(t)/2):]"
   ]
  },
  {
   "cell_type": "code",
   "execution_count": 59,
   "id": "a61498dc",
   "metadata": {},
   "outputs": [
    {
     "data": {
      "text/plain": [
       "'mmmm hhfklll'"
      ]
     },
     "execution_count": 59,
     "metadata": {},
     "output_type": "execute_result"
    }
   ],
   "source": [
    "t"
   ]
  },
  {
   "cell_type": "code",
   "execution_count": 60,
   "id": "5aedd7a1",
   "metadata": {},
   "outputs": [
    {
     "data": {
      "text/plain": [
       "'mm'"
      ]
     },
     "execution_count": 60,
     "metadata": {},
     "output_type": "execute_result"
    }
   ],
   "source": [
    "t[:len(t.split())]"
   ]
  },
  {
   "cell_type": "code",
   "execution_count": 62,
   "id": "b8ccaf5a",
   "metadata": {},
   "outputs": [
    {
     "data": {
      "text/plain": [
       "['mmmm', 'hhfklll']"
      ]
     },
     "execution_count": 62,
     "metadata": {},
     "output_type": "execute_result"
    }
   ],
   "source": [
    "t.split()"
   ]
  },
  {
   "cell_type": "markdown",
   "id": "84494c16",
   "metadata": {},
   "source": [
    "### For loops"
   ]
  },
  {
   "cell_type": "code",
   "execution_count": 67,
   "id": "61457db8",
   "metadata": {},
   "outputs": [
    {
     "name": "stdout",
     "output_type": "stream",
     "text": [
      "1\n",
      "2\n"
     ]
    }
   ],
   "source": [
    "l=[1,2,3,4]\n",
    "print(l[0])\n",
    "print(l[1])"
   ]
  },
  {
   "cell_type": "code",
   "execution_count": 68,
   "id": "b2a5c8df",
   "metadata": {},
   "outputs": [
    {
     "name": "stdout",
     "output_type": "stream",
     "text": [
      "1\n",
      "2\n",
      "3\n",
      "4\n"
     ]
    }
   ],
   "source": [
    "for var in l:\n",
    "    print(var)"
   ]
  },
  {
   "cell_type": "code",
   "execution_count": 70,
   "id": "5492b57b",
   "metadata": {},
   "outputs": [
    {
     "data": {
      "text/plain": [
       "False"
      ]
     },
     "execution_count": 70,
     "metadata": {},
     "output_type": "execute_result"
    }
   ],
   "source": [
    "12 in [3,5,66,1]"
   ]
  },
  {
   "cell_type": "code",
   "execution_count": 75,
   "id": "da0cf214",
   "metadata": {},
   "outputs": [
    {
     "data": {
      "text/plain": [
       "[2, 4, 6, 8]"
      ]
     },
     "execution_count": 75,
     "metadata": {},
     "output_type": "execute_result"
    }
   ],
   "source": [
    "list(range(2,10,2))"
   ]
  },
  {
   "cell_type": "code",
   "execution_count": 78,
   "id": "afb47e6c",
   "metadata": {},
   "outputs": [
    {
     "data": {
      "text/plain": [
       "range(0, 10)"
      ]
     },
     "execution_count": 78,
     "metadata": {},
     "output_type": "execute_result"
    }
   ],
   "source": [
    "range(10)"
   ]
  },
  {
   "cell_type": "code",
   "execution_count": 81,
   "id": "28d88479",
   "metadata": {},
   "outputs": [
    {
     "name": "stdout",
     "output_type": "stream",
     "text": [
      "0\n",
      "1\n",
      "2\n",
      "3\n",
      "4\n",
      "5\n",
      "6\n",
      "7\n",
      "8\n",
      "9\n"
     ]
    }
   ],
   "source": [
    "for i in range(10):\n",
    "    print(i)"
   ]
  },
  {
   "cell_type": "code",
   "execution_count": 82,
   "id": "70b8935f",
   "metadata": {},
   "outputs": [
    {
     "name": "stdout",
     "output_type": "stream",
     "text": [
      "19\n"
     ]
    }
   ],
   "source": [
    "x=0\n",
    "l=[1,2,3,5,8]\n",
    "for i in l:\n",
    "    x+=i\n",
    "    \n",
    "print(x)"
   ]
  },
  {
   "cell_type": "code",
   "execution_count": 85,
   "id": "0c2dfede",
   "metadata": {},
   "outputs": [
    {
     "name": "stdout",
     "output_type": "stream",
     "text": [
      "hello\n",
      "1\n",
      "hello\n",
      "2\n",
      "hello\n",
      "3\n",
      "hello\n",
      "4\n",
      "hello\n",
      "5\n",
      "hello\n",
      "6\n",
      "hello\n",
      "7\n",
      "hello\n",
      "8\n",
      "hello\n",
      "9\n",
      "hello\n",
      "10\n"
     ]
    }
   ],
   "source": [
    "for i in range(10):\n",
    "    i+=1\n",
    "    print('hello')\n",
    "    print(i)"
   ]
  },
  {
   "cell_type": "code",
   "execution_count": 90,
   "id": "2addbfec",
   "metadata": {},
   "outputs": [
    {
     "name": "stdout",
     "output_type": "stream",
     "text": [
      "hhh\n",
      "----------------------\n",
      "h\n",
      "h\n",
      "h\n",
      "------------\n",
      "iii\n",
      "----------------------\n",
      "i\n",
      "i\n",
      "i\n",
      "------------\n",
      "ooo\n",
      "----------------------\n",
      "o\n",
      "o\n",
      "o\n",
      "------------\n"
     ]
    }
   ],
   "source": [
    "d=['hhh','iii','ooo']\n",
    "for t in d:\n",
    "    print(t)\n",
    "    print('-'*22)#-------\n",
    "    for i in t:\n",
    "        print(i)\n",
    "    print('-'*12)#-------"
   ]
  },
  {
   "cell_type": "code",
   "execution_count": 87,
   "id": "84bcda4b",
   "metadata": {},
   "outputs": [
    {
     "name": "stdout",
     "output_type": "stream",
     "text": [
      "m\n",
      "o\n",
      "h\n",
      "a\n",
      "m\n",
      "e\n",
      "d\n"
     ]
    }
   ],
   "source": [
    "name='mohamed'\n",
    "for w in name:\n",
    "    print(w)"
   ]
  },
  {
   "cell_type": "code",
   "execution_count": 97,
   "id": "2ea16f78",
   "metadata": {},
   "outputs": [],
   "source": [
    "x=9\n",
    "y=10\n",
    "for i in range(10):\n",
    "    x+=i\n",
    "    y-=i"
   ]
  },
  {
   "cell_type": "code",
   "execution_count": 92,
   "id": "7ba1fb60",
   "metadata": {},
   "outputs": [
    {
     "data": {
      "text/plain": [
       "54"
      ]
     },
     "execution_count": 92,
     "metadata": {},
     "output_type": "execute_result"
    }
   ],
   "source": [
    "x"
   ]
  },
  {
   "cell_type": "code",
   "execution_count": 93,
   "id": "52d6b019",
   "metadata": {},
   "outputs": [
    {
     "data": {
      "text/plain": [
       "-35"
      ]
     },
     "execution_count": 93,
     "metadata": {},
     "output_type": "execute_result"
    }
   ],
   "source": [
    "y"
   ]
  },
  {
   "cell_type": "code",
   "execution_count": 95,
   "id": "06ba4f95",
   "metadata": {},
   "outputs": [
    {
     "name": "stdout",
     "output_type": "stream",
     "text": [
      "44\n",
      "55\n"
     ]
    }
   ],
   "source": [
    "l=[input(),input()]"
   ]
  },
  {
   "cell_type": "code",
   "execution_count": null,
   "id": "79741438",
   "metadata": {},
   "outputs": [],
   "source": []
  },
  {
   "cell_type": "code",
   "execution_count": 96,
   "id": "b63a0712",
   "metadata": {},
   "outputs": [
    {
     "data": {
      "text/plain": [
       "['44', '55']"
      ]
     },
     "execution_count": 96,
     "metadata": {},
     "output_type": "execute_result"
    }
   ],
   "source": [
    "l"
   ]
  },
  {
   "cell_type": "code",
   "execution_count": 98,
   "id": "890bb591",
   "metadata": {},
   "outputs": [
    {
     "data": {
      "text/plain": [
       "[1, 2, 3, 4, 5, 6, 7, 8, 9, 10, 11, 12]"
      ]
     },
     "execution_count": 98,
     "metadata": {},
     "output_type": "execute_result"
    }
   ],
   "source": [
    "l1=list(range(1,13))\n",
    "l1"
   ]
  },
  {
   "cell_type": "code",
   "execution_count": 99,
   "id": "6d7f4bf1",
   "metadata": {},
   "outputs": [
    {
     "data": {
      "text/plain": [
       "[1, 2, 3, 4, 5, 6, 7, 8, 9, 10, 11, 12]"
      ]
     },
     "execution_count": 99,
     "metadata": {},
     "output_type": "execute_result"
    }
   ],
   "source": [
    "l1"
   ]
  },
  {
   "cell_type": "code",
   "execution_count": 100,
   "id": "40bb4b4a",
   "metadata": {},
   "outputs": [],
   "source": [
    "x=8\n"
   ]
  },
  {
   "cell_type": "code",
   "execution_count": 101,
   "id": "287aa1e4",
   "metadata": {},
   "outputs": [],
   "source": [
    "x*=2"
   ]
  },
  {
   "cell_type": "code",
   "execution_count": 102,
   "id": "b56a2696",
   "metadata": {},
   "outputs": [
    {
     "data": {
      "text/plain": [
       "16"
      ]
     },
     "execution_count": 102,
     "metadata": {},
     "output_type": "execute_result"
    }
   ],
   "source": [
    "x"
   ]
  },
  {
   "cell_type": "code",
   "execution_count": 103,
   "id": "b077b96f",
   "metadata": {},
   "outputs": [
    {
     "data": {
      "text/plain": [
       "[1, 2, 3, 4, 5, 6, 7, 8, 9, 10, 11, 12]"
      ]
     },
     "execution_count": 103,
     "metadata": {},
     "output_type": "execute_result"
    }
   ],
   "source": [
    "l1"
   ]
  },
  {
   "cell_type": "code",
   "execution_count": 104,
   "id": "6df69cf2",
   "metadata": {},
   "outputs": [
    {
     "data": {
      "text/plain": [
       "[1, 2, 3, 4, 5, 6, 7, 8, 9, 10, 11, 12]"
      ]
     },
     "execution_count": 104,
     "metadata": {},
     "output_type": "execute_result"
    }
   ],
   "source": [
    "l1"
   ]
  },
  {
   "cell_type": "code",
   "execution_count": 110,
   "id": "9126045f",
   "metadata": {},
   "outputs": [
    {
     "name": "stdout",
     "output_type": "stream",
     "text": [
      "Mult table for 1\n",
      "---\n",
      "1*1=1\n",
      "1*2=2\n",
      "1*3=3\n",
      "1*4=4\n",
      "1*5=5\n",
      "1*6=6\n",
      "1*7=7\n",
      "1*8=8\n",
      "1*9=9\n",
      "1*10=10\n",
      "1*11=11\n",
      "1*12=12\n",
      "----\n",
      "Mult table for 2\n",
      "---\n",
      "2*1=2\n",
      "2*2=4\n",
      "2*3=6\n",
      "2*4=8\n",
      "2*5=10\n",
      "2*6=12\n",
      "2*7=14\n",
      "2*8=16\n",
      "2*9=18\n",
      "2*10=20\n",
      "2*11=22\n",
      "2*12=24\n",
      "----\n",
      "Mult table for 3\n",
      "---\n",
      "3*1=3\n",
      "3*2=6\n",
      "3*3=9\n",
      "3*4=12\n",
      "3*5=15\n",
      "3*6=18\n",
      "3*7=21\n",
      "3*8=24\n",
      "3*9=27\n",
      "3*10=30\n",
      "3*11=33\n",
      "3*12=36\n",
      "----\n",
      "Mult table for 4\n",
      "---\n",
      "4*1=4\n",
      "4*2=8\n",
      "4*3=12\n",
      "4*4=16\n",
      "4*5=20\n",
      "4*6=24\n",
      "4*7=28\n",
      "4*8=32\n",
      "4*9=36\n",
      "4*10=40\n",
      "4*11=44\n",
      "4*12=48\n",
      "----\n",
      "Mult table for 5\n",
      "---\n",
      "5*1=5\n",
      "5*2=10\n",
      "5*3=15\n",
      "5*4=20\n",
      "5*5=25\n",
      "5*6=30\n",
      "5*7=35\n",
      "5*8=40\n",
      "5*9=45\n",
      "5*10=50\n",
      "5*11=55\n",
      "5*12=60\n",
      "----\n",
      "Mult table for 6\n",
      "---\n",
      "6*1=6\n",
      "6*2=12\n",
      "6*3=18\n",
      "6*4=24\n",
      "6*5=30\n",
      "6*6=36\n",
      "6*7=42\n",
      "6*8=48\n",
      "6*9=54\n",
      "6*10=60\n",
      "6*11=66\n",
      "6*12=72\n",
      "----\n",
      "Mult table for 7\n",
      "---\n",
      "7*1=7\n",
      "7*2=14\n",
      "7*3=21\n",
      "7*4=28\n",
      "7*5=35\n",
      "7*6=42\n",
      "7*7=49\n",
      "7*8=56\n",
      "7*9=63\n",
      "7*10=70\n",
      "7*11=77\n",
      "7*12=84\n",
      "----\n",
      "Mult table for 8\n",
      "---\n",
      "8*1=8\n",
      "8*2=16\n",
      "8*3=24\n",
      "8*4=32\n",
      "8*5=40\n",
      "8*6=48\n",
      "8*7=56\n",
      "8*8=64\n",
      "8*9=72\n",
      "8*10=80\n",
      "8*11=88\n",
      "8*12=96\n",
      "----\n",
      "Mult table for 9\n",
      "---\n",
      "9*1=9\n",
      "9*2=18\n",
      "9*3=27\n",
      "9*4=36\n",
      "9*5=45\n",
      "9*6=54\n",
      "9*7=63\n",
      "9*8=72\n",
      "9*9=81\n",
      "9*10=90\n",
      "9*11=99\n",
      "9*12=108\n",
      "----\n",
      "Mult table for 10\n",
      "---\n",
      "10*1=10\n",
      "10*2=20\n",
      "10*3=30\n",
      "10*4=40\n",
      "10*5=50\n",
      "10*6=60\n",
      "10*7=70\n",
      "10*8=80\n",
      "10*9=90\n",
      "10*10=100\n",
      "10*11=110\n",
      "10*12=120\n",
      "----\n",
      "Mult table for 11\n",
      "---\n",
      "11*1=11\n",
      "11*2=22\n",
      "11*3=33\n",
      "11*4=44\n",
      "11*5=55\n",
      "11*6=66\n",
      "11*7=77\n",
      "11*8=88\n",
      "11*9=99\n",
      "11*10=110\n",
      "11*11=121\n",
      "11*12=132\n",
      "----\n",
      "Mult table for 12\n",
      "---\n",
      "12*1=12\n",
      "12*2=24\n",
      "12*3=36\n",
      "12*4=48\n",
      "12*5=60\n",
      "12*6=72\n",
      "12*7=84\n",
      "12*8=96\n",
      "12*9=108\n",
      "12*10=120\n",
      "12*11=132\n",
      "12*12=144\n",
      "----\n"
     ]
    }
   ],
   "source": [
    "for i in range(1,13):\n",
    "    \n",
    "    print(f'Mult table for {i}')\n",
    "    print('-'*3)\n",
    "    for j in range(1,13):\n",
    "        print(f'{i}*{j}={i*j}')\n",
    "    print('-'*4)"
   ]
  },
  {
   "cell_type": "code",
   "execution_count": 111,
   "id": "1db3eb4c",
   "metadata": {},
   "outputs": [
    {
     "name": "stdout",
     "output_type": "stream",
     "text": [
      "12\n",
      "14\n"
     ]
    }
   ],
   "source": [
    "for i in [3,5,12,7,9,14,5]:\n",
    "    if i%2 ==0:\n",
    "        print(i)"
   ]
  },
  {
   "cell_type": "code",
   "execution_count": 112,
   "id": "217d92a9",
   "metadata": {},
   "outputs": [
    {
     "name": "stdout",
     "output_type": "stream",
     "text": [
      "0 Even\n",
      "1 Odd\n",
      "2 Even\n",
      "3 Odd\n",
      "4 Even\n",
      "5 Odd\n",
      "6 Even\n",
      "7 Odd\n",
      "8 Even\n",
      "9 Odd\n",
      "10 Even\n",
      "11 Odd\n",
      "12 Even\n",
      "13 Odd\n",
      "14 Even\n",
      "15 Odd\n",
      "16 Even\n",
      "17 Odd\n",
      "18 Even\n",
      "19 Odd\n",
      "20 Even\n",
      "21 Odd\n",
      "22 Even\n",
      "23 Odd\n",
      "24 Even\n"
     ]
    }
   ],
   "source": [
    "for i in range(25):\n",
    "    if i%2==0:\n",
    "        print(i,'Even')\n",
    "    else:\n",
    "        print(i,'Odd')"
   ]
  },
  {
   "cell_type": "code",
   "execution_count": null,
   "id": "485343f9",
   "metadata": {},
   "outputs": [],
   "source": [
    "# input a statment then print the words if their length is even \n",
    "\n",
    "\n"
   ]
  },
  {
   "cell_type": "code",
   "execution_count": 113,
   "id": "7fb5d8aa",
   "metadata": {},
   "outputs": [
    {
     "name": "stdout",
     "output_type": "stream",
     "text": [
      "hello guys let's learn some cool stuff \n"
     ]
    }
   ],
   "source": [
    "st=input()\n"
   ]
  },
  {
   "cell_type": "code",
   "execution_count": 114,
   "id": "204e47a8",
   "metadata": {},
   "outputs": [
    {
     "data": {
      "text/plain": [
       "\"hello guys let's learn some cool stuff \""
      ]
     },
     "execution_count": 114,
     "metadata": {},
     "output_type": "execute_result"
    }
   ],
   "source": [
    "st"
   ]
  },
  {
   "cell_type": "code",
   "execution_count": 115,
   "id": "40b5935f",
   "metadata": {},
   "outputs": [
    {
     "data": {
      "text/plain": [
       "['hello', 'guys', \"let's\", 'learn', 'some', 'cool', 'stuff']"
      ]
     },
     "execution_count": 115,
     "metadata": {},
     "output_type": "execute_result"
    }
   ],
   "source": [
    "st.split()"
   ]
  },
  {
   "cell_type": "code",
   "execution_count": 117,
   "id": "c611d5e3",
   "metadata": {},
   "outputs": [
    {
     "name": "stdout",
     "output_type": "stream",
     "text": [
      "guys\n",
      "some\n",
      "cool\n"
     ]
    }
   ],
   "source": [
    "for w in st.split():\n",
    "    if len(w)%2==0:\n",
    "        print(w)\n",
    "        "
   ]
  },
  {
   "cell_type": "code",
   "execution_count": 118,
   "id": "6cbda2bf",
   "metadata": {},
   "outputs": [
    {
     "name": "stdout",
     "output_type": "stream",
     "text": [
      "32\n"
     ]
    }
   ],
   "source": [
    "l=[3,55,7,11,8,3,24,67]\n",
    "sum_even_nums=0\n",
    "for i in l:\n",
    "    if i%2==0:\n",
    "        sum_even_nums+=i\n",
    "print(sum_even_nums)\n"
   ]
  },
  {
   "cell_type": "code",
   "execution_count": 121,
   "id": "b62bf992",
   "metadata": {},
   "outputs": [
    {
     "name": "stdout",
     "output_type": "stream",
     "text": [
      "3\n",
      "-------\n",
      "9\n",
      "===\n",
      "55\n",
      "-------\n",
      "3025\n",
      "===\n",
      "7\n",
      "-------\n",
      "49\n",
      "===\n",
      "11\n",
      "-------\n",
      "121\n",
      "===\n",
      "8\n",
      "-------\n",
      "64\n",
      "===\n",
      "3\n",
      "-------\n",
      "9\n",
      "===\n",
      "24\n",
      "-------\n"
     ]
    }
   ],
   "source": [
    "for i in l:\n",
    "    print(i)\n",
    "    print('-------')\n",
    "    if i ==24:\n",
    "        break\n",
    "    print(i**2)\n",
    "    print('===')\n",
    "    "
   ]
  },
  {
   "cell_type": "code",
   "execution_count": 124,
   "id": "e0471fc4",
   "metadata": {},
   "outputs": [
    {
     "name": "stdout",
     "output_type": "stream",
     "text": [
      "3\n",
      "-------\n",
      "9\n",
      "1\n",
      "3\n",
      "33\n",
      "===\n",
      "55\n",
      "-------\n",
      "3025\n",
      "1\n",
      "3\n",
      "33\n",
      "===\n",
      "7\n",
      "-------\n",
      "49\n",
      "1\n",
      "3\n",
      "33\n",
      "===\n",
      "11\n",
      "-------\n",
      "121\n",
      "1\n",
      "3\n",
      "33\n",
      "===\n",
      "8\n",
      "-------\n",
      "64\n",
      "1\n",
      "3\n",
      "33\n",
      "===\n",
      "3\n",
      "-------\n",
      "9\n",
      "1\n",
      "3\n",
      "33\n",
      "===\n",
      "24\n",
      "-------\n",
      "67\n",
      "-------\n",
      "4489\n",
      "1\n",
      "3\n",
      "33\n",
      "===\n",
      "66\n",
      "-------\n",
      "4356\n",
      "1\n",
      "3\n",
      "33\n",
      "===\n",
      "8\n",
      "-------\n",
      "64\n",
      "1\n",
      "3\n",
      "33\n",
      "===\n"
     ]
    }
   ],
   "source": [
    "l=[3,55,7,11,8,3,24,67,66,8]\n",
    "for i in l:\n",
    "    print(i)\n",
    "    print('-------')\n",
    "    if i ==24:\n",
    "        continue\n",
    "    print(i**2)\n",
    "    print(1)\n",
    "    print(3)\n",
    "    print(33)\n",
    "    print('===')\n",
    "    "
   ]
  },
  {
   "cell_type": "code",
   "execution_count": 125,
   "id": "f37020b8",
   "metadata": {},
   "outputs": [
    {
     "data": {
      "text/plain": [
       "[3, 55, 7, 11, 8, 3, 24, 67, 66, 8]"
      ]
     },
     "execution_count": 125,
     "metadata": {},
     "output_type": "execute_result"
    }
   ],
   "source": [
    "l"
   ]
  },
  {
   "cell_type": "code",
   "execution_count": 126,
   "id": "f37e8938",
   "metadata": {},
   "outputs": [
    {
     "data": {
      "text/plain": [
       "87"
      ]
     },
     "execution_count": 126,
     "metadata": {},
     "output_type": "execute_result"
    }
   ],
   "source": [
    "sum_=0\n",
    "for i in l:\n",
    "    if i%2==0 and i>20:\n",
    "        break\n",
    "    sum_+=i\n",
    "\n",
    "    \n",
    "sum_\n"
   ]
  },
  {
   "cell_type": "code",
   "execution_count": 127,
   "id": "a78a7b08",
   "metadata": {},
   "outputs": [
    {
     "data": {
      "text/plain": [
       "162"
      ]
     },
     "execution_count": 127,
     "metadata": {},
     "output_type": "execute_result"
    }
   ],
   "source": [
    "s=0\n",
    "for i in l:\n",
    "    if i%2==0 and i>20:\n",
    "        continue\n",
    "    s+=i\n",
    "    \n",
    "s"
   ]
  },
  {
   "cell_type": "code",
   "execution_count": 134,
   "id": "3c371f9d",
   "metadata": {},
   "outputs": [
    {
     "name": "stdout",
     "output_type": "stream",
     "text": [
      "9\n",
      "3025\n"
     ]
    }
   ],
   "source": [
    "for i in l:\n",
    "    print(i**2)\n",
    "    if i>24:\n",
    "        break\n",
    "else:\n",
    "    print('for ends')\n",
    "    print(i)"
   ]
  },
  {
   "cell_type": "code",
   "execution_count": 135,
   "id": "9340ddaa",
   "metadata": {},
   "outputs": [
    {
     "name": "stdout",
     "output_type": "stream",
     "text": [
      "9\n",
      "3025\n",
      "for ends\n",
      "55\n"
     ]
    }
   ],
   "source": [
    "for i in l:\n",
    "    print(i**2)\n",
    "    if i>24:\n",
    "        break\n",
    "print('for ends')\n",
    "print(i)"
   ]
  },
  {
   "cell_type": "markdown",
   "id": "539c5ed8",
   "metadata": {},
   "source": [
    "### While"
   ]
  },
  {
   "cell_type": "markdown",
   "id": "de9bd297",
   "metadata": {},
   "source": [
    "while cond:\n",
    "    block"
   ]
  },
  {
   "cell_type": "code",
   "execution_count": 144,
   "id": "13e2f671",
   "metadata": {},
   "outputs": [
    {
     "name": "stdout",
     "output_type": "stream",
     "text": [
      "4\n",
      "4\n",
      "13\n",
      "6\n",
      "6\n",
      "15\n",
      "7\n",
      "7\n",
      "16\n"
     ]
    },
    {
     "ename": "KeyboardInterrupt",
     "evalue": "Interrupted by user",
     "output_type": "error",
     "traceback": [
      "\u001B[1;31m---------------------------------------------------------------------------\u001B[0m",
      "\u001B[1;31mKeyboardInterrupt\u001B[0m                         Traceback (most recent call last)",
      "\u001B[1;32m<ipython-input-144-93e09c6d17da>\u001B[0m in \u001B[0;36m<module>\u001B[1;34m\u001B[0m\n\u001B[0;32m      5\u001B[0m     \u001B[0mx\u001B[0m\u001B[1;33m+=\u001B[0m\u001B[1;36m9\u001B[0m\u001B[1;33m\u001B[0m\u001B[1;33m\u001B[0m\u001B[0m\n\u001B[0;32m      6\u001B[0m     \u001B[0mprint\u001B[0m\u001B[1;33m(\u001B[0m\u001B[0mx\u001B[0m\u001B[1;33m)\u001B[0m\u001B[1;33m\u001B[0m\u001B[1;33m\u001B[0m\u001B[0m\n\u001B[1;32m----> 7\u001B[1;33m     \u001B[0mx\u001B[0m\u001B[1;33m=\u001B[0m\u001B[0mint\u001B[0m\u001B[1;33m(\u001B[0m\u001B[0minput\u001B[0m\u001B[1;33m(\u001B[0m\u001B[1;33m)\u001B[0m\u001B[1;33m)\u001B[0m\u001B[1;33m\u001B[0m\u001B[1;33m\u001B[0m\u001B[0m\n\u001B[0m\u001B[0;32m      8\u001B[0m     \u001B[0mcounter\u001B[0m\u001B[1;33m+=\u001B[0m\u001B[1;36m1\u001B[0m\u001B[1;33m\u001B[0m\u001B[1;33m\u001B[0m\u001B[0m\n\u001B[0;32m      9\u001B[0m \u001B[1;32melse\u001B[0m\u001B[1;33m:\u001B[0m\u001B[1;33m\u001B[0m\u001B[1;33m\u001B[0m\u001B[0m\n",
      "\u001B[1;32m~\\conda3\\lib\\site-packages\\ipykernel\\kernelbase.py\u001B[0m in \u001B[0;36mraw_input\u001B[1;34m(self, prompt)\u001B[0m\n\u001B[0;32m    858\u001B[0m                 \u001B[1;34m\"raw_input was called, but this frontend does not support input requests.\"\u001B[0m\u001B[1;33m\u001B[0m\u001B[1;33m\u001B[0m\u001B[0m\n\u001B[0;32m    859\u001B[0m             )\n\u001B[1;32m--> 860\u001B[1;33m         return self._input_request(str(prompt),\n\u001B[0m\u001B[0;32m    861\u001B[0m             \u001B[0mself\u001B[0m\u001B[1;33m.\u001B[0m\u001B[0m_parent_ident\u001B[0m\u001B[1;33m,\u001B[0m\u001B[1;33m\u001B[0m\u001B[1;33m\u001B[0m\u001B[0m\n\u001B[0;32m    862\u001B[0m             \u001B[0mself\u001B[0m\u001B[1;33m.\u001B[0m\u001B[0m_parent_header\u001B[0m\u001B[1;33m,\u001B[0m\u001B[1;33m\u001B[0m\u001B[1;33m\u001B[0m\u001B[0m\n",
      "\u001B[1;32m~\\conda3\\lib\\site-packages\\ipykernel\\kernelbase.py\u001B[0m in \u001B[0;36m_input_request\u001B[1;34m(self, prompt, ident, parent, password)\u001B[0m\n\u001B[0;32m    902\u001B[0m             \u001B[1;32mexcept\u001B[0m \u001B[0mKeyboardInterrupt\u001B[0m\u001B[1;33m:\u001B[0m\u001B[1;33m\u001B[0m\u001B[1;33m\u001B[0m\u001B[0m\n\u001B[0;32m    903\u001B[0m                 \u001B[1;31m# re-raise KeyboardInterrupt, to truncate traceback\u001B[0m\u001B[1;33m\u001B[0m\u001B[1;33m\u001B[0m\u001B[1;33m\u001B[0m\u001B[0m\n\u001B[1;32m--> 904\u001B[1;33m                 \u001B[1;32mraise\u001B[0m \u001B[0mKeyboardInterrupt\u001B[0m\u001B[1;33m(\u001B[0m\u001B[1;34m\"Interrupted by user\"\u001B[0m\u001B[1;33m)\u001B[0m \u001B[1;32mfrom\u001B[0m \u001B[1;32mNone\u001B[0m\u001B[1;33m\u001B[0m\u001B[1;33m\u001B[0m\u001B[0m\n\u001B[0m\u001B[0;32m    905\u001B[0m             \u001B[1;32mexcept\u001B[0m \u001B[0mException\u001B[0m \u001B[1;32mas\u001B[0m \u001B[0me\u001B[0m\u001B[1;33m:\u001B[0m\u001B[1;33m\u001B[0m\u001B[1;33m\u001B[0m\u001B[0m\n\u001B[0;32m    906\u001B[0m                 \u001B[0mself\u001B[0m\u001B[1;33m.\u001B[0m\u001B[0mlog\u001B[0m\u001B[1;33m.\u001B[0m\u001B[0mwarning\u001B[0m\u001B[1;33m(\u001B[0m\u001B[1;34m\"Invalid Message:\"\u001B[0m\u001B[1;33m,\u001B[0m \u001B[0mexc_info\u001B[0m\u001B[1;33m=\u001B[0m\u001B[1;32mTrue\u001B[0m\u001B[1;33m)\u001B[0m\u001B[1;33m\u001B[0m\u001B[1;33m\u001B[0m\u001B[0m\n",
      "\u001B[1;31mKeyboardInterrupt\u001B[0m: Interrupted by user"
     ]
    }
   ],
   "source": [
    "x=int(input())\n",
    "counter=0\n",
    "while x!=0:\n",
    "    print(x)\n",
    "    x+=9\n",
    "    print(x)\n",
    "    x=int(input())\n",
    "    counter+=1\n",
    "else:\n",
    "    print(x)"
   ]
  },
  {
   "cell_type": "code",
   "execution_count": 145,
   "id": "77a07e25",
   "metadata": {},
   "outputs": [
    {
     "data": {
      "text/plain": [
       "2"
      ]
     },
     "execution_count": 145,
     "metadata": {},
     "output_type": "execute_result"
    }
   ],
   "source": [
    "counter\n"
   ]
  },
  {
   "cell_type": "code",
   "execution_count": 141,
   "id": "f42d0a98",
   "metadata": {},
   "outputs": [
    {
     "name": "stdout",
     "output_type": "stream",
     "text": [
      "hello\n",
      "1\n",
      "hello\n",
      "2\n",
      "hello\n",
      "3\n",
      "hello\n",
      "4\n",
      "hello\n",
      "5\n"
     ]
    }
   ],
   "source": [
    "counter=0\n",
    "while counter <5:\n",
    "    print('hello')\n",
    "    counter+=1\n",
    "    print(counter)"
   ]
  },
  {
   "cell_type": "code",
   "execution_count": 146,
   "id": "94939b62",
   "metadata": {},
   "outputs": [
    {
     "name": "stdout",
     "output_type": "stream",
     "text": [
      "12\n"
     ]
    },
    {
     "data": {
      "text/plain": [
       "102"
      ]
     },
     "execution_count": 146,
     "metadata": {},
     "output_type": "execute_result"
    }
   ],
   "source": [
    "s=0\n",
    "x=int(input())\n",
    "while x<23:\n",
    "    s+=x\n",
    "    x+=2\n",
    "    \n",
    "s"
   ]
  },
  {
   "cell_type": "code",
   "execution_count": 148,
   "id": "96630f53",
   "metadata": {},
   "outputs": [
    {
     "data": {
      "text/plain": [
       "102"
      ]
     },
     "execution_count": 148,
     "metadata": {},
     "output_type": "execute_result"
    }
   ],
   "source": [
    "s=0\n",
    "for i in range(12,23,2):\n",
    "    s+=i \n",
    "    \n",
    "s"
   ]
  },
  {
   "cell_type": "code",
   "execution_count": null,
   "id": "a7ef991a",
   "metadata": {},
   "outputs": [],
   "source": []
  }
 ],
 "metadata": {
  "kernelspec": {
   "display_name": "Python 3 (ipykernel)",
   "language": "python",
   "name": "python3"
  },
  "language_info": {
   "codemirror_mode": {
    "name": "ipython",
    "version": 3
   },
   "file_extension": ".py",
   "mimetype": "text/x-python",
   "name": "python",
   "nbconvert_exporter": "python",
   "pygments_lexer": "ipython3",
   "version": "3.9.13"
  }
 },
 "nbformat": 4,
 "nbformat_minor": 5
}
