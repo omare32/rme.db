{
 "cells": [
  {
   "cell_type": "code",
   "execution_count": 1,
   "id": "41a283b0",
   "metadata": {},
   "outputs": [],
   "source": [
    "# Imports \n",
    "\n",
    "import requests\n",
    "from bs4 import BeautifulSoup\n",
    "import csv \n",
    "import pandas as pd\n",
    "import os"
   ]
  },
  {
   "cell_type": "markdown",
   "id": "05f5456e",
   "metadata": {},
   "source": [
    "## Wuzzuf Data Science Jobs Scrapping\n",
    "- You are required to scrap all data science jobs from wuzzuf and save the results in csv file\n",
    "- the required fields are\n",
    "<ul>\n",
    "    <li>job title</li>\n",
    "    <li>job link</li>\n",
    "    <li>Location</li>\n",
    "    <li>skills required </li>\n",
    "    <li>company_name</li>\n",
    "</ul>"
   ]
  },
  {
   "cell_type": "code",
   "execution_count": 2,
   "id": "6188b0d8",
   "metadata": {},
   "outputs": [],
   "source": [
    "job_links = []\n",
    "titles = []\n",
    "locations = []\n",
    "skills = []\n",
    "companies = []\n",
    "data = []"
   ]
  },
  {
   "cell_type": "code",
   "execution_count": 3,
   "id": "e9f2adbb",
   "metadata": {},
   "outputs": [
    {
     "name": "stdout",
     "output_type": "stream",
     "text": [
      "Finished\n"
     ]
    }
   ],
   "source": [
    "\n",
    "\n",
    "page_number = 0\n",
    "\n",
    "while True :\n",
    "    \n",
    "    results = requests.get(f'https://wuzzuf.net/search/jobs/?a=navbl&q=data%20science%20jobs&start={page_number}')\n",
    "    soup = BeautifulSoup(results.content, 'html.parser')\n",
    "    \n",
    "    \n",
    "    all_jobs = soup.find_all('div', attrs= {'class' : 'css-pkv5jc'})\n",
    "    \n",
    "    job_number = soup.find('li', attrs = {'class' : 'css-8neukt'}).text\n",
    "    \n",
    "    \n",
    "    for job in all_jobs :\n",
    "    \n",
    "        link = job.find('a', attrs = {'target' : \"_blank\", 'class' : 'css-o171kl'})['href']\n",
    "        title = job.find('a', attrs = {'target' : \"_blank\", 'class' : 'css-o171kl'}).get_text()\n",
    "        location = job.find('span', attrs = {'class' : 'css-5wys0k'}).get_text()\n",
    "        description = job.find('div', attrs = {'class' : 'css-y4udm8'}).get_text()\n",
    "        company_name = job.find('a', attrs = {'target' : \"_blank\", 'class' : 'css-17s97q8'}).get_text()\n",
    "\n",
    "        job_links.append('https://wuzzuf.net/' + link)\n",
    "        titles.append(title)\n",
    "        locations.append(location)\n",
    "        skills.append(description)\n",
    "        companies.append(company_name)\n",
    "        \n",
    "        \n",
    "        d = [link, title, location, description, company_name]\n",
    "        data.append(d)  \n",
    "    \n",
    "    if job_number[:-3].find('741') == -1 :\n",
    "        page_number += 1\n",
    "    else :\n",
    "        print(\"Finished\")\n",
    "        break\n",
    "    \n",
    "    \n",
    "    "
   ]
  },
  {
   "cell_type": "code",
   "execution_count": 5,
   "id": "7ce7ebbb",
   "metadata": {},
   "outputs": [
    {
     "data": {
      "text/plain": [
       "755"
      ]
     },
     "execution_count": 5,
     "metadata": {},
     "output_type": "execute_result"
    }
   ],
   "source": [
    "len(data)"
   ]
  },
  {
   "cell_type": "code",
   "execution_count": 5,
   "id": "68f2e395",
   "metadata": {},
   "outputs": [],
   "source": [
    "with open(\"jobs.csv\", 'w', newline = \"\", encoding = 'UTF-8') as f :\n",
    "    writer = csv.writer(f)\n",
    "    header = [\"link\", \"title\", \"location\", \"description\", \"company_name\"]\n",
    "    writer.writerow(header)\n",
    "    writer.writerows(data)"
   ]
  },
  {
   "cell_type": "code",
   "execution_count": null,
   "id": "10403420",
   "metadata": {},
   "outputs": [],
   "source": []
  },
  {
   "cell_type": "code",
   "execution_count": null,
   "id": "5e9618b4",
   "metadata": {},
   "outputs": [],
   "source": []
  }
 ],
 "metadata": {
  "kernelspec": {
   "display_name": "Python 3 (ipykernel)",
   "language": "python",
   "name": "python3"
  },
  "language_info": {
   "codemirror_mode": {
    "name": "ipython",
    "version": 3
   },
   "file_extension": ".py",
   "mimetype": "text/x-python",
   "name": "python",
   "nbconvert_exporter": "python",
   "pygments_lexer": "ipython3",
   "version": "3.10.2"
  }
 },
 "nbformat": 4,
 "nbformat_minor": 5
}
