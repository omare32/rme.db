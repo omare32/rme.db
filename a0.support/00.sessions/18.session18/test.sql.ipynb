{
 "cells": [
  {
   "cell_type": "code",
   "execution_count": 6,
   "id": "8f147c4f",
   "metadata": {},
   "outputs": [],
   "source": [
    "import pyodbc\n",
    "import csv"
   ]
  },
  {
   "cell_type": "code",
   "execution_count": 7,
   "id": "db6d9269",
   "metadata": {},
   "outputs": [],
   "source": [
    "server = \"DESKTOP-609HS8C\"\n",
    "database = \"OMAR.E\"\n",
    "username = \"DESKTOP-609HS8C\\omar.essam\"\n",
    "password = \"omar54321\"\n",
    "table_name = \"04.2021.RME_Projects_Cost_Distribution\"\n",
    "csv_file = \"06.2023.RME_Projects_Cost_Distribution.csv\""
   ]
  },
  {
   "cell_type": "code",
   "execution_count": 9,
   "id": "d69be5bd",
   "metadata": {},
   "outputs": [
    {
     "ename": "InterfaceError",
     "evalue": "('IM002', '[IM002] [Microsoft][ODBC Driver Manager] Data source name not found and no default driver specified (0) (SQLDriverConnect); [IM002] [Microsoft][ODBC Driver Manager] Invalid connection string attribute (0)')",
     "output_type": "error",
     "traceback": [
      "\u001b[1;31m---------------------------------------------------------------------------\u001b[0m",
      "\u001b[1;31mInterfaceError\u001b[0m                            Traceback (most recent call last)",
      "Cell \u001b[1;32mIn[9], line 11\u001b[0m\n\u001b[0;32m      1\u001b[0m connection_string \u001b[38;5;241m=\u001b[39m {\n\u001b[0;32m      2\u001b[0m     \u001b[38;5;124m\"\u001b[39m\u001b[38;5;124mDRIVER\u001b[39m\u001b[38;5;124m\"\u001b[39m: \u001b[38;5;124m\"\u001b[39m\u001b[38;5;124mODBC Driver 18 for SQL Server\u001b[39m\u001b[38;5;124m\"\u001b[39m,\n\u001b[0;32m      3\u001b[0m     \u001b[38;5;124m\"\u001b[39m\u001b[38;5;124mSERVER\u001b[39m\u001b[38;5;124m\"\u001b[39m: server,\n\u001b[1;32m   (...)\u001b[0m\n\u001b[0;32m      6\u001b[0m     \u001b[38;5;124m\"\u001b[39m\u001b[38;5;124mPWD\u001b[39m\u001b[38;5;124m\"\u001b[39m: password,\n\u001b[0;32m      7\u001b[0m }\n\u001b[0;32m      9\u001b[0m connection_string_str \u001b[38;5;241m=\u001b[39m \u001b[38;5;28mstr\u001b[39m(connection_string)\n\u001b[1;32m---> 11\u001b[0m conn \u001b[38;5;241m=\u001b[39m \u001b[43mpyodbc\u001b[49m\u001b[38;5;241;43m.\u001b[39;49m\u001b[43mconnect\u001b[49m\u001b[43m(\u001b[49m\u001b[43mconnection_string_str\u001b[49m\u001b[43m)\u001b[49m\n\u001b[0;32m     12\u001b[0m cursor \u001b[38;5;241m=\u001b[39m conn\u001b[38;5;241m.\u001b[39mcursor()\n",
      "\u001b[1;31mInterfaceError\u001b[0m: ('IM002', '[IM002] [Microsoft][ODBC Driver Manager] Data source name not found and no default driver specified (0) (SQLDriverConnect); [IM002] [Microsoft][ODBC Driver Manager] Invalid connection string attribute (0)')"
     ]
    }
   ],
   "source": [
    "connection_string = {\n",
    "    \"DRIVER\": \"ODBC Driver 18 for SQL Server\",\n",
    "    \"SERVER\": server,\n",
    "    \"DATABASE\": database,\n",
    "    \"UID\": username,\n",
    "    \"PWD\": password,\n",
    "}\n",
    "\n",
    "connection_string_str = str(connection_string)\n",
    "\n",
    "conn = pyodbc.connect(connection_string_str)\n",
    "cursor = conn.cursor()"
   ]
  },
  {
   "cell_type": "code",
   "execution_count": null,
   "id": "66e76bb9",
   "metadata": {},
   "outputs": [],
   "source": []
  }
 ],
 "metadata": {
  "kernelspec": {
   "display_name": "Python 3 (ipykernel)",
   "language": "python",
   "name": "python3"
  },
  "language_info": {
   "codemirror_mode": {
    "name": "ipython",
    "version": 3
   },
   "file_extension": ".py",
   "mimetype": "text/x-python",
   "name": "python",
   "nbconvert_exporter": "python",
   "pygments_lexer": "ipython3",
   "version": "3.11.0"
  }
 },
 "nbformat": 4,
 "nbformat_minor": 5
}
