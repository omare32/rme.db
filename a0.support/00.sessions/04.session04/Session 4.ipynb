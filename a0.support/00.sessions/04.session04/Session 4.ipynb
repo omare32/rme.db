{
 "cells": [
  {
   "cell_type": "markdown",
   "id": "95035e7c",
   "metadata": {},
   "source": [
    "while cond:\n",
    "    block\n",
    "    update"
   ]
  },
  {
   "cell_type": "code",
   "execution_count": null,
   "id": "65290e11",
   "metadata": {},
   "outputs": [],
   "source": [
    "x=9\n",
    "while x>=1:\n",
    "    print('hello')\n",
    "    x-=1\n",
    "    "
   ]
  },
  {
   "cell_type": "code",
   "execution_count": null,
   "id": "3d42c126",
   "metadata": {},
   "outputs": [],
   "source": [
    "counter=int(input('enter n: '))\n",
    "while counter >0:\n",
    "    print('hello')\n",
    "    counter-=1"
   ]
  },
  {
   "cell_type": "code",
   "execution_count": null,
   "id": "ced2e7b1",
   "metadata": {},
   "outputs": [],
   "source": [
    "while(True):\n",
    "    print('hello')"
   ]
  },
  {
   "cell_type": "code",
   "execution_count": null,
   "id": "36c601ee",
   "metadata": {},
   "outputs": [],
   "source": [
    "counter=1\n",
    "s=0\n",
    "while counter <= 6:\n",
    "    s+=counter\n",
    "    counter+=2\n",
    "    \n",
    "print(s)"
   ]
  },
  {
   "cell_type": "code",
   "execution_count": null,
   "id": "676a549c",
   "metadata": {},
   "outputs": [],
   "source": [
    "for i in range(2,-5,-1):\n",
    "    print(i)"
   ]
  },
  {
   "cell_type": "markdown",
   "id": "72a05d02",
   "metadata": {},
   "source": [
    "## Lists"
   ]
  },
  {
   "cell_type": "code",
   "execution_count": null,
   "id": "d8522aea",
   "metadata": {},
   "outputs": [],
   "source": [
    "l=[1,3,5.9,True,'ffff',[1,5,'t']]\n"
   ]
  },
  {
   "cell_type": "code",
   "execution_count": null,
   "id": "23c35a84",
   "metadata": {},
   "outputs": [],
   "source": [
    "type(l)"
   ]
  },
  {
   "cell_type": "code",
   "execution_count": null,
   "id": "4ee7e85c",
   "metadata": {},
   "outputs": [],
   "source": [
    "l[0]"
   ]
  },
  {
   "cell_type": "code",
   "execution_count": null,
   "id": "cb207f19",
   "metadata": {},
   "outputs": [],
   "source": [
    "l[-1][-1]"
   ]
  },
  {
   "cell_type": "code",
   "execution_count": null,
   "id": "0b195ec7",
   "metadata": {},
   "outputs": [],
   "source": [
    "w=l[-1]"
   ]
  },
  {
   "cell_type": "code",
   "execution_count": null,
   "id": "8202e7de",
   "metadata": {},
   "outputs": [],
   "source": [
    "w"
   ]
  },
  {
   "cell_type": "code",
   "execution_count": null,
   "id": "2b5b20bc",
   "metadata": {},
   "outputs": [],
   "source": [
    "l[-1][0]"
   ]
  },
  {
   "cell_type": "code",
   "execution_count": null,
   "id": "c723c61e",
   "metadata": {},
   "outputs": [],
   "source": [
    "l2=[2,4,5,l,l[-1]]"
   ]
  },
  {
   "cell_type": "code",
   "execution_count": null,
   "id": "4dd23a68",
   "metadata": {},
   "outputs": [],
   "source": [
    "l2"
   ]
  },
  {
   "cell_type": "code",
   "execution_count": null,
   "id": "9ed464e9",
   "metadata": {},
   "outputs": [],
   "source": [
    "l2[1:3]"
   ]
  },
  {
   "cell_type": "code",
   "execution_count": null,
   "id": "b3803a8f",
   "metadata": {},
   "outputs": [],
   "source": [
    "l2[3][-2][:2]"
   ]
  },
  {
   "cell_type": "code",
   "execution_count": null,
   "id": "f6cfb9f6",
   "metadata": {},
   "outputs": [],
   "source": [
    "l[:]"
   ]
  },
  {
   "cell_type": "code",
   "execution_count": null,
   "id": "a201a230",
   "metadata": {},
   "outputs": [],
   "source": [
    "l[::-1]"
   ]
  },
  {
   "cell_type": "code",
   "execution_count": null,
   "id": "f5de192d",
   "metadata": {},
   "outputs": [],
   "source": [
    "l"
   ]
  },
  {
   "cell_type": "code",
   "execution_count": null,
   "id": "f4bd8730",
   "metadata": {},
   "outputs": [],
   "source": [
    "'mm'*4"
   ]
  },
  {
   "cell_type": "code",
   "execution_count": null,
   "id": "c13dfe77",
   "metadata": {},
   "outputs": [],
   "source": [
    "l3=l*4"
   ]
  },
  {
   "cell_type": "code",
   "execution_count": null,
   "id": "ae40e6e6",
   "metadata": {},
   "outputs": [],
   "source": [
    "l3[-1][-2]"
   ]
  },
  {
   "cell_type": "code",
   "execution_count": null,
   "id": "044d745c",
   "metadata": {},
   "outputs": [],
   "source": [
    "'mm'+'ll'"
   ]
  },
  {
   "cell_type": "code",
   "execution_count": null,
   "id": "aa2f698f",
   "metadata": {},
   "outputs": [],
   "source": [
    "l"
   ]
  },
  {
   "cell_type": "code",
   "execution_count": null,
   "id": "4df5b726",
   "metadata": {},
   "outputs": [],
   "source": [
    "l3=[4,6,7]\n",
    "l3"
   ]
  },
  {
   "cell_type": "code",
   "execution_count": null,
   "id": "7bddacbf",
   "metadata": {},
   "outputs": [],
   "source": [
    "l+l3"
   ]
  },
  {
   "cell_type": "code",
   "execution_count": null,
   "id": "9dfe7d99",
   "metadata": {},
   "outputs": [],
   "source": [
    "len(l)"
   ]
  },
  {
   "cell_type": "code",
   "execution_count": null,
   "id": "b00beb4c",
   "metadata": {},
   "outputs": [],
   "source": [
    "st='hello'"
   ]
  },
  {
   "cell_type": "code",
   "execution_count": null,
   "id": "cf3a1af4",
   "metadata": {},
   "outputs": [],
   "source": [
    "st[0]='k'"
   ]
  },
  {
   "cell_type": "code",
   "execution_count": null,
   "id": "7822cb5f",
   "metadata": {},
   "outputs": [],
   "source": [
    "l"
   ]
  },
  {
   "cell_type": "code",
   "execution_count": null,
   "id": "e1b33815",
   "metadata": {},
   "outputs": [],
   "source": [
    "l[-2]=66"
   ]
  },
  {
   "cell_type": "code",
   "execution_count": null,
   "id": "87874782",
   "metadata": {},
   "outputs": [],
   "source": [
    "l"
   ]
  },
  {
   "cell_type": "code",
   "execution_count": null,
   "id": "a3f2ae62",
   "metadata": {},
   "outputs": [],
   "source": [
    "l+[2,4,]"
   ]
  },
  {
   "cell_type": "code",
   "execution_count": null,
   "id": "afccc967",
   "metadata": {},
   "outputs": [],
   "source": [
    "l"
   ]
  },
  {
   "cell_type": "code",
   "execution_count": null,
   "id": "493e2be7",
   "metadata": {},
   "outputs": [],
   "source": [
    "l+=[88,77]#l=l+[88,77]"
   ]
  },
  {
   "cell_type": "code",
   "execution_count": null,
   "id": "28546783",
   "metadata": {},
   "outputs": [],
   "source": [
    "l"
   ]
  },
  {
   "cell_type": "code",
   "execution_count": null,
   "id": "f99427d7",
   "metadata": {},
   "outputs": [],
   "source": [
    "l.append('kkkk')"
   ]
  },
  {
   "cell_type": "code",
   "execution_count": null,
   "id": "30404983",
   "metadata": {},
   "outputs": [],
   "source": [
    "l"
   ]
  },
  {
   "cell_type": "code",
   "execution_count": null,
   "id": "346bb5b8",
   "metadata": {},
   "outputs": [],
   "source": [
    "l.append(33,55,77)\n",
    "l"
   ]
  },
  {
   "cell_type": "code",
   "execution_count": null,
   "id": "8ecd4835",
   "metadata": {},
   "outputs": [],
   "source": [
    "l.extend([33,66,77])"
   ]
  },
  {
   "cell_type": "code",
   "execution_count": null,
   "id": "401291ea",
   "metadata": {},
   "outputs": [],
   "source": [
    "l"
   ]
  },
  {
   "cell_type": "code",
   "execution_count": null,
   "id": "19334e2d",
   "metadata": {},
   "outputs": [],
   "source": [
    "l.index('kkkk')"
   ]
  },
  {
   "cell_type": "code",
   "execution_count": null,
   "id": "ef8402b8",
   "metadata": {},
   "outputs": [],
   "source": [
    "l[8]"
   ]
  },
  {
   "cell_type": "code",
   "execution_count": null,
   "id": "b4752531",
   "metadata": {},
   "outputs": [],
   "source": [
    "l=[3,5,1,7,3]"
   ]
  },
  {
   "cell_type": "code",
   "execution_count": null,
   "id": "a446d3dd",
   "metadata": {},
   "outputs": [],
   "source": [
    "l"
   ]
  },
  {
   "cell_type": "code",
   "execution_count": null,
   "id": "487260a9",
   "metadata": {},
   "outputs": [],
   "source": [
    "l.sort()"
   ]
  },
  {
   "cell_type": "code",
   "execution_count": null,
   "id": "d27271b5",
   "metadata": {},
   "outputs": [],
   "source": [
    "l"
   ]
  },
  {
   "cell_type": "code",
   "execution_count": null,
   "id": "380ef04c",
   "metadata": {},
   "outputs": [],
   "source": [
    "l=['bhgjh','ejkjk','ajklnkkl','tmkl;lk','1err']"
   ]
  },
  {
   "cell_type": "code",
   "execution_count": null,
   "id": "1739dc5b",
   "metadata": {},
   "outputs": [],
   "source": [
    "l.sort()"
   ]
  },
  {
   "cell_type": "code",
   "execution_count": null,
   "id": "34a94128",
   "metadata": {},
   "outputs": [],
   "source": [
    "l"
   ]
  },
  {
   "cell_type": "code",
   "execution_count": null,
   "id": "a2c109de",
   "metadata": {},
   "outputs": [],
   "source": [
    "l=[1,2,3,4,'a','g']"
   ]
  },
  {
   "cell_type": "code",
   "execution_count": null,
   "id": "040be387",
   "metadata": {},
   "outputs": [],
   "source": [
    "l.sort()"
   ]
  },
  {
   "cell_type": "code",
   "execution_count": null,
   "id": "a614ba1d",
   "metadata": {},
   "outputs": [],
   "source": [
    "l=['ahmed4','ahmed1','ahmed2']"
   ]
  },
  {
   "cell_type": "code",
   "execution_count": null,
   "id": "03427c81",
   "metadata": {},
   "outputs": [],
   "source": [
    "l.sort()"
   ]
  },
  {
   "cell_type": "code",
   "execution_count": null,
   "id": "c8871b29",
   "metadata": {},
   "outputs": [],
   "source": [
    "l"
   ]
  },
  {
   "cell_type": "code",
   "execution_count": null,
   "id": "b5847a11",
   "metadata": {},
   "outputs": [],
   "source": [
    "'0'.isascii()"
   ]
  },
  {
   "cell_type": "code",
   "execution_count": null,
   "id": "5f88dfc9",
   "metadata": {},
   "outputs": [],
   "source": [
    "import string"
   ]
  },
  {
   "cell_type": "code",
   "execution_count": null,
   "id": "f1270ec3",
   "metadata": {},
   "outputs": [],
   "source": [
    "string.ascii_letters"
   ]
  },
  {
   "cell_type": "code",
   "execution_count": null,
   "id": "6dd5f10d",
   "metadata": {},
   "outputs": [],
   "source": [
    "string.digits"
   ]
  },
  {
   "cell_type": "code",
   "execution_count": null,
   "id": "b65d2b5e",
   "metadata": {},
   "outputs": [],
   "source": [
    "ascii(77)"
   ]
  },
  {
   "cell_type": "code",
   "execution_count": null,
   "id": "abd34ffa",
   "metadata": {},
   "outputs": [],
   "source": [
    "string.ascii_lowercase"
   ]
  },
  {
   "cell_type": "code",
   "execution_count": null,
   "id": "c70a77b9",
   "metadata": {},
   "outputs": [],
   "source": [
    "ascii()"
   ]
  },
  {
   "cell_type": "code",
   "execution_count": null,
   "id": "e32a552e",
   "metadata": {},
   "outputs": [],
   "source": [
    "l=[3,5,1,7,3]"
   ]
  },
  {
   "cell_type": "code",
   "execution_count": null,
   "id": "696bf53a",
   "metadata": {},
   "outputs": [],
   "source": [
    "l.sort(reverse=True)"
   ]
  },
  {
   "cell_type": "code",
   "execution_count": null,
   "id": "1a251366",
   "metadata": {},
   "outputs": [],
   "source": [
    "l"
   ]
  },
  {
   "cell_type": "code",
   "execution_count": null,
   "id": "93272c23",
   "metadata": {},
   "outputs": [],
   "source": [
    "l=[3,5,1,7,3]\n",
    "l.reverse()"
   ]
  },
  {
   "cell_type": "code",
   "execution_count": null,
   "id": "8ee5afed",
   "metadata": {},
   "outputs": [],
   "source": [
    "l"
   ]
  },
  {
   "cell_type": "code",
   "execution_count": null,
   "id": "c5606e5e",
   "metadata": {},
   "outputs": [],
   "source": [
    "l=['ahmed1','Ahmed1','ahmed7']\n",
    "l.sort()"
   ]
  },
  {
   "cell_type": "code",
   "execution_count": null,
   "id": "c15833fe",
   "metadata": {},
   "outputs": [],
   "source": [
    "l"
   ]
  },
  {
   "cell_type": "code",
   "execution_count": null,
   "id": "0e7c813d",
   "metadata": {},
   "outputs": [],
   "source": [
    "l=['a','b','A','B']"
   ]
  },
  {
   "cell_type": "code",
   "execution_count": null,
   "id": "23579db3",
   "metadata": {},
   "outputs": [],
   "source": [
    "l.sort()\n",
    "l"
   ]
  },
  {
   "cell_type": "code",
   "execution_count": null,
   "id": "4dbd592f",
   "metadata": {},
   "outputs": [],
   "source": [
    "l=['4ahmed','1ahmed','2ahmed']\n",
    "l.sort()"
   ]
  },
  {
   "cell_type": "code",
   "execution_count": null,
   "id": "c40dfeb2",
   "metadata": {},
   "outputs": [],
   "source": [
    "l"
   ]
  },
  {
   "cell_type": "code",
   "execution_count": null,
   "id": "3ecc69ce",
   "metadata": {},
   "outputs": [],
   "source": [
    "l=['4','2','1']\n",
    "l.sort()\n",
    "l"
   ]
  },
  {
   "cell_type": "code",
   "execution_count": null,
   "id": "54934ec4",
   "metadata": {},
   "outputs": [],
   "source": [
    "l"
   ]
  },
  {
   "cell_type": "code",
   "execution_count": null,
   "id": "9bc376b2",
   "metadata": {},
   "outputs": [],
   "source": [
    "l[::-1]"
   ]
  },
  {
   "cell_type": "code",
   "execution_count": null,
   "id": "48b26eaf",
   "metadata": {},
   "outputs": [],
   "source": [
    "l"
   ]
  },
  {
   "cell_type": "code",
   "execution_count": null,
   "id": "00f4309a",
   "metadata": {},
   "outputs": [],
   "source": [
    "l=[3,5,1,7,3]\n"
   ]
  },
  {
   "cell_type": "code",
   "execution_count": null,
   "id": "77507054",
   "metadata": {},
   "outputs": [],
   "source": [
    "max(l)"
   ]
  },
  {
   "cell_type": "code",
   "execution_count": null,
   "id": "f7c3368c",
   "metadata": {},
   "outputs": [],
   "source": [
    "min(l)"
   ]
  },
  {
   "cell_type": "code",
   "execution_count": null,
   "id": "72d51c7f",
   "metadata": {},
   "outputs": [],
   "source": [
    "sum(l)"
   ]
  },
  {
   "cell_type": "code",
   "execution_count": null,
   "id": "ca68c8bd",
   "metadata": {},
   "outputs": [],
   "source": [
    "sum(l)/len(l)"
   ]
  },
  {
   "cell_type": "code",
   "execution_count": null,
   "id": "19d0c2c2",
   "metadata": {},
   "outputs": [],
   "source": [
    "l=[1, 3, 5.9, True, 66, [1, 5, 't'], 88, 77, 'kkkk', [33, 55,[55,'hello','get it!'], 77], 33, 66, 77]\n",
    "#grab 'get it!'\n",
    "l[-4][-2][-1]"
   ]
  },
  {
   "cell_type": "code",
   "execution_count": null,
   "id": "7a2d88f2",
   "metadata": {},
   "outputs": [],
   "source": []
  },
  {
   "cell_type": "code",
   "execution_count": null,
   "id": "c513c5af",
   "metadata": {},
   "outputs": [],
   "source": []
  },
  {
   "cell_type": "code",
   "execution_count": null,
   "id": "9395a6c2",
   "metadata": {},
   "outputs": [],
   "source": [
    "string.punctuation"
   ]
  },
  {
   "cell_type": "code",
   "execution_count": null,
   "id": "11b89079",
   "metadata": {},
   "outputs": [],
   "source": [
    "string.digits+string.ascii_uppercase+string.ascii_lowercase"
   ]
  },
  {
   "cell_type": "code",
   "execution_count": null,
   "id": "8a3caed0",
   "metadata": {},
   "outputs": [],
   "source": [
    "for c in string.punctuation+string.digits+string.ascii_uppercase+string.ascii_lowercase:\n",
    "    print(c+' '+str(ord(c)))"
   ]
  },
  {
   "cell_type": "code",
   "execution_count": null,
   "id": "46b42b9d",
   "metadata": {},
   "outputs": [],
   "source": []
  },
  {
   "cell_type": "code",
   "execution_count": null,
   "id": "b0a00666",
   "metadata": {},
   "outputs": [],
   "source": [
    "ord('0')"
   ]
  },
  {
   "cell_type": "code",
   "execution_count": null,
   "id": "a98baa0f",
   "metadata": {},
   "outputs": [],
   "source": [
    "ord('A')"
   ]
  },
  {
   "cell_type": "code",
   "execution_count": null,
   "id": "cc4a58c1",
   "metadata": {},
   "outputs": [],
   "source": [
    "ord('a')"
   ]
  },
  {
   "cell_type": "code",
   "execution_count": null,
   "id": "9de4eec0",
   "metadata": {},
   "outputs": [],
   "source": [
    "print('مممممممممممممم')"
   ]
  },
  {
   "cell_type": "code",
   "execution_count": null,
   "id": "45ff1ca4",
   "metadata": {},
   "outputs": [],
   "source": [
    "ord('م')"
   ]
  },
  {
   "cell_type": "code",
   "execution_count": null,
   "id": "2e042712",
   "metadata": {},
   "outputs": [],
   "source": [
    "l=[44,3,8,12,77,9,12,0,5,34,36]\n",
    "l2=[]\n",
    "#\n",
    "for n in l:\n",
    "    if n%2==0:\n",
    "        l2.append(n**2)\n",
    "print(l2)"
   ]
  },
  {
   "cell_type": "code",
   "execution_count": null,
   "id": "aaa6c5d6",
   "metadata": {},
   "outputs": [],
   "source": [
    "#list comperhension\n",
    "\n",
    "l2=[n**2 for n in l if n%2==0]\n",
    "l2"
   ]
  },
  {
   "cell_type": "code",
   "execution_count": null,
   "id": "71e2473d",
   "metadata": {},
   "outputs": [],
   "source": [
    "l=[1,2,3,4,5]\n",
    "[n**2 for n in l]"
   ]
  },
  {
   "cell_type": "code",
   "execution_count": null,
   "id": "b404308f",
   "metadata": {},
   "outputs": [],
   "source": [
    "l2=[]\n",
    "for n in l:\n",
    "    l2.append(n**2)\n",
    "print(l2)"
   ]
  },
  {
   "cell_type": "code",
   "execution_count": null,
   "id": "86a876aa",
   "metadata": {},
   "outputs": [],
   "source": [
    "l=[44,3,8,12,77,9,12,0,5,34,36]\n",
    "l2=[]\n",
    "#\n",
    "for n in l:\n",
    "    if n%2==0:\n",
    "        l2.append(n**2)\n",
    "    else:\n",
    "        l2.append(n**3)\n",
    "print(l2)"
   ]
  },
  {
   "cell_type": "code",
   "execution_count": null,
   "id": "63571b5a",
   "metadata": {},
   "outputs": [],
   "source": [
    "l2=[n**2 if n%2==0 else n**3 for n in l]\n",
    "l2"
   ]
  },
  {
   "cell_type": "code",
   "execution_count": null,
   "id": "732f3478",
   "metadata": {},
   "outputs": [],
   "source": [
    "n=5\n",
    "x=9\n",
    "\n",
    "x= 77 if n>7 else 9 if n==5 else 70\n"
   ]
  },
  {
   "cell_type": "code",
   "execution_count": null,
   "id": "a07412fe",
   "metadata": {},
   "outputs": [],
   "source": [
    "x"
   ]
  },
  {
   "cell_type": "code",
   "execution_count": null,
   "id": "961e8770",
   "metadata": {},
   "outputs": [],
   "source": [
    "if n>7:\n",
    "    x=77\n",
    "elif n==5:\n",
    "    x=9\n",
    "else:\n",
    "    x=70\n",
    "    "
   ]
  },
  {
   "cell_type": "code",
   "execution_count": null,
   "id": "ba48a1f4",
   "metadata": {},
   "outputs": [],
   "source": [
    "st='how are u guys, could we skip to the good part '\n",
    "# if the length of the word is even append the word else print the length\n",
    "l2=[]\n",
    "for w in st.split():\n",
    "    if len(w)%2==0:\n",
    "        l2.append(w)\n",
    "    else:\n",
    "        print(len(w))\n",
    "        \n",
    "l2\n",
    "        \n",
    "\n"
   ]
  },
  {
   "cell_type": "code",
   "execution_count": null,
   "id": "f9f4dc77",
   "metadata": {},
   "outputs": [],
   "source": [
    "p=[ w if len(w)%2==0 else print(len(w)) for w in st.split()]\n",
    "p=[ w for w in p if w!=None]\n",
    "p"
   ]
  },
  {
   "cell_type": "code",
   "execution_count": null,
   "id": "d252bf8e",
   "metadata": {},
   "outputs": [],
   "source": [
    "l2=[]\n",
    "[l2.append(w) if len(w)%2==0 else print(len(w)) for w in st.split()]\n"
   ]
  },
  {
   "cell_type": "code",
   "execution_count": null,
   "id": "998f2b67",
   "metadata": {},
   "outputs": [],
   "source": [
    "x=print(';;;;;;')"
   ]
  },
  {
   "cell_type": "code",
   "execution_count": null,
   "id": "12b7440e",
   "metadata": {},
   "outputs": [],
   "source": [
    "x==None"
   ]
  },
  {
   "cell_type": "code",
   "execution_count": null,
   "id": "0163a48d",
   "metadata": {},
   "outputs": [],
   "source": [
    "s=l.append('ooo')\n"
   ]
  },
  {
   "cell_type": "code",
   "execution_count": null,
   "id": "d57487ae",
   "metadata": {},
   "outputs": [],
   "source": [
    "s==None"
   ]
  },
  {
   "cell_type": "markdown",
   "id": "4f14d984",
   "metadata": {},
   "source": [
    "## Tuples"
   ]
  },
  {
   "cell_type": "code",
   "execution_count": null,
   "id": "48e6e0b0",
   "metadata": {},
   "outputs": [],
   "source": [
    "s=(33,5,9.0,'hhhh')"
   ]
  },
  {
   "cell_type": "code",
   "execution_count": null,
   "id": "2026ee90",
   "metadata": {},
   "outputs": [],
   "source": [
    "s[0]=888"
   ]
  },
  {
   "cell_type": "code",
   "execution_count": null,
   "id": "549b9972",
   "metadata": {},
   "outputs": [],
   "source": [
    "s[:2]"
   ]
  },
  {
   "cell_type": "code",
   "execution_count": null,
   "id": "c6fb09d9",
   "metadata": {},
   "outputs": [],
   "source": [
    "l"
   ]
  },
  {
   "cell_type": "code",
   "execution_count": null,
   "id": "193d582d",
   "metadata": {},
   "outputs": [],
   "source": [
    "l2"
   ]
  },
  {
   "cell_type": "code",
   "execution_count": null,
   "id": "b5728a01",
   "metadata": {},
   "outputs": [],
   "source": [
    "l.pop()"
   ]
  },
  {
   "cell_type": "code",
   "execution_count": null,
   "id": "b4c2780f",
   "metadata": {},
   "outputs": [],
   "source": [
    "l"
   ]
  },
  {
   "cell_type": "code",
   "execution_count": null,
   "id": "aeee3f04",
   "metadata": {},
   "outputs": [],
   "source": [
    "ll=[2,5,8,(9,'e')]"
   ]
  },
  {
   "cell_type": "code",
   "execution_count": null,
   "id": "e1f36e32",
   "metadata": {},
   "outputs": [],
   "source": [
    "ll[-1][1]"
   ]
  },
  {
   "cell_type": "code",
   "execution_count": null,
   "id": "c596c719",
   "metadata": {},
   "outputs": [],
   "source": [
    "ss=(2,4,[9,8])"
   ]
  },
  {
   "cell_type": "code",
   "execution_count": null,
   "id": "3844073b",
   "metadata": {},
   "outputs": [],
   "source": [
    "ss[-1]"
   ]
  },
  {
   "cell_type": "code",
   "execution_count": null,
   "id": "2eec78fe",
   "metadata": {},
   "outputs": [],
   "source": [
    "ss[-1][0]"
   ]
  },
  {
   "cell_type": "code",
   "execution_count": null,
   "id": "b1d11458",
   "metadata": {},
   "outputs": [],
   "source": [
    "ss[-1][0]=99"
   ]
  },
  {
   "cell_type": "code",
   "execution_count": null,
   "id": "43c90b2b",
   "metadata": {},
   "outputs": [],
   "source": [
    "ss"
   ]
  },
  {
   "cell_type": "code",
   "execution_count": null,
   "id": "a8a63c6f",
   "metadata": {},
   "outputs": [],
   "source": [
    "l"
   ]
  },
  {
   "cell_type": "code",
   "execution_count": null,
   "id": "3453e33d",
   "metadata": {},
   "outputs": [],
   "source": [
    "l.insert(4,'kk')"
   ]
  },
  {
   "cell_type": "code",
   "execution_count": null,
   "id": "8ded32be",
   "metadata": {},
   "outputs": [],
   "source": [
    "l"
   ]
  },
  {
   "cell_type": "code",
   "execution_count": null,
   "id": "aa6d1e20",
   "metadata": {},
   "outputs": [],
   "source": [
    "s"
   ]
  },
  {
   "cell_type": "code",
   "execution_count": null,
   "id": "99caf73c",
   "metadata": {},
   "outputs": [],
   "source": [
    "s[0]=88"
   ]
  },
  {
   "cell_type": "code",
   "execution_count": null,
   "id": "80e8467d",
   "metadata": {},
   "outputs": [],
   "source": [
    "for i in s:\n",
    "    print(i)"
   ]
  },
  {
   "cell_type": "code",
   "execution_count": null,
   "id": "1d9a6278",
   "metadata": {},
   "outputs": [],
   "source": [
    "s[0]"
   ]
  },
  {
   "cell_type": "code",
   "execution_count": null,
   "id": "ac48f0f1",
   "metadata": {},
   "outputs": [],
   "source": [
    "l9=l.copy()"
   ]
  },
  {
   "cell_type": "code",
   "execution_count": null,
   "id": "f781a4d6",
   "metadata": {},
   "outputs": [],
   "source": [
    "l9"
   ]
  },
  {
   "cell_type": "code",
   "execution_count": null,
   "id": "ae3cc0fc",
   "metadata": {},
   "outputs": [],
   "source": [
    "l=[1,2,3,4]\n",
    "l2=l"
   ]
  },
  {
   "cell_type": "code",
   "execution_count": null,
   "id": "e8f2f897",
   "metadata": {},
   "outputs": [],
   "source": [
    "l2"
   ]
  },
  {
   "cell_type": "code",
   "execution_count": null,
   "id": "20a0b9b1",
   "metadata": {},
   "outputs": [],
   "source": [
    "l2[0]='llll'"
   ]
  },
  {
   "cell_type": "code",
   "execution_count": null,
   "id": "f16e0f3c",
   "metadata": {},
   "outputs": [],
   "source": [
    "l2"
   ]
  },
  {
   "cell_type": "code",
   "execution_count": null,
   "id": "965b1c3d",
   "metadata": {},
   "outputs": [],
   "source": [
    "l"
   ]
  },
  {
   "cell_type": "code",
   "execution_count": null,
   "id": "e4476fe7",
   "metadata": {},
   "outputs": [],
   "source": [
    "l=[1,2,3,4]\n",
    "l2=l.copy()\n"
   ]
  },
  {
   "cell_type": "code",
   "execution_count": null,
   "id": "e9765d3c",
   "metadata": {},
   "outputs": [],
   "source": [
    "l2[0]='llll'\n",
    "l2"
   ]
  },
  {
   "cell_type": "code",
   "execution_count": null,
   "id": "0ff8e28a",
   "metadata": {},
   "outputs": [],
   "source": [
    "l"
   ]
  },
  {
   "cell_type": "code",
   "execution_count": null,
   "id": "c7cc0a62",
   "metadata": {},
   "outputs": [],
   "source": [
    "l3=l[:]\n",
    "l3"
   ]
  },
  {
   "cell_type": "code",
   "execution_count": null,
   "id": "94230018",
   "metadata": {},
   "outputs": [],
   "source": [
    "l3[0]='ooo'\n",
    "l3"
   ]
  },
  {
   "cell_type": "code",
   "execution_count": null,
   "id": "3e489bce",
   "metadata": {},
   "outputs": [],
   "source": [
    "l"
   ]
  },
  {
   "cell_type": "markdown",
   "id": "87ad19fa",
   "metadata": {},
   "source": [
    "## Sets"
   ]
  },
  {
   "cell_type": "code",
   "execution_count": null,
   "id": "c5f939a0",
   "metadata": {},
   "outputs": [],
   "source": [
    "l=[1,2,4,1,6,3,4,9,'ee','ee','www']"
   ]
  },
  {
   "cell_type": "code",
   "execution_count": null,
   "id": "e3a27b3f",
   "metadata": {},
   "outputs": [],
   "source": [
    "s1=set(l)\n",
    "s1"
   ]
  },
  {
   "cell_type": "code",
   "execution_count": null,
   "id": "0abc3770",
   "metadata": {},
   "outputs": [],
   "source": [
    "s2={2,4,1,6,1,8,2}\n",
    "s2"
   ]
  },
  {
   "cell_type": "code",
   "execution_count": null,
   "id": "1a65a722",
   "metadata": {},
   "outputs": [],
   "source": [
    "s2.add(9)"
   ]
  },
  {
   "cell_type": "code",
   "execution_count": null,
   "id": "0c32ce54",
   "metadata": {},
   "outputs": [],
   "source": [
    "s2"
   ]
  },
  {
   "cell_type": "code",
   "execution_count": null,
   "id": "317a0430",
   "metadata": {},
   "outputs": [],
   "source": [
    "s2.add(9)"
   ]
  },
  {
   "cell_type": "code",
   "execution_count": null,
   "id": "4c3b1cce",
   "metadata": {},
   "outputs": [],
   "source": [
    "s2"
   ]
  },
  {
   "cell_type": "code",
   "execution_count": null,
   "id": "82e2a58a",
   "metadata": {},
   "outputs": [],
   "source": [
    "s2.discard(4)"
   ]
  },
  {
   "cell_type": "code",
   "execution_count": null,
   "id": "5eca07e5",
   "metadata": {},
   "outputs": [],
   "source": [
    "s2"
   ]
  },
  {
   "cell_type": "code",
   "execution_count": null,
   "id": "166e9645",
   "metadata": {},
   "outputs": [],
   "source": [
    "l"
   ]
  },
  {
   "cell_type": "code",
   "execution_count": null,
   "id": "22687481",
   "metadata": {},
   "outputs": [],
   "source": [
    "l.remove(4)"
   ]
  },
  {
   "cell_type": "code",
   "execution_count": null,
   "id": "5d4cf6bc",
   "metadata": {},
   "outputs": [],
   "source": [
    "l"
   ]
  },
  {
   "cell_type": "code",
   "execution_count": null,
   "id": "7b669008",
   "metadata": {},
   "outputs": [],
   "source": [
    "s2"
   ]
  },
  {
   "cell_type": "code",
   "execution_count": null,
   "id": "8dc1f9ac",
   "metadata": {},
   "outputs": [],
   "source": [
    "s2[1]"
   ]
  },
  {
   "cell_type": "code",
   "execution_count": null,
   "id": "30d1934f",
   "metadata": {},
   "outputs": [],
   "source": [
    "s2.add('www')\n",
    "s2"
   ]
  },
  {
   "cell_type": "code",
   "execution_count": null,
   "id": "1fe85bab",
   "metadata": {},
   "outputs": [],
   "source": [
    "s1"
   ]
  },
  {
   "cell_type": "code",
   "execution_count": null,
   "id": "8aa24742",
   "metadata": {},
   "outputs": [],
   "source": [
    "s2.union(s1)"
   ]
  },
  {
   "cell_type": "code",
   "execution_count": null,
   "id": "3407a483",
   "metadata": {},
   "outputs": [],
   "source": [
    "s2.intersection(s1)"
   ]
  },
  {
   "cell_type": "code",
   "execution_count": null,
   "id": "01fe898b",
   "metadata": {},
   "outputs": [],
   "source": [
    "s1"
   ]
  },
  {
   "cell_type": "code",
   "execution_count": null,
   "id": "f9ea5f05",
   "metadata": {},
   "outputs": [],
   "source": [
    "s2"
   ]
  },
  {
   "cell_type": "code",
   "execution_count": null,
   "id": "ffd1ecf5",
   "metadata": {},
   "outputs": [],
   "source": [
    "lk=list(s1.difference(s2))\n",
    "lk"
   ]
  },
  {
   "cell_type": "code",
   "execution_count": null,
   "id": "895bcaa5",
   "metadata": {},
   "outputs": [],
   "source": [
    "s2.difference(s1)"
   ]
  },
  {
   "cell_type": "code",
   "execution_count": null,
   "id": "9e06cb35",
   "metadata": {},
   "outputs": [],
   "source": [
    "le=[1,2,3,4]\n",
    "lr=[5,2,3,1]\n",
    "\n",
    "lp=set(le).intersection(set(lr))\n",
    "\n",
    "lp"
   ]
  },
  {
   "cell_type": "code",
   "execution_count": null,
   "id": "db50e258",
   "metadata": {},
   "outputs": [],
   "source": [
    "sum(lp)"
   ]
  },
  {
   "cell_type": "code",
   "execution_count": null,
   "id": "e3ecacd7",
   "metadata": {},
   "outputs": [],
   "source": [
    "sum(set([1,4,2,5]))"
   ]
  },
  {
   "cell_type": "code",
   "execution_count": null,
   "id": "b670ce9d",
   "metadata": {},
   "outputs": [],
   "source": [
    "l"
   ]
  },
  {
   "cell_type": "code",
   "execution_count": null,
   "id": "d29ba035",
   "metadata": {},
   "outputs": [],
   "source": [
    "l.count(4)"
   ]
  },
  {
   "cell_type": "code",
   "execution_count": null,
   "id": "09ea3657",
   "metadata": {},
   "outputs": [],
   "source": [
    "for i in s2:\n",
    "    print(i)"
   ]
  },
  {
   "cell_type": "code",
   "execution_count": null,
   "id": "f8407130",
   "metadata": {},
   "outputs": [],
   "source": [
    "s2"
   ]
  },
  {
   "cell_type": "code",
   "execution_count": null,
   "id": "6acef35a",
   "metadata": {},
   "outputs": [],
   "source": [
    "le=[1,2,3,4,8]\n",
    "lr=[5,2,3,1,8,9]\n",
    "#[1,2,3,8,1,2,3,8]\n",
    "s=set()\n",
    "for i in set(le).intersection(lr):\n",
    "    s.add(i*2)\n",
    "    \n",
    "s"
   ]
  },
  {
   "cell_type": "code",
   "execution_count": null,
   "id": "950f6281",
   "metadata": {},
   "outputs": [],
   "source": [
    "s=list(s)+list(set(set(le).union(set(lr))).difference(set(set(le).intersection(set(lr)))))\n",
    "s\n"
   ]
  },
  {
   "cell_type": "markdown",
   "id": "9f9736fb",
   "metadata": {},
   "source": [
    "## Dictionaries"
   ]
  },
  {
   "cell_type": "code",
   "execution_count": null,
   "id": "cd10bf40",
   "metadata": {},
   "outputs": [],
   "source": [
    "d={'key':'value','key2':'value'}\n",
    "d"
   ]
  },
  {
   "cell_type": "code",
   "execution_count": null,
   "id": "e8bc0386",
   "metadata": {},
   "outputs": [],
   "source": [
    "x=9\n",
    "y=10\n",
    "z=99\n",
    "d={'x':9,'y':10,'z':99}\n",
    "d"
   ]
  },
  {
   "cell_type": "code",
   "execution_count": null,
   "id": "52237daa",
   "metadata": {},
   "outputs": [],
   "source": [
    "store={'cat1':99,'cat2':66}\n",
    "store"
   ]
  },
  {
   "cell_type": "code",
   "execution_count": null,
   "id": "3783a0fd",
   "metadata": {},
   "outputs": [],
   "source": [
    "store['cat1']"
   ]
  },
  {
   "cell_type": "code",
   "execution_count": null,
   "id": "01edcfd5",
   "metadata": {},
   "outputs": [],
   "source": [
    "store['cat1']=89"
   ]
  },
  {
   "cell_type": "code",
   "execution_count": null,
   "id": "ca24bcb4",
   "metadata": {},
   "outputs": [],
   "source": [
    "store"
   ]
  },
  {
   "cell_type": "code",
   "execution_count": null,
   "id": "ce6aa0a9",
   "metadata": {},
   "outputs": [],
   "source": [
    "store['cat3']"
   ]
  },
  {
   "cell_type": "code",
   "execution_count": null,
   "id": "90d4f4c1",
   "metadata": {},
   "outputs": [],
   "source": [
    "store['cat3']=77"
   ]
  },
  {
   "cell_type": "code",
   "execution_count": null,
   "id": "259d7c23",
   "metadata": {},
   "outputs": [],
   "source": [
    "store"
   ]
  },
  {
   "cell_type": "code",
   "execution_count": null,
   "id": "9a50ef17",
   "metadata": {},
   "outputs": [],
   "source": [
    "store={('cat1',0):99,('cat1',1):98,'cat2':8}\n",
    "store"
   ]
  },
  {
   "cell_type": "code",
   "execution_count": null,
   "id": "3a72bed6",
   "metadata": {},
   "outputs": [],
   "source": [
    "store[('cat1',0)]"
   ]
  },
  {
   "cell_type": "code",
   "execution_count": null,
   "id": "3c9bcda1",
   "metadata": {},
   "outputs": [],
   "source": [
    "store['cat4']=[1,2,3,4,5,3]\n",
    "store"
   ]
  },
  {
   "cell_type": "code",
   "execution_count": null,
   "id": "bf329b12",
   "metadata": {},
   "outputs": [],
   "source": [
    "store['cat4'][:4]"
   ]
  },
  {
   "cell_type": "code",
   "execution_count": null,
   "id": "47b41622",
   "metadata": {},
   "outputs": [],
   "source": [
    "store"
   ]
  },
  {
   "cell_type": "code",
   "execution_count": null,
   "id": "5a1981f5",
   "metadata": {},
   "outputs": [],
   "source": [
    "store['details']={'k1':55,'k2':99}\n",
    "store"
   ]
  },
  {
   "cell_type": "code",
   "execution_count": null,
   "id": "49dbab68",
   "metadata": {},
   "outputs": [],
   "source": [
    "store['details']['k2']=19"
   ]
  },
  {
   "cell_type": "code",
   "execution_count": null,
   "id": "cf1fc3f1",
   "metadata": {},
   "outputs": [],
   "source": [
    "store"
   ]
  },
  {
   "cell_type": "code",
   "execution_count": null,
   "id": "243891d9",
   "metadata": {},
   "outputs": [],
   "source": [
    "store['data']=(3,5,7)"
   ]
  },
  {
   "cell_type": "code",
   "execution_count": null,
   "id": "6069add1",
   "metadata": {},
   "outputs": [],
   "source": [
    "store"
   ]
  },
  {
   "cell_type": "code",
   "execution_count": null,
   "id": "5d121091",
   "metadata": {},
   "outputs": [],
   "source": [
    "l=list(store['data'])\n",
    "l"
   ]
  },
  {
   "cell_type": "code",
   "execution_count": null,
   "id": "597fcdb3",
   "metadata": {},
   "outputs": [],
   "source": [
    "l[1]=6\n",
    "l"
   ]
  },
  {
   "cell_type": "code",
   "execution_count": null,
   "id": "0461ba68",
   "metadata": {},
   "outputs": [],
   "source": [
    "store['data']=tuple(l)"
   ]
  },
  {
   "cell_type": "code",
   "execution_count": null,
   "id": "27872082",
   "metadata": {},
   "outputs": [],
   "source": [
    "store"
   ]
  },
  {
   "cell_type": "code",
   "execution_count": null,
   "id": "ae2fc3c8",
   "metadata": {},
   "outputs": [],
   "source": [
    "store['cat2']+=2"
   ]
  },
  {
   "cell_type": "code",
   "execution_count": null,
   "id": "6c09ab67",
   "metadata": {},
   "outputs": [],
   "source": [
    "store"
   ]
  },
  {
   "cell_type": "code",
   "execution_count": null,
   "id": "bdc2823e",
   "metadata": {},
   "outputs": [],
   "source": []
  }
 ],
 "metadata": {
  "kernelspec": {
   "display_name": "Python 3 (ipykernel)",
   "language": "python",
   "name": "python3"
  },
  "language_info": {
   "codemirror_mode": {
    "name": "ipython",
    "version": 3
   },
   "file_extension": ".py",
   "mimetype": "text/x-python",
   "name": "python",
   "nbconvert_exporter": "python",
   "pygments_lexer": "ipython3",
   "version": "3.9.13"
  }
 },
 "nbformat": 4,
 "nbformat_minor": 5
}
