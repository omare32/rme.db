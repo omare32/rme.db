{
 "cells": [
  {
   "cell_type": "markdown",
   "id": "e4d599b1",
   "metadata": {},
   "source": [
    "> # Dear Epsilon Students,"
   ]
  },
  {
   "cell_type": "markdown",
   "id": "8c19b93d",
   "metadata": {},
   "source": [
    "> # The More you practice The better You'll Be."
   ]
  },
  {
   "cell_type": "markdown",
   "id": "27576c69",
   "metadata": {},
   "source": [
    "# Q.1 Given the radius of circle, print circumference of circle"
   ]
  },
  {
   "cell_type": "code",
   "execution_count": null,
   "id": "1f593393",
   "metadata": {},
   "outputs": [],
   "source": [
    "# radius=13\n",
    "# Answer here \n",
    "\n",
    "\n"
   ]
  },
  {
   "cell_type": "markdown",
   "id": "f9990688",
   "metadata": {},
   "source": [
    "# Q.2 Given the width and height of rectangle, print perimeter of rectangle"
   ]
  },
  {
   "cell_type": "code",
   "execution_count": null,
   "id": "31a12d9b",
   "metadata": {},
   "outputs": [],
   "source": [
    "# height=5, width=7\n",
    "# Answer here \n",
    "\n",
    "\n"
   ]
  },
  {
   "cell_type": "markdown",
   "id": "a5dc67a7",
   "metadata": {},
   "source": [
    "## <p style=\"color:green;\">Q.03 Write a Python program to calculate the length of a string.</p>"
   ]
  },
  {
   "cell_type": "code",
   "execution_count": null,
   "id": "1a88cb5d",
   "metadata": {},
   "outputs": [],
   "source": [
    "# Answer here \n",
    "\n",
    "\n"
   ]
  },
  {
   "cell_type": "markdown",
   "id": "57a84ee0",
   "metadata": {},
   "source": [
    "## <p style=\"color:green;\">Q.04 Given the string 'hello' give an index command that returns 'e'</p>"
   ]
  },
  {
   "cell_type": "code",
   "execution_count": null,
   "id": "3d2ea774",
   "metadata": {},
   "outputs": [],
   "source": [
    "# Answer here \n",
    "\n",
    "\n"
   ]
  },
  {
   "cell_type": "markdown",
   "id": "91c7db66",
   "metadata": {},
   "source": [
    "## <p style=\"color:green;\">Q.05 Reverse the string 'hello' using slicing</p>"
   ]
  },
  {
   "cell_type": "code",
   "execution_count": null,
   "id": "3338c6ae",
   "metadata": {},
   "outputs": [],
   "source": [
    "# Answer here \n",
    "\n",
    "\n"
   ]
  },
  {
   "cell_type": "markdown",
   "id": "30de25d6",
   "metadata": {},
   "source": [
    "### Try reversing the string using built-in function (google it)"
   ]
  },
  {
   "cell_type": "code",
   "execution_count": null,
   "id": "8abf1860",
   "metadata": {},
   "outputs": [],
   "source": [
    "#Answer here\n",
    "\n",
    "\n"
   ]
  },
  {
   "cell_type": "markdown",
   "id": "504ef69f",
   "metadata": {},
   "source": [
    "## <p style=\"color:red;\">Q.06 Write a Python program to change a given string to a new string where the first and last chars have been exchanged.</p>"
   ]
  },
  {
   "cell_type": "code",
   "execution_count": null,
   "id": "fca3d166",
   "metadata": {},
   "outputs": [],
   "source": [
    "# Answer here \n",
    "\n",
    "\n"
   ]
  },
  {
   "cell_type": "markdown",
   "id": "559a501e",
   "metadata": {},
   "source": [
    "### Given the string 'hello' give an index command that returns 'e'. Enter your code in the cell below:"
   ]
  },
  {
   "cell_type": "code",
   "execution_count": null,
   "id": "db02928f",
   "metadata": {},
   "outputs": [],
   "source": [
    "s = 'hello'\n",
    "# Print out 'e' using indexing\n",
    "\n"
   ]
  },
  {
   "cell_type": "markdown",
   "id": "723cfdc4",
   "metadata": {},
   "source": [
    "### Reverse the string 'hello' using slicing:"
   ]
  },
  {
   "cell_type": "code",
   "execution_count": null,
   "id": "1e2b1dd7",
   "metadata": {},
   "outputs": [],
   "source": [
    "s ='hello'\n",
    "# Reverse the string using slicing\n",
    "\n"
   ]
  },
  {
   "cell_type": "markdown",
   "id": "7642038a",
   "metadata": {},
   "source": [
    "### Given the string hello, give two methods of producing the letter 'o' using indexing."
   ]
  },
  {
   "cell_type": "code",
   "execution_count": null,
   "id": "fa06ce66",
   "metadata": {},
   "outputs": [],
   "source": [
    "s ='hello'\n",
    "# Print out the 'o'\n",
    "\n",
    "# Method 1:\n",
    "\n"
   ]
  },
  {
   "cell_type": "code",
   "execution_count": null,
   "id": "8e98e7f3",
   "metadata": {},
   "outputs": [],
   "source": [
    "# Method 2:\n",
    "\n"
   ]
  }
 ],
 "metadata": {
  "kernelspec": {
   "display_name": "Python 3",
   "language": "python",
   "name": "python3"
  },
  "language_info": {
   "codemirror_mode": {
    "name": "ipython",
    "version": 3
   },
   "file_extension": ".py",
   "mimetype": "text/x-python",
   "name": "python",
   "nbconvert_exporter": "python",
   "pygments_lexer": "ipython3",
   "version": "3.8.8"
  }
 },
 "nbformat": 4,
 "nbformat_minor": 5
}
