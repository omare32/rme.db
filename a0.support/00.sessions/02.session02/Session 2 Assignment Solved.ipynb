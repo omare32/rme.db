{
 "cells": [
  {
   "cell_type": "markdown",
   "id": "e4d599b1",
   "metadata": {},
   "source": [
    "> # Dear Epsilon Students,"
   ]
  },
  {
   "cell_type": "markdown",
   "id": "8c19b93d",
   "metadata": {},
   "source": [
    "> # The More you practice The better You'll Be."
   ]
  },
  {
   "cell_type": "markdown",
   "id": "27576c69",
   "metadata": {},
   "source": [
    "# Q.1 Given the radius of circle, print circumference of circle"
   ]
  },
  {
   "cell_type": "code",
   "execution_count": 2,
   "id": "1f593393",
   "metadata": {},
   "outputs": [
    {
     "name": "stdout",
     "output_type": "stream",
     "text": [
      "Enter radius: 13\n",
      "circumference=  81.64\n"
     ]
    }
   ],
   "source": [
    "# radius=13\n",
    "# Answer here \n",
    "\n",
    "r=input('Enter radius: ')\n",
    "circumference=int(r)*3.14*2\n",
    "print('circumference= ',circumference)\n"
   ]
  },
  {
   "cell_type": "markdown",
   "id": "f9990688",
   "metadata": {},
   "source": [
    "# Q.2 Given the width and height of rectangle, print perimeter of rectangle"
   ]
  },
  {
   "cell_type": "code",
   "execution_count": 3,
   "id": "31a12d9b",
   "metadata": {},
   "outputs": [
    {
     "name": "stdout",
     "output_type": "stream",
     "text": [
      "Enter height: 5\n",
      "Enter width: 7\n",
      "perimeter=  24\n"
     ]
    }
   ],
   "source": [
    "# height=5, width=7\n",
    "# Answer here \n",
    "\n",
    "h=input('Enter height: ')\n",
    "w=input('Enter width: ')\n",
    "perimeter=2*(int(w)+int(h))\n",
    "print('perimeter= ',perimeter)\n"
   ]
  },
  {
   "cell_type": "markdown",
   "id": "a5dc67a7",
   "metadata": {},
   "source": [
    "## <p style=\"color:green;\">Q.03 Write a Python program to calculate the length of a string.</p>"
   ]
  },
  {
   "cell_type": "code",
   "execution_count": 7,
   "id": "1a88cb5d",
   "metadata": {},
   "outputs": [
    {
     "name": "stdout",
     "output_type": "stream",
     "text": [
      "Enter text: omar\n",
      "4\n"
     ]
    }
   ],
   "source": [
    "# Answer here \n",
    "\n",
    "text1=input('Enter text: ')\n",
    "print(len(text1))\n"
   ]
  },
  {
   "cell_type": "markdown",
   "id": "57a84ee0",
   "metadata": {},
   "source": [
    "## <p style=\"color:green;\">Q.04 Given the string 'hello' give an index command that returns 'e'</p>"
   ]
  },
  {
   "cell_type": "code",
   "execution_count": 9,
   "id": "3d2ea774",
   "metadata": {},
   "outputs": [
    {
     "name": "stdout",
     "output_type": "stream",
     "text": [
      "Enter text: hello\n",
      "Search for: e\n",
      "e\n"
     ]
    }
   ],
   "source": [
    "# Answer here \n",
    "\n",
    "text2=input('Enter text: ')\n",
    "search1=input('Search for: ')\n",
    "print(text2[text2.find(search1):text2.find(search1)+len(search1)])\n",
    "\n"
   ]
  },
  {
   "cell_type": "markdown",
   "id": "91c7db66",
   "metadata": {},
   "source": [
    "## <p style=\"color:green;\">Q.05 Reverse the string 'hello' using slicing</p>"
   ]
  },
  {
   "cell_type": "code",
   "execution_count": 21,
   "id": "3338c6ae",
   "metadata": {},
   "outputs": [
    {
     "name": "stdout",
     "output_type": "stream",
     "text": [
      "Enter text: hello\n",
      "olleh\n"
     ]
    }
   ],
   "source": [
    "# Answer here \n",
    "\n",
    "text3=input('Enter text: ')\n",
    "print(text3[-1::-1])\n",
    "\n"
   ]
  },
  {
   "cell_type": "markdown",
   "id": "30de25d6",
   "metadata": {},
   "source": [
    "### Try reversing the string using built-in function (google it)"
   ]
  },
  {
   "cell_type": "code",
   "execution_count": 37,
   "id": "8abf1860",
   "metadata": {},
   "outputs": [
    {
     "name": "stdout",
     "output_type": "stream",
     "text": [
      "Enter text: omar\n",
      "ramo\n"
     ]
    }
   ],
   "source": [
    "#Answer here\n",
    "\n",
    "text4=input('Enter text: ')\n",
    "print(''.join(reversed(text4)))\n",
    "\n"
   ]
  },
  {
   "cell_type": "markdown",
   "id": "504ef69f",
   "metadata": {},
   "source": [
    "## <p style=\"color:red;\">Q.06 Write a Python program to change a given string to a new string where the first and last chars have been exchanged.</p>"
   ]
  },
  {
   "cell_type": "code",
   "execution_count": 27,
   "id": "fca3d166",
   "metadata": {},
   "outputs": [
    {
     "name": "stdout",
     "output_type": "stream",
     "text": [
      "Enter text: omar\n",
      "rmao\n"
     ]
    }
   ],
   "source": [
    "# Answer here \n",
    "\n",
    "text5=input('Enter text: ')\n",
    "last=text5[(len(text5)-1):len(text5)]\n",
    "first=text5[0:1]\n",
    "textwithout=text5[1:len(text5)-1]\n",
    "print(last+textwithout+first)\n"
   ]
  },
  {
   "cell_type": "markdown",
   "id": "559a501e",
   "metadata": {},
   "source": [
    "### Given the string 'hello' give an index command that returns 'e'. Enter your code in the cell below:"
   ]
  },
  {
   "cell_type": "code",
   "execution_count": 38,
   "id": "db02928f",
   "metadata": {},
   "outputs": [
    {
     "name": "stdout",
     "output_type": "stream",
     "text": [
      "Enter text: hello\n",
      "Search for: e\n",
      "e\n"
     ]
    }
   ],
   "source": [
    "s = 'hello'\n",
    "# Print out 'e' using indexing\n",
    "\n",
    "text6=input('Enter text: ')\n",
    "search2=input('Search for: ')\n",
    "print(text6[text6.find(search2):text6.find(search2)+len(search2)])\n"
   ]
  },
  {
   "cell_type": "markdown",
   "id": "723cfdc4",
   "metadata": {},
   "source": [
    "### Reverse the string 'hello' using slicing:"
   ]
  },
  {
   "cell_type": "code",
   "execution_count": 39,
   "id": "1e2b1dd7",
   "metadata": {},
   "outputs": [
    {
     "name": "stdout",
     "output_type": "stream",
     "text": [
      "Enter text: hello\n",
      "olleh\n"
     ]
    }
   ],
   "source": [
    "s ='hello'\n",
    "# Reverse the string using slicing\n",
    "\n",
    "\n",
    "text7=input('Enter text: ')\n",
    "print(text7[-1::-1])\n"
   ]
  },
  {
   "cell_type": "markdown",
   "id": "7642038a",
   "metadata": {},
   "source": [
    "### Given the string hello, give two methods of producing the letter 'o' using indexing."
   ]
  },
  {
   "cell_type": "code",
   "execution_count": 40,
   "id": "fa06ce66",
   "metadata": {},
   "outputs": [
    {
     "name": "stdout",
     "output_type": "stream",
     "text": [
      "Enter text: hello\n",
      "Search for: o\n",
      "o\n"
     ]
    }
   ],
   "source": [
    "s ='hello'\n",
    "# Print out the 'o'\n",
    "\n",
    "# Method 1:\n",
    "text8=input('Enter text: ')\n",
    "search3=input('Search for: ')\n",
    "print(text8[text8.find(search3):text8.find(search3)+len(search3)])\n"
   ]
  },
  {
   "cell_type": "code",
   "execution_count": 41,
   "id": "8e98e7f3",
   "metadata": {},
   "outputs": [
    {
     "data": {
      "text/plain": [
       "'o'"
      ]
     },
     "execution_count": 41,
     "metadata": {},
     "output_type": "execute_result"
    }
   ],
   "source": [
    "# Method 2:\n",
    "\n",
    "text9='hello'\n",
    "text9[4:5]"
   ]
  }
 ],
 "metadata": {
  "kernelspec": {
   "display_name": "Python 3 (ipykernel)",
   "language": "python",
   "name": "python3"
  },
  "language_info": {
   "codemirror_mode": {
    "name": "ipython",
    "version": 3
   },
   "file_extension": ".py",
   "mimetype": "text/x-python",
   "name": "python",
   "nbconvert_exporter": "python",
   "pygments_lexer": "ipython3",
   "version": "3.9.13"
  }
 },
 "nbformat": 4,
 "nbformat_minor": 5
}
