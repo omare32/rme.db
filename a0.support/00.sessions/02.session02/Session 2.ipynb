{
 "cells": [
  {
   "cell_type": "markdown",
   "id": "e9097fa3",
   "metadata": {},
   "source": [
    "## Input"
   ]
  },
  {
   "cell_type": "code",
   "execution_count": 2,
   "id": "6667b073",
   "metadata": {},
   "outputs": [],
   "source": [
    "x=5"
   ]
  },
  {
   "cell_type": "code",
   "execution_count": 4,
   "id": "9bf64518",
   "metadata": {},
   "outputs": [
    {
     "name": "stdout",
     "output_type": "stream",
     "text": [
      "Enter a number: 5\n"
     ]
    }
   ],
   "source": [
    "x=input('Enter a number: ')"
   ]
  },
  {
   "cell_type": "code",
   "execution_count": null,
   "id": "30ed0308",
   "metadata": {},
   "outputs": [],
   "source": []
  },
  {
   "cell_type": "code",
   "execution_count": 5,
   "id": "9d589d0c",
   "metadata": {},
   "outputs": [
    {
     "data": {
      "text/plain": [
       "'5'"
      ]
     },
     "execution_count": 5,
     "metadata": {},
     "output_type": "execute_result"
    }
   ],
   "source": [
    "x"
   ]
  },
  {
   "cell_type": "code",
   "execution_count": 6,
   "id": "84dc794b",
   "metadata": {},
   "outputs": [
    {
     "name": "stdout",
     "output_type": "stream",
     "text": [
      "yy7\n"
     ]
    },
    {
     "data": {
      "text/plain": [
       "'yy7'"
      ]
     },
     "execution_count": 6,
     "metadata": {},
     "output_type": "execute_result"
    }
   ],
   "source": [
    "input()"
   ]
  },
  {
   "cell_type": "code",
   "execution_count": 7,
   "id": "6c056f7a",
   "metadata": {},
   "outputs": [],
   "source": [
    "x=7"
   ]
  },
  {
   "cell_type": "code",
   "execution_count": 8,
   "id": "460774ac",
   "metadata": {},
   "outputs": [],
   "source": [
    "x=5"
   ]
  },
  {
   "cell_type": "code",
   "execution_count": 10,
   "id": "30d1ba00",
   "metadata": {},
   "outputs": [],
   "source": [
    "x=5\n",
    "y=7\n",
    "z=x*y"
   ]
  },
  {
   "cell_type": "code",
   "execution_count": 11,
   "id": "2eac66de",
   "metadata": {},
   "outputs": [
    {
     "data": {
      "text/plain": [
       "35"
      ]
     },
     "execution_count": 11,
     "metadata": {},
     "output_type": "execute_result"
    }
   ],
   "source": [
    "z"
   ]
  },
  {
   "cell_type": "code",
   "execution_count": 12,
   "id": "062695a6",
   "metadata": {},
   "outputs": [],
   "source": [
    "x=10"
   ]
  },
  {
   "cell_type": "code",
   "execution_count": 13,
   "id": "f0b64bf1",
   "metadata": {},
   "outputs": [
    {
     "data": {
      "text/plain": [
       "35"
      ]
     },
     "execution_count": 13,
     "metadata": {},
     "output_type": "execute_result"
    }
   ],
   "source": [
    "z"
   ]
  },
  {
   "cell_type": "code",
   "execution_count": 14,
   "id": "0a18eb8f",
   "metadata": {},
   "outputs": [],
   "source": [
    "z=x*y"
   ]
  },
  {
   "cell_type": "code",
   "execution_count": 15,
   "id": "12a7bcfc",
   "metadata": {},
   "outputs": [
    {
     "data": {
      "text/plain": [
       "70"
      ]
     },
     "execution_count": 15,
     "metadata": {},
     "output_type": "execute_result"
    }
   ],
   "source": [
    "z"
   ]
  },
  {
   "cell_type": "markdown",
   "id": "51b17bea",
   "metadata": {},
   "source": [
    "## Output"
   ]
  },
  {
   "cell_type": "code",
   "execution_count": 16,
   "id": "02678d0f",
   "metadata": {},
   "outputs": [
    {
     "name": "stdout",
     "output_type": "stream",
     "text": [
      "hello\n"
     ]
    }
   ],
   "source": [
    "print('hello')"
   ]
  },
  {
   "cell_type": "code",
   "execution_count": 17,
   "id": "4407e42f",
   "metadata": {},
   "outputs": [
    {
     "name": "stdout",
     "output_type": "stream",
     "text": [
      "hello world ...99988%%%% \n"
     ]
    }
   ],
   "source": [
    "print('hello world ...99988%%%% ')"
   ]
  },
  {
   "cell_type": "code",
   "execution_count": 18,
   "id": "b1144d16",
   "metadata": {},
   "outputs": [
    {
     "data": {
      "text/plain": [
       "int"
      ]
     },
     "execution_count": 18,
     "metadata": {},
     "output_type": "execute_result"
    }
   ],
   "source": [
    "type(4)"
   ]
  },
  {
   "cell_type": "code",
   "execution_count": 19,
   "id": "7f3fcd51",
   "metadata": {},
   "outputs": [
    {
     "data": {
      "text/plain": [
       "int"
      ]
     },
     "execution_count": 19,
     "metadata": {},
     "output_type": "execute_result"
    }
   ],
   "source": [
    "type(900000)"
   ]
  },
  {
   "cell_type": "code",
   "execution_count": 20,
   "id": "e1be5144",
   "metadata": {},
   "outputs": [
    {
     "data": {
      "text/plain": [
       "float"
      ]
     },
     "execution_count": 20,
     "metadata": {},
     "output_type": "execute_result"
    }
   ],
   "source": [
    "type(9.6)"
   ]
  },
  {
   "cell_type": "code",
   "execution_count": 21,
   "id": "78508a68",
   "metadata": {},
   "outputs": [
    {
     "data": {
      "text/plain": [
       "float"
      ]
     },
     "execution_count": 21,
     "metadata": {},
     "output_type": "execute_result"
    }
   ],
   "source": [
    "type(9.0)"
   ]
  },
  {
   "cell_type": "code",
   "execution_count": 22,
   "id": "621dcff3",
   "metadata": {},
   "outputs": [
    {
     "data": {
      "text/plain": [
       "True"
      ]
     },
     "execution_count": 22,
     "metadata": {},
     "output_type": "execute_result"
    }
   ],
   "source": [
    "True"
   ]
  },
  {
   "cell_type": "code",
   "execution_count": 23,
   "id": "7b4254e7",
   "metadata": {},
   "outputs": [
    {
     "data": {
      "text/plain": [
       "False"
      ]
     },
     "execution_count": 23,
     "metadata": {},
     "output_type": "execute_result"
    }
   ],
   "source": [
    "False"
   ]
  },
  {
   "cell_type": "code",
   "execution_count": 24,
   "id": "c3ff2529",
   "metadata": {},
   "outputs": [
    {
     "data": {
      "text/plain": [
       "bool"
      ]
     },
     "execution_count": 24,
     "metadata": {},
     "output_type": "execute_result"
    }
   ],
   "source": [
    "type(True)"
   ]
  },
  {
   "cell_type": "code",
   "execution_count": 25,
   "id": "70fd9cff",
   "metadata": {},
   "outputs": [
    {
     "data": {
      "text/plain": [
       "'mohamed .....%%%%333'"
      ]
     },
     "execution_count": 25,
     "metadata": {},
     "output_type": "execute_result"
    }
   ],
   "source": [
    "\"mohamed .....%%%%333\""
   ]
  },
  {
   "cell_type": "code",
   "execution_count": 26,
   "id": "df569eb0",
   "metadata": {},
   "outputs": [
    {
     "data": {
      "text/plain": [
       "str"
      ]
     },
     "execution_count": 26,
     "metadata": {},
     "output_type": "execute_result"
    }
   ],
   "source": [
    "type(\"mohamed .....%%%%333\")"
   ]
  },
  {
   "cell_type": "code",
   "execution_count": 27,
   "id": "e8b6fc0b",
   "metadata": {},
   "outputs": [
    {
     "name": "stdout",
     "output_type": "stream",
     "text": [
      "6\n"
     ]
    }
   ],
   "source": [
    "print(6)"
   ]
  },
  {
   "cell_type": "code",
   "execution_count": 28,
   "id": "3cd39205",
   "metadata": {},
   "outputs": [
    {
     "name": "stdout",
     "output_type": "stream",
     "text": [
      "mohamed .....%%%%333\n"
     ]
    }
   ],
   "source": [
    "print(\"mohamed .....%%%%333\")"
   ]
  },
  {
   "cell_type": "code",
   "execution_count": 29,
   "id": "d93bd806",
   "metadata": {},
   "outputs": [],
   "source": [
    "x=6"
   ]
  },
  {
   "cell_type": "code",
   "execution_count": 30,
   "id": "45b62c13",
   "metadata": {},
   "outputs": [],
   "source": [
    "y=7"
   ]
  },
  {
   "cell_type": "code",
   "execution_count": 31,
   "id": "8b55ae76",
   "metadata": {},
   "outputs": [
    {
     "data": {
      "text/plain": [
       "13"
      ]
     },
     "execution_count": 31,
     "metadata": {},
     "output_type": "execute_result"
    }
   ],
   "source": [
    "x+y"
   ]
  },
  {
   "cell_type": "code",
   "execution_count": 32,
   "id": "dab2c161",
   "metadata": {},
   "outputs": [
    {
     "data": {
      "text/plain": [
       "11"
      ]
     },
     "execution_count": 32,
     "metadata": {},
     "output_type": "execute_result"
    }
   ],
   "source": [
    "3+8"
   ]
  },
  {
   "cell_type": "code",
   "execution_count": 33,
   "id": "351ab063",
   "metadata": {},
   "outputs": [
    {
     "data": {
      "text/plain": [
       "-3"
      ]
     },
     "execution_count": 33,
     "metadata": {},
     "output_type": "execute_result"
    }
   ],
   "source": [
    "4-7"
   ]
  },
  {
   "cell_type": "code",
   "execution_count": 36,
   "id": "56fa99c6",
   "metadata": {},
   "outputs": [
    {
     "data": {
      "text/plain": [
       "3"
      ]
     },
     "execution_count": 36,
     "metadata": {},
     "output_type": "execute_result"
    }
   ],
   "source": [
    "3*7\n",
    "2+9\n",
    "3*7\n",
    "3"
   ]
  },
  {
   "cell_type": "code",
   "execution_count": 37,
   "id": "109515f4",
   "metadata": {},
   "outputs": [
    {
     "data": {
      "text/plain": [
       "0.625"
      ]
     },
     "execution_count": 37,
     "metadata": {},
     "output_type": "execute_result"
    }
   ],
   "source": [
    "5/8"
   ]
  },
  {
   "cell_type": "markdown",
   "id": "8d8a4b68",
   "metadata": {},
   "source": [
    "#### "
   ]
  },
  {
   "cell_type": "code",
   "execution_count": 38,
   "id": "cf033074",
   "metadata": {},
   "outputs": [
    {
     "data": {
      "text/plain": [
       "2.0"
      ]
     },
     "execution_count": 38,
     "metadata": {},
     "output_type": "execute_result"
    }
   ],
   "source": [
    "8/4"
   ]
  },
  {
   "cell_type": "code",
   "execution_count": 39,
   "id": "5b9f28d3",
   "metadata": {},
   "outputs": [
    {
     "data": {
      "text/plain": [
       "25"
      ]
     },
     "execution_count": 39,
     "metadata": {},
     "output_type": "execute_result"
    }
   ],
   "source": [
    "5**2"
   ]
  },
  {
   "cell_type": "code",
   "execution_count": 40,
   "id": "ca0d6338",
   "metadata": {},
   "outputs": [],
   "source": [
    "x='Mohamed'"
   ]
  },
  {
   "cell_type": "code",
   "execution_count": 41,
   "id": "92cde8b8",
   "metadata": {},
   "outputs": [
    {
     "data": {
      "text/plain": [
       "'Mohamed'"
      ]
     },
     "execution_count": 41,
     "metadata": {},
     "output_type": "execute_result"
    }
   ],
   "source": [
    "x"
   ]
  },
  {
   "cell_type": "code",
   "execution_count": 42,
   "id": "ee912230",
   "metadata": {},
   "outputs": [
    {
     "data": {
      "text/plain": [
       "1"
      ]
     },
     "execution_count": 42,
     "metadata": {},
     "output_type": "execute_result"
    }
   ],
   "source": [
    "6//4"
   ]
  },
  {
   "cell_type": "code",
   "execution_count": 45,
   "id": "25cacf43",
   "metadata": {},
   "outputs": [
    {
     "data": {
      "text/plain": [
       "0"
      ]
     },
     "execution_count": 45,
     "metadata": {},
     "output_type": "execute_result"
    }
   ],
   "source": [
    "8%4"
   ]
  },
  {
   "cell_type": "code",
   "execution_count": 44,
   "id": "7afaf4b1",
   "metadata": {},
   "outputs": [
    {
     "data": {
      "text/plain": [
       "1.6"
      ]
     },
     "execution_count": 44,
     "metadata": {},
     "output_type": "execute_result"
    }
   ],
   "source": [
    "8/5"
   ]
  },
  {
   "cell_type": "code",
   "execution_count": 46,
   "id": "51db84c7",
   "metadata": {},
   "outputs": [],
   "source": [
    "x=9"
   ]
  },
  {
   "cell_type": "code",
   "execution_count": 47,
   "id": "e4435b98",
   "metadata": {},
   "outputs": [
    {
     "data": {
      "text/plain": [
       "1"
      ]
     },
     "execution_count": 47,
     "metadata": {},
     "output_type": "execute_result"
    }
   ],
   "source": [
    "x%2"
   ]
  },
  {
   "cell_type": "markdown",
   "id": "56cbdcf6",
   "metadata": {},
   "source": [
    "#### ()\n",
    "#### **\n",
    "#### *,/,//,%\n",
    "#### +,-"
   ]
  },
  {
   "cell_type": "code",
   "execution_count": 49,
   "id": "4d4fac8d",
   "metadata": {},
   "outputs": [
    {
     "data": {
      "text/plain": [
       "94.5"
      ]
     },
     "execution_count": 49,
     "metadata": {},
     "output_type": "execute_result"
    }
   ],
   "source": [
    "(9*5/6)+8*12-9"
   ]
  },
  {
   "cell_type": "code",
   "execution_count": 50,
   "id": "fe3d3e1e",
   "metadata": {},
   "outputs": [],
   "source": [
    "x=9\n",
    "y=7\n",
    "z=12\n",
    "d=8"
   ]
  },
  {
   "cell_type": "code",
   "execution_count": 52,
   "id": "6e1ac18b",
   "metadata": {},
   "outputs": [
    {
     "data": {
      "text/plain": [
       "92.25"
      ]
     },
     "execution_count": 52,
     "metadata": {},
     "output_type": "execute_result"
    }
   ],
   "source": [
    "(x*y/z)+d*z-x"
   ]
  },
  {
   "cell_type": "code",
   "execution_count": 61,
   "id": "85727bf5",
   "metadata": {},
   "outputs": [
    {
     "data": {
      "text/plain": [
       "'\\ncomment\\ncc\\nssd\\nsdfsdf\\n\\n'"
      ]
     },
     "execution_count": 61,
     "metadata": {},
     "output_type": "execute_result"
    }
   ],
   "source": [
    "x=9*z#x equal the mult of z and 9\n",
    "#comment!!!\n",
    "x=9\n",
    "z=9*x*77\n",
    "x=9/2\n",
    "'''\n",
    "comment\n",
    "cc\n",
    "ssd\n",
    "sdfsdf\n",
    "\n",
    "'''\n"
   ]
  },
  {
   "cell_type": "code",
   "execution_count": 65,
   "id": "73062611",
   "metadata": {},
   "outputs": [
    {
     "name": "stdout",
     "output_type": "stream",
     "text": [
      "Area of the circle=  200.96\n",
      "Area=  99\n",
      "circ=  40\n",
      "volume=  17424\n"
     ]
    }
   ],
   "source": [
    "r=8\n",
    "#Area of the circle ==> Area=3.14*r**2\n",
    "Area=3.14*r**2\n",
    "print('Area of the circle= ',Area)\n",
    "h=9\n",
    "w=11\n",
    "#Area and circumference==> Area=h*w,,Circ=(h+W)*2\n",
    "Area_=h*w\n",
    "cir=(h+w)*2\n",
    "print('Area= ',Area_)\n",
    "print('circ= ',cir)\n",
    "\n",
    "h=9\n",
    "w=88\n",
    "d=22\n",
    "#volume==> Volume=h*w*d\n",
    "volume=h*w*d\n",
    "print('volume= ',volume)\n",
    "\n",
    "\n"
   ]
  },
  {
   "cell_type": "code",
   "execution_count": 66,
   "id": "fa9015c8",
   "metadata": {},
   "outputs": [
    {
     "ename": "NameError",
     "evalue": "name 'Print' is not defined",
     "output_type": "error",
     "traceback": [
      "\u001b[1;31m---------------------------------------------------------------------------\u001b[0m",
      "\u001b[1;31mNameError\u001b[0m                                 Traceback (most recent call last)",
      "\u001b[1;32m<ipython-input-66-3e40c66b1e71>\u001b[0m in \u001b[0;36m<module>\u001b[1;34m\u001b[0m\n\u001b[1;32m----> 1\u001b[1;33m \u001b[0mPrint\u001b[0m\u001b[1;33m\u001b[0m\u001b[1;33m\u001b[0m\u001b[0m\n\u001b[0m",
      "\u001b[1;31mNameError\u001b[0m: name 'Print' is not defined"
     ]
    }
   ],
   "source": [
    "Print"
   ]
  },
  {
   "cell_type": "code",
   "execution_count": 67,
   "id": "c66e0ffe",
   "metadata": {},
   "outputs": [
    {
     "data": {
      "text/plain": [
       "88"
      ]
     },
     "execution_count": 67,
     "metadata": {},
     "output_type": "execute_result"
    }
   ],
   "source": [
    "w"
   ]
  },
  {
   "cell_type": "code",
   "execution_count": 68,
   "id": "9ab19045",
   "metadata": {},
   "outputs": [
    {
     "ename": "NameError",
     "evalue": "name 'q' is not defined",
     "output_type": "error",
     "traceback": [
      "\u001b[1;31m---------------------------------------------------------------------------\u001b[0m",
      "\u001b[1;31mNameError\u001b[0m                                 Traceback (most recent call last)",
      "\u001b[1;32m<ipython-input-68-e222fcdf3350>\u001b[0m in \u001b[0;36m<module>\u001b[1;34m\u001b[0m\n\u001b[1;32m----> 1\u001b[1;33m \u001b[0mq\u001b[0m\u001b[1;33m\u001b[0m\u001b[1;33m\u001b[0m\u001b[0m\n\u001b[0m",
      "\u001b[1;31mNameError\u001b[0m: name 'q' is not defined"
     ]
    }
   ],
   "source": [
    "q"
   ]
  },
  {
   "cell_type": "code",
   "execution_count": 70,
   "id": "cb517963",
   "metadata": {},
   "outputs": [
    {
     "data": {
      "text/plain": [
       "200.96"
      ]
     },
     "execution_count": 70,
     "metadata": {},
     "output_type": "execute_result"
    }
   ],
   "source": [
    "Area"
   ]
  },
  {
   "cell_type": "code",
   "execution_count": 84,
   "id": "2ae171a5",
   "metadata": {},
   "outputs": [
    {
     "name": "stdout",
     "output_type": "stream",
     "text": [
      "Area= 200.96\n"
     ]
    }
   ],
   "source": [
    "print(f'Area= {Area}')"
   ]
  },
  {
   "cell_type": "code",
   "execution_count": 73,
   "id": "615070f8",
   "metadata": {},
   "outputs": [
    {
     "name": "stdout",
     "output_type": "stream",
     "text": [
      "Area= Area\n"
     ]
    }
   ],
   "source": [
    "print('Area= Area')"
   ]
  },
  {
   "cell_type": "code",
   "execution_count": 74,
   "id": "e5687a14",
   "metadata": {},
   "outputs": [
    {
     "name": "stdout",
     "output_type": "stream",
     "text": [
      "Area=  200.96\n"
     ]
    }
   ],
   "source": [
    "print('Area= ',Area)"
   ]
  },
  {
   "cell_type": "code",
   "execution_count": 75,
   "id": "6e9cf51c",
   "metadata": {},
   "outputs": [
    {
     "data": {
      "text/plain": [
       "'Mohamed'"
      ]
     },
     "execution_count": 75,
     "metadata": {},
     "output_type": "execute_result"
    }
   ],
   "source": [
    "'Mohamed'"
   ]
  },
  {
   "cell_type": "code",
   "execution_count": 77,
   "id": "039dbe1c",
   "metadata": {},
   "outputs": [
    {
     "data": {
      "text/plain": [
       "'Mohamed Gamal'"
      ]
     },
     "execution_count": 77,
     "metadata": {},
     "output_type": "execute_result"
    }
   ],
   "source": [
    "'Mohamed'+' Gamal'"
   ]
  },
  {
   "cell_type": "code",
   "execution_count": 78,
   "id": "2f188125",
   "metadata": {},
   "outputs": [
    {
     "data": {
      "text/plain": [
       "'Area 200.96'"
      ]
     },
     "execution_count": 78,
     "metadata": {},
     "output_type": "execute_result"
    }
   ],
   "source": [
    "'Area '+str(Area)"
   ]
  },
  {
   "cell_type": "code",
   "execution_count": 79,
   "id": "a89bcc78",
   "metadata": {},
   "outputs": [
    {
     "name": "stdout",
     "output_type": "stream",
     "text": [
      "Area= 200.96\n"
     ]
    }
   ],
   "source": [
    "print('Area= '+str(Area))"
   ]
  },
  {
   "cell_type": "code",
   "execution_count": 82,
   "id": "0945c3a5",
   "metadata": {},
   "outputs": [
    {
     "name": "stdout",
     "output_type": "stream",
     "text": [
      "6.88980\n"
     ]
    }
   ],
   "source": [
    "print('%.5f'%6.8898)"
   ]
  },
  {
   "cell_type": "code",
   "execution_count": 85,
   "id": "6cdd6c51",
   "metadata": {},
   "outputs": [
    {
     "name": "stdout",
     "output_type": "stream",
     "text": [
      "area\tnnnn\n"
     ]
    }
   ],
   "source": [
    "print('area\\tnnnn')"
   ]
  },
  {
   "cell_type": "code",
   "execution_count": 86,
   "id": "776e55fe",
   "metadata": {},
   "outputs": [
    {
     "name": "stdout",
     "output_type": "stream",
     "text": [
      "mohamed gamal\n",
      "ccccccccccccccccccc\n"
     ]
    }
   ],
   "source": [
    "print('mohamed gamal\\nccccccccccccccccccc')"
   ]
  },
  {
   "cell_type": "code",
   "execution_count": 89,
   "id": "a8075f2b",
   "metadata": {},
   "outputs": [
    {
     "name": "stdout",
     "output_type": "stream",
     "text": [
      "arrrr 8 \n",
      "\n",
      "hhhh\n"
     ]
    }
   ],
   "source": [
    "print('arrrr',8,'\\n\\nhhhh')"
   ]
  },
  {
   "cell_type": "code",
   "execution_count": 90,
   "id": "aa231f49",
   "metadata": {},
   "outputs": [
    {
     "name": "stdout",
     "output_type": "stream",
     "text": [
      "Area of the circle:\t200.96\n",
      "area:\t99\n",
      "volume:\t17424\n"
     ]
    }
   ],
   "source": [
    "print(f'Area of the circle:\\t{Area}\\narea:\\t{Area_}\\nvolume:\\t{volume}')"
   ]
  },
  {
   "cell_type": "code",
   "execution_count": 94,
   "id": "3319422d",
   "metadata": {},
   "outputs": [
    {
     "data": {
      "text/plain": [
       "\"let's play\""
      ]
     },
     "execution_count": 94,
     "metadata": {},
     "output_type": "execute_result"
    }
   ],
   "source": [
    "x=\"let's play\"\n",
    "x"
   ]
  },
  {
   "cell_type": "code",
   "execution_count": 95,
   "id": "2c4115a1",
   "metadata": {},
   "outputs": [
    {
     "ename": "SyntaxError",
     "evalue": "invalid syntax (<ipython-input-95-1b23afbc86c2>, line 1)",
     "output_type": "error",
     "traceback": [
      "\u001b[1;36m  File \u001b[1;32m\"<ipython-input-95-1b23afbc86c2>\"\u001b[1;36m, line \u001b[1;32m1\u001b[0m\n\u001b[1;33m    x=\"my name is \"Mohamed\" llllll\"\u001b[0m\n\u001b[1;37m                   ^\u001b[0m\n\u001b[1;31mSyntaxError\u001b[0m\u001b[1;31m:\u001b[0m invalid syntax\n"
     ]
    }
   ],
   "source": [
    "x=\"my name is \"Mohamed\" llllll\""
   ]
  },
  {
   "cell_type": "code",
   "execution_count": 96,
   "id": "45c64dbf",
   "metadata": {},
   "outputs": [
    {
     "data": {
      "text/plain": [
       "\"let's play\""
      ]
     },
     "execution_count": 96,
     "metadata": {},
     "output_type": "execute_result"
    }
   ],
   "source": [
    "x='let\\'s play'\n",
    "x"
   ]
  },
  {
   "cell_type": "code",
   "execution_count": 97,
   "id": "65b6d765",
   "metadata": {},
   "outputs": [],
   "source": [
    "x=\"my name is \\\"Mohamed\\\" llllll\""
   ]
  },
  {
   "cell_type": "code",
   "execution_count": 98,
   "id": "d3df9302",
   "metadata": {},
   "outputs": [
    {
     "data": {
      "text/plain": [
       "'my name is \"Mohamed\" llllll'"
      ]
     },
     "execution_count": 98,
     "metadata": {},
     "output_type": "execute_result"
    }
   ],
   "source": [
    "x"
   ]
  },
  {
   "cell_type": "code",
   "execution_count": 99,
   "id": "e4a2282d",
   "metadata": {},
   "outputs": [],
   "source": [
    "x='mmmm\\hhhhh'"
   ]
  },
  {
   "cell_type": "code",
   "execution_count": 100,
   "id": "3c3610c7",
   "metadata": {},
   "outputs": [
    {
     "data": {
      "text/plain": [
       "'mmmm\\\\hhhhh'"
      ]
     },
     "execution_count": 100,
     "metadata": {},
     "output_type": "execute_result"
    }
   ],
   "source": [
    "x"
   ]
  },
  {
   "cell_type": "code",
   "execution_count": 118,
   "id": "54db9da6",
   "metadata": {},
   "outputs": [],
   "source": [
    "x=r'mmmm \\ hhhh'"
   ]
  },
  {
   "cell_type": "code",
   "execution_count": 119,
   "id": "c6897d14",
   "metadata": {},
   "outputs": [
    {
     "data": {
      "text/plain": [
       "'mmmm \\\\ hhhh'"
      ]
     },
     "execution_count": 119,
     "metadata": {},
     "output_type": "execute_result"
    }
   ],
   "source": [
    "x"
   ]
  },
  {
   "cell_type": "code",
   "execution_count": 120,
   "id": "f402955d",
   "metadata": {},
   "outputs": [
    {
     "name": "stdout",
     "output_type": "stream",
     "text": [
      "kkkkk\\mmmm\n"
     ]
    }
   ],
   "source": [
    "print('kkkkk\\mmmm')"
   ]
  },
  {
   "cell_type": "markdown",
   "id": "863ee52f",
   "metadata": {},
   "source": [
    "## Variable naming"
   ]
  },
  {
   "cell_type": "code",
   "execution_count": 121,
   "id": "556a554c",
   "metadata": {},
   "outputs": [
    {
     "ename": "SyntaxError",
     "evalue": "invalid syntax (<ipython-input-121-d3408014241e>, line 1)",
     "output_type": "error",
     "traceback": [
      "\u001b[1;36m  File \u001b[1;32m\"<ipython-input-121-d3408014241e>\"\u001b[1;36m, line \u001b[1;32m1\u001b[0m\n\u001b[1;33m    2var=9\u001b[0m\n\u001b[1;37m     ^\u001b[0m\n\u001b[1;31mSyntaxError\u001b[0m\u001b[1;31m:\u001b[0m invalid syntax\n"
     ]
    }
   ],
   "source": [
    "2var=9"
   ]
  },
  {
   "cell_type": "code",
   "execution_count": 122,
   "id": "1fe560eb",
   "metadata": {},
   "outputs": [],
   "source": [
    "var2=9"
   ]
  },
  {
   "cell_type": "code",
   "execution_count": 123,
   "id": "f76e21d2",
   "metadata": {},
   "outputs": [
    {
     "ename": "SyntaxError",
     "evalue": "invalid syntax (<ipython-input-123-9ebfcf1a22e9>, line 1)",
     "output_type": "error",
     "traceback": [
      "\u001b[1;36m  File \u001b[1;32m\"<ipython-input-123-9ebfcf1a22e9>\"\u001b[1;36m, line \u001b[1;32m1\u001b[0m\n\u001b[1;33m    var oo=9\u001b[0m\n\u001b[1;37m        ^\u001b[0m\n\u001b[1;31mSyntaxError\u001b[0m\u001b[1;31m:\u001b[0m invalid syntax\n"
     ]
    }
   ],
   "source": [
    "var oo=9"
   ]
  },
  {
   "cell_type": "code",
   "execution_count": 124,
   "id": "5bf207f5",
   "metadata": {},
   "outputs": [],
   "source": [
    "var_oo=9"
   ]
  },
  {
   "cell_type": "code",
   "execution_count": 125,
   "id": "ee94be0a",
   "metadata": {},
   "outputs": [
    {
     "ename": "SyntaxError",
     "evalue": "cannot assign to operator (<ipython-input-125-0dee1b7f5af3>, line 1)",
     "output_type": "error",
     "traceback": [
      "\u001b[1;36m  File \u001b[1;32m\"<ipython-input-125-0dee1b7f5af3>\"\u001b[1;36m, line \u001b[1;32m1\u001b[0m\n\u001b[1;33m    var-oo=9\u001b[0m\n\u001b[1;37m    ^\u001b[0m\n\u001b[1;31mSyntaxError\u001b[0m\u001b[1;31m:\u001b[0m cannot assign to operator\n"
     ]
    }
   ],
   "source": [
    "var-oo=9"
   ]
  },
  {
   "cell_type": "code",
   "execution_count": 126,
   "id": "ebb6134f",
   "metadata": {},
   "outputs": [
    {
     "ename": "SyntaxError",
     "evalue": "invalid syntax (<ipython-input-126-b4af9540a8b4>, line 1)",
     "output_type": "error",
     "traceback": [
      "\u001b[1;36m  File \u001b[1;32m\"<ipython-input-126-b4af9540a8b4>\"\u001b[1;36m, line \u001b[1;32m1\u001b[0m\n\u001b[1;33m    @#$~!%^&*()>?\u001b[0m\n\u001b[1;37m     ^\u001b[0m\n\u001b[1;31mSyntaxError\u001b[0m\u001b[1;31m:\u001b[0m invalid syntax\n"
     ]
    }
   ],
   "source": [
    "@#$~!%^&*()>?"
   ]
  },
  {
   "cell_type": "code",
   "execution_count": 127,
   "id": "9eff8031",
   "metadata": {},
   "outputs": [],
   "source": [
    "name='Mohamed'\n",
    "name='Ahmed'"
   ]
  },
  {
   "cell_type": "code",
   "execution_count": 128,
   "id": "f4a4f709",
   "metadata": {},
   "outputs": [
    {
     "data": {
      "text/plain": [
       "'Ahmed'"
      ]
     },
     "execution_count": 128,
     "metadata": {},
     "output_type": "execute_result"
    }
   ],
   "source": [
    "name"
   ]
  },
  {
   "cell_type": "markdown",
   "id": "1417e6b8",
   "metadata": {},
   "source": [
    "## Bool"
   ]
  },
  {
   "cell_type": "code",
   "execution_count": 129,
   "id": "86da2c9a",
   "metadata": {},
   "outputs": [],
   "source": [
    "x=9"
   ]
  },
  {
   "cell_type": "code",
   "execution_count": 130,
   "id": "286e627f",
   "metadata": {},
   "outputs": [
    {
     "data": {
      "text/plain": [
       "False"
      ]
     },
     "execution_count": 130,
     "metadata": {},
     "output_type": "execute_result"
    }
   ],
   "source": [
    "x==11"
   ]
  },
  {
   "cell_type": "code",
   "execution_count": 131,
   "id": "077318f4",
   "metadata": {},
   "outputs": [
    {
     "data": {
      "text/plain": [
       "True"
      ]
     },
     "execution_count": 131,
     "metadata": {},
     "output_type": "execute_result"
    }
   ],
   "source": [
    "x!=7"
   ]
  },
  {
   "cell_type": "code",
   "execution_count": 132,
   "id": "58da28a9",
   "metadata": {},
   "outputs": [
    {
     "data": {
      "text/plain": [
       "False"
      ]
     },
     "execution_count": 132,
     "metadata": {},
     "output_type": "execute_result"
    }
   ],
   "source": [
    "x>9"
   ]
  },
  {
   "cell_type": "code",
   "execution_count": 133,
   "id": "ec0e377f",
   "metadata": {},
   "outputs": [
    {
     "data": {
      "text/plain": [
       "False"
      ]
     },
     "execution_count": 133,
     "metadata": {},
     "output_type": "execute_result"
    }
   ],
   "source": [
    "x<9"
   ]
  },
  {
   "cell_type": "code",
   "execution_count": 134,
   "id": "57bf93e6",
   "metadata": {},
   "outputs": [
    {
     "data": {
      "text/plain": [
       "True"
      ]
     },
     "execution_count": 134,
     "metadata": {},
     "output_type": "execute_result"
    }
   ],
   "source": [
    "x>=9"
   ]
  },
  {
   "cell_type": "code",
   "execution_count": 135,
   "id": "6de08540",
   "metadata": {},
   "outputs": [
    {
     "data": {
      "text/plain": [
       "False"
      ]
     },
     "execution_count": 135,
     "metadata": {},
     "output_type": "execute_result"
    }
   ],
   "source": [
    "x<=7"
   ]
  },
  {
   "cell_type": "code",
   "execution_count": 136,
   "id": "6046ff56",
   "metadata": {},
   "outputs": [
    {
     "data": {
      "text/plain": [
       "False"
      ]
     },
     "execution_count": 136,
     "metadata": {},
     "output_type": "execute_result"
    }
   ],
   "source": [
    "x==11 or x==8"
   ]
  },
  {
   "cell_type": "code",
   "execution_count": 138,
   "id": "0693b131",
   "metadata": {},
   "outputs": [
    {
     "data": {
      "text/plain": [
       "False"
      ]
     },
     "execution_count": 138,
     "metadata": {},
     "output_type": "execute_result"
    }
   ],
   "source": [
    "True and False"
   ]
  },
  {
   "cell_type": "code",
   "execution_count": 139,
   "id": "d5101369",
   "metadata": {},
   "outputs": [
    {
     "data": {
      "text/plain": [
       "False"
      ]
     },
     "execution_count": 139,
     "metadata": {},
     "output_type": "execute_result"
    }
   ],
   "source": [
    "x==9 and x==8 #True and False"
   ]
  },
  {
   "cell_type": "code",
   "execution_count": 141,
   "id": "248fa6da",
   "metadata": {},
   "outputs": [
    {
     "data": {
      "text/plain": [
       "True"
      ]
     },
     "execution_count": 141,
     "metadata": {},
     "output_type": "execute_result"
    }
   ],
   "source": [
    "x==9 and x!=8 #True and True"
   ]
  },
  {
   "cell_type": "code",
   "execution_count": 142,
   "id": "00c3ed70",
   "metadata": {},
   "outputs": [
    {
     "data": {
      "text/plain": [
       "True"
      ]
     },
     "execution_count": 142,
     "metadata": {},
     "output_type": "execute_result"
    }
   ],
   "source": [
    "True and True "
   ]
  },
  {
   "cell_type": "code",
   "execution_count": 143,
   "id": "0138ddea",
   "metadata": {},
   "outputs": [
    {
     "data": {
      "text/plain": [
       "False"
      ]
     },
     "execution_count": 143,
     "metadata": {},
     "output_type": "execute_result"
    }
   ],
   "source": [
    "True and False"
   ]
  },
  {
   "cell_type": "code",
   "execution_count": 144,
   "id": "9cb991e3",
   "metadata": {},
   "outputs": [
    {
     "data": {
      "text/plain": [
       "False"
      ]
     },
     "execution_count": 144,
     "metadata": {},
     "output_type": "execute_result"
    }
   ],
   "source": [
    "False and True"
   ]
  },
  {
   "cell_type": "code",
   "execution_count": 146,
   "id": "a9cc7ff4",
   "metadata": {},
   "outputs": [
    {
     "data": {
      "text/plain": [
       "False"
      ]
     },
     "execution_count": 146,
     "metadata": {},
     "output_type": "execute_result"
    }
   ],
   "source": [
    "False & False"
   ]
  },
  {
   "cell_type": "code",
   "execution_count": 147,
   "id": "2b0fdcc8",
   "metadata": {},
   "outputs": [
    {
     "data": {
      "text/plain": [
       "True"
      ]
     },
     "execution_count": 147,
     "metadata": {},
     "output_type": "execute_result"
    }
   ],
   "source": [
    "True or False"
   ]
  },
  {
   "cell_type": "code",
   "execution_count": 148,
   "id": "c14c192c",
   "metadata": {},
   "outputs": [
    {
     "data": {
      "text/plain": [
       "True"
      ]
     },
     "execution_count": 148,
     "metadata": {},
     "output_type": "execute_result"
    }
   ],
   "source": [
    "False or True"
   ]
  },
  {
   "cell_type": "code",
   "execution_count": 149,
   "id": "7535dda7",
   "metadata": {},
   "outputs": [
    {
     "data": {
      "text/plain": [
       "True"
      ]
     },
     "execution_count": 149,
     "metadata": {},
     "output_type": "execute_result"
    }
   ],
   "source": [
    "x==9 or x==7"
   ]
  },
  {
   "cell_type": "code",
   "execution_count": 150,
   "id": "3a430913",
   "metadata": {},
   "outputs": [
    {
     "data": {
      "text/plain": [
       "False"
      ]
     },
     "execution_count": 150,
     "metadata": {},
     "output_type": "execute_result"
    }
   ],
   "source": [
    "False or False"
   ]
  },
  {
   "cell_type": "code",
   "execution_count": 151,
   "id": "69cdcfeb",
   "metadata": {},
   "outputs": [
    {
     "data": {
      "text/plain": [
       "False"
      ]
     },
     "execution_count": 151,
     "metadata": {},
     "output_type": "execute_result"
    }
   ],
   "source": [
    "not x==9"
   ]
  },
  {
   "cell_type": "code",
   "execution_count": 152,
   "id": "e5049639",
   "metadata": {},
   "outputs": [
    {
     "ename": "SyntaxError",
     "evalue": "invalid syntax (<ipython-input-152-9e0f6f55b38f>, line 1)",
     "output_type": "error",
     "traceback": [
      "\u001b[1;36m  File \u001b[1;32m\"<ipython-input-152-9e0f6f55b38f>\"\u001b[1;36m, line \u001b[1;32m1\u001b[0m\n\u001b[1;33m    not True False\u001b[0m\n\u001b[1;37m             ^\u001b[0m\n\u001b[1;31mSyntaxError\u001b[0m\u001b[1;31m:\u001b[0m invalid syntax\n"
     ]
    }
   ],
   "source": [
    "not True False"
   ]
  },
  {
   "cell_type": "code",
   "execution_count": 153,
   "id": "c7810655",
   "metadata": {},
   "outputs": [
    {
     "data": {
      "text/plain": [
       "True"
      ]
     },
     "execution_count": 153,
     "metadata": {},
     "output_type": "execute_result"
    }
   ],
   "source": [
    "True and False or True"
   ]
  },
  {
   "cell_type": "code",
   "execution_count": 159,
   "id": "04e2ff3f",
   "metadata": {},
   "outputs": [
    {
     "data": {
      "text/plain": [
       "True"
      ]
     },
     "execution_count": 159,
     "metadata": {},
     "output_type": "execute_result"
    }
   ],
   "source": [
    "True and (True or False) and True"
   ]
  },
  {
   "cell_type": "code",
   "execution_count": 158,
   "id": "9237251c",
   "metadata": {},
   "outputs": [
    {
     "data": {
      "text/plain": [
       "True"
      ]
     },
     "execution_count": 158,
     "metadata": {},
     "output_type": "execute_result"
    }
   ],
   "source": [
    "True and True or False and True"
   ]
  },
  {
   "cell_type": "code",
   "execution_count": 161,
   "id": "e13e201b",
   "metadata": {},
   "outputs": [
    {
     "data": {
      "text/plain": [
       "False"
      ]
     },
     "execution_count": 161,
     "metadata": {},
     "output_type": "execute_result"
    }
   ],
   "source": [
    "not(True or False)"
   ]
  },
  {
   "cell_type": "code",
   "execution_count": 162,
   "id": "c6f5074b",
   "metadata": {},
   "outputs": [
    {
     "data": {
      "text/plain": [
       "False"
      ]
     },
     "execution_count": 162,
     "metadata": {},
     "output_type": "execute_result"
    }
   ],
   "source": [
    "not True or False"
   ]
  },
  {
   "cell_type": "code",
   "execution_count": 163,
   "id": "dd9f4c67",
   "metadata": {},
   "outputs": [],
   "source": [
    "x=8==8"
   ]
  },
  {
   "cell_type": "code",
   "execution_count": 164,
   "id": "dbb87030",
   "metadata": {},
   "outputs": [
    {
     "data": {
      "text/plain": [
       "True"
      ]
     },
     "execution_count": 164,
     "metadata": {},
     "output_type": "execute_result"
    }
   ],
   "source": [
    "x"
   ]
  },
  {
   "cell_type": "code",
   "execution_count": 166,
   "id": "b74c49b9",
   "metadata": {},
   "outputs": [],
   "source": [
    "x=9\n",
    "y=8"
   ]
  },
  {
   "cell_type": "code",
   "execution_count": 167,
   "id": "a68512c9",
   "metadata": {},
   "outputs": [
    {
     "data": {
      "text/plain": [
       "False"
      ]
     },
     "execution_count": 167,
     "metadata": {},
     "output_type": "execute_result"
    }
   ],
   "source": [
    "x==9 and y==77"
   ]
  },
  {
   "cell_type": "markdown",
   "id": "0ff4022a",
   "metadata": {},
   "source": [
    "## String"
   ]
  },
  {
   "cell_type": "code",
   "execution_count": 168,
   "id": "e689b998",
   "metadata": {},
   "outputs": [
    {
     "data": {
      "text/plain": [
       "str"
      ]
     },
     "execution_count": 168,
     "metadata": {},
     "output_type": "execute_result"
    }
   ],
   "source": [
    "type('nnnnn')"
   ]
  },
  {
   "cell_type": "code",
   "execution_count": 169,
   "id": "f737e41f",
   "metadata": {},
   "outputs": [
    {
     "data": {
      "text/plain": [
       "str"
      ]
     },
     "execution_count": 169,
     "metadata": {},
     "output_type": "execute_result"
    }
   ],
   "source": [
    "type(\"yyyyyy\")"
   ]
  },
  {
   "cell_type": "code",
   "execution_count": 170,
   "id": "cb80ac4f",
   "metadata": {},
   "outputs": [],
   "source": [
    "name='Mohamed'"
   ]
  },
  {
   "cell_type": "code",
   "execution_count": 171,
   "id": "df3bc9ec",
   "metadata": {},
   "outputs": [
    {
     "data": {
      "text/plain": [
       "'Mohamed'"
      ]
     },
     "execution_count": 171,
     "metadata": {},
     "output_type": "execute_result"
    }
   ],
   "source": [
    "name"
   ]
  },
  {
   "cell_type": "code",
   "execution_count": 172,
   "id": "7bebd425",
   "metadata": {},
   "outputs": [
    {
     "data": {
      "text/plain": [
       "str"
      ]
     },
     "execution_count": 172,
     "metadata": {},
     "output_type": "execute_result"
    }
   ],
   "source": [
    "type(name)"
   ]
  },
  {
   "cell_type": "code",
   "execution_count": 173,
   "id": "bf103c28",
   "metadata": {},
   "outputs": [
    {
     "data": {
      "text/plain": [
       "'nnnnn\"mm\"kkkkkk'"
      ]
     },
     "execution_count": 173,
     "metadata": {},
     "output_type": "execute_result"
    }
   ],
   "source": [
    "\"nnnnn\\\"mm\\\"kkkkkk\""
   ]
  },
  {
   "cell_type": "code",
   "execution_count": 174,
   "id": "783b63d8",
   "metadata": {},
   "outputs": [
    {
     "data": {
      "text/plain": [
       "'Mohamed'"
      ]
     },
     "execution_count": 174,
     "metadata": {},
     "output_type": "execute_result"
    }
   ],
   "source": [
    "name"
   ]
  },
  {
   "cell_type": "code",
   "execution_count": 175,
   "id": "8d96d70b",
   "metadata": {},
   "outputs": [
    {
     "data": {
      "text/plain": [
       "'M'"
      ]
     },
     "execution_count": 175,
     "metadata": {},
     "output_type": "execute_result"
    }
   ],
   "source": [
    "name[0]"
   ]
  },
  {
   "cell_type": "code",
   "execution_count": 176,
   "id": "8ec9db7a",
   "metadata": {},
   "outputs": [
    {
     "data": {
      "text/plain": [
       "'o'"
      ]
     },
     "execution_count": 176,
     "metadata": {},
     "output_type": "execute_result"
    }
   ],
   "source": [
    "name[1]"
   ]
  },
  {
   "cell_type": "code",
   "execution_count": 177,
   "id": "b04eb2dc",
   "metadata": {},
   "outputs": [
    {
     "data": {
      "text/plain": [
       "'m'"
      ]
     },
     "execution_count": 177,
     "metadata": {},
     "output_type": "execute_result"
    }
   ],
   "source": [
    "name[4]"
   ]
  },
  {
   "cell_type": "code",
   "execution_count": 178,
   "id": "83f88057",
   "metadata": {},
   "outputs": [
    {
     "data": {
      "text/plain": [
       "'Mohamed'"
      ]
     },
     "execution_count": 178,
     "metadata": {},
     "output_type": "execute_result"
    }
   ],
   "source": [
    "name"
   ]
  },
  {
   "cell_type": "code",
   "execution_count": 179,
   "id": "fad62b40",
   "metadata": {},
   "outputs": [
    {
     "ename": "TypeError",
     "evalue": "'str' object does not support item assignment",
     "output_type": "error",
     "traceback": [
      "\u001b[1;31m---------------------------------------------------------------------------\u001b[0m",
      "\u001b[1;31mTypeError\u001b[0m                                 Traceback (most recent call last)",
      "\u001b[1;32m<ipython-input-179-2cebce0ff364>\u001b[0m in \u001b[0;36m<module>\u001b[1;34m\u001b[0m\n\u001b[1;32m----> 1\u001b[1;33m \u001b[0mname\u001b[0m\u001b[1;33m[\u001b[0m\u001b[1;36m0\u001b[0m\u001b[1;33m]\u001b[0m\u001b[1;33m=\u001b[0m\u001b[1;34m'A'\u001b[0m\u001b[1;33m\u001b[0m\u001b[1;33m\u001b[0m\u001b[0m\n\u001b[0m",
      "\u001b[1;31mTypeError\u001b[0m: 'str' object does not support item assignment"
     ]
    }
   ],
   "source": [
    "name[0]='A'"
   ]
  },
  {
   "cell_type": "code",
   "execution_count": 180,
   "id": "bf216724",
   "metadata": {},
   "outputs": [
    {
     "data": {
      "text/plain": [
       "'Mohamed'"
      ]
     },
     "execution_count": 180,
     "metadata": {},
     "output_type": "execute_result"
    }
   ],
   "source": [
    "name"
   ]
  },
  {
   "cell_type": "code",
   "execution_count": 182,
   "id": "73b26b17",
   "metadata": {},
   "outputs": [
    {
     "data": {
      "text/plain": [
       "'oham'"
      ]
     },
     "execution_count": 182,
     "metadata": {},
     "output_type": "execute_result"
    }
   ],
   "source": [
    "name[1:5]"
   ]
  },
  {
   "cell_type": "code",
   "execution_count": 186,
   "id": "e0567a81",
   "metadata": {},
   "outputs": [],
   "source": [
    "name='A'+name[1:]"
   ]
  },
  {
   "cell_type": "code",
   "execution_count": 187,
   "id": "be1f00b0",
   "metadata": {},
   "outputs": [
    {
     "data": {
      "text/plain": [
       "'Aohamed'"
      ]
     },
     "execution_count": 187,
     "metadata": {},
     "output_type": "execute_result"
    }
   ],
   "source": [
    "name"
   ]
  },
  {
   "cell_type": "code",
   "execution_count": 188,
   "id": "26d800fe",
   "metadata": {},
   "outputs": [
    {
     "data": {
      "text/plain": [
       "'Aohaeed'"
      ]
     },
     "execution_count": 188,
     "metadata": {},
     "output_type": "execute_result"
    }
   ],
   "source": [
    "name.replace('m','e')"
   ]
  },
  {
   "cell_type": "code",
   "execution_count": 189,
   "id": "fb070ba0",
   "metadata": {},
   "outputs": [
    {
     "data": {
      "text/plain": [
       "'AohaMed'"
      ]
     },
     "execution_count": 189,
     "metadata": {},
     "output_type": "execute_result"
    }
   ],
   "source": [
    "name[:4]+'M'+name[5:]"
   ]
  },
  {
   "cell_type": "code",
   "execution_count": 190,
   "id": "26e3ffa2",
   "metadata": {},
   "outputs": [
    {
     "data": {
      "text/plain": [
       "'Aohamed'"
      ]
     },
     "execution_count": 190,
     "metadata": {},
     "output_type": "execute_result"
    }
   ],
   "source": [
    "name[:8]"
   ]
  },
  {
   "cell_type": "code",
   "execution_count": 191,
   "id": "85fa8d87",
   "metadata": {},
   "outputs": [
    {
     "data": {
      "text/plain": [
       "'ohamed'"
      ]
     },
     "execution_count": 191,
     "metadata": {},
     "output_type": "execute_result"
    }
   ],
   "source": [
    "name[1:]"
   ]
  },
  {
   "cell_type": "code",
   "execution_count": 192,
   "id": "f0095b18",
   "metadata": {},
   "outputs": [
    {
     "data": {
      "text/plain": [
       "'Aohamed'"
      ]
     },
     "execution_count": 192,
     "metadata": {},
     "output_type": "execute_result"
    }
   ],
   "source": [
    "name[:]"
   ]
  },
  {
   "cell_type": "code",
   "execution_count": 193,
   "id": "238c6f2b",
   "metadata": {},
   "outputs": [
    {
     "data": {
      "text/plain": [
       "'Aohamed'"
      ]
     },
     "execution_count": 193,
     "metadata": {},
     "output_type": "execute_result"
    }
   ],
   "source": [
    "name[:90]"
   ]
  },
  {
   "cell_type": "code",
   "execution_count": 194,
   "id": "c19be48b",
   "metadata": {},
   "outputs": [
    {
     "ename": "IndexError",
     "evalue": "string index out of range",
     "output_type": "error",
     "traceback": [
      "\u001b[1;31m---------------------------------------------------------------------------\u001b[0m",
      "\u001b[1;31mIndexError\u001b[0m                                Traceback (most recent call last)",
      "\u001b[1;32m<ipython-input-194-b66d28199059>\u001b[0m in \u001b[0;36m<module>\u001b[1;34m\u001b[0m\n\u001b[1;32m----> 1\u001b[1;33m \u001b[0mname\u001b[0m\u001b[1;33m[\u001b[0m\u001b[1;36m9\u001b[0m\u001b[1;33m]\u001b[0m\u001b[1;33m\u001b[0m\u001b[1;33m\u001b[0m\u001b[0m\n\u001b[0m",
      "\u001b[1;31mIndexError\u001b[0m: string index out of range"
     ]
    }
   ],
   "source": [
    "name[9]"
   ]
  },
  {
   "cell_type": "code",
   "execution_count": 195,
   "id": "d9b6ba63",
   "metadata": {},
   "outputs": [],
   "source": [
    "name='Mohamed Gamal'"
   ]
  },
  {
   "cell_type": "code",
   "execution_count": 196,
   "id": "ce71a2b6",
   "metadata": {},
   "outputs": [
    {
     "data": {
      "text/plain": [
       "'l'"
      ]
     },
     "execution_count": 196,
     "metadata": {},
     "output_type": "execute_result"
    }
   ],
   "source": [
    "name[-1]"
   ]
  },
  {
   "cell_type": "code",
   "execution_count": 197,
   "id": "fcebffd1",
   "metadata": {},
   "outputs": [
    {
     "data": {
      "text/plain": [
       "'a'"
      ]
     },
     "execution_count": 197,
     "metadata": {},
     "output_type": "execute_result"
    }
   ],
   "source": [
    "name[-4]"
   ]
  },
  {
   "cell_type": "code",
   "execution_count": 202,
   "id": "d355e355",
   "metadata": {},
   "outputs": [
    {
     "data": {
      "text/plain": [
       "'a'"
      ]
     },
     "execution_count": 202,
     "metadata": {},
     "output_type": "execute_result"
    }
   ],
   "source": [
    "name[-2]"
   ]
  },
  {
   "cell_type": "code",
   "execution_count": 203,
   "id": "101c3e12",
   "metadata": {},
   "outputs": [
    {
     "data": {
      "text/plain": [
       "13"
      ]
     },
     "execution_count": 203,
     "metadata": {},
     "output_type": "execute_result"
    }
   ],
   "source": [
    "len(name)"
   ]
  },
  {
   "cell_type": "code",
   "execution_count": 206,
   "id": "0bd5c6d5",
   "metadata": {},
   "outputs": [
    {
     "data": {
      "text/plain": [
       "'Mohamed'"
      ]
     },
     "execution_count": 206,
     "metadata": {},
     "output_type": "execute_result"
    }
   ],
   "source": [
    "name[0:7]"
   ]
  },
  {
   "cell_type": "code",
   "execution_count": 207,
   "id": "f9da56c8",
   "metadata": {},
   "outputs": [
    {
     "data": {
      "text/plain": [
       "'Mohamed Gamal'"
      ]
     },
     "execution_count": 207,
     "metadata": {},
     "output_type": "execute_result"
    }
   ],
   "source": [
    "name"
   ]
  },
  {
   "cell_type": "code",
   "execution_count": 208,
   "id": "dee68f4a",
   "metadata": {},
   "outputs": [
    {
     "data": {
      "text/plain": [
       "'Mhmd'"
      ]
     },
     "execution_count": 208,
     "metadata": {},
     "output_type": "execute_result"
    }
   ],
   "source": [
    "name[0:7:2]"
   ]
  },
  {
   "cell_type": "code",
   "execution_count": 209,
   "id": "34e1e23a",
   "metadata": {},
   "outputs": [
    {
     "data": {
      "text/plain": [
       "'MhmdGml'"
      ]
     },
     "execution_count": 209,
     "metadata": {},
     "output_type": "execute_result"
    }
   ],
   "source": [
    "name[0::2]"
   ]
  },
  {
   "cell_type": "code",
   "execution_count": 210,
   "id": "a956178f",
   "metadata": {},
   "outputs": [
    {
     "data": {
      "text/plain": [
       "'Mhamed Gamal'"
      ]
     },
     "execution_count": 210,
     "metadata": {},
     "output_type": "execute_result"
    }
   ],
   "source": [
    "name.replace('o','')"
   ]
  },
  {
   "cell_type": "code",
   "execution_count": 211,
   "id": "1a8f2bb4",
   "metadata": {},
   "outputs": [
    {
     "data": {
      "text/plain": [
       "'Madal'"
      ]
     },
     "execution_count": 211,
     "metadata": {},
     "output_type": "execute_result"
    }
   ],
   "source": [
    "name[::3]"
   ]
  },
  {
   "cell_type": "code",
   "execution_count": 213,
   "id": "e4618d29",
   "metadata": {},
   "outputs": [
    {
     "data": {
      "text/plain": [
       "' Gama'"
      ]
     },
     "execution_count": 213,
     "metadata": {},
     "output_type": "execute_result"
    }
   ],
   "source": [
    "name[-6:-1]"
   ]
  },
  {
   "cell_type": "code",
   "execution_count": 214,
   "id": "bf9dc518",
   "metadata": {},
   "outputs": [
    {
     "data": {
      "text/plain": [
       "'Mohamed Gamal'"
      ]
     },
     "execution_count": 214,
     "metadata": {},
     "output_type": "execute_result"
    }
   ],
   "source": [
    "name"
   ]
  },
  {
   "cell_type": "code",
   "execution_count": null,
   "id": "c1704644",
   "metadata": {},
   "outputs": [],
   "source": []
  },
  {
   "cell_type": "code",
   "execution_count": 216,
   "id": "36112d38",
   "metadata": {},
   "outputs": [
    {
     "data": {
      "text/plain": [
       "'lmGdmhM'"
      ]
     },
     "execution_count": 216,
     "metadata": {},
     "output_type": "execute_result"
    }
   ],
   "source": [
    "name[::-2]"
   ]
  },
  {
   "cell_type": "code",
   "execution_count": 217,
   "id": "6cb9a556",
   "metadata": {},
   "outputs": [
    {
     "data": {
      "text/plain": [
       "'am'"
      ]
     },
     "execution_count": 217,
     "metadata": {},
     "output_type": "execute_result"
    }
   ],
   "source": [
    "name[-4:-2]"
   ]
  },
  {
   "cell_type": "code",
   "execution_count": 218,
   "id": "9a4adaa1",
   "metadata": {},
   "outputs": [
    {
     "data": {
      "text/plain": [
       "'lam'"
      ]
     },
     "execution_count": 218,
     "metadata": {},
     "output_type": "execute_result"
    }
   ],
   "source": [
    "name[-1:-4:-1]"
   ]
  },
  {
   "cell_type": "code",
   "execution_count": 223,
   "id": "4f34f0b7",
   "metadata": {},
   "outputs": [
    {
     "data": {
      "text/plain": [
       "'lam'"
      ]
     },
     "execution_count": 223,
     "metadata": {},
     "output_type": "execute_result"
    }
   ],
   "source": [
    "name[-1:-4:-1]"
   ]
  },
  {
   "cell_type": "code",
   "execution_count": 224,
   "id": "d0fac766",
   "metadata": {},
   "outputs": [
    {
     "data": {
      "text/plain": [
       "'lamaG de'"
      ]
     },
     "execution_count": 224,
     "metadata": {},
     "output_type": "execute_result"
    }
   ],
   "source": [
    "name[-1:4:-1]"
   ]
  },
  {
   "cell_type": "code",
   "execution_count": 225,
   "id": "415d9f98",
   "metadata": {},
   "outputs": [],
   "source": [
    "l='kkkk'"
   ]
  },
  {
   "cell_type": "code",
   "execution_count": 226,
   "id": "9c6b942a",
   "metadata": {},
   "outputs": [
    {
     "data": {
      "text/plain": [
       "'kkkkooooo'"
      ]
     },
     "execution_count": 226,
     "metadata": {},
     "output_type": "execute_result"
    }
   ],
   "source": [
    "l+'ooooo'"
   ]
  },
  {
   "cell_type": "code",
   "execution_count": 227,
   "id": "9c8604c4",
   "metadata": {},
   "outputs": [
    {
     "data": {
      "text/plain": [
       "'kkkk'"
      ]
     },
     "execution_count": 227,
     "metadata": {},
     "output_type": "execute_result"
    }
   ],
   "source": [
    "l"
   ]
  },
  {
   "cell_type": "code",
   "execution_count": 228,
   "id": "46f6a41a",
   "metadata": {},
   "outputs": [],
   "source": [
    "l=l+'ooooooo'"
   ]
  },
  {
   "cell_type": "code",
   "execution_count": 229,
   "id": "6fc6d8a3",
   "metadata": {},
   "outputs": [
    {
     "data": {
      "text/plain": [
       "'kkkkooooooo'"
      ]
     },
     "execution_count": 229,
     "metadata": {},
     "output_type": "execute_result"
    }
   ],
   "source": [
    "l"
   ]
  },
  {
   "cell_type": "code",
   "execution_count": 230,
   "id": "4dd4ecec",
   "metadata": {},
   "outputs": [],
   "source": [
    "x=8"
   ]
  },
  {
   "cell_type": "code",
   "execution_count": 231,
   "id": "a90243c3",
   "metadata": {},
   "outputs": [],
   "source": [
    "x=x+2"
   ]
  },
  {
   "cell_type": "code",
   "execution_count": 232,
   "id": "ba65f035",
   "metadata": {},
   "outputs": [],
   "source": [
    "x=8"
   ]
  },
  {
   "cell_type": "code",
   "execution_count": 233,
   "id": "ec8e0d8c",
   "metadata": {},
   "outputs": [],
   "source": [
    "x+=2#x=x+2"
   ]
  },
  {
   "cell_type": "code",
   "execution_count": 234,
   "id": "668cab62",
   "metadata": {},
   "outputs": [
    {
     "data": {
      "text/plain": [
       "10"
      ]
     },
     "execution_count": 234,
     "metadata": {},
     "output_type": "execute_result"
    }
   ],
   "source": [
    "x"
   ]
  },
  {
   "cell_type": "code",
   "execution_count": 235,
   "id": "f261bd7a",
   "metadata": {},
   "outputs": [],
   "source": [
    "x*=7"
   ]
  },
  {
   "cell_type": "code",
   "execution_count": 236,
   "id": "df3b904a",
   "metadata": {},
   "outputs": [
    {
     "data": {
      "text/plain": [
       "70"
      ]
     },
     "execution_count": 236,
     "metadata": {},
     "output_type": "execute_result"
    }
   ],
   "source": [
    "x"
   ]
  },
  {
   "cell_type": "code",
   "execution_count": 237,
   "id": "1e07132e",
   "metadata": {},
   "outputs": [
    {
     "data": {
      "text/plain": [
       "'Mohamed Gamal'"
      ]
     },
     "execution_count": 237,
     "metadata": {},
     "output_type": "execute_result"
    }
   ],
   "source": [
    "name"
   ]
  },
  {
   "cell_type": "code",
   "execution_count": 238,
   "id": "8724d054",
   "metadata": {},
   "outputs": [],
   "source": [
    "name+=' lllllllllll'"
   ]
  },
  {
   "cell_type": "code",
   "execution_count": 239,
   "id": "74c94d75",
   "metadata": {},
   "outputs": [
    {
     "data": {
      "text/plain": [
       "'Mohamed Gamal lllllllllll'"
      ]
     },
     "execution_count": 239,
     "metadata": {},
     "output_type": "execute_result"
    }
   ],
   "source": [
    "name"
   ]
  },
  {
   "cell_type": "code",
   "execution_count": 240,
   "id": "2b37b043",
   "metadata": {},
   "outputs": [
    {
     "ename": "TypeError",
     "evalue": "unsupported operand type(s) for -: 'str' and 'str'",
     "output_type": "error",
     "traceback": [
      "\u001b[1;31m---------------------------------------------------------------------------\u001b[0m",
      "\u001b[1;31mTypeError\u001b[0m                                 Traceback (most recent call last)",
      "\u001b[1;32m<ipython-input-240-4d291fe83a9f>\u001b[0m in \u001b[0;36m<module>\u001b[1;34m\u001b[0m\n\u001b[1;32m----> 1\u001b[1;33m \u001b[1;34m'MMMM'\u001b[0m\u001b[1;33m-\u001b[0m\u001b[1;34m\"eeeee\"\u001b[0m\u001b[1;33m\u001b[0m\u001b[1;33m\u001b[0m\u001b[0m\n\u001b[0m",
      "\u001b[1;31mTypeError\u001b[0m: unsupported operand type(s) for -: 'str' and 'str'"
     ]
    }
   ],
   "source": [
    "'MMMM'-\"eeeee\""
   ]
  },
  {
   "cell_type": "code",
   "execution_count": 241,
   "id": "009920fa",
   "metadata": {},
   "outputs": [
    {
     "ename": "TypeError",
     "evalue": "unsupported operand type(s) for -: 'str' and 'str'",
     "output_type": "error",
     "traceback": [
      "\u001b[1;31m---------------------------------------------------------------------------\u001b[0m",
      "\u001b[1;31mTypeError\u001b[0m                                 Traceback (most recent call last)",
      "\u001b[1;32m<ipython-input-241-ef5abeb4921b>\u001b[0m in \u001b[0;36m<module>\u001b[1;34m\u001b[0m\n\u001b[1;32m----> 1\u001b[1;33m \u001b[1;34m'mmmmmeee'\u001b[0m\u001b[1;33m-\u001b[0m\u001b[1;34m'ee'\u001b[0m\u001b[1;33m\u001b[0m\u001b[1;33m\u001b[0m\u001b[0m\n\u001b[0m",
      "\u001b[1;31mTypeError\u001b[0m: unsupported operand type(s) for -: 'str' and 'str'"
     ]
    }
   ],
   "source": [
    "'mmmmmeee'-'ee'"
   ]
  },
  {
   "cell_type": "code",
   "execution_count": 243,
   "id": "bc3d367c",
   "metadata": {},
   "outputs": [
    {
     "data": {
      "text/plain": [
       "'Mohamed Gamal lllllllllll'"
      ]
     },
     "execution_count": 243,
     "metadata": {},
     "output_type": "execute_result"
    }
   ],
   "source": [
    "name"
   ]
  },
  {
   "cell_type": "code",
   "execution_count": 244,
   "id": "32db28cf",
   "metadata": {},
   "outputs": [
    {
     "data": {
      "text/plain": [
       "'Mohamed Gamal lllllllllllMohamed Gamal lllllllllll'"
      ]
     },
     "execution_count": 244,
     "metadata": {},
     "output_type": "execute_result"
    }
   ],
   "source": [
    "name*2"
   ]
  },
  {
   "cell_type": "code",
   "execution_count": 245,
   "id": "08495df9",
   "metadata": {},
   "outputs": [
    {
     "data": {
      "text/plain": [
       "'Mohamed Gamal lllllllllll'"
      ]
     },
     "execution_count": 245,
     "metadata": {},
     "output_type": "execute_result"
    }
   ],
   "source": [
    "name"
   ]
  },
  {
   "cell_type": "code",
   "execution_count": 246,
   "id": "8e57743d",
   "metadata": {},
   "outputs": [],
   "source": [
    "name*=2"
   ]
  },
  {
   "cell_type": "code",
   "execution_count": 247,
   "id": "c0deecce",
   "metadata": {},
   "outputs": [
    {
     "data": {
      "text/plain": [
       "'Mohamed Gamal lllllllllllMohamed Gamal lllllllllll'"
      ]
     },
     "execution_count": 247,
     "metadata": {},
     "output_type": "execute_result"
    }
   ],
   "source": [
    "name"
   ]
  },
  {
   "cell_type": "code",
   "execution_count": 248,
   "id": "77bf3ab3",
   "metadata": {},
   "outputs": [
    {
     "data": {
      "text/plain": [
       "50"
      ]
     },
     "execution_count": 248,
     "metadata": {},
     "output_type": "execute_result"
    }
   ],
   "source": [
    "len(name)"
   ]
  },
  {
   "cell_type": "code",
   "execution_count": 249,
   "id": "2a598e22",
   "metadata": {},
   "outputs": [
    {
     "data": {
      "text/plain": [
       "'Mohamed gamal lllllllllllmohamed gamal lllllllllll'"
      ]
     },
     "execution_count": 249,
     "metadata": {},
     "output_type": "execute_result"
    }
   ],
   "source": [
    "name.capitalize()"
   ]
  },
  {
   "cell_type": "code",
   "execution_count": 250,
   "id": "7d06c0a7",
   "metadata": {},
   "outputs": [],
   "source": [
    "name='ali'"
   ]
  },
  {
   "cell_type": "code",
   "execution_count": 251,
   "id": "e4d03235",
   "metadata": {},
   "outputs": [
    {
     "data": {
      "text/plain": [
       "'Ali'"
      ]
     },
     "execution_count": 251,
     "metadata": {},
     "output_type": "execute_result"
    }
   ],
   "source": [
    "name.capitalize()"
   ]
  },
  {
   "cell_type": "code",
   "execution_count": 252,
   "id": "40e3ea74",
   "metadata": {},
   "outputs": [
    {
     "data": {
      "text/plain": [
       "'ali'"
      ]
     },
     "execution_count": 252,
     "metadata": {},
     "output_type": "execute_result"
    }
   ],
   "source": [
    "name"
   ]
  },
  {
   "cell_type": "code",
   "execution_count": 253,
   "id": "842e1ee4",
   "metadata": {},
   "outputs": [
    {
     "data": {
      "text/plain": [
       "'ALI'"
      ]
     },
     "execution_count": 253,
     "metadata": {},
     "output_type": "execute_result"
    }
   ],
   "source": [
    "name.upper()"
   ]
  },
  {
   "cell_type": "code",
   "execution_count": 256,
   "id": "e6caf23b",
   "metadata": {},
   "outputs": [],
   "source": [
    "name='Mohamed Gamal'\n"
   ]
  },
  {
   "cell_type": "code",
   "execution_count": 257,
   "id": "6d48e0c9",
   "metadata": {},
   "outputs": [
    {
     "data": {
      "text/plain": [
       "'Mohamed gamal'"
      ]
     },
     "execution_count": 257,
     "metadata": {},
     "output_type": "execute_result"
    }
   ],
   "source": [
    "name.capitalize()"
   ]
  },
  {
   "cell_type": "code",
   "execution_count": 258,
   "id": "f773cbd7",
   "metadata": {},
   "outputs": [
    {
     "data": {
      "text/plain": [
       "'MOHAMED GAMAL'"
      ]
     },
     "execution_count": 258,
     "metadata": {},
     "output_type": "execute_result"
    }
   ],
   "source": [
    "name.upper()"
   ]
  },
  {
   "cell_type": "code",
   "execution_count": 259,
   "id": "a331631d",
   "metadata": {},
   "outputs": [
    {
     "data": {
      "text/plain": [
       "13"
      ]
     },
     "execution_count": 259,
     "metadata": {},
     "output_type": "execute_result"
    }
   ],
   "source": [
    "len(name)"
   ]
  },
  {
   "cell_type": "code",
   "execution_count": 260,
   "id": "36e32526",
   "metadata": {},
   "outputs": [
    {
     "data": {
      "text/plain": [
       "'Mohamed Gamal'"
      ]
     },
     "execution_count": 260,
     "metadata": {},
     "output_type": "execute_result"
    }
   ],
   "source": [
    "name"
   ]
  },
  {
   "cell_type": "code",
   "execution_count": 261,
   "id": "538819e6",
   "metadata": {},
   "outputs": [
    {
     "data": {
      "text/plain": [
       "'Mohamed Gam'"
      ]
     },
     "execution_count": 261,
     "metadata": {},
     "output_type": "execute_result"
    }
   ],
   "source": [
    "name[:-2]"
   ]
  },
  {
   "cell_type": "code",
   "execution_count": 262,
   "id": "a9f0610b",
   "metadata": {},
   "outputs": [
    {
     "data": {
      "text/plain": [
       "'mohamed gamal'"
      ]
     },
     "execution_count": 262,
     "metadata": {},
     "output_type": "execute_result"
    }
   ],
   "source": [
    "name.lower()"
   ]
  },
  {
   "cell_type": "code",
   "execution_count": 263,
   "id": "737a9ac2",
   "metadata": {},
   "outputs": [
    {
     "data": {
      "text/plain": [
       "13"
      ]
     },
     "execution_count": 263,
     "metadata": {},
     "output_type": "execute_result"
    }
   ],
   "source": [
    "len(name)"
   ]
  },
  {
   "cell_type": "code",
   "execution_count": 265,
   "id": "d31dddc5",
   "metadata": {},
   "outputs": [
    {
     "data": {
      "text/plain": [
       "True"
      ]
     },
     "execution_count": 265,
     "metadata": {},
     "output_type": "execute_result"
    }
   ],
   "source": [
    "name.endswith('al')"
   ]
  },
  {
   "cell_type": "code",
   "execution_count": 267,
   "id": "5d09613c",
   "metadata": {},
   "outputs": [
    {
     "data": {
      "text/plain": [
       "False"
      ]
     },
     "execution_count": 267,
     "metadata": {},
     "output_type": "execute_result"
    }
   ],
   "source": [
    "name.startswith('mo')"
   ]
  },
  {
   "cell_type": "code",
   "execution_count": 268,
   "id": "e61f5c71",
   "metadata": {},
   "outputs": [
    {
     "data": {
      "text/plain": [
       "'Mohamed Gamal'"
      ]
     },
     "execution_count": 268,
     "metadata": {},
     "output_type": "execute_result"
    }
   ],
   "source": [
    "name"
   ]
  },
  {
   "cell_type": "code",
   "execution_count": 269,
   "id": "a1fade72",
   "metadata": {},
   "outputs": [
    {
     "data": {
      "text/plain": [
       "['Mohamed', 'Gamal']"
      ]
     },
     "execution_count": 269,
     "metadata": {},
     "output_type": "execute_result"
    }
   ],
   "source": [
    "name.split()"
   ]
  },
  {
   "cell_type": "code",
   "execution_count": 270,
   "id": "2c674542",
   "metadata": {},
   "outputs": [
    {
     "data": {
      "text/plain": [
       "['mmm', 'jjj', 'kkk']"
      ]
     },
     "execution_count": 270,
     "metadata": {},
     "output_type": "execute_result"
    }
   ],
   "source": [
    "nn='mmm jjj kkk'\n",
    "nn.split()"
   ]
  },
  {
   "cell_type": "code",
   "execution_count": 271,
   "id": "bd944099",
   "metadata": {},
   "outputs": [
    {
     "data": {
      "text/plain": [
       "['mmm ', 'j kkk']"
      ]
     },
     "execution_count": 271,
     "metadata": {},
     "output_type": "execute_result"
    }
   ],
   "source": [
    "nn.split('jj')"
   ]
  },
  {
   "cell_type": "code",
   "execution_count": 272,
   "id": "f3381643",
   "metadata": {},
   "outputs": [],
   "source": [
    "ip='192.168.1.1'"
   ]
  },
  {
   "cell_type": "code",
   "execution_count": 273,
   "id": "433637b0",
   "metadata": {},
   "outputs": [
    {
     "data": {
      "text/plain": [
       "['192', '168', '1', '1']"
      ]
     },
     "execution_count": 273,
     "metadata": {},
     "output_type": "execute_result"
    }
   ],
   "source": [
    "ip.split('.')"
   ]
  },
  {
   "cell_type": "code",
   "execution_count": 274,
   "id": "ef44e6b8",
   "metadata": {},
   "outputs": [
    {
     "data": {
      "text/plain": [
       "'Mohamed Gamal'"
      ]
     },
     "execution_count": 274,
     "metadata": {},
     "output_type": "execute_result"
    }
   ],
   "source": [
    "name"
   ]
  },
  {
   "cell_type": "code",
   "execution_count": 279,
   "id": "3925ef29",
   "metadata": {},
   "outputs": [
    {
     "data": {
      "text/plain": [
       "3"
      ]
     },
     "execution_count": 279,
     "metadata": {},
     "output_type": "execute_result"
    }
   ],
   "source": [
    "name.find('a')"
   ]
  },
  {
   "cell_type": "code",
   "execution_count": 280,
   "id": "b78be445",
   "metadata": {},
   "outputs": [
    {
     "data": {
      "text/plain": [
       "'a'"
      ]
     },
     "execution_count": 280,
     "metadata": {},
     "output_type": "execute_result"
    }
   ],
   "source": [
    "name[3]"
   ]
  },
  {
   "cell_type": "code",
   "execution_count": 284,
   "id": "21df8327",
   "metadata": {},
   "outputs": [
    {
     "data": {
      "text/plain": [
       "3"
      ]
     },
     "execution_count": 284,
     "metadata": {},
     "output_type": "execute_result"
    }
   ],
   "source": [
    "name.index('a')"
   ]
  },
  {
   "cell_type": "code",
   "execution_count": 290,
   "id": "e9449513",
   "metadata": {},
   "outputs": [
    {
     "data": {
      "text/plain": [
       "9"
      ]
     },
     "execution_count": 290,
     "metadata": {},
     "output_type": "execute_result"
    }
   ],
   "source": [
    "name.rfind('am')"
   ]
  },
  {
   "cell_type": "code",
   "execution_count": 289,
   "id": "508748a4",
   "metadata": {},
   "outputs": [
    {
     "data": {
      "text/plain": [
       "3"
      ]
     },
     "execution_count": 289,
     "metadata": {},
     "output_type": "execute_result"
    }
   ],
   "source": [
    "name.find('am')"
   ]
  },
  {
   "cell_type": "code",
   "execution_count": 288,
   "id": "616bc297",
   "metadata": {},
   "outputs": [
    {
     "data": {
      "text/plain": [
       "'Moh'"
      ]
     },
     "execution_count": 288,
     "metadata": {},
     "output_type": "execute_result"
    }
   ],
   "source": [
    "name[:name.find('a')]#name[:3]"
   ]
  },
  {
   "cell_type": "code",
   "execution_count": 291,
   "id": "39c6b007",
   "metadata": {},
   "outputs": [
    {
     "data": {
      "text/plain": [
       "3"
      ]
     },
     "execution_count": 291,
     "metadata": {},
     "output_type": "execute_result"
    }
   ],
   "source": [
    "name.index('am')"
   ]
  },
  {
   "cell_type": "code",
   "execution_count": 292,
   "id": "d50948b2",
   "metadata": {},
   "outputs": [
    {
     "data": {
      "text/plain": [
       "'9'"
      ]
     },
     "execution_count": 292,
     "metadata": {},
     "output_type": "execute_result"
    }
   ],
   "source": [
    "str(9)"
   ]
  },
  {
   "cell_type": "code",
   "execution_count": 293,
   "id": "8b37d8e6",
   "metadata": {},
   "outputs": [],
   "source": [
    "x=9"
   ]
  },
  {
   "cell_type": "code",
   "execution_count": 294,
   "id": "ea29a423",
   "metadata": {},
   "outputs": [
    {
     "data": {
      "text/plain": [
       "'9'"
      ]
     },
     "execution_count": 294,
     "metadata": {},
     "output_type": "execute_result"
    }
   ],
   "source": [
    "str(9)"
   ]
  },
  {
   "cell_type": "code",
   "execution_count": 295,
   "id": "33920a4b",
   "metadata": {},
   "outputs": [],
   "source": [
    "x=9.7"
   ]
  },
  {
   "cell_type": "code",
   "execution_count": 296,
   "id": "9dd4c9c8",
   "metadata": {},
   "outputs": [
    {
     "data": {
      "text/plain": [
       "'9.7'"
      ]
     },
     "execution_count": 296,
     "metadata": {},
     "output_type": "execute_result"
    }
   ],
   "source": [
    "str(x)"
   ]
  },
  {
   "cell_type": "code",
   "execution_count": 297,
   "id": "389e1e45",
   "metadata": {},
   "outputs": [
    {
     "data": {
      "text/plain": [
       "9.7"
      ]
     },
     "execution_count": 297,
     "metadata": {},
     "output_type": "execute_result"
    }
   ],
   "source": [
    "x"
   ]
  },
  {
   "cell_type": "code",
   "execution_count": 298,
   "id": "446b799e",
   "metadata": {},
   "outputs": [],
   "source": [
    "x=str(x)"
   ]
  },
  {
   "cell_type": "code",
   "execution_count": 299,
   "id": "2f48364f",
   "metadata": {},
   "outputs": [
    {
     "data": {
      "text/plain": [
       "'9.7'"
      ]
     },
     "execution_count": 299,
     "metadata": {},
     "output_type": "execute_result"
    }
   ],
   "source": [
    "x"
   ]
  },
  {
   "cell_type": "code",
   "execution_count": 300,
   "id": "222163a6",
   "metadata": {},
   "outputs": [],
   "source": [
    "x*=3"
   ]
  },
  {
   "cell_type": "code",
   "execution_count": 301,
   "id": "097d0f62",
   "metadata": {},
   "outputs": [
    {
     "data": {
      "text/plain": [
       "'9.79.79.7'"
      ]
     },
     "execution_count": 301,
     "metadata": {},
     "output_type": "execute_result"
    }
   ],
   "source": [
    "x"
   ]
  },
  {
   "cell_type": "code",
   "execution_count": 302,
   "id": "4c0f24d1",
   "metadata": {},
   "outputs": [
    {
     "data": {
      "text/plain": [
       "9"
      ]
     },
     "execution_count": 302,
     "metadata": {},
     "output_type": "execute_result"
    }
   ],
   "source": [
    "int(9.7)"
   ]
  },
  {
   "cell_type": "code",
   "execution_count": 303,
   "id": "485b1b24",
   "metadata": {},
   "outputs": [
    {
     "ename": "ValueError",
     "evalue": "invalid literal for int() with base 10: 'a'",
     "output_type": "error",
     "traceback": [
      "\u001b[1;31m---------------------------------------------------------------------------\u001b[0m",
      "\u001b[1;31mValueError\u001b[0m                                Traceback (most recent call last)",
      "\u001b[1;32m<ipython-input-303-233884bacd4e>\u001b[0m in \u001b[0;36m<module>\u001b[1;34m\u001b[0m\n\u001b[1;32m----> 1\u001b[1;33m \u001b[0mint\u001b[0m\u001b[1;33m(\u001b[0m\u001b[1;34m'a'\u001b[0m\u001b[1;33m)\u001b[0m\u001b[1;33m\u001b[0m\u001b[1;33m\u001b[0m\u001b[0m\n\u001b[0m",
      "\u001b[1;31mValueError\u001b[0m: invalid literal for int() with base 10: 'a'"
     ]
    }
   ],
   "source": [
    "int('a')"
   ]
  },
  {
   "cell_type": "code",
   "execution_count": 305,
   "id": "a3bc1ed1",
   "metadata": {},
   "outputs": [
    {
     "name": "stdout",
     "output_type": "stream",
     "text": [
      "Enter a number: 44\n"
     ]
    },
    {
     "data": {
      "text/plain": [
       "44.0"
      ]
     },
     "execution_count": 305,
     "metadata": {},
     "output_type": "execute_result"
    }
   ],
   "source": [
    "float(input('Enter a number: '))#float('44')==>44.0"
   ]
  },
  {
   "cell_type": "code",
   "execution_count": 306,
   "id": "944db19a",
   "metadata": {},
   "outputs": [
    {
     "data": {
      "text/plain": [
       "55"
      ]
     },
     "execution_count": 306,
     "metadata": {},
     "output_type": "execute_result"
    }
   ],
   "source": [
    "int('55')"
   ]
  },
  {
   "cell_type": "code",
   "execution_count": 307,
   "id": "3c6ccdc0",
   "metadata": {},
   "outputs": [
    {
     "name": "stdout",
     "output_type": "stream",
     "text": [
      "Enter ur name: Mohamed gamal\n",
      "Enter ur age: 25\n",
      "Enter ur salary: 33\n",
      "ur taxes : 31.68\n",
      "True\n"
     ]
    }
   ],
   "source": [
    "#input name,age,salary\n",
    "#print greeting message\n",
    "#clculate tax =salary-(salary/age)\n",
    "#print tax\n",
    "#print if tax > salary/25\n",
    "name=input('Enter ur name: ')\n",
    "age=int(input('Enter ur age: '))\n",
    "salary=float(input('Enter ur salary: '))\n",
    "\n",
    "tax=salary-(salary/age)\n",
    "print(f'ur taxes : {tax}')\n",
    "print(tax >(salary/25))\n",
    "\n",
    "\n",
    "#  \"Mohamed 'gamal \\\"MG21\\\" ool' ...got it\"    grab 'MG21' , 'ol' and '...' \n",
    "# using indexing and slicing\n",
    "\n",
    "\n",
    "\n"
   ]
  },
  {
   "cell_type": "code",
   "execution_count": 308,
   "id": "517df356",
   "metadata": {},
   "outputs": [
    {
     "data": {
      "text/plain": [
       "'Mohamed \\'gamal \"MG21\" ool\\' ...got it'"
      ]
     },
     "execution_count": 308,
     "metadata": {},
     "output_type": "execute_result"
    }
   ],
   "source": [
    "text=\"Mohamed 'gamal \\\"MG21\\\" ool' ...got it\"\n",
    "text"
   ]
  },
  {
   "cell_type": "code",
   "execution_count": 309,
   "id": "fc0e6ee4",
   "metadata": {},
   "outputs": [
    {
     "name": "stdout",
     "output_type": "stream",
     "text": [
      "MG21\n"
     ]
    }
   ],
   "source": [
    "search=input()"
   ]
  },
  {
   "cell_type": "code",
   "execution_count": 310,
   "id": "693d021e",
   "metadata": {},
   "outputs": [
    {
     "data": {
      "text/plain": [
       "16"
      ]
     },
     "execution_count": 310,
     "metadata": {},
     "output_type": "execute_result"
    }
   ],
   "source": [
    "text.find(search)"
   ]
  },
  {
   "cell_type": "code",
   "execution_count": 311,
   "id": "2934c596",
   "metadata": {},
   "outputs": [
    {
     "data": {
      "text/plain": [
       "'MG21'"
      ]
     },
     "execution_count": 311,
     "metadata": {},
     "output_type": "execute_result"
    }
   ],
   "source": [
    "text[text.find(search):text.find(search)+len(search)]"
   ]
  },
  {
   "cell_type": "code",
   "execution_count": 314,
   "id": "4d66d012",
   "metadata": {},
   "outputs": [
    {
     "name": "stdout",
     "output_type": "stream",
     "text": [
      "...\n",
      "...\n"
     ]
    }
   ],
   "source": [
    "text=\"Mohamed 'gamal \\\"MG21\\\" ool' ...got it\"\n",
    "search=input()\n",
    "print(text[text.find(search):text.find(search)+len(search)])"
   ]
  },
  {
   "cell_type": "code",
   "execution_count": null,
   "id": "731c2cc9",
   "metadata": {},
   "outputs": [],
   "source": []
  }
 ],
 "metadata": {
  "kernelspec": {
   "display_name": "Python 3 (ipykernel)",
   "language": "python",
   "name": "python3"
  },
  "language_info": {
   "codemirror_mode": {
    "name": "ipython",
    "version": 3
   },
   "file_extension": ".py",
   "mimetype": "text/x-python",
   "name": "python",
   "nbconvert_exporter": "python",
   "pygments_lexer": "ipython3",
   "version": "3.9.13"
  }
 },
 "nbformat": 4,
 "nbformat_minor": 5
}
