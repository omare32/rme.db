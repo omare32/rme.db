{
 "cells": [
  {
   "cell_type": "code",
   "execution_count": null,
   "id": "92a6a5e4",
   "metadata": {},
   "outputs": [],
   "source": [
    "try:\n",
    "    #code block\n",
    "\n",
    "except:\n",
    "    #codeblock\n",
    "else:\n",
    "    #code block\n",
    "finally:\n",
    "    #code block"
   ]
  },
  {
   "cell_type": "code",
   "execution_count": 8,
   "id": "631f583c",
   "metadata": {},
   "outputs": [
    {
     "name": "stdout",
     "output_type": "stream",
     "text": [
      "5\n",
      "1\n",
      "5.0\n",
      "list index out of range\n",
      "am always exist no matter happend\n"
     ]
    }
   ],
   "source": [
    "n1, n2 = int(input()), int(input())\n",
    "try:\n",
    "    print(n1/n2)\n",
    "    l = [2]\n",
    "    print(l[2])\n",
    "except ZeroDivisionError:\n",
    "    print('Zero Division Error')\n",
    "except Exception as e:\n",
    "    print(e.args[0])\n",
    "finally:\n",
    "    print('am always exist no matter happend')"
   ]
  },
  {
   "cell_type": "code",
   "execution_count": 12,
   "id": "91f96743",
   "metadata": {},
   "outputs": [
    {
     "name": "stdout",
     "output_type": "stream",
     "text": [
      "Enter Your Age5\n",
      "Enter Your Balancesafa\n",
      "Error Try Again\n",
      "Enter Your Age5\n",
      "Enter Your Balancefwaf\n",
      "Error Try Again\n",
      "Enter Your Age25\n",
      "Enter Your Balance48464\n"
     ]
    }
   ],
   "source": [
    "error = True\n",
    "while error:\n",
    "    try:\n",
    "        n1, n2 = int(input('Enter Your Age')), int(input('Enter Your Balance'))\n",
    "        error = False\n",
    "    except:\n",
    "        print('Error Try Again')\n",
    "    "
   ]
  },
  {
   "cell_type": "code",
   "execution_count": 13,
   "id": "a6ccc098",
   "metadata": {},
   "outputs": [
    {
     "name": "stdout",
     "output_type": "stream",
     "text": [
      "Enter Your Nameanas\n",
      "Enter Your Ageafw\n",
      "there was an error!\n"
     ]
    }
   ],
   "source": [
    "try:\n",
    "    name = input('Enter Your Name')\n",
    "    age = input('Enter Your Age')\n",
    "    print(name, float(age))\n",
    "except:\n",
    "    print('there was an error!')"
   ]
  },
  {
   "cell_type": "code",
   "execution_count": 14,
   "id": "73cea899",
   "metadata": {},
   "outputs": [],
   "source": [
    "file = open('test.txt', 'w')"
   ]
  },
  {
   "cell_type": "code",
   "execution_count": 15,
   "id": "a47b50f5",
   "metadata": {},
   "outputs": [
    {
     "data": {
      "text/plain": [
       "12"
      ]
     },
     "execution_count": 15,
     "metadata": {},
     "output_type": "execute_result"
    }
   ],
   "source": [
    "file.write('Hello world!')"
   ]
  },
  {
   "cell_type": "code",
   "execution_count": 16,
   "id": "6c5bb484",
   "metadata": {},
   "outputs": [],
   "source": [
    "file.close()"
   ]
  },
  {
   "cell_type": "code",
   "execution_count": 17,
   "id": "444f5dab",
   "metadata": {},
   "outputs": [],
   "source": [
    "import os"
   ]
  },
  {
   "cell_type": "code",
   "execution_count": 18,
   "id": "bf392af2",
   "metadata": {},
   "outputs": [
    {
     "data": {
      "text/plain": [
       "['.ipynb_checkpoints',\n",
       " 'Day 3 (Solution).ipynb',\n",
       " 'Day 3 (Template).ipynb',\n",
       " 'test.txt',\n",
       " 'Untitled.ipynb']"
      ]
     },
     "execution_count": 18,
     "metadata": {},
     "output_type": "execute_result"
    }
   ],
   "source": [
    "os.listdir()"
   ]
  },
  {
   "cell_type": "code",
   "execution_count": 21,
   "id": "ff977735",
   "metadata": {},
   "outputs": [
    {
     "name": "stdout",
     "output_type": "stream",
     "text": [
      ":( file will be created because its not found!\n",
      "Egypt\n",
      "Cairo\n",
      "New Cairo\n",
      "\n",
      "['Egypt\\n', 'Cairo\\n', 'New Cairo\\n']\n"
     ]
    }
   ],
   "source": [
    "file_name = 'test.txt'\n",
    "if file_name in os.listdir():\n",
    "    print('Oo file is existed')\n",
    "    file = open(file_name, 'r+')\n",
    "    print(file.read())\n",
    "    file.seek(0)\n",
    "    print(file.readlines())\n",
    "    file.close()\n",
    "else:\n",
    "    print(':( file will be created because its not found!')\n",
    "    file = open(file_name, 'w+')\n",
    "    file.writelines(['Egypt\\n', 'Cairo\\n', 'New Cairo\\n'])\n",
    "    file.seek(0)\n",
    "    print(file.read())\n",
    "    file.seek(0)\n",
    "    print(file.readlines())\n",
    "    file.close()"
   ]
  },
  {
   "cell_type": "code",
   "execution_count": 25,
   "id": "abf8029f",
   "metadata": {},
   "outputs": [
    {
     "name": "stdout",
     "output_type": "stream",
     "text": [
      "Oo file is existed\n",
      "Egypt\n",
      "Cairo\n",
      "New Cairo\n",
      "\n",
      "['Egypt\\n', 'Cairo\\n', 'New Cairo\\n']\n"
     ]
    }
   ],
   "source": [
    "print('Oo file is existed')\n",
    "file = open(file_name, 'r+')\n",
    "print(file.read())\n",
    "file.seek(0)\n",
    "print(file.readlines())\n",
    "file.seek(0)\n",
    "file.truncate()\n",
    "file.close()"
   ]
  },
  {
   "cell_type": "code",
   "execution_count": 26,
   "id": "cadc31c0",
   "metadata": {},
   "outputs": [],
   "source": [
    "os.remove('test.txt')"
   ]
  },
  {
   "cell_type": "code",
   "execution_count": 39,
   "id": "4d9b6feb",
   "metadata": {},
   "outputs": [
    {
     "data": {
      "text/plain": [
       "'C:\\\\Users\\\\Public\\\\Downloads'"
      ]
     },
     "execution_count": 39,
     "metadata": {},
     "output_type": "execute_result"
    }
   ],
   "source": [
    "os.getcwd() # get current working directory"
   ]
  },
  {
   "cell_type": "code",
   "execution_count": 42,
   "id": "16fb1f26",
   "metadata": {},
   "outputs": [],
   "source": [
    "x = r'D:\\epsilon work\\exception and file handling'.replace('\\\\', '\\\\\\\\')\n",
    "os.chdir(x)"
   ]
  },
  {
   "cell_type": "code",
   "execution_count": 43,
   "id": "10fa1b14",
   "metadata": {},
   "outputs": [
    {
     "data": {
      "text/plain": [
       "'D:\\\\epsilon work\\\\exception and file handling'"
      ]
     },
     "execution_count": 43,
     "metadata": {},
     "output_type": "execute_result"
    }
   ],
   "source": [
    "os.getcwd()"
   ]
  },
  {
   "cell_type": "code",
   "execution_count": 44,
   "id": "38948a50",
   "metadata": {},
   "outputs": [
    {
     "name": "stdout",
     "output_type": "stream",
     "text": [
      "D:\\epsilon work\n"
     ]
    }
   ],
   "source": [
    "%cd .."
   ]
  },
  {
   "cell_type": "code",
   "execution_count": 48,
   "id": "979bdcff",
   "metadata": {},
   "outputs": [
    {
     "name": "stdout",
     "output_type": "stream",
     "text": [
      "D:\\epsilon work\\exception and file handling\n"
     ]
    }
   ],
   "source": [
    "%cd D:\\\\epsilon work\\\\exception and file handling"
   ]
  },
  {
   "cell_type": "code",
   "execution_count": 49,
   "id": "a401a542",
   "metadata": {},
   "outputs": [
    {
     "name": "stdout",
     "output_type": "stream",
     "text": [
      "D:\\epsilon work\n"
     ]
    }
   ],
   "source": [
    "%cd .."
   ]
  },
  {
   "cell_type": "code",
   "execution_count": 37,
   "id": "8c93ef26",
   "metadata": {},
   "outputs": [
    {
     "ename": "SyntaxError",
     "evalue": "(unicode error) 'unicodeescape' codec can't decode bytes in position 2-3: truncated \\UXXXXXXXX escape (4002948250.py, line 1)",
     "output_type": "error",
     "traceback": [
      "\u001b[1;36m  Input \u001b[1;32mIn [37]\u001b[1;36m\u001b[0m\n\u001b[1;33m    x = 'C:\\Users\\Public\\Downloads'.replace('\\\\', '\\\\\\\\')\u001b[0m\n\u001b[1;37m                                   ^\u001b[0m\n\u001b[1;31mSyntaxError\u001b[0m\u001b[1;31m:\u001b[0m (unicode error) 'unicodeescape' codec can't decode bytes in position 2-3: truncated \\UXXXXXXXX escape\n"
     ]
    }
   ],
   "source": [
    "x = 'C:\\Users\\Public\\Downloads'.replace('\\\\', '\\\\\\\\')\n",
    "x"
   ]
  },
  {
   "cell_type": "code",
   "execution_count": 50,
   "id": "00399aba",
   "metadata": {},
   "outputs": [],
   "source": [
    "import csv"
   ]
  },
  {
   "cell_type": "code",
   "execution_count": 52,
   "id": "76c035a9",
   "metadata": {},
   "outputs": [
    {
     "name": "stdout",
     "output_type": "stream",
     "text": [
      "What About\n",
      "What About Data Science Do You Like It ?\n"
     ]
    }
   ],
   "source": [
    "with open('test.txt', 'w+') as f:\n",
    "    f.write('What About Data Science do you like it ?'.title())\n",
    "    f.seek(0)\n",
    "    print(f.read(10))\n",
    "    f.seek(0)\n",
    "    print(f.read())\n",
    "    "
   ]
  },
  {
   "cell_type": "code",
   "execution_count": 53,
   "id": "ba6b0bae",
   "metadata": {},
   "outputs": [],
   "source": [
    "with open('test.txt', 'r+') as f:\n",
    "    f.truncate()\n",
    "    f.write('Hello World\\n' * 5)"
   ]
  },
  {
   "cell_type": "code",
   "execution_count": 55,
   "id": "566c6ce6",
   "metadata": {},
   "outputs": [
    {
     "name": "stdout",
     "output_type": "stream",
     "text": [
      "['Hello World\\n', 'Hello World\\n', 'Hello World\\n', 'Hello World\\n', 'Hello World\\n']\n"
     ]
    }
   ],
   "source": [
    "with open('test.txt', 'r+') as f:\n",
    "    print(f.readlines())"
   ]
  },
  {
   "cell_type": "code",
   "execution_count": 58,
   "id": "07bee265",
   "metadata": {},
   "outputs": [
    {
     "name": "stdout",
     "output_type": "stream",
     "text": [
      "['Hello World\\n', 'Hello World\\n', 'World!\\n', 'Hello World\\n', 'Hello World\\n']\n"
     ]
    }
   ],
   "source": [
    "with open('test.txt', 'r+') as f:\n",
    "    lines = f.readlines()\n",
    "    lines[2] = 'World!\\n'\n",
    "    f.seek(0)\n",
    "    f.truncate()\n",
    "    f.writelines(lines)\n",
    "    f.seek(0)\n",
    "    print(f.readlines())"
   ]
  },
  {
   "cell_type": "code",
   "execution_count": 59,
   "id": "ce957765",
   "metadata": {},
   "outputs": [],
   "source": [
    "import xlsxwriter"
   ]
  },
  {
   "cell_type": "code",
   "execution_count": 73,
   "id": "6321284d",
   "metadata": {},
   "outputs": [],
   "source": [
    "workbook = xlsxwriter.Workbook('persons.xlsx')\n",
    "worksheet = workbook.add_worksheet()\n",
    "\n",
    "# header block\n",
    "headers = ['Name', 'Age', 'Gender', 'Salary', 'Role']\n",
    "for col in range(len(headers)):\n",
    "    worksheet.write(0, col, headers[col])\n",
    "\n",
    "    \n",
    "# content\n",
    "d = {\n",
    "    'Name':['Ahmed', 'Mohamed', 'Ibrahim', 'Sara', 'Yasmin'],\n",
    "    'Age':[25, 50, 44, 24, 15],\n",
    "    'Gender':['male', 'male', 'male', 'female', 'female'],\n",
    "    'Salary': [5000, 2000, 10000, 8000, 1000],\n",
    "    'Role':['Civil Engineer', 'Data Analyst', 'SW Developer', 'Ml Engineer', 'Student']\n",
    "}\n",
    "for col in range(len(d.keys())):\n",
    "    key = list(d.keys())[col]\n",
    "    for row in range(1,len(d[key])+1):\n",
    "        worksheet.write(row, col, d[key][row-1])\n",
    "\n",
    "workbook.close()\n"
   ]
  },
  {
   "cell_type": "code",
   "execution_count": 74,
   "id": "51a83777",
   "metadata": {},
   "outputs": [],
   "source": [
    "import pandas as pd"
   ]
  },
  {
   "cell_type": "code",
   "execution_count": null,
   "id": "d9a9b95d",
   "metadata": {},
   "outputs": [],
   "source": []
  },
  {
   "cell_type": "code",
   "execution_count": 76,
   "id": "e505ba52",
   "metadata": {},
   "outputs": [
    {
     "data": {
      "text/html": [
       "<div>\n",
       "<style scoped>\n",
       "    .dataframe tbody tr th:only-of-type {\n",
       "        vertical-align: middle;\n",
       "    }\n",
       "\n",
       "    .dataframe tbody tr th {\n",
       "        vertical-align: top;\n",
       "    }\n",
       "\n",
       "    .dataframe thead th {\n",
       "        text-align: right;\n",
       "    }\n",
       "</style>\n",
       "<table border=\"1\" class=\"dataframe\">\n",
       "  <thead>\n",
       "    <tr style=\"text-align: right;\">\n",
       "      <th></th>\n",
       "      <th>Name</th>\n",
       "      <th>Age</th>\n",
       "      <th>Gender</th>\n",
       "      <th>Salary</th>\n",
       "      <th>Role</th>\n",
       "    </tr>\n",
       "  </thead>\n",
       "  <tbody>\n",
       "    <tr>\n",
       "      <th>0</th>\n",
       "      <td>Ahmed</td>\n",
       "      <td>25</td>\n",
       "      <td>male</td>\n",
       "      <td>5000</td>\n",
       "      <td>Civil Engineer</td>\n",
       "    </tr>\n",
       "    <tr>\n",
       "      <th>1</th>\n",
       "      <td>Mohamed</td>\n",
       "      <td>50</td>\n",
       "      <td>male</td>\n",
       "      <td>2000</td>\n",
       "      <td>Data Analyst</td>\n",
       "    </tr>\n",
       "    <tr>\n",
       "      <th>2</th>\n",
       "      <td>Ibrahim</td>\n",
       "      <td>44</td>\n",
       "      <td>male</td>\n",
       "      <td>10000</td>\n",
       "      <td>SW Developer</td>\n",
       "    </tr>\n",
       "    <tr>\n",
       "      <th>3</th>\n",
       "      <td>Sara</td>\n",
       "      <td>24</td>\n",
       "      <td>female</td>\n",
       "      <td>8000</td>\n",
       "      <td>Ml Engineer</td>\n",
       "    </tr>\n",
       "    <tr>\n",
       "      <th>4</th>\n",
       "      <td>Yasmin</td>\n",
       "      <td>15</td>\n",
       "      <td>female</td>\n",
       "      <td>1000</td>\n",
       "      <td>Student</td>\n",
       "    </tr>\n",
       "  </tbody>\n",
       "</table>\n",
       "</div>"
      ],
      "text/plain": [
       "      Name  Age  Gender  Salary            Role\n",
       "0    Ahmed   25    male    5000  Civil Engineer\n",
       "1  Mohamed   50    male    2000    Data Analyst\n",
       "2  Ibrahim   44    male   10000    SW Developer\n",
       "3     Sara   24  female    8000     Ml Engineer\n",
       "4   Yasmin   15  female    1000         Student"
      ]
     },
     "execution_count": 76,
     "metadata": {},
     "output_type": "execute_result"
    }
   ],
   "source": [
    "pd.read_excel('persons.xlsx')"
   ]
  },
  {
   "cell_type": "code",
   "execution_count": 63,
   "id": "4892d805",
   "metadata": {},
   "outputs": [
    {
     "data": {
      "text/plain": [
       "'D:\\\\epsilon work'"
      ]
     },
     "execution_count": 63,
     "metadata": {},
     "output_type": "execute_result"
    }
   ],
   "source": [
    "os.getcwd()"
   ]
  },
  {
   "cell_type": "code",
   "execution_count": 65,
   "id": "6e771a7a",
   "metadata": {},
   "outputs": [],
   "source": [
    "d = {\n",
    "    'Name':['Ahmed', 'Mohamed', 'Ibrahim', 'Sara', 'Yasmin'],\n",
    "    'Age':[25, 50, 44, 24, 15],\n",
    "    'Gender':['male', 'male', 'male', 'female', 'female'],\n",
    "    'Salary': [5000, 2000, 10000, 8000, 1000],\n",
    "    'Role':['Civil Engineer', 'Data Analyst', 'SW Developer', 'Ml Engineer', 'Student']\n",
    "}"
   ]
  },
  {
   "cell_type": "code",
   "execution_count": 71,
   "id": "a013abbc",
   "metadata": {},
   "outputs": [
    {
     "data": {
      "text/plain": [
       "'Ahmed'"
      ]
     },
     "execution_count": 71,
     "metadata": {},
     "output_type": "execute_result"
    }
   ],
   "source": [
    "key= list(d.keys())[0]\n",
    "l = len(d[key])\n",
    "d[key][0]"
   ]
  },
  {
   "cell_type": "code",
   "execution_count": null,
   "id": "6682d67e",
   "metadata": {},
   "outputs": [],
   "source": []
  }
 ],
 "metadata": {
  "kernelspec": {
   "display_name": "Python 3 (ipykernel)",
   "language": "python",
   "name": "python3"
  },
  "language_info": {
   "codemirror_mode": {
    "name": "ipython",
    "version": 3
   },
   "file_extension": ".py",
   "mimetype": "text/x-python",
   "name": "python",
   "nbconvert_exporter": "python",
   "pygments_lexer": "ipython3",
   "version": "3.10.9"
  }
 },
 "nbformat": 4,
 "nbformat_minor": 5
}
