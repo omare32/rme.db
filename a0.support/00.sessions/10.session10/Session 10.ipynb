{
 "cells": [
  {
   "cell_type": "markdown",
   "id": "ad02a76d",
   "metadata": {},
   "source": [
    "## OOP"
   ]
  },
  {
   "cell_type": "code",
   "execution_count": 1,
   "id": "838b24a7",
   "metadata": {},
   "outputs": [
    {
     "data": {
      "text/plain": [
       "list"
      ]
     },
     "execution_count": 1,
     "metadata": {},
     "output_type": "execute_result"
    }
   ],
   "source": [
    "type([12,34,'dfgsfd'])"
   ]
  },
  {
   "cell_type": "code",
   "execution_count": 2,
   "id": "373e974f",
   "metadata": {},
   "outputs": [
    {
     "name": "stdout",
     "output_type": "stream",
     "text": [
      "<class 'list'>\n"
     ]
    }
   ],
   "source": [
    "print(type([12,34,'dfgsfd']))"
   ]
  },
  {
   "cell_type": "code",
   "execution_count": 3,
   "id": "03a61f8a",
   "metadata": {},
   "outputs": [],
   "source": [
    "l=[1,2,4,'eee']\n"
   ]
  },
  {
   "cell_type": "code",
   "execution_count": 4,
   "id": "ed03b1f4",
   "metadata": {},
   "outputs": [],
   "source": [
    "l.append('999')"
   ]
  },
  {
   "cell_type": "code",
   "execution_count": 5,
   "id": "a497b8d5",
   "metadata": {},
   "outputs": [
    {
     "data": {
      "text/plain": [
       "[1, 2, 4, 'eee', '999']"
      ]
     },
     "execution_count": 5,
     "metadata": {},
     "output_type": "execute_result"
    }
   ],
   "source": [
    "l"
   ]
  },
  {
   "cell_type": "code",
   "execution_count": 6,
   "id": "d060923a",
   "metadata": {},
   "outputs": [],
   "source": [
    "class c1:\n",
    "    pass"
   ]
  },
  {
   "cell_type": "code",
   "execution_count": 7,
   "id": "d19921c7",
   "metadata": {},
   "outputs": [],
   "source": [
    "ob1=c1()"
   ]
  },
  {
   "cell_type": "code",
   "execution_count": 8,
   "id": "f3cdd144",
   "metadata": {},
   "outputs": [],
   "source": [
    "ob2=c1()"
   ]
  },
  {
   "cell_type": "code",
   "execution_count": 19,
   "id": "36f47bb7",
   "metadata": {},
   "outputs": [],
   "source": [
    "class c2:\n",
    "    def __init__(self,c):\n",
    "        self.x=c\n",
    "        print('init')\n",
    "    def f1(self):\n",
    "        return self.x+10\n",
    "        "
   ]
  },
  {
   "cell_type": "code",
   "execution_count": 20,
   "id": "7bbf1eb7",
   "metadata": {},
   "outputs": [
    {
     "name": "stdout",
     "output_type": "stream",
     "text": [
      "init\n"
     ]
    }
   ],
   "source": [
    "ob1=c2(8)"
   ]
  },
  {
   "cell_type": "code",
   "execution_count": 21,
   "id": "c033dcb6",
   "metadata": {},
   "outputs": [
    {
     "data": {
      "text/plain": [
       "18"
      ]
     },
     "execution_count": 21,
     "metadata": {},
     "output_type": "execute_result"
    }
   ],
   "source": [
    "ob1.f1()"
   ]
  },
  {
   "cell_type": "code",
   "execution_count": 22,
   "id": "0d9851e2",
   "metadata": {},
   "outputs": [
    {
     "name": "stdout",
     "output_type": "stream",
     "text": [
      "init\n"
     ]
    }
   ],
   "source": [
    "ob2=c2(89)"
   ]
  },
  {
   "cell_type": "code",
   "execution_count": 23,
   "id": "c39fd88a",
   "metadata": {},
   "outputs": [
    {
     "data": {
      "text/plain": [
       "99"
      ]
     },
     "execution_count": 23,
     "metadata": {},
     "output_type": "execute_result"
    }
   ],
   "source": [
    "ob2.f1()"
   ]
  },
  {
   "cell_type": "code",
   "execution_count": 24,
   "id": "57ca2c80",
   "metadata": {},
   "outputs": [],
   "source": [
    "class user:\n",
    "    def __init__(self,name,gender,age):\n",
    "        self.name=name\n",
    "        self.gender=gender\n",
    "        self.age=age\n",
    "        print('init....')\n",
    "        \n",
    "    def show(self):\n",
    "        print('name:',self.name)\n",
    "        print('age:',self.age)\n",
    "        print('gender:',self.gender)\n",
    "        "
   ]
  },
  {
   "cell_type": "code",
   "execution_count": 25,
   "id": "45ab17b4",
   "metadata": {},
   "outputs": [
    {
     "name": "stdout",
     "output_type": "stream",
     "text": [
      "init....\n"
     ]
    }
   ],
   "source": [
    "user1=user('mg','male',33)\n"
   ]
  },
  {
   "cell_type": "code",
   "execution_count": 26,
   "id": "534d4d64",
   "metadata": {},
   "outputs": [
    {
     "data": {
      "text/plain": [
       "33"
      ]
     },
     "execution_count": 26,
     "metadata": {},
     "output_type": "execute_result"
    }
   ],
   "source": [
    "user1.age"
   ]
  },
  {
   "cell_type": "code",
   "execution_count": 27,
   "id": "feb11f00",
   "metadata": {},
   "outputs": [
    {
     "data": {
      "text/plain": [
       "'mg'"
      ]
     },
     "execution_count": 27,
     "metadata": {},
     "output_type": "execute_result"
    }
   ],
   "source": [
    "user1.name"
   ]
  },
  {
   "cell_type": "code",
   "execution_count": 28,
   "id": "f7a5e6fb",
   "metadata": {},
   "outputs": [
    {
     "name": "stdout",
     "output_type": "stream",
     "text": [
      "name: mg\n",
      "age: 33\n",
      "gender: male\n"
     ]
    }
   ],
   "source": [
    "user1.show()"
   ]
  },
  {
   "cell_type": "code",
   "execution_count": 29,
   "id": "4e1f374d",
   "metadata": {},
   "outputs": [
    {
     "name": "stdout",
     "output_type": "stream",
     "text": [
      "Enter ur name:ali\n",
      "Enter ur gender:male\n",
      "Enter ur age:77\n",
      "init....\n"
     ]
    }
   ],
   "source": [
    "name=input('Enter ur name:')\n",
    "gender=input('Enter ur gender:')\n",
    "age=int(input('Enter ur age:'))\n",
    "\n",
    "user2=user(name,gender,age)\n"
   ]
  },
  {
   "cell_type": "code",
   "execution_count": 30,
   "id": "f7a3e546",
   "metadata": {},
   "outputs": [
    {
     "data": {
      "text/plain": [
       "'ali'"
      ]
     },
     "execution_count": 30,
     "metadata": {},
     "output_type": "execute_result"
    }
   ],
   "source": [
    "user2.name"
   ]
  },
  {
   "cell_type": "code",
   "execution_count": 31,
   "id": "02b62379",
   "metadata": {},
   "outputs": [
    {
     "name": "stdout",
     "output_type": "stream",
     "text": [
      "name: ali\n",
      "age: 77\n",
      "gender: male\n"
     ]
    }
   ],
   "source": [
    "user2.show()"
   ]
  },
  {
   "cell_type": "code",
   "execution_count": 32,
   "id": "5f1b6b95",
   "metadata": {},
   "outputs": [],
   "source": [
    "class userx:\n",
    "    def __init__(self):\n",
    "        self.name=input('Enter ur name: ')\n",
    "        self.gender=input('Enter ur gender: ')\n",
    "        self.age=int(input('Enter ur age: '))\n",
    "        print('init....')\n",
    "        \n",
    "    def show(self):\n",
    "        print('name:',self.name)\n",
    "        print('age:',self.age)\n",
    "        print('gender:',self.gender)\n",
    "        "
   ]
  },
  {
   "cell_type": "code",
   "execution_count": 33,
   "id": "df3cc715",
   "metadata": {},
   "outputs": [
    {
     "name": "stdout",
     "output_type": "stream",
     "text": [
      "Enter ur name: sara\n",
      "Enter ur gender: female\n",
      "Enter ur age: 22\n",
      "init....\n"
     ]
    }
   ],
   "source": [
    "us1=userx()"
   ]
  },
  {
   "cell_type": "code",
   "execution_count": 34,
   "id": "7e7e4461",
   "metadata": {},
   "outputs": [
    {
     "data": {
      "text/plain": [
       "'sara'"
      ]
     },
     "execution_count": 34,
     "metadata": {},
     "output_type": "execute_result"
    }
   ],
   "source": [
    "us1.name"
   ]
  },
  {
   "cell_type": "code",
   "execution_count": 35,
   "id": "4a0d4843",
   "metadata": {},
   "outputs": [
    {
     "name": "stdout",
     "output_type": "stream",
     "text": [
      "name: sara\n",
      "age: 22\n",
      "gender: female\n"
     ]
    }
   ],
   "source": [
    "us1.show()"
   ]
  },
  {
   "cell_type": "code",
   "execution_count": 64,
   "id": "1e2a940e",
   "metadata": {},
   "outputs": [],
   "source": [
    "class userq:\n",
    "    def __init__(self,name,age):\n",
    "        \n",
    "        self.__name=name\n",
    "        self.__age=age\n",
    "        \n",
    "    def getter(self):\n",
    "        print(self.__name,'   ',self.__age)\n",
    "    def getname(self):\n",
    "        print('name:',self.__name)\n",
    "        \n",
    "    def setname(self,name):\n",
    "        if type(name) == str :\n",
    "            self.__name= name\n",
    "        else:\n",
    "            print('wrong value')\n",
    "            "
   ]
  },
  {
   "cell_type": "code",
   "execution_count": 69,
   "id": "c77a5a62",
   "metadata": {},
   "outputs": [],
   "source": [
    "user122=userq('mg',33)"
   ]
  },
  {
   "cell_type": "code",
   "execution_count": 77,
   "id": "ec28b9b9",
   "metadata": {},
   "outputs": [
    {
     "name": "stdout",
     "output_type": "stream",
     "text": [
      "uuu     33\n"
     ]
    }
   ],
   "source": [
    "user122.getter()"
   ]
  },
  {
   "cell_type": "code",
   "execution_count": 76,
   "id": "7fa4eaf7",
   "metadata": {},
   "outputs": [],
   "source": [
    "user122.setname('uuu')"
   ]
  },
  {
   "cell_type": "code",
   "execution_count": 63,
   "id": "2c88daff",
   "metadata": {},
   "outputs": [
    {
     "data": {
      "text/plain": [
       "'ali'"
      ]
     },
     "execution_count": 63,
     "metadata": {},
     "output_type": "execute_result"
    }
   ],
   "source": [
    "us1.name"
   ]
  },
  {
   "cell_type": "code",
   "execution_count": 95,
   "id": "c2605da5",
   "metadata": {},
   "outputs": [],
   "source": [
    "class ch(userq):\n",
    "    def __init__(self,name,age):\n",
    "        userq.__init__(self,name,age)\n",
    "        print('ch init')\n",
    "        \n",
    "    def ccc(self):\n",
    "        print('ccc ch')\n",
    "    "
   ]
  },
  {
   "cell_type": "code",
   "execution_count": 96,
   "id": "19909e76",
   "metadata": {},
   "outputs": [
    {
     "name": "stdout",
     "output_type": "stream",
     "text": [
      "ch init\n"
     ]
    }
   ],
   "source": [
    "d=ch('kk',23)"
   ]
  },
  {
   "cell_type": "code",
   "execution_count": 97,
   "id": "913115b3",
   "metadata": {},
   "outputs": [
    {
     "name": "stdout",
     "output_type": "stream",
     "text": [
      "name: kk\n"
     ]
    }
   ],
   "source": [
    "d.getname()"
   ]
  },
  {
   "cell_type": "code",
   "execution_count": null,
   "id": "bf3072ad",
   "metadata": {},
   "outputs": [],
   "source": []
  }
 ],
 "metadata": {
  "kernelspec": {
   "display_name": "Python 3",
   "language": "python",
   "name": "python3"
  },
  "language_info": {
   "codemirror_mode": {
    "name": "ipython",
    "version": 3
   },
   "file_extension": ".py",
   "mimetype": "text/x-python",
   "name": "python",
   "nbconvert_exporter": "python",
   "pygments_lexer": "ipython3",
   "version": "3.8.8"
  }
 },
 "nbformat": 4,
 "nbformat_minor": 5
}
