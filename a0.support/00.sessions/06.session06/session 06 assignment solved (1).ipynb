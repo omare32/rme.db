{
 "cells": [
  {
   "cell_type": "code",
   "execution_count": 3,
   "id": "eebaf851",
   "metadata": {},
   "outputs": [],
   "source": [
    "import xlsxwriter"
   ]
  },
  {
   "cell_type": "code",
   "execution_count": 7,
   "id": "25a7b3b0",
   "metadata": {},
   "outputs": [
    {
     "name": "stdout",
     "output_type": "stream",
     "text": [
      "No of Students =3\n",
      "Enter Name Then Grademoh\n",
      "Enter Name Then Grade3\n",
      "Enter Name Then Gradeali\n",
      "Enter Name Then Grade4\n",
      "Enter Name Then Gradeomar\n",
      "Enter Name Then Grade5\n"
     ]
    }
   ],
   "source": [
    "workbook=xlsxwriter.Workbook('assignment.xlsx')\n",
    "worksheet=workbook.add_worksheet()\n",
    "\n",
    "N=int(input('No of Students ='))\n",
    "\n",
    "for row in range(N):\n",
    "    col=0\n",
    "    for col in range(2):\n",
    "        worksheet.write(row,col,input('Enter Name Then Grade'))\n",
    "    \n",
    "workbook.close()\n"
   ]
  }
 ],
 "metadata": {
  "kernelspec": {
   "display_name": "Python 3 (ipykernel)",
   "language": "python",
   "name": "python3"
  },
  "language_info": {
   "codemirror_mode": {
    "name": "ipython",
    "version": 3
   },
   "file_extension": ".py",
   "mimetype": "text/x-python",
   "name": "python",
   "nbconvert_exporter": "python",
   "pygments_lexer": "ipython3",
   "version": "3.9.13"
  }
 },
 "nbformat": 4,
 "nbformat_minor": 5
}
