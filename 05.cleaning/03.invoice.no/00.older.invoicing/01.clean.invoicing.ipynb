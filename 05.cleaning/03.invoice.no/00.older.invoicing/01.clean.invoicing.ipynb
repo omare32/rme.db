{
 "cells": [
  {
   "cell_type": "code",
   "execution_count": 1,
   "metadata": {},
   "outputs": [
    {
     "name": "stderr",
     "output_type": "stream",
     "text": [
      "C:\\Users\\Omar Essam\\AppData\\Local\\Temp\\ipykernel_7768\\618412518.py:37: SettingWithCopyWarning: \n",
      "A value is trying to be set on a copy of a slice from a DataFrame.\n",
      "Try using .loc[row_indexer,col_indexer] = value instead\n",
      "\n",
      "See the caveats in the documentation: https://pandas.pydata.org/pandas-docs/stable/user_guide/indexing.html#returning-a-view-versus-a-copy\n",
      "  df_invoice_filtered['Invoice No'] = pd.to_numeric(df_invoice_filtered['Invoice No'])\n"
     ]
    }
   ],
   "source": [
    "import re\n",
    "import pandas as pd\n",
    "\n",
    "# Read the Excel file into a DataFrame\n",
    "df_invoice = pd.read_excel('invoice.no.to.get.xlsx')\n",
    "\n",
    "# Define a function to extract invoice number\n",
    "def extract_invoice_number(text):\n",
    "    if pd.isna(text):\n",
    "        return None\n",
    "\n",
    "    # Define regular expression patterns to match different formats of invoice numbers\n",
    "    patterns = [\n",
    "        r\"ipc\\s*(\\d+)\",              # Matches \"ipc\" followed by a number\n",
    "        r\"invoice\\s*(\\d+)\",        # Matches \"invoice\" followed by a number\n",
    "        r\"inv\\s*(\\d+)\",             # Matches \"inv\" followed by a number\n",
    "        r\"inv\\s*(?:no)?\\s*#?\\s*(\\d+)\",  # Matches \"inv\", with optional \"no\" or \"#\", followed by a number\n",
    "        r\"[Ii][Nn][Vv]\\s*(?:no)?\\s*.?\\s*(\\d+)\",  # Matches \"inv\" or \"INV\", with optional \"no\" and intervening characters, followed by a number\n",
    "        r\"[Ii][Pp][Cc]\\s*\\(?(\\d+)\\)?\",  # Matches \"ipc\" or \"IPC\" with an optional number in parentheses\n",
    "    ]\n",
    "\n",
    "    # Search for the patterns in the text\n",
    "    for pattern in patterns:\n",
    "        match = re.search(pattern, text, re.IGNORECASE)\n",
    "        if match:\n",
    "            return match.group(1)\n",
    "\n",
    "    return None\n",
    "\n",
    "# Extract invoice numbers from `COMMENTS` column\n",
    "df_invoice['Invoice No'] = df_invoice['Comments'].apply(extract_invoice_number)\n",
    "\n",
    "# Drop rows with missing `invoice_number`\n",
    "df_invoice_filtered = df_invoice.dropna(subset=['Invoice No'])\n",
    "\n",
    "# Convert `invoice_number` to numeric\n",
    "df_invoice_filtered['Invoice No'] = pd.to_numeric(df_invoice_filtered['Invoice No'])\n",
    "\n",
    "# Save the dataframe to a new Excel file\n",
    "df_invoice_filtered.to_excel(\"invoice_numbers_extracted.xlsx\", index=False)"
   ]
  }
 ],
 "metadata": {
  "kernelspec": {
   "display_name": "Python 3",
   "language": "python",
   "name": "python3"
  },
  "language_info": {
   "codemirror_mode": {
    "name": "ipython",
    "version": 3
   },
   "file_extension": ".py",
   "mimetype": "text/x-python",
   "name": "python",
   "nbconvert_exporter": "python",
   "pygments_lexer": "ipython3",
   "version": "3.12.5"
  }
 },
 "nbformat": 4,
 "nbformat_minor": 2
}
