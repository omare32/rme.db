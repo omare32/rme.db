{
 "cells": [
  {
   "cell_type": "code",
   "execution_count": 27,
   "id": "0e24ce02",
   "metadata": {},
   "outputs": [],
   "source": [
    "import pandas as pd\n",
    "from sklearn.model_selection import train_test_split\n",
    "from sklearn.feature_extraction.text import CountVectorizer\n",
    "from sklearn.naive_bayes import MultinomialNB\n",
    "from sklearn.pipeline import make_pipeline\n",
    "from sklearn import metrics\n",
    "\n",
    "# Sample data (replace this with your own dataset)\n",
    "data = [\n",
    "    {'text': 'This is a خرسانه مسلحه example', 'category': 'rc'},\n",
    "    {'text': 'This is a خرسانة مسلحة اجهاد example', 'category': 'rc'},    \n",
    "    {'text': 'This is a انترلوك  example', 'category': 'interlock'},\n",
    "    {'text': 'interlock انترلوك sentiment here', 'category': 'interlock'},\n",
    "    {'text': 'حديد تسليح rebar rft sentiment here', 'category': 'reinforcement'}\n",
    "]\n",
    "\n",
    "# Convert data to a DataFrame\n",
    "df = pd.DataFrame(data)\n",
    "\n",
    "# Split data into training and testing sets\n",
    "train_data, test_data, train_labels, test_labels = train_test_split(\n",
    "    df['text'],\n",
    "    df['category'],\n",
    "    test_size=0.2\n",
    ")\n",
    "\n",
    "# Create a pipeline with a vectorizer and a classifier\n",
    "model = make_pipeline(CountVectorizer(), MultinomialNB())\n",
    "\n",
    "# Train the model\n",
    "model.fit(train_data, train_labels)\n",
    "\n",
    "# Make predictions on new data\n",
    "new_data = pd.read_excel(\"Book2.xlsx\", sheet_name=\"Sheet1\", usecols=['Description'])\n",
    "new_predictions = model.predict(new_data['Description'])\n",
    "\n",
    "# Add predictions to the new_data DataFrame\n",
    "new_data['predictions'] = new_predictions\n",
    "\n",
    "# Save the results to an Excel file\n",
    "df.to_excel('Book3.xlsx', index=False)\n",
    "new_data.to_excel('Book3.xlsx', index=False)"
   ]
  }
 ],
 "metadata": {
  "kernelspec": {
   "display_name": "Python 3 (ipykernel)",
   "language": "python",
   "name": "python3"
  },
  "language_info": {
   "codemirror_mode": {
    "name": "ipython",
    "version": 3
   },
   "file_extension": ".py",
   "mimetype": "text/x-python",
   "name": "python",
   "nbconvert_exporter": "python",
   "pygments_lexer": "ipython3",
   "version": "3.11.0"
  }
 },
 "nbformat": 4,
 "nbformat_minor": 5
}
