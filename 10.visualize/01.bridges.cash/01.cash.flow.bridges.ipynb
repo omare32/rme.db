{
 "cells": [
  {
   "cell_type": "code",
   "execution_count": 1,
   "metadata": {},
   "outputs": [],
   "source": [
    "import pandas as pd"
   ]
  },
  {
   "cell_type": "code",
   "execution_count": 2,
   "metadata": {},
   "outputs": [],
   "source": [
    "# Specify the file path\n",
    "file_path = r'D:\\OneDrive\\OneDrive - Rowad Modern Engineering\\x004 Data Science\\03.rme.db\\00.repo\\rme.db\\10.visualize\\01.bridges.cash\\00.main.file\\Bridges Sector Cash In And Out Data.xlsx'"
   ]
  },
  {
   "cell_type": "code",
   "execution_count": 3,
   "metadata": {},
   "outputs": [],
   "source": [
    "# Read the \"In Values\" sheet into a DataFrame\n",
    "in_values_df = pd.read_excel(file_path, sheet_name='In Values')\n",
    "\n",
    "# Read the \"Out Values\" sheet into another DataFrame\n",
    "out_values_df = pd.read_excel(file_path, sheet_name='Out Values')"
   ]
  },
  {
   "cell_type": "code",
   "execution_count": null,
   "metadata": {},
   "outputs": [],
   "source": []
  },
  {
   "cell_type": "code",
   "execution_count": 4,
   "metadata": {},
   "outputs": [],
   "source": [
    "# Merge the \"In Values\" and \"Out Values\" DataFrames on the \"Project Name\" column\n",
    "merged_df = pd.merge(in_values_df, out_values_df, on='Project Name', suffixes=('_in', '_out'), how='outer')\n",
    "\n",
    "# Fill NaN values with 0 for cash in and cash out columns\n",
    "merged_df['Amount_in'].fillna(0, inplace=True)\n",
    "merged_df['Amount_out'].fillna(0, inplace=True)"
   ]
  },
  {
   "cell_type": "code",
   "execution_count": 5,
   "metadata": {},
   "outputs": [],
   "source": [
    "# Calculate cumulative cash flow for each project\n",
    "merged_df['Cumulative Cash Flow'] = merged_df.groupby('Project Name')['Amount_in'].cumsum() - merged_df.groupby('Project Name')['Amount_out'].cumsum()"
   ]
  },
  {
   "cell_type": "code",
   "execution_count": 6,
   "metadata": {},
   "outputs": [
    {
     "name": "stderr",
     "output_type": "stream",
     "text": [
      "WARNING:bokeh.embed.util:\n",
      "You are generating standalone HTML/JS output, but trying to use real Python\n",
      "callbacks (i.e. with on_change or on_event). This combination cannot work.\n",
      "\n",
      "Only JavaScript callbacks may be used with standalone output. For more\n",
      "information on JavaScript callbacks with Bokeh, see:\n",
      "\n",
      "    https://docs.bokeh.org/en/latest/docs/user_guide/interaction/callbacks.html\n",
      "\n",
      "Alternatively, to use real Python callbacks, a Bokeh server application may\n",
      "be used. For more information on building and running Bokeh applications, see:\n",
      "\n",
      "    https://docs.bokeh.org/en/latest/docs/user_guide/server.html\n",
      "\n"
     ]
    }
   ],
   "source": [
    "import pandas as pd\n",
    "from bokeh.plotting import figure, show\n",
    "from bokeh.models import ColumnDataSource, Select\n",
    "from bokeh.layouts import column\n",
    "from bokeh.io import curdoc, output_file\n",
    "from bokeh.transform import factor_cmap\n",
    "from bokeh.palettes import Viridis256  # Using Viridis256 for a large number of colors\n",
    "\n",
    "# Convert the 'Date' column to datetime type if it's not already\n",
    "in_values_df['Date'] = pd.to_datetime(in_values_df['Date'])\n",
    "\n",
    "# Extract year and month from the 'Date' column\n",
    "in_values_df['Year'] = in_values_df['Date'].dt.year\n",
    "in_values_df['Month'] = in_values_df['Date'].dt.month_name()\n",
    "\n",
    "# Group by year and month and calculate the sum of cash in for each month\n",
    "cash_in_per_month = in_values_df.groupby(['Year', 'Month'])['Amount'].sum().reset_index()\n",
    "\n",
    "# Create a new column with the combined year and month values\n",
    "cash_in_per_month['YearMonth'] = cash_in_per_month.apply(lambda x: f\"{x['Month']} {x['Year']}\", axis=1)\n",
    "\n",
    "# Create a Bokeh data source from the aggregated DataFrame\n",
    "source = ColumnDataSource(data=cash_in_per_month)\n",
    "\n",
    "# Define the Bokeh figure\n",
    "p = figure(x_range=cash_in_per_month['YearMonth'], height=350, title=\"Cash In per Month\")\n",
    "\n",
    "# Create a bar chart for cash in with dynamically generated colors\n",
    "unique_factors = cash_in_per_month['YearMonth'].unique()\n",
    "num_factors = len(unique_factors)\n",
    "color_mapper = factor_cmap(field_name='YearMonth', palette=Viridis256[:num_factors], factors=unique_factors)\n",
    "p.vbar(x='YearMonth', top='Amount', source=source, width=0.8, color=color_mapper)\n",
    "\n",
    "# Configure the plot\n",
    "p.xaxis.major_label_orientation = 45  # Rotate x-axis labels for readability\n",
    "\n",
    "# Create a Select widget to choose a project\n",
    "project_select = Select(title=\"Select Project:\", options=in_values_df['Project Name'].unique().tolist())\n",
    "\n",
    "# Define a callback function to update the plot based on the selected project\n",
    "def update_plot(attrname, old_value, new_value):\n",
    "    selected_project = project_select.value\n",
    "    new_data = cash_in_per_month[cash_in_per_month['Project Name'] == selected_project]\n",
    "    source.data = ColumnDataSource(data=new_data).data\n",
    "\n",
    "project_select.on_change('value', update_plot)\n",
    "\n",
    "# Create a layout for the plot and Select widget\n",
    "layout = column(project_select, p)\n",
    "\n",
    "# Save the plot as an HTML file (optional)\n",
    "output_file(\"cash_flow_plot.html\")\n",
    "\n",
    "# Show the plot\n",
    "show(layout)\n"
   ]
  },
  {
   "cell_type": "code",
   "execution_count": 7,
   "metadata": {},
   "outputs": [
    {
     "name": "stderr",
     "output_type": "stream",
     "text": [
      "WARNING:bokeh.embed.util:\n",
      "You are generating standalone HTML/JS output, but trying to use real Python\n",
      "callbacks (i.e. with on_change or on_event). This combination cannot work.\n",
      "\n",
      "Only JavaScript callbacks may be used with standalone output. For more\n",
      "information on JavaScript callbacks with Bokeh, see:\n",
      "\n",
      "    https://docs.bokeh.org/en/latest/docs/user_guide/interaction/callbacks.html\n",
      "\n",
      "Alternatively, to use real Python callbacks, a Bokeh server application may\n",
      "be used. For more information on building and running Bokeh applications, see:\n",
      "\n",
      "    https://docs.bokeh.org/en/latest/docs/user_guide/server.html\n",
      "\n"
     ]
    }
   ],
   "source": [
    "# Show the plot in the notebook\n",
    "show(layout, notebook_handle=True)"
   ]
  }
 ],
 "metadata": {
  "kernelspec": {
   "display_name": "Python 3",
   "language": "python",
   "name": "python3"
  },
  "language_info": {
   "codemirror_mode": {
    "name": "ipython",
    "version": 3
   },
   "file_extension": ".py",
   "mimetype": "text/x-python",
   "name": "python",
   "nbconvert_exporter": "python",
   "pygments_lexer": "ipython3",
   "version": "3.11.0"
  },
  "orig_nbformat": 4
 },
 "nbformat": 4,
 "nbformat_minor": 2
}
