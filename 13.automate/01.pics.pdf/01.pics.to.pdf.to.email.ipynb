{
 "cells": [
  {
   "cell_type": "code",
   "execution_count": 2,
   "metadata": {},
   "outputs": [
    {
     "name": "stdout",
     "output_type": "stream",
     "text": [
      "PDF created successfully: site_progress_pictures.pdf\n"
     ]
    }
   ],
   "source": [
    "import os\n",
    "from PIL import Image\n",
    "from reportlab.pdfgen import canvas\n",
    "\n",
    "def images_to_pdf(input_folder, output_pdf):\n",
    "    # Create a PDF file\n",
    "    pdf = canvas.Canvas(output_pdf)\n",
    "    \n",
    "    # Add cover page\n",
    "    cover_title = \"Progress Pictures From Site\"\n",
    "    \n",
    "    # Set page size to landscape\n",
    "    pdf.setPageSize((pdf._pagesize[1], pdf._pagesize[0]))\n",
    "    \n",
    "    # Get the width and height of the canvas\n",
    "    width, height = pdf._pagesize\n",
    "    \n",
    "    # Increase font size for the cover title\n",
    "    pdf.setFont(\"Helvetica\", 24)\n",
    "    \n",
    "    # Center the text on the cover page\n",
    "    pdf.drawCentredString(width / 2, height / 2, cover_title)\n",
    "    pdf.showPage()\n",
    "    \n",
    "    # Get a list of all files in the input folder\n",
    "    files = os.listdir(input_folder)\n",
    "    \n",
    "    # Filter only image files\n",
    "    image_files = [file for file in files if file.lower().endswith(('.png', '.jpg', '.jpeg', '.gif', '.bmp'))]\n",
    "    \n",
    "    # Sort image files alphabetically\n",
    "    image_files.sort()\n",
    "    \n",
    "    for image_file in image_files:\n",
    "        # Get the full path of the image\n",
    "        image_path = os.path.join(input_folder, image_file)\n",
    "        \n",
    "        # Open the image using Pillow\n",
    "        img = Image.open(image_path)\n",
    "        \n",
    "        # Get the dimensions of the image\n",
    "        img_width, img_height = img.size\n",
    "        \n",
    "        # Add a new page to the PDF with the size of the image\n",
    "        pdf.setPageSize((img_width, img_height))\n",
    "        pdf.showPage()\n",
    "        \n",
    "        # Draw the image on the PDF\n",
    "        pdf.drawInlineImage(image_path, 0, 0, width=img_width, height=img_height)\n",
    "    \n",
    "    # Save the PDF\n",
    "    pdf.save()\n",
    "\n",
    "if __name__ == \"__main__\":\n",
    "    input_folder = \"pics\"\n",
    "    output_pdf = \"site_progress_pictures.pdf\"\n",
    "    \n",
    "    images_to_pdf(input_folder, output_pdf)\n",
    "    print(f\"PDF created successfully: {output_pdf}\")\n"
   ]
  },
  {
   "cell_type": "code",
   "execution_count": 3,
   "metadata": {},
   "outputs": [
    {
     "name": "stdout",
     "output_type": "stream",
     "text": [
      "Email sent successfully.\n"
     ]
    }
   ],
   "source": [
    "import smtplib\n",
    "from email.mime.multipart import MIMEMultipart\n",
    "from email.mime.text import MIMEText\n",
    "from email.mime.application import MIMEApplication\n",
    "import PyPDF2\n",
    "\n",
    "def send_email_with_pdf(pdf_filename):\n",
    "    # Set up the email content\n",
    "    email = MIMEMultipart()\n",
    "    email['From'] = 'omaressamrme@gmail.com'\n",
    "    email['To'] = 'eng.omar.e@gmail.com'\n",
    "    email['Subject'] = 'Site Progress Pictures'\n",
    "\n",
    "    # Add body text (optional)\n",
    "    email.attach(MIMEText('Please find the site progress pictures attached.'))\n",
    "\n",
    "    # Attach the PDF file\n",
    "    with open(pdf_filename, 'rb') as pdf_file:\n",
    "        pdf_attachment = MIMEApplication(pdf_file.read(), _subtype=\"pdf\")\n",
    "        pdf_attachment.add_header('Content-Disposition', f'attachment; filename={pdf_filename}')\n",
    "        email.attach(pdf_attachment)\n",
    "\n",
    "    # Connect to the SMTP server (Gmail in this case)\n",
    "    with smtplib.SMTP('smtp.gmail.com', 587) as server:\n",
    "        server.starttls()  # Use TLS encryption\n",
    "        # Use the generated App Password instead of your Gmail password\n",
    "        gmail_app_password = 'krnn bntk gvnv jgak'\n",
    "        server.login('omaressamrme@gmail.com', gmail_app_password)\n",
    "        server.send_message(email)\n",
    "\n",
    "if __name__ == \"__main__\":\n",
    "    pdf_filename = \"site_progress_pictures.pdf\"\n",
    "\n",
    "    try:\n",
    "        send_email_with_pdf(pdf_filename)\n",
    "        print(\"Email sent successfully.\")\n",
    "    except Exception as e:\n",
    "        print(f\"Error: {e}\")\n"
   ]
  }
 ],
 "metadata": {
  "kernelspec": {
   "display_name": "Python 3",
   "language": "python",
   "name": "python3"
  },
  "language_info": {
   "codemirror_mode": {
    "name": "ipython",
    "version": 3
   },
   "file_extension": ".py",
   "mimetype": "text/x-python",
   "name": "python",
   "nbconvert_exporter": "python",
   "pygments_lexer": "ipython3",
   "version": "3.11.0"
  }
 },
 "nbformat": 4,
 "nbformat_minor": 2
}
