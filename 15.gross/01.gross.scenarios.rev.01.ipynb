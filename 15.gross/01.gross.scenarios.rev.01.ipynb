{
 "cells": [
  {
   "cell_type": "code",
   "execution_count": 5,
   "metadata": {},
   "outputs": [
    {
     "name": "stdout",
     "output_type": "stream",
     "text": [
      "PDF report generated: profit_report.pdf\n"
     ]
    }
   ],
   "source": [
    "from reportlab.lib.pagesizes import letter\n",
    "from reportlab.pdfgen import canvas\n",
    "import itertools\n",
    "\n",
    "def generate_pdf(contract, cost, results):\n",
    "    filename = \"profit_report.pdf\"\n",
    "    c = canvas.Canvas(filename, pagesize=letter)\n",
    "    c.drawString(100, 750, \"Profit Possibilities Report\")\n",
    "\n",
    "    # Write contract and cost values\n",
    "    c.drawString(100, 700, f\"Contract Value: {contract}\")\n",
    "    c.drawString(100, 680, f\"Cost Value: {cost}\")\n",
    "    c.drawString(100, 660, \"\")\n",
    "\n",
    "    # Write calculated results\n",
    "    y_offset = 620\n",
    "    for combination, gross_profit_percentage in results:\n",
    "        factors_str = ', '.join(combination) if combination else 'No factors'\n",
    "        c.drawString(100, y_offset, f\"Factors: {factors_str} => Gross Profit %: {gross_profit_percentage:.2f}%\")\n",
    "        y_offset -= 20\n",
    "\n",
    "    c.save()\n",
    "    print(f\"PDF report generated: {filename}\")\n",
    "\n",
    "def calculate_profit_percentage():\n",
    "    contract = float(input(\"Enter the contract value: \"))\n",
    "    cost = float(input(\"Enter the cost of the project: \"))\n",
    "\n",
    "    factors = {}\n",
    "    num_factors = int(input(\"Enter the number of factors: \"))\n",
    "    for i in range(num_factors):\n",
    "        factor_name = input(f\"Enter the name of factor {i + 1}: \")\n",
    "        impact_on = input(f\"Enter the impact on cost (C) or contract (T) for {factor_name}: \")\n",
    "        impact_value = float(input(f\"Enter the impact value for {factor_name}: \"))\n",
    "        factors[factor_name] = (impact_on, impact_value)\n",
    "\n",
    "    factor_combinations = []\n",
    "    for r in range(0, min(len(factors), 3) + 1):\n",
    "        factor_combinations.extend(list(itertools.combinations(factors.keys(), r)))\n",
    "\n",
    "    results = []\n",
    "    for combination in factor_combinations:\n",
    "        combined_impact = 0\n",
    "        for factor in combination:\n",
    "            impact_on, impact_value = factors[factor]\n",
    "            if impact_on.lower() == 'c':\n",
    "                cost += impact_value\n",
    "            elif impact_on.lower() == 't':\n",
    "                contract += impact_value\n",
    "            combined_impact += impact_value\n",
    "\n",
    "        gross_profit = contract - cost\n",
    "        gross_profit_percentage = (gross_profit / contract) * 100\n",
    "        results.append((combination, gross_profit_percentage))\n",
    "        contract -= combined_impact if combined_impact else 0\n",
    "        cost -= combined_impact if combined_impact else 0\n",
    "\n",
    "    return contract, cost, results\n",
    "\n",
    "contract_val, cost_val, possibilities = calculate_profit_percentage()\n",
    "generate_pdf(contract_val, cost_val, possibilities)\n"
   ]
  }
 ],
 "metadata": {
  "kernelspec": {
   "display_name": "Python 3",
   "language": "python",
   "name": "python3"
  },
  "language_info": {
   "codemirror_mode": {
    "name": "ipython",
    "version": 3
   },
   "file_extension": ".py",
   "mimetype": "text/x-python",
   "name": "python",
   "nbconvert_exporter": "python",
   "pygments_lexer": "ipython3",
   "version": "3.12.0"
  }
 },
 "nbformat": 4,
 "nbformat_minor": 2
}
