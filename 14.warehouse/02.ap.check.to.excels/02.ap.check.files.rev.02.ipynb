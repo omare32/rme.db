{
 "cells": [
  {
   "cell_type": "code",
   "execution_count": 1,
   "metadata": {},
   "outputs": [
    {
     "name": "stdout",
     "output_type": "stream",
     "text": [
      "Error: 'Engine' object has no attribute 'cursor'\n"
     ]
    },
    {
     "name": "stderr",
     "output_type": "stream",
     "text": [
      "C:\\Users\\Omar Essam\\AppData\\Local\\Temp\\ipykernel_2240\\1293164580.py:17: UserWarning: pandas only supports SQLAlchemy connectable (engine/connection) or database string URI or sqlite3 DBAPI2 connection. Other DBAPI2 objects are not tested. Please consider using SQLAlchemy.\n",
      "  df = pd.read_sql(query, engine)\n"
     ]
    }
   ],
   "source": [
    "import pyodbc\n",
    "import pandas as pd\n",
    "from sqlalchemy import create_engine\n",
    "\n",
    "def connect_to_sql_server(server, database, user, password):\n",
    "    \"\"\"Connects to a SQL Server database and returns a SQLAlchemy engine.\"\"\"\n",
    "    conn_str = (\n",
    "        f\"mssql+pyodbc://{user}:{password}@{server}/{database}\"\n",
    "        \"?driver=SQL+Server\"\n",
    "    )\n",
    "    engine = create_engine(conn_str)\n",
    "    return engine\n",
    "\n",
    "def get_unique_projects(engine):\n",
    "    \"\"\"Gets a unique list of projects from the project_name column.\"\"\"\n",
    "    query = \"SELECT DISTINCT project_name FROM [omar.rme1].[dbo].[ap_check]\"\n",
    "    df = pd.read_sql(query, engine)\n",
    "    return df['project_name'].tolist()\n",
    "\n",
    "def get_project_data(engine, project_name):\n",
    "    \"\"\"Gets all data related to a specific project.\"\"\"\n",
    "    query = f\"\"\"\n",
    "        SELECT *\n",
    "        FROM [omar.rme1].[dbo].[ap_check]\n",
    "        WHERE project_name = ?\n",
    "    \"\"\"\n",
    "    df = pd.read_sql(query, engine, params=[project_name])\n",
    "    return df\n",
    "\n",
    "def create_excel_files(engine, projects):\n",
    "    \"\"\"Creates an Excel file for each project with its related data.\"\"\"\n",
    "    for project in projects:\n",
    "        df = get_project_data(engine, project)\n",
    "        file_name = f\"{project}.xlsx\"\n",
    "        df.to_excel(file_name, index=False)\n",
    "        print(f\"Created {file_name}\")\n",
    "\n",
    "if __name__ == \"__main__\":\n",
    "    server = '10.10.11.241'\n",
    "    database = 'omar.rme1'\n",
    "    user = 'yasser'\n",
    "    password = 'yasser123'\n",
    "\n",
    "    try:\n",
    "        engine = connect_to_sql_server(server, database, user, password)\n",
    "        projects = get_unique_projects(engine)\n",
    "        create_excel_files(engine, projects)\n",
    "\n",
    "    except Exception as e:\n",
    "        print(\"Error:\", e)\n",
    "    finally:\n",
    "        if engine:\n",
    "            engine.dispose()\n"
   ]
  }
 ],
 "metadata": {
  "kernelspec": {
   "display_name": "Python 3",
   "language": "python",
   "name": "python3"
  },
  "language_info": {
   "codemirror_mode": {
    "name": "ipython",
    "version": 3
   },
   "file_extension": ".py",
   "mimetype": "text/x-python",
   "name": "python",
   "nbconvert_exporter": "python",
   "pygments_lexer": "ipython3",
   "version": "3.12.5"
  }
 },
 "nbformat": 4,
 "nbformat_minor": 2
}
