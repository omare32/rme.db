{
 "cells": [
  {
   "cell_type": "code",
   "execution_count": 1,
   "metadata": {},
   "outputs": [
    {
     "name": "stderr",
     "output_type": "stream",
     "text": [
      "C:\\Users\\Omar Essam\\AppData\\Local\\Temp\\ipykernel_16984\\2040679261.py:27: UserWarning: pandas only supports SQLAlchemy connectable (engine/connection) or database string URI or sqlite3 DBAPI2 connection. Other DBAPI2 objects are not tested. Please consider using SQLAlchemy.\n",
      "  df = pd.read_sql(query, conn)\n"
     ]
    },
    {
     "name": "stdout",
     "output_type": "stream",
     "text": [
      "Created Project_Cash_Out_Report.xlsx\n"
     ]
    }
   ],
   "source": [
    "import pyodbc\n",
    "import pandas as pd\n",
    "from openpyxl import Workbook\n",
    "from openpyxl.styles import Font, Alignment\n",
    "from openpyxl.utils.dataframe import dataframe_to_rows\n",
    "from openpyxl.styles.numbers import FORMAT_NUMBER_COMMA_SEPARATED1\n",
    "\n",
    "def connect_to_sql_server(server, database, user, password):\n",
    "    \"\"\"Connects to a SQL Server database and returns a connection object.\"\"\"\n",
    "    conn_str = (\n",
    "        r'DRIVER={SQL Server};'\n",
    "        r'SERVER=' + server + ';'\n",
    "        r'DATABASE=' + database + ';'\n",
    "        r'UID=' + user + ';'\n",
    "        r'PWD=' + password + ';'\n",
    "    )\n",
    "    conn = pyodbc.connect(conn_str)\n",
    "    return conn\n",
    "\n",
    "def get_project_totals(conn):\n",
    "    \"\"\"Gets the total cash out for each project.\"\"\"\n",
    "    query = \"\"\"\n",
    "        SELECT project_name, SUM(equiv) AS total_cash_out\n",
    "        FROM [omar.rme1].[dbo].[ap_check]\n",
    "        GROUP BY project_name\n",
    "    \"\"\"\n",
    "    df = pd.read_sql(query, conn)\n",
    "    return df\n",
    "\n",
    "def create_report(df):\n",
    "    \"\"\"Creates a well-formatted Excel report.\"\"\"\n",
    "    wb = Workbook()\n",
    "    ws = wb.active\n",
    "    ws.title = \"Project Cash Out Report\"\n",
    "\n",
    "    # Adding header\n",
    "    ws.append([\"Project Name\", \"Total Cash Out (in equiv)\"])\n",
    "\n",
    "    # Adding the data\n",
    "    for row in dataframe_to_rows(df, index=False, header=False):\n",
    "        ws.append(row)\n",
    "\n",
    "    # Apply formatting\n",
    "    header_font = Font(bold=True)\n",
    "    for cell in ws[\"1:1\"]:  # First row, the header\n",
    "        cell.font = header_font\n",
    "        cell.alignment = Alignment(horizontal='center')\n",
    "\n",
    "    # Format the 'Total Cash Out' column\n",
    "    for cell in ws[\"B\"]:\n",
    "        if cell.row != 1:  # Skip the header\n",
    "            cell.number_format = FORMAT_NUMBER_COMMA_SEPARATED1\n",
    "\n",
    "    # Adjust column widths\n",
    "    ws.column_dimensions[\"A\"].width = 40  # Project Name\n",
    "    ws.column_dimensions[\"B\"].width = 20  # Total Cash Out\n",
    "\n",
    "    # Save the workbook\n",
    "    report_filename = \"Project_Cash_Out_Report.xlsx\"\n",
    "    wb.save(report_filename)\n",
    "    print(f\"Created {report_filename}\")\n",
    "\n",
    "if __name__ == \"__main__\":\n",
    "    server = '10.10.11.241'\n",
    "    database = 'omar.rme1'\n",
    "    user = 'yasser'\n",
    "    password = 'yasser123'\n",
    "\n",
    "    try:\n",
    "        conn = connect_to_sql_server(server, database, user, password)\n",
    "        df = get_project_totals(conn)\n",
    "        create_report(df)\n",
    "\n",
    "    except Exception as e:\n",
    "        print(\"Error:\", e)\n",
    "    finally:\n",
    "        if conn:\n",
    "            conn.close()\n"
   ]
  }
 ],
 "metadata": {
  "kernelspec": {
   "display_name": "Python 3",
   "language": "python",
   "name": "python3"
  },
  "language_info": {
   "codemirror_mode": {
    "name": "ipython",
    "version": 3
   },
   "file_extension": ".py",
   "mimetype": "text/x-python",
   "name": "python",
   "nbconvert_exporter": "python",
   "pygments_lexer": "ipython3",
   "version": "3.12.5"
  }
 },
 "nbformat": 4,
 "nbformat_minor": 2
}
