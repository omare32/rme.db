{
 "cells": [
  {
   "cell_type": "markdown",
   "metadata": {},
   "source": [
    "## Data import & explanation"
   ]
  },
  {
   "cell_type": "code",
   "execution_count": null,
   "metadata": {},
   "outputs": [],
   "source": [
    "import numpy as np\n",
    "import pandas as pd\n",
    "import plotly.express as px\n",
    "import matplotlib.pyplot as plt\n",
    "from matplotlib.font_manager import FontProperties\n",
    "from sklearn.model_selection import train_test_split\n",
    "from sklearn.preprocessing import StandardScaler\n",
    "from sklearn.preprocessing import OneHotEncoder\n",
    "from sklearn.linear_model import LogisticRegression\n",
    "from sklearn.metrics import classification_report\n",
    "from sklearn.neighbors import KNeighborsClassifier\n",
    "from sklearn.ensemble import RandomForestClassifier\n",
    "from xgboost import XGBClassifier\n",
    "from imblearn.over_sampling import SMOTE\n",
    "from sklearn.model_selection import cross_validate\n",
    "from sklearn.metrics import  f1_score, make_scorer\n",
    "import seaborn as sns"
   ]
  },
  {
   "cell_type": "code",
   "execution_count": null,
   "metadata": {},
   "outputs": [],
   "source": [
    "df = pd.read_csv('Covid Data.csv')\n",
    "df"
   ]
  },
  {
   "cell_type": "markdown",
   "metadata": {},
   "source": [
    "## Data explanation:\n",
    "\n",
    "    usmr: Indicates whether the patient treated medical units of the first, second or third level.\n",
    "    medical unit: type of institution of the National Health System that provided the care.\n",
    "    sex: female or male\n",
    "    date_died: indicates whether the patient died or recovered.\n",
    "    patient type: hospitalized or not hospitalized.\n",
    "    intubed: whether the patient was connected to the ventilator.\n",
    "    pneumonia: whether the patient already have air sacs inflammation or not.\n",
    "    age: of the patient.\n",
    "    pregnancy: whether the patient is pregnant or not.\n",
    "    diabetes: whether the patient has diabetes or not.\n",
    "    copd: Indicates whether the patient has Chronic obstructive pulmonary disease or not.\n",
    "    asthma: whether the patient has asthma or not.\n",
    "    inmsupr: whether the patient is immunosuppressed or not.\n",
    "    hypertension: whether the patient has hypertension or not.\n",
    "    other disease: whether the patient has other disease or not.\n",
    "    cardiovascular: whether the patient has heart or blood vessels related disease.\n",
    "    obesity: whether the patient is obese or not.\n",
    "    renal chronic: whether the patient has chronic renal disease or not.\n",
    "    tobacco: whether the patient is a tobacco user.\n",
    "    classification: covid test findings. Values 1-3 mean that the patient was diagnosed with covid in different degrees. 4 or higher means that the patient is not a carrier of covid or that the test is inconclusive.\n",
    "    icu: Indicates whether the patient had been admitted to an Intensive Care Unit.\n",
    "    \n",
    "##### The dataset was provided by the Mexican government. This dataset contains an enormous number of anonymized patient-related information including pre-conditions. In the Boolean features, 1 means \"yes\" and 2 means \"no\". values as 97 and 99 are missing data."
   ]
  },
  {
   "cell_type": "code",
   "execution_count": null,
   "metadata": {},
   "outputs": [],
   "source": [
    "df.info()\n",
    "#All columns are correctly identified as int except the Date_died column which is an object. "
   ]
  },
  {
   "cell_type": "code",
   "execution_count": null,
   "metadata": {},
   "outputs": [],
   "source": [
    "df.describe()"
   ]
  },
  {
   "cell_type": "code",
   "execution_count": null,
   "metadata": {},
   "outputs": [],
   "source": [
    "df.describe(include= 'O')"
   ]
  },
  {
   "cell_type": "code",
   "execution_count": null,
   "metadata": {},
   "outputs": [],
   "source": [
    "df[df.duplicated()== True]"
   ]
  },
  {
   "cell_type": "code",
   "execution_count": null,
   "metadata": {},
   "outputs": [],
   "source": [
    "#Dupicates check:\n",
    "df.duplicated().sum()\n",
    "#The duplicates were preserved as they were statistically relevant"
   ]
  },
  {
   "cell_type": "code",
   "execution_count": null,
   "metadata": {},
   "outputs": [],
   "source": [
    "df.isna().sum()"
   ]
  },
  {
   "cell_type": "code",
   "execution_count": null,
   "metadata": {},
   "outputs": [],
   "source": [
    "df.isnull().sum()"
   ]
  },
  {
   "cell_type": "code",
   "execution_count": null,
   "metadata": {},
   "outputs": [],
   "source": [
    "for col in df.columns:\n",
    "\n",
    "    fig = px.histogram(df, x= col)\n",
    "    fig.show()"
   ]
  },
  {
   "cell_type": "markdown",
   "metadata": {},
   "source": [
    "## Data Pre-processing"
   ]
  },
  {
   "cell_type": "code",
   "execution_count": null,
   "metadata": {},
   "outputs": [],
   "source": [
    "#Adjusting column heads to be lower case\n",
    "columns = df.columns\n",
    "columns = [x.lower() for x in columns]\n",
    "df.columns = columns\n",
    "df.columns"
   ]
  },
  {
   "cell_type": "code",
   "execution_count": null,
   "metadata": {},
   "outputs": [],
   "source": [
    "#Adding a new column instead of date_died as its of no benifit since I dont have other time variables. New column will be died which will be 1 for death and 2 for alive\n",
    "df[df.date_died == \"9999-99-99\"]\n",
    "df['died'] = np.where(df.date_died == \"9999-99-99\", 2, 1)\n",
    "df"
   ]
  },
  {
   "cell_type": "code",
   "execution_count": null,
   "metadata": {},
   "outputs": [],
   "source": [
    "df.drop('date_died', inplace= True, axis = 1)"
   ]
  },
  {
   "cell_type": "code",
   "execution_count": null,
   "metadata": {},
   "outputs": [],
   "source": [
    "df"
   ]
  },
  {
   "cell_type": "code",
   "execution_count": null,
   "metadata": {},
   "outputs": [],
   "source": [
    "#imputing some values for pregnant column as men can't be pregnant\n",
    "df.loc[df.sex == 2, 'pregnant'] = 2"
   ]
  },
  {
   "cell_type": "code",
   "execution_count": null,
   "metadata": {},
   "outputs": [],
   "source": [
    "df[df['pregnant'] == 98]"
   ]
  },
  {
   "cell_type": "code",
   "execution_count": null,
   "metadata": {},
   "outputs": [],
   "source": [
    "#droping the remaining unknows for pregnant ladies\n",
    "df.drop(df[df['pregnant']== 98].index, inplace = True, axis = 0)"
   ]
  },
  {
   "cell_type": "code",
   "execution_count": null,
   "metadata": {},
   "outputs": [],
   "source": [
    "df"
   ]
  },
  {
   "cell_type": "code",
   "execution_count": null,
   "metadata": {},
   "outputs": [],
   "source": [
    "df[(df['patient_type'] == 2) & (df['icu'] == 1)]"
   ]
  },
  {
   "cell_type": "code",
   "execution_count": null,
   "metadata": {},
   "outputs": [],
   "source": [
    "#in the aim of preserving as much data as possible, we will assume that patients who have been intubated have entered the ICU. \n",
    "df.loc[df.patient_type == 1, 'icu'] = 2\n",
    "df.loc[df.patient_type == 1, 'intubed'] = 2"
   ]
  },
  {
   "cell_type": "code",
   "execution_count": null,
   "metadata": {},
   "outputs": [],
   "source": [
    "df[(df['intubed'] == 99) & (df['icu'] == 99)]"
   ]
  },
  {
   "cell_type": "code",
   "execution_count": null,
   "metadata": {},
   "outputs": [],
   "source": [
    "df.columns"
   ]
  },
  {
   "cell_type": "code",
   "execution_count": null,
   "metadata": {},
   "outputs": [],
   "source": [
    "#removing all the remaining missing values from the df\n",
    "df = df[(df.intubed == 1) | (df.intubed == 2)]\n",
    "df = df[(df.pneumonia == 1) | (df.pneumonia == 2)]\n",
    "df = df[(df.pregnant == 1) | (df.pregnant == 2)]\n",
    "df = df[(df.diabetes == 1) | (df.diabetes == 2)]\n",
    "df = df[(df.copd == 1) | (df.copd == 2)]\n",
    "df = df[(df.asthma == 1) | (df.asthma == 2)]\n",
    "df = df[(df.inmsupr == 1) | (df.inmsupr == 2)]\n",
    "df = df[(df.hipertension == 1) | (df.hipertension == 2)]\n",
    "df = df[(df.other_disease == 1) | (df.other_disease == 2)]\n",
    "df = df[(df.cardiovascular == 1) | (df.cardiovascular == 2)]\n",
    "df = df[(df.obesity == 1) | (df.obesity == 2)]\n",
    "df = df[(df.renal_chronic == 1) | (df.renal_chronic == 2)]\n",
    "df = df[(df.tobacco == 1) | (df.tobacco == 2)]\n",
    "df = df[(df.icu == 1) | (df.icu == 2)]"
   ]
  },
  {
   "cell_type": "code",
   "execution_count": null,
   "metadata": {},
   "outputs": [],
   "source": [
    "df.shape"
   ]
  },
  {
   "cell_type": "code",
   "execution_count": null,
   "metadata": {},
   "outputs": [],
   "source": [
    "for cols in df.columns:\n",
    "    print(f'Column: {cols}\\nValue Counts:\\n{df[cols].value_counts()}\\n') \n"
   ]
  },
  {
   "cell_type": "markdown",
   "metadata": {},
   "source": [
    "## Data Analysis"
   ]
  },
  {
   "cell_type": "code",
   "execution_count": null,
   "metadata": {},
   "outputs": [],
   "source": [
    "df.columns"
   ]
  },
  {
   "cell_type": "markdown",
   "metadata": {},
   "source": [
    "#### Smoking impact on classification"
   ]
  },
  {
   "cell_type": "code",
   "execution_count": null,
   "metadata": {},
   "outputs": [],
   "source": [
    "ana1 = df.loc[df['tobacco'] == 1].groupby('clasiffication_final').size().sort_values(ascending=False).reset_index(name='tobacco')\n",
    "px.bar(ana1, x= 'clasiffication_final', y = 'tobacco')"
   ]
  },
  {
   "cell_type": "code",
   "execution_count": null,
   "metadata": {},
   "outputs": [],
   "source": [
    "ana1 = df.loc[df['tobacco'] == 2].groupby('clasiffication_final').size().sort_values(ascending=False).reset_index(name='tobacco')\n",
    "px.bar(ana1, x= 'clasiffication_final', y = 'tobacco')"
   ]
  },
  {
   "cell_type": "markdown",
   "metadata": {},
   "source": [
    "### Pneumonia as a symptom of covid"
   ]
  },
  {
   "cell_type": "code",
   "execution_count": null,
   "metadata": {},
   "outputs": [],
   "source": [
    "ana1 = df.loc[df['pneumonia'] == 1].groupby('clasiffication_final').size().sort_values(ascending=False).reset_index(name='pneumonia')\n",
    "px.bar(ana1, x= 'clasiffication_final', y = 'pneumonia')"
   ]
  },
  {
   "cell_type": "markdown",
   "metadata": {},
   "source": [
    "### Impact of obesity on covid classification"
   ]
  },
  {
   "cell_type": "code",
   "execution_count": null,
   "metadata": {},
   "outputs": [],
   "source": [
    "ana1 = df.loc[df['obesity'] == 1].groupby('clasiffication_final').size().sort_values(ascending=False).reset_index(name='obesity')\n",
    "px.bar(ana1, x= 'clasiffication_final', y = 'obesity')"
   ]
  },
  {
   "cell_type": "code",
   "execution_count": null,
   "metadata": {},
   "outputs": [],
   "source": [
    "ana1 = df.loc[df['obesity'] == 2].groupby('clasiffication_final').size().sort_values(ascending=False).reset_index(name='obesity')\n",
    "px.bar(ana1, x= 'clasiffication_final', y = 'obesity')"
   ]
  },
  {
   "cell_type": "markdown",
   "metadata": {},
   "source": [
    "### Impact of COPD on covid classification"
   ]
  },
  {
   "cell_type": "code",
   "execution_count": null,
   "metadata": {},
   "outputs": [],
   "source": [
    "ana1 = df.loc[df['copd'] == 1].groupby('clasiffication_final').size().sort_values(ascending=False).reset_index(name='copd')\n",
    "px.bar(ana1, x= 'clasiffication_final', y = 'copd')"
   ]
  },
  {
   "cell_type": "markdown",
   "metadata": {},
   "source": [
    "### Impact of ICU on covid classification"
   ]
  },
  {
   "cell_type": "code",
   "execution_count": null,
   "metadata": {},
   "outputs": [],
   "source": [
    "ana1 = df.loc[df['icu'] == 1].groupby('clasiffication_final').size().sort_values(ascending=False).reset_index(name='icu')\n",
    "px.bar(ana1, x= 'clasiffication_final', y = 'icu')"
   ]
  },
  {
   "cell_type": "markdown",
   "metadata": {},
   "source": [
    "### Amount of people entered in the ICU "
   ]
  },
  {
   "cell_type": "code",
   "execution_count": null,
   "metadata": {},
   "outputs": [],
   "source": [
    "ana1 = df.loc[df['patient_type'] == 2].groupby('icu').size().sort_values(ascending=False).reset_index(name='patient_type')\n",
    "px.bar(ana1, x= 'icu', y = 'patient_type')"
   ]
  },
  {
   "cell_type": "markdown",
   "metadata": {},
   "source": [
    "### Impact of cardiovascular on covid classification"
   ]
  },
  {
   "cell_type": "code",
   "execution_count": null,
   "metadata": {},
   "outputs": [],
   "source": [
    "ana1 = df.loc[df['cardiovascular'] == 1].groupby('clasiffication_final').size().sort_values(ascending=False).reset_index(name='cardiovascular')\n",
    "px.bar(ana1, x= 'clasiffication_final', y = 'cardiovascular')"
   ]
  },
  {
   "cell_type": "markdown",
   "metadata": {},
   "source": [
    "### Impact of asthma on covid classification"
   ]
  },
  {
   "cell_type": "code",
   "execution_count": null,
   "metadata": {},
   "outputs": [],
   "source": [
    "ana1 = df.loc[df['asthma'] == 1].groupby('clasiffication_final').size().sort_values(ascending=False).reset_index(name='asthma')\n",
    "px.bar(ana1, x= 'clasiffication_final', y = 'asthma')"
   ]
  },
  {
   "cell_type": "markdown",
   "metadata": {},
   "source": [
    "### Impact of Immuno suppressed on covid classification"
   ]
  },
  {
   "cell_type": "code",
   "execution_count": null,
   "metadata": {},
   "outputs": [],
   "source": [
    "ana1 = df.loc[df['inmsupr'] == 1].groupby('clasiffication_final').size().sort_values(ascending=False).reset_index(name='inmsupr')\n",
    "px.bar(ana1, x= 'clasiffication_final', y = 'inmsupr')"
   ]
  },
  {
   "cell_type": "markdown",
   "metadata": {},
   "source": [
    "### Ratio of asthma patients that entered the ICU"
   ]
  },
  {
   "cell_type": "code",
   "execution_count": null,
   "metadata": {},
   "outputs": [],
   "source": [
    "ana1 = df.loc[df['asthma'] == 1].groupby('icu').size().sort_values(ascending=False).reset_index(name='asthma')\n",
    "px.bar(ana1, x= 'icu', y = 'asthma')"
   ]
  },
  {
   "cell_type": "markdown",
   "metadata": {},
   "source": [
    "### ICU patients with other parameters (Parameter set to 1)"
   ]
  },
  {
   "cell_type": "code",
   "execution_count": null,
   "metadata": {},
   "outputs": [],
   "source": [
    "df2=df #For testing and backup"
   ]
  },
  {
   "cell_type": "code",
   "execution_count": null,
   "metadata": {},
   "outputs": [],
   "source": [
    "conditions = ['sex', 'intubed', 'pneumonia',\n",
    "       'age', 'pregnant', 'diabetes', 'copd', 'asthma', 'inmsupr',\n",
    "       'hipertension', 'other_disease', 'cardiovascular', 'obesity',\n",
    "       'renal_chronic', 'tobacco','died']\n",
    "results = {}\n",
    "for condition in conditions:\n",
    "       filtered_df = df.loc[df[condition] == 1]\n",
    "       grouped = filtered_df.groupby('icu').size().sort_values(ascending=False).reset_index(name=f'{condition}')\n",
    "       results[f'{condition}'] = grouped\n",
    "       \n",
    "\n",
    "conditions = list(results.keys())[:-1]  \n",
    "fig, ax = plt.subplots(figsize=(10, 6))\n",
    "colors = ['#FF0000', '#00FF00', '#0000FF', '#FFFF00', '#FF00FF', '#00FFFF', '#800000', '#008000', '#000080', '#808000', '#800080', '#008080', '#400000', '#004000', '#000040']\n",
    "\n",
    "\n",
    "for i, condition in enumerate(conditions):\n",
    "       filtered_df = df[(df[condition] == 1) & (df['icu'] == 1)]\n",
    "       count = filtered_df.shape[0]\n",
    "       ax.bar(condition, count, color=colors[i % len(colors)])\n",
    "\n",
    "\n",
    "ax.set_title('Frequency of Conditions in ICU Groups')\n",
    "ax.set_xlabel('Condition')\n",
    "ax.set_ylabel('Frequency')\n",
    "plt.xticks(rotation=45)  \n",
    "plt.tight_layout()\n",
    "\n",
    "plt.show()"
   ]
  },
  {
   "cell_type": "markdown",
   "metadata": {},
   "source": [
    "## Data preprocessing"
   ]
  },
  {
   "cell_type": "code",
   "execution_count": null,
   "metadata": {},
   "outputs": [],
   "source": [
    "#In order to simplify the target, instead of having ordinal values from 1-7, we wil assume 1-3 to be high risk and 4-7 low risk of infection for covid-19\n",
    "df['high_risk'] = np.where((df['clasiffication_final'] >= 1) & (df['clasiffication_final'] <= 3), 1, 0) #1 is for high risk & 0 is for low risk\n",
    "df"
   ]
  },
  {
   "cell_type": "code",
   "execution_count": null,
   "metadata": {},
   "outputs": [],
   "source": [
    "df.drop('clasiffication_final', inplace= True, axis = 1)"
   ]
  },
  {
   "cell_type": "code",
   "execution_count": null,
   "metadata": {},
   "outputs": [],
   "source": [
    "df"
   ]
  },
  {
   "cell_type": "code",
   "execution_count": null,
   "metadata": {},
   "outputs": [],
   "source": [
    "#Setting all values that are equal 2 to be 0\n",
    "paramaters= ['sex', 'intubed', 'pneumonia','patient_type',\n",
    "       'pregnant', 'diabetes', 'copd', 'asthma', 'inmsupr',\n",
    "       'hipertension', 'other_disease', 'cardiovascular', 'obesity',\n",
    "       'renal_chronic', 'tobacco','icu','died']\n",
    "for parameter in paramaters:\n",
    "    df[parameter] = df[parameter].replace(2,0)\n"
   ]
  },
  {
   "cell_type": "code",
   "execution_count": null,
   "metadata": {},
   "outputs": [],
   "source": [
    "df"
   ]
  },
  {
   "cell_type": "code",
   "execution_count": null,
   "metadata": {},
   "outputs": [],
   "source": [
    "x = df.drop('high_risk', axis= 1)\n",
    "y = df['high_risk']"
   ]
  },
  {
   "cell_type": "code",
   "execution_count": null,
   "metadata": {},
   "outputs": [],
   "source": [
    "x_train, x_test, y_train, y_test = train_test_split(x, y, test_size= 0.2, random_state= 28, stratify= y)\n",
    "y_train.value_counts(normalize= True) * 100"
   ]
  },
  {
   "cell_type": "code",
   "execution_count": null,
   "metadata": {},
   "outputs": [],
   "source": [
    "y_test.value_counts(normalize= True) * 100"
   ]
  },
  {
   "cell_type": "code",
   "execution_count": null,
   "metadata": {},
   "outputs": [],
   "source": [
    "y_train"
   ]
  },
  {
   "cell_type": "code",
   "execution_count": null,
   "metadata": {},
   "outputs": [],
   "source": [
    "sc = StandardScaler()\n",
    "scaling_cols = ['age' ]\n",
    "\n",
    "x_train[scaling_cols] = sc.fit_transform(x_train[scaling_cols])\n",
    "\n",
    "x_test[scaling_cols] = sc.transform(x_test[scaling_cols])"
   ]
  },
  {
   "cell_type": "code",
   "execution_count": null,
   "metadata": {},
   "outputs": [],
   "source": [
    "x_train"
   ]
  },
  {
   "cell_type": "code",
   "execution_count": null,
   "metadata": {},
   "outputs": [],
   "source": [
    "ohe = OneHotEncoder(drop= 'first', sparse_output= False)\n",
    "\n",
    "x_train_ohe = ohe.fit_transform(x_train[['medical_unit']])\n",
    "\n",
    "x_test_ohe = ohe.transform(x_test[['medical_unit']])"
   ]
  },
  {
   "cell_type": "code",
   "execution_count": null,
   "metadata": {},
   "outputs": [],
   "source": [
    "x_train_ohe = pd.DataFrame(x_train_ohe, columns= ohe.get_feature_names_out())\n",
    "\n",
    "x_test_ohe = pd.DataFrame(x_test_ohe, columns= ohe.get_feature_names_out())"
   ]
  },
  {
   "cell_type": "code",
   "execution_count": null,
   "metadata": {},
   "outputs": [],
   "source": [
    "x_train.reset_index(drop= True, inplace= True)\n",
    "x_test.reset_index(drop= True, inplace= True)\n"
   ]
  },
  {
   "cell_type": "code",
   "execution_count": null,
   "metadata": {},
   "outputs": [],
   "source": [
    "x_train = pd.concat([x_train, x_train_ohe], axis= 1).drop(['medical_unit'], axis= 1)\n",
    "\n",
    "x_test = pd.concat([x_test, x_test_ohe], axis= 1).drop(['medical_unit'], axis= 1)"
   ]
  },
  {
   "cell_type": "markdown",
   "metadata": {},
   "source": [
    "## Machine Learning"
   ]
  },
  {
   "cell_type": "code",
   "execution_count": null,
   "metadata": {},
   "outputs": [],
   "source": [
    "lr = LogisticRegression(max_iter=1000, solver='saga')\n",
    "\n",
    "lr.fit(x_train, y_train)\n",
    "\n",
    "print(f'Training Score : \\n', classification_report(y_train, lr.predict(x_train)))\n",
    "\n",
    "print(f'Test Score : \\n', classification_report(y_test, lr.predict(x_test)))"
   ]
  },
  {
   "cell_type": "code",
   "execution_count": null,
   "metadata": {},
   "outputs": [],
   "source": [
    "knn = KNeighborsClassifier()\n",
    "\n",
    "knn.fit(x_train, y_train)\n",
    "\n",
    "print(f'Training Score : \\n', classification_report(y_train, knn.predict(x_train)))\n",
    "\n",
    "print(f'Test Score : \\n', classification_report(y_test, knn.predict(x_test)))"
   ]
  },
  {
   "cell_type": "code",
   "execution_count": null,
   "metadata": {},
   "outputs": [],
   "source": [
    "rf = RandomForestClassifier(max_depth= 6)\n",
    "\n",
    "rf.fit(x_train, y_train)\n",
    "\n",
    "print(f'Training Score : \\n', classification_report(y_train, rf.predict(x_train)))\n",
    "\n",
    "print(f'Test Score : \\n', classification_report(y_test, rf.predict(x_test)))"
   ]
  },
  {
   "cell_type": "code",
   "execution_count": null,
   "metadata": {},
   "outputs": [],
   "source": [
    "y_test"
   ]
  },
  {
   "cell_type": "code",
   "execution_count": null,
   "metadata": {},
   "outputs": [],
   "source": [
    "xgb = XGBClassifier()\n",
    "\n",
    "xgb.fit(x_train, y_train)\n",
    "\n",
    "print(f'Training Score : \\n', classification_report(y_train, xgb.predict(x_train)))\n",
    "\n",
    "print(f'Test Score : \\n', classification_report(y_test, xgb.predict(x_test)))"
   ]
  },
  {
   "cell_type": "code",
   "execution_count": null,
   "metadata": {},
   "outputs": [],
   "source": [
    "from sklearn.metrics import  f1_score, make_scorer\n",
    "custom_scorer = make_scorer(f1_score, average = 'macro')\n",
    "cv = cross_validate(XGBClassifier(), x_train, y_train,  scoring={'f1_macro': custom_scorer}, cv= 10, return_train_score= True)"
   ]
  },
  {
   "cell_type": "code",
   "execution_count": null,
   "metadata": {},
   "outputs": [],
   "source": [
    "cv.items()"
   ]
  },
  {
   "cell_type": "code",
   "execution_count": null,
   "metadata": {},
   "outputs": [],
   "source": [
    "print(cv['test_f1_macro'] * 100)\n",
    "print(cv['train_f1_macro'] * 100)"
   ]
  },
  {
   "cell_type": "code",
   "execution_count": null,
   "metadata": {},
   "outputs": [],
   "source": [
    "print(cv['test_f1_macro'].mean() * 100)\n",
    "print(cv['train_f1_macro'].mean() * 100)"
   ]
  },
  {
   "cell_type": "markdown",
   "metadata": {},
   "source": [
    "#### This low score maybe attributable to imbalance which I will attempt to solve using SMOTE library"
   ]
  },
  {
   "cell_type": "code",
   "execution_count": null,
   "metadata": {},
   "outputs": [],
   "source": [
    "smote = SMOTE()\n",
    "\n",
    "x_train, y_train = smote.fit_resample(x_train, y_train)"
   ]
  },
  {
   "cell_type": "code",
   "execution_count": null,
   "metadata": {},
   "outputs": [],
   "source": [
    "x_train"
   ]
  },
  {
   "cell_type": "code",
   "execution_count": null,
   "metadata": {},
   "outputs": [],
   "source": [
    "y_train"
   ]
  },
  {
   "cell_type": "code",
   "execution_count": null,
   "metadata": {},
   "outputs": [],
   "source": [
    "xgb = XGBClassifier()\n",
    "\n",
    "xgb.fit(x_train, y_train)\n",
    "\n",
    "print(f'Training Score : \\n', classification_report(y_train, xgb.predict(x_train)))\n",
    "\n",
    "print(f'Test Score : \\n', classification_report(y_test, xgb.predict(x_test)))"
   ]
  },
  {
   "cell_type": "code",
   "execution_count": null,
   "metadata": {},
   "outputs": [],
   "source": [
    "custom_scorer = make_scorer(f1_score, average = 'macro')\n",
    "cv = cross_validate(XGBClassifier(), x_train, y_train,  scoring={'f1_macro': custom_scorer}, cv= 10, return_train_score= True)"
   ]
  },
  {
   "cell_type": "code",
   "execution_count": null,
   "metadata": {},
   "outputs": [],
   "source": [
    "print(cv['test_f1_macro'].mean() * 100)\n",
    "print(cv['train_f1_macro'].mean() * 100)"
   ]
  },
  {
   "cell_type": "code",
   "execution_count": null,
   "metadata": {},
   "outputs": [],
   "source": [
    "cv = cross_validate(RandomForestClassifier(max_depth= 6), x_train, y_train,  scoring={'f1_macro': custom_scorer}, cv= 10, return_train_score= True)"
   ]
  },
  {
   "cell_type": "code",
   "execution_count": null,
   "metadata": {},
   "outputs": [],
   "source": [
    "print(cv['test_f1_macro'].mean() * 100)\n",
    "print(cv['train_f1_macro'].mean() * 100)\n"
   ]
  },
  {
   "cell_type": "markdown",
   "metadata": {},
   "source": [
    "### Conclusion:\n",
    "\n",
    "Results show that low accuracy was obtained from these models. One way to reduce inaccuracies is to test the correlation with the high_risk column\n",
    "to remove the irrelavant columns."
   ]
  },
  {
   "cell_type": "code",
   "execution_count": null,
   "metadata": {},
   "outputs": [],
   "source": [
    "plt.figure(figsize=(14, 9))\n",
    "sns.heatmap(df.corr(), annot=True, cmap=\"viridis\")\n",
    "plt.xticks(rotation=45)\n",
    "plt.tight_layout()\n",
    "plt.show()"
   ]
  },
  {
   "cell_type": "code",
   "execution_count": null,
   "metadata": {},
   "outputs": [],
   "source": [
    "x_train.columns"
   ]
  },
  {
   "cell_type": "code",
   "execution_count": null,
   "metadata": {},
   "outputs": [],
   "source": [
    "#we will assume all correlation values less than 0.1 are having low impact on high_risk column except ones higher than 0.1 in died column\n",
    "columns_dropped = ['sex', 'pregnant', 'asthma', 'inmsupr','other_disease', 'cardiovascular', 'obesity','tobacco']\n",
    "x_train.drop(columns_dropped, axis= 1)\n",
    "x_test.drop(columns_dropped, axis= 1)"
   ]
  },
  {
   "cell_type": "code",
   "execution_count": null,
   "metadata": {},
   "outputs": [],
   "source": [
    "cv = cross_validate(RandomForestClassifier(max_depth= 6), x_train, y_train,  scoring={'f1_macro': custom_scorer}, cv= 10, return_train_score= True)"
   ]
  },
  {
   "cell_type": "code",
   "execution_count": null,
   "metadata": {},
   "outputs": [],
   "source": [
    "print(cv['test_f1_macro'].mean() * 100)\n",
    "print(cv['train_f1_macro'].mean() * 100)"
   ]
  },
  {
   "cell_type": "code",
   "execution_count": null,
   "metadata": {},
   "outputs": [],
   "source": [
    "cv = cross_validate(LogisticRegression(max_iter=1000, solver='saga'), x_train, y_train,  scoring={'f1_macro': custom_scorer}, cv= 10, return_train_score= True)"
   ]
  },
  {
   "cell_type": "code",
   "execution_count": null,
   "metadata": {},
   "outputs": [],
   "source": [
    "print(cv['test_f1_macro'].mean() * 100)\n",
    "print(cv['train_f1_macro'].mean() * 100)"
   ]
  },
  {
   "cell_type": "markdown",
   "metadata": {},
   "source": [
    "### The accuracy reached is the maximum for this dataset using the above methods. Removing some columns with low correlation didn't result in significant accuracy improvements."
   ]
  }
 ],
 "metadata": {
  "kernelspec": {
   "display_name": "Python 3 (ipykernel)",
   "language": "python",
   "name": "python3"
  },
  "language_info": {
   "codemirror_mode": {
    "name": "ipython",
    "version": 3
   },
   "file_extension": ".py",
   "mimetype": "text/x-python",
   "name": "python",
   "nbconvert_exporter": "python",
   "pygments_lexer": "ipython3",
   "version": "3.12.4"
  }
 },
 "nbformat": 4,
 "nbformat_minor": 4
}
