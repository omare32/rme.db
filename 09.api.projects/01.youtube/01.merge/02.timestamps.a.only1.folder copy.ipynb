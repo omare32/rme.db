{
 "cells": [
  {
   "cell_type": "code",
   "execution_count": 1,
   "metadata": {},
   "outputs": [
    {
     "name": "stdout",
     "output_type": "stream",
     "text": [
      "Timestamps saved to: H:\\PC\\Captures\\Demon's Souls\\timestamps.txt\n"
     ]
    }
   ],
   "source": [
    "import os\n",
    "import ffmpeg\n",
    "\n",
    "def generate_timestamps_from_mp4_files(folder_path):\n",
    "    \"\"\"\n",
    "    Generates timestamps for each MP4 file in a folder based on their individual durations.\n",
    "    Saves the timestamps to a \"timestamps.txt\" file in the same folder.\n",
    "\n",
    "    Args:\n",
    "        folder_path (str): The path to the folder containing the MP4 videos.\n",
    "    \"\"\"\n",
    "\n",
    "    timestamps = []\n",
    "    total_duration = 0\n",
    "\n",
    "    # Get all MP4 files in the folder\n",
    "    for filename in os.listdir(folder_path):\n",
    "        if filename.endswith(\".mp4\"):\n",
    "            filepath = os.path.join(folder_path, filename)\n",
    "\n",
    "            # Get duration of the video using ffprobe\n",
    "            probe = ffmpeg.probe(filepath)\n",
    "            duration = float(probe['format']['duration'])\n",
    "            timestamps.append((filename, total_duration))\n",
    "            total_duration += duration\n",
    "\n",
    "    # Construct the full path for the output file within the same folder\n",
    "    output_file_path = os.path.join(folder_path, \"timestamps.txt\")\n",
    "\n",
    "    # Write the timestamps to the text file\n",
    "    with open(output_file_path, \"w\") as f:\n",
    "        for filename, timestamp in timestamps:\n",
    "            f.write(f\"{filename} - {int(timestamp // 60):02d}:{int(timestamp % 60):02d}\\n\")\n",
    "\n",
    "    print(f\"Timestamps saved to: {output_file_path}\")\n",
    "\n",
    "# Get the folder path\n",
    "folder_path = input(\"Enter the folder path containing the videos: \") \n",
    "\n",
    "# Generate timestamps\n",
    "generate_timestamps_from_mp4_files(folder_path)"
   ]
  }
 ],
 "metadata": {
  "kernelspec": {
   "display_name": "Python 3",
   "language": "python",
   "name": "python3"
  },
  "language_info": {
   "codemirror_mode": {
    "name": "ipython",
    "version": 3
   },
   "file_extension": ".py",
   "mimetype": "text/x-python",
   "name": "python",
   "nbconvert_exporter": "python",
   "pygments_lexer": "ipython3",
   "version": "3.12.6"
  }
 },
 "nbformat": 4,
 "nbformat_minor": 2
}
