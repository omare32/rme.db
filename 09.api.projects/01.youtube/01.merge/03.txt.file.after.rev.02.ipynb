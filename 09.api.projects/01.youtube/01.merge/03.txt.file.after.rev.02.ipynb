{
 "cells": [
  {
   "cell_type": "code",
   "execution_count": null,
   "metadata": {},
   "outputs": [],
   "source": [
    "import tkinter as tk\n",
    "from tkinter import filedialog, simpledialog, messagebox\n",
    "\n",
    "def convert_timestamps():\n",
    "    \"\"\"\n",
    "    Opens a dialog to get timestamps in mm:ss format from the user, \n",
    "    converts them to HH:MM:SS format, and displays the result in a new window.\n",
    "    \"\"\"\n",
    "\n",
    "    root = tk.Tk()\n",
    "    root.withdraw()  # Hide the main window\n",
    "\n",
    "    # Get timestamps from the user\n",
    "    timestamps_input = simpledialog.askstring(\"Input Timestamps\", \"Paste timestamps in mm:ss format:\", parent=root)\n",
    "    if not timestamps_input:\n",
    "        return  # User canceled\n",
    "\n",
    "    timestamps_output = []\n",
    "    for line in timestamps_input.splitlines():\n",
    "        try:\n",
    "            parts = line.strip().split()\n",
    "            if len(parts) >= 2:\n",
    "                timestamp_part = parts[-1]\n",
    "                minutes, seconds = map(int, timestamp_part.split(':'))\n",
    "\n",
    "                total_seconds = minutes * 60 + seconds\n",
    "                hours = int(total_seconds // 3600)\n",
    "                remaining_seconds = total_seconds % 3600\n",
    "                minutes = int(remaining_seconds // 60)\n",
    "                seconds = int(remaining_seconds % 60)\n",
    "\n",
    "                new_timestamp = f\"{hours:02d}:{minutes:02d}:{seconds:02d}\"\n",
    "                timestamps_output.append(f\"{' '.join(parts[:-1])} {new_timestamp}\")\n",
    "\n",
    "        except ValueError:\n",
    "            messagebox.showerror(\"Error\", f\"Invalid timestamp format: {line.strip()}\")\n",
    "            return\n",
    "\n",
    "    # Display the converted timestamps in a new window\n",
    "    output_window = tk.Toplevel(root)\n",
    "    output_window.title(\"Converted Timestamps\")\n",
    "\n",
    "    output_text = tk.Text(output_window)\n",
    "    output_text.pack(expand=True, fill='both')\n",
    "    output_text.insert(tk.END, \"\\n\".join(timestamps_output))\n",
    "\n",
    "    # Allow copying from the text widget\n",
    "    output_text.configure(state='normal')  # Make the text widget editable for copying\n",
    "\n",
    "    root.mainloop()\n",
    "\n",
    "convert_timestamps()"
   ]
  }
 ],
 "metadata": {
  "kernelspec": {
   "display_name": "Python 3",
   "language": "python",
   "name": "python3"
  },
  "language_info": {
   "codemirror_mode": {
    "name": "ipython",
    "version": 3
   },
   "file_extension": ".py",
   "mimetype": "text/x-python",
   "name": "python",
   "nbconvert_exporter": "python",
   "pygments_lexer": "ipython3",
   "version": "3.12.5"
  }
 },
 "nbformat": 4,
 "nbformat_minor": 2
}
