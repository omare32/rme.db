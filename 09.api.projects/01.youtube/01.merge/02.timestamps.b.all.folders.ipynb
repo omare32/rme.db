{
 "cells": [
  {
   "cell_type": "code",
   "execution_count": 1,
   "metadata": {},
   "outputs": [
    {
     "name": "stdout",
     "output_type": "stream",
     "text": [
      "Timestamps saved to: F:\\PS4\\SHARE\\Video Clips\\ELDEN RING™\\ELDEN RING™ Bulk1\\timestamps.txt\n",
      "Timestamps saved to: F:\\PS4\\SHARE\\Video Clips\\ELDEN RING™\\ELDEN RING™ Bulk2\\timestamps.txt\n",
      "Timestamps saved to: F:\\PS4\\SHARE\\Video Clips\\ELDEN RING™\\ELDEN RING™ Bulk3\\timestamps.txt\n"
     ]
    }
   ],
   "source": [
    "import os\n",
    "import ffmpeg\n",
    "\n",
    "def generate_timestamps_for_folders(root_folder_path):\n",
    "    \"\"\"\n",
    "    Generates timestamps for each MP4 file within subfolders of a root folder.\n",
    "    Saves the timestamps to a \"timestamps.txt\" file in each respective subfolder.\n",
    "\n",
    "    Args:\n",
    "        root_folder_path (str): The path to the root folder containing subfolders with videos.\n",
    "    \"\"\"\n",
    "\n",
    "    for folder_name in os.listdir(root_folder_path):\n",
    "        folder_path = os.path.join(root_folder_path, folder_name)\n",
    "        if os.path.isdir(folder_path):  # Check if it's a directory\n",
    "\n",
    "            timestamps = []\n",
    "            total_duration = 0\n",
    "\n",
    "            # Get all MP4 files in the folder\n",
    "            for filename in os.listdir(folder_path):\n",
    "                if filename.endswith(\".mp4\"):\n",
    "                    filepath = os.path.join(folder_path, filename)\n",
    "\n",
    "                    # Get duration of the video using ffprobe\n",
    "                    probe = ffmpeg.probe(filepath)\n",
    "                    duration = float(probe['format']['duration'])\n",
    "                    timestamps.append((filename, total_duration))\n",
    "                    total_duration += duration\n",
    "\n",
    "            # Write timestamps only if there are multiple videos in the folder\n",
    "            if len(timestamps) > 1:\n",
    "                timestamp_file_path = os.path.join(folder_path, \"timestamps.txt\")\n",
    "                with open(timestamp_file_path, \"w\") as f:\n",
    "                    for filename, timestamp in timestamps:\n",
    "                        f.write(f\"{filename} - {int(timestamp // 60):02d}:{int(timestamp % 60):02d}\\n\")\n",
    "\n",
    "                print(f\"Timestamps saved to: {timestamp_file_path}\")\n",
    "\n",
    "# Get the root folder path\n",
    "root_folder_path = input(\"Enter the root folder path containing subfolders with videos: \")\n",
    "\n",
    "# Generate timestamps for each folder\n",
    "generate_timestamps_for_folders(root_folder_path)"
   ]
  }
 ],
 "metadata": {
  "kernelspec": {
   "display_name": "Python 3",
   "language": "python",
   "name": "python3"
  },
  "language_info": {
   "codemirror_mode": {
    "name": "ipython",
    "version": 3
   },
   "file_extension": ".py",
   "mimetype": "text/x-python",
   "name": "python",
   "nbconvert_exporter": "python",
   "pygments_lexer": "ipython3",
   "version": "3.12.5"
  }
 },
 "nbformat": 4,
 "nbformat_minor": 2
}
