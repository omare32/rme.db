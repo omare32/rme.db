{
 "cells": [
  {
   "cell_type": "code",
   "execution_count": 1,
   "metadata": {},
   "outputs": [],
   "source": [
    "import os\n",
    "import ffmpeg"
   ]
  },
  {
   "cell_type": "code",
   "execution_count": 2,
   "metadata": {},
   "outputs": [],
   "source": [
    "def merge_videos_and_create_timestamps(folder_path):\n",
    "    \"\"\"\n",
    "    Merges all MP4 videos in a folder into a single video and creates a timestamp file using ffmpeg-python.\n",
    "\n",
    "    Args:\n",
    "        folder_path (str): The path to the folder containing the MP4 videos.\n",
    "    \"\"\"\n",
    "\n",
    "    video_files = []\n",
    "    timestamps = []\n",
    "    total_duration = 0\n",
    "\n",
    "    # Get all MP4 files in the folder\n",
    "    for filename in os.listdir(folder_path):\n",
    "        if filename.endswith(\".mp4\"):\n",
    "            filepath = os.path.join(folder_path, filename)\n",
    "            video_files.append(filepath)\n",
    "\n",
    "            # Get duration of the video using ffprobe (part of ffmpeg)\n",
    "            probe = ffmpeg.probe(filepath)\n",
    "            duration = float(probe['format']['duration'])\n",
    "            timestamps.append((filename, total_duration))\n",
    "            total_duration += duration\n",
    "\n",
    "    # Create the ffmpeg command to concatenate the videos with explicit audio mapping\n",
    "    inputs = [ffmpeg.input(file) for file in video_files]\n",
    "    concat_filter = f\"concat=n={len(video_files)}:v=1:a=1\"\n",
    "    merged_video = ffmpeg.concat(*inputs, v=1, a=1) \\\n",
    "        .output(os.path.join(folder_path, \"merged_video.mp4\")) \\\n",
    "        .global_args('-map', '0:v:0', '-map', '0:a:0')  # Map video and audio from the first input\n",
    "\n",
    "    # Run the ffmpeg command and capture stderr output\n",
    "    try:\n",
    "        merged_video.run(capture_stdout=True, capture_stderr=True)\n",
    "    except ffmpeg.Error as e:\n",
    "        print(f\"FFmpeg error occurred: {e.stderr.decode()}\")\n",
    "        return  # Stop further execution if there's an error\n",
    "\n",
    "    # Write the timestamps to a text file\n",
    "    timestamp_file_path = os.path.join(folder_path, \"timestamps.txt\")\n",
    "    with open(timestamp_file_path, \"w\") as f:\n",
    "        for filename, timestamp in timestamps:\n",
    "            f.write(f\"{filename} - {int(timestamp // 60):02d}:{int(timestamp % 60):02d}\\n\")\n",
    "\n",
    "    print(f\"Merged video saved to: {os.path.join(folder_path, 'merged_video.mp4')}\")\n",
    "    print(f\"Timestamps saved to: {timestamp_file_path}\")"
   ]
  },
  {
   "cell_type": "code",
   "execution_count": 3,
   "metadata": {},
   "outputs": [
    {
     "name": "stdout",
     "output_type": "stream",
     "text": [
      "Merged video saved to: D:\\merge-test\\Journey\\merged_video.mp4\n",
      "Timestamps saved to: D:\\merge-test\\Journey\\timestamps.txt\n"
     ]
    }
   ],
   "source": [
    "# Get the folder path \n",
    "folder_path = r\"D:\\merge-test\\Journey\"\n",
    "\n",
    "# Merge videos and create timestamps\n",
    "merge_videos_and_create_timestamps(folder_path)"
   ]
  }
 ],
 "metadata": {
  "kernelspec": {
   "display_name": "Python 3",
   "language": "python",
   "name": "python3"
  },
  "language_info": {
   "codemirror_mode": {
    "name": "ipython",
    "version": 3
   },
   "file_extension": ".py",
   "mimetype": "text/x-python",
   "name": "python",
   "nbconvert_exporter": "python",
   "pygments_lexer": "ipython3",
   "version": "3.12.6"
  }
 },
 "nbformat": 4,
 "nbformat_minor": 2
}
