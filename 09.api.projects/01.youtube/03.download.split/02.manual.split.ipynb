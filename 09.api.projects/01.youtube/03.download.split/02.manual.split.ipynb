{
 "cells": [
  {
   "cell_type": "code",
   "execution_count": 2,
   "metadata": {},
   "outputs": [
    {
     "name": "stdout",
     "output_type": "stream",
     "text": [
      "[youtube] Extracting URL: https://www.youtube.com/watch?v=OYJ_RniGyrI\n",
      "[youtube] OYJ_RniGyrI: Downloading webpage\n",
      "[youtube] OYJ_RniGyrI: Downloading ios player API JSON\n",
      "[youtube] OYJ_RniGyrI: Downloading mweb player API JSON\n",
      "[youtube] OYJ_RniGyrI: Downloading m3u8 information\n",
      "[info] OYJ_RniGyrI: Downloading 1 format(s): 136+140\n",
      "[download] Destination: 6. Blood Sports.mp4\n",
      "[download] 100% of    6.78MiB in 00:09:41 at 11.94KiB/s\n"
     ]
    }
   ],
   "source": [
    "import yt_dlp\n",
    "import subprocess\n",
    "\n",
    "def download_segments(url, timestamps):\n",
    "  \"\"\"Downloads segments of a YouTube video based on provided timestamps.\n",
    "\n",
    "  Args:\n",
    "    url: The URL of the YouTube video.\n",
    "    timestamps: A list of tuples, where each tuple contains \n",
    "                (start_time, end_time, output_filename).\n",
    "  \"\"\"\n",
    "\n",
    "  for start, end, filename in timestamps:\n",
    "    ydl_opts = {\n",
    "        'format': 'bestvideo[ext=mp4]+bestaudio[ext=m4a]/best[ext=mp4]/best',\n",
    "        'outtmpl': filename,\n",
    "        'external_downloader': 'ffmpeg',\n",
    "        'external_downloader_args': [\n",
    "            '-ss', start,  # Start time\n",
    "            '-to', end     # End time\n",
    "        ]\n",
    "    }\n",
    "\n",
    "    with yt_dlp.YoutubeDL(ydl_opts) as ydl:\n",
    "      ydl.download([url])\n",
    "\n",
    "if __name__ == '__main__':\n",
    "  video_url = input(\"Enter the YouTube video URL: \")\n",
    "  timestamps = [\n",
    "      ('16:12', '18:40', '6. Blood Sports.mp4') \n",
    "  ]\n",
    "  download_segments(video_url, timestamps)"
   ]
  }
 ],
 "metadata": {
  "kernelspec": {
   "display_name": "Python 3",
   "language": "python",
   "name": "python3"
  },
  "language_info": {
   "codemirror_mode": {
    "name": "ipython",
    "version": 3
   },
   "file_extension": ".py",
   "mimetype": "text/x-python",
   "name": "python",
   "nbconvert_exporter": "python",
   "pygments_lexer": "ipython3",
   "version": "3.12.5"
  }
 },
 "nbformat": 4,
 "nbformat_minor": 2
}
