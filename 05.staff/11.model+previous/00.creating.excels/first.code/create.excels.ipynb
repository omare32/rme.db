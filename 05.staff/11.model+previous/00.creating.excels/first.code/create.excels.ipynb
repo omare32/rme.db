{
 "cells": [
  {
   "cell_type": "code",
   "execution_count": 1,
   "metadata": {},
   "outputs": [
    {
     "name": "stderr",
     "output_type": "stream",
     "text": [
      "C:\\Users\\Omar Essam\\AppData\\Local\\Temp\\ipykernel_13484\\2645276609.py:26: FutureWarning: Downcasting object dtype arrays on .fillna, .ffill, .bfill is deprecated and will change in a future version. Call result.infer_objects(copy=False) instead. To opt-in to the future behavior, set `pd.set_option('future.no_silent_downcasting', True)`\n",
      "  project_table.fillna(0, inplace=True)  # Fill empty cells with 0\n"
     ]
    },
    {
     "name": "stdout",
     "output_type": "stream",
     "text": [
      "Created Excel file: Beni Suef.xlsx\n",
      "Created Excel file: Tb2.xlsx\n",
      "Created Excel file: New Giza.xlsx\n",
      "Created Excel file: Hyper Solimanya.xlsx\n"
     ]
    },
    {
     "name": "stderr",
     "output_type": "stream",
     "text": [
      "C:\\Users\\Omar Essam\\AppData\\Local\\Temp\\ipykernel_13484\\2645276609.py:26: FutureWarning: Downcasting object dtype arrays on .fillna, .ffill, .bfill is deprecated and will change in a future version. Call result.infer_objects(copy=False) instead. To opt-in to the future behavior, set `pd.set_option('future.no_silent_downcasting', True)`\n",
      "  project_table.fillna(0, inplace=True)  # Fill empty cells with 0\n",
      "C:\\Users\\Omar Essam\\AppData\\Local\\Temp\\ipykernel_13484\\2645276609.py:26: FutureWarning: Downcasting object dtype arrays on .fillna, .ffill, .bfill is deprecated and will change in a future version. Call result.infer_objects(copy=False) instead. To opt-in to the future behavior, set `pd.set_option('future.no_silent_downcasting', True)`\n",
      "  project_table.fillna(0, inplace=True)  # Fill empty cells with 0\n",
      "C:\\Users\\Omar Essam\\AppData\\Local\\Temp\\ipykernel_13484\\2645276609.py:26: FutureWarning: Downcasting object dtype arrays on .fillna, .ffill, .bfill is deprecated and will change in a future version. Call result.infer_objects(copy=False) instead. To opt-in to the future behavior, set `pd.set_option('future.no_silent_downcasting', True)`\n",
      "  project_table.fillna(0, inplace=True)  # Fill empty cells with 0\n",
      "C:\\Users\\Omar Essam\\AppData\\Local\\Temp\\ipykernel_13484\\2645276609.py:26: FutureWarning: Downcasting object dtype arrays on .fillna, .ffill, .bfill is deprecated and will change in a future version. Call result.infer_objects(copy=False) instead. To opt-in to the future behavior, set `pd.set_option('future.no_silent_downcasting', True)`\n",
      "  project_table.fillna(0, inplace=True)  # Fill empty cells with 0\n"
     ]
    },
    {
     "name": "stdout",
     "output_type": "stream",
     "text": [
      "Created Excel file: New Giza phase 2.xlsx\n",
      "Created Excel file: Bridges Mahalla.xlsx\n",
      "Created Excel file: Civic Center.xlsx\n",
      "Created Excel file: Dubai Port.xlsx\n"
     ]
    },
    {
     "name": "stderr",
     "output_type": "stream",
     "text": [
      "C:\\Users\\Omar Essam\\AppData\\Local\\Temp\\ipykernel_13484\\2645276609.py:26: FutureWarning: Downcasting object dtype arrays on .fillna, .ffill, .bfill is deprecated and will change in a future version. Call result.infer_objects(copy=False) instead. To opt-in to the future behavior, set `pd.set_option('future.no_silent_downcasting', True)`\n",
      "  project_table.fillna(0, inplace=True)  # Fill empty cells with 0\n",
      "C:\\Users\\Omar Essam\\AppData\\Local\\Temp\\ipykernel_13484\\2645276609.py:26: FutureWarning: Downcasting object dtype arrays on .fillna, .ffill, .bfill is deprecated and will change in a future version. Call result.infer_objects(copy=False) instead. To opt-in to the future behavior, set `pd.set_option('future.no_silent_downcasting', True)`\n",
      "  project_table.fillna(0, inplace=True)  # Fill empty cells with 0\n",
      "C:\\Users\\Omar Essam\\AppData\\Local\\Temp\\ipykernel_13484\\2645276609.py:26: FutureWarning: Downcasting object dtype arrays on .fillna, .ffill, .bfill is deprecated and will change in a future version. Call result.infer_objects(copy=False) instead. To opt-in to the future behavior, set `pd.set_option('future.no_silent_downcasting', True)`\n",
      "  project_table.fillna(0, inplace=True)  # Fill empty cells with 0\n",
      "C:\\Users\\Omar Essam\\AppData\\Local\\Temp\\ipykernel_13484\\2645276609.py:26: FutureWarning: Downcasting object dtype arrays on .fillna, .ffill, .bfill is deprecated and will change in a future version. Call result.infer_objects(copy=False) instead. To opt-in to the future behavior, set `pd.set_option('future.no_silent_downcasting', True)`\n",
      "  project_table.fillna(0, inplace=True)  # Fill empty cells with 0\n"
     ]
    },
    {
     "name": "stdout",
     "output_type": "stream",
     "text": [
      "Created Excel file: The First Group.xlsx\n",
      "Created Excel file: UpTown 32.xlsx\n",
      "Created Excel file: Attaqa.xlsx\n"
     ]
    },
    {
     "name": "stderr",
     "output_type": "stream",
     "text": [
      "C:\\Users\\Omar Essam\\AppData\\Local\\Temp\\ipykernel_13484\\2645276609.py:26: FutureWarning: Downcasting object dtype arrays on .fillna, .ffill, .bfill is deprecated and will change in a future version. Call result.infer_objects(copy=False) instead. To opt-in to the future behavior, set `pd.set_option('future.no_silent_downcasting', True)`\n",
      "  project_table.fillna(0, inplace=True)  # Fill empty cells with 0\n",
      "C:\\Users\\Omar Essam\\AppData\\Local\\Temp\\ipykernel_13484\\2645276609.py:26: FutureWarning: Downcasting object dtype arrays on .fillna, .ffill, .bfill is deprecated and will change in a future version. Call result.infer_objects(copy=False) instead. To opt-in to the future behavior, set `pd.set_option('future.no_silent_downcasting', True)`\n",
      "  project_table.fillna(0, inplace=True)  # Fill empty cells with 0\n",
      "C:\\Users\\Omar Essam\\AppData\\Local\\Temp\\ipykernel_13484\\2645276609.py:26: FutureWarning: Downcasting object dtype arrays on .fillna, .ffill, .bfill is deprecated and will change in a future version. Call result.infer_objects(copy=False) instead. To opt-in to the future behavior, set `pd.set_option('future.no_silent_downcasting', True)`\n",
      "  project_table.fillna(0, inplace=True)  # Fill empty cells with 0\n"
     ]
    },
    {
     "name": "stdout",
     "output_type": "stream",
     "text": [
      "Created Excel file: Maxim.xlsx\n",
      "Created Excel file: Cairo Mall.xlsx\n",
      "Created Excel file: Marasi Tanks.xlsx\n",
      "Created Excel file: Sharm El-Shaikh.xlsx\n"
     ]
    },
    {
     "name": "stderr",
     "output_type": "stream",
     "text": [
      "C:\\Users\\Omar Essam\\AppData\\Local\\Temp\\ipykernel_13484\\2645276609.py:26: FutureWarning: Downcasting object dtype arrays on .fillna, .ffill, .bfill is deprecated and will change in a future version. Call result.infer_objects(copy=False) instead. To opt-in to the future behavior, set `pd.set_option('future.no_silent_downcasting', True)`\n",
      "  project_table.fillna(0, inplace=True)  # Fill empty cells with 0\n",
      "C:\\Users\\Omar Essam\\AppData\\Local\\Temp\\ipykernel_13484\\2645276609.py:26: FutureWarning: Downcasting object dtype arrays on .fillna, .ffill, .bfill is deprecated and will change in a future version. Call result.infer_objects(copy=False) instead. To opt-in to the future behavior, set `pd.set_option('future.no_silent_downcasting', True)`\n",
      "  project_table.fillna(0, inplace=True)  # Fill empty cells with 0\n",
      "C:\\Users\\Omar Essam\\AppData\\Local\\Temp\\ipykernel_13484\\2645276609.py:26: FutureWarning: Downcasting object dtype arrays on .fillna, .ffill, .bfill is deprecated and will change in a future version. Call result.infer_objects(copy=False) instead. To opt-in to the future behavior, set `pd.set_option('future.no_silent_downcasting', True)`\n",
      "  project_table.fillna(0, inplace=True)  # Fill empty cells with 0\n",
      "C:\\Users\\Omar Essam\\AppData\\Local\\Temp\\ipykernel_13484\\2645276609.py:26: FutureWarning: Downcasting object dtype arrays on .fillna, .ffill, .bfill is deprecated and will change in a future version. Call result.infer_objects(copy=False) instead. To opt-in to the future behavior, set `pd.set_option('future.no_silent_downcasting', True)`\n",
      "  project_table.fillna(0, inplace=True)  # Fill empty cells with 0\n"
     ]
    },
    {
     "name": "stdout",
     "output_type": "stream",
     "text": [
      "Created Excel file: Bridges Ismailia.xlsx\n"
     ]
    },
    {
     "name": "stderr",
     "output_type": "stream",
     "text": [
      "C:\\Users\\Omar Essam\\AppData\\Local\\Temp\\ipykernel_13484\\2645276609.py:26: FutureWarning: Downcasting object dtype arrays on .fillna, .ffill, .bfill is deprecated and will change in a future version. Call result.infer_objects(copy=False) instead. To opt-in to the future behavior, set `pd.set_option('future.no_silent_downcasting', True)`\n",
      "  project_table.fillna(0, inplace=True)  # Fill empty cells with 0\n"
     ]
    },
    {
     "name": "stdout",
     "output_type": "stream",
     "text": [
      "Created Excel file: Sodic Club House.xlsx\n",
      "Created Excel file: Egypt Mall.xlsx\n"
     ]
    },
    {
     "name": "stderr",
     "output_type": "stream",
     "text": [
      "C:\\Users\\Omar Essam\\AppData\\Local\\Temp\\ipykernel_13484\\2645276609.py:26: FutureWarning: Downcasting object dtype arrays on .fillna, .ffill, .bfill is deprecated and will change in a future version. Call result.infer_objects(copy=False) instead. To opt-in to the future behavior, set `pd.set_option('future.no_silent_downcasting', True)`\n",
      "  project_table.fillna(0, inplace=True)  # Fill empty cells with 0\n",
      "C:\\Users\\Omar Essam\\AppData\\Local\\Temp\\ipykernel_13484\\2645276609.py:26: FutureWarning: Downcasting object dtype arrays on .fillna, .ffill, .bfill is deprecated and will change in a future version. Call result.infer_objects(copy=False) instead. To opt-in to the future behavior, set `pd.set_option('future.no_silent_downcasting', True)`\n",
      "  project_table.fillna(0, inplace=True)  # Fill empty cells with 0\n"
     ]
    },
    {
     "name": "stdout",
     "output_type": "stream",
     "text": [
      "Created Excel file: UpTown PKG 53.xlsx\n",
      "Created Excel file: UpTown PKG 17.xlsx\n"
     ]
    },
    {
     "name": "stderr",
     "output_type": "stream",
     "text": [
      "C:\\Users\\Omar Essam\\AppData\\Local\\Temp\\ipykernel_13484\\2645276609.py:26: FutureWarning: Downcasting object dtype arrays on .fillna, .ffill, .bfill is deprecated and will change in a future version. Call result.infer_objects(copy=False) instead. To opt-in to the future behavior, set `pd.set_option('future.no_silent_downcasting', True)`\n",
      "  project_table.fillna(0, inplace=True)  # Fill empty cells with 0\n",
      "C:\\Users\\Omar Essam\\AppData\\Local\\Temp\\ipykernel_13484\\2645276609.py:26: FutureWarning: Downcasting object dtype arrays on .fillna, .ffill, .bfill is deprecated and will change in a future version. Call result.infer_objects(copy=False) instead. To opt-in to the future behavior, set `pd.set_option('future.no_silent_downcasting', True)`\n",
      "  project_table.fillna(0, inplace=True)  # Fill empty cells with 0\n"
     ]
    },
    {
     "name": "stdout",
     "output_type": "stream",
     "text": [
      "Created Excel file: Cairo Capital.xlsx\n",
      "Created Excel file: Gabal El Zeet.xlsx\n"
     ]
    },
    {
     "name": "stderr",
     "output_type": "stream",
     "text": [
      "C:\\Users\\Omar Essam\\AppData\\Local\\Temp\\ipykernel_13484\\2645276609.py:26: FutureWarning: Downcasting object dtype arrays on .fillna, .ffill, .bfill is deprecated and will change in a future version. Call result.infer_objects(copy=False) instead. To opt-in to the future behavior, set `pd.set_option('future.no_silent_downcasting', True)`\n",
      "  project_table.fillna(0, inplace=True)  # Fill empty cells with 0\n",
      "C:\\Users\\Omar Essam\\AppData\\Local\\Temp\\ipykernel_13484\\2645276609.py:26: FutureWarning: Downcasting object dtype arrays on .fillna, .ffill, .bfill is deprecated and will change in a future version. Call result.infer_objects(copy=False) instead. To opt-in to the future behavior, set `pd.set_option('future.no_silent_downcasting', True)`\n",
      "  project_table.fillna(0, inplace=True)  # Fill empty cells with 0\n"
     ]
    },
    {
     "name": "stdout",
     "output_type": "stream",
     "text": [
      "Created Excel file: UpTown PKG 62.xlsx\n",
      "Created Excel file: Substation Mokkatam.xlsx\n"
     ]
    },
    {
     "name": "stderr",
     "output_type": "stream",
     "text": [
      "C:\\Users\\Omar Essam\\AppData\\Local\\Temp\\ipykernel_13484\\2645276609.py:26: FutureWarning: Downcasting object dtype arrays on .fillna, .ffill, .bfill is deprecated and will change in a future version. Call result.infer_objects(copy=False) instead. To opt-in to the future behavior, set `pd.set_option('future.no_silent_downcasting', True)`\n",
      "  project_table.fillna(0, inplace=True)  # Fill empty cells with 0\n",
      "C:\\Users\\Omar Essam\\AppData\\Local\\Temp\\ipykernel_13484\\2645276609.py:26: FutureWarning: Downcasting object dtype arrays on .fillna, .ffill, .bfill is deprecated and will change in a future version. Call result.infer_objects(copy=False) instead. To opt-in to the future behavior, set `pd.set_option('future.no_silent_downcasting', True)`\n",
      "  project_table.fillna(0, inplace=True)  # Fill empty cells with 0\n"
     ]
    },
    {
     "name": "stdout",
     "output_type": "stream",
     "text": [
      "Created Excel file: Kayan 110.xlsx\n",
      "Created Excel file: Sodic.xlsx\n"
     ]
    },
    {
     "name": "stderr",
     "output_type": "stream",
     "text": [
      "C:\\Users\\Omar Essam\\AppData\\Local\\Temp\\ipykernel_13484\\2645276609.py:26: FutureWarning: Downcasting object dtype arrays on .fillna, .ffill, .bfill is deprecated and will change in a future version. Call result.infer_objects(copy=False) instead. To opt-in to the future behavior, set `pd.set_option('future.no_silent_downcasting', True)`\n",
      "  project_table.fillna(0, inplace=True)  # Fill empty cells with 0\n",
      "C:\\Users\\Omar Essam\\AppData\\Local\\Temp\\ipykernel_13484\\2645276609.py:26: FutureWarning: Downcasting object dtype arrays on .fillna, .ffill, .bfill is deprecated and will change in a future version. Call result.infer_objects(copy=False) instead. To opt-in to the future behavior, set `pd.set_option('future.no_silent_downcasting', True)`\n",
      "  project_table.fillna(0, inplace=True)  # Fill empty cells with 0\n"
     ]
    },
    {
     "name": "stdout",
     "output_type": "stream",
     "text": [
      "Created Excel file: Cement Factory.xlsx\n",
      "Created Excel file: Survey Department.xlsx\n"
     ]
    },
    {
     "name": "stderr",
     "output_type": "stream",
     "text": [
      "C:\\Users\\Omar Essam\\AppData\\Local\\Temp\\ipykernel_13484\\2645276609.py:26: FutureWarning: Downcasting object dtype arrays on .fillna, .ffill, .bfill is deprecated and will change in a future version. Call result.infer_objects(copy=False) instead. To opt-in to the future behavior, set `pd.set_option('future.no_silent_downcasting', True)`\n",
      "  project_table.fillna(0, inplace=True)  # Fill empty cells with 0\n",
      "C:\\Users\\Omar Essam\\AppData\\Local\\Temp\\ipykernel_13484\\2645276609.py:26: FutureWarning: Downcasting object dtype arrays on .fillna, .ffill, .bfill is deprecated and will change in a future version. Call result.infer_objects(copy=False) instead. To opt-in to the future behavior, set `pd.set_option('future.no_silent_downcasting', True)`\n",
      "  project_table.fillna(0, inplace=True)  # Fill empty cells with 0\n"
     ]
    },
    {
     "name": "stdout",
     "output_type": "stream",
     "text": [
      "Created Excel file: Tamy Elamdeed.xlsx\n",
      "Created Excel file: Marassi PKG 107.xlsx\n"
     ]
    },
    {
     "name": "stderr",
     "output_type": "stream",
     "text": [
      "C:\\Users\\Omar Essam\\AppData\\Local\\Temp\\ipykernel_13484\\2645276609.py:26: FutureWarning: Downcasting object dtype arrays on .fillna, .ffill, .bfill is deprecated and will change in a future version. Call result.infer_objects(copy=False) instead. To opt-in to the future behavior, set `pd.set_option('future.no_silent_downcasting', True)`\n",
      "  project_table.fillna(0, inplace=True)  # Fill empty cells with 0\n",
      "C:\\Users\\Omar Essam\\AppData\\Local\\Temp\\ipykernel_13484\\2645276609.py:26: FutureWarning: Downcasting object dtype arrays on .fillna, .ffill, .bfill is deprecated and will change in a future version. Call result.infer_objects(copy=False) instead. To opt-in to the future behavior, set `pd.set_option('future.no_silent_downcasting', True)`\n",
      "  project_table.fillna(0, inplace=True)  # Fill empty cells with 0\n"
     ]
    },
    {
     "name": "stdout",
     "output_type": "stream",
     "text": [
      "Created Excel file: Algeria Site.xlsx\n",
      "Created Excel file: Substation Beni Suef.xlsx\n"
     ]
    },
    {
     "name": "stderr",
     "output_type": "stream",
     "text": [
      "C:\\Users\\Omar Essam\\AppData\\Local\\Temp\\ipykernel_13484\\2645276609.py:26: FutureWarning: Downcasting object dtype arrays on .fillna, .ffill, .bfill is deprecated and will change in a future version. Call result.infer_objects(copy=False) instead. To opt-in to the future behavior, set `pd.set_option('future.no_silent_downcasting', True)`\n",
      "  project_table.fillna(0, inplace=True)  # Fill empty cells with 0\n",
      "C:\\Users\\Omar Essam\\AppData\\Local\\Temp\\ipykernel_13484\\2645276609.py:26: FutureWarning: Downcasting object dtype arrays on .fillna, .ffill, .bfill is deprecated and will change in a future version. Call result.infer_objects(copy=False) instead. To opt-in to the future behavior, set `pd.set_option('future.no_silent_downcasting', True)`\n",
      "  project_table.fillna(0, inplace=True)  # Fill empty cells with 0\n"
     ]
    },
    {
     "name": "stdout",
     "output_type": "stream",
     "text": [
      "Created Excel file: Ministry Building.xlsx\n"
     ]
    },
    {
     "name": "stderr",
     "output_type": "stream",
     "text": [
      "C:\\Users\\Omar Essam\\AppData\\Local\\Temp\\ipykernel_13484\\2645276609.py:26: FutureWarning: Downcasting object dtype arrays on .fillna, .ffill, .bfill is deprecated and will change in a future version. Call result.infer_objects(copy=False) instead. To opt-in to the future behavior, set `pd.set_option('future.no_silent_downcasting', True)`\n",
      "  project_table.fillna(0, inplace=True)  # Fill empty cells with 0\n"
     ]
    },
    {
     "name": "stdout",
     "output_type": "stream",
     "text": [
      "Created Excel file: Royal Mall.xlsx\n",
      "Created Excel file: Substation Ismailia.xlsx\n"
     ]
    },
    {
     "name": "stderr",
     "output_type": "stream",
     "text": [
      "C:\\Users\\Omar Essam\\AppData\\Local\\Temp\\ipykernel_13484\\2645276609.py:26: FutureWarning: Downcasting object dtype arrays on .fillna, .ffill, .bfill is deprecated and will change in a future version. Call result.infer_objects(copy=False) instead. To opt-in to the future behavior, set `pd.set_option('future.no_silent_downcasting', True)`\n",
      "  project_table.fillna(0, inplace=True)  # Fill empty cells with 0\n",
      "C:\\Users\\Omar Essam\\AppData\\Local\\Temp\\ipykernel_13484\\2645276609.py:26: FutureWarning: Downcasting object dtype arrays on .fillna, .ffill, .bfill is deprecated and will change in a future version. Call result.infer_objects(copy=False) instead. To opt-in to the future behavior, set `pd.set_option('future.no_silent_downcasting', True)`\n",
      "  project_table.fillna(0, inplace=True)  # Fill empty cells with 0\n"
     ]
    },
    {
     "name": "stdout",
     "output_type": "stream",
     "text": [
      "Created Excel file: Substation Mansoura.xlsx\n",
      "Created Excel file: P I Park.xlsx\n"
     ]
    },
    {
     "name": "stderr",
     "output_type": "stream",
     "text": [
      "C:\\Users\\Omar Essam\\AppData\\Local\\Temp\\ipykernel_13484\\2645276609.py:26: FutureWarning: Downcasting object dtype arrays on .fillna, .ffill, .bfill is deprecated and will change in a future version. Call result.infer_objects(copy=False) instead. To opt-in to the future behavior, set `pd.set_option('future.no_silent_downcasting', True)`\n",
      "  project_table.fillna(0, inplace=True)  # Fill empty cells with 0\n",
      "C:\\Users\\Omar Essam\\AppData\\Local\\Temp\\ipykernel_13484\\2645276609.py:26: FutureWarning: Downcasting object dtype arrays on .fillna, .ffill, .bfill is deprecated and will change in a future version. Call result.infer_objects(copy=False) instead. To opt-in to the future behavior, set `pd.set_option('future.no_silent_downcasting', True)`\n",
      "  project_table.fillna(0, inplace=True)  # Fill empty cells with 0\n"
     ]
    },
    {
     "name": "stdout",
     "output_type": "stream",
     "text": [
      "Created Excel file: Temsah Hyper – Ismailia.xlsx\n"
     ]
    },
    {
     "name": "stderr",
     "output_type": "stream",
     "text": [
      "C:\\Users\\Omar Essam\\AppData\\Local\\Temp\\ipykernel_13484\\2645276609.py:26: FutureWarning: Downcasting object dtype arrays on .fillna, .ffill, .bfill is deprecated and will change in a future version. Call result.infer_objects(copy=False) instead. To opt-in to the future behavior, set `pd.set_option('future.no_silent_downcasting', True)`\n",
      "  project_table.fillna(0, inplace=True)  # Fill empty cells with 0\n"
     ]
    },
    {
     "name": "stdout",
     "output_type": "stream",
     "text": [
      "Created Excel file: Rolling Mill.xlsx\n"
     ]
    },
    {
     "name": "stderr",
     "output_type": "stream",
     "text": [
      "C:\\Users\\Omar Essam\\AppData\\Local\\Temp\\ipykernel_13484\\2645276609.py:26: FutureWarning: Downcasting object dtype arrays on .fillna, .ffill, .bfill is deprecated and will change in a future version. Call result.infer_objects(copy=False) instead. To opt-in to the future behavior, set `pd.set_option('future.no_silent_downcasting', True)`\n",
      "  project_table.fillna(0, inplace=True)  # Fill empty cells with 0\n"
     ]
    },
    {
     "name": "stdout",
     "output_type": "stream",
     "text": [
      "Created Excel file: SIEMENS.xlsx\n",
      "Created Excel file: Marassi # PKG 117.xlsx\n"
     ]
    },
    {
     "name": "stderr",
     "output_type": "stream",
     "text": [
      "C:\\Users\\Omar Essam\\AppData\\Local\\Temp\\ipykernel_13484\\2645276609.py:26: FutureWarning: Downcasting object dtype arrays on .fillna, .ffill, .bfill is deprecated and will change in a future version. Call result.infer_objects(copy=False) instead. To opt-in to the future behavior, set `pd.set_option('future.no_silent_downcasting', True)`\n",
      "  project_table.fillna(0, inplace=True)  # Fill empty cells with 0\n",
      "C:\\Users\\Omar Essam\\AppData\\Local\\Temp\\ipykernel_13484\\2645276609.py:26: FutureWarning: Downcasting object dtype arrays on .fillna, .ffill, .bfill is deprecated and will change in a future version. Call result.infer_objects(copy=False) instead. To opt-in to the future behavior, set `pd.set_option('future.no_silent_downcasting', True)`\n",
      "  project_table.fillna(0, inplace=True)  # Fill empty cells with 0\n"
     ]
    },
    {
     "name": "stdout",
     "output_type": "stream",
     "text": [
      "Created Excel file: Mintra Factory.xlsx\n",
      "Created Excel file: AL Jazi Mall.xlsx\n"
     ]
    },
    {
     "name": "stderr",
     "output_type": "stream",
     "text": [
      "C:\\Users\\Omar Essam\\AppData\\Local\\Temp\\ipykernel_13484\\2645276609.py:26: FutureWarning: Downcasting object dtype arrays on .fillna, .ffill, .bfill is deprecated and will change in a future version. Call result.infer_objects(copy=False) instead. To opt-in to the future behavior, set `pd.set_option('future.no_silent_downcasting', True)`\n",
      "  project_table.fillna(0, inplace=True)  # Fill empty cells with 0\n",
      "C:\\Users\\Omar Essam\\AppData\\Local\\Temp\\ipykernel_13484\\2645276609.py:26: FutureWarning: Downcasting object dtype arrays on .fillna, .ffill, .bfill is deprecated and will change in a future version. Call result.infer_objects(copy=False) instead. To opt-in to the future behavior, set `pd.set_option('future.no_silent_downcasting', True)`\n",
      "  project_table.fillna(0, inplace=True)  # Fill empty cells with 0\n"
     ]
    },
    {
     "name": "stdout",
     "output_type": "stream",
     "text": [
      "Created Excel file: Mohamed Ali palace.xlsx\n"
     ]
    },
    {
     "name": "stderr",
     "output_type": "stream",
     "text": [
      "C:\\Users\\Omar Essam\\AppData\\Local\\Temp\\ipykernel_13484\\2645276609.py:26: FutureWarning: Downcasting object dtype arrays on .fillna, .ffill, .bfill is deprecated and will change in a future version. Call result.infer_objects(copy=False) instead. To opt-in to the future behavior, set `pd.set_option('future.no_silent_downcasting', True)`\n",
      "  project_table.fillna(0, inplace=True)  # Fill empty cells with 0\n",
      "C:\\Users\\Omar Essam\\AppData\\Local\\Temp\\ipykernel_13484\\2645276609.py:26: FutureWarning: Downcasting object dtype arrays on .fillna, .ffill, .bfill is deprecated and will change in a future version. Call result.infer_objects(copy=False) instead. To opt-in to the future behavior, set `pd.set_option('future.no_silent_downcasting', True)`\n",
      "  project_table.fillna(0, inplace=True)  # Fill empty cells with 0\n"
     ]
    },
    {
     "name": "stdout",
     "output_type": "stream",
     "text": [
      "Created Excel file: R05.xlsx\n",
      "Created Excel file: Benban Aswan.xlsx\n"
     ]
    },
    {
     "name": "stderr",
     "output_type": "stream",
     "text": [
      "C:\\Users\\Omar Essam\\AppData\\Local\\Temp\\ipykernel_13484\\2645276609.py:26: FutureWarning: Downcasting object dtype arrays on .fillna, .ffill, .bfill is deprecated and will change in a future version. Call result.infer_objects(copy=False) instead. To opt-in to the future behavior, set `pd.set_option('future.no_silent_downcasting', True)`\n",
      "  project_table.fillna(0, inplace=True)  # Fill empty cells with 0\n",
      "C:\\Users\\Omar Essam\\AppData\\Local\\Temp\\ipykernel_13484\\2645276609.py:26: FutureWarning: Downcasting object dtype arrays on .fillna, .ffill, .bfill is deprecated and will change in a future version. Call result.infer_objects(copy=False) instead. To opt-in to the future behavior, set `pd.set_option('future.no_silent_downcasting', True)`\n",
      "  project_table.fillna(0, inplace=True)  # Fill empty cells with 0\n"
     ]
    },
    {
     "name": "stdout",
     "output_type": "stream",
     "text": [
      "Created Excel file: Alamein Roads.xlsx\n",
      "Created Excel file: El sewedy University.xlsx\n"
     ]
    },
    {
     "name": "stderr",
     "output_type": "stream",
     "text": [
      "C:\\Users\\Omar Essam\\AppData\\Local\\Temp\\ipykernel_13484\\2645276609.py:26: FutureWarning: Downcasting object dtype arrays on .fillna, .ffill, .bfill is deprecated and will change in a future version. Call result.infer_objects(copy=False) instead. To opt-in to the future behavior, set `pd.set_option('future.no_silent_downcasting', True)`\n",
      "  project_table.fillna(0, inplace=True)  # Fill empty cells with 0\n"
     ]
    },
    {
     "name": "stdout",
     "output_type": "stream",
     "text": [
      "Created Excel file: Sodic Eastown.xlsx\n"
     ]
    },
    {
     "name": "stderr",
     "output_type": "stream",
     "text": [
      "C:\\Users\\Omar Essam\\AppData\\Local\\Temp\\ipykernel_13484\\2645276609.py:26: FutureWarning: Downcasting object dtype arrays on .fillna, .ffill, .bfill is deprecated and will change in a future version. Call result.infer_objects(copy=False) instead. To opt-in to the future behavior, set `pd.set_option('future.no_silent_downcasting', True)`\n",
      "  project_table.fillna(0, inplace=True)  # Fill empty cells with 0\n"
     ]
    },
    {
     "name": "stdout",
     "output_type": "stream",
     "text": [
      "Created Excel file: DP World.xlsx\n",
      "Created Excel file: Marassi # PKG 144.xlsx\n"
     ]
    },
    {
     "name": "stderr",
     "output_type": "stream",
     "text": [
      "C:\\Users\\Omar Essam\\AppData\\Local\\Temp\\ipykernel_13484\\2645276609.py:26: FutureWarning: Downcasting object dtype arrays on .fillna, .ffill, .bfill is deprecated and will change in a future version. Call result.infer_objects(copy=False) instead. To opt-in to the future behavior, set `pd.set_option('future.no_silent_downcasting', True)`\n",
      "  project_table.fillna(0, inplace=True)  # Fill empty cells with 0\n",
      "C:\\Users\\Omar Essam\\AppData\\Local\\Temp\\ipykernel_13484\\2645276609.py:26: FutureWarning: Downcasting object dtype arrays on .fillna, .ffill, .bfill is deprecated and will change in a future version. Call result.infer_objects(copy=False) instead. To opt-in to the future behavior, set `pd.set_option('future.no_silent_downcasting', True)`\n",
      "  project_table.fillna(0, inplace=True)  # Fill empty cells with 0\n"
     ]
    },
    {
     "name": "stdout",
     "output_type": "stream",
     "text": [
      "Created Excel file: Mivida Pkg #140.xlsx\n"
     ]
    },
    {
     "name": "stderr",
     "output_type": "stream",
     "text": [
      "C:\\Users\\Omar Essam\\AppData\\Local\\Temp\\ipykernel_13484\\2645276609.py:26: FutureWarning: Downcasting object dtype arrays on .fillna, .ffill, .bfill is deprecated and will change in a future version. Call result.infer_objects(copy=False) instead. To opt-in to the future behavior, set `pd.set_option('future.no_silent_downcasting', True)`\n",
      "  project_table.fillna(0, inplace=True)  # Fill empty cells with 0\n"
     ]
    },
    {
     "name": "stdout",
     "output_type": "stream",
     "text": [
      "Created Excel file: R05 1.xlsx\n",
      "Created Excel file: Concrete Batch Plant.xlsx\n"
     ]
    },
    {
     "name": "stderr",
     "output_type": "stream",
     "text": [
      "C:\\Users\\Omar Essam\\AppData\\Local\\Temp\\ipykernel_13484\\2645276609.py:26: FutureWarning: Downcasting object dtype arrays on .fillna, .ffill, .bfill is deprecated and will change in a future version. Call result.infer_objects(copy=False) instead. To opt-in to the future behavior, set `pd.set_option('future.no_silent_downcasting', True)`\n",
      "  project_table.fillna(0, inplace=True)  # Fill empty cells with 0\n",
      "C:\\Users\\Omar Essam\\AppData\\Local\\Temp\\ipykernel_13484\\2645276609.py:26: FutureWarning: Downcasting object dtype arrays on .fillna, .ffill, .bfill is deprecated and will change in a future version. Call result.infer_objects(copy=False) instead. To opt-in to the future behavior, set `pd.set_option('future.no_silent_downcasting', True)`\n",
      "  project_table.fillna(0, inplace=True)  # Fill empty cells with 0\n"
     ]
    },
    {
     "name": "stdout",
     "output_type": "stream",
     "text": [
      "Created Excel file: R05 2.xlsx\n",
      "Created Excel file: Suez Substation # 96.xlsx\n"
     ]
    },
    {
     "name": "stderr",
     "output_type": "stream",
     "text": [
      "C:\\Users\\Omar Essam\\AppData\\Local\\Temp\\ipykernel_13484\\2645276609.py:26: FutureWarning: Downcasting object dtype arrays on .fillna, .ffill, .bfill is deprecated and will change in a future version. Call result.infer_objects(copy=False) instead. To opt-in to the future behavior, set `pd.set_option('future.no_silent_downcasting', True)`\n",
      "  project_table.fillna(0, inplace=True)  # Fill empty cells with 0\n",
      "C:\\Users\\Omar Essam\\AppData\\Local\\Temp\\ipykernel_13484\\2645276609.py:26: FutureWarning: Downcasting object dtype arrays on .fillna, .ffill, .bfill is deprecated and will change in a future version. Call result.infer_objects(copy=False) instead. To opt-in to the future behavior, set `pd.set_option('future.no_silent_downcasting', True)`\n",
      "  project_table.fillna(0, inplace=True)  # Fill empty cells with 0\n"
     ]
    },
    {
     "name": "stdout",
     "output_type": "stream",
     "text": [
      "Created Excel file: EGAT Project # 120.xlsx\n",
      "Created Excel file: El Gouna.xlsx\n"
     ]
    },
    {
     "name": "stderr",
     "output_type": "stream",
     "text": [
      "C:\\Users\\Omar Essam\\AppData\\Local\\Temp\\ipykernel_13484\\2645276609.py:26: FutureWarning: Downcasting object dtype arrays on .fillna, .ffill, .bfill is deprecated and will change in a future version. Call result.infer_objects(copy=False) instead. To opt-in to the future behavior, set `pd.set_option('future.no_silent_downcasting', True)`\n",
      "  project_table.fillna(0, inplace=True)  # Fill empty cells with 0\n",
      "C:\\Users\\Omar Essam\\AppData\\Local\\Temp\\ipykernel_13484\\2645276609.py:26: FutureWarning: Downcasting object dtype arrays on .fillna, .ffill, .bfill is deprecated and will change in a future version. Call result.infer_objects(copy=False) instead. To opt-in to the future behavior, set `pd.set_option('future.no_silent_downcasting', True)`\n",
      "  project_table.fillna(0, inplace=True)  # Fill empty cells with 0\n"
     ]
    },
    {
     "name": "stdout",
     "output_type": "stream",
     "text": [
      "Created Excel file: Olympic Multi – Sports Hall.xlsx\n",
      "Created Excel file: Ain Shams Bridge.xlsx\n",
      "Created Excel file: Safeer Bridge.xlsx\n"
     ]
    },
    {
     "name": "stderr",
     "output_type": "stream",
     "text": [
      "C:\\Users\\Omar Essam\\AppData\\Local\\Temp\\ipykernel_13484\\2645276609.py:26: FutureWarning: Downcasting object dtype arrays on .fillna, .ffill, .bfill is deprecated and will change in a future version. Call result.infer_objects(copy=False) instead. To opt-in to the future behavior, set `pd.set_option('future.no_silent_downcasting', True)`\n",
      "  project_table.fillna(0, inplace=True)  # Fill empty cells with 0\n",
      "C:\\Users\\Omar Essam\\AppData\\Local\\Temp\\ipykernel_13484\\2645276609.py:26: FutureWarning: Downcasting object dtype arrays on .fillna, .ffill, .bfill is deprecated and will change in a future version. Call result.infer_objects(copy=False) instead. To opt-in to the future behavior, set `pd.set_option('future.no_silent_downcasting', True)`\n",
      "  project_table.fillna(0, inplace=True)  # Fill empty cells with 0\n",
      "C:\\Users\\Omar Essam\\AppData\\Local\\Temp\\ipykernel_13484\\2645276609.py:26: FutureWarning: Downcasting object dtype arrays on .fillna, .ffill, .bfill is deprecated and will change in a future version. Call result.infer_objects(copy=False) instead. To opt-in to the future behavior, set `pd.set_option('future.no_silent_downcasting', True)`\n",
      "  project_table.fillna(0, inplace=True)  # Fill empty cells with 0\n"
     ]
    },
    {
     "name": "stdout",
     "output_type": "stream",
     "text": [
      "Created Excel file: C.F.C.xlsx\n",
      "Created Excel file: IKEA.xlsx\n",
      "Created Excel file: Hyper October.xlsx\n"
     ]
    },
    {
     "name": "stderr",
     "output_type": "stream",
     "text": [
      "C:\\Users\\Omar Essam\\AppData\\Local\\Temp\\ipykernel_13484\\2645276609.py:26: FutureWarning: Downcasting object dtype arrays on .fillna, .ffill, .bfill is deprecated and will change in a future version. Call result.infer_objects(copy=False) instead. To opt-in to the future behavior, set `pd.set_option('future.no_silent_downcasting', True)`\n",
      "  project_table.fillna(0, inplace=True)  # Fill empty cells with 0\n",
      "C:\\Users\\Omar Essam\\AppData\\Local\\Temp\\ipykernel_13484\\2645276609.py:26: FutureWarning: Downcasting object dtype arrays on .fillna, .ffill, .bfill is deprecated and will change in a future version. Call result.infer_objects(copy=False) instead. To opt-in to the future behavior, set `pd.set_option('future.no_silent_downcasting', True)`\n",
      "  project_table.fillna(0, inplace=True)  # Fill empty cells with 0\n",
      "C:\\Users\\Omar Essam\\AppData\\Local\\Temp\\ipykernel_13484\\2645276609.py:26: FutureWarning: Downcasting object dtype arrays on .fillna, .ffill, .bfill is deprecated and will change in a future version. Call result.infer_objects(copy=False) instead. To opt-in to the future behavior, set `pd.set_option('future.no_silent_downcasting', True)`\n",
      "  project_table.fillna(0, inplace=True)  # Fill empty cells with 0\n"
     ]
    },
    {
     "name": "stdout",
     "output_type": "stream",
     "text": [
      "Created Excel file: West Baker Wind Farm.xlsx\n"
     ]
    },
    {
     "name": "stderr",
     "output_type": "stream",
     "text": [
      "C:\\Users\\Omar Essam\\AppData\\Local\\Temp\\ipykernel_13484\\2645276609.py:26: FutureWarning: Downcasting object dtype arrays on .fillna, .ffill, .bfill is deprecated and will change in a future version. Call result.infer_objects(copy=False) instead. To opt-in to the future behavior, set `pd.set_option('future.no_silent_downcasting', True)`\n",
      "  project_table.fillna(0, inplace=True)  # Fill empty cells with 0\n"
     ]
    },
    {
     "name": "stdout",
     "output_type": "stream",
     "text": [
      "Created Excel file: Ring Road.xlsx\n",
      "Created Excel file: Hegaz Bridge.xlsx\n"
     ]
    },
    {
     "name": "stderr",
     "output_type": "stream",
     "text": [
      "C:\\Users\\Omar Essam\\AppData\\Local\\Temp\\ipykernel_13484\\2645276609.py:26: FutureWarning: Downcasting object dtype arrays on .fillna, .ffill, .bfill is deprecated and will change in a future version. Call result.infer_objects(copy=False) instead. To opt-in to the future behavior, set `pd.set_option('future.no_silent_downcasting', True)`\n",
      "  project_table.fillna(0, inplace=True)  # Fill empty cells with 0\n",
      "C:\\Users\\Omar Essam\\AppData\\Local\\Temp\\ipykernel_13484\\2645276609.py:26: FutureWarning: Downcasting object dtype arrays on .fillna, .ffill, .bfill is deprecated and will change in a future version. Call result.infer_objects(copy=False) instead. To opt-in to the future behavior, set `pd.set_option('future.no_silent_downcasting', True)`\n",
      "  project_table.fillna(0, inplace=True)  # Fill empty cells with 0\n"
     ]
    },
    {
     "name": "stdout",
     "output_type": "stream",
     "text": [
      "Created Excel file: Marassi # PKG 162.xlsx\n",
      "Created Excel file: Abbas El Akkad Bridge.xlsx\n",
      "Created Excel file: 10th of Ramadan Bridge.xlsx\n",
      "Created Excel file: Kafer Shokr Bridge.xlsx\n"
     ]
    },
    {
     "name": "stderr",
     "output_type": "stream",
     "text": [
      "C:\\Users\\Omar Essam\\AppData\\Local\\Temp\\ipykernel_13484\\2645276609.py:26: FutureWarning: Downcasting object dtype arrays on .fillna, .ffill, .bfill is deprecated and will change in a future version. Call result.infer_objects(copy=False) instead. To opt-in to the future behavior, set `pd.set_option('future.no_silent_downcasting', True)`\n",
      "  project_table.fillna(0, inplace=True)  # Fill empty cells with 0\n",
      "C:\\Users\\Omar Essam\\AppData\\Local\\Temp\\ipykernel_13484\\2645276609.py:26: FutureWarning: Downcasting object dtype arrays on .fillna, .ffill, .bfill is deprecated and will change in a future version. Call result.infer_objects(copy=False) instead. To opt-in to the future behavior, set `pd.set_option('future.no_silent_downcasting', True)`\n",
      "  project_table.fillna(0, inplace=True)  # Fill empty cells with 0\n",
      "C:\\Users\\Omar Essam\\AppData\\Local\\Temp\\ipykernel_13484\\2645276609.py:26: FutureWarning: Downcasting object dtype arrays on .fillna, .ffill, .bfill is deprecated and will change in a future version. Call result.infer_objects(copy=False) instead. To opt-in to the future behavior, set `pd.set_option('future.no_silent_downcasting', True)`\n",
      "  project_table.fillna(0, inplace=True)  # Fill empty cells with 0\n",
      "C:\\Users\\Omar Essam\\AppData\\Local\\Temp\\ipykernel_13484\\2645276609.py:26: FutureWarning: Downcasting object dtype arrays on .fillna, .ffill, .bfill is deprecated and will change in a future version. Call result.infer_objects(copy=False) instead. To opt-in to the future behavior, set `pd.set_option('future.no_silent_downcasting', True)`\n",
      "  project_table.fillna(0, inplace=True)  # Fill empty cells with 0\n"
     ]
    },
    {
     "name": "stdout",
     "output_type": "stream",
     "text": [
      "Created Excel file: El Shorouk Bridge.xlsx\n",
      "Created Excel file: El Salam Bridge.xlsx\n",
      "Created Excel file: Sultana Malak Palace.xlsx\n"
     ]
    },
    {
     "name": "stderr",
     "output_type": "stream",
     "text": [
      "C:\\Users\\Omar Essam\\AppData\\Local\\Temp\\ipykernel_13484\\2645276609.py:26: FutureWarning: Downcasting object dtype arrays on .fillna, .ffill, .bfill is deprecated and will change in a future version. Call result.infer_objects(copy=False) instead. To opt-in to the future behavior, set `pd.set_option('future.no_silent_downcasting', True)`\n",
      "  project_table.fillna(0, inplace=True)  # Fill empty cells with 0\n",
      "C:\\Users\\Omar Essam\\AppData\\Local\\Temp\\ipykernel_13484\\2645276609.py:26: FutureWarning: Downcasting object dtype arrays on .fillna, .ffill, .bfill is deprecated and will change in a future version. Call result.infer_objects(copy=False) instead. To opt-in to the future behavior, set `pd.set_option('future.no_silent_downcasting', True)`\n",
      "  project_table.fillna(0, inplace=True)  # Fill empty cells with 0\n",
      "C:\\Users\\Omar Essam\\AppData\\Local\\Temp\\ipykernel_13484\\2645276609.py:26: FutureWarning: Downcasting object dtype arrays on .fillna, .ffill, .bfill is deprecated and will change in a future version. Call result.infer_objects(copy=False) instead. To opt-in to the future behavior, set `pd.set_option('future.no_silent_downcasting', True)`\n",
      "  project_table.fillna(0, inplace=True)  # Fill empty cells with 0\n"
     ]
    },
    {
     "name": "stdout",
     "output_type": "stream",
     "text": [
      "Created Excel file: Cairo-Alex Railway.xlsx\n"
     ]
    },
    {
     "name": "stderr",
     "output_type": "stream",
     "text": [
      "C:\\Users\\Omar Essam\\AppData\\Local\\Temp\\ipykernel_13484\\2645276609.py:26: FutureWarning: Downcasting object dtype arrays on .fillna, .ffill, .bfill is deprecated and will change in a future version. Call result.infer_objects(copy=False) instead. To opt-in to the future behavior, set `pd.set_option('future.no_silent_downcasting', True)`\n",
      "  project_table.fillna(0, inplace=True)  # Fill empty cells with 0\n"
     ]
    },
    {
     "name": "stdout",
     "output_type": "stream",
     "text": [
      "Created Excel file: Gov02.xlsx\n"
     ]
    },
    {
     "name": "stderr",
     "output_type": "stream",
     "text": [
      "C:\\Users\\Omar Essam\\AppData\\Local\\Temp\\ipykernel_13484\\2645276609.py:26: FutureWarning: Downcasting object dtype arrays on .fillna, .ffill, .bfill is deprecated and will change in a future version. Call result.infer_objects(copy=False) instead. To opt-in to the future behavior, set `pd.set_option('future.no_silent_downcasting', True)`\n",
      "  project_table.fillna(0, inplace=True)  # Fill empty cells with 0\n"
     ]
    },
    {
     "name": "stdout",
     "output_type": "stream",
     "text": [
      "Created Excel file: Diplomatic District.xlsx\n"
     ]
    },
    {
     "name": "stderr",
     "output_type": "stream",
     "text": [
      "C:\\Users\\Omar Essam\\AppData\\Local\\Temp\\ipykernel_13484\\2645276609.py:26: FutureWarning: Downcasting object dtype arrays on .fillna, .ffill, .bfill is deprecated and will change in a future version. Call result.infer_objects(copy=False) instead. To opt-in to the future behavior, set `pd.set_option('future.no_silent_downcasting', True)`\n",
      "  project_table.fillna(0, inplace=True)  # Fill empty cells with 0\n"
     ]
    },
    {
     "name": "stdout",
     "output_type": "stream",
     "text": [
      "Created Excel file: Zed Towers.xlsx\n",
      "Created Excel file: Concrete Batch Plant - WBWF.xlsx\n"
     ]
    },
    {
     "name": "stderr",
     "output_type": "stream",
     "text": [
      "C:\\Users\\Omar Essam\\AppData\\Local\\Temp\\ipykernel_13484\\2645276609.py:26: FutureWarning: Downcasting object dtype arrays on .fillna, .ffill, .bfill is deprecated and will change in a future version. Call result.infer_objects(copy=False) instead. To opt-in to the future behavior, set `pd.set_option('future.no_silent_downcasting', True)`\n",
      "  project_table.fillna(0, inplace=True)  # Fill empty cells with 0\n",
      "C:\\Users\\Omar Essam\\AppData\\Local\\Temp\\ipykernel_13484\\2645276609.py:26: FutureWarning: Downcasting object dtype arrays on .fillna, .ffill, .bfill is deprecated and will change in a future version. Call result.infer_objects(copy=False) instead. To opt-in to the future behavior, set `pd.set_option('future.no_silent_downcasting', True)`\n",
      "  project_table.fillna(0, inplace=True)  # Fill empty cells with 0\n"
     ]
    },
    {
     "name": "stdout",
     "output_type": "stream",
     "text": [
      "Created Excel file: Seashell-Playa.xlsx\n"
     ]
    },
    {
     "name": "stderr",
     "output_type": "stream",
     "text": [
      "C:\\Users\\Omar Essam\\AppData\\Local\\Temp\\ipykernel_13484\\2645276609.py:26: FutureWarning: Downcasting object dtype arrays on .fillna, .ffill, .bfill is deprecated and will change in a future version. Call result.infer_objects(copy=False) instead. To opt-in to the future behavior, set `pd.set_option('future.no_silent_downcasting', True)`\n",
      "  project_table.fillna(0, inplace=True)  # Fill empty cells with 0\n"
     ]
    },
    {
     "name": "stdout",
     "output_type": "stream",
     "text": [
      "Created Excel file: Katameya creeks.xlsx\n",
      "Created Excel file: El sewedy HQ Fit Out.xlsx\n"
     ]
    },
    {
     "name": "stderr",
     "output_type": "stream",
     "text": [
      "C:\\Users\\Omar Essam\\AppData\\Local\\Temp\\ipykernel_13484\\2645276609.py:26: FutureWarning: Downcasting object dtype arrays on .fillna, .ffill, .bfill is deprecated and will change in a future version. Call result.infer_objects(copy=False) instead. To opt-in to the future behavior, set `pd.set_option('future.no_silent_downcasting', True)`\n",
      "  project_table.fillna(0, inplace=True)  # Fill empty cells with 0\n",
      "C:\\Users\\Omar Essam\\AppData\\Local\\Temp\\ipykernel_13484\\2645276609.py:26: FutureWarning: Downcasting object dtype arrays on .fillna, .ffill, .bfill is deprecated and will change in a future version. Call result.infer_objects(copy=False) instead. To opt-in to the future behavior, set `pd.set_option('future.no_silent_downcasting', True)`\n",
      "  project_table.fillna(0, inplace=True)  # Fill empty cells with 0\n"
     ]
    },
    {
     "name": "stdout",
     "output_type": "stream",
     "text": [
      "Created Excel file: Security Department.xlsx\n"
     ]
    },
    {
     "name": "stderr",
     "output_type": "stream",
     "text": [
      "C:\\Users\\Omar Essam\\AppData\\Local\\Temp\\ipykernel_13484\\2645276609.py:26: FutureWarning: Downcasting object dtype arrays on .fillna, .ffill, .bfill is deprecated and will change in a future version. Call result.infer_objects(copy=False) instead. To opt-in to the future behavior, set `pd.set_option('future.no_silent_downcasting', True)`\n",
      "  project_table.fillna(0, inplace=True)  # Fill empty cells with 0\n"
     ]
    },
    {
     "name": "stdout",
     "output_type": "stream",
     "text": [
      "Created Excel file: Mansoura University.xlsx\n"
     ]
    },
    {
     "name": "stderr",
     "output_type": "stream",
     "text": [
      "C:\\Users\\Omar Essam\\AppData\\Local\\Temp\\ipykernel_13484\\2645276609.py:26: FutureWarning: Downcasting object dtype arrays on .fillna, .ffill, .bfill is deprecated and will change in a future version. Call result.infer_objects(copy=False) instead. To opt-in to the future behavior, set `pd.set_option('future.no_silent_downcasting', True)`\n",
      "  project_table.fillna(0, inplace=True)  # Fill empty cells with 0\n"
     ]
    },
    {
     "name": "stdout",
     "output_type": "stream",
     "text": [
      "Created Excel file: MDF Factory.xlsx\n"
     ]
    },
    {
     "name": "stderr",
     "output_type": "stream",
     "text": [
      "C:\\Users\\Omar Essam\\AppData\\Local\\Temp\\ipykernel_13484\\2645276609.py:26: FutureWarning: Downcasting object dtype arrays on .fillna, .ffill, .bfill is deprecated and will change in a future version. Call result.infer_objects(copy=False) instead. To opt-in to the future behavior, set `pd.set_option('future.no_silent_downcasting', True)`\n",
      "  project_table.fillna(0, inplace=True)  # Fill empty cells with 0\n"
     ]
    },
    {
     "name": "stdout",
     "output_type": "stream",
     "text": [
      "Created Excel file: Sokhna Port Expansion.xlsx\n"
     ]
    },
    {
     "name": "stderr",
     "output_type": "stream",
     "text": [
      "C:\\Users\\Omar Essam\\AppData\\Local\\Temp\\ipykernel_13484\\2645276609.py:26: FutureWarning: Downcasting object dtype arrays on .fillna, .ffill, .bfill is deprecated and will change in a future version. Call result.infer_objects(copy=False) instead. To opt-in to the future behavior, set `pd.set_option('future.no_silent_downcasting', True)`\n",
      "  project_table.fillna(0, inplace=True)  # Fill empty cells with 0\n"
     ]
    },
    {
     "name": "stdout",
     "output_type": "stream",
     "text": [
      "Created Excel file: Air Defense College.xlsx\n",
      "Created Excel file: Khtatba bridge.xlsx\n",
      "Created Excel file: Kemet Building.xlsx\n"
     ]
    },
    {
     "name": "stderr",
     "output_type": "stream",
     "text": [
      "C:\\Users\\Omar Essam\\AppData\\Local\\Temp\\ipykernel_13484\\2645276609.py:26: FutureWarning: Downcasting object dtype arrays on .fillna, .ffill, .bfill is deprecated and will change in a future version. Call result.infer_objects(copy=False) instead. To opt-in to the future behavior, set `pd.set_option('future.no_silent_downcasting', True)`\n",
      "  project_table.fillna(0, inplace=True)  # Fill empty cells with 0\n",
      "C:\\Users\\Omar Essam\\AppData\\Local\\Temp\\ipykernel_13484\\2645276609.py:26: FutureWarning: Downcasting object dtype arrays on .fillna, .ffill, .bfill is deprecated and will change in a future version. Call result.infer_objects(copy=False) instead. To opt-in to the future behavior, set `pd.set_option('future.no_silent_downcasting', True)`\n",
      "  project_table.fillna(0, inplace=True)  # Fill empty cells with 0\n",
      "C:\\Users\\Omar Essam\\AppData\\Local\\Temp\\ipykernel_13484\\2645276609.py:26: FutureWarning: Downcasting object dtype arrays on .fillna, .ffill, .bfill is deprecated and will change in a future version. Call result.infer_objects(copy=False) instead. To opt-in to the future behavior, set `pd.set_option('future.no_silent_downcasting', True)`\n",
      "  project_table.fillna(0, inplace=True)  # Fill empty cells with 0\n"
     ]
    },
    {
     "name": "stdout",
     "output_type": "stream",
     "text": [
      "Created Excel file: Comoros Island.xlsx\n",
      "Created Excel file: HST El Sokhna Bridges.xlsx\n"
     ]
    },
    {
     "name": "stderr",
     "output_type": "stream",
     "text": [
      "C:\\Users\\Omar Essam\\AppData\\Local\\Temp\\ipykernel_13484\\2645276609.py:26: FutureWarning: Downcasting object dtype arrays on .fillna, .ffill, .bfill is deprecated and will change in a future version. Call result.infer_objects(copy=False) instead. To opt-in to the future behavior, set `pd.set_option('future.no_silent_downcasting', True)`\n",
      "  project_table.fillna(0, inplace=True)  # Fill empty cells with 0\n",
      "C:\\Users\\Omar Essam\\AppData\\Local\\Temp\\ipykernel_13484\\2645276609.py:26: FutureWarning: Downcasting object dtype arrays on .fillna, .ffill, .bfill is deprecated and will change in a future version. Call result.infer_objects(copy=False) instead. To opt-in to the future behavior, set `pd.set_option('future.no_silent_downcasting', True)`\n",
      "  project_table.fillna(0, inplace=True)  # Fill empty cells with 0\n"
     ]
    },
    {
     "name": "stdout",
     "output_type": "stream",
     "text": [
      "Created Excel file: Concrete Batch Plant Sokhna.xlsx\n",
      "Created Excel file: Egyptian Exchange Building.xlsx\n"
     ]
    },
    {
     "name": "stderr",
     "output_type": "stream",
     "text": [
      "C:\\Users\\Omar Essam\\AppData\\Local\\Temp\\ipykernel_13484\\2645276609.py:26: FutureWarning: Downcasting object dtype arrays on .fillna, .ffill, .bfill is deprecated and will change in a future version. Call result.infer_objects(copy=False) instead. To opt-in to the future behavior, set `pd.set_option('future.no_silent_downcasting', True)`\n",
      "  project_table.fillna(0, inplace=True)  # Fill empty cells with 0\n",
      "C:\\Users\\Omar Essam\\AppData\\Local\\Temp\\ipykernel_13484\\2645276609.py:26: FutureWarning: Downcasting object dtype arrays on .fillna, .ffill, .bfill is deprecated and will change in a future version. Call result.infer_objects(copy=False) instead. To opt-in to the future behavior, set `pd.set_option('future.no_silent_downcasting', True)`\n",
      "  project_table.fillna(0, inplace=True)  # Fill empty cells with 0\n"
     ]
    },
    {
     "name": "stdout",
     "output_type": "stream",
     "text": [
      "Created Excel file: Port Said Grains Silos.xlsx\n"
     ]
    },
    {
     "name": "stderr",
     "output_type": "stream",
     "text": [
      "C:\\Users\\Omar Essam\\AppData\\Local\\Temp\\ipykernel_13484\\2645276609.py:26: FutureWarning: Downcasting object dtype arrays on .fillna, .ffill, .bfill is deprecated and will change in a future version. Call result.infer_objects(copy=False) instead. To opt-in to the future behavior, set `pd.set_option('future.no_silent_downcasting', True)`\n",
      "  project_table.fillna(0, inplace=True)  # Fill empty cells with 0\n"
     ]
    },
    {
     "name": "stdout",
     "output_type": "stream",
     "text": [
      "Created Excel file: Alfa Lab.xlsx\n",
      "Created Excel file: Abou Ghaleb Bridge.xlsx\n"
     ]
    },
    {
     "name": "stderr",
     "output_type": "stream",
     "text": [
      "C:\\Users\\Omar Essam\\AppData\\Local\\Temp\\ipykernel_13484\\2645276609.py:26: FutureWarning: Downcasting object dtype arrays on .fillna, .ffill, .bfill is deprecated and will change in a future version. Call result.infer_objects(copy=False) instead. To opt-in to the future behavior, set `pd.set_option('future.no_silent_downcasting', True)`\n",
      "  project_table.fillna(0, inplace=True)  # Fill empty cells with 0\n",
      "C:\\Users\\Omar Essam\\AppData\\Local\\Temp\\ipykernel_13484\\2645276609.py:26: FutureWarning: Downcasting object dtype arrays on .fillna, .ffill, .bfill is deprecated and will change in a future version. Call result.infer_objects(copy=False) instead. To opt-in to the future behavior, set `pd.set_option('future.no_silent_downcasting', True)`\n",
      "  project_table.fillna(0, inplace=True)  # Fill empty cells with 0\n"
     ]
    },
    {
     "name": "stdout",
     "output_type": "stream",
     "text": [
      "Created Excel file: The Open Channel.xlsx\n",
      "Created Excel file: El Sadat Factory.xlsx\n",
      "Created Excel file: Ras Al-Tin.xlsx\n",
      "Created Excel file: October Dry Port Project.xlsx\n"
     ]
    },
    {
     "name": "stderr",
     "output_type": "stream",
     "text": [
      "C:\\Users\\Omar Essam\\AppData\\Local\\Temp\\ipykernel_13484\\2645276609.py:26: FutureWarning: Downcasting object dtype arrays on .fillna, .ffill, .bfill is deprecated and will change in a future version. Call result.infer_objects(copy=False) instead. To opt-in to the future behavior, set `pd.set_option('future.no_silent_downcasting', True)`\n",
      "  project_table.fillna(0, inplace=True)  # Fill empty cells with 0\n",
      "C:\\Users\\Omar Essam\\AppData\\Local\\Temp\\ipykernel_13484\\2645276609.py:26: FutureWarning: Downcasting object dtype arrays on .fillna, .ffill, .bfill is deprecated and will change in a future version. Call result.infer_objects(copy=False) instead. To opt-in to the future behavior, set `pd.set_option('future.no_silent_downcasting', True)`\n",
      "  project_table.fillna(0, inplace=True)  # Fill empty cells with 0\n",
      "C:\\Users\\Omar Essam\\AppData\\Local\\Temp\\ipykernel_13484\\2645276609.py:26: FutureWarning: Downcasting object dtype arrays on .fillna, .ffill, .bfill is deprecated and will change in a future version. Call result.infer_objects(copy=False) instead. To opt-in to the future behavior, set `pd.set_option('future.no_silent_downcasting', True)`\n",
      "  project_table.fillna(0, inplace=True)  # Fill empty cells with 0\n",
      "C:\\Users\\Omar Essam\\AppData\\Local\\Temp\\ipykernel_13484\\2645276609.py:26: FutureWarning: Downcasting object dtype arrays on .fillna, .ffill, .bfill is deprecated and will change in a future version. Call result.infer_objects(copy=False) instead. To opt-in to the future behavior, set `pd.set_option('future.no_silent_downcasting', True)`\n",
      "  project_table.fillna(0, inplace=True)  # Fill empty cells with 0\n"
     ]
    },
    {
     "name": "stdout",
     "output_type": "stream",
     "text": [
      "Created Excel file: Astoria Waldorf Hotel.xlsx\n",
      "Created Excel file: Alamein Coastal Road Bridge.xlsx\n",
      "Created Excel file: Wady El Natron - Diplomatic.xlsx\n"
     ]
    },
    {
     "name": "stderr",
     "output_type": "stream",
     "text": [
      "C:\\Users\\Omar Essam\\AppData\\Local\\Temp\\ipykernel_13484\\2645276609.py:26: FutureWarning: Downcasting object dtype arrays on .fillna, .ffill, .bfill is deprecated and will change in a future version. Call result.infer_objects(copy=False) instead. To opt-in to the future behavior, set `pd.set_option('future.no_silent_downcasting', True)`\n",
      "  project_table.fillna(0, inplace=True)  # Fill empty cells with 0\n",
      "C:\\Users\\Omar Essam\\AppData\\Local\\Temp\\ipykernel_13484\\2645276609.py:26: FutureWarning: Downcasting object dtype arrays on .fillna, .ffill, .bfill is deprecated and will change in a future version. Call result.infer_objects(copy=False) instead. To opt-in to the future behavior, set `pd.set_option('future.no_silent_downcasting', True)`\n",
      "  project_table.fillna(0, inplace=True)  # Fill empty cells with 0\n",
      "C:\\Users\\Omar Essam\\AppData\\Local\\Temp\\ipykernel_13484\\2645276609.py:26: FutureWarning: Downcasting object dtype arrays on .fillna, .ffill, .bfill is deprecated and will change in a future version. Call result.infer_objects(copy=False) instead. To opt-in to the future behavior, set `pd.set_option('future.no_silent_downcasting', True)`\n",
      "  project_table.fillna(0, inplace=True)  # Fill empty cells with 0\n"
     ]
    },
    {
     "name": "stdout",
     "output_type": "stream",
     "text": [
      "Created Excel file: New Giza Hospital.xlsx\n",
      "Created Excel file: CIP SODIC HEAD OFFICE.xlsx\n"
     ]
    },
    {
     "name": "stderr",
     "output_type": "stream",
     "text": [
      "C:\\Users\\Omar Essam\\AppData\\Local\\Temp\\ipykernel_13484\\2645276609.py:26: FutureWarning: Downcasting object dtype arrays on .fillna, .ffill, .bfill is deprecated and will change in a future version. Call result.infer_objects(copy=False) instead. To opt-in to the future behavior, set `pd.set_option('future.no_silent_downcasting', True)`\n",
      "  project_table.fillna(0, inplace=True)  # Fill empty cells with 0\n",
      "C:\\Users\\Omar Essam\\AppData\\Local\\Temp\\ipykernel_13484\\2645276609.py:26: FutureWarning: Downcasting object dtype arrays on .fillna, .ffill, .bfill is deprecated and will change in a future version. Call result.infer_objects(copy=False) instead. To opt-in to the future behavior, set `pd.set_option('future.no_silent_downcasting', True)`\n",
      "  project_table.fillna(0, inplace=True)  # Fill empty cells with 0\n"
     ]
    },
    {
     "name": "stdout",
     "output_type": "stream",
     "text": [
      "Created Excel file: Zed Towers Phase II.xlsx\n",
      "Created Excel file: Radamis City - H1 Main B.xlsx\n"
     ]
    },
    {
     "name": "stderr",
     "output_type": "stream",
     "text": [
      "C:\\Users\\Omar Essam\\AppData\\Local\\Temp\\ipykernel_13484\\2645276609.py:26: FutureWarning: Downcasting object dtype arrays on .fillna, .ffill, .bfill is deprecated and will change in a future version. Call result.infer_objects(copy=False) instead. To opt-in to the future behavior, set `pd.set_option('future.no_silent_downcasting', True)`\n",
      "  project_table.fillna(0, inplace=True)  # Fill empty cells with 0\n",
      "C:\\Users\\Omar Essam\\AppData\\Local\\Temp\\ipykernel_13484\\2645276609.py:26: FutureWarning: Downcasting object dtype arrays on .fillna, .ffill, .bfill is deprecated and will change in a future version. Call result.infer_objects(copy=False) instead. To opt-in to the future behavior, set `pd.set_option('future.no_silent_downcasting', True)`\n",
      "  project_table.fillna(0, inplace=True)  # Fill empty cells with 0\n"
     ]
    },
    {
     "name": "stdout",
     "output_type": "stream",
     "text": [
      "Created Excel file: Qabibay Alrammah Mosque - 0174.xlsx\n",
      "Created Excel file: Al Hussien Mosque - 0178.xlsx\n",
      "Created Excel file: Jawhar Al-Lala Mosque - 0179.xlsx\n",
      "Created Excel file: October Railway Tunnel.xlsx\n"
     ]
    },
    {
     "name": "stderr",
     "output_type": "stream",
     "text": [
      "C:\\Users\\Omar Essam\\AppData\\Local\\Temp\\ipykernel_13484\\2645276609.py:26: FutureWarning: Downcasting object dtype arrays on .fillna, .ffill, .bfill is deprecated and will change in a future version. Call result.infer_objects(copy=False) instead. To opt-in to the future behavior, set `pd.set_option('future.no_silent_downcasting', True)`\n",
      "  project_table.fillna(0, inplace=True)  # Fill empty cells with 0\n",
      "C:\\Users\\Omar Essam\\AppData\\Local\\Temp\\ipykernel_13484\\2645276609.py:26: FutureWarning: Downcasting object dtype arrays on .fillna, .ffill, .bfill is deprecated and will change in a future version. Call result.infer_objects(copy=False) instead. To opt-in to the future behavior, set `pd.set_option('future.no_silent_downcasting', True)`\n",
      "  project_table.fillna(0, inplace=True)  # Fill empty cells with 0\n",
      "C:\\Users\\Omar Essam\\AppData\\Local\\Temp\\ipykernel_13484\\2645276609.py:26: FutureWarning: Downcasting object dtype arrays on .fillna, .ffill, .bfill is deprecated and will change in a future version. Call result.infer_objects(copy=False) instead. To opt-in to the future behavior, set `pd.set_option('future.no_silent_downcasting', True)`\n",
      "  project_table.fillna(0, inplace=True)  # Fill empty cells with 0\n",
      "C:\\Users\\Omar Essam\\AppData\\Local\\Temp\\ipykernel_13484\\2645276609.py:26: FutureWarning: Downcasting object dtype arrays on .fillna, .ffill, .bfill is deprecated and will change in a future version. Call result.infer_objects(copy=False) instead. To opt-in to the future behavior, set `pd.set_option('future.no_silent_downcasting', True)`\n",
      "  project_table.fillna(0, inplace=True)  # Fill empty cells with 0\n"
     ]
    },
    {
     "name": "stdout",
     "output_type": "stream",
     "text": [
      "Created Excel file: Wadi Halfa Port.xlsx\n",
      "Created Excel file: Mivida Pkg #189.xlsx\n"
     ]
    },
    {
     "name": "stderr",
     "output_type": "stream",
     "text": [
      "C:\\Users\\Omar Essam\\AppData\\Local\\Temp\\ipykernel_13484\\2645276609.py:26: FutureWarning: Downcasting object dtype arrays on .fillna, .ffill, .bfill is deprecated and will change in a future version. Call result.infer_objects(copy=False) instead. To opt-in to the future behavior, set `pd.set_option('future.no_silent_downcasting', True)`\n",
      "  project_table.fillna(0, inplace=True)  # Fill empty cells with 0\n",
      "C:\\Users\\Omar Essam\\AppData\\Local\\Temp\\ipykernel_13484\\2645276609.py:26: FutureWarning: Downcasting object dtype arrays on .fillna, .ffill, .bfill is deprecated and will change in a future version. Call result.infer_objects(copy=False) instead. To opt-in to the future behavior, set `pd.set_option('future.no_silent_downcasting', True)`\n",
      "  project_table.fillna(0, inplace=True)  # Fill empty cells with 0\n"
     ]
    },
    {
     "name": "stdout",
     "output_type": "stream",
     "text": [
      "Created Excel file: Eipico.xlsx\n",
      "Created Excel file: Concrete Batch Plant - Suze.xlsx\n",
      "Created Excel file: DP World basin 2 Ph 2.xlsx\n"
     ]
    },
    {
     "name": "stderr",
     "output_type": "stream",
     "text": [
      "C:\\Users\\Omar Essam\\AppData\\Local\\Temp\\ipykernel_13484\\2645276609.py:26: FutureWarning: Downcasting object dtype arrays on .fillna, .ffill, .bfill is deprecated and will change in a future version. Call result.infer_objects(copy=False) instead. To opt-in to the future behavior, set `pd.set_option('future.no_silent_downcasting', True)`\n",
      "  project_table.fillna(0, inplace=True)  # Fill empty cells with 0\n",
      "C:\\Users\\Omar Essam\\AppData\\Local\\Temp\\ipykernel_13484\\2645276609.py:26: FutureWarning: Downcasting object dtype arrays on .fillna, .ffill, .bfill is deprecated and will change in a future version. Call result.infer_objects(copy=False) instead. To opt-in to the future behavior, set `pd.set_option('future.no_silent_downcasting', True)`\n",
      "  project_table.fillna(0, inplace=True)  # Fill empty cells with 0\n",
      "C:\\Users\\Omar Essam\\AppData\\Local\\Temp\\ipykernel_13484\\2645276609.py:26: FutureWarning: Downcasting object dtype arrays on .fillna, .ffill, .bfill is deprecated and will change in a future version. Call result.infer_objects(copy=False) instead. To opt-in to the future behavior, set `pd.set_option('future.no_silent_downcasting', True)`\n",
      "  project_table.fillna(0, inplace=True)  # Fill empty cells with 0\n"
     ]
    },
    {
     "name": "stdout",
     "output_type": "stream",
     "text": [
      "Created Excel file: Abo shanab El Agamien.xlsx\n",
      "Created Excel file: RF-MAF HQ Renovation.xlsx\n",
      "Created Excel file: HST El-Mahager Bridge.xlsx\n",
      "Created Excel file: RI5-0184 Suez Steel Project.xlsx\n"
     ]
    },
    {
     "name": "stderr",
     "output_type": "stream",
     "text": [
      "C:\\Users\\Omar Essam\\AppData\\Local\\Temp\\ipykernel_13484\\2645276609.py:26: FutureWarning: Downcasting object dtype arrays on .fillna, .ffill, .bfill is deprecated and will change in a future version. Call result.infer_objects(copy=False) instead. To opt-in to the future behavior, set `pd.set_option('future.no_silent_downcasting', True)`\n",
      "  project_table.fillna(0, inplace=True)  # Fill empty cells with 0\n",
      "C:\\Users\\Omar Essam\\AppData\\Local\\Temp\\ipykernel_13484\\2645276609.py:26: FutureWarning: Downcasting object dtype arrays on .fillna, .ffill, .bfill is deprecated and will change in a future version. Call result.infer_objects(copy=False) instead. To opt-in to the future behavior, set `pd.set_option('future.no_silent_downcasting', True)`\n",
      "  project_table.fillna(0, inplace=True)  # Fill empty cells with 0\n",
      "C:\\Users\\Omar Essam\\AppData\\Local\\Temp\\ipykernel_13484\\2645276609.py:26: FutureWarning: Downcasting object dtype arrays on .fillna, .ffill, .bfill is deprecated and will change in a future version. Call result.infer_objects(copy=False) instead. To opt-in to the future behavior, set `pd.set_option('future.no_silent_downcasting', True)`\n",
      "  project_table.fillna(0, inplace=True)  # Fill empty cells with 0\n",
      "C:\\Users\\Omar Essam\\AppData\\Local\\Temp\\ipykernel_13484\\2645276609.py:26: FutureWarning: Downcasting object dtype arrays on .fillna, .ffill, .bfill is deprecated and will change in a future version. Call result.infer_objects(copy=False) instead. To opt-in to the future behavior, set `pd.set_option('future.no_silent_downcasting', True)`\n",
      "  project_table.fillna(0, inplace=True)  # Fill empty cells with 0\n"
     ]
    },
    {
     "name": "stdout",
     "output_type": "stream",
     "text": [
      "Created Excel file: Creeks Urban K.xlsx\n",
      "Created Excel file: British International School.xlsx\n",
      "Created Excel file: Jawhara Palace.xlsx\n",
      "Created Excel file: Khair & Barka Orphanage.xlsx\n",
      "Created Excel file: Hosh Issa Hospital.xlsx\n"
     ]
    },
    {
     "name": "stderr",
     "output_type": "stream",
     "text": [
      "C:\\Users\\Omar Essam\\AppData\\Local\\Temp\\ipykernel_13484\\2645276609.py:26: FutureWarning: Downcasting object dtype arrays on .fillna, .ffill, .bfill is deprecated and will change in a future version. Call result.infer_objects(copy=False) instead. To opt-in to the future behavior, set `pd.set_option('future.no_silent_downcasting', True)`\n",
      "  project_table.fillna(0, inplace=True)  # Fill empty cells with 0\n",
      "C:\\Users\\Omar Essam\\AppData\\Local\\Temp\\ipykernel_13484\\2645276609.py:26: FutureWarning: Downcasting object dtype arrays on .fillna, .ffill, .bfill is deprecated and will change in a future version. Call result.infer_objects(copy=False) instead. To opt-in to the future behavior, set `pd.set_option('future.no_silent_downcasting', True)`\n",
      "  project_table.fillna(0, inplace=True)  # Fill empty cells with 0\n",
      "C:\\Users\\Omar Essam\\AppData\\Local\\Temp\\ipykernel_13484\\2645276609.py:26: FutureWarning: Downcasting object dtype arrays on .fillna, .ffill, .bfill is deprecated and will change in a future version. Call result.infer_objects(copy=False) instead. To opt-in to the future behavior, set `pd.set_option('future.no_silent_downcasting', True)`\n",
      "  project_table.fillna(0, inplace=True)  # Fill empty cells with 0\n",
      "C:\\Users\\Omar Essam\\AppData\\Local\\Temp\\ipykernel_13484\\2645276609.py:26: FutureWarning: Downcasting object dtype arrays on .fillna, .ffill, .bfill is deprecated and will change in a future version. Call result.infer_objects(copy=False) instead. To opt-in to the future behavior, set `pd.set_option('future.no_silent_downcasting', True)`\n",
      "  project_table.fillna(0, inplace=True)  # Fill empty cells with 0\n",
      "C:\\Users\\Omar Essam\\AppData\\Local\\Temp\\ipykernel_13484\\2645276609.py:26: FutureWarning: Downcasting object dtype arrays on .fillna, .ffill, .bfill is deprecated and will change in a future version. Call result.infer_objects(copy=False) instead. To opt-in to the future behavior, set `pd.set_option('future.no_silent_downcasting', True)`\n",
      "  project_table.fillna(0, inplace=True)  # Fill empty cells with 0\n"
     ]
    },
    {
     "name": "stdout",
     "output_type": "stream",
     "text": [
      "Created Excel file: koumassi cote d'ivoire Branch.xlsx\n",
      "Created Excel file: Qasr Rashwan Lot – A.xlsx\n",
      "Created Excel file: Qasr Rashwan Lot – B.xlsx\n"
     ]
    },
    {
     "name": "stderr",
     "output_type": "stream",
     "text": [
      "C:\\Users\\Omar Essam\\AppData\\Local\\Temp\\ipykernel_13484\\2645276609.py:26: FutureWarning: Downcasting object dtype arrays on .fillna, .ffill, .bfill is deprecated and will change in a future version. Call result.infer_objects(copy=False) instead. To opt-in to the future behavior, set `pd.set_option('future.no_silent_downcasting', True)`\n",
      "  project_table.fillna(0, inplace=True)  # Fill empty cells with 0\n",
      "C:\\Users\\Omar Essam\\AppData\\Local\\Temp\\ipykernel_13484\\2645276609.py:26: FutureWarning: Downcasting object dtype arrays on .fillna, .ffill, .bfill is deprecated and will change in a future version. Call result.infer_objects(copy=False) instead. To opt-in to the future behavior, set `pd.set_option('future.no_silent_downcasting', True)`\n",
      "  project_table.fillna(0, inplace=True)  # Fill empty cells with 0\n"
     ]
    }
   ],
   "source": [
    "import pandas as pd\n",
    "\n",
    "def process_staff_data(filename):\n",
    "  \"\"\"\n",
    "  Processes staff data from an Excel file and creates separate Excel files\n",
    "  for each project with a table showing staff and their work duration.\n",
    "\n",
    "  Args:\n",
    "      filename (str): Path to the Excel file containing staff data.\n",
    "  \"\"\"\n",
    "  # Read the data from the Excel file\n",
    "  df = pd.read_excel(filename)\n",
    "\n",
    "  # Get unique projects\n",
    "  unique_projects = df['Project'].unique()\n",
    "\n",
    "  for project in unique_projects:\n",
    "    # Filter data for the current project\n",
    "    project_data = df[df['Project'] == project]\n",
    "\n",
    "    # Get unique job titles for this project\n",
    "    unique_jobs = project_data['Job'].unique()\n",
    "\n",
    "    # Create an empty DataFrame to store the staff-month count\n",
    "    project_table = pd.DataFrame(columns=project_data['Month'].unique(), index=unique_jobs)\n",
    "    project_table.fillna(0, inplace=True)  # Fill empty cells with 0\n",
    "\n",
    "    # Count staff for each job-month combination\n",
    "    for index, row in project_data.iterrows():\n",
    "      job_title = row['Job']\n",
    "      month = row['Month']\n",
    "      project_table.loc[job_title, month] += 1\n",
    "\n",
    "    # Save the project table to a separate Excel file\n",
    "    project_filename = f\"{project}.xlsx\"\n",
    "    project_table.to_excel(project_filename, index=True)\n",
    "    print(f\"Created Excel file: {project_filename}\")\n",
    "\n",
    "# Replace 'staff.xlsx' with your actual file name\n",
    "process_staff_data('staff.xlsx')\n"
   ]
  }
 ],
 "metadata": {
  "kernelspec": {
   "display_name": "Python 3",
   "language": "python",
   "name": "python3"
  },
  "language_info": {
   "codemirror_mode": {
    "name": "ipython",
    "version": 3
   },
   "file_extension": ".py",
   "mimetype": "text/x-python",
   "name": "python",
   "nbconvert_exporter": "python",
   "pygments_lexer": "ipython3",
   "version": "3.12.0"
  }
 },
 "nbformat": 4,
 "nbformat_minor": 2
}
