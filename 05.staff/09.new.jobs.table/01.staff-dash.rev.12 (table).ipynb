{
 "cells": [
  {
   "cell_type": "code",
   "execution_count": 1,
   "metadata": {},
   "outputs": [],
   "source": [
    "import pandas as pd\n",
    "import dash\n",
    "from dash import dcc, html, Input, Output, State\n",
    "import dash_bootstrap_components as dbc"
   ]
  },
  {
   "cell_type": "code",
   "execution_count": 2,
   "metadata": {},
   "outputs": [],
   "source": [
    "# Read the Excel files\n",
    "df = pd.read_excel(\"staff.xlsx\")\n",
    "df_types = pd.read_excel(\"types.xlsx\")\n",
    "df_departments = pd.read_excel(\"departments.xlsx\")\n",
    "\n",
    "# Combine dataframes\n",
    "df = df.merge(df_departments, on='Job', how='left')\n",
    "\n",
    "# Create dropdown menu options\n",
    "project_options = [{'label': project, 'value': project} for project in df['Project'].unique()]\n",
    "type_options = [{'label': project_type, 'value': project_type} for project_type in df_types['Type'].unique()]\n",
    "department_options = [{'label': 'Select All', 'value': 'all'}] + [\n",
    "    {'label': department, 'value': department} for department in df_departments['Department'].unique()\n",
    "]\n",
    "\n",
    "# Initialize the Dash app\n",
    "app = dash.Dash(__name__, external_stylesheets=[dbc.themes.BOOTSTRAP])"
   ]
  },
  {
   "cell_type": "code",
   "execution_count": 3,
   "metadata": {},
   "outputs": [
    {
     "ename": "AttributeError",
     "evalue": "module 'dash.dcc' has no attribute 'Html'",
     "output_type": "error",
     "traceback": [
      "\u001b[1;31m---------------------------------------------------------------------------\u001b[0m",
      "\u001b[1;31mAttributeError\u001b[0m                            Traceback (most recent call last)",
      "Cell \u001b[1;32mIn[3], line 28\u001b[0m\n\u001b[0;32m      1\u001b[0m \u001b[38;5;66;03m# Define the layout of the app\u001b[39;00m\n\u001b[0;32m      2\u001b[0m app\u001b[38;5;241m.\u001b[39mlayout \u001b[38;5;241m=\u001b[39m html\u001b[38;5;241m.\u001b[39mDiv([\n\u001b[0;32m      3\u001b[0m     html\u001b[38;5;241m.\u001b[39mH1(\u001b[38;5;124m\"\u001b[39m\u001b[38;5;124mDeployment Plan\u001b[39m\u001b[38;5;124m\"\u001b[39m),\n\u001b[0;32m      4\u001b[0m     dbc\u001b[38;5;241m.\u001b[39mButton(\u001b[38;5;124m\"\u001b[39m\u001b[38;5;124mNew Project\u001b[39m\u001b[38;5;124m\"\u001b[39m, \u001b[38;5;28mid\u001b[39m\u001b[38;5;241m=\u001b[39m\u001b[38;5;124m\"\u001b[39m\u001b[38;5;124mopen\u001b[39m\u001b[38;5;124m\"\u001b[39m, color\u001b[38;5;241m=\u001b[39m\u001b[38;5;124m\"\u001b[39m\u001b[38;5;124mprimary\u001b[39m\u001b[38;5;124m\"\u001b[39m, className\u001b[38;5;241m=\u001b[39m\u001b[38;5;124m\"\u001b[39m\u001b[38;5;124mmr-1\u001b[39m\u001b[38;5;124m\"\u001b[39m),\n\u001b[0;32m      5\u001b[0m     dbc\u001b[38;5;241m.\u001b[39mModal(\n\u001b[0;32m      6\u001b[0m         [\n\u001b[0;32m      7\u001b[0m             dbc\u001b[38;5;241m.\u001b[39mModalHeader(\u001b[38;5;124m\"\u001b[39m\u001b[38;5;124mNew Project Details\u001b[39m\u001b[38;5;124m\"\u001b[39m),\n\u001b[0;32m      8\u001b[0m             dbc\u001b[38;5;241m.\u001b[39mModalBody(\n\u001b[0;32m      9\u001b[0m                 [\n\u001b[0;32m     10\u001b[0m                     dcc\u001b[38;5;241m.\u001b[39mInput(\u001b[38;5;28mid\u001b[39m\u001b[38;5;241m=\u001b[39m\u001b[38;5;124m'\u001b[39m\u001b[38;5;124mtype-input\u001b[39m\u001b[38;5;124m'\u001b[39m, \u001b[38;5;28mtype\u001b[39m\u001b[38;5;241m=\u001b[39m\u001b[38;5;124m'\u001b[39m\u001b[38;5;124mtext\u001b[39m\u001b[38;5;124m'\u001b[39m, placeholder\u001b[38;5;241m=\u001b[39m\u001b[38;5;124m'\u001b[39m\u001b[38;5;124mType of Project\u001b[39m\u001b[38;5;124m'\u001b[39m),\n\u001b[0;32m     11\u001b[0m                     dcc\u001b[38;5;241m.\u001b[39mInput(\u001b[38;5;28mid\u001b[39m\u001b[38;5;241m=\u001b[39m\u001b[38;5;124m'\u001b[39m\u001b[38;5;124mduration-input\u001b[39m\u001b[38;5;124m'\u001b[39m, \u001b[38;5;28mtype\u001b[39m\u001b[38;5;241m=\u001b[39m\u001b[38;5;124m'\u001b[39m\u001b[38;5;124mtext\u001b[39m\u001b[38;5;124m'\u001b[39m, placeholder\u001b[38;5;241m=\u001b[39m\u001b[38;5;124m'\u001b[39m\u001b[38;5;124mDuration of Project\u001b[39m\u001b[38;5;124m'\u001b[39m)\n\u001b[0;32m     12\u001b[0m                 ]\n\u001b[0;32m     13\u001b[0m             ),\n\u001b[0;32m     14\u001b[0m             dbc\u001b[38;5;241m.\u001b[39mModalFooter(\n\u001b[0;32m     15\u001b[0m                 [\n\u001b[0;32m     16\u001b[0m                     dbc\u001b[38;5;241m.\u001b[39mButton(\u001b[38;5;124m\"\u001b[39m\u001b[38;5;124mClose\u001b[39m\u001b[38;5;124m\"\u001b[39m, \u001b[38;5;28mid\u001b[39m\u001b[38;5;241m=\u001b[39m\u001b[38;5;124m\"\u001b[39m\u001b[38;5;124mclose\u001b[39m\u001b[38;5;124m\"\u001b[39m, className\u001b[38;5;241m=\u001b[39m\u001b[38;5;124m\"\u001b[39m\u001b[38;5;124mml-auto\u001b[39m\u001b[38;5;124m\"\u001b[39m),\n\u001b[0;32m     17\u001b[0m                     dbc\u001b[38;5;241m.\u001b[39mButton(\u001b[38;5;124m\"\u001b[39m\u001b[38;5;124mSave Changes\u001b[39m\u001b[38;5;124m\"\u001b[39m, \u001b[38;5;28mid\u001b[39m\u001b[38;5;241m=\u001b[39m\u001b[38;5;124m\"\u001b[39m\u001b[38;5;124msave-changes\u001b[39m\u001b[38;5;124m\"\u001b[39m, className\u001b[38;5;241m=\u001b[39m\u001b[38;5;124m\"\u001b[39m\u001b[38;5;124mml-1\u001b[39m\u001b[38;5;124m\"\u001b[39m)\n\u001b[0;32m     18\u001b[0m                 ]\n\u001b[0;32m     19\u001b[0m             ),\n\u001b[0;32m     20\u001b[0m         ],\n\u001b[0;32m     21\u001b[0m         \u001b[38;5;28mid\u001b[39m\u001b[38;5;241m=\u001b[39m\u001b[38;5;124m\"\u001b[39m\u001b[38;5;124mmodal\u001b[39m\u001b[38;5;124m\"\u001b[39m,\n\u001b[0;32m     22\u001b[0m         size\u001b[38;5;241m=\u001b[39m\u001b[38;5;124m'\u001b[39m\u001b[38;5;124mlg\u001b[39m\u001b[38;5;124m'\u001b[39m,\n\u001b[0;32m     23\u001b[0m         centered\u001b[38;5;241m=\u001b[39m\u001b[38;5;28;01mTrue\u001b[39;00m,\n\u001b[0;32m     24\u001b[0m         backdrop\u001b[38;5;241m=\u001b[39m\u001b[38;5;124m'\u001b[39m\u001b[38;5;124mstatic\u001b[39m\u001b[38;5;124m'\u001b[39m\n\u001b[0;32m     25\u001b[0m     ),\n\u001b[0;32m     26\u001b[0m     dcc\u001b[38;5;241m.\u001b[39mDropdown(\u001b[38;5;28mid\u001b[39m\u001b[38;5;241m=\u001b[39m\u001b[38;5;124m'\u001b[39m\u001b[38;5;124mproject-dropdown\u001b[39m\u001b[38;5;124m'\u001b[39m, options\u001b[38;5;241m=\u001b[39mproject_options, value\u001b[38;5;241m=\u001b[39mproject_options[\u001b[38;5;241m0\u001b[39m][\u001b[38;5;124m'\u001b[39m\u001b[38;5;124mvalue\u001b[39m\u001b[38;5;124m'\u001b[39m]),\n\u001b[0;32m     27\u001b[0m     dcc\u001b[38;5;241m.\u001b[39mDropdown(\u001b[38;5;28mid\u001b[39m\u001b[38;5;241m=\u001b[39m\u001b[38;5;124m'\u001b[39m\u001b[38;5;124mdepartment-dropdown\u001b[39m\u001b[38;5;124m'\u001b[39m, options\u001b[38;5;241m=\u001b[39mdepartment_options, value\u001b[38;5;241m=\u001b[39m\u001b[38;5;124m'\u001b[39m\u001b[38;5;124mall\u001b[39m\u001b[38;5;124m'\u001b[39m),\n\u001b[1;32m---> 28\u001b[0m     \u001b[43mdcc\u001b[49m\u001b[38;5;241;43m.\u001b[39;49m\u001b[43mHtml\u001b[49m(\u001b[38;5;28mid\u001b[39m\u001b[38;5;241m=\u001b[39m\u001b[38;5;124m'\u001b[39m\u001b[38;5;124mdeployment-plan\u001b[39m\u001b[38;5;124m'\u001b[39m),  \u001b[38;5;66;03m# Use dcc.Html for the table\u001b[39;00m\n\u001b[0;32m     29\u001b[0m     html\u001b[38;5;241m.\u001b[39mDiv(\u001b[38;5;28mid\u001b[39m\u001b[38;5;241m=\u001b[39m\u001b[38;5;124m'\u001b[39m\u001b[38;5;124mselected-project-type\u001b[39m\u001b[38;5;124m'\u001b[39m)  \u001b[38;5;66;03m# Show the selected project type\u001b[39;00m\n\u001b[0;32m     30\u001b[0m ])\n",
      "\u001b[1;31mAttributeError\u001b[0m: module 'dash.dcc' has no attribute 'Html'"
     ]
    }
   ],
   "source": [
    "# Define the layout of the app\n",
    "app.layout = html.Div([\n",
    "    html.H1(\"Deployment Plan\"),\n",
    "    dbc.Button(\"New Project\", id=\"open\", color=\"primary\", className=\"mr-1\"),\n",
    "    dbc.Modal(\n",
    "        [\n",
    "            dbc.ModalHeader(\"New Project Details\"),\n",
    "            dbc.ModalBody(\n",
    "                [\n",
    "                    dcc.Input(id='type-input', type='text', placeholder='Type of Project'),\n",
    "                    dcc.Input(id='duration-input', type='text', placeholder='Duration of Project')\n",
    "                ]\n",
    "            ),\n",
    "            dbc.ModalFooter(\n",
    "                [\n",
    "                    dbc.Button(\"Close\", id=\"close\", className=\"ml-auto\"),\n",
    "                    dbc.Button(\"Save Changes\", id=\"save-changes\", className=\"ml-1\")\n",
    "                ]\n",
    "            ),\n",
    "        ],\n",
    "        id=\"modal\",\n",
    "        size='lg',\n",
    "        centered=True,\n",
    "        backdrop='static'\n",
    "    ),\n",
    "    dcc.Dropdown(id='project-dropdown', options=project_options, value=project_options[0]['value']),\n",
    "    dcc.Dropdown(id='department-dropdown', options=department_options, value='all'),\n",
    "    dcc.Html(id='deployment-plan'),  # Use dcc.Html for the table\n",
    "    html.Div(id='selected-project-type')  # Show the selected project type\n",
    "])"
   ]
  },
  {
   "cell_type": "code",
   "execution_count": null,
   "metadata": {},
   "outputs": [],
   "source": [
    "# Callback to update the deployment plan (table) based on selected project and department\n",
    "@app.callback(\n",
    "    Output('deployment-plan', 'children'),\n",
    "    [Input('project-dropdown', 'value'), Input('department-dropdown', 'value')]\n",
    ")\n",
    "def update_plan(selected_project, selected_department):\n",
    "    if selected_project is None:\n",
    "        return []  # Handle initial case\n",
    "\n",
    "    # Filter data based on project and department\n",
    "    filtered_data = df[\n",
    "        (df['Project'] == selected_project) & (df['Department'] == selected_department)  # Filter by both\n",
    "    ] if selected_department != 'all' else df[df['Project'] == selected_project]  # Filter only by project\n",
    "\n",
    "    if filtered_data.empty:\n",
    "        return []  # Handle empty data\n",
    "\n",
    "    # Create a pivot table to summarize staff count by job and month\n",
    "    staff_table = filtered_data.pivot_table(\n",
    "        index='Job', columns='Month', values='Job', aggfunc='count'\n",
    "    ).fillna(0)  # Fill missing values with 0\n",
    "\n",
    "    return staff_table.to_html(index=True, justify='center')  # Convert to HTML table"
   ]
  },
  {
   "cell_type": "code",
   "execution_count": null,
   "metadata": {},
   "outputs": [],
   "source": [
    "# New callback for the modal popup\n",
    "@app.callback(\n",
    "    Output(\"modal\", \"is_open\"),\n",
    "    [Input(\"open\", \"n_clicks\"), Input(\"close\", \"n_clicks\"), Input(\"save-changes\", \"n_clicks\")],\n",
    "    [dash.dependencies.State(\"modal\", \"is_open\")],\n",
    ")\n",
    "def toggle_modal(n1, n2, n3, is_open):\n",
    "    if n1 or n2 or n3:\n",
    "        return not is_open\n",
    "    return is_open\n"
   ]
  },
  {
   "cell_type": "code",
   "execution_count": null,
   "metadata": {},
   "outputs": [],
   "source": [
    "# Callback to show the project type for the selected project\n",
    "@app.callback(\n",
    "    Output('selected-project-type', 'children'),\n",
    "    [Input('project-dropdown', 'value')]\n",
    ")\n",
    "def display_project_type(selected_project):\n",
    "    # Get the type of the selected project\n",
    "    project_type = df_types[df_types['Project'] == selected_project]['Type'].values[0]\n",
    "    return f'Type of Project: {project_type}'\n"
   ]
  },
  {
   "cell_type": "code",
   "execution_count": null,
   "metadata": {},
   "outputs": [
    {
     "data": {
      "text/html": [
       "\n",
       "        <iframe\n",
       "            width=\"100%\"\n",
       "            height=\"650\"\n",
       "            src=\"http://127.0.0.1:8050/\"\n",
       "            frameborder=\"0\"\n",
       "            allowfullscreen\n",
       "            \n",
       "        ></iframe>\n",
       "        "
      ],
      "text/plain": [
       "<IPython.lib.display.IFrame at 0x17a8835e600>"
      ]
     },
     "metadata": {},
     "output_type": "display_data"
    }
   ],
   "source": [
    "if __name__ == '__main__':\n",
    "    app.run_server(debug=True)"
   ]
  }
 ],
 "metadata": {
  "kernelspec": {
   "display_name": "Python 3",
   "language": "python",
   "name": "python3"
  },
  "language_info": {
   "codemirror_mode": {
    "name": "ipython",
    "version": 3
   },
   "file_extension": ".py",
   "mimetype": "text/x-python",
   "name": "python",
   "nbconvert_exporter": "python",
   "pygments_lexer": "ipython3",
   "version": "3.12.0"
  }
 },
 "nbformat": 4,
 "nbformat_minor": 2
}
