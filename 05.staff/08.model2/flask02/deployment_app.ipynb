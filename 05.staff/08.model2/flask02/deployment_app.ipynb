{
 "cells": [
  {
   "cell_type": "code",
   "execution_count": 1,
   "metadata": {},
   "outputs": [
    {
     "name": "stdout",
     "output_type": "stream",
     "text": [
      " * Serving Flask app '__main__'\n",
      " * Debug mode: on\n"
     ]
    },
    {
     "name": "stderr",
     "output_type": "stream",
     "text": [
      "WARNING: This is a development server. Do not use it in a production deployment. Use a production WSGI server instead.\n",
      " * Running on http://127.0.0.1:5000\n",
      "Press CTRL+C to quit\n",
      " * Restarting with stat\n"
     ]
    },
    {
     "ename": "SystemExit",
     "evalue": "1",
     "output_type": "error",
     "traceback": [
      "An exception has occurred, use %tb to see the full traceback.\n",
      "\u001b[1;31mSystemExit\u001b[0m\u001b[1;31m:\u001b[0m 1\n"
     ]
    },
    {
     "name": "stderr",
     "output_type": "stream",
     "text": [
      "C:\\Users\\Omar Essam\\AppData\\Roaming\\Python\\Python312\\site-packages\\IPython\\core\\interactiveshell.py:3561: UserWarning: To exit: use 'exit', 'quit', or Ctrl-D.\n",
      "  warn(\"To exit: use 'exit', 'quit', or Ctrl-D.\", stacklevel=1)\n"
     ]
    }
   ],
   "source": [
    "import pandas as pd\n",
    "from flask import Flask, render_template, request\n",
    "\n",
    "app = Flask(__name__)\n",
    "\n",
    "# Read the average job counts from the Excel file\n",
    "average_job_counts_by_type = pd.read_excel(\"average_job_counts_by_type.xlsx\")\n",
    "\n",
    "@app.route('/', methods=['GET', 'POST'])\n",
    "def index():\n",
    "    if request.method == 'POST':\n",
    "        # Take input from the user for the type of project and its duration\n",
    "        project_type = request.form['project_type']\n",
    "        duration = int(request.form['duration'])\n",
    "\n",
    "        # Determine the start month (Mar-24) and end month based on the duration\n",
    "        start_month = pd.to_datetime('2024-03-01')\n",
    "        end_month = start_month + pd.DateOffset(months=duration - 1)\n",
    "\n",
    "        # Create a list of months from start to end\n",
    "        months = pd.date_range(start=start_month, end=end_month, freq='MS')\n",
    "\n",
    "        # Initialize the deployment plan DataFrame\n",
    "        deployment_plan = pd.DataFrame({'Month': months})\n",
    "\n",
    "        # Calculate the middle month index (for the start of the average period)\n",
    "        middle_month_index = len(deployment_plan) // 2\n",
    "\n",
    "        # Define the pattern for increasing and decreasing counts\n",
    "        increasing_pattern = list(range(middle_month_index))\n",
    "        decreasing_pattern = list(range(middle_month_index, 0, -1))\n",
    "\n",
    "        # Calculate the number of people for each job in each month\n",
    "        for job in sorted(average_job_counts_by_type['Job']):\n",
    "            # Handle the special case for \"Project Manager\"\n",
    "            if job == \"Project Manager\":\n",
    "                counts = [1] * len(deployment_plan)\n",
    "            else:\n",
    "                # Calculate the average count for the job\n",
    "                avg_count = average_job_counts_by_type.loc[average_job_counts_by_type['Job'] == job, 'Average Count'].iloc[0]\n",
    "\n",
    "                # Initialize counts list for the job\n",
    "                counts = []\n",
    "\n",
    "                # Generate counts based on the pattern\n",
    "                for i in range(len(deployment_plan)):\n",
    "                    if i < middle_month_index:\n",
    "                        index = i % len(increasing_pattern)  # Ensure index is within the range of the pattern list\n",
    "                        counts.append(int(round((increasing_pattern[index] / middle_month_index) * avg_count)))\n",
    "                    elif i == middle_month_index:\n",
    "                        counts.append(int(avg_count))\n",
    "                    else:\n",
    "                        index = (i - middle_month_index) % len(decreasing_pattern)  # Ensure index is within the range of the pattern list\n",
    "                        counts.append(int(round((decreasing_pattern[index] / middle_month_index) * avg_count)))\n",
    "\n",
    "            # Add counts to the deployment plan DataFrame\n",
    "            deployment_plan[job] = counts\n",
    "\n",
    "        # Manually insert \"Project Manager\" at the beginning of the job list\n",
    "        job_list = [\"Project Manager\"] + sorted(average_job_counts_by_type['Job'])\n",
    "\n",
    "        # Select only the jobs that are in the job list\n",
    "        deployment_plan = deployment_plan[job_list]\n",
    "\n",
    "        # Transpose the DataFrame to swap rows and columns\n",
    "        deployment_plan_transposed = deployment_plan.set_index('Month').T\n",
    "\n",
    "        # Pass the transposed DataFrame to the HTML template\n",
    "        return render_template('index.html', deployment_plan_html=deployment_plan_transposed.to_html())\n",
    "    else:\n",
    "        # Render the form template if no data has been submitted\n",
    "        return render_template('form.html')\n",
    "\n",
    "if __name__ == '__main__':\n",
    "    app.run(debug=True)\n"
   ]
  }
 ],
 "metadata": {
  "kernelspec": {
   "display_name": "Python 3",
   "language": "python",
   "name": "python3"
  },
  "language_info": {
   "codemirror_mode": {
    "name": "ipython",
    "version": 3
   },
   "file_extension": ".py",
   "mimetype": "text/x-python",
   "name": "python",
   "nbconvert_exporter": "python",
   "pygments_lexer": "ipython3",
   "version": "3.12.0"
  }
 },
 "nbformat": 4,
 "nbformat_minor": 2
}
