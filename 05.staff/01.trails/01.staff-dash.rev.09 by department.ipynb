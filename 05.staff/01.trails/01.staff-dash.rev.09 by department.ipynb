{
 "cells": [
  {
   "cell_type": "code",
   "execution_count": 2,
   "metadata": {},
   "outputs": [
    {
     "data": {
      "text/html": [
       "\n",
       "        <iframe\n",
       "            width=\"100%\"\n",
       "            height=\"650\"\n",
       "            src=\"http://127.0.0.1:8050/\"\n",
       "            frameborder=\"0\"\n",
       "            allowfullscreen\n",
       "            \n",
       "        ></iframe>\n",
       "        "
      ],
      "text/plain": [
       "<IPython.lib.display.IFrame at 0x1aedfba7710>"
      ]
     },
     "metadata": {},
     "output_type": "display_data"
    }
   ],
   "source": [
    "import pandas as pd\n",
    "import dash\n",
    "from dash import dcc, html, Input, Output\n",
    "import plotly.graph_objs as go\n",
    "import dash_bootstrap_components as dbc\n",
    "\n",
    "# Read the Excel files\n",
    "df = pd.read_excel(\"staff.xlsx\")\n",
    "df_departments = pd.read_excel(\"departments.xlsx\")\n",
    "\n",
    "# Create dropdown menu options from unique project names\n",
    "project_options = [{'label': project, 'value': project} for project in df['Project'].unique()]\n",
    "\n",
    "# Filter out null values and create dropdown menu options from unique departments\n",
    "department_options = [{'label': department, 'value': department} for department in df_departments['Department'].dropna().unique()]\n",
    "\n",
    "# Add \"Other\" option for null department\n",
    "department_options.append({'label': 'Other', 'value': 'Other'})\n",
    "\n",
    "# Initialize the Dash app\n",
    "app = dash.Dash(__name__, external_stylesheets=[dbc.themes.BOOTSTRAP])\n",
    "\n",
    "# Define the layout of the app\n",
    "app.layout = html.Div([\n",
    "    html.H1(\"Deployment Plan\"),\n",
    "    html.Div([\n",
    "        html.Label('Select Project:'),\n",
    "        dcc.Dropdown(\n",
    "            id='project-dropdown',\n",
    "            options=project_options,\n",
    "            value=project_options[0]['value']  # Default value\n",
    "        ),\n",
    "    ]),\n",
    "    html.Div([\n",
    "        html.Label('Select Department:'),\n",
    "        dcc.Dropdown(\n",
    "            id='department-dropdown',\n",
    "            options=department_options,\n",
    "            value=department_options[0]['value']  # Default value\n",
    "        ),\n",
    "    ]),\n",
    "    dcc.Graph(id='deployment-plan'),\n",
    "])\n",
    "\n",
    "\n",
    "# Define callback to update the deployment plan based on selected project and department\n",
    "@app.callback(\n",
    "    Output('deployment-plan', 'figure'),\n",
    "    [Input('project-dropdown', 'value'),\n",
    "     Input('department-dropdown', 'value')]\n",
    ")\n",
    "def update_plan(selected_project, selected_department):\n",
    "    # Filter the DataFrame based on the selected project and department\n",
    "    filtered_data = df[(df['Project'] == selected_project) & (df['Job'].isin(df_departments[df_departments['Department'] == selected_department]['Job']))]\n",
    "\n",
    "    # Get unique job titles for the selected project and department\n",
    "    unique_jobs = filtered_data['Job'].unique()\n",
    "\n",
    "    # Count staff for each job in each month\n",
    "    staff_count = filtered_data.groupby(['Month', 'Job']).size().unstack().fillna(0)\n",
    "\n",
    "    # Create data for the bar chart\n",
    "    data = [\n",
    "        go.Bar(\n",
    "            x=staff_count.index,\n",
    "            y=staff_count[job],\n",
    "            name=job\n",
    "        ) for job in unique_jobs\n",
    "    ]\n",
    "\n",
    "    # Define layout for the bar chart\n",
    "    layout = go.Layout(\n",
    "        title=f\"Deployment Plan for {selected_project}\",\n",
    "        xaxis=dict(title='Months'),\n",
    "        yaxis=dict(title='Number of Staff')\n",
    "    )\n",
    "\n",
    "    return {'data': data, 'layout': layout}\n",
    "\n",
    "\n",
    "if __name__ == '__main__':\n",
    "    app.run_server(debug=True)\n"
   ]
  }
 ],
 "metadata": {
  "kernelspec": {
   "display_name": "Python 3",
   "language": "python",
   "name": "python3"
  },
  "language_info": {
   "codemirror_mode": {
    "name": "ipython",
    "version": 3
   },
   "file_extension": ".py",
   "mimetype": "text/x-python",
   "name": "python",
   "nbconvert_exporter": "python",
   "pygments_lexer": "ipython3",
   "version": "3.12.0"
  }
 },
 "nbformat": 4,
 "nbformat_minor": 2
}
