{
 "cells": [
  {
   "cell_type": "code",
   "execution_count": 1,
   "metadata": {},
   "outputs": [],
   "source": [
    "import pandas as pd\n",
    "\n",
    "# Load the Excel files into DataFrames\n",
    "jv_df = pd.read_excel('jv.xlsx')\n",
    "rme_df = pd.read_excel('rme.xlsx')"
   ]
  },
  {
   "cell_type": "code",
   "execution_count": 2,
   "metadata": {},
   "outputs": [
    {
     "name": "stdout",
     "output_type": "stream",
     "text": [
      "Price comparison report generated successfully!\n"
     ]
    }
   ],
   "source": [
    "# Convert date columns to datetime format\n",
    "jv_df['Approved Date'] = pd.to_datetime(jv_df['Approved Date'])\n",
    "rme_df['approved_date'] = pd.to_datetime(rme_df['approved_date'])\n",
    "\n",
    "# Merge the DataFrames based on Store Code and UOM/unit columns\n",
    "merged_df = pd.merge(jv_df, rme_df, left_on=['Store Code', 'UOM'], right_on=['store_code', 'unit'], how='inner')\n",
    "\n",
    "# Filter to find rows where approved_date in rme_df is within ±30 days of Approved Date in jv_df\n",
    "filtered_df = merged_df[(merged_df['approved_date'] >= merged_df['Approved Date'] - pd.Timedelta(days=30)) &\n",
    "                        (merged_df['approved_date'] <= merged_df['Approved Date'] + pd.Timedelta(days=30))]\n",
    "\n",
    "# Identify cases where RME unit_price is higher than JV Unit Price\n",
    "result_df = filtered_df[filtered_df['unit_price'] > filtered_df['Unit Price']]\n",
    "\n",
    "# Save the result to a new Excel file\n",
    "result_df.to_excel('price_comparison_report.xlsx', index=False)\n",
    "\n",
    "print(\"Price comparison report generated successfully!\")"
   ]
  }
 ],
 "metadata": {
  "kernelspec": {
   "display_name": "Python 3",
   "language": "python",
   "name": "python3"
  },
  "language_info": {
   "codemirror_mode": {
    "name": "ipython",
    "version": 3
   },
   "file_extension": ".py",
   "mimetype": "text/x-python",
   "name": "python",
   "nbconvert_exporter": "python",
   "pygments_lexer": "ipython3",
   "version": "3.12.5"
  }
 },
 "nbformat": 4,
 "nbformat_minor": 2
}
